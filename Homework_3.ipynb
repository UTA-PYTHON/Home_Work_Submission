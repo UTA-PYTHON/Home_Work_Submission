{
  "nbformat": 4,
  "nbformat_minor": 0,
  "metadata": {
    "colab": {
      "provenance": [],
      "authorship_tag": "ABX9TyMPYXSp32Z2aNPwTQaOYXFA",
      "include_colab_link": true
    },
    "kernelspec": {
      "name": "python3",
      "display_name": "Python 3"
    },
    "language_info": {
      "name": "python"
    }
  },
  "cells": [
    {
      "cell_type": "markdown",
      "metadata": {
        "id": "view-in-github",
        "colab_type": "text"
      },
      "source": [
        "<a href=\"https://colab.research.google.com/github/UTA-PYTHON/Home_Work_Submission/blob/main/Homework_3.ipynb\" target=\"_parent\"><img src=\"https://colab.research.google.com/assets/colab-badge.svg\" alt=\"Open In Colab\"/></a>"
      ]
    },
    {
      "cell_type": "markdown",
      "source": [
        "## 1. Printing, Data Types, and Input\n",
        "\n",
        "Ask the user for their name and their age.\n",
        "\n",
        "Print a statement saying: \"Hello, [name]. You are [age] years old.\"\n",
        "\n",
        "Print the data type of each variable."
      ],
      "metadata": {
        "id": "L0GPMRBML4tN"
      }
    },
    {
      "cell_type": "code",
      "source": [
        "name = input(\"What is your name? \")\n",
        "age = int(input(\"How old are you? \"))\n",
        "print(\"Hello \" + name + \", you are \" + str(age) + \" years old.\")"
      ],
      "metadata": {
        "colab": {
          "base_uri": "https://localhost:8080/"
        },
        "id": "PXiXgzEiWfKI",
        "outputId": "f37ef13f-285c-4a55-9d6d-95253b0d3ee7"
      },
      "execution_count": null,
      "outputs": [
        {
          "output_type": "stream",
          "name": "stdout",
          "text": [
            "What is your name? Corry\n",
            "How old are you? 27\n",
            "Hello Corry, you are 27 years old.\n"
          ]
        }
      ]
    },
    {
      "cell_type": "markdown",
      "source": [
        "## 2. String Manipulations and Input\n",
        "\n",
        "Ask the user for the name of their hometown.\n",
        "\n",
        "Print the name of the hometown in uppercase.\n",
        "\n",
        "Print the first three characters of the hometown's name using slicing.\n",
        "\n",
        "Printing the name in reverse using slicing.\n"
      ],
      "metadata": {
        "id": "juNvXrG6XCmz"
      }
    },
    {
      "cell_type": "code",
      "source": [
        "hometown = input(\"what is the name of your hometown?\")"
      ],
      "metadata": {
        "colab": {
          "base_uri": "https://localhost:8080/"
        },
        "id": "tUBktbhYZ9Rq",
        "outputId": "f6de943f-ec58-4f16-bd1c-e2619151b97c"
      },
      "execution_count": null,
      "outputs": [
        {
          "name": "stdout",
          "output_type": "stream",
          "text": [
            "what is the name of your hometown?Pine Bluff\n"
          ]
        }
      ]
    },
    {
      "cell_type": "code",
      "source": [
        "print(hometown[:3])"
      ],
      "metadata": {
        "colab": {
          "base_uri": "https://localhost:8080/"
        },
        "id": "6MThdLTqbKhf",
        "outputId": "a0dc5a5b-b1c9-49ca-ec00-5a1442a31d3a"
      },
      "execution_count": null,
      "outputs": [
        {
          "output_type": "stream",
          "name": "stdout",
          "text": [
            "Pin\n"
          ]
        }
      ]
    },
    {
      "cell_type": "code",
      "source": [
        "from ast import arguments\n",
        "print(hometown[::-1])"
      ],
      "metadata": {
        "colab": {
          "base_uri": "https://localhost:8080/"
        },
        "id": "NpDzbm5kcSCj",
        "outputId": "87af293c-8b5d-40d6-83de-e04fe57cf51d"
      },
      "execution_count": null,
      "outputs": [
        {
          "output_type": "stream",
          "name": "stdout",
          "text": [
            "ffulB eniP\n"
          ]
        }
      ]
    },
    {
      "cell_type": "markdown",
      "source": [
        "## 3. Numeric Operations and Input\n",
        "\n",
        "\n",
        "Prompt the user to enter a number.\n",
        "\n",
        "Multiply the number by itself and print the result.\n",
        "\n",
        "Calculating the square root."
      ],
      "metadata": {
        "id": "SqXXFti6dibm"
      }
    },
    {
      "cell_type": "code",
      "source": [
        "num_1= input(\"enter a number.\")"
      ],
      "metadata": {
        "colab": {
          "base_uri": "https://localhost:8080/"
        },
        "id": "-AgmCzXId-Vf",
        "outputId": "730577a2-f04e-48a5-8ca3-51666d83f8b3"
      },
      "execution_count": null,
      "outputs": [
        {
          "name": "stdout",
          "output_type": "stream",
          "text": [
            "enter a number.9\n"
          ]
        }
      ]
    },
    {
      "cell_type": "code",
      "source": [
        "9*9"
      ],
      "metadata": {
        "colab": {
          "base_uri": "https://localhost:8080/"
        },
        "id": "PhS5c5D7gXYj",
        "outputId": "2f2cb565-1dd6-4e70-a1ca-ab530e7c8ce7"
      },
      "execution_count": null,
      "outputs": [
        {
          "output_type": "execute_result",
          "data": {
            "text/plain": [
              "81"
            ]
          },
          "metadata": {},
          "execution_count": 64
        }
      ]
    },
    {
      "cell_type": "code",
      "source": [
        "81**.5"
      ],
      "metadata": {
        "colab": {
          "base_uri": "https://localhost:8080/"
        },
        "id": "J82MQZMEhQsl",
        "outputId": "d351b86e-de9b-45bb-8a07-7dd621a2c1a3"
      },
      "execution_count": null,
      "outputs": [
        {
          "output_type": "execute_result",
          "data": {
            "text/plain": [
              "9.0"
            ]
          },
          "metadata": {},
          "execution_count": 72
        }
      ]
    },
    {
      "cell_type": "markdown",
      "source": [
        "## 4. Boolean Evaluations\n",
        "\n",
        "\n",
        "Print the result of the following evaluations:\n",
        "\n",
        "10 > 5\n",
        "\n",
        "10 == 10\n",
        "\n",
        "8 != 9"
      ],
      "metadata": {
        "id": "68_UKvf0iqQm"
      }
    },
    {
      "cell_type": "code",
      "source": [
        "10>5\n",
        "10 == 10\n",
        "8 != 9"
      ],
      "metadata": {
        "colab": {
          "base_uri": "https://localhost:8080/"
        },
        "id": "2Pzv9SOAjxRe",
        "outputId": "38a7a32a-ac31-4401-debc-f5922e657358"
      },
      "execution_count": null,
      "outputs": [
        {
          "output_type": "execute_result",
          "data": {
            "text/plain": [
              "True"
            ]
          },
          "metadata": {},
          "execution_count": 74
        }
      ]
    },
    {
      "cell_type": "markdown",
      "source": [
        "## 5. List Creation and Operations\n",
        "\n",
        "\n",
        "Create a list named colors containing the following items: red, blue, green.\n",
        "\n",
        "Print the list.\n",
        "\n",
        "Print the first item in the list.\n",
        "\n",
        "Replace the second item in the list with yellow.\n",
        "\n",
        "Print the list again.\n",
        "\n",
        "Changing the last item using negative indexing."
      ],
      "metadata": {
        "id": "PKCArZZtkKHq"
      }
    },
    {
      "cell_type": "code",
      "source": [
        "Color_3=[\"red\", \"blue\", \"green\"]"
      ],
      "metadata": {
        "id": "FTL6ISQ0ka9E"
      },
      "execution_count": null,
      "outputs": []
    },
    {
      "cell_type": "code",
      "source": [
        "Color_3"
      ],
      "metadata": {
        "colab": {
          "base_uri": "https://localhost:8080/"
        },
        "id": "nx36ytC5kz12",
        "outputId": "4961df71-cc2c-422c-b2a9-046b2137b38d"
      },
      "execution_count": null,
      "outputs": [
        {
          "output_type": "execute_result",
          "data": {
            "text/plain": [
              "['red', 'blue', 'green']"
            ]
          },
          "metadata": {},
          "execution_count": 98
        }
      ]
    },
    {
      "cell_type": "code",
      "source": [
        "Color_3[0]"
      ],
      "metadata": {
        "colab": {
          "base_uri": "https://localhost:8080/",
          "height": 35
        },
        "id": "RWufjrIklpI8",
        "outputId": "b1ce7afe-e5c9-45bb-99a5-60bb7d92dd86"
      },
      "execution_count": null,
      "outputs": [
        {
          "output_type": "execute_result",
          "data": {
            "text/plain": [
              "'red'"
            ],
            "application/vnd.google.colaboratory.intrinsic+json": {
              "type": "string"
            }
          },
          "metadata": {},
          "execution_count": 99
        }
      ]
    },
    {
      "cell_type": "code",
      "source": [
        "Color_3[1]=\"yellow\""
      ],
      "metadata": {
        "id": "TAUQu7gyoPqu"
      },
      "execution_count": null,
      "outputs": []
    },
    {
      "cell_type": "code",
      "source": [
        "Color_3"
      ],
      "metadata": {
        "colab": {
          "base_uri": "https://localhost:8080/"
        },
        "id": "bOmTc6eToVy0",
        "outputId": "292b7245-27ff-4ea2-e1e1-75190d6000da"
      },
      "execution_count": null,
      "outputs": [
        {
          "output_type": "execute_result",
          "data": {
            "text/plain": [
              "['red', 'yellow', 'green']"
            ]
          },
          "metadata": {},
          "execution_count": 101
        }
      ]
    },
    {
      "cell_type": "code",
      "source": [
        "Color_3[-1]=\"blue\""
      ],
      "metadata": {
        "id": "NcYgVShkoXFY"
      },
      "execution_count": null,
      "outputs": []
    },
    {
      "cell_type": "code",
      "source": [
        "Color_3"
      ],
      "metadata": {
        "colab": {
          "base_uri": "https://localhost:8080/"
        },
        "id": "XRLeLNF0ptfW",
        "outputId": "f74a1ef2-d27d-4e60-ff73-f879c35db051"
      },
      "execution_count": null,
      "outputs": [
        {
          "output_type": "execute_result",
          "data": {
            "text/plain": [
              "['red', 'yellow', 'blue']"
            ]
          },
          "metadata": {},
          "execution_count": 103
        }
      ]
    },
    {
      "cell_type": "markdown",
      "source": [
        "## 6. Indexing and Slicing\n",
        "\n",
        "\n",
        "Given the list numbers = [10, 20, 30, 40, 50]\n",
        "\n",
        "Print the third item from the list.\n",
        "\n",
        "Using slicing, print the first two numbers.\n",
        "\n",
        "Getting the last three numbers using negative indexing and slicing."
      ],
      "metadata": {
        "id": "7sP3nf2Wpxes"
      }
    },
    {
      "cell_type": "code",
      "source": [
        "lst= [10,20,30,40,50]"
      ],
      "metadata": {
        "id": "1mgoGEOop64z"
      },
      "execution_count": null,
      "outputs": []
    },
    {
      "cell_type": "code",
      "source": [
        "print(lst[2])"
      ],
      "metadata": {
        "colab": {
          "base_uri": "https://localhost:8080/"
        },
        "id": "mSfrUvG7qXFt",
        "outputId": "cf39f4d3-4cc2-49db-e151-1865a124395b"
      },
      "execution_count": null,
      "outputs": [
        {
          "output_type": "stream",
          "name": "stdout",
          "text": [
            "30\n"
          ]
        }
      ]
    },
    {
      "cell_type": "code",
      "source": [
        "print(lst[0:2])"
      ],
      "metadata": {
        "colab": {
          "base_uri": "https://localhost:8080/"
        },
        "id": "zXHwsJjRqkPu",
        "outputId": "18874a21-1be8-422f-89c1-376b4f9a99c8"
      },
      "execution_count": null,
      "outputs": [
        {
          "output_type": "stream",
          "name": "stdout",
          "text": [
            "[10, 20]\n"
          ]
        }
      ]
    },
    {
      "cell_type": "code",
      "source": [
        "print(lst[-3::1])"
      ],
      "metadata": {
        "colab": {
          "base_uri": "https://localhost:8080/"
        },
        "id": "_Y6ITXULrdlc",
        "outputId": "2076ae9b-cec3-4ebe-ab53-8fa5000b2c9f"
      },
      "execution_count": null,
      "outputs": [
        {
          "output_type": "stream",
          "name": "stdout",
          "text": [
            "[30, 40, 50]\n"
          ]
        }
      ]
    },
    {
      "cell_type": "markdown",
      "source": [
        "## 7. Manipulating Elements\n",
        "\n",
        "\n",
        "Given the list animals = ['cat', 'dog', 'bird']\n",
        "\n",
        "Print the list.\n",
        "\n",
        "Add fish to the end of the list.\n",
        "\n",
        "Print the updated list."
      ],
      "metadata": {
        "id": "h1CItDmvsD4x"
      }
    },
    {
      "cell_type": "code",
      "source": [
        "lst_2= [\"cat\", \"dog\", \"bird\"]"
      ],
      "metadata": {
        "id": "Qo0u7eISsXIK"
      },
      "execution_count": null,
      "outputs": []
    },
    {
      "cell_type": "code",
      "source": [
        "print(lst_2)"
      ],
      "metadata": {
        "colab": {
          "base_uri": "https://localhost:8080/"
        },
        "id": "JelB0IHzsj-i",
        "outputId": "732b4d39-673e-456d-fbb8-6277eb4ab7e4"
      },
      "execution_count": null,
      "outputs": [
        {
          "output_type": "stream",
          "name": "stdout",
          "text": [
            "['cat', 'dog', 'bird']\n"
          ]
        }
      ]
    },
    {
      "cell_type": "code",
      "source": [
        "lst_2.append(\"fish\")"
      ],
      "metadata": {
        "id": "XrHliP3asmyg"
      },
      "execution_count": null,
      "outputs": []
    },
    {
      "cell_type": "code",
      "source": [
        "print(lst_2)"
      ],
      "metadata": {
        "colab": {
          "base_uri": "https://localhost:8080/"
        },
        "id": "N2KAFFSrtyLt",
        "outputId": "ef76e2d3-9401-4d77-a1a1-be9cb848926f"
      },
      "execution_count": null,
      "outputs": [
        {
          "output_type": "stream",
          "name": "stdout",
          "text": [
            "['cat', 'dog', 'bird', 'fish']\n"
          ]
        }
      ]
    },
    {
      "cell_type": "markdown",
      "source": [
        "## 8. Sorting\n",
        "\n",
        "\n",
        "Given the list random_numbers = [42, 8, 15, 23, 16]\n",
        "\n",
        "Print the list.\n",
        "\n",
        "Use the sort() method to sort the list.\n",
        "\n",
        "Print the sorted list.\n",
        "\n",
        "Print every second item from the sorted list."
      ],
      "metadata": {
        "id": "exbUdD1huKmU"
      }
    },
    {
      "cell_type": "code",
      "source": [
        "lst_rn=[42,8,15,23,16]"
      ],
      "metadata": {
        "id": "zsW0b3W8uTNA"
      },
      "execution_count": null,
      "outputs": []
    },
    {
      "cell_type": "code",
      "source": [
        "print(lst_rn)"
      ],
      "metadata": {
        "colab": {
          "base_uri": "https://localhost:8080/"
        },
        "id": "f9u9B3E0unO_",
        "outputId": "a3403338-72f4-4db7-c072-886a29a04587"
      },
      "execution_count": null,
      "outputs": [
        {
          "output_type": "stream",
          "name": "stdout",
          "text": [
            "[42, 8, 15, 23, 16]\n"
          ]
        }
      ]
    },
    {
      "cell_type": "code",
      "source": [
        "lst_rn.sort()"
      ],
      "metadata": {
        "id": "keBczkA5uqxE"
      },
      "execution_count": null,
      "outputs": []
    },
    {
      "cell_type": "code",
      "source": [
        "print(lst_rn)"
      ],
      "metadata": {
        "colab": {
          "base_uri": "https://localhost:8080/"
        },
        "id": "jsxgfOY8vyXU",
        "outputId": "681dda7b-8e00-4e6d-f246-848f1d9c94ee"
      },
      "execution_count": null,
      "outputs": [
        {
          "output_type": "stream",
          "name": "stdout",
          "text": [
            "[8, 15, 16, 23, 42]\n"
          ]
        }
      ]
    },
    {
      "cell_type": "code",
      "source": [
        "for i in range(0, len(lst_rn), 2):\n",
        "  print(lst_rn[i])"
      ],
      "metadata": {
        "colab": {
          "base_uri": "https://localhost:8080/"
        },
        "id": "nYdXiY1av2cN",
        "outputId": "7cd9649e-2a87-4554-f087-86e63659c59c"
      },
      "execution_count": null,
      "outputs": [
        {
          "output_type": "stream",
          "name": "stdout",
          "text": [
            "8\n",
            "16\n",
            "42\n"
          ]
        }
      ]
    },
    {
      "cell_type": "code",
      "source": [],
      "metadata": {
        "id": "VOGuw3Ewzewk"
      },
      "execution_count": null,
      "outputs": []
    }
  ]
}