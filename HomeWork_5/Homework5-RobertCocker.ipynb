{
 "cells": [
  {
   "cell_type": "code",
   "execution_count": 4,
   "id": "75fde2b7",
   "metadata": {},
   "outputs": [],
   "source": [
    "# Robert Cocker\n",
    "# DATA3401-001\n",
    "# Dr. Rostami\n",
    "# Homework 5 Functions\n",
    "\n",
    "# 1. Write a function named add that takes two numbers as arguments and returns their sum.\n",
    "def add(a, b):\n",
    "    return a + b"
   ]
  },
  {
   "cell_type": "code",
   "execution_count": 6,
   "id": "b87f5970",
   "metadata": {},
   "outputs": [
    {
     "data": {
      "text/plain": [
       "46"
      ]
     },
     "execution_count": 6,
     "metadata": {},
     "output_type": "execute_result"
    }
   ],
   "source": [
    "add(25,21)"
   ]
  },
  {
   "cell_type": "code",
   "execution_count": 12,
   "id": "f4a8af7a",
   "metadata": {},
   "outputs": [],
   "source": [
    "# 2. Write a function named average that takes a list of numbers and returns their average.\n",
    "def average(num):\n",
    "    if not num:\n",
    "        return 0 \n",
    "    total = sum(num)\n",
    "    return total / len(num)"
   ]
  },
  {
   "cell_type": "code",
   "execution_count": 17,
   "id": "016262fc",
   "metadata": {},
   "outputs": [
    {
     "name": "stdout",
     "output_type": "stream",
     "text": [
      "Average: 2.0\n"
     ]
    }
   ],
   "source": [
    "numbers = [1, 2, 3]\n",
    "avg = average(numbers)\n",
    "print(\"Average:\", avg)"
   ]
  },
  {
   "cell_type": "code",
   "execution_count": 18,
   "id": "94b1e6cf",
   "metadata": {},
   "outputs": [],
   "source": [
    "# 3. Write a function named factorial that calculates the factorial of a given number. The factorial of a number n is the product of all positive integers less than or equal to n. For example, the factorial of 5 is 5*4*3*2*1=120\n",
    "def factorial(n):\n",
    "    if n == 0:\n",
    "        return 1\n",
    "    else:\n",
    "        return n * factorial(n - 1)"
   ]
  },
  {
   "cell_type": "code",
   "execution_count": 22,
   "id": "760f1a45",
   "metadata": {},
   "outputs": [
    {
     "data": {
      "text/plain": [
       "6"
      ]
     },
     "execution_count": 22,
     "metadata": {},
     "output_type": "execute_result"
    }
   ],
   "source": [
    "factorial(3)"
   ]
  },
  {
   "cell_type": "code",
   "execution_count": 28,
   "id": "2f6d27bf",
   "metadata": {},
   "outputs": [],
   "source": [
    "# 4. Write a function named string_length that takes a string and returns its length without using the built-in len() function.\n",
    "def string_length(s):\n",
    "    length = 0\n",
    "    for i in s:\n",
    "        length += 1\n",
    "    return length"
   ]
  },
  {
   "cell_type": "code",
   "execution_count": 31,
   "id": "9b2b221e",
   "metadata": {},
   "outputs": [
    {
     "name": "stdout",
     "output_type": "stream",
     "text": [
      "The length of the string is: 18\n"
     ]
    }
   ],
   "source": [
    "string = \"Hello string count\"\n",
    "length = string_length(string)\n",
    "print(f\"The length of the string is: {length}\")"
   ]
  },
  {
   "cell_type": "code",
   "execution_count": 41,
   "id": "33441391",
   "metadata": {},
   "outputs": [],
   "source": [
    "# 5. Write a function named is_prime that checks if a given number is prime. A prime number is a natural number greater than 1 that is not a product of two smaller natural numbers. The function should return True if the number is prime, otherwise False.\n",
    "def test_prime(n):\n",
    "    if (n==1):\n",
    "        return False\n",
    "    elif (n==2):\n",
    "        return True;\n",
    "    else:\n",
    "        for x in range(2,n):\n",
    "            if(n % x==0):\n",
    "                return False\n",
    "        return True             "
   ]
  },
  {
   "cell_type": "code",
   "execution_count": 44,
   "id": "0880b0ea",
   "metadata": {},
   "outputs": [
    {
     "data": {
      "text/plain": [
       "True"
      ]
     },
     "execution_count": 44,
     "metadata": {},
     "output_type": "execute_result"
    }
   ],
   "source": [
    "test_prime(5)"
   ]
  },
  {
   "cell_type": "code",
   "execution_count": 45,
   "id": "9abfb0ea",
   "metadata": {},
   "outputs": [],
   "source": [
    "# 6. Write a function named unique_elements that takes a list as an argument and returns a list of its unique elements in the order they were first encountered.\n",
    "def unique_list(l):\n",
    "  x = []\n",
    "  for a in l:\n",
    "    if a not in x:\n",
    "      x.append(a)\n",
    "  return x"
   ]
  },
  {
   "cell_type": "code",
   "execution_count": 46,
   "id": "a5b2601f",
   "metadata": {},
   "outputs": [
    {
     "data": {
      "text/plain": [
       "[1, 2, 3, 4, 5]"
      ]
     },
     "execution_count": 46,
     "metadata": {},
     "output_type": "execute_result"
    }
   ],
   "source": [
    "unique_list([1,2,3,3,3 ,3,4,5])"
   ]
  },
  {
   "cell_type": "code",
   "execution_count": null,
   "id": "09951cf1",
   "metadata": {},
   "outputs": [],
   "source": []
  }
 ],
 "metadata": {
  "kernelspec": {
   "display_name": "Python 3 (ipykernel)",
   "language": "python",
   "name": "python3"
  },
  "language_info": {
   "codemirror_mode": {
    "name": "ipython",
    "version": 3
   },
   "file_extension": ".py",
   "mimetype": "text/x-python",
   "name": "python",
   "nbconvert_exporter": "python",
   "pygments_lexer": "ipython3",
   "version": "3.11.4"
  }
 },
 "nbformat": 4,
 "nbformat_minor": 5
}
