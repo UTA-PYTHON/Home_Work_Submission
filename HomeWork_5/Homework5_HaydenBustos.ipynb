{
  "nbformat": 4,
  "nbformat_minor": 0,
  "metadata": {
    "colab": {
      "provenance": []
    },
    "kernelspec": {
      "name": "python3",
      "display_name": "Python 3"
    },
    "language_info": {
      "name": "python"
    }
  },
  "cells": [
    {
      "cell_type": "markdown",
      "source": [
        "# **Homework 5**"
      ],
      "metadata": {
        "id": "JZ4onq7oxtTo"
      }
    },
    {
      "cell_type": "markdown",
      "source": [
        "## **Q1: Write a function named add that takes two numbers as arguments and returns their sum.**"
      ],
      "metadata": {
        "id": "hA0XcOOuxxVS"
      }
    },
    {
      "cell_type": "code",
      "source": [
        "def add(a,b):\n",
        "  added = a+b\n",
        "  return f\"The sum of {a} and {b} is {added}.\"\n",
        "\n",
        "add(6,9)"
      ],
      "metadata": {
        "colab": {
          "base_uri": "https://localhost:8080/",
          "height": 35
        },
        "id": "L_ZfiQimx8X7",
        "outputId": "1dd6bc89-d79a-4184-d5f6-4938c649db21"
      },
      "execution_count": null,
      "outputs": [
        {
          "output_type": "execute_result",
          "data": {
            "text/plain": [
              "'The sum of 6 and 9 is 15'"
            ],
            "application/vnd.google.colaboratory.intrinsic+json": {
              "type": "string"
            }
          },
          "metadata": {},
          "execution_count": 2
        }
      ]
    },
    {
      "cell_type": "markdown",
      "source": [
        "## **Q2: Write a function named average that takes a list of numbers and returns their average.**"
      ],
      "metadata": {
        "id": "Rwk02D7FyUmy"
      }
    },
    {
      "cell_type": "code",
      "source": [
        "def average(*numbers):\n",
        "  summation = 0\n",
        "  length = 0\n",
        "  for numbs in numbers:\n",
        "    summation += numbs\n",
        "  for i in numbers:\n",
        "    length += 1\n",
        "  av = summation/length\n",
        "  return f\"The average of your numbers is {av}.\"\n",
        "\n",
        "average(7,8,9)"
      ],
      "metadata": {
        "colab": {
          "base_uri": "https://localhost:8080/",
          "height": 35
        },
        "id": "EMBVIE9ayU9t",
        "outputId": "c7865c90-310f-46b1-fa54-01101d8f1e37"
      },
      "execution_count": null,
      "outputs": [
        {
          "output_type": "execute_result",
          "data": {
            "text/plain": [
              "'The average of your numbers is 8.0.'"
            ],
            "application/vnd.google.colaboratory.intrinsic+json": {
              "type": "string"
            }
          },
          "metadata": {},
          "execution_count": 13
        }
      ]
    },
    {
      "cell_type": "markdown",
      "source": [
        "## **Q3: Write a function named factorial that calculates the factorial of a given number.**\n"
      ],
      "metadata": {
        "id": "6s1_Fn1yyVFu"
      }
    },
    {
      "cell_type": "code",
      "source": [
        "def factorial(number):\n",
        "  answer = 1\n",
        "  for i in range(1, number + 1):\n",
        "      answer *= i\n",
        "  return f\"The factorial of {number} is {answer}.\"\n",
        "\n",
        "factorial(5)"
      ],
      "metadata": {
        "colab": {
          "base_uri": "https://localhost:8080/",
          "height": 35
        },
        "id": "Zif3ic-oyVRp",
        "outputId": "fcdf9098-9418-4e03-ba86-4d46f13d8741"
      },
      "execution_count": null,
      "outputs": [
        {
          "output_type": "execute_result",
          "data": {
            "text/plain": [
              "'The factorial of 5 is 120.'"
            ],
            "application/vnd.google.colaboratory.intrinsic+json": {
              "type": "string"
            }
          },
          "metadata": {},
          "execution_count": 53
        }
      ]
    },
    {
      "cell_type": "markdown",
      "source": [
        "## **Q4: Write a function named string_length that takes a string and returns its length without using the built-in len() function.**"
      ],
      "metadata": {
        "id": "JrFjZJhlyVtw"
      }
    },
    {
      "cell_type": "code",
      "source": [
        "def string_length(booger):\n",
        "  length = 0\n",
        "  for i in booger:\n",
        "    length += 1\n",
        "  return length\n",
        "\n",
        "string_length(\"Hello, and good morning to all citizens of the Tri-state Area.\")"
      ],
      "metadata": {
        "id": "1TFPnKcfyCiQ",
        "colab": {
          "base_uri": "https://localhost:8080/"
        },
        "outputId": "ef98b211-e058-4934-e3aa-9e6985110a4b"
      },
      "execution_count": null,
      "outputs": [
        {
          "output_type": "execute_result",
          "data": {
            "text/plain": [
              "62"
            ]
          },
          "metadata": {},
          "execution_count": 56
        }
      ]
    },
    {
      "cell_type": "markdown",
      "source": [
        "## **Q5: Write a function named is_prime that checks if a given number is prime. A prime number is a natural number greater than 1 that is not a product of two smaller natural numbers. The function should return True if the number is prime, otherwise False.**"
      ],
      "metadata": {
        "id": "zEbejwRQ9F6Y"
      }
    },
    {
      "cell_type": "code",
      "source": [
        "def is_prime(number):\n",
        "  import math\n",
        "  if number <= 1:\n",
        "    return \"Please enter a number greater than 1.\"\n",
        "  if 1 < number <= 3:\n",
        "    return True\n",
        "  if number % 2 == 0:\n",
        "    return False\n",
        "  sq = math.isqrt(number)\n",
        "  for i in range(3, sq + 1):\n",
        "    if number % i == 0:\n",
        "      return False\n",
        "  return True\n",
        "\n",
        "\n",
        "is_prime(49)"
      ],
      "metadata": {
        "colab": {
          "base_uri": "https://localhost:8080/"
        },
        "id": "-x2ki_k_O0Ww",
        "outputId": "5c66d26d-ae62-4d16-9a80-fba87b2d733b"
      },
      "execution_count": 109,
      "outputs": [
        {
          "output_type": "execute_result",
          "data": {
            "text/plain": [
              "False"
            ]
          },
          "metadata": {},
          "execution_count": 109
        }
      ]
    },
    {
      "cell_type": "markdown",
      "source": [
        "## **Q6: Write a function named unique_elements that takes a list as an argument and returns a list of its unique elements in the order they were first encountered.**"
      ],
      "metadata": {
        "id": "tAChE4pO9G4n"
      }
    },
    {
      "cell_type": "code",
      "source": [
        "def unique_elements(*element):\n",
        "  uniqs = []\n",
        "  for e in element:\n",
        "    igno = element.count(e)\n",
        "    if igno == 1:\n",
        "      uniqs.append(e)\n",
        "  return uniqs\n",
        "\n",
        "unique_elements(5,6,7,8,8)"
      ],
      "metadata": {
        "colab": {
          "base_uri": "https://localhost:8080/"
        },
        "id": "WNSPlnXlIYVe",
        "outputId": "59cfcd19-8990-4c9d-da88-9a59ed389976"
      },
      "execution_count": 113,
      "outputs": [
        {
          "output_type": "execute_result",
          "data": {
            "text/plain": [
              "[5, 6, 7]"
            ]
          },
          "metadata": {},
          "execution_count": 113
        }
      ]
    }
  ]
}