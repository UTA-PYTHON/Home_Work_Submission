{
  "nbformat": 4,
  "nbformat_minor": 0,
  "metadata": {
    "colab": {
      "provenance": []
    },
    "kernelspec": {
      "name": "python3",
      "display_name": "Python 3"
    },
    "language_info": {
      "name": "python"
    }
  },
  "cells": [
    {
      "cell_type": "markdown",
      "source": [
        "# Question 1"
      ],
      "metadata": {
        "id": "WiWz9OhlSKf0"
      }
    },
    {
      "cell_type": "code",
      "source": [
        "a=4                     ### Argument 1\n",
        "b=5                     ### Argument 2\n",
        "add=a+b                 ### addition function\n",
        "print(add)              ### print function"
      ],
      "metadata": {
        "colab": {
          "base_uri": "https://localhost:8080/"
        },
        "id": "519Ae71NVQyy",
        "outputId": "10ea7c74-36d0-4d6f-fafb-55d1ef4f96f8"
      },
      "execution_count": 1,
      "outputs": [
        {
          "output_type": "stream",
          "name": "stdout",
          "text": [
            "9\n"
          ]
        }
      ]
    },
    {
      "cell_type": "markdown",
      "source": [
        "# Question 2"
      ],
      "metadata": {
        "id": "PoXmAuOxX99t"
      }
    },
    {
      "cell_type": "code",
      "source": [
        "numbers=[1,5,7,9,10]\n",
        "average=sum(numbers)/len(numbers) ### function that divides the sum of the list by the length of the list, getting the average of the list.\n",
        "print(average)\n"
      ],
      "metadata": {
        "colab": {
          "base_uri": "https://localhost:8080/"
        },
        "id": "abZsMddZWA06",
        "outputId": "37e0fe4e-2a79-42d3-c788-feab9ecade3c"
      },
      "execution_count": 5,
      "outputs": [
        {
          "output_type": "stream",
          "name": "stdout",
          "text": [
            "6.4\n"
          ]
        }
      ]
    },
    {
      "cell_type": "markdown",
      "source": [
        "# Question 3"
      ],
      "metadata": {
        "id": "DyEv9BJeYqLt"
      }
    },
    {
      "cell_type": "code",
      "source": [
        "def factorial(num):\n",
        "  fact=1\n",
        "  if num<0:\n",
        "    print(\"This number is negative.\")\n",
        "  elif num==0:\n",
        "    print(\"The factorial of 0 is 1.\")\n",
        "  else:\n",
        "    for i in range(1,num+1):\n",
        "      fact=fact*i\n",
        "    print(\"The factorial of\", num, \"is\", fact)\n",
        "\n",
        "factorial(3)"
      ],
      "metadata": {
        "colab": {
          "base_uri": "https://localhost:8080/"
        },
        "id": "qiZIatZmYtJ-",
        "outputId": "eaf36432-df6a-474e-9564-bfaf25622559"
      },
      "execution_count": 26,
      "outputs": [
        {
          "output_type": "stream",
          "name": "stdout",
          "text": [
            "The factorial of 3 is 6\n"
          ]
        }
      ]
    },
    {
      "cell_type": "markdown",
      "source": [
        "#Question 4"
      ],
      "metadata": {
        "id": "99oTeWz0mBR4"
      }
    },
    {
      "cell_type": "code",
      "source": [
        "def string_length(word):\n",
        "  letters=0\n",
        "  for i in word:\n",
        "    letters+=1\n",
        "  return(letters)\n",
        "\n",
        "string_length(\"Hello\")"
      ],
      "metadata": {
        "colab": {
          "base_uri": "https://localhost:8080/"
        },
        "id": "cZzphSy8fjQi",
        "outputId": "9670cb33-f440-47bb-f1d0-ddeebde50b91"
      },
      "execution_count": 29,
      "outputs": [
        {
          "output_type": "execute_result",
          "data": {
            "text/plain": [
              "5"
            ]
          },
          "metadata": {},
          "execution_count": 29
        }
      ]
    }
  ]
}