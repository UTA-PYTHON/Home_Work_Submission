{
 "cells": [
  {
   "cell_type": "markdown",
   "id": "8c7973cb",
   "metadata": {},
   "source": [
    "# Homework 5 - Functions\n",
    "\n",
    "### Mariah N Cornelio\n",
    "\n",
    "### 1. Write a function named \"add\" that takes two numbers as arguments and returns their sum "
   ]
  },
  {
   "cell_type": "code",
   "execution_count": 13,
   "id": "657907b0",
   "metadata": {},
   "outputs": [],
   "source": [
    "def add(): \n",
    "    x=int(input(\"Choose a first number: \"))\n",
    "    y=int(input(\"Choose a second number: \"))\n",
    "    return f\"The sum of the two numbers you chose is {x+y}\""
   ]
  },
  {
   "cell_type": "code",
   "execution_count": 14,
   "id": "1061f0b5",
   "metadata": {},
   "outputs": [
    {
     "name": "stdout",
     "output_type": "stream",
     "text": [
      "Choose a first number: 64\n",
      "Choose a second number: 100\n"
     ]
    },
    {
     "data": {
      "text/plain": [
       "'The sum of the two numbers you chose is 164'"
      ]
     },
     "execution_count": 14,
     "metadata": {},
     "output_type": "execute_result"
    }
   ],
   "source": [
    "add()"
   ]
  },
  {
   "cell_type": "code",
   "execution_count": 11,
   "id": "6cbb40fa",
   "metadata": {},
   "outputs": [],
   "source": [
    "# or you can also do\n",
    "\n",
    "def add(x,y):\n",
    "    return f\"The sum of the two numbers you chose is {x+y}\""
   ]
  },
  {
   "cell_type": "code",
   "execution_count": 12,
   "id": "439ca3a4",
   "metadata": {},
   "outputs": [
    {
     "data": {
      "text/plain": [
       "'The sum of the two numbers you chose is 165'"
      ]
     },
     "execution_count": 12,
     "metadata": {},
     "output_type": "execute_result"
    }
   ],
   "source": [
    "add(64,101)"
   ]
  },
  {
   "cell_type": "markdown",
   "id": "13fe6569",
   "metadata": {},
   "source": [
    "### 2. Write a function named \"average\" that takes a list of numbers and returns their averages"
   ]
  },
  {
   "cell_type": "code",
   "execution_count": 21,
   "id": "ac5b3658",
   "metadata": {},
   "outputs": [],
   "source": [
    "avg_list=[1,2,3,4,5]\n",
    "\n",
    "def average(avg_list):\n",
    "    avg = sum(avg_list) / len(avg_list)\n",
    "    return f\"n = {len(avg_list)} and the sum of all the numbers of this list is {sum(avg_list)}, meaning that the average is {avg}\""
   ]
  },
  {
   "cell_type": "code",
   "execution_count": 22,
   "id": "c15facf6",
   "metadata": {},
   "outputs": [
    {
     "data": {
      "text/plain": [
       "'n = 5 and the sum of all the numbers of this list is 15, meaning that the average is 3.0'"
      ]
     },
     "execution_count": 22,
     "metadata": {},
     "output_type": "execute_result"
    }
   ],
   "source": [
    "average(avg_list)"
   ]
  },
  {
   "cell_type": "markdown",
   "id": "8315777c",
   "metadata": {},
   "source": [
    "### 3. Write a function named factorial that calculates the factorial of a given number. The factorial of a given number is the product of all positive integers less than or equal to n. For example, the factorial of 5 is 5x4x3x2x1=120"
   ]
  },
  {
   "cell_type": "code",
   "execution_count": 32,
   "id": "fde5d953",
   "metadata": {},
   "outputs": [],
   "source": [
    "def factorial():\n",
    "    n=int(input(\"Enter in a number: \"))\n",
    "    factorial = 1\n",
    "\n",
    "    if n>=1:\n",
    "        for i in range(1,n+1):\n",
    "            factorial=factorial*i\n",
    "    print(\"The factorial for this number is\", factorial) "
   ]
  },
  {
   "cell_type": "code",
   "execution_count": 33,
   "id": "2a3324ca",
   "metadata": {},
   "outputs": [
    {
     "name": "stdout",
     "output_type": "stream",
     "text": [
      "Enter in a number: 5\n",
      "The factorial for this number is 120\n"
     ]
    }
   ],
   "source": [
    "factorial()"
   ]
  },
  {
   "cell_type": "markdown",
   "id": "8dd69b80",
   "metadata": {},
   "source": [
    "### 4. Write a function named string_length that takes a string and returns it's length without using the built-in len() function"
   ]
  },
  {
   "cell_type": "code",
   "execution_count": 25,
   "id": "45234c77",
   "metadata": {},
   "outputs": [],
   "source": [
    "def string_length(string):\n",
    "    alphabet=\"abcdefghijklmnopqrstuvwxyz\"\n",
    "    space=\" \"\n",
    "    count = 0\n",
    "    for letter in string:\n",
    "        if letter.lower() in alphabet and space:\n",
    "            count+=1\n",
    "    return f\"The length of this string is {count}\""
   ]
  },
  {
   "cell_type": "code",
   "execution_count": 26,
   "id": "4cc0dd81",
   "metadata": {},
   "outputs": [
    {
     "name": "stdout",
     "output_type": "stream",
     "text": [
      "Say something: Hi Hello Goodbye\n"
     ]
    },
    {
     "data": {
      "text/plain": [
       "'The length of this string is 14'"
      ]
     },
     "execution_count": 26,
     "metadata": {},
     "output_type": "execute_result"
    }
   ],
   "source": [
    "string=str(input(\"Say something: \"))\n",
    "string_length(string)"
   ]
  },
  {
   "cell_type": "markdown",
   "id": "8b6af6c6",
   "metadata": {},
   "source": [
    "### 5. Write a function named is_prime that checks if a given number is prime. A prime number is a natural number greater than 1 that is not a product of two smaller natural numbers. The function should return True if the number is prime, otherwise False"
   ]
  },
  {
   "cell_type": "code",
   "execution_count": 38,
   "id": "bc25c406",
   "metadata": {},
   "outputs": [],
   "source": [
    "def is_prime(number):\n",
    "    if number > 1:\n",
    "        for i in range(2, int(number/2)+1):\n",
    "            if number%i==0:\n",
    "                return \"False\"\n",
    "            break\n",
    "        else:\n",
    "            return \"True\"\n",
    "    else:\n",
    "        return \"False\""
   ]
  },
  {
   "cell_type": "code",
   "execution_count": 54,
   "id": "8bea4da7",
   "metadata": {},
   "outputs": [
    {
     "data": {
      "text/plain": [
       "'True'"
      ]
     },
     "execution_count": 54,
     "metadata": {},
     "output_type": "execute_result"
    }
   ],
   "source": [
    "is_prime(3)"
   ]
  },
  {
   "cell_type": "markdown",
   "id": "1f1ea1a6",
   "metadata": {},
   "source": [
    "### 6. Write a function named unique_elements that takes a list as an argument and returns a list of its unique elements in the order they were first encountered"
   ]
  },
  {
   "cell_type": "code",
   "execution_count": 67,
   "id": "fb7033bd",
   "metadata": {},
   "outputs": [],
   "source": [
    "def unique_elements(list):\n",
    "    unique=[]\n",
    "    for element in list:\n",
    "        if element not in unique: \n",
    "            unique.append(element)\n",
    "    for element in unique:\n",
    "        print(element)"
   ]
  },
  {
   "cell_type": "code",
   "execution_count": 69,
   "id": "36be3019",
   "metadata": {},
   "outputs": [
    {
     "name": "stdout",
     "output_type": "stream",
     "text": [
      "The unique elements from this list are:\n",
      "1\n",
      "2\n",
      "3\n",
      "4\n",
      "5\n",
      "8\n",
      "7\n"
     ]
    }
   ],
   "source": [
    "list=[1,2,3,4,1,2,3,5,8,3,7]\n",
    "print(\"The unique elements from this list are:\")\n",
    "unique_elements(list)"
   ]
  },
  {
   "cell_type": "markdown",
   "id": "cfe0d097",
   "metadata": {},
   "source": [
    "___"
   ]
  },
  {
   "cell_type": "code",
   "execution_count": null,
   "id": "e8608d26",
   "metadata": {},
   "outputs": [],
   "source": []
  }
 ],
 "metadata": {
  "kernelspec": {
   "display_name": "Python 3 (ipykernel)",
   "language": "python",
   "name": "python3"
  },
  "language_info": {
   "codemirror_mode": {
    "name": "ipython",
    "version": 3
   },
   "file_extension": ".py",
   "mimetype": "text/x-python",
   "name": "python",
   "nbconvert_exporter": "python",
   "pygments_lexer": "ipython3",
   "version": "3.11.4"
  }
 },
 "nbformat": 4,
 "nbformat_minor": 5
}
