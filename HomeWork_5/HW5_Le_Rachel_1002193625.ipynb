{
  "nbformat": 4,
  "nbformat_minor": 0,
  "metadata": {
    "colab": {
      "provenance": []
    },
    "kernelspec": {
      "name": "python3",
      "display_name": "Python 3"
    },
    "language_info": {
      "name": "python"
    }
  },
  "cells": [
    {
      "cell_type": "markdown",
      "source": [
        "Rachel Le\n",
        "\n",
        "1002193625\n",
        "\n",
        "HW5"
      ],
      "metadata": {
        "id": "S09yvjIsw7sv"
      }
    },
    {
      "cell_type": "markdown",
      "source": [
        "---"
      ],
      "metadata": {
        "id": "C3rbmp16xAiJ"
      }
    },
    {
      "cell_type": "markdown",
      "source": [
        "1. Write a function named **add** that takes two numbers as arguments and returns their sum."
      ],
      "metadata": {
        "id": "QJJ6nQLyxBRY"
      }
    },
    {
      "cell_type": "code",
      "execution_count": null,
      "metadata": {
        "colab": {
          "base_uri": "https://localhost:8080/"
        },
        "id": "ZozY_Tr6w28K",
        "outputId": "d7e482ce-d32d-474c-d91b-e6612248c0e1"
      },
      "outputs": [
        {
          "output_type": "execute_result",
          "data": {
            "text/plain": [
              "17"
            ]
          },
          "metadata": {},
          "execution_count": 4
        }
      ],
      "source": [
        "#naming and listing arguments for function\n",
        "def add(num1,num2):\n",
        "  #adding the two numbers\n",
        "  sum=num1+num2\n",
        "  #make the function give the defined variable 'sum' as output\n",
        "  return sum\n",
        "\n",
        "#testing that function works as intended\n",
        "add(9,8)"
      ]
    },
    {
      "cell_type": "markdown",
      "source": [
        "---"
      ],
      "metadata": {
        "id": "VjsteitCx4Fn"
      }
    },
    {
      "cell_type": "markdown",
      "source": [
        "2. Write a function named **average** that takes a list of numbers and returns their average."
      ],
      "metadata": {
        "id": "YJBWHBjIx40i"
      }
    },
    {
      "cell_type": "code",
      "source": [
        "#creating function 'average'\n",
        "def average(num_list):\n",
        "  #define variable 'sum' to be used to determine average\n",
        "  sum=0\n",
        "  #'for loop' to go through the numbers in the list\n",
        "  for num in num_list:\n",
        "    #adding number from list to 'sum'\n",
        "    sum+=num\n",
        "  #finding the amount of numbers in the list\n",
        "  num_count=len(num_list)\n",
        "  #calculating average\n",
        "  avg=sum/num_count\n",
        "  #return average\n",
        "  return avg\n",
        "\n",
        "#testing that function works as intended\n",
        "nums=[1,2,3,4,5,6,7,8,9]\n",
        "average(nums)"
      ],
      "metadata": {
        "colab": {
          "base_uri": "https://localhost:8080/"
        },
        "id": "JkfxRIl1xum9",
        "outputId": "ad5066e6-2867-42d0-a59c-07b223a28bcc"
      },
      "execution_count": null,
      "outputs": [
        {
          "output_type": "execute_result",
          "data": {
            "text/plain": [
              "5.0"
            ]
          },
          "metadata": {},
          "execution_count": 5
        }
      ]
    },
    {
      "cell_type": "markdown",
      "source": [
        "---"
      ],
      "metadata": {
        "id": "BHBEQdvhzVSe"
      }
    },
    {
      "cell_type": "markdown",
      "source": [
        "3. Write a function named **factorial** that calculates the factorial of a given number. The factorial of a number n is the product of all positive integers less than or equal to n. For example, the factorial of 5 is 5*4*3*2*1=120"
      ],
      "metadata": {
        "id": "zAWD4TmgzWEU"
      }
    },
    {
      "cell_type": "code",
      "source": [
        "#creating function 'factorial'\n",
        "def factorial(num):\n",
        "  #variable needed to start factorial calculations through 'for loop'\n",
        "  fact=num\n",
        "  #'for loop' going from 1 to n-1\n",
        "  for i in range(1,num):\n",
        "    #calculation of factorial\n",
        "    fact=fact*i\n",
        "   #returning factorial as output for function\n",
        "  return fact\n",
        "\n",
        "#testing that function works as intended\n",
        "factorial(5)"
      ],
      "metadata": {
        "colab": {
          "base_uri": "https://localhost:8080/"
        },
        "id": "H8qPiGqDzPj-",
        "outputId": "3b868d56-640c-4a91-eb4c-9b13feb7b451"
      },
      "execution_count": null,
      "outputs": [
        {
          "output_type": "execute_result",
          "data": {
            "text/plain": [
              "120"
            ]
          },
          "metadata": {},
          "execution_count": 13
        }
      ]
    },
    {
      "cell_type": "markdown",
      "source": [
        "---"
      ],
      "metadata": {
        "id": "4T7fSGrv14xn"
      }
    },
    {
      "cell_type": "markdown",
      "source": [
        "4. Write a function named **string_length** that takes a string and returns its length without using the built-in len() function."
      ],
      "metadata": {
        "id": "sl3HPlU316Cp"
      }
    },
    {
      "cell_type": "code",
      "source": [
        "#creating function 'string_length'\n",
        "def string_length(string):\n",
        "  #variable needed for 'for loop'\n",
        "  count=0\n",
        "  #'for loop' to count string length\n",
        "  for i in string:\n",
        "    #counting string length, updating counter\n",
        "    count+=1\n",
        "  #return string length as output for function\n",
        "  return count\n",
        "\n",
        "#testing that function works as intended\n",
        "string_length('hello world')"
      ],
      "metadata": {
        "colab": {
          "base_uri": "https://localhost:8080/"
        },
        "id": "BUXq3EMb0AlY",
        "outputId": "4563fbfb-8dab-4836-9c67-e3f6f56ceccf"
      },
      "execution_count": null,
      "outputs": [
        {
          "output_type": "execute_result",
          "data": {
            "text/plain": [
              "11"
            ]
          },
          "metadata": {},
          "execution_count": 15
        }
      ]
    },
    {
      "cell_type": "markdown",
      "source": [
        "---"
      ],
      "metadata": {
        "id": "GKtpVYRy2i55"
      }
    },
    {
      "cell_type": "markdown",
      "source": [
        "5. Write a function named **is_prime** that checks if a given number is prime. A prime number is a natural number greater than 1 that is not a product of two smaller natural numbers. The function should return True if the number is prime, otherwise False."
      ],
      "metadata": {
        "id": "BAbLXZYA2joD"
      }
    },
    {
      "cell_type": "code",
      "source": [
        "#creating function 'is_prime'\n",
        "def is_prime(num):\n",
        "  #variable set up as default answer\n",
        "  prime=True\n",
        "  #'for loop' going through numbers 1 to num-1\n",
        "  for i in range(1,num):\n",
        "    #inner 'for loop' going through numbers 1 to num-1\n",
        "    for j in range(1,num):\n",
        "      #calculating product of numbers 'i' and 'j'\n",
        "      product=i*j\n",
        "      #checking if the product of 'i' and 'j' is num\n",
        "      if product==num:\n",
        "        #if the product of 'i' and 'j' is num, num is not prime\n",
        "        #and prime is redfined as 'false' to reflect it is not prime\n",
        "        prime=False\n",
        "        #break command to stop 'for loop' from continuing\n",
        "        break\n",
        "  #return 'prime' as output for function;\n",
        "  #function gives 'True/False' as answer to whether num is prime\n",
        "  return prime\n",
        "\n",
        "#testing that function works as intended\n",
        "is_prime(71)"
      ],
      "metadata": {
        "colab": {
          "base_uri": "https://localhost:8080/"
        },
        "id": "aGI9KWWQ2eUw",
        "outputId": "6ba86984-7bf6-40e7-d5fd-8250635ca070"
      },
      "execution_count": null,
      "outputs": [
        {
          "output_type": "execute_result",
          "data": {
            "text/plain": [
              "True"
            ]
          },
          "metadata": {},
          "execution_count": 32
        }
      ]
    },
    {
      "cell_type": "markdown",
      "source": [
        "---"
      ],
      "metadata": {
        "id": "-f33KUZ32tN_"
      }
    },
    {
      "cell_type": "markdown",
      "source": [
        "6. Write a function named **unique_elements** that takes a list as an argument and returns a list of its unique elements in the order they were first encountered."
      ],
      "metadata": {
        "id": "aUR-GE482uA9"
      }
    },
    {
      "cell_type": "code",
      "source": [
        "#creating function 'unique_elements'\n",
        "def unique_elements(list_):\n",
        "  #empty list for unique elements\n",
        "  unique=[]\n",
        "  #'for loop' to go through all elements in list\n",
        "  for i in list_:\n",
        "    #check if element is unique\n",
        "    if i not in unique:\n",
        "      #adds element to 'unique' list if unique\n",
        "      unique.append(i)\n",
        "  #return 'unique' list as output for function\n",
        "  return unique\n",
        "\n",
        "#testing that function works as intended\n",
        "numbers=[1,2,3,4,5,6,3,7,8,4,1]\n",
        "unique_elements(numbers)\n"
      ],
      "metadata": {
        "colab": {
          "base_uri": "https://localhost:8080/"
        },
        "id": "8-kR5tqS2tqj",
        "outputId": "482da10c-69fc-432d-82ba-19b9c477e487"
      },
      "execution_count": null,
      "outputs": [
        {
          "output_type": "execute_result",
          "data": {
            "text/plain": [
              "[1, 2, 3, 4, 5, 6, 7, 8]"
            ]
          },
          "metadata": {},
          "execution_count": 17
        }
      ]
    },
    {
      "cell_type": "code",
      "source": [],
      "metadata": {
        "id": "pSeGvRIc3j3w"
      },
      "execution_count": null,
      "outputs": []
    }
  ]
}