{
  "nbformat": 4,
  "nbformat_minor": 0,
  "metadata": {
    "colab": {
      "provenance": []
    },
    "kernelspec": {
      "name": "python3",
      "display_name": "Python 3"
    },
    "language_info": {
      "name": "python"
    }
  },
  "cells": [
    {
      "cell_type": "markdown",
      "source": [
        "Write a function named add that takes two numbers as arguments and returns their sum."
      ],
      "metadata": {
        "id": "tbBmEPF-QVZC"
      }
    },
    {
      "cell_type": "code",
      "source": [
        "def add(first, second):\n",
        "  return first + second\n",
        "\n",
        "add(7,4)"
      ],
      "metadata": {
        "colab": {
          "base_uri": "https://localhost:8080/"
        },
        "id": "CAxiCntsQX9S",
        "outputId": "2261fcc4-269b-4a74-9da0-0f6f57cb1a7e"
      },
      "execution_count": 19,
      "outputs": [
        {
          "output_type": "execute_result",
          "data": {
            "text/plain": [
              "11"
            ]
          },
          "metadata": {},
          "execution_count": 19
        }
      ]
    },
    {
      "cell_type": "markdown",
      "source": [
        "Write a function named average that takes a list of numbers and returns their average."
      ],
      "metadata": {
        "id": "tJmxbRHcSjz-"
      }
    },
    {
      "cell_type": "code",
      "source": [
        "def average(figures):\n",
        "  return sum(figures)/len(figures)\n",
        "\n",
        "list=[4,7,9,2,7,6]\n",
        "result"
      ],
      "metadata": {
        "colab": {
          "base_uri": "https://localhost:8080/"
        },
        "id": "x9UJK2dSSo7M",
        "outputId": "e9d8ad09-2db2-4d1a-f982-e4fa37bc6466"
      },
      "execution_count": 28,
      "outputs": [
        {
          "output_type": "execute_result",
          "data": {
            "text/plain": [
              "5.833333333333333"
            ]
          },
          "metadata": {},
          "execution_count": 28
        }
      ]
    },
    {
      "cell_type": "markdown",
      "source": [
        "Write a function named factorial that calculates the factorial of a given number. The factorial of a number n is the product of all positive integers less than or equal to n. For example, the factorial of 5 is 5*4*3*2*1=120"
      ],
      "metadata": {
        "id": "6VnFiZzksl9m"
      }
    },
    {
      "cell_type": "code",
      "source": [
        "def factorial(n):\n",
        "  if n==0:\n",
        "    return 1\n",
        "  else:\n",
        "    return n * factorial(n-1)\n",
        "\n",
        "factorial(7)"
      ],
      "metadata": {
        "colab": {
          "base_uri": "https://localhost:8080/"
        },
        "id": "056tE82ZsvFo",
        "outputId": "a153fa0c-bd66-45e9-bacf-e5ac3e6812d2"
      },
      "execution_count": 11,
      "outputs": [
        {
          "output_type": "execute_result",
          "data": {
            "text/plain": [
              "5040"
            ]
          },
          "metadata": {},
          "execution_count": 11
        }
      ]
    },
    {
      "cell_type": "markdown",
      "source": [
        "Write a function named string_length that takes a string and returns its length without using the built-in len() function."
      ],
      "metadata": {
        "id": "k4f325Ckuosl"
      }
    },
    {
      "cell_type": "code",
      "source": [
        "def string_length(string):\n",
        "  count=0\n",
        "  for n in string:\n",
        "    count +=1\n",
        "  return count\n"
      ],
      "metadata": {
        "id": "1xsA5EGbup19"
      },
      "execution_count": 17,
      "outputs": []
    },
    {
      "cell_type": "code",
      "source": [
        "string_length('Coding')"
      ],
      "metadata": {
        "colab": {
          "base_uri": "https://localhost:8080/"
        },
        "id": "Y43pzLQVvO2U",
        "outputId": "ea11a303-4bf8-4ad1-cbce-bdc7333ba1a3"
      },
      "execution_count": 18,
      "outputs": [
        {
          "output_type": "execute_result",
          "data": {
            "text/plain": [
              "6"
            ]
          },
          "metadata": {},
          "execution_count": 18
        }
      ]
    },
    {
      "cell_type": "markdown",
      "source": [
        "Write a function named is_prime that checks if a given number is prime. A prime number is a natural number greater than 1 that is not a product of two smaller natural numbers. The function should return True if the number is prime, otherwise False."
      ],
      "metadata": {
        "id": "MjOntasTxFyc"
      }
    },
    {
      "cell_type": "code",
      "source": [
        "def is_prime(n):\n",
        "  if n>0:\n",
        "    for r in range(2,n-1):\n",
        "      if n%r==0:\n",
        "        return False\n",
        "      else:\n",
        "        return True\n",
        "\n",
        "\n",
        "is_prime(4)\n"
      ],
      "metadata": {
        "colab": {
          "base_uri": "https://localhost:8080/"
        },
        "id": "C8D_4IxyxHdZ",
        "outputId": "c9850092-47d6-4436-bee7-30a1227e2d91"
      },
      "execution_count": 30,
      "outputs": [
        {
          "output_type": "execute_result",
          "data": {
            "text/plain": [
              "False"
            ]
          },
          "metadata": {},
          "execution_count": 30
        }
      ]
    },
    {
      "cell_type": "markdown",
      "source": [
        "Write a function named unique_elements that takes a list as an argument and returns a list of its unique elements in the order they were first encountered."
      ],
      "metadata": {
        "id": "S80PCdEEz0t0"
      }
    },
    {
      "cell_type": "code",
      "source": [
        "def unique_elements(*list):\n",
        "  new= set()\n",
        "  result = []\n",
        "  for b in list:\n",
        "    if b not in new:\n",
        "      new.add(b)\n",
        "      result.append(b)\n",
        "  return result\n"
      ],
      "metadata": {
        "id": "0LFRWTNoz4mp"
      },
      "execution_count": 59,
      "outputs": []
    },
    {
      "cell_type": "code",
      "source": [
        "unique_elements(7,9,2,3,7,7,3,4,9)"
      ],
      "metadata": {
        "colab": {
          "base_uri": "https://localhost:8080/"
        },
        "id": "XIYiZGu517YY",
        "outputId": "c906102a-2797-4667-8ae3-be00b5161996"
      },
      "execution_count": 60,
      "outputs": [
        {
          "output_type": "execute_result",
          "data": {
            "text/plain": [
              "[7, 9, 2, 3, 4]"
            ]
          },
          "metadata": {},
          "execution_count": 60
        }
      ]
    }
  ]
}