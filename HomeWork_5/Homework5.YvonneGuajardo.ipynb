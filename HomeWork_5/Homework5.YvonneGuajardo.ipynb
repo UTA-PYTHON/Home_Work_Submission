{
 "cells": [
  {
   "cell_type": "markdown",
   "id": "540ee6c8",
   "metadata": {},
   "source": [
    "## Homework 5\n",
    "Yvonne Guajardo"
   ]
  },
  {
   "cell_type": "markdown",
   "id": "c3111f63",
   "metadata": {},
   "source": [
    "### 1. Write a function named add that takes two numbers as arguments and returns their sum."
   ]
  },
  {
   "cell_type": "code",
   "execution_count": 7,
   "id": "193cb859",
   "metadata": {},
   "outputs": [
    {
     "data": {
      "text/plain": [
       "10"
      ]
     },
     "execution_count": 7,
     "metadata": {},
     "output_type": "execute_result"
    }
   ],
   "source": [
    "def add(num1,num2):\n",
    "    sum = num1 + num2\n",
    "    return sum\n",
    "    \n",
    "add(5,5)"
   ]
  },
  {
   "cell_type": "markdown",
   "id": "0f8205cb",
   "metadata": {},
   "source": [
    "### 2. Write a function named average that takes a list of numbers and returns their average. "
   ]
  },
  {
   "cell_type": "code",
   "execution_count": 15,
   "id": "2f6469c3",
   "metadata": {},
   "outputs": [
    {
     "data": {
      "text/plain": [
       "6.2"
      ]
     },
     "execution_count": 15,
     "metadata": {},
     "output_type": "execute_result"
    }
   ],
   "source": [
    "def average(nums):\n",
    "    total = sum(nums)\n",
    "    average = total/ len(nums)\n",
    "    return average\n",
    "num_list = [3,6,9,12,1]\n",
    "average(num_list)"
   ]
  },
  {
   "cell_type": "markdown",
   "id": "29b63c2a",
   "metadata": {},
   "source": [
    "### 3. Write a function named factorial that calculates the factorial of a given number. The factorial of a number n is the product of all positive integers less than or equal to n. For example, the factorial of 5 is 54321 =120"
   ]
  },
  {
   "cell_type": "code",
   "execution_count": 19,
   "id": "1953f87d",
   "metadata": {},
   "outputs": [
    {
     "data": {
      "text/plain": [
       "120"
      ]
     },
     "execution_count": 19,
     "metadata": {},
     "output_type": "execute_result"
    }
   ],
   "source": [
    "def factorial(n):\n",
    "    factorial = 1\n",
    "    for num in range(1, n + 1):\n",
    "        factorial *= num\n",
    "    return factorial\n",
    "factorial(5)"
   ]
  },
  {
   "cell_type": "markdown",
   "id": "571261cd",
   "metadata": {},
   "source": [
    "### 4. Write a function named string_length that takes a string and returns its length without using the built-in len() function. "
   ]
  },
  {
   "cell_type": "code",
   "execution_count": 24,
   "id": "5a66bad7",
   "metadata": {},
   "outputs": [
    {
     "data": {
      "text/plain": [
       "28"
      ]
     },
     "execution_count": 24,
     "metadata": {},
     "output_type": "execute_result"
    }
   ],
   "source": [
    "def string_length(string):\n",
    "    \n",
    "    count = 0 \n",
    "    \n",
    "    for i in string:\n",
    "        count += 1\n",
    "    return count\n",
    "\n",
    "string_length(\"Hello darkness my old friend\") "
   ]
  },
  {
   "cell_type": "markdown",
   "id": "3c902694",
   "metadata": {},
   "source": [
    "### 5. Write a function named is_prime that checks if a given number is prime. A prime number is a natural number greater than 1 that is not a product of two smaller natural numbers. The function should return True if the number is prime, otherwise False. "
   ]
  },
  {
   "cell_type": "code",
   "execution_count": 51,
   "id": "3870b998",
   "metadata": {},
   "outputs": [
    {
     "name": "stdout",
     "output_type": "stream",
     "text": [
      "Enter a number:10\n",
      "False\n"
     ]
    }
   ],
   "source": [
    "def is_prime(num):\n",
    "    if num > 1:\n",
    "      for i in range(2,num):\n",
    "            if num % i == 0:\n",
    "                return False\n",
    "    else:\n",
    "        return False\n",
    "    return True\n",
    "\n",
    "user_input = int(input(\"Enter a number:\"))\n",
    "print(is_prime(user_input))"
   ]
  },
  {
   "cell_type": "markdown",
   "id": "a3ccf8fd",
   "metadata": {},
   "source": [
    "### 6. Write a function named unique_elements that takes a list as an argument and returns a list of its unique elements in the order they were first encountered."
   ]
  },
  {
   "cell_type": "code",
   "execution_count": 95,
   "id": "bd5cff04",
   "metadata": {},
   "outputs": [
    {
     "data": {
      "text/plain": [
       "[6, 7, 8, 9]"
      ]
     },
     "execution_count": 95,
     "metadata": {},
     "output_type": "execute_result"
    }
   ],
   "source": [
    "def unique_elements(lst):\n",
    "    lst2 = []  \n",
    "    for i in lst: \n",
    "        if i not in lst2:  \n",
    "            lst2.append(i) \n",
    "    lst2.sort()  \n",
    "    return lst2\n",
    "\n",
    "lst = [9,6,7,8]\n",
    "unique_elements(list)"
   ]
  },
  {
   "cell_type": "code",
   "execution_count": null,
   "id": "7d1e2e6c",
   "metadata": {},
   "outputs": [],
   "source": []
  }
 ],
 "metadata": {
  "kernelspec": {
   "display_name": "Python 3 (ipykernel)",
   "language": "python",
   "name": "python3"
  },
  "language_info": {
   "codemirror_mode": {
    "name": "ipython",
    "version": 3
   },
   "file_extension": ".py",
   "mimetype": "text/x-python",
   "name": "python",
   "nbconvert_exporter": "python",
   "pygments_lexer": "ipython3",
   "version": "3.11.4"
  }
 },
 "nbformat": 4,
 "nbformat_minor": 5
}
