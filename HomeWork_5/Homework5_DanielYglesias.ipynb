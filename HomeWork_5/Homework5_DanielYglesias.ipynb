{
  "nbformat": 4,
  "nbformat_minor": 0,
  "metadata": {
    "colab": {
      "provenance": []
    },
    "kernelspec": {
      "name": "python3",
      "display_name": "Python 3"
    },
    "language_info": {
      "name": "python"
    }
  },
  "cells": [
    {
      "cell_type": "markdown",
      "source": [
        "# **Homework 5**"
      ],
      "metadata": {
        "id": "beM-9rSVIYXX"
      }
    },
    {
      "cell_type": "markdown",
      "source": [
        "## Questions:"
      ],
      "metadata": {
        "id": "3Z8MHO29IjVB"
      }
    },
    {
      "cell_type": "markdown",
      "source": [
        "### 1. Write a function named add that takes two numbers as arguments and returns their sum."
      ],
      "metadata": {
        "id": "sqEVia0kIpUX"
      }
    },
    {
      "cell_type": "code",
      "execution_count": 1,
      "metadata": {
        "id": "vqkV6uSIISyg",
        "colab": {
          "base_uri": "https://localhost:8080/"
        },
        "outputId": "2954a41a-f58e-4bd6-eefe-3cd77b30c3de"
      },
      "outputs": [
        {
          "output_type": "stream",
          "name": "stdout",
          "text": [
            "Enter the first number: 5\n",
            "Enter the second number: 5\n",
            "The sum of the two numbers is: 10.0\n"
          ]
        }
      ],
      "source": [
        "def add():\n",
        "    while True:\n",
        "        try:\n",
        "            a = float(input(\"Enter the first number: \"))\n",
        "            b = float(input(\"Enter the second number: \"))\n",
        "            return a + b\n",
        "        except ValueError:\n",
        "            print(\"Invalid input. Please enter valid numbers.\")\n",
        "\n",
        "result = add()\n",
        "print(f\"The sum of the two numbers is: {result}\")"
      ]
    },
    {
      "cell_type": "markdown",
      "source": [
        "### 2. Write a function named average that takes a list of numbers and returns their average."
      ],
      "metadata": {
        "id": "Zz2XJmYnIz03"
      }
    },
    {
      "cell_type": "code",
      "source": [
        "def average(numbers):\n",
        "    if not numbers:\n",
        "        return 0\n",
        "\n",
        "    total = sum(numbers)\n",
        "    return total / len(numbers)\n",
        "\n",
        "# Example usage:\n",
        "numbers_list = [1, 2, 3, 4, 5]\n",
        "avg = average(numbers_list)\n",
        "print(\"Average:\", avg)\n"
      ],
      "metadata": {
        "id": "4u4mFy2cI74W",
        "colab": {
          "base_uri": "https://localhost:8080/"
        },
        "outputId": "2fc87330-cc82-468c-eb93-e4b66853df28"
      },
      "execution_count": 2,
      "outputs": [
        {
          "output_type": "stream",
          "name": "stdout",
          "text": [
            "Average: 3.0\n"
          ]
        }
      ]
    },
    {
      "cell_type": "markdown",
      "source": [
        "### 3. Write a function named factorial that calculates the factorial of a given number. The factorial of a number n is the product of all positive integers less than or equal to n. For example, the factorial of 5 is 5*4*3*2*1=120"
      ],
      "metadata": {
        "id": "pqe6ynKYI8G0"
      }
    },
    {
      "cell_type": "code",
      "source": [
        "def factorial(n):\n",
        "    if n < 0:\n",
        "        return\n",
        "    elif n == 0:\n",
        "        return 1\n",
        "    else:\n",
        "        result = 1\n",
        "        for i in range(1, n + 1):\n",
        "            result *= i\n",
        "        return result\n",
        "\n",
        "# Example usage:\n",
        "number = 5\n",
        "result = factorial(number)\n",
        "print(f\"The factorial of {number} is {result}\")\n"
      ],
      "metadata": {
        "id": "Cb1W3fANI_9K",
        "colab": {
          "base_uri": "https://localhost:8080/"
        },
        "outputId": "c31b4128-4194-4ea8-9c5b-591893b10426"
      },
      "execution_count": 3,
      "outputs": [
        {
          "output_type": "stream",
          "name": "stdout",
          "text": [
            "The factorial of 5 is 120\n"
          ]
        }
      ]
    },
    {
      "cell_type": "markdown",
      "source": [
        "### 4. Write a function named string_length that takes a string and returns its length without using the built-in len() function."
      ],
      "metadata": {
        "id": "noyKWnxxJACg"
      }
    },
    {
      "cell_type": "code",
      "source": [
        "def string_length(input_string):\n",
        "    count = 0\n",
        "    for _ in input_string:\n",
        "        count += 1\n",
        "    return count\n",
        "\n",
        "text = \"My name is Daniel Yglesias!\"\n",
        "length = string_length(text)\n",
        "print(f\"The length of the string is: {length}\")\n"
      ],
      "metadata": {
        "id": "fxcnzgcxJFgE",
        "colab": {
          "base_uri": "https://localhost:8080/"
        },
        "outputId": "cc984d35-08fb-4655-89eb-92f40ee767cb"
      },
      "execution_count": 4,
      "outputs": [
        {
          "output_type": "stream",
          "name": "stdout",
          "text": [
            "The length of the string is: 27\n"
          ]
        }
      ]
    },
    {
      "cell_type": "markdown",
      "source": [
        "### 5. Write a function named is_prime that checks if a given number is prime. A prime number is a natural number greater than 1 that is not a product of two smaller natural numbers. The function should return True if the number is prime, otherwise False."
      ],
      "metadata": {
        "id": "6Nw8oQcUJFxE"
      }
    },
    {
      "cell_type": "code",
      "source": [
        "def is_prime(number):\n",
        "    if number <= 1:\n",
        "        return False\n",
        "\n",
        "    for i in range(2, int(number**0.5) + 1):\n",
        "        if number % i == 0:\n",
        "            return False\n",
        "\n",
        "    return True\n",
        "\n",
        "num = 17\n",
        "result = is_prime(num)\n",
        "if result:\n",
        "    print(f\"{num} is a prime number.\")\n",
        "else:\n",
        "    print(f\"{num} is not a prime number.\")\n"
      ],
      "metadata": {
        "id": "1mVnl3avJS9s",
        "colab": {
          "base_uri": "https://localhost:8080/"
        },
        "outputId": "f608260b-b392-4d25-d6c2-746ad2f4677c"
      },
      "execution_count": 5,
      "outputs": [
        {
          "output_type": "stream",
          "name": "stdout",
          "text": [
            "17 is a prime number.\n"
          ]
        }
      ]
    },
    {
      "cell_type": "markdown",
      "source": [
        "### 6. Write a function named unique_elements that takes a list as an argument and returns a list of its unique elements in the order they were first encountered."
      ],
      "metadata": {
        "id": "ucVj6HHPJTGq"
      }
    },
    {
      "cell_type": "code",
      "source": [
        "def unique_elements(input_list):\n",
        "    unique_dict = {}\n",
        "\n",
        "    result = []\n",
        "\n",
        "    for item in input_list:\n",
        "        if item not in unique_dict:\n",
        "            unique_dict[item] = True\n",
        "            result.append(item)\n",
        "\n",
        "    return result\n",
        "\n",
        "my_list = [1, 2, 2, 3, 4, 4, 5]\n",
        "unique_list = unique_elements(my_list)\n",
        "print(\"Original list:\", my_list)\n",
        "print(\"Unique elements:\", unique_list)\n"
      ],
      "metadata": {
        "id": "NghQfcyiJW_4",
        "colab": {
          "base_uri": "https://localhost:8080/"
        },
        "outputId": "f76cdba7-12f4-4fc6-ae54-a9e8b01a2e9c"
      },
      "execution_count": 6,
      "outputs": [
        {
          "output_type": "stream",
          "name": "stdout",
          "text": [
            "Original list: [1, 2, 2, 3, 4, 4, 5]\n",
            "Unique elements: [1, 2, 3, 4, 5]\n"
          ]
        }
      ]
    }
  ]
}