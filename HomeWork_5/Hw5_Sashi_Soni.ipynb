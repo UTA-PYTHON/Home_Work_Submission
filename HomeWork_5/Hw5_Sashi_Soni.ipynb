{
  "nbformat": 4,
  "nbformat_minor": 0,
  "metadata": {
    "colab": {
      "provenance": []
    },
    "kernelspec": {
      "name": "python3",
      "display_name": "Python 3"
    },
    "language_info": {
      "name": "python"
    }
  },
  "cells": [
    {
      "cell_type": "markdown",
      "source": [
        "1. Write a function named add that takes two numbers as arguments and returns their sum."
      ],
      "metadata": {
        "id": "yCJj62G-56o1"
      }
    },
    {
      "cell_type": "code",
      "execution_count": 1,
      "metadata": {
        "id": "yF3Myhhl5Wra"
      },
      "outputs": [],
      "source": [
        "def add(x,y): # take two numbers as arguments and return their sum\n",
        "  return x+y\n"
      ]
    },
    {
      "cell_type": "code",
      "source": [
        "add(2,3)"
      ],
      "metadata": {
        "colab": {
          "base_uri": "https://localhost:8080/"
        },
        "id": "OSbuH3VO6PUw",
        "outputId": "523f9146-8230-4642-bdb0-90b3274a5c73"
      },
      "execution_count": 2,
      "outputs": [
        {
          "output_type": "execute_result",
          "data": {
            "text/plain": [
              "5"
            ]
          },
          "metadata": {},
          "execution_count": 2
        }
      ]
    },
    {
      "cell_type": "markdown",
      "source": [
        "2. Write a function named average that takes a list of numbers and returns their average."
      ],
      "metadata": {
        "id": "0UTCPck159_I"
      }
    },
    {
      "cell_type": "code",
      "source": [
        "def average(numbers): # take a list of numbers and return average\n",
        "\n",
        "  if len(numbers)==0:\n",
        "    return 0 # to aviod division by zero if the list is empty\n",
        "\n",
        "  return sum(numbers)/len(numbers)"
      ],
      "metadata": {
        "id": "rmVoGjt26AfY"
      },
      "execution_count": 4,
      "outputs": []
    },
    {
      "cell_type": "code",
      "source": [
        "numbers=[3,4,5,7,8]\n",
        "avg=average(numbers)\n",
        "print(avg)"
      ],
      "metadata": {
        "colab": {
          "base_uri": "https://localhost:8080/"
        },
        "id": "x3Xf13dj9Yxe",
        "outputId": "f4d35133-30bf-4c2c-a676-c067da37f6d6"
      },
      "execution_count": 6,
      "outputs": [
        {
          "output_type": "stream",
          "name": "stdout",
          "text": [
            "5.4\n"
          ]
        }
      ]
    },
    {
      "cell_type": "markdown",
      "source": [
        "3. Write a function named factorial that calculates the factorial of a given number. The factorial of a number n is the product of all positive integers less than or equal to n. For example, the factorial of 5 is 5*4*3*2*1=120"
      ],
      "metadata": {
        "id": "Adch0Lb9ATbD"
      }
    },
    {
      "cell_type": "code",
      "source": [
        "def factorial(n): # calculate the factorial of given number\n",
        "  if n==0:\n",
        "    return 1\n",
        "  else:\n",
        "    return n*factorial(n-1)"
      ],
      "metadata": {
        "id": "xOpn4s1oAJtV"
      },
      "execution_count": 9,
      "outputs": []
    },
    {
      "cell_type": "code",
      "source": [
        "result=factorial(5)\n",
        "print(result)"
      ],
      "metadata": {
        "colab": {
          "base_uri": "https://localhost:8080/"
        },
        "id": "KgKJCkz7ClRb",
        "outputId": "aad88212-716e-4d75-9fb7-103cc249af83"
      },
      "execution_count": 10,
      "outputs": [
        {
          "output_type": "stream",
          "name": "stdout",
          "text": [
            "120\n"
          ]
        }
      ]
    },
    {
      "cell_type": "markdown",
      "source": [
        "4. Write a function named string_length that takes a string and returns its length without using the built-in len() function."
      ],
      "metadata": {
        "id": "A6AisjlXCzts"
      }
    },
    {
      "cell_type": "code",
      "source": [
        "def string_length(input_string):\n",
        "\n",
        "  length=0\n",
        "  for _ in input_string:\n",
        "    length +=1\n",
        "\n",
        "  return length"
      ],
      "metadata": {
        "id": "sOuXYJQtCryP"
      },
      "execution_count": 11,
      "outputs": []
    },
    {
      "cell_type": "code",
      "source": [
        "a= \"Nepal\"\n",
        "length=string_length(a)\n",
        "print(length)"
      ],
      "metadata": {
        "colab": {
          "base_uri": "https://localhost:8080/"
        },
        "id": "FvWWiICoDYuY",
        "outputId": "ebc436af-3bab-4827-ddae-085f573a6704"
      },
      "execution_count": 13,
      "outputs": [
        {
          "output_type": "stream",
          "name": "stdout",
          "text": [
            "5\n"
          ]
        }
      ]
    },
    {
      "cell_type": "markdown",
      "source": [
        "5. Write a function named is_prime that checks if a given number is prime. A prime number is a natural number greater than 1 that is not a product of two smaller natural numbers. The function should return True if the number is prime, otherwise False."
      ],
      "metadata": {
        "id": "2TCtVeCzD417"
      }
    },
    {
      "cell_type": "code",
      "source": [
        "def is_prime(number): # to check whether number is prime or not\n",
        "\n",
        "  if number<=1:\n",
        "    return False  #number<=1 are not prime\n",
        "\n",
        "  if number<=3:\n",
        "    return True # number 2 and 3 are prime\n",
        "\n",
        "  if number%2==0 or number%3==0:\n",
        "    return False ## number which is divisible by 2 or 3 are not prime\n",
        "\n",
        "  i=5\n",
        "  while i*i<=number:\n",
        "    if number % i == 0 or number % (i+2)==0: # to show it is not product of two smaller natural number\n",
        "      return False\n",
        "\n",
        "      i +=6\n",
        "\n",
        "  return True"
      ],
      "metadata": {
        "id": "WcMTidF6Dn9P"
      },
      "execution_count": 14,
      "outputs": []
    },
    {
      "cell_type": "code",
      "source": [
        "num= is_prime(19)\n",
        "print(num)"
      ],
      "metadata": {
        "colab": {
          "base_uri": "https://localhost:8080/"
        },
        "id": "VnGqduCsFtXW",
        "outputId": "02eb91ce-de4d-41c7-9af8-f2bfd0618633"
      },
      "execution_count": 15,
      "outputs": [
        {
          "output_type": "stream",
          "name": "stdout",
          "text": [
            "True\n"
          ]
        }
      ]
    },
    {
      "cell_type": "code",
      "source": [
        "num2= is_prime(15)\n",
        "print(num2)"
      ],
      "metadata": {
        "colab": {
          "base_uri": "https://localhost:8080/"
        },
        "id": "495Tko8EGGX0",
        "outputId": "46caa101-0190-4065-8619-d5db35a11139"
      },
      "execution_count": 18,
      "outputs": [
        {
          "output_type": "stream",
          "name": "stdout",
          "text": [
            "False\n"
          ]
        }
      ]
    },
    {
      "cell_type": "markdown",
      "source": [
        "6. Write a function named unique_elements that takes a list as an argument and returns a list of its unique elements in the order they were first encountered."
      ],
      "metadata": {
        "id": "uMUqZKe_GX_2"
      }
    },
    {
      "cell_type": "code",
      "source": [
        "def unique_elements(input_list): # Returns a list of unique elements from the input list in the order of their first occurrence.\n",
        "\n",
        "\n",
        "  unique_list=[]\n",
        "  seen_set=set()\n",
        "\n",
        "  for item in input_list:\n",
        "    if item not in seen_set:\n",
        "      unique_list.append(item)\n",
        "      seen_set.add(item)\n",
        "\n",
        "  return unique_list"
      ],
      "metadata": {
        "id": "C6gNAoZyGVlz"
      },
      "execution_count": 19,
      "outputs": []
    },
    {
      "cell_type": "code",
      "source": [
        "list=[6,6,8,2,3,1,2,3,4,6,8,9]\n",
        "unique_items=unique_elements(list)\n",
        "print(unique_items)"
      ],
      "metadata": {
        "colab": {
          "base_uri": "https://localhost:8080/"
        },
        "id": "ShDhHbQpHqSY",
        "outputId": "8f3c5aa3-e9ff-410a-dd37-9cdc2296b181"
      },
      "execution_count": 20,
      "outputs": [
        {
          "output_type": "stream",
          "name": "stdout",
          "text": [
            "[6, 8, 2, 3, 1, 4, 9]\n"
          ]
        }
      ]
    },
    {
      "cell_type": "code",
      "source": [],
      "metadata": {
        "id": "RsUt9TJ0H9vV"
      },
      "execution_count": null,
      "outputs": []
    }
  ]
}