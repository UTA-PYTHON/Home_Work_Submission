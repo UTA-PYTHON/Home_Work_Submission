{
  "nbformat": 4,
  "nbformat_minor": 0,
  "metadata": {
    "colab": {
      "provenance": []
    },
    "kernelspec": {
      "name": "python3",
      "display_name": "Python 3"
    },
    "language_info": {
      "name": "python"
    }
  },
  "cells": [
    {
      "cell_type": "markdown",
      "source": [
        "#Homework 5. Functions    \n",
        "\n",
        "###Due Date: [October 20, 2023, 2:30 pm]\n",
        "\n",
        "\n",
        "##Questions:\n",
        "\n",
        "##1.Write a function named add that takes two numbers as arguments and returns their sum.\n",
        "\n"
      ],
      "metadata": {
        "id": "9cIjWvW26PDL"
      }
    },
    {
      "cell_type": "code",
      "source": [
        "def add(a,b):\n",
        "  return a+b"
      ],
      "metadata": {
        "id": "hHeQ0sqE6hBH"
      },
      "execution_count": null,
      "outputs": []
    },
    {
      "cell_type": "code",
      "source": [
        "add(4,6)"
      ],
      "metadata": {
        "colab": {
          "base_uri": "https://localhost:8080/"
        },
        "id": "7hHTqq4Q68lT",
        "outputId": "cad91abe-e114-43ff-d740-f822a54d8818"
      },
      "execution_count": null,
      "outputs": [
        {
          "output_type": "execute_result",
          "data": {
            "text/plain": [
              "10"
            ]
          },
          "metadata": {},
          "execution_count": 2
        }
      ]
    },
    {
      "cell_type": "markdown",
      "source": [
        "##2.Write a function named average that takes a list of numbers and returns their average."
      ],
      "metadata": {
        "id": "-_GuqpF47WH1"
      }
    },
    {
      "cell_type": "code",
      "source": [
        "def average(*numbers):\n",
        "  avg=sum(numbers)/len(numbers)\n",
        "  return avg"
      ],
      "metadata": {
        "id": "4mC5xRH07ZtH"
      },
      "execution_count": null,
      "outputs": []
    },
    {
      "cell_type": "code",
      "source": [
        "average(1,2,3,4,5,6,7,8,9,10)"
      ],
      "metadata": {
        "colab": {
          "base_uri": "https://localhost:8080/"
        },
        "id": "ML0Ej8247wCc",
        "outputId": "c13b7990-a7db-4de4-be6e-c38a0542ef3c"
      },
      "execution_count": null,
      "outputs": [
        {
          "output_type": "execute_result",
          "data": {
            "text/plain": [
              "5.5"
            ]
          },
          "metadata": {},
          "execution_count": 5
        }
      ]
    },
    {
      "cell_type": "markdown",
      "source": [
        "##3.Write a function named factorial that calculates the factorial of a given number. The factorial of a number n is the product of all positive integers less than or equal to n. For example, the factorial of 5 is 5*4*3*2*1=120"
      ],
      "metadata": {
        "id": "t4e-07q77-RQ"
      }
    },
    {
      "cell_type": "code",
      "source": [
        "def factional(n)"
      ],
      "metadata": {
        "id": "fwoauMIm8Aez"
      },
      "execution_count": null,
      "outputs": []
    },
    {
      "cell_type": "markdown",
      "source": [
        "##4.Write a function named string_length that takes a string and returns its length without using the built-in len() function."
      ],
      "metadata": {
        "id": "HESFT0xb9ZBo"
      }
    },
    {
      "cell_type": "code",
      "source": [
        "def string_length(str):\n",
        "  x= 0\n",
        "  for letter in str:\n",
        "    x = x+1\n",
        "  return x"
      ],
      "metadata": {
        "id": "H4pDxkYR9asX"
      },
      "execution_count": null,
      "outputs": []
    },
    {
      "cell_type": "code",
      "source": [
        "string_length(\"Data\")"
      ],
      "metadata": {
        "colab": {
          "base_uri": "https://localhost:8080/"
        },
        "id": "qmQfs3msFnXf",
        "outputId": "46250ca1-38a7-43a5-f408-5a88a73cc06d"
      },
      "execution_count": null,
      "outputs": [
        {
          "output_type": "execute_result",
          "data": {
            "text/plain": [
              "4"
            ]
          },
          "metadata": {},
          "execution_count": 9
        }
      ]
    },
    {
      "cell_type": "markdown",
      "source": [
        "##5.Write a function named is_prime that checks if a given number is prime. A prime number is a natural number greater than 1 that is not a product of two smaller natural numbers. The function should return True if the number is prime, otherwise False."
      ],
      "metadata": {
        "id": "a7CWnHeEHGCm"
      }
    },
    {
      "cell_type": "code",
      "source": [
        "def is_prime(number):\n",
        "    if number <= 1:\n",
        "        return False\n",
        "    for num in range(2, int(number ** 0.5) + 1):\n",
        "        if number % num == 0:\n",
        "            return False\n",
        "    return True\n"
      ],
      "metadata": {
        "id": "Fll-njGFHKt4"
      },
      "execution_count": 1,
      "outputs": []
    },
    {
      "cell_type": "code",
      "source": [],
      "metadata": {
        "id": "XQayL3GGK4iQ"
      },
      "execution_count": null,
      "outputs": []
    }
  ]
}