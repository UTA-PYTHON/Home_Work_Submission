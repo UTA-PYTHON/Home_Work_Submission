{
  "nbformat": 4,
  "nbformat_minor": 0,
  "metadata": {
    "colab": {
      "provenance": []
    },
    "kernelspec": {
      "name": "python3",
      "display_name": "Python 3"
    },
    "language_info": {
      "name": "python"
    }
  },
  "cells": [
    {
      "cell_type": "markdown",
      "source": [
        "# **Homework 5**"
      ],
      "metadata": {
        "id": "QihEJLSS1-Oi"
      }
    },
    {
      "cell_type": "markdown",
      "source": [
        "**1.** Write a function named add that takes two numbers as arguments and returns their sum."
      ],
      "metadata": {
        "id": "YKKrNHne2Ckz"
      }
    },
    {
      "cell_type": "code",
      "source": [
        "def add(x,y):\n",
        "  return x+y"
      ],
      "metadata": {
        "id": "6-guTly02Gb6"
      },
      "execution_count": 1,
      "outputs": []
    },
    {
      "cell_type": "markdown",
      "source": [
        "**2.** Write a function named average that takes a list of numbers and returns their average."
      ],
      "metadata": {
        "id": "z_MOqzMG2U-f"
      }
    },
    {
      "cell_type": "code",
      "source": [
        "def average(numbers):\n",
        "  sum = 0\n",
        "  for number in numbers:\n",
        "    sum += number\n",
        "\n",
        "  avg = sum / len(numbers)\n",
        "  return avg\n",
        ""
      ],
      "metadata": {
        "id": "MOAbffDk2SWz"
      },
      "execution_count": 2,
      "outputs": []
    },
    {
      "cell_type": "markdown",
      "source": [
        "**3.** Write a function named factorial that calculates the factorial of a given number. The factorial\n",
        "of a number n is the product of all positive integers less than or equal to n. For example, the\n",
        "factorial of 5 is 5*4*3*2*1=120"
      ],
      "metadata": {
        "id": "5gcpIVIs2p9-"
      }
    },
    {
      "cell_type": "code",
      "source": [
        "def factorial(n):\n",
        "  factorial = 1\n",
        "  for i in range(1,n+1):\n",
        "    factorial *= i\n",
        "  return factorial"
      ],
      "metadata": {
        "id": "gcngteV22k_z"
      },
      "execution_count": 8,
      "outputs": []
    },
    {
      "cell_type": "markdown",
      "source": [
        "**4.** Write a function named string_length that takes a string and returns its length without using\n",
        "the built-in len() function."
      ],
      "metadata": {
        "id": "OVmkLzNP3GpP"
      }
    },
    {
      "cell_type": "code",
      "source": [
        "def string_length(string):\n",
        "  num_char = 0\n",
        "  for char in string:\n",
        "    num_char += 1\n",
        "  return num_char"
      ],
      "metadata": {
        "id": "2cGBa8gM3LKC"
      },
      "execution_count": 9,
      "outputs": []
    },
    {
      "cell_type": "markdown",
      "source": [
        "**5.** Write a function named is_prime that checks if a given number is prime. A prime number is a\n",
        "natural number greater than 1 that is not a product of two smaller natural numbers. The function\n",
        "should return True if the number is prime, otherwise False"
      ],
      "metadata": {
        "id": "528uflYn3g5s"
      }
    },
    {
      "cell_type": "code",
      "source": [
        "def is_prime(num):\n",
        "  if num > 2:\n",
        "    for i in range(2,num):\n",
        "      if(num % i == 0):\n",
        "        return False\n",
        "    return True\n",
        "  return True"
      ],
      "metadata": {
        "id": "e5cq3Jv63Y6M"
      },
      "execution_count": 17,
      "outputs": []
    },
    {
      "cell_type": "markdown",
      "source": [
        "**6.** Write a function named unique_elements that takes a list as an argument and returns a list of\n",
        "its unique elements in the order they were first encountered."
      ],
      "metadata": {
        "id": "M-ZZze7m4OuV"
      }
    },
    {
      "cell_type": "code",
      "source": [
        "def unique_elements(lst):\n",
        "  unique_lst = []\n",
        "  for i in lst:\n",
        "    if i not in unique_lst:\n",
        "      unique_lst.append(i)\n",
        "  return unique_lst"
      ],
      "metadata": {
        "id": "srpVuDct4ENa"
      },
      "execution_count": 20,
      "outputs": []
    }
  ]
}