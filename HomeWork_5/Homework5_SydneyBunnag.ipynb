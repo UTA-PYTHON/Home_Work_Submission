{
  "nbformat": 4,
  "nbformat_minor": 0,
  "metadata": {
    "colab": {
      "provenance": []
    },
    "kernelspec": {
      "name": "python3",
      "display_name": "Python 3"
    },
    "language_info": {
      "name": "python"
    }
  },
  "cells": [
    {
      "cell_type": "markdown",
      "source": [
        "#1.Write a function named add that takes two numbers as arguments and returns their sum."
      ],
      "metadata": {
        "id": "eGYiniuxPxsM"
      }
    },
    {
      "cell_type": "code",
      "source": [
        "def add(num1,num2):\n",
        "  return num1 + num2 #add the numbers and return value\n",
        "\n",
        "add(1,2)"
      ],
      "metadata": {
        "colab": {
          "base_uri": "https://localhost:8080/"
        },
        "id": "22qzUr9AP4eG",
        "outputId": "2bda04ed-6428-414d-e6ad-9c0d3eae45c8"
      },
      "execution_count": 2,
      "outputs": [
        {
          "output_type": "execute_result",
          "data": {
            "text/plain": [
              "3"
            ]
          },
          "metadata": {},
          "execution_count": 2
        }
      ]
    },
    {
      "cell_type": "markdown",
      "source": [
        "#2. Write a function named average that takes a list of numbers and returns their average."
      ],
      "metadata": {
        "id": "DwgQnWsvP-vd"
      }
    },
    {
      "cell_type": "code",
      "source": [
        "def average(values):\n",
        "  sum = 0\n",
        "  for num in values:\n",
        "    sum = sum + num #add each number in list\n",
        "  return sum/len(values) #divide by number of nums for avg\n",
        "\n",
        "average({90,95,95})"
      ],
      "metadata": {
        "colab": {
          "base_uri": "https://localhost:8080/"
        },
        "id": "qhKRtSdgQLcR",
        "outputId": "ea1e79c0-6708-4599-fef3-8e2668d61d07"
      },
      "execution_count": 10,
      "outputs": [
        {
          "output_type": "execute_result",
          "data": {
            "text/plain": [
              "92.5"
            ]
          },
          "metadata": {},
          "execution_count": 10
        }
      ]
    },
    {
      "cell_type": "markdown",
      "source": [
        "#3. Write a function named factorial that calculates the factorial of a given number. The factorial of a number n is the product of all positive integers less than or equal to n. For example, the factorial of 5 is 5*4*3*2*1=120"
      ],
      "metadata": {
        "id": "IxGHmCt3RH4c"
      }
    },
    {
      "cell_type": "code",
      "source": [
        "def factorial(num):\n",
        "  factorial = 1 #init factorial at 1 so it's not 0\n",
        "  for n in range(1,num+1): #start at 1 and go to num\n",
        "    factorial *= n; #calc factorial\n",
        "  return factorial\n",
        "\n",
        "factorial(5)"
      ],
      "metadata": {
        "colab": {
          "base_uri": "https://localhost:8080/"
        },
        "id": "YssZSGWkQbwy",
        "outputId": "e650e4cf-4252-4263-8254-f7fccf7f1268"
      },
      "execution_count": 12,
      "outputs": [
        {
          "output_type": "execute_result",
          "data": {
            "text/plain": [
              "120"
            ]
          },
          "metadata": {},
          "execution_count": 12
        }
      ]
    },
    {
      "cell_type": "markdown",
      "source": [
        "#4. Write a function named string_length that takes a string and returns its length without using the built-in len() function."
      ],
      "metadata": {
        "id": "nwQ8BW5DR3zj"
      }
    },
    {
      "cell_type": "code",
      "source": [
        "def string_length(str1):\n",
        "  length = 0\n",
        "  for char in str1:\n",
        "    length += 1 #count the number of characters\n",
        "  return length\n",
        "\n",
        "string_length(\"Hello\")"
      ],
      "metadata": {
        "colab": {
          "base_uri": "https://localhost:8080/"
        },
        "id": "CmYdnAHeR3fz",
        "outputId": "f3b7f760-6da5-40e6-9202-be5210f542ee"
      },
      "execution_count": 15,
      "outputs": [
        {
          "output_type": "execute_result",
          "data": {
            "text/plain": [
              "5"
            ]
          },
          "metadata": {},
          "execution_count": 15
        }
      ]
    },
    {
      "cell_type": "markdown",
      "source": [
        "#5. Write a function named is_prime that checks if a given number is prime. A prime number is a natural number greater than 1 that is not a product of two smaller natural numbers. The function should return True if the number is prime, otherwise False."
      ],
      "metadata": {
        "id": "AlG1Q3G5SSoa"
      }
    },
    {
      "cell_type": "code",
      "source": [
        "def is_prime(number):\n",
        "    if number < 2: #must be greater than 1\n",
        "        return False\n",
        "    for i in range(2, int(number**0.5) + 1): #check for factors from 2 to the square root\n",
        "        if number % i == 0:\n",
        "            return False\n",
        "    return True\n",
        "\n",
        "is_prime(7)"
      ],
      "metadata": {
        "colab": {
          "base_uri": "https://localhost:8080/"
        },
        "id": "B4nxXGufSM-R",
        "outputId": "d6b87d1f-bd43-4f55-b8ca-33590e3d5d96"
      },
      "execution_count": 16,
      "outputs": [
        {
          "output_type": "execute_result",
          "data": {
            "text/plain": [
              "True"
            ]
          },
          "metadata": {},
          "execution_count": 16
        }
      ]
    },
    {
      "cell_type": "markdown",
      "source": [
        "#6. Write a function named unique_elements that takes a list as an argument and returns a list of its unique elements in the order they were first encountered.\n"
      ],
      "metadata": {
        "id": "li_Fa4KeS86x"
      }
    },
    {
      "cell_type": "code",
      "source": [
        "def unique_elements(values):\n",
        "  unique_num = []\n",
        "\n",
        "  for num in values:\n",
        "    if num not in unique_num: #add if not in already\n",
        "      unique_num.append(num)\n",
        "  return unique_num\n",
        "\n",
        "unique_elements([5,5,6,2,5,3,8])"
      ],
      "metadata": {
        "colab": {
          "base_uri": "https://localhost:8080/"
        },
        "id": "5wkbPP89SssL",
        "outputId": "4037b195-b0b5-4a59-e05a-98c4d5d168ae"
      },
      "execution_count": 19,
      "outputs": [
        {
          "output_type": "execute_result",
          "data": {
            "text/plain": [
              "[5, 6, 2, 3, 8]"
            ]
          },
          "metadata": {},
          "execution_count": 19
        }
      ]
    },
    {
      "cell_type": "code",
      "source": [],
      "metadata": {
        "id": "JcYgip9sTbmt"
      },
      "execution_count": null,
      "outputs": []
    }
  ]
}