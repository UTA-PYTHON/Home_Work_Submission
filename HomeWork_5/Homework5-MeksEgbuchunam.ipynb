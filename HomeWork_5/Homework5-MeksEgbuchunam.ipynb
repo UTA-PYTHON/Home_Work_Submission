{
 "cells": [
  {
   "cell_type": "markdown",
   "id": "321c314c-7cc8-4eb2-95e7-83c99ea0c6d3",
   "metadata": {},
   "source": [
    "1. Write a function named add that takes two numbers as arguments and returns their sum."
   ]
  },
  {
   "cell_type": "code",
   "execution_count": 7,
   "id": "a5c89cfa-d264-409c-9464-0a2b41be30e7",
   "metadata": {},
   "outputs": [
    {
     "name": "stdout",
     "output_type": "stream",
     "text": [
      "9\n"
     ]
    }
   ],
   "source": [
    "def add (x, y):\n",
    "    result = x + y\n",
    "    return result\n",
    "adding = add(5,4)\n",
    "print(adding)"
   ]
  },
  {
   "cell_type": "markdown",
   "id": "6037e6e9-ece9-4283-98d0-610f3d760781",
   "metadata": {},
   "source": [
    "2. Write a function named average that takes a list of numbers and returns their average."
   ]
  },
  {
   "cell_type": "code",
   "execution_count": 11,
   "id": "78dc4ccf-7cba-4267-aa30-b40b82e13a95",
   "metadata": {},
   "outputs": [
    {
     "name": "stdout",
     "output_type": "stream",
     "text": [
      "5.0\n"
     ]
    }
   ],
   "source": [
    "def average(numbers):\n",
    "    return sum(numbers)/len(numbers)\n",
    "\n",
    "list = [5, 7, 8, 3, 2]\n",
    "print (average(list))"
   ]
  },
  {
   "cell_type": "markdown",
   "id": "c3f4b959-9623-4c78-af0b-8ea59b56a4ba",
   "metadata": {},
   "source": [
    "3. Write a function named factorial that calculates the factorial of a given number. The factorial of a number n is the product of all positive integers less than or equal to n. For example, the factorial of 5 is 5*4*3*2*1=120"
   ]
  },
  {
   "cell_type": "code",
   "execution_count": 14,
   "id": "ce108a50-1b59-4205-8537-ef7ea7200ba0",
   "metadata": {},
   "outputs": [
    {
     "name": "stdout",
     "output_type": "stream",
     "text": [
      "6\n"
     ]
    }
   ],
   "source": [
    "def factorial(num):\n",
    "    if num <= 1:\n",
    "        return 1\n",
    "    return num * factorial(num-1)\n",
    "\n",
    "print(factorial(3))"
   ]
  },
  {
   "cell_type": "markdown",
   "id": "3b8589d5-238c-4faa-96a6-33df7ced14b0",
   "metadata": {},
   "source": [
    "4. Write a function named string_length that takes a string and returns its length without using the built-in len() function."
   ]
  },
  {
   "cell_type": "code",
   "execution_count": 16,
   "id": "678b7a56-6cba-4b8c-9b0b-c0509b64cdb9",
   "metadata": {},
   "outputs": [
    {
     "name": "stdout",
     "output_type": "stream",
     "text": [
      "21\n"
     ]
    }
   ],
   "source": [
    "def string_length(c):\n",
    "    count = 0\n",
    "    for character in c:\n",
    "        count += 1\n",
    "    return count\n",
    "c = \"I like chocolate milk\"\n",
    "print(string_length(c))"
   ]
  },
  {
   "cell_type": "markdown",
   "id": "07ab0aaa-ecb6-4a46-b811-8a6a7f3677bd",
   "metadata": {},
   "source": [
    "5. Write a function named is_prime that checks if a given number is prime. A prime number is a natural number greater than 1 that is not a product of two smaller natural numbers. The function should return True if the number is prime, otherwise False."
   ]
  },
  {
   "cell_type": "code",
   "execution_count": 19,
   "id": "8c28b473-112f-47f7-9b8a-185a0d46fb41",
   "metadata": {},
   "outputs": [
    {
     "name": "stdout",
     "output_type": "stream",
     "text": [
      "True\n"
     ]
    }
   ],
   "source": [
    "def is_prime(num):\n",
    "    if num <= 1:\n",
    "        return false\n",
    "    for x in range (2, num-1):\n",
    "        if num % x == 0:\n",
    "            return False\n",
    "    return True\n",
    "\n",
    "print(is_prime(5))"
   ]
  },
  {
   "cell_type": "markdown",
   "id": "81ab4127-98c2-475e-a30d-40b114cc55a6",
   "metadata": {},
   "source": [
    "6. Write a function named unique_elements that takes a list as an argument and returns a list of its unique elements in the order they were first encountered."
   ]
  },
  {
   "cell_type": "code",
   "execution_count": 20,
   "id": "31793630-b9ea-4f1a-871d-f669e8ecb44d",
   "metadata": {},
   "outputs": [
    {
     "name": "stdout",
     "output_type": "stream",
     "text": [
      "[5, 6, 8, 3, 7, 2, 34, 1, 43, 10]\n"
     ]
    }
   ],
   "source": [
    "def unique_elements(list):\n",
    "    no_repeats = []\n",
    "    seen = set()\n",
    "    for element in list:\n",
    "        if element not in seen:\n",
    "            seen.add(element)\n",
    "            no_repeats.append(element)\n",
    "    return no_repeats\n",
    "\n",
    "list = [5, 6, 8, 3, 5, 7, 3, 2, 34, 5, 34, 1, 7, 5, 43, 10, 5,]\n",
    "print(unique_elements(list))\n",
    "        "
   ]
  },
  {
   "cell_type": "code",
   "execution_count": null,
   "id": "ebf1bac8-a4e6-4327-99be-462ce216105b",
   "metadata": {},
   "outputs": [],
   "source": []
  }
 ],
 "metadata": {
  "kernelspec": {
   "display_name": "Python 3 (ipykernel)",
   "language": "python",
   "name": "python3"
  },
  "language_info": {
   "codemirror_mode": {
    "name": "ipython",
    "version": 3
   },
   "file_extension": ".py",
   "mimetype": "text/x-python",
   "name": "python",
   "nbconvert_exporter": "python",
   "pygments_lexer": "ipython3",
   "version": "3.11.6"
  }
 },
 "nbformat": 4,
 "nbformat_minor": 5
}
