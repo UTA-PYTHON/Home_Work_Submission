{
  "nbformat": 4,
  "nbformat_minor": 0,
  "metadata": {
    "colab": {
      "provenance": []
    },
    "kernelspec": {
      "name": "python3",
      "display_name": "Python 3"
    },
    "language_info": {
      "name": "python"
    }
  },
  "cells": [
    {
      "cell_type": "markdown",
      "source": [
        "### 1. Write a function named **add** that takes two numbers as arguments and returns their sum."
      ],
      "metadata": {
        "id": "cXElFTcgxXY4"
      }
    },
    {
      "cell_type": "code",
      "execution_count": 1,
      "metadata": {
        "colab": {
          "base_uri": "https://localhost:8080/",
          "height": 36
        },
        "id": "C0FjoN35xBxt",
        "outputId": "f2c42e88-695c-476f-e481-1f156c7f0496"
      },
      "outputs": [
        {
          "output_type": "execute_result",
          "data": {
            "text/plain": [
              "'the sum of 2 and 2 is 4'"
            ],
            "application/vnd.google.colaboratory.intrinsic+json": {
              "type": "string"
            }
          },
          "metadata": {},
          "execution_count": 1
        }
      ],
      "source": [
        "def add(a, b):\n",
        "  return f\"the sum of {a} and {b} is {a + b}\"\n",
        "\n",
        "add(2, 2)"
      ]
    },
    {
      "cell_type": "markdown",
      "source": [
        "### 2. Write a function named **average** that takes a list of numbers and returns their average."
      ],
      "metadata": {
        "id": "ODmUhXuuxktO"
      }
    },
    {
      "cell_type": "code",
      "source": [
        "num = [1,2,3,4,5,6,7,8,9,10]\n",
        "\n",
        "def average(num):\n",
        "  average = sum(num)/len(num)\n",
        "  return f\"the average is {average}\"\n",
        "\n",
        "average(num)"
      ],
      "metadata": {
        "colab": {
          "base_uri": "https://localhost:8080/",
          "height": 36
        },
        "id": "hL2olUdFxsRZ",
        "outputId": "8bc181d2-fa56-4f96-efee-4bb0c77482c2"
      },
      "execution_count": 4,
      "outputs": [
        {
          "output_type": "execute_result",
          "data": {
            "text/plain": [
              "'the average is 5.5'"
            ],
            "application/vnd.google.colaboratory.intrinsic+json": {
              "type": "string"
            }
          },
          "metadata": {},
          "execution_count": 4
        }
      ]
    },
    {
      "cell_type": "markdown",
      "source": [
        "### 3. Write a functions named **factorial** that calculates the factorial of  a given number."
      ],
      "metadata": {
        "id": "ikdbognvxvhE"
      }
    },
    {
      "cell_type": "code",
      "source": [
        "def factorial(n):\n",
        "  if n == 0:\n",
        "    return 1\n",
        "  else:\n",
        "    return n * factorial(n-1)\n",
        "\n",
        "factorial(5)"
      ],
      "metadata": {
        "colab": {
          "base_uri": "https://localhost:8080/"
        },
        "id": "rekc9kUPx4OT",
        "outputId": "0ec635f9-5a5c-437b-e608-ef1aef18d95e"
      },
      "execution_count": 6,
      "outputs": [
        {
          "output_type": "execute_result",
          "data": {
            "text/plain": [
              "120"
            ]
          },
          "metadata": {},
          "execution_count": 6
        }
      ]
    },
    {
      "cell_type": "markdown",
      "source": [
        "### 4. Write a function named **string_length** that takes a string and returns its length without using the built-in len() function."
      ],
      "metadata": {
        "id": "akvD3-hax4lU"
      }
    },
    {
      "cell_type": "code",
      "source": [
        "def string_length(sen):\n",
        "  length = 0\n",
        "  for char in sen:\n",
        "    length += 1\n",
        "  return length\n",
        "\n",
        "string_length(\"Homework is cool\")"
      ],
      "metadata": {
        "colab": {
          "base_uri": "https://localhost:8080/"
        },
        "id": "7kYGwlPxyF8c",
        "outputId": "998b3a4a-5662-45ae-dde1-bcc8cb168e54"
      },
      "execution_count": 27,
      "outputs": [
        {
          "output_type": "execute_result",
          "data": {
            "text/plain": [
              "16"
            ]
          },
          "metadata": {},
          "execution_count": 27
        }
      ]
    },
    {
      "cell_type": "markdown",
      "source": [
        "### 5. Write a function named **is_prime** that checks if a given number is prime...The function should return True if the number is prime, otherwise False."
      ],
      "metadata": {
        "id": "jcSULqelyGbB"
      }
    },
    {
      "cell_type": "code",
      "source": [
        "def is_prime(n):\n"
      ],
      "metadata": {
        "id": "ZR1BLs0JyTD2"
      },
      "execution_count": null,
      "outputs": []
    },
    {
      "cell_type": "markdown",
      "source": [
        "### 6. Write a function named **unique_elements** that takes a list as an argument and returns a list of its unique elements in the order they were first encountered."
      ],
      "metadata": {
        "id": "hmyeoc2LyTdF"
      }
    },
    {
      "cell_type": "code",
      "source": [
        "alist=[1,2,3,4,5,5,5,6,7,7,8,9,9,9,9]\n",
        "\n",
        "def unique_elements(list):\n",
        "  unique_list=[]\n",
        "  for n in list:\n",
        "    if n not in unique_list:\n",
        "      unique_list.append(n)\n",
        "  return unique_list\n",
        "\n",
        "unique_elements(alist)"
      ],
      "metadata": {
        "colab": {
          "base_uri": "https://localhost:8080/"
        },
        "id": "UARtE5LjCSHO",
        "outputId": "ca2e729b-7149-4600-b1fc-e50cadb04220"
      },
      "execution_count": 26,
      "outputs": [
        {
          "output_type": "execute_result",
          "data": {
            "text/plain": [
              "[1, 2, 3, 4, 5, 6, 7, 8, 9]"
            ]
          },
          "metadata": {},
          "execution_count": 26
        }
      ]
    },
    {
      "cell_type": "code",
      "source": [],
      "metadata": {
        "id": "bzkLpXmKCZuF"
      },
      "execution_count": null,
      "outputs": []
    }
  ]
}