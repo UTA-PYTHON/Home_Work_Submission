{
  "nbformat": 4,
  "nbformat_minor": 0,
  "metadata": {
    "colab": {
      "provenance": []
    },
    "kernelspec": {
      "name": "python3",
      "display_name": "Python 3"
    },
    "language_info": {
      "name": "python"
    }
  },
  "cells": [
    {
      "cell_type": "code",
      "execution_count": null,
      "metadata": {
        "id": "lZs5USniFJnO"
      },
      "outputs": [],
      "source": []
    },
    {
      "cell_type": "markdown",
      "source": [
        "## Q1 ##"
      ],
      "metadata": {
        "id": "SeFreukXGTuX"
      }
    },
    {
      "cell_type": "code",
      "source": [
        "def question_1(a1, a2):\n",
        "  return a1+a2\n",
        "\n",
        "addition=question_1(5,3)\n",
        "print(addition)\n",
        ""
      ],
      "metadata": {
        "colab": {
          "base_uri": "https://localhost:8080/"
        },
        "id": "ZkHWEHwSGV8N",
        "outputId": "7940dfb0-e4c6-41c9-ffae-e1f8c13cae21"
      },
      "execution_count": 26,
      "outputs": [
        {
          "output_type": "stream",
          "name": "stdout",
          "text": [
            "8\n"
          ]
        }
      ]
    },
    {
      "cell_type": "markdown",
      "source": [
        "## Q2 ##"
      ],
      "metadata": {
        "id": "_C6TmtP7NSpf"
      }
    },
    {
      "cell_type": "code",
      "source": [
        "def average(avg):\n",
        "  q2num=0\n",
        "  q2count=0\n",
        "\n",
        "  for m in avg:\n",
        "    q2num += m\n",
        "    q2count+=1\n",
        "  return q2num / q2count\n",
        "\n",
        "numbers=[2,3,4,5,6,7,8,9]\n",
        "result= average(numbers)\n",
        "print(result)"
      ],
      "metadata": {
        "colab": {
          "base_uri": "https://localhost:8080/"
        },
        "id": "CuP8421QI8hv",
        "outputId": "910d6f12-fb38-493d-9183-c0447d161ba6"
      },
      "execution_count": 14,
      "outputs": [
        {
          "output_type": "stream",
          "name": "stdout",
          "text": [
            "5.5\n"
          ]
        }
      ]
    },
    {
      "cell_type": "markdown",
      "source": [
        "##Q3##"
      ],
      "metadata": {
        "id": "g9AVehhdbluc"
      }
    },
    {
      "cell_type": "code",
      "source": [
        "def factorial(facts):\n",
        "  if facts <0:\n",
        "    return \"cannot be a factorial\"\n",
        "  elif facts ==0:\n",
        "    return \"1\"\n",
        "  else:\n",
        "    Q_Equ = \"\"\n",
        "    Q_3_total= 1\n",
        "    for Q_3 in range(1, facts +1):\n",
        "      Q_3_total *= Q_3\n",
        "      if Q_3== 1:\n",
        "        Q_Equ += f\"{Q_3}\"\n",
        "      else:\n",
        "        Q_Equ += f\" * {Q_3}\"\n",
        "    Q_Equ= f\"{facts}= {Q_Equ} = {Q_3_total}\"\n",
        "    return Q_Equ\n"
      ],
      "metadata": {
        "id": "_r9D5uquWyJ0"
      },
      "execution_count": 37,
      "outputs": []
    },
    {
      "cell_type": "code",
      "source": [
        "facts= 9\n",
        "Q_Equ= factorial(facts)\n",
        "print(Q_Equ)"
      ],
      "metadata": {
        "colab": {
          "base_uri": "https://localhost:8080/"
        },
        "id": "jNIWvB_3Wz1W",
        "outputId": "8f472b4a-8f98-4d7f-e3fa-4ef041869772"
      },
      "execution_count": 38,
      "outputs": [
        {
          "output_type": "stream",
          "name": "stdout",
          "text": [
            "9= 1 * 2 * 3 * 4 * 5 * 6 * 7 * 8 * 9 = 362880\n"
          ]
        }
      ]
    },
    {
      "cell_type": "markdown",
      "source": [
        "##Q4##"
      ],
      "metadata": {
        "id": "zZRpvNVxE728"
      }
    },
    {
      "cell_type": "code",
      "source": [
        "def string_length(string123):\n",
        "  count=0\n",
        "  for s in string123:\n",
        "    count += 1\n",
        "  return count\n",
        "\n"
      ],
      "metadata": {
        "id": "_r_iYEPXEUsB"
      },
      "execution_count": 13,
      "outputs": []
    },
    {
      "cell_type": "code",
      "source": [
        "counter_of_string= \"I hope this is right\"\n",
        "L= string_length(counter_of_string)\n",
        "print(\"the count is \", L)"
      ],
      "metadata": {
        "colab": {
          "base_uri": "https://localhost:8080/"
        },
        "id": "6_WAIRsxFnv-",
        "outputId": "77af80ad-6691-4a1f-f9cf-666b8ba81814"
      },
      "execution_count": 15,
      "outputs": [
        {
          "output_type": "stream",
          "name": "stdout",
          "text": [
            "the count is  20\n"
          ]
        }
      ]
    },
    {
      "cell_type": "code",
      "source": [],
      "metadata": {
        "id": "IuCFJa0VGAP2"
      },
      "execution_count": null,
      "outputs": []
    },
    {
      "cell_type": "markdown",
      "source": [
        "# **Q5**"
      ],
      "metadata": {
        "id": "WZ27x1eqGz0U"
      }
    },
    {
      "cell_type": "code",
      "source": [
        "def is_prime(probably_prime):\n",
        "  if probably_prime <= 1 :\n",
        "    return \"this number is not prime\"\n",
        "  elif probably_prime %2==0 or probably_prime %3 ==0:\n",
        "    return \"this is not prime\"\n",
        "  else:\n",
        "    return \"this is prime\"\n",
        "\n",
        "\n",
        "q5_num=7\n",
        "q5= is_prime(q5_num)\n",
        "print(f\":{q5_num} {q5}\")"
      ],
      "metadata": {
        "colab": {
          "base_uri": "https://localhost:8080/"
        },
        "id": "75eM75JPG2M8",
        "outputId": "09868afe-78f1-4629-cac1-04d07298110c"
      },
      "execution_count": 29,
      "outputs": [
        {
          "output_type": "stream",
          "name": "stdout",
          "text": [
            ":7 this is prime\n"
          ]
        }
      ]
    },
    {
      "cell_type": "code",
      "source": [],
      "metadata": {
        "id": "dE29xOsBHYjq"
      },
      "execution_count": null,
      "outputs": []
    },
    {
      "cell_type": "markdown",
      "source": [
        "## Q6"
      ],
      "metadata": {
        "id": "G6pwx9UwJiX1"
      }
    },
    {
      "cell_type": "code",
      "source": [
        "def unique_elements(Q6):\n",
        "  unq_lst=[]\n",
        "  for q in Q6:\n",
        "    if q not in unq_lst:\n",
        "      unq_lst.append(q)\n",
        "  return unq_lst"
      ],
      "metadata": {
        "id": "Ahf7p1V5JkKP"
      },
      "execution_count": 7,
      "outputs": []
    },
    {
      "cell_type": "code",
      "source": [
        "Q6_list=[2,2,3,3,4,4,55,55,66,66,1,2,3,4,5,6,7,8,9]\n",
        "Q6final=unique_elements(Q6_list)\n",
        "print(Q6final)"
      ],
      "metadata": {
        "colab": {
          "base_uri": "https://localhost:8080/"
        },
        "id": "HZfJlemDw9U8",
        "outputId": "87c1bfd0-9fe8-49b2-845d-f1939640fd04"
      },
      "execution_count": 8,
      "outputs": [
        {
          "output_type": "stream",
          "name": "stdout",
          "text": [
            "[2, 3, 4, 55, 66, 1, 5, 6, 7, 8, 9]\n"
          ]
        }
      ]
    },
    {
      "cell_type": "code",
      "source": [],
      "metadata": {
        "id": "JKVUla9l0EgC"
      },
      "execution_count": null,
      "outputs": []
    }
  ]
}