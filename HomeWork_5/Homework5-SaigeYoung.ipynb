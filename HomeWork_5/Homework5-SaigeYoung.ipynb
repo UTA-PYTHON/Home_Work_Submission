{
 "cells": [
  {
   "cell_type": "markdown",
   "id": "7d56df3d",
   "metadata": {},
   "source": [
    "# Questions"
   ]
  },
  {
   "cell_type": "markdown",
   "id": "50ac7df5",
   "metadata": {},
   "source": [
    "## 1.Write a function named add that takes two numbers as arguments and returns their sum."
   ]
  },
  {
   "cell_type": "code",
   "execution_count": 3,
   "id": "abfed254",
   "metadata": {},
   "outputs": [
    {
     "name": "stdout",
     "output_type": "stream",
     "text": [
      "10\n"
     ]
    }
   ],
   "source": [
    "def add (num_1, num_2):\n",
    "    result=num_1+num_2\n",
    "    return result\n",
    "\n",
    "numb1=4\n",
    "numb2=6\n",
    "result_sum=add(numb1, numb2)\n",
    "print(result_sum)"
   ]
  },
  {
   "cell_type": "markdown",
   "id": "9e7b62b6",
   "metadata": {},
   "source": [
    "## 2. Write a function named average that takes a list of numbers and returns their average."
   ]
  },
  {
   "cell_type": "code",
   "execution_count": 4,
   "id": "3ee3f860",
   "metadata": {},
   "outputs": [],
   "source": [
    "def average(numbs):\n",
    "    total=sum(numbs)\n",
    "    avg=total/len(numbs)\n",
    "    return avg"
   ]
  },
  {
   "cell_type": "code",
   "execution_count": 5,
   "id": "c296c0c9",
   "metadata": {},
   "outputs": [
    {
     "name": "stdout",
     "output_type": "stream",
     "text": [
      "31.833333333333332\n"
     ]
    }
   ],
   "source": [
    "numb_list=[4,74,56,34,22,1]\n",
    "result_avg=average(numb_list)\n",
    "print(result_avg)"
   ]
  },
  {
   "cell_type": "markdown",
   "id": "e9801533",
   "metadata": {},
   "source": [
    "## 3.Write a function named factorial that calculates the factorial of a given number. The factorial of a number n is the product of all positive integers less than or equal to n. For example, the factorial of 5 is 5*4*3*2*1=120"
   ]
  },
  {
   "cell_type": "code",
   "execution_count": 10,
   "id": "faeb9bd6",
   "metadata": {},
   "outputs": [
    {
     "name": "stdout",
     "output_type": "stream",
     "text": [
      "40320\n"
     ]
    }
   ],
   "source": [
    "def factorial(n):\n",
    "    result=1\n",
    "    for i in range(1, n+1):\n",
    "        result *=i\n",
    "    return result\n",
    "\n",
    "numb=8\n",
    "result_factor=factorial(numb)\n",
    "print(result_factor)"
   ]
  },
  {
   "cell_type": "markdown",
   "id": "d24c12dc",
   "metadata": {},
   "source": [
    "## 4.Write a function named string_length that takes a string and returns its length without using the built-in len() function."
   ]
  },
  {
   "cell_type": "code",
   "execution_count": 16,
   "id": "2b3744f2",
   "metadata": {},
   "outputs": [
    {
     "name": "stdout",
     "output_type": "stream",
     "text": [
      "18\n"
     ]
    }
   ],
   "source": [
    "def string_length(enter_stri):\n",
    "    num=0\n",
    "    for char in enter_stri:\n",
    "        num+=1\n",
    "    return num\n",
    "numbs=\"894651323203035564\"\n",
    "num_numbs=string_length(numbs)\n",
    "print(num_numbs)"
   ]
  },
  {
   "cell_type": "markdown",
   "id": "13edd275",
   "metadata": {},
   "source": [
    "## 5. Write a function named is_prime that checks if a given number is prime. A prime number is a natural number greater than 1 that is not a product of two smaller natural numbers. The function should return True if the number is prime, otherwise False."
   ]
  },
  {
   "cell_type": "code",
   "execution_count": 26,
   "id": "60511805",
   "metadata": {},
   "outputs": [
    {
     "name": "stdout",
     "output_type": "stream",
     "text": [
      "True\n"
     ]
    }
   ],
   "source": [
    "def is_prime(numbs):\n",
    "    if numbs<=1:\n",
    "        return False\n",
    "    for i in range(2, int(numbs**.5)+1):\n",
    "        if numbs %i==0:\n",
    "            return False\n",
    "    return True\n",
    "\n",
    "num=19\n",
    "prim_num=is_prime(num)\n",
    "print(prim_num)\n"
   ]
  },
  {
   "cell_type": "markdown",
   "id": "b9df32c0",
   "metadata": {},
   "source": [
    "## 6. Write a function named unique_elements that takes a list as an argument and returns a list of its unique elements in the order they were first encountered."
   ]
  },
  {
   "cell_type": "code",
   "execution_count": 31,
   "id": "ea40aa14",
   "metadata": {},
   "outputs": [
    {
     "name": "stdout",
     "output_type": "stream",
     "text": [
      "[6, 5, 2, 98, 78]\n"
     ]
    }
   ],
   "source": [
    "def unique_elements(enter_list):\n",
    "    uni_list=[]\n",
    "    for num in enter_list:\n",
    "        if num not in uni_list:\n",
    "            uni_list.append(num)\n",
    "    return uni_list\n",
    "\n",
    "_list=[6,5,5,2,2,5,98,78]\n",
    "results=unique_elements(_list)\n",
    "print(results)"
   ]
  },
  {
   "cell_type": "code",
   "execution_count": null,
   "id": "9d375e47",
   "metadata": {},
   "outputs": [],
   "source": []
  }
 ],
 "metadata": {
  "kernelspec": {
   "display_name": "Python 3 (ipykernel)",
   "language": "python",
   "name": "python3"
  },
  "language_info": {
   "codemirror_mode": {
    "name": "ipython",
    "version": 3
   },
   "file_extension": ".py",
   "mimetype": "text/x-python",
   "name": "python",
   "nbconvert_exporter": "python",
   "pygments_lexer": "ipython3",
   "version": "3.11.4"
  }
 },
 "nbformat": 4,
 "nbformat_minor": 5
}
