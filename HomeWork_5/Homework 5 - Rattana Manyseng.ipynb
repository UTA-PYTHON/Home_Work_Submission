{
 "cells": [
  {
   "cell_type": "markdown",
   "id": "f172251e",
   "metadata": {},
   "source": [
    "## 1. Write a function named add that takes two numbers as arguments and returns their sum."
   ]
  },
  {
   "cell_type": "code",
   "execution_count": 5,
   "id": "37b6c4ac",
   "metadata": {},
   "outputs": [],
   "source": [
    "def add (first, second):\n",
    "    nums_between = range(first, second + 1)\n",
    "    return sum(nums_between)"
   ]
  },
  {
   "cell_type": "code",
   "execution_count": 6,
   "id": "68ff95b7",
   "metadata": {},
   "outputs": [
    {
     "name": "stdout",
     "output_type": "stream",
     "text": [
      "Enter first integer: 1\n",
      "Enter second integer: 2\n",
      "3\n"
     ]
    }
   ],
   "source": [
    "first_integer = int(input(\"Enter first integer: \")) \n",
    "second_integer = int(input(\"Enter second integer: \"))\n",
    "\n",
    "print(add(first_integer, second_integer))"
   ]
  },
  {
   "cell_type": "markdown",
   "id": "503e562e",
   "metadata": {},
   "source": [
    "## 2. Write a function named average that takes a list of numbers and returns their average."
   ]
  },
  {
   "cell_type": "code",
   "execution_count": 11,
   "id": "2f4c7dba",
   "metadata": {},
   "outputs": [
    {
     "name": "stdout",
     "output_type": "stream",
     "text": [
      "Average for [97, 81, 82, 89] is = 87.25\n",
      "Average for [77, 78] is = 77.5\n",
      "Average for [89, 85, 100] is = 91.33333333333333\n",
      "Average for [65, 45, 0] is = 36.666666666666664\n"
     ]
    }
   ],
   "source": [
    "def average(grades):\n",
    "    for grade in grades:\n",
    "        avg = 0\n",
    "        for num in grade:\n",
    "            avg += num\n",
    "\n",
    "        avg = avg / len(grade)\n",
    "\n",
    "        print (\"Average for \" + str(grade) + \" is = \" + str(avg))\n",
    "\n",
    "if __name__ == '__main__':\n",
    "    grades = [[97,81,82,89],[77,78],[89,85,100],[65,45,0]]    \n",
    "    average(grades)"
   ]
  },
  {
   "cell_type": "markdown",
   "id": "f931a800",
   "metadata": {},
   "source": [
    "## 3. Write a function named factorial that calculates the factorial of a given number. The factorial of a number n is the product of all positive integers less than or equal to n. For example, the factorial of 5 is 5*4*3*2*1=120"
   ]
  },
  {
   "cell_type": "code",
   "execution_count": 16,
   "id": "d6620282",
   "metadata": {},
   "outputs": [],
   "source": [
    "def number_factorial(n):\n",
    "    factorial = 1\n",
    "    for i in range(1, n + 1):\n",
    "        factorial *= i\n",
    "    return factorial"
   ]
  },
  {
   "cell_type": "code",
   "execution_count": 17,
   "id": "fa7d0a15",
   "metadata": {},
   "outputs": [
    {
     "data": {
      "text/plain": [
       "120"
      ]
     },
     "execution_count": 17,
     "metadata": {},
     "output_type": "execute_result"
    }
   ],
   "source": [
    "number_factorial(5)"
   ]
  },
  {
   "cell_type": "markdown",
   "id": "af7608db",
   "metadata": {},
   "source": [
    "## 4. Write a function named string_length that takes a string and returns its length without using the built-in len() function."
   ]
  },
  {
   "cell_type": "code",
   "execution_count": 3,
   "id": "ad87c997",
   "metadata": {},
   "outputs": [
    {
     "name": "stdout",
     "output_type": "stream",
     "text": [
      "Enter a string:Hello how are you?\n",
      "18\n"
     ]
    }
   ],
   "source": [
    "string_length=input(\"Enter a string:\")\n",
    "a=0\n",
    "for letter in string_length:\n",
    "  a=a+1\n",
    "print(a)"
   ]
  },
  {
   "cell_type": "markdown",
   "id": "31d63ca9",
   "metadata": {},
   "source": [
    "## 5. Write a function named is_prime that checks if a given number is prime. A prime number is a natural number greater than 1 that is not a product of two smaller natural numbers. The function should return True if the number is prime, otherwise False."
   ]
  },
  {
   "cell_type": "code",
   "execution_count": 4,
   "id": "ee54b891",
   "metadata": {},
   "outputs": [
    {
     "name": "stdout",
     "output_type": "stream",
     "text": [
      "Enter a number: 3\n",
      "Number is prime\n"
     ]
    }
   ],
   "source": [
    "num = int(input(\"Enter a number: \"))\n",
    "\n",
    "is_prime = False\n",
    "\n",
    "if num > 1:\n",
    "    for i in range(2, num):\n",
    "        if (num % i) == 0:\n",
    "            is_prime = True\n",
    "            break\n",
    "\n",
    "if is_prime:\n",
    "    print(\"Number is not prime\")\n",
    "\n",
    "else:\n",
    "    print(\"Number is prime\")"
   ]
  },
  {
   "cell_type": "markdown",
   "id": "9e1769a0",
   "metadata": {},
   "source": [
    "## 6. Write a function named unique_elements that takes a list as an argument and returns a list of its unique elements in the order they were first encountered."
   ]
  },
  {
   "cell_type": "code",
   "execution_count": 9,
   "id": "c39461e9",
   "metadata": {},
   "outputs": [
    {
     "name": "stdout",
     "output_type": "stream",
     "text": [
      "{'cherries', 'cookies', 'bananas', 'milk', 'napkins'}\n"
     ]
    }
   ],
   "source": [
    "groccery_list = ['bananas','cherries','milk','milk','napkins','cookies']\n",
    "unique_elements = {element for element in groccery_list}\n",
    "print(unique_elements)"
   ]
  }
 ],
 "metadata": {
  "kernelspec": {
   "display_name": "Python 3 (ipykernel)",
   "language": "python",
   "name": "python3"
  },
  "language_info": {
   "codemirror_mode": {
    "name": "ipython",
    "version": 3
   },
   "file_extension": ".py",
   "mimetype": "text/x-python",
   "name": "python",
   "nbconvert_exporter": "python",
   "pygments_lexer": "ipython3",
   "version": "3.11.4"
  }
 },
 "nbformat": 4,
 "nbformat_minor": 5
}
