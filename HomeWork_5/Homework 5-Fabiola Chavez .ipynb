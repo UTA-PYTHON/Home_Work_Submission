{
 "cells": [
  {
   "cell_type": "markdown",
   "id": "33ecfa8c",
   "metadata": {},
   "source": [
    "# Homework 5"
   ]
  },
  {
   "cell_type": "markdown",
   "id": "a6a852b6",
   "metadata": {},
   "source": [
    "### 1. Write a function named add that takes two numbers as arguments and returns their sum "
   ]
  },
  {
   "cell_type": "code",
   "execution_count": 2,
   "id": "da3f5743",
   "metadata": {},
   "outputs": [],
   "source": [
    "def add(a,b):\n",
    "    return a+b"
   ]
  },
  {
   "cell_type": "code",
   "execution_count": 3,
   "id": "2e2819d1",
   "metadata": {},
   "outputs": [
    {
     "data": {
      "text/plain": [
       "3"
      ]
     },
     "execution_count": 3,
     "metadata": {},
     "output_type": "execute_result"
    }
   ],
   "source": [
    "add(1,2)"
   ]
  },
  {
   "cell_type": "markdown",
   "id": "89add413",
   "metadata": {},
   "source": [
    "### 2. Write a function named average that takes a list of numbers and returns their average "
   ]
  },
  {
   "cell_type": "code",
   "execution_count": 4,
   "id": "fb193e4e",
   "metadata": {},
   "outputs": [],
   "source": [
    "def average(*nums):\n",
    "    for num in nums:\n",
    "        avg= sum(nums)/len(nums)\n",
    "        return avg"
   ]
  },
  {
   "cell_type": "code",
   "execution_count": 5,
   "id": "c560b4e4",
   "metadata": {},
   "outputs": [
    {
     "data": {
      "text/plain": [
       "4.0"
      ]
     },
     "execution_count": 5,
     "metadata": {},
     "output_type": "execute_result"
    }
   ],
   "source": [
    "average(1,2,3,4,5,6,7)"
   ]
  },
  {
   "cell_type": "markdown",
   "id": "53e67f9a",
   "metadata": {},
   "source": [
    "### 3. Write a function named factorial that calculates the factorial of a given number. The factorial of a number n is the product of all positive integers less than or equal to n. For example, the factorial of 5 is 5*4*3*2*1=120"
   ]
  },
  {
   "cell_type": "code",
   "execution_count": 58,
   "id": "305b5121",
   "metadata": {},
   "outputs": [],
   "source": [
    "def factorial(a):\n",
    "    fact = 1\n",
    "    for i in range (1,a+1):\n",
    "        fact *= i\n",
    "    return f\"{i}!={fact}\""
   ]
  },
  {
   "cell_type": "code",
   "execution_count": 59,
   "id": "df184597",
   "metadata": {},
   "outputs": [
    {
     "data": {
      "text/plain": [
       "'5!=120'"
      ]
     },
     "execution_count": 59,
     "metadata": {},
     "output_type": "execute_result"
    }
   ],
   "source": [
    "factorial(5)"
   ]
  },
  {
   "cell_type": "markdown",
   "id": "a84e9eb3",
   "metadata": {},
   "source": [
    "### 4. Write a function named string_length that takes a string and returns its length without using the built-in len() function"
   ]
  },
  {
   "cell_type": "code",
   "execution_count": 17,
   "id": "f658cff6",
   "metadata": {},
   "outputs": [],
   "source": [
    "def string_length(string):\n",
    "    count =0\n",
    "    for s in string:\n",
    "        count +=1\n",
    "    return count"
   ]
  },
  {
   "cell_type": "code",
   "execution_count": 19,
   "id": "3fe48130",
   "metadata": {},
   "outputs": [
    {
     "data": {
      "text/plain": [
       "9"
      ]
     },
     "execution_count": 19,
     "metadata": {},
     "output_type": "execute_result"
    }
   ],
   "source": [
    "string_length(\"Happiness\")"
   ]
  },
  {
   "cell_type": "markdown",
   "id": "65038157",
   "metadata": {},
   "source": [
    "### 5. Write a function named is_prime that checks if a given number is prime. A prime number is a natural number greater than 1 that is not a product of two smaller natural numbers. The function should return True if the number is prime, otherwise False."
   ]
  },
  {
   "cell_type": "code",
   "execution_count": 111,
   "id": "2350083c",
   "metadata": {},
   "outputs": [],
   "source": [
    "def is_prime(a):\n",
    "    if a < 2:\n",
    "        return \"false\"\n",
    "    for i in range(2,a):\n",
    "        if a%i == 0:\n",
    "            return \"false\"\n",
    "    return \"true\"         "
   ]
  },
  {
   "cell_type": "code",
   "execution_count": 113,
   "id": "754ae14f",
   "metadata": {},
   "outputs": [
    {
     "data": {
      "text/plain": [
       "'true'"
      ]
     },
     "execution_count": 113,
     "metadata": {},
     "output_type": "execute_result"
    }
   ],
   "source": [
    "is_prime(47)"
   ]
  },
  {
   "cell_type": "markdown",
   "id": "7d82ba02",
   "metadata": {},
   "source": [
    "### 6. Write a function named unique_elements that takes a list as an argument and returns a list of its unique elements in the order they were first encountered."
   ]
  },
  {
   "cell_type": "code",
   "execution_count": 114,
   "id": "72425438",
   "metadata": {},
   "outputs": [],
   "source": [
    "def unique_elements(*nums):\n",
    "    unique_ls=[]  \n",
    "    for i in nums:\n",
    "        if i not in unique_ls:\n",
    "            unique_ls.append(i)\n",
    "    return unique_ls\n",
    "    "
   ]
  },
  {
   "cell_type": "code",
   "execution_count": 115,
   "id": "eed2371a",
   "metadata": {},
   "outputs": [
    {
     "data": {
      "text/plain": [
       "[1, 3, 4, 5, 6, 8, 9, 2]"
      ]
     },
     "execution_count": 115,
     "metadata": {},
     "output_type": "execute_result"
    }
   ],
   "source": [
    "unique_elements(1,3,4,5,6,8,8,9,1,2,3)"
   ]
  }
 ],
 "metadata": {
  "kernelspec": {
   "display_name": "Python 3 (ipykernel)",
   "language": "python",
   "name": "python3"
  },
  "language_info": {
   "codemirror_mode": {
    "name": "ipython",
    "version": 3
   },
   "file_extension": ".py",
   "mimetype": "text/x-python",
   "name": "python",
   "nbconvert_exporter": "python",
   "pygments_lexer": "ipython3",
   "version": "3.11.4"
  }
 },
 "nbformat": 4,
 "nbformat_minor": 5
}
