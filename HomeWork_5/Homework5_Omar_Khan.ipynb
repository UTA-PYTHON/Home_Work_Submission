{
  "nbformat": 4,
  "nbformat_minor": 0,
  "metadata": {
    "colab": {
      "provenance": []
    },
    "kernelspec": {
      "name": "python3",
      "display_name": "Python 3"
    },
    "language_info": {
      "name": "python"
    }
  },
  "cells": [
    {
      "cell_type": "markdown",
      "source": [
        "1.Write a function named add that takes two numbers as arguments and returns their sum.\n",
        "\n"
      ],
      "metadata": {
        "id": "hiiHkl9T-GrF"
      }
    },
    {
      "cell_type": "code",
      "source": [
        "def add(num1, num2):\n",
        "    result = num1 + num2\n",
        "    return result\n",
        "\n",
        "num1 = 5\n",
        "num2 = 7\n",
        "result = add(num1, num2)\n",
        "print(\"Sum:\", result)\n"
      ],
      "metadata": {
        "colab": {
          "base_uri": "https://localhost:8080/"
        },
        "id": "m44oYj2f-IEP",
        "outputId": "66273ed2-a4b2-483d-d4db-8fcdd0f2c357"
      },
      "execution_count": 5,
      "outputs": [
        {
          "output_type": "stream",
          "name": "stdout",
          "text": [
            "Sum: 12\n"
          ]
        }
      ]
    },
    {
      "cell_type": "markdown",
      "source": [
        "2.Write a function named average that takes a list of numbers and returns their average.\n"
      ],
      "metadata": {
        "id": "m6FJfmcz-IQo"
      }
    },
    {
      "cell_type": "code",
      "source": [
        "def average(numbers):\n",
        "    if len(numbers) == 0:\n",
        "        return 0\n",
        "\n",
        "    total = sum(numbers)\n",
        "    average = total / len(numbers)\n",
        "    return average\n",
        "\n",
        "\n",
        "number_list = [4, 7, 9, 12, 5]\n",
        "result = average(number_list)\n",
        "print(\"Average:\", result)\n"
      ],
      "metadata": {
        "colab": {
          "base_uri": "https://localhost:8080/"
        },
        "id": "_f09OVkw-IZd",
        "outputId": "213f7b98-c466-4b25-9d01-77ed37cd8d9b"
      },
      "execution_count": 6,
      "outputs": [
        {
          "output_type": "stream",
          "name": "stdout",
          "text": [
            "Average: 7.4\n"
          ]
        }
      ]
    },
    {
      "cell_type": "markdown",
      "source": [
        "3.Write a function named factorial that calculates the factorial of a given number. The factorial of a number n is the product of all positive integers less than or equal to n. For example, the factorial of 5 is 5*4*3*2*1=120"
      ],
      "metadata": {
        "id": "ELCnOqqA-IhI"
      }
    },
    {
      "cell_type": "code",
      "source": [
        "def factorial(n):\n",
        "    if n == 0:\n",
        "        return 1\n",
        "    else:\n",
        "        return n * factorial(n - 1)\n",
        "\n",
        "\n",
        "number = 5\n",
        "result = factorial(number)\n",
        "print(f\"Factorial of {number} is {result}\")\n"
      ],
      "metadata": {
        "colab": {
          "base_uri": "https://localhost:8080/"
        },
        "id": "CydhZNFn-IpY",
        "outputId": "0d78c1c4-e100-4a6c-b880-28b08e7d6177"
      },
      "execution_count": 7,
      "outputs": [
        {
          "output_type": "stream",
          "name": "stdout",
          "text": [
            "Factorial of 5 is 120\n"
          ]
        }
      ]
    },
    {
      "cell_type": "markdown",
      "source": [
        "4.Write a function named string_length that takes a string and returns its length without using the built-in len() function."
      ],
      "metadata": {
        "id": "rnYpGC4r-IxL"
      }
    },
    {
      "cell_type": "code",
      "source": [
        "def string_length(input_string):\n",
        "    count = 0\n",
        "    for char in input_string:\n",
        "        count += 1\n",
        "    return count\n",
        "\n",
        "input_string = \"Hello\"\n",
        "length = string_length(input_string)\n",
        "print(\"Length of the string:\", length)\n"
      ],
      "metadata": {
        "colab": {
          "base_uri": "https://localhost:8080/"
        },
        "id": "DJJvAPg0-JpK",
        "outputId": "2b52cf42-9bb1-41a9-a6a6-8747dfbddc8d"
      },
      "execution_count": 9,
      "outputs": [
        {
          "output_type": "stream",
          "name": "stdout",
          "text": [
            "Length of the string: 5\n"
          ]
        }
      ]
    },
    {
      "cell_type": "markdown",
      "source": [
        "5.Write a function named is_prime that checks if a given number is prime. A prime number is a natural number greater than 1 that is not a product of two smaller natural numbers. The function should return True if the number is prime, otherwise False."
      ],
      "metadata": {
        "id": "AeIzhhPL-J0S"
      }
    },
    {
      "cell_type": "code",
      "source": [
        "def is_prime(number):\n",
        "    if number <= 1:\n",
        "        return False\n",
        "\n",
        "    for i in range(2, int(number ** 0.5) + 1):\n",
        "        if number % i == 0:\n",
        "            return False\n",
        "\n",
        "    return True\n",
        "\n",
        "\n",
        "num = 17\n",
        "result = is_prime(num)\n",
        "if result:\n",
        "    print(f\"{num} is a prime number.\")\n",
        "else:\n",
        "    print(f\"{num} is not a prime number.\")\n"
      ],
      "metadata": {
        "colab": {
          "base_uri": "https://localhost:8080/"
        },
        "id": "6yrCpUNq_sI2",
        "outputId": "0382e475-41c6-4db0-b925-60ee0bef6891"
      },
      "execution_count": 10,
      "outputs": [
        {
          "output_type": "stream",
          "name": "stdout",
          "text": [
            "17 is a prime number.\n"
          ]
        }
      ]
    },
    {
      "cell_type": "markdown",
      "source": [
        "6.Write a function named unique_elements that takes a list as an argument and returns a list of its unique elements in the order they were first encountered.\n"
      ],
      "metadata": {
        "id": "hcI4NxB4_sZc"
      }
    },
    {
      "cell_type": "code",
      "source": [
        "def unique_elements(input_list):\n",
        "    unique_list = []\n",
        "    seen_elements = set()\n",
        "\n",
        "    for item in input_list:\n",
        "        if item not in seen_elements:\n",
        "            unique_list.append(item)\n",
        "            seen_elements.add(item)\n",
        "\n",
        "    return unique_list\n",
        "\n",
        "my_list = [3, 1, 2, 2, 1, 4, 5, 3, 6]\n",
        "unique_result = unique_elements(my_list)\n",
        "print(\"Unique Elements:\", unique_result)\n"
      ],
      "metadata": {
        "colab": {
          "base_uri": "https://localhost:8080/"
        },
        "id": "RD3hcnop_sjs",
        "outputId": "4ca38e0f-932a-461d-c250-36bf76c726ac"
      },
      "execution_count": 11,
      "outputs": [
        {
          "output_type": "stream",
          "name": "stdout",
          "text": [
            "Unique Elements: [3, 1, 2, 4, 5, 6]\n"
          ]
        }
      ]
    }
  ]
}