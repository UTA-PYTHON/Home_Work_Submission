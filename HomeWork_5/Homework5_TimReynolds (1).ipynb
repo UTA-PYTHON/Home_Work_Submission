{
  "nbformat": 4,
  "nbformat_minor": 0,
  "metadata": {
    "colab": {
      "provenance": []
    },
    "kernelspec": {
      "name": "python3",
      "display_name": "Python 3"
    },
    "language_info": {
      "name": "python"
    }
  },
  "cells": [
    {
      "cell_type": "markdown",
      "source": [
        "# Homework 5\n",
        "### Tim Reynolds"
      ],
      "metadata": {
        "id": "loOrb9M3JwTu"
      }
    },
    {
      "cell_type": "code",
      "execution_count": null,
      "metadata": {
        "id": "LJYvAoz6JpkZ"
      },
      "outputs": [],
      "source": [
        "# 1.\n",
        "def add(a,b):\n",
        "  sum = a + b\n",
        "  return sum"
      ]
    },
    {
      "cell_type": "code",
      "source": [
        "add(5,10)"
      ],
      "metadata": {
        "colab": {
          "base_uri": "https://localhost:8080/"
        },
        "id": "oSWPwpvCKMXL",
        "outputId": "39f56e79-007a-47e7-bcf6-cacae0bb482d"
      },
      "execution_count": null,
      "outputs": [
        {
          "output_type": "execute_result",
          "data": {
            "text/plain": [
              "15"
            ]
          },
          "metadata": {},
          "execution_count": 8
        }
      ]
    },
    {
      "cell_type": "code",
      "source": [
        "# 2.\n",
        "def average(list):\n",
        "  avg = sum(list)/len(list)\n",
        "  return avg"
      ],
      "metadata": {
        "id": "zZ0tq84JKQGp"
      },
      "execution_count": null,
      "outputs": []
    },
    {
      "cell_type": "code",
      "source": [
        "list = [3,444,888,93,21,69]\n",
        "average(list)"
      ],
      "metadata": {
        "colab": {
          "base_uri": "https://localhost:8080/"
        },
        "id": "9L5ct7T_MaPT",
        "outputId": "67a54938-6d5a-451f-bc8f-9ed21a774961"
      },
      "execution_count": null,
      "outputs": [
        {
          "output_type": "execute_result",
          "data": {
            "text/plain": [
              "253.0"
            ]
          },
          "metadata": {},
          "execution_count": 21
        }
      ]
    },
    {
      "cell_type": "code",
      "source": [
        "# 3.\n",
        "def factorial(number):\n",
        "  sum = number\n",
        "  while number > 1:\n",
        "    number = number - 1\n",
        "    sum = number * sum\n",
        "  print(\"Factorial is \", sum)"
      ],
      "metadata": {
        "id": "wrix2iYZMvZF"
      },
      "execution_count": null,
      "outputs": []
    },
    {
      "cell_type": "code",
      "source": [
        "factorial(5)"
      ],
      "metadata": {
        "colab": {
          "base_uri": "https://localhost:8080/"
        },
        "id": "sHNSCi-IOvae",
        "outputId": "82fd0546-75f1-430c-87ac-69604ee377a7"
      },
      "execution_count": null,
      "outputs": [
        {
          "output_type": "stream",
          "name": "stdout",
          "text": [
            "Factorial is  120\n"
          ]
        }
      ]
    },
    {
      "cell_type": "code",
      "source": [
        "# 4.\n",
        "def string_length(string):\n",
        "  cnt = 0\n",
        "  for i in string:\n",
        "    cnt += 1\n",
        "  print(\"Length is \",cnt)"
      ],
      "metadata": {
        "id": "mkleRDm4O2dN"
      },
      "execution_count": null,
      "outputs": []
    },
    {
      "cell_type": "code",
      "source": [
        "string_length(\"Google\")"
      ],
      "metadata": {
        "colab": {
          "base_uri": "https://localhost:8080/"
        },
        "id": "GHQ7UdrdQaa9",
        "outputId": "bb4dc85b-918f-426f-e53b-378563bb0e6c"
      },
      "execution_count": null,
      "outputs": [
        {
          "output_type": "stream",
          "name": "stdout",
          "text": [
            "Length is  6\n"
          ]
        }
      ]
    },
    {
      "cell_type": "code",
      "source": [
        "# 5.\n",
        "def is_prime(num):\n",
        "  if num > 1:\n",
        "    for i in range(2, int(num/2)+1):\n",
        "      if (num % i) == 0:\n",
        "        print(\"False\")\n",
        "        break\n",
        "    else:\n",
        "        print(\"True\")\n",
        "  else:\n",
        "    print(\"False\")"
      ],
      "metadata": {
        "id": "lZJQwdkkQdaU"
      },
      "execution_count": 3,
      "outputs": []
    },
    {
      "cell_type": "code",
      "source": [
        "is_prime(50)"
      ],
      "metadata": {
        "colab": {
          "base_uri": "https://localhost:8080/"
        },
        "id": "32NauJo1iKR4",
        "outputId": "36d90d93-916a-4947-e863-41a13c4b2384"
      },
      "execution_count": 7,
      "outputs": [
        {
          "output_type": "stream",
          "name": "stdout",
          "text": [
            "False\n"
          ]
        }
      ]
    },
    {
      "cell_type": "code",
      "source": [
        "# 6.\n",
        "def unique_elements(*numbers):\n",
        "  list1 = []\n",
        "\n",
        "  for i in numbers:\n",
        "    if i not in list1:\n",
        "      list1.append(i)\n",
        "\n",
        "  return list1"
      ],
      "metadata": {
        "id": "2kPpzqJWella"
      },
      "execution_count": 8,
      "outputs": []
    },
    {
      "cell_type": "code",
      "source": [
        "unique_elements(5,7,4,3,5,3)"
      ],
      "metadata": {
        "colab": {
          "base_uri": "https://localhost:8080/"
        },
        "id": "vt9GI421hzP9",
        "outputId": "9a4b6a2c-5747-4a73-f5c3-66baf9b4cd13"
      },
      "execution_count": 9,
      "outputs": [
        {
          "output_type": "execute_result",
          "data": {
            "text/plain": [
              "[5, 7, 4, 3]"
            ]
          },
          "metadata": {},
          "execution_count": 9
        }
      ]
    },
    {
      "cell_type": "code",
      "source": [],
      "metadata": {
        "id": "rl4dzGl4h5sq"
      },
      "execution_count": null,
      "outputs": []
    }
  ]
}