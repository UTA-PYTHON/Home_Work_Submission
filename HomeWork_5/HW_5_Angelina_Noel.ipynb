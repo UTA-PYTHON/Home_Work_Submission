{
  "nbformat": 4,
  "nbformat_minor": 0,
  "metadata": {
    "colab": {
      "provenance": []
    },
    "kernelspec": {
      "name": "python3",
      "display_name": "Python 3"
    },
    "language_info": {
      "name": "python"
    }
  },
  "cells": [
    {
      "cell_type": "markdown",
      "source": [
        "1.Write a function named that takes two numbers as arguments and returns their sum."
      ],
      "metadata": {
        "id": "YuDGprzc0kjG"
      }
    },
    {
      "cell_type": "code",
      "source": [
        "def add_numbers(num1,num2):\n",
        "  return num1+num2\n",
        "result = add_numbers(5,7)\n",
        "print(result)"
      ],
      "metadata": {
        "colab": {
          "base_uri": "https://localhost:8080/"
        },
        "id": "1JC_PomW2K39",
        "outputId": "f91fbb8f-4b43-4d83-a5e5-dbdc809e37f3"
      },
      "execution_count": null,
      "outputs": [
        {
          "output_type": "stream",
          "name": "stdout",
          "text": [
            "12\n"
          ]
        }
      ]
    },
    {
      "cell_type": "markdown",
      "source": [
        " 2.Write a function named **average** that takes a list of numbers and returns their average"
      ],
      "metadata": {
        "id": "RVdCC5U703Wv"
      }
    },
    {
      "cell_type": "code",
      "source": [
        "def average(numbers):\n",
        "  if not numbers:\n",
        "    return 0\n",
        "  total=sum(numbers)\n",
        "  return total/len(numbers)\n",
        "\n",
        "number_list=[10,20,30,40,50]\n",
        "result=average(number_list)\n",
        "print(result)"
      ],
      "metadata": {
        "colab": {
          "base_uri": "https://localhost:8080/"
        },
        "id": "T2rNzJ313BA-",
        "outputId": "11eaebd2-99da-43e4-efbd-e2ea7ae76526"
      },
      "execution_count": null,
      "outputs": [
        {
          "output_type": "stream",
          "name": "stdout",
          "text": [
            "30.0\n"
          ]
        }
      ]
    },
    {
      "cell_type": "markdown",
      "source": [
        "3.Write a function named **factorial** that calculates the factorial of a given number. The factorial\n",
        "of a number n is the product of all positive integers less than or equal to n. For example, the\n",
        "factorial of 5 is 5* 4 *3 *2 *1=120\n"
      ],
      "metadata": {
        "id": "YnP9tOsz1Be3"
      }
    },
    {
      "cell_type": "code",
      "source": [
        "def factorial(n):\n",
        "  if n==0:\n",
        "    return 1\n",
        "  else:\n",
        "    result=1\n",
        "    for i in range(1,n+1):\n",
        "      result *= i\n",
        "    return result\n",
        "n=5\n",
        "result=factorial(n)\n",
        "print(f\"The factorial of {n} is {result}\")"
      ],
      "metadata": {
        "colab": {
          "base_uri": "https://localhost:8080/"
        },
        "id": "Z_vVzO5B7Ncy",
        "outputId": "a2edaddb-0f70-4d1e-cb31-a32758729947"
      },
      "execution_count": null,
      "outputs": [
        {
          "output_type": "stream",
          "name": "stdout",
          "text": [
            "The factorial of 5 is 120\n"
          ]
        }
      ]
    },
    {
      "cell_type": "markdown",
      "source": [
        "4.Write a function named **string_length** that takes a string and returns its length without using\n",
        "the built-in len() function"
      ],
      "metadata": {
        "id": "uSObMqiL1NIV"
      }
    },
    {
      "cell_type": "code",
      "source": [
        "def string_length(input_string):\n",
        "  length=0\n",
        "  for _ in input_string:\n",
        "    length += 1\n",
        "  return length"
      ],
      "metadata": {
        "id": "yTx8xmOt_bwJ"
      },
      "execution_count": null,
      "outputs": []
    },
    {
      "cell_type": "markdown",
      "source": [
        "5.Write a function named **is_prime** that checks if a given number is prime. A prime number is a\n",
        "natural number greater than 1 that is not a product of two smaller natural numbers. The function\n",
        "should return True if the number is prime, otherwise False."
      ],
      "metadata": {
        "id": "8dpTVP4L1oQt"
      }
    },
    {
      "cell_type": "code",
      "source": [
        "def is_prime(number):\n",
        "  if number <= 1:\n",
        "    return False\n",
        "  elif number <= 3:\n",
        "    return True\n",
        "  elif number % 2 == 0:\n",
        "    return False\n",
        "  for i in range(3, int(number**0.5)+1,2):\n",
        "    if number % i == 0:\n",
        "      return False\n",
        "  return True\n",
        "num = 17\n",
        "if is_prime(num):\n",
        "  print(f\"{num} is a prime number.\")\n",
        "else:\n",
        "  print(f\"{num} is not a prime number\")"
      ],
      "metadata": {
        "colab": {
          "base_uri": "https://localhost:8080/"
        },
        "id": "spXBMff9QXPY",
        "outputId": "ccb48fe6-a72b-419b-d9a6-4a1280659831"
      },
      "execution_count": null,
      "outputs": [
        {
          "output_type": "stream",
          "name": "stdout",
          "text": [
            "17 is a prime number.\n"
          ]
        }
      ]
    },
    {
      "cell_type": "markdown",
      "source": [
        "6.Write a function named **unique_elements** that takes a list as an argument and returns a list of\n",
        "its unique elements in the order they were first encountered"
      ],
      "metadata": {
        "id": "AVhWGPoP2FXz"
      }
    },
    {
      "cell_type": "code",
      "execution_count": 3,
      "metadata": {
        "id": "-02-vxKCw99m",
        "colab": {
          "base_uri": "https://localhost:8080/"
        },
        "outputId": "31548ef9-7114-4113-a281-2eb26f122b13"
      },
      "outputs": [
        {
          "output_type": "stream",
          "name": "stdout",
          "text": [
            "[1, 2, 3, 4, 5]\n"
          ]
        }
      ],
      "source": [
        "def unique_elements(input_list):\n",
        "  unique_list=[]\n",
        "  seen_elements=set()\n",
        "\n",
        "  for item in input_list:\n",
        "    if item not in seen_elements:\n",
        "      unique_list.append(item)\n",
        "      seen_elements.add(item)\n",
        "  return unique_list\n",
        "\n",
        "input_list=[1,2,2,3,4,4,5]\n",
        "result=unique_elements(input_list)\n",
        "print(result)"
      ]
    },
    {
      "cell_type": "code",
      "source": [],
      "metadata": {
        "id": "iBM7NZBb730j"
      },
      "execution_count": null,
      "outputs": []
    }
  ]
}