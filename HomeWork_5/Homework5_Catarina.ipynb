{
  "nbformat": 4,
  "nbformat_minor": 0,
  "metadata": {
    "colab": {
      "provenance": []
    },
    "kernelspec": {
      "name": "python3",
      "display_name": "Python 3"
    },
    "language_info": {
      "name": "python"
    }
  },
  "cells": [
    {
      "cell_type": "markdown",
      "source": [
        "# **1. Write a function named add that takes two numbers as arguments and returns their sum**"
      ],
      "metadata": {
        "id": "Q2ST_MVQkr4V"
      }
    },
    {
      "cell_type": "code",
      "execution_count": 1,
      "metadata": {
        "id": "VhxmRQxUkZMZ"
      },
      "outputs": [],
      "source": [
        "def add(*number):\n",
        "  result=sum(number)\n",
        "  return result\n"
      ]
    },
    {
      "cell_type": "code",
      "source": [
        "add(1,2)"
      ],
      "metadata": {
        "colab": {
          "base_uri": "https://localhost:8080/"
        },
        "id": "aHwK8x7Fk5iL",
        "outputId": "b92cc6ca-1a83-44e3-e9e8-2f5d5bb13068"
      },
      "execution_count": 2,
      "outputs": [
        {
          "output_type": "execute_result",
          "data": {
            "text/plain": [
              "3"
            ]
          },
          "metadata": {},
          "execution_count": 2
        }
      ]
    },
    {
      "cell_type": "markdown",
      "source": [
        "# **2. Write a function named average that takes a list of numbers and returns their average.**\n"
      ],
      "metadata": {
        "id": "s0iDTG5Tn8ju"
      }
    },
    {
      "cell_type": "code",
      "source": [
        "def average(*list):\n",
        "  count=len(list)\n",
        "  return (sum(list))/count"
      ],
      "metadata": {
        "id": "bqrfFHs3k5mg"
      },
      "execution_count": 7,
      "outputs": []
    },
    {
      "cell_type": "code",
      "source": [
        "average(1,2,3,4,5,6,7)"
      ],
      "metadata": {
        "colab": {
          "base_uri": "https://localhost:8080/"
        },
        "id": "k2gqLKYanMHC",
        "outputId": "76e8bf31-713a-46b2-ffaa-c70bec14d8cc"
      },
      "execution_count": 8,
      "outputs": [
        {
          "output_type": "execute_result",
          "data": {
            "text/plain": [
              "4.0"
            ]
          },
          "metadata": {},
          "execution_count": 8
        }
      ]
    },
    {
      "cell_type": "markdown",
      "source": [
        "# **3. Write a function named factorial that calculates the factorial of a given number.**\n",
        "The factorial  of a number n is the product of all positive integers less than or equal to n. For example, the\n",
        "factorial of 5 is 5* 4* 3* 2* 1=120"
      ],
      "metadata": {
        "id": "GjL1CJ34oDpe"
      }
    },
    {
      "cell_type": "code",
      "source": [
        "def factorial(n):\n",
        "  if n == 0:\n",
        "    return 1\n",
        "  else:\n",
        "    return n * factorial(n-1)\n"
      ],
      "metadata": {
        "id": "gptf4MlioQ5H"
      },
      "execution_count": 14,
      "outputs": []
    },
    {
      "cell_type": "code",
      "source": [
        "factorial(4)"
      ],
      "metadata": {
        "colab": {
          "base_uri": "https://localhost:8080/"
        },
        "id": "I57yEs3auXNZ",
        "outputId": "b6c61fba-2312-415f-8181-1acc1b4fd76c"
      },
      "execution_count": 13,
      "outputs": [
        {
          "output_type": "execute_result",
          "data": {
            "text/plain": [
              "24"
            ]
          },
          "metadata": {},
          "execution_count": 13
        }
      ]
    },
    {
      "cell_type": "markdown",
      "source": [
        "# **4. Write a function named string_length that takes a string and returns its length without using the built-in len() function**"
      ],
      "metadata": {
        "id": "zK1Y2f0LwWjp"
      }
    },
    {
      "cell_type": "code",
      "source": [
        "def string_length(word):\n",
        "  count = 0\n",
        "  for letter in word:\n",
        "    count += 1\n",
        "  return count"
      ],
      "metadata": {
        "id": "gjw963n1uXWy"
      },
      "execution_count": 15,
      "outputs": []
    },
    {
      "cell_type": "code",
      "source": [
        "string_length(\"Biology\")"
      ],
      "metadata": {
        "colab": {
          "base_uri": "https://localhost:8080/"
        },
        "id": "qSD1plHowlmO",
        "outputId": "ccb430c6-0ca2-42f0-dfff-47397663f339"
      },
      "execution_count": 16,
      "outputs": [
        {
          "output_type": "execute_result",
          "data": {
            "text/plain": [
              "7"
            ]
          },
          "metadata": {},
          "execution_count": 16
        }
      ]
    },
    {
      "cell_type": "markdown",
      "source": [
        "# **5.Write a function named is_prime that checks if a given number is prime. A prime number is a  natural number greater than 1 that is not a product of two smaller natural numbers. The function should return True if the number is prime, otherwise False**"
      ],
      "metadata": {
        "id": "MPYb209pxU1K"
      }
    },
    {
      "cell_type": "code",
      "source": [
        "def _prime(n):\n",
        "  if n>1:\n",
        "    for n1 in range(2,n):\n",
        "      if n %n1 ==0:\n",
        "        return False\n",
        "      return True\n",
        "    return False"
      ],
      "metadata": {
        "id": "vVBhbaywwlyR"
      },
      "execution_count": 17,
      "outputs": []
    },
    {
      "cell_type": "code",
      "source": [
        "_prime(6)"
      ],
      "metadata": {
        "colab": {
          "base_uri": "https://localhost:8080/"
        },
        "id": "gNcdUy7txtSW",
        "outputId": "db1bc50d-8b1e-4709-c23d-067d4eefedfc"
      },
      "execution_count": 21,
      "outputs": [
        {
          "output_type": "execute_result",
          "data": {
            "text/plain": [
              "False"
            ]
          },
          "metadata": {},
          "execution_count": 21
        }
      ]
    },
    {
      "cell_type": "markdown",
      "source": [
        "# **6. Write a function named unique_elements that takes a list as an argument and returns a list of its unique elements in the order they were first encountered**"
      ],
      "metadata": {
        "id": "W6Y7zN6iym0i"
      }
    },
    {
      "cell_type": "code",
      "source": [
        "def unique_elements(*lst):\n",
        "  seen = set()\n",
        "  result = []\n",
        "  for x in lst:\n",
        "    if x not in seen:\n",
        "      seen.add(x)\n",
        "      result.append(x)\n",
        "  return result\n",
        "\n"
      ],
      "metadata": {
        "id": "iWocGOufxtVg"
      },
      "execution_count": 29,
      "outputs": []
    },
    {
      "cell_type": "code",
      "source": [
        "unique_elements(1,2,2,3,4,4,5,6,7,8,9,9)"
      ],
      "metadata": {
        "colab": {
          "base_uri": "https://localhost:8080/"
        },
        "id": "zhYt4g8Sxtf4",
        "outputId": "212728ee-2ad0-4495-ff5e-d80ea4263d87"
      },
      "execution_count": 30,
      "outputs": [
        {
          "output_type": "execute_result",
          "data": {
            "text/plain": [
              "[1, 2, 3, 4, 5, 6, 7, 8, 9]"
            ]
          },
          "metadata": {},
          "execution_count": 30
        }
      ]
    }
  ]
}