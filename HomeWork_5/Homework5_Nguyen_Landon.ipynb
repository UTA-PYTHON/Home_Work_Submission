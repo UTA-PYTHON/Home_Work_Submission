{
  "nbformat": 4,
  "nbformat_minor": 0,
  "metadata": {
    "colab": {
      "provenance": []
    },
    "kernelspec": {
      "name": "python3",
      "display_name": "Python 3"
    },
    "language_info": {
      "name": "python"
    }
  },
  "cells": [
    {
      "cell_type": "markdown",
      "source": [
        "1. Write a function named add that takes two numbers as arguments and returns their sum."
      ],
      "metadata": {
        "id": "5rxdGBE_upLd"
      }
    },
    {
      "cell_type": "code",
      "execution_count": 1,
      "metadata": {
        "colab": {
          "base_uri": "https://localhost:8080/"
        },
        "id": "WH4o4FIDukfn",
        "outputId": "bd011a47-e7b4-45b9-9d5b-edcf6ccfa4ac"
      },
      "outputs": [
        {
          "output_type": "execute_result",
          "data": {
            "text/plain": [
              "7"
            ]
          },
          "metadata": {},
          "execution_count": 1
        }
      ],
      "source": [
        "def add(x,y):\n",
        "  return x+y\n",
        "\n",
        "add(5,2)"
      ]
    },
    {
      "cell_type": "markdown",
      "source": [
        "2. Write a function named average that takes a list of numbers and returns their average."
      ],
      "metadata": {
        "id": "nREnMazau18O"
      }
    },
    {
      "cell_type": "code",
      "source": [
        "def average(numbers):\n",
        "  sum = 0\n",
        "  for n in numbers:\n",
        "    sum+=n\n",
        "  return sum/len(numbers)\n",
        "\n",
        "average([1,2,3,4,5])"
      ],
      "metadata": {
        "colab": {
          "base_uri": "https://localhost:8080/"
        },
        "id": "Dn2il9wwu0Dl",
        "outputId": "2d1ccfd1-d1ec-47b8-9a3c-ac7ab56df951"
      },
      "execution_count": 5,
      "outputs": [
        {
          "output_type": "execute_result",
          "data": {
            "text/plain": [
              "3.0"
            ]
          },
          "metadata": {},
          "execution_count": 5
        }
      ]
    },
    {
      "cell_type": "markdown",
      "source": [
        "3. Write a function named factorial that calculates the factorial of a given number. The factorial of a number n is the product of all positive integers less than or equal to n. For example, the factorial of 5 is 5*4*3*2*1=120"
      ],
      "metadata": {
        "id": "TfgO1haOxCBv"
      }
    },
    {
      "cell_type": "code",
      "source": [
        "def factorial(num):\n",
        "  if num==1: return num\n",
        "  return num*factorial(num-1)\n",
        "\n",
        "factorial(5)"
      ],
      "metadata": {
        "colab": {
          "base_uri": "https://localhost:8080/"
        },
        "id": "LYMGXm0OxGMI",
        "outputId": "026b43f2-3ac4-47b8-9420-83e2918213d8"
      },
      "execution_count": 34,
      "outputs": [
        {
          "output_type": "execute_result",
          "data": {
            "text/plain": [
              "120"
            ]
          },
          "metadata": {},
          "execution_count": 34
        }
      ]
    },
    {
      "cell_type": "markdown",
      "source": [
        "4. Write a function named string_length that takes a string and returns its length without using the built-in len() function."
      ],
      "metadata": {
        "id": "QnNRKintxSSz"
      }
    },
    {
      "cell_type": "code",
      "source": [
        "def string_length(str):\n",
        "  len = 0\n",
        "  for l in str:\n",
        "    len+=1\n",
        "  return len\n",
        "\n",
        "\n",
        "string_length(\"Hello\")"
      ],
      "metadata": {
        "colab": {
          "base_uri": "https://localhost:8080/"
        },
        "id": "olAn5bmbxZop",
        "outputId": "1d1654d6-c675-4fa4-f80f-b33413afed53"
      },
      "execution_count": 10,
      "outputs": [
        {
          "output_type": "execute_result",
          "data": {
            "text/plain": [
              "5"
            ]
          },
          "metadata": {},
          "execution_count": 10
        }
      ]
    },
    {
      "cell_type": "markdown",
      "source": [
        "5. Write a function named is_prime that checks if a given number is prime. A prime number is a natural number greater than 1 that is not a product of two smaller natural numbers. The function should return True if the number is prime, otherwise False."
      ],
      "metadata": {
        "id": "hhmdwA7sxvLm"
      }
    },
    {
      "cell_type": "code",
      "source": [
        "def is_prime(num):\n",
        "  for n in range(2,10):\n",
        "    if num%n==0 and n != num:\n",
        "      return False\n",
        "  return True\n",
        "\n",
        "is_prime(89)"
      ],
      "metadata": {
        "colab": {
          "base_uri": "https://localhost:8080/"
        },
        "id": "jlmLWdtWxxs2",
        "outputId": "93138eea-9aef-4aae-d31b-371e7d466924"
      },
      "execution_count": 32,
      "outputs": [
        {
          "output_type": "execute_result",
          "data": {
            "text/plain": [
              "True"
            ]
          },
          "metadata": {},
          "execution_count": 32
        }
      ]
    },
    {
      "cell_type": "markdown",
      "source": [
        "6. Write a function named unique_elements that takes a list as an argument and returns a list of its unique elements in the order they were first encountered."
      ],
      "metadata": {
        "id": "ZRMMUq8xzBZo"
      }
    },
    {
      "cell_type": "code",
      "source": [
        "def unique_elements(elements):\n",
        "  unique = []\n",
        "  i = 0\n",
        "  for e in elements:\n",
        "    count = 0\n",
        "    for i in elements:\n",
        "      if e == i:\n",
        "        count+=1\n",
        "    if count==1:\n",
        "      unique.append(e)\n",
        "\n",
        "\n",
        "  return  unique\n",
        "\n",
        "unique_elements([1,1,2,2,3,4,5,4,6,6])"
      ],
      "metadata": {
        "colab": {
          "base_uri": "https://localhost:8080/"
        },
        "id": "KxxZZo3xzIRg",
        "outputId": "03471a7e-3320-4bb4-e6d1-73329979525d"
      },
      "execution_count": 50,
      "outputs": [
        {
          "output_type": "execute_result",
          "data": {
            "text/plain": [
              "[3, 5]"
            ]
          },
          "metadata": {},
          "execution_count": 50
        }
      ]
    }
  ]
}