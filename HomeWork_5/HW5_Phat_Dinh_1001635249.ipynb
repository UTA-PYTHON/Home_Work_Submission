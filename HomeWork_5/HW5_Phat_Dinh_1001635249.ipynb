{
  "nbformat": 4,
  "nbformat_minor": 0,
  "metadata": {
    "colab": {
      "provenance": []
    },
    "kernelspec": {
      "name": "python3",
      "display_name": "Python 3"
    },
    "language_info": {
      "name": "python"
    }
  },
  "cells": [
    {
      "cell_type": "markdown",
      "source": [
        "##  **1.Write a function named add that takes two numbers as arguments and returns their sum.**"
      ],
      "metadata": {
        "id": "tcoev05YJjGb"
      }
    },
    {
      "cell_type": "code",
      "source": [
        "def add(a,b):\n",
        "  return a+b\n",
        "\n",
        "add(1,2)"
      ],
      "metadata": {
        "id": "sVeATiQuJyqg",
        "colab": {
          "base_uri": "https://localhost:8080/"
        },
        "outputId": "bfd657ba-00f1-45bd-c631-a17d2b691719"
      },
      "execution_count": null,
      "outputs": [
        {
          "output_type": "execute_result",
          "data": {
            "text/plain": [
              "3"
            ]
          },
          "metadata": {},
          "execution_count": 2
        }
      ]
    },
    {
      "cell_type": "markdown",
      "source": [
        "## **2. Write a function named average that takes a list of numbers and returns their average.**"
      ],
      "metadata": {
        "id": "FyyHPeaOKZvC"
      }
    },
    {
      "cell_type": "code",
      "source": [
        "def average(*n):\n",
        "  return sum(n)/len(n)\n",
        "\n",
        "average(1,2,3,4,5)"
      ],
      "metadata": {
        "colab": {
          "base_uri": "https://localhost:8080/"
        },
        "id": "6j80r7i7KjwH",
        "outputId": "fea05b30-33e6-49aa-f8d8-ec11f1385409"
      },
      "execution_count": null,
      "outputs": [
        {
          "output_type": "execute_result",
          "data": {
            "text/plain": [
              "3.0"
            ]
          },
          "metadata": {},
          "execution_count": 4
        }
      ]
    },
    {
      "cell_type": "markdown",
      "source": [
        "## **3.Write a function named factorial that calculates the factorial of a given number. The factorial of a number n is the product of all positive integers less than or equal to n. For example, the factorial of 5 is 5x4x3x2x1=120**"
      ],
      "metadata": {
        "id": "SlHyLKazLBg1"
      }
    },
    {
      "cell_type": "code",
      "source": [
        "def factorial(f):\n",
        "  fac=1\n",
        "  for k in range(1,f+1):\n",
        "    fac=fac*k\n",
        "  return fac\n",
        "\n",
        "factorial(6)"
      ],
      "metadata": {
        "colab": {
          "base_uri": "https://localhost:8080/"
        },
        "id": "pBpyQJc3LHnv",
        "outputId": "d9d3c53f-8cf8-4bfe-c51e-66364f82bafd"
      },
      "execution_count": null,
      "outputs": [
        {
          "output_type": "execute_result",
          "data": {
            "text/plain": [
              "720"
            ]
          },
          "metadata": {},
          "execution_count": 30
        }
      ]
    },
    {
      "cell_type": "markdown",
      "source": [
        "## **4. Write a function named string_length that takes a string and returns its length without using the built-in len() function.**"
      ],
      "metadata": {
        "id": "CRzJq1XkLtf3"
      }
    },
    {
      "cell_type": "code",
      "source": [
        "def string_length(a):\n",
        "  count=0\n",
        "  for n in a:\n",
        "    count+=1\n",
        "  return count\n",
        "\n",
        "string_length(\"Phat\")\n"
      ],
      "metadata": {
        "colab": {
          "base_uri": "https://localhost:8080/"
        },
        "id": "YMmb2vSaOf6p",
        "outputId": "a58e975d-ad33-4fd6-c4ca-c1a210cf94f4"
      },
      "execution_count": null,
      "outputs": [
        {
          "output_type": "execute_result",
          "data": {
            "text/plain": [
              "4"
            ]
          },
          "metadata": {},
          "execution_count": 44
        }
      ]
    },
    {
      "cell_type": "markdown",
      "source": [
        "## **5. Write a function named is_prime that checks if a given number is prime. A prime number is a natural number greater than 1 that is not a product of two smaller natural numbers. The function should return True if the number is prime, otherwise False.**"
      ],
      "metadata": {
        "id": "Hj5lZM01PN__"
      }
    },
    {
      "cell_type": "code",
      "source": [
        "def is_prime(p):\n",
        "  if p>0:\n",
        "    for n in range(2,p-1):\n",
        "      if p%n==0:\n",
        "        return False\n",
        "      else:\n",
        "        return True\n",
        "  else:\n",
        "    return \"N/A\"\n",
        "\n",
        "is_prime(7)"
      ],
      "metadata": {
        "colab": {
          "base_uri": "https://localhost:8080/"
        },
        "id": "32z8p41UQaiG",
        "outputId": "a80d4bf9-185f-4f47-b5d2-8985e52c620d"
      },
      "execution_count": null,
      "outputs": [
        {
          "output_type": "execute_result",
          "data": {
            "text/plain": [
              "True"
            ]
          },
          "metadata": {},
          "execution_count": 59
        }
      ]
    },
    {
      "cell_type": "markdown",
      "source": [
        "## **6. Write a function named unique_elements that takes a list as an argument and returns a list of its unique elements in the order they were first encountered.**"
      ],
      "metadata": {
        "id": "TdeWb6n8R4bP"
      }
    },
    {
      "cell_type": "code",
      "source": [
        "def unique_elements(*l):\n",
        "  u=[]\n",
        "  for n in l:\n",
        "    if n not in u:\n",
        "      u.append(n)\n",
        "  return u\n",
        "\n",
        "unique_elements(1,1,4,5,7,7)"
      ],
      "metadata": {
        "colab": {
          "base_uri": "https://localhost:8080/"
        },
        "id": "5kmLdoCwS3bx",
        "outputId": "1b1b5e2b-4197-4c3d-9a5b-934bae06dd58"
      },
      "execution_count": null,
      "outputs": [
        {
          "output_type": "execute_result",
          "data": {
            "text/plain": [
              "[1, 4, 5, 7]"
            ]
          },
          "metadata": {},
          "execution_count": 71
        }
      ]
    },
    {
      "cell_type": "code",
      "source": [],
      "metadata": {
        "id": "XwSMrOQzTU2e"
      },
      "execution_count": null,
      "outputs": []
    }
  ]
}