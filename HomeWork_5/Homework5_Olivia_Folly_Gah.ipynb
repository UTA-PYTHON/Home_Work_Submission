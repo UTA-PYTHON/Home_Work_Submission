{
  "nbformat": 4,
  "nbformat_minor": 0,
  "metadata": {
    "colab": {
      "provenance": []
    },
    "kernelspec": {
      "name": "python3",
      "display_name": "Python 3"
    },
    "language_info": {
      "name": "python"
    }
  },
  "cells": [
    {
      "cell_type": "markdown",
      "source": [
        "#1. Write a function named **add** that takes 2 numbers as arguments and returns their sum."
      ],
      "metadata": {
        "id": "9z437yt8UisH"
      }
    },
    {
      "cell_type": "code",
      "execution_count": 18,
      "metadata": {
        "id": "yA5Q30F2UgmU"
      },
      "outputs": [],
      "source": [
        "def add(num1, num2):\n",
        "  sum= num1 + num2\n",
        "  return sum"
      ]
    },
    {
      "cell_type": "code",
      "source": [
        "num1=8\n",
        "num2=10"
      ],
      "metadata": {
        "id": "lMAQv1ktpkuT"
      },
      "execution_count": 16,
      "outputs": []
    },
    {
      "cell_type": "code",
      "source": [
        "sum= add(8, 10)\n",
        "print(f\"The sum is {sum}\")"
      ],
      "metadata": {
        "colab": {
          "base_uri": "https://localhost:8080/"
        },
        "id": "lk8_E85axoRl",
        "outputId": "099860bc-d781-460f-8c82-ff3b140111b4"
      },
      "execution_count": 19,
      "outputs": [
        {
          "output_type": "stream",
          "name": "stdout",
          "text": [
            "The sum is 18\n"
          ]
        }
      ]
    },
    {
      "cell_type": "markdown",
      "source": [
        "#2. Write a function named **average** that takes a list of numbers and returns their average."
      ],
      "metadata": {
        "id": "IOHrJHABUxoK"
      }
    },
    {
      "cell_type": "code",
      "source": [
        "def calculate_average(numbers):\n",
        "  average= sum(numbers)/len(numbers)\n",
        "  return average"
      ],
      "metadata": {
        "id": "-STuT9x4VctT"
      },
      "execution_count": 5,
      "outputs": []
    },
    {
      "cell_type": "code",
      "source": [
        "numbers=[1,5,7,3,5,10]"
      ],
      "metadata": {
        "id": "hjEQElvDug2D"
      },
      "execution_count": 7,
      "outputs": []
    },
    {
      "cell_type": "code",
      "source": [
        "calculate_average(numbers)"
      ],
      "metadata": {
        "colab": {
          "base_uri": "https://localhost:8080/"
        },
        "id": "3LgS8Q6ZvBjD",
        "outputId": "6861681a-57f6-4e5e-e00f-971a6557ba27"
      },
      "execution_count": 9,
      "outputs": [
        {
          "output_type": "execute_result",
          "data": {
            "text/plain": [
              "5.166666666666667"
            ]
          },
          "metadata": {},
          "execution_count": 9
        }
      ]
    },
    {
      "cell_type": "markdown",
      "source": [
        "#3. Write a function named **factorial** that calculates the factorial of a given number. The factorial of a number n is the product of all positive integers less than or equal to n. For example, the factorial of 5 (5 x 4 x 3 x 2x 1 = 120)."
      ],
      "metadata": {
        "id": "tpz24LxhU6Uq"
      }
    },
    {
      "cell_type": "code",
      "source": [
        "def factorial(num):\n",
        "    if num < 0:\n",
        "        return \"Factorial is not defined for negative numbers\"\n",
        "    elif num == 0:\n",
        "        return 1\n",
        "    else:\n",
        "        result = 1\n",
        "        for i in range(1, num + 1):\n",
        "            result *= i\n",
        "        return result\n",
        "\n",
        "num = 5\n",
        "result = factorial(num)\n",
        "print(f\"The factorial of {num} is {result}\")\n"
      ],
      "metadata": {
        "colab": {
          "base_uri": "https://localhost:8080/"
        },
        "id": "2eldLFb03KP_",
        "outputId": "bbf92b76-4c8a-4bec-c538-f5144fe552bd"
      },
      "execution_count": 55,
      "outputs": [
        {
          "output_type": "stream",
          "name": "stdout",
          "text": [
            "The factorial of 5 is 120\n"
          ]
        }
      ]
    },
    {
      "cell_type": "markdown",
      "source": [
        "##4. Write a function named string_length that takes a string and returns its length without using the built-in len() function."
      ],
      "metadata": {
        "id": "wrYGNhCcrHP_"
      }
    },
    {
      "cell_type": "code",
      "source": [
        "def string_length(string):\n",
        "  length = 0\n",
        "  for letters in sentence:\n",
        "        length += 1\n",
        "  return length"
      ],
      "metadata": {
        "id": "e21scXD2rVJ9"
      },
      "execution_count": 17,
      "outputs": []
    },
    {
      "cell_type": "code",
      "source": [
        "sentence= \"Olivia\"\n",
        "length= string_length(sentence)\n",
        "print(f\"The length is {length}\")"
      ],
      "metadata": {
        "colab": {
          "base_uri": "https://localhost:8080/"
        },
        "id": "7RGniRlCcUFx",
        "outputId": "48d94b8d-a8d7-48f9-c8da-b58631e86ce5"
      },
      "execution_count": 18,
      "outputs": [
        {
          "output_type": "stream",
          "name": "stdout",
          "text": [
            "The length is 6\n"
          ]
        }
      ]
    },
    {
      "cell_type": "markdown",
      "source": [
        "##5. Write a function named is_prime that checks if a given number is prime. A prime number is a natual number greater than 1 that is not a product of two smaller natural numbers. The function should return True if the number is prime, otherwise False."
      ],
      "metadata": {
        "id": "5WL6NDdgrVcC"
      }
    },
    {
      "cell_type": "code",
      "source": [
        "def is_prime(num):\n",
        "  if num<= 1 or num%2==0 or num%3==0:\n",
        "    return False\n",
        "  if num<=3:\n",
        "    return True"
      ],
      "metadata": {
        "id": "JaQr7snSdqwX"
      },
      "execution_count": 39,
      "outputs": []
    },
    {
      "cell_type": "code",
      "source": [
        "if is_prime(num):\n",
        "    print(f\"{num} is a prime number\")\n",
        "else:\n",
        "    print(f\"{num} is not a prime number\")\n",
        "num=88"
      ],
      "metadata": {
        "colab": {
          "base_uri": "https://localhost:8080/"
        },
        "id": "Af_k7i8niHvS",
        "outputId": "51eb21fc-40f5-483d-edc3-4f5327301e42"
      },
      "execution_count": 49,
      "outputs": [
        {
          "output_type": "stream",
          "name": "stdout",
          "text": [
            "88 is not a prime number\n"
          ]
        }
      ]
    },
    {
      "cell_type": "markdown",
      "source": [
        "##6. Write a function named unique_elements that takes a list as an argument and returns a list of its unique elements in the order they were first encountered."
      ],
      "metadata": {
        "id": "fA0tAGuyr07r"
      }
    },
    {
      "cell_type": "code",
      "source": [
        "def unique_elements(list):\n",
        "    unique_list = []\n",
        "    for colors in list:\n",
        "        if colors not in unique_list:\n",
        "            unique_list.append(colors)\n",
        "    return unique_list\n"
      ],
      "metadata": {
        "id": "GTFC0k1Z3hgS"
      },
      "execution_count": 32,
      "outputs": []
    },
    {
      "cell_type": "code",
      "source": [
        "colors = [\"Orange\", \"Pink\", \"Yellow\", \"Green\", \"Purple\", \"Orange\", \"Yellow\", \"Blue\"]\n",
        "result = unique_elements(colors)\n",
        "print(result)"
      ],
      "metadata": {
        "colab": {
          "base_uri": "https://localhost:8080/"
        },
        "id": "ywwN9ALZgz8Q",
        "outputId": "2bffcf7a-eaeb-44f0-9722-c54d03a21433"
      },
      "execution_count": 33,
      "outputs": [
        {
          "output_type": "stream",
          "name": "stdout",
          "text": [
            "['Orange', 'Pink', 'Yellow', 'Green', 'Purple', 'Blue']\n"
          ]
        }
      ]
    }
  ]
}