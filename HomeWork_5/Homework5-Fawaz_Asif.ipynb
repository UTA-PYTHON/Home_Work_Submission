{
 "cells": [
  {
   "cell_type": "markdown",
   "id": "ddc739ee",
   "metadata": {},
   "source": [
    "# Homework 5: Functions\n",
    "Fawaz Asif  \n",
    "1001875463  \n",
    "DATA-3401-001  \n",
    "Questions:"
   ]
  },
  {
   "cell_type": "markdown",
   "id": "ffea1b8a",
   "metadata": {},
   "source": [
    "1. Write a function named add that takes two numbers as arguments and returns their sum."
   ]
  },
  {
   "cell_type": "code",
   "execution_count": 1,
   "id": "f670f45f",
   "metadata": {},
   "outputs": [
    {
     "data": {
      "text/plain": [
       "6"
      ]
     },
     "execution_count": 1,
     "metadata": {},
     "output_type": "execute_result"
    }
   ],
   "source": [
    "def sum(x,y):\n",
    "    return x + y\n",
    "sum(2,4)"
   ]
  },
  {
   "cell_type": "markdown",
   "id": "b18a84c3",
   "metadata": {},
   "source": [
    "2. Write a function named average that takes a list of numbers and returns their average."
   ]
  },
  {
   "cell_type": "code",
   "execution_count": 56,
   "id": "86c767b9",
   "metadata": {},
   "outputs": [
    {
     "data": {
      "text/plain": [
       "26.5"
      ]
     },
     "execution_count": 56,
     "metadata": {},
     "output_type": "execute_result"
    }
   ],
   "source": [
    "def average(*nums):\n",
    "    return sum(nums)/len(nums)\n",
    "average(1,2,4,99)"
   ]
  },
  {
   "cell_type": "markdown",
   "id": "bb1ebd2d",
   "metadata": {},
   "source": [
    "3. Write a function named factorial that calculates the factorial of a given number. The factorial of a number n is the product of all positive integers less than or equal to n. For example, the factorial of 5 is 5*4*3*2*1=120"
   ]
  },
  {
   "cell_type": "code",
   "execution_count": 69,
   "id": "1fcfb4dc",
   "metadata": {},
   "outputs": [
    {
     "data": {
      "text/plain": [
       "'4!=24'"
      ]
     },
     "execution_count": 69,
     "metadata": {},
     "output_type": "execute_result"
    }
   ],
   "source": [
    "def factorial(num):\n",
    "    fact = 1\n",
    "    for i in range(1, num + 1):\n",
    "        fact *= i\n",
    "    return (f\"{num}!={fact}\")\n",
    "factorial(4)"
   ]
  },
  {
   "cell_type": "markdown",
   "id": "e3419a99",
   "metadata": {},
   "source": [
    "4. Write a function named string_length that takes a string and returns its length without using the built-in len() function."
   ]
  },
  {
   "cell_type": "code",
   "execution_count": 13,
   "id": "e0641407",
   "metadata": {},
   "outputs": [
    {
     "data": {
      "text/plain": [
       "6"
      ]
     },
     "execution_count": 13,
     "metadata": {},
     "output_type": "execute_result"
    }
   ],
   "source": [
    "def string_length(string):\n",
    "    count = 0\n",
    "    for letter in string:\n",
    "        count += 1\n",
    "    return count\n",
    "string_length('python')"
   ]
  },
  {
   "cell_type": "markdown",
   "id": "6728e060",
   "metadata": {},
   "source": [
    "5. Write a function named is_prime that checks if a given number is prime. A prime number is a natural number greater than 1 that is not a product of two smaller natural numbers. The function should return True if the number is prime, otherwise False."
   ]
  },
  {
   "cell_type": "code",
   "execution_count": 43,
   "id": "4138b5ca",
   "metadata": {},
   "outputs": [
    {
     "data": {
      "text/plain": [
       "True"
      ]
     },
     "execution_count": 43,
     "metadata": {},
     "output_type": "execute_result"
    }
   ],
   "source": [
    "def is_prime(number):\n",
    "    for i in range(-1, number):\n",
    "        if number == 2:\n",
    "            return True\n",
    "        elif number == 1 or number == 0:\n",
    "            return False\n",
    "        else:\n",
    "            if number % i == 0:\n",
    "                return True\n",
    "            else:\n",
    "                return False\n",
    "is_prime(13)"
   ]
  },
  {
   "cell_type": "markdown",
   "id": "2fa1abeb",
   "metadata": {},
   "source": [
    "6. Write a function named unique_elements that takes a list as an argument and returns a list of its unique elements in the order they were first encountered."
   ]
  },
  {
   "cell_type": "code",
   "execution_count": 65,
   "id": "2ac170c3",
   "metadata": {},
   "outputs": [
    {
     "data": {
      "text/plain": [
       "[8, 1, 9, 12]"
      ]
     },
     "execution_count": 65,
     "metadata": {},
     "output_type": "execute_result"
    }
   ],
   "source": [
    "def unique_elements(lit):\n",
    "    check = 0\n",
    "    unq = []\n",
    "    while check < len(lit):\n",
    "        if(lit.count(lit[check]) == 1):\n",
    "            unq.append(lit[check])\n",
    "        check += 1\n",
    "    return unq\n",
    "list = (4,2,2,8,3,2,4,4,3,1,9,12)\n",
    "unique_elements(list)"
   ]
  }
 ],
 "metadata": {
  "kernelspec": {
   "display_name": "Python 3 (ipykernel)",
   "language": "python",
   "name": "python3"
  },
  "language_info": {
   "codemirror_mode": {
    "name": "ipython",
    "version": 3
   },
   "file_extension": ".py",
   "mimetype": "text/x-python",
   "name": "python",
   "nbconvert_exporter": "python",
   "pygments_lexer": "ipython3",
   "version": "3.11.4"
  }
 },
 "nbformat": 4,
 "nbformat_minor": 5
}
