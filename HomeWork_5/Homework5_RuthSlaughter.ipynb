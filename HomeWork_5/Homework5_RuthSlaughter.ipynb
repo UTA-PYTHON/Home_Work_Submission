{
  "nbformat": 4,
  "nbformat_minor": 0,
  "metadata": {
    "colab": {
      "provenance": []
    },
    "kernelspec": {
      "name": "python3",
      "display_name": "Python 3"
    },
    "language_info": {
      "name": "python"
    }
  },
  "cells": [
    {
      "cell_type": "markdown",
      "source": [
        "Ruth Slaughter 1001918965"
      ],
      "metadata": {
        "id": "7apNVyB0H7Rn"
      }
    },
    {
      "cell_type": "markdown",
      "source": [
        "**1.**Write a function named add that takes two numbers as arguments and returns their sum.\n"
      ],
      "metadata": {
        "id": "vJkR3mTNHkJv"
      }
    },
    {
      "cell_type": "code",
      "execution_count": 9,
      "metadata": {
        "id": "L8rpGdyrHipQ"
      },
      "outputs": [],
      "source": [
        "def add(x,y):\n",
        "  return(x+y)"
      ]
    },
    {
      "cell_type": "code",
      "source": [
        "add(18,32)"
      ],
      "metadata": {
        "colab": {
          "base_uri": "https://localhost:8080/"
        },
        "id": "HATTgejB48ux",
        "outputId": "30db5add-c431-4ec9-f056-26b4e57b5171"
      },
      "execution_count": 10,
      "outputs": [
        {
          "output_type": "execute_result",
          "data": {
            "text/plain": [
              "50"
            ]
          },
          "metadata": {},
          "execution_count": 10
        }
      ]
    },
    {
      "cell_type": "markdown",
      "source": [
        "**2.** Write a function named average that takes a list of numbers and returns their average."
      ],
      "metadata": {
        "id": "E7IRKcBcIPNz"
      }
    },
    {
      "cell_type": "code",
      "source": [
        "def average(numbers):\n",
        "    return sum(numbers) / len(numbers)"
      ],
      "metadata": {
        "id": "Ntj5NDazILDN"
      },
      "execution_count": 16,
      "outputs": []
    },
    {
      "cell_type": "code",
      "source": [
        "print(average([57,68,92]))"
      ],
      "metadata": {
        "colab": {
          "base_uri": "https://localhost:8080/"
        },
        "id": "dyZzTEus8_FW",
        "outputId": "32183748-2895-4d74-e982-ab3411073482"
      },
      "execution_count": 18,
      "outputs": [
        {
          "output_type": "stream",
          "name": "stdout",
          "text": [
            "72.33333333333333\n"
          ]
        }
      ]
    },
    {
      "cell_type": "markdown",
      "source": [
        "**3.** Write a function named factorial that calculates the factorial of a given number. The factorial of a number n is the product of all positive integers less than or equal to n. For example, the factorial of 5 is 5* 4 * 3 * 2 * 1=120"
      ],
      "metadata": {
        "id": "CE9dg9c0IQEB"
      }
    },
    {
      "cell_type": "code",
      "source": [
        "def factorial(n):\n",
        "  if n < 0:\n",
        "    print(\"error\")\n",
        "  elif n == 0:\n",
        "    return 1\n",
        "  else:\n",
        "    return n * factorial(n-1)\n",
        "\n",
        "factorial(5)"
      ],
      "metadata": {
        "id": "5ET0TW5gILLH",
        "colab": {
          "base_uri": "https://localhost:8080/"
        },
        "outputId": "ebcbcace-0434-4960-e424-d1f86bc6e695"
      },
      "execution_count": 15,
      "outputs": [
        {
          "output_type": "execute_result",
          "data": {
            "text/plain": [
              "120"
            ]
          },
          "metadata": {},
          "execution_count": 15
        }
      ]
    },
    {
      "cell_type": "markdown",
      "source": [
        "**4.** Write a function named string_length that takes a string and returns its length without using the built-in len() function."
      ],
      "metadata": {
        "id": "cJwibzOFIRAz"
      }
    },
    {
      "cell_type": "code",
      "source": [
        "def string_length(string):\n",
        "    length = 0\n",
        "    while string[length:]:\n",
        "        length += 1\n",
        "    return length"
      ],
      "metadata": {
        "id": "62mKu039ILZ2"
      },
      "execution_count": 12,
      "outputs": []
    },
    {
      "cell_type": "code",
      "source": [
        "string = \"Hello, World!\"\n",
        "print(string_length(string))"
      ],
      "metadata": {
        "colab": {
          "base_uri": "https://localhost:8080/"
        },
        "id": "XwHcs9HA7_XU",
        "outputId": "da1c022a-e202-457a-aafd-4c4d9278d7d9"
      },
      "execution_count": 13,
      "outputs": [
        {
          "output_type": "stream",
          "name": "stdout",
          "text": [
            "13\n"
          ]
        }
      ]
    },
    {
      "cell_type": "markdown",
      "source": [
        "\n",
        "**5.** Write a function named is_prime that checks if a given number is prime. A prime number is a natural number greater than 1 that is not a product of two smaller natural numbers. The function should return True if the number is prime, otherwise False."
      ],
      "metadata": {
        "id": "0TXegF1MIRlK"
      }
    },
    {
      "cell_type": "code",
      "source": [
        "def is_prime(a):\n",
        "  if a>1:\n",
        "    for a1 in range(2,a):\n",
        "      if a %a1 ==0:\n",
        "        return False\n",
        "      return True\n",
        "    return False\n"
      ],
      "metadata": {
        "id": "BhssiCFpILhO"
      },
      "execution_count": 21,
      "outputs": []
    },
    {
      "cell_type": "code",
      "source": [
        "is_prime(32)"
      ],
      "metadata": {
        "colab": {
          "base_uri": "https://localhost:8080/"
        },
        "id": "5rdaLfdt9VFn",
        "outputId": "82edd1ce-ba1d-48d1-a37f-530e69950096"
      },
      "execution_count": 22,
      "outputs": [
        {
          "output_type": "execute_result",
          "data": {
            "text/plain": [
              "False"
            ]
          },
          "metadata": {},
          "execution_count": 22
        }
      ]
    },
    {
      "cell_type": "markdown",
      "source": [
        "**6.** Write a function named unique_elements that takes a list as an argument and returns a list of its unique elements in the order they were first encountered."
      ],
      "metadata": {
        "id": "IOu4jKLTISJV"
      }
    },
    {
      "cell_type": "code",
      "source": [
        "def unique_elements(*num):\n",
        "  unique_el=[]\n",
        "  for i in num:\n",
        "    if i not in unique_el:\n",
        "      unique_el.append(i)\n",
        "  return unique_el"
      ],
      "metadata": {
        "id": "063yYYXr94Rz"
      },
      "execution_count": 23,
      "outputs": []
    },
    {
      "cell_type": "code",
      "source": [
        "unique_elements(1,2,4,5,7,8,9,3,4,6,1,10)"
      ],
      "metadata": {
        "colab": {
          "base_uri": "https://localhost:8080/"
        },
        "id": "vXS5X-uG_kzp",
        "outputId": "5ea06031-c632-45a5-9e00-75dc9201df12"
      },
      "execution_count": 24,
      "outputs": [
        {
          "output_type": "execute_result",
          "data": {
            "text/plain": [
              "[1, 2, 4, 5, 7, 8, 9, 3, 6, 10]"
            ]
          },
          "metadata": {},
          "execution_count": 24
        }
      ]
    },
    {
      "cell_type": "code",
      "source": [],
      "metadata": {
        "id": "1D_95cC9_suX"
      },
      "execution_count": null,
      "outputs": []
    }
  ]
}