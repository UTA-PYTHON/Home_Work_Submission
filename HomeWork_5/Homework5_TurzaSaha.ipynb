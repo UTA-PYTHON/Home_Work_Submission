{
  "nbformat": 4,
  "nbformat_minor": 0,
  "metadata": {
    "colab": {
      "provenance": []
    },
    "kernelspec": {
      "name": "python3",
      "display_name": "Python 3"
    },
    "language_info": {
      "name": "python"
    }
  },
  "cells": [
    {
      "cell_type": "markdown",
      "source": [
        "Add function"
      ],
      "metadata": {
        "id": "0Ngr14H1xy9Y"
      }
    },
    {
      "cell_type": "code",
      "execution_count": 1,
      "metadata": {
        "colab": {
          "base_uri": "https://localhost:8080/"
        },
        "id": "c-6IsdqStazv",
        "outputId": "7e5f4fdf-345e-4d83-cec7-4396cdb9fb98"
      },
      "outputs": [
        {
          "output_type": "stream",
          "name": "stdout",
          "text": [
            "13\n"
          ]
        }
      ],
      "source": [
        "def add(a,b):\n",
        "    return a+b\n",
        "\n",
        "answer = add(6,7)\n",
        "print(answer)"
      ]
    },
    {
      "cell_type": "markdown",
      "source": [
        "Average"
      ],
      "metadata": {
        "id": "xRHWYva6x8IZ"
      }
    },
    {
      "cell_type": "code",
      "source": [
        "def average(num_list):\n",
        "    return sum(num_list) / len(num_list)\n",
        "\n",
        "print(average([9,8,7,17,18]))"
      ],
      "metadata": {
        "colab": {
          "base_uri": "https://localhost:8080/"
        },
        "id": "7f-EVX0_x9kn",
        "outputId": "e2e170f8-f4e9-4427-bbe8-7aa993ec3e60"
      },
      "execution_count": 16,
      "outputs": [
        {
          "output_type": "stream",
          "name": "stdout",
          "text": [
            "11.8\n"
          ]
        }
      ]
    },
    {
      "cell_type": "markdown",
      "source": [
        "Factorial"
      ],
      "metadata": {
        "id": "sF_sfTp4yh72"
      }
    },
    {
      "cell_type": "code",
      "source": [
        "def factorial(b):\n",
        "  if b == 0:\n",
        "    return 1\n",
        "  else:\n",
        "    return b*factorial(b-1)\n",
        "\n",
        "print(factorial(3))"
      ],
      "metadata": {
        "id": "BgH_Th4Jyjta"
      },
      "execution_count": null,
      "outputs": []
    },
    {
      "cell_type": "markdown",
      "source": [
        "String Length Function"
      ],
      "metadata": {
        "id": "_d26XYBJx2LC"
      }
    },
    {
      "cell_type": "code",
      "source": [
        "\n",
        "def string_length(s):\n",
        "  count = 0\n",
        "  for i in s:\n",
        "    count+=1\n",
        "  return count\n",
        "\n",
        "string_length(\"My Name\")"
      ],
      "metadata": {
        "colab": {
          "base_uri": "https://localhost:8080/"
        },
        "id": "Oa6Jg4TQtp7Z",
        "outputId": "d84810d3-bd52-495f-8969-1969dadef024"
      },
      "execution_count": 10,
      "outputs": [
        {
          "output_type": "execute_result",
          "data": {
            "text/plain": [
              "7"
            ]
          },
          "metadata": {},
          "execution_count": 10
        }
      ]
    },
    {
      "cell_type": "markdown",
      "source": [
        "Prime"
      ],
      "metadata": {
        "id": "ZHiY6Ed6ynAX"
      }
    },
    {
      "cell_type": "code",
      "source": [
        "def is_prime(num):\n",
        "    if num <= 1:\n",
        "        return False\n",
        "    for i in range(2, num):\n",
        "        if num % i == 0:\n",
        "            return False\n",
        "    return True\n",
        "\n",
        "print(is_prime(67))"
      ],
      "metadata": {
        "colab": {
          "base_uri": "https://localhost:8080/"
        },
        "id": "Hbbsqc9vxf6g",
        "outputId": "85d36d16-a700-4be6-d571-c4e7e7ab9f8b"
      },
      "execution_count": 17,
      "outputs": [
        {
          "output_type": "stream",
          "name": "stdout",
          "text": [
            "True\n"
          ]
        }
      ]
    },
    {
      "cell_type": "markdown",
      "source": [
        "Unique_elements"
      ],
      "metadata": {
        "id": "UZRr5oeMy1ZL"
      }
    },
    {
      "cell_type": "code",
      "source": [
        "def unique_elements(list):\n",
        "  unique = []\n",
        "  for i in list:\n",
        "    if i not in unique:\n",
        "      unique.append(i)\n",
        "  return unique\n",
        "\n",
        "print(unique_elements([2,4,6,4,5,3,2,6,8]))\n",
        ""
      ],
      "metadata": {
        "colab": {
          "base_uri": "https://localhost:8080/"
        },
        "id": "dWv4-Ptvy3Qz",
        "outputId": "3054c9e7-4b8d-4e9e-9648-9dbe7fd17643"
      },
      "execution_count": 14,
      "outputs": [
        {
          "output_type": "stream",
          "name": "stdout",
          "text": [
            "[2, 4, 6, 5, 3, 8]\n"
          ]
        }
      ]
    }
  ]
}