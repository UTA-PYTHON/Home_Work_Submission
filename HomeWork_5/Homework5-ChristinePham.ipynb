{
 "cells": [
  {
   "cell_type": "markdown",
   "id": "cf66bb68",
   "metadata": {},
   "source": [
    "Name: Christine Pham\n",
    "\n",
    "ID: 1001705879"
   ]
  },
  {
   "cell_type": "markdown",
   "id": "712247ab",
   "metadata": {},
   "source": [
    "# **Homework 5. Functions**"
   ]
  },
  {
   "cell_type": "markdown",
   "id": "3cba3201",
   "metadata": {},
   "source": [
    "1. Write a function named **add** that takes two numbers as arguments and returns their sum."
   ]
  },
  {
   "cell_type": "code",
   "execution_count": 2,
   "id": "ca29338a",
   "metadata": {},
   "outputs": [
    {
     "data": {
      "text/plain": [
       "14"
      ]
     },
     "execution_count": 2,
     "metadata": {},
     "output_type": "execute_result"
    }
   ],
   "source": [
    "def add(x,y):\n",
    "    return x+y\n",
    "\n",
    "add(6,8)"
   ]
  },
  {
   "cell_type": "markdown",
   "id": "578b76b1",
   "metadata": {},
   "source": [
    "2. Write a function named **average** that takes a list of numbers and returns their average."
   ]
  },
  {
   "cell_type": "code",
   "execution_count": 3,
   "id": "a180aa5f",
   "metadata": {},
   "outputs": [
    {
     "data": {
      "text/plain": [
       "2.5"
      ]
     },
     "execution_count": 3,
     "metadata": {},
     "output_type": "execute_result"
    }
   ],
   "source": [
    "def average(*numbers):\n",
    "    total=0\n",
    "    count=0\n",
    "    for number in numbers:\n",
    "        total+=number          \n",
    "        count+=1         \n",
    "    return total/count\n",
    "\n",
    "average(1,2,3,4)"
   ]
  },
  {
   "cell_type": "markdown",
   "id": "9ec6404b",
   "metadata": {},
   "source": [
    "3. Write a function named **factorial** that calculates the factorial of a given number. The factorial of a number n is the product of all positive integers less than or equal to n. For example, the factorial of 5 is 5 * 4 * 3 * 2 * 1 = 120"
   ]
  },
  {
   "cell_type": "code",
   "execution_count": 10,
   "id": "149623c6",
   "metadata": {},
   "outputs": [
    {
     "data": {
      "text/plain": [
       "720"
      ]
     },
     "execution_count": 10,
     "metadata": {},
     "output_type": "execute_result"
    }
   ],
   "source": [
    "def factorial(n):\n",
    "    f_list=[]\n",
    "    fac=1\n",
    "    while n>0:\n",
    "        f_list.append(n) \n",
    "        n-=1\n",
    "    for f in f_list:\n",
    "        fac*=f   \n",
    "    return fac\n",
    "\n",
    "factorial(6)"
   ]
  },
  {
   "cell_type": "markdown",
   "id": "0da65f0d",
   "metadata": {},
   "source": [
    "4. Write a function named **string_length** that takes a string and returns its length without using the built-in len() function."
   ]
  },
  {
   "cell_type": "code",
   "execution_count": 12,
   "id": "e26c88f5",
   "metadata": {},
   "outputs": [
    {
     "data": {
      "text/plain": [
       "7"
      ]
     },
     "execution_count": 12,
     "metadata": {},
     "output_type": "execute_result"
    }
   ],
   "source": [
    "def string_length(word):\n",
    "    s_list=[]\n",
    "    s_list2=[]\n",
    "    for letter in word:\n",
    "        s_list.append(letter)  \n",
    "    for s,item in enumerate(s_list):\n",
    "        s_list2.append(s) \n",
    "    return s_list2[-1] +1 \n",
    "\n",
    "string_length(\"shampoo\")"
   ]
  },
  {
   "cell_type": "markdown",
   "id": "66ed2d93",
   "metadata": {},
   "source": [
    "5. Write a function named **is_prime** that checks if a given number is prime. A prime number is a natural number greater than 1 that is not a product of two smaller natural numbers. The function should return True if the number is prime, otherwise False."
   ]
  },
  {
   "cell_type": "code",
   "execution_count": 17,
   "id": "20eeff39",
   "metadata": {},
   "outputs": [
    {
     "data": {
      "text/plain": [
       "True"
      ]
     },
     "execution_count": 17,
     "metadata": {},
     "output_type": "execute_result"
    }
   ],
   "source": [
    "def is_prime(number_):\n",
    "    if number_>2:\n",
    "        if number_%2==0:\n",
    "            return False\n",
    "        else:\n",
    "            for numb in range(3,int(number_**0.5)+1,2):\n",
    "                if number_%numb==0:\n",
    "                    return False\n",
    "            return True\n",
    "    else:\n",
    "        if number_<=1:\n",
    "            return False\n",
    "        elif number_==2:   \n",
    "            return True\n",
    "        \n",
    "is_prime(11)"
   ]
  },
  {
   "cell_type": "markdown",
   "id": "a3b25a96",
   "metadata": {},
   "source": [
    "6. Write a function named **unique_elements** that takes a list as an argument and returns a list of its unique elements in the order they were first encountered."
   ]
  },
  {
   "cell_type": "code",
   "execution_count": 18,
   "id": "64db0330",
   "metadata": {},
   "outputs": [
    {
     "data": {
      "text/plain": [
       "['hi', 4, 3, 6, 'meow', 'yellow', 'bark']"
      ]
     },
     "execution_count": 18,
     "metadata": {},
     "output_type": "execute_result"
    }
   ],
   "source": [
    "def unique_elements(*elements):\n",
    "    u_list=[]\n",
    "    for element in elements:\n",
    "        if element not in u_list:\n",
    "            u_list.append(element)\n",
    "    return u_list\n",
    "\n",
    "unique_elements(\"hi\",4,3,6,4,3,\"meow\",\"hi\",\"yellow\",\"meow\",\"bark\",\"bark\")"
   ]
  }
 ],
 "metadata": {
  "kernelspec": {
   "display_name": "Python 3 (ipykernel)",
   "language": "python",
   "name": "python3"
  },
  "language_info": {
   "codemirror_mode": {
    "name": "ipython",
    "version": 3
   },
   "file_extension": ".py",
   "mimetype": "text/x-python",
   "name": "python",
   "nbconvert_exporter": "python",
   "pygments_lexer": "ipython3",
   "version": "3.11.4"
  }
 },
 "nbformat": 4,
 "nbformat_minor": 5
}
