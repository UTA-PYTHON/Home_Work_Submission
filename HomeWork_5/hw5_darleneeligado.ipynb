{
  "nbformat": 4,
  "nbformat_minor": 0,
  "metadata": {
    "colab": {
      "provenance": []
    },
    "kernelspec": {
      "name": "python3",
      "display_name": "Python 3"
    },
    "language_info": {
      "name": "python"
    }
  },
  "cells": [
    {
      "cell_type": "markdown",
      "source": [
        "# **Homework 5. Functions**"
      ],
      "metadata": {
        "id": "KC0sh1MLiudo"
      }
    },
    {
      "cell_type": "markdown",
      "source": [
        "### 1.Write a function named add that takes two numbers as arguments and returns their sum."
      ],
      "metadata": {
        "id": "_X2eYIRRi114"
      }
    },
    {
      "cell_type": "code",
      "source": [
        "def sum(num1, num2):\n",
        "  return num1 +num2"
      ],
      "metadata": {
        "id": "lBobqJZrizdQ"
      },
      "execution_count": null,
      "outputs": []
    },
    {
      "cell_type": "code",
      "source": [
        "sum(3,5)"
      ],
      "metadata": {
        "colab": {
          "base_uri": "https://localhost:8080/"
        },
        "id": "HjYlipe9jzrR",
        "outputId": "48ff9754-b63b-4fce-dd48-974179c78235"
      },
      "execution_count": null,
      "outputs": [
        {
          "output_type": "execute_result",
          "data": {
            "text/plain": [
              "8"
            ]
          },
          "metadata": {},
          "execution_count": 3
        }
      ]
    },
    {
      "cell_type": "markdown",
      "source": [
        "### 2.Write a function named average that takes a list of numbers and returns their average."
      ],
      "metadata": {
        "id": "PK9kYsVkkDy4"
      }
    },
    {
      "cell_type": "code",
      "source": [
        "def average(lst):\n",
        "  lst = []\n",
        "  total = sum(lst)\n",
        "  avg = total/len(lst)\n",
        "  return avg\n"
      ],
      "metadata": {
        "id": "2GKtjCIMj1HC"
      },
      "execution_count": 7,
      "outputs": []
    },
    {
      "cell_type": "code",
      "source": [
        "nums = [2,4,6,8]\n",
        "result = average(nums)\n",
        "print(result)"
      ],
      "metadata": {
        "colab": {
          "base_uri": "https://localhost:8080/"
        },
        "id": "sHCIUBTLcwDU",
        "outputId": "85121402-b762-459b-b231-52bbf407f16f"
      },
      "execution_count": 10,
      "outputs": [
        {
          "output_type": "stream",
          "name": "stdout",
          "text": [
            "5.0\n"
          ]
        }
      ]
    },
    {
      "cell_type": "markdown",
      "source": [
        "### 3. Write a function named factorial that calculates the factorial of a given number. The factorial of a number n is the product of all positive integers less than or equal to n. For example, the factorial of 5 is 5 x 4 x 3 x 2 x 1 = 120"
      ],
      "metadata": {
        "id": "ygzkFk_0fta0"
      }
    },
    {
      "cell_type": "code",
      "source": [
        "def factorial(n):\n",
        "  if n == 0:\n",
        "    return 1\n",
        "  else:\n",
        "    return n * factorial(n-1)\n"
      ],
      "metadata": {
        "id": "2tNC5_IQfu1L"
      },
      "execution_count": 12,
      "outputs": []
    },
    {
      "cell_type": "code",
      "source": [
        "num = 5\n",
        "result = factorial(num)\n",
        "print(f\"the factorial of {num} is {result}\")"
      ],
      "metadata": {
        "colab": {
          "base_uri": "https://localhost:8080/"
        },
        "id": "Wiuk0Y2mgC9A",
        "outputId": "c1c7dd32-5f14-4107-8ecc-48a574d59a7e"
      },
      "execution_count": 19,
      "outputs": [
        {
          "output_type": "stream",
          "name": "stdout",
          "text": [
            "the factorial of 5 is 120\n"
          ]
        }
      ]
    },
    {
      "cell_type": "markdown",
      "source": [
        "### 4. Write a function named string_length that takes a string and returns its length without using the built-in len() function"
      ],
      "metadata": {
        "id": "JIvPnYBZieFO"
      }
    },
    {
      "cell_type": "code",
      "source": [
        "def string_length(astring):\n",
        "  count = 0\n",
        "  for char in astring:\n",
        "    count += 1\n",
        "  return count"
      ],
      "metadata": {
        "id": "dzH0oY8WijVc"
      },
      "execution_count": 23,
      "outputs": []
    },
    {
      "cell_type": "code",
      "source": [
        "string1 = input(\"Enter a sentence: \")\n",
        "\n",
        "result = string_length(string1)\n",
        "print(\"String length: \", result)"
      ],
      "metadata": {
        "colab": {
          "base_uri": "https://localhost:8080/"
        },
        "id": "74KuZhVwk_Zp",
        "outputId": "45146ef4-56f7-4d06-c328-eded20495e6b"
      },
      "execution_count": 27,
      "outputs": [
        {
          "output_type": "stream",
          "name": "stdout",
          "text": [
            "Enter a sentence: Brown cats are cute.\n",
            "String length:  20\n"
          ]
        }
      ]
    },
    {
      "cell_type": "markdown",
      "source": [
        "### 5. Write a function named is_prime that checks if a given number is prime. A prime number is a natural number greater than 1 that is not a product of two smaller natural numbers. The function should return True if the number is prime, otherwise False."
      ],
      "metadata": {
        "id": "CtD7Dnn7mSjc"
      }
    },
    {
      "cell_type": "code",
      "source": [
        "def is_prime(num):\n",
        "  if num  > 1:\n",
        "    for i in range(2,int(num/2)+1):\n",
        "      if (num % i):\n",
        "        print(\"False\")\n",
        "      break\n",
        "    else:\n",
        "      print(\"True\")\n",
        ""
      ],
      "metadata": {
        "id": "8vgQYoRtmXDz"
      },
      "execution_count": 34,
      "outputs": []
    },
    {
      "cell_type": "code",
      "source": [
        "num1 = int(input(\"Enter a number: \"))\n",
        "\n",
        "result = is_prime(num1)"
      ],
      "metadata": {
        "colab": {
          "base_uri": "https://localhost:8080/"
        },
        "id": "WLlqB-Ojo6cu",
        "outputId": "16601c57-0b93-4627-8169-32ed39b2f717"
      },
      "execution_count": 40,
      "outputs": [
        {
          "output_type": "stream",
          "name": "stdout",
          "text": [
            "Enter a number: 7\n",
            "False\n"
          ]
        }
      ]
    },
    {
      "cell_type": "markdown",
      "source": [
        "### 6. Write a function named unique_elements that takes a list as an argument and returns a list of its unique elements in the order they were first encountered."
      ],
      "metadata": {
        "id": "G1wfV9D6p5Ht"
      }
    },
    {
      "cell_type": "code",
      "source": [
        "def unique_elements(lst):\n",
        "  lst_1=[]\n",
        "  for i in lst:\n",
        "    if i not in lst_1:\n",
        "      lst_1.append(i)\n",
        "  return lst_1"
      ],
      "metadata": {
        "id": "IjBxYgrUp7YG"
      },
      "execution_count": 41,
      "outputs": []
    },
    {
      "cell_type": "code",
      "source": [
        "lst_2 = [7,11,13,8,22]\n",
        "\n",
        "result= unique_elements(lst_2)\n",
        "print(result)"
      ],
      "metadata": {
        "colab": {
          "base_uri": "https://localhost:8080/"
        },
        "id": "Hs_cF04qq1-0",
        "outputId": "c9cd0a6d-ee03-461a-f75b-c36f230f5bcf"
      },
      "execution_count": 49,
      "outputs": [
        {
          "output_type": "stream",
          "name": "stdout",
          "text": [
            "[7, 11, 13, 8, 22]\n"
          ]
        }
      ]
    },
    {
      "cell_type": "code",
      "source": [],
      "metadata": {
        "id": "L93x1T6Erj1W"
      },
      "execution_count": null,
      "outputs": []
    }
  ]
}