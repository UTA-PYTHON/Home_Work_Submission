{
  "nbformat": 4,
  "nbformat_minor": 0,
  "metadata": {
    "colab": {
      "provenance": []
    },
    "kernelspec": {
      "name": "python3",
      "display_name": "Python 3"
    },
    "language_info": {
      "name": "python"
    }
  },
  "cells": [
    {
      "cell_type": "markdown",
      "source": [
        "#### **Question 1**"
      ],
      "metadata": {
        "id": "9YRDb9WCVY3G"
      }
    },
    {
      "cell_type": "markdown",
      "source": [
        "**Write a function named add that takes two numbers as arguments and returns the sum.**"
      ],
      "metadata": {
        "id": "2yuAQ2KvVeu5"
      }
    },
    {
      "cell_type": "code",
      "execution_count": null,
      "metadata": {
        "colab": {
          "base_uri": "https://localhost:8080/"
        },
        "id": "Gq36VHd_VSsa",
        "outputId": "74dc2fdf-6c9c-4f4e-c7af-85f3c0761933"
      },
      "outputs": [
        {
          "output_type": "execute_result",
          "data": {
            "text/plain": [
              "8"
            ]
          },
          "metadata": {},
          "execution_count": 1
        }
      ],
      "source": [
        "def add(a,b):\n",
        "  return a+b\n",
        "\n",
        "add(3,5)"
      ]
    },
    {
      "cell_type": "markdown",
      "source": [
        "#### **Question 2**"
      ],
      "metadata": {
        "id": "Oj2vPmJGV32w"
      }
    },
    {
      "cell_type": "markdown",
      "source": [
        "**Write a function named average that takes a list of numbers and returns their average.**"
      ],
      "metadata": {
        "id": "y6yckF6WV7Ix"
      }
    },
    {
      "cell_type": "code",
      "source": [
        "def average(*avg):\n",
        "  count=len(avg)\n",
        "  return (sum(avg))/count\n",
        "\n",
        "average(4,5,6,7,8,9,10)"
      ],
      "metadata": {
        "colab": {
          "base_uri": "https://localhost:8080/"
        },
        "id": "5c0HLWwXVwOy",
        "outputId": "3738b4d0-6edc-49dc-89e7-1c74b4237785"
      },
      "execution_count": null,
      "outputs": [
        {
          "output_type": "execute_result",
          "data": {
            "text/plain": [
              "7.0"
            ]
          },
          "metadata": {},
          "execution_count": 2
        }
      ]
    },
    {
      "cell_type": "markdown",
      "source": [
        "#### **Question 3**"
      ],
      "metadata": {
        "id": "Uvl_F7MdWlzc"
      }
    },
    {
      "cell_type": "markdown",
      "source": [
        "**Write a function named factorial that calculates the factorial of a given number. The factorial of a number n is the product of all positive integers less than or equal to n. For example, the factorial of 5 is 5x4x3x2x1=120**"
      ],
      "metadata": {
        "id": "m67B736mwXYd"
      }
    },
    {
      "cell_type": "code",
      "source": [
        "def factorial(num):\n",
        "  fact=1\n",
        "  if num==0:\n",
        "    print('The factorial of 0 is 1.')\n",
        "  elif num<0:\n",
        "    print('Invalid input. Cannot compute.')\n",
        "  else:\n",
        "    for n in range(1,num+1):\n",
        "      fact=fact*n\n",
        "    print(f'{num}! = {fact}')\n",
        "\n",
        "factorial(5)"
      ],
      "metadata": {
        "colab": {
          "base_uri": "https://localhost:8080/"
        },
        "id": "Hhbw3Nv4Wc2t",
        "outputId": "24fb801c-e54d-418b-c14b-b09514443d00"
      },
      "execution_count": null,
      "outputs": [
        {
          "output_type": "stream",
          "name": "stdout",
          "text": [
            "5! = 120\n"
          ]
        }
      ]
    },
    {
      "cell_type": "markdown",
      "source": [
        "#### **Question 4**"
      ],
      "metadata": {
        "id": "ZvZycV1lEjlJ"
      }
    },
    {
      "cell_type": "markdown",
      "source": [
        "**Write a function named string_length that takes a string and returns its length without using the built-in len() function.**"
      ],
      "metadata": {
        "id": "2G0P6-N8Encc"
      }
    },
    {
      "cell_type": "code",
      "source": [
        "def string_length(word):\n",
        "  w=0\n",
        "  for wr in word:\n",
        "    w+=1\n",
        "  print(w)\n",
        "\n",
        "string_length('data')"
      ],
      "metadata": {
        "colab": {
          "base_uri": "https://localhost:8080/"
        },
        "id": "cOn4urfNDDQj",
        "outputId": "0fa395d1-5883-49f1-9e42-cf118a948f16"
      },
      "execution_count": null,
      "outputs": [
        {
          "output_type": "stream",
          "name": "stdout",
          "text": [
            "4\n"
          ]
        }
      ]
    },
    {
      "cell_type": "markdown",
      "source": [
        "#### **Question 5**"
      ],
      "metadata": {
        "id": "S09V_m3GJF00"
      }
    },
    {
      "cell_type": "markdown",
      "source": [
        "**Write a function named is_prime that checks if a given number is prime. A prime number is a natural number greater than 1 that is not a product of two smaller natural numbers. The function should return True if the number is prime, otherwise False.**"
      ],
      "metadata": {
        "id": "FRe1iV9gJJjI"
      }
    },
    {
      "cell_type": "code",
      "source": [
        "def is_prime(j):\n",
        "  if j<=1:\n",
        "    return False\n",
        "  i=2\n",
        "  while i*i<=j:\n",
        "    if j%i==0:\n",
        "      return False\n",
        "    else:\n",
        "      return True\n",
        "\n",
        "is_prime(37)"
      ],
      "metadata": {
        "colab": {
          "base_uri": "https://localhost:8080/"
        },
        "id": "OKz9IwUSE_cg",
        "outputId": "7fba73c3-3d44-4d5a-95cd-cf364d9f72b4"
      },
      "execution_count": null,
      "outputs": [
        {
          "output_type": "execute_result",
          "data": {
            "text/plain": [
              "True"
            ]
          },
          "metadata": {},
          "execution_count": 21
        }
      ]
    },
    {
      "cell_type": "markdown",
      "source": [
        "#### **Question 6**"
      ],
      "metadata": {
        "id": "IcKoxx6lc_mN"
      }
    },
    {
      "cell_type": "markdown",
      "source": [
        "**Write a function named unique_elements that takes a list as an argument and returns a list of its unique elements in the order they were first encountered.**"
      ],
      "metadata": {
        "id": "aaG1nT_UdCGX"
      }
    },
    {
      "cell_type": "code",
      "source": [
        "def unique_elements(*x):\n",
        "  y=[]\n",
        "  for u in x:\n",
        "    if u not in y:\n",
        "      y.append(u)\n",
        "  print(y)\n",
        "\n",
        "unique_elements(1,1,1,2,2,2,3,3,4,4,5,5,5,5)"
      ],
      "metadata": {
        "colab": {
          "base_uri": "https://localhost:8080/"
        },
        "id": "IKqhl_T7ck-A",
        "outputId": "bb31a474-bf69-48ee-f316-17e2e72299e9"
      },
      "execution_count": null,
      "outputs": [
        {
          "output_type": "stream",
          "name": "stdout",
          "text": [
            "[1, 2, 3, 4, 5]\n"
          ]
        }
      ]
    },
    {
      "cell_type": "code",
      "source": [],
      "metadata": {
        "id": "WLTKk0oXj7hv"
      },
      "execution_count": null,
      "outputs": []
    }
  ]
}