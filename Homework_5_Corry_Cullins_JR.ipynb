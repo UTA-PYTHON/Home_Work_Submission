{
  "nbformat": 4,
  "nbformat_minor": 0,
  "metadata": {
    "colab": {
      "provenance": [],
      "mount_file_id": "1MxdU7jjQs3QtBOiAWw0_n5YmsMNl4wb_",
      "authorship_tag": "ABX9TyPq1mU0hDxd7mKTSeMo9VmJ",
      "include_colab_link": true
    },
    "kernelspec": {
      "name": "python3",
      "display_name": "Python 3"
    },
    "language_info": {
      "name": "python"
    }
  },
  "cells": [
    {
      "cell_type": "markdown",
      "metadata": {
        "id": "view-in-github",
        "colab_type": "text"
      },
      "source": [
        "<a href=\"https://colab.research.google.com/github/UTA-PYTHON/Home_Work_Submission/blob/main/Homework_5_Corry_Cullins_JR.ipynb\" target=\"_parent\"><img src=\"https://colab.research.google.com/assets/colab-badge.svg\" alt=\"Open In Colab\"/></a>"
      ]
    },
    {
      "cell_type": "markdown",
      "source": [
        "## 1.Write a function named add that takes two numbers as arguments and returns their sum."
      ],
      "metadata": {
        "id": "MJdEuLv_2UHk"
      }
    },
    {
      "cell_type": "code",
      "source": [
        "num1= 12\n",
        "num2= 17"
      ],
      "metadata": {
        "id": "FoxTsJnO2irj"
      },
      "execution_count": 1,
      "outputs": []
    },
    {
      "cell_type": "code",
      "source": [
        "def add(num1, num2):\n",
        "    return num1 + num2"
      ],
      "metadata": {
        "id": "wfUVTpID2jUf"
      },
      "execution_count": 17,
      "outputs": []
    },
    {
      "cell_type": "markdown",
      "source": [
        "## 2. Write a function named average that takes a list of numbers and returns their average."
      ],
      "metadata": {
        "id": "K98rbWzU4OHA"
      }
    },
    {
      "cell_type": "code",
      "source": [
        "avgnums= [2,4,6,3,5,7,8,9,11]\n",
        "\n",
        "def average(avgnums):\n",
        "    if not avgnums:  # Check if the list is empty\n",
        "        return 0\n",
        "    return sum(avgnums) / len(avgnums)"
      ],
      "metadata": {
        "id": "m65Wmj5g38f6"
      },
      "execution_count": 21,
      "outputs": []
    },
    {
      "cell_type": "markdown",
      "source": [
        "## 3. Write a function named factorial that calculates the factorial of a given number. The factorialof a number n is the product of all positive integers less than or equal to n. For example, the\n",
        "factorial of 5 is (5x4x3x2x1=120)"
      ],
      "metadata": {
        "id": "l_Iu9NKW4YDO"
      }
    },
    {
      "cell_type": "code",
      "source": [
        "f1s=8\n",
        "def factorial(f1s):\n",
        "    if f1s < 0:\n",
        "        return \"Factorial not defined for negative numbers\"\n",
        "    elif f1s == 0 or f1s == 1 :\n",
        "        return 0\n",
        "    else:\n",
        "        return f1s * factorial(f1s - 1)"
      ],
      "metadata": {
        "id": "wKE7-FTL4vjh"
      },
      "execution_count": 54,
      "outputs": []
    },
    {
      "cell_type": "markdown",
      "source": [
        "## 4. Write a function named string_length that takes a string and returns its length without using the built-in len() function."
      ],
      "metadata": {
        "id": "mBBezwFK87OJ"
      }
    },
    {
      "cell_type": "code",
      "source": [
        "s=[avgnums]\n",
        "\n",
        "def string_length(s):\n",
        "    length = 0\n",
        "    for char in s:\n",
        "        length += 1\n",
        "    return length\n",
        "print(string_length(avgnums))"
      ],
      "metadata": {
        "colab": {
          "base_uri": "https://localhost:8080/"
        },
        "id": "ZKudaj1F59zx",
        "outputId": "cc2e9039-4c4b-4530-eec9-92826ca1259e"
      },
      "execution_count": 64,
      "outputs": [
        {
          "output_type": "stream",
          "name": "stdout",
          "text": [
            "9\n"
          ]
        }
      ]
    },
    {
      "cell_type": "markdown",
      "source": [
        "## 5. Write a function named is_prime that checks if a given number is prime. A prime number is anatural number greater than 1 that is not a product of two smaller natural numbers. The function should return True if the number is prime, otherwise False."
      ],
      "metadata": {
        "id": "EUCL0piG87Yr"
      }
    },
    {
      "cell_type": "code",
      "source": [
        "def is_prime(n):\n",
        "    if n <= 1:\n",
        "        return False\n",
        "    for i in range(2, int(n**0.5) + 1):\n",
        "        if n % i == 0:\n",
        "            return False\n",
        "    return True\n"
      ],
      "metadata": {
        "id": "DGk5wZa29gTf"
      },
      "execution_count": 62,
      "outputs": []
    },
    {
      "cell_type": "markdown",
      "source": [
        "## 6. Write a function named unique_elements that takes a list as an argument and returns a list of its unique elements in the order they were first encountered."
      ],
      "metadata": {
        "id": "d8QUqE7m9VMR"
      }
    },
    {
      "cell_type": "code",
      "source": [
        "def unique_elements(lst):\n",
        "    seen = set()\n",
        "    unique = []\n",
        "    for element in lst:\n",
        "        if element not in seen:\n",
        "            unique.append(element)\n",
        "            seen.add(element)\n",
        "    return unique\n",
        "sample_list = [1, 2, 2, 3, 4, 4, 4, 5, 6, 6, 7]\n",
        "print(unique_elements(sample_list))"
      ],
      "metadata": {
        "colab": {
          "base_uri": "https://localhost:8080/"
        },
        "id": "P3cLy1an9ga9",
        "outputId": "e5de77ca-9c9a-4e5f-8151-a63484a29332"
      },
      "execution_count": 63,
      "outputs": [
        {
          "output_type": "stream",
          "name": "stdout",
          "text": [
            "[1, 2, 3, 4, 5, 6, 7]\n"
          ]
        }
      ]
    }
  ]
}