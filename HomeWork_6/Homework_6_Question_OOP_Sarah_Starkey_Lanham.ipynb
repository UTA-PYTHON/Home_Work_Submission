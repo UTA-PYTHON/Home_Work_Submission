{
  "nbformat": 4,
  "nbformat_minor": 0,
  "metadata": {
    "colab": {
      "provenance": []
    },
    "kernelspec": {
      "name": "python3",
      "display_name": "Python 3"
    },
    "language_info": {
      "name": "python"
    }
  },
  "cells": [
    {
      "cell_type": "markdown",
      "source": [
        "# **Homework 6: Object-oriented programming (OOP)**"
      ],
      "metadata": {
        "id": "VIqeR4FVugAQ"
      }
    },
    {
      "cell_type": "markdown",
      "source": [
        "### **Due date:** October 27, at 2:30 PM.\n",
        "\n",
        "### **Submission:** Please push your homework to the our GitHub repository, and place it in the 'Homework 6' folder."
      ],
      "metadata": {
        "id": "YBl1Dzbx0tEo"
      }
    },
    {
      "cell_type": "markdown",
      "source": [
        "\n",
        "\n",
        "---\n",
        "\n",
        "\n",
        "\n",
        "---\n",
        "\n"
      ],
      "metadata": {
        "id": "JsdFDiVvltSA"
      }
    },
    {
      "cell_type": "markdown",
      "source": [
        "## **Question**"
      ],
      "metadata": {
        "id": "PKFjn9RQxdKh"
      }
    },
    {
      "cell_type": "markdown",
      "source": [
        "### 1. Design a class hierarchy to represent different types of vehicles in a transportation system. Start with a base class called Vehicle with the following attributes and methods:\n",
        "\n",
        "**Attributes:**\n",
        "\n",
        "- make (string)\n",
        "- model (string)\n",
        "- year (integer)\n",
        "- fuel (float)\n",
        "\n",
        "**Methods:**\n",
        "\n",
        "- __init__(self, make, model, year, fuel): Initialize the attributes.\n",
        "- info(self): Print basic information about the vehicle, including make, model, year, and fuel efficiency.\n",
        "\n",
        "Next, create two subclasses that inherit from Vehicle:\n",
        "\n",
        "### 2. Create a subclass called Car with the following additional attributes and methods:\n",
        "\n",
        "**Attributes:**\n",
        "\n",
        "- num_doors (integer)\n",
        "- is_sedan (boolean)\n",
        "\n",
        "\n",
        "**Methods:**\n",
        "\n",
        "- __init__(self, make, model, year, fuel, num_doors, is_sedan): Initialize the attributes.\n",
        "- display_car_info(self): Print detailed information about the car, including the number of doors and whether it's a sedan.\n",
        "\n",
        "\n",
        "### 3. Create a subclass called Motorcycle with the following additional attributes and methods:\n",
        "\n",
        "**Attributes:**\n",
        "\n",
        "- top_speed (integer)\n",
        "- engine_size (float)\n",
        "\n",
        "\n",
        "**Methods:**\n",
        "\n",
        "- __init__(self, make, model, year, fuel, top_speed, engine_size): Initialize the attributes.\n",
        "- display_motorcycle_info(self): Print detailed information about the motorcycle, including top speed and engine size.\n",
        "\n",
        "\n",
        "Finally, create instances of both Car and Motorcycle classes and demonstrate the use of their methods to display information about each vehicle."
      ],
      "metadata": {
        "id": "i9czG4jTxdvg"
      }
    },
    {
      "cell_type": "code",
      "source": [
        "class Vehicle:\n",
        "  def __init__(self, make, model, year, fuel_economy):\n",
        "    self.make=make\n",
        "    self.model=model\n",
        "    self.year=int(year)\n",
        "    self.fuel_economy=float(fuel_economy)\n",
        "\n",
        "  def describe(self):\n",
        "    return f\"This vehicle is a {self.make} {self.model} built in {self.year} and gets {self.fuel_economy} miles per gallon.\"\n",
        "\n",
        "\n",
        "\n"
      ],
      "metadata": {
        "id": "1-VdpWBGylS5"
      },
      "execution_count": 5,
      "outputs": []
    },
    {
      "cell_type": "code",
      "source": [
        "CRV=Vehicle(\"Honda\",\"CRV\",2016, 25.7)\n",
        "CRV.describe()"
      ],
      "metadata": {
        "colab": {
          "base_uri": "https://localhost:8080/",
          "height": 35
        },
        "id": "_U8GaKhJIMB2",
        "outputId": "c6773332-44c0-4cf2-86bf-de3f8719f931"
      },
      "execution_count": 33,
      "outputs": [
        {
          "output_type": "execute_result",
          "data": {
            "text/plain": [
              "'This vehicle is a Honda CRV built in 2016 and gets 25.7 miles per gallon.'"
            ],
            "application/vnd.google.colaboratory.intrinsic+json": {
              "type": "string"
            }
          },
          "metadata": {},
          "execution_count": 33
        }
      ]
    },
    {
      "cell_type": "code",
      "source": [
        "class Car(Vehicle):\n",
        "  def __init__(self, num_doors, is_sedan):\n",
        "    self.num_doors=int(num_doors)\n",
        "    self.is_sedan=bool(is_sedan)\n",
        "\n",
        "  def display_car_info(self):\n",
        "    return f\"This car is a {self.make} {self.model} built in {self.year} with {self.num_doors} doors and gets {self.fuel_economy}. Is it a sedan? {self.is_sedan}\""
      ],
      "metadata": {
        "id": "5LcVJdeM7vig"
      },
      "execution_count": 18,
      "outputs": []
    },
    {
      "cell_type": "code",
      "source": [
        "class Motorcycle(Vehicle):\n",
        "  def __init__(self, top_speed, engine_size):\n",
        "    self.top_speed=int(top_speed)\n",
        "    self.engine_size=float(engine_size)\n",
        "\n",
        "  def display_motorcycle_info(self):\n",
        "    return f\"This motorcycle is a {self.make} {self.model} with a top speed of {self.top_speed} and a {self.engine_size} liter engine.\""
      ],
      "metadata": {
        "id": "Hkmu-hrX_AYK"
      },
      "execution_count": 9,
      "outputs": []
    },
    {
      "cell_type": "code",
      "source": [
        "car1=Car(4,True)\n",
        "car1.make=\"Buick\"\n",
        "car1.model=\"LaCrosse\"\n",
        "car1.year=2006\n",
        "car1.fuel_economy=23.4\n",
        "\n",
        "car1.display_car_info()"
      ],
      "metadata": {
        "colab": {
          "base_uri": "https://localhost:8080/",
          "height": 35
        },
        "id": "87OBfpoID5_x",
        "outputId": "cf3826e2-19a3-4133-d27a-3088ef4e7fc0"
      },
      "execution_count": 46,
      "outputs": [
        {
          "output_type": "execute_result",
          "data": {
            "text/plain": [
              "'This car is a Buick LaCrosse built in 2006 with 4 doors and gets 23.4. Is it a sedan? True'"
            ],
            "application/vnd.google.colaboratory.intrinsic+json": {
              "type": "string"
            }
          },
          "metadata": {},
          "execution_count": 46
        }
      ]
    },
    {
      "cell_type": "code",
      "source": [
        "motorcycle1=Motorcycle(160, 2.5)\n",
        "motorcycle1.make=\"Indian\"\n",
        "motorcycle1.model=\"Frolick\"\n",
        "motorcycle1.year=2022\n",
        "motorcycle1.fuel_economy=300\n",
        "\n",
        "\n",
        "motorcycle1.display_motorcycle_info()"
      ],
      "metadata": {
        "colab": {
          "base_uri": "https://localhost:8080/",
          "height": 35
        },
        "id": "kPEAOGHTFV7H",
        "outputId": "0866cc51-f4ca-4ecd-c96c-df1597b041fd"
      },
      "execution_count": 48,
      "outputs": [
        {
          "output_type": "execute_result",
          "data": {
            "text/plain": [
              "'This motorcycle is a Indian Frolick with a top speed of 160 and a 2.5 liter engine.'"
            ],
            "application/vnd.google.colaboratory.intrinsic+json": {
              "type": "string"
            }
          },
          "metadata": {},
          "execution_count": 48
        }
      ]
    },
    {
      "cell_type": "code",
      "source": [],
      "metadata": {
        "id": "NkXYrRPUOEKw"
      },
      "execution_count": null,
      "outputs": []
    }
  ]
}