{
  "nbformat": 4,
  "nbformat_minor": 0,
  "metadata": {
    "colab": {
      "provenance": []
    },
    "kernelspec": {
      "name": "python3",
      "display_name": "Python 3"
    },
    "language_info": {
      "name": "python"
    }
  },
  "cells": [
    {
      "cell_type": "markdown",
      "source": [
        "# **Homework 6: Object-oriented programming (OOP)**"
      ],
      "metadata": {
        "id": "VIqeR4FVugAQ"
      }
    },
    {
      "cell_type": "markdown",
      "source": [
        "### **Due date:** October 27, at 2:30 PM.\n",
        "\n",
        "### **Submission:** Please push your homework to the our GitHub repository, and place it in the 'Homework 6' folder."
      ],
      "metadata": {
        "id": "YBl1Dzbx0tEo"
      }
    },
    {
      "cell_type": "markdown",
      "source": [
        "\n",
        "\n",
        "---\n",
        "\n",
        "\n",
        "\n",
        "---\n",
        "\n"
      ],
      "metadata": {
        "id": "JsdFDiVvltSA"
      }
    },
    {
      "cell_type": "markdown",
      "source": [
        "## **Question**"
      ],
      "metadata": {
        "id": "PKFjn9RQxdKh"
      }
    },
    {
      "cell_type": "markdown",
      "source": [
        "### 1. Design a class hierarchy to represent different types of vehicles in a transportation system. Start with a base class called Vehicle with the following attributes and methods:\n",
        "\n",
        "**Attributes:**\n",
        "\n",
        "- make (string)\n",
        "- model (string)\n",
        "- year (integer)\n",
        "- fuel (float)\n",
        "\n",
        "**Methods:**\n",
        "\n",
        "- __init__(self, make, model, year, fuel): Initialize the attributes.\n",
        "- info(self): Print basic information about the vehicle, including make, model, year, and fuel efficiency.\n",
        "\n",
        "Next, create two subclasses that inherit from Vehicle:\n",
        "\n",
        "### 2. Create a subclass called Car with the following additional attributes and methods:\n",
        "\n",
        "**Attributes:**\n",
        "\n",
        "- num_doors (integer)\n",
        "- is_sedan (boolean)\n",
        "\n",
        "\n",
        "**Methods:**\n",
        "\n",
        "- __init__(self, make, model, year, fuel, num_doors, is_sedan): Initialize the attributes.\n",
        "- display_car_info(self): Print detailed information about the car, including the number of doors and whether it's a sedan.\n",
        "\n",
        "\n",
        "### 3. Create a subclass called Motorcycle with the following additional attributes and methods:\n",
        "\n",
        "**Attributes:**\n",
        "\n",
        "- top_speed (integer)\n",
        "- engine_size (float)\n",
        "\n",
        "\n",
        "**Methods:**\n",
        "\n",
        "- __init__(self, make, model, year, fuel, top_speed, engine_size): Initialize the attributes.\n",
        "- display_motorcycle_info(self): Print detailed information about the motorcycle, including top speed and engine size.\n",
        "\n",
        "\n",
        "Finally, create instances of both Car and Motorcycle classes and demonstrate the use of their methods to display information about each vehicle."
      ],
      "metadata": {
        "id": "i9czG4jTxdvg"
      }
    },
    {
      "cell_type": "code",
      "source": [
        "class Vehicle:\n",
        "    def __init__(self, make, model, year, fuel):\n",
        "        self.make = make\n",
        "        self.model = model\n",
        "        self.year = year\n",
        "        self.fuel = fuel\n",
        "\n",
        "    def info(self):\n",
        "        print(f\"Make: {self.make}\")\n",
        "        print(f\"Model: {self.model}\")\n",
        "        print(f\"Year: {self.year}\")\n",
        "        print(f\"Fuel: {self.fuel}\")\n",
        "\n",
        "class Car(Vehicle):\n",
        "    def __init__(self, make, model, year, fuel, num_doors):\n",
        "        super().__init__(make, model, year, fuel)\n",
        "        self.num_doors = num_doors\n",
        "\n",
        "    def info(self):\n",
        "        super().info()\n",
        "        print(f\"Number of doors: {self.num_doors}\")\n",
        "\n",
        "class Truck(Vehicle):\n",
        "    def __init__(self, make, model, year, fuel, max_payload):\n",
        "        super().__init__(make, model, year, fuel)\n",
        "        self.max_payload = max_payload\n",
        "\n",
        "    def info(self):\n",
        "        super().info()\n",
        "        print(f\"Max Payload: {self.max_payload} lbs\")\n",
        "\n",
        "car = Car(\"Chevy\", \"Blazer\", 2004, 18, 2)\n",
        "truck = Truck(\"Ford\", \"F150\", 2019, 14, 4000)\n",
        "\n",
        "car.info()\n",
        "print()\n",
        "truck.info()\n"
      ],
      "metadata": {
        "id": "1-VdpWBGylS5",
        "colab": {
          "base_uri": "https://localhost:8080/"
        },
        "outputId": "ccadfaff-9691-4e8c-f033-7d814f98644b"
      },
      "execution_count": 9,
      "outputs": [
        {
          "output_type": "stream",
          "name": "stdout",
          "text": [
            "Make: Chevy\n",
            "Model: Blazer\n",
            "Year: 2004\n",
            "Fuel: 18\n",
            "Number of doors: 2\n",
            "\n",
            "Make: Ford\n",
            "Model: F150\n",
            "Year: 2019\n",
            "Fuel: 14\n",
            "Max Payload: 4000 lbs\n"
          ]
        }
      ]
    },
    {
      "cell_type": "code",
      "source": [
        "#Q2\n",
        "\n",
        "class Car(Vehicle):\n",
        "  def __init__(self, make, model, year,fuel, num_doors, is_sedan):\n",
        "    super().__init__(make, model, year, fuel)\n",
        "    self.num_doors=num_doors\n",
        "    self.is_sedan=is_sedan\n",
        "  def display_car_info(self):\n",
        "    super().info()\n",
        "    print(f\"Number of doors: {self.num_doors}\")\n",
        "    print(f\"Is it a sedan {'yes' if self.is_sedan else 'no'}\")\n",
        "\n",
        "car = Car(\"Chevy\", \"Blazer\", 2004, 18, 2, True)\n",
        "car.display_car_info()\n",
        "\n",
        "\n",
        "\n"
      ],
      "metadata": {
        "colab": {
          "base_uri": "https://localhost:8080/"
        },
        "id": "drJrQPcZltWH",
        "outputId": "1e2e05bf-1d84-44b5-fc4a-c5d31ee0d6cc"
      },
      "execution_count": 10,
      "outputs": [
        {
          "output_type": "stream",
          "name": "stdout",
          "text": [
            "Make: Chevy\n",
            "Model: Blazer\n",
            "Year: 2004\n",
            "Fuel: 18\n",
            "Number of doors: 2\n",
            "Is it a sedan yes\n"
          ]
        }
      ]
    },
    {
      "cell_type": "code",
      "source": [
        "#Q3\n",
        "#Q3\n",
        "class Motorcycle(Vehicle):\n",
        "    def __init__(self, make, model, year, fuel, top_speed, engine_size):\n",
        "        super().__init__(make, model, year, fuel)\n",
        "        self.top_speed = top_speed\n",
        "        self.engine_size = engine_size\n",
        "\n",
        "    def display_motorcycle_info(self):\n",
        "        super().info()\n",
        "        print(f\"Top Speed: {self.top_speed} mph\")\n",
        "        print(f\"Engine Size: {self.engine_size} cc\")\n",
        "\n",
        "\n",
        "motorcycle = Motorcycle(\"Harley-Davidson\", \"wideglide\", 2005, 45, 150, 1450)\n",
        "\n",
        "\n",
        "print()\n",
        "motorcycle.display_motorcycle_info()\n"
      ],
      "metadata": {
        "colab": {
          "base_uri": "https://localhost:8080/"
        },
        "id": "UMyM7WyGlgrq",
        "outputId": "c4257898-ea56-4985-b527-1c6c2f3d05b6"
      },
      "execution_count": 11,
      "outputs": [
        {
          "output_type": "stream",
          "name": "stdout",
          "text": [
            "\n",
            "Make: Harley-Davidson\n",
            "Model: wideglide\n",
            "Year: 2005\n",
            "Fuel: 45\n",
            "Top Speed: 150 mph\n",
            "Engine Size: 1450 cc\n"
          ]
        }
      ]
    },
    {
      "cell_type": "code",
      "source": [
        "#q3 cont\n",
        "\n",
        "car.display_car_info()\n",
        "print()\n",
        "motorcycle.display_motorcycle_info()"
      ],
      "metadata": {
        "colab": {
          "base_uri": "https://localhost:8080/"
        },
        "id": "ooG-xzmatDtM",
        "outputId": "288dbcf8-d6bb-4ddb-96c0-a6f4d4c2343c"
      },
      "execution_count": 13,
      "outputs": [
        {
          "output_type": "stream",
          "name": "stdout",
          "text": [
            "Make: Chevy\n",
            "Model: Blazer\n",
            "Year: 2004\n",
            "Fuel: 18\n",
            "Number of doors: 2\n",
            "Is it a sedan yes\n",
            "\n",
            "Make: Harley-Davidson\n",
            "Model: wideglide\n",
            "Year: 2005\n",
            "Fuel: 45\n",
            "Top Speed: 150 mph\n",
            "Engine Size: 1450 cc\n"
          ]
        }
      ]
    },
    {
      "cell_type": "code",
      "source": [],
      "metadata": {
        "id": "K92Ntpx2tTH_"
      },
      "execution_count": null,
      "outputs": []
    }
  ]
}