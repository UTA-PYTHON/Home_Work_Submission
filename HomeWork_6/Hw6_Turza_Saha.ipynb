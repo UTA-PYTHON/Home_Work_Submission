{
  "cells": [
    {
      "cell_type": "markdown",
      "metadata": {
        "id": "VIqeR4FVugAQ"
      },
      "source": [
        "# **Homework 6: Object-oriented programming (OOP)**"
      ]
    },
    {
      "cell_type": "markdown",
      "metadata": {
        "id": "YBl1Dzbx0tEo"
      },
      "source": [
        "### **Due date:** October 27, at 2:30 PM.\n",
        "\n",
        "### **Submission:** Please push your homework to the our GitHub repository, and place it in the 'Homework 6' folder."
      ]
    },
    {
      "cell_type": "markdown",
      "metadata": {
        "id": "JsdFDiVvltSA"
      },
      "source": [
        "\n",
        "\n",
        "---\n",
        "\n",
        "\n",
        "\n",
        "---\n",
        "\n"
      ]
    },
    {
      "cell_type": "markdown",
      "metadata": {
        "id": "PKFjn9RQxdKh"
      },
      "source": [
        "## **Question**"
      ]
    },
    {
      "cell_type": "markdown",
      "metadata": {
        "id": "i9czG4jTxdvg"
      },
      "source": [
        "### 1. Design a class hierarchy to represent different types of vehicles in a transportation system. Start with a base class called Vehicle with the following attributes and methods:\n",
        "\n",
        "**Attributes:**\n",
        "\n",
        "- make (string)\n",
        "- model (string)\n",
        "- year (integer)\n",
        "- fuel (float)\n",
        "\n",
        "**Methods:**\n",
        "\n",
        "- __init__(self, make, model, year, fuel): Initialize the attributes.\n",
        "- info(self): Print basic information about the vehicle, including make, model, year, and fuel efficiency.\n",
        "\n",
        "Next, create two subclasses that inherit from Vehicle:\n",
        "\n",
        "### 2. Create a subclass called Car with the following additional attributes and methods:\n",
        "\n",
        "**Attributes:**\n",
        "\n",
        "- num_doors (integer)\n",
        "- is_sedan (boolean)\n",
        "\n",
        "\n",
        "**Methods:**\n",
        "\n",
        "- __init__(self, make, model, year, fuel, num_doors, is_sedan): Initialize the attributes.\n",
        "- display_car_info(self): Print detailed information about the car, including the number of doors and whether it's a sedan.\n",
        "\n",
        "\n",
        "### 3. Create a subclass called Motorcycle with the following additional attributes and methods:\n",
        "\n",
        "**Attributes:**\n",
        "\n",
        "- top_speed (integer)\n",
        "- engine_size (float)\n",
        "\n",
        "\n",
        "**Methods:**\n",
        "\n",
        "- __init__(self, make, model, year, fuel, top_speed, engine_size): Initialize the attributes.\n",
        "- display_motorcycle_info(self): Print detailed information about the motorcycle, including top speed and engine size.\n",
        "\n",
        "\n",
        "Finally, create instances of both Car and Motorcycle classes and demonstrate the use of their methods to display information about each vehicle."
      ]
    },
    {
      "cell_type": "code",
      "execution_count": 1,
      "metadata": {
        "id": "1-VdpWBGylS5"
      },
      "outputs": [
        {
          "name": "stdout",
          "output_type": "stream",
          "text": [
            "Car Information:\n",
            "Make: Honda\n",
            "Model: Civic\n",
            "Year: 2022\n",
            "Fuel Efficiency: 32 mpg\n",
            "Number of doors: 4\n",
            "Is Sedan? True\n",
            "\n",
            "\n",
            "Motorcycle Information:\n",
            "Make: Yamaha\n",
            "Model: YZF-R1\n",
            "Year: 2021\n",
            "Fuel Efficiency: 30 mpg\n",
            "Top speed: 186\n",
            "Engine Size: 998\n",
            "\n",
            "\n",
            "Vehicle Information:\n",
            "Make: Ford\n",
            "Model: F-150\n",
            "Year: 2020\n",
            "Fuel Efficiency: 20 mpg\n"
          ]
        }
      ],
      "source": [
        "\n",
        "class Vehicle:\n",
        "    def __init__(self, make, model, year, fuel):\n",
        "        self.make = make\n",
        "        self.model = model\n",
        "        self.year = year\n",
        "        self.fuel = fuel\n",
        "\n",
        "    def info(self):\n",
        "        print(f\"Make: {self.make}\")\n",
        "        print(f\"Model: {self.model}\")\n",
        "        print(f\"Year: {self.year}\")\n",
        "        print(f\"Fuel Efficiency: {self.fuel} mpg\")\n",
        "\n",
        "\n",
        "class Car(Vehicle):\n",
        "    def __init__(self, make,model,year,fuel,num_doors, is_sedan):\n",
        "        super().__init__(make,model, year, fuel)\n",
        "        self.num_doors = num_doors\n",
        "        self.is_sedan = is_sedan\n",
        "\n",
        "    def display_car_info(self):\n",
        "        self.info()\n",
        "        print(f\"Number of doors: {self.num_doors}\")\n",
        "        print(f\"Is Sedan? {self.is_sedan}\")\n",
        "\n",
        "\n",
        "class Motorcycle(Vehicle):\n",
        "    def __init__(self, make,model,year,fuel,top_speed, engine_size):\n",
        "        super().__init__(make,model, year, fuel)\n",
        "        self.top_speed = top_speed\n",
        "        self.engine_size = engine_size\n",
        "\n",
        "    def display_motorcycle_info(self):\n",
        "        self.info()\n",
        "        print(f\"Top speed: {self.top_speed}\")\n",
        "        print(f\"Engine Size: {self.engine_size}\")\n",
        "\n",
        "\n",
        "#Car Instance\n",
        "car = Car(\"Honda\", \"Civic\", 2022, 32, 4, True)\n",
        "print(\"Car Information:\")\n",
        "car.display_car_info()\n",
        "print(\"\\n\")\n",
        "\n",
        "#Motorcycle Instance\n",
        "motorcycle = Motorcycle(\"Yamaha\", \"YZF-R1\", 2021, 30, 186, 998)\n",
        "print(\"Motorcycle Information:\")\n",
        "motorcycle.display_motorcycle_info()\n",
        "print(\"\\n\")\n",
        "\n",
        "#Also created a Vehicle Instance\n",
        "vehicle = Vehicle(\"Ford\", \"F-150\", 2020, 20)\n",
        "print(\"Vehicle Information:\")\n",
        "vehicle.info()"
      ]
    },
    {
      "cell_type": "code",
      "execution_count": null,
      "metadata": {},
      "outputs": [],
      "source": []
    }
  ],
  "metadata": {
    "colab": {
      "provenance": []
    },
    "kernelspec": {
      "display_name": "Python 3",
      "name": "python3"
    },
    "language_info": {
      "codemirror_mode": {
        "name": "ipython",
        "version": 3
      },
      "file_extension": ".py",
      "mimetype": "text/x-python",
      "name": "python",
      "nbconvert_exporter": "python",
      "pygments_lexer": "ipython3",
      "version": "3.11.5"
    }
  },
  "nbformat": 4,
  "nbformat_minor": 0
}
