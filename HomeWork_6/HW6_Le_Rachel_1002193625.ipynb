{
  "nbformat": 4,
  "nbformat_minor": 0,
  "metadata": {
    "colab": {
      "provenance": []
    },
    "kernelspec": {
      "name": "python3",
      "display_name": "Python 3"
    },
    "language_info": {
      "name": "python"
    }
  },
  "cells": [
    {
      "cell_type": "markdown",
      "source": [
        "Rachel Le\n",
        "\n",
        "1002193625\n",
        "\n",
        "HW6"
      ],
      "metadata": {
        "id": "SQ2GZi_VKf76"
      }
    },
    {
      "cell_type": "markdown",
      "source": [
        "---"
      ],
      "metadata": {
        "id": "5edEcuXWKpn6"
      }
    },
    {
      "cell_type": "markdown",
      "source": [
        "1. Design a class hierarchy to represent different types of vehicles in a transportation system. Start with a base class called Vehicle with the following attributes and methods:\n",
        "\n",
        "\n",
        "Attributes:\n",
        "- make (string)\n",
        "- model (string)\n",
        "- year (integer)\n",
        "- fuel (float)\n",
        "\n",
        "\n",
        "Methods:\n",
        "- init(self, make, model, year, fuel): Initialize the attributes.\n",
        "- info(self): Print basic information about the vehicle, including make, model, year, and fuel efficiency.\n"
      ],
      "metadata": {
        "id": "yzdRJlMUKqLl"
      }
    },
    {
      "cell_type": "code",
      "execution_count": 13,
      "metadata": {
        "id": "wZZG1bLWKY3C"
      },
      "outputs": [],
      "source": [
        "#creating parent class\n",
        "class Vehicle:\n",
        "  #initialize attributes\n",
        "  def __init__(self,make,model,year,fuel):\n",
        "    self.make=make\n",
        "    self.model=model\n",
        "    self.year=year\n",
        "    self.fuel=fuel\n",
        "\n",
        "  #method: info\n",
        "  def info(self):\n",
        "    return f\"This is a {self.year} {self.make} {self.model} that has a fuel efficiency of {self.fuel} miles per gallon.\"\n"
      ]
    },
    {
      "cell_type": "markdown",
      "source": [
        "Next, create two subclasses that inherit from Vehicle:\n",
        "\n",
        "2. Create a subclass called Car with the following additional attributes and methods:\n",
        "\n",
        "\n",
        "Attributes:\n",
        "- num_doors (integer)\n",
        "- is_sedan (boolean)\n",
        "\n",
        "\n",
        "Methods:\n",
        "- init(self, make, model, year, fuel, num_doors, is_sedan): Initialize the attributes.\n",
        "- display_car_info(self): Print detailed information about the car, including the number of doors and whether it's a sedan."
      ],
      "metadata": {
        "id": "-2UBBQnXL-Pn"
      }
    },
    {
      "cell_type": "code",
      "source": [
        "#creating subclass: Car\n",
        "class Car(Vehicle):\n",
        "  #initialize attributes\n",
        "  def __init__(self,make,model,year,fuel,num_doors,is_sedan):\n",
        "    super().__init__(make,model,year,fuel) #construct from parent\n",
        "    self.num_doors=num_doors\n",
        "    self.is_sedan=is_sedan\n",
        "\n",
        "  #method: display car info\n",
        "  def display_car_info(self):\n",
        "    #calling method from parent class\n",
        "    base_display=super().info()\n",
        "    return f\"{base_display} It has {self.num_doors} doors, and it is {self.is_sedan} that this car is a sedan.\"\n",
        "\n",
        "#testing code (demonstrating use of methods for Car instance)\n",
        "mycar=Car('honda','accord',2002,28.5,4,True)\n",
        "mycar.display_car_info()"
      ],
      "metadata": {
        "colab": {
          "base_uri": "https://localhost:8080/",
          "height": 35
        },
        "id": "yMigjuNPMHsE",
        "outputId": "1d1c9476-84b3-4c8a-cedd-3c5d13181229"
      },
      "execution_count": 14,
      "outputs": [
        {
          "output_type": "execute_result",
          "data": {
            "text/plain": [
              "'This is a 2002 honda accord that has a fuel efficiency of 28.5 miles per gallon. It has 4 doors, and it is True that this car is a sedan.'"
            ],
            "application/vnd.google.colaboratory.intrinsic+json": {
              "type": "string"
            }
          },
          "metadata": {},
          "execution_count": 14
        }
      ]
    },
    {
      "cell_type": "markdown",
      "source": [
        "3. Create a subclass called Motorcycle with the following additional attributes and methods:\n",
        "\n",
        "\n",
        "Attributes:\n",
        "- top_speed (integer)\n",
        "- engine_size (float)\n",
        "\n",
        "\n",
        "Methods:\n",
        "- init(self, make, model, year, fuel, top_speed, engine_size): Initialize the attributes.\n",
        "- display_motorcycle_info(self): Print detailed information about the motorcycle, including top speed and engine size.\n",
        "\n",
        "\n",
        "Finally, create instances of both Car and Motorcycle classes and demonstrate the use of their methods to display information about each vehicle."
      ],
      "metadata": {
        "id": "ambnNMzRMKO4"
      }
    },
    {
      "cell_type": "code",
      "source": [
        "#creating subclass: Motorcycle\n",
        "class Motorcycle(Vehicle):\n",
        "  #initialize attributes\n",
        "  def __init__(self,make,model,year,fuel,top_speed,engine_size):\n",
        "    super().__init__(make,model,year,fuel) #construct from parent\n",
        "    self.top_speed=top_speed\n",
        "    self.engine_size=engine_size\n",
        "\n",
        "  #method: display motorcycle info\n",
        "  def display_motorcycle_info(self):\n",
        "    #calling method from parent class\n",
        "    base_display=super().info()\n",
        "    return f\"{base_display} It has a top speed of {self.top_speed} mph and an engine size of {self.engine_size}L.\"\n",
        "\n",
        "#testing code (demonstrating use of methods for Motorcycle instance)\n",
        "mybike=Motorcycle('honda','fakemodel',2020,23.2,250,4.6)\n",
        "mybike.display_motorcycle_info()"
      ],
      "metadata": {
        "colab": {
          "base_uri": "https://localhost:8080/",
          "height": 35
        },
        "id": "Umsu9oYzMUA3",
        "outputId": "d0c223f4-0fa0-4f7f-bb75-37a8ec149b71"
      },
      "execution_count": 12,
      "outputs": [
        {
          "output_type": "execute_result",
          "data": {
            "text/plain": [
              "'This is a 2020 honda fakemodel that has a fuel efficiency of 23.2 miles per gallon. It has a top speed of 250 mph and an engine size of 4.6L.'"
            ],
            "application/vnd.google.colaboratory.intrinsic+json": {
              "type": "string"
            }
          },
          "metadata": {},
          "execution_count": 12
        }
      ]
    },
    {
      "cell_type": "code",
      "source": [],
      "metadata": {
        "id": "IGqzAMzHRviL"
      },
      "execution_count": null,
      "outputs": []
    }
  ]
}