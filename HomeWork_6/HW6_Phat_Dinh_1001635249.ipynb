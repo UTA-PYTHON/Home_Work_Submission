{
  "nbformat": 4,
  "nbformat_minor": 0,
  "metadata": {
    "colab": {
      "provenance": []
    },
    "kernelspec": {
      "name": "python3",
      "display_name": "Python 3"
    },
    "language_info": {
      "name": "python"
    }
  },
  "cells": [
    {
      "cell_type": "markdown",
      "source": [
        "# **Homework 6: Object-oriented programming (OOP)**"
      ],
      "metadata": {
        "id": "VIqeR4FVugAQ"
      }
    },
    {
      "cell_type": "markdown",
      "source": [
        "### **Due date:** October 27, at 2:30 PM.\n",
        "\n",
        "### **Submission:** Please push your homework to the our GitHub repository, and place it in the 'Homework 6' folder."
      ],
      "metadata": {
        "id": "YBl1Dzbx0tEo"
      }
    },
    {
      "cell_type": "markdown",
      "source": [
        "\n",
        "\n",
        "---\n",
        "\n",
        "\n",
        "\n",
        "---\n",
        "\n"
      ],
      "metadata": {
        "id": "JsdFDiVvltSA"
      }
    },
    {
      "cell_type": "markdown",
      "source": [
        "## **Question**"
      ],
      "metadata": {
        "id": "PKFjn9RQxdKh"
      }
    },
    {
      "cell_type": "markdown",
      "source": [
        "### 1. Design a class hierarchy to represent different types of vehicles in a transportation system. Start with a base class called Vehicle with the following attributes and methods:\n",
        "\n",
        "**Attributes:**\n",
        "\n",
        "- make (string)\n",
        "- model (string)\n",
        "- year (integer)\n",
        "- fuel (float)\n",
        "\n",
        "**Methods:**\n",
        "\n",
        "- __init__(self, make, model, year, fuel): Initialize the attributes.\n",
        "- info(self): Print basic information about the vehicle, including make, model, year, and fuel efficiency.\n",
        "\n",
        "Next, create two subclasses that inherit from Vehicle:\n",
        "\n",
        "### 2. Create a subclass called Car with the following additional attributes and methods:\n",
        "\n",
        "**Attributes:**\n",
        "\n",
        "- num_doors (integer)\n",
        "- is_sedan (boolean)\n",
        "\n",
        "\n",
        "**Methods:**\n",
        "\n",
        "- __init__(self, make, model, year, fuel, num_doors, is_sedan): Initialize the attributes.\n",
        "- display_car_info(self): Print detailed information about the car, including the number of doors and whether it's a sedan.\n",
        "\n",
        "\n",
        "### 3. Create a subclass called Motorcycle with the following additional attributes and methods:\n",
        "\n",
        "**Attributes:**\n",
        "\n",
        "- top_speed (integer)\n",
        "- engine_size (float)\n",
        "\n",
        "\n",
        "**Methods:**\n",
        "\n",
        "- __init__(self, make, model, year, fuel, top_speed, engine_size): Initialize the attributes.\n",
        "- display_motorcycle_info(self): Print detailed information about the motorcycle, including top speed and engine size.\n",
        "\n",
        "\n",
        "Finally, create instances of both Car and Motorcycle classes and demonstrate the use of their methods to display information about each vehicle."
      ],
      "metadata": {
        "id": "i9czG4jTxdvg"
      }
    },
    {
      "cell_type": "code",
      "source": [
        "class Vehicle:\n",
        "  def __init__(self,make,model,year,fuel):\n",
        "    self.make=make\n",
        "    self.model=model\n",
        "    self.year=year\n",
        "    self.fuel=fuel\n",
        "\n",
        "  def info(self):\n",
        "    print(\"Make:\", self.make)\n",
        "    print(\"Model:\",self.model)\n",
        "    print(\"Year:\",self.year)\n",
        "    print(\"Fuel Efficiency:\",self.fuel)\n",
        "\n",
        "class Bus(Vehicle):\n",
        "  pass\n",
        "\n",
        "class Truck(Vehicle):\n",
        "  pass\n",
        "\n",
        "class Car(Vehicle):\n",
        "  def __init__(self,make,model,year,fuel,num_doors,is_sedan):\n",
        "    super().__init__(make,model,year,fuel)\n",
        "    self.num_doors=num_doors\n",
        "    self.is_sedan=is_sedan\n",
        "\n",
        "  def display_car_info(self):\n",
        "    print(\"Make:\", self.make)\n",
        "    print(\"Model:\",self.model)\n",
        "    print(\"Year:\",self.year)\n",
        "    print(\"Fuel Efficiency:\",self.fuel)\n",
        "    print(\"Number of Doors:\",self.num_doors)\n",
        "    print(\"Sedan:\",self.is_sedan)\n",
        "\n",
        "class Motorcycle(Vehicle):\n",
        "  def __init__(self,make,model,year,fuel,top_speed,engine_size):\n",
        "    super().__init__(make,model,year,fuel)\n",
        "    self.top_speed=top_speed\n",
        "    self.engine_size=engine_size\n",
        "\n",
        "  def display_motorcycle_info(self):\n",
        "    print(\"Make:\", self.make)\n",
        "    print(\"Model:\",self.model)\n",
        "    print(\"Year:\",self.year)\n",
        "    print(\"Fuel Efficiency:\",self.fuel)\n",
        "    print(\"Top speed:\",self.top_speed)\n",
        "    print(\"Engine Size:\",self.engine_size)\n",
        "\n",
        "\n",
        "car=Car(\"Toyota\",\"Avalon\",2005,252.7,4,False)\n",
        "print(car.display_car_info())\n",
        "\n",
        "motorcycle=Motorcycle(\"BMW\",\"R 1250 GS\",2020,468.3,200,36.9)\n",
        "print(motorcycle.display_motorcycle_info())\n",
        "\n",
        "\n",
        "\n",
        "\n",
        "\n",
        "\n",
        "\n",
        "\n",
        "\n",
        "\n",
        "\n",
        "\n",
        "\n",
        "\n",
        "\n",
        "\n",
        "\n",
        "\n"
      ],
      "metadata": {
        "id": "1-VdpWBGylS5",
        "colab": {
          "base_uri": "https://localhost:8080/"
        },
        "outputId": "1a178416-51ac-4baf-83cb-66cb0f714627"
      },
      "execution_count": null,
      "outputs": [
        {
          "output_type": "stream",
          "name": "stdout",
          "text": [
            "Make: Toyota\n",
            "Model: Avalon\n",
            "Year: 2005\n",
            "Fuel Efficiency: 252.7\n",
            "Number of Doors: 4\n",
            "Sedan: False\n",
            "None\n",
            "Make: BMW\n",
            "Model: R 1250 GS\n",
            "Year: 2020\n",
            "Fuel Efficiency: 468.3\n",
            "Top speed: 200\n",
            "Engine Size: 36.9\n",
            "None\n"
          ]
        }
      ]
    },
    {
      "cell_type": "code",
      "source": [],
      "metadata": {
        "id": "Rvq26kywuSzg"
      },
      "execution_count": null,
      "outputs": []
    }
  ]
}