{
  "nbformat": 4,
  "nbformat_minor": 0,
  "metadata": {
    "colab": {
      "provenance": []
    },
    "kernelspec": {
      "name": "python3",
      "display_name": "Python 3"
    },
    "language_info": {
      "name": "python"
    }
  },
  "cells": [
    {
      "cell_type": "markdown",
      "source": [
        "# **Homework 6: Object-oriented programming (OOP)**\n",
        "\n",
        "Ruth Slaughter 1001918965"
      ],
      "metadata": {
        "id": "VIqeR4FVugAQ"
      }
    },
    {
      "cell_type": "markdown",
      "source": [
        "### **Due date:** October 27, at 2:30 PM.\n",
        "\n",
        "### **Submission:** Please push your homework to the our GitHub repository, and place it in the 'Homework 6' folder."
      ],
      "metadata": {
        "id": "YBl1Dzbx0tEo"
      }
    },
    {
      "cell_type": "markdown",
      "source": [
        "\n",
        "\n",
        "---\n",
        "\n",
        "\n",
        "\n",
        "---\n",
        "\n"
      ],
      "metadata": {
        "id": "JsdFDiVvltSA"
      }
    },
    {
      "cell_type": "markdown",
      "source": [
        "## **Question**"
      ],
      "metadata": {
        "id": "PKFjn9RQxdKh"
      }
    },
    {
      "cell_type": "markdown",
      "source": [
        "### 1. Design a class hierarchy to represent different types of vehicles in a transportation system. Start with a base class called Vehicle with the following attributes and methods:\n",
        "\n",
        "**Attributes:**\n",
        "\n",
        "- make (string)\n",
        "- model (string)\n",
        "- year (integer)\n",
        "- fuel (float)\n",
        "\n",
        "**Methods:**\n",
        "\n",
        "- __init__(self, make, model, year, fuel): Initialize the attributes.\n",
        "- info(self): Print basic information about the vehicle, including make, model, year, and fuel efficiency.\n",
        "\n",
        "Next, create two subclasses that inherit from Vehicle:\n",
        "\n",
        "\n",
        "\n"
      ],
      "metadata": {
        "id": "i9czG4jTxdvg"
      }
    },
    {
      "cell_type": "code",
      "source": [
        "class Vehicle:\n",
        "  def __init__(self,make,model,year,fuel):\n",
        "    self.make=make\n",
        "    self.model=model\n",
        "    self.year=year\n",
        "    self.fuel=fuel\n",
        "\n",
        "  def Vehicle_info(self):\n",
        "    print(f\"this car is a {self.year} {self.make} {self.model}, and the has a fuel efficency of {self.fuel}\")"
      ],
      "metadata": {
        "id": "ualRk-x5w4Bl"
      },
      "execution_count": null,
      "outputs": []
    },
    {
      "cell_type": "markdown",
      "source": [
        "\n",
        "### 2. Create a subclass called Car with the following additional attributes and methods:\n",
        "\n",
        "**Attributes:**\n",
        "\n",
        "- num_doors (integer)\n",
        "- is_sedan (boolean)\n",
        "\n",
        "\n",
        "**Methods:**\n",
        "\n",
        "- __init__(self, make, model, year, fuel, num_doors, is_sedan): Initialize the attributes.\n",
        "- display_car_info(self): Print detailed information about the car, including the number of doors and whether it's a sedan."
      ],
      "metadata": {
        "id": "zq3Utb0UwD56"
      }
    },
    {
      "cell_type": "code",
      "source": [
        "class Vehicle:\n",
        "  def __init__(self,make,model,year,fuel):\n",
        "    self.make=make\n",
        "    self.model=model\n",
        "    self.year=year\n",
        "    self.fuel=fuel\n",
        "\n",
        "  def Vehicle_info(self):\n",
        "    print(f\"this car is a {self.year} {self.make} {self.model}, and the has a fuel efficency of {self.fuel}\")\n",
        "\n",
        "class Car(Vehicle):\n",
        "  def __init__(self, make, model, year, fuel, num_doors, is_sedan):\n",
        "    super().__init__(make,model,year,fuel)\n",
        "    self.num_doors=num_doors\n",
        "    self.is_sedan=is_sedan\n",
        "\n",
        "  def display_car_info(self):\n",
        "        print(f\"It has {self.num_doors} doors and is {'not ' if not self.is_sedan else ''}a sedan.\")"
      ],
      "metadata": {
        "id": "1-VdpWBGylS5"
      },
      "execution_count": null,
      "outputs": []
    },
    {
      "cell_type": "markdown",
      "source": [
        "### 3. Create a subclass called Motorcycle with the following additional attributes and methods:\n",
        "\n",
        "**Attributes:**\n",
        "\n",
        "- top_speed (integer)\n",
        "- engine_size (float)\n",
        "\n",
        "\n",
        "**Methods:**\n",
        "\n",
        "- __init__(self, make, model, year, fuel, top_speed, engine_size): Initialize the attributes.\n",
        "- display_motorcycle_info(self): Print detailed information about the motorcycle, including top speed and engine size.\n",
        "\n",
        "\n",
        "Finally, create instances of both Car and Motorcycle classes and demonstrate the use of their methods to display information about each vehicle."
      ],
      "metadata": {
        "id": "w5roQeNIwIFn"
      }
    },
    {
      "cell_type": "code",
      "source": [
        "class Vehicle:\n",
        "  def __init__(self,make,model,year,fuel):\n",
        "    self.make=make\n",
        "    self.model=model\n",
        "    self.year=year\n",
        "    self.fuel=fuel\n",
        "\n",
        "  def Vehicle_info(self):\n",
        "    print(f\"this car is a {self.year} {self.make} {self.model}, and the has a fuel that it takes is {self.fuel}\")\n",
        "\n",
        "class Car(Vehicle):\n",
        "  def __init__(self, make, model, year, fuel, num_doors, is_sedan):\n",
        "    super().__init__(make,model,year,fuel)\n",
        "    self.num_doors=num_doors\n",
        "    self.is_sedan=is_sedan\n",
        "\n",
        "  def display_car_info(self):\n",
        "        print(f\"It has {self.num_doors} doors and is {'not ' if not self.is_sedan else ''}a sedan.\")\n",
        "\n",
        "class Motorcycle(Vehicle):\n",
        "  def __init__(self, make, model, year, fuel, top_speed, engine_size):\n",
        "    super().__init__(make,model,year,fuel)\n",
        "    self.top_speed=top_speed\n",
        "    self.engine_size=engine_size\n",
        "\n",
        "  def display_motorcycle_info(self):\n",
        "        print(f\"Top Speed: {self.top_speed} mph\")\n",
        "        print(f\"Engine Size: {self.engine_size}\")"
      ],
      "metadata": {
        "id": "VPQobGTvwNcB"
      },
      "execution_count": 76,
      "outputs": []
    },
    {
      "cell_type": "code",
      "source": [
        "newcar=Vehicle(\"Audi\", \"a4\", 2023, \"Gasoline\")"
      ],
      "metadata": {
        "id": "qaXa51GX8s1P"
      },
      "execution_count": 77,
      "outputs": []
    },
    {
      "cell_type": "code",
      "source": [
        "newcar.Vehicle_info()"
      ],
      "metadata": {
        "colab": {
          "base_uri": "https://localhost:8080/"
        },
        "id": "9GlDw3Rf8wcX",
        "outputId": "b4c9c2c4-c562-4652-ae29-61177563a687"
      },
      "execution_count": 78,
      "outputs": [
        {
          "output_type": "stream",
          "name": "stdout",
          "text": [
            "this car is a 2023 Audi a4, and the has a fuel that it takes is Gasoline\n"
          ]
        }
      ]
    },
    {
      "cell_type": "code",
      "source": [
        "my_car = Car(\"Toyota\", \"Corolla\", 2023, \"Gasoline\", 4, True)"
      ],
      "metadata": {
        "id": "6hIiCgkc80C7"
      },
      "execution_count": 79,
      "outputs": []
    },
    {
      "cell_type": "code",
      "source": [
        "my_car.Vehicle_info()"
      ],
      "metadata": {
        "colab": {
          "base_uri": "https://localhost:8080/"
        },
        "id": "rddYF2Bs8-BU",
        "outputId": "f71a0e2e-650c-4d98-94e9-b4f66b852343"
      },
      "execution_count": 80,
      "outputs": [
        {
          "output_type": "stream",
          "name": "stdout",
          "text": [
            "this car is a 2023 Toyota Corolla, and the has a fuel that it takes is Gasoline\n"
          ]
        }
      ]
    },
    {
      "cell_type": "code",
      "source": [
        "my_car.display_car_info()"
      ],
      "metadata": {
        "colab": {
          "base_uri": "https://localhost:8080/"
        },
        "id": "dNnLB8R39ALV",
        "outputId": "ec4ce88d-b6ec-47c0-90e3-51e036655d8a"
      },
      "execution_count": 81,
      "outputs": [
        {
          "output_type": "stream",
          "name": "stdout",
          "text": [
            "It has 4 doors and is a sedan.\n"
          ]
        }
      ]
    },
    {
      "cell_type": "code",
      "source": [
        "motorcycle1 = Motorcycle(\"Yamaha\", \"YZF-R6\", 2022, \"Gasoline\", 145, 648)"
      ],
      "metadata": {
        "id": "np9QllJ19Ddl"
      },
      "execution_count": 84,
      "outputs": []
    },
    {
      "cell_type": "code",
      "source": [
        "motorcycle1.display_motorcycle_info()"
      ],
      "metadata": {
        "colab": {
          "base_uri": "https://localhost:8080/"
        },
        "id": "X7IqujZZSd9b",
        "outputId": "d70b17d7-6b6e-4346-c4e0-da7f3230b354"
      },
      "execution_count": 85,
      "outputs": [
        {
          "output_type": "stream",
          "name": "stdout",
          "text": [
            "Top Speed: 145 mph\n",
            "Engine Size: 648\n"
          ]
        }
      ]
    },
    {
      "cell_type": "code",
      "source": [],
      "metadata": {
        "id": "re1xyicDTN9g"
      },
      "execution_count": 75,
      "outputs": []
    }
  ]
}