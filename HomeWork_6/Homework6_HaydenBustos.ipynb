{
  "nbformat": 4,
  "nbformat_minor": 0,
  "metadata": {
    "colab": {
      "provenance": []
    },
    "kernelspec": {
      "name": "python3",
      "display_name": "Python 3"
    },
    "language_info": {
      "name": "python"
    }
  },
  "cells": [
    {
      "cell_type": "markdown",
      "source": [
        "# **Homework 6: Object-oriented programming (OOP)**"
      ],
      "metadata": {
        "id": "VIqeR4FVugAQ"
      }
    },
    {
      "cell_type": "markdown",
      "source": [
        "### **Due date:** October 27, at 2:30 PM.\n",
        "\n",
        "### **Submission:** Please push your homework to the our GitHub repository, and place it in the 'Homework 6' folder."
      ],
      "metadata": {
        "id": "YBl1Dzbx0tEo"
      }
    },
    {
      "cell_type": "markdown",
      "source": [
        "\n",
        "\n",
        "---\n",
        "\n",
        "\n",
        "\n",
        "---\n",
        "\n"
      ],
      "metadata": {
        "id": "JsdFDiVvltSA"
      }
    },
    {
      "cell_type": "markdown",
      "source": [
        "## **Question**"
      ],
      "metadata": {
        "id": "PKFjn9RQxdKh"
      }
    },
    {
      "cell_type": "markdown",
      "source": [
        "### 1. Design a class hierarchy to represent different types of vehicles in a transportation system. Start with a base class called Vehicle with the following attributes and methods:\n",
        "\n",
        "**Attributes:**\n",
        "\n",
        "- make (string)\n",
        "- model (string)\n",
        "- year (integer)\n",
        "- fuel (float)\n",
        "\n",
        "**Methods:**\n",
        "\n",
        "- __init__(self, make, model, year, fuel): Initialize the attributes.\n",
        "- info(self): Print basic information about the vehicle, including make, model, year, and fuel efficiency.\n",
        "\n",
        "Next, create two subclasses that inherit from Vehicle:\n",
        "\n",
        "### 2. Create a subclass called Car with the following additional attributes and methods:\n",
        "\n",
        "**Attributes:**\n",
        "\n",
        "- num_doors (integer)\n",
        "- is_sedan (boolean)\n",
        "\n",
        "\n",
        "**Methods:**\n",
        "\n",
        "- __init__(self, make, model, year, fuel, num_doors, is_sedan): Initialize the attributes.\n",
        "- display_car_info(self): Print detailed information about the car, including the number of doors and whether it's a sedan.\n",
        "\n",
        "\n",
        "### 3. Create a subclass called Motorcycle with the following additional attributes and methods:\n",
        "\n",
        "**Attributes:**\n",
        "\n",
        "- top_speed (integer)\n",
        "- engine_size (float)\n",
        "\n",
        "\n",
        "**Methods:**\n",
        "\n",
        "- __init__(self, make, model, year, fuel, top_speed, engine_size): Initialize the attributes.\n",
        "- display_motorcycle_info(self): Print detailed information about the motorcycle, including top speed and engine size.\n",
        "\n",
        "\n",
        "Finally, create instances of both Car and Motorcycle classes and demonstrate the use of their methods to display information about each vehicle."
      ],
      "metadata": {
        "id": "i9czG4jTxdvg"
      }
    },
    {
      "cell_type": "code",
      "source": [
        "class Vehicle:\n",
        "  def __init__(self, make, model, year, fuel):\n",
        "    self.make = make\n",
        "    self.model = model\n",
        "    self.year = year\n",
        "    self.fuel = fuel\n",
        "\n",
        "  def info(self):\n",
        "    return f\"{self.year} {self.make} {self.model} with a fuel ffficiency of {self.fuel} MPG.\"\n",
        "\n",
        "\n",
        "class Car(Vehicle):\n",
        "  def __init__(self, make, model, year, fuel, num_doors, is_sedan):\n",
        "    super().__init__(make, model, year, fuel)\n",
        "    self.num_doors = num_doors\n",
        "    self.is_sedan = is_sedan\n",
        "\n",
        "  def display_car_info(self):\n",
        "    return f\"This car is a {self.year} {self.make} {self.model} with a fuel efficiency of {self.fuel} MPG, {self.num_doors} door; Sedan: {self.is_sedan}.\"\n",
        "\n",
        "\n",
        "class Motorcycle(Vehicle):\n",
        "  def __init__(self, make, model, year, fuel, top_speed, engine_size):\n",
        "    super().__init__(make, model, year, fuel)\n",
        "    self.top_speed = top_speed\n",
        "    self.engine_size = engine_size\n",
        "\n",
        "  def display_motorcycle_info(self):\n",
        "    return f\"This motorcycle is a {self.year} {self.make} {self.model}; {self.fuel} MPG, capable of a top speed of {self.top_speed} MPH with its {self.engine_size}cc engine.\"\n"
      ],
      "metadata": {
        "id": "1-VdpWBGylS5"
      },
      "execution_count": 19,
      "outputs": []
    },
    {
      "cell_type": "code",
      "source": [
        "my_motorcycle = Motorcycle(\"Honda\", \"CB300F\", 2017, 78.0, 90, 286)\n",
        "my_car = Car(\"Infiniti\", \"G37s\", 2008, 22.5, 2, False)"
      ],
      "metadata": {
        "id": "IRWvaFCCQcMM"
      },
      "execution_count": 20,
      "outputs": []
    },
    {
      "cell_type": "code",
      "source": [
        "my_motorcycle.display_motorcycle_info()"
      ],
      "metadata": {
        "colab": {
          "base_uri": "https://localhost:8080/",
          "height": 35
        },
        "id": "lXyXN9JVSTxJ",
        "outputId": "b447d1de-0365-4752-fe58-7c58191d317e"
      },
      "execution_count": 21,
      "outputs": [
        {
          "output_type": "execute_result",
          "data": {
            "text/plain": [
              "'This motorcycle is a 2017 Honda CB300F; 78.0 MPG, capable of a top speed of 90 MPH with its 286cc engine.'"
            ],
            "application/vnd.google.colaboratory.intrinsic+json": {
              "type": "string"
            }
          },
          "metadata": {},
          "execution_count": 21
        }
      ]
    },
    {
      "cell_type": "code",
      "source": [
        "my_car.display_car_info()"
      ],
      "metadata": {
        "colab": {
          "base_uri": "https://localhost:8080/",
          "height": 35
        },
        "id": "UglbIMZySWoW",
        "outputId": "98bccd63-47b3-4c40-9789-9bbaf1be96b1"
      },
      "execution_count": 22,
      "outputs": [
        {
          "output_type": "execute_result",
          "data": {
            "text/plain": [
              "'This car is a 2008 Infiniti G37s with a fuel efficiency of 22.5 MPG, 2 door; Sedan: False.'"
            ],
            "application/vnd.google.colaboratory.intrinsic+json": {
              "type": "string"
            }
          },
          "metadata": {},
          "execution_count": 22
        }
      ]
    }
  ]
}