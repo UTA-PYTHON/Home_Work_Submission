{
  "nbformat": 4,
  "nbformat_minor": 0,
  "metadata": {
    "colab": {
      "provenance": []
    },
    "kernelspec": {
      "name": "python3",
      "display_name": "Python 3"
    },
    "language_info": {
      "name": "python"
    }
  },
  "cells": [
    {
      "cell_type": "markdown",
      "source": [
        "# **Homework 6: Object-oriented programming (OOP)**"
      ],
      "metadata": {
        "id": "VIqeR4FVugAQ"
      }
    },
    {
      "cell_type": "markdown",
      "source": [
        "### **Due date:** October 27, at 2:30 PM.\n",
        "\n",
        "### **Submission:** Please push your homework to the our GitHub repository, and place it in the 'Homework 6' folder."
      ],
      "metadata": {
        "id": "YBl1Dzbx0tEo"
      }
    },
    {
      "cell_type": "markdown",
      "source": [
        "\n",
        "\n",
        "---\n",
        "\n",
        "\n",
        "\n",
        "---\n",
        "\n"
      ],
      "metadata": {
        "id": "JsdFDiVvltSA"
      }
    },
    {
      "cell_type": "markdown",
      "source": [
        "## **Question**"
      ],
      "metadata": {
        "id": "PKFjn9RQxdKh"
      }
    },
    {
      "cell_type": "markdown",
      "source": [
        "### 1. Design a class hierarchy to represent different types of vehicles in a transportation system. Start with a base class called Vehicle with the following attributes and methods:\n",
        "\n",
        "**Attributes:**\n",
        "\n",
        "- make (string)\n",
        "- model (string)\n",
        "- year (integer)\n",
        "- fuel (float)\n",
        "\n",
        "**Methods:**\n",
        "\n",
        "- __init__(self, make, model, year, fuel): Initialize the attributes.\n",
        "- info(self): Print basic information about the vehicle, including make, model, year, and fuel efficiency.\n",
        "\n",
        "Next, create two subclasses that inherit from Vehicle:\n",
        "\n",
        "### 2. Create a subclass called Car with the following additional attributes and methods:\n",
        "\n",
        "**Attributes:**\n",
        "\n",
        "- num_doors (integer)\n",
        "- is_sedan (boolean)\n",
        "\n",
        "\n",
        "**Methods:**\n",
        "\n",
        "- __init__(self, make, model, year, fuel, num_doors, is_sedan): Initialize the attributes.\n",
        "- display_car_info(self): Print detailed information about the car, including the number of doors and whether it's a sedan.\n",
        "\n",
        "\n",
        "### 3. Create a subclass called Motorcycle with the following additional attributes and methods:\n",
        "\n",
        "**Attributes:**\n",
        "\n",
        "- top_speed (integer)\n",
        "- engine_size (float)\n",
        "\n",
        "\n",
        "**Methods:**\n",
        "\n",
        "- __init__(self, make, model, year, fuel, top_speed, engine_size): Initialize the attributes.\n",
        "- display_motorcycle_info(self): Print detailed information about the motorcycle, including top speed and engine size.\n",
        "\n",
        "\n",
        "Finally, create instances of both Car and Motorcycle classes and demonstrate the use of their methods to display information about each vehicle."
      ],
      "metadata": {
        "id": "i9czG4jTxdvg"
      }
    },
    {
      "cell_type": "code",
      "source": [
        "class vehicle():\n",
        "  def __init__(self, make, model, year, fuel):\n",
        "    self.make=make\n",
        "    self.model=model\n",
        "    self.year=year\n",
        "    self.fuel=fuel\n",
        "\n",
        "  def info(self):\n",
        "    return f\"Vehicle is a {self.year} {self.make} {self.model} with a fuel effieciency of {self.fuel} mpg.\"\n",
        "\n",
        "class car(vehicle):\n",
        "  def __init__(self, make, model, year, fuel, num_doors, is_sedan):\n",
        "    super().__init__(make, model, year, fuel)\n",
        "    self.num_doors=num_doors\n",
        "    self.is_sedan=is_sedan\n",
        "\n",
        "  def display_car_info(self):\n",
        "    if self.is_sedan:\n",
        "      return f\"The {self.year} {self.make} {self.model} with a fuel effieciency of {self.fuel} has {self.num_doors} doors and is a sedan.\"\n",
        "    else:\n",
        "      return f\"The {self.year} {self.make} {self.model} with a fuel effieciency of {self.fuel} has {self.num_doors} doors and is not a sedan.\"\n",
        "\n",
        "class motorcycle(vehicle):\n",
        "  def __init__(self, make, model, year, fuel, top_speed, engine_size):\n",
        "    super().__init__(make, model, year, fuel)\n",
        "    self.top_speed=top_speed\n",
        "    self.engine_size=engine_size\n",
        "\n",
        "  def display_motorcycle_info(self):\n",
        "    return f\"The {self.year} {self.make} {self.model} with a fuel effieciency of {self.fuel} has a top speed of {self.top_speed} miles per hour and an engine size of {self.engine_size} cc.\"\n",
        "\n",
        "mycar = car(\"hyundai\", \"Tucson\", 2016, 25, 4, True)\n",
        "mymotorcycle = motorcycle(\"Harley Davidson\", \"Sportster® S\", 2013, 45, 143, 1252)\n",
        "\n",
        "print(mycar.display_car_info())\n",
        "print(mymotorcycle.display_motorcycle_info())"
      ],
      "metadata": {
        "id": "1-VdpWBGylS5",
        "colab": {
          "base_uri": "https://localhost:8080/"
        },
        "outputId": "cd55bbb2-68fb-401c-d45d-21e198da22bd"
      },
      "execution_count": 13,
      "outputs": [
        {
          "output_type": "stream",
          "name": "stdout",
          "text": [
            "The 2016 hyundai Tucson with a fuel effieciency of 25 has 4 doors and is a sedan.\n",
            "The 2013 Harley Davidson Sportster® S with a fuel effieciency of 45 has a top speed of 143 miles per hour and an engine size of 1252 cc.\n"
          ]
        }
      ]
    },
    {
      "cell_type": "code",
      "source": [],
      "metadata": {
        "id": "K1xZH-JY4uzM"
      },
      "execution_count": null,
      "outputs": []
    }
  ]
}