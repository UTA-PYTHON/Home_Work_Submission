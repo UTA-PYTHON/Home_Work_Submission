{
  "nbformat": 4,
  "nbformat_minor": 0,
  "metadata": {
    "colab": {
      "provenance": []
    },
    "kernelspec": {
      "name": "python3",
      "display_name": "Python 3"
    },
    "language_info": {
      "name": "python"
    }
  },
  "cells": [
    {
      "cell_type": "markdown",
      "source": [
        "# **Homework 6: Object-oriented programming (OOP)**"
      ],
      "metadata": {
        "id": "VIqeR4FVugAQ"
      }
    },
    {
      "cell_type": "markdown",
      "source": [
        "### **Due date:** October 27, at 2:30 PM.\n",
        "\n",
        "### **Submission:** Please push your homework to the our GitHub repository, and place it in the 'Homework 6' folder."
      ],
      "metadata": {
        "id": "YBl1Dzbx0tEo"
      }
    },
    {
      "cell_type": "markdown",
      "source": [
        "\n",
        "\n",
        "---\n",
        "\n",
        "\n",
        "\n",
        "---\n",
        "\n"
      ],
      "metadata": {
        "id": "JsdFDiVvltSA"
      }
    },
    {
      "cell_type": "markdown",
      "source": [
        "## **Question**"
      ],
      "metadata": {
        "id": "PKFjn9RQxdKh"
      }
    },
    {
      "cell_type": "markdown",
      "source": [
        "### 1. Design a class hierarchy to represent different types of vehicles in a transportation system. Start with a base class called Vehicle with the following attributes and methods:\n",
        "\n",
        "**Attributes:**\n",
        "\n",
        "- make (string)\n",
        "- model (string)\n",
        "- year (integer)\n",
        "- fuel (float)\n",
        "\n",
        "**Methods:**\n",
        "\n",
        "- __init__(self, make, model, year, fuel): Initialize the attributes.\n",
        "- info(self): Print basic information about the vehicle, including make, model, year, and fuel efficiency.\n",
        "\n",
        "Next, create two subclasses that inherit from Vehicle:\n"
      ],
      "metadata": {
        "id": "i9czG4jTxdvg"
      }
    },
    {
      "cell_type": "code",
      "source": [
        "class vehicle:\n",
        "  def __init__(self, make, model,year, fuel):\n",
        "    self.make=make\n",
        "    self.model=model\n",
        "    self.year=year\n",
        "    self.fuel=fuel\n",
        "\n",
        "  def info(self):\n",
        "    return f\"Car Info: {self.make}, {self.model}, {self.year}, {self.fuel}\"\n"
      ],
      "metadata": {
        "id": "1-VdpWBGylS5"
      },
      "execution_count": 53,
      "outputs": []
    },
    {
      "cell_type": "code",
      "source": [
        "car1 = vehicle(\"Toyota\", \"Camry\", \"2023\", \"28.2\")\n",
        "\n",
        "car1.info()"
      ],
      "metadata": {
        "colab": {
          "base_uri": "https://localhost:8080/",
          "height": 35
        },
        "id": "y4j61EGQs3XJ",
        "outputId": "a5ddb2c6-0dc2-4f92-c1b1-fade7709d216"
      },
      "execution_count": 54,
      "outputs": [
        {
          "output_type": "execute_result",
          "data": {
            "text/plain": [
              "'Car Info: Toyota, Camry, 2023, 28.2'"
            ],
            "application/vnd.google.colaboratory.intrinsic+json": {
              "type": "string"
            }
          },
          "metadata": {},
          "execution_count": 54
        }
      ]
    },
    {
      "cell_type": "markdown",
      "source": [
        "### 2. Create a subclass called Car with the following additional attributes and methods:\n",
        "\n",
        "**Attributes:**\n",
        "\n",
        "- num_doors (integer)\n",
        "- is_sedan (boolean)\n",
        "\n",
        "\n",
        "**Methods:**\n",
        "\n",
        "- __init__(self, make, model, year, fuel, num_doors, is_sedan): Initialize the attributes.\n",
        "- display_car_info(self): Print detailed information about the car, including the number of doors and whether it's a sedan."
      ],
      "metadata": {
        "id": "rTaz-jrkiq-L"
      }
    },
    {
      "cell_type": "code",
      "source": [
        "class vehicle:\n",
        "  def __init__(self, make, model,year, fuel):\n",
        "    self.make=make\n",
        "    self.model=model\n",
        "    self.year=year\n",
        "    self.fuel=fuel\n",
        "\n",
        "class Car(vehicle):\n",
        "  def __init__(self, make, model,year, fuel, num_doors, is_sedan):\n",
        "    super().__init__(make, model,year,fuel)\n",
        "    self.num_doors=num_doors\n",
        "    self.is_sedan=is_sedan\n",
        "\n",
        "  def display_car_info(self):\n",
        "    if self.is_sedan==\"True\":\n",
        "      self.is_sedan=\"is\"\n",
        "    else:\n",
        "      self.is_sedan=\"is not\"\n",
        "\n",
        "    return f'Car: {self.year} {self.make} {self.model}. Additional info: {self.num_doors} door, MPG: {self.fuel} & {self.is_sedan} a sedan'"
      ],
      "metadata": {
        "id": "k5MZnltYirkN"
      },
      "execution_count": 68,
      "outputs": []
    },
    {
      "cell_type": "code",
      "source": [
        "mycar = Car(\"Mazda\", \"CX-30\", 2023, 28.5, 4, False)\n",
        "\n",
        "mycar.display_car_info()"
      ],
      "metadata": {
        "colab": {
          "base_uri": "https://localhost:8080/",
          "height": 35
        },
        "id": "2PoOzWnHMrwI",
        "outputId": "c9d8c45c-2b99-4ef7-c3fc-57081d73e214"
      },
      "execution_count": 70,
      "outputs": [
        {
          "output_type": "execute_result",
          "data": {
            "text/plain": [
              "'Car: 2023 Mazda CX-30. Additional info: 4 door, MPG: 28.5 & is not a sedan'"
            ],
            "application/vnd.google.colaboratory.intrinsic+json": {
              "type": "string"
            }
          },
          "metadata": {},
          "execution_count": 70
        }
      ]
    },
    {
      "cell_type": "markdown",
      "source": [
        "### 3. Create a subclass called Motorcycle with the following additional attributes and methods:\n",
        "\n",
        "**Attributes:**\n",
        "\n",
        "- top_speed (integer)\n",
        "- engine_size (float)\n",
        "\n",
        "\n",
        "**Methods:**\n",
        "\n",
        "- __init__(self, make, model, year, fuel, top_speed, engine_size): Initialize the attributes.\n",
        "- display_motorcycle_info(self): Print detailed information about the motorcycle, including top speed and engine size.\n",
        "\n",
        "\n",
        "Finally, create instances of both Car and Motorcycle classes and demonstrate the use of their methods to display information about each vehicl"
      ],
      "metadata": {
        "id": "BkK15XTwivSW"
      }
    },
    {
      "cell_type": "markdown",
      "source": [],
      "metadata": {
        "id": "64RK4kJmMqws"
      }
    },
    {
      "cell_type": "code",
      "source": [
        "class Motorcycle(vehicle):\n",
        "    def __init__(self, make, model, year, fuel, top_speed, engine_size):\n",
        "        super().__init__(make, model, year, fuel)\n",
        "        self.top_speed=top_speed\n",
        "        self.engine_size=engine_size\n",
        "\n",
        "    def display_motorcycle_info(self):\n",
        "      return f'Motorcycle: {self.year} {self.make} {self.model} with a {self.engine_size} engine, {self.fuel} MPG & has a top speed of {self.top_speed} MPH'"
      ],
      "metadata": {
        "id": "aPTmOd4sivws"
      },
      "execution_count": 66,
      "outputs": []
    },
    {
      "cell_type": "code",
      "source": [
        "ninja = Motorcycle(\"Kawasaki\", \"Ninja ZX-6R\", 2021, 55,170, \"636cc\")\n",
        "\n",
        "ninja.display_motorcycle_info()"
      ],
      "metadata": {
        "colab": {
          "base_uri": "https://localhost:8080/",
          "height": 35
        },
        "id": "Y006bjzdemlZ",
        "outputId": "98861c5d-4d48-4e7d-d522-74beee8e77f8"
      },
      "execution_count": 67,
      "outputs": [
        {
          "output_type": "execute_result",
          "data": {
            "text/plain": [
              "'Motorcycle: 2021 Kawasaki Ninja ZX-6R with a 636cc engine, 55 MPG & has a top speed of 170 MPH'"
            ],
            "application/vnd.google.colaboratory.intrinsic+json": {
              "type": "string"
            }
          },
          "metadata": {},
          "execution_count": 67
        }
      ]
    }
  ]
}