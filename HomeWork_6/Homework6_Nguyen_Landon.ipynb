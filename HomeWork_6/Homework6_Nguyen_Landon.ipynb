{
  "nbformat": 4,
  "nbformat_minor": 0,
  "metadata": {
    "colab": {
      "provenance": []
    },
    "kernelspec": {
      "name": "python3",
      "display_name": "Python 3"
    },
    "language_info": {
      "name": "python"
    }
  },
  "cells": [
    {
      "cell_type": "markdown",
      "source": [
        "# **Homework 6: Object-oriented programming (OOP)**"
      ],
      "metadata": {
        "id": "VIqeR4FVugAQ"
      }
    },
    {
      "cell_type": "markdown",
      "source": [
        "### **Due date:** October 27, at 2:30 PM.\n",
        "\n",
        "### **Submission:** Please push your homework to the our GitHub repository, and place it in the 'Homework 6' folder."
      ],
      "metadata": {
        "id": "YBl1Dzbx0tEo"
      }
    },
    {
      "cell_type": "markdown",
      "source": [
        "\n",
        "\n",
        "---\n",
        "\n",
        "\n",
        "\n",
        "---\n",
        "\n"
      ],
      "metadata": {
        "id": "JsdFDiVvltSA"
      }
    },
    {
      "cell_type": "markdown",
      "source": [
        "## **Question**"
      ],
      "metadata": {
        "id": "PKFjn9RQxdKh"
      }
    },
    {
      "cell_type": "markdown",
      "source": [
        "### 1. Design a class hierarchy to represent different types of vehicles in a transportation system. Start with a base class called Vehicle with the following attributes and methods:\n",
        "\n",
        "**Attributes:**\n",
        "\n",
        "- make (string)\n",
        "- model (string)\n",
        "- year (integer)\n",
        "- fuel (float)\n",
        "\n",
        "**Methods:**\n",
        "\n",
        "- __init__(self, make, model, year, fuel): Initialize the attributes.\n",
        "- info(self): Print basic information about the vehicle, including make, model, year, and fuel efficiency.\n",
        "\n",
        "Next, create two subclasses that inherit from Vehicle:\n",
        "\n",
        "### 2. Create a subclass called Car with the following additional attributes and methods:\n",
        "\n",
        "**Attributes:**\n",
        "\n",
        "- num_doors (integer)\n",
        "- is_sedan (boolean)\n",
        "\n",
        "\n",
        "**Methods:**\n",
        "\n",
        "- __init__(self, make, model, year, fuel, num_doors, is_sedan): Initialize the attributes.\n",
        "- display_car_info(self): Print detailed information about the car, including the number of doors and whether it's a sedan.\n",
        "\n",
        "\n",
        "### 3. Create a subclass called Motorcycle with the following additional attributes and methods:\n",
        "\n",
        "**Attributes:**\n",
        "\n",
        "- top_speed (integer)\n",
        "- engine_size (float)\n",
        "\n",
        "\n",
        "**Methods:**\n",
        "\n",
        "- __init__(self, make, model, year, fuel, top_speed, engine_size): Initialize the attributes.\n",
        "- display_motorcycle_info(self): Print detailed information about the motorcycle, including top speed and engine size.\n",
        "\n",
        "\n",
        "Finally, create instances of both Car and Motorcycle classes and demonstrate the use of their methods to display information about each vehicle."
      ],
      "metadata": {
        "id": "i9czG4jTxdvg"
      }
    },
    {
      "cell_type": "code",
      "source": [
        "## Part 1:\n",
        "\n",
        "class Vehicle:\n",
        "\n",
        "  def __init__(self, make, model, year, fuel):\n",
        "    self.make = make\n",
        "    self.model = model\n",
        "    self.year = year\n",
        "    self.fuel = fuel\n",
        "\n",
        "  def info(self):\n",
        "    return f\"Make: {self.make}\\nModel: {self.model}\\nYear: {self.year}\\nFuel: {self.fuel}\"\n",
        "\n",
        "## Part 2:\n",
        "\n",
        "class Car(Vehicle):\n",
        "\n",
        "  def __init__(self, make, model, year, fuel, num_doors, is_sedan):\n",
        "    super().__init__(make, model, year, fuel)\n",
        "    self.num_doors = num_doors\n",
        "    self.is_sedan = is_sedan\n",
        "\n",
        "  def display_car_info(self):\n",
        "    return self.info() + f\"\\nNumber of Doors: {self.num_doors}\\nIs a Sedan: {self.is_sedan}\"\n",
        "\n",
        "## Part 3:\n",
        "\n",
        "class Motorcycle(Vehicle):\n",
        "\n",
        "  def __init__(self, make, model, year, fuel, top_speed, engine_size):\n",
        "    super().__init__(make, model, year, fuel)\n",
        "    self.top_speed = top_speed\n",
        "    self.engine_size = engine_size\n",
        "\n",
        "  def display_motorcycle_info(self):\n",
        "    return self.info() + f\"\\nTop Speed: {self.top_speed}\\nEngine Size: {self.engine_size}\"\n",
        "\n",
        "\n",
        "## Testing\n",
        "\n",
        "c1 = Car(\"Acura\", \"TLX\", 2023, 21.4, 4, True)\n",
        "m1 = Motorcycle(\"Harley\", \"A\", 2023, 22.5, 120, 10.5)\n",
        "\n",
        "print(c1.display_car_info() + \"\\n\")\n",
        "print(m1.display_motorcycle_info())"
      ],
      "metadata": {
        "id": "1-VdpWBGylS5",
        "colab": {
          "base_uri": "https://localhost:8080/"
        },
        "outputId": "51762b8f-9300-4766-984e-5f3f81c565cf"
      },
      "execution_count": 6,
      "outputs": [
        {
          "output_type": "stream",
          "name": "stdout",
          "text": [
            "Make: Acura\n",
            "Model: TLX\n",
            "Year: 2023\n",
            "Fuel: 21.4\n",
            "Number of Doors: 4\n",
            "Is a Sedan: True\n",
            "\n",
            "Make: Harley\n",
            "Model: A\n",
            "Year: 2023\n",
            "Fuel: 22.5\n",
            "Top Speed: 120\n",
            "Engine Size: 10.5\n"
          ]
        }
      ]
    }
  ]
}