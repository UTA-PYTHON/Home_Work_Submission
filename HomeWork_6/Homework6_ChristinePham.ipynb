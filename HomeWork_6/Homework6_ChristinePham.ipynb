{
 "cells": [
  {
   "cell_type": "markdown",
   "metadata": {},
   "source": [
    "Name: Christine Pham\n",
    "\n",
    "ID: 1001705879"
   ]
  },
  {
   "cell_type": "markdown",
   "metadata": {
    "id": "VIqeR4FVugAQ"
   },
   "source": [
    "# **Homework 6: Object-oriented programming (OOP)**"
   ]
  },
  {
   "cell_type": "markdown",
   "metadata": {
    "id": "YBl1Dzbx0tEo"
   },
   "source": [
    "### **Due date:** October 27, at 2:30 PM.\n",
    "\n",
    "### **Submission:** Please push your homework to the our GitHub repository, and place it in the 'Homework 6' folder."
   ]
  },
  {
   "cell_type": "markdown",
   "metadata": {
    "id": "JsdFDiVvltSA"
   },
   "source": [
    "\n",
    "\n",
    "---\n",
    "\n",
    "\n",
    "\n",
    "---\n",
    "\n"
   ]
  },
  {
   "cell_type": "markdown",
   "metadata": {
    "id": "PKFjn9RQxdKh"
   },
   "source": [
    "## **Question**"
   ]
  },
  {
   "cell_type": "markdown",
   "metadata": {
    "id": "i9czG4jTxdvg"
   },
   "source": [
    "### 1. Design a class hierarchy to represent different types of vehicles in a transportation system. Start with a base class called Vehicle with the following attributes and methods:\n",
    "\n",
    "**Attributes:**\n",
    "\n",
    "- make (string)\n",
    "- model (string)\n",
    "- year (integer)\n",
    "- fuel (float)\n",
    "\n",
    "**Methods:**\n",
    "\n",
    "- __init__(self, make, model, year, fuel): Initialize the attributes.\n",
    "- info(self): Print basic information about the vehicle, including make, model, year, and fuel efficiency.\n",
    "\n",
    "Next, create two subclasses that inherit from Vehicle:\n"
   ]
  },
  {
   "cell_type": "markdown",
   "metadata": {},
   "source": [
    "### 2. Create a subclass called Car with the following additional attributes and methods:\n",
    "\n",
    "**Attributes:**\n",
    "\n",
    "- num_doors (integer)\n",
    "- is_sedan (boolean)\n",
    "\n",
    "\n",
    "**Methods:**\n",
    "\n",
    "- __init__(self, make, model, year, fuel, num_doors, is_sedan): Initialize the attributes.\n",
    "- display_car_info(self): Print detailed information about the car, including the number of doors and whether it's a sedan.\n",
    "\n"
   ]
  },
  {
   "cell_type": "markdown",
   "metadata": {},
   "source": [
    "### 3. Create a subclass called Motorcycle with the following additional attributes and methods:\n",
    "\n",
    "**Attributes:**\n",
    "\n",
    "- top_speed (integer)\n",
    "- engine_size (float)\n",
    "\n",
    "\n",
    "**Methods:**\n",
    "\n",
    "- __init__(self, make, model, year, fuel, top_speed, engine_size): Initialize the attributes.\n",
    "- display_motorcycle_info(self): Print detailed information about the motorcycle, including top speed and engine size.\n",
    "\n",
    "\n",
    "Finally, create instances of both Car and Motorcycle classes and demonstrate the use of their methods to display information about each vehicle."
   ]
  },
  {
   "cell_type": "code",
   "execution_count": 1,
   "metadata": {
    "id": "1-VdpWBGylS5"
   },
   "outputs": [],
   "source": [
    "##parent class\n",
    "class vehicle:\n",
    "    def __init__(self,make,model,year,fuel):\n",
    "        self.make=str(make)\n",
    "        self.model=str(model)\n",
    "        self.year=int(year)\n",
    "        self.fuel=float(fuel)\n",
    "    \n",
    "    def info(self):\n",
    "        print(f\"this vehicle is a {self.make} {self.model} {self.year} with a fuel efficiency of {self.fuel} miles per gallon.\")\n",
    "        \n",
    "##subclass\n",
    "class car(vehicle):\n",
    "    def __init__(self,make,model,year,fuel,num_door,is_sedan):\n",
    "        super().__init__(make,model,year,fuel)\n",
    "        self.num_door=int(num_door)\n",
    "        self.is_sedan=bool(is_sedan)\n",
    "        \n",
    "    def display_car_info(self):\n",
    "        if self.is_sedan==True:\n",
    "            print(f\"this sedan is a {self.make} {self.model} {self.year} with a fuel efficiency of {self.fuel} miles per gallon and has {self.num_door} doors.\")\n",
    "        else:\n",
    "            print(f\"this car is a {self.make} {self.model} {self.year} with a fuel efficiency of {self.fuel} miles per gallon and has {self.num_door} doors and is not a sedan.\")\n",
    "            \n",
    "##subclass\n",
    "class motorcycle(vehicle):\n",
    "    def __init__(self,make,model,year,fuel,top_speed,engine_size):\n",
    "        super().__init__(make,model,year,fuel)\n",
    "        self.top_speed=int(top_speed)\n",
    "        self.engine_size=float(engine_size)\n",
    "        \n",
    "    def display_motorcycle_info(self):\n",
    "        print(f\"this motorcycle is a {self.make} {self.model} {self.year} with a fuel efficiency of {self.fuel} miles per gallon with an engine size of {self.engine_size} hp and a top speed of {self.top_speed} mph.\")\n",
    "        "
   ]
  },
  {
   "cell_type": "code",
   "execution_count": 2,
   "metadata": {},
   "outputs": [],
   "source": [
    "# instance of car and motorcycle class\n",
    "\n",
    "car1=car(\"toyota\",\"camry\",2022,60.2,4,True)\n",
    "motorcycle1=motorcycle(\"Harley-Davidson\",\"Street Glide\",2023,100,80,70.5)"
   ]
  },
  {
   "cell_type": "code",
   "execution_count": 3,
   "metadata": {},
   "outputs": [
    {
     "name": "stdout",
     "output_type": "stream",
     "text": [
      "this sedan is a toyota camry 2022 with a fuel efficiency of 60.2 miles per gallon and has 4 doors.\n"
     ]
    }
   ],
   "source": [
    "car1.display_car_info()"
   ]
  },
  {
   "cell_type": "code",
   "execution_count": 4,
   "metadata": {},
   "outputs": [
    {
     "name": "stdout",
     "output_type": "stream",
     "text": [
      "this motorcycle is a Harley-Davidson Street Glide 2023 with a fuel efficiency of 100.0 miles per gallon with an engine size of 70.5 hp and a top speed of 80 mph.\n"
     ]
    }
   ],
   "source": [
    "motorcycle1.display_motorcycle_info()"
   ]
  }
 ],
 "metadata": {
  "colab": {
   "provenance": []
  },
  "kernelspec": {
   "display_name": "Python 3 (ipykernel)",
   "language": "python",
   "name": "python3"
  },
  "language_info": {
   "codemirror_mode": {
    "name": "ipython",
    "version": 3
   },
   "file_extension": ".py",
   "mimetype": "text/x-python",
   "name": "python",
   "nbconvert_exporter": "python",
   "pygments_lexer": "ipython3",
   "version": "3.11.4"
  }
 },
 "nbformat": 4,
 "nbformat_minor": 1
}
