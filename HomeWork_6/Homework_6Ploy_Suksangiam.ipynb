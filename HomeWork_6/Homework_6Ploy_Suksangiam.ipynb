{
  "nbformat": 4,
  "nbformat_minor": 0,
  "metadata": {
    "colab": {
      "provenance": []
    },
    "kernelspec": {
      "name": "python3",
      "display_name": "Python 3"
    },
    "language_info": {
      "name": "python"
    }
  },
  "cells": [
    {
      "cell_type": "markdown",
      "source": [
        "# **Homework 6: Object-oriented programming (OOP)**\n",
        "\n",
        "###Ploy Suksangiam\n",
        "###1001914169\n"
      ],
      "metadata": {
        "id": "VIqeR4FVugAQ"
      }
    },
    {
      "cell_type": "markdown",
      "source": [
        "### **Due date:** October 27, at 2:30 PM.\n",
        "\n",
        "### **Submission:** Please push your homework to the our GitHub repository, and place it in the 'Homework 6' folder."
      ],
      "metadata": {
        "id": "YBl1Dzbx0tEo"
      }
    },
    {
      "cell_type": "markdown",
      "source": [
        "\n",
        "\n",
        "---\n",
        "\n",
        "\n",
        "\n",
        "---\n",
        "\n"
      ],
      "metadata": {
        "id": "JsdFDiVvltSA"
      }
    },
    {
      "cell_type": "markdown",
      "source": [
        "## **Question**"
      ],
      "metadata": {
        "id": "PKFjn9RQxdKh"
      }
    },
    {
      "cell_type": "markdown",
      "source": [
        "### 1. Design a class hierarchy to represent different types of vehicles in a transportation system. Start with a base class called Vehicle with the following attributes and methods:\n",
        "\n",
        "**Attributes:**\n",
        "\n",
        "- make (string)\n",
        "- model (string)\n",
        "- year (integer)\n",
        "- fuel (float)\n",
        "\n",
        "**Methods:**\n",
        "\n",
        "- __init__(self, make, model, year, fuel): Initialize the attributes.\n",
        "- info(self): Print basic information about the vehicle, including make, model, year, and fuel efficiency.\n",
        "\n",
        "Next, create two subclasses that inherit from Vehicle:"
      ],
      "metadata": {
        "id": "BQLZplKJbhJp"
      }
    },
    {
      "cell_type": "code",
      "source": [
        "class Vehicle:\n",
        "  def __init__(self,make,model,year,fuel):\n",
        "    self.make = make\n",
        "    self.model = model\n",
        "    self.year= int(year)\n",
        "    self.fuel = float(fuel)\n",
        "\n",
        "  def info(self):\n",
        "    print(f'Make:{self.make}')\n",
        "    print(f'Model:{self.model}')\n",
        "    print(f'Yeae:{self.year}')\n",
        "    print(f'Fuel:{self.fuel}')\n",
        "\n",
        "car_1 = Vehicle(\"Chevy\",\"Corvette\",2021,78099.8)\n",
        "car_1.info()"
      ],
      "metadata": {
        "colab": {
          "base_uri": "https://localhost:8080/"
        },
        "id": "uCwEqdnzbiQW",
        "outputId": "e5c141c8-224c-4af6-860e-6f3ed4b65884"
      },
      "execution_count": null,
      "outputs": [
        {
          "output_type": "stream",
          "name": "stdout",
          "text": [
            "Make:Chevy\n",
            "Model:Corvette\n",
            "Yeae:2021\n",
            "Fuel:78099.8\n"
          ]
        }
      ]
    },
    {
      "cell_type": "markdown",
      "source": [
        "\n",
        "\n",
        "\n",
        "### 3. Create a subclass called Motorcycle with the following additional attributes and methods:\n",
        "\n",
        "**Attributes:**\n",
        "\n",
        "- top_speed (integer)\n",
        "- engine_size (float)\n",
        "\n",
        "\n",
        "**Methods:**\n",
        "\n",
        "- __init__(self, make, model, year, fuel, top_speed, engine_size): Initialize the attributes.\n",
        "- display_motorcycle_info(self): Print detailed information about the motorcycle, including top speed and engine size.\n",
        "\n",
        "\n",
        "Finally, create instances of both Car and Motorcycle classes and demonstrate the use of their methods to display information about each vehicle."
      ],
      "metadata": {
        "id": "i9czG4jTxdvg"
      }
    },
    {
      "cell_type": "code",
      "source": [
        "class Motorcycle:\n",
        "    def __init__(self, make, model, year, fuel, top_speed, engine_size):\n",
        "        self.make = make\n",
        "        self.model = model\n",
        "        self.year = year\n",
        "        self.fuel = fuel\n",
        "        self.top_speed = top_speed\n",
        "        self.engine_size = engine_size\n",
        "\n",
        "\n",
        "    def moto_info(self):\n",
        "      print(f'Below is the information of this motocycle:')\n",
        "      print(f'The make of the motocycle is:{self.make}')\n",
        "      print(f'The model is:{self.model}')\n",
        "      print(f'The year it was made is:{self.year}')\n",
        "      print(f'Type of fuel used:{self.fuel}')\n",
        "      print(f'the top speed of this motocycle can go up to: (mpg){self.top_speed}')\n",
        "      print(f'the size of engine is:{self.engine_size}')"
      ],
      "metadata": {
        "id": "fMh7M4dnK-tP"
      },
      "execution_count": 38,
      "outputs": []
    },
    {
      "cell_type": "code",
      "source": [
        "my_moto=Motorcycle(\"Suzuki\",\"N/A\",2005,\"Gasoline\",\"N/a\",\"N/a\")\n"
      ],
      "metadata": {
        "id": "4H3Pp3WfLvNn"
      },
      "execution_count": 41,
      "outputs": []
    },
    {
      "cell_type": "code",
      "source": [
        "my_moto.moto_info()"
      ],
      "metadata": {
        "colab": {
          "base_uri": "https://localhost:8080/"
        },
        "id": "_ES607ygSjzs",
        "outputId": "2784b2b9-37fe-4313-d391-abec772aa350"
      },
      "execution_count": 42,
      "outputs": [
        {
          "output_type": "stream",
          "name": "stdout",
          "text": [
            "Below is the information of this motocycle:\n",
            "The make of the motocycle is:Suzuki\n",
            "The model is:N/A\n",
            "The year it was made is:2005\n",
            "Type of fuel used:Gasoline\n",
            "the top speed of this motocycle can go up to: (mpg)N/a\n",
            "the size of engine is:N/a\n"
          ]
        }
      ]
    },
    {
      "cell_type": "markdown",
      "source": [
        "\n",
        "\n",
        "### 2. Create a subclass called Car with the following additional attributes and methods:\n",
        "\n",
        "**Attributes:**\n",
        "\n",
        "- num_doors (integer)\n",
        "- is_sedan (boolean)\n",
        "\n",
        "\n",
        "**Methods:**\n",
        "\n",
        "- __init__(self, make, model, year, fuel, num_doors, is_sedan): Initialize the attributes.\n",
        "- display_car_info(self): Print detailed information about the car, including the number of doors and whether it's a sedan.\n"
      ],
      "metadata": {
        "id": "dq4xQFItI-pV"
      }
    },
    {
      "cell_type": "code",
      "source": [],
      "metadata": {
        "id": "RYU8BMkwLut7"
      },
      "execution_count": null,
      "outputs": []
    },
    {
      "cell_type": "code",
      "source": [
        "class Car:\n",
        "  def __init__(self, make, model, year, fuel, num_doors, is_sedan):\n",
        "        self.make = make\n",
        "        self.model = model\n",
        "        self.year = year\n",
        "        self.fuel = fuel\n",
        "        self.num_doors = num_doors\n",
        "        self.is_sedan = is_sedan\n",
        "\n",
        "\n",
        "\n",
        "  def   car_info(self):\n",
        "        print(f\"Below is the information of the car:\")\n",
        "        print(f\"The make of the car is : {self.make}\")\n",
        "        print(f\"The car's model is : {self.model}\")\n",
        "        print(f\"This car was made in : {self.year}\")\n",
        "        print(f\"type of fuel: {self.fuel}\")\n",
        "        print(f\"Number of Doors: {self.num_doors}\")\n",
        "        print(f\"Is Sedan: {'Yes' if self.is_sedan else 'No'}\")\n",
        "\n",
        "\n",
        "\n",
        "\n",
        "\n",
        "\n",
        "\n",
        "\n",
        "\n",
        "\n",
        "\n",
        "\n",
        "\n",
        "\n",
        "\n",
        "\n",
        "\n",
        "\n",
        "\n"
      ],
      "metadata": {
        "id": "1-VdpWBGylS5"
      },
      "execution_count": 22,
      "outputs": []
    },
    {
      "cell_type": "code",
      "source": [
        "my_car=Car(\"Nissan\",\"Versa\",2011,\"Gasoline\",5,\"Yes\")"
      ],
      "metadata": {
        "id": "BLdqKGz5Jfnd"
      },
      "execution_count": 25,
      "outputs": []
    },
    {
      "cell_type": "code",
      "source": [
        "my_car.car_info()"
      ],
      "metadata": {
        "colab": {
          "base_uri": "https://localhost:8080/"
        },
        "id": "omI_w8YVJ8DM",
        "outputId": "83c32548-3634-49bf-d122-b8e84b39be90"
      },
      "execution_count": 26,
      "outputs": [
        {
          "output_type": "stream",
          "name": "stdout",
          "text": [
            "Below is the information of the car:\n",
            "The make of the car is : Nissan\n",
            "The car's model is : Versa\n",
            "This car was made in : 2011\n",
            "type of fuel: Gasoline\n",
            "Number of Doors: 5\n",
            "Is Sedan: Yes\n"
          ]
        }
      ]
    },
    {
      "cell_type": "code",
      "source": [],
      "metadata": {
        "id": "atCtLLCbKaI7"
      },
      "execution_count": null,
      "outputs": []
    }
  ]
}