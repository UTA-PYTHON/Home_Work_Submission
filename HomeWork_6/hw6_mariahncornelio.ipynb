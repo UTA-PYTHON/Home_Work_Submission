{
 "cells": [
  {
   "cell_type": "markdown",
   "metadata": {
    "id": "VIqeR4FVugAQ"
   },
   "source": [
    "# **Homework 6: Object-oriented programming (OOP)**\n",
    "\n",
    "# Mariah Noelle Cornelio "
   ]
  },
  {
   "cell_type": "markdown",
   "metadata": {
    "id": "YBl1Dzbx0tEo"
   },
   "source": [
    "### **Due date:** October 27, at 2:30 PM.\n",
    "\n",
    "### **Submission:** Please push your homework to the our GitHub repository, and place it in the 'Homework 6' folder."
   ]
  },
  {
   "cell_type": "markdown",
   "metadata": {
    "id": "JsdFDiVvltSA"
   },
   "source": [
    "\n",
    "\n",
    "---\n",
    "\n",
    "\n",
    "\n",
    "---\n",
    "\n"
   ]
  },
  {
   "cell_type": "markdown",
   "metadata": {
    "id": "PKFjn9RQxdKh"
   },
   "source": [
    "## **Question**"
   ]
  },
  {
   "cell_type": "markdown",
   "metadata": {
    "id": "i9czG4jTxdvg"
   },
   "source": [
    "### 1. Design a class hierarchy to represent different types of vehicles in a transportation system. Start with a base class called Vehicle with the following attributes and methods:\n",
    "\n",
    "**Attributes:**\n",
    "\n",
    "- make (string)\n",
    "- model (string)\n",
    "- year (integer)\n",
    "- fuel (float)\n",
    "\n",
    "**Methods:**\n",
    "\n",
    "- __init__(self, make, model, year, fuel): Initialize the attributes.\n",
    "- info(self): Print basic information about the vehicle, including make, model, year, and fuel efficiency.\n",
    "\n",
    "Next, create two subclasses that inherit from Vehicle:\n",
    "\n",
    "### 2. Create a subclass called Car with the following additional attributes and methods:\n",
    "\n",
    "**Attributes:**\n",
    "\n",
    "- num_doors (integer)\n",
    "- is_sedan (boolean)\n",
    "\n",
    "\n",
    "**Methods:**\n",
    "\n",
    "- __init__(self, make, model, year, fuel, num_doors, is_sedan): Initialize the attributes.\n",
    "- display_car_info(self): Print detailed information about the car, including the number of doors and whether it's a sedan.\n",
    "\n",
    "\n",
    "### 3. Create a subclass called Motorcycle with the following additional attributes and methods:\n",
    "\n",
    "**Attributes:**\n",
    "\n",
    "- top_speed (integer)\n",
    "- engine_size (float)\n",
    "\n",
    "\n",
    "**Methods:**\n",
    "\n",
    "- __init__(self, make, model, year, fuel, top_speed, engine_size): Initialize the attributes.\n",
    "- display_motorcycle_info(self): Print detailed information about the motorcycle, including top speed and engine size.\n",
    "\n",
    "\n",
    "Finally, create instances of both Car and Motorcycle classes and demonstrate the use of their methods to display information about each vehicle."
   ]
  },
  {
   "cell_type": "markdown",
   "metadata": {
    "id": "1-VdpWBGylS5"
   },
   "source": [
    "___\n",
    "\n",
    "\n",
    "\n",
    "\n",
    "\n",
    "\n",
    "\n",
    "\n",
    "\n",
    "\n",
    "\n",
    "\n",
    "\n",
    "\n",
    "\n",
    "\n",
    "\n",
    "\n",
    "\n",
    "\n",
    "\n"
   ]
  },
  {
   "cell_type": "markdown",
   "metadata": {},
   "source": [
    "# Part 1"
   ]
  },
  {
   "cell_type": "code",
   "execution_count": 1,
   "metadata": {},
   "outputs": [],
   "source": [
    "class Vehicle:\n",
    "    def __init__(self, make, model, year, fuel):\n",
    "        self.make=make\n",
    "        self.model=model\n",
    "        self.year=year\n",
    "        self.fuel=fuel\n",
    "        \n",
    "    def info(self):\n",
    "        return f\"This car is a {self.year} {self.make} {self.model} and it's miles per gallon (mpg) is {self.fuel} mpg.\""
   ]
  },
  {
   "cell_type": "markdown",
   "metadata": {},
   "source": [
    "# Part 2"
   ]
  },
  {
   "cell_type": "code",
   "execution_count": 18,
   "metadata": {},
   "outputs": [],
   "source": [
    "class Car(Vehicle):\n",
    "    def __init__(self, make, model, year, fuel, num_doors, is_sedan):\n",
    "        super().__init__(make, model, year, fuel)\n",
    "        self.num_doors=num_doors\n",
    "        self.is_sedan=is_sedan\n",
    "        \n",
    "    def display_car_info(self):\n",
    "        if self.is_sedan==\"True\" and make==\"sedan\" and make==\"Sedan\":\n",
    "            self.is_sedan=\"is\"\n",
    "        else:\n",
    "            self.is_sedan=\"is not\"\n",
    "        return f\"This car is a {self.year} {self.make} {self.model} with {self.num_doors} doors. It's miles per gallon (mpg) is {self.fuel} mpg and it {self.is_sedan} a Sedan.\""
   ]
  },
  {
   "cell_type": "markdown",
   "metadata": {},
   "source": [
    "# Part 3"
   ]
  },
  {
   "cell_type": "code",
   "execution_count": 32,
   "metadata": {},
   "outputs": [],
   "source": [
    "class Motorcycle(Vehicle):\n",
    "    def __init__(self, make, model, year, fuel, top_speed, engine_size):\n",
    "        super().__init__(make, model, year, fuel)\n",
    "        self.top_speed=top_speed\n",
    "        self.engine_size=engine_size\n",
    "    \n",
    "    def display_motorcycle_info(self):\n",
    "        return f\"This motorcycle is a {self.year} {self.make} {self.model} with a top speef of {self.top_speed} mph and an engine size of {self.engine_size}.\""
   ]
  },
  {
   "cell_type": "markdown",
   "metadata": {},
   "source": [
    "# Part 4"
   ]
  },
  {
   "cell_type": "code",
   "execution_count": 33,
   "metadata": {},
   "outputs": [],
   "source": [
    "car=Car(\"Lexus\", \"RX 350\", 2014, 44, 4, False)"
   ]
  },
  {
   "cell_type": "code",
   "execution_count": 34,
   "metadata": {},
   "outputs": [
    {
     "data": {
      "text/plain": [
       "\"This car is a 2014 Lexus RX 350 with 4 doors. It's miles per gallon (mpg) is 44 mpg and it is not a Sedan.\""
      ]
     },
     "execution_count": 34,
     "metadata": {},
     "output_type": "execute_result"
    }
   ],
   "source": [
    "car.display_car_info()"
   ]
  },
  {
   "cell_type": "code",
   "execution_count": 39,
   "metadata": {},
   "outputs": [],
   "source": [
    "motorcycle=Motorcycle(\"Suzuki\", \"GSX-R1000\", 2020, 54, 194, \"1298cc engine\")"
   ]
  },
  {
   "cell_type": "code",
   "execution_count": 40,
   "metadata": {},
   "outputs": [
    {
     "data": {
      "text/plain": [
       "'This motorcycle is a 2020 Suzuki GSX-R1000 with a top speef of 194 mph and an engine size of 1298cc engine.'"
      ]
     },
     "execution_count": 40,
     "metadata": {},
     "output_type": "execute_result"
    }
   ],
   "source": [
    "motorcycle.display_motorcycle_info()"
   ]
  },
  {
   "cell_type": "markdown",
   "metadata": {},
   "source": [
    "___"
   ]
  },
  {
   "cell_type": "code",
   "execution_count": null,
   "metadata": {},
   "outputs": [],
   "source": []
  }
 ],
 "metadata": {
  "colab": {
   "provenance": []
  },
  "kernelspec": {
   "display_name": "Python 3 (ipykernel)",
   "language": "python",
   "name": "python3"
  },
  "language_info": {
   "codemirror_mode": {
    "name": "ipython",
    "version": 3
   },
   "file_extension": ".py",
   "mimetype": "text/x-python",
   "name": "python",
   "nbconvert_exporter": "python",
   "pygments_lexer": "ipython3",
   "version": "3.11.4"
  }
 },
 "nbformat": 4,
 "nbformat_minor": 1
}
