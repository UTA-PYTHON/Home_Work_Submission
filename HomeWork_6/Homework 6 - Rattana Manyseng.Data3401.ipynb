{
 "cells": [
  {
   "cell_type": "code",
   "execution_count": 9,
   "id": "cef2fff3",
   "metadata": {},
   "outputs": [
    {
     "name": "stdout",
     "output_type": "stream",
     "text": [
      "Make: Toyota\n",
      "Model: Tacoma\n",
      "Manufactured Year: 2007\n",
      "Fuel Efficiency/Miles Per Gallon: 17\n",
      "Number of Doors: 4\n",
      "Sedan: False\n",
      "None\n"
     ]
    }
   ],
   "source": [
    "class Car(Vehicle):\n",
    "    def __init__(self,make,model,year,fuel,num_doors,is_sedan):\n",
    "        super().__init__(make,model,year,fuel)\n",
    "        self.num_doors=num_doors\n",
    "        self.is_sedan=is_sedan\n",
    "        \n",
    "    def car_info(self):\n",
    "        print(\"Make:\",self.make)\n",
    "        print(\"Model:\",self.model)\n",
    "        print(\"Manufactured Year:\",self.year)\n",
    "        print(\"Fuel Efficiency/Miles Per Gallon:\",self.fuel)\n",
    "        print(\"Number of Doors:\",self.num_doors)\n",
    "        print(\"Sedan:\",self.is_sedan)\n",
    "        \n",
    "car=Car(\"Toyota\",\"Tacoma\",2007,17,4,False)\n",
    "print(car.car_info())"
   ]
  },
  {
   "cell_type": "code",
   "execution_count": 1,
   "id": "66ed7d1c",
   "metadata": {},
   "outputs": [],
   "source": [
    "class Vehicle:\n",
    "    def __init__(self, make, model, year, fuel):\n",
    "        self.make=make\n",
    "        self.model=model\n",
    "        self.year=year\n",
    "        self.fuel=fuel\n",
    "        \n",
    "    def info(self):\n",
    "        print(\"Make:\",self.make)\n",
    "        print(\"Model:\",self.model)\n",
    "        print(\"Manufactured Year:\",self.year)\n",
    "        print(\"Fuel Efficiency:\",self.fuel)"
   ]
  },
  {
   "cell_type": "code",
   "execution_count": 12,
   "id": "33a090f7",
   "metadata": {},
   "outputs": [
    {
     "name": "stdout",
     "output_type": "stream",
     "text": [
      "Make: Ducati\n",
      "Model: Monster\n",
      "Manufactured Year: 2023\n",
      "Fuel Efficiency/Miles Per Gallon: 40\n",
      "Highest Speed/HP: 100\n",
      "Engine Size/cc: 937\n",
      "None\n"
     ]
    }
   ],
   "source": [
    "class Motorcycle(Vehicle):\n",
    "    def __init__(self,make,model,year,fuel,top_speed,engine_size):\n",
    "        super().__init__(make,model,year,fuel)\n",
    "        self.top_speed=top_speed\n",
    "        self.engine_size=engine_size\n",
    "        \n",
    "    def motorcycle_info(self):\n",
    "        print(\"Make:\",self.make)\n",
    "        print(\"Model:\",self.model)\n",
    "        print(\"Manufactured Year:\",self.year)\n",
    "        print(\"Fuel Efficiency/Miles Per Gallon:\",self.fuel)\n",
    "        print(\"Highest Speed/HP:\",self.top_speed)\n",
    "        print(\"Engine Size/cc:\",self.engine_size)\n",
    "\n",
    "motorcycle=Motorcycle(\"Ducati\",\"Monster\",2023,40,100,937)\n",
    "print(motorcycle.motorcycle_info())"
   ]
  },
  {
   "cell_type": "code",
   "execution_count": null,
   "id": "f1849e19",
   "metadata": {},
   "outputs": [],
   "source": []
  }
 ],
 "metadata": {
  "kernelspec": {
   "display_name": "Python 3 (ipykernel)",
   "language": "python",
   "name": "python3"
  },
  "language_info": {
   "codemirror_mode": {
    "name": "ipython",
    "version": 3
   },
   "file_extension": ".py",
   "mimetype": "text/x-python",
   "name": "python",
   "nbconvert_exporter": "python",
   "pygments_lexer": "ipython3",
   "version": "3.11.4"
  }
 },
 "nbformat": 4,
 "nbformat_minor": 5
}
