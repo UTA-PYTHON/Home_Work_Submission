{
 "cells": [
  {
   "cell_type": "markdown",
   "id": "50397580",
   "metadata": {},
   "source": [
    "## Homework 6 Object-oriented programming\n",
    "\n",
    "#### Yvonne Guajardo"
   ]
  },
  {
   "cell_type": "markdown",
   "id": "e03db615",
   "metadata": {},
   "source": [
    "## Question \n",
    "\n",
    "### 1. Design a class hierarchy to represent different types of vehicles in a transportation system. Start with a base class called Vehicle with the following attributes and methods:\n",
    "\n",
    "Attributes:\n",
    "- make(string)\n",
    "- model(string)\n",
    "- year(integer)\n",
    "- fuel(float)\n",
    "\n",
    "Methods:\n",
    "\n",
    "- init(self,make,model,year,fuel): Initialize the attributes.\n",
    "- info(self): Print basic information about the vehicle, including make, model, year, and fuel efficiency. \n",
    "\n",
    "Next, create two subclasses that inherit from Vehicle:"
   ]
  },
  {
   "cell_type": "code",
   "execution_count": 176,
   "id": "ba689dc9",
   "metadata": {},
   "outputs": [],
   "source": [
    "# parent class\n",
    "class Vehicle:\n",
    "    def __init__(self, make, model, year, fuel): #method\n",
    "        # attrubutes\n",
    "        self.make = str(make) \n",
    "        self.model = str(model) \n",
    "        self.year = int(year)\n",
    "        self.fuel = float(fuel)\n",
    "        \n",
    "    def info(self): # method\n",
    "        return f\"Make: {self.make} Model: {self.model} Year: {self.year} Fuel: {self.fuel}\""
   ]
  },
  {
   "cell_type": "markdown",
   "id": "302c4d32",
   "metadata": {},
   "source": [
    "### 2. Create a subclass called Car with the following additional attributes and methods:\n",
    "\n",
    "**Attributes:**\n",
    "\n",
    "- num_doors (integer)\n",
    "- is_sedan (boolean)\n",
    "\n",
    "\n",
    "**Methods:**\n",
    "\n",
    "- __init__(self, make, model, year, fuel, num_doors, is_sedan): Initialize the attributes.\n",
    "- display_car_info(self): Print detailed information about the car, including the number of doors and whether it's a sedan.\n",
    "\n"
   ]
  },
  {
   "cell_type": "code",
   "execution_count": 219,
   "id": "1cbcaa43",
   "metadata": {},
   "outputs": [],
   "source": [
    "# subclass\n",
    "class Car(vehicle):\n",
    "    def __init__(self, make, model, year, fuel, num_doors, is_sedan): # method\n",
    "        super().__init__(make, model, year, fuel)\n",
    "        # attributes\n",
    "        self.num_doors = int(num_doors)\n",
    "        self.is_sedan = bool(is_sedan) \n",
    "     \n",
    "    def display_car_info(self): # method\n",
    "        if self.is_sedan == True:\n",
    "            print(\"Your car is a sedan!\\n\")\n",
    "        else:\n",
    "            print (\"You car is not a sedan\\n!\")\n",
    "        \n",
    "        print(f\"Make: {self.make} Model: {self.model} Year: {self.year} Fuel(gallons): {self.fuel} Number of Doors: {self.num_doors} Sedan: {self.is_sedan}\\n\")\n",
    "    \n"
   ]
  },
  {
   "cell_type": "markdown",
   "id": "7b37b169",
   "metadata": {},
   "source": [
    "### 3. Create a subclass called Motorcycle with the following additional attributes and methods:\n",
    "\n",
    "**Attributes:**\n",
    "\n",
    "- top_speed (integer)\n",
    "- engine_size (float)\n",
    "\n",
    "\n",
    "**Methods:**\n",
    "\n",
    "- __init__(self, make, model, year, fuel, top_speed, engine_size): Initialize the attributes.\n",
    "- display_motorcycle_info(self): Print detailed information about the motorcycle, including top speed and engine size.\n",
    "\n",
    "\n",
    "Finally, create instances of both Car and Motorcycle classes and demonstrate the use of their methods to display information about each vehicle."
   ]
  },
  {
   "cell_type": "code",
   "execution_count": 220,
   "id": "c1e16119",
   "metadata": {},
   "outputs": [],
   "source": [
    "# subclass\n",
    "class motorcycle(vehicle): \n",
    "    def __init__(self, make, model, year, fuel, top_speed, engine_size): # method\n",
    "        super().__init__(make, model, year, fuel)\n",
    "        # attributes\n",
    "        self.top_speed = int(top_speed)\n",
    "        self.engine_size = float(engine_size)\n",
    "\n",
    "    def display_motorcycle_info(self):  # method\n",
    "        print(\"Motorcyle details:\\n\")\n",
    "        print(f\"Make:{self.make} Model: {self.model} Year: {self.year} Fuel(gallons):{self.fuel} Top Speed:{self.top_speed} Engine Size (cubic inches): {self.engine_size}\")\n"
   ]
  },
  {
   "cell_type": "code",
   "execution_count": 221,
   "id": "5931114f",
   "metadata": {},
   "outputs": [
    {
     "name": "stdout",
     "output_type": "stream",
     "text": [
      "Your car is a sedan!\n",
      "\n",
      "Make: Honda Model: Accord Year: 2020 Fuel(gallons): 14.8 Number of Doors: 4 Sedan: True\n",
      "\n",
      "Motorcyle details:\n",
      "\n",
      "Make:Harley Davidson Model: Road Glide Year: 2022 Fuel(gallons):6 Top Speed:130 Engine Size (cubic inches): 107.0\n"
     ]
    }
   ],
   "source": [
    "# instance 1\n",
    "my_vehicle = Car(\"Honda\", \"Accord\", 2020, 14.8, 4, True)\n",
    "my_vehicle.display_car_info()\n",
    "\n",
    "# instance 2\n",
    "motorcycle1 = motorcycle(\"Harley Davidson\", \"Road Glide\", 2022, 6, 130, 107)   \n",
    "motorcycle1.display_motorcycle_info()"
   ]
  }
 ],
 "metadata": {
  "kernelspec": {
   "display_name": "Python 3 (ipykernel)",
   "language": "python",
   "name": "python3"
  },
  "language_info": {
   "codemirror_mode": {
    "name": "ipython",
    "version": 3
   },
   "file_extension": ".py",
   "mimetype": "text/x-python",
   "name": "python",
   "nbconvert_exporter": "python",
   "pygments_lexer": "ipython3",
   "version": "3.11.4"
  }
 },
 "nbformat": 4,
 "nbformat_minor": 5
}
