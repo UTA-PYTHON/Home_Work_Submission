{
  "cells": [
    {
      "attachments": {},
      "cell_type": "markdown",
      "metadata": {
        "id": "VIqeR4FVugAQ"
      },
      "source": [
        "# **Homework 6: Object-oriented programming (OOP)**"
      ]
    },
    {
      "attachments": {},
      "cell_type": "markdown",
      "metadata": {
        "id": "YBl1Dzbx0tEo"
      },
      "source": [
        "### **Due date:** October 27, at 2:30 PM.\n",
        "\n",
        "### **Submission:** Please push your homework to the our GitHub repository, and place it in the 'Homework 6' folder."
      ]
    },
    {
      "attachments": {},
      "cell_type": "markdown",
      "metadata": {
        "id": "JsdFDiVvltSA"
      },
      "source": [
        "\n",
        "\n",
        "---\n",
        "\n",
        "\n",
        "\n",
        "---\n",
        "\n"
      ]
    },
    {
      "attachments": {},
      "cell_type": "markdown",
      "metadata": {
        "id": "PKFjn9RQxdKh"
      },
      "source": [
        "## **Question**"
      ]
    },
    {
      "attachments": {},
      "cell_type": "markdown",
      "metadata": {
        "id": "i9czG4jTxdvg"
      },
      "source": [
        "### 1. Design a class hierarchy to represent different types of vehicles in a transportation system. Start with a base class called Vehicle with the following attributes and methods:\n",
        "\n",
        "**Attributes:**\n",
        "\n",
        "- make (string)\n",
        "- model (string)\n",
        "- year (integer)\n",
        "- fuel (float)\n",
        "\n",
        "**Methods:**\n",
        "\n",
        "- __init__(self, make, model, year, fuel): Initialize the attributes.\n",
        "- info(self): Print basic information about the vehicle, including make, model, year, and fuel efficiency.\n",
        "\n",
        "Next, create two subclasses that inherit from Vehicle:\n",
        "\n",
        "### 2. Create a subclass called Car with the following additional attributes and methods:\n",
        "\n",
        "**Attributes:**\n",
        "\n",
        "- num_doors (integer)\n",
        "- is_sedan (boolean)\n",
        "\n",
        "\n",
        "**Methods:**\n",
        "\n",
        "- __init__(self, make, model, year, fuel, num_doors, is_sedan): Initialize the attributes.\n",
        "- display_car_info(self): Print detailed information about the car, including the number of doors and whether it's a sedan.\n",
        "\n",
        "\n",
        "### 3. Create a subclass called Motorcycle with the following additional attributes and methods:\n",
        "\n",
        "**Attributes:**\n",
        "\n",
        "- top_speed (integer)\n",
        "- engine_size (float)\n",
        "\n",
        "\n",
        "**Methods:**\n",
        "\n",
        "- __init__(self, make, model, year, fuel, top_speed, engine_size): Initialize the attributes.\n",
        "- display_motorcycle_info(self): Print detailed information about the motorcycle, including top speed and engine size.\n",
        "\n",
        "\n",
        "Finally, create instances of both Car and Motorcycle classes and demonstrate the use of their methods to display information about each vehicle."
      ]
    },
    {
      "cell_type": "code",
      "execution_count": 8,
      "metadata": {
        "id": "1-VdpWBGylS5"
      },
      "outputs": [
        {
          "data": {
            "text/plain": [
              "'CRF450R 2017 Honda 50'"
            ]
          },
          "execution_count": 8,
          "metadata": {},
          "output_type": "execute_result"
        }
      ],
      "source": [
        "\n",
        "\n",
        "\n",
        "class vehicle:\n",
        "    def __init__(self,make,model,year,fuel):\n",
        "        self.make=make\n",
        "        self.model=model\n",
        "        self.year=year\n",
        "        self.fuel=fuel\n",
        "        \n",
        "    def info(self):\n",
        "        return f\"{self.year} {self.make} {self.model} {self.fuel}\"\n",
        "    \n",
        "class car(vehicle):\n",
        "    def __init__(self, make, model, year, fuel, num_doors, is_sedan):\n",
        "        super().__init__(make, model, year, fuel) #construct of the parent class\n",
        "        self.num_doors=num_doors\n",
        "        self.is_sedan=is_sedan\n",
        "        \n",
        "    def display_car_info(self):\n",
        "        base_info=super.display() #display info in the parent class\n",
        "        return f\"{self.year} {self.make} {self.model} {self.fuel} {self.num_doors} {self.is_sedan}\"     \n",
        "               \n",
        "class Motorcycle(vehicle):\n",
        "    def __init__(self, make, model, year, fuel, top_speed, engine_size):\n",
        "        super().__init__(make, model, year, fuel) # construct of the parent class\n",
        "        self.top_speed=top_speed\n",
        "        self.engine_size=engine_size\n",
        "        \n",
        "    def display_motorcycle_info(self):\n",
        "        base_info=super.display()\n",
        "        return f\"This {self.year} {self.make} {self.model} {self.fuel} motorcycle has a {self.top_speed} {self.engine_size} size.\"                   \n",
        "        \n",
        "        \n",
        "c=car('2018', \"Honda\", \"Civiv\", fuel=30, num_doors=4, is_sedan=False)  \n",
        "m=Motorcycle('2017',\"Honda\", \"CRF450R\", fuel=50, top_speed=80, engine_size='400cc')      \n",
        "\n",
        "c.info()\n",
        "m.info()\n",
        "\n",
        "\n",
        "\n",
        "\n",
        "\n",
        "\n",
        "\n",
        "\n",
        "\n",
        "\n",
        "\n",
        "\n",
        "\n",
        "\n",
        "\n",
        "\n",
        "\n"
      ]
    },
    {
      "cell_type": "code",
      "execution_count": null,
      "metadata": {},
      "outputs": [],
      "source": []
    }
  ],
  "metadata": {
    "colab": {
      "provenance": []
    },
    "kernelspec": {
      "display_name": "Python 3 (ipykernel)",
      "language": "python",
      "name": "python3"
    },
    "language_info": {
      "codemirror_mode": {
        "name": "ipython",
        "version": 3
      },
      "file_extension": ".py",
      "mimetype": "text/x-python",
      "name": "python",
      "nbconvert_exporter": "python",
      "pygments_lexer": "ipython3",
      "version": "3.10.8"
    }
  },
  "nbformat": 4,
  "nbformat_minor": 0
}
