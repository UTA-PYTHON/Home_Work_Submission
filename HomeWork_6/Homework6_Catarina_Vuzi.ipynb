{
  "nbformat": 4,
  "nbformat_minor": 0,
  "metadata": {
    "colab": {
      "provenance": []
    },
    "kernelspec": {
      "name": "python3",
      "display_name": "Python 3"
    },
    "language_info": {
      "name": "python"
    }
  },
  "cells": [
    {
      "cell_type": "markdown",
      "source": [
        "# **Homework 6: Object-oriented programming (OOP)**\n",
        "\n"
      ],
      "metadata": {
        "id": "_pGVuz3mr9_V"
      }
    },
    {
      "cell_type": "markdown",
      "source": [
        "### **Due date:** October 27, at 2:30 PM.\n",
        "\n",
        "### **Submission:** Please push your homework to the our GitHub repository, and place it in the 'Homework 6' folder."
      ],
      "metadata": {
        "id": "W9jENSAasEEm"
      }
    },
    {
      "cell_type": "markdown",
      "source": [
        "# **Question 1**\n",
        "\n",
        "### 1. Design a class hierarchy to represent different types of vehicles in a transportation system. Start with a base class called Vehicle with the following attributes and methods:\n",
        "\n",
        "**Attributes:**\n",
        "\n",
        "- make (string)\n",
        "- model (string)\n",
        "- year (integer)\n",
        "- fuel (float)\n",
        "\n",
        "**Methods:**\n",
        "\n",
        "- __init__(self, make, model, year, fuel): Initialize the attributes.\n",
        "- info(self): Print basic information about the vehicle, including make, model, year, and fuel efficiency.\n",
        "\n",
        "Next, create two subclasses that inherit from Vehicle:\n",
        "\n",
        "### 2. Create a subclass called Car with the following additional attributes and methods:\n",
        "\n",
        "**Attributes:**\n",
        "\n",
        "- num_doors (integer)\n",
        "- is_sedan (boolean)\n",
        "\n",
        "\n",
        "**Methods:**\n",
        "\n",
        "- __init__(self, make, model, year, fuel, num_doors, is_sedan): Initialize the attributes.\n",
        "- display_car_info(self): Print detailed information about the car, including the number of doors and whether it's a sedan.\n",
        "\n",
        "\n",
        "### 3. Create a subclass called Motorcycle with the following additional attributes and methods:\n",
        "\n",
        "**Attributes:**\n",
        "\n",
        "- top_speed (integer)\n",
        "- engine_size (float)\n",
        "\n",
        "\n",
        "**Methods:**\n",
        "\n",
        "- __init__(self, make, model, year, fuel, top_speed, engine_size): Initialize the attributes.\n",
        "- display_motorcycle_info(self): Print detailed information about the motorcycle, including top speed and engine size.\n",
        "\n",
        "\n",
        "Finally, create instances of both Car and Motorcycle classes and demonstrate the use of their methods to display information about each vehicle."
      ],
      "metadata": {
        "id": "bfZZDlXxsL5o"
      }
    },
    {
      "cell_type": "code",
      "execution_count": 20,
      "metadata": {
        "id": "ydxGyoKArwNz"
      },
      "outputs": [],
      "source": [
        "class vehicle: ## this the vehicle class\n",
        "  def __init__(self,make, model,year,fuel): ## initializing\n",
        "    self.make=make ##Attributes\n",
        "    self.model=model\n",
        "    self.year=year\n",
        "    self.fuel=fuel\n",
        "  def info(self): # Method\n",
        "    return f\" This car is a{self.make} model{self.model} the year is {self.year} and the fuel efficiency is {self.fuel}\"\n",
        "class car(vehicle): #Subclass named car\n",
        "  def __init__(self, make, model,year,fuel,num_doors, is_sedan):\n",
        "    super().__init__(make,model,year,fuel) #constructor\n",
        "    self.num_doors=num_doors\n",
        "    self.is_sedan=is_sedan\n",
        "  def display_car_info(self): ## Another method\n",
        "    return f\"This car is {self.make},{self.model} is from {self.year} and the fuel efficiency is {self.fuel} it has{self.num_doors} doors. Sedan?{self.is_sedan}\"\n",
        "class Motocycle(vehicle): ##Subclass named motocycle\n",
        "    def __init__(self, make,model,year,fuel,top_speed,engine_size):\n",
        "      super().__init__(make,model,year,fuel) ##constructor\n",
        "      self.top_speed=top_speed\n",
        "      self.engine_size=engine_size\n",
        "    def display_motocycle__info(self):\n",
        "      return f\"This car is {self.make},{self.model} is from {self.year} and the fuel efficiency is {self.fuel}. The speed is {self.top_speed} and the engine size is {self.engine_size}\"\n",
        "\n",
        "\n"
      ]
    },
    {
      "cell_type": "code",
      "source": [
        "car1=car(\"Toyota\",\"Camry\",2021,40.0,4,True)\n",
        "motocycle1=Motocycle(\"Harley-Davidson\",\"Softail\",2022,40.0,110,1868)"
      ],
      "metadata": {
        "id": "2FtYGclMzJCQ"
      },
      "execution_count": 18,
      "outputs": []
    },
    {
      "cell_type": "code",
      "source": [
        "car1.display_car_info()"
      ],
      "metadata": {
        "colab": {
          "base_uri": "https://localhost:8080/",
          "height": 35
        },
        "id": "hhHZkKre0uWo",
        "outputId": "2e0a09ab-1d40-492e-ddb0-a950af946803"
      },
      "execution_count": 12,
      "outputs": [
        {
          "output_type": "execute_result",
          "data": {
            "text/plain": [
              "'This car is Toyota,Camry is from 2021 and the fuel efficiency is 40.0 it has4 doors. Sedan?True'"
            ],
            "application/vnd.google.colaboratory.intrinsic+json": {
              "type": "string"
            }
          },
          "metadata": {},
          "execution_count": 12
        }
      ]
    },
    {
      "cell_type": "code",
      "source": [
        "motocycle1.display_motocycle__info()"
      ],
      "metadata": {
        "colab": {
          "base_uri": "https://localhost:8080/",
          "height": 35
        },
        "id": "Uaq7Y-eJ1Y2A",
        "outputId": "3dd81d2e-deca-4642-f0f8-4c8705bd99ba"
      },
      "execution_count": 22,
      "outputs": [
        {
          "output_type": "execute_result",
          "data": {
            "text/plain": [
              "'This car is Harley-Davidson,Softail is from 2022 and the fuel efficiency is 40.0. The speed is110 and the engine size is 1868'"
            ],
            "application/vnd.google.colaboratory.intrinsic+json": {
              "type": "string"
            }
          },
          "metadata": {},
          "execution_count": 22
        }
      ]
    }
  ]
}