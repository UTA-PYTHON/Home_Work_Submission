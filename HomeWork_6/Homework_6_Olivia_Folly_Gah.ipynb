{
  "nbformat": 4,
  "nbformat_minor": 0,
  "metadata": {
    "colab": {
      "provenance": []
    },
    "kernelspec": {
      "name": "python3",
      "display_name": "Python 3"
    },
    "language_info": {
      "name": "python"
    }
  },
  "cells": [
    {
      "cell_type": "markdown",
      "source": [
        "# **Homework 6: Object-oriented programming (OOP)**"
      ],
      "metadata": {
        "id": "VIqeR4FVugAQ"
      }
    },
    {
      "cell_type": "markdown",
      "source": [
        "### **Due date:** October 27, at 2:30 PM.\n",
        "\n",
        "### **Submission:** Please push your homework to the our GitHub repository, and place it in the 'Homework 6' folder."
      ],
      "metadata": {
        "id": "YBl1Dzbx0tEo"
      }
    },
    {
      "cell_type": "markdown",
      "source": [
        "\n",
        "\n",
        "---\n",
        "\n",
        "\n",
        "\n",
        "---\n",
        "\n"
      ],
      "metadata": {
        "id": "JsdFDiVvltSA"
      }
    },
    {
      "cell_type": "markdown",
      "source": [
        "## **Question**"
      ],
      "metadata": {
        "id": "PKFjn9RQxdKh"
      }
    },
    {
      "cell_type": "markdown",
      "source": [
        "### 1. Design a class hierarchy to represent different types of vehicles in a transportation system. Start with a base class called Vehicle with the following attributes and methods:\n",
        "\n",
        "**Attributes:**\n",
        "\n",
        "- make (string)\n",
        "- model (string)\n",
        "- year (integer)\n",
        "- fuel (float)\n",
        "\n",
        "**Methods:**\n",
        "\n",
        "- __init__(self, make, model, year, fuel): Initialize the attributes.\n",
        "- info(self): Print basic information about the vehicle, including make, model, year, and fuel efficiency.\n",
        "\n",
        "Next, create two subclasses that inherit from Vehicle:\n",
        "\n",
        "### 2. Create a subclass called Car with the following additional attributes and methods:\n",
        "\n",
        "**Attributes:**\n",
        "\n",
        "- num_doors (integer)\n",
        "- is_sedan (boolean)\n",
        "\n",
        "\n",
        "**Methods:**\n",
        "\n",
        "- __init__(self, make, model, year, fuel, num_doors, is_sedan): Initialize the attributes.\n",
        "- display_car_info(self): Print detailed information about the car, including the number of doors and whether it's a sedan.\n",
        "\n",
        "\n",
        "### 3. Create a subclass called Motorcycle with the following additional attributes and methods:\n",
        "\n",
        "**Attributes:**\n",
        "\n",
        "- top_speed (integer)\n",
        "- engine_size (float)\n",
        "\n",
        "\n",
        "**Methods:**\n",
        "\n",
        "- __init__(self, make, model, year, fuel, top_speed, engine_size): Initialize the attributes.\n",
        "- display_motorcycle_info(self): Print detailed information about the motorcycle, including top speed and engine size.\n",
        "\n",
        "\n",
        "Finally, create instances of both Car and Motorcycle classes and demonstrate the use of their methods to display information about each vehicle."
      ],
      "metadata": {
        "id": "i9czG4jTxdvg"
      }
    },
    {
      "cell_type": "markdown",
      "source": [
        "##1. Design a class hierarchy to represent different types of vehicles in a transportation system. Start with a base class called Vehicle with the following attributes and methods:\n",
        "Attributes:\n",
        "\n",
        "make (string)\n",
        "model (string)\n",
        "year (integer)\n",
        "fuel (float)\n",
        "Methods:\n",
        "\n",
        "init(self, make, model, year, fuel): Initialize the attributes.\n",
        "info(self): Print basic information about the vehicle, including make, model, year, and fuel efficiency."
      ],
      "metadata": {
        "id": "_q3PXKQIf3pO"
      }
    },
    {
      "cell_type": "code",
      "source": [
        "class Vehicle:\n",
        "    def __init__(self, make, model, year, fuel):\n",
        "        self.make=make\n",
        "        self.model=model\n",
        "        self.year=year\n",
        "        self.fuel=fuel\n",
        "\n",
        "\n",
        "    def info(self):\n",
        "        print(f\"This car is a {self.year} {self.make} {self.model} and its fuel efficiency is {self.fuel} miles per gallon.\")\n",
        ""
      ],
      "metadata": {
        "id": "sYvpOER9f8OZ"
      },
      "execution_count": 1,
      "outputs": []
    },
    {
      "cell_type": "code",
      "source": [
        "car = Car(\"Volts\", \"T1\", 2016, 45, 4, True)\n",
        "car.display_car_info()"
      ],
      "metadata": {
        "colab": {
          "base_uri": "https://localhost:8080/"
        },
        "id": "hhrgZZxNl8Gp",
        "outputId": "5e2d41ce-73de-4c5b-ad53-58c01ed8b5e0"
      },
      "execution_count": 13,
      "outputs": [
        {
          "output_type": "stream",
          "name": "stdout",
          "text": [
            "This car has 4 doors\n",
            "Yes, it is a sedan\n"
          ]
        }
      ]
    },
    {
      "cell_type": "code",
      "source": [
        "class Car(Vehicle):\n",
        "    def __init__(self, make, model, year, fuel, num_doors, is_sedan):\n",
        "        self.make = make\n",
        "        self.model = model\n",
        "        self.year = year\n",
        "        self.fuel = fuel\n",
        "        self.num_doors = num_doors\n",
        "        self.is_sedan = is_sedan\n",
        "\n",
        "    def display_car_info(self):\n",
        "        print(f\"This car has {self.num_doors} doors\")\n",
        "        if self.num_doors >= 4:\n",
        "            print(\"Yes, it is a sedan\")\n",
        "        else:\n",
        "            print(\"This vehicle is not a sedan\")\n",
        "\n",
        "car = Car(\"Toyota\", \"Camry\", 2023, 30, 4, True)\n",
        "car.display_car_info()\n"
      ],
      "metadata": {
        "colab": {
          "base_uri": "https://localhost:8080/"
        },
        "id": "73g8910vku4u",
        "outputId": "04f12fa3-701d-4f5a-f099-b41cd40383d9"
      },
      "execution_count": 8,
      "outputs": [
        {
          "output_type": "stream",
          "name": "stdout",
          "text": [
            "This car has 4 doors\n",
            "Yes, it is a sedan\n"
          ]
        }
      ]
    },
    {
      "cell_type": "code",
      "source": [
        "class Motorcycle(Vehicle):\n",
        "    def __init__(self, make, model, year, fuel, top_speed, engine_size):\n",
        "        self.make=make\n",
        "        self.model=model\n",
        "        self.year=year\n",
        "        self.fuel=fuel\n",
        "        self.top_speed=top_speed\n",
        "        self.engine_size=engine_size\n",
        "\n",
        "    def display_motorcycle_info(self):\n",
        "        print(f\"The top speed of this vehicle is {self.top_speed} mph and the engine size is {self.engine_size} cc.\")\n",
        ""
      ],
      "metadata": {
        "id": "qt0Svfemk-Xd"
      },
      "execution_count": 10,
      "outputs": []
    },
    {
      "cell_type": "code",
      "source": [
        "car = Car(\"BMW\", \"X3\", 2023, 30, 4, True)\n",
        "motorcycle = Motorcycle(\"Harley\", \"Sportster\", 2021, 30, 190, 800)\n",
        "\n",
        "print(\"Car Information:\")\n",
        "car.display_car_info()\n",
        "\n",
        "print(\"Motorcycle Information:\")\n",
        "motorcycle.display_motorcycle_info()"
      ],
      "metadata": {
        "colab": {
          "base_uri": "https://localhost:8080/"
        },
        "id": "WedXVI8Ql3xT",
        "outputId": "91d140f5-dcba-4684-e61f-2851228535ec"
      },
      "execution_count": 16,
      "outputs": [
        {
          "output_type": "stream",
          "name": "stdout",
          "text": [
            "Car Information:\n",
            "This car has 4 doors\n",
            "Yes, it is a sedan\n",
            "Motorcycle Information:\n",
            "The top speed of this vehicle is 190 mph and the engine size is 800 cc.\n"
          ]
        }
      ]
    }
  ]
}