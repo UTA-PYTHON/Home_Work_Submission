{
  "nbformat": 4,
  "nbformat_minor": 0,
  "metadata": {
    "colab": {
      "provenance": []
    },
    "kernelspec": {
      "name": "python3",
      "display_name": "Python 3"
    },
    "language_info": {
      "name": "python"
    }
  },
  "cells": [
    {
      "cell_type": "markdown",
      "source": [
        "### 1. Design a class hierarchy to represent different types of vehicles in a transportation system. Start with a base class called Vehicle with the following attributes and methods:\n",
        "\n",
        "**Attributes:**\n",
        "\n",
        "- make (string)\n",
        "- model (string)\n",
        "- year (integer)\n",
        "- fuel (float)\n",
        "\n",
        "**Methods:**\n",
        "\n",
        "- __init__(self, make, model, year, fuel): Initialize the attributes.\n",
        "- info(self): Print basic information about the vehicle, including make, model, year, and fuel efficiency.\n",
        "\n",
        "Next, create two subclasses that inherit from Vehicle:"
      ],
      "metadata": {
        "id": "v9h1gPyKxgjR"
      }
    },
    {
      "cell_type": "code",
      "source": [
        "class Vehicle:\n",
        "    def __init__(self, make, model, year, fuel):\n",
        "        self.make = make\n",
        "        self.model = model\n",
        "        self.year = year\n",
        "        self.fuel = fuel\n",
        "\n",
        "    def info(self):\n",
        "        print(f\"Make: {self.make}\")\n",
        "        print(f\"Model: {self.model}\")\n",
        "        print(f\"Year: {self.year}\")\n",
        "        print(f\"Fuel Efficiency: {self.fuel} miles per gallon\")\n",
        "\n",
        "class Car(Vehicle):\n",
        "    def __init__(self, make, model, year, fuel, passengers):\n",
        "        super().__init__(make, model, year, fuel)\n",
        "        self.passengers = passengers\n",
        "\n",
        "    def info(self):\n",
        "        super().info()\n",
        "        print(f\"Passenger Capacity: {self.passengers} passengers\")\n",
        "\n",
        "class Motorcycle(Vehicle):\n",
        "    def __init__(self, make, model, year, fuel, type):\n",
        "        super().__init__(make, model, year, fuel)\n",
        "        self.type = type\n",
        "\n",
        "    def info(self):\n",
        "        super().info()\n",
        "        print(f\"Motorcycle Type: {self.type}\")\n",
        "\n",
        "car1 = Car(\"Toyota\", \"Camry\", 2022, 30.5, 5)\n",
        "motorcycle1 = Motorcycle(\"Harley-Davidson\", \"Sportster\", 2021, 45.2, \"Cruiser\")\n",
        "\n",
        "print(\"Car Information:\")\n",
        "car1.info()\n",
        "\n",
        "print(\"\\nMotorcycle Information:\")\n",
        "motorcycle1.info()\n"
      ],
      "metadata": {
        "colab": {
          "base_uri": "https://localhost:8080/"
        },
        "id": "4CJrRzXsxg3-",
        "outputId": "9342a520-4f69-4f62-94b7-acc601dc7ee0"
      },
      "execution_count": 1,
      "outputs": [
        {
          "output_type": "stream",
          "name": "stdout",
          "text": [
            "Car Information:\n",
            "Make: Toyota\n",
            "Model: Camry\n",
            "Year: 2022\n",
            "Fuel Efficiency: 30.5 miles per gallon\n",
            "Passenger Capacity: 5 passengers\n",
            "\n",
            "Motorcycle Information:\n",
            "Make: Harley-Davidson\n",
            "Model: Sportster\n",
            "Year: 2021\n",
            "Fuel Efficiency: 45.2 miles per gallon\n",
            "Motorcycle Type: Cruiser\n"
          ]
        }
      ]
    },
    {
      "cell_type": "markdown",
      "source": [
        "### 2. Create a subclass called Car with the following additional attributes and methods:\n",
        "\n",
        "**Attributes:**\n",
        "\n",
        "- num_doors (integer)\n",
        "- is_sedan (boolean)\n",
        "\n",
        "\n",
        "**Methods:**\n",
        "\n",
        "- __init__(self, make, model, year, fuel, num_doors, is_sedan): Initialize the attributes.\n",
        "- display_car_info(self): Print detailed information about the car, including the number of doors and whether it's a sedan.\n",
        "\n"
      ],
      "metadata": {
        "id": "NFKm268Kx4o8"
      }
    },
    {
      "cell_type": "code",
      "source": [
        "class Car(Vehicle):\n",
        "    def __init__(self, make, model, year, fuel, passengers, num_doors, is_sedan):\n",
        "        super().__init__(make, model, year, fuel)\n",
        "        self.passengers = passengers\n",
        "        self.num_doors = num_doors\n",
        "        self.is_sedan = is_sedan\n",
        "\n",
        "    def display_car_info(self):\n",
        "        super().info()\n",
        "        print(f\"Passenger Capacity: {self.passengers} passengers\")\n",
        "        print(f\"Number of Doors: {self.num_doors}\")\n",
        "        if self.is_sedan:\n",
        "            print(\"Is a Sedan: Yes\")\n",
        "        else:\n",
        "            print(\"Is a Sedan: No\")\n",
        "\n",
        "car2 = Car(\"Honda\", \"Civic\", 2021, 33.0, 5, 4, True)\n",
        "\n",
        "print(\"Car Information:\")\n",
        "car2.display_car_info()\n"
      ],
      "metadata": {
        "colab": {
          "base_uri": "https://localhost:8080/"
        },
        "id": "i8BlJWv8yE2o",
        "outputId": "89d6798d-045c-46f1-be9b-5b8abd3ae886"
      },
      "execution_count": 2,
      "outputs": [
        {
          "output_type": "stream",
          "name": "stdout",
          "text": [
            "Car Information:\n",
            "Make: Honda\n",
            "Model: Civic\n",
            "Year: 2021\n",
            "Fuel Efficiency: 33.0 miles per gallon\n",
            "Passenger Capacity: 5 passengers\n",
            "Number of Doors: 4\n",
            "Is a Sedan: Yes\n"
          ]
        }
      ]
    },
    {
      "cell_type": "markdown",
      "source": [
        "### 3. Create a subclass called Motorcycle with the following additional attributes and methods:\n",
        "\n",
        "**Attributes:**\n",
        "\n",
        "- top_speed (integer)\n",
        "- engine_size (float)\n",
        "\n",
        "\n",
        "**Methods:**\n",
        "\n",
        "- __init__(self, make, model, year, fuel, top_speed, engine_size): Initialize the attributes.\n",
        "- display_motorcycle_info(self): Print detailed information about the motorcycle, including top speed and engine size.\n",
        "\n",
        "\n",
        "Finally, create instances of both Car and Motorcycle classes and demonstrate the use of their methods to display information about each vehicle."
      ],
      "metadata": {
        "id": "Y_efjk3ZySaM"
      }
    },
    {
      "cell_type": "code",
      "source": [
        "class Motorcycle(Vehicle):\n",
        "    def __init__(self, make, model, year, fuel, top_speed, engine_size):\n",
        "        super().__init__(make, model, year, fuel)\n",
        "        self.top_speed = top_speed\n",
        "        self.engine_size = engine_size\n",
        "\n",
        "    def display_motorcycle_info(self):\n",
        "        super().info()\n",
        "        print(f\"Top Speed: {self.top_speed} mph\")\n",
        "        print(f\"Engine Size: {self.engine_size} cc\")\n",
        "\n",
        "car3 = Car(\"Ford\", \"Mustang\", 2022, 25.0, 4, 2, False)\n",
        "motorcycle2 = Motorcycle(\"Kawasaki\", \"Ninja\", 2021, 50.5, 160, 650.0)\n",
        "\n",
        "print(\"Car Information:\")\n",
        "car3.display_car_info()\n",
        "\n",
        "print(\"\\nMotorcycle Information:\")\n",
        "motorcycle2.display_motorcycle_info()\n"
      ],
      "metadata": {
        "colab": {
          "base_uri": "https://localhost:8080/"
        },
        "id": "nhsUbYPHyShj",
        "outputId": "c0a6157c-1374-4b5f-a15e-216777158e55"
      },
      "execution_count": 3,
      "outputs": [
        {
          "output_type": "stream",
          "name": "stdout",
          "text": [
            "Car Information:\n",
            "Make: Ford\n",
            "Model: Mustang\n",
            "Year: 2022\n",
            "Fuel Efficiency: 25.0 miles per gallon\n",
            "Passenger Capacity: 4 passengers\n",
            "Number of Doors: 2\n",
            "Is a Sedan: No\n",
            "\n",
            "Motorcycle Information:\n",
            "Make: Kawasaki\n",
            "Model: Ninja\n",
            "Year: 2021\n",
            "Fuel Efficiency: 50.5 miles per gallon\n",
            "Top Speed: 160 mph\n",
            "Engine Size: 650.0 cc\n"
          ]
        }
      ]
    }
  ]
}