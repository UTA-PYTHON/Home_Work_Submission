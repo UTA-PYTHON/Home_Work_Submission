{
 "cells": [
  {
   "cell_type": "markdown",
   "metadata": {
    "id": "VIqeR4FVugAQ"
   },
   "source": [
    "# **Homework 6: Object-oriented programming (OOP)**"
   ]
  },
  {
   "cell_type": "markdown",
   "metadata": {
    "id": "YBl1Dzbx0tEo"
   },
   "source": [
    "### **Due date:** October 27, at 2:30 PM.\n",
    "\n",
    "### **Submission:** Please push your homework to the our GitHub repository, and place it in the 'Homework 6' folder."
   ]
  },
  {
   "cell_type": "markdown",
   "metadata": {
    "id": "JsdFDiVvltSA"
   },
   "source": [
    "\n",
    "\n",
    "---\n",
    "\n",
    "\n",
    "\n",
    "---\n",
    "\n"
   ]
  },
  {
   "cell_type": "markdown",
   "metadata": {
    "id": "PKFjn9RQxdKh"
   },
   "source": [
    "## **Question**"
   ]
  },
  {
   "cell_type": "markdown",
   "metadata": {},
   "source": [
    "### 1. Design a class hierarchy to represent different types of vehicles in a transportation system. Start with a base class called Vehicle with the following attributes and methods:\n",
    "\n",
    "**Attributes:**\n",
    "\n",
    "- make (string)\n",
    "- model (string)\n",
    "- year (integer)\n",
    "- fuel (float)\n",
    "\n",
    "**Methods:**\n",
    "\n",
    "- __init__(self, make, model, year, fuel): Initialize the attributes.\n",
    "- info(self): Print basic information about the vehicle, including make, model, year, and fuel efficiency.\n",
    "\n",
    "Next, create two subclasses that inherit from Vehicle:"
   ]
  },
  {
   "cell_type": "markdown",
   "metadata": {},
   "source": [
    "### 2. Create a subclass called Car with the following additional attributes and methods:\n",
    "\n",
    "**Attributes:**\n",
    "\n",
    "- num_doors (integer)\n",
    "- is_sedan (boolean)\n",
    "\n",
    "\n",
    "**Methods:**\n",
    "\n",
    "- __init__(self, make, model, year, fuel, num_doors, is_sedan): Initialize the attributes.\n",
    "- display_car_info(self): Print detailed information about the car, including the number of doors and whether it's a sedan."
   ]
  },
  {
   "cell_type": "markdown",
   "metadata": {
    "id": "i9czG4jTxdvg"
   },
   "source": [
    "### 3. Create a subclass called Motorcycle with the following additional attributes and methods:\n",
    "\n",
    "**Attributes:**\n",
    "\n",
    "- top_speed (integer)\n",
    "- engine_size (float)\n",
    "\n",
    "\n",
    "**Methods:**\n",
    "\n",
    "- __init__(self, make, model, year, fuel, top_speed, engine_size): Initialize the attributes.\n",
    "- display_motorcycle_info(self): Print detailed information about the motorcycle, including top speed and engine size.\n",
    "\n",
    "\n",
    "Finally, create instances of both Car and Motorcycle classes and demonstrate the use of their methods to display information about each vehicle."
   ]
  },
  {
   "cell_type": "code",
   "execution_count": 43,
   "metadata": {
    "id": "1-VdpWBGylS5"
   },
   "outputs": [],
   "source": [
    "class Vehicle:\n",
    "    def __init__(self,make,model,year,fuel):\n",
    "        self.make = make\n",
    "        self.model = model\n",
    "        self.year = year\n",
    "        self.fuel = fuel\n",
    "        \n",
    "    def info(self):\n",
    "        info= f\"The make of the vehicle is: {self.make} The model is: {self.model} The year is: {self.year} The fuel is: {self.fuel}\"\n",
    "        return info\n",
    "class Car(Vehicle):  \n",
    "    def __init__(self,make,model,year,fuel,num_doors,is_sedan):\n",
    "        super().__init__(make,model,year,fuel)\n",
    "        self.num_doors = num_doors\n",
    "        self.is_sedan = is_sedan\n",
    "        if is_sedan == True:\n",
    "            self.is_sedan = \"This is a Sedan\"\n",
    "        else:\n",
    "            self.is_sedan = \"This is not a Sedan\"\n",
    "        \n",
    "    def display_car_info(self):\n",
    "        car_info = f\"The make of the car is: {self.make} The model is: {self.model} The year is: {self.year} The fuel is: {self.fuel} gallons The number of doors is: {self.num_doors}, {self.is_sedan}\" \n",
    "        return car_info \n",
    "        \n",
    "class Motorcycle(Vehicle):\n",
    "    def __init__(self, make, model, year, fuel, top_speed, engine_size):\n",
    "        super().__init__(make,model,year,fuel)\n",
    "        self.top_speed = top_speed\n",
    "        self.engine_size = engine_size\n",
    "    \n",
    "    def diplay_motorcycle_info(self):\n",
    "        motorcycle_info = f\"The make of the motocyce is: {self.make} The model is: {self.model} The year is: {self.year} The fuel is: {self.fuel} gallons The top speed is: {self.top_speed} mph The engine size is: {self.engine_size} cc\" \n",
    "        return motorcycle_info"
   ]
  },
  {
   "cell_type": "code",
   "execution_count": 44,
   "metadata": {},
   "outputs": [],
   "source": [
    "C = Car(\"Ford\",\"Escape Titanium\",2015,12,4,False)\n",
    "M = Motorcycle(\"Harley Davidson\",\"Road King Special\",2023,12,120,114)"
   ]
  },
  {
   "cell_type": "code",
   "execution_count": 45,
   "metadata": {
    "scrolled": true
   },
   "outputs": [
    {
     "data": {
      "text/plain": [
       "'The make of the car is: Ford The model is: Escape Titanium The year is: 2015 The fuel is: 12 gallons The number of doors is: 4, This is not a Sedan'"
      ]
     },
     "execution_count": 45,
     "metadata": {},
     "output_type": "execute_result"
    }
   ],
   "source": [
    "C.display_car_info()"
   ]
  },
  {
   "cell_type": "code",
   "execution_count": 46,
   "metadata": {},
   "outputs": [
    {
     "data": {
      "text/plain": [
       "'The make of the motocyce is: Harley Davidson The model is: Road King Special The year is: 2023 The fuel is: 12 gallons The top speed is: 120 mph The engine size is: 114 cc'"
      ]
     },
     "execution_count": 46,
     "metadata": {},
     "output_type": "execute_result"
    }
   ],
   "source": [
    "M.diplay_motorcycle_info()"
   ]
  }
 ],
 "metadata": {
  "colab": {
   "provenance": []
  },
  "kernelspec": {
   "display_name": "Python 3 (ipykernel)",
   "language": "python",
   "name": "python3"
  },
  "language_info": {
   "codemirror_mode": {
    "name": "ipython",
    "version": 3
   },
   "file_extension": ".py",
   "mimetype": "text/x-python",
   "name": "python",
   "nbconvert_exporter": "python",
   "pygments_lexer": "ipython3",
   "version": "3.11.4"
  }
 },
 "nbformat": 4,
 "nbformat_minor": 1
}
