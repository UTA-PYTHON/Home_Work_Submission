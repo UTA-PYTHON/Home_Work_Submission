{
 "cells": [
  {
   "cell_type": "code",
   "execution_count": null,
   "metadata": {},
   "outputs": [],
   "source": [
    "# Robert Cocker\n",
    "# DATA 3401-001\n",
    "# Dr. Rostami\n",
    "# Homework 6\n",
    "# 10/26/23"
   ]
  },
  {
   "cell_type": "markdown",
   "metadata": {
    "id": "VIqeR4FVugAQ"
   },
   "source": [
    "# **Homework 6: Object-oriented programming (OOP)**"
   ]
  },
  {
   "cell_type": "markdown",
   "metadata": {
    "id": "YBl1Dzbx0tEo"
   },
   "source": [
    "### **Due date:** October 27, at 2:30 PM.\n",
    "\n",
    "### **Submission:** Please push your homework to the our GitHub repository, and place it in the 'Homework 6' folder."
   ]
  },
  {
   "cell_type": "markdown",
   "metadata": {
    "id": "JsdFDiVvltSA"
   },
   "source": [
    "\n",
    "\n",
    "---\n",
    "\n",
    "\n",
    "\n",
    "---\n",
    "\n"
   ]
  },
  {
   "cell_type": "markdown",
   "metadata": {
    "id": "PKFjn9RQxdKh"
   },
   "source": [
    "## **Question**"
   ]
  },
  {
   "cell_type": "markdown",
   "metadata": {
    "id": "i9czG4jTxdvg"
   },
   "source": [
    "### 1. Design a class hierarchy to represent different types of vehicles in a transportation system. Start with a base class called Vehicle with the following attributes and methods:\n",
    "\n",
    "**Attributes:**\n",
    "\n",
    "- make (string)\n",
    "- model (string)\n",
    "- year (integer)\n",
    "- fuel (float)\n",
    "\n",
    "**Methods:**\n",
    "\n",
    "- __init__(self, make, model, year, fuel): Initialize the attributes.\n",
    "- info(self): Print basic information about the vehicle, including make, model, year, and fuel efficiency.\n",
    "\n",
    "Next, create two subclasses that inherit from Vehicle:\n",
    "\n",
    "### 2. Create a subclass called Car with the following additional attributes and methods:\n",
    "\n",
    "**Attributes:**\n",
    "\n",
    "- num_doors (integer)\n",
    "- is_sedan (boolean)\n",
    "\n",
    "\n",
    "**Methods:**\n",
    "\n",
    "- __init__(self, make, model, year, fuel, num_doors, is_sedan): Initialize the attributes.\n",
    "- display_car_info(self): Print detailed information about the car, including the number of doors and whether it's a sedan.\n",
    "\n",
    "\n",
    "### 3. Create a subclass called Motorcycle with the following additional attributes and methods:\n",
    "\n",
    "**Attributes:**\n",
    "\n",
    "- top_speed (integer)\n",
    "- engine_size (float)\n",
    "\n",
    "\n",
    "**Methods:**\n",
    "\n",
    "- __init__(self, make, model, year, fuel, top_speed, engine_size): Initialize the attributes.\n",
    "- display_motorcycle_info(self): Print detailed information about the motorcycle, including top speed and engine size.\n",
    "\n",
    "\n",
    "Finally, create instances of both Car and Motorcycle classes and demonstrate the use of their methods to display information about each vehicle."
   ]
  },
  {
   "cell_type": "code",
   "execution_count": 8,
   "metadata": {
    "id": "1-VdpWBGylS5"
   },
   "outputs": [],
   "source": [
    "class Vehicle:\n",
    "    def __init__(self, make: str, model: str, year: int, fuel: float):\n",
    "        self.make=make\n",
    "        self.model=model\n",
    "        self.year=year\n",
    "        self.fuel=fuel\n",
    "        \n",
    "    def info(self):\n",
    "        return f\"This vehicle is a {self.year} {self.make} {self.model} and has {self.fuel} mpg.\"\n",
    "    \n",
    "class Car(Vehicle):\n",
    "    def __init__(self, make: str, model: str, year: int, fuel: float, num_doors: int, is_sedan: bool):\n",
    "        super().__init__(make, model, year, fuel) # construct of the parent class\n",
    "        self.num_doors=num_doors\n",
    "        self.is_sedan=is_sedan\n",
    "        \n",
    "    def display_car_info(self):\n",
    "        return f\"This car is a {self.year} {self.make} {self.model} and has {self.fuel} mpg. It is a {self.num_doors} door vehicle and {self.is_sedan}.\"\n",
    "\n",
    "class Motorcycle(Vehicle):\n",
    "    def __init__(self, make: str, model: str, year: int, fuel: float, top_speed: int, engine_size: float):\n",
    "        super().__init__(make, model, year, fuel) # construct of the parent class\n",
    "        self.top_speed=top_speed\n",
    "        self.engine_size=engine_size\n",
    "        \n",
    "    def display_motorcycle_info(self):\n",
    "        return f\"This motorcycle is a {self.year} {self.make} {self.model} and has {self.fuel} mpg. It has a top speed of {self.top_speed} mph and has a {self.engine_size} cu in engine.\""
   ]
  },
  {
   "cell_type": "code",
   "execution_count": 9,
   "metadata": {},
   "outputs": [
    {
     "data": {
      "text/plain": [
       "'This vehicle is a 2024 Ford Shelby Cobra GT500 and has 18 mpg.'"
      ]
     },
     "execution_count": 9,
     "metadata": {},
     "output_type": "execute_result"
    }
   ],
   "source": [
    "mustang = Vehicle(\"Ford\", \"Shelby Cobra GT500\", 2024, 18)\n",
    "mustang.info()"
   ]
  },
  {
   "cell_type": "code",
   "execution_count": 10,
   "metadata": {},
   "outputs": [
    {
     "data": {
      "text/plain": [
       "'This car is a 2024 Ford Shelby Cobra GT500 and has 18 mpg. It is a 2 door vehicle and is not a sedan.'"
      ]
     },
     "execution_count": 10,
     "metadata": {},
     "output_type": "execute_result"
    }
   ],
   "source": [
    "sports_car = Car(\"Ford\", \"Shelby Cobra GT500\", 2024, 18, 2, \"is not a sedan\")\n",
    "sports_car.display_car_info()"
   ]
  },
  {
   "cell_type": "code",
   "execution_count": 11,
   "metadata": {},
   "outputs": [
    {
     "data": {
      "text/plain": [
       "'This car is a 2024 Toyota Camry and has 39 mpg. It is a 4 door vehicle and is a sedan.'"
      ]
     },
     "execution_count": 11,
     "metadata": {},
     "output_type": "execute_result"
    }
   ],
   "source": [
    "sedan = Car(\"Toyota\", \"Camry\", 2024, 39, 4, \"is a sedan\")\n",
    "sedan.display_car_info()"
   ]
  },
  {
   "cell_type": "code",
   "execution_count": 12,
   "metadata": {},
   "outputs": [
    {
     "data": {
      "text/plain": [
       "'This motorcycle is a 2023 Harley Davidson Road Glide Special and has 43 mpg. It has a top speed of 96 mph and has a 114 cu in engine.'"
      ]
     },
     "execution_count": 12,
     "metadata": {},
     "output_type": "execute_result"
    }
   ],
   "source": [
    "harley = Motorcycle(\"Harley Davidson\", \"Road Glide Special\", 2023, 43, 96, 114)\n",
    "harley.display_motorcycle_info()"
   ]
  },
  {
   "cell_type": "code",
   "execution_count": null,
   "metadata": {},
   "outputs": [],
   "source": []
  }
 ],
 "metadata": {
  "colab": {
   "provenance": []
  },
  "kernelspec": {
   "display_name": "Python 3 (ipykernel)",
   "language": "python",
   "name": "python3"
  },
  "language_info": {
   "codemirror_mode": {
    "name": "ipython",
    "version": 3
   },
   "file_extension": ".py",
   "mimetype": "text/x-python",
   "name": "python",
   "nbconvert_exporter": "python",
   "pygments_lexer": "ipython3",
   "version": "3.11.4"
  }
 },
 "nbformat": 4,
 "nbformat_minor": 1
}
