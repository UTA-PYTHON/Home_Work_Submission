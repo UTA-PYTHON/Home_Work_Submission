{
 "cells": [
  {
   "cell_type": "markdown",
   "metadata": {
    "id": "VIqeR4FVugAQ"
   },
   "source": [
    "# **Homework 6: Object-oriented programming (OOP)**"
   ]
  },
  {
   "cell_type": "markdown",
   "metadata": {
    "id": "YBl1Dzbx0tEo"
   },
   "source": [
    "### **Due date:** October 27, at 2:30 PM.\n",
    "\n",
    "### **Submission:** Please push your homework to the our GitHub repository, and place it in the 'Homework 6' folder."
   ]
  },
  {
   "cell_type": "markdown",
   "metadata": {
    "id": "JsdFDiVvltSA"
   },
   "source": [
    "\n",
    "\n",
    "---\n",
    "\n",
    "\n",
    "\n",
    "---\n",
    "\n"
   ]
  },
  {
   "cell_type": "markdown",
   "metadata": {
    "id": "PKFjn9RQxdKh"
   },
   "source": [
    "## **Question**"
   ]
  },
  {
   "cell_type": "markdown",
   "metadata": {
    "id": "i9czG4jTxdvg"
   },
   "source": [
    "### 1. Design a class hierarchy to represent different types of vehicles in a transportation system. Start with a base class called Vehicle with the following attributes and methods:\n",
    "\n",
    "**Attributes:**\n",
    "\n",
    "- make (string)\n",
    "- model (string)\n",
    "- year (integer)\n",
    "- fuel (float)\n",
    "\n",
    "**Methods:**\n",
    "\n",
    "- __init__(self, make, model, year, fuel): Initialize the attributes.\n",
    "- info(self): Print basic information about the vehicle, including make, model, year, and fuel efficiency.\n",
    "\n",
    "Next, create two subclasses that inherit from Vehicle:\n",
    "\n",
    "### 2. Create a subclass called Car with the following additional attributes and methods:\n",
    "\n",
    "**Attributes:**\n",
    "\n",
    "- num_doors (integer)\n",
    "- is_sedan (boolean)\n",
    "\n",
    "\n",
    "**Methods:**\n",
    "\n",
    "- __init__(self, make, model, year, fuel, num_doors, is_sedan): Initialize the attributes.\n",
    "- display_car_info(self): Print detailed information about the car, including the number of doors and whether it's a sedan.\n",
    "\n",
    "\n",
    "### 3. Create a subclass called Motorcycle with the following additional attributes and methods:\n",
    "\n",
    "**Attributes:**\n",
    "\n",
    "- top_speed (integer)\n",
    "- engine_size (float)\n",
    "\n",
    "\n",
    "**Methods:**\n",
    "\n",
    "- __init__(self, make, model, year, fuel, top_speed, engine_size): Initialize the attributes.\n",
    "- display_motorcycle_info(self): Print detailed information about the motorcycle, including top speed and engine size.\n",
    "\n",
    "\n",
    "Finally, create instances of both Car and Motorcycle classes and demonstrate the use of their methods to display information about each vehicle."
   ]
  },
  {
   "cell_type": "code",
   "execution_count": 7,
   "metadata": {
    "id": "1-VdpWBGylS5"
   },
   "outputs": [
    {
     "name": "stdout",
     "output_type": "stream",
     "text": [
      "2019 Altima Nissan sedan with 27 per gallon and 4 doors\n",
      "2015 Maisto Harley-Davidson motorcycle with 14 per gallon, top speed of 200 mph, and engine size Medium\n"
     ]
    }
   ],
   "source": [
    "class Vehicle:\n",
    "    def __init__(self, make, model, year, fuel):\n",
    "        self.make = make\n",
    "        self.model = model\n",
    "        self.year = year\n",
    "        self.fuel = fuel\n",
    "    def info(self):\n",
    "        print(f\"{self.year}{self.make}{self.model} with {self.fuel} per gallon\")\n",
    "        \n",
    "class Car(Vehicle):\n",
    "    def __init__(self, make, model, year, fuel, num_doors, is_sedan):\n",
    "        super().__init__(make, model, year, fuel)\n",
    "        self.num_doors = num_doors\n",
    "        self.is_sedan = is_sedan\n",
    "    def display_car_info(self):\n",
    "        if not self.is_sedan:\n",
    "            print(f\"{self.year} {self.make} {self.model} non-sedan with {self.fuel} per gallon and {self.num_doors} doors\")\n",
    "        else:\n",
    "            print(f\"{self.year} {self.make} {self.model} sedan with {self.fuel} per gallon and {self.num_doors} doors\")\n",
    "\n",
    "class Motorcycle(Vehicle):\n",
    "    def __init__(self, make, model, year, fuel, top_speed, engine_size):\n",
    "        super().__init__(make, model, year, fuel)\n",
    "        self.top_speed = top_speed\n",
    "        self.engine_size = engine_size\n",
    "    def display_motorcycle_info(self):\n",
    "        print(f\"{self.year} {self.make} {self.model} motorcycle with {self.fuel} per gallon, top speed of {self.top_speed} mph, and engine size {self.engine_size}\")\n",
    "        \n",
    "        \n",
    "car = Car(\"Altima\", \"Nissan\", 2019, 27, 4, True)\n",
    "motorcycle = Motorcycle(\"Maisto\", \"Harley-Davidson\", 2015, 14, 200, \"Medium\")      \n",
    "car.display_car_info()\n",
    "motorcycle.display_motorcycle_info()\n",
    "\n",
    "\n",
    "\n",
    "\n",
    "\n",
    "\n",
    "\n",
    "\n",
    "\n",
    "\n",
    "\n",
    "\n",
    "\n",
    "\n",
    "\n",
    "\n",
    "\n",
    "\n",
    "\n",
    "\n",
    "\n",
    "\n"
   ]
  },
  {
   "cell_type": "code",
   "execution_count": null,
   "metadata": {},
   "outputs": [],
   "source": []
  }
 ],
 "metadata": {
  "colab": {
   "provenance": []
  },
  "kernelspec": {
   "display_name": "Python 3 (ipykernel)",
   "language": "python",
   "name": "python3"
  },
  "language_info": {
   "codemirror_mode": {
    "name": "ipython",
    "version": 3
   },
   "file_extension": ".py",
   "mimetype": "text/x-python",
   "name": "python",
   "nbconvert_exporter": "python",
   "pygments_lexer": "ipython3",
   "version": "3.11.4"
  }
 },
 "nbformat": 4,
 "nbformat_minor": 1
}
