{
  "nbformat": 4,
  "nbformat_minor": 0,
  "metadata": {
    "colab": {
      "provenance": []
    },
    "kernelspec": {
      "name": "python3",
      "display_name": "Python 3"
    },
    "language_info": {
      "name": "python"
    }
  },
  "cells": [
    {
      "cell_type": "markdown",
      "source": [
        "# **Homework 6: Object-oriented programming (OOP)**"
      ],
      "metadata": {
        "id": "VIqeR4FVugAQ"
      }
    },
    {
      "cell_type": "markdown",
      "source": [
        "### **Due date:** October 27, at 2:30 PM.\n",
        "\n",
        "### **Submission:** Please push your homework to the our GitHub repository, and place it in the 'Homework 6' folder."
      ],
      "metadata": {
        "id": "YBl1Dzbx0tEo"
      }
    },
    {
      "cell_type": "markdown",
      "source": [
        "\n",
        "\n",
        "---\n",
        "\n",
        "\n",
        "\n",
        "---\n",
        "\n"
      ],
      "metadata": {
        "id": "JsdFDiVvltSA"
      }
    },
    {
      "cell_type": "markdown",
      "source": [
        "# **Question**"
      ],
      "metadata": {
        "id": "PKFjn9RQxdKh"
      }
    },
    {
      "cell_type": "markdown",
      "source": [
        "### 1. Design a class hierarchy to represent different types of vehicles in a transportation system. Start with a base class called Vehicle with the following attributes and methods:\n",
        "\n",
        "**Attributes:**\n",
        "\n",
        "- make (string)\n",
        "- model (string)\n",
        "- year (integer)\n",
        "- fuel (float)\n",
        "\n",
        "**Methods:**\n",
        "\n",
        "- __init__(self, make, model, year, fuel): Initialize the attributes.\n",
        "- info(self): Print basic information about the vehicle, including make, model, year, and fuel efficiency.\n",
        "\n",
        "Next, create two subclasses that inherit from Vehicle:\n",
        "\n",
        "### 2. Create a subclass called Car with the following additional attributes and methods:\n",
        "\n",
        "**Attributes:**\n",
        "\n",
        "- num_doors (integer)\n",
        "- is_sedan (boolean)\n",
        "\n",
        "\n",
        "**Methods:**\n",
        "\n",
        "- __init__(self, make, model, year, fuel, num_doors, is_sedan): Initialize the attributes.\n",
        "- display_car_info(self): Print detailed information about the car, including the number of doors and whether it's a sedan.\n",
        "\n",
        "\n",
        "### 3. Create a subclass called Motorcycle with the following additional attributes and methods:\n",
        "\n",
        "**Attributes:**\n",
        "\n",
        "- top_speed (integer)\n",
        "- engine_size (float)\n",
        "\n",
        "\n",
        "**Methods:**\n",
        "\n",
        "- __init__(self, make, model, year, fuel, top_speed, engine_size): Initialize the attributes.\n",
        "- display_motorcycle_info(self): Print detailed information about the motorcycle, including top speed and engine size.\n",
        "\n",
        "\n",
        "Finally, create instances of both Car and Motorcycle classes and demonstrate the use of their methods to display information about each vehicle."
      ],
      "metadata": {
        "id": "i9czG4jTxdvg"
      }
    },
    {
      "cell_type": "code",
      "source": [
        "class Vehicle:\n",
        "  def __init__(self,make,model,year,fuel):\n",
        "    self.make=make\n",
        "    self.model=model\n",
        "    self.year=year\n",
        "    self.fuel=fuel\n",
        "\n",
        "  def info(self):\n",
        "    return f\"This vehicle is a {self.year} {self.make} {self.model} with {self.fuel} fuel efficiency.\"\n",
        "\n",
        "class Car(Vehicle):\n",
        "  def __init__(self,make,model,year,fuel,num_doors,is_sedan):\n",
        "    super().__init__(make,model,year,fuel)\n",
        "    self.num_doors=num_doors\n",
        "    self.is_sedan=is_sedan\n",
        "\n",
        "  def display_car_info(self):\n",
        "    if self.num_doors==4 and self.is_sedan==True:\n",
        "      return f\"This vehicle is a {self.year} {self.make} {self.model} with {self.fuel} fuel efficiency. This vehicle has {self.num_doors} doors, and is a sedan.\"\n",
        "    elif self.num_doors!=4 and self.is_sedan==False:\n",
        "      return f\"This vehicle is a {self.year} {self.make} {self.model} with {self.fuel} fuel efficiency. This vehicle has {self.num_doors} doors, and is not a sedan.\"\n",
        "    elif self.num_doors!=4 and self.is_sedan==True:\n",
        "      return 'Error.'\n",
        "    elif self.num_doors==4 and self.is_sedan==False:\n",
        "      return 'Error.'\n",
        "\n",
        "class Motorcycle(Vehicle):\n",
        "  def __init__(self,make,model,year,fuel,top_speed,engine_size):\n",
        "    super().__init__(make,model,year,fuel)\n",
        "    self.top_speed=top_speed\n",
        "    self.engine_size=engine_size\n",
        "\n",
        "  def display_motocycle_info(self):\n",
        "    return f\"This vehicle is a {self.year} {self.make} {self.model} motorcycle with {self.fuel} fuel efficiency. This motorcyle has {self.top_speed} speed and {self.engine_size} engine size.\""
      ],
      "metadata": {
        "id": "1-VdpWBGylS5"
      },
      "execution_count": null,
      "outputs": []
    },
    {
      "cell_type": "code",
      "source": [
        "car1=Car('Honda','Civic',2021,300.5,4,True)\n",
        "car1.display_car_info()"
      ],
      "metadata": {
        "colab": {
          "base_uri": "https://localhost:8080/",
          "height": 35
        },
        "id": "hR7qk492B17O",
        "outputId": "02f10a72-054c-4ba5-8c3f-899230cc2877"
      },
      "execution_count": null,
      "outputs": [
        {
          "output_type": "execute_result",
          "data": {
            "text/plain": [
              "'This vehicle is a 2021 Honda Civic with 300.5 fuel efficiency. This vehicle has 4 doors, and is a sedan.'"
            ],
            "application/vnd.google.colaboratory.intrinsic+json": {
              "type": "string"
            }
          },
          "metadata": {},
          "execution_count": 23
        }
      ]
    },
    {
      "cell_type": "code",
      "source": [
        "car2=Car('Honda','Civic SI',2013,300.5,2,False)\n",
        "car2.display_car_info()"
      ],
      "metadata": {
        "colab": {
          "base_uri": "https://localhost:8080/",
          "height": 35
        },
        "id": "9xC6F8lR1J6_",
        "outputId": "eb4fa44d-4cf9-4998-de67-e0f861c84d43"
      },
      "execution_count": null,
      "outputs": [
        {
          "output_type": "execute_result",
          "data": {
            "text/plain": [
              "'This vehicle is a 2013 Honda Civic SI with 300.5 fuel efficiency. This vehicle has 2 doors, and is not a sedan.'"
            ],
            "application/vnd.google.colaboratory.intrinsic+json": {
              "type": "string"
            }
          },
          "metadata": {},
          "execution_count": 24
        }
      ]
    },
    {
      "cell_type": "code",
      "source": [
        "motor1=Motorcycle('Suzuki','Hayabusa',2023,3000.5,170,4)\n",
        "motor1.display_motocycle_info()"
      ],
      "metadata": {
        "id": "d83abQlPCYRH",
        "colab": {
          "base_uri": "https://localhost:8080/",
          "height": 35
        },
        "outputId": "b340dba7-8e56-40fc-ed5d-122e5b570991"
      },
      "execution_count": null,
      "outputs": [
        {
          "output_type": "execute_result",
          "data": {
            "text/plain": [
              "'This vehicle is a 2023 Suzuki Hayabusa motorcycle with 3000.5 fuel efficiency. This motorcyle has 170 speed and 4 engine size.'"
            ],
            "application/vnd.google.colaboratory.intrinsic+json": {
              "type": "string"
            }
          },
          "metadata": {},
          "execution_count": 21
        }
      ]
    },
    {
      "cell_type": "code",
      "source": [],
      "metadata": {
        "id": "zaEC7U-V1yFG"
      },
      "execution_count": null,
      "outputs": []
    }
  ]
}