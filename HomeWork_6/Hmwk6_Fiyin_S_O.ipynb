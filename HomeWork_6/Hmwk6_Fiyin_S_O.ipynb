{
  "nbformat": 4,
  "nbformat_minor": 0,
  "metadata": {
    "colab": {
      "provenance": []
    },
    "kernelspec": {
      "name": "python3",
      "display_name": "Python 3"
    },
    "language_info": {
      "name": "python"
    }
  },
  "cells": [
    {
      "cell_type": "markdown",
      "source": [
        "# **Homework 6: Object-oriented programming (OOP)**"
      ],
      "metadata": {
        "id": "VIqeR4FVugAQ"
      }
    },
    {
      "cell_type": "markdown",
      "source": [
        "### **Due date:** October 27, at 2:30 PM.\n",
        "\n",
        "### **Submission:** Please push your homework to the our GitHub repository, and place it in the 'Homework 6' folder."
      ],
      "metadata": {
        "id": "YBl1Dzbx0tEo"
      }
    },
    {
      "cell_type": "markdown",
      "source": [
        "\n",
        "\n",
        "---\n",
        "\n",
        "\n",
        "\n",
        "---\n",
        "\n"
      ],
      "metadata": {
        "id": "JsdFDiVvltSA"
      }
    },
    {
      "cell_type": "markdown",
      "source": [
        "## **Question**"
      ],
      "metadata": {
        "id": "PKFjn9RQxdKh"
      }
    },
    {
      "cell_type": "markdown",
      "source": [
        "### 1. Design a class hierarchy to represent different types of vehicles in a transportation system. Start with a base class called Vehicle with the following attributes and methods:\n",
        "\n",
        "**Attributes:**\n",
        "\n",
        "- make (string)\n",
        "- model (string)\n",
        "- year (integer)\n",
        "- fuel (float)\n",
        "\n",
        "**Methods:**\n",
        "\n",
        "- __init__(self, make, model, year, fuel): Initialize the attributes.\n",
        "- info(self): Print basic information about the vehicle, including make, model, year, and fuel efficiency.\n",
        "\n",
        "Next, create two subclasses that inherit from Vehicle:\n",
        "\n",
        "### 2. Create a subclass called Car with the following additional attributes and methods:\n",
        "\n",
        "**Attributes:**\n",
        "\n",
        "- num_doors (integer)\n",
        "- is_sedan (boolean)\n",
        "\n",
        "\n",
        "**Methods:**\n",
        "\n",
        "- __init__(self, make, model, year, fuel, num_doors, is_sedan): Initialize the attributes.\n",
        "- display_car_info(self): Print detailed information about the car, including the number of doors and whether it's a sedan.\n",
        "\n",
        "\n",
        "### 3. Create a subclass called Motorcycle with the following additional attributes and methods:\n",
        "\n",
        "**Attributes:**\n",
        "\n",
        "- top_speed (integer)\n",
        "- engine_size (float)\n",
        "\n",
        "\n",
        "**Methods:**\n",
        "\n",
        "- __init__(self, make, model, year, fuel, top_speed, engine_size): Initialize the attributes.\n",
        "- display_motorcycle_info(self): Print detailed information about the motorcycle, including top speed and engine size.\n",
        "\n",
        "\n",
        "Finally, create instances of both Car and Motorcycle classes and demonstrate the use of their methods to display information about each vehicle."
      ],
      "metadata": {
        "id": "i9czG4jTxdvg"
      }
    },
    {
      "cell_type": "code",
      "source": [
        "class Vehicle:\n",
        "  def _init_(self, make, model, year, fuel):\n",
        "    self.make = make\n",
        "    self.model= model\n",
        "    self.year = year\n",
        "    self.fuel = fuel\n",
        "\n",
        "  def info(self):\n",
        "    return f\"The car is a {self.make} {self.model} {self.year} that uses {self.fuel} miles per gallon\"\n",
        "\n",
        "class Car(Vehicle):\n",
        "  def _init_(self, make, model, year, fuel, num_doors, is_sedan):\n",
        "    super()._init_(make, model, year, fuel)\n",
        "    self.num_doors= num_doors\n",
        "    self.is_sedan= is_sedan\n",
        "\n",
        "  def display_car_info(self):\n",
        "    if(self.is_sedan):\n",
        "      return super().info() + f'\\nThe Sedan has a total of {self.num_doors} doors.'\n",
        "    return super().info() + f'\\nThe car has a total of {self.num_doors} doors and is not a sedan.'\n",
        "\n",
        "class Motorcycle(Vehicle):\n",
        "  def _init_(self, make, model, year, fuel, top_speed, engine_size):\n",
        "    super()._init_(self, make, model, year, fuel)\n",
        "    self.top_speed = top_speed\n",
        "    self.engine_size = engine_size\n",
        "\n",
        "  def diplay_motorcyle_info(self):\n",
        "    return super().info() + f'\\nThe motorcycle can attain a top speed of {self.top_speed} miles per hour and has {self.engine_size} engine size.'\n",
        "\n",
        "\n",
        "\n",
        "\n",
        "\n",
        "\n",
        "\n",
        "\n",
        "\n",
        "\n",
        "\n",
        "\n",
        "\n",
        "\n",
        "\n",
        "\n",
        "\n",
        "\n",
        "\n",
        "\n",
        "\n",
        "\n"
      ],
      "metadata": {
        "id": "1-VdpWBGylS5"
      },
      "execution_count": 43,
      "outputs": []
    },
    {
      "cell_type": "code",
      "source": [
        "my_car = Car('Honda', 'CRV', 2010, 45.0, 4, True )\n",
        "my_motorcycle = Motorcycle('Suzuki','Burgman', 2024, 67.0, 120, 638)           #my computer is refusing to run\n",
        "\n",
        "print(my_car.display_car_info())\n",
        "print(my_motorcycle.display_motorcycle_info())"
      ],
      "metadata": {
        "colab": {
          "base_uri": "https://localhost:8080/",
          "height": 252
        },
        "id": "q6wFLbQkXThi",
        "outputId": "ecd904c8-e0f3-486e-9a9f-93ca90d1bb61"
      },
      "execution_count": 46,
      "outputs": [
        {
          "output_type": "error",
          "ename": "TypeError",
          "evalue": "ignored",
          "traceback": [
            "\u001b[0;31m---------------------------------------------------------------------------\u001b[0m",
            "\u001b[0;31mTypeError\u001b[0m                                 Traceback (most recent call last)",
            "\u001b[0;32m<ipython-input-46-adefa0ec34e2>\u001b[0m in \u001b[0;36m<cell line: 1>\u001b[0;34m()\u001b[0m\n\u001b[0;32m----> 1\u001b[0;31m \u001b[0mmy_car\u001b[0m \u001b[0;34m=\u001b[0m \u001b[0mCar\u001b[0m\u001b[0;34m(\u001b[0m\u001b[0;34m'Honda'\u001b[0m\u001b[0;34m,\u001b[0m \u001b[0;34m'CRV'\u001b[0m\u001b[0;34m,\u001b[0m \u001b[0;36m2010\u001b[0m\u001b[0;34m,\u001b[0m \u001b[0;36m45.0\u001b[0m\u001b[0;34m,\u001b[0m \u001b[0;36m4\u001b[0m\u001b[0;34m,\u001b[0m \u001b[0;32mTrue\u001b[0m \u001b[0;34m)\u001b[0m\u001b[0;34m\u001b[0m\u001b[0;34m\u001b[0m\u001b[0m\n\u001b[0m\u001b[1;32m      2\u001b[0m \u001b[0mmy_motorcycle\u001b[0m \u001b[0;34m=\u001b[0m \u001b[0mMotorcycle\u001b[0m\u001b[0;34m(\u001b[0m\u001b[0;34m'Suzuki'\u001b[0m\u001b[0;34m,\u001b[0m\u001b[0;34m'Burgman'\u001b[0m\u001b[0;34m,\u001b[0m \u001b[0;36m2024\u001b[0m\u001b[0;34m,\u001b[0m \u001b[0;36m67.0\u001b[0m\u001b[0;34m,\u001b[0m \u001b[0;36m120\u001b[0m\u001b[0;34m,\u001b[0m \u001b[0;36m638\u001b[0m\u001b[0;34m)\u001b[0m           \u001b[0;31m#my computer is refusing to run\u001b[0m\u001b[0;34m\u001b[0m\u001b[0;34m\u001b[0m\u001b[0m\n\u001b[1;32m      3\u001b[0m \u001b[0;34m\u001b[0m\u001b[0m\n\u001b[1;32m      4\u001b[0m \u001b[0mprint\u001b[0m\u001b[0;34m(\u001b[0m\u001b[0mmy_car\u001b[0m\u001b[0;34m.\u001b[0m\u001b[0mdisplay_car_info\u001b[0m\u001b[0;34m(\u001b[0m\u001b[0;34m)\u001b[0m\u001b[0;34m)\u001b[0m\u001b[0;34m\u001b[0m\u001b[0;34m\u001b[0m\u001b[0m\n\u001b[1;32m      5\u001b[0m \u001b[0mprint\u001b[0m\u001b[0;34m(\u001b[0m\u001b[0mmy_motorcycle\u001b[0m\u001b[0;34m.\u001b[0m\u001b[0mdisplay_motorcycle_info\u001b[0m\u001b[0;34m(\u001b[0m\u001b[0;34m)\u001b[0m\u001b[0;34m)\u001b[0m\u001b[0;34m\u001b[0m\u001b[0;34m\u001b[0m\u001b[0m\n",
            "\u001b[0;31mTypeError\u001b[0m: Car() takes no arguments"
          ]
        }
      ]
    },
    {
      "cell_type": "code",
      "source": [],
      "metadata": {
        "id": "QlyP9BhmbJdW"
      },
      "execution_count": 20,
      "outputs": []
    }
  ]
}