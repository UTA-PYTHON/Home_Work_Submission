{
 "cells": [
  {
   "cell_type": "markdown",
   "id": "0d4dbe67",
   "metadata": {},
   "source": [
    "# Week 5 - Homework 4: Data Structures, Conditional Statements, Loops "
   ]
  },
  {
   "cell_type": "markdown",
   "id": "4411997e",
   "metadata": {},
   "source": [
    "Fawaz Asif  \n",
    "1001875463  \n",
    "DATA-3401-001"
   ]
  },
  {
   "cell_type": "markdown",
   "id": "cc9d3034",
   "metadata": {},
   "source": [
    "## Data Structures:  \n",
    "1. List and Tuple:  \n",
    "○ Create a list named fruits containing the following: \"apple\", \"banana\", \"cherry\".  \n",
    "○ Convert this list into a tuple.  \n",
    "○ Add \"orange\" to the list of fruits.  \n",
    "○ Show the difference in the content of the list and tuple after the addition."
   ]
  },
  {
   "cell_type": "code",
   "execution_count": 1,
   "id": "4240dd39",
   "metadata": {},
   "outputs": [
    {
     "name": "stdout",
     "output_type": "stream",
     "text": [
      "['apple', 'banana', 'cherry', 'orange']\n",
      "('apple', 'banana', 'cherry')\n"
     ]
    }
   ],
   "source": [
    "fruits = [\"apple\", \"banana\", \"cherry\"]\n",
    "fruituple = tuple(fruits)\n",
    "fruits.append(\"orange\")\n",
    "print(fruits)\n",
    "print(fruituple)"
   ]
  },
  {
   "cell_type": "markdown",
   "id": "cbe1b595",
   "metadata": {},
   "source": [
    "2. Dictionary:  \n",
    "○ Create a dictionary named person with keys \"first_name\", \"last_name\", and \"age\".  \n",
    "Populate it with values of your choice.  \n",
    "○ Add a new key-value pair, \"city\" with a value of your choice.  \n",
    "○ Display the keys in the dictionary using a Python command"
   ]
  },
  {
   "cell_type": "code",
   "execution_count": 10,
   "id": "7280e39d",
   "metadata": {},
   "outputs": [
    {
     "name": "stdout",
     "output_type": "stream",
     "text": [
      "Keys in dictionary: dict_keys(['first_name', 'last_name', 'age', 'city'])\n"
     ]
    }
   ],
   "source": [
    "person = {\n",
    "    \"first_name\": \"Aaron\", \"last_name\": \"Rodgers\", \"age\": 39\n",
    "}\n",
    "person[\"city\"] = \"green bay\"\n",
    "print(\"Keys in dictionary:\", person.keys())"
   ]
  },
  {
   "cell_type": "markdown",
   "id": "59016e9e",
   "metadata": {},
   "source": [
    "3. Set:  \n",
    "○ Create a set named colors with the values \"red\", \"blue\", \"green\".  \n",
    "○ Add \"yellow\" to the set and remove \"blue\".  \n",
    "○ Check if \"pink\" is in the set and display the result."
   ]
  },
  {
   "cell_type": "code",
   "execution_count": 18,
   "id": "eefe756a",
   "metadata": {},
   "outputs": [
    {
     "name": "stdout",
     "output_type": "stream",
     "text": [
      "{'yellow', 'green', 'red'}\n",
      "False\n"
     ]
    }
   ],
   "source": [
    "colors = {\"red\", \"blue\", \"green\"}\n",
    "colors.add(\"yellow\")\n",
    "colors.remove(\"blue\")\n",
    "checkPink = \"pink\" in colors\n",
    "print(colors)\n",
    "print(checkPink)"
   ]
  },
  {
   "cell_type": "markdown",
   "id": "ebfc7e62",
   "metadata": {},
   "source": [
    "## Conditional Statements:  \n",
    "4. Write a Python program that takes an input from the user and checks if the number is positive, negative, or zero."
   ]
  },
  {
   "cell_type": "code",
   "execution_count": 23,
   "id": "b9453a6b",
   "metadata": {},
   "outputs": [
    {
     "name": "stdout",
     "output_type": "stream",
     "text": [
      "Enter a number: -12222\n",
      "negative\n"
     ]
    }
   ],
   "source": [
    "num = int(input(\"Enter a number: \"))\n",
    "if num > 0:\n",
    "    print(\"positive\")\n",
    "elif num < 0:\n",
    "    print(\"negative\")\n",
    "else:\n",
    "    print(\"zero\")\n"
   ]
  },
  {
   "cell_type": "markdown",
   "id": "e22b133b",
   "metadata": {},
   "source": [
    "5. Given a list of numbers: [23, 45, 8, 12, 78, 56, 89], write a Python program that prints out all even \n",
    "numbers from the list using a conditional statement"
   ]
  },
  {
   "cell_type": "code",
   "execution_count": 25,
   "id": "f335ead8",
   "metadata": {},
   "outputs": [
    {
     "name": "stdout",
     "output_type": "stream",
     "text": [
      "8\n",
      "12\n",
      "78\n",
      "56\n"
     ]
    }
   ],
   "source": [
    "nums = [23, 45, 8, 12, 78, 56, 89]\n",
    "for num in nums:\n",
    "    if(num %2 == 0):\n",
    "        print(num)"
   ]
  },
  {
   "cell_type": "markdown",
   "id": "9cb05d4e",
   "metadata": {},
   "source": [
    "6. Write a program that asks the user to enter their age. Based on the user's input, determine if they are eligible to vote (consider the voting age as 18)"
   ]
  },
  {
   "cell_type": "code",
   "execution_count": null,
   "id": "91cdd33e",
   "metadata": {},
   "outputs": [],
   "source": [
    "age = int(input(\"What is your age?: \"))\n",
    "if age > 18:\n",
    "    print(\"You can vote!\")\n",
    "else:\n",
    "    print(\"Sorry! Wait a couple of years\")"
   ]
  },
  {
   "cell_type": "markdown",
   "id": "72bc8dc0",
   "metadata": {},
   "source": [
    "## While Loops:  \n",
    "7. Write a program that prompts the user to enter numbers continuously (using a while loop) and stops taking inputs when the user enters 'q'. After that, display the sum of all the numbers entered."
   ]
  },
  {
   "cell_type": "code",
   "execution_count": null,
   "id": "01273e12",
   "metadata": {},
   "outputs": [],
   "source": [
    "sum = 0\n",
    "while True:\n",
    "    number = (input(\"Enter a number (or q to quit): \"))\n",
    "    isNum = number.isnumeric()\n",
    "    if isNum == True:\n",
    "        sum += int(number)\n",
    "    elif number == \"q\":\n",
    "        print(sum)\n",
    "        break"
   ]
  },
  {
   "cell_type": "markdown",
   "id": "ebe38e31",
   "metadata": {},
   "source": [
    "8. Create a Python program using a while loop that prints numbers from 10 down to 1 and then prints \"Liftoff!\""
   ]
  },
  {
   "cell_type": "code",
   "execution_count": 6,
   "id": "8d6a823f",
   "metadata": {},
   "outputs": [
    {
     "name": "stdout",
     "output_type": "stream",
     "text": [
      "10\n",
      "9\n",
      "8\n",
      "7\n",
      "6\n",
      "5\n",
      "4\n",
      "3\n",
      "2\n",
      "1\n",
      "Liftoff!\n"
     ]
    }
   ],
   "source": [
    "count = 10\n",
    "while count >= 1:\n",
    "    print(count)\n",
    "    count -= 1\n",
    "print(\"Liftoff!\")"
   ]
  },
  {
   "cell_type": "markdown",
   "id": "95ee86c1",
   "metadata": {},
   "source": [
    "9. Create a program that asks the user for a number and then prints out the multiplication table for that number using a while loop"
   ]
  },
  {
   "cell_type": "code",
   "execution_count": 9,
   "id": "bed2ba83",
   "metadata": {},
   "outputs": [
    {
     "name": "stdout",
     "output_type": "stream",
     "text": [
      "\n",
      "Enter a number: 222\n",
      "222 x 1 = 222\n",
      "222 x 2 = 444\n",
      "222 x 3 = 666\n",
      "222 x 4 = 888\n",
      "222 x 5 = 1110\n",
      "222 x 6 = 1332\n",
      "222 x 7 = 1554\n",
      "222 x 8 = 1776\n",
      "222 x 9 = 1998\n",
      "222 x 10 = 2220\n",
      "\n",
      "Enter a number: wwee\n",
      "exited\n"
     ]
    }
   ],
   "source": [
    "rangenum = 1\n",
    "while True:\n",
    "    number = ((input(\"\\nEnter a number: \")))\n",
    "    isNum = number.isnumeric()\n",
    "    if isNum == True:\n",
    "        rangenum = 1\n",
    "        while rangenum <= 10:\n",
    "            result = int(number) * rangenum\n",
    "            print(f\"{int(number)} x {rangenum} = {result}\")\n",
    "            rangenum += 1\n",
    "    else:\n",
    "        print(\"exited\")\n",
    "        break"
   ]
  },
  {
   "cell_type": "markdown",
   "id": "c520a11b",
   "metadata": {},
   "source": [
    "## For Loops:  \n",
    "10. Given a list: [\"apple\", \"banana\", \"cherry\", \"date\"], use a for loop to print each fruit in the list."
   ]
  },
  {
   "cell_type": "code",
   "execution_count": 11,
   "id": "81022b83",
   "metadata": {},
   "outputs": [
    {
     "name": "stdout",
     "output_type": "stream",
     "text": [
      "apple\n",
      "banana\n",
      "cherry\n",
      "date\n"
     ]
    }
   ],
   "source": [
    "list = [\"apple\", \"banana\", \"cherry\", \"date\"]\n",
    "for thefruits in list:\n",
    "    print(thefruits)"
   ]
  },
  {
   "cell_type": "markdown",
   "id": "a750dd08",
   "metadata": {},
   "source": [
    "11. Using a for loop, calculate the factorial of a given number (n!). For example, if the given number is 5, the output should be 5 x 4 x 3 x 2 x 1 = 120"
   ]
  },
  {
   "cell_type": "code",
   "execution_count": 19,
   "id": "92099bae",
   "metadata": {},
   "outputs": [
    {
     "name": "stdout",
     "output_type": "stream",
     "text": [
      "Enter a number: 12\n",
      "12! = 1 x 2 x 3 x 4 x 5 x 6 x 7 x 8 x 9 x 10 x 11 x 12 = 479001600\n"
     ]
    }
   ],
   "source": [
    "n = int(input(\"Enter a number: \"))\n",
    "facto = 1\n",
    "print(f\"{n}! =\", end=\" \")\n",
    "for i in range(1, n+1):\n",
    "    facto *= i\n",
    "    if i < n:\n",
    "        print(f\"{i} x\", end=\" \")\n",
    "    else:\n",
    "        print(i, \"=\", facto)"
   ]
  },
  {
   "cell_type": "markdown",
   "id": "4d007cc6",
   "metadata": {},
   "source": [
    "12. Create a program using a for loop that prompts the user to enter five numbers. After all numbers are entered, the program should display the average of the numbers"
   ]
  },
  {
   "cell_type": "code",
   "execution_count": 20,
   "id": "306a70f0",
   "metadata": {},
   "outputs": [
    {
     "name": "stdout",
     "output_type": "stream",
     "text": [
      "Enter five numbers: 12\n",
      "Enter five numbers: 2\n",
      "Enter five numbers: 3\n",
      "Enter five numbers: 1\n",
      "Enter five numbers: 3\n",
      "21\n"
     ]
    }
   ],
   "source": [
    "numsum = 0\n",
    "for i in range(0,5):\n",
    "    fivenums = (input(\"Enter five numbers: \"))\n",
    "    numsum += int(fivenums)\n",
    "    if fivenums.count(fivenums) > 5:\n",
    "        break\n",
    "print(numsum)"
   ]
  }
 ],
 "metadata": {
  "kernelspec": {
   "display_name": "Python 3 (ipykernel)",
   "language": "python",
   "name": "python3"
  },
  "language_info": {
   "codemirror_mode": {
    "name": "ipython",
    "version": 3
   },
   "file_extension": ".py",
   "mimetype": "text/x-python",
   "name": "python",
   "nbconvert_exporter": "python",
   "pygments_lexer": "ipython3",
   "version": "3.11.4"
  }
 },
 "nbformat": 4,
 "nbformat_minor": 5
}
