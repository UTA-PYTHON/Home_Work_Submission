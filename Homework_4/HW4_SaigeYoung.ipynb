{
 "cells": [
  {
   "cell_type": "markdown",
   "id": "830ccc73",
   "metadata": {},
   "source": [
    "# 1. List and Tuple"
   ]
  },
  {
   "cell_type": "code",
   "execution_count": 6,
   "id": "6c9a770a",
   "metadata": {},
   "outputs": [
    {
     "data": {
      "text/plain": [
       "['apples', 'banana', 'cherry']"
      ]
     },
     "execution_count": 6,
     "metadata": {},
     "output_type": "execute_result"
    }
   ],
   "source": [
    "fruits=['apples','banana','cherry']\n",
    "fruits"
   ]
  },
  {
   "cell_type": "code",
   "execution_count": 7,
   "id": "20f7a0ad",
   "metadata": {},
   "outputs": [
    {
     "data": {
      "text/plain": [
       "('apples', 'banana', 'cherry')"
      ]
     },
     "execution_count": 7,
     "metadata": {},
     "output_type": "execute_result"
    }
   ],
   "source": [
    "tuple(fruits)"
   ]
  },
  {
   "cell_type": "code",
   "execution_count": 8,
   "id": "d35c7cf3",
   "metadata": {},
   "outputs": [],
   "source": [
    "fruits.append('orange')"
   ]
  },
  {
   "cell_type": "code",
   "execution_count": 11,
   "id": "9b0f0a51",
   "metadata": {},
   "outputs": [
    {
     "data": {
      "text/plain": [
       "['apples', 'banana', 'cherry', 'orange']"
      ]
     },
     "execution_count": 11,
     "metadata": {},
     "output_type": "execute_result"
    }
   ],
   "source": [
    "list(fruits)"
   ]
  },
  {
   "cell_type": "code",
   "execution_count": 12,
   "id": "1d84882b",
   "metadata": {},
   "outputs": [
    {
     "data": {
      "text/plain": [
       "('apples', 'banana', 'cherry', 'orange')"
      ]
     },
     "execution_count": 12,
     "metadata": {},
     "output_type": "execute_result"
    }
   ],
   "source": [
    "tuple(fruits)"
   ]
  },
  {
   "cell_type": "markdown",
   "id": "4635b699",
   "metadata": {},
   "source": [
    "# 2. Dictionary"
   ]
  },
  {
   "cell_type": "code",
   "execution_count": 17,
   "id": "320b7ec0",
   "metadata": {},
   "outputs": [],
   "source": [
    "person={'first_name':'Rey','last_name': 'Popo', 'age':21}"
   ]
  },
  {
   "cell_type": "code",
   "execution_count": 19,
   "id": "f9326547",
   "metadata": {},
   "outputs": [],
   "source": [
    "person['city']='hell'"
   ]
  },
  {
   "cell_type": "code",
   "execution_count": 21,
   "id": "7a3dd7e3",
   "metadata": {},
   "outputs": [
    {
     "data": {
      "text/plain": [
       "dict_keys(['first_name', 'last_name', 'age', 'city'])"
      ]
     },
     "execution_count": 21,
     "metadata": {},
     "output_type": "execute_result"
    }
   ],
   "source": [
    "person.keys()"
   ]
  },
  {
   "cell_type": "markdown",
   "id": "7d08c6dd",
   "metadata": {},
   "source": [
    "# 3. Set"
   ]
  },
  {
   "cell_type": "code",
   "execution_count": 22,
   "id": "77658843",
   "metadata": {},
   "outputs": [],
   "source": [
    "colors={'red','blue','green'}"
   ]
  },
  {
   "cell_type": "code",
   "execution_count": 23,
   "id": "5ebd5f12",
   "metadata": {},
   "outputs": [],
   "source": [
    "colors.add('yellow')"
   ]
  },
  {
   "cell_type": "code",
   "execution_count": 24,
   "id": "7df7ff49",
   "metadata": {},
   "outputs": [],
   "source": [
    "colors.remove('blue')"
   ]
  },
  {
   "cell_type": "code",
   "execution_count": 25,
   "id": "6db9600f",
   "metadata": {},
   "outputs": [
    {
     "name": "stdout",
     "output_type": "stream",
     "text": [
      "{'green', 'yellow', 'red'}\n"
     ]
    }
   ],
   "source": [
    "print(colors)"
   ]
  },
  {
   "cell_type": "code",
   "execution_count": 29,
   "id": "45ba7d93",
   "metadata": {},
   "outputs": [
    {
     "name": "stdout",
     "output_type": "stream",
     "text": [
      "false\n",
      "{'green', 'yellow', 'red'}\n"
     ]
    }
   ],
   "source": [
    "if 'pink' in colors:\n",
    "    print('true')\n",
    "else:\n",
    "    print('false')\n",
    "\n",
    "print(colors)"
   ]
  },
  {
   "cell_type": "markdown",
   "id": "f85934cb",
   "metadata": {},
   "source": [
    "# 4."
   ]
  },
  {
   "cell_type": "code",
   "execution_count": 4,
   "id": "54185b53",
   "metadata": {},
   "outputs": [
    {
     "name": "stdout",
     "output_type": "stream",
     "text": [
      "Enter in a number of your choice:-23\n",
      "This is negative.\n"
     ]
    }
   ],
   "source": [
    "numb=int(input(\"Enter in a number of your choice:\"))\n",
    "\n",
    "if numb>0:\n",
    "    print(\"This is positive.\")\n",
    "elif numb<0:\n",
    "    print('This is negative.')\n",
    "elif numb==0:\n",
    "    print('This is equal to zero.')"
   ]
  },
  {
   "cell_type": "markdown",
   "id": "06fe2616",
   "metadata": {},
   "source": [
    "# 5."
   ]
  },
  {
   "cell_type": "code",
   "execution_count": 5,
   "id": "9b14dc21",
   "metadata": {},
   "outputs": [],
   "source": [
    "numbs=[23,45,8,12,78,56,89]"
   ]
  },
  {
   "cell_type": "code",
   "execution_count": 7,
   "id": "26f39304",
   "metadata": {},
   "outputs": [
    {
     "name": "stdout",
     "output_type": "stream",
     "text": [
      "This is even. 8\n",
      "This is even. 12\n",
      "This is even. 78\n",
      "This is even. 56\n"
     ]
    }
   ],
   "source": [
    "for n in numbs:\n",
    "    if n%2==0:\n",
    "        print('This is even.', n)"
   ]
  },
  {
   "cell_type": "markdown",
   "id": "b6781f3e",
   "metadata": {},
   "source": [
    "# 6."
   ]
  },
  {
   "cell_type": "code",
   "execution_count": 13,
   "id": "99883a1f",
   "metadata": {},
   "outputs": [
    {
     "name": "stdout",
     "output_type": "stream",
     "text": [
      "What is your age?18\n",
      "You are eligible to vote.\n"
     ]
    }
   ],
   "source": [
    "age=int(input(\"What is your age?\"))\n",
    "\n",
    "if age>=18:\n",
    "    print('You are eligible to vote.')\n",
    "else:\n",
    "    print('You cant vote.')"
   ]
  },
  {
   "cell_type": "markdown",
   "id": "e4090b32",
   "metadata": {},
   "source": [
    "# 7."
   ]
  },
  {
   "cell_type": "code",
   "execution_count": 19,
   "id": "fa7572f1",
   "metadata": {},
   "outputs": [
    {
     "name": "stdout",
     "output_type": "stream",
     "text": [
      "Enter an number and type q when you are done.69\n",
      "Enter an number and type q when you are done.2\n",
      "Enter an number and type q when you are done.3\n",
      "Enter an number and type q when you are done.5\n",
      "Enter an number and type q when you are done.69\n",
      "Enter an number and type q when you are done.27\n",
      "Enter an number and type q when you are done.q\n",
      "Sum of all numbers entered is: 398\n"
     ]
    }
   ],
   "source": [
    "numb=0\n",
    "total=0\n",
    "\n",
    "while numb !='q':\n",
    "    numb=input('Enter an number and type q when you are done.')\n",
    "    if numb !='q':\n",
    "        sum=int(numb)\n",
    "\n",
    "print('Sum of all numbers entered is:', sum_total)"
   ]
  },
  {
   "cell_type": "markdown",
   "id": "3a88bd6a",
   "metadata": {},
   "source": [
    "# 8."
   ]
  },
  {
   "cell_type": "code",
   "execution_count": 21,
   "id": "058f8980",
   "metadata": {},
   "outputs": [
    {
     "name": "stdout",
     "output_type": "stream",
     "text": [
      "10\n",
      "9\n",
      "8\n",
      "7\n",
      "6\n",
      "5\n",
      "4\n",
      "3\n",
      "2\n",
      "1\n",
      "LIFTOFF!!!\n"
     ]
    }
   ],
   "source": [
    "x=10\n",
    "\n",
    "while x>0:\n",
    "    print(x)\n",
    "    x=x-1\n",
    "print('LIFTOFF!!!')"
   ]
  },
  {
   "cell_type": "markdown",
   "id": "c87f6924",
   "metadata": {},
   "source": [
    "# 9."
   ]
  },
  {
   "cell_type": "code",
   "execution_count": 23,
   "id": "17049e7e",
   "metadata": {},
   "outputs": [
    {
     "name": "stdout",
     "output_type": "stream",
     "text": [
      "Enter a number:9\n",
      "\n",
      "\n",
      "9 times 0 equals 0\n",
      "9 times 1 equals 9\n",
      "9 times 2 equals 18\n",
      "9 times 3 equals 27\n",
      "9 times 4 equals 36\n",
      "9 times 5 equals 45\n",
      "9 times 6 equals 54\n",
      "9 times 7 equals 63\n",
      "9 times 8 equals 72\n",
      "9 times 9 equals 81\n",
      "9 times 10 equals 90\n",
      "9 times 11 equals 99\n",
      "9 times 12 equals 108\n"
     ]
    }
   ],
   "source": [
    "numb=int(input('Enter a number:'))\n",
    "print('\\n')\n",
    "x=0\n",
    "while x in range(0,13):\n",
    "    total=numb*x\n",
    "    print(numb,'times',x,'equals',total)\n",
    "    x+=1"
   ]
  },
  {
   "cell_type": "markdown",
   "id": "72cd1967",
   "metadata": {},
   "source": [
    "# 10."
   ]
  },
  {
   "cell_type": "code",
   "execution_count": 24,
   "id": "77e343ac",
   "metadata": {},
   "outputs": [
    {
     "name": "stdout",
     "output_type": "stream",
     "text": [
      "apple\n",
      "banana\n",
      "cherry\n",
      "date\n"
     ]
    }
   ],
   "source": [
    "fruits=['apple','banana','cherry','date']\n",
    "for fru in fruits:\n",
    "    print(fru)"
   ]
  },
  {
   "cell_type": "markdown",
   "id": "3a04b8f2",
   "metadata": {},
   "source": [
    "# 11."
   ]
  },
  {
   "cell_type": "code",
   "execution_count": 30,
   "id": "06cc91e8",
   "metadata": {},
   "outputs": [
    {
     "name": "stdout",
     "output_type": "stream",
     "text": [
      "Enter a number in:8\n",
      "The factorial of: 40320\n"
     ]
    }
   ],
   "source": [
    "numb=int(input('Enter a number in:'))\n",
    "fact=numb\n",
    "\n",
    "for i in range(1,numb):\n",
    "    fact=fact*i\n",
    "print('The factorial of:',fact)"
   ]
  },
  {
   "cell_type": "markdown",
   "id": "b33efd29",
   "metadata": {},
   "source": [
    "# 12."
   ]
  },
  {
   "cell_type": "code",
   "execution_count": 31,
   "id": "22b528c7",
   "metadata": {},
   "outputs": [
    {
     "name": "stdout",
     "output_type": "stream",
     "text": [
      "Enter five numbers:\n",
      "Number entered:6\n",
      "Number entered:2\n",
      "Number entered:4\n",
      "Number entered:8\n",
      "Number entered:1\n",
      "Average: 4.2\n"
     ]
    }
   ],
   "source": [
    "total=0\n",
    "print('Enter five numbers:')\n",
    "for x in range(0,5):\n",
    "    numb=int(input('Number entered:'))\n",
    "    total+=numb\n",
    "    \n",
    "avge=total/5\n",
    "print('Average:',avge)"
   ]
  },
  {
   "cell_type": "code",
   "execution_count": null,
   "id": "f7419532",
   "metadata": {},
   "outputs": [],
   "source": []
  }
 ],
 "metadata": {
  "kernelspec": {
   "display_name": "Python 3 (ipykernel)",
   "language": "python",
   "name": "python3"
  },
  "language_info": {
   "codemirror_mode": {
    "name": "ipython",
    "version": 3
   },
   "file_extension": ".py",
   "mimetype": "text/x-python",
   "name": "python",
   "nbconvert_exporter": "python",
   "pygments_lexer": "ipython3",
   "version": "3.11.4"
  }
 },
 "nbformat": 4,
 "nbformat_minor": 5
}
