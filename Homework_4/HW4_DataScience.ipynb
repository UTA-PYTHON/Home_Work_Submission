{
  "nbformat": 4,
  "nbformat_minor": 0,
  "metadata": {
    "colab": {
      "provenance": []
    },
    "kernelspec": {
      "name": "python3",
      "display_name": "Python 3"
    },
    "language_info": {
      "name": "python"
    }
  },
  "cells": [
    {
      "cell_type": "markdown",
      "source": [
        "### Zamzam Omulo"
      ],
      "metadata": {
        "id": "8KHa0PpP4QBP"
      }
    },
    {
      "cell_type": "markdown",
      "source": [
        "##1. List and Tuple:\n",
        "*○ Create a list named fruits containing the following: \"apple\", \"banana\", \"cherry\".*\n",
        "*○ Convert this list into a tuple.*\n",
        "*○ Add \"orange\" to the list of fruits.*\n",
        "*○ Show the difference in the content of the list and tuple after the addition.*\n"
      ],
      "metadata": {
        "id": "Zz7ON52C4VvQ"
      }
    },
    {
      "cell_type": "code",
      "source": [
        "fruits=[\"apple\",\"banana\",\"cherry\"]\n",
        "tuple(fruits)\n",
        "fruits.append(\"orange\")"
      ],
      "metadata": {
        "id": "dA8MrF5n4UY6"
      },
      "execution_count": 2,
      "outputs": []
    },
    {
      "cell_type": "code",
      "source": [
        "fruits"
      ],
      "metadata": {
        "colab": {
          "base_uri": "https://localhost:8080/"
        },
        "id": "64FViOIE9aPJ",
        "outputId": "0bcee3ae-72a0-4ca0-82c7-e6ed4bfe23f7"
      },
      "execution_count": 3,
      "outputs": [
        {
          "output_type": "execute_result",
          "data": {
            "text/plain": [
              "['apple', 'banana', 'cherry', 'orange']"
            ]
          },
          "metadata": {},
          "execution_count": 3
        }
      ]
    },
    {
      "cell_type": "markdown",
      "source": [
        "#. Dictionary:#\n",
        "###○ Create a dictionary named person with keys \"first_name\", \"last_name\", and \"age\".\n",
        "##Populate it with values of your choice.\n",
        "###○ Add a new key-value pair, \"city\" with a value of your choice.\n",
        "###○ Display the keys in the dictionary using a Python command."
      ],
      "metadata": {
        "id": "Kx0KBmEo9prz"
      }
    },
    {
      "cell_type": "code",
      "source": [
        "person={\"first_name\": \"last_name\"\"age\"}"
      ],
      "metadata": {
        "id": "uhZ5bzfv9kjM"
      },
      "execution_count": 36,
      "outputs": []
    },
    {
      "cell_type": "code",
      "source": [
        "person.keys()"
      ],
      "metadata": {
        "colab": {
          "base_uri": "https://localhost:8080/"
        },
        "id": "A8EvaJzP-gNW",
        "outputId": "95e905ca-b870-4f33-dc56-fd040142df85"
      },
      "execution_count": 37,
      "outputs": [
        {
          "output_type": "execute_result",
          "data": {
            "text/plain": [
              "dict_keys(['first_name'])"
            ]
          },
          "metadata": {},
          "execution_count": 37
        }
      ]
    },
    {
      "cell_type": "code",
      "source": [
        "person.values()"
      ],
      "metadata": {
        "colab": {
          "base_uri": "https://localhost:8080/"
        },
        "id": "d0cq0zUg-hla",
        "outputId": "0df1b4d7-724b-4b9a-fae8-8000c67ae194"
      },
      "execution_count": 38,
      "outputs": [
        {
          "output_type": "execute_result",
          "data": {
            "text/plain": [
              "dict_values(['last_nameage'])"
            ]
          },
          "metadata": {},
          "execution_count": 38
        }
      ]
    },
    {
      "cell_type": "code",
      "source": [
        "person[\"city\"]= \"Arlington\"\n",
        "person[\"state\"]=\"Texas\""
      ],
      "metadata": {
        "id": "Zzxw4yjfCKCF"
      },
      "execution_count": 39,
      "outputs": []
    },
    {
      "cell_type": "code",
      "source": [
        "person.keys()"
      ],
      "metadata": {
        "colab": {
          "base_uri": "https://localhost:8080/"
        },
        "id": "kb18AfcqDkSW",
        "outputId": "52e308a5-0c3a-498e-e5d9-1f11f12a7d1c"
      },
      "execution_count": 40,
      "outputs": [
        {
          "output_type": "execute_result",
          "data": {
            "text/plain": [
              "dict_keys(['first_name', 'city', 'state'])"
            ]
          },
          "metadata": {},
          "execution_count": 40
        }
      ]
    },
    {
      "cell_type": "markdown",
      "source": [
        "# Set:#\n",
        "###○Create a set named colors with the values \"red\", \"blue\", \"green\".\n",
        "###○ Add \"yellow\" to the set and remove \"blue\".\n",
        "###○ Check if \"pink\" is in the set and display the result."
      ],
      "metadata": {
        "id": "_pV5cnBlDwrL"
      }
    },
    {
      "cell_type": "code",
      "source": [
        "colors={\"red\",\"blue\",\"green\"}\n",
        "colors.add(\"yellow\")\n",
        "\n",
        "if 'pink' in colors:\n",
        "  print(\"Pink is in colors\")\n",
        "else:\n",
        "  print(\"Sorry not in colors\")"
      ],
      "metadata": {
        "colab": {
          "base_uri": "https://localhost:8080/"
        },
        "id": "x1M6z5j9DnQ8",
        "outputId": "affb557d-1e1a-4abf-a942-b3b3afc350c5"
      },
      "execution_count": 46,
      "outputs": [
        {
          "output_type": "stream",
          "name": "stdout",
          "text": [
            "Sorry not in colors\n"
          ]
        }
      ]
    },
    {
      "cell_type": "markdown",
      "source": [
        "4. Write a Python program that takes an input from the user and checks if the number is positive,\n",
        "negative, or zero."
      ],
      "metadata": {
        "id": "4lPKzcO3FiNI"
      }
    },
    {
      "cell_type": "code",
      "source": [
        "x=0\n",
        "\n",
        "if x>=0:\n",
        "  print(\"Number is positive\")\n",
        "else:\n",
        "  print(\"Number is negative\")\n"
      ],
      "metadata": {
        "colab": {
          "base_uri": "https://localhost:8080/"
        },
        "id": "Dadp_CFzEwtk",
        "outputId": "92638277-6257-45bd-f3a1-cddeab32dab0"
      },
      "execution_count": 64,
      "outputs": [
        {
          "output_type": "stream",
          "name": "stdout",
          "text": [
            "Number is positive\n"
          ]
        }
      ]
    },
    {
      "cell_type": "markdown",
      "source": [
        ". Given a list of numbers: [23, 45, 8, 12, 78, 56, 89], write a Python program that prints out all even\n",
        "numbers from the list using a conditional statement."
      ],
      "metadata": {
        "id": "QjnSY0OAKF38"
      }
    },
    {
      "cell_type": "code",
      "source": [
        "list=[23,45,8,12,78,56,89]\n",
        "\n",
        "for i in list:\n",
        "  if (i %2 ==0):\n",
        "    print(i)\n",
        "\n"
      ],
      "metadata": {
        "colab": {
          "base_uri": "https://localhost:8080/"
        },
        "id": "LYIRhHSxHnaO",
        "outputId": "d90e691e-7d86-45a5-bd67-84d9c61a4305"
      },
      "execution_count": 87,
      "outputs": [
        {
          "output_type": "stream",
          "name": "stdout",
          "text": [
            "8\n",
            "12\n",
            "78\n",
            "56\n"
          ]
        }
      ]
    },
    {
      "cell_type": "markdown",
      "source": [
        "Write a program that asks the user to enter their age. Based on the user's input, determine if they\n",
        "are eligible to vote (consider the voting age as 18)."
      ],
      "metadata": {
        "id": "9i-s3JYaNtFM"
      }
    },
    {
      "cell_type": "code",
      "source": [
        "age=int(input(\"Enter age:\"))\n",
        "\n",
        "if age>=18:\n",
        "  print(\"Able to vote\")\n",
        "else:\n",
        "  print(\"wait till 18\")\n"
      ],
      "metadata": {
        "colab": {
          "base_uri": "https://localhost:8080/"
        },
        "id": "ia4qQmJyKMDW",
        "outputId": "c84791ed-4313-4a65-999f-c1e325a2d173"
      },
      "execution_count": 88,
      "outputs": [
        {
          "output_type": "stream",
          "name": "stdout",
          "text": [
            "Enter age:5\n",
            "wait till 18\n"
          ]
        }
      ]
    },
    {
      "cell_type": "markdown",
      "source": [
        "7. Write a program that prompts the user to enter numbers continuously (using a while loop) and\n",
        "stops taking inputs when the user enters 'q'. After that, display the sum of all the numbers entered."
      ],
      "metadata": {
        "id": "2j71kzoZOyPq"
      }
    },
    {
      "cell_type": "code",
      "source": [
        "num=\"\"\n",
        "\n",
        "while num !='q':\n",
        "  num=(input())\n",
        "  print(num)\n"
      ],
      "metadata": {
        "colab": {
          "base_uri": "https://localhost:8080/"
        },
        "id": "GipFDdY5OoNX",
        "outputId": "40ba02fe-7d23-4129-9f80-9d2c1b52bca1"
      },
      "execution_count": 91,
      "outputs": [
        {
          "output_type": "stream",
          "name": "stdout",
          "text": [
            "5\n",
            "5\n",
            "q\n",
            "q\n"
          ]
        }
      ]
    },
    {
      "cell_type": "markdown",
      "source": [
        "Create a Python program using a while loop that prints numbers from 10 down to 1 and then\n",
        "prints \"Liftoff!\"."
      ],
      "metadata": {
        "id": "kQLgVnAwRjN-"
      }
    },
    {
      "cell_type": "code",
      "source": [
        "count=10\n",
        "\n",
        "while count>0:\n",
        "  print(\"count\",count)\n",
        "  count=count-1\n",
        "\n",
        "print(\"Lift off\")\n"
      ],
      "metadata": {
        "colab": {
          "base_uri": "https://localhost:8080/"
        },
        "id": "LODQ8LqyQA6t",
        "outputId": "f03d2acf-eefc-40f1-9544-16ad7067b61d"
      },
      "execution_count": 129,
      "outputs": [
        {
          "output_type": "stream",
          "name": "stdout",
          "text": [
            "count 10\n",
            "count 9\n",
            "count 8\n",
            "count 7\n",
            "count 6\n",
            "count 5\n",
            "count 4\n",
            "count 3\n",
            "count 2\n",
            "count 1\n",
            "Lift off\n"
          ]
        }
      ]
    },
    {
      "cell_type": "markdown",
      "source": [
        "Create a program that asks the user for a number and then prints out the multiplication table for\n",
        "that number using a while loop."
      ],
      "metadata": {
        "id": "SOMuE8YETPMd"
      }
    },
    {
      "cell_type": "code",
      "source": [
        "num=(input())\n",
        "i=1\n",
        "\n",
        "while i<=5:\n",
        "  product=num*i\n",
        "  print(num,\"*\",i, \"=\",product,\"\\n\")\n",
        "  i=i+1\n",
        "\n",
        "print(\"\\n\")\n",
        "num=num*1\n",
        "\n",
        "\n"
      ],
      "metadata": {
        "colab": {
          "base_uri": "https://localhost:8080/"
        },
        "id": "0vWL_dlfSgNB",
        "outputId": "6372ac6c-2d42-48bc-81e6-21d0dd7d9268"
      },
      "execution_count": 109,
      "outputs": [
        {
          "output_type": "stream",
          "name": "stdout",
          "text": [
            "1\n",
            "1 * 1 = 1 \n",
            "\n",
            "1 * 2 = 11 \n",
            "\n",
            "1 * 3 = 111 \n",
            "\n",
            "1 * 4 = 1111 \n",
            "\n",
            "1 * 5 = 11111 \n",
            "\n",
            "\n",
            "\n"
          ]
        }
      ]
    },
    {
      "cell_type": "markdown",
      "source": [
        "0. Given a list: [\"apple\", \"banana\", \"cherry\", \"date\"], use a for loop to print each fruit in the list.\n"
      ],
      "metadata": {
        "id": "jPQMSsp7XeCB"
      }
    },
    {
      "cell_type": "code",
      "source": [
        "fruit=[\"apple\",\"banana\",\"cherry\",\"date\"]\n",
        "\n",
        "for i in fruit:\n",
        "  print(i)\n",
        "\n"
      ],
      "metadata": {
        "colab": {
          "base_uri": "https://localhost:8080/"
        },
        "id": "ZhojkkvkVraV",
        "outputId": "850d0577-5a79-4cfe-bec3-067e57340e9e"
      },
      "execution_count": 110,
      "outputs": [
        {
          "output_type": "stream",
          "name": "stdout",
          "text": [
            "apple\n",
            "banana\n",
            "cherry\n",
            "date\n"
          ]
        }
      ]
    },
    {
      "cell_type": "markdown",
      "source": [
        "Using a for loop, calculate the factorial of a given number (n!). For example, if the given number\n",
        "is 5, the output should be 5 x 4 x 3 x 2 x 1 = 120.\n"
      ],
      "metadata": {
        "id": "bk06vl6JYJqz"
      }
    },
    {
      "cell_type": "code",
      "source": [
        "def factorial(n):\n",
        "  result=1\n",
        "  for i in range(1,i+1):\n",
        "    result=result*i\n",
        "  print(\"result\")\n",
        "\n"
      ],
      "metadata": {
        "id": "E1GJgtiPYHJo"
      },
      "execution_count": 128,
      "outputs": []
    },
    {
      "cell_type": "markdown",
      "source": [
        "2. Create a program using a for loop that prompts the user to enter five numbers. After all numbers\n",
        "are entered, the program should display the average of the numbers"
      ],
      "metadata": {
        "id": "CW9qA5jRcHQ9"
      }
    },
    {
      "cell_type": "code",
      "source": [
        "nums=[]\n",
        "\n",
        "for i in range(5):\n",
        "  num=int(input(\"Enter number\"))\n",
        "  nums.append(num)\n",
        "\n",
        "print('(sum)/5')\n",
        "\n",
        "\n"
      ],
      "metadata": {
        "colab": {
          "base_uri": "https://localhost:8080/"
        },
        "id": "1ObqZZaQZBwF",
        "outputId": "49dde936-6502-4f71-90da-5b56c6f911bd"
      },
      "execution_count": 44,
      "outputs": [
        {
          "output_type": "stream",
          "name": "stdout",
          "text": [
            "Enter number1\n",
            "Enter number2\n",
            "Enter number3\n",
            "Enter number4\n",
            "Enter number5\n",
            "(sum)/5\n"
          ]
        }
      ]
    },
    {
      "cell_type": "code",
      "source": [],
      "metadata": {
        "id": "Byu9XCzw7haH"
      },
      "execution_count": null,
      "outputs": []
    }
  ]
}