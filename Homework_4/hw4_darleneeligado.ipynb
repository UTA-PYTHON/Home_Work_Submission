{
  "nbformat": 4,
  "nbformat_minor": 0,
  "metadata": {
    "colab": {
      "provenance": []
    },
    "kernelspec": {
      "name": "python3",
      "display_name": "Python 3"
    },
    "language_info": {
      "name": "python"
    }
  },
  "cells": [
    {
      "cell_type": "markdown",
      "source": [
        "# **Homework 4 - Data Structures, Conditional Statements, Loops**"
      ],
      "metadata": {
        "id": "c2gLrZYIxLFY"
      }
    },
    {
      "cell_type": "markdown",
      "source": [
        "## Data Structures\n",
        "\n",
        "1. List and Tuple:\n",
        "  - Create a list name **fruits** containing \"apple\", \"banana\", \"cherry\"\n",
        "  - Convert this list into a tuple\n",
        "  - Add \"orange\" to the list\n",
        "  - Show the difference in the content of the list & tuple after the addition"
      ],
      "metadata": {
        "id": "Jk_fzk-xxc8t"
      }
    },
    {
      "cell_type": "code",
      "source": [
        "fruits = [\"apple\", \"banana\", \"cherry\"]"
      ],
      "metadata": {
        "id": "vVzi91kkyI52"
      },
      "execution_count": null,
      "outputs": []
    },
    {
      "cell_type": "code",
      "source": [
        "tuple(fruits)"
      ],
      "metadata": {
        "colab": {
          "base_uri": "https://localhost:8080/"
        },
        "id": "0XOfk2VayPd6",
        "outputId": "37ac0deb-6833-4baa-df61-9dd2c979a26a"
      },
      "execution_count": null,
      "outputs": [
        {
          "output_type": "execute_result",
          "data": {
            "text/plain": [
              "('apple', 'banana', 'cherry')"
            ]
          },
          "metadata": {},
          "execution_count": 2
        }
      ]
    },
    {
      "cell_type": "code",
      "source": [
        "fruits.append(\"orange\")"
      ],
      "metadata": {
        "id": "cgm-kk75yUp5"
      },
      "execution_count": null,
      "outputs": []
    },
    {
      "cell_type": "code",
      "source": [
        "tuple(fruits)"
      ],
      "metadata": {
        "colab": {
          "base_uri": "https://localhost:8080/"
        },
        "id": "1NBo_i3iybND",
        "outputId": "64975869-a3ed-4e26-a469-3bf41afd540e"
      },
      "execution_count": null,
      "outputs": [
        {
          "output_type": "execute_result",
          "data": {
            "text/plain": [
              "('apple', 'banana', 'cherry', 'orange')"
            ]
          },
          "metadata": {},
          "execution_count": 5
        }
      ]
    },
    {
      "cell_type": "code",
      "source": [
        "list(fruits)"
      ],
      "metadata": {
        "colab": {
          "base_uri": "https://localhost:8080/"
        },
        "id": "cjRpI2maygN3",
        "outputId": "6dc4650d-b287-4976-a3fd-1f6dd81e1e79"
      },
      "execution_count": null,
      "outputs": [
        {
          "output_type": "execute_result",
          "data": {
            "text/plain": [
              "['apple', 'banana', 'cherry', 'orange']"
            ]
          },
          "metadata": {},
          "execution_count": 6
        }
      ]
    },
    {
      "cell_type": "markdown",
      "source": [
        "2. Dictionary\n",
        "\n",
        "- Create a dictionary named **person** with keys \"first_name\", \"last_name\" and \"age\"\n",
        "- Add a new key value pair, \"city\" with a value of your choice\n",
        "- Display the keys in the dictionary using a Python command\n"
      ],
      "metadata": {
        "id": "GPFIVjymylSh"
      }
    },
    {
      "cell_type": "code",
      "source": [
        "person = {\"first_name\": \"caca\", \"last_name\": \"poopoo\", \"age\" : 23}"
      ],
      "metadata": {
        "id": "0F2xY_UczKzi"
      },
      "execution_count": null,
      "outputs": []
    },
    {
      "cell_type": "code",
      "source": [
        "person['city'] = \"Taipei\""
      ],
      "metadata": {
        "id": "fCWDKbyRzlTX"
      },
      "execution_count": null,
      "outputs": []
    },
    {
      "cell_type": "code",
      "source": [
        "person.keys()"
      ],
      "metadata": {
        "colab": {
          "base_uri": "https://localhost:8080/"
        },
        "id": "0BXaSF6Q0Eo0",
        "outputId": "845308ca-2926-4e61-f304-4be0166e5f76"
      },
      "execution_count": null,
      "outputs": [
        {
          "output_type": "execute_result",
          "data": {
            "text/plain": [
              "dict_keys(['first_name', 'last_name', 'age', 'city'])"
            ]
          },
          "metadata": {},
          "execution_count": 42
        }
      ]
    },
    {
      "cell_type": "markdown",
      "source": [
        "3. Set:\n",
        "\n",
        "- Create a dictionary named **colors** with the values \"red\", \"blue\", \"green\"\n",
        "-Add \"yellow\" to the set and remove \"blue\"\n",
        "- Check if \"pink\" is in the set & display the result"
      ],
      "metadata": {
        "id": "5H0funsC0Zxk"
      }
    },
    {
      "cell_type": "code",
      "source": [
        "colors = {\"red\",\"blue\", \"green\"}"
      ],
      "metadata": {
        "id": "sBxUOMo20zbo"
      },
      "execution_count": null,
      "outputs": []
    },
    {
      "cell_type": "code",
      "source": [
        "colors.add(\"yellow\")\n",
        "colors.remove(\"blue\")\n",
        "colors"
      ],
      "metadata": {
        "colab": {
          "base_uri": "https://localhost:8080/"
        },
        "id": "AroBaDxu1Bde",
        "outputId": "6eb4707e-3c08-42cf-9995-49e5cc2cd9d7"
      },
      "execution_count": null,
      "outputs": [
        {
          "output_type": "execute_result",
          "data": {
            "text/plain": [
              "{'green', 'red', 'yellow'}"
            ]
          },
          "metadata": {},
          "execution_count": 14
        }
      ]
    },
    {
      "cell_type": "code",
      "source": [
        "if \"pink\" in colors:\n",
        "  print(\"True\")\n",
        "else:\n",
        "  print(\"False\")"
      ],
      "metadata": {
        "colab": {
          "base_uri": "https://localhost:8080/"
        },
        "id": "pICqKwbU1mPi",
        "outputId": "1a0db925-3b0c-4ce0-e793-b7a5013e81bc"
      },
      "execution_count": null,
      "outputs": [
        {
          "output_type": "stream",
          "name": "stdout",
          "text": [
            "False\n"
          ]
        }
      ]
    },
    {
      "cell_type": "markdown",
      "source": [
        "## Conditional Statements"
      ],
      "metadata": {
        "id": "NmPxivQ32Ces"
      }
    },
    {
      "cell_type": "markdown",
      "source": [
        "4. Write a python program that takes an input from the user & checks if the number is positive, negative or zero."
      ],
      "metadata": {
        "id": "c_OrpWw_2HW5"
      }
    },
    {
      "cell_type": "code",
      "source": [
        "num =int(input(\"Enter in a integer: \"))\n",
        "\n",
        "if num > 0:\n",
        "  print(\"Integer entered is Positive\")\n",
        "elif num == 0:\n",
        "  print(\"Integer entered is 0\")\n",
        "elif num < 0:\n",
        "  print(\"Inteher entered is Negative\")\n",
        "else:\n",
        "  print(\"Invalid\")"
      ],
      "metadata": {
        "colab": {
          "base_uri": "https://localhost:8080/"
        },
        "id": "CCmQYbN32ITD",
        "outputId": "30f35c7f-5c94-4d16-f597-18144cd9306c"
      },
      "execution_count": null,
      "outputs": [
        {
          "output_type": "stream",
          "name": "stdout",
          "text": [
            "Enter in a integer: 5\n",
            "Integer entered is Positive\n"
          ]
        }
      ]
    },
    {
      "cell_type": "markdown",
      "source": [
        "5. Given a list of numbers: [23,45,8,12,78,56,89], write a python program that prints numbers from the list using a conditional statements."
      ],
      "metadata": {
        "id": "C1h8tBlH29m6"
      }
    },
    {
      "cell_type": "code",
      "source": [
        "list = [23,45,8,12,78,56,89]\n",
        "print(\"Even numbers in list:\")\n",
        "for n in list:\n",
        "  if n %2 == 0:\n",
        "      print (n)"
      ],
      "metadata": {
        "colab": {
          "base_uri": "https://localhost:8080/"
        },
        "id": "E76bQGUS2-V_",
        "outputId": "7f1e81f9-fbca-4a7d-cf09-d21ade32c9a4"
      },
      "execution_count": null,
      "outputs": [
        {
          "output_type": "stream",
          "name": "stdout",
          "text": [
            "Even numbers in list:\n",
            "8\n",
            "12\n",
            "78\n",
            "56\n"
          ]
        }
      ]
    },
    {
      "cell_type": "markdown",
      "source": [
        "6. Write a program that asks the user to enter their age. Based on the user's input, determine if they are eligible to vote."
      ],
      "metadata": {
        "id": "idABcqi74Lvx"
      }
    },
    {
      "cell_type": "code",
      "source": [
        "age = int(input(\"Enter in your age: \"))\n",
        "\n",
        "if age >= 18:\n",
        "  print(\"You can vote!\")\n",
        "else:\n",
        "  print(\"You are not old enough to vote!\")"
      ],
      "metadata": {
        "colab": {
          "base_uri": "https://localhost:8080/"
        },
        "id": "wAfPqr-D4MRg",
        "outputId": "6c042cf1-dac8-4747-c4a6-fa0c4b2a967f"
      },
      "execution_count": null,
      "outputs": [
        {
          "output_type": "stream",
          "name": "stdout",
          "text": [
            "Enter in your age: 16\n",
            "You are not old enough to vote!\n"
          ]
        }
      ]
    },
    {
      "cell_type": "markdown",
      "source": [
        "## While Loops"
      ],
      "metadata": {
        "id": "t98FJOwE4rUV"
      }
    },
    {
      "cell_type": "markdown",
      "source": [
        "7. Write a program that prompts the user to enter numbers continously (use while loop) & to stop taking inputs when the user enters 'q'. After that, display the sum of all the numbers entered."
      ],
      "metadata": {
        "id": "d694K1pA4w2D"
      }
    },
    {
      "cell_type": "code",
      "source": [
        "nums= 0\n",
        "sum = 0\n",
        "\n",
        "while nums != 'q':\n",
        "  nums = input(\"Enter in a number:\")\n",
        "  print(\"To quit, enter 'q'\")\n",
        "  if nums != 'q':\n",
        "    sum += int(nums)\n",
        "\n",
        "\n",
        "print(\"\\n\\nSum of all entries: \", sum)"
      ],
      "metadata": {
        "id": "rtnS7lEF4xZc",
        "colab": {
          "base_uri": "https://localhost:8080/"
        },
        "outputId": "e7c123ea-8bf6-4791-ea97-1c9116487f67"
      },
      "execution_count": null,
      "outputs": [
        {
          "output_type": "stream",
          "name": "stdout",
          "text": [
            "Enter in a number:3\n",
            "To quit, enter 'q'\n",
            "Enter in a number:3\n",
            "To quit, enter 'q'\n",
            "Enter in a number:q\n",
            "To quit, enter 'q'\n",
            "\n",
            "\n",
            "Sum of all entries:  6\n"
          ]
        }
      ]
    },
    {
      "cell_type": "markdown",
      "source": [
        "8. Create a python program using a while loop that prints numbers from 10 down to 1 & then prints 'LIFTOFF!'."
      ],
      "metadata": {
        "id": "3iw0E7We5KdH"
      }
    },
    {
      "cell_type": "code",
      "source": [
        "x=10\n",
        "\n",
        "while x > 0:\n",
        "  print(x)\n",
        "  x = x -1\n",
        "\n",
        "print(\"LIFTOFF!\")"
      ],
      "metadata": {
        "colab": {
          "base_uri": "https://localhost:8080/"
        },
        "id": "A2oIYqfV5Ls2",
        "outputId": "27788f15-c1a3-4f21-bfe2-6a90bd3113fb"
      },
      "execution_count": null,
      "outputs": [
        {
          "output_type": "stream",
          "name": "stdout",
          "text": [
            "10\n",
            "9\n",
            "8\n",
            "7\n",
            "6\n",
            "5\n",
            "4\n",
            "3\n",
            "2\n",
            "1\n",
            "LIFTOFF!\n"
          ]
        }
      ]
    },
    {
      "cell_type": "markdown",
      "source": [
        "9.Create a program that asks the user for a number and then prints out the multiplication table for that number using a while loop."
      ],
      "metadata": {
        "id": "Czsnplk_6Ew9"
      }
    },
    {
      "cell_type": "code",
      "source": [
        "usernum = int(input(\"Please enter in a number: \"))\n",
        "print('\\n')\n",
        "x = 0\n",
        "while x in range(0,13): # multiplication table from 0-12\n",
        "  product = usernum*x\n",
        "  print(usernum, '*', x, '=',product)\n",
        "  x += 1"
      ],
      "metadata": {
        "id": "mlLYGAHO6Ff-",
        "colab": {
          "base_uri": "https://localhost:8080/"
        },
        "outputId": "44d27205-ad68-4968-9480-050c8d1bba9c"
      },
      "execution_count": null,
      "outputs": [
        {
          "output_type": "stream",
          "name": "stdout",
          "text": [
            "Please enter in a number: 5\n",
            "\n",
            "\n",
            "5 * 0 = 0\n",
            "5 * 1 = 5\n",
            "5 * 2 = 10\n",
            "5 * 3 = 15\n",
            "5 * 4 = 20\n",
            "5 * 5 = 25\n",
            "5 * 6 = 30\n",
            "5 * 7 = 35\n",
            "5 * 8 = 40\n",
            "5 * 9 = 45\n",
            "5 * 10 = 50\n",
            "5 * 11 = 55\n",
            "5 * 12 = 60\n"
          ]
        }
      ]
    },
    {
      "cell_type": "markdown",
      "source": [
        "## For Loops"
      ],
      "metadata": {
        "id": "Yqaz0rXtpueF"
      }
    },
    {
      "cell_type": "markdown",
      "source": [
        "10. Given the list ['apple','banana','cherry','date'], use a for loop to print each fruit in the list."
      ],
      "metadata": {
        "id": "o4NlaViUqD1g"
      }
    },
    {
      "cell_type": "code",
      "source": [
        "list = [\"apple\", \"banana\",\"cherry\", \"date\"]\n",
        "for fruits in list:\n",
        "  print(fruits)"
      ],
      "metadata": {
        "colab": {
          "base_uri": "https://localhost:8080/"
        },
        "id": "Ec5e9TxXpxBX",
        "outputId": "bb583833-0cf9-453b-f86e-446168b43262"
      },
      "execution_count": null,
      "outputs": [
        {
          "output_type": "stream",
          "name": "stdout",
          "text": [
            "apple\n",
            "banana\n",
            "cherry\n",
            "date\n"
          ]
        }
      ]
    },
    {
      "cell_type": "markdown",
      "source": [
        "11. Using a for loop, calculate the factorial of a given number (n!). For example, if the given number is 5, the output should be 5x4x3x2x1=120."
      ],
      "metadata": {
        "id": "NoFQqSppqlBG"
      }
    },
    {
      "cell_type": "code",
      "source": [
        "num = int(input(\"Enter in a number: \"))\n",
        "product = num\n",
        "\n",
        "for x in range(1,num):\n",
        "  product = product*x\n",
        "print(\"Factorial: \", product)"
      ],
      "metadata": {
        "colab": {
          "base_uri": "https://localhost:8080/"
        },
        "id": "O15mEfnGqlZi",
        "outputId": "4943eb46-3f32-4702-ea17-25b5e13dd5e1"
      },
      "execution_count": null,
      "outputs": [
        {
          "output_type": "stream",
          "name": "stdout",
          "text": [
            "Enter in a number: 5\n",
            "Factorial:  120\n"
          ]
        }
      ]
    },
    {
      "cell_type": "markdown",
      "source": [
        "12. Create a program using a for loop that prompts the user to enter 5 numbers. After that, display the average of the numbers."
      ],
      "metadata": {
        "id": "JSU2_goatz65"
      }
    },
    {
      "cell_type": "code",
      "source": [
        "total = 0\n",
        "print(\"You will enter in 5 numbers\\n\")\n",
        "for x in range(0,5):\n",
        "  nums = int(input('Enter a number: '))\n",
        "  total += nums\n",
        "\n",
        "avg = total/5\n",
        "print(\"\\nAverage of entries:\", avg)"
      ],
      "metadata": {
        "colab": {
          "base_uri": "https://localhost:8080/"
        },
        "id": "QNPe8wsctfm1",
        "outputId": "84282fc3-408f-4e71-acdb-e66adc107af1"
      },
      "execution_count": null,
      "outputs": [
        {
          "output_type": "stream",
          "name": "stdout",
          "text": [
            "You will enter in 5 numbers\n",
            "\n",
            "Enter a number: 1\n",
            "Enter a number: 2\n",
            "Enter a number: 3\n",
            "Enter a number: 4\n",
            "Enter a number: 5\n",
            "\n",
            "Average of entries: 3.0\n"
          ]
        }
      ]
    }
  ]
}