{
  "cells": [
    {
      "cell_type": "markdown",
      "metadata": {},
      "source": [
        "For question 7 and 12, please run them on a different notebook. Running them in same notebook may cause error in output"
      ]
    },
    {
      "cell_type": "markdown",
      "metadata": {
        "id": "CH5jyax-Cerb"
      },
      "source": [
        "#QUESTION1"
      ]
    },
    {
      "cell_type": "code",
      "execution_count": 3,
      "metadata": {
        "colab": {
          "base_uri": "https://localhost:8080/"
        },
        "id": "TMKGHlFKCclO",
        "outputId": "037cbd3d-ed4f-4b40-c497-b81d9fb485f7"
      },
      "outputs": [
        {
          "name": "stdout",
          "output_type": "stream",
          "text": [
            "List: ['apple', 'banana', 'cherry', 'orange']\n",
            "Tuple: ('apple', 'banana', 'cherry')\n"
          ]
        }
      ],
      "source": [
        "#The list\n",
        "fruits_list = [\"apple\", \"banana\", \"cherry\"]\n",
        "\n",
        "# The tuple\n",
        "fruits_tuple = tuple(fruits_list)\n",
        "\n",
        "#Adding Orange\n",
        "fruits_list.append(\"orange\")\n",
        "\n",
        "#List vs tuple\n",
        "print(\"List:\", fruits_list)\n",
        "print(\"Tuple:\", fruits_tuple)"
      ]
    },
    {
      "cell_type": "markdown",
      "metadata": {
        "id": "H60U0WCQC-kW"
      },
      "source": [
        "#Question2"
      ]
    },
    {
      "cell_type": "code",
      "execution_count": 4,
      "metadata": {
        "colab": {
          "base_uri": "https://localhost:8080/"
        },
        "id": "jx8Dpq5fDB5M",
        "outputId": "2ba09486-312b-4778-d134-f8c2b0fba2c4"
      },
      "outputs": [
        {
          "name": "stdout",
          "output_type": "stream",
          "text": [
            "Keys : dict_keys(['first_name', 'last_name', 'age', 'city'])\n"
          ]
        }
      ],
      "source": [
        "# Starting Dictionary\n",
        "person = {\n",
        "      \"first_name\": \"Turza\",\n",
        "      \"last_name\": \"Saha\",\n",
        "      \"age\": 21\n",
        "      }\n",
        "\n",
        "#Key-value pair of city\n",
        "person[\"city\"] = \"Dhaka\"\n",
        "\n",
        "# Keys of dictionary\n",
        "print(\"Keys :\", person.keys())"
      ]
    },
    {
      "cell_type": "markdown",
      "metadata": {
        "id": "Nc9EU_BgDY9c"
      },
      "source": [
        "#Question3"
      ]
    },
    {
      "cell_type": "code",
      "execution_count": 8,
      "metadata": {
        "colab": {
          "base_uri": "https://localhost:8080/"
        },
        "id": "XQjQO9RyDWs4",
        "outputId": "05051de6-53a7-4cd0-f3c3-9e29c447f969"
      },
      "outputs": [
        {
          "name": "stdout",
          "output_type": "stream",
          "text": [
            "{'yellow', 'red', 'green'}\n",
            "Is pink in the set? False\n"
          ]
        }
      ],
      "source": [
        "#set of colors\n",
        "colors = {'red','blue','green'}\n",
        "#adding yellow and remove blue\n",
        "colors.add('yellow')\n",
        "colors.remove('blue')\n",
        "print(colors)\n",
        "#result of pink or not\n",
        "pink_or_not = 'pink' in colors\n",
        "print(\"Is pink in the set?\", pink_or_not)\n"
      ]
    },
    {
      "cell_type": "markdown",
      "metadata": {
        "id": "r3Bq4939FBZL"
      },
      "source": [
        "#QUESTION 4\n"
      ]
    },
    {
      "cell_type": "code",
      "execution_count": 12,
      "metadata": {
        "colab": {
          "base_uri": "https://localhost:8080/"
        },
        "id": "kwDNW9c4EHrd",
        "outputId": "7ca52428-936a-4ed7-a962-060ee3dbb6e1"
      },
      "outputs": [
        {
          "name": "stdout",
          "output_type": "stream",
          "text": [
            "Enter a number0\n",
            "The number is 0\n"
          ]
        }
      ],
      "source": [
        "#Take the number and change string input to integer\n",
        "number = input(\"Enter a number\")\n",
        "number = int(number)\n",
        "\n",
        "#Conditional statements for positive, 0 or else negative:\n",
        "if number>0 :\n",
        "  print(\"The input is positive\")\n",
        "elif number == 0:\n",
        "  print(\"The number is 0\")\n",
        "else:\n",
        "  print(\"The number is negative\")"
      ]
    },
    {
      "cell_type": "markdown",
      "metadata": {
        "id": "k1-GIn6RFDj2"
      },
      "source": [
        "#Question 5\n"
      ]
    },
    {
      "cell_type": "code",
      "execution_count": 16,
      "metadata": {
        "colab": {
          "base_uri": "https://localhost:8080/"
        },
        "id": "69UQIB3CFG-g",
        "outputId": "34e9f346-67a2-4ea4-fadd-1de79ee914b1"
      },
      "outputs": [
        {
          "name": "stdout",
          "output_type": "stream",
          "text": [
            "8\n",
            "12\n",
            "78\n",
            "56\n"
          ]
        }
      ],
      "source": [
        "list = [23, 45, 8, 12, 78, 56, 89]\n",
        "\n",
        "#For each item in list\n",
        "for i in list:\n",
        "  #if modulus by 2 is 0 means even and thus be printed\n",
        "  if i%2 == 0:\n",
        "    print(i)\n"
      ]
    },
    {
      "cell_type": "markdown",
      "metadata": {
        "id": "qN2Q2mP5GZ5A"
      },
      "source": [
        "#QUESTION6"
      ]
    },
    {
      "cell_type": "code",
      "execution_count": 19,
      "metadata": {
        "colab": {
          "base_uri": "https://localhost:8080/"
        },
        "id": "FYnaDqN3FgRs",
        "outputId": "8fc77dad-8578-407c-dd11-70674898785a"
      },
      "outputs": [
        {
          "name": "stdout",
          "output_type": "stream",
          "text": [
            "Enter your age18\n",
            "You are elligible to vote\n"
          ]
        }
      ],
      "source": [
        "#Similar to numbner 4, Take the age and change string input to integer\n",
        "number = input(\"Enter your age\")\n",
        "number = int(number)\n",
        "\n",
        "#Conditional statements for less than 18, or else elligible to vote\n",
        "if number<18 :\n",
        "  print(\"You are not elligible to vote\")\n",
        "else:\n",
        "  print(\"You are elligible to vote\")"
      ]
    },
    {
      "cell_type": "markdown",
      "metadata": {
        "id": "6aODdwiDGeNy"
      },
      "source": [
        "#QUESTION7"
      ]
    },
    {
      "cell_type": "code",
      "execution_count": 41,
      "metadata": {
        "colab": {
          "base_uri": "https://localhost:8080/",
          "height": 263
        },
        "id": "8jIGK2prGhYz",
        "outputId": "d188207a-4c14-4183-dfd2-57e55852bcbf"
      },
      "outputs": [
        {
          "name": "stdout",
          "output_type": "stream",
          "text": [
            "Enter a number5\n"
          ]
        },
        {
          "ename": "TypeError",
          "evalue": "ignored",
          "output_type": "error",
          "traceback": [
            "\u001b[0;31m---------------------------------------------------------------------------\u001b[0m",
            "\u001b[0;31mTypeError\u001b[0m                                 Traceback (most recent call last)",
            "\u001b[0;32m<ipython-input-41-282d5f636bda>\u001b[0m in \u001b[0;36m<cell line: 3>\u001b[0;34m()\u001b[0m\n\u001b[1;32m      2\u001b[0m \u001b[0msum\u001b[0m \u001b[0;34m=\u001b[0m \u001b[0;36m0\u001b[0m\u001b[0;34m\u001b[0m\u001b[0;34m\u001b[0m\u001b[0m\n\u001b[1;32m      3\u001b[0m \u001b[0;32mwhile\u001b[0m\u001b[0;34m(\u001b[0m\u001b[0mnumber\u001b[0m\u001b[0;34m!=\u001b[0m\u001b[0;34m'q'\u001b[0m\u001b[0;34m)\u001b[0m\u001b[0;34m:\u001b[0m\u001b[0;34m\u001b[0m\u001b[0;34m\u001b[0m\u001b[0m\n\u001b[0;32m----> 4\u001b[0;31m     \u001b[0mint_num\u001b[0m \u001b[0;34m=\u001b[0m \u001b[0mint\u001b[0m\u001b[0;34m(\u001b[0m\u001b[0mnumber\u001b[0m\u001b[0;34m)\u001b[0m\u001b[0;34m\u001b[0m\u001b[0;34m\u001b[0m\u001b[0m\n\u001b[0m\u001b[1;32m      5\u001b[0m     \u001b[0msum\u001b[0m \u001b[0;34m+=\u001b[0m \u001b[0mint_num\u001b[0m\u001b[0;34m\u001b[0m\u001b[0;34m\u001b[0m\u001b[0m\n\u001b[1;32m      6\u001b[0m     \u001b[0mnumber\u001b[0m \u001b[0;34m=\u001b[0m  \u001b[0minput\u001b[0m\u001b[0;34m(\u001b[0m\u001b[0;34m\"Enter a number again or 'q' to quit\"\u001b[0m\u001b[0;34m)\u001b[0m\u001b[0;34m\u001b[0m\u001b[0;34m\u001b[0m\u001b[0m\n",
            "\u001b[0;31mTypeError\u001b[0m: 'int' object is not callable"
          ]
        }
      ],
      "source": [
        "number = input(\"Enter a number\")\n",
        "sum = 0\n",
        "while(number!='q'):\n",
        "    #continue while loop as long as not q\n",
        "    #change string input to integer input, and add to sum\n",
        "    int_num = int(number)\n",
        "    sum += int_num\n",
        "    number =  input(\"Enter a number again or 'q' to quit\")\n",
        "\n",
        "print(f\"The sum is {sum}\")"
      ]
    },
    {
      "cell_type": "markdown",
      "metadata": {
        "id": "20mRLH-PKKG1"
      },
      "source": [
        "#QUESTION8"
      ]
    },
    {
      "cell_type": "code",
      "execution_count": 29,
      "metadata": {
        "colab": {
          "base_uri": "https://localhost:8080/"
        },
        "id": "rVguv5CeKG12",
        "outputId": "2e1ddb26-9f9a-4734-cbdc-51624ba2288d"
      },
      "outputs": [
        {
          "name": "stdout",
          "output_type": "stream",
          "text": [
            "10\n",
            "9\n",
            "8\n",
            "7\n",
            "6\n",
            "5\n",
            "4\n",
            "3\n",
            "2\n",
            "1\n",
            "Liftoff!\n"
          ]
        }
      ],
      "source": [
        "count = 10\n",
        "#while loop till count reaches 0 from 10 by an decrement of one once\n",
        "while count > 0:\n",
        "    print(count)\n",
        "    count -= 1\n",
        "\n",
        "print(\"Liftoff!\")"
      ]
    },
    {
      "cell_type": "markdown",
      "metadata": {
        "id": "WOop6zXiLeZl"
      },
      "source": [
        "#QUestion9"
      ]
    },
    {
      "cell_type": "code",
      "execution_count": 42,
      "metadata": {
        "colab": {
          "base_uri": "https://localhost:8080/",
          "height": 263
        },
        "id": "jofa-uU2KZfk",
        "outputId": "95a8a86d-20de-4203-cc35-86326368b259"
      },
      "outputs": [
        {
          "name": "stdout",
          "output_type": "stream",
          "text": [
            "Enter a number4\n"
          ]
        },
        {
          "ename": "TypeError",
          "evalue": "ignored",
          "output_type": "error",
          "traceback": [
            "\u001b[0;31m---------------------------------------------------------------------------\u001b[0m",
            "\u001b[0;31mTypeError\u001b[0m                                 Traceback (most recent call last)",
            "\u001b[0;32m<ipython-input-42-82a71335a71d>\u001b[0m in \u001b[0;36m<cell line: 2>\u001b[0;34m()\u001b[0m\n\u001b[1;32m      1\u001b[0m \u001b[0mnumber\u001b[0m \u001b[0;34m=\u001b[0m \u001b[0minput\u001b[0m\u001b[0;34m(\u001b[0m\u001b[0;34m\"Enter a number\"\u001b[0m\u001b[0;34m)\u001b[0m\u001b[0;34m\u001b[0m\u001b[0;34m\u001b[0m\u001b[0m\n\u001b[0;32m----> 2\u001b[0;31m \u001b[0mint_num\u001b[0m \u001b[0;34m=\u001b[0m \u001b[0mint\u001b[0m\u001b[0;34m(\u001b[0m\u001b[0mnumber\u001b[0m\u001b[0;34m)\u001b[0m\u001b[0;34m\u001b[0m\u001b[0;34m\u001b[0m\u001b[0m\n\u001b[0m\u001b[1;32m      3\u001b[0m \u001b[0mlimit\u001b[0m \u001b[0;34m=\u001b[0m \u001b[0;36m15\u001b[0m \u001b[0;31m#this has been hardcoded, can be changed\u001b[0m\u001b[0;34m\u001b[0m\u001b[0;34m\u001b[0m\u001b[0m\n\u001b[1;32m      4\u001b[0m \u001b[0mcounter\u001b[0m \u001b[0;34m=\u001b[0m\u001b[0;36m1\u001b[0m\u001b[0;34m\u001b[0m\u001b[0;34m\u001b[0m\u001b[0m\n\u001b[1;32m      5\u001b[0m \u001b[0;32mwhile\u001b[0m \u001b[0mcounter\u001b[0m \u001b[0;34m<=\u001b[0m \u001b[0mlimit\u001b[0m \u001b[0;34m:\u001b[0m\u001b[0;34m\u001b[0m\u001b[0;34m\u001b[0m\u001b[0m\n",
            "\u001b[0;31mTypeError\u001b[0m: 'int' object is not callable"
          ]
        }
      ],
      "source": [
        "number = input(\"Enter a number\")\n",
        "int_num = int(number)\n",
        "limit = 15 #this has been hardcoded, can be changed\n",
        "counter =1\n",
        "while counter <= limit :\n",
        "  product = counter*int_num\n",
        "  print(f\"{counter} X {int_num} = {product}\")\n",
        "  counter+=1\n"
      ]
    },
    {
      "cell_type": "markdown",
      "metadata": {
        "id": "Csf3fwbxLgRG"
      },
      "source": [
        "#Question10"
      ]
    },
    {
      "cell_type": "code",
      "execution_count": 31,
      "metadata": {
        "colab": {
          "base_uri": "https://localhost:8080/"
        },
        "id": "Xv9LY8ftLi4C",
        "outputId": "7a97cd92-5332-4496-a4e4-c0bcf9b1fb9f"
      },
      "outputs": [
        {
          "name": "stdout",
          "output_type": "stream",
          "text": [
            "apple\n",
            "banana\n",
            "cherry\n",
            "date\n"
          ]
        }
      ],
      "source": [
        "list = [\"apple\", \"banana\", \"cherry\", \"date\"]\n",
        "for item in list:\n",
        "  print(item)"
      ]
    },
    {
      "cell_type": "markdown",
      "metadata": {
        "id": "Dz51N9IiLsXY"
      },
      "source": [
        "#QUESTION11\n"
      ]
    },
    {
      "cell_type": "code",
      "execution_count": 36,
      "metadata": {
        "colab": {
          "base_uri": "https://localhost:8080/"
        },
        "id": "-DW9tDypLt2G",
        "outputId": "669211a3-5cf5-4f75-ef94-25f7581690c8"
      },
      "outputs": [
        {
          "name": "stdout",
          "output_type": "stream",
          "text": [
            "3628800\n"
          ]
        }
      ],
      "source": [
        "given_number = 10\n",
        "product = 1\n",
        "\n",
        "for integer in range(1,given_number+1):\n",
        "  product *= integer\n",
        "\n",
        "print(product)"
      ]
    },
    {
      "cell_type": "markdown",
      "metadata": {
        "id": "tGczqjjRPZvJ"
      },
      "source": [
        "#QUESTION12"
      ]
    },
    {
      "cell_type": "code",
      "execution_count": 39,
      "metadata": {
        "colab": {
          "base_uri": "https://localhost:8080/",
          "height": 263
        },
        "id": "M4xpbbL_M_ue",
        "outputId": "5678eada-8f9f-491d-d867-35b0a15cdc23"
      },
      "outputs": [
        {
          "name": "stdout",
          "output_type": "stream",
          "text": [
            "Enter a number5\n"
          ]
        },
        {
          "ename": "TypeError",
          "evalue": "ignored",
          "output_type": "error",
          "traceback": [
            "\u001b[0;31m---------------------------------------------------------------------------\u001b[0m",
            "\u001b[0;31mTypeError\u001b[0m                                 Traceback (most recent call last)",
            "\u001b[0;32m<ipython-input-39-680265a1aaaa>\u001b[0m in \u001b[0;36m<cell line: 2>\u001b[0;34m()\u001b[0m\n\u001b[1;32m      2\u001b[0m \u001b[0;32mfor\u001b[0m \u001b[0mi\u001b[0m \u001b[0;32min\u001b[0m \u001b[0mrange\u001b[0m\u001b[0;34m(\u001b[0m\u001b[0;36m5\u001b[0m\u001b[0;34m)\u001b[0m\u001b[0;34m:\u001b[0m\u001b[0;34m\u001b[0m\u001b[0;34m\u001b[0m\u001b[0m\n\u001b[1;32m      3\u001b[0m   \u001b[0mnumber\u001b[0m \u001b[0;34m=\u001b[0m \u001b[0minput\u001b[0m\u001b[0;34m(\u001b[0m\u001b[0;34m\"Enter a number\"\u001b[0m\u001b[0;34m)\u001b[0m\u001b[0;34m\u001b[0m\u001b[0;34m\u001b[0m\u001b[0m\n\u001b[0;32m----> 4\u001b[0;31m   \u001b[0mint_number\u001b[0m \u001b[0;34m=\u001b[0m \u001b[0mint\u001b[0m\u001b[0;34m(\u001b[0m\u001b[0mnumber\u001b[0m\u001b[0;34m)\u001b[0m\u001b[0;34m\u001b[0m\u001b[0;34m\u001b[0m\u001b[0m\n\u001b[0m\u001b[1;32m      5\u001b[0m   \u001b[0msum\u001b[0m \u001b[0;34m+=\u001b[0m \u001b[0mint_number\u001b[0m\u001b[0;34m\u001b[0m\u001b[0;34m\u001b[0m\u001b[0m\n\u001b[1;32m      6\u001b[0m \u001b[0;34m\u001b[0m\u001b[0m\n",
            "\u001b[0;31mTypeError\u001b[0m: 'int' object is not callable"
          ]
        }
      ],
      "source": [
        "sum = 0\n",
        "for i in range(5):\n",
        "  number = input(\"Enter a number\")\n",
        "  int_number = int(number)\n",
        "  sum += int_number\n",
        "\n",
        "average = sum/5\n",
        "\n",
        "print(average)\n"
      ]
    },
    {
      "cell_type": "code",
      "execution_count": null,
      "metadata": {
        "id": "iZW9vQiNMfUa"
      },
      "outputs": [],
      "source": []
    }
  ],
  "metadata": {
    "colab": {
      "provenance": []
    },
    "kernelspec": {
      "display_name": "Python 3",
      "name": "python3"
    },
    "language_info": {
      "name": "python"
    }
  },
  "nbformat": 4,
  "nbformat_minor": 0
}
