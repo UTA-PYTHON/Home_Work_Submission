{
  "nbformat": 4,
  "nbformat_minor": 0,
  "metadata": {
    "colab": {
      "provenance": []
    },
    "kernelspec": {
      "name": "python3",
      "display_name": "Python 3"
    },
    "language_info": {
      "name": "python"
    }
  },
  "cells": [
    {
      "cell_type": "markdown",
      "source": [
        "## 1. List and Tuple:\n",
        "### ○ Create a list named fruits\n",
        "### containing the following: \"apple\",  \"banana\", \"cherry\".\n",
        "### ○ Convert this list into a tuple.\n",
        "### ○ Add \"orange\" to the list of fruits.\n",
        "### ○ Show the difference in the content ### of the list and tuple after the addition"
      ],
      "metadata": {
        "id": "CMO_oIkQrLdh"
      }
    },
    {
      "cell_type": "code",
      "source": [
        "fruits=[\"apple\",\"banana\",\"cherry\"]"
      ],
      "metadata": {
        "id": "YD7ctlmprnMv"
      },
      "execution_count": 1,
      "outputs": []
    },
    {
      "cell_type": "code",
      "source": [
        "fruits_tuples=(fruits)  #converting to tuples"
      ],
      "metadata": {
        "id": "iK1DmlObr6Si"
      },
      "execution_count": 2,
      "outputs": []
    },
    {
      "cell_type": "code",
      "source": [
        "fruits"
      ],
      "metadata": {
        "colab": {
          "base_uri": "https://localhost:8080/"
        },
        "id": "nfX4qopCuzPi",
        "outputId": "e3c52698-cb0e-4f03-ddd0-7f179d06d480"
      },
      "execution_count": 4,
      "outputs": [
        {
          "output_type": "execute_result",
          "data": {
            "text/plain": [
              "['apple', 'banana', 'cherry']"
            ]
          },
          "metadata": {},
          "execution_count": 4
        }
      ]
    },
    {
      "cell_type": "code",
      "source": [
        "fruits.append(\"orange\")  #adding to the list of fruits but we won't be able to add it to the tuples directly since tuples can't be modified"
      ],
      "metadata": {
        "id": "vPc1xPMEu1HY"
      },
      "execution_count": 5,
      "outputs": []
    },
    {
      "cell_type": "code",
      "source": [
        "print(fruits)\n",
        "\n",
        "print(fruits_tuples)"
      ],
      "metadata": {
        "colab": {
          "base_uri": "https://localhost:8080/"
        },
        "id": "-c2pB4HxwCsU",
        "outputId": "32f9bcc0-50a2-4d7f-b79d-f55f74eae0b7"
      },
      "execution_count": 9,
      "outputs": [
        {
          "output_type": "stream",
          "name": "stdout",
          "text": [
            "['apple', 'banana', 'cherry', 'orange']\n",
            "['apple', 'banana', 'cherry', 'orange']\n"
          ]
        }
      ]
    },
    {
      "cell_type": "markdown",
      "source": [
        "## 2. Dictionary:\n",
        "### ○ Create a dictionary named person with keys \"first_name\", \"last_name\", and \"age\".\n",
        "### Populate it with values of your choice.\n",
        "### ○ Add a new key-value pair, \"city\" with a value of your choice.\n",
        "### ○ Display the keys in the dictionary using a Python command."
      ],
      "metadata": {
        "id": "GnlYjKZXwZZ6"
      }
    },
    {
      "cell_type": "code",
      "source": [
        "person={\"first_name\":\"Feyruz\",\"last_name\":\"Habteab\",\"age\":23}"
      ],
      "metadata": {
        "id": "NEV37tTQwkol"
      },
      "execution_count": 10,
      "outputs": []
    },
    {
      "cell_type": "code",
      "source": [
        "person[\"city\"]=\"Arlington\"   #adding a new key-value pair"
      ],
      "metadata": {
        "id": "CpYpteo1xN0h"
      },
      "execution_count": 12,
      "outputs": []
    },
    {
      "cell_type": "code",
      "source": [
        "person.keys()"
      ],
      "metadata": {
        "colab": {
          "base_uri": "https://localhost:8080/"
        },
        "id": "B8KMaGPbxOx4",
        "outputId": "8869143b-bc99-4b21-f07d-8f506bc511a7"
      },
      "execution_count": 15,
      "outputs": [
        {
          "output_type": "execute_result",
          "data": {
            "text/plain": [
              "dict_keys(['first_name', 'last_name', 'age', 'city'])"
            ]
          },
          "metadata": {},
          "execution_count": 15
        }
      ]
    },
    {
      "cell_type": "markdown",
      "source": [
        "## 3. Set:\n",
        "### ○ Create a set named colors with the values \"red\", \"blue\", \"green\".\n",
        "### ○ Add \"yellow\" to the set and remove \"blue\".\n",
        "### ○ Check if \"pink\" is in the set and display the result."
      ],
      "metadata": {
        "id": "LdBt0DWCybbN"
      }
    },
    {
      "cell_type": "code",
      "source": [
        "colors={\"red\",\"blue\",\"green\"}"
      ],
      "metadata": {
        "id": "HQapCVUvyu4d"
      },
      "execution_count": 16,
      "outputs": []
    },
    {
      "cell_type": "code",
      "source": [
        "colors.add(\"yellow\")  #adding\n",
        "\n",
        "colors.remove(\"blue\")"
      ],
      "metadata": {
        "id": "nBG-HqmNzXgN"
      },
      "execution_count": 17,
      "outputs": []
    },
    {
      "cell_type": "code",
      "source": [
        "colors        #displaying the result and checking if pink is in the list"
      ],
      "metadata": {
        "colab": {
          "base_uri": "https://localhost:8080/"
        },
        "id": "VU09-8imzrN2",
        "outputId": "77dc6a38-774f-403e-aa48-6f1389998450"
      },
      "execution_count": 19,
      "outputs": [
        {
          "output_type": "execute_result",
          "data": {
            "text/plain": [
              "{'green', 'red', 'yellow'}"
            ]
          },
          "metadata": {},
          "execution_count": 19
        }
      ]
    },
    {
      "cell_type": "markdown",
      "source": [
        "## 4. Write a Python program that takes an input from the user and checks if the number is positive,negative, or zero"
      ],
      "metadata": {
        "id": "4HyOfPB_0nHV"
      }
    },
    {
      "cell_type": "code",
      "source": [
        "n=int(input())\n",
        "\n",
        "if n==0:\n",
        "  print(\"zero\")\n",
        "elif n>0:\n",
        "  print(\"postive\")\n",
        "else:\n",
        "  print(\"negative\")\n"
      ],
      "metadata": {
        "colab": {
          "base_uri": "https://localhost:8080/"
        },
        "id": "n_WgnWWQ0xlp",
        "outputId": "16f3f21e-7f61-4736-8809-25c66c4f3cdc"
      },
      "execution_count": 23,
      "outputs": [
        {
          "output_type": "stream",
          "name": "stdout",
          "text": [
            "0\n",
            "zero\n"
          ]
        }
      ]
    },
    {
      "cell_type": "markdown",
      "source": [
        "## 5. Given a list of numbers: [23, 45, 8, 12, 78, 56, 89], write a Python program that prints out all even numbers from the list using a conditional statement"
      ],
      "metadata": {
        "id": "2bjG9nL22xEx"
      }
    },
    {
      "cell_type": "code",
      "source": [
        "num=[23,45,8,12,78,56,89]\n",
        "n=num%2\n",
        "if n == 0:\n",
        "  print(num)"
      ],
      "metadata": {
        "id": "2dQMCBTZ7o99"
      },
      "execution_count": null,
      "outputs": []
    },
    {
      "cell_type": "markdown",
      "source": [
        "## 6. Write a program that asks the user to enter their age. Based on the user's input, determine if they are eligible to vote (consider the voting age as 18)."
      ],
      "metadata": {
        "id": "xzsfsG-Q7IEV"
      }
    },
    {
      "cell_type": "code",
      "source": [
        "age=int(input(\"Enter your age:\"))\n",
        "\n",
        "if age >= 18:\n",
        "  print(\"You are eligible to vote\")\n",
        "else:\n",
        "  print(\"you are not eligible to vote, the legal age for voting is 18\")\n"
      ],
      "metadata": {
        "colab": {
          "base_uri": "https://localhost:8080/"
        },
        "id": "GBY-TFti7xr8",
        "outputId": "dbc92759-df0f-4f57-bdad-2b75ad6f1214"
      },
      "execution_count": 43,
      "outputs": [
        {
          "output_type": "stream",
          "name": "stdout",
          "text": [
            "Enter your age:17\n",
            "you are not eligible to vote, the legal age for voting is 18\n"
          ]
        }
      ]
    },
    {
      "cell_type": "markdown",
      "source": [
        "## 7. Write a program that prompts the user to enter numbers continuously (using a while loop) and stops taking inputs when the user enters 'q'. After that, display the sum of all the numbers entered."
      ],
      "metadata": {
        "id": "8revEvyE86Ff"
      }
    },
    {
      "cell_type": "code",
      "source": [
        "entered_num=\"\"\n",
        "\n",
        "\n",
        "while entered_num!='q':\n",
        "  entered_num=input(\"Enter numbers continously:\")\n",
        "  sum=0\n",
        "sum+=entered_num  ## i couldn't figure out a way to use int and str together since user inout is int and str(\"q\")\n",
        "print(sum)\n",
        "\n",
        "\n",
        "\n",
        "\n"
      ],
      "metadata": {
        "id": "yJrtzjTs88Ud"
      },
      "execution_count": null,
      "outputs": []
    },
    {
      "cell_type": "markdown",
      "source": [
        "## 8. Create a Python program using a while loop that prints numbers from 10 down to 1 and then prints \"Liftoff!\""
      ],
      "metadata": {
        "id": "O6pcP8aBFgzK"
      }
    },
    {
      "cell_type": "code",
      "source": [
        "n=11\n",
        "while n>1:\n",
        "  n-=1\n",
        "  print(n)\n",
        "print(\"Liftoff!\")\n",
        "\n",
        "\n",
        ""
      ],
      "metadata": {
        "colab": {
          "base_uri": "https://localhost:8080/"
        },
        "id": "P6_2iKV9FpYX",
        "outputId": "e371d00a-f6aa-46e9-f63d-6eff2149c774"
      },
      "execution_count": 107,
      "outputs": [
        {
          "output_type": "stream",
          "name": "stdout",
          "text": [
            "10\n",
            "9\n",
            "8\n",
            "7\n",
            "6\n",
            "5\n",
            "4\n",
            "3\n",
            "2\n",
            "1\n",
            "Liftoff!\n"
          ]
        }
      ]
    },
    {
      "cell_type": "markdown",
      "source": [
        "## 9.Create a program that asks the user for a number and then prints out the multiplication table for that number using a while loop.\n"
      ],
      "metadata": {
        "id": "S8fZxCWaIAty"
      }
    },
    {
      "cell_type": "code",
      "source": [
        "number=int(input(\"enter a number:\"))\n",
        "n=0\n",
        "\n",
        "while n <10:\n",
        "  multiply=(n*number)\n",
        "  n=n+1\n",
        "  print(n)\n",
        "\n"
      ],
      "metadata": {
        "id": "tFO-UT9_IdUv"
      },
      "execution_count": null,
      "outputs": []
    },
    {
      "cell_type": "markdown",
      "source": [
        "## 10. Given a list: [\"apple\", \"banana\", \"cherry\", \"date\"], use a for loop to print each fruit in the list"
      ],
      "metadata": {
        "id": "N9moR_01NAwG"
      }
    },
    {
      "cell_type": "code",
      "source": [
        "my_list=[\"apple\",\"banana\",\"cherry\",\"date\"]"
      ],
      "metadata": {
        "id": "3OWfluLAKKII"
      },
      "execution_count": 126,
      "outputs": []
    },
    {
      "cell_type": "code",
      "source": [
        "for i in my_list:\n",
        "  print(i)"
      ],
      "metadata": {
        "colab": {
          "base_uri": "https://localhost:8080/"
        },
        "id": "rERGIeSrNSCe",
        "outputId": "3c5d3e0d-2e29-47ab-d990-3ddd0e95fa44"
      },
      "execution_count": 127,
      "outputs": [
        {
          "output_type": "stream",
          "name": "stdout",
          "text": [
            "apple\n",
            "banana\n",
            "cherry\n",
            "date\n"
          ]
        }
      ]
    },
    {
      "cell_type": "markdown",
      "source": [
        "## 11. Using a for loop, calculate the factorial of a given number (n!). For example, if the given number is 5, the output should be 5 x 4 x 3 x 2 x 1 = 120"
      ],
      "metadata": {
        "id": "G2ExmBqgNg0u"
      }
    },
    {
      "cell_type": "code",
      "source": [
        "n = int (input (\"Enter a number: \"))\n",
        "factorial = 1\n",
        "if n >= 1:\n",
        "    for i in range (1, n+1):\n",
        "        factorial=factorial *i\n",
        "print( factorial)"
      ],
      "metadata": {
        "colab": {
          "base_uri": "https://localhost:8080/"
        },
        "id": "FVZdhLm-NoSv",
        "outputId": "907443f3-8d3a-4ea3-f1f8-df621c9260e9"
      },
      "execution_count": 131,
      "outputs": [
        {
          "output_type": "stream",
          "name": "stdout",
          "text": [
            "Enter a number: 5\n",
            "120\n"
          ]
        }
      ]
    },
    {
      "cell_type": "markdown",
      "source": [
        "## 12. Create a program using a for loop that prompts the user to enter five numbers. After all numbers are entered, the program should display the average of the numbers"
      ],
      "metadata": {
        "id": "LkWsi7rNPBVd"
      }
    },
    {
      "cell_type": "code",
      "source": [
        "nums = []\n",
        "for i in range(5):\n",
        "    num = int(input(\"Enter number :\"))\n",
        "    nums.append(num)\n",
        "result=(sum(nums)/5)    ## i an able to run it in a terminal but i couldn't here\n",
        "print(result)"
      ],
      "metadata": {
        "id": "vm8vVLR0PDfJ"
      },
      "execution_count": null,
      "outputs": []
    },
    {
      "cell_type": "code",
      "source": [],
      "metadata": {
        "id": "2_O571DBPZBL"
      },
      "execution_count": null,
      "outputs": []
    }
  ]
}