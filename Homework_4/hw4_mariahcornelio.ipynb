{
 "cells": [
  {
   "cell_type": "markdown",
   "id": "8e0c9eda",
   "metadata": {},
   "source": [
    "# Homework 4 - Data Structures, Conditional Statements, Loops\n",
    "## Mariah N Cornelio"
   ]
  },
  {
   "cell_type": "markdown",
   "id": "dcfb34ac",
   "metadata": {},
   "source": [
    "___"
   ]
  },
  {
   "cell_type": "markdown",
   "id": "aae91ca2",
   "metadata": {},
   "source": [
    "## Data Structures\n",
    "### 1. List and Tuple:\n",
    "\n",
    "- Create a list named fruits containing the following: \"apple\", \"banana\", \"cherry\".\n",
    "- Convert this list into a tuple.\n",
    "- Add \"orange\" to the list of fruits. \n",
    "- Show the difference in the content of the list and tuple after the addition. "
   ]
  },
  {
   "cell_type": "code",
   "execution_count": 1,
   "id": "4405f704",
   "metadata": {},
   "outputs": [],
   "source": [
    "fruits=[\"apple\", \"banana\", \"cherry\"]"
   ]
  },
  {
   "cell_type": "code",
   "execution_count": 2,
   "id": "277dfe9f",
   "metadata": {},
   "outputs": [
    {
     "data": {
      "text/plain": [
       "('apple', 'banana', 'cherry')"
      ]
     },
     "execution_count": 2,
     "metadata": {},
     "output_type": "execute_result"
    }
   ],
   "source": [
    "tuple(fruits)"
   ]
  },
  {
   "cell_type": "code",
   "execution_count": 3,
   "id": "2c4ba7d6",
   "metadata": {},
   "outputs": [],
   "source": [
    "fruits.append(\"orange\")"
   ]
  },
  {
   "cell_type": "code",
   "execution_count": 4,
   "id": "52b147a6",
   "metadata": {},
   "outputs": [
    {
     "data": {
      "text/plain": [
       "('apple', 'banana', 'cherry', 'orange')"
      ]
     },
     "execution_count": 4,
     "metadata": {},
     "output_type": "execute_result"
    }
   ],
   "source": [
    "tuple(fruits)"
   ]
  },
  {
   "cell_type": "code",
   "execution_count": 5,
   "id": "b912cd44",
   "metadata": {},
   "outputs": [
    {
     "data": {
      "text/plain": [
       "['apple', 'banana', 'cherry', 'orange']"
      ]
     },
     "execution_count": 5,
     "metadata": {},
     "output_type": "execute_result"
    }
   ],
   "source": [
    "list(fruits)"
   ]
  },
  {
   "cell_type": "markdown",
   "id": "22e25fc4",
   "metadata": {},
   "source": [
    "### 2. Dictionary\n",
    "\n",
    "- Create a dictionary named person with keys \"first_name\", \"last_name\", and \"age\". Populate it with values of your choice.\n",
    "- Add a new-value pair, \"city\" with a value of your choice.\n",
    "- Display the keys in the dictionary using a Python command."
   ]
  },
  {
   "cell_type": "code",
   "execution_count": 6,
   "id": "e48be9df",
   "metadata": {},
   "outputs": [],
   "source": [
    "person={\"first_name\":\"Meowmeow\", \"last_name\":\"Farts\", \"age\":\"21\"}"
   ]
  },
  {
   "cell_type": "code",
   "execution_count": 7,
   "id": "09eacee7",
   "metadata": {},
   "outputs": [],
   "source": [
    "person[\"city\"]=\"Dallas\""
   ]
  },
  {
   "cell_type": "code",
   "execution_count": 8,
   "id": "1aa12d6e",
   "metadata": {},
   "outputs": [
    {
     "data": {
      "text/plain": [
       "dict_keys(['first_name', 'last_name', 'age', 'city'])"
      ]
     },
     "execution_count": 8,
     "metadata": {},
     "output_type": "execute_result"
    }
   ],
   "source": [
    "person.keys()"
   ]
  },
  {
   "cell_type": "markdown",
   "id": "4678593e",
   "metadata": {},
   "source": [
    "### 3. Set\n",
    "\n",
    "- Create a set named colors with the values \"red\", \"blue\", \"green\".\n",
    "- Add \"yellow\" to the set and remove \"blue\".\n",
    "- Check if \"pink\" is in the set and display the result."
   ]
  },
  {
   "cell_type": "code",
   "execution_count": 9,
   "id": "8d5424b9",
   "metadata": {},
   "outputs": [],
   "source": [
    "colors={\"red\", \"blue\", \"green\"}"
   ]
  },
  {
   "cell_type": "code",
   "execution_count": 10,
   "id": "fa65aa7a",
   "metadata": {},
   "outputs": [],
   "source": [
    "colors.add(\"yellow\")\n",
    "colors.remove(\"blue\")"
   ]
  },
  {
   "cell_type": "code",
   "execution_count": 11,
   "id": "86dab2f3",
   "metadata": {},
   "outputs": [
    {
     "data": {
      "text/plain": [
       "{'green', 'red', 'yellow'}"
      ]
     },
     "execution_count": 11,
     "metadata": {},
     "output_type": "execute_result"
    }
   ],
   "source": [
    "colors"
   ]
  },
  {
   "cell_type": "code",
   "execution_count": 12,
   "id": "54bd13c9",
   "metadata": {},
   "outputs": [
    {
     "name": "stdout",
     "output_type": "stream",
     "text": [
      "False\n"
     ]
    }
   ],
   "source": [
    "if \"pink\" in colors:\n",
    "    print(\"True\")\n",
    "else:\n",
    "    print(\"False\")"
   ]
  },
  {
   "cell_type": "markdown",
   "id": "02cab1ca",
   "metadata": {},
   "source": [
    "---"
   ]
  },
  {
   "cell_type": "markdown",
   "id": "679d29bd",
   "metadata": {},
   "source": [
    "## Conditional Statements\n",
    "### 4. Write a Python program that takes an input from the user and checks if the number is positive, negative, or zero."
   ]
  },
  {
   "cell_type": "code",
   "execution_count": 13,
   "id": "c99d93a3",
   "metadata": {},
   "outputs": [
    {
     "name": "stdout",
     "output_type": "stream",
     "text": [
      "Enter in a number: -6\n",
      "This number is negative.\n"
     ]
    }
   ],
   "source": [
    "number=int(input(\"Enter in a number: \"))\n",
    "\n",
    "if number > 0:\n",
    "    print(\"This number is positive.\")\n",
    "elif number < 0:\n",
    "    print(\"This number is negative.\")\n",
    "elif number==0:\n",
    "    print(\"This number is 0.\")"
   ]
  },
  {
   "cell_type": "markdown",
   "id": "fcd07724",
   "metadata": {},
   "source": [
    "### 5. Given a list of numbers: [23,45,8,12,78,56,89], write a Python program that prints out all even numbers from the list using a conditional statement."
   ]
  },
  {
   "cell_type": "code",
   "execution_count": 14,
   "id": "9860f160",
   "metadata": {},
   "outputs": [
    {
     "name": "stdout",
     "output_type": "stream",
     "text": [
      "This number in the list is even:  8\n",
      "This number in the list is even:  12\n",
      "This number in the list is even:  78\n",
      "This number in the list is even:  56\n"
     ]
    }
   ],
   "source": [
    "numlist=[23,45,8,12,78,56,89]\n",
    "\n",
    "for n in numlist:\n",
    "    if n%2==0:\n",
    "        print(\"This number in the list is even: \", n)"
   ]
  },
  {
   "cell_type": "markdown",
   "id": "a62c4398",
   "metadata": {},
   "source": [
    "### 6. Write a program that asks the user to enter their age. Based on the user's input, determine if they are eligible to vote (consider the voting age as 18). "
   ]
  },
  {
   "cell_type": "code",
   "execution_count": 15,
   "id": "2298a4f1",
   "metadata": {},
   "outputs": [
    {
     "name": "stdout",
     "output_type": "stream",
     "text": [
      "What is your age? 19\n",
      "Congratulations! You are able to vote.\n"
     ]
    }
   ],
   "source": [
    "age = int(input(\"What is your age? \"))\n",
    "\n",
    "if age >= 18:\n",
    "    print(\"Congratulations! You are able to vote.\")\n",
    "else:\n",
    "    print(\"You are not eligible to vote.\")"
   ]
  },
  {
   "cell_type": "markdown",
   "id": "0cc9fa4e",
   "metadata": {},
   "source": [
    "---"
   ]
  },
  {
   "cell_type": "markdown",
   "id": "3e53e2c5",
   "metadata": {},
   "source": [
    "## While Loop:\n",
    "### 7. Write a program that prompts the user to enter numbers continuously (using a while loop) and stops taking inputs when the user enters \"q\". After that, display the sum of all the numbers created."
   ]
  },
  {
   "cell_type": "code",
   "execution_count": 16,
   "id": "2c8ea2e1",
   "metadata": {},
   "outputs": [
    {
     "name": "stdout",
     "output_type": "stream",
     "text": [
      "Enter in a number. Type 'q' when ready to quit: 24\n",
      "Enter in a number. Type 'q' when ready to quit: 68\n",
      "Enter in a number. Type 'q' when ready to quit: 94\n",
      "Enter in a number. Type 'q' when ready to quit: 2\n",
      "Enter in a number. Type 'q' when ready to quit: q\n",
      "The sum of all the numbers you entered is 188\n"
     ]
    }
   ],
   "source": [
    "numbers=\"\"\n",
    "total=[]\n",
    "\n",
    "while numbers!=\"q\":\n",
    "    numbers=input(\"Enter in a number. Type 'q' when ready to quit: \")\n",
    "    total.append(numbers)\n",
    "\n",
    "total.remove('q') # This removes the \"q\" string from the list\n",
    "total\n",
    "int_total = list(map(int,total)) # This turns the total list into integers\n",
    "total_sum = sum(int_total)\n",
    "\n",
    "print(\"The sum of all the numbers you entered is\", total_sum)"
   ]
  },
  {
   "cell_type": "code",
   "execution_count": 17,
   "id": "54cd5194",
   "metadata": {},
   "outputs": [],
   "source": [
    "# This took me so long to figure out..."
   ]
  },
  {
   "cell_type": "markdown",
   "id": "cd763a18",
   "metadata": {},
   "source": [
    "## 8. Create a Python program. using a while loop that prints numbers from 10 down to 1 and then prints \"LIFTOFFFFF!\""
   ]
  },
  {
   "cell_type": "code",
   "execution_count": 18,
   "id": "185e86ff",
   "metadata": {},
   "outputs": [
    {
     "name": "stdout",
     "output_type": "stream",
     "text": [
      "Countdown commencing...\n",
      "10\n",
      "9\n",
      "8\n",
      "7\n",
      "6\n",
      "5\n",
      "4\n",
      "3\n",
      "2\n",
      "1\n",
      "LIFTOFFF!!!!\n"
     ]
    }
   ],
   "source": [
    "x = 10\n",
    "\n",
    "print(\"Countdown commencing...\")\n",
    "while x>0:\n",
    "    print(x)\n",
    "    x=x-1\n",
    "    \n",
    "print(\"LIFTOFFF!!!!\")"
   ]
  },
  {
   "cell_type": "markdown",
   "id": "1f5cf17d",
   "metadata": {},
   "source": [
    "### 9. Create a program that asks the user for a number and then prints out the multiplication table for that number using a while loop."
   ]
  },
  {
   "cell_type": "code",
   "execution_count": 19,
   "id": "0616220a",
   "metadata": {},
   "outputs": [
    {
     "name": "stdout",
     "output_type": "stream",
     "text": [
      "Enter a # to get its multiplication table up to that number: 12\n",
      "12  *  1  =  12\n",
      "12  *  2  =  24\n",
      "12  *  3  =  36\n",
      "12  *  4  =  48\n",
      "12  *  5  =  60\n",
      "12  *  6  =  72\n",
      "12  *  7  =  84\n",
      "12  *  8  =  96\n",
      "12  *  9  =  108\n",
      "12  *  10  =  120\n",
      "12  *  11  =  132\n",
      "12  *  12  =  144\n",
      "\n"
     ]
    }
   ],
   "source": [
    "numInput = int(input(\"Enter a # to get its multiplication table up to that number: \"))\n",
    "num = numInput\n",
    "\n",
    "while num <= numInput:\n",
    "    i = 1\n",
    "    while i <= numInput:\n",
    "        product = num*i\n",
    "        print(num, \" * \", i, \" = \", product)\n",
    "        i = i + 1\n",
    "    print(\"\") \n",
    "    break # this line of code stops the loop "
   ]
  },
  {
   "cell_type": "markdown",
   "id": "94089cec",
   "metadata": {},
   "source": [
    "---"
   ]
  },
  {
   "cell_type": "markdown",
   "id": "e7da1ae9",
   "metadata": {},
   "source": [
    "## For Loop\n",
    "### 10. Given a list: [\"apple\", \"banana\", \"cherry\", \"date\"], use a for loop to print each fruit in the list."
   ]
  },
  {
   "cell_type": "code",
   "execution_count": 20,
   "id": "fcf24ffe",
   "metadata": {},
   "outputs": [
    {
     "name": "stdout",
     "output_type": "stream",
     "text": [
      "apple\n",
      "banana\n",
      "cherry\n",
      "date\n"
     ]
    }
   ],
   "source": [
    "fruits = [\"apple\", \"banana\", \"cherry\", \"date\"]\n",
    "\n",
    "for f in fruits:\n",
    "    print(f)"
   ]
  },
  {
   "cell_type": "markdown",
   "id": "77ecc81c",
   "metadata": {},
   "source": [
    "### 11. Using a for loop, calculate the factorial of a given number (n!). For example, if the given number is 5, the output should be 5x4x3x2x1=120."
   ]
  },
  {
   "cell_type": "code",
   "execution_count": 21,
   "id": "d381437e",
   "metadata": {},
   "outputs": [
    {
     "name": "stdout",
     "output_type": "stream",
     "text": [
      "Enter in a number: 6\n",
      "The factorial for this number is 720\n"
     ]
    }
   ],
   "source": [
    "n=int(input(\"Enter in a number: \"))\n",
    "factorial = 1\n",
    "\n",
    "if n>=1:\n",
    "    for i in range(1,n+1):\n",
    "        factorial=factorial*i\n",
    "print(\"The factorial for this number is\", factorial)   "
   ]
  },
  {
   "cell_type": "markdown",
   "id": "b433e259",
   "metadata": {},
   "source": [
    "### 12. Create a program using a for loop that prompts the user to enter five numbers. After all the numbers are entered, the program should display the average of the numbers."
   ]
  },
  {
   "cell_type": "code",
   "execution_count": 22,
   "id": "5fcb6809",
   "metadata": {},
   "outputs": [
    {
     "name": "stdout",
     "output_type": "stream",
     "text": [
      "Enter in 5 numbers with no spaces in between them: 88 66 44 22 2\n",
      "The average of the numbers you entered is 44.4\n"
     ]
    }
   ],
   "source": [
    "nums=list(map(int, input(\"Enter in 5 numbers with no spaces in between them: \").split()))\n",
    "\n",
    "def Avg(nums): # Making an averaging function called (Avg)\n",
    "    list_sum=0\n",
    "    for i in range(len(nums)):\n",
    "        list_sum += nums[i]\n",
    "    average=list_sum/len(nums)\n",
    "    return average\n",
    "\n",
    "average=Avg(nums)\n",
    "print(\"The average of the numbers you entered is\", round(average, 2))"
   ]
  },
  {
   "cell_type": "markdown",
   "id": "3cb53bbd",
   "metadata": {},
   "source": [
    "---"
   ]
  },
  {
   "cell_type": "code",
   "execution_count": null,
   "id": "b659d812",
   "metadata": {},
   "outputs": [],
   "source": []
  },
  {
   "cell_type": "code",
   "execution_count": null,
   "id": "bd41fe66",
   "metadata": {},
   "outputs": [],
   "source": []
  },
  {
   "cell_type": "code",
   "execution_count": null,
   "id": "f75420f5",
   "metadata": {},
   "outputs": [],
   "source": []
  }
 ],
 "metadata": {
  "kernelspec": {
   "display_name": "Python 3 (ipykernel)",
   "language": "python",
   "name": "python3"
  },
  "language_info": {
   "codemirror_mode": {
    "name": "ipython",
    "version": 3
   },
   "file_extension": ".py",
   "mimetype": "text/x-python",
   "name": "python",
   "nbconvert_exporter": "python",
   "pygments_lexer": "ipython3",
   "version": "3.11.4"
  }
 },
 "nbformat": 4,
 "nbformat_minor": 5
}
