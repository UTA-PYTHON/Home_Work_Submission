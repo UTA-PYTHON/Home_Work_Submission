{
  "nbformat": 4,
  "nbformat_minor": 0,
  "metadata": {
    "colab": {
      "provenance": []
    },
    "kernelspec": {
      "name": "python3",
      "display_name": "Python 3"
    },
    "language_info": {
      "name": "python"
    }
  },
  "cells": [
    {
      "cell_type": "markdown",
      "source": [
        "## Data Structures"
      ],
      "metadata": {
        "id": "vKumBoZDFLLi"
      }
    },
    {
      "cell_type": "markdown",
      "source": [
        "1. List and Topic\n",
        "  \n"
      ],
      "metadata": {
        "id": "fGdDZkXGFRTm"
      }
    },
    {
      "cell_type": "code",
      "source": [
        "fruits=['apple', 'banana', 'cherry']"
      ],
      "metadata": {
        "id": "ORqaVRC7FQHP"
      },
      "execution_count": 37,
      "outputs": []
    },
    {
      "cell_type": "code",
      "source": [
        "fruits = tuple(fruits)"
      ],
      "metadata": {
        "id": "vWhawHwyIChC"
      },
      "execution_count": 31,
      "outputs": []
    },
    {
      "cell_type": "code",
      "source": [
        "fruits"
      ],
      "metadata": {
        "colab": {
          "base_uri": "https://localhost:8080/"
        },
        "id": "5Hv5re4JIDF1",
        "outputId": "010f8b77-ba25-4c1b-877d-f91e45fc2f73"
      },
      "execution_count": 32,
      "outputs": [
        {
          "output_type": "execute_result",
          "data": {
            "text/plain": [
              "('apple', 'banana', 'cherry')"
            ]
          },
          "metadata": {},
          "execution_count": 32
        }
      ]
    },
    {
      "cell_type": "code",
      "source": [
        "fruits= [*fruits,]"
      ],
      "metadata": {
        "id": "o8ZlFTsKIDwL"
      },
      "execution_count": 33,
      "outputs": []
    },
    {
      "cell_type": "code",
      "source": [
        "fruits"
      ],
      "metadata": {
        "colab": {
          "base_uri": "https://localhost:8080/"
        },
        "id": "-xfZGsBwIWzQ",
        "outputId": "6717c97d-e30f-498e-9f86-a0a84126147e"
      },
      "execution_count": 34,
      "outputs": [
        {
          "output_type": "execute_result",
          "data": {
            "text/plain": [
              "['apple', 'banana', 'cherry']"
            ]
          },
          "metadata": {},
          "execution_count": 34
        }
      ]
    },
    {
      "cell_type": "code",
      "source": [
        "fruits.append('orange')"
      ],
      "metadata": {
        "id": "gCEb114-IXp-"
      },
      "execution_count": 35,
      "outputs": []
    },
    {
      "cell_type": "code",
      "source": [
        "fruits"
      ],
      "metadata": {
        "colab": {
          "base_uri": "https://localhost:8080/"
        },
        "id": "ggnhQR2nIqtu",
        "outputId": "3f951dff-d50d-43b6-c489-14a8eba19b3f"
      },
      "execution_count": 36,
      "outputs": [
        {
          "output_type": "execute_result",
          "data": {
            "text/plain": [
              "['apple', 'banana', 'cherry', 'orange']"
            ]
          },
          "metadata": {},
          "execution_count": 36
        }
      ]
    },
    {
      "cell_type": "code",
      "source": [
        "## tuples are immutable"
      ],
      "metadata": {
        "id": "-rptcwSZIrf5"
      },
      "execution_count": 38,
      "outputs": []
    },
    {
      "cell_type": "markdown",
      "source": [
        "2. Dictionary:"
      ],
      "metadata": {
        "id": "QnrGvBFBJRPX"
      }
    },
    {
      "cell_type": "code",
      "source": [
        "person={'first_name': 'Nino', 'last_name': 'DelPrete', 'age': 30}"
      ],
      "metadata": {
        "id": "Ymq3oyoOJP17"
      },
      "execution_count": 40,
      "outputs": []
    },
    {
      "cell_type": "code",
      "source": [
        "person['city']={'city':'Denton' }"
      ],
      "metadata": {
        "id": "JTd1lSF4Js_H"
      },
      "execution_count": 47,
      "outputs": []
    },
    {
      "cell_type": "code",
      "source": [
        "print(person.keys())"
      ],
      "metadata": {
        "colab": {
          "base_uri": "https://localhost:8080/"
        },
        "id": "9JJfI-PaKgZC",
        "outputId": "dcff8990-321d-484e-f754-14e6eece063a"
      },
      "execution_count": 50,
      "outputs": [
        {
          "output_type": "stream",
          "name": "stdout",
          "text": [
            "dict_keys(['first_name', 'last_name', 'age', 'city'])\n"
          ]
        }
      ]
    },
    {
      "cell_type": "markdown",
      "source": [
        "## 3. Set"
      ],
      "metadata": {
        "id": "4D9eBzyeLBfX"
      }
    },
    {
      "cell_type": "code",
      "source": [
        "colors = {'red', 'blue', 'green'}"
      ],
      "metadata": {
        "id": "dQ5JrFaLKvEA"
      },
      "execution_count": 51,
      "outputs": []
    },
    {
      "cell_type": "code",
      "source": [
        "colors.add('yellow')\n",
        "removedValue = colors.discard('blue')"
      ],
      "metadata": {
        "id": "SOHYQOw5VfT_"
      },
      "execution_count": 52,
      "outputs": []
    },
    {
      "cell_type": "code",
      "source": [
        "print('pink' in colors)"
      ],
      "metadata": {
        "colab": {
          "base_uri": "https://localhost:8080/"
        },
        "id": "uYJOWxyEVxTY",
        "outputId": "0b24a04d-2823-4fb4-cb07-4451238346b8"
      },
      "execution_count": 54,
      "outputs": [
        {
          "output_type": "stream",
          "name": "stdout",
          "text": [
            "False\n"
          ]
        }
      ]
    },
    {
      "cell_type": "markdown",
      "source": [
        "## Conditional Statements"
      ],
      "metadata": {
        "id": "FZMZ2QUTWCNe"
      }
    },
    {
      "cell_type": "markdown",
      "source": [
        "4."
      ],
      "metadata": {
        "id": "KOm-FxvVWGvt"
      }
    },
    {
      "cell_type": "code",
      "source": [
        "num=float(input('Input a number:'))\n",
        "if num>0:\n",
        "  print('It is a positive number')\n",
        "elif num == 0:\n",
        "  print('It is zero')\n",
        "else:\n",
        "  print('It is a negative number')"
      ],
      "metadata": {
        "colab": {
          "base_uri": "https://localhost:8080/"
        },
        "id": "RxMncP5OV9x-",
        "outputId": "a3e45cfd-5a3c-4307-a71d-a0d55e157969"
      },
      "execution_count": 55,
      "outputs": [
        {
          "output_type": "stream",
          "name": "stdout",
          "text": [
            "Input a number:9\n",
            "It is a positive number\n"
          ]
        }
      ]
    },
    {
      "cell_type": "markdown",
      "source": [
        "**5.**"
      ],
      "metadata": {
        "id": "mCbnRKg2arG8"
      }
    },
    {
      "cell_type": "code",
      "source": [
        "list=[23,45,8,12,78,56,89]\n",
        "even_nos = [ num for num in list if num % 2 == 0]\n",
        "print('Even numbers in the list', even_nos)"
      ],
      "metadata": {
        "colab": {
          "base_uri": "https://localhost:8080/"
        },
        "id": "mp83LBZkaonY",
        "outputId": "f246474c-fd14-496b-dee9-79421a0d7a26"
      },
      "execution_count": 56,
      "outputs": [
        {
          "output_type": "stream",
          "name": "stdout",
          "text": [
            "Even numbers in the list [8, 12, 78, 56]\n"
          ]
        }
      ]
    },
    {
      "cell_type": "markdown",
      "source": [
        "**6.**"
      ],
      "metadata": {
        "id": "svL_VlyLbcuY"
      }
    },
    {
      "cell_type": "code",
      "source": [
        "age=int(input('Enter age:'))\n",
        "\n",
        "if age>= 18:\n",
        "  print('Eligible for Voting!')\n",
        "else:\n",
        "  print('Not eligible to vote.')"
      ],
      "metadata": {
        "colab": {
          "base_uri": "https://localhost:8080/"
        },
        "id": "axEWrt6lbaxO",
        "outputId": "0ef5eed0-5299-4f4c-e36d-73a072b30dea"
      },
      "execution_count": 57,
      "outputs": [
        {
          "output_type": "stream",
          "name": "stdout",
          "text": [
            "Enter age:18\n",
            "Eligible for Voting!\n"
          ]
        }
      ]
    },
    {
      "cell_type": "markdown",
      "source": [
        "**7.**"
      ],
      "metadata": {
        "id": "octKVid_cIqu"
      }
    },
    {
      "cell_type": "code",
      "source": [
        "prompt = \"Please enter a number: \"\n",
        "sum = 0\n",
        "count = 0\n",
        "while True:\n",
        "    s = input(prompt)\n",
        "    prompt = \"Please enter another number: \"\n",
        "    if s.lower() == 'q':\n",
        "        break\n",
        "    try:\n",
        "        sum += float(s)\n",
        "        count += 1\n",
        "    except ValueError:\n",
        "        print(\"Bad number.  Try again\")\n",
        "print(\"You entered %s numbers whose sum is %s.\" % (count, sum))"
      ],
      "metadata": {
        "colab": {
          "base_uri": "https://localhost:8080/"
        },
        "id": "oUZS73g2cGwZ",
        "outputId": "39345d15-a96a-42db-eba4-9515ab5edb04"
      },
      "execution_count": 63,
      "outputs": [
        {
          "output_type": "stream",
          "name": "stdout",
          "text": [
            "Please enter a number: 5\n",
            "Please enter another number: 5\n",
            "Please enter another number: 6\n",
            "Please enter another number: 9\n",
            "Please enter another number: q\n",
            "You entered 4 numbers whose sum is 25.0.\n"
          ]
        }
      ]
    },
    {
      "cell_type": "markdown",
      "source": [
        "**8.**"
      ],
      "metadata": {
        "id": "10j3o87W45bg"
      }
    },
    {
      "cell_type": "code",
      "source": [
        "x = 10\n",
        "while x > 0:\n",
        "    print(x)\n",
        "    x = x - 1\n",
        "\n",
        "\n",
        "print(\"Liftoff!\")"
      ],
      "metadata": {
        "colab": {
          "base_uri": "https://localhost:8080/"
        },
        "id": "WOtxLT8a45Bt",
        "outputId": "69212a0b-9058-449a-ec2c-da46b7702ce3"
      },
      "execution_count": 72,
      "outputs": [
        {
          "output_type": "stream",
          "name": "stdout",
          "text": [
            "10\n",
            "9\n",
            "8\n",
            "7\n",
            "6\n",
            "5\n",
            "4\n",
            "3\n",
            "2\n",
            "1\n",
            "Liftoff!\n"
          ]
        }
      ]
    },
    {
      "cell_type": "markdown",
      "source": [
        "**9.**"
      ],
      "metadata": {
        "id": "PYmiL-fD6XDc"
      }
    },
    {
      "cell_type": "code",
      "source": [
        "num = int(input(\"Enter the number: \"))\n",
        "\n",
        "print(\"Multiplication Table of\", num)\n",
        "for i in range(1, 11):\n",
        "   print(num,\"X\",i,\"=\",num * i)"
      ],
      "metadata": {
        "colab": {
          "base_uri": "https://localhost:8080/"
        },
        "id": "q1hw_mse6vwD",
        "outputId": "ed77d3c4-70b0-4362-d9c6-5eba1b03771c"
      },
      "execution_count": 74,
      "outputs": [
        {
          "output_type": "stream",
          "name": "stdout",
          "text": [
            "Enter the number: 5\n",
            "Multiplication Table of 5\n",
            "5 X 1 = 5\n",
            "5 X 2 = 10\n",
            "5 X 3 = 15\n",
            "5 X 4 = 20\n",
            "5 X 5 = 25\n",
            "5 X 6 = 30\n",
            "5 X 7 = 35\n",
            "5 X 8 = 40\n",
            "5 X 9 = 45\n",
            "5 X 10 = 50\n"
          ]
        }
      ]
    },
    {
      "cell_type": "markdown",
      "source": [
        "## For Loop"
      ],
      "metadata": {
        "id": "YuyVM1RB7zst"
      }
    },
    {
      "cell_type": "markdown",
      "source": [
        "**10.**"
      ],
      "metadata": {
        "id": "EfyJJxoE72cS"
      }
    },
    {
      "cell_type": "code",
      "source": [
        "fruitloop = ['apple', 'banana', 'cherry', 'date']\n",
        "[print(i, end=' ') for i in fruitloop]\n",
        "\n",
        "print(\"\\nIn new line\")\n",
        "[print(i) for i in fruitloop]"
      ],
      "metadata": {
        "colab": {
          "base_uri": "https://localhost:8080/"
        },
        "id": "x650npSJ715X",
        "outputId": "0fca5010-d174-4846-af86-f8601249e143"
      },
      "execution_count": 77,
      "outputs": [
        {
          "output_type": "stream",
          "name": "stdout",
          "text": [
            "apple banana cherry date \n",
            "In new line\n",
            "apple\n",
            "banana\n",
            "cherry\n",
            "date\n"
          ]
        },
        {
          "output_type": "execute_result",
          "data": {
            "text/plain": [
              "[None, None, None, None]"
            ]
          },
          "metadata": {},
          "execution_count": 77
        }
      ]
    },
    {
      "cell_type": "markdown",
      "source": [
        "**11.**"
      ],
      "metadata": {
        "id": "LpQ71hWa8euB"
      }
    },
    {
      "cell_type": "code",
      "source": [
        "n = int(input(\"Enter a number: \"))\n",
        "\n",
        "factorial = 1\n",
        "\n",
        "if n < 0:\n",
        "   print(\"Factors do not exist for negative numbers.\")\n",
        "elif n == 0:\n",
        "   print(\"The factorial of 0 is 1.\")\n",
        "else:\n",
        "   for i in range(1,n + 1):\n",
        "       factorial = factorial*i\n",
        "   print(\"The factorial of\",n,\"is\",factorial)"
      ],
      "metadata": {
        "colab": {
          "base_uri": "https://localhost:8080/"
        },
        "id": "p9mCmhKa8D4l",
        "outputId": "b54e2d1b-7e32-422c-ed99-40d7b52bdcd2"
      },
      "execution_count": 82,
      "outputs": [
        {
          "output_type": "stream",
          "name": "stdout",
          "text": [
            "Enter a number: 4\n",
            "The factorial of 4 is 24\n"
          ]
        }
      ]
    },
    {
      "cell_type": "markdown",
      "source": [
        "**12.**"
      ],
      "metadata": {
        "id": "0ws9lEoI9cf6"
      }
    },
    {
      "cell_type": "code",
      "source": [
        "num1 = float(input('Enter first number: '))\n",
        "num2 = float(input('Enter second number: '))\n",
        "num3 = float(input('Enter third number: '))\n",
        "num4 = float(input('Enter four number: '))\n",
        "num5 = float(input('Enter fifth number: '))\n",
        "avg = (num1 + num2 + num3 + num4 + num5) / 5\n",
        "print('The average of numbers = %0.2f' %avg)"
      ],
      "metadata": {
        "colab": {
          "base_uri": "https://localhost:8080/"
        },
        "id": "TPCUmrvI8hlO",
        "outputId": "6acc19e3-a888-48b1-9962-4540fb8a8e0f"
      },
      "execution_count": 89,
      "outputs": [
        {
          "output_type": "stream",
          "name": "stdout",
          "text": [
            "Enter first number: 5\n",
            "Enter second number: 10\n",
            "Enter third number: 1\n",
            "Enter four number: 7\n",
            "Enter fifth number: 3\n",
            "The average of numbers = 5.20\n"
          ]
        }
      ]
    },
    {
      "cell_type": "code",
      "source": [
        "\n"
      ],
      "metadata": {
        "id": "7KdYnGxJ9ldz"
      },
      "execution_count": null,
      "outputs": []
    }
  ]
}