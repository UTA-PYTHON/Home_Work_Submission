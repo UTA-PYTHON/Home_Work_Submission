{
  "nbformat": 4,
  "nbformat_minor": 0,
  "metadata": {
    "colab": {
      "provenance": []
    },
    "kernelspec": {
      "name": "python3",
      "display_name": "Python 3"
    },
    "language_info": {
      "name": "python"
    }
  },
  "cells": [
    {
      "cell_type": "markdown",
      "source": [
        "Create a list named fruits containing the following: \"apple\", \"banana\", \"cherry\".\n",
        "\n",
        "○ Convert this list into a tuple.\n",
        "\n",
        "○ Add \"orange\" to the list of fruits.\n",
        "\n",
        "○ Show the difference in the content of the list and tuple after the addition"
      ],
      "metadata": {
        "id": "a2Z0i40WYlXT"
      }
    },
    {
      "cell_type": "code",
      "source": [
        "fruits=['apple', 'banana', 'cherry']\n",
        "tupl_e=tuple(fruits)"
      ],
      "metadata": {
        "id": "loAq10sQY_ie"
      },
      "execution_count": 8,
      "outputs": []
    },
    {
      "cell_type": "code",
      "source": [
        "fruits.append('orange')"
      ],
      "metadata": {
        "id": "GFRFFDTiZZRM"
      },
      "execution_count": 9,
      "outputs": []
    },
    {
      "cell_type": "code",
      "source": [
        "tupl_e"
      ],
      "metadata": {
        "colab": {
          "base_uri": "https://localhost:8080/"
        },
        "id": "39QRKZ2yZzZ1",
        "outputId": "ec555de5-df8a-4446-d1fe-7e05d7b33ae1"
      },
      "execution_count": 10,
      "outputs": [
        {
          "output_type": "execute_result",
          "data": {
            "text/plain": [
              "('apple', 'banana', 'cherry')"
            ]
          },
          "metadata": {},
          "execution_count": 10
        }
      ]
    },
    {
      "cell_type": "code",
      "source": [
        "fruits"
      ],
      "metadata": {
        "colab": {
          "base_uri": "https://localhost:8080/"
        },
        "id": "uJ6KCBdNZ_pR",
        "outputId": "85a4b8b8-5e0c-4855-a572-2f0cee8b5181"
      },
      "execution_count": 11,
      "outputs": [
        {
          "output_type": "execute_result",
          "data": {
            "text/plain": [
              "['apple', 'banana', 'cherry', 'orange']"
            ]
          },
          "metadata": {},
          "execution_count": 11
        }
      ]
    },
    {
      "cell_type": "markdown",
      "source": [
        "Create a dictionary named person with keys \"first_name\", \"last_name\", and \"age\".\n",
        "Populate it with values of your choice.\n",
        "\n",
        "○ Add a new key-value pair, \"city\" with a value of your choice.\n",
        "\n",
        "○ Display the keys in the dictionary using a Python command."
      ],
      "metadata": {
        "id": "SCaMaKOGapwk"
      }
    },
    {
      "cell_type": "code",
      "source": [
        "person={'first_name': 'fiyin', 'last_name': 'olaniyi', 'age': '21'}"
      ],
      "metadata": {
        "id": "Z9HgjdTPawMl"
      },
      "execution_count": 12,
      "outputs": []
    },
    {
      "cell_type": "code",
      "source": [
        "person['city']=['arlington']"
      ],
      "metadata": {
        "id": "QBqmHqXSbIqf"
      },
      "execution_count": 13,
      "outputs": []
    },
    {
      "cell_type": "code",
      "source": [
        "person.keys()"
      ],
      "metadata": {
        "colab": {
          "base_uri": "https://localhost:8080/"
        },
        "id": "1txyzV0AbpCN",
        "outputId": "4d3ace18-784d-44b3-8739-9311d1887fdf"
      },
      "execution_count": 15,
      "outputs": [
        {
          "output_type": "execute_result",
          "data": {
            "text/plain": [
              "dict_keys(['first_name', 'last_name', 'age', 'city'])"
            ]
          },
          "metadata": {},
          "execution_count": 15
        }
      ]
    },
    {
      "cell_type": "markdown",
      "source": [
        "Create a set named colors with the values \"red\", \"blue\", \"green\".\n",
        "\n",
        "○ Add \"yellow\" to the set and remove \"blue\".\n",
        "\n",
        "○ Check if \"pink\" is in the set and display the result."
      ],
      "metadata": {
        "id": "VL6Suh47b5WH"
      }
    },
    {
      "cell_type": "code",
      "source": [
        "colors={'red','blue','green'}"
      ],
      "metadata": {
        "id": "o8SaWcXhcA9U"
      },
      "execution_count": 16,
      "outputs": []
    },
    {
      "cell_type": "code",
      "source": [
        "colors.add('yellow')"
      ],
      "metadata": {
        "id": "YAxo5frScqbS"
      },
      "execution_count": 21,
      "outputs": []
    },
    {
      "cell_type": "code",
      "source": [
        "colors.remove('blue')"
      ],
      "metadata": {
        "id": "We23OLCwc0C8"
      },
      "execution_count": 22,
      "outputs": []
    },
    {
      "cell_type": "code",
      "source": [
        "'pink'in colors"
      ],
      "metadata": {
        "colab": {
          "base_uri": "https://localhost:8080/"
        },
        "id": "CdQBVkHWdiGj",
        "outputId": "decef795-d3a7-43b5-a189-3df49c3e1b08"
      },
      "execution_count": 23,
      "outputs": [
        {
          "output_type": "execute_result",
          "data": {
            "text/plain": [
              "False"
            ]
          },
          "metadata": {},
          "execution_count": 23
        }
      ]
    },
    {
      "cell_type": "code",
      "source": [
        "colors"
      ],
      "metadata": {
        "colab": {
          "base_uri": "https://localhost:8080/"
        },
        "id": "WuTqrJWndpBb",
        "outputId": "b5ff00c1-1680-4b06-ad7c-d0ba61f84dbd"
      },
      "execution_count": 24,
      "outputs": [
        {
          "output_type": "execute_result",
          "data": {
            "text/plain": [
              "{'green', 'red', 'yellow'}"
            ]
          },
          "metadata": {},
          "execution_count": 24
        }
      ]
    },
    {
      "cell_type": "markdown",
      "source": [
        "Write a Python program that takes an input from the user and checks if the number is positive,\n",
        "negative, or zero.\n"
      ],
      "metadata": {
        "id": "mVXPiAqheKJq"
      }
    },
    {
      "cell_type": "code",
      "source": [
        "num=int(input('random number'))\n",
        "if num>0:\n",
        "  print('Positive')\n",
        "elif num==0:\n",
        "  print('Zero')\n",
        "else:\n",
        "  print('Negative sorry')\n"
      ],
      "metadata": {
        "colab": {
          "base_uri": "https://localhost:8080/"
        },
        "id": "Kr0-_MfqeLjL",
        "outputId": "75890cf6-037d-4100-acae-afe9e196ef5b"
      },
      "execution_count": 26,
      "outputs": [
        {
          "output_type": "stream",
          "name": "stdout",
          "text": [
            "random number12\n",
            "Positive\n"
          ]
        }
      ]
    },
    {
      "cell_type": "markdown",
      "source": [
        "Given a list of numbers: [23, 45, 8, 12, 78, 56, 89], write a Python program that prints out all even\n",
        "numbers from the list using a conditional statement."
      ],
      "metadata": {
        "id": "2gUSE4XukPOe"
      }
    },
    {
      "cell_type": "code",
      "source": [
        "numbers=[23,45,8,12,78,56,89]"
      ],
      "metadata": {
        "id": "Y9o9Pl04kU0T"
      },
      "execution_count": 27,
      "outputs": []
    },
    {
      "cell_type": "code",
      "source": [
        "for i in numbers:\n",
        "  if i%2==0:\n",
        "    print(i)"
      ],
      "metadata": {
        "colab": {
          "base_uri": "https://localhost:8080/"
        },
        "id": "bkWIxtS6kirB",
        "outputId": "8c4732e0-2847-4c25-d7ff-bbe76c2a6cdf"
      },
      "execution_count": 28,
      "outputs": [
        {
          "output_type": "stream",
          "name": "stdout",
          "text": [
            "8\n",
            "12\n",
            "78\n",
            "56\n"
          ]
        }
      ]
    },
    {
      "cell_type": "markdown",
      "source": [
        "Write a program that asks the user to enter their age. Based on the user's input, determine if they\n",
        "are eligible to vote (consider the voting age as 18)."
      ],
      "metadata": {
        "id": "IZO02l1zmbTE"
      }
    },
    {
      "cell_type": "code",
      "source": [
        "age=int(input('your age?'))\n",
        "if age>=18:\n",
        "  print('You can vote')\n",
        "else:\n",
        "  print('Not eligible')"
      ],
      "metadata": {
        "colab": {
          "base_uri": "https://localhost:8080/"
        },
        "id": "koY4jKsVmmmp",
        "outputId": "4b4729b6-9ca0-4823-d6ef-3d04d34695d7"
      },
      "execution_count": 31,
      "outputs": [
        {
          "output_type": "stream",
          "name": "stdout",
          "text": [
            "your age?13\n",
            "Not eligible\n"
          ]
        }
      ]
    },
    {
      "cell_type": "markdown",
      "source": [
        "Write a program that prompts the user to enter numbers continuously (using a while loop) and\n",
        "stops taking inputs when the user enters 'q'. After that, display the sum of all the numbers entered"
      ],
      "metadata": {
        "id": "O-8NQzP1od3S"
      }
    },
    {
      "cell_type": "code",
      "source": [
        "sum=0\n",
        "\n",
        "while True:\n",
        "  numbers=int(input('Enter number'))\n",
        "  if numbers==\"q\":\n",
        "    break\n",
        "  else:\n",
        "    t=int(numbers)\n",
        "    sum=sum+t\n",
        "print(sum)"
      ],
      "metadata": {
        "colab": {
          "base_uri": "https://localhost:8080/"
        },
        "id": "pYDaBg83pr-s",
        "outputId": "5e581782-2c50-424b-8ffd-72c147ceda0f"
      },
      "execution_count": 37,
      "outputs": [
        {
          "output_type": "stream",
          "name": "stdout",
          "text": [
            "12\n",
            "14\n",
            "20\n",
            "q\n",
            "46\n"
          ]
        }
      ]
    },
    {
      "cell_type": "markdown",
      "source": [
        "Create a Python program using a while loop that prints numbers from 10 down to 1 and then\n",
        "prints \"Liftoff!\".\n"
      ],
      "metadata": {
        "id": "d1giKZiuubzD"
      }
    },
    {
      "cell_type": "code",
      "source": [
        "variable=10\n",
        "while variable>0:\n",
        "  print(variable)\n",
        "  variable=variable-1\n",
        "else:\n",
        " print('Liftoff!')"
      ],
      "metadata": {
        "colab": {
          "base_uri": "https://localhost:8080/"
        },
        "id": "uQFvE-mduhKq",
        "outputId": "6336a03a-da5c-45f5-c69a-3bbb685aae3e"
      },
      "execution_count": 42,
      "outputs": [
        {
          "output_type": "stream",
          "name": "stdout",
          "text": [
            "10\n",
            "9\n",
            "8\n",
            "7\n",
            "6\n",
            "5\n",
            "4\n",
            "3\n",
            "2\n",
            "1\n",
            "Liftoff!\n"
          ]
        }
      ]
    },
    {
      "cell_type": "markdown",
      "source": [
        "Create a program that asks the user for a number and then prints out the multiplication table for\n",
        "that number using a while loop."
      ],
      "metadata": {
        "id": "ACRi1ziL1ss1"
      }
    },
    {
      "cell_type": "code",
      "source": [
        "p=int(input('enter number'))\n",
        "x=0\n",
        "\n",
        "while x<=10:\n",
        "  print(p,'*',x,'=',p*x)\n",
        "  x+=1"
      ],
      "metadata": {
        "colab": {
          "base_uri": "https://localhost:8080/"
        },
        "id": "79q4Pa3h1usy",
        "outputId": "d5e915e6-4340-46d3-9ddd-df6674a06625"
      },
      "execution_count": 49,
      "outputs": [
        {
          "output_type": "stream",
          "name": "stdout",
          "text": [
            "enter number4\n",
            "4 * 0 = 0\n",
            "4 * 1 = 4\n",
            "4 * 2 = 8\n",
            "4 * 3 = 12\n",
            "4 * 4 = 16\n",
            "4 * 5 = 20\n",
            "4 * 6 = 24\n",
            "4 * 7 = 28\n",
            "4 * 8 = 32\n",
            "4 * 9 = 36\n",
            "4 * 10 = 40\n"
          ]
        }
      ]
    },
    {
      "cell_type": "markdown",
      "source": [
        "Given a list: [\"apple\", \"banana\", \"cherry\", \"date\"], use a for loop to print each fruit in the list."
      ],
      "metadata": {
        "id": "9lIG06J-8FQU"
      }
    },
    {
      "cell_type": "code",
      "source": [
        "list=['apple','banana','cherry','date']"
      ],
      "metadata": {
        "id": "oYeo-knl8aVD"
      },
      "execution_count": 50,
      "outputs": []
    },
    {
      "cell_type": "code",
      "source": [
        "for f in list:\n",
        "  print(f)"
      ],
      "metadata": {
        "colab": {
          "base_uri": "https://localhost:8080/"
        },
        "id": "kfvhHRKn8n7Y",
        "outputId": "2f60ad4f-da0f-415d-88ca-b579cd16c4e0"
      },
      "execution_count": 51,
      "outputs": [
        {
          "output_type": "stream",
          "name": "stdout",
          "text": [
            "apple\n",
            "banana\n",
            "cherry\n",
            "date\n"
          ]
        }
      ]
    },
    {
      "cell_type": "markdown",
      "source": [
        "Using a for loop, calculate the factorial of a given number (n!). For example, if the given number\n",
        "is 5, the output should be 5 x 4 x 3 x 2 x 1 = 120."
      ],
      "metadata": {
        "id": "zxjRsukoAuvT"
      }
    },
    {
      "cell_type": "code",
      "source": [
        "num=int(input(\"Enter a number: \"))\n",
        "\n",
        "factorial=1\n",
        "for a in range(1,num):\n",
        "  factorial=factorial*a\n",
        "print(\"Factorial of\", a, \"is\", factorial)"
      ],
      "metadata": {
        "colab": {
          "base_uri": "https://localhost:8080/"
        },
        "id": "a2I2lvabBAYn",
        "outputId": "b19999d5-2e3e-485a-fcc2-f1c4320f76b2"
      },
      "execution_count": 52,
      "outputs": [
        {
          "output_type": "stream",
          "name": "stdout",
          "text": [
            "Enter a number: 7\n",
            "Factorial of 6 is 720\n"
          ]
        }
      ]
    },
    {
      "cell_type": "code",
      "source": [
        "a=int(input(\"Enter 1st number:\"))\n",
        "b=int(input(\"Enter 2nd number:\"))\n",
        "c=int(input(\"Enter 3rd number:\"))\n",
        "d=int(input(\"Enter 4th number:\"))\n",
        "e=int(input(\"Enter 5th number:\"))\n",
        "\n",
        "sum=a+b+c+d+e\n",
        "lst=[a,b,c,d,e]\n",
        "count=len(lst)\n",
        "for p in range(a,e):\n",
        "  avg=(sum)/count\n",
        "print(avg)"
      ],
      "metadata": {
        "colab": {
          "base_uri": "https://localhost:8080/"
        },
        "id": "tYOmeVesCnQY",
        "outputId": "fd3b3372-ef6f-44ae-eea0-6fce0b76a371"
      },
      "execution_count": 53,
      "outputs": [
        {
          "output_type": "stream",
          "name": "stdout",
          "text": [
            "Enter 1st number:12\n",
            "Enter 2nd number:34\n",
            "Enter 3rd number:43\n",
            "Enter 4th number:89\n",
            "Enter 5th number:45\n",
            "44.6\n"
          ]
        }
      ]
    },
    {
      "cell_type": "code",
      "source": [],
      "metadata": {
        "id": "2jDoOTxfK6a3"
      },
      "execution_count": 53,
      "outputs": []
    }
  ]
}