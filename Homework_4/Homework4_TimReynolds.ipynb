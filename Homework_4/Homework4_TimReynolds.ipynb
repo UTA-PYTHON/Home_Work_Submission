{
  "nbformat": 4,
  "nbformat_minor": 0,
  "metadata": {
    "colab": {
      "provenance": []
    },
    "kernelspec": {
      "name": "python3",
      "display_name": "Python 3"
    },
    "language_info": {
      "name": "python"
    }
  },
  "cells": [
    {
      "cell_type": "markdown",
      "source": [
        "# **List and Tuple:**\n",
        "- Create a list named fruits containing the following: \"apple\", \"banana\", \"cherry\".\n",
        "- Convert this list into a tuple.\n",
        "- Add \"orange\" to the list of fruits.\n",
        "- Show the difference in the content of the list and tuple after the addition."
      ],
      "metadata": {
        "id": "G8EorQjsDOt5"
      }
    },
    {
      "cell_type": "code",
      "execution_count": null,
      "metadata": {
        "colab": {
          "base_uri": "https://localhost:8080/"
        },
        "id": "p9YmhwdBDN49",
        "outputId": "8d260b2a-301c-47ae-8671-096960826528"
      },
      "outputs": [
        {
          "output_type": "stream",
          "name": "stdout",
          "text": [
            "List =  ['apple', 'banana', 'cherry', 'orange'] \n",
            "Tuple =  ('apple', 'banana', 'cherry')\n"
          ]
        }
      ],
      "source": [
        "fruits = [\"apple\", \"banana\", \"cherry\"]\n",
        "a = tuple(fruits)\n",
        "fruits.append(\"orange\")\n",
        "print(\"List = \",fruits,\"\\nTuple = \",a)"
      ]
    },
    {
      "cell_type": "markdown",
      "source": [
        "# **Dictionary:**\n",
        "- Create a dictionary named person with keys \"first_name\", \"last_name\", and \"age\".\n",
        "Populate it with values of your choice.\n",
        "- Add a new key-value pair, \"city\" with a value of your choice.\n",
        "- Display the keys in the dictionary using a Python command."
      ],
      "metadata": {
        "id": "DcHt6-5MHj1E"
      }
    },
    {
      "cell_type": "code",
      "source": [
        "person = {\"first_name\":\"Tim\",\"last_name\":\"Reynolds\",\"age\":23}\n",
        "person[\"city\"] = \"Arlington\"\n",
        "print(\"Person keys =\",person.keys())"
      ],
      "metadata": {
        "colab": {
          "base_uri": "https://localhost:8080/"
        },
        "id": "UQWcjQ3XEc_-",
        "outputId": "f1ffdbae-b3d1-42c1-85d8-774afb944536"
      },
      "execution_count": null,
      "outputs": [
        {
          "output_type": "stream",
          "name": "stdout",
          "text": [
            "Person keys = dict_keys(['first_name', 'last_name', 'age', 'city'])\n"
          ]
        }
      ]
    },
    {
      "cell_type": "markdown",
      "source": [
        "# **Set:**\n",
        "- Create a set named colors with the values \"red\", \"blue\", \"green\".\n",
        "- Add \"yellow\" to the set and remove \"blue\".\n",
        "- Check if \"pink\" is in the set and display the result."
      ],
      "metadata": {
        "id": "SLff4yVAHtKA"
      }
    },
    {
      "cell_type": "code",
      "source": [
        "colors = {\"red\",\"blue\",\"green\"}\n",
        "colors.add(\"yellow\"),colors.remove(\"blue\")\n",
        "\"pink\" in colors"
      ],
      "metadata": {
        "colab": {
          "base_uri": "https://localhost:8080/"
        },
        "id": "eLKiOnAkF9k7",
        "outputId": "73d67593-c3fe-4588-e33d-d2f489233bab"
      },
      "execution_count": null,
      "outputs": [
        {
          "output_type": "execute_result",
          "data": {
            "text/plain": [
              "False"
            ]
          },
          "metadata": {},
          "execution_count": 18
        }
      ]
    },
    {
      "cell_type": "markdown",
      "source": [
        "# **Conditional Statements:**\n",
        "4. Write a Python program that takes an input from the user and checks if the number is positive,\n",
        "negative, or zero.\n",
        "5. Given a list of numbers: [23, 45, 8, 12, 78, 56, 89], write a Python program that prints out all even\n",
        "numbers from the list using a conditional statement.\n",
        "6. Write a program that asks the user to enter their age. Based on the user's input, determine if they\n",
        "are eligible to vote (consider the voting age as 18)"
      ],
      "metadata": {
        "id": "onc2pbs_H8tw"
      }
    },
    {
      "cell_type": "code",
      "source": [
        "# 4.\n",
        "num = int(input(\"Enter a number\"))\n",
        "if num > 0:\n",
        "  print(\"Number is Positive\")\n",
        "elif num == 0:\n",
        "  print(\"Number is Zero\")\n",
        "else:\n",
        "  print(\"Number is Negative\")"
      ],
      "metadata": {
        "colab": {
          "base_uri": "https://localhost:8080/"
        },
        "id": "yFrLBRDkHX-h",
        "outputId": "3f722792-0e4c-4e53-f179-472be5aa67fe"
      },
      "execution_count": null,
      "outputs": [
        {
          "output_type": "stream",
          "name": "stdout",
          "text": [
            "Enter a number100\n",
            "Number is Positive\n"
          ]
        }
      ]
    },
    {
      "cell_type": "code",
      "source": [
        "# 5.\n",
        "jet = [23, 45, 8, 12, 78, 56, 89]\n",
        "\n",
        "for d in jet:\n",
        "  if d % 2 != 1:\n",
        "    print(d)\n",
        "  else:\n",
        "    d+1"
      ],
      "metadata": {
        "colab": {
          "base_uri": "https://localhost:8080/"
        },
        "id": "0dyjGWh_H5Gf",
        "outputId": "3969d2f0-c5f6-40e9-9f3d-0aed8f49eba7"
      },
      "execution_count": null,
      "outputs": [
        {
          "output_type": "stream",
          "name": "stdout",
          "text": [
            "8\n",
            "12\n",
            "78\n",
            "56\n"
          ]
        }
      ]
    },
    {
      "cell_type": "code",
      "source": [
        "# 6.\n",
        "age = int(input(\"Enter your age: \"))\n",
        "if age >= 18:\n",
        "  print(\"Being\", age, \"You are elligible to vote.\")\n",
        "else:\n",
        "  print(\"You only have \", 18 - age, \" years before you can vote.\\nGrow Older kid!\")"
      ],
      "metadata": {
        "colab": {
          "base_uri": "https://localhost:8080/"
        },
        "id": "ZPjDWfY3SYx5",
        "outputId": "b69e0cf8-805b-48ee-9497-95ceff5be738"
      },
      "execution_count": null,
      "outputs": [
        {
          "output_type": "stream",
          "name": "stdout",
          "text": [
            "Enter your age: 25\n",
            "Being 25 You are elligible to vote.\n"
          ]
        }
      ]
    },
    {
      "cell_type": "markdown",
      "source": [
        "# **While Loop:**\n",
        "7. Write a program that prompts the user to enter numbers continuously (using a while loop) and\n",
        "stops taking inputs when the user enters 'q'. After that, display the sum of all the numbers entered.\n",
        "8. Create a Python program using a while loop that prints numbers from 10 down to 1 and then\n",
        "prints \"Liftoff!\".\n",
        "9. Create a program that asks the user for a number and then prints out the multiplication table for\n",
        "that number using a while loop.\n"
      ],
      "metadata": {
        "id": "Z7sIsqesVfqf"
      }
    },
    {
      "cell_type": "code",
      "source": [
        "# 7.\n",
        "program = input(\"Enter number:\")\n",
        "q = \"q\"\n",
        "while program != q:\n",
        "  program = input(\"Enter number:\")"
      ],
      "metadata": {
        "colab": {
          "base_uri": "https://localhost:8080/"
        },
        "id": "IW_zUZkkVO6x",
        "outputId": "263ab05a-9ba0-4a65-ab9c-0afdb5e3ff2e"
      },
      "execution_count": null,
      "outputs": [
        {
          "name": "stdout",
          "output_type": "stream",
          "text": [
            "Enter number:1\n",
            "Enter number:2\n",
            "Enter number:\n",
            "Enter number:\n",
            "Enter number:5\n",
            "Enter number:6\n",
            "Enter number:a\n",
            "Enter number:b\n",
            "Enter number:q\n"
          ]
        }
      ]
    },
    {
      "cell_type": "code",
      "source": [
        "# 8.\n",
        "liftoff = 10\n",
        "while liftoff != 0:\n",
        "  print(liftoff)\n",
        "  liftoff -= 1\n",
        "  if liftoff == 0:\n",
        "    print(\"Liftoff!\")\n"
      ],
      "metadata": {
        "colab": {
          "base_uri": "https://localhost:8080/"
        },
        "id": "VFUKKXttWHJM",
        "outputId": "261c7259-c220-480b-d725-e1cd655d9af8"
      },
      "execution_count": null,
      "outputs": [
        {
          "output_type": "stream",
          "name": "stdout",
          "text": [
            "10\n",
            "9\n",
            "8\n",
            "7\n",
            "6\n",
            "5\n",
            "4\n",
            "3\n",
            "2\n",
            "1\n",
            "Liftoff!\n"
          ]
        }
      ]
    },
    {
      "cell_type": "code",
      "source": [
        "# 9.\n",
        "a = int(input(\"Enter number: \"))\n",
        "b = 1\n",
        "while b < 11:\n",
        "    result = a * b\n",
        "    print(a,\" * \",b,\" = \",result)\n",
        "    b += 1"
      ],
      "metadata": {
        "colab": {
          "base_uri": "https://localhost:8080/"
        },
        "id": "mzNdidPyWwZj",
        "outputId": "0719debf-c604-47ad-9a55-78fdccfaa8ec"
      },
      "execution_count": null,
      "outputs": [
        {
          "output_type": "stream",
          "name": "stdout",
          "text": [
            "Enter number: 3\n",
            "3  *  1  =  3\n",
            "3  *  2  =  6\n",
            "3  *  3  =  9\n",
            "3  *  4  =  12\n",
            "3  *  5  =  15\n",
            "3  *  6  =  18\n",
            "3  *  7  =  21\n",
            "3  *  8  =  24\n",
            "3  *  9  =  27\n",
            "3  *  10  =  30\n"
          ]
        }
      ]
    },
    {
      "cell_type": "markdown",
      "source": [
        "# **For Loop:**\n",
        "10. Given a list: [\"apple\", \"banana\", \"cherry\", \"date\"], use a for loop to print each fruit in the list.\n",
        "11. Using a for loop, calculate the factorial of a given number (n!). For example, if the given number\n",
        "is 5, the output should be 5 x 4 x 3 x 2 x 1 = 120.\n",
        "12. Create a program using a for loop that prompts the user to enter five numbers. After all numbers\n",
        "are entered, the program should display the average of the numbers"
      ],
      "metadata": {
        "id": "7C8yH-2jeCwh"
      }
    },
    {
      "cell_type": "code",
      "source": [
        "# 10.\n",
        "lolli = [\"apple\", \"banana\", \"cherry\", \"date\"]\n",
        "for f in lolli:\n",
        "  print(f)"
      ],
      "metadata": {
        "colab": {
          "base_uri": "https://localhost:8080/"
        },
        "id": "gN8wBXL-cTnJ",
        "outputId": "dec1170c-5a14-4cd3-a39b-137bbf42a910"
      },
      "execution_count": null,
      "outputs": [
        {
          "output_type": "stream",
          "name": "stdout",
          "text": [
            "apple\n",
            "banana\n",
            "cherry\n",
            "date\n"
          ]
        }
      ]
    },
    {
      "cell_type": "code",
      "source": [
        "# 11.\n",
        "pop = 5\n",
        "rain = 1\n",
        "if pop >= 1:\n",
        "  for i in range (1, pop+1):\n",
        "    rain = rain * i\n",
        "print(\"Sum is \", rain)"
      ],
      "metadata": {
        "colab": {
          "base_uri": "https://localhost:8080/"
        },
        "id": "uUiMP5nbeWEq",
        "outputId": "0ac702f6-f70b-4468-f2f3-1b8090f7953c"
      },
      "execution_count": null,
      "outputs": [
        {
          "output_type": "stream",
          "name": "stdout",
          "text": [
            "Sum is  120\n"
          ]
        }
      ]
    },
    {
      "cell_type": "code",
      "source": [
        "# 12.\n",
        "fish = [int(input()),int(input()),int(input()),int(input()),int(input())]\n",
        "add = 0\n",
        "for i in fish:\n",
        "  add += i\n",
        "avg = add / 5\n",
        "print(\"Average = \",avg)\n"
      ],
      "metadata": {
        "colab": {
          "base_uri": "https://localhost:8080/"
        },
        "id": "WdjYqs0TfaFZ",
        "outputId": "b7882ae5-a442-48ec-84e2-50322e079eda"
      },
      "execution_count": null,
      "outputs": [
        {
          "output_type": "stream",
          "name": "stdout",
          "text": [
            "1\n",
            "1\n",
            "10\n",
            "20\n",
            "1\n",
            "Average =  6.6\n"
          ]
        }
      ]
    },
    {
      "cell_type": "code",
      "source": [],
      "metadata": {
        "id": "PKQ3Y80BlnG6"
      },
      "execution_count": null,
      "outputs": []
    }
  ]
}