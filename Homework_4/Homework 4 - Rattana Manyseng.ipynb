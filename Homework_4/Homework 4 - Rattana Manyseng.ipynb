{
 "cells": [
  {
   "cell_type": "markdown",
   "id": "7b9b8e90",
   "metadata": {},
   "source": [
    "## 1. List and Tuple"
   ]
  },
  {
   "cell_type": "code",
   "execution_count": 1,
   "id": "19849bca",
   "metadata": {},
   "outputs": [],
   "source": [
    "fruits = [\"apple\", \"banana\", \"cherry\"]"
   ]
  },
  {
   "cell_type": "code",
   "execution_count": 2,
   "id": "560e7f6a",
   "metadata": {},
   "outputs": [
    {
     "data": {
      "text/plain": [
       "['apple', 'banana', 'cherry']"
      ]
     },
     "execution_count": 2,
     "metadata": {},
     "output_type": "execute_result"
    }
   ],
   "source": [
    "fruits"
   ]
  },
  {
   "cell_type": "code",
   "execution_count": 10,
   "id": "431ef21b",
   "metadata": {},
   "outputs": [],
   "source": [
    "fruits = (\"apple\", \"banana\", \"cherry\")"
   ]
  },
  {
   "cell_type": "code",
   "execution_count": 11,
   "id": "59444ef3",
   "metadata": {},
   "outputs": [
    {
     "data": {
      "text/plain": [
       "('apple', 'banana', 'cherry')"
      ]
     },
     "execution_count": 11,
     "metadata": {},
     "output_type": "execute_result"
    }
   ],
   "source": [
    "fruits"
   ]
  },
  {
   "cell_type": "code",
   "execution_count": 14,
   "id": "0fcfbaee",
   "metadata": {},
   "outputs": [
    {
     "ename": "AttributeError",
     "evalue": "'tuple' object has no attribute 'append'",
     "output_type": "error",
     "traceback": [
      "\u001b[1;31m---------------------------------------------------------------------------\u001b[0m",
      "\u001b[1;31mAttributeError\u001b[0m                            Traceback (most recent call last)",
      "Cell \u001b[1;32mIn[14], line 1\u001b[0m\n\u001b[1;32m----> 1\u001b[0m fruits\u001b[38;5;241m.\u001b[39mappend(\u001b[38;5;124m'\u001b[39m\u001b[38;5;124morange\u001b[39m\u001b[38;5;124m'\u001b[39m)\n",
      "\u001b[1;31mAttributeError\u001b[0m: 'tuple' object has no attribute 'append'"
     ]
    }
   ],
   "source": [
    "fruits.append('orange')"
   ]
  },
  {
   "cell_type": "code",
   "execution_count": null,
   "id": "58360e8d",
   "metadata": {},
   "outputs": [],
   "source": [
    "Tuple shows error because a tuple cannot be altered."
   ]
  },
  {
   "cell_type": "code",
   "execution_count": 16,
   "id": "4328a088",
   "metadata": {},
   "outputs": [
    {
     "data": {
      "text/plain": [
       "['apple', 'banana', 'cherry', 'orange']"
      ]
     },
     "execution_count": 16,
     "metadata": {},
     "output_type": "execute_result"
    }
   ],
   "source": [
    "fruits"
   ]
  },
  {
   "cell_type": "markdown",
   "id": "ff948d2f",
   "metadata": {},
   "source": [
    "## 2. Dictionary"
   ]
  },
  {
   "cell_type": "code",
   "execution_count": 33,
   "id": "b964a58d",
   "metadata": {},
   "outputs": [],
   "source": [
    "person = {'first name':'Little','last name':'Mouse',\"age\":31}"
   ]
  },
  {
   "cell_type": "code",
   "execution_count": 34,
   "id": "324af456",
   "metadata": {},
   "outputs": [
    {
     "data": {
      "text/plain": [
       "{'first name': 'Little', 'last name': 'Mouse', 'age': 31}"
      ]
     },
     "execution_count": 34,
     "metadata": {},
     "output_type": "execute_result"
    }
   ],
   "source": [
    "person"
   ]
  },
  {
   "cell_type": "code",
   "execution_count": 35,
   "id": "3bb8ec18",
   "metadata": {},
   "outputs": [
    {
     "data": {
      "text/plain": [
       "dict_keys(['first name', 'last name', 'age'])"
      ]
     },
     "execution_count": 35,
     "metadata": {},
     "output_type": "execute_result"
    }
   ],
   "source": [
    "person.keys()"
   ]
  },
  {
   "cell_type": "code",
   "execution_count": 36,
   "id": "5f859c29",
   "metadata": {},
   "outputs": [
    {
     "data": {
      "text/plain": [
       "dict_values(['Little', 'Mouse', 31])"
      ]
     },
     "execution_count": 36,
     "metadata": {},
     "output_type": "execute_result"
    }
   ],
   "source": [
    "person.values()"
   ]
  },
  {
   "cell_type": "code",
   "execution_count": 40,
   "id": "8517cded",
   "metadata": {},
   "outputs": [
    {
     "data": {
      "text/plain": [
       "31"
      ]
     },
     "execution_count": 40,
     "metadata": {},
     "output_type": "execute_result"
    }
   ],
   "source": [
    "person[\"age\"]"
   ]
  },
  {
   "cell_type": "code",
   "execution_count": 45,
   "id": "c4acdc28",
   "metadata": {},
   "outputs": [
    {
     "data": {
      "text/plain": [
       "{'first name': 'Little', 'last name': 'Mouse', 'age': 31}"
      ]
     },
     "execution_count": 45,
     "metadata": {},
     "output_type": "execute_result"
    }
   ],
   "source": [
    "person"
   ]
  },
  {
   "cell_type": "code",
   "execution_count": 46,
   "id": "1eb7bbc5",
   "metadata": {},
   "outputs": [],
   "source": [
    "person[\"City\"]=\"Dallas\""
   ]
  },
  {
   "cell_type": "code",
   "execution_count": 47,
   "id": "a602a60b",
   "metadata": {},
   "outputs": [
    {
     "data": {
      "text/plain": [
       "{'first name': 'Little', 'last name': 'Mouse', 'age': 31, 'City': 'Dallas'}"
      ]
     },
     "execution_count": 47,
     "metadata": {},
     "output_type": "execute_result"
    }
   ],
   "source": [
    "person"
   ]
  },
  {
   "cell_type": "code",
   "execution_count": 49,
   "id": "d302ed61",
   "metadata": {},
   "outputs": [],
   "source": [
    "person['first name']='Little'\n",
    "person['last name']='Mouse'\n",
    "person[\"age\"]=\"31\"\n",
    "person[\"City\"]=\"Dallas\""
   ]
  },
  {
   "cell_type": "code",
   "execution_count": 50,
   "id": "0db5660e",
   "metadata": {},
   "outputs": [
    {
     "data": {
      "text/plain": [
       "{'first name': 'Little', 'last name': 'Mouse', 'age': '31', 'City': 'Dallas'}"
      ]
     },
     "execution_count": 50,
     "metadata": {},
     "output_type": "execute_result"
    }
   ],
   "source": [
    "person"
   ]
  },
  {
   "cell_type": "markdown",
   "id": "90cdd25c",
   "metadata": {},
   "source": [
    "## 3. Set"
   ]
  },
  {
   "cell_type": "code",
   "execution_count": 51,
   "id": "bd41c205",
   "metadata": {},
   "outputs": [],
   "source": [
    "colors={\"red\", \"blue\", \"green\"}"
   ]
  },
  {
   "cell_type": "code",
   "execution_count": 52,
   "id": "b9041657",
   "metadata": {},
   "outputs": [
    {
     "data": {
      "text/plain": [
       "{'blue', 'green', 'red'}"
      ]
     },
     "execution_count": 52,
     "metadata": {},
     "output_type": "execute_result"
    }
   ],
   "source": [
    "colors"
   ]
  },
  {
   "cell_type": "code",
   "execution_count": 53,
   "id": "f8e75221",
   "metadata": {},
   "outputs": [],
   "source": [
    "colors.add(\"yellow\")"
   ]
  },
  {
   "cell_type": "code",
   "execution_count": 54,
   "id": "6e83dd18",
   "metadata": {},
   "outputs": [],
   "source": [
    "colors.remove(\"blue\")"
   ]
  },
  {
   "cell_type": "code",
   "execution_count": 55,
   "id": "d0b41c91",
   "metadata": {},
   "outputs": [
    {
     "data": {
      "text/plain": [
       "{'green', 'red', 'yellow'}"
      ]
     },
     "execution_count": 55,
     "metadata": {},
     "output_type": "execute_result"
    }
   ],
   "source": [
    "colors"
   ]
  },
  {
   "cell_type": "code",
   "execution_count": 66,
   "id": "ef234d47",
   "metadata": {},
   "outputs": [],
   "source": []
  },
  {
   "cell_type": "markdown",
   "id": "071e1fac",
   "metadata": {},
   "source": [
    "## 4.Write a Python program that takes an input from the user and checks if the number is positive, negative or zero."
   ]
  },
  {
   "cell_type": "code",
   "execution_count": 71,
   "id": "8dd64d74",
   "metadata": {},
   "outputs": [
    {
     "name": "stdout",
     "output_type": "stream",
     "text": [
      "Number is Positive\n"
     ]
    }
   ],
   "source": [
    "Number = 5\n",
    "if Number == 0:\n",
    "    print(\"Number is Zero\")\n",
    "elif Number < 0:\n",
    "    print(\"Number is Negative\")\n",
    "else: \n",
    "    print (\"Number is Positive\")"
   ]
  },
  {
   "cell_type": "markdown",
   "id": "f11b0532",
   "metadata": {},
   "source": [
    "## 5. Given a list of numbers: [23, 45, 8, 12, 78, 56, 89], write a Python program that prints out all even numbers from the list using a conditional statement:"
   ]
  },
  {
   "cell_type": "code",
   "execution_count": 119,
   "id": "2ea97ed6",
   "metadata": {},
   "outputs": [
    {
     "name": "stdout",
     "output_type": "stream",
     "text": [
      "8\n",
      "12\n",
      "78\n",
      "56\n"
     ]
    }
   ],
   "source": [
    "ListA=[23,45,8,12,78,56,89]\n",
    "for num in ListA:\n",
    "    if (num % 2 == 0):\n",
    "        print(num)"
   ]
  },
  {
   "cell_type": "markdown",
   "id": "e0cde675",
   "metadata": {},
   "source": [
    "## 6. Write a program that asks the user to enter their age. Based on the user's input, determine if they are eligible to vote (consider the voting age 18)."
   ]
  },
  {
   "cell_type": "code",
   "execution_count": 138,
   "id": "eda4dbb1",
   "metadata": {},
   "outputs": [
    {
     "name": "stdout",
     "output_type": "stream",
     "text": [
      "Eligible to Vote\n"
     ]
    }
   ],
   "source": [
    "age=21\n",
    "\n",
    "if age>18:\n",
    "    print(\"Eligible to Vote\")\n",
    "else:\n",
    "    print(\"Not Eligible to Vote\")\n"
   ]
  },
  {
   "cell_type": "markdown",
   "id": "122fcc39",
   "metadata": {},
   "source": [
    "## 7. Write a program that prompts the user to enter numbers continuously (using a while loop) and stops taking inputs when the user enters 'q'. After that, display the sum of all the numbers entered."
   ]
  },
  {
   "cell_type": "code",
   "execution_count": 1,
   "id": "9d222ec3",
   "metadata": {},
   "outputs": [
    {
     "name": "stdout",
     "output_type": "stream",
     "text": [
      "enter a number: 1\n",
      "enter a number: 2\n",
      "enter a number: 3\n",
      "enter a number: 4\n",
      "enter a number: 5\n",
      "enter a number: q\n",
      "15 5 3.0\n"
     ]
    }
   ],
   "source": [
    "x=[]\n",
    "while True:\n",
    "    try:\n",
    "        line = input('enter a number: ')\n",
    "        if line == 'q':\n",
    "            break\n",
    "        x.append(int(line))\n",
    "    except:\n",
    "        pass\n",
    "print(sum(x),len(x),sum(x)/len(x))"
   ]
  },
  {
   "cell_type": "markdown",
   "id": "5111b32e",
   "metadata": {},
   "source": [
    "## 8. Create a Python program using a while loop that prints numbers from 10 down to 1 and then prints \"Liftoff!\"."
   ]
  },
  {
   "cell_type": "code",
   "execution_count": 189,
   "id": "31ebcb38",
   "metadata": {},
   "outputs": [
    {
     "name": "stdout",
     "output_type": "stream",
     "text": [
      "10\n",
      "9\n",
      "8\n",
      "7\n",
      "6\n",
      "5\n",
      "4\n",
      "3\n",
      "2\n",
      "1\n",
      "Liftoff!\n"
     ]
    }
   ],
   "source": [
    "num=10\n",
    "while num>0:\n",
    "    print(num)\n",
    "    num=num-1\n",
    "if num<1:\n",
    "    print(\"Liftoff!\")\n"
   ]
  },
  {
   "cell_type": "code",
   "execution_count": null,
   "id": "e43834a0",
   "metadata": {},
   "outputs": [],
   "source": []
  },
  {
   "cell_type": "markdown",
   "id": "2eec0fec",
   "metadata": {},
   "source": [
    "## 9.Create a program that asks the user for a number and then prints out the multiplication table for that number using a while loop."
   ]
  },
  {
   "cell_type": "code",
   "execution_count": 198,
   "id": "94cd5059",
   "metadata": {},
   "outputs": [
    {
     "name": "stdout",
     "output_type": "stream",
     "text": [
      "Enter the table :2\n",
      "Enter the starting number : 1\n",
      "Enter the limit :10\n",
      "10 * 2 = 20\n",
      "9 * 2 = 18\n",
      "8 * 2 = 16\n",
      "7 * 2 = 14\n",
      "6 * 2 = 12\n",
      "5 * 2 = 10\n",
      "4 * 2 = 8\n",
      "3 * 2 = 6\n",
      "2 * 2 = 4\n",
      "1 * 2 = 2\n"
     ]
    }
   ],
   "source": [
    "table   =int(input(\"Enter the table :\"))\n",
    "start   =int(input(\"Enter the starting number : \"))\n",
    "limit   =int(input(\"Enter the limit :\"))\n",
    "while(limit>=start):\n",
    "   print(limit,\"*\",table,\"=\",limit*table)\n",
    "   limit=limit-1"
   ]
  },
  {
   "cell_type": "markdown",
   "id": "0e1aa962",
   "metadata": {},
   "source": [
    "## 10. Given a list: [\"apple\", \"banana\", \"cherry\", \"date\"], use a for loop to print each fruit in the list."
   ]
  },
  {
   "cell_type": "code",
   "execution_count": 200,
   "id": "322d36f2",
   "metadata": {},
   "outputs": [
    {
     "name": "stdout",
     "output_type": "stream",
     "text": [
      "apple\n",
      "banana\n",
      "cherry\n",
      "date\n"
     ]
    }
   ],
   "source": [
    "fruits=[\"apple\", \"banana\", \"cherry\", \"date\"]\n",
    "\n",
    "for fruit in fruits:\n",
    "    print(fruit)"
   ]
  },
  {
   "cell_type": "markdown",
   "id": "f6fa5da8",
   "metadata": {},
   "source": [
    "## 11. Using a for loop, calculate the factorial of a given number (n!). For example, if the given number is 5, the output should be 5 x 4 x 3 x 2 x 1 = 120"
   ]
  },
  {
   "cell_type": "code",
   "execution_count": 203,
   "id": "63837589",
   "metadata": {},
   "outputs": [
    {
     "name": "stdout",
     "output_type": "stream",
     "text": [
      "5\n",
      "5 x 4 x 3 x 2 x 1 = 120\n"
     ]
    }
   ],
   "source": [
    "def factorial(n):\n",
    "        if n==0 or n==1:\n",
    "            return 1\n",
    "        else:\n",
    "            return n*factorial(n-1)\n",
    "\n",
    "n=(int(input()))\n",
    "list1=[str(i) for i in range(n,0,-1)]\n",
    "print(\" x \".join(list1),\"=\",factorial(n))"
   ]
  },
  {
   "cell_type": "markdown",
   "id": "e786320e",
   "metadata": {},
   "source": [
    "## 12.Create a program using a for loop that prompts the user to enter five numbers. After all numbers are entered, the program should display the average of the numbers"
   ]
  },
  {
   "cell_type": "code",
   "execution_count": 205,
   "id": "1b29d0ab",
   "metadata": {},
   "outputs": [
    {
     "name": "stdout",
     "output_type": "stream",
     "text": [
      "Enter number : 1\n",
      "Enter number : 2\n",
      "Enter number : 3\n",
      "Enter number : 4\n",
      "Enter number : 5\n",
      "The average : 3.0\n"
     ]
    }
   ],
   "source": [
    "nums = [] \n",
    "for i in range(5): \n",
    "    num = int(input(\"Enter number : \")) \n",
    "    nums.append(num) \n",
    " \n",
    "print(\"The average :\",sum(nums)/5) "
   ]
  }
 ],
 "metadata": {
  "celltoolbar": "Raw Cell Format",
  "kernelspec": {
   "display_name": "Python 3 (ipykernel)",
   "language": "python",
   "name": "python3"
  },
  "language_info": {
   "codemirror_mode": {
    "name": "ipython",
    "version": 3
   },
   "file_extension": ".py",
   "mimetype": "text/x-python",
   "name": "python",
   "nbconvert_exporter": "python",
   "pygments_lexer": "ipython3",
   "version": "3.11.4"
  }
 },
 "nbformat": 4,
 "nbformat_minor": 5
}
