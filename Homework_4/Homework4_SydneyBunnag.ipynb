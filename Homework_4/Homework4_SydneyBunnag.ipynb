{
  "nbformat": 4,
  "nbformat_minor": 0,
  "metadata": {
    "colab": {
      "provenance": []
    },
    "kernelspec": {
      "name": "python3",
      "display_name": "Python 3"
    },
    "language_info": {
      "name": "python"
    }
  },
  "cells": [
    {
      "cell_type": "markdown",
      "source": [
        "# 1. List and Tuple:\n",
        "- Create a list named fruits containing the following: \"apple\", \"banana\", \"cherry\".\n",
        "- Convert this list into a tuple.\n",
        "- Add \"orange\" to the list of fruits.\n",
        "- Show the difference in the content of the list and tuple after the addition."
      ],
      "metadata": {
        "id": "DEgSZzps51z_"
      }
    },
    {
      "cell_type": "code",
      "source": [
        "fruits = ['apple', 'banana', 'cherry'] #list of fruits\n",
        "\n",
        "fruits_tuple = tuple(fruits) #convert to tuple\n",
        "\n",
        "fruits.append('orange') #add orange to the list\n",
        "\n",
        "print(fruits) #show the list\n",
        "print(fruits_tuple) #show the tuple"
      ],
      "metadata": {
        "colab": {
          "base_uri": "https://localhost:8080/"
        },
        "id": "A1T6iLY66E5Y",
        "outputId": "131f5ee5-3411-4b13-dab6-45ed1fad6d79"
      },
      "execution_count": 2,
      "outputs": [
        {
          "output_type": "stream",
          "name": "stdout",
          "text": [
            "['apple', 'banana', 'cherry', 'orange']\n",
            "('apple', 'banana', 'cherry')\n"
          ]
        }
      ]
    },
    {
      "cell_type": "markdown",
      "source": [
        "#2. Dictionary:\n",
        "- Create a dictionary named person with keys \"first_name\", \"last_name\", and \"age\".\n",
        "Populate it with values of your choice.\n",
        "- Add a new key-value pair, \"city\" with a value of your choice.\n",
        "- Display the keys in the dictionary using a Python command."
      ],
      "metadata": {
        "id": "qJhHPdN36oxa"
      }
    },
    {
      "cell_type": "code",
      "source": [
        "person = {\"first_name\":\"Kazuha\",\n",
        "          \"last_name\":\"Kaedahara\",\n",
        "          \"age\":\"21\"} #dictionary\n",
        "\n",
        "person[\"city\"] = \"Inazuma\" #add new key-value pair\n",
        "person.keys() #print only keys"
      ],
      "metadata": {
        "colab": {
          "base_uri": "https://localhost:8080/"
        },
        "id": "4lPu9Re46cOu",
        "outputId": "2ac2a11b-cb4d-4911-bbc3-456095a93c78"
      },
      "execution_count": 6,
      "outputs": [
        {
          "output_type": "execute_result",
          "data": {
            "text/plain": [
              "dict_keys(['first_name', 'last_name', 'age', 'city'])"
            ]
          },
          "metadata": {},
          "execution_count": 6
        }
      ]
    },
    {
      "cell_type": "markdown",
      "source": [
        "#3. Set:\n",
        "- Create a set named colors with the values \"red\", \"blue\", \"green\".\n",
        "- Add \"yellow\" to the set and remove \"blue\".\n",
        "- Check if \"pink\" is in the set and display the result."
      ],
      "metadata": {
        "id": "UiDO27Jb8cwu"
      }
    },
    {
      "cell_type": "code",
      "source": [
        "colors = {'red','blue','green'} #init set\n",
        "colors.add('yellow') #add yellow\n",
        "colors.remove('blue') #remove blue\n",
        "\n",
        "if 'pink' in colors:\n",
        "  print(\"Pink is in the colors set\") #print if true\n",
        "else:\n",
        "  print(\"Pink is NOT in the colors set\") #else if false"
      ],
      "metadata": {
        "colab": {
          "base_uri": "https://localhost:8080/"
        },
        "id": "Q15GKWST7286",
        "outputId": "3afbe576-46e4-4110-e260-572457ed3089"
      },
      "execution_count": 7,
      "outputs": [
        {
          "output_type": "stream",
          "name": "stdout",
          "text": [
            "Pink is NOT in the colors set\n"
          ]
        }
      ]
    },
    {
      "cell_type": "markdown",
      "source": [
        "#4. Write a Python program that takes an input from the user and checks if the number is positive, negative, or zero."
      ],
      "metadata": {
        "id": "1Q77v6w39OLE"
      }
    },
    {
      "cell_type": "code",
      "source": [
        "num = int(input(\"Enter an integer:\")) #obtain user number\n",
        "\n",
        "if num>0:\n",
        "  print(\"Positive\") #>0 means positive\n",
        "elif num<0:\n",
        "  print(\"Negative\") #<0 means negative\n",
        "else:\n",
        "  print(\"Zero\") #if neither then it is 0"
      ],
      "metadata": {
        "colab": {
          "base_uri": "https://localhost:8080/"
        },
        "id": "JK-KjxNO9E3h",
        "outputId": "6aa2d511-c7d5-48d7-e064-403ef2fb7952"
      },
      "execution_count": 8,
      "outputs": [
        {
          "output_type": "stream",
          "name": "stdout",
          "text": [
            "Enter an integer:0\n",
            "Zero\n"
          ]
        }
      ]
    },
    {
      "cell_type": "markdown",
      "source": [
        "#5. Given a list of numbers: [23, 45, 8, 12, 78, 56, 89], write a Python program that prints out all even numbers from the list using a conditional statement."
      ],
      "metadata": {
        "id": "YkLZnlDB9pRG"
      }
    },
    {
      "cell_type": "code",
      "source": [
        "nums = [23,45,8,12,78,56,89] #init list of numbers\n",
        "\n",
        "for n in nums: #iterate through all numbers in list\n",
        "  if n%2 == 0: #if there is no remainder after dividing by two, it is even\n",
        "    print(\"\\n\",n) #print if even"
      ],
      "metadata": {
        "colab": {
          "base_uri": "https://localhost:8080/"
        },
        "id": "ieD2MP3M9mF2",
        "outputId": "4eb9cef2-9c11-46c2-d046-1191ed0408be"
      },
      "execution_count": 9,
      "outputs": [
        {
          "output_type": "stream",
          "name": "stdout",
          "text": [
            "\n",
            " 8\n",
            "\n",
            " 12\n",
            "\n",
            " 78\n",
            "\n",
            " 56\n"
          ]
        }
      ]
    },
    {
      "cell_type": "markdown",
      "source": [
        "#6. Write a program that asks the user to enter their age. Based on the user's input, determine if they are eligible to vote (consider the voting age as 18)."
      ],
      "metadata": {
        "id": "N9LhiQPm-Wwf"
      }
    },
    {
      "cell_type": "code",
      "source": [
        "age = int(input(\"Enter your age:\")) #get age from user\n",
        "\n",
        "if age>=18:\n",
        "  print(\"You are eligible to vote!\") #if 18 or older, can vote\n",
        "else:\n",
        "  print(\"You are NOT eligible to vote.\") #if younger then cannot vote\n"
      ],
      "metadata": {
        "colab": {
          "base_uri": "https://localhost:8080/"
        },
        "id": "XQSQaza2-L4z",
        "outputId": "181f9ce3-ae54-4845-9e24-78ef4fff88a0"
      },
      "execution_count": 10,
      "outputs": [
        {
          "output_type": "stream",
          "name": "stdout",
          "text": [
            "Enter your age:20\n",
            "You are eligible to vote!\n"
          ]
        }
      ]
    },
    {
      "cell_type": "markdown",
      "source": [
        "#7. Write a program that prompts the user to enter numbers continuously (using a while loop) and stops taking inputs when the user enters 'q'. After that, display the sum of all the numbers entered"
      ],
      "metadata": {
        "id": "mPyqFF30-03Z"
      }
    },
    {
      "cell_type": "code",
      "source": [
        "n=0 #init n for input\n",
        "sum=0 #init sum\n",
        "\n",
        "while n != 'q': #check if user entered q\n",
        "  n = input(\"Enter a number or q to quit:\") #obtain user input\n",
        "  if n != 'q': #if it is not q then add to sum or else it will break when entering q\n",
        "    sum += int(n) #accumulate sum\n",
        "\n",
        "print(sum) #print sum"
      ],
      "metadata": {
        "colab": {
          "base_uri": "https://localhost:8080/"
        },
        "id": "K6xTqnxz-zrC",
        "outputId": "01fd5e0b-ecff-4a25-f179-ae0e92896f96"
      },
      "execution_count": 14,
      "outputs": [
        {
          "output_type": "stream",
          "name": "stdout",
          "text": [
            "Enter a number or q to quit:5\n",
            "Enter a number or q to quit:5\n",
            "Enter a number or q to quit:q\n",
            "10\n"
          ]
        }
      ]
    },
    {
      "cell_type": "markdown",
      "source": [
        "#8. Create a Python program using a while loop that prints numbers from 10 down to 1 and then prints \"Liftoff!\"."
      ],
      "metadata": {
        "id": "A3jpWjyO__BS"
      }
    },
    {
      "cell_type": "code",
      "source": [
        "n=0 #init counter\n",
        "while n in range(0,10): #go from 0-10 (exclusive)\n",
        "  print(n+1) #add 1 to make it start at 1 and end at 10\n",
        "  n += 1 #add to counter\n",
        "\n",
        "print(\"Liftoff!\")#print liftoff after while loop"
      ],
      "metadata": {
        "colab": {
          "base_uri": "https://localhost:8080/"
        },
        "id": "M34FXthA_oij",
        "outputId": "a6628099-6b91-4e18-cf33-5e9c2db8fc19"
      },
      "execution_count": 18,
      "outputs": [
        {
          "output_type": "stream",
          "name": "stdout",
          "text": [
            "1\n",
            "2\n",
            "3\n",
            "4\n",
            "5\n",
            "6\n",
            "7\n",
            "8\n",
            "9\n",
            "10\n",
            "Liftoff!\n"
          ]
        }
      ]
    },
    {
      "cell_type": "markdown",
      "source": [
        "#9. Create a program that asks the user for a number and then prints out the multiplication table for that number using a while loop."
      ],
      "metadata": {
        "id": "2FBlaYs2A54K"
      }
    },
    {
      "cell_type": "code",
      "source": [
        "num = int(input(\"Enter an integer:\")) #get number from user\n",
        "n=0 #init counter\n",
        "while n in range(0,13): #mult table will go from 0-12\n",
        "  print(num, \"*\", n, \"=\", num*n) #print the mult equation and answer\n",
        "  n += 1 #update counter"
      ],
      "metadata": {
        "colab": {
          "base_uri": "https://localhost:8080/"
        },
        "id": "LUcvOpVLAitQ",
        "outputId": "5d7af409-7bcb-45a7-9b54-29b9b0d008dc"
      },
      "execution_count": 23,
      "outputs": [
        {
          "output_type": "stream",
          "name": "stdout",
          "text": [
            "Enter an integer:2\n",
            "2 * 0 = 0\n",
            "2 * 1 = 2\n",
            "2 * 2 = 4\n",
            "2 * 3 = 6\n",
            "2 * 4 = 8\n",
            "2 * 5 = 10\n",
            "2 * 6 = 12\n",
            "2 * 7 = 14\n",
            "2 * 8 = 16\n",
            "2 * 9 = 18\n",
            "2 * 10 = 20\n",
            "2 * 11 = 22\n",
            "2 * 12 = 24\n"
          ]
        }
      ]
    },
    {
      "cell_type": "markdown",
      "source": [
        "#10. Given a list: [\"apple\", \"banana\", \"cherry\", \"date\"], use a for loop to print each fruit in the list."
      ],
      "metadata": {
        "id": "Amg804_mB96G"
      }
    },
    {
      "cell_type": "code",
      "source": [
        "fruits = ['apple','banana','cherry','date'] #init list\n",
        "\n",
        "for fruit in fruits: #iterate through list\n",
        "  print(fruit) #print contents"
      ],
      "metadata": {
        "colab": {
          "base_uri": "https://localhost:8080/"
        },
        "id": "tOqsnPrTBokz",
        "outputId": "3acd0577-497c-49ba-cc5e-fa73e66eb028"
      },
      "execution_count": 24,
      "outputs": [
        {
          "output_type": "stream",
          "name": "stdout",
          "text": [
            "apple\n",
            "banana\n",
            "cherry\n",
            "date\n"
          ]
        }
      ]
    },
    {
      "cell_type": "markdown",
      "source": [
        "#11. Using a for loop, calculate the factorial of a given number (n!). For example, if the given number is 5, the output should be 5 x 4 x 3 x 2 x 1 = 120."
      ],
      "metadata": {
        "id": "742HIrSNCTVk"
      }
    },
    {
      "cell_type": "code",
      "source": [
        "num = int(input(\"Enter an integer:\")) #init num\n",
        "factorial = 1 #init factorial at 1 so it's not 0\n",
        "str1 = '' #init the string to hold output\n",
        "\n",
        "for n in range(1,num+1): #start at 1 and go to num\n",
        "  if n != 1:\n",
        "    str1 = str(n) + ' x ' + str1 #build string\n",
        "  else:\n",
        "    str1 = str(n) + str1 #this is here so there is no multiplication sign at the end\n",
        "  factorial *= n; #calc factorial\n",
        "\n",
        "print(str1,'=',factorial)"
      ],
      "metadata": {
        "colab": {
          "base_uri": "https://localhost:8080/"
        },
        "id": "Hbroe197CSnj",
        "outputId": "6ebc47d5-9382-47ea-d3cc-fe180b766562"
      },
      "execution_count": 33,
      "outputs": [
        {
          "output_type": "stream",
          "name": "stdout",
          "text": [
            "Enter an integer:5\n",
            "5 x 4 x 3 x 2 x 1 = 120\n"
          ]
        }
      ]
    },
    {
      "cell_type": "markdown",
      "source": [
        "#12. Create a program using a for loop that prompts the user to enter five numbers. After all numbers are entered, the program should display the average of the numbers."
      ],
      "metadata": {
        "id": "Zz-BBu1EEdQh"
      }
    },
    {
      "cell_type": "code",
      "source": [
        "sum = 0 #init sum as 0 or it will not calc right\n",
        "for n in range(0,5): #loop 5 times\n",
        "  num = int(input(\"Enter integer:\")) #get int\n",
        "  sum += num #accumulate sum\n",
        "print(sum/5) #divide for avg"
      ],
      "metadata": {
        "colab": {
          "base_uri": "https://localhost:8080/"
        },
        "id": "Wbgv9qJ_DteK",
        "outputId": "b8825a8e-9923-427f-8b78-5fbac6b4e767"
      },
      "execution_count": 40,
      "outputs": [
        {
          "output_type": "stream",
          "name": "stdout",
          "text": [
            "Enter integer:5\n",
            "Enter integer:5\n",
            "Enter integer:5\n",
            "Enter integer:6\n",
            "Enter integer:5\n",
            "5.2\n"
          ]
        }
      ]
    },
    {
      "cell_type": "code",
      "source": [],
      "metadata": {
        "id": "GNO26m4eFYT5"
      },
      "execution_count": null,
      "outputs": []
    }
  ]
}