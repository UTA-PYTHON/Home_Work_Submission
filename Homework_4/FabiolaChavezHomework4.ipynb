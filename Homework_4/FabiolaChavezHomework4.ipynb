{
 "cells": [
  {
   "cell_type": "markdown",
   "id": "a60c2ef4",
   "metadata": {},
   "source": [
    "# Data Structures "
   ]
  },
  {
   "cell_type": "markdown",
   "id": "8174445a",
   "metadata": {},
   "source": [
    "## List and Topic \n",
    "- create a list named fruits containing the following: \"apple\", \"banana\", \"cherry\"\n",
    "- convert this list into a tuple\n",
    "- add \"orange\" to the list of fruits \n",
    "- Show the difference in the content of the list and tuple after the additon"
   ]
  },
  {
   "cell_type": "code",
   "execution_count": 20,
   "id": "02a604d5",
   "metadata": {},
   "outputs": [],
   "source": [
    "fruits = [\"apple\",\"banana\",\"cherry\"]"
   ]
  },
  {
   "cell_type": "code",
   "execution_count": 21,
   "id": "cb91919f",
   "metadata": {},
   "outputs": [],
   "source": [
    "fruits2 =tuple(fruits)"
   ]
  },
  {
   "cell_type": "code",
   "execution_count": 22,
   "id": "57d9dadb",
   "metadata": {},
   "outputs": [],
   "source": [
    "fruits.append(\"orange\")"
   ]
  },
  {
   "cell_type": "code",
   "execution_count": 23,
   "id": "ea1f8e5a",
   "metadata": {},
   "outputs": [
    {
     "data": {
      "text/plain": [
       "['apple', 'banana', 'cherry', 'orange']"
      ]
     },
     "execution_count": 23,
     "metadata": {},
     "output_type": "execute_result"
    }
   ],
   "source": [
    "fruits"
   ]
  },
  {
   "cell_type": "code",
   "execution_count": 24,
   "id": "d2c5a9f0",
   "metadata": {},
   "outputs": [
    {
     "data": {
      "text/plain": [
       "('apple', 'banana', 'cherry')"
      ]
     },
     "execution_count": 24,
     "metadata": {},
     "output_type": "execute_result"
    }
   ],
   "source": [
    "fruits2"
   ]
  },
  {
   "cell_type": "markdown",
   "id": "13e22b8e",
   "metadata": {},
   "source": [
    "## Dictionary\n",
    "- create a dictionary named person with keys \"first_name\",\"last_name\", and \"age\" populate it with values of your choice \n",
    "- Add a new key-value pair, \"city\" with a value of your choice \n",
    "- Display the keys in the dictionary using a Python command "
   ]
  },
  {
   "cell_type": "code",
   "execution_count": 25,
   "id": "90e19d47",
   "metadata": {},
   "outputs": [],
   "source": [
    "persons = {\"first_name\": \"Fabiola\", \"last_name\": \"Chavez\", \"Age\": 19}"
   ]
  },
  {
   "cell_type": "code",
   "execution_count": 26,
   "id": "458d014e",
   "metadata": {},
   "outputs": [],
   "source": [
    "persons[\"city\"] = \"Dallas\""
   ]
  },
  {
   "cell_type": "code",
   "execution_count": 27,
   "id": "1648149e",
   "metadata": {},
   "outputs": [
    {
     "data": {
      "text/plain": [
       "{'first_name': 'Fabiola', 'last_name': 'Chavez', 'Age': 19, 'city': 'Dallas'}"
      ]
     },
     "execution_count": 27,
     "metadata": {},
     "output_type": "execute_result"
    }
   ],
   "source": [
    "persons"
   ]
  },
  {
   "cell_type": "code",
   "execution_count": 28,
   "id": "74adb4c0",
   "metadata": {},
   "outputs": [
    {
     "data": {
      "text/plain": [
       "dict_keys(['first_name', 'last_name', 'Age', 'city'])"
      ]
     },
     "execution_count": 28,
     "metadata": {},
     "output_type": "execute_result"
    }
   ],
   "source": [
    "persons.keys()"
   ]
  },
  {
   "cell_type": "markdown",
   "id": "06f38d67",
   "metadata": {},
   "source": [
    "## Set\n",
    "- create a set named colors with the values \"red\", \"blue\", \"green \n",
    "- add \"yellow\" to the set and remove \"blue \n",
    "- check if \"pink\" is in the set and display the result \n"
   ]
  },
  {
   "cell_type": "code",
   "execution_count": 82,
   "id": "63ab5edd",
   "metadata": {},
   "outputs": [],
   "source": [
    "colors = {\"red\", \"blue\",\"green\"}"
   ]
  },
  {
   "cell_type": "code",
   "execution_count": 83,
   "id": "00612fbf",
   "metadata": {},
   "outputs": [],
   "source": [
    "colors.add(\"yellow\")"
   ]
  },
  {
   "cell_type": "code",
   "execution_count": 84,
   "id": "7c885ecb",
   "metadata": {},
   "outputs": [],
   "source": [
    "colors.remove(\"blue\")"
   ]
  },
  {
   "cell_type": "code",
   "execution_count": 85,
   "id": "c3a7609b",
   "metadata": {},
   "outputs": [
    {
     "name": "stdout",
     "output_type": "stream",
     "text": [
      "pink is not in this set but the set is:  {'red', 'green', 'yellow'}\n"
     ]
    }
   ],
   "source": [
    "if \"pink\" in colors:\n",
    "    print(colors)\n",
    "else:\n",
    "    print(\"pink is not in this set but the set is: \", colors)"
   ]
  },
  {
   "cell_type": "markdown",
   "id": "b0f501c7",
   "metadata": {},
   "source": [
    "# Conditional Statements \n",
    "- write a Python program that takes an input from the user and checks if the number is positive, negative, or zero\n",
    "\n",
    "- Given a list of numbers: [23, 45, 8, 12, 78, 56, 89] write a Python program that prints out all even numbers from the list using a conditional statement\n",
    "\n",
    "- Write a program that asks the user to enter their age. Based on the user's input, determine if they are eligible to vote (consider the voting age as 18)"
   ]
  },
  {
   "cell_type": "code",
   "execution_count": 53,
   "id": "c12d8400",
   "metadata": {},
   "outputs": [
    {
     "name": "stdout",
     "output_type": "stream",
     "text": [
      "Please enter a number 0\n"
     ]
    }
   ],
   "source": [
    "num = int(input(\"Please enter a number \"))"
   ]
  },
  {
   "cell_type": "code",
   "execution_count": 55,
   "id": "2f39761c",
   "metadata": {},
   "outputs": [
    {
     "name": "stdout",
     "output_type": "stream",
     "text": [
      "this number is 0\n"
     ]
    }
   ],
   "source": [
    "if num > 0:\n",
    "    print(\"this number is positive\")\n",
    "elif num < 0:\n",
    "    print(\"this number is negative\")\n",
    "else:\n",
    "    print(\"this number is 0\")"
   ]
  },
  {
   "cell_type": "code",
   "execution_count": 56,
   "id": "5addae8e",
   "metadata": {},
   "outputs": [],
   "source": [
    "ls = [23, 45, 8, 12, 78, 56, 89]"
   ]
  },
  {
   "cell_type": "code",
   "execution_count": 86,
   "id": "9792308d",
   "metadata": {},
   "outputs": [
    {
     "name": "stdout",
     "output_type": "stream",
     "text": [
      "8\n",
      "12\n",
      "78\n",
      "56\n"
     ]
    }
   ],
   "source": [
    "for i in ls:\n",
    "    if i%2 == 0:\n",
    "        print(i)"
   ]
  },
  {
   "cell_type": "code",
   "execution_count": 63,
   "id": "340cb03e",
   "metadata": {},
   "outputs": [
    {
     "name": "stdout",
     "output_type": "stream",
     "text": [
      "Please input your age 12\n"
     ]
    }
   ],
   "source": [
    "age = int(input(\"Please input your age \"))"
   ]
  },
  {
   "cell_type": "code",
   "execution_count": 74,
   "id": "5d8418b8",
   "metadata": {},
   "outputs": [
    {
     "name": "stdout",
     "output_type": "stream",
     "text": [
      "you are not eligible to vote\n"
     ]
    }
   ],
   "source": [
    "if age >= 18:\n",
    "    print(\"you are eligible to vote\")\n",
    "else:\n",
    "    print(\"you are not eligible to vote\")"
   ]
  },
  {
   "cell_type": "markdown",
   "id": "e5290136",
   "metadata": {},
   "source": [
    "## While Loop \n",
    "- write a program that prompts the user to enter numbers continously (using a while loop) and stops taking inputs when the user enters 'q'. After that, display the sum of all numbers entered \n",
    "- Create a Python program that using a while loop that prints the numbers from 10 down to 1 and then prints \"Liftoff!\"\n",
    "- Create a program that asks the user for a number and then prints out the multiplication table for that number using a while loop "
   ]
  },
  {
   "cell_type": "code",
   "execution_count": 76,
   "id": "c50385c1",
   "metadata": {},
   "outputs": [
    {
     "name": "stdout",
     "output_type": "stream",
     "text": [
      "please enter a number 2\n",
      "2\n",
      "please enter a number 2\n",
      "2\n",
      "please enter a number 3\n",
      "3\n",
      "please enter a number q\n",
      "q\n"
     ]
    }
   ],
   "source": [
    "num = 0\n",
    "while num != \"q\":\n",
    "    num = input(\"please enter a number \")\n",
    "    print(num)"
   ]
  },
  {
   "cell_type": "code",
   "execution_count": 77,
   "id": "0c6a7a95",
   "metadata": {},
   "outputs": [
    {
     "name": "stdout",
     "output_type": "stream",
     "text": [
      "10\n",
      "9\n",
      "8\n",
      "7\n",
      "6\n",
      "5\n",
      "4\n",
      "3\n",
      "2\n",
      "1\n",
      "Liftoff!\n"
     ]
    }
   ],
   "source": [
    "num = 10\n",
    "while num > 0:\n",
    "    print(num)\n",
    "    num=num-1\n",
    "    \n",
    "print(\"Liftoff!\")"
   ]
  },
  {
   "cell_type": "code",
   "execution_count": 78,
   "id": "cb5da3f2",
   "metadata": {},
   "outputs": [
    {
     "name": "stdout",
     "output_type": "stream",
     "text": [
      "please enter a number: 2\n",
      "2 * 1 = 2\n",
      "2 * 2 = 4\n",
      "2 * 3 = 6\n",
      "2 * 4 = 8\n",
      "2 * 5 = 10\n",
      "2 * 6 = 12\n",
      "2 * 7 = 14\n",
      "2 * 8 = 16\n",
      "2 * 9 = 18\n",
      "2 * 10 = 20\n"
     ]
    }
   ],
   "source": [
    "n = 1\n",
    "c = int(input(\"please enter a number: \"))\n",
    "while n <= 10:\n",
    "    table = c*n\n",
    "    print(c,\"*\",n,\"=\", table)\n",
    "    \n",
    "    n = n+1"
   ]
  },
  {
   "cell_type": "markdown",
   "id": "e1f6fca8",
   "metadata": {},
   "source": [
    "## For Loop \n",
    "- Given a list: [\"apple\", \"banana\", \"cherry\", \"date\"] use a for loop to print each fruit in the list \n",
    "- using a for loop, calculate the factorial of a given number (n!). For example, if the given number is 5, the output should be 5 X 4 X 3 X 2 X 1 = 120\n",
    "- create a program using a for loop that prompts the user to enter five numbers. After all numbers are entered, the program should display the average of the numbers "
   ]
  },
  {
   "cell_type": "code",
   "execution_count": 79,
   "id": "e62f3767",
   "metadata": {},
   "outputs": [
    {
     "name": "stdout",
     "output_type": "stream",
     "text": [
      "apple\n",
      "banana\n",
      "cherry\n",
      "date\n"
     ]
    }
   ],
   "source": [
    "fruits = [\"apple\",\"banana\",\"cherry\",\"date\"]\n",
    "for i in fruits:\n",
    "    print (i)"
   ]
  },
  {
   "cell_type": "code",
   "execution_count": 80,
   "id": "2f2df7ac",
   "metadata": {},
   "outputs": [
    {
     "name": "stdout",
     "output_type": "stream",
     "text": [
      "Please enter a number: 5\n",
      "5 x 1 = 1\n",
      "5 x 2 = 2\n",
      "5 x 3 = 6\n",
      "5 x 4 = 24\n",
      "5 x 5 = 120\n"
     ]
    }
   ],
   "source": [
    "f = 1\n",
    "n = int(input(\"Please enter a number: \"))\n",
    "\n",
    "for i in range(1 , n+1):\n",
    "    f = i*f\n",
    "    print(n,\"x\",i,\"=\",f)"
   ]
  },
  {
   "cell_type": "code",
   "execution_count": 81,
   "id": "d7743a52",
   "metadata": {},
   "outputs": [
    {
     "name": "stdout",
     "output_type": "stream",
     "text": [
      "Please enter 5 numbers: 1\n",
      "Please enter 5 numbers: 2\n",
      "Please enter 5 numbers: 3\n",
      "Please enter 5 numbers: 4\n",
      "Please enter 5 numbers: 5\n",
      "The average of your numbers is:  3.0\n"
     ]
    }
   ],
   "source": [
    "sum = 0 \n",
    "\n",
    "for i in range(5):\n",
    "    n = (float(input(\"Please enter 5 numbers: \")))\n",
    "    sum = n + sum\n",
    "    avg = sum / 5 \n",
    "    \n",
    "print(\"The average of your numbers is: \", avg)"
   ]
  }
 ],
 "metadata": {
  "kernelspec": {
   "display_name": "Python 3 (ipykernel)",
   "language": "python",
   "name": "python3"
  },
  "language_info": {
   "codemirror_mode": {
    "name": "ipython",
    "version": 3
   },
   "file_extension": ".py",
   "mimetype": "text/x-python",
   "name": "python",
   "nbconvert_exporter": "python",
   "pygments_lexer": "ipython3",
   "version": "3.11.4"
  }
 },
 "nbformat": 4,
 "nbformat_minor": 5
}
