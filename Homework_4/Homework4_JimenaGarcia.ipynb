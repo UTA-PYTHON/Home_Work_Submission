{
  "nbformat": 4,
  "nbformat_minor": 0,
  "metadata": {
    "colab": {
      "provenance": []
    },
    "kernelspec": {
      "name": "python3",
      "display_name": "Python 3"
    },
    "language_info": {
      "name": "python"
    }
  },
  "cells": [
    {
      "cell_type": "markdown",
      "source": [
        "##**1. List and Tuple**\n"
      ],
      "metadata": {
        "id": "dovSaodMz3_5"
      }
    },
    {
      "cell_type": "markdown",
      "source": [
        "- Create a list named fruits containing the following: \"apple\",\"banana\", \"cherry\"."
      ],
      "metadata": {
        "id": "tdp46InJ0IVE"
      }
    },
    {
      "cell_type": "code",
      "source": [
        "fruits = [\"apple\",\"banana\",\"cherry\"] # Initializing list"
      ],
      "metadata": {
        "id": "u54cczhiz731"
      },
      "execution_count": 71,
      "outputs": []
    },
    {
      "cell_type": "markdown",
      "source": [
        "- Convert the list into a tuple"
      ],
      "metadata": {
        "id": "_Zat59Z20Vh1"
      }
    },
    {
      "cell_type": "code",
      "source": [
        "fruits_tuple = tuple(fruits) # Converting list into tuple"
      ],
      "metadata": {
        "id": "BHGq_4pU0T_v"
      },
      "execution_count": 72,
      "outputs": []
    },
    {
      "cell_type": "markdown",
      "source": [
        "- Add \"orange\" to the list of fruits"
      ],
      "metadata": {
        "id": "hd-tmmCV0fSn"
      }
    },
    {
      "cell_type": "code",
      "source": [
        "fruits.append(\"orange\") # Adding orange to list"
      ],
      "metadata": {
        "id": "LKRG--dk0diA"
      },
      "execution_count": 73,
      "outputs": []
    },
    {
      "cell_type": "markdown",
      "source": [
        "- Show the difference in the content of the list and tuple after the addition"
      ],
      "metadata": {
        "id": "6BLLSgLN0yj2"
      }
    },
    {
      "cell_type": "code",
      "source": [
        "print(fruits) # printing fruits set and tuple\n",
        "print(fruits_tuple)"
      ],
      "metadata": {
        "colab": {
          "base_uri": "https://localhost:8080/"
        },
        "id": "han3YbUs0wNq",
        "outputId": "2b45c733-1246-4af0-ba42-5ea3df3fc62a"
      },
      "execution_count": 74,
      "outputs": [
        {
          "output_type": "stream",
          "name": "stdout",
          "text": [
            "['apple', 'banana', 'cherry', 'orange']\n",
            "('apple', 'banana', 'cherry')\n"
          ]
        }
      ]
    },
    {
      "cell_type": "markdown",
      "source": [
        "## **2. Dictionary**"
      ],
      "metadata": {
        "id": "2kg-Wrx-1Qu8"
      }
    },
    {
      "cell_type": "markdown",
      "source": [
        "- Create a dicitonary named person with keys \"first_name\", \"last_name\", and \"age\".\n",
        "Populate it with values of your choice"
      ],
      "metadata": {
        "id": "gUvGojOC1glS"
      }
    },
    {
      "cell_type": "code",
      "source": [
        "person = {\"first_name\": \"Jimena\",\"last_name\": \"Garcia\",\"age\": 21} # Making and filling person dictionary"
      ],
      "metadata": {
        "id": "CtZz2rM51OPU"
      },
      "execution_count": 75,
      "outputs": []
    },
    {
      "cell_type": "markdown",
      "source": [
        "- Add a new key-value pair, \"city\" with a value of your choice"
      ],
      "metadata": {
        "id": "GXMXOtpf15Sr"
      }
    },
    {
      "cell_type": "code",
      "source": [
        "person[\"city\"] = \"Bedford\" #Adding new key-value pair"
      ],
      "metadata": {
        "id": "tNLVPFn21wj9"
      },
      "execution_count": 76,
      "outputs": []
    },
    {
      "cell_type": "markdown",
      "source": [
        "- Display the keys in the dictionary using a python command"
      ],
      "metadata": {
        "id": "csMqxnZV2LB0"
      }
    },
    {
      "cell_type": "code",
      "source": [
        "print(person.keys()) #printing keys of dictionary"
      ],
      "metadata": {
        "colab": {
          "base_uri": "https://localhost:8080/"
        },
        "id": "zkNDJ__M2KJc",
        "outputId": "7a641ef4-5ffa-400c-93cb-0a065bb6d8fa"
      },
      "execution_count": 77,
      "outputs": [
        {
          "output_type": "stream",
          "name": "stdout",
          "text": [
            "dict_keys(['first_name', 'last_name', 'age', 'city'])\n"
          ]
        }
      ]
    },
    {
      "cell_type": "markdown",
      "source": [
        "## **3. Set**"
      ],
      "metadata": {
        "id": "G_LSthuQ2hJM"
      }
    },
    {
      "cell_type": "markdown",
      "source": [
        "- Create a set named colors with the values \"red\", \"blue\", \"green\"."
      ],
      "metadata": {
        "id": "QitosdAH2tGN"
      }
    },
    {
      "cell_type": "code",
      "source": [
        "colors = {\"red\",\"blue\",\"green\"} # Initializing colors set with 3 values\n"
      ],
      "metadata": {
        "id": "k9008tnM2RYi"
      },
      "execution_count": 78,
      "outputs": []
    },
    {
      "cell_type": "markdown",
      "source": [
        "- Add \"yellow\" to the set and remove \"blue\"."
      ],
      "metadata": {
        "id": "JOOihF7X2_vC"
      }
    },
    {
      "cell_type": "code",
      "source": [
        "colors.add(\"yellow\") # Adding a value to colors set"
      ],
      "metadata": {
        "id": "prua3zqp236I"
      },
      "execution_count": 79,
      "outputs": []
    },
    {
      "cell_type": "code",
      "source": [
        "colors.remove(\"blue\") # Removing a value from colors set"
      ],
      "metadata": {
        "id": "zL7EyvJE27IN"
      },
      "execution_count": 80,
      "outputs": []
    },
    {
      "cell_type": "markdown",
      "source": [
        "- Check if \"pink\" is in the set and display the result"
      ],
      "metadata": {
        "id": "oOLblM-a3Lg3"
      }
    },
    {
      "cell_type": "code",
      "source": [
        "print(\"pink\" in colors) # Checking if pink is in colors set"
      ],
      "metadata": {
        "colab": {
          "base_uri": "https://localhost:8080/"
        },
        "id": "HQ4j-Slu28zA",
        "outputId": "567ac920-2de4-4745-bb55-e4a31a628e36"
      },
      "execution_count": 81,
      "outputs": [
        {
          "output_type": "stream",
          "name": "stdout",
          "text": [
            "False\n"
          ]
        }
      ]
    },
    {
      "cell_type": "markdown",
      "source": [
        "## **4. Conditional Statements**"
      ],
      "metadata": {
        "id": "zdjobD_d3xhK"
      }
    },
    {
      "cell_type": "markdown",
      "source": [
        "- Write a Python program that takes an input from the user and checks if the number is positive, negative, or zero"
      ],
      "metadata": {
        "id": "x-Z40hYx36qD"
      }
    },
    {
      "cell_type": "code",
      "source": [
        "num = float(input(\"Please enter a number:\\t\"))\n",
        "\n",
        "if(num > 0):\n",
        "  print(\"The number you entered is positive\")\n",
        "elif(num < 0):\n",
        "  print(\"The number you entered is negative\")\n",
        "else:\n",
        "  print(\"The number you entered is zero\")"
      ],
      "metadata": {
        "colab": {
          "base_uri": "https://localhost:8080/"
        },
        "id": "GnBZgivO33Va",
        "outputId": "0b084a49-a436-49d9-f8a5-1659dbd0d7e7"
      },
      "execution_count": 82,
      "outputs": [
        {
          "output_type": "stream",
          "name": "stdout",
          "text": [
            "Please enter a number:\t5\n",
            "The number you entered is positive\n"
          ]
        }
      ]
    },
    {
      "cell_type": "markdown",
      "source": [
        "- Given a list of numbers: [23,45,8,12,56,89], write a Python program that prints out all even numbers from the list using a conditional statement."
      ],
      "metadata": {
        "id": "Vv9nvx9h41v7"
      }
    },
    {
      "cell_type": "code",
      "source": [
        "numbers = [23,45,8,12,56,89]\n",
        "\n",
        "for num in numbers:\n",
        "  if(num % 2 ==0):\n",
        "    print(num)"
      ],
      "metadata": {
        "colab": {
          "base_uri": "https://localhost:8080/"
        },
        "id": "AtkDOFDs4ku_",
        "outputId": "93834556-3af6-4e3f-d425-b1cba08e0e03"
      },
      "execution_count": 83,
      "outputs": [
        {
          "output_type": "stream",
          "name": "stdout",
          "text": [
            "8\n",
            "12\n",
            "56\n"
          ]
        }
      ]
    },
    {
      "cell_type": "markdown",
      "source": [
        "- Write a program that asks the user to enter their age. Based on the user's input, determine if they are eligible to vote (consider the voting age as 18)"
      ],
      "metadata": {
        "id": "7EwsPLNF5ORI"
      }
    },
    {
      "cell_type": "code",
      "source": [
        "age = int(input(\"Please enter your age:\\t\"))\n",
        "\n",
        "if(age >= 18):\n",
        "  print(\"You are eligible to vote!\")\n",
        "else:\n",
        "  print(\"You are NOT eligible to vote.\")\n",
        "  print(\":(\")"
      ],
      "metadata": {
        "colab": {
          "base_uri": "https://localhost:8080/"
        },
        "id": "-zteBufq5dWX",
        "outputId": "c549cf16-48a0-4b0a-fec6-5f6c56e35f07"
      },
      "execution_count": 84,
      "outputs": [
        {
          "output_type": "stream",
          "name": "stdout",
          "text": [
            "Please enter your age:\t5\n",
            "You are NOT eligible to vote.\n",
            ":(\n"
          ]
        }
      ]
    },
    {
      "cell_type": "markdown",
      "source": [
        "## **5. While Loop**"
      ],
      "metadata": {
        "id": "NRW5nys8511c"
      }
    },
    {
      "cell_type": "markdown",
      "source": [
        "- Write a program that prompts the user to enter numbers continously (using a while loop) and stops ta4king inputs when the use enters \"q\". After that, display the sum of all the numbers entered."
      ],
      "metadata": {
        "id": "-6iWetnx6EAe"
      }
    },
    {
      "cell_type": "code",
      "source": [
        "sum = 0\n",
        "num = input(\"Please enter a number:\\t\")\n",
        "\n",
        "while(num != \"q\"):\n",
        "  sum += float(num)\n",
        "  num = input(\"Please enter a number:\\t\")\n",
        "\n",
        "print(sum)"
      ],
      "metadata": {
        "colab": {
          "base_uri": "https://localhost:8080/"
        },
        "id": "3OUonCGL5GXL",
        "outputId": "9d0932e2-dd65-432d-f06a-95c7a70cdce9"
      },
      "execution_count": 85,
      "outputs": [
        {
          "output_type": "stream",
          "name": "stdout",
          "text": [
            "Please enter a number:\t13\n",
            "Please enter a number:\t135\n",
            "Please enter a number:\t6\n",
            "Please enter a number:\t7\n",
            "Please enter a number:\t3\n",
            "Please enter a number:\tq\n",
            "164.0\n"
          ]
        }
      ]
    },
    {
      "cell_type": "markdown",
      "source": [
        "- Create a Python program using a while loop that prints numbers from 10 down to 1 and then prints \"Liftoff!\"."
      ],
      "metadata": {
        "id": "FqRMnZwL6uSF"
      }
    },
    {
      "cell_type": "code",
      "source": [
        "num = 10\n",
        "\n",
        "while num > 0:\n",
        "  print(num)\n",
        "  num -= 1\n",
        "\n",
        "print(\"Liftoff!\")"
      ],
      "metadata": {
        "colab": {
          "base_uri": "https://localhost:8080/"
        },
        "id": "C7nV0_Df6c0V",
        "outputId": "04ce0a28-3e46-4a77-8e98-07d006ecc4a0"
      },
      "execution_count": 86,
      "outputs": [
        {
          "output_type": "stream",
          "name": "stdout",
          "text": [
            "10\n",
            "9\n",
            "8\n",
            "7\n",
            "6\n",
            "5\n",
            "4\n",
            "3\n",
            "2\n",
            "1\n",
            "Liftoff!\n"
          ]
        }
      ]
    },
    {
      "cell_type": "markdown",
      "source": [
        "- Create a program that asks the user for a number and then prints out the multiplication table for that number while using a while loop"
      ],
      "metadata": {
        "id": "dUlDXJZU7EnC"
      }
    },
    {
      "cell_type": "code",
      "source": [
        "num = int(input(\"Please enter a number:\\t\"))\n",
        "row = 1\n",
        "mult_tbl = \"\"\n",
        "\n",
        "while(row <= 12):\n",
        "    mult_tbl += str(num) + \" x \" + str(row) + \" = \" + str(num * row) + \"\\n\"\n",
        "    row += 1\n",
        "\n",
        "print(mult_tbl)"
      ],
      "metadata": {
        "colab": {
          "base_uri": "https://localhost:8080/"
        },
        "id": "pbjap2Jb68Wx",
        "outputId": "25c48f64-7ce8-4dda-facf-8e2fc90734d2"
      },
      "execution_count": 87,
      "outputs": [
        {
          "output_type": "stream",
          "name": "stdout",
          "text": [
            "Please enter a number:\t13\n",
            "13 x 1 = 13\n",
            "13 x 2 = 26\n",
            "13 x 3 = 39\n",
            "13 x 4 = 52\n",
            "13 x 5 = 65\n",
            "13 x 6 = 78\n",
            "13 x 7 = 91\n",
            "13 x 8 = 104\n",
            "13 x 9 = 117\n",
            "13 x 10 = 130\n",
            "13 x 11 = 143\n",
            "13 x 12 = 156\n",
            "\n"
          ]
        }
      ]
    },
    {
      "cell_type": "markdown",
      "source": [
        "## **6. For Loop**"
      ],
      "metadata": {
        "id": "RFD2oFnAEa1H"
      }
    },
    {
      "cell_type": "markdown",
      "source": [
        "- Given a list: [\"apple\", \"banana\", \"cherry\", \"date\"], use a for loop to print each fruit in the list"
      ],
      "metadata": {
        "id": "VQ_cSRiCEk0c"
      }
    },
    {
      "cell_type": "code",
      "source": [
        "fruits = [\"apple\", \"banana\", \"cherry\", \"date\"]\n",
        "\n",
        "for fruit in fruits:\n",
        "  print(fruit)"
      ],
      "metadata": {
        "colab": {
          "base_uri": "https://localhost:8080/"
        },
        "id": "juHhQrl87-gA",
        "outputId": "1d0a897f-f547-4d54-bc1a-0842addb6492"
      },
      "execution_count": 88,
      "outputs": [
        {
          "output_type": "stream",
          "name": "stdout",
          "text": [
            "apple\n",
            "banana\n",
            "cherry\n",
            "date\n"
          ]
        }
      ]
    },
    {
      "cell_type": "markdown",
      "source": [
        "- Using a for loop, calculate the factorial of a given number (n!). For example, if the given number is 5, the output should be 5 x 4 x 3 x 2 x 1 = 120."
      ],
      "metadata": {
        "id": "LrPKjehzEuKj"
      }
    },
    {
      "cell_type": "code",
      "source": [
        "num = int(input(\"Please enter an integer:\\t\"))\n",
        "product = 1\n",
        "\n",
        "for x in range(num):\n",
        "  product *= (x+1)\n",
        "\n",
        "print(product)"
      ],
      "metadata": {
        "colab": {
          "base_uri": "https://localhost:8080/"
        },
        "id": "8TPEqe_aE5td",
        "outputId": "f706afaa-810f-4084-c0fc-320471df1a3f"
      },
      "execution_count": 89,
      "outputs": [
        {
          "output_type": "stream",
          "name": "stdout",
          "text": [
            "Please enter an integer:\t5\n",
            "120\n"
          ]
        }
      ]
    }
  ]
}