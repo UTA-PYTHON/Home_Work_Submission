{
 "cells": [
  {
   "cell_type": "markdown",
   "id": "bcde34f1",
   "metadata": {},
   "source": [
    " ### Yvonne Guajardo"
   ]
  },
  {
   "cell_type": "markdown",
   "id": "4cd2bc9b",
   "metadata": {},
   "source": [
    "# Homework 4"
   ]
  },
  {
   "cell_type": "markdown",
   "id": "107a162f",
   "metadata": {},
   "source": [
    "### Data Structures"
   ]
  },
  {
   "cell_type": "markdown",
   "id": "e3271387",
   "metadata": {},
   "source": [
    "1.) List and Tuple"
   ]
  },
  {
   "cell_type": "code",
   "execution_count": 27,
   "id": "5f1dd432",
   "metadata": {},
   "outputs": [],
   "source": [
    "fruits = [\"apple\", \"banana\", \"cherry\"]       # List for fruits"
   ]
  },
  {
   "cell_type": "code",
   "execution_count": 28,
   "id": "a70af81d",
   "metadata": {},
   "outputs": [],
   "source": [
    "fruits_tuple = tuple(fruits)                 # Converting list to tuple"
   ]
  },
  {
   "cell_type": "code",
   "execution_count": 29,
   "id": "a571d75a",
   "metadata": {},
   "outputs": [],
   "source": [
    "fruits.append(\"orange\")                      # Adding orange to list of fruits"
   ]
  },
  {
   "cell_type": "code",
   "execution_count": 30,
   "id": "25d57c48",
   "metadata": {},
   "outputs": [
    {
     "name": "stdout",
     "output_type": "stream",
     "text": [
      "['apple', 'banana', 'cherry', 'orange']\n"
     ]
    }
   ],
   "source": [
    "print(fruits)                                # Printing fruits"
   ]
  },
  {
   "cell_type": "code",
   "execution_count": 31,
   "id": "95b9fb1d",
   "metadata": {},
   "outputs": [
    {
     "name": "stdout",
     "output_type": "stream",
     "text": [
      "('apple', 'banana', 'cherry')\n"
     ]
    }
   ],
   "source": [
    "print(fruits_tuple)                         # Printing tuple"
   ]
  },
  {
   "cell_type": "markdown",
   "id": "be74dfa6",
   "metadata": {},
   "source": [
    "2.) Dictionary"
   ]
  },
  {
   "cell_type": "code",
   "execution_count": 315,
   "id": "af395005",
   "metadata": {},
   "outputs": [],
   "source": [
    "person = {\"first_name\" : \"Bob\",        # Creating dictionary\n",
    "          \"last_name\" : \"Sponge\",\n",
    "          \"age\" : 100}   "
   ]
  },
  {
   "cell_type": "code",
   "execution_count": 316,
   "id": "991edd56",
   "metadata": {},
   "outputs": [
    {
     "data": {
      "text/plain": [
       "{'first_name': 'Bob', 'last_name': 'Sponge', 'age': 100}"
      ]
     },
     "execution_count": 316,
     "metadata": {},
     "output_type": "execute_result"
    }
   ],
   "source": [
    "person"
   ]
  },
  {
   "cell_type": "code",
   "execution_count": 317,
   "id": "e28a801e",
   "metadata": {},
   "outputs": [],
   "source": [
    "person[\"city\"] = \"Dallas\"             # adding key value city"
   ]
  },
  {
   "cell_type": "code",
   "execution_count": 318,
   "id": "ec958482",
   "metadata": {},
   "outputs": [
    {
     "data": {
      "text/plain": [
       "{'first_name': 'Bob', 'last_name': 'Sponge', 'age': 100, 'city': 'Dallas'}"
      ]
     },
     "execution_count": 318,
     "metadata": {},
     "output_type": "execute_result"
    }
   ],
   "source": [
    "person"
   ]
  },
  {
   "cell_type": "code",
   "execution_count": 319,
   "id": "e7162b71",
   "metadata": {},
   "outputs": [
    {
     "data": {
      "text/plain": [
       "dict_keys(['first_name', 'last_name', 'age', 'city'])"
      ]
     },
     "execution_count": 319,
     "metadata": {},
     "output_type": "execute_result"
    }
   ],
   "source": [
    "person.keys()                         # displaying keys"
   ]
  },
  {
   "cell_type": "markdown",
   "id": "32eee35a",
   "metadata": {},
   "source": [
    "3.) Set:"
   ]
  },
  {
   "cell_type": "code",
   "execution_count": 132,
   "id": "07e5c88e",
   "metadata": {},
   "outputs": [],
   "source": [
    "colors = {\"red\", \"blue\", \"green\"}   # Set named colors"
   ]
  },
  {
   "cell_type": "code",
   "execution_count": 133,
   "id": "a34be686",
   "metadata": {},
   "outputs": [],
   "source": [
    "colors.add(\"yellow\")   # adding yellow"
   ]
  },
  {
   "cell_type": "code",
   "execution_count": 134,
   "id": "25c1771a",
   "metadata": {},
   "outputs": [
    {
     "data": {
      "text/plain": [
       "{'blue', 'green', 'red', 'yellow'}"
      ]
     },
     "execution_count": 134,
     "metadata": {},
     "output_type": "execute_result"
    }
   ],
   "source": [
    "colors"
   ]
  },
  {
   "cell_type": "code",
   "execution_count": 135,
   "id": "9f23548c",
   "metadata": {},
   "outputs": [],
   "source": [
    "colors.remove(\"blue\")  # removing blue"
   ]
  },
  {
   "cell_type": "code",
   "execution_count": 136,
   "id": "57780296",
   "metadata": {},
   "outputs": [
    {
     "data": {
      "text/plain": [
       "{'green', 'red', 'yellow'}"
      ]
     },
     "execution_count": 136,
     "metadata": {},
     "output_type": "execute_result"
    }
   ],
   "source": [
    "colors"
   ]
  },
  {
   "cell_type": "code",
   "execution_count": 137,
   "id": "17c7e4af",
   "metadata": {},
   "outputs": [
    {
     "name": "stdout",
     "output_type": "stream",
     "text": [
      "False\n"
     ]
    }
   ],
   "source": [
    "print(\"pink\" in colors) # checking if pink is in set and printing"
   ]
  },
  {
   "cell_type": "markdown",
   "id": "a72fe567",
   "metadata": {},
   "source": [
    "### Conditional Statements"
   ]
  },
  {
   "cell_type": "markdown",
   "id": "c4573c3f",
   "metadata": {},
   "source": [
    "4.) Write a Python program that takes an input from the user and checks if the number is positive, negative, or zero. "
   ]
  },
  {
   "cell_type": "code",
   "execution_count": 344,
   "id": "3482eaa1",
   "metadata": {},
   "outputs": [
    {
     "name": "stdout",
     "output_type": "stream",
     "text": [
      "Please enter a number: 10\n",
      "Positive\n"
     ]
    }
   ],
   "source": [
    "number = float(input(\"Please enter a number: \")) # input from user\n",
    "\n",
    "if number > 0:  \n",
    "    print(\"Positive\")   # if positive\n",
    "elif number < 0:\n",
    "    print(\"Negative\")   # if negative\n",
    "else: \n",
    "    print(\"Zero\")       # if zero"
   ]
  },
  {
   "cell_type": "markdown",
   "id": "6844c5df",
   "metadata": {},
   "source": [
    "5.) Given a list of numbers: [23, 45, 8, 12, 78, 56, 89], write a Python program that prints out all even numbers from the list using a conditional statement. "
   ]
  },
  {
   "cell_type": "code",
   "execution_count": 158,
   "id": "a246274f",
   "metadata": {},
   "outputs": [],
   "source": [
    "numbers = [23,45,8,12,78,56,89] # list of given numbers"
   ]
  },
  {
   "cell_type": "code",
   "execution_count": 159,
   "id": "0dc0c390",
   "metadata": {},
   "outputs": [
    {
     "name": "stdout",
     "output_type": "stream",
     "text": [
      "8\n",
      "12\n",
      "78\n",
      "56\n"
     ]
    }
   ],
   "source": [
    "for n in numbers:   # condition for even numbers\n",
    "    if n%2 == 0:\n",
    "        print(n)    # printing"
   ]
  },
  {
   "cell_type": "markdown",
   "id": "7eeb7404",
   "metadata": {},
   "source": [
    "6.) Write a program that asks the user to enter their age. Based on the user's input, determine if they are eligible to vote (consider the voting age 18)."
   ]
  },
  {
   "cell_type": "code",
   "execution_count": 161,
   "id": "e676992d",
   "metadata": {},
   "outputs": [
    {
     "name": "stdout",
     "output_type": "stream",
     "text": [
      "Please enter you age: 17\n",
      "You are not eligible!\n"
     ]
    }
   ],
   "source": [
    "age = float(input(\"Please enter you age: \")) # asking user to input age\n",
    "\n",
    "# Conditonal statement on whether user can vote or not\n",
    "if age >= 18:     \n",
    "    print(\"Eligible to vote.\")\n",
    "else:\n",
    "    print(\"You are not eligible!\")"
   ]
  },
  {
   "cell_type": "markdown",
   "id": "a84e7b96",
   "metadata": {},
   "source": [
    "### While loop"
   ]
  },
  {
   "cell_type": "markdown",
   "id": "ef595afb",
   "metadata": {},
   "source": [
    "7.) Write a program that prompts the user to enter numbers contiously (using a while loop) and stops taking inputs when the user enter 'q'. After that, display the sum of all the numbers entered. "
   ]
  },
  {
   "cell_type": "code",
   "execution_count": 236,
   "id": "695e0bf8",
   "metadata": {},
   "outputs": [
    {
     "name": "stdout",
     "output_type": "stream",
     "text": [
      "Please enter a number (q to quit):4\n",
      "Please enter a number (q to quit):4\n",
      "Please enter a number (q to quit):4\n",
      "Please enter a number (q to quit):4\n",
      "Please enter a number (q to quit):q\n",
      "16\n"
     ]
    }
   ],
   "source": [
    "sum = 0   # total sum of numbers entered\n",
    "\n",
    "while True:   # loop \n",
    "    number = input(\"Please enter a number (q to quit):\")\n",
    "    if number == \"q\":   # quit if q is entered\n",
    "        break\n",
    "    else:      # condition for the total\n",
    "        totalnum = int(number)\n",
    "        sum += totalnum\n",
    "print(sum)"
   ]
  },
  {
   "cell_type": "markdown",
   "id": "b622a5f3",
   "metadata": {},
   "source": [
    "8.) Create a Python program using a while loop that prints numbers from 10 down to 1 and then prints \"Liftoff!\""
   ]
  },
  {
   "cell_type": "code",
   "execution_count": 345,
   "id": "cebdb71a",
   "metadata": {},
   "outputs": [
    {
     "name": "stdout",
     "output_type": "stream",
     "text": [
      "10\n",
      "9\n",
      "8\n",
      "7\n",
      "6\n",
      "5\n",
      "4\n",
      "3\n",
      "2\n",
      "1\n",
      "Liftoff!\n"
     ]
    }
   ],
   "source": [
    "i = 10         # variable starting at 10\n",
    "\n",
    "while i > 0:   # loop for numbers 10 to 1\n",
    "    print(i)\n",
    "    i -= 1     # subtracting one\n",
    "\n",
    "print(\"Liftoff!\")"
   ]
  },
  {
   "cell_type": "markdown",
   "id": "035f7c63",
   "metadata": {},
   "source": [
    "9.) Create a program that asks the user for a number and then prints out the miltiplication table for that number using a while loop."
   ]
  },
  {
   "cell_type": "code",
   "execution_count": 303,
   "id": "a5e6b956",
   "metadata": {},
   "outputs": [
    {
     "name": "stdout",
     "output_type": "stream",
     "text": [
      "Please enter a number:2\n",
      "2  *  1  =  2 \n",
      "\n",
      "2  *  2  =  4 \n",
      "\n",
      "2  *  3  =  6 \n",
      "\n",
      "2  *  4  =  8 \n",
      "\n",
      "2  *  5  =  10 \n",
      "\n",
      "2  *  6  =  12 \n",
      "\n",
      "2  *  7  =  14 \n",
      "\n",
      "2  *  8  =  16 \n",
      "\n",
      "2  *  9  =  18 \n",
      "\n",
      "2  *  10  =  20 \n",
      "\n"
     ]
    }
   ],
   "source": [
    "num = int(input(\"Please enter a number:\")) # user input\n",
    "i = 1     # counter variable\n",
    "\n",
    "# loop\n",
    "while i <= 10:    # creating range\n",
    "        product = num * i # variable for product\n",
    "        print(num, \" * \", i, \" = \", product, \"\\n\") #printing table\n",
    "        i = i + 1 # increasing by 1"
   ]
  },
  {
   "cell_type": "markdown",
   "id": "e4efaa84",
   "metadata": {},
   "source": [
    "## For loop:"
   ]
  },
  {
   "cell_type": "markdown",
   "id": "cc2645af",
   "metadata": {},
   "source": [
    "10.) Give a list: [\"apple\", \"banana\", \"cherry\", \"date\"], use a for loop to print each fruit in the list. "
   ]
  },
  {
   "cell_type": "code",
   "execution_count": 328,
   "id": "64b53dfb",
   "metadata": {},
   "outputs": [
    {
     "name": "stdout",
     "output_type": "stream",
     "text": [
      "apple\n",
      "banana\n",
      "cherry\n",
      "date\n"
     ]
    }
   ],
   "source": [
    "fruits = [ \"apple\", \"banana\", \"cherry\", \"date\"]  #list\n",
    "\n",
    "# for loop to print list\n",
    "for i in fruits:  \n",
    "    print(i)"
   ]
  },
  {
   "cell_type": "markdown",
   "id": "135a693f",
   "metadata": {},
   "source": [
    "11.) Using a for loop, calculate the factorial of a given number (n!). For example, if the given number is 5, the output should be 5 x 4 x 3 x 2 x 1 = 120/"
   ]
  },
  {
   "cell_type": "code",
   "execution_count": 327,
   "id": "711e32c2",
   "metadata": {},
   "outputs": [
    {
     "name": "stdout",
     "output_type": "stream",
     "text": [
      "120\n"
     ]
    }
   ],
   "source": [
    "n = 5          # variable for given number\n",
    "factorial = 1  # variable for factorial \n",
    "\n",
    "# for loop to calculate factorial\n",
    "for i in range (n):\n",
    "    factorial *= i + 1 # calculating \n",
    "    \n",
    "print(factorial)"
   ]
  },
  {
   "cell_type": "markdown",
   "id": "348f5719",
   "metadata": {},
   "source": [
    "12.) Create a program using a for loop that prompts the user to enter five numbers. After all numbers are entered, the program should display the average of the mubers. "
   ]
  },
  {
   "cell_type": "code",
   "execution_count": 341,
   "id": "9cd3161f",
   "metadata": {},
   "outputs": [
    {
     "name": "stdout",
     "output_type": "stream",
     "text": [
      "Please enter 5 numbers:4\n",
      "Please enter 5 numbers:4\n",
      "Please enter 5 numbers:4\n",
      "Please enter 5 numbers:4\n",
      "Please enter 5 numbers:5\n",
      "Average:  4.2\n"
     ]
    }
   ],
   "source": [
    "sum = 0  # initialzing sum variable\n",
    "\n",
    "# for loop for 5 numbers\n",
    "for i in range(1,6): \n",
    "    number = int(input(\"Please enter 5 numbers:\")) \n",
    "    # calculating\n",
    "    sum += number\n",
    "    average = sum / 5\n",
    "print(\"Average: \" , average)"
   ]
  }
 ],
 "metadata": {
  "kernelspec": {
   "display_name": "Python 3 (ipykernel)",
   "language": "python",
   "name": "python3"
  },
  "language_info": {
   "codemirror_mode": {
    "name": "ipython",
    "version": 3
   },
   "file_extension": ".py",
   "mimetype": "text/x-python",
   "name": "python",
   "nbconvert_exporter": "python",
   "pygments_lexer": "ipython3",
   "version": "3.11.4"
  }
 },
 "nbformat": 4,
 "nbformat_minor": 5
}
