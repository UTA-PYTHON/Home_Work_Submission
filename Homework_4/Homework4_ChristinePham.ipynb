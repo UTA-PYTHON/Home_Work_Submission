{
 "cells": [
  {
   "cell_type": "markdown",
   "id": "b2ab91dd",
   "metadata": {},
   "source": [
    "Name: Christine Pham\n",
    "\n",
    "ID: 1001705879"
   ]
  },
  {
   "cell_type": "markdown",
   "id": "c4ac3811",
   "metadata": {},
   "source": [
    "***"
   ]
  },
  {
   "cell_type": "markdown",
   "id": "7e162741",
   "metadata": {},
   "source": [
    "# ***Data Structures***"
   ]
  },
  {
   "cell_type": "markdown",
   "id": "d0b8eb14",
   "metadata": {},
   "source": [
    "## **1. List and Tuple**\n",
    "\n",
    "- create a list names fruits containing the following: \"apple\", \"banana\", \"cherry\"\n",
    "- convert this list into a tuple\n",
    "- add \"orange\" to the list of fruits\n",
    "- show the difference in the content of the list and tuple after the addition"
   ]
  },
  {
   "cell_type": "code",
   "execution_count": 2,
   "id": "28707e2b",
   "metadata": {},
   "outputs": [
    {
     "name": "stdout",
     "output_type": "stream",
     "text": [
      "['apple', 'banana', 'cherry']\n"
     ]
    }
   ],
   "source": [
    "list_fruits=[\"apple\",\"banana\",\"cherry\"]\n",
    "print(list_fruits)"
   ]
  },
  {
   "cell_type": "code",
   "execution_count": 3,
   "id": "a98eea08",
   "metadata": {},
   "outputs": [
    {
     "name": "stdout",
     "output_type": "stream",
     "text": [
      "('apple', 'banana', 'cherry')\n"
     ]
    }
   ],
   "source": [
    "tuple_fruits=tuple(list_fruits)\n",
    "print(tuple_fruits)"
   ]
  },
  {
   "cell_type": "code",
   "execution_count": 4,
   "id": "c77dcd6d",
   "metadata": {},
   "outputs": [
    {
     "name": "stdout",
     "output_type": "stream",
     "text": [
      "['apple', 'banana', 'cherry', 'orange']\n"
     ]
    }
   ],
   "source": [
    "list_fruits.append(\"orange\")\n",
    "print(list_fruits)"
   ]
  },
  {
   "cell_type": "code",
   "execution_count": 6,
   "id": "3faa4828",
   "metadata": {},
   "outputs": [
    {
     "name": "stdout",
     "output_type": "stream",
     "text": [
      "fruit (list): ['apple', 'banana', 'cherry', 'orange']\n",
      "fruit (tuple): ('apple', 'banana', 'cherry')\n"
     ]
    }
   ],
   "source": [
    "print(\"fruit (list):\",list_fruits)\n",
    "print(\"fruit (tuple):\",tuple_fruits)"
   ]
  },
  {
   "cell_type": "markdown",
   "id": "671d9d14",
   "metadata": {},
   "source": [
    "## **2. Dictionary**\n",
    "\n",
    "- Create a dictionary named person with keys \"first_name\", \"last_name\", and \"age\". \n",
    "    - Populate it with values of your choice.\n",
    "- Add a new key-value pair, \"city\" with a value of your choice.\n",
    "- Display the keys in the dictionary using a Python command"
   ]
  },
  {
   "cell_type": "code",
   "execution_count": 11,
   "id": "465c5eae",
   "metadata": {},
   "outputs": [
    {
     "name": "stdout",
     "output_type": "stream",
     "text": [
      "{'first_name': 'Sebastian', 'last_name': 'Gutierrez', 'age': 22}\n"
     ]
    }
   ],
   "source": [
    "person={\"first_name\":\"Sebastian\",\"last_name\":\"Gutierrez\",\"age\":22}\n",
    "print(person)"
   ]
  },
  {
   "cell_type": "code",
   "execution_count": 13,
   "id": "086cb45b",
   "metadata": {},
   "outputs": [
    {
     "name": "stdout",
     "output_type": "stream",
     "text": [
      "{'first_name': 'Sebastian', 'last_name': 'Gutierrez', 'age': 22, 'city': 'Fort Worth'}\n"
     ]
    }
   ],
   "source": [
    "person[\"city\"]=\"Fort Worth\"\n",
    "print(person)"
   ]
  },
  {
   "cell_type": "code",
   "execution_count": 17,
   "id": "3b81d908",
   "metadata": {},
   "outputs": [
    {
     "data": {
      "text/plain": [
       "dict_keys(['first_name', 'last_name', 'age', 'city'])"
      ]
     },
     "execution_count": 17,
     "metadata": {},
     "output_type": "execute_result"
    }
   ],
   "source": [
    "person.keys()"
   ]
  },
  {
   "cell_type": "markdown",
   "id": "16438a5d",
   "metadata": {},
   "source": [
    "## **3. Set**\n",
    "\n",
    "- Create a set named colors with the values \"red\", \"blue\", \"green\".\n",
    "- Add \"yellow\" to the set and remove \"blue\".\n",
    "- Check if \"pink\" is in the set and display the result"
   ]
  },
  {
   "cell_type": "code",
   "execution_count": 13,
   "id": "e983f622",
   "metadata": {},
   "outputs": [
    {
     "name": "stdout",
     "output_type": "stream",
     "text": [
      "{'green', 'red', 'blue'}\n"
     ]
    }
   ],
   "source": [
    "colors={\"red\",\"blue\",\"green\"}\n",
    "print(colors)"
   ]
  },
  {
   "cell_type": "code",
   "execution_count": 14,
   "id": "51e9685f",
   "metadata": {},
   "outputs": [
    {
     "name": "stdout",
     "output_type": "stream",
     "text": [
      "{'green', 'yellow', 'red'}\n"
     ]
    }
   ],
   "source": [
    "colors.add(\"yellow\")\n",
    "colors.remove(\"blue\")\n",
    "print(colors)"
   ]
  },
  {
   "cell_type": "code",
   "execution_count": 17,
   "id": "7ca9253f",
   "metadata": {},
   "outputs": [
    {
     "data": {
      "text/plain": [
       "False"
      ]
     },
     "execution_count": 17,
     "metadata": {},
     "output_type": "execute_result"
    }
   ],
   "source": [
    "\"pink\" in colors"
   ]
  },
  {
   "cell_type": "markdown",
   "id": "cf29e519",
   "metadata": {},
   "source": [
    "***"
   ]
  },
  {
   "cell_type": "markdown",
   "id": "e8b09f76",
   "metadata": {},
   "source": [
    "# ***Conditional Statements***"
   ]
  },
  {
   "cell_type": "markdown",
   "id": "76a82b3c",
   "metadata": {},
   "source": [
    "### 4. Write a Python program that takes an input from the user and checks if the number is positive, negative, or zero."
   ]
  },
  {
   "cell_type": "code",
   "execution_count": 27,
   "id": "85d6a60b",
   "metadata": {},
   "outputs": [
    {
     "name": "stdout",
     "output_type": "stream",
     "text": [
      "number is negative\n"
     ]
    }
   ],
   "source": [
    "x=-5\n",
    "\n",
    "if x>0:\n",
    "    print(\"number is positive\")\n",
    "elif x==0:\n",
    "    print(\"number is zero\")\n",
    "else:\n",
    "    print(\"number is negative\")"
   ]
  },
  {
   "cell_type": "markdown",
   "id": "678e16d1",
   "metadata": {},
   "source": [
    "### 5. Given a list of numbers: [23, 45, 8, 12, 78, 56, 89], write a Python program that prints out all even numbers from the list using a conditional statement."
   ]
  },
  {
   "cell_type": "code",
   "execution_count": 35,
   "id": "15c742f4",
   "metadata": {},
   "outputs": [
    {
     "name": "stdout",
     "output_type": "stream",
     "text": [
      "8\n",
      "12\n",
      "78\n",
      "56\n"
     ]
    }
   ],
   "source": [
    "list_num=[23,45,8,12,78,56,89]\n",
    "\n",
    "for n in list_num:\n",
    "    if n%2==0:\n",
    "        print(n)"
   ]
  },
  {
   "cell_type": "markdown",
   "id": "06b357ea",
   "metadata": {},
   "source": [
    "### 6. Write a program that asks the user to enter their age. Based on the user's input, determine if they are eligible to vote (consider the voting age as 18)."
   ]
  },
  {
   "cell_type": "code",
   "execution_count": 18,
   "id": "92121e52",
   "metadata": {},
   "outputs": [
    {
     "name": "stdout",
     "output_type": "stream",
     "text": [
      "Enter your age:18\n",
      "You are allowed to vote\n"
     ]
    }
   ],
   "source": [
    "age=int(input(\"Enter your age:\"))\n",
    "\n",
    "if age<18:\n",
    "    print(\"You are not allowed to vote\")\n",
    "else:\n",
    "    print(\"You are allowed to vote\")"
   ]
  },
  {
   "cell_type": "markdown",
   "id": "cbf3b993",
   "metadata": {},
   "source": [
    "***"
   ]
  },
  {
   "cell_type": "markdown",
   "id": "8d52afce",
   "metadata": {},
   "source": [
    "# ***While Loop***"
   ]
  },
  {
   "cell_type": "markdown",
   "id": "c7a5e262",
   "metadata": {},
   "source": [
    "### 7. Write a program that prompts the user to enter numbers continuously (using a while loop) and stops taking inputs when the user enters 'q'. After that, display the sum of all the numbers entered."
   ]
  },
  {
   "cell_type": "code",
   "execution_count": 22,
   "id": "a49002df",
   "metadata": {},
   "outputs": [
    {
     "name": "stdout",
     "output_type": "stream",
     "text": [
      "Enter a number or 'q' to quit:1\n",
      "Enter a number or 'q' to quit:2\n",
      "Enter a number or 'q' to quit:3\n",
      "Enter a number or 'q' to quit:4\n",
      "Enter a number or 'q' to quit:5\n",
      "Enter a number or 'q' to quit:q\n",
      "total sum: 15.0\n"
     ]
    }
   ],
   "source": [
    "m=[]\n",
    "total_sum=0\n",
    "\n",
    "while True:\n",
    "    m=input(\"Enter a number or 'q' to quit:\")\n",
    "    if m==\"q\":\n",
    "        break\n",
    "    m=float(m)\n",
    "    total_sum+=m\n",
    "\n",
    "print(\"total sum:\",total_sum)"
   ]
  },
  {
   "cell_type": "markdown",
   "id": "fae7db88",
   "metadata": {},
   "source": [
    "### 8. Create a Python program using a while loop that prints numbers from 10 down to 1 and then prints \"Liftoff!\"."
   ]
  },
  {
   "cell_type": "code",
   "execution_count": 8,
   "id": "cee6c435",
   "metadata": {},
   "outputs": [
    {
     "name": "stdout",
     "output_type": "stream",
     "text": [
      "10\n",
      "9\n",
      "8\n",
      "7\n",
      "6\n",
      "5\n",
      "4\n",
      "3\n",
      "2\n",
      "1\n",
      "Liftoff!\n"
     ]
    }
   ],
   "source": [
    "n=10\n",
    "\n",
    "while n!=0:\n",
    "    print(n)\n",
    "    n=n-1\n",
    "if n==0:\n",
    "    print(\"Liftoff!\")"
   ]
  },
  {
   "cell_type": "markdown",
   "id": "74229ab4",
   "metadata": {},
   "source": [
    "### 9. Create a program that asks the user for a number and then prints out the multiplication table for that number using a while loop."
   ]
  },
  {
   "cell_type": "code",
   "execution_count": 42,
   "id": "4ef234b8",
   "metadata": {},
   "outputs": [
    {
     "name": "stdout",
     "output_type": "stream",
     "text": [
      "Enter a number:5\n",
      "1 * 5 = 5\n",
      "2 * 5 = 10\n",
      "3 * 5 = 15\n",
      "4 * 5 = 20\n",
      "5 * 5 = 25\n",
      "6 * 5 = 30\n",
      "7 * 5 = 35\n",
      "8 * 5 = 40\n",
      "9 * 5 = 45\n",
      "10 * 5 = 50\n",
      "11 * 5 = 55\n",
      "12 * 5 = 60\n"
     ]
    }
   ],
   "source": [
    "n=1\n",
    "m=int(input(\"Enter a number:\"))\n",
    "\n",
    "while n<=12:\n",
    "    prod=n*m\n",
    "    n=n+1\n",
    "    print(n-1,\"*\",m,\"=\",prod)"
   ]
  },
  {
   "cell_type": "markdown",
   "id": "b679e18e",
   "metadata": {},
   "source": [
    "***"
   ]
  },
  {
   "cell_type": "markdown",
   "id": "a696064a",
   "metadata": {},
   "source": [
    "# ***For Loop***"
   ]
  },
  {
   "cell_type": "markdown",
   "id": "2ea19ea1",
   "metadata": {},
   "source": [
    "### 10. Given a list: [\"apple\", \"banana\", \"cherry\", \"date\"], use a for loop to print each fruit in the list."
   ]
  },
  {
   "cell_type": "code",
   "execution_count": 26,
   "id": "5c23fc8f",
   "metadata": {},
   "outputs": [
    {
     "name": "stdout",
     "output_type": "stream",
     "text": [
      "apple\n",
      "banana\n",
      "cherry\n",
      "date\n"
     ]
    }
   ],
   "source": [
    "lfruits=[\"apple\",\"banana\",\"cherry\",\"date\"]\n",
    "\n",
    "for f in lfruits:\n",
    "    print(f)"
   ]
  },
  {
   "cell_type": "markdown",
   "id": "7da02df7",
   "metadata": {},
   "source": [
    "### 11. Using a for loop, calculate the factorial of a given number (n!). For example, if the given number is 5, the output should be 5 x 4 x 3 x 2 x 1 = 120."
   ]
  },
  {
   "cell_type": "code",
   "execution_count": 43,
   "id": "9e0fd99b",
   "metadata": {},
   "outputs": [
    {
     "name": "stdout",
     "output_type": "stream",
     "text": [
      "Enter a number:10\n",
      "10 ! = 10 * 9 * 8 * 7 * 6 * 5 * 4 * 3 * 2 * 1 = 3628800\n"
     ]
    }
   ],
   "source": [
    "c=int(input(\"Enter a number:\"))\n",
    "\n",
    "if c>0:\n",
    "    print(c,\"! = \",end='')\n",
    "    c_list=[]\n",
    "    while c>0:\n",
    "        c_list.append(c)\n",
    "        c-=1\n",
    "    factorial=1\n",
    "    for i in c_list:\n",
    "        factorial*=i\n",
    "        if i>1:\n",
    "            print(i,\"* \",end='')\n",
    "    print(\"1 =\",factorial)    \n",
    "else:\n",
    "    print(\"0! = 1\")"
   ]
  },
  {
   "cell_type": "markdown",
   "id": "462c503b",
   "metadata": {},
   "source": [
    "### 12. Create a program using a for loop that prompts the user to enter five numbers. After all numbers are entered, the program should display the average of the numbers."
   ]
  },
  {
   "cell_type": "code",
   "execution_count": 41,
   "id": "e605528d",
   "metadata": {},
   "outputs": [
    {
     "name": "stdout",
     "output_type": "stream",
     "text": [
      "Enter a number:3\n",
      "Enter a number:6\n",
      "Enter a number:2\n",
      "Enter a number:5\n",
      "Enter a number:4\n",
      "average: 4.0\n"
     ]
    }
   ],
   "source": [
    "a=[1,2,3,4,5]\n",
    "e=0\n",
    "\n",
    "for b in a:\n",
    "    d=int(input(\"Enter a number:\"))\n",
    "    e+=d\n",
    "    average=e/5\n",
    "    \n",
    "print(\"average:\",average)"
   ]
  }
 ],
 "metadata": {
  "kernelspec": {
   "display_name": "Python 3 (ipykernel)",
   "language": "python",
   "name": "python3"
  },
  "language_info": {
   "codemirror_mode": {
    "name": "ipython",
    "version": 3
   },
   "file_extension": ".py",
   "mimetype": "text/x-python",
   "name": "python",
   "nbconvert_exporter": "python",
   "pygments_lexer": "ipython3",
   "version": "3.11.4"
  }
 },
 "nbformat": 4,
 "nbformat_minor": 5
}
