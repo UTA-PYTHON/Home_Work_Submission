{
  "nbformat": 4,
  "nbformat_minor": 0,
  "metadata": {
    "colab": {
      "provenance": []
    },
    "kernelspec": {
      "name": "python3",
      "display_name": "Python 3"
    },
    "language_info": {
      "name": "python"
    }
  },
  "cells": [
    {
      "cell_type": "markdown",
      "source": [
        "# **Homework 4: Data Structure, Conditional Statements, Loops**"
      ],
      "metadata": {
        "id": "C59NsSwtHaRa"
      }
    },
    {
      "cell_type": "markdown",
      "source": [
        "## ***Q1: List and Tuple***\n",
        "- Create a list named fruits containing the following: \"apple\", \"banana\", \"cherry\".\n",
        "- Convert this list into a tuple.\n",
        "- Add \"orange\" to the list of fruits.\n",
        "- Show the difference in the content of the list and tuple after the addition."
      ],
      "metadata": {
        "id": "AimU3H1DHaYk"
      }
    },
    {
      "cell_type": "code",
      "source": [
        "fruits = [\"Apple\", \"Banana\", \"Cherry\"]                                          # list created\n",
        "fruits_tuple = tuple(fruits)\n",
        "fruits.append(\"Orange\")                                                         # Add \"orange\" to the list.\n",
        "print(fruits , fruits_tuple)"
      ],
      "metadata": {
        "colab": {
          "base_uri": "https://localhost:8080/"
        },
        "id": "Zy-LoNDCILny",
        "outputId": "a98cd55e-20e2-48a1-aba1-571da38af44e"
      },
      "execution_count": null,
      "outputs": [
        {
          "output_type": "stream",
          "name": "stdout",
          "text": [
            "['Apple', 'Banana', 'Cherry', 'Orange'] ('Apple', 'Banana', 'Cherry')\n"
          ]
        }
      ]
    },
    {
      "cell_type": "markdown",
      "source": [
        "## ***Q2: Dictionary***\n",
        "- Create a dictionary named person with keys \"first_name\", \"last_name\", and \"age\".\n",
        "- Populate it with values of your choice.\n",
        "- Add a new key-value pair, \"city\" with a value of your choice.\n",
        "- Display the keys in the dictionary using a Python command."
      ],
      "metadata": {
        "id": "DG_oSUHNHavq"
      }
    },
    {
      "cell_type": "code",
      "source": [
        "person = {}\n",
        "person = {\"first_name\": \"Bob\", \"last_name\": \"Ross\", \"age\": 52}\n",
        "person[\"city\"] = \"Daytona Beach\"                                                # Add a city to the dictionary\n",
        "person.keys()"
      ],
      "metadata": {
        "id": "JkX4tYm8OIvN",
        "colab": {
          "base_uri": "https://localhost:8080/"
        },
        "outputId": "95dadd13-d60a-40c7-f4c9-9eda0c42e64d"
      },
      "execution_count": null,
      "outputs": [
        {
          "output_type": "execute_result",
          "data": {
            "text/plain": [
              "dict_keys(['first_name', 'last_name', 'age', 'city'])"
            ]
          },
          "metadata": {},
          "execution_count": 13
        }
      ]
    },
    {
      "cell_type": "markdown",
      "source": [
        "## ***Q3: Set***\n",
        "- Create a set named colors with the values \"red\", \"blue\", \"green\".\n",
        "- Add \"yellow\" to the set and remove \"blue\".\n",
        "- Check if \"pink\" is in the set and display the result"
      ],
      "metadata": {
        "id": "Gn7bYGGKHax8"
      }
    },
    {
      "cell_type": "code",
      "source": [
        "colors = {\"Red\", \"Blue\", \"Green\"}\n",
        "colors.add(\"Yellow\")                                                             # Add \"yellow\" to a set\n",
        "colors.remove(\"Blue\")\n",
        "if \"pink\" in colors:\n",
        "  print(\"Pink is in the set.\")                                                  # Is \"pink\" in the set?\n",
        "else:\n",
        "  print(\"Pink is not in the set.\")"
      ],
      "metadata": {
        "id": "H-aVoa1bOJyv",
        "colab": {
          "base_uri": "https://localhost:8080/"
        },
        "outputId": "9bb97670-287a-4ae2-a9b3-593a0a0b74ca"
      },
      "execution_count": null,
      "outputs": [
        {
          "output_type": "stream",
          "name": "stdout",
          "text": [
            "Pink is not in the set.\n"
          ]
        }
      ]
    },
    {
      "cell_type": "markdown",
      "source": [
        "## ***Q4: Conditional Statements***\n",
        "Write a Python program that takes an input from the user and checks if the number is positive,\n",
        "negative, or zero."
      ],
      "metadata": {
        "id": "6d_Me6ndHaza"
      }
    },
    {
      "cell_type": "code",
      "source": [
        "number = int(input(\"Enter any whole number: \"))\n",
        "if number > 0:\n",
        "  print(\"This number is positive.\")                                             # If else; decides if number is greater than, less than, or equal to zero\n",
        "elif number == 0:\n",
        "  print(\"Son of a gun, this isn't positive or odd.\")\n",
        "else:\n",
        "  print(\"This number is negative.\")"
      ],
      "metadata": {
        "id": "pLuQL9GMOKNV",
        "colab": {
          "base_uri": "https://localhost:8080/"
        },
        "outputId": "85675f23-7539-4a11-9d04-479ce6ce0792"
      },
      "execution_count": null,
      "outputs": [
        {
          "output_type": "stream",
          "name": "stdout",
          "text": [
            "Enter any whole number: -4\n",
            "This number is negative.\n"
          ]
        }
      ]
    },
    {
      "cell_type": "markdown",
      "source": [
        "## ***Q5: Conditional Statements***\n",
        "Given a list of numbers: [23, 45, 8, 12, 78, 56, 89], write a Python program that prints out all even\n",
        "numbers from the list using a conditional statement."
      ],
      "metadata": {
        "id": "EiozgsuPHa1X"
      }
    },
    {
      "cell_type": "code",
      "source": [
        "numbs = [23, 45, 8, 12, 78, 56, 89]\n",
        "positive_numbs = 0\n",
        "for i in numbs:                                                                 # If statement to check if there is a remainder when dividing by two.\n",
        "  if i % 2 == 0:\n",
        "    positive_numbs += 1\n",
        "positive_numbs"
      ],
      "metadata": {
        "id": "QksXRTPSOKme",
        "colab": {
          "base_uri": "https://localhost:8080/"
        },
        "outputId": "743cf1e1-c12f-47ce-f858-a4a538ef3569"
      },
      "execution_count": null,
      "outputs": [
        {
          "output_type": "execute_result",
          "data": {
            "text/plain": [
              "4"
            ]
          },
          "metadata": {},
          "execution_count": 26
        }
      ]
    },
    {
      "cell_type": "markdown",
      "source": [
        "## ***Q6: Conditional Statements***\n",
        "Write a program that asks the user to enter their age. Based on the user's input, determine if they\n",
        "are eligible to vote (consider the voting age as 18)."
      ],
      "metadata": {
        "id": "qdU18vPeHa3z"
      }
    },
    {
      "cell_type": "code",
      "source": [
        "age = int(input(\"How old are you?: \"))                                          # If/else statement for condition\n",
        "if age >= 18:\n",
        "  print(\"You need to go out and vote!\")\n",
        "else:\n",
        "  print(\"You need to wait a few more years.\")"
      ],
      "metadata": {
        "id": "pTY-yjFVOLSH",
        "colab": {
          "base_uri": "https://localhost:8080/"
        },
        "outputId": "9387ac56-46c0-490e-888c-c27887b8f5b7"
      },
      "execution_count": null,
      "outputs": [
        {
          "output_type": "stream",
          "name": "stdout",
          "text": [
            "How old are you?: 12\n",
            "You need to wait a few more years.\n"
          ]
        }
      ]
    },
    {
      "cell_type": "markdown",
      "source": [
        "## ***Q7: While Loop***\n",
        "Write a program that prompts the user to enter numbers continuously (using a while loop) and\n",
        "stops taking inputs when the user enters 'q'. After that, display the sum of all the numbers entered."
      ],
      "metadata": {
        "id": "41pUgCOSRSLJ"
      }
    },
    {
      "cell_type": "code",
      "source": [
        "sum = 0                                                                         # Initialization\n",
        "while True:\n",
        "  user_numbers = input(\"Enter numbers, then enter 'q' when you'd like to recieve the sum: \")\n",
        "  if user_numbers == \"q\":                                                       # The user will continue being asked for integers, until they enter \"q\"\n",
        "    break\n",
        "  numbers = int(user_numbers)                                                   # Converts the inputs into numbers to be added into sum.\n",
        "  sum += numbers\n",
        "sum"
      ],
      "metadata": {
        "colab": {
          "base_uri": "https://localhost:8080/"
        },
        "id": "A2qxvC39RSge",
        "outputId": "63f99b7d-15fa-445d-ce9e-68e13167268f"
      },
      "execution_count": null,
      "outputs": [
        {
          "name": "stdout",
          "output_type": "stream",
          "text": [
            "Enter numbers, then enter 'q' when you'd like to recieve the sum: 1\n",
            "Enter numbers, then enter 'q' when you'd like to recieve the sum: 2\n",
            "Enter numbers, then enter 'q' when you'd like to recieve the sum: 3\n",
            "Enter numbers, then enter 'q' when you'd like to recieve the sum: 4\n",
            "Enter numbers, then enter 'q' when you'd like to recieve the sum: 5\n",
            "Enter numbers, then enter 'q' when you'd like to recieve the sum: 6\n",
            "Enter numbers, then enter 'q' when you'd like to recieve the sum: 7\n",
            "Enter numbers, then enter 'q' when you'd like to recieve the sum: 8\n",
            "Enter numbers, then enter 'q' when you'd like to recieve the sum: 9\n",
            "Enter numbers, then enter 'q' when you'd like to recieve the sum: 10\n",
            "Enter numbers, then enter 'q' when you'd like to recieve the sum: q\n"
          ]
        },
        {
          "output_type": "execute_result",
          "data": {
            "text/plain": [
              "55"
            ]
          },
          "metadata": {},
          "execution_count": 56
        }
      ]
    },
    {
      "cell_type": "markdown",
      "source": [
        "## ***Q8: While Loop***\n",
        "Create a Python program using a while loop that prints numbers from 10 down to 1 and then\n",
        "prints \"Liftoff!\"."
      ],
      "metadata": {
        "id": "P5AL0IlMRSvM"
      }
    },
    {
      "cell_type": "code",
      "source": [
        "countdown = 10                                                                  # Initialize countdown\n",
        "while countdown > 0:                                                            # While statement for when countdown is greater than 0.\n",
        "  print(countdown)\n",
        "  countdown -= 1\n",
        "if countdown == 0:\n",
        "  print(\"Liftoff!\")"
      ],
      "metadata": {
        "colab": {
          "base_uri": "https://localhost:8080/"
        },
        "id": "sMGMZZheRS8t",
        "outputId": "7c374a0a-0ef0-4c26-8495-875f1331834b"
      },
      "execution_count": null,
      "outputs": [
        {
          "output_type": "stream",
          "name": "stdout",
          "text": [
            "10\n",
            "9\n",
            "8\n",
            "7\n",
            "6\n",
            "5\n",
            "4\n",
            "3\n",
            "2\n",
            "1\n",
            "Liftoff!\n"
          ]
        }
      ]
    },
    {
      "cell_type": "markdown",
      "source": [
        "## ***Q9: While Loop***\n",
        "Create a program that asks the user for a number and then prints out the multiplication table for\n",
        "that number using a while loop.\n"
      ],
      "metadata": {
        "id": "cRRsqteCR9q-"
      }
    },
    {
      "cell_type": "code",
      "source": [
        "numba = int(input(\"Enter a number and I will provide a multiplication table (1-12): \"))\n",
        "while 0 < numba:\n",
        "  print(numba*1, numba*2, numba*3, numba*4, numba*5, numba*6, numba*7, numba*8, numba*9, numba*10, numba*11, numba*12 )\n",
        "  break"
      ],
      "metadata": {
        "colab": {
          "base_uri": "https://localhost:8080/"
        },
        "id": "ntnf9ho8R911",
        "outputId": "e9d8ff62-b4fd-4cd8-ceac-6bc74987a4f7"
      },
      "execution_count": null,
      "outputs": [
        {
          "output_type": "stream",
          "name": "stdout",
          "text": [
            "Enter a number and I will provide a multiplication table (1-12): 49\n",
            "49 98 147 196 245 294 343 392 441 490 539 588\n"
          ]
        }
      ]
    },
    {
      "cell_type": "markdown",
      "source": [
        "## ***Q10: For Loop***\n",
        "Given a list: [\"apple\", \"banana\", \"cherry\", \"date\"], use a for loop to print each fruit in the list."
      ],
      "metadata": {
        "id": "V4udw8RGR9_3"
      }
    },
    {
      "cell_type": "code",
      "source": [
        "fruits = [\"Apple\", \"Banana\", \"Cherry\", \"Date\"]\n",
        "for i in fruits:\n",
        "  print(i)"
      ],
      "metadata": {
        "colab": {
          "base_uri": "https://localhost:8080/"
        },
        "id": "tD2-L96FR-IR",
        "outputId": "2bd64ebb-b5a3-4b68-e75c-42f1b947d419"
      },
      "execution_count": null,
      "outputs": [
        {
          "output_type": "stream",
          "name": "stdout",
          "text": [
            "Apple\n",
            "Banana\n",
            "Cherry\n",
            "Date\n"
          ]
        }
      ]
    },
    {
      "cell_type": "markdown",
      "source": [
        "## ***Q11: For Loop***\n",
        "Using a for loop, calculate the factorial of a given number (n!). For example, if the given number\n",
        "is 5, the output should be 5 x 4 x 3 x 2 x 1 = 120."
      ],
      "metadata": {
        "id": "KXFKw6q3R-TQ"
      }
    },
    {
      "cell_type": "code",
      "source": [
        "numb = int(input(\"Enter a number and I will provide its factorial: \"))\n",
        "factorial = 1                                                                   # Initialization\n",
        "for i in range(1, numb + 1):\n",
        "  factorial *= i\n",
        "factorial"
      ],
      "metadata": {
        "colab": {
          "base_uri": "https://localhost:8080/"
        },
        "id": "1Df13CcHR-el",
        "outputId": "f30061c0-8d5c-4ee4-9a14-0fa80b584d7d"
      },
      "execution_count": null,
      "outputs": [
        {
          "name": "stdout",
          "output_type": "stream",
          "text": [
            "Enter a number and I will provide its factorial: 7\n"
          ]
        },
        {
          "output_type": "execute_result",
          "data": {
            "text/plain": [
              "5040"
            ]
          },
          "metadata": {},
          "execution_count": 43
        }
      ]
    },
    {
      "cell_type": "markdown",
      "source": [
        "## ***Q12: For Loop***\n",
        "Create a program using a for loop that prompts the user to enter five numbers. After all numbers\n",
        "are entered, the program should display the average of the numbers."
      ],
      "metadata": {
        "id": "HD2dyS17R-oo"
      }
    },
    {
      "cell_type": "code",
      "source": [
        "total = 0                                                                       # Initialize the total\n",
        "for i in range(5):                                                              # Create iteration to collect 5 numbers\n",
        "  numbs = int(input(f\"Enter number {i + 1}: \"))\n",
        "  total += numbs\n",
        "average = total/5\n",
        "print(f\"The average of your numbers is: {average}\")"
      ],
      "metadata": {
        "colab": {
          "base_uri": "https://localhost:8080/"
        },
        "id": "cnh-PAtkR-2f",
        "outputId": "3d8dc5d6-d8f6-4089-c401-062c873cb73e"
      },
      "execution_count": null,
      "outputs": [
        {
          "output_type": "stream",
          "name": "stdout",
          "text": [
            "Enter number 1: 1\n",
            "Enter number 2: 2\n",
            "Enter number 3: 3\n",
            "Enter number 4: 4\n",
            "Enter number 5: 5\n",
            "The average of your numbers is: 3.0\n"
          ]
        }
      ]
    }
  ]
}