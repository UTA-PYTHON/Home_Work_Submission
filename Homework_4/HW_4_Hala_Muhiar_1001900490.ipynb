{
  "nbformat": 4,
  "nbformat_minor": 0,
  "metadata": {
    "colab": {
      "provenance": []
    },
    "kernelspec": {
      "name": "python3",
      "display_name": "Python 3"
    },
    "language_info": {
      "name": "python"
    }
  },
  "cells": [
    {
      "cell_type": "markdown",
      "source": [
        "# **Data Structures**"
      ],
      "metadata": {
        "id": "C8djhPYCcNYr"
      }
    },
    {
      "cell_type": "markdown",
      "source": [
        "## **Question 1. List and Tuple**"
      ],
      "metadata": {
        "id": "NBp2GoLNcSW4"
      }
    },
    {
      "cell_type": "markdown",
      "source": [
        "**Create a list named fruits containing the following: 'apple', 'banana', 'cherry'.**"
      ],
      "metadata": {
        "id": "YQii5viAcXSH"
      }
    },
    {
      "cell_type": "code",
      "execution_count": 14,
      "metadata": {
        "id": "e1HwnT6acJqu"
      },
      "outputs": [],
      "source": [
        "fruits={'apple','banana','cherry'}"
      ]
    },
    {
      "cell_type": "markdown",
      "source": [
        "**Convert this list into a tuple.**"
      ],
      "metadata": {
        "id": "o5eTmxt1comQ"
      }
    },
    {
      "cell_type": "code",
      "source": [
        "fruits_tuple=tuple(fruits)"
      ],
      "metadata": {
        "id": "21UEfI4ecoGR"
      },
      "execution_count": 15,
      "outputs": []
    },
    {
      "cell_type": "markdown",
      "source": [
        "**Add 'orange' to the list of fruits.**"
      ],
      "metadata": {
        "id": "A8GJlyXgcwBs"
      }
    },
    {
      "cell_type": "code",
      "source": [
        "fruits.add('orange')"
      ],
      "metadata": {
        "id": "ngfJlmBFcvfN"
      },
      "execution_count": 16,
      "outputs": []
    },
    {
      "cell_type": "markdown",
      "source": [
        "**Show the difference in the content of the list and tuple after addition.**"
      ],
      "metadata": {
        "id": "-s--R4vUc8K2"
      }
    },
    {
      "cell_type": "code",
      "source": [
        "d=fruits.difference(fruits_tuple)\n",
        "print(d)"
      ],
      "metadata": {
        "colab": {
          "base_uri": "https://localhost:8080/"
        },
        "id": "bcxQiK3Qc7pt",
        "outputId": "85288f4b-232a-4374-a2bf-92744b356efc"
      },
      "execution_count": 17,
      "outputs": [
        {
          "output_type": "stream",
          "name": "stdout",
          "text": [
            "{'orange'}\n"
          ]
        }
      ]
    },
    {
      "cell_type": "markdown",
      "source": [
        "## **Question 2. Dictionary**"
      ],
      "metadata": {
        "id": "FVjchloBdMQ4"
      }
    },
    {
      "cell_type": "markdown",
      "source": [
        "**Create a dictionary named person with keys 'first_name', 'last_name', and 'age'.**\n",
        "\n",
        "**Populate it with values of your choice.**"
      ],
      "metadata": {
        "id": "A8qXiHb6dSWp"
      }
    },
    {
      "cell_type": "code",
      "source": [
        "person={'first_name':'Hala','last_name':'Muhiar','age':20}"
      ],
      "metadata": {
        "id": "iE_x_X1QdIO4"
      },
      "execution_count": null,
      "outputs": []
    },
    {
      "cell_type": "markdown",
      "source": [
        "**Add a new key-value pair 'city' with a value of your choice.**"
      ],
      "metadata": {
        "id": "v6Ep_NKfd5t1"
      }
    },
    {
      "cell_type": "code",
      "source": [
        "person['city']='Dallas'\n",
        "person"
      ],
      "metadata": {
        "colab": {
          "base_uri": "https://localhost:8080/"
        },
        "id": "vWyueCevd4ty",
        "outputId": "529d3e85-5e12-41c7-cc22-3e85765bd484"
      },
      "execution_count": null,
      "outputs": [
        {
          "output_type": "execute_result",
          "data": {
            "text/plain": [
              "{'first_name': 'Hala', 'last_name': 'Muhiar', 'age': 20, 'city': 'Dallas'}"
            ]
          },
          "metadata": {},
          "execution_count": 6
        }
      ]
    },
    {
      "cell_type": "markdown",
      "source": [
        "**Display the keys in the dictionary using a Python command.**"
      ],
      "metadata": {
        "id": "b929bElVeORX"
      }
    },
    {
      "cell_type": "code",
      "source": [
        "person.keys()"
      ],
      "metadata": {
        "colab": {
          "base_uri": "https://localhost:8080/"
        },
        "id": "A3ZJibZQeMJP",
        "outputId": "f4510a91-c53b-4bd4-d0d3-90e26b9256fd"
      },
      "execution_count": null,
      "outputs": [
        {
          "output_type": "execute_result",
          "data": {
            "text/plain": [
              "dict_keys(['first_name', 'last_name', 'age', 'city'])"
            ]
          },
          "metadata": {},
          "execution_count": 7
        }
      ]
    },
    {
      "cell_type": "markdown",
      "source": [
        "## **Question 3. Set**"
      ],
      "metadata": {
        "id": "kH12WR5veg0A"
      }
    },
    {
      "cell_type": "markdown",
      "source": [
        "**Create a set named colors with the values 'red', 'blue', 'green'.**"
      ],
      "metadata": {
        "id": "9jK48HLzekzu"
      }
    },
    {
      "cell_type": "code",
      "source": [
        "colors=set(['red','blue','green'])"
      ],
      "metadata": {
        "id": "pvHbtc1refrF"
      },
      "execution_count": null,
      "outputs": []
    },
    {
      "cell_type": "markdown",
      "source": [
        "**Add 'yellow' to the set and remove 'blue'.**"
      ],
      "metadata": {
        "id": "qeZ5mz7IfOjr"
      }
    },
    {
      "cell_type": "code",
      "source": [
        "colors.add('yellow')\n",
        "colors.remove('blue')\n",
        "print(colors)"
      ],
      "metadata": {
        "colab": {
          "base_uri": "https://localhost:8080/"
        },
        "id": "z4unukdmfOD9",
        "outputId": "f8906076-e663-4036-b830-ebf442e5ea35"
      },
      "execution_count": null,
      "outputs": [
        {
          "output_type": "stream",
          "name": "stdout",
          "text": [
            "{'red', 'green', 'yellow'}\n"
          ]
        }
      ]
    },
    {
      "cell_type": "markdown",
      "source": [
        "**Check if 'pink' is in the set and display the result.**"
      ],
      "metadata": {
        "id": "vnhvdmNwfg1s"
      }
    },
    {
      "cell_type": "code",
      "source": [
        "'pink' in colors"
      ],
      "metadata": {
        "colab": {
          "base_uri": "https://localhost:8080/"
        },
        "id": "zvchgN5xfauW",
        "outputId": "00b05120-c3c7-4c19-e9a6-f382004af487"
      },
      "execution_count": null,
      "outputs": [
        {
          "output_type": "execute_result",
          "data": {
            "text/plain": [
              "False"
            ]
          },
          "metadata": {},
          "execution_count": 11
        }
      ]
    },
    {
      "cell_type": "markdown",
      "source": [
        "---"
      ],
      "metadata": {
        "id": "74LHERGLfneW"
      }
    },
    {
      "cell_type": "markdown",
      "source": [
        "# **Conditional Statements**"
      ],
      "metadata": {
        "id": "gNJo9G78fp3V"
      }
    },
    {
      "cell_type": "markdown",
      "source": [
        "## **Question 4**"
      ],
      "metadata": {
        "id": "WnmAn54UnwSW"
      }
    },
    {
      "cell_type": "markdown",
      "source": [
        "**Write a Python program that takes an input from the user and checks if the number is positive, negative, or zero.**"
      ],
      "metadata": {
        "id": "dmmEKLKsfvpp"
      }
    },
    {
      "cell_type": "code",
      "source": [
        "n=int(input('Enter a number: '))\n",
        "if n>0:\n",
        "  print('Your number is positive.')\n",
        "elif n<0:\n",
        "  print('Your number is negative: ')\n",
        "else:\n",
        "  print('Your number is zero.')"
      ],
      "metadata": {
        "colab": {
          "base_uri": "https://localhost:8080/"
        },
        "id": "2fNEE8-vffu3",
        "outputId": "d017d173-0f40-4b5b-b22c-380e930c5728"
      },
      "execution_count": null,
      "outputs": [
        {
          "output_type": "stream",
          "name": "stdout",
          "text": [
            "Enter a number: 3\n",
            "Your number is positive.\n"
          ]
        }
      ]
    },
    {
      "cell_type": "markdown",
      "source": [
        "## **Question 5**"
      ],
      "metadata": {
        "id": "aCX6oTRRn3qy"
      }
    },
    {
      "cell_type": "markdown",
      "source": [
        "**Given a list of numbers: [23, 45, 8, 12, 78, 56, 89], write a Python program that prints out all even numbers from the list using a conditional statement.**"
      ],
      "metadata": {
        "id": "8eaSQPzFndrp"
      }
    },
    {
      "cell_type": "code",
      "source": [
        "numbers=[23,45,8,12,78,56,89]"
      ],
      "metadata": {
        "id": "67kEGNlknaSA"
      },
      "execution_count": null,
      "outputs": []
    },
    {
      "cell_type": "code",
      "source": [
        "for n in numbers:\n",
        "  if n%2==0:\n",
        "    print(n)"
      ],
      "metadata": {
        "colab": {
          "base_uri": "https://localhost:8080/"
        },
        "id": "ylyFHx8-oNcQ",
        "outputId": "2a814b96-faef-4363-8b0f-5e326b7cfc8f"
      },
      "execution_count": null,
      "outputs": [
        {
          "output_type": "stream",
          "name": "stdout",
          "text": [
            "8\n",
            "12\n",
            "78\n",
            "56\n"
          ]
        }
      ]
    },
    {
      "cell_type": "markdown",
      "source": [
        "## **Question 6**"
      ],
      "metadata": {
        "id": "XxfoJ41tpS5j"
      }
    },
    {
      "cell_type": "markdown",
      "source": [
        "**Write a program that asks the user to enter their age. Based on the user's input, determine if they are eligible to vote.**"
      ],
      "metadata": {
        "id": "AvA1Xz91pVqR"
      }
    },
    {
      "cell_type": "code",
      "source": [
        "vote_age=int(input('Enter your age: '))\n",
        "if vote_age>=18:\n",
        "  print('You are eligible to vote.')\n",
        "else:\n",
        "  print('You are not eligible to vote.')"
      ],
      "metadata": {
        "colab": {
          "base_uri": "https://localhost:8080/"
        },
        "id": "7dsCN9VRokHD",
        "outputId": "88f8e99e-075a-4ea2-d670-44a51fa4f86f"
      },
      "execution_count": null,
      "outputs": [
        {
          "output_type": "stream",
          "name": "stdout",
          "text": [
            "Enter your age: 20\n",
            "You are eligible to vote.\n"
          ]
        }
      ]
    },
    {
      "cell_type": "markdown",
      "source": [
        "---"
      ],
      "metadata": {
        "id": "QCKX1zSHqB9Q"
      }
    },
    {
      "cell_type": "markdown",
      "source": [
        "# **While Loop**"
      ],
      "metadata": {
        "id": "RSGG8SVnqDaf"
      }
    },
    {
      "cell_type": "markdown",
      "source": [
        "## **Question 7**"
      ],
      "metadata": {
        "id": "xXiM0VW8qMBK"
      }
    },
    {
      "cell_type": "markdown",
      "source": [
        "**Write a program that prompts the user to enter numbers continuously (using a while loop) and stops taking inputs when the user enters 'q'.**\n",
        "\n",
        "**After that, display the sum of the numbers entered.**"
      ],
      "metadata": {
        "id": "ab2QPiTfqQkX"
      }
    },
    {
      "cell_type": "code",
      "source": [
        "Sum=0\n",
        "\n",
        "while True:\n",
        "  num=input('Enter a number (or q to quit): ')\n",
        "  if num=='q':\n",
        "    break\n",
        "  else:\n",
        "    num1=int(num)\n",
        "    Sum+=num1\n",
        "print(Sum)"
      ],
      "metadata": {
        "colab": {
          "base_uri": "https://localhost:8080/"
        },
        "id": "NkB7qYEfpzNF",
        "outputId": "2c4b04a0-b828-48aa-b8c1-3ce83e9464fb"
      },
      "execution_count": 23,
      "outputs": [
        {
          "output_type": "stream",
          "name": "stdout",
          "text": [
            "Enter a number (or q to quit): 1\n",
            "Enter a number (or q to quit): 2\n",
            "Enter a number (or q to quit): 3\n",
            "Enter a number (or q to quit): 4\n",
            "Enter a number (or q to quit): 5\n",
            "Enter a number (or q to quit): q\n",
            "15\n"
          ]
        }
      ]
    },
    {
      "cell_type": "markdown",
      "source": [
        "## **Question 8**"
      ],
      "metadata": {
        "id": "uYu5JdTivthJ"
      }
    },
    {
      "cell_type": "markdown",
      "source": [
        "**Create a Python program using a while loop that prints numbers from 10 down to 1 and then prints 'Liftoff!'**"
      ],
      "metadata": {
        "id": "_k1cIv4Evv_x"
      }
    },
    {
      "cell_type": "code",
      "source": [
        "n=10\n",
        "\n",
        "while n>0:\n",
        "  print(n)\n",
        "  n=n-1\n",
        "print('Liftoff!')"
      ],
      "metadata": {
        "colab": {
          "base_uri": "https://localhost:8080/"
        },
        "id": "uqiuG1mpsx72",
        "outputId": "7625052e-8ee2-47cd-a696-ed771393c060"
      },
      "execution_count": null,
      "outputs": [
        {
          "output_type": "stream",
          "name": "stdout",
          "text": [
            "10\n",
            "9\n",
            "8\n",
            "7\n",
            "6\n",
            "5\n",
            "4\n",
            "3\n",
            "2\n",
            "1\n",
            "Liftoff!\n"
          ]
        }
      ]
    },
    {
      "cell_type": "markdown",
      "source": [
        "## **Question 9**"
      ],
      "metadata": {
        "id": "BbM2pRMzwkvW"
      }
    },
    {
      "cell_type": "markdown",
      "source": [
        "**Create a program that asks the user for a number and then prints out the multiplication table for that number using a while loop.**"
      ],
      "metadata": {
        "id": "xDDsYofYwtPL"
      }
    },
    {
      "cell_type": "code",
      "source": [
        "k=int(input('Enter a number: '))\n",
        "j=0\n",
        "\n",
        "print('Multiplication Table for',k)\n",
        "while j<=12:\n",
        "  j=j*1\n",
        "  print(k,'x',j,'=',(k*j))\n",
        "  j+=1"
      ],
      "metadata": {
        "id": "YGYzJybXwbwQ",
        "colab": {
          "base_uri": "https://localhost:8080/"
        },
        "outputId": "d6d32994-f2a5-4047-f353-2a7f3bbb6217"
      },
      "execution_count": null,
      "outputs": [
        {
          "output_type": "stream",
          "name": "stdout",
          "text": [
            "Enter a number: 12\n",
            "Multiplication Table for 12\n",
            "12 x 0 = 0\n",
            "12 x 1 = 12\n",
            "12 x 2 = 24\n",
            "12 x 3 = 36\n",
            "12 x 4 = 48\n",
            "12 x 5 = 60\n",
            "12 x 6 = 72\n",
            "12 x 7 = 84\n",
            "12 x 8 = 96\n",
            "12 x 9 = 108\n",
            "12 x 10 = 120\n",
            "12 x 11 = 132\n",
            "12 x 12 = 144\n"
          ]
        }
      ]
    },
    {
      "cell_type": "markdown",
      "source": [
        "---"
      ],
      "metadata": {
        "id": "S7sZcrCW3auV"
      }
    },
    {
      "cell_type": "markdown",
      "source": [
        "# **For Loop**"
      ],
      "metadata": {
        "id": "ieE9LOxZ3dZe"
      }
    },
    {
      "cell_type": "markdown",
      "source": [
        "## **Question 10**"
      ],
      "metadata": {
        "id": "xjJfYXA03hm0"
      }
    },
    {
      "cell_type": "markdown",
      "source": [
        "**Given a list: ['apple', 'banana', 'cherry', 'date'], use a for loop to print each fruit in the list.**"
      ],
      "metadata": {
        "id": "uPgbw2E23nrr"
      }
    },
    {
      "cell_type": "code",
      "source": [
        "fruits2=['apple','banana','cherry','date']\n",
        "\n",
        "for f in fruits2:\n",
        "  print(f)"
      ],
      "metadata": {
        "id": "MouJjZeVQoOo",
        "colab": {
          "base_uri": "https://localhost:8080/"
        },
        "outputId": "a8e8b745-a6b6-4fed-b32f-ead646c3f5c9"
      },
      "execution_count": null,
      "outputs": [
        {
          "output_type": "stream",
          "name": "stdout",
          "text": [
            "apple\n",
            "banana\n",
            "cherry\n",
            "date\n"
          ]
        }
      ]
    },
    {
      "cell_type": "markdown",
      "source": [
        "## **Question 11**"
      ],
      "metadata": {
        "id": "ix_-Gr2i4KfE"
      }
    },
    {
      "cell_type": "markdown",
      "source": [
        "**Using a for loop, calculate the factorial of a given number (n!). For example, if the given number is 5, the output should be 5 x 4 x 3 x 2 x 1 = 120.**"
      ],
      "metadata": {
        "id": "TxfKnoXk4NoY"
      }
    },
    {
      "cell_type": "code",
      "source": [
        "user_num=int(input('Enter a number: '))\n",
        "fact=1\n",
        "\n",
        "if user_num==0:\n",
        "  print('The factorial of zero is one.')\n",
        "elif user_num<0:\n",
        "  print('Cannot compute.')\n",
        "else:\n",
        "  for g in range(1,user_num+1):\n",
        "    fact=fact*g\n",
        "  print(f'{user_num}!=',fact)"
      ],
      "metadata": {
        "colab": {
          "base_uri": "https://localhost:8080/"
        },
        "id": "Ng96jgP84HPF",
        "outputId": "9b0d69ee-8623-4c83-8587-7ce8b6aad9f3"
      },
      "execution_count": null,
      "outputs": [
        {
          "output_type": "stream",
          "name": "stdout",
          "text": [
            "Enter a number: 7\n",
            "7!= 5040\n"
          ]
        }
      ]
    },
    {
      "cell_type": "markdown",
      "source": [
        "## **Question 12**"
      ],
      "metadata": {
        "id": "WsAANqD1Ahqf"
      }
    },
    {
      "cell_type": "markdown",
      "source": [
        "**Create a program using a for loop that prompts the user to enter five numbers. After all the numbers are entered, the program should display the average of the numbers.**"
      ],
      "metadata": {
        "id": "gUbPQPdVAlSc"
      }
    },
    {
      "cell_type": "code",
      "source": [
        "q=int(input('Enter a number: '))\n",
        "w=int(input('Enter a number: '))\n",
        "e=int(input('Enter a number: '))\n",
        "r=int(input('Enter a number: '))\n",
        "t=int(input('Enter a number: '))\n",
        "\n",
        "y=[q,w,e,r,t]\n",
        "o=len(y)\n",
        "a=q+w+e+r+t\n",
        "\n",
        "for h in y:\n",
        "  w=a/o\n",
        "print(a/o)"
      ],
      "metadata": {
        "id": "FLrhMEefAJi5",
        "colab": {
          "base_uri": "https://localhost:8080/"
        },
        "outputId": "d459bcb1-a97d-4381-accb-4581289d451b"
      },
      "execution_count": 21,
      "outputs": [
        {
          "output_type": "stream",
          "name": "stdout",
          "text": [
            "Enter a number: 2\n",
            "Enter a number: 4\n",
            "Enter a number: 6\n",
            "Enter a number: 8\n",
            "Enter a number: 10\n",
            "6.0\n"
          ]
        }
      ]
    },
    {
      "cell_type": "code",
      "source": [],
      "metadata": {
        "id": "N18hN46rB95Z"
      },
      "execution_count": null,
      "outputs": []
    }
  ]
}