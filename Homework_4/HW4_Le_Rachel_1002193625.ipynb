{
  "nbformat": 4,
  "nbformat_minor": 0,
  "metadata": {
    "colab": {
      "provenance": []
    },
    "kernelspec": {
      "name": "python3",
      "display_name": "Python 3"
    },
    "language_info": {
      "name": "python"
    }
  },
  "cells": [
    {
      "cell_type": "markdown",
      "source": [
        "Rachel Le\n",
        "1002193625"
      ],
      "metadata": {
        "id": "EBEzCzdUaAJ_"
      }
    },
    {
      "cell_type": "markdown",
      "source": [
        "---"
      ],
      "metadata": {
        "id": "zUkL8fvvaCUQ"
      }
    },
    {
      "cell_type": "markdown",
      "source": [
        "1. List and Tuple:\n",
        "\n",
        "- Create a list named fruits containing the following: \"apple\", \"banana\", \"cherry\".\n",
        "- Convert this list into a tuple.\n",
        "- Add \"orange\" to the list of fruits.\n",
        "- show the difference in the content of the list and tuple after hte addition."
      ],
      "metadata": {
        "id": "6EjJ33rWaFa7"
      }
    },
    {
      "cell_type": "code",
      "execution_count": 1,
      "metadata": {
        "colab": {
          "base_uri": "https://localhost:8080/"
        },
        "id": "g4xh7RXlZ8Yv",
        "outputId": "e7b5d906-6820-4a80-e4cc-b09beefe3ed1"
      },
      "outputs": [
        {
          "output_type": "stream",
          "name": "stdout",
          "text": [
            "['apple', 'banana', 'cherry', 'orange']\n",
            "('apple', 'banana', 'cherry')\n"
          ]
        }
      ],
      "source": [
        "fruits=['apple','banana','cherry'] #creation of list\n",
        "fruits_t = tuple(fruits) #conversion of fruits list into a tuple\n",
        "fruits.append('orange') #adding 'orange' to the fruits list\n",
        "print (fruits) # showing fruits list after addition of orange\n",
        "print (fruits_t) #showing fruits tuple"
      ]
    },
    {
      "cell_type": "markdown",
      "source": [
        "---"
      ],
      "metadata": {
        "id": "ChY50kFwbPA5"
      }
    },
    {
      "cell_type": "markdown",
      "source": [
        "2. Dictionary:\n",
        "\n",
        "- Create a dictionary named person with keys \"first_name\", \"last_name\", and \"age\". Populate it with values of your choice.\n",
        "- Add a new key-value pair, \"city\" with a value of your choice.\n",
        "- Display the keys in the dictionary using a Python command."
      ],
      "metadata": {
        "id": "0sOXMpWRa9QZ"
      }
    },
    {
      "cell_type": "code",
      "source": [
        "person={'first_name':'Rachel','last_name':'Le','age': 26} #creation of dictionary\n",
        "person['city']='Arlington' #addition of key-value pair\n",
        "person.keys() #displaying keys from dictionary"
      ],
      "metadata": {
        "colab": {
          "base_uri": "https://localhost:8080/"
        },
        "id": "-stbZIsaa1aJ",
        "outputId": "c59311af-d4c6-4c52-82a7-edd0cf9b3369"
      },
      "execution_count": 2,
      "outputs": [
        {
          "output_type": "execute_result",
          "data": {
            "text/plain": [
              "dict_keys(['first_name', 'last_name', 'age', 'city'])"
            ]
          },
          "metadata": {},
          "execution_count": 2
        }
      ]
    },
    {
      "cell_type": "markdown",
      "source": [
        "---"
      ],
      "metadata": {
        "id": "svn-qsZUbp9a"
      }
    },
    {
      "cell_type": "markdown",
      "source": [
        "3. Set:\n",
        "\n",
        "- Create a set named colors with values \"red\", \"blue\", \"green\".\n",
        "- Add \"yellow\" to the set and remove \"blue\".\n",
        "- Check if \"pink\" is in the set and display the result."
      ],
      "metadata": {
        "id": "kxTren_bbqjI"
      }
    },
    {
      "cell_type": "code",
      "source": [
        "colors={'red','blue','green'} #creation of set\n",
        "colors.add('yellow') #adding 'yellow' to set\n",
        "colors.remove('blue') #removing 'blue' from set\n",
        "print(colors) #checking that previous addition/removal occurred\n",
        "'pink' in colors #checking if 'pink' appears in colors set"
      ],
      "metadata": {
        "colab": {
          "base_uri": "https://localhost:8080/"
        },
        "id": "ttEePm4Xbl-_",
        "outputId": "bb735372-a515-4b02-b663-b0fbf714a5be"
      },
      "execution_count": 5,
      "outputs": [
        {
          "output_type": "stream",
          "name": "stdout",
          "text": [
            "{'green', 'red', 'yellow'}\n"
          ]
        },
        {
          "output_type": "execute_result",
          "data": {
            "text/plain": [
              "False"
            ]
          },
          "metadata": {},
          "execution_count": 5
        }
      ]
    },
    {
      "cell_type": "markdown",
      "source": [
        "---"
      ],
      "metadata": {
        "id": "HHqoElEecuXd"
      }
    },
    {
      "cell_type": "markdown",
      "source": [
        "Conditional Statements:"
      ],
      "metadata": {
        "id": "ODPKS50IcvMC"
      }
    },
    {
      "cell_type": "markdown",
      "source": [
        "4. Write a Python program that takes an input from the user and checks if the number is positive, negative, or zero."
      ],
      "metadata": {
        "id": "-bPRDqBncxbC"
      }
    },
    {
      "cell_type": "code",
      "source": [
        "num=int(input(\"Enter a number:\")) #code for user input for an integer\n",
        "if num > 0:\n",
        "  print(\"positive\") #if statement for if number is positive\n",
        "elif num < 0:\n",
        "  print(\"negative\") #if else statement for if number is negative\n",
        "elif num==0:\n",
        "  print(zero) #if else statement for if number is zero"
      ],
      "metadata": {
        "colab": {
          "base_uri": "https://localhost:8080/"
        },
        "id": "k09a_hvlchw8",
        "outputId": "e05c4593-9122-4e3d-fab5-35e5ee362af3"
      },
      "execution_count": 8,
      "outputs": [
        {
          "output_type": "stream",
          "name": "stdout",
          "text": [
            "Enter a number:2\n",
            "positive\n"
          ]
        }
      ]
    },
    {
      "cell_type": "markdown",
      "source": [
        "5. Given a list of numbers: [23,45,8,12,78,56,89], write a Python program that prints out all even numbers from the list using a conditional statement."
      ],
      "metadata": {
        "id": "txu1DaJBeAR_"
      }
    },
    {
      "cell_type": "code",
      "source": [
        "nums=[23,45,8,12,78,56,89] #creating list of numbers\n",
        "for i in nums: #for loop for each value in list\n",
        "  if i%2==0:  #if statement to determine if number is even\n",
        "    print(i) #prints value in list if the 'if statement' is true"
      ],
      "metadata": {
        "colab": {
          "base_uri": "https://localhost:8080/"
        },
        "id": "EsH8A7oMd6wd",
        "outputId": "d4f795f4-8cb3-4ee1-f8d3-bf357e5bcc67"
      },
      "execution_count": 10,
      "outputs": [
        {
          "output_type": "stream",
          "name": "stdout",
          "text": [
            "8\n",
            "12\n",
            "78\n",
            "56\n"
          ]
        }
      ]
    },
    {
      "cell_type": "markdown",
      "source": [
        "6. Write a program that asks the user to enter their age. Based on the user's input, determine if they are eligible to vote (consider the voting age as 18)."
      ],
      "metadata": {
        "id": "rahyh42selrh"
      }
    },
    {
      "cell_type": "code",
      "source": [
        "age=int(input(\"Enter your age:\")) #creating user input asking for user's age\n",
        "if age>=18: #if statement to determine if age is 18 or older\n",
        "  print(\"You are eligible to vote\") #message for when user is eligible to vote\n",
        "else:\n",
        "  print(\"You are not eligible to vote yet\") #message if user is not eligible to vote"
      ],
      "metadata": {
        "colab": {
          "base_uri": "https://localhost:8080/"
        },
        "id": "AZDjYHjkeilJ",
        "outputId": "313e5679-f4d7-46da-a76a-ed55286b9069"
      },
      "execution_count": 12,
      "outputs": [
        {
          "output_type": "stream",
          "name": "stdout",
          "text": [
            "Enter your age:26\n",
            "You are eligible to vote\n"
          ]
        }
      ]
    },
    {
      "cell_type": "markdown",
      "source": [
        "---"
      ],
      "metadata": {
        "id": "nulrXiJTfomp"
      }
    },
    {
      "cell_type": "markdown",
      "source": [
        "While Loop:"
      ],
      "metadata": {
        "id": "ypyKvFiufqLF"
      }
    },
    {
      "cell_type": "markdown",
      "source": [
        "7. Write a program that prompts the user to enter numbers continuously (using a while loop) and stops taking inputs when the user enters 'q'. After that, display the sum of all the numbers entered."
      ],
      "metadata": {
        "id": "iyHGMv7bftp9"
      }
    },
    {
      "cell_type": "code",
      "source": [
        "num=(input(\"Enter a number:\")) #asking for user input\n",
        "sum=0 #creating a variable to be used to sum all numbers\n",
        "while num!='q': #while loop looking for whether user has input 'q'\n",
        "  num=int(num) #turns user input into a integer value\n",
        "  sum+=num #adds the number into the sum total\n",
        "  num=(input(\"Enter a number:\")) #prompts user to input another number\n",
        "print(sum) #prints sum of all user inputs once user inputs 'q'"
      ],
      "metadata": {
        "colab": {
          "base_uri": "https://localhost:8080/"
        },
        "id": "WS1FolsDfbCA",
        "outputId": "a7632775-de2c-45c0-af65-4ba560666c18"
      },
      "execution_count": 15,
      "outputs": [
        {
          "output_type": "stream",
          "name": "stdout",
          "text": [
            "Enter a number:2\n",
            "Enter a number:3\n",
            "Enter a number:4\n",
            "Enter a number:1\n",
            "Enter a number:1\n",
            "Enter a number:q\n",
            "11\n"
          ]
        }
      ]
    },
    {
      "cell_type": "markdown",
      "source": [
        "8. Create a Python program using a while loop that prints numbers from 10 down to 1 and then prints \"Liftoff!\"."
      ],
      "metadata": {
        "id": "YRb0bOjWn4ZU"
      }
    },
    {
      "cell_type": "code",
      "source": [
        "num=10 #setting up count down for while loop\n",
        "while num<=10 and num>0: #while loop for count down from 10, num>0 to prevent code for going on continuously into the negative\n",
        "  print(num) #prints the number, aka the count down\n",
        "  num-=1 #sets up for next loop by lowering number by 1\n",
        "print(\"Liftoff!\") #once while loop is complete prints message"
      ],
      "metadata": {
        "colab": {
          "base_uri": "https://localhost:8080/"
        },
        "id": "fRtQ_A0xncIN",
        "outputId": "bed5c27f-c83a-4435-e3e1-f2a591617954"
      },
      "execution_count": 18,
      "outputs": [
        {
          "output_type": "stream",
          "name": "stdout",
          "text": [
            "10\n",
            "9\n",
            "8\n",
            "7\n",
            "6\n",
            "5\n",
            "4\n",
            "3\n",
            "2\n",
            "1\n",
            "Liftoff!\n"
          ]
        }
      ]
    },
    {
      "cell_type": "markdown",
      "source": [
        "9. Create a program that asks the user for a number and then prints out the multiplication table for that number using a while loop."
      ],
      "metadata": {
        "id": "Ah_h2uzuocC6"
      }
    },
    {
      "cell_type": "code",
      "source": [
        "num=int(input(\"Enter a number:\")) #getting user input\n",
        "mult=1\n",
        "while mult<=12: #while loop set up for multiplication table for 1-12 of the input number\n",
        "  print(num, 'times', mult, '=', mult*num) #giving the multiplication value\n",
        "  mult+=1"
      ],
      "metadata": {
        "colab": {
          "base_uri": "https://localhost:8080/"
        },
        "id": "Vpo3_4etoQ4s",
        "outputId": "741d1726-c070-4967-e2ee-45067b476997"
      },
      "execution_count": 21,
      "outputs": [
        {
          "output_type": "stream",
          "name": "stdout",
          "text": [
            "Enter a number:3\n",
            "3 times 1 = 3\n",
            "3 times 2 = 6\n",
            "3 times 3 = 9\n",
            "3 times 4 = 12\n",
            "3 times 5 = 15\n",
            "3 times 6 = 18\n",
            "3 times 7 = 21\n",
            "3 times 8 = 24\n",
            "3 times 9 = 27\n",
            "3 times 10 = 30\n",
            "3 times 11 = 33\n",
            "3 times 12 = 36\n"
          ]
        }
      ]
    },
    {
      "cell_type": "markdown",
      "source": [
        "---"
      ],
      "metadata": {
        "id": "7TDUZD-hp7Qk"
      }
    },
    {
      "cell_type": "markdown",
      "source": [
        "For Loop:"
      ],
      "metadata": {
        "id": "3fSGrOxXp82X"
      }
    },
    {
      "cell_type": "markdown",
      "source": [
        "10. Given a list:['apple','banana','cherry','date'], use a for loop to print each fruit in the list."
      ],
      "metadata": {
        "id": "YWFOCAJhp9x_"
      }
    },
    {
      "cell_type": "code",
      "source": [
        "fruit=['apple','banana','cherry','date'] #creating list of fruits\n",
        "for i in fruit: #for loop for each element in fruit list\n",
        "  print(i) #print the element in fruit list"
      ],
      "metadata": {
        "colab": {
          "base_uri": "https://localhost:8080/"
        },
        "id": "ylEUzL_9pzbb",
        "outputId": "d14ce944-8d07-4ab1-de92-8b54dd083702"
      },
      "execution_count": 22,
      "outputs": [
        {
          "output_type": "stream",
          "name": "stdout",
          "text": [
            "apple\n",
            "banana\n",
            "cherry\n",
            "date\n"
          ]
        }
      ]
    },
    {
      "cell_type": "markdown",
      "source": [
        "11. Using a for loop, calculate the factorial of a given number (n!). For example, if the given number is 5, the output should be 5x4x3x2x1=120."
      ],
      "metadata": {
        "id": "vWRzb6cUqRKx"
      }
    },
    {
      "cell_type": "code",
      "source": [
        "n=5 #given number for calculation\n",
        "output=n #variable needed for 'for loop' calculations to work\n",
        "for i in range(1,n): #for loop going from 1 to n-1\n",
        "  output=output*i\n",
        "print(output) #printing factorial"
      ],
      "metadata": {
        "colab": {
          "base_uri": "https://localhost:8080/"
        },
        "id": "BKMrDtKYqLgs",
        "outputId": "6adb8f45-69b5-4f46-b01d-a10d0a75eecb"
      },
      "execution_count": 31,
      "outputs": [
        {
          "output_type": "stream",
          "name": "stdout",
          "text": [
            "120\n"
          ]
        }
      ]
    },
    {
      "cell_type": "markdown",
      "source": [
        "12. Create a program using a for loop that prompts the user to enter five numbers. After all numbers are entered, the program should display the average of the numbers."
      ],
      "metadata": {
        "id": "CTUsr7iRsUr7"
      }
    },
    {
      "cell_type": "code",
      "source": [
        "sum=0 #variable created to keep track of the sum of the user's inputs\n",
        "for i in range(1,6): #for loop that repeats 5 times asking for user to input a number\n",
        "  num=int(input(\"Enter a number:\")) #asking for user input within loop\n",
        "  sum+=num #adding user's input into sum total\n",
        "average=sum/5 #calculating the average of all the user's inputs\n",
        "print(average) #printing the results\n"
      ],
      "metadata": {
        "colab": {
          "base_uri": "https://localhost:8080/"
        },
        "id": "G1w8bkU2rFMX",
        "outputId": "dba79b31-453b-4ba4-e70b-5199f1d08ef4"
      },
      "execution_count": 34,
      "outputs": [
        {
          "output_type": "stream",
          "name": "stdout",
          "text": [
            "Enter a number:2\n",
            "Enter a number:3\n",
            "Enter a number:4\n",
            "Enter a number:5\n",
            "Enter a number:6\n",
            "4.0\n"
          ]
        }
      ]
    },
    {
      "cell_type": "code",
      "source": [
        "34"
      ],
      "metadata": {
        "id": "YHBkDg8KtV1N"
      },
      "execution_count": null,
      "outputs": []
    }
  ]
}