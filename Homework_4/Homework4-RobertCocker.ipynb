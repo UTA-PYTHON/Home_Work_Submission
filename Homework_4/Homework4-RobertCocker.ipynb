{
 "cells": [
  {
   "cell_type": "markdown",
   "id": "4091b8b6",
   "metadata": {},
   "source": [
    "# **Homework 4: Data Structures, Conditional Statements, and Loops**\n",
    "## Robert Cocker\n",
    "## Dr. Rostami\n",
    "## 1001511441\n",
    "## DATA3401\n",
    "## 9/28/23"
   ]
  },
  {
   "cell_type": "markdown",
   "id": "efb86a3f",
   "metadata": {},
   "source": [
    "### Data Structures:"
   ]
  },
  {
   "cell_type": "code",
   "execution_count": 14,
   "id": "58c29617",
   "metadata": {},
   "outputs": [],
   "source": [
    "# 1. List and Tuple\n",
    "# Create a list named fruits containing the following: \"apple\", \"banana\", \"cherry\".\n",
    "fruits= ['apple', 'banana', 'cherry']"
   ]
  },
  {
   "cell_type": "code",
   "execution_count": 15,
   "id": "2778ca4d",
   "metadata": {},
   "outputs": [],
   "source": [
    "# Convert the list into a tuple.\n",
    "fruit_tuple= tuple(fruits)"
   ]
  },
  {
   "cell_type": "code",
   "execution_count": 16,
   "id": "865061b0",
   "metadata": {},
   "outputs": [
    {
     "name": "stdout",
     "output_type": "stream",
     "text": [
      "('apple', 'banana', 'cherry')\n"
     ]
    }
   ],
   "source": [
    "# Display results\n",
    "print(fruit_tuple)"
   ]
  },
  {
   "cell_type": "code",
   "execution_count": 17,
   "id": "57a950dd",
   "metadata": {},
   "outputs": [
    {
     "name": "stdout",
     "output_type": "stream",
     "text": [
      "['apple', 'banana', 'cherry']\n",
      "('apple', 'banana', 'cherry', 'orange')\n"
     ]
    }
   ],
   "source": [
    "# Add \"orange\" to the list of fruits.\n",
    "# Show the difference in the content of the list and tuple after the addition.\n",
    "orange_fruit = 'orange'\n",
    "fruit_tuple2 = fruit_tuple + (orange_fruit,)\n",
    "print(fruits)\n",
    "print(fruit_tuple2)"
   ]
  },
  {
   "cell_type": "code",
   "execution_count": 18,
   "id": "f28e20b0",
   "metadata": {},
   "outputs": [
    {
     "name": "stdout",
     "output_type": "stream",
     "text": [
      "{'first_name': 'James', 'last_name': 'Bond', 'age': 35, 'city': 'London'}\n"
     ]
    }
   ],
   "source": [
    "# 2. Dictionary\n",
    "# Create a dictionary named person with keys \"first_name\", \"last_name\", and \"age\".\n",
    "# Populate it with values of your choice\n",
    "# Add a new key-value pair, \"city\" with a value of your choice.\n",
    "# Display the keys in a dictionary using a Python command.\n",
    "person= {'first_name': 'James', 'last_name': 'Bond', 'age': 35}\n",
    "person['city']= 'London'\n",
    "print(person)"
   ]
  },
  {
   "cell_type": "code",
   "execution_count": 19,
   "id": "5abccd5f",
   "metadata": {},
   "outputs": [],
   "source": [
    "# 3. Set\n",
    "# Create a set named colors with the values \"red\", \"blue\", \"green\".\n",
    "colors= {'red', 'blue', 'green'}"
   ]
  },
  {
   "cell_type": "code",
   "execution_count": 20,
   "id": "9856bc61",
   "metadata": {},
   "outputs": [
    {
     "name": "stdout",
     "output_type": "stream",
     "text": [
      "{'red', 'yellow', 'green'}\n"
     ]
    }
   ],
   "source": [
    "# Add \"yellow\" to the set and remove \"blue\"\n",
    "colors.add('yellow')\n",
    "colors.remove('blue')\n",
    "print(colors)"
   ]
  },
  {
   "cell_type": "code",
   "execution_count": 21,
   "id": "64a7dec9",
   "metadata": {},
   "outputs": [
    {
     "data": {
      "text/plain": [
       "False"
      ]
     },
     "execution_count": 21,
     "metadata": {},
     "output_type": "execute_result"
    }
   ],
   "source": [
    "# Check if \"pink\" is in the set and display the result.\n",
    "'pink' in colors"
   ]
  },
  {
   "cell_type": "markdown",
   "id": "cd427338",
   "metadata": {},
   "source": [
    "### Conditional Statements:"
   ]
  },
  {
   "cell_type": "code",
   "execution_count": 22,
   "id": "0922bfc4",
   "metadata": {},
   "outputs": [
    {
     "name": "stdout",
     "output_type": "stream",
     "text": [
      "Enter number: 50\n",
      "50 is positive\n"
     ]
    }
   ],
   "source": [
    "# 4. Write a Python program that takes an input from the user and checks if the number is positive, negative, or zero.\n",
    "num_input= input('Enter number: ')\n",
    "integer_input= int(num_input)\n",
    "\n",
    "if integer_input>0:\n",
    "    print(f'{integer_input} is positive')\n",
    "elif integer_input<0:\n",
    "    print(f'{integer_input} is negative')\n",
    "else:\n",
    "    print(f'{integer_input} is zero')"
   ]
  },
  {
   "cell_type": "code",
   "execution_count": 23,
   "id": "84bccf23",
   "metadata": {},
   "outputs": [
    {
     "name": "stdout",
     "output_type": "stream",
     "text": [
      "8 is even\n",
      "12 is even\n",
      "78 is even\n",
      "56 is even\n"
     ]
    }
   ],
   "source": [
    "# 5. Given a list of numbers: [23, 45, 8, 12, 78, 56, 89], write a Python program that prints out all even numbers from the \n",
    "# list using a conditional statement.  \n",
    "list= [23, 45, 8, 12, 78, 56, 89]\n",
    "\n",
    "for i in list:\n",
    "    if i%2==0:\n",
    "        print(f'{i} is even')"
   ]
  },
  {
   "cell_type": "code",
   "execution_count": 24,
   "id": "681e778d",
   "metadata": {},
   "outputs": [
    {
     "name": "stdout",
     "output_type": "stream",
     "text": [
      "Enter your age:35\n",
      "You are eligible to vote\n"
     ]
    }
   ],
   "source": [
    "# 6. Write a program that asks the user to enter their age. Based on the user's input, determine if they are eligible to \n",
    "# vote (consider the voting age as 18).\n",
    "age= int(input('Enter your age:'))\n",
    "\n",
    "if age<18: \n",
    "    print('you are not eligible to vote')\n",
    "else:\n",
    "    print('You are eligible to vote')"
   ]
  },
  {
   "cell_type": "markdown",
   "id": "9c8d32f6",
   "metadata": {},
   "source": [
    "### While Loop:"
   ]
  },
  {
   "cell_type": "code",
   "execution_count": 25,
   "id": "76e1d231",
   "metadata": {},
   "outputs": [
    {
     "name": "stdout",
     "output_type": "stream",
     "text": [
      "Enter a number (or 'q' to quit): 4\n",
      "Enter a number (or 'q' to quit): 5\n",
      "Enter a number (or 'q' to quit): 6\n",
      "Enter a number (or 'q' to quit): 7\n",
      "Enter a number (or 'q' to quit): q\n",
      "Sum of all numbers entered: 22.0\n"
     ]
    }
   ],
   "source": [
    "# 7. Write a program that prompts the user to enter numbers continuously (using a while loop) and stops taking inputs when \n",
    "# the user enters 'q'. After that, display the sum of all the numbers entered.\n",
    "total = 0\n",
    "\n",
    "while True:\n",
    "    user_input = input(\"Enter a number (or 'q' to quit): \")\n",
    "    if user_input.lower() == 'q':\n",
    "        break  # Exit the loop if 'q' is entered\n",
    "    try:\n",
    "        number = float(user_input)\n",
    "        total += number  \n",
    "    except ValueError:\n",
    "        print(\"Invalid input. Please enter a valid number.\")\n",
    "print(\"Sum of all numbers entered:\", total)"
   ]
  },
  {
   "cell_type": "code",
   "execution_count": 26,
   "id": "e102932f",
   "metadata": {},
   "outputs": [
    {
     "name": "stdout",
     "output_type": "stream",
     "text": [
      "10\n",
      "9\n",
      "8\n",
      "7\n",
      "6\n",
      "5\n",
      "4\n",
      "3\n",
      "2\n",
      "1\n",
      "0\n",
      "Liftoff!\n"
     ]
    }
   ],
   "source": [
    "# 8. Create a Python program using a while loop that prints numbers from 10 down to 1 and then prints \"Liftoff!\"\n",
    "count=10\n",
    "\n",
    "while count>-1:\n",
    "    print(count)\n",
    "    count=count-1\n",
    "    if count == -1:\n",
    "        break\n",
    "print('Liftoff!')"
   ]
  },
  {
   "cell_type": "code",
   "execution_count": 27,
   "id": "19c28a40",
   "metadata": {},
   "outputs": [
    {
     "name": "stdout",
     "output_type": "stream",
     "text": [
      "Enter a number: 4\n",
      "Multiplication table for 4:\n",
      "4 x 1 = 4\n",
      "4 x 2 = 8\n",
      "4 x 3 = 12\n",
      "4 x 4 = 16\n",
      "4 x 5 = 20\n",
      "4 x 6 = 24\n",
      "4 x 7 = 28\n",
      "4 x 8 = 32\n",
      "4 x 9 = 36\n",
      "4 x 10 = 40\n",
      "4 x 11 = 44\n",
      "4 x 12 = 48\n"
     ]
    }
   ],
   "source": [
    "# 9. Create a program that asks the user for a number and then prints out the multiplication table for that number using a \n",
    "# while loop.\n",
    "number = int(input('Enter a number: '))\n",
    "counter = 1\n",
    "print(f\"Multiplication table for {number}:\")\n",
    "while counter <= 12:\n",
    "    result = number * counter\n",
    "    print(f\"{number} x {counter} = {result}\")\n",
    "    counter += 1"
   ]
  },
  {
   "cell_type": "markdown",
   "id": "8fff778a",
   "metadata": {},
   "source": [
    "### For Loop:"
   ]
  },
  {
   "cell_type": "code",
   "execution_count": 28,
   "id": "4bf7d265",
   "metadata": {},
   "outputs": [
    {
     "name": "stdout",
     "output_type": "stream",
     "text": [
      "apple\n",
      "banana\n",
      "cherry\n",
      "date\n"
     ]
    }
   ],
   "source": [
    "# 10. Given a list: [\"apple\", \"banana\", \"cherry\", \"date\"], use a for loop to print each fruit in the list.\n",
    "list= ['apple', 'banana', 'cherry', 'date']\n",
    "\n",
    "for i in list:\n",
    "    print(i)"
   ]
  },
  {
   "cell_type": "code",
   "execution_count": 29,
   "id": "a4b7b56c",
   "metadata": {},
   "outputs": [
    {
     "name": "stdout",
     "output_type": "stream",
     "text": [
      "Enter a number: 6\n",
      "6! = 1 x 2 x 3 x 4 x 5 x 6 = 720\n"
     ]
    }
   ],
   "source": [
    "# 11. Using a for loop, calculate the factorial of a given number (n!). For example, if the given number is 5, the output \n",
    "# should be 5 x 4 x 3 x 2 x 1 = 120.\n",
    "n = int(input(\"Enter a number: \"))\n",
    "factorial = 1\n",
    "\n",
    "multiplication_process = \"\"\n",
    "for i in range(1, n + 1):\n",
    "    factorial *= i\n",
    "    if i == 1:\n",
    "        multiplication_process = str(i)\n",
    "    else:\n",
    "        multiplication_process += f\" x {i}\"\n",
    "print(f\"{n}! = {multiplication_process} = {factorial}\")"
   ]
  },
  {
   "cell_type": "code",
   "execution_count": 30,
   "id": "df0b08bc",
   "metadata": {},
   "outputs": [
    {
     "name": "stdout",
     "output_type": "stream",
     "text": [
      "Enter number 1: 4\n",
      "Enter number 2: 5\n",
      "Enter number 3: 6\n",
      "Enter number 4: 7\n",
      "Enter number 5: 8\n",
      "The average of the five numbers is: 6.0\n"
     ]
    }
   ],
   "source": [
    "# 12. Create a program using a for loop that prompts the user to enter five numbers. After all numbers are entered, the \n",
    "# program should display the average of the numbers.\n",
    "total = 0\n",
    "\n",
    "for i in range(5):\n",
    "    num = float(input(f\"Enter number {i + 1}: \"))\n",
    "    total += num \n",
    "    \n",
    "average = total / 5\n",
    "\n",
    "print(f\"The average of the five numbers is: {average}\")"
   ]
  },
  {
   "cell_type": "code",
   "execution_count": null,
   "id": "e327580b",
   "metadata": {},
   "outputs": [],
   "source": []
  }
 ],
 "metadata": {
  "kernelspec": {
   "display_name": "Python 3 (ipykernel)",
   "language": "python",
   "name": "python3"
  },
  "language_info": {
   "codemirror_mode": {
    "name": "ipython",
    "version": 3
   },
   "file_extension": ".py",
   "mimetype": "text/x-python",
   "name": "python",
   "nbconvert_exporter": "python",
   "pygments_lexer": "ipython3",
   "version": "3.11.4"
  }
 },
 "nbformat": 4,
 "nbformat_minor": 5
}
