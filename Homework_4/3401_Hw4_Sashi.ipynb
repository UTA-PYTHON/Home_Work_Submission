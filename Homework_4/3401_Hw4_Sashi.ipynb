{
  "nbformat": 4,
  "nbformat_minor": 0,
  "metadata": {
    "colab": {
      "provenance": []
    },
    "kernelspec": {
      "name": "python3",
      "display_name": "Python 3"
    },
    "language_info": {
      "name": "python"
    }
  },
  "cells": [
    {
      "cell_type": "markdown",
      "source": [
        "# **Data Structures:**\n",
        "**1. List and Tuple:**\n",
        "* Create a list named fruits containing the following: \"apple\", \"banana\", \"cherry\".\n",
        "* Convert this list into a tuple.\n",
        "* Add \"orange\" to the list of fruits.\n",
        "* Show the difference in the content of the list and tuple after the addition.\n"
      ],
      "metadata": {
        "id": "PZOtpag4Q8s_"
      }
    },
    {
      "cell_type": "code",
      "execution_count": 2,
      "metadata": {
        "colab": {
          "base_uri": "https://localhost:8080/"
        },
        "id": "pIoitdZYQzbV",
        "outputId": "af8764d1-aa1e-4968-a24c-7599dd04e0d0"
      },
      "outputs": [
        {
          "output_type": "execute_result",
          "data": {
            "text/plain": [
              "['apple', 'banana', 'cherry']"
            ]
          },
          "metadata": {},
          "execution_count": 2
        }
      ],
      "source": [
        "fruits=[\"apple\",\"banana\",\"cherry\"]\n",
        "fruits"
      ]
    },
    {
      "cell_type": "code",
      "source": [
        "fruits_tuple=tuple(fruits)"
      ],
      "metadata": {
        "id": "xmj2YN21RHUt"
      },
      "execution_count": 4,
      "outputs": []
    },
    {
      "cell_type": "code",
      "source": [
        "fruits.append(\"orange\")"
      ],
      "metadata": {
        "id": "H-LZuZIJSu_b"
      },
      "execution_count": 5,
      "outputs": []
    },
    {
      "cell_type": "code",
      "source": [
        "print(\"List of fruits:\", fruits)\n",
        "print(\"Tuple of fruits:\",fruits_tuple)"
      ],
      "metadata": {
        "colab": {
          "base_uri": "https://localhost:8080/"
        },
        "id": "VPRBPQg_USFS",
        "outputId": "a772d548-ec76-47d3-f854-5d026f62375d"
      },
      "execution_count": 6,
      "outputs": [
        {
          "output_type": "stream",
          "name": "stdout",
          "text": [
            "List of fruits: ['apple', 'banana', 'cherry', 'orange']\n",
            "Tuple of fruits: ('apple', 'banana', 'cherry')\n"
          ]
        }
      ]
    },
    {
      "cell_type": "markdown",
      "source": [
        " **2. Dictionary:**\n",
        "* Create a dictionary named person with keys \"first_name\", \"last_name\", and \"age\".\n",
        "Populate it with values of your choice.\n",
        "* Add a new key-value pair, \"city\" with a value of your choice.\n",
        "* Display the keys in the dictionary using a Python command.\n"
      ],
      "metadata": {
        "id": "Tper_i8xUliV"
      }
    },
    {
      "cell_type": "code",
      "source": [
        "person={\"first_name\": \"Sashi\",\n",
        "        \"last_name\": \"Soni\",\n",
        "        \"age\": 19}"
      ],
      "metadata": {
        "id": "jQiBZ5NoUfMR"
      },
      "execution_count": 8,
      "outputs": []
    },
    {
      "cell_type": "code",
      "source": [
        "person[\"city\"]=\"Dallas\""
      ],
      "metadata": {
        "id": "QIRtBj6uVKt5"
      },
      "execution_count": 9,
      "outputs": []
    },
    {
      "cell_type": "code",
      "source": [
        "person.keys()\n",
        ""
      ],
      "metadata": {
        "colab": {
          "base_uri": "https://localhost:8080/"
        },
        "id": "2AmShCQ1Vd1K",
        "outputId": "1a540566-995d-4193-c49c-014a6cf637aa"
      },
      "execution_count": 11,
      "outputs": [
        {
          "output_type": "execute_result",
          "data": {
            "text/plain": [
              "dict_keys(['first_name', 'last_name', 'age', 'city'])"
            ]
          },
          "metadata": {},
          "execution_count": 11
        }
      ]
    },
    {
      "cell_type": "markdown",
      "source": [
        " **3. Set:**\n",
        "* Create a set named colors with the values \"red\", \"blue\", \"green\".\n",
        "* Add \"yellow\" to the set and remove \"blue\".\n",
        "* Check if \"pink\" is in the set and display the result."
      ],
      "metadata": {
        "id": "pbCEadr9WFbF"
      }
    },
    {
      "cell_type": "code",
      "source": [
        "colors=[\"red\",\"blue\",\"green\"]"
      ],
      "metadata": {
        "id": "gqdh2ayaVua8"
      },
      "execution_count": 12,
      "outputs": []
    },
    {
      "cell_type": "code",
      "source": [
        "colors[1]=\"yellow\"\n",
        "colors"
      ],
      "metadata": {
        "colab": {
          "base_uri": "https://localhost:8080/"
        },
        "id": "k-evTxDnWT0j",
        "outputId": "aaad0a68-3fef-450d-b1ed-ce2255d284d2"
      },
      "execution_count": 15,
      "outputs": [
        {
          "output_type": "execute_result",
          "data": {
            "text/plain": [
              "['red', 'yellow', 'green']"
            ]
          },
          "metadata": {},
          "execution_count": 15
        }
      ]
    },
    {
      "cell_type": "code",
      "source": [
        "if \"pink\" in colors:\n",
        "  print(\"Pink is in the set\")\n",
        "else:\n",
        "  print(\"Pink is not in the set\")\n",
        "print(colors)"
      ],
      "metadata": {
        "colab": {
          "base_uri": "https://localhost:8080/"
        },
        "id": "Tln0GQtJWae-",
        "outputId": "f108f434-d23d-4ab3-a80b-13b9758b8bb0"
      },
      "execution_count": 19,
      "outputs": [
        {
          "output_type": "stream",
          "name": "stdout",
          "text": [
            "Pink is not in the set\n",
            "['red', 'yellow', 'green']\n"
          ]
        }
      ]
    },
    {
      "cell_type": "markdown",
      "source": [
        "**4. Write a Python program that takes an input from the user and checks if the number is positive, negative, or zero.**\n"
      ],
      "metadata": {
        "id": "nfAxYzvtXKau"
      }
    },
    {
      "cell_type": "code",
      "source": [
        "num=float(input(\"Enter a number:\"))"
      ],
      "metadata": {
        "colab": {
          "base_uri": "https://localhost:8080/"
        },
        "id": "Fhau4bnWWxOi",
        "outputId": "26e24b8f-1934-4a3b-edb3-dab5e4edd516"
      },
      "execution_count": 20,
      "outputs": [
        {
          "name": "stdout",
          "output_type": "stream",
          "text": [
            "Enter a number:5\n"
          ]
        }
      ]
    },
    {
      "cell_type": "code",
      "source": [
        "if num>0:\n",
        "  print(\"The number is postive.\")\n",
        "elif num<0:\n",
        "  print(\"The number is negative\")\n",
        "else:\n",
        "  print(\"The number is zero\")"
      ],
      "metadata": {
        "colab": {
          "base_uri": "https://localhost:8080/"
        },
        "id": "EjNQJ8WOXlVj",
        "outputId": "d74d58fe-2fe2-4750-8090-173fb154dfb4"
      },
      "execution_count": 21,
      "outputs": [
        {
          "output_type": "stream",
          "name": "stdout",
          "text": [
            "The number is postive.\n"
          ]
        }
      ]
    },
    {
      "cell_type": "markdown",
      "source": [
        "**5. Given a list of numbers: [23, 45, 8, 12, 78, 56, 89], write a Python program that prints out all even numbers from the list using a conditional statement.**\n"
      ],
      "metadata": {
        "id": "gvazcHL8X9kA"
      }
    },
    {
      "cell_type": "code",
      "source": [
        "numbers=[23,45,8,12,78,56,89]\n",
        "print(\"Even numbers from the list:\")\n",
        "\n",
        "for num in numbers:\n",
        "  if num%2==0:\n",
        "    print(num)"
      ],
      "metadata": {
        "colab": {
          "base_uri": "https://localhost:8080/"
        },
        "id": "ac1_6auwX7lA",
        "outputId": "66ea59f3-5f18-42cf-88f2-62da14d6ca2c"
      },
      "execution_count": 25,
      "outputs": [
        {
          "output_type": "stream",
          "name": "stdout",
          "text": [
            "Even numbers from the list:\n",
            "8\n",
            "12\n",
            "78\n",
            "56\n"
          ]
        }
      ]
    },
    {
      "cell_type": "markdown",
      "source": [
        "**6. Write a program that asks the user to enter their age. Based on the user's input, determine if they are eligible to vote (consider the voting age as 18).**\n"
      ],
      "metadata": {
        "id": "ISMvdPziZK_E"
      }
    },
    {
      "cell_type": "code",
      "source": [
        "age=int(input(\"Enter the age:\"))"
      ],
      "metadata": {
        "colab": {
          "base_uri": "https://localhost:8080/"
        },
        "id": "JwGs60btYJ_c",
        "outputId": "b60f437e-8033-4764-d009-87b57d8b65d9"
      },
      "execution_count": 28,
      "outputs": [
        {
          "name": "stdout",
          "output_type": "stream",
          "text": [
            "Enter the age:19\n"
          ]
        }
      ]
    },
    {
      "cell_type": "code",
      "source": [
        "if age>=18:\n",
        "  print(\"You are eligible to vote.\")\n",
        "else:\n",
        "  print(\"You are not eligible this year\")"
      ],
      "metadata": {
        "colab": {
          "base_uri": "https://localhost:8080/"
        },
        "id": "Ys9_3WWqZeXC",
        "outputId": "38045afa-0370-4469-dd2b-1781ce7c25da"
      },
      "execution_count": 29,
      "outputs": [
        {
          "output_type": "stream",
          "name": "stdout",
          "text": [
            "You are eligible to vote.\n"
          ]
        }
      ]
    },
    {
      "cell_type": "markdown",
      "source": [
        "**7. Write a program that prompts the user to enter numbers continuously (using a while loop) and stops taking inputs when the user enters 'q'. After that, display the sum of all the numbers entered.**\n"
      ],
      "metadata": {
        "id": "Ism4kt7OaAj8"
      }
    },
    {
      "cell_type": "code",
      "source": [
        "total=0\n",
        "\n",
        "while True:\n",
        "  user_input=input(\"Enter a number (or 'q' to quit):\")\n",
        "  if user_input.lower()=='q':\n",
        "    break"
      ],
      "metadata": {
        "colab": {
          "base_uri": "https://localhost:8080/"
        },
        "id": "BTHYDicDZx7A",
        "outputId": "2f7730ac-267c-4db2-ac74-d03c38fa675c"
      },
      "execution_count": 46,
      "outputs": [
        {
          "name": "stdout",
          "output_type": "stream",
          "text": [
            "Enter a number (or 'q' to quit):1\n",
            "Enter a number (or 'q' to quit):2\n",
            "Enter a number (or 'q' to quit):3\n",
            "Enter a number (or 'q' to quit):4\n",
            "Enter a number (or 'q' to quit):5\n",
            "Enter a number (or 'q' to quit):q\n"
          ]
        }
      ]
    },
    {
      "cell_type": "code",
      "source": [
        "try:\n",
        "  numbers=float(user_input)\n",
        "  total +=numbers\n",
        "except ValueError:\n",
        "  print(\"Invalid input.\")\n",
        "\n",
        "print(\"Sum of entered numbers:\", total)"
      ],
      "metadata": {
        "colab": {
          "base_uri": "https://localhost:8080/"
        },
        "id": "32c82H8pbdzv",
        "outputId": "0e6c2840-ef12-4918-ad75-fcded9e91095"
      },
      "execution_count": 49,
      "outputs": [
        {
          "output_type": "stream",
          "name": "stdout",
          "text": [
            "Invalid input.\n",
            "Sum of entered numbers: 0\n"
          ]
        }
      ]
    },
    {
      "cell_type": "markdown",
      "source": [
        "8. Create a Python program using a while loop that prints numbers from 10 down to 1 and then prints \"Liftoff!\".\n"
      ],
      "metadata": {
        "id": "wy9r6xBkfRQf"
      }
    },
    {
      "cell_type": "code",
      "source": [
        "countdown=10\n",
        "\n",
        "while countdown>=1:\n",
        "  print(countdown)\n",
        "  countdown -=1\n",
        "\n",
        "print(\"Liftoff!\")"
      ],
      "metadata": {
        "colab": {
          "base_uri": "https://localhost:8080/"
        },
        "id": "oiwmP7rBehy9",
        "outputId": "cd0a9a15-26a0-4c8e-e1af-d265329da172"
      },
      "execution_count": 50,
      "outputs": [
        {
          "output_type": "stream",
          "name": "stdout",
          "text": [
            "10\n",
            "9\n",
            "8\n",
            "7\n",
            "6\n",
            "5\n",
            "4\n",
            "3\n",
            "2\n",
            "1\n",
            "Liftoff!\n"
          ]
        }
      ]
    },
    {
      "cell_type": "markdown",
      "source": [
        "**9. Create a program that asks the user for a number and then prints out the multiplication table for that number using a while loop.**"
      ],
      "metadata": {
        "id": "vZc1SkQPfvgs"
      }
    },
    {
      "cell_type": "code",
      "source": [
        "number=int(input(\"Enter a number:\"))"
      ],
      "metadata": {
        "colab": {
          "base_uri": "https://localhost:8080/"
        },
        "id": "31Y1WebOdTcn",
        "outputId": "0e461180-2957-47e8-8714-b0fc57605fc1"
      },
      "execution_count": 53,
      "outputs": [
        {
          "name": "stdout",
          "output_type": "stream",
          "text": [
            "Enter a number:2\n"
          ]
        }
      ]
    },
    {
      "cell_type": "code",
      "source": [
        "counter=1\n",
        "\n",
        "while counter<=10:\n",
        "  result=number*counter\n",
        "  print(f\"{number} x {counter} = {result}\")\n",
        "  counter +=1"
      ],
      "metadata": {
        "colab": {
          "base_uri": "https://localhost:8080/"
        },
        "id": "G0po8kh3f4-k",
        "outputId": "3e5939a1-5956-44fe-f6b7-9167b6a293ab"
      },
      "execution_count": 57,
      "outputs": [
        {
          "output_type": "stream",
          "name": "stdout",
          "text": [
            "2 x 1 = 2\n",
            "2 x 2 = 4\n",
            "2 x 3 = 6\n",
            "2 x 4 = 8\n",
            "2 x 5 = 10\n",
            "2 x 6 = 12\n",
            "2 x 7 = 14\n",
            "2 x 8 = 16\n",
            "2 x 9 = 18\n",
            "2 x 10 = 20\n"
          ]
        }
      ]
    },
    {
      "cell_type": "markdown",
      "source": [
        "**10. Given a list: [\"apple\", \"banana\", \"cherry\", \"date\"], use a for loop to print each fruit in the list.**"
      ],
      "metadata": {
        "id": "EKvQr9Dlgfvc"
      }
    },
    {
      "cell_type": "code",
      "source": [
        "fruits=[\"apple\",\"banana\",\"cherry\",\"date\"]\n",
        "\n",
        "for fruit in fruits:\n",
        "  print(fruit)\n"
      ],
      "metadata": {
        "colab": {
          "base_uri": "https://localhost:8080/"
        },
        "id": "m9mYUapbf9-E",
        "outputId": "0be9fc5f-ec1a-45fd-acbc-4addd015625d"
      },
      "execution_count": 58,
      "outputs": [
        {
          "output_type": "stream",
          "name": "stdout",
          "text": [
            "apple\n",
            "banana\n",
            "cherry\n",
            "date\n"
          ]
        }
      ]
    },
    {
      "cell_type": "markdown",
      "source": [
        "**11. Using a for loop, calculate the factorial of a given number (n!). For example, if the given number is 5, the output should be 5 x 4 x 3 x 2 x 1 = 120.**"
      ],
      "metadata": {
        "id": "iVKNycDRgxSW"
      }
    },
    {
      "cell_type": "code",
      "source": [
        "n= int(input(\"Enter a number:\"))\n",
        "\n",
        "factorial=1\n",
        "\n",
        "for i in range(1, n+1):\n",
        "  factorial *= i\n",
        "\n",
        "print(f\"{n}! =\", factorial)"
      ],
      "metadata": {
        "colab": {
          "base_uri": "https://localhost:8080/"
        },
        "id": "W0KoevvygvWv",
        "outputId": "0fce1fc5-290b-41d8-e655-022091259fb7"
      },
      "execution_count": 61,
      "outputs": [
        {
          "output_type": "stream",
          "name": "stdout",
          "text": [
            "Enter a number:5\n",
            "5! = 120\n"
          ]
        }
      ]
    },
    {
      "cell_type": "markdown",
      "source": [
        "**12. Create a program using a for loop that prompts the user to enter five numbers. After all numbers are entered, the program should display the average of the numbers.**\n"
      ],
      "metadata": {
        "id": "HpJOlmgjhXxa"
      }
    },
    {
      "cell_type": "code",
      "source": [
        "total =0\n",
        "\n",
        "for i in range(5):\n",
        "  number = float(input(f\"Enter number {i+1}:\"))\n",
        "  total +=number\n",
        "\n",
        "average=total/6\n",
        "\n",
        "print(\"Average:\", average)"
      ],
      "metadata": {
        "colab": {
          "base_uri": "https://localhost:8080/"
        },
        "id": "q5FQwsk2hI8w",
        "outputId": "3a4f5fa8-9982-4bd9-e404-59d9912ad473"
      },
      "execution_count": 62,
      "outputs": [
        {
          "output_type": "stream",
          "name": "stdout",
          "text": [
            "Enter number 1:2\n",
            "Enter number 2:3\n",
            "Enter number 3:4\n",
            "Enter number 4:5\n",
            "Enter number 5:6\n",
            "Average: 3.3333333333333335\n"
          ]
        }
      ]
    },
    {
      "cell_type": "code",
      "source": [],
      "metadata": {
        "id": "QeZE-8l9hurR"
      },
      "execution_count": null,
      "outputs": []
    }
  ]
}