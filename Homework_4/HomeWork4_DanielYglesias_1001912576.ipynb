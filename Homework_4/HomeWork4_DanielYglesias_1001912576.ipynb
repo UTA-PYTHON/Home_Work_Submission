{
  "nbformat": 4,
  "nbformat_minor": 0,
  "metadata": {
    "colab": {
      "provenance": []
    },
    "kernelspec": {
      "name": "python3",
      "display_name": "Python 3"
    },
    "language_info": {
      "name": "python"
    }
  },
  "cells": [
    {
      "cell_type": "markdown",
      "source": [
        "# **Homework 4**"
      ],
      "metadata": {
        "id": "8leaKNCMSKWe"
      }
    },
    {
      "cell_type": "markdown",
      "source": [
        "## Data structures:"
      ],
      "metadata": {
        "id": "YdXJmhzrSv0U"
      }
    },
    {
      "cell_type": "markdown",
      "source": [
        "### 1. List and tuple"
      ],
      "metadata": {
        "id": "Zv3vqjqrSTrZ"
      }
    },
    {
      "cell_type": "code",
      "source": [
        "fruits = [\"apple\", \"banana\", \"cherry\"]\n",
        "fruits_tuple = tuple(fruits)\n",
        "fruits.append(\"orange\")\n",
        "\n",
        "print(\"List of fruits:\", fruits)\n",
        "print(\"Tuple of fruits:\", fruits_tuple)"
      ],
      "metadata": {
        "colab": {
          "base_uri": "https://localhost:8080/"
        },
        "id": "ZMga1-fjSRhh",
        "outputId": "df0268af-1bc1-4ceb-bb04-1733376326c5"
      },
      "execution_count": 11,
      "outputs": [
        {
          "output_type": "stream",
          "name": "stdout",
          "text": [
            "List of fruits: ['apple', 'banana', 'cherry', 'orange']\n",
            "Tuple of fruits: ('apple', 'banana', 'cherry')\n"
          ]
        }
      ]
    },
    {
      "cell_type": "markdown",
      "source": [
        "### 2. Dictonary"
      ],
      "metadata": {
        "id": "pVcGFucZSiHC"
      }
    },
    {
      "cell_type": "code",
      "source": [
        "person = {\"first_name\": \"Daniel\",\"last_name\": \"Yglesias\",\"age\": 20}\n",
        "\n",
        "person[\"city\"] = \"Keller\"\n",
        "keys = person.keys()\n",
        "\n",
        "print(\"Keys in the 'person' dictionary:\", keys)"
      ],
      "metadata": {
        "colab": {
          "base_uri": "https://localhost:8080/"
        },
        "id": "JmQ5ep3DSmic",
        "outputId": "dc55d464-ca9e-4f77-cfa4-c5fe7398e978"
      },
      "execution_count": 10,
      "outputs": [
        {
          "output_type": "stream",
          "name": "stdout",
          "text": [
            "Keys in the 'person' dictionary: dict_keys(['first_name', 'last_name', 'age', 'city'])\n"
          ]
        }
      ]
    },
    {
      "cell_type": "markdown",
      "source": [
        "### 3. Set"
      ],
      "metadata": {
        "id": "U_bPrIKdSm3Y"
      }
    },
    {
      "cell_type": "code",
      "source": [
        "colors = {\"red\", \"blue\", \"green\"}\n",
        "colors.add(\"yellow\")\n",
        "colors.discard(\"blue\")\n",
        "is_pink_in_set = \"pink\" in colors\n",
        "\n",
        "print(\"Updated colors set:\", colors)\n",
        "print(\"Is 'pink' in the set?\", is_pink_in_set)"
      ],
      "metadata": {
        "colab": {
          "base_uri": "https://localhost:8080/"
        },
        "id": "jaUA8X79Sp8C",
        "outputId": "46691a2b-9fb5-4808-ba70-ad0c9b5e6597"
      },
      "execution_count": 9,
      "outputs": [
        {
          "output_type": "stream",
          "name": "stdout",
          "text": [
            "Updated colors set: {'green', 'red', 'yellow'}\n",
            "Is 'pink' in the set? False\n"
          ]
        }
      ]
    },
    {
      "cell_type": "markdown",
      "source": [
        "## Conditional Statement:"
      ],
      "metadata": {
        "id": "j_CtDQAnS8B6"
      }
    },
    {
      "cell_type": "markdown",
      "source": [
        "### 4. Write a Python program that takes an input from the user and checks if the number is positive, negative, or zero."
      ],
      "metadata": {
        "id": "kfAoLdydTCS8"
      }
    },
    {
      "cell_type": "code",
      "source": [
        "while True:\n",
        "  try:\n",
        "    user_input = float(input(\"Enter a number: \"))\n",
        "\n",
        "    if user_input > 0:\n",
        "        print(\"The entered number is positive.\")\n",
        "    elif user_input < 0:\n",
        "        print(\"The entered number is negative.\")\n",
        "    else:\n",
        "        print(\"The entered number is zero.\")\n",
        "    break\n",
        "  except ValueError:\n",
        "    print(\"Invalid input. Please enter a valid number.\")\n"
      ],
      "metadata": {
        "colab": {
          "base_uri": "https://localhost:8080/"
        },
        "id": "1IHUVF6RTOuC",
        "outputId": "3222568a-98d3-411a-b5a2-ba44b634693d"
      },
      "execution_count": 8,
      "outputs": [
        {
          "output_type": "stream",
          "name": "stdout",
          "text": [
            "Enter a number: j\n",
            "Invalid input. Please enter a valid number.\n",
            "Enter a number: 2\n",
            "The entered number is positive.\n"
          ]
        }
      ]
    },
    {
      "cell_type": "markdown",
      "source": [
        "### 5. Given a list of numbers: [23, 45, 8, 12, 78, 56, 89], write a Python program that prints out all even numbers from the list using a conditional statement."
      ],
      "metadata": {
        "id": "HkZBn27VTUhx"
      }
    },
    {
      "cell_type": "code",
      "source": [
        "numbers = [23, 45, 8, 12, 78, 56, 89]\n",
        "even_numbers = []\n",
        "\n",
        "print(\"Even numbers in the list:\")\n",
        "for number in numbers:\n",
        "    if number % 2 == 0:\n",
        "        even_numbers.append(number)\n",
        "\n",
        "print(even_numbers)\n",
        "print(\"\\nOrginal list of numbers: \")\n",
        "print(numbers)"
      ],
      "metadata": {
        "colab": {
          "base_uri": "https://localhost:8080/"
        },
        "id": "T-vZZaSRTbDe",
        "outputId": "c497fdcb-c306-4330-c357-f7a7596f7e75"
      },
      "execution_count": 19,
      "outputs": [
        {
          "output_type": "stream",
          "name": "stdout",
          "text": [
            "Even numbers in the list:\n",
            "[8, 12, 78, 56]\n",
            "\n",
            "Orginal list of numbers: \n",
            "[23, 45, 8, 12, 78, 56, 89]\n"
          ]
        }
      ]
    },
    {
      "cell_type": "markdown",
      "source": [
        "### 6. Write a program that asks the user to enter their age. Based on the user's input, determine if they are eligible to vote (consider the voting age as 18)."
      ],
      "metadata": {
        "id": "Dt0_mmlLTc5c"
      }
    },
    {
      "cell_type": "code",
      "source": [
        "while True:\n",
        "    try:\n",
        "        user_age = int(input(\"Enter your age: \"))\n",
        "        if user_age >= 18:\n",
        "            print(\"You are eligible to vote.\")\n",
        "        else:\n",
        "            print(\"You are not eligible to vote.\")\n",
        "        break\n",
        "    except ValueError:\n",
        "        print(\"Please enter a valid number for your age.\")\n",
        "\n"
      ],
      "metadata": {
        "colab": {
          "base_uri": "https://localhost:8080/"
        },
        "id": "b83cQbwqTgLy",
        "outputId": "8bc0a63b-7e4f-49e1-8ab6-1b89360ba873"
      },
      "execution_count": 20,
      "outputs": [
        {
          "output_type": "stream",
          "name": "stdout",
          "text": [
            "Enter your age: 5131\n",
            "You are eligible to vote.\n"
          ]
        }
      ]
    },
    {
      "cell_type": "markdown",
      "source": [
        "## While Loop:"
      ],
      "metadata": {
        "id": "3AMoINcIThec"
      }
    },
    {
      "cell_type": "markdown",
      "source": [
        "### 7. Write a program that prompts the user to enter numbers continuously (using a while loop) and stops taking inputs when the user enters 'q'. After that, display the sum of all the numbers entered"
      ],
      "metadata": {
        "id": "th_5_sjSTm4r"
      }
    },
    {
      "cell_type": "code",
      "source": [
        "total = 0\n",
        "user_input = None\n",
        "\n",
        "while user_input != 'q':\n",
        "    try:\n",
        "        user_input = input(\"Enter a number (or 'q' to quit): \")\n",
        "\n",
        "        if user_input.lower() == 'q':\n",
        "            break\n",
        "\n",
        "        number = float(user_input)\n",
        "        total += number\n",
        "    except ValueError:\n",
        "        print(\"Invalid input. Please enter a valid number.\")\n",
        "\n",
        "print(\"Sum of the numbers:\", total)\n"
      ],
      "metadata": {
        "colab": {
          "base_uri": "https://localhost:8080/"
        },
        "id": "g3DPIrvxTq8s",
        "outputId": "b8547214-e018-4907-d393-cb8491024c7a"
      },
      "execution_count": 22,
      "outputs": [
        {
          "output_type": "stream",
          "name": "stdout",
          "text": [
            "Enter a number (or 'q' to quit): 005\n",
            "Enter a number (or 'q' to quit): 05\n",
            "Enter a number (or 'q' to quit): 05\n",
            "Enter a number (or 'q' to quit): 050\n",
            "Enter a number (or 'q' to quit): 05\n",
            "Enter a number (or 'q' to quit): 02\n",
            "Enter a number (or 'q' to quit): q\n",
            "Sum of the numbers: 72.0\n"
          ]
        }
      ]
    },
    {
      "cell_type": "markdown",
      "source": [
        "### 8. Create a Python program using a while loop that prints numbers from 10 down to 1 and then prints \"Liftoff!\""
      ],
      "metadata": {
        "id": "HMmbflH_Trkk"
      }
    },
    {
      "cell_type": "code",
      "source": [
        "countdown = 10\n",
        "\n",
        "while countdown >= 1:\n",
        "    print(countdown)\n",
        "    countdown -= 1\n",
        "\n",
        "print(\"Liftoff!\")\n"
      ],
      "metadata": {
        "colab": {
          "base_uri": "https://localhost:8080/"
        },
        "id": "riCxRCfxTwr4",
        "outputId": "f381b682-a0dd-4fce-c1b0-25e3d96029b4"
      },
      "execution_count": 12,
      "outputs": [
        {
          "output_type": "stream",
          "name": "stdout",
          "text": [
            "10\n",
            "9\n",
            "8\n",
            "7\n",
            "6\n",
            "5\n",
            "4\n",
            "3\n",
            "2\n",
            "1\n",
            "Liftoff!\n"
          ]
        }
      ]
    },
    {
      "cell_type": "markdown",
      "source": [
        "### 9. Create a program that asks the user for a number and then prints out the multiplication table for that number using a while loop."
      ],
      "metadata": {
        "id": "MaQW8cHsTxDs"
      }
    },
    {
      "cell_type": "code",
      "source": [
        "number = int(input(\"Enter a number: \"))\n",
        "counter = 1\n",
        "\n",
        "while counter <= 20:\n",
        "    result = number * counter\n",
        "    print(f\"{number} x {counter} = {result}\")\n",
        "    counter += 1\n"
      ],
      "metadata": {
        "colab": {
          "base_uri": "https://localhost:8080/"
        },
        "id": "pNDfv4lK8OLN",
        "outputId": "ff01b732-61dd-44a8-c379-17616c22f9de"
      },
      "execution_count": 23,
      "outputs": [
        {
          "output_type": "stream",
          "name": "stdout",
          "text": [
            "Enter a number: 5\n",
            "5 x 1 = 5\n",
            "5 x 2 = 10\n",
            "5 x 3 = 15\n",
            "5 x 4 = 20\n",
            "5 x 5 = 25\n",
            "5 x 6 = 30\n",
            "5 x 7 = 35\n",
            "5 x 8 = 40\n",
            "5 x 9 = 45\n",
            "5 x 10 = 50\n",
            "5 x 11 = 55\n",
            "5 x 12 = 60\n",
            "5 x 13 = 65\n",
            "5 x 14 = 70\n",
            "5 x 15 = 75\n",
            "5 x 16 = 80\n",
            "5 x 17 = 85\n",
            "5 x 18 = 90\n",
            "5 x 19 = 95\n",
            "5 x 20 = 100\n"
          ]
        }
      ]
    },
    {
      "cell_type": "markdown",
      "source": [
        "## For Loop:"
      ],
      "metadata": {
        "id": "7o0oP9TrT1w7"
      }
    },
    {
      "cell_type": "markdown",
      "source": [
        "### 10. Given a list: [\"apple\", \"banana\", \"cherry\", \"date\"], use a for loop to print each fruit in the list"
      ],
      "metadata": {
        "id": "6sXutFOUT_hx"
      }
    },
    {
      "cell_type": "code",
      "source": [
        "fruits = [\"apple\", \"banana\", \"cherry\", \"date\"]\n",
        "\n",
        "for fruit in fruits:\n",
        "    print(fruit)\n"
      ],
      "metadata": {
        "colab": {
          "base_uri": "https://localhost:8080/"
        },
        "id": "of03ttedUQ4Z",
        "outputId": "1a5f22cf-5bd2-4303-9984-5a28719cde8b"
      },
      "execution_count": 24,
      "outputs": [
        {
          "output_type": "stream",
          "name": "stdout",
          "text": [
            "apple\n",
            "banana\n",
            "cherry\n",
            "date\n"
          ]
        }
      ]
    },
    {
      "cell_type": "markdown",
      "source": [
        "### 11. Using a for loop, calculate the factorial of a given number (n!). For example, if the given number is 5, the output should be 5 x 4 x 3 x 2 x 1 = 120"
      ],
      "metadata": {
        "id": "RJG2DYeTUGKs"
      }
    },
    {
      "cell_type": "code",
      "source": [
        "while True:\n",
        "  try:\n",
        "      User_n = int(input(\"Enter a number: \"))\n",
        "      factorial = 1\n",
        "\n",
        "      if User_n < 0:\n",
        "          print(\"Factorial is not defined for negative numbers.\")\n",
        "      else:\n",
        "          for i in range(1, n + 1):\n",
        "              factorial *= i\n",
        "\n",
        "          print(f\"{User_n}! = {factorial}\")\n",
        "      break\n",
        "\n",
        "  except ValueError:\n",
        "    print(\"Invalid input. Please enter a valid integer.\")\n",
        "\n"
      ],
      "metadata": {
        "colab": {
          "base_uri": "https://localhost:8080/"
        },
        "id": "WI2Bi9X8URVD",
        "outputId": "d0a004c3-03aa-4cbe-f45a-91e38ed202ed"
      },
      "execution_count": 27,
      "outputs": [
        {
          "output_type": "stream",
          "name": "stdout",
          "text": [
            "Enter a number: 4\n",
            "4! = 2\n"
          ]
        }
      ]
    },
    {
      "cell_type": "markdown",
      "source": [
        "### 12. Create a program using a for loop that prompts the user to enter five numbers. After all numbers are entered, the program should display the average of the numbers"
      ],
      "metadata": {
        "id": "I4CC9-2FUPiq"
      }
    },
    {
      "cell_type": "code",
      "source": [
        "total = 0\n",
        "\n",
        "for i in range(5):\n",
        "    while True:\n",
        "        try:\n",
        "            number = float(input(f\"Enter number {i + 1}: \"))\n",
        "            total += number\n",
        "            break\n",
        "\n",
        "        except ValueError:\n",
        "            print(\"Invalid input. Please enter a valid number.\")\n",
        "\n",
        "average = total / 5\n",
        "\n",
        "print(f\"The average of the numbers is: {average}\")\n"
      ],
      "metadata": {
        "id": "d095wSnNUX6T"
      },
      "execution_count": null,
      "outputs": []
    }
  ]
}