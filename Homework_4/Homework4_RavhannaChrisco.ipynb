{
  "cells": [
    {
      "cell_type": "markdown",
      "id": "5fcccf54",
      "metadata": {
        "id": "5fcccf54"
      },
      "source": [
        "# 1. List and Tuple"
      ]
    },
    {
      "cell_type": "code",
      "execution_count": 1,
      "id": "7a5fb1b3",
      "metadata": {
        "id": "7a5fb1b3"
      },
      "outputs": [],
      "source": [
        "fruits=['apple','banana','cherry']"
      ]
    },
    {
      "cell_type": "code",
      "execution_count": 2,
      "id": "5042d890",
      "metadata": {
        "id": "5042d890"
      },
      "outputs": [],
      "source": [
        "def convert(fruits):\n",
        "    return tuple(fruits)"
      ]
    },
    {
      "cell_type": "code",
      "execution_count": null,
      "id": "65165567",
      "metadata": {
        "id": "65165567"
      },
      "outputs": [],
      "source": [
        "fruits.append('orange')"
      ]
    },
    {
      "cell_type": "code",
      "execution_count": null,
      "id": "dfc13167",
      "metadata": {
        "id": "dfc13167",
        "outputId": "39916426-d2ae-4c83-e5c5-6e355cc316f4"
      },
      "outputs": [
        {
          "name": "stdout",
          "output_type": "stream",
          "text": [
            "['apple', 'banana', 'cherry', 'orange']\n"
          ]
        }
      ],
      "source": [
        "print(fruits)"
      ]
    },
    {
      "cell_type": "code",
      "execution_count": null,
      "id": "ea5ae3dc",
      "metadata": {
        "id": "ea5ae3dc",
        "outputId": "22ecb2b4-ca45-464e-c988-4e7bf1617fc3"
      },
      "outputs": [
        {
          "name": "stdout",
          "output_type": "stream",
          "text": [
            "('apple', 'banana', 'cherry', 'orange')\n"
          ]
        }
      ],
      "source": [
        "print(convert(fruits))"
      ]
    },
    {
      "cell_type": "markdown",
      "id": "30e7cac1",
      "metadata": {
        "id": "30e7cac1"
      },
      "source": [
        "# 2. Dictionary"
      ]
    },
    {
      "cell_type": "code",
      "execution_count": null,
      "id": "5e156925",
      "metadata": {
        "id": "5e156925"
      },
      "outputs": [],
      "source": [
        "person={\"first_name\":\"Ravhanna\",\"last_name\":\"Chrisco\",\"age\":24}"
      ]
    },
    {
      "cell_type": "code",
      "execution_count": null,
      "id": "e971f2d1",
      "metadata": {
        "id": "e971f2d1"
      },
      "outputs": [],
      "source": [
        "person['city']=\"san francisco\""
      ]
    },
    {
      "cell_type": "code",
      "execution_count": null,
      "id": "fd517530",
      "metadata": {
        "id": "fd517530",
        "outputId": "7fd40145-be0a-4a24-cadb-aab22d59c3a0"
      },
      "outputs": [
        {
          "data": {
            "text/plain": [
              "dict_keys(['first_name', 'last_name', 'age', 'city'])"
            ]
          },
          "execution_count": 21,
          "metadata": {},
          "output_type": "execute_result"
        }
      ],
      "source": [
        "person.keys()"
      ]
    },
    {
      "cell_type": "markdown",
      "id": "5c60f20b",
      "metadata": {
        "id": "5c60f20b"
      },
      "source": [
        "# 3. Set"
      ]
    },
    {
      "cell_type": "code",
      "execution_count": null,
      "id": "354a65f8",
      "metadata": {
        "id": "354a65f8"
      },
      "outputs": [],
      "source": [
        "colors={'red','blue','green'}"
      ]
    },
    {
      "cell_type": "code",
      "execution_count": null,
      "id": "5cde5f3a",
      "metadata": {
        "id": "5cde5f3a"
      },
      "outputs": [],
      "source": [
        "colors.add('yellow')"
      ]
    },
    {
      "cell_type": "code",
      "execution_count": null,
      "id": "292a16c6",
      "metadata": {
        "id": "292a16c6"
      },
      "outputs": [],
      "source": [
        "colors.remove('blue')"
      ]
    },
    {
      "cell_type": "code",
      "execution_count": null,
      "id": "3ca0ad17",
      "metadata": {
        "id": "3ca0ad17",
        "outputId": "8ebb06c6-5e76-48cb-c756-9eab51f845a3"
      },
      "outputs": [
        {
          "data": {
            "text/plain": [
              "False"
            ]
          },
          "execution_count": 25,
          "metadata": {},
          "output_type": "execute_result"
        }
      ],
      "source": [
        "\"pink\" in colors"
      ]
    },
    {
      "cell_type": "markdown",
      "id": "2b3e3d64",
      "metadata": {
        "id": "2b3e3d64"
      },
      "source": [
        "# Conditional Statements"
      ]
    },
    {
      "cell_type": "markdown",
      "source": [
        "4. Write a python program that takes an input from user and checks if the number is positive, zero, or negative."
      ],
      "metadata": {
        "id": "rivoKiwK-T1c"
      },
      "id": "rivoKiwK-T1c"
    },
    {
      "cell_type": "code",
      "execution_count": 5,
      "id": "1dad8b51",
      "metadata": {
        "colab": {
          "base_uri": "https://localhost:8080/",
          "height": 0
        },
        "id": "1dad8b51",
        "outputId": "76b80530-ea9c-4e76-e214-49566bb46359"
      },
      "outputs": [
        {
          "name": "stdout",
          "output_type": "stream",
          "text": [
            "Please insert an integer0\n"
          ]
        }
      ],
      "source": [
        "number=int(input(\"Please insert an integer\"))"
      ]
    },
    {
      "cell_type": "code",
      "execution_count": 6,
      "id": "49e21cde",
      "metadata": {
        "colab": {
          "base_uri": "https://localhost:8080/",
          "height": 0
        },
        "id": "49e21cde",
        "outputId": "0f2fb1f8-5b24-460f-ff87-25b637038857"
      },
      "outputs": [
        {
          "output_type": "stream",
          "name": "stdout",
          "text": [
            "This number is zero.\n"
          ]
        }
      ],
      "source": [
        "if number>0:\n",
        "    print(\"This number is positive.\")\n",
        "elif number<0:\n",
        "    print(\"This number is negative.\")\n",
        "else:\n",
        "    print(\"This number is zero.\")"
      ]
    },
    {
      "cell_type": "markdown",
      "source": [
        "5. Given list, print out all even numbers from list using conditional statement."
      ],
      "metadata": {
        "id": "h4TYgq82-mxU"
      },
      "id": "h4TYgq82-mxU"
    },
    {
      "cell_type": "code",
      "execution_count": 7,
      "id": "45937aa2",
      "metadata": {
        "id": "45937aa2"
      },
      "outputs": [],
      "source": [
        "list1=[23,45,8,12,78,56,89]"
      ]
    },
    {
      "cell_type": "code",
      "source": [
        "for i in list1:\n",
        "  if i % 2 ==0:\n",
        "    print(i)"
      ],
      "metadata": {
        "colab": {
          "base_uri": "https://localhost:8080/",
          "height": 0
        },
        "id": "bbWZUg_i9XIP",
        "outputId": "8a28864b-acb4-40ee-ccb4-cf1f12980995"
      },
      "id": "bbWZUg_i9XIP",
      "execution_count": 9,
      "outputs": [
        {
          "output_type": "stream",
          "name": "stdout",
          "text": [
            "8\n",
            "12\n",
            "78\n",
            "56\n"
          ]
        }
      ]
    },
    {
      "cell_type": "markdown",
      "source": [
        "6. Write a program that asks the user to enter their age. Based on the user's input, determine if the are eligible to vote."
      ],
      "metadata": {
        "id": "669Md4eq-xFi"
      },
      "id": "669Md4eq-xFi"
    },
    {
      "cell_type": "code",
      "source": [
        "age=int(input(\"What is your age? \"))"
      ],
      "metadata": {
        "colab": {
          "base_uri": "https://localhost:8080/",
          "height": 0
        },
        "id": "ET-w0zMQ98P_",
        "outputId": "3f34ccef-1478-4811-f45a-2738f324a70c"
      },
      "id": "ET-w0zMQ98P_",
      "execution_count": 10,
      "outputs": [
        {
          "name": "stdout",
          "output_type": "stream",
          "text": [
            "What is your age?25\n"
          ]
        }
      ]
    },
    {
      "cell_type": "code",
      "source": [
        "if age>=18:\n",
        "  print(\"You are eligable to vote.\")\n",
        "else:\n",
        "  print(\"You are too young to vote\")"
      ],
      "metadata": {
        "colab": {
          "base_uri": "https://localhost:8080/",
          "height": 0
        },
        "id": "L4TzcFTU_G_s",
        "outputId": "b4b980fb-cc39-495c-a116-eb170cc90c79"
      },
      "id": "L4TzcFTU_G_s",
      "execution_count": 11,
      "outputs": [
        {
          "output_type": "stream",
          "name": "stdout",
          "text": [
            "You are eligable to vote.\n"
          ]
        }
      ]
    },
    {
      "cell_type": "markdown",
      "source": [
        "# 7."
      ],
      "metadata": {
        "id": "rrZjhpGs_gwp"
      },
      "id": "rrZjhpGs_gwp"
    },
    {
      "cell_type": "code",
      "source": [
        "letter=input(\"Type a letter: \")\n",
        "guesses=1\n",
        "while letter!=\"q\":\n",
        "  print(letter)\n",
        "  letter=input(\"Type another letter:\")\n",
        "  guesses+=1\n",
        "  if letter==\"q\":\n",
        "    print('Guesses:',guesses)"
      ],
      "metadata": {
        "colab": {
          "base_uri": "https://localhost:8080/",
          "height": 0
        },
        "id": "kOML0faB_dCR",
        "outputId": "a5a29e03-4c63-4471-f059-0f18ffc85525"
      },
      "id": "kOML0faB_dCR",
      "execution_count": 25,
      "outputs": [
        {
          "output_type": "stream",
          "name": "stdout",
          "text": [
            "Type a letter: g\n",
            "g\n",
            "Type another letter:t\n",
            "t\n",
            "Type another letter:g\n",
            "g\n",
            "Type another letter:k\n",
            "k\n",
            "Type another letter:l\n",
            "l\n",
            "Type another letter:m\n",
            "m\n",
            "Type another letter:n\n",
            "n\n",
            "Type another letter:o\n",
            "o\n",
            "Type another letter:p\n",
            "p\n",
            "Type another letter:q\n",
            "Guesses: 10\n"
          ]
        }
      ]
    },
    {
      "cell_type": "markdown",
      "source": [
        "# 8."
      ],
      "metadata": {
        "id": "R9vvElQ1HcIP"
      },
      "id": "R9vvElQ1HcIP"
    },
    {
      "cell_type": "code",
      "source": [
        "l=10\n",
        "while l>=1:\n",
        "  print(l)\n",
        "  l=l-1\n",
        "  if l==0:\n",
        "    print(\"Liftoff!\")"
      ],
      "metadata": {
        "colab": {
          "base_uri": "https://localhost:8080/",
          "height": 0
        },
        "id": "SMyUjyRqAZKv",
        "outputId": "0e8cb36f-ad38-4941-9c60-be9553c281d5"
      },
      "id": "SMyUjyRqAZKv",
      "execution_count": 28,
      "outputs": [
        {
          "output_type": "stream",
          "name": "stdout",
          "text": [
            "10\n",
            "9\n",
            "8\n",
            "7\n",
            "6\n",
            "5\n",
            "4\n",
            "3\n",
            "2\n",
            "1\n",
            "Liftoff!\n"
          ]
        }
      ]
    },
    {
      "cell_type": "markdown",
      "source": [
        "#9.\n",
        "create a number that asks the user for a number then prints out the multiplication table for that number using a while loop."
      ],
      "metadata": {
        "id": "YekHGUM9Hr-7"
      },
      "id": "YekHGUM9Hr-7"
    },
    {
      "cell_type": "code",
      "source": [
        "x=int(input(\"Insert a number into the multiplication tabel: \"))\n",
        "y=1\n",
        "while y<=45:\n",
        "  print(x*y)\n",
        "  y=y+1"
      ],
      "metadata": {
        "colab": {
          "base_uri": "https://localhost:8080/"
        },
        "id": "95nU1gnbHPx4",
        "outputId": "c169ce75-9756-406a-bd7e-073b295ad458"
      },
      "id": "95nU1gnbHPx4",
      "execution_count": 34,
      "outputs": [
        {
          "output_type": "stream",
          "name": "stdout",
          "text": [
            "Insert a number into the multiplication tabel: 4\n",
            "4\n",
            "8\n",
            "12\n",
            "16\n",
            "20\n",
            "24\n",
            "28\n",
            "32\n",
            "36\n",
            "40\n",
            "44\n",
            "48\n",
            "52\n",
            "56\n",
            "60\n",
            "64\n",
            "68\n",
            "72\n",
            "76\n",
            "80\n",
            "84\n",
            "88\n",
            "92\n",
            "96\n",
            "100\n",
            "104\n",
            "108\n",
            "112\n",
            "116\n",
            "120\n",
            "124\n",
            "128\n",
            "132\n",
            "136\n",
            "140\n",
            "144\n",
            "148\n",
            "152\n",
            "156\n",
            "160\n",
            "164\n",
            "168\n",
            "172\n",
            "176\n",
            "180\n"
          ]
        }
      ]
    },
    {
      "cell_type": "markdown",
      "source": [
        "# 10."
      ],
      "metadata": {
        "id": "_oQUA3iOJDW4"
      },
      "id": "_oQUA3iOJDW4"
    },
    {
      "cell_type": "code",
      "source": [
        "list10=[\"apple\",\"banana\",\"cherry\",\"date\"]\n",
        "for i in list10:\n",
        "  print(i)"
      ],
      "metadata": {
        "colab": {
          "base_uri": "https://localhost:8080/"
        },
        "id": "NQpPTu37IUhR",
        "outputId": "0950747b-96f4-413c-8401-b8422ed43f57"
      },
      "id": "NQpPTu37IUhR",
      "execution_count": 35,
      "outputs": [
        {
          "output_type": "stream",
          "name": "stdout",
          "text": [
            "apple\n",
            "banana\n",
            "cherry\n",
            "date\n"
          ]
        }
      ]
    },
    {
      "cell_type": "markdown",
      "source": [
        "# 11."
      ],
      "metadata": {
        "id": "V80yO4fFJriH"
      },
      "id": "V80yO4fFJriH"
    },
    {
      "cell_type": "code",
      "source": [
        "factorial=1\n",
        "n=int(input('Please insert a number:'))\n",
        "for i in range(1,n+1):\n",
        "  factorial=factorial*i\n",
        "print(\"The Factorial \",n,\"is\",factorial)"
      ],
      "metadata": {
        "colab": {
          "base_uri": "https://localhost:8080/"
        },
        "id": "I8hJJkSYJi4a",
        "outputId": "3d2e99cf-a75f-45cd-bcbf-5533efe87de6"
      },
      "id": "I8hJJkSYJi4a",
      "execution_count": 40,
      "outputs": [
        {
          "output_type": "stream",
          "name": "stdout",
          "text": [
            "Please insert a number:3\n",
            "The Factorial  3 is 6\n"
          ]
        }
      ]
    },
    {
      "cell_type": "markdown",
      "source": [
        "# 12."
      ],
      "metadata": {
        "id": "tgczUiyiNVUz"
      },
      "id": "tgczUiyiNVUz"
    },
    {
      "cell_type": "code",
      "source": [
        "a=int(input(\"input a number: \"))\n",
        "b=int(input(\"input a number: \"))\n",
        "c=int(input(\"input a number: \"))\n",
        "d=int(input(\"input a number: \"))\n",
        "e=int(input(\"input a number: \"))\n",
        "mums=(a,b,c,d,e)\n",
        "sum=0\n",
        "for i in mums:\n",
        "  sum=sum+i\n",
        "had = sum/5\n",
        "print(\"The average is \", had)\n",
        "\n"
      ],
      "metadata": {
        "colab": {
          "base_uri": "https://localhost:8080/"
        },
        "id": "ZjVCblAbMrda",
        "outputId": "602f7c5b-3ecf-4900-90e0-ce603704af56"
      },
      "id": "ZjVCblAbMrda",
      "execution_count": 52,
      "outputs": [
        {
          "output_type": "stream",
          "name": "stdout",
          "text": [
            "input a number: 4\n",
            "input a number: 2\n",
            "input a number: 2\n",
            "input a number: 3\n",
            "input a number: 6\n",
            "The average is  3.4\n"
          ]
        }
      ]
    },
    {
      "cell_type": "code",
      "source": [
        "4"
      ],
      "metadata": {
        "id": "8Sa1OgLEOR5u"
      },
      "id": "8Sa1OgLEOR5u",
      "execution_count": null,
      "outputs": []
    }
  ],
  "metadata": {
    "kernelspec": {
      "display_name": "Python 3 (ipykernel)",
      "language": "python",
      "name": "python3"
    },
    "language_info": {
      "codemirror_mode": {
        "name": "ipython",
        "version": 3
      },
      "file_extension": ".py",
      "mimetype": "text/x-python",
      "name": "python",
      "nbconvert_exporter": "python",
      "pygments_lexer": "ipython3",
      "version": "3.11.4"
    },
    "colab": {
      "provenance": []
    }
  },
  "nbformat": 4,
  "nbformat_minor": 5
}