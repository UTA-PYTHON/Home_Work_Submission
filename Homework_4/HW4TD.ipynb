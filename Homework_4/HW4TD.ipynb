{
 "cells": [
  {
   "cell_type": "markdown",
   "id": "0654602b",
   "metadata": {},
   "source": [
    "List and Tuple:\n",
    "○ Create a list named fruits containing the following: \"apple\", \"banana\", \"cherry\".\n",
    "○ Convert this list into a tuple.\n",
    "○ Add \"orange\" to the list of fruits.\n",
    "○ Show the difference in the content of the list and tuple after the addition"
   ]
  },
  {
   "cell_type": "code",
   "execution_count": 9,
   "id": "13016c7e",
   "metadata": {},
   "outputs": [
    {
     "name": "stdout",
     "output_type": "stream",
     "text": [
      "('apple', 'banana', 'cherry')\n",
      "['apple', 'banana', 'cherry', 'orange']\n"
     ]
    }
   ],
   "source": [
    "fruits = [\"apple\", \"banana\", \"cherry\"]\n",
    "fruits_tup = tuple(fruits)\n",
    "print(fruits_tup)\n",
    "type(fruits_tup)\n",
    "fruits.append(\"orange\")\n",
    "print(fruits)"
   ]
  },
  {
   "cell_type": "markdown",
   "id": "035ae31c",
   "metadata": {},
   "source": [
    "Create a dictionary named person with keys \"first_name\", \"last_name\", and \"age\". \n",
    "Populate it with values of your choice.\n",
    "○ Add a new key-value pair, \"city\" with a value of your choice.\n",
    "○ Display the keys in the dictionary using a Python command"
   ]
  },
  {
   "cell_type": "code",
   "execution_count": 13,
   "id": "c6c0349f",
   "metadata": {},
   "outputs": [
    {
     "name": "stdout",
     "output_type": "stream",
     "text": [
      "<class 'dict'>\n",
      "{'first_name': 'Tyler', 'last_name': 'Dixon', 'age': '22'}\n",
      "{'first_name': 'Tyler', 'last_name': 'Dixon', 'age': '22', 'city': 'Arlington'}\n",
      "<built-in method keys of dict object at 0x0000026B70C18A40>\n"
     ]
    }
   ],
   "source": [
    "person = {\"first_name\" : \"Tyler\", \"last_name\" : \"Dixon\", \"age\" : \"22\"}\n",
    "print(type(person))\n",
    "print(person)\n",
    "person [\"city\"] = \"Arlington\"\n",
    "print(person)\n",
    "print(person.keys)  #no error but won't function?"
   ]
  },
  {
   "cell_type": "markdown",
   "id": "50a0375f",
   "metadata": {},
   "source": [
    "Create a set named colors with the values \"red\", \"blue\", \"green\".\n",
    "○ Add \"yellow\" to the set and remove \"blue\".\n",
    "○ Check if \"pink\" is in the set and display the result"
   ]
  },
  {
   "cell_type": "code",
   "execution_count": 16,
   "id": "ba06ef34",
   "metadata": {},
   "outputs": [
    {
     "name": "stdout",
     "output_type": "stream",
     "text": [
      "{'red', 'green', 'yellow'}\n"
     ]
    },
    {
     "data": {
      "text/plain": [
       "False"
      ]
     },
     "execution_count": 16,
     "metadata": {},
     "output_type": "execute_result"
    }
   ],
   "source": [
    "colors = {\"red\", \"blue\", \"green\"}\n",
    "colors.add(\"yellow\")\n",
    "colors.remove(\"blue\")\n",
    "print(colors)\n",
    "\"pink\" in colors"
   ]
  },
  {
   "cell_type": "markdown",
   "id": "4051333d",
   "metadata": {},
   "source": [
    "Write a Python program that takes an input from the user and checks if the number is positive, \n",
    "negative, or zero."
   ]
  },
  {
   "cell_type": "code",
   "execution_count": 19,
   "id": "2d96a5b1",
   "metadata": {},
   "outputs": [
    {
     "name": "stdout",
     "output_type": "stream",
     "text": [
      "Enter an integer: -3\n",
      "Negative\n"
     ]
    }
   ],
   "source": [
    "number = int(input(\"Enter an integer: \"))\n",
    "if number >0:\n",
    "    print(\"Positive\")\n",
    "elif number <0:\n",
    "    print(\"Negative\")\n",
    "else: print(\"zero\")"
   ]
  },
  {
   "cell_type": "markdown",
   "id": "1dd209b6",
   "metadata": {},
   "source": [
    "Given a list of numbers: [23, 45, 8, 12, 78, 56, 89], write a Python program that prints out all even \n",
    "numbers from the list using a conditional statement"
   ]
  },
  {
   "cell_type": "code",
   "execution_count": 22,
   "id": "f368eb09",
   "metadata": {},
   "outputs": [
    {
     "name": "stdout",
     "output_type": "stream",
     "text": [
      "8\n",
      "12\n",
      "78\n",
      "56\n"
     ]
    }
   ],
   "source": [
    "numbers = [23, 45, 8, 12, 78, 56, 89]\n",
    "for i in numbers:\n",
    "    if i%2 == 0:\n",
    "        print(i)"
   ]
  },
  {
   "cell_type": "markdown",
   "id": "4bc4e9f0",
   "metadata": {},
   "source": [
    "Write a program that asks the user to enter their age. Based on the user's input, determine if they \n",
    "are eligible to vote (consider the voting age as 18)"
   ]
  },
  {
   "cell_type": "code",
   "execution_count": 26,
   "id": "f0b2ab61",
   "metadata": {},
   "outputs": [
    {
     "name": "stdout",
     "output_type": "stream",
     "text": [
      "How old are you?67\n",
      "You are old enough to vote\n"
     ]
    }
   ],
   "source": [
    "age = int(input(\"How old are you?\"))\n",
    "if age >=18:\n",
    "    print(\"You are old enough to vote\")\n",
    "elif age <18:\n",
    "    print(\"You are too young to vote\")\n"
   ]
  },
  {
   "cell_type": "markdown",
   "id": "f188faa1",
   "metadata": {},
   "source": [
    "Write a program that prompts the user to enter numbers continuously (using a while loop) and \n",
    "stops taking inputs when the user enters 'q'. After that, display the sum of all the numbers entered."
   ]
  },
  {
   "cell_type": "code",
   "execution_count": 106,
   "id": "78fe2212",
   "metadata": {},
   "outputs": [
    {
     "name": "stdout",
     "output_type": "stream",
     "text": [
      "Initialize by typing 'start': start\n",
      "Add a number to the list. When you're done, type 'q'.9\n",
      "Add a number to the list. When you're done, type 'q'.9\n",
      "Add a number to the list. When you're done, type 'q'.9\n",
      "Add a number to the list. When you're done, type 'q'.q\n",
      "Your list is: [9, 9, 9]\n",
      "The sum of your values is : 27\n"
     ]
    }
   ],
   "source": [
    "lst = []\n",
    "s = 0\n",
    "i = input(\"Initialize by typing 'start': \")\n",
    "while i != \"q\":\n",
    "    r = input(\"Add a number to the list. When you're done, type 'q'.\")\n",
    "    if r != \"q\":\n",
    "        lst.append(r)\n",
    "    if r == \"q\":\n",
    "        i = \"q\"\n",
    "lst = [int(x) for x in lst]\n",
    "print(\"Your list is:\", lst)\n",
    "for c in range(0, len(lst)):\n",
    "    s = s + lst[c]\n",
    "print(\"The sum of your values is :\", s)"
   ]
  },
  {
   "cell_type": "markdown",
   "id": "917e9713",
   "metadata": {},
   "source": [
    "Create a Python program using a while loop that prints numbers from 10 down to 1 and then \n",
    "prints \"Liftoff!\""
   ]
  },
  {
   "cell_type": "code",
   "execution_count": 110,
   "id": "3052731a",
   "metadata": {},
   "outputs": [
    {
     "name": "stdout",
     "output_type": "stream",
     "text": [
      "10\n",
      "9\n",
      "8\n",
      "7\n",
      "6\n",
      "5\n",
      "4\n",
      "3\n",
      "2\n",
      "1\n",
      "Liftoff!\n"
     ]
    }
   ],
   "source": [
    "n = 10\n",
    "while n >0:\n",
    "    print(n)\n",
    "    n = n-1\n",
    "print(\"Liftoff!\")"
   ]
  },
  {
   "cell_type": "markdown",
   "id": "3a3b1416",
   "metadata": {},
   "source": [
    "Create a program that asks the user for a number and then prints out the multiplication table for \n",
    "that number using a while loop"
   ]
  },
  {
   "cell_type": "code",
   "execution_count": 4,
   "id": "00624dfc",
   "metadata": {},
   "outputs": [
    {
     "name": "stdout",
     "output_type": "stream",
     "text": [
      "Enter a positive integer67\n",
      "12 804\n",
      "11 737\n",
      "10 670\n",
      "9 603\n",
      "8 536\n",
      "7 469\n",
      "6 402\n",
      "5 335\n",
      "4 268\n",
      "3 201\n",
      "2 134\n",
      "1 67\n"
     ]
    }
   ],
   "source": [
    "x = int(input(\"Enter a positive integer\"))\n",
    "n = 12\n",
    "while n > 0:\n",
    "    print(n, x*n)\n",
    "    n = n-1"
   ]
  },
  {
   "cell_type": "markdown",
   "id": "b1f90178",
   "metadata": {},
   "source": [
    "Given a list: [\"apple\", \"banana\", \"cherry\", \"date\"], use a for loop to print each fruit in the list."
   ]
  },
  {
   "cell_type": "code",
   "execution_count": 112,
   "id": "fdf7b04d",
   "metadata": {},
   "outputs": [
    {
     "name": "stdout",
     "output_type": "stream",
     "text": [
      "apple\n",
      "banana\n",
      "cherry\n",
      "date\n"
     ]
    }
   ],
   "source": [
    "frts = [\"apple\", \"banana\", \"cherry\", \"date\"]\n",
    "for i in frts:\n",
    "    print(i)"
   ]
  },
  {
   "cell_type": "markdown",
   "id": "663db3ed",
   "metadata": {},
   "source": [
    "Using a for loop, calculate the factorial of a given number (n!). For example, if the given number \n",
    "is 5, the output should be 5 x 4 x 3 x 2 x 1 = 120"
   ]
  },
  {
   "cell_type": "code",
   "execution_count": 44,
   "id": "c84b334f",
   "metadata": {},
   "outputs": [
    {
     "name": "stdout",
     "output_type": "stream",
     "text": [
      "Enter a positive number: 7\n",
      "[1, 2, 3, 4, 5, 6, 7]\n",
      "5040\n"
     ]
    }
   ],
   "source": [
    "n = int(input(\"Enter a positive number: \"))\n",
    "s = 1    #can't use zero because anything *0 = 0\n",
    "lst = []\n",
    "for i in range(1, n+1):\n",
    "    lst.append(i)\n",
    "print(lst)\n",
    "for x in lst:\n",
    "    s *= x\n",
    "print(s)"
   ]
  },
  {
   "cell_type": "markdown",
   "id": "a1df78fc",
   "metadata": {},
   "source": [
    "Create a program using a for loop that prompts the user to enter five numbers. After all numbers \n",
    "are entered, the program should display the average of the numbers."
   ]
  },
  {
   "cell_type": "code",
   "execution_count": 62,
   "id": "a068b620",
   "metadata": {},
   "outputs": [
    {
     "name": "stdout",
     "output_type": "stream",
     "text": [
      "Enter a number5\n",
      "Enter a number5\n",
      "Enter a number5\n",
      "Enter a number5\n",
      "Enter a number5\n",
      "Average of your numbers = 25\n"
     ]
    }
   ],
   "source": [
    "avg = []\n",
    "a = 0\n",
    "for i in range(0, 5):\n",
    "    avg.append(int(input(\"Enter a number: \")))\n",
    "for x in avg:\n",
    "        a += x\n",
    "print(\"Average of your numbers =\" , a)\n"
   ]
  },
  {
   "cell_type": "markdown",
   "id": "30749f68",
   "metadata": {},
   "source": [
    "Create a program using a for loop that prompts the user to enter five numbers. After all numbers \n",
    "are entered, the program should display the average of the numbers."
   ]
  },
  {
   "cell_type": "code",
   "execution_count": null,
   "id": "69f4da0d",
   "metadata": {},
   "outputs": [],
   "source": []
  }
 ],
 "metadata": {
  "kernelspec": {
   "display_name": "Python 3 (ipykernel)",
   "language": "python",
   "name": "python3"
  },
  "language_info": {
   "codemirror_mode": {
    "name": "ipython",
    "version": 3
   },
   "file_extension": ".py",
   "mimetype": "text/x-python",
   "name": "python",
   "nbconvert_exporter": "python",
   "pygments_lexer": "ipython3",
   "version": "3.11.4"
  }
 },
 "nbformat": 4,
 "nbformat_minor": 5
}
