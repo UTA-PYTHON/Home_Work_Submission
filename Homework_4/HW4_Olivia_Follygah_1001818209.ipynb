{
  "nbformat": 4,
  "nbformat_minor": 0,
  "metadata": {
    "colab": {
      "provenance": []
    },
    "kernelspec": {
      "name": "python3",
      "display_name": "Python 3"
    },
    "language_info": {
      "name": "python"
    }
  },
  "cells": [
    {
      "cell_type": "markdown",
      "source": [
        "##**1. List and Tuple**\n",
        "\n",
        "\n",
        "*   Create a list named fruits containing the following: \"apple\", \"banana\", \"cherry\".\n",
        "\n",
        "* Convert this list into a tuple\n",
        "*  Add \"orange\" to the list of fruits\n",
        "*  Show the difference in the content of the list and tuple after the addition\n",
        "\n",
        "\n",
        "\n",
        "\n"
      ],
      "metadata": {
        "id": "Z-1P5qNncHyx"
      }
    },
    {
      "cell_type": "code",
      "execution_count": null,
      "metadata": {
        "colab": {
          "base_uri": "https://localhost:8080/"
        },
        "id": "w1JKpQxicAht",
        "outputId": "40de4dbb-1e37-4bf7-deb0-ba0ee0b25fd6"
      },
      "outputs": [
        {
          "output_type": "stream",
          "name": "stdout",
          "text": [
            "List of fruits ['apple', 'banana', 'cherry', 'orange']\n"
          ]
        }
      ],
      "source": [
        "fruits=[\"apple\", \"banana\", \"cherry\"]\n",
        "fruits_tuple= tuple(fruits)\n",
        "fruits.append (\"orange\")\n",
        "print (\"List of fruits\",fruits)"
      ]
    },
    {
      "cell_type": "code",
      "source": [
        "print (\"Tuples of fruits\", fruits)"
      ],
      "metadata": {
        "colab": {
          "base_uri": "https://localhost:8080/"
        },
        "id": "EPV9vqeyzntx",
        "outputId": "44e38e20-2f60-4899-f6a8-4f54844fa38a"
      },
      "execution_count": null,
      "outputs": [
        {
          "output_type": "stream",
          "name": "stdout",
          "text": [
            "Tuples of fruits ['apple', 'banana', 'cherry', 'orange']\n"
          ]
        }
      ]
    },
    {
      "cell_type": "markdown",
      "source": [
        "##**2. Dictionary**\n",
        "\n",
        "\n",
        "*   Create a dictionary named person\n",
        "with keys \"first_name\", \"last_name\", and \"age\". Populate it with values of your choice.\n",
        "\n",
        "*   Add a new key-value pair, \"city\" with a value of your choice.\n",
        "\n",
        "*   Display the keys in the dictionary using a Python command.\n",
        "\n",
        "\n",
        "\n",
        "\n",
        "\n",
        "\n"
      ],
      "metadata": {
        "id": "-_45lnhXcG-M"
      }
    },
    {
      "cell_type": "code",
      "source": [
        "person={\"first_name\" : 'Olivia', \"last_name\" : 'Folly-Gah', \"age\" : 20}\n",
        "person"
      ],
      "metadata": {
        "id": "eQxB5dAQiVLY",
        "colab": {
          "base_uri": "https://localhost:8080/"
        },
        "outputId": "33dd9ec9-86d4-4d9a-d5f9-7529d3bcf997"
      },
      "execution_count": null,
      "outputs": [
        {
          "output_type": "execute_result",
          "data": {
            "text/plain": [
              "{'first_name': 'Olivia', 'last_name': 'Folly-Gah', 'age': 20}"
            ]
          },
          "metadata": {},
          "execution_count": 10
        }
      ]
    },
    {
      "cell_type": "code",
      "source": [
        "person[\"city\"]=\"Queens\"\n",
        "person"
      ],
      "metadata": {
        "colab": {
          "base_uri": "https://localhost:8080/"
        },
        "id": "fxxm49SKKBoM",
        "outputId": "54dfce25-5d71-47a6-80bb-1dbb88d2ae49"
      },
      "execution_count": null,
      "outputs": [
        {
          "output_type": "execute_result",
          "data": {
            "text/plain": [
              "{'first_name': 'Olivia', 'last_name': 'Folly-Gah', 'age': 20, 'city': 'Queens'}"
            ]
          },
          "metadata": {},
          "execution_count": 11
        }
      ]
    },
    {
      "cell_type": "code",
      "source": [
        "person.keys()"
      ],
      "metadata": {
        "colab": {
          "base_uri": "https://localhost:8080/"
        },
        "id": "ElqUk6iDLV5s",
        "outputId": "ab7c990a-9ede-40a6-d0cd-f34201e133a2"
      },
      "execution_count": null,
      "outputs": [
        {
          "output_type": "execute_result",
          "data": {
            "text/plain": [
              "dict_keys(['first_name', 'last_name', 'age', 'city'])"
            ]
          },
          "metadata": {},
          "execution_count": 12
        }
      ]
    },
    {
      "cell_type": "markdown",
      "source": [
        "##**3. Set**\n",
        "\n",
        "\n",
        "\n",
        "*   Create a set named colors with values \"red\", \"blue, \"green\"\n",
        "\n",
        "*   Add \"yellow\" to the set and remove \"blue\".\n",
        "\n",
        "*   Check if \"pink\" is in the set and display the result."
      ],
      "metadata": {
        "id": "PbFQT78PiUtY"
      }
    },
    {
      "cell_type": "code",
      "source": [
        "colors={\"red\", \"blue\", \"green\"}\n",
        "colors"
      ],
      "metadata": {
        "colab": {
          "base_uri": "https://localhost:8080/"
        },
        "id": "UVKNRGDhi1q1",
        "outputId": "bb516e9f-2a67-445e-8176-ddbe62e45891"
      },
      "execution_count": null,
      "outputs": [
        {
          "output_type": "execute_result",
          "data": {
            "text/plain": [
              "{'blue', 'green', 'red'}"
            ]
          },
          "metadata": {},
          "execution_count": 2
        }
      ]
    },
    {
      "cell_type": "code",
      "source": [
        "colors.add(\"yellow\")"
      ],
      "metadata": {
        "id": "RNhWFJAXOY1_"
      },
      "execution_count": null,
      "outputs": []
    },
    {
      "cell_type": "code",
      "source": [
        "colors"
      ],
      "metadata": {
        "colab": {
          "base_uri": "https://localhost:8080/"
        },
        "id": "jtrb4NclOvl8",
        "outputId": "bba4c453-da55-4fdc-aa87-c0d13665b2b1"
      },
      "execution_count": null,
      "outputs": [
        {
          "output_type": "execute_result",
          "data": {
            "text/plain": [
              "{'green', 'red', 'yellow'}"
            ]
          },
          "metadata": {},
          "execution_count": 9
        }
      ]
    },
    {
      "cell_type": "code",
      "source": [
        "\"pink\" in \"colors\""
      ],
      "metadata": {
        "colab": {
          "base_uri": "https://localhost:8080/"
        },
        "id": "RqBzj6UCPAPA",
        "outputId": "3d2a25d7-f44b-4d65-bd7c-ca83f721a2c3"
      },
      "execution_count": null,
      "outputs": [
        {
          "output_type": "execute_result",
          "data": {
            "text/plain": [
              "False"
            ]
          },
          "metadata": {},
          "execution_count": 11
        }
      ]
    },
    {
      "cell_type": "code",
      "source": [
        "\"pink\" not in \"colors\""
      ],
      "metadata": {
        "colab": {
          "base_uri": "https://localhost:8080/"
        },
        "id": "EFkeZ4C-PSNO",
        "outputId": "950db465-e5a5-4218-a9b1-dffa8581dde0"
      },
      "execution_count": null,
      "outputs": [
        {
          "output_type": "execute_result",
          "data": {
            "text/plain": [
              "True"
            ]
          },
          "metadata": {},
          "execution_count": 12
        }
      ]
    },
    {
      "cell_type": "markdown",
      "source": [
        "##**Conditional Statements**\n"
      ],
      "metadata": {
        "id": "46OR0yGji3Gy"
      }
    },
    {
      "cell_type": "markdown",
      "source": [
        "####4. Add \"yellow\" to the set and remove \"blue\""
      ],
      "metadata": {
        "id": "co0qXVSLi_oj"
      }
    },
    {
      "cell_type": "code",
      "source": [
        "colors.add(\"yellow\")\n",
        "print (colors)"
      ],
      "metadata": {
        "colab": {
          "base_uri": "https://localhost:8080/"
        },
        "id": "TLFbaQ2RjF-D",
        "outputId": "cb59b990-940b-4820-dadd-aabadb2db8a6"
      },
      "execution_count": null,
      "outputs": [
        {
          "output_type": "stream",
          "name": "stdout",
          "text": [
            "{'yellow', 'red', 'green'}\n"
          ]
        }
      ]
    },
    {
      "cell_type": "markdown",
      "source": [
        "####5. Given a list of numbers: [23, 45, 8, 12, 78, 56, 89], write a Python program that prints out all even numbers from the list using a conditional statement."
      ],
      "metadata": {
        "id": "ZuiVuBlEjLad"
      }
    },
    {
      "cell_type": "code",
      "source": [
        "num=[23, 45, 8, 12, 78, 56, 89]\n",
        "\n",
        "for n in num:\n",
        "  if n%2==0:\n",
        "    print(f\"{n} is even\")"
      ],
      "metadata": {
        "colab": {
          "base_uri": "https://localhost:8080/"
        },
        "id": "nI1rrlsQj-RO",
        "outputId": "5141ed84-48d9-47ce-d366-675c05444963"
      },
      "execution_count": null,
      "outputs": [
        {
          "output_type": "stream",
          "name": "stdout",
          "text": [
            "8 is even\n",
            "12 is even\n",
            "78 is even\n",
            "56 is even\n"
          ]
        }
      ]
    },
    {
      "cell_type": "markdown",
      "source": [
        "####6. Write a program that asks the user to enter their age. Based on the user's input, determine if they are eligible to vote (consider voting age as 18)"
      ],
      "metadata": {
        "id": "OSXU6v-Gj-00"
      }
    },
    {
      "cell_type": "code",
      "source": [
        "age= float(input(\"Enter age: \"))\n",
        "\n",
        "if (age>=18):\n",
        "  print (\"You are eligible to vote\")\n",
        "else:\n",
        "  print (\"You are not eligible to vote\")"
      ],
      "metadata": {
        "colab": {
          "base_uri": "https://localhost:8080/"
        },
        "id": "6BXFixabkPUY",
        "outputId": "ff9c46d6-1e75-46d8-a3bf-041e1276ee18"
      },
      "execution_count": null,
      "outputs": [
        {
          "output_type": "stream",
          "name": "stdout",
          "text": [
            "Enter age: 18\n",
            "You are eligible to vote\n"
          ]
        }
      ]
    },
    {
      "cell_type": "code",
      "source": [
        "age= float(input(\"Enter age: \"))\n",
        "\n",
        "if (age>=18):\n",
        "  print (\"You are eligible to vote\")\n",
        "else:\n",
        "  print (\"You are not eligible to vote\")"
      ],
      "metadata": {
        "colab": {
          "base_uri": "https://localhost:8080/"
        },
        "id": "mPV-g_J-R531",
        "outputId": "c2595792-c3cf-4225-c0ef-a3c10955d483"
      },
      "execution_count": null,
      "outputs": [
        {
          "output_type": "stream",
          "name": "stdout",
          "text": [
            "Enter age: 16\n",
            "You are not eligible to vote\n"
          ]
        }
      ]
    },
    {
      "cell_type": "markdown",
      "source": [
        "##**While Loop**"
      ],
      "metadata": {
        "id": "7ewro38JkQON"
      }
    },
    {
      "cell_type": "markdown",
      "source": [
        "####7. Write a program that prompts the user to enter numbers continuously (using a while loop) and stops taking inputs when the user enters 'q'. After that, display the sum of all the numbers entered."
      ],
      "metadata": {
        "id": "96WcR-V3kTsA"
      }
    },
    {
      "cell_type": "code",
      "source": [
        "sum = 0\n",
        "\n",
        "while True:\n",
        "  num = input(\"Enter a number or 'q' to quit): \")\n",
        "\n",
        "  if num == 'q':\n",
        "    break\n",
        "\n",
        "  sum += float(num)\n",
        "\n",
        "print(\"Total sum:\", sum)"
      ],
      "metadata": {
        "colab": {
          "base_uri": "https://localhost:8080/"
        },
        "id": "elufeyWTftm9",
        "outputId": "97b394b0-9317-4223-9abb-2336ab1c21d0"
      },
      "execution_count": 5,
      "outputs": [
        {
          "output_type": "stream",
          "name": "stdout",
          "text": [
            "Enter a number or 'q' to quit): 12\n",
            "Enter a number or 'q' to quit): 34\n",
            "Enter a number or 'q' to quit): 23\n",
            "Enter a number or 'q' to quit): 67\n",
            "Enter a number or 'q' to quit): q\n",
            "Total sum: 136.0\n"
          ]
        }
      ]
    },
    {
      "cell_type": "markdown",
      "source": [
        "####8. Create a Python program using a while loop that prints numbers from 10 down to 1 and then prints \"Liftoff!\""
      ],
      "metadata": {
        "id": "Dvj11eqWkvcO"
      }
    },
    {
      "cell_type": "code",
      "source": [
        "count=10\n",
        "\n",
        "while count>= 1:\n",
        "  print(count)\n",
        "  count=count-1\n",
        "\n",
        "print(\"Liftoff!\")"
      ],
      "metadata": {
        "id": "wyqVefuPlALV",
        "colab": {
          "base_uri": "https://localhost:8080/"
        },
        "outputId": "ef69c684-0ec1-4886-c175-b86e9121b861"
      },
      "execution_count": null,
      "outputs": [
        {
          "output_type": "stream",
          "name": "stdout",
          "text": [
            "10\n",
            "9\n",
            "8\n",
            "7\n",
            "6\n",
            "5\n",
            "4\n",
            "3\n",
            "2\n",
            "1\n",
            "Liftoff!\n"
          ]
        }
      ]
    },
    {
      "cell_type": "markdown",
      "source": [
        "####9. Create a program that asks the user for a number and then prints out the multiplication table for that number using a while loop"
      ],
      "metadata": {
        "id": "twH-ZHVylAm-"
      }
    },
    {
      "cell_type": "code",
      "source": [
        "number = int(input(\"Enter a number: \"))\n",
        "c = 1\n",
        "\n",
        "while c <= 5:\n",
        "    result = number * c\n",
        "    print(f\"{number} x {c} = {result}\")\n",
        "    c += 1"
      ],
      "metadata": {
        "colab": {
          "base_uri": "https://localhost:8080/"
        },
        "id": "VFDnbZWUq0Eu",
        "outputId": "2ec0e233-f9cb-4e5f-f245-724d1d9122e5"
      },
      "execution_count": 7,
      "outputs": [
        {
          "output_type": "stream",
          "name": "stdout",
          "text": [
            "Enter a number: 7\n",
            "7 x 1 = 7\n",
            "7 x 2 = 14\n",
            "7 x 3 = 21\n",
            "7 x 4 = 28\n",
            "7 x 5 = 35\n"
          ]
        }
      ]
    },
    {
      "cell_type": "markdown",
      "source": [
        "##**For Loop**"
      ],
      "metadata": {
        "id": "eMiYB3fHUIBu"
      }
    },
    {
      "cell_type": "markdown",
      "source": [
        "####10. Given a list: [\"apple\", \"banana\", \"cherry\", \"date\"], use a for loop to print each fruit in the list."
      ],
      "metadata": {
        "id": "faKWcf96ULwz"
      }
    },
    {
      "cell_type": "code",
      "source": [
        "list=[\"apple\", \"banana\", \"cherry\", \"date\"]\n",
        "\n",
        "for fruits in list:\n",
        "  print(fruits)"
      ],
      "metadata": {
        "colab": {
          "base_uri": "https://localhost:8080/"
        },
        "id": "wyY8kRgdlOQx",
        "outputId": "cea631cb-3595-4e54-ac63-7478aa81edc7"
      },
      "execution_count": null,
      "outputs": [
        {
          "output_type": "stream",
          "name": "stdout",
          "text": [
            "apple\n",
            "banana\n",
            "cherry\n",
            "date\n"
          ]
        }
      ]
    },
    {
      "cell_type": "markdown",
      "source": [
        "####11. Using a loop, calculate the factorial of a given number (n!). For example, if the given number is 5, the output should be 5 x 4 x 3 x 2 x 1 = 120."
      ],
      "metadata": {
        "id": "8Vmi8-AmUaC1"
      }
    },
    {
      "cell_type": "code",
      "source": [
        "number = int(input(\"Enter a number: \"))\n",
        "\n",
        "factorial = 1\n",
        "for i in range(1, number + 1):\n",
        "    factorial *= i\n",
        "\n",
        "print(\"The factorial of\", number, \"is\", factorial)"
      ],
      "metadata": {
        "id": "IisNgL9dU7uD",
        "colab": {
          "base_uri": "https://localhost:8080/"
        },
        "outputId": "d97b6b7c-f952-417f-e7da-f575de86488d"
      },
      "execution_count": 9,
      "outputs": [
        {
          "output_type": "stream",
          "name": "stdout",
          "text": [
            "Enter a number: 7\n",
            "The factorial of 7 is 5040\n"
          ]
        }
      ]
    },
    {
      "cell_type": "markdown",
      "source": [
        "####12. Create a program using a for loop that prompts the user to enter five numbers. After all numbers are entered, the program should display the average of the numbers."
      ],
      "metadata": {
        "id": "2meBYgYlUskN"
      }
    },
    {
      "cell_type": "code",
      "source": [
        "for i in range(5):\n",
        "  num= float(input(\"Enter a number:\"))\n",
        "  total += num"
      ],
      "metadata": {
        "id": "WE0icikMU7IX",
        "colab": {
          "base_uri": "https://localhost:8080/"
        },
        "outputId": "2cebcad2-8d65-4e3c-fa4a-1a02b918d203"
      },
      "execution_count": null,
      "outputs": [
        {
          "name": "stdout",
          "output_type": "stream",
          "text": [
            "Enter a number:8\n",
            "Enter a number:9\n",
            "Enter a number:2\n",
            "Enter a number:3\n",
            "Enter a number:1\n"
          ]
        }
      ]
    },
    {
      "cell_type": "code",
      "source": [
        "average = total/5\n",
        "print(\"Average: \", average)"
      ],
      "metadata": {
        "colab": {
          "base_uri": "https://localhost:8080/"
        },
        "id": "J9JpmqxbuCOo",
        "outputId": "3155cac6-01b5-46b7-afaf-90ff976e331d"
      },
      "execution_count": null,
      "outputs": [
        {
          "output_type": "stream",
          "name": "stdout",
          "text": [
            "Average:  4.6\n"
          ]
        }
      ]
    }
  ]
}