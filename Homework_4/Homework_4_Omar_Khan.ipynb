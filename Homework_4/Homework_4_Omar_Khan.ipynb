{
  "nbformat": 4,
  "nbformat_minor": 0,
  "metadata": {
    "colab": {
      "provenance": []
    },
    "kernelspec": {
      "name": "python3",
      "display_name": "Python 3"
    },
    "language_info": {
      "name": "python"
    }
  },
  "cells": [
    {
      "cell_type": "markdown",
      "source": [
        "List and Tuple:\n"
      ],
      "metadata": {
        "id": "xn0Hh_ZWEYPB"
      }
    },
    {
      "cell_type": "code",
      "source": [
        "# Create a list named fruits\n",
        "fruits = [\"apple\", \"banana\", \"cherry\"]\n",
        "\n",
        "# Convert the list into a tuple\n",
        "fruits_tuple = tuple(fruits)\n",
        "\n",
        "# Add \"orange\" to the list of fruits\n",
        "fruits.append(\"orange\")\n",
        "\n",
        "# Show the content of the list and tuple after the addition\n",
        "print(\"List of fruits:\", fruits)\n",
        "print(\"Tuple of fruits:\", fruits_tuple)\n"
      ],
      "metadata": {
        "colab": {
          "base_uri": "https://localhost:8080/"
        },
        "id": "OY77GgGlEYzo",
        "outputId": "55cd9c37-96af-48d9-894b-b72ad12da35f"
      },
      "execution_count": 1,
      "outputs": [
        {
          "output_type": "stream",
          "name": "stdout",
          "text": [
            "List of fruits: ['apple', 'banana', 'cherry', 'orange']\n",
            "Tuple of fruits: ('apple', 'banana', 'cherry')\n"
          ]
        }
      ]
    },
    {
      "cell_type": "markdown",
      "source": [
        "Dictionary"
      ],
      "metadata": {
        "id": "MEFeO6KqEaYZ"
      }
    },
    {
      "cell_type": "code",
      "source": [
        "# Create a dictionary named person\n",
        "person = {\n",
        "    \"first_name\": \"John\",\n",
        "    \"last_name\": \"Doe\",\n",
        "    \"age\": 30\n",
        "}\n",
        "\n",
        "# Add a new key-value pair \"city\" with a value\n",
        "person[\"city\"] = \"New York\"\n",
        "\n",
        "# Display the keys in the dictionary\n",
        "print(\"Keys in the dictionary:\")\n",
        "for key in person.keys():\n",
        "    print(key)\n"
      ],
      "metadata": {
        "colab": {
          "base_uri": "https://localhost:8080/"
        },
        "id": "RRoc_ibvEaiu",
        "outputId": "a3cdfc9a-fb4f-49e6-b5be-7d815ec1dd3d"
      },
      "execution_count": 2,
      "outputs": [
        {
          "output_type": "stream",
          "name": "stdout",
          "text": [
            "Keys in the dictionary:\n",
            "first_name\n",
            "last_name\n",
            "age\n",
            "city\n"
          ]
        }
      ]
    },
    {
      "cell_type": "markdown",
      "source": [
        "3. Set:\n"
      ],
      "metadata": {
        "id": "bsHbXq1gEatf"
      }
    },
    {
      "cell_type": "code",
      "source": [
        "# Create a set named colors\n",
        "colors = {\"red\", \"blue\", \"green\"}\n",
        "\n",
        "# Add \"yellow\" to the set\n",
        "colors.add(\"yellow\")\n",
        "\n",
        "# Remove \"blue\" from the set\n",
        "colors.remove(\"blue\")\n",
        "\n",
        "# Check if \"pink\" is in the set\n",
        "is_pink_in_set = \"pink\" in colors\n",
        "\n",
        "# Display the result\n",
        "print(\"Updated set of colors:\", colors)\n",
        "print(\"Is 'pink' in the set?\", is_pink_in_set)\n"
      ],
      "metadata": {
        "colab": {
          "base_uri": "https://localhost:8080/"
        },
        "id": "PBn7FeZqEa1E",
        "outputId": "31692df5-4f3d-4578-c22c-05e604065e7f"
      },
      "execution_count": 3,
      "outputs": [
        {
          "output_type": "stream",
          "name": "stdout",
          "text": [
            "Updated set of colors: {'red', 'yellow', 'green'}\n",
            "Is 'pink' in the set? False\n"
          ]
        }
      ]
    },
    {
      "cell_type": "markdown",
      "source": [
        "4"
      ],
      "metadata": {
        "id": "x5R5qDdJGegz"
      }
    },
    {
      "cell_type": "code",
      "source": [
        "# Get user input as a float (to handle decimal numbers as well)\n",
        "user_input = float(input(\"Enter a number: \"))\n",
        "\n",
        "# Check if the number is positive, negative, or zero\n",
        "if user_input > 0:\n",
        "    print(\"The number is positive.\")\n",
        "elif user_input < 0:\n",
        "    print(\"The number is negative.\")\n",
        "else:\n",
        "    print(\"The number is zero.\")\n"
      ],
      "metadata": {
        "colab": {
          "base_uri": "https://localhost:8080/"
        },
        "id": "7wY9my45Ge3Y",
        "outputId": "01cea0cf-ad35-422b-f9bf-0860153c3213"
      },
      "execution_count": 4,
      "outputs": [
        {
          "output_type": "stream",
          "name": "stdout",
          "text": [
            "Enter a number: 6\n",
            "The number is positive.\n"
          ]
        }
      ]
    },
    {
      "cell_type": "markdown",
      "source": [
        "5"
      ],
      "metadata": {
        "id": "38JQ0Dj5Ge_7"
      }
    },
    {
      "cell_type": "code",
      "source": [
        "# Define the list of numbers\n",
        "numbers = [23, 45, 8, 12, 78, 56, 89]\n",
        "\n",
        "# Iterate through the list\n",
        "for num in numbers:\n",
        "    # Check if the number is even (divisible by 2)\n",
        "    if num % 2 == 0:\n",
        "        print(num)\n"
      ],
      "metadata": {
        "colab": {
          "base_uri": "https://localhost:8080/"
        },
        "id": "0tIkb1cLGfIm",
        "outputId": "832d9db8-5970-4731-8fcb-482a8b830cf9"
      },
      "execution_count": 5,
      "outputs": [
        {
          "output_type": "stream",
          "name": "stdout",
          "text": [
            "8\n",
            "12\n",
            "78\n",
            "56\n"
          ]
        }
      ]
    },
    {
      "cell_type": "markdown",
      "source": [
        "6"
      ],
      "metadata": {
        "id": "yOxd-3U4GfQI"
      }
    },
    {
      "cell_type": "code",
      "source": [
        "# Get user input for age\n",
        "age = int(input(\"Enter your age: \"))\n",
        "\n",
        "# Check if the user is eligible to vote\n",
        "if age >= 18:\n",
        "    print(\"You are eligible to vote.\")\n",
        "else:\n",
        "    print(\"You are not eligible to vote.\")\n"
      ],
      "metadata": {
        "colab": {
          "base_uri": "https://localhost:8080/"
        },
        "id": "_ed_hbFbGfX0",
        "outputId": "632e7330-1aae-4d48-9c6f-f62ab2faef8a"
      },
      "execution_count": 6,
      "outputs": [
        {
          "output_type": "stream",
          "name": "stdout",
          "text": [
            "Enter your age: 56\n",
            "You are eligible to vote.\n"
          ]
        }
      ]
    },
    {
      "cell_type": "markdown",
      "source": [
        "7"
      ],
      "metadata": {
        "id": "EvFDsFiHH1HF"
      }
    },
    {
      "cell_type": "code",
      "source": [
        "# Initialize a variable to store the sum\n",
        "total = 0\n",
        "\n",
        "# Prompt the user for input and calculate the sum\n",
        "while True:\n",
        "    user_input = input(\"Enter a number (or 'q' to quit): \")\n",
        "\n",
        "    # Check if the user wants to quit\n",
        "    if user_input.lower() == 'q':\n",
        "        break\n",
        "\n",
        "    try:\n",
        "        # Convert the user input to a float (to handle decimal numbers)\n",
        "        num = float(user_input)\n",
        "        # Add the number to the total\n",
        "        total += num\n",
        "    except ValueError:\n",
        "        print(\"Invalid input. Please enter a number or 'q' to quit.\")\n",
        "\n",
        "# Display the sum of all entered numbers\n",
        "print(\"Sum of entered numbers:\", total)\n"
      ],
      "metadata": {
        "colab": {
          "base_uri": "https://localhost:8080/"
        },
        "id": "rtiIPeNeH1Tq",
        "outputId": "fedbe7d3-8f5e-4374-c12f-baf55784192f"
      },
      "execution_count": 7,
      "outputs": [
        {
          "output_type": "stream",
          "name": "stdout",
          "text": [
            "Enter a number (or 'q' to quit): 4\n",
            "Enter a number (or 'q' to quit): 4\n",
            "Enter a number (or 'q' to quit): 4\n",
            "Enter a number (or 'q' to quit): 2\n",
            "Enter a number (or 'q' to quit): 4\n",
            "Enter a number (or 'q' to quit): 5\n",
            "Enter a number (or 'q' to quit): 2\n",
            "Enter a number (or 'q' to quit): q\n",
            "Sum of entered numbers: 25.0\n"
          ]
        }
      ]
    },
    {
      "cell_type": "markdown",
      "source": [
        "8"
      ],
      "metadata": {
        "id": "oHfYe-0FH1ee"
      }
    },
    {
      "cell_type": "code",
      "source": [
        "# Initialize the starting number\n",
        "countdown = 10\n",
        "\n",
        "# Use a while loop to count down\n",
        "while countdown >= 1:\n",
        "    print(countdown)\n",
        "    countdown -= 1  # Decrement the countdown\n",
        "\n",
        "# After the loop, print \"Liftoff!\"\n",
        "print(\"Liftoff!\")\n"
      ],
      "metadata": {
        "colab": {
          "base_uri": "https://localhost:8080/"
        },
        "id": "ue3xohP8H1qs",
        "outputId": "c1c0fb2e-5625-4ca1-b248-b7e758d36e31"
      },
      "execution_count": 8,
      "outputs": [
        {
          "output_type": "stream",
          "name": "stdout",
          "text": [
            "10\n",
            "9\n",
            "8\n",
            "7\n",
            "6\n",
            "5\n",
            "4\n",
            "3\n",
            "2\n",
            "1\n",
            "Liftoff!\n"
          ]
        }
      ]
    },
    {
      "cell_type": "markdown",
      "source": [
        "9"
      ],
      "metadata": {
        "id": "KVyiVERFH16z"
      }
    },
    {
      "cell_type": "code",
      "source": [
        "# Get user input for the number\n",
        "number = int(input(\"Enter a number: \"))\n",
        "\n",
        "# Initialize a variable for the multiplier\n",
        "multiplier = 1\n",
        "\n",
        "# Print the multiplication table using a while loop\n",
        "while multiplier <= 10:  # You can change the limit for the table\n",
        "    result = number * multiplier\n",
        "    print(f\"{number} x {multiplier} = {result}\")\n",
        "    multiplier += 1\n"
      ],
      "metadata": {
        "colab": {
          "base_uri": "https://localhost:8080/"
        },
        "id": "-wGpNrnMH2GS",
        "outputId": "3e0b327b-9f8d-4d9f-a592-af8eef40449a"
      },
      "execution_count": 9,
      "outputs": [
        {
          "output_type": "stream",
          "name": "stdout",
          "text": [
            "Enter a number: 56\n",
            "56 x 1 = 56\n",
            "56 x 2 = 112\n",
            "56 x 3 = 168\n",
            "56 x 4 = 224\n",
            "56 x 5 = 280\n",
            "56 x 6 = 336\n",
            "56 x 7 = 392\n",
            "56 x 8 = 448\n",
            "56 x 9 = 504\n",
            "56 x 10 = 560\n"
          ]
        }
      ]
    },
    {
      "cell_type": "markdown",
      "source": [
        "10"
      ],
      "metadata": {
        "id": "Bqx-4UTmJDZ6"
      }
    },
    {
      "cell_type": "code",
      "source": [
        "fruits = [\"apple\", \"banana\", \"cherry\", \"date\"]\n",
        "\n",
        "# Iterate through the list and print each fruit\n",
        "for fruit in fruits:\n",
        "    print(fruit)\n"
      ],
      "metadata": {
        "colab": {
          "base_uri": "https://localhost:8080/"
        },
        "id": "Az1YJPzaJDof",
        "outputId": "b8bfbb83-6604-4fc9-962c-fdeeea3554d6"
      },
      "execution_count": 11,
      "outputs": [
        {
          "output_type": "stream",
          "name": "stdout",
          "text": [
            "apple\n",
            "banana\n",
            "cherry\n",
            "date\n"
          ]
        }
      ]
    },
    {
      "cell_type": "markdown",
      "source": [
        "11"
      ],
      "metadata": {
        "id": "ZSI-SrHQJDzZ"
      }
    },
    {
      "cell_type": "code",
      "source": [
        "# Get the input number from the user\n",
        "n = int(input(\"Enter a number: \"))\n",
        "\n",
        "# Initialize the factorial to 1\n",
        "factorial = 1\n",
        "\n",
        "# Calculate the factorial using a for loop\n",
        "for i in range(1, n + 1):\n",
        "    factorial *= i\n",
        "\n",
        "# Print the result\n",
        "print(f\"{n}! =\", factorial)\n"
      ],
      "metadata": {
        "colab": {
          "base_uri": "https://localhost:8080/"
        },
        "id": "w1XcS1DaJD9g",
        "outputId": "8e213b0d-e788-40f4-97fa-944e4d5e8411"
      },
      "execution_count": 12,
      "outputs": [
        {
          "output_type": "stream",
          "name": "stdout",
          "text": [
            "Enter a number: 6\n",
            "6! = 720\n"
          ]
        }
      ]
    },
    {
      "cell_type": "markdown",
      "source": [
        "12"
      ],
      "metadata": {
        "id": "zsz57bF-JEGX"
      }
    },
    {
      "cell_type": "code",
      "source": [
        "# Initialize a variable to store the sum of numbers\n",
        "total = 0\n",
        "\n",
        "# Prompt the user to enter five numbers\n",
        "for i in range(5):\n",
        "    number = float(input(f\"Enter number {i + 1}: \"))\n",
        "    total += number\n",
        "\n",
        "# Calculate the average\n",
        "average = total / 5\n",
        "\n",
        "# Display the average\n",
        "print(f\"The average of the five numbers is: {average}\")\n"
      ],
      "metadata": {
        "colab": {
          "base_uri": "https://localhost:8080/"
        },
        "id": "ggL1q_8bJEO7",
        "outputId": "e05d126d-8e22-4e8c-ea14-7ff7222d8f9e"
      },
      "execution_count": 14,
      "outputs": [
        {
          "output_type": "stream",
          "name": "stdout",
          "text": [
            "Enter number 1: 3\n",
            "Enter number 2: 4\n",
            "Enter number 3: 6\n",
            "Enter number 4: 2\n",
            "Enter number 5: 4\n",
            "The average of the five numbers is: 3.8\n"
          ]
        }
      ]
    }
  ]
}