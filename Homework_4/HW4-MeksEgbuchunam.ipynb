{
 "cells": [
  {
   "cell_type": "markdown",
   "id": "5797e660-6bcf-4214-b992-a4a00f308070",
   "metadata": {},
   "source": [
    "1. List and Tuple\n",
    "Create a list named fruits containing the following: \"apple\", \"banana\", \"cherry\".\r",
    " Convert this list into a tuple.○ Add \"orange\" to the list of fruits\n",
    "○ Show the difference in the content of the list and tuple after the addition."
   ]
  },
  {
   "cell_type": "code",
   "execution_count": 9,
   "id": "5501e76a-7a64-416c-b7fc-3c4e61db063f",
   "metadata": {
    "scrolled": true
   },
   "outputs": [
    {
     "name": "stdout",
     "output_type": "stream",
     "text": [
      "['apple', 'banana', 'cherry']\n",
      "['apple', 'banana', 'cherry', 'orange']\n",
      "('apple', 'banana', 'cherry')\n"
     ]
    }
   ],
   "source": [
    "fruits = [\"apple\", \"banana\", \"cherry\"]\n",
    "fruits1 = tuple(fruits)\n",
    "print(fruits)\n",
    "fruits.append(\"orange\")\n",
    "print(fruits)\n",
    "print(fruits1)"
   ]
  },
  {
   "cell_type": "markdown",
   "id": "ba472d77-fbfa-472a-ba5f-bdfd5e5cc941",
   "metadata": {},
   "source": [
    "2. Dictionary\n",
    "\n",
    "Create a dictionary named person with keys \"first_name\", \"last_name\", and \"age\". \r\n",
    "Populate it with values of your choice.○ Add a new key-value pair, \"city\" with a value of your choice\n",
    "○ Display the keys in the dictionary using a Python command"
   ]
  },
  {
   "cell_type": "code",
   "execution_count": 16,
   "id": "274babeb-16a9-4a0c-9f02-3c18b34b0780",
   "metadata": {},
   "outputs": [
    {
     "name": "stdout",
     "output_type": "stream",
     "text": [
      "dict_keys(['first_name', 'last_name', 'age', 'city'])\n"
     ]
    }
   ],
   "source": [
    "person = {\n",
    "    \"first_name\": \"Dave\",\n",
    "    \"last_name\": \"Smith\",\n",
    "    \"age\": 47\n",
    "}\n",
    "\n",
    "person[\"city\"] = \"Dallas\"\n",
    "keys = person.keys()\n",
    "print(keys)"
   ]
  },
  {
   "cell_type": "markdown",
   "id": "ad139583-697c-41f2-8aff-9e51a1420acc",
   "metadata": {},
   "source": [
    "3. Set\n",
    "\n",
    "\n",
    "Create a set named colors with the values \"red\", \"blue\", \"green\".\r",
    " Add \"yellow\" to the set and remove \"blue\".○ Check if \"pink\" is in the set and display the result.\r\n"
   ]
  },
  {
   "cell_type": "code",
   "execution_count": 18,
   "id": "6a39771e-2612-4fdc-b906-402c91a37954",
   "metadata": {},
   "outputs": [
    {
     "name": "stdout",
     "output_type": "stream",
     "text": [
      "{'blue', 'green', 'red'}\n",
      "{'green', 'yellow', 'red'}\n",
      "False\n"
     ]
    }
   ],
   "source": [
    "colors = {\"red\", \"blue\", \"green\"}\n",
    "print(colors)\n",
    "colors.add(\"yellow\")\n",
    "colors.remove(\"blue\")\n",
    "pink_search = \"pink\" in colors\n",
    "print(colors)\n",
    "print(pink_search)"
   ]
  },
  {
   "cell_type": "markdown",
   "id": "8515c892-bf02-4fdb-8e1e-6364a647c1e7",
   "metadata": {},
   "source": [
    "4. Conditional Statements: Write a Python program that takes an input from the user and checks if the number is positive, \r\n",
    "negative, or zero."
   ]
  },
  {
   "cell_type": "code",
   "execution_count": 28,
   "id": "881f1dee-5b22-4971-9799-ffd3ece745cc",
   "metadata": {},
   "outputs": [
    {
     "name": "stdin",
     "output_type": "stream",
     "text": [
      "Please enter a number:  -24\n"
     ]
    },
    {
     "name": "stdout",
     "output_type": "stream",
     "text": [
      "this number is negative\n"
     ]
    }
   ],
   "source": [
    "checker = float(input(\"Please enter a number: \"))\n",
    "if checker > 0:\n",
    "    print(\"this number is positive\")\n",
    "elif checker < 0:\n",
    "      print(\"this number is negative\")\n",
    "else:\n",
    "      print(\"this number is 0\")"
   ]
  },
  {
   "cell_type": "markdown",
   "id": "e854f58b-cc41-4d20-ab89-705a6c08ea26",
   "metadata": {},
   "source": [
    "5. Conditional Statements: Given a list of numbers: [23, 45, 8, 12, 78, 56, 89], write a Python program that prints out all even \n",
    "numbers from the list using a conditional statement"
   ]
  },
  {
   "cell_type": "code",
   "execution_count": 30,
   "id": "0905d5ba-9cb0-4356-a4cb-7e6744906e3d",
   "metadata": {},
   "outputs": [
    {
     "name": "stdout",
     "output_type": "stream",
     "text": [
      "8\n",
      "12\n",
      "78\n",
      "56\n"
     ]
    }
   ],
   "source": [
    "numbers = [23, 45, 8, 12, 78, 56, 89]\n",
    "for number in numbers:\n",
    "    if number % 2 == 0:\n",
    "        print(number)\n"
   ]
  },
  {
   "cell_type": "markdown",
   "id": "53ad4054-c1a7-4492-a779-b36ecdb54379",
   "metadata": {},
   "source": [
    "6. Conditional Statements: Write a program that asks the user to enter their age. Based on the user's input, determine if they \r\n",
    "are eligible to vote (consider the voting age as 18)"
   ]
  },
  {
   "cell_type": "code",
   "execution_count": 37,
   "id": "ac573c49-ec2e-49f9-8553-12af7792dd43",
   "metadata": {},
   "outputs": [
    {
     "name": "stdin",
     "output_type": "stream",
     "text": [
      "How old are you?:  21\n"
     ]
    },
    {
     "name": "stdout",
     "output_type": "stream",
     "text": [
      "Congratulations! You are eligible to vote!\n"
     ]
    }
   ],
   "source": [
    "age = int(input(\"How old are you?: \"))\n",
    "if age > 18:\n",
    "          print(\"Congratulations! You are eligible to vote!\")\n",
    "else:\n",
    "          print(\"You are not old enough to vote.\")"
   ]
  },
  {
   "cell_type": "markdown",
   "id": "7f0c0fb7-4de8-4fa2-b3d9-5b616a907ff5",
   "metadata": {},
   "source": [
    "7. While Loop: Write a program that prompts the user to enter numbers continuously (using a while loop) and \n",
    "stops taking inputs when the user enters 'q'. After that, display the sum of all the numbers entered"
   ]
  },
  {
   "cell_type": "code",
   "execution_count": 45,
   "id": "575e6df6-3850-44fa-9c28-6dcd3f4a9cbf",
   "metadata": {},
   "outputs": [
    {
     "name": "stdin",
     "output_type": "stream",
     "text": [
      "please enter a number:  6\n",
      "please enter a number:  7\n",
      "please enter a number:  r\n"
     ]
    },
    {
     "name": "stdout",
     "output_type": "stream",
     "text": [
      "invalid input\n"
     ]
    },
    {
     "name": "stdin",
     "output_type": "stream",
     "text": [
      "please enter a number:  f\n"
     ]
    },
    {
     "name": "stdout",
     "output_type": "stream",
     "text": [
      "invalid input\n"
     ]
    },
    {
     "name": "stdin",
     "output_type": "stream",
     "text": [
      "please enter a number:  q\n"
     ]
    },
    {
     "name": "stdout",
     "output_type": "stream",
     "text": [
      "13.0\n"
     ]
    }
   ],
   "source": [
    "total = 0\n",
    "\n",
    "while True:\n",
    "    enter_number = input(\"please enter a number: \")\n",
    "    if enter_number == \"q\":\n",
    "        break\n",
    "\n",
    "    try:\n",
    "        number = float(enter_number)\n",
    "        total += number\n",
    "    except ValueError:\n",
    "        print(\"invalid input\")\n",
    "\n",
    "print(total)"
   ]
  },
  {
   "cell_type": "markdown",
   "id": "64f3b804-7d0c-436f-ab8a-50c668f33c27",
   "metadata": {},
   "source": [
    "8. While Loop: Create a Python program using a while loop that prints numbers from 10 down to 1 and then \r\n",
    "prints \"Liftoff!\""
   ]
  },
  {
   "cell_type": "code",
   "execution_count": 47,
   "id": "3a09fdda-af52-4d01-bff9-2a092532c0ee",
   "metadata": {},
   "outputs": [
    {
     "name": "stdout",
     "output_type": "stream",
     "text": [
      "10\n",
      "9\n",
      "8\n",
      "7\n",
      "6\n",
      "5\n",
      "4\n",
      "3\n",
      "2\n",
      "1\n",
      "Liftoff!\n"
     ]
    }
   ],
   "source": [
    "countdown = 10\n",
    "while countdown >= 1:\n",
    "    print(countdown)\n",
    "    countdown -= 1\n",
    "\n",
    "print(\"Liftoff!\")"
   ]
  },
  {
   "cell_type": "markdown",
   "id": "f9d58719-5c7f-479d-9c37-b1e882a8979f",
   "metadata": {},
   "source": [
    "9. While Loop: Create a program that asks the user for a number and then prints out the multiplication table for \r\n",
    "that number using a while lopo"
   ]
  },
  {
   "cell_type": "code",
   "execution_count": 54,
   "id": "b04aaffd-6131-436a-983a-0dc92eb3e6a5",
   "metadata": {},
   "outputs": [
    {
     "name": "stdin",
     "output_type": "stream",
     "text": [
      "Enter a number:  4\n"
     ]
    },
    {
     "name": "stdout",
     "output_type": "stream",
     "text": [
      "4  *  1  =  4\n",
      "4  *  2  =  8\n",
      "4  *  3  =  12\n",
      "4  *  4  =  16\n",
      "4  *  5  =  20\n",
      "4  *  6  =  24\n",
      "4  *  7  =  28\n",
      "4  *  8  =  32\n",
      "4  *  9  =  36\n",
      "4  *  10  =  40\n"
     ]
    }
   ],
   "source": [
    "number = int(input(\"Enter a number: \"))\n",
    "count = 1\n",
    "while count <= 10:\n",
    "    product = number * count\n",
    "    print(number, \" * \", count, \" = \", product)\n",
    "    count += 1"
   ]
  },
  {
   "cell_type": "markdown",
   "id": "32ea2f79-1893-4229-8e72-5708b5664adb",
   "metadata": {},
   "source": [
    "10. For Loop: Given a list: [\"apple\", \"banana\", \"cherry\", \"date\"], use a for loop to print each fruit in the list."
   ]
  },
  {
   "cell_type": "code",
   "execution_count": 55,
   "id": "fa159174-4d22-4bfe-addf-4e9d74395d09",
   "metadata": {},
   "outputs": [
    {
     "name": "stdout",
     "output_type": "stream",
     "text": [
      "apple\n",
      "banana\n",
      "cherry\n",
      "date\n"
     ]
    }
   ],
   "source": [
    "fruits = [\"apple\", \"banana\", \"cherry\", \"date\"]\n",
    "for fruit in fruits:\n",
    "    print(fruit)"
   ]
  },
  {
   "cell_type": "markdown",
   "id": "ea707629-cad4-4d15-a99d-00520f5d0bf1",
   "metadata": {},
   "source": [
    "11. For Loop: Using a for loop, calculate the factorial of a given number (n!). For example, if the given number \r\n",
    "is 5, the output should be 5 x 4 x 3 x 2 x 1 = 120"
   ]
  },
  {
   "cell_type": "code",
   "execution_count": 2,
   "id": "4e160731-909d-4259-8598-a71494da4cce",
   "metadata": {},
   "outputs": [
    {
     "name": "stdin",
     "output_type": "stream",
     "text": [
      "Enter a number:  4\n"
     ]
    },
    {
     "name": "stdout",
     "output_type": "stream",
     "text": [
      "4! = 1 x 2 x 3 x 4 = 24\n"
     ]
    }
   ],
   "source": [
    "number = int(input(\"Enter a number: \"))\n",
    "factor = 1\n",
    "equation = \"\"\n",
    "for i in range(1, number + 1):\n",
    "    factor *= i\n",
    "    equation += str(i)\n",
    "    if i < number:\n",
    "        equation += \" x \"\n",
    "print(f\"{number}! = {equation} = {factor}\")"
   ]
  },
  {
   "cell_type": "markdown",
   "id": "24a01dab-baca-4ed3-b443-b2860e1ae436",
   "metadata": {},
   "source": [
    "12. For Loop: Create a program using a for loop that prompts the user to enter five numbers. After all numbers \r\n",
    "are entered, the program should display the average of the numbers"
   ]
  },
  {
   "cell_type": "code",
   "execution_count": 6,
   "id": "468602fc-1490-420e-abf4-7eb89acd12ee",
   "metadata": {},
   "outputs": [
    {
     "name": "stdin",
     "output_type": "stream",
     "text": [
      "Enter number 1:  4\n",
      "Enter number 2:  0\n",
      "Enter number 3:  5667\n",
      "Enter number 4:  -5649\n",
      "Enter number 5:  5\n"
     ]
    },
    {
     "name": "stdout",
     "output_type": "stream",
     "text": [
      "5.4\n"
     ]
    }
   ],
   "source": [
    "total = 0\n",
    "for i in range(5):\n",
    "    number = float(input(f\"Enter number {i + 1}: \"))\n",
    "    total += number\n",
    "average = total / 5\n",
    "print(average)"
   ]
  }
 ],
 "metadata": {
  "kernelspec": {
   "display_name": "Python 3 (ipykernel)",
   "language": "python",
   "name": "python3"
  },
  "language_info": {
   "codemirror_mode": {
    "name": "ipython",
    "version": 3
   },
   "file_extension": ".py",
   "mimetype": "text/x-python",
   "name": "python",
   "nbconvert_exporter": "python",
   "pygments_lexer": "ipython3",
   "version": "3.11.5"
  }
 },
 "nbformat": 4,
 "nbformat_minor": 5
}
