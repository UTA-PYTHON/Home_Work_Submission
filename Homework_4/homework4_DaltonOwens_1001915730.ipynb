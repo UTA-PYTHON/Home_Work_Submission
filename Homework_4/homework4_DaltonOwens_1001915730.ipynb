{
  "nbformat": 4,
  "nbformat_minor": 0,
  "metadata": {
    "colab": {
      "provenance": []
    },
    "kernelspec": {
      "name": "python3",
      "display_name": "Python 3"
    },
    "language_info": {
      "name": "python"
    }
  },
  "cells": [
    {
      "cell_type": "code",
      "execution_count": null,
      "metadata": {
        "id": "wszYtdbfHpv0"
      },
      "outputs": [],
      "source": []
    },
    {
      "cell_type": "markdown",
      "source": [
        "##**Q1**##"
      ],
      "metadata": {
        "id": "uoFMt_NQHzzQ"
      }
    },
    {
      "cell_type": "code",
      "source": [
        "fruits_list=[\"apple\",\"banana\",\"cherry\"]"
      ],
      "metadata": {
        "id": "pzoP0FB_H3jw"
      },
      "execution_count": null,
      "outputs": []
    },
    {
      "cell_type": "code",
      "source": [
        "print(fruits_list)"
      ],
      "metadata": {
        "colab": {
          "base_uri": "https://localhost:8080/"
        },
        "id": "4dcl8jxjMO4j",
        "outputId": "c2101139-c43a-4f15-a801-ba1758b2fd4f"
      },
      "execution_count": null,
      "outputs": [
        {
          "output_type": "stream",
          "name": "stdout",
          "text": [
            "['apple', 'banana', 'cherry', 'orange']\n"
          ]
        }
      ]
    },
    {
      "cell_type": "code",
      "source": [
        "fruits_tuple=tuple(fruits)"
      ],
      "metadata": {
        "id": "tCgJrTgbICuz"
      },
      "execution_count": null,
      "outputs": []
    },
    {
      "cell_type": "code",
      "source": [
        "fruits_list.append(\"orange\")"
      ],
      "metadata": {
        "id": "Ryk7D7i6M9mh"
      },
      "execution_count": null,
      "outputs": []
    },
    {
      "cell_type": "code",
      "source": [
        "print(fruits_list, fruits_tuple)"
      ],
      "metadata": {
        "colab": {
          "base_uri": "https://localhost:8080/"
        },
        "id": "0ax3UVkPISpZ",
        "outputId": "71820b26-a23f-4ea6-e847-3289111cf710"
      },
      "execution_count": null,
      "outputs": [
        {
          "output_type": "stream",
          "name": "stdout",
          "text": [
            "['apple', 'banana', 'cherry', 'orange'] ('apple', 'banana', 'cherry', 'orange')\n"
          ]
        }
      ]
    },
    {
      "cell_type": "code",
      "source": [
        "# the difference between the list and tuple is the \"[]\" for lists and \"()\" for tuple."
      ],
      "metadata": {
        "id": "8apw9U7qLpEa"
      },
      "execution_count": null,
      "outputs": []
    },
    {
      "cell_type": "code",
      "source": [],
      "metadata": {
        "id": "m8SkMIKXIUtP"
      },
      "execution_count": null,
      "outputs": []
    },
    {
      "cell_type": "markdown",
      "source": [
        "##**Q2**##"
      ],
      "metadata": {
        "id": "LT7mvIUgOJMn"
      }
    },
    {
      "cell_type": "code",
      "source": [
        "person = {\n",
        "    \"first name\" : \"Dalton\",\n",
        "    \"last name\" : \"Owens\",\n",
        "    \"age\": 26\n",
        "}"
      ],
      "metadata": {
        "id": "k3sT2oUaKiqK"
      },
      "execution_count": null,
      "outputs": []
    },
    {
      "cell_type": "code",
      "source": [
        "person[\"city\"]=\"Euless\""
      ],
      "metadata": {
        "id": "_3Z14IGqKsQ2"
      },
      "execution_count": null,
      "outputs": []
    },
    {
      "cell_type": "code",
      "source": [
        "print(person)"
      ],
      "metadata": {
        "colab": {
          "base_uri": "https://localhost:8080/"
        },
        "id": "RrpjT3ZZPUBF",
        "outputId": "a5a9c95b-8426-42f2-e142-2cc0eff8aa0a"
      },
      "execution_count": null,
      "outputs": [
        {
          "output_type": "stream",
          "name": "stdout",
          "text": [
            "{'first name': 'Dalton', 'last name': 'Owens', 'age': 26, 'city': 'Euless'}\n"
          ]
        }
      ]
    },
    {
      "cell_type": "code",
      "source": [],
      "metadata": {
        "id": "Bzdp3uSDPceI"
      },
      "execution_count": null,
      "outputs": []
    },
    {
      "cell_type": "markdown",
      "source": [
        "##**Q3**##"
      ],
      "metadata": {
        "id": "qZQdyI5AQPHo"
      }
    },
    {
      "cell_type": "code",
      "source": [
        "colors=[\"red\", \"blue\", \"green\"]\n",
        "print(colors)"
      ],
      "metadata": {
        "colab": {
          "base_uri": "https://localhost:8080/"
        },
        "id": "W5BvCD0XQUW0",
        "outputId": "ee531857-dac7-4a53-f695-6016f9f62c36"
      },
      "execution_count": null,
      "outputs": [
        {
          "output_type": "stream",
          "name": "stdout",
          "text": [
            "['red', 'blue', 'green']\n"
          ]
        }
      ]
    },
    {
      "cell_type": "code",
      "source": [
        "colors.append(\"yello\")\n",
        "colors.remove(\"blue\")\n",
        "print(colors)"
      ],
      "metadata": {
        "colab": {
          "base_uri": "https://localhost:8080/"
        },
        "id": "rj2PVLPUQkGf",
        "outputId": "95b8ccc2-aa40-4f02-ea50-074eb5f87a83"
      },
      "execution_count": null,
      "outputs": [
        {
          "output_type": "stream",
          "name": "stdout",
          "text": [
            "['red', 'green', 'yello']\n"
          ]
        }
      ]
    },
    {
      "cell_type": "code",
      "source": [
        "if \"pink\" in colors:\n",
        "  print(\"pink is my favorate singer\")\n",
        "else:\n",
        "  print(\"pink does not exist\")"
      ],
      "metadata": {
        "colab": {
          "base_uri": "https://localhost:8080/"
        },
        "id": "HfgasTMAQu7Z",
        "outputId": "65bdb875-e940-420d-d2a3-df1682d498d9"
      },
      "execution_count": null,
      "outputs": [
        {
          "output_type": "stream",
          "name": "stdout",
          "text": [
            "pink does not exist\n"
          ]
        }
      ]
    },
    {
      "cell_type": "code",
      "source": [],
      "metadata": {
        "id": "ro7bjH4SQ6sX"
      },
      "execution_count": null,
      "outputs": []
    },
    {
      "cell_type": "markdown",
      "source": [
        "##**Q4**##"
      ],
      "metadata": {
        "id": "3Q9k2HMHReGZ"
      }
    },
    {
      "cell_type": "code",
      "source": [
        "number=(int(input(\"Enter a number here :\")))\n",
        "\n",
        "if number > 0:\n",
        "  print(\"this number is positive\")\n",
        "elif number == 0:\n",
        "  print(\"this number is neither possitive or negative\")\n",
        "else:\n",
        "  print(\"this number is negative\")"
      ],
      "metadata": {
        "colab": {
          "base_uri": "https://localhost:8080/"
        },
        "id": "jA9YiIeyRggN",
        "outputId": "ae6baa60-6993-4d1c-f709-6273acec264f"
      },
      "execution_count": null,
      "outputs": [
        {
          "output_type": "stream",
          "name": "stdout",
          "text": [
            "Enter a number here :0\n",
            "this number is neither possitive or negative\n"
          ]
        }
      ]
    },
    {
      "cell_type": "markdown",
      "source": [
        "##**Q5**##"
      ],
      "metadata": {
        "id": "EwbJK1wNBRQk"
      }
    },
    {
      "cell_type": "code",
      "source": [
        "note=[23,45,8,12,78,56,89]\n",
        "for note in note:\n",
        "  if note % 2==0:\n",
        "    print(note)"
      ],
      "metadata": {
        "colab": {
          "base_uri": "https://localhost:8080/"
        },
        "id": "e7Yp57YZSopd",
        "outputId": "9998bc7a-cdb2-498f-c590-925219565384"
      },
      "execution_count": null,
      "outputs": [
        {
          "output_type": "stream",
          "name": "stdout",
          "text": [
            "8\n",
            "12\n",
            "78\n",
            "56\n"
          ]
        }
      ]
    },
    {
      "cell_type": "markdown",
      "source": [
        "##**Q6**##"
      ],
      "metadata": {
        "id": "6sbgeOLoBdE2"
      }
    },
    {
      "cell_type": "code",
      "source": [
        "\n",
        "age=(int(input(\"Enter your age: \")))\n",
        "if age >= 18:\n",
        "  print(\"you can vote\")\n",
        "else:\n",
        "  print(\"you cannot vote yet CHILD\")"
      ],
      "metadata": {
        "colab": {
          "base_uri": "https://localhost:8080/"
        },
        "id": "ozX8_QapTK00",
        "outputId": "6872f031-57ee-46e6-e9aa-fc2908354128"
      },
      "execution_count": null,
      "outputs": [
        {
          "output_type": "stream",
          "name": "stdout",
          "text": [
            "Enter your age: 16\n",
            "you cannot vote yet CHILD\n"
          ]
        }
      ]
    },
    {
      "cell_type": "code",
      "source": [],
      "metadata": {
        "id": "g3j1W0Y9ZAaU"
      },
      "execution_count": null,
      "outputs": []
    },
    {
      "cell_type": "markdown",
      "source": [
        "##**Q7**##"
      ],
      "metadata": {
        "id": "O3yj5f5jBnid"
      }
    },
    {
      "cell_type": "markdown",
      "source": [
        "Write a program that prompts the user to enter numbers continuously (using a while loop) and\n",
        "stops taking inputs when the user enters 'q'. After that, display the sum of all the numbers entered."
      ],
      "metadata": {
        "id": "SYUXplBBRcKg"
      }
    },
    {
      "cell_type": "code",
      "source": [
        "\n",
        "s=0\n",
        "\n",
        "while True:\n",
        "  start= ((input(\"Enter number here: \")))\n",
        "\n",
        "  if start==\"q\":\n",
        "    break\n",
        "\n",
        "  addition= float(start)\n",
        "  s+=addition\n",
        "print(f'sum of inputs : {s}')\n",
        "\n",
        "\n",
        "\n",
        "\n",
        "\n"
      ],
      "metadata": {
        "id": "V22K9QDsb_nH",
        "colab": {
          "base_uri": "https://localhost:8080/"
        },
        "outputId": "dfbb3c4e-c85c-40cb-f213-4f37de1caeef"
      },
      "execution_count": null,
      "outputs": [
        {
          "output_type": "stream",
          "name": "stdout",
          "text": [
            "Enter number here: 7\n",
            "Enter number here: 7\n",
            "Enter number here: q\n",
            "sum of inputs : 14.0\n"
          ]
        }
      ]
    },
    {
      "cell_type": "code",
      "source": [
        "s"
      ],
      "metadata": {
        "colab": {
          "base_uri": "https://localhost:8080/"
        },
        "id": "5Me6DsrdCMOR",
        "outputId": "21f991a2-c145-4a2f-a866-6c1ff89968aa"
      },
      "execution_count": null,
      "outputs": [
        {
          "output_type": "execute_result",
          "data": {
            "text/plain": [
              "14.0"
            ]
          },
          "metadata": {},
          "execution_count": 211
        }
      ]
    },
    {
      "cell_type": "code",
      "source": [
        "\n"
      ],
      "metadata": {
        "id": "5MMMAtlsNOYD"
      },
      "execution_count": null,
      "outputs": []
    },
    {
      "cell_type": "markdown",
      "source": [
        "##**Q8**##"
      ],
      "metadata": {
        "id": "Vs72An0ANO0R"
      }
    },
    {
      "cell_type": "code",
      "source": [
        "Qeight= 10\n",
        "\n",
        "while Qeight>=1:\n",
        "  print(Qeight)\n",
        "  Qeight-=1\n",
        "print(\"liftoff\")"
      ],
      "metadata": {
        "colab": {
          "base_uri": "https://localhost:8080/"
        },
        "id": "PfUukrqvG_eL",
        "outputId": "f66b1161-fd7f-4b5d-fcbb-0f7073acafd1"
      },
      "execution_count": null,
      "outputs": [
        {
          "output_type": "stream",
          "name": "stdout",
          "text": [
            "10\n",
            "9\n",
            "8\n",
            "7\n",
            "6\n",
            "5\n",
            "4\n",
            "3\n",
            "2\n",
            "1\n",
            "liftoff\n"
          ]
        }
      ]
    },
    {
      "cell_type": "code",
      "source": [],
      "metadata": {
        "id": "yx5YqK1dHJD0"
      },
      "execution_count": null,
      "outputs": []
    },
    {
      "cell_type": "markdown",
      "source": [
        "##**Q9**##"
      ],
      "metadata": {
        "id": "INSxOXF_OP30"
      }
    },
    {
      "cell_type": "code",
      "source": [
        "Qnine= int(input(\"Enter a number: \"))\n",
        "\n",
        "multi= 1\n",
        "while multi <= 10:\n",
        "  table = Qnine * multi\n",
        "  print(f\"{num} x {multi} = {table}\")\n",
        "  multi +=1"
      ],
      "metadata": {
        "colab": {
          "base_uri": "https://localhost:8080/"
        },
        "id": "Lxcl8qA2ORcA",
        "outputId": "11577533-ef4e-4b81-f4f9-d0fe0d6f15e6"
      },
      "execution_count": null,
      "outputs": [
        {
          "output_type": "stream",
          "name": "stdout",
          "text": [
            "Enter a number: 5\n",
            "5 x 1 = 5\n",
            "5 x 2 = 10\n",
            "5 x 3 = 15\n",
            "5 x 4 = 20\n",
            "5 x 5 = 25\n",
            "5 x 6 = 30\n",
            "5 x 7 = 35\n",
            "5 x 8 = 40\n",
            "5 x 9 = 45\n",
            "5 x 10 = 50\n"
          ]
        }
      ]
    },
    {
      "cell_type": "code",
      "source": [],
      "metadata": {
        "id": "RF55533uO9Gq"
      },
      "execution_count": null,
      "outputs": []
    },
    {
      "cell_type": "markdown",
      "source": [
        "##**Q10**##"
      ],
      "metadata": {
        "id": "cI5rukeNQRis"
      }
    },
    {
      "cell_type": "code",
      "source": [
        "\n",
        "Qten=[\"apple\", \"banana\", \"cherry\", \"date\"]\n",
        "\n",
        "for fruit in Qten:\n",
        "  print(fruit)"
      ],
      "metadata": {
        "colab": {
          "base_uri": "https://localhost:8080/"
        },
        "id": "Ci0YBHXVPHxU",
        "outputId": "8b2c7b0a-635a-4125-8cde-b083ddcc23c5"
      },
      "execution_count": null,
      "outputs": [
        {
          "output_type": "stream",
          "name": "stdout",
          "text": [
            "apple\n",
            "banana\n",
            "cherry\n",
            "date\n"
          ]
        }
      ]
    },
    {
      "cell_type": "code",
      "source": [],
      "metadata": {
        "id": "_n_8l0_WR4Ed"
      },
      "execution_count": null,
      "outputs": []
    },
    {
      "cell_type": "markdown",
      "source": [
        "##**Q11**##"
      ],
      "metadata": {
        "id": "OSZbUjddSwVR"
      }
    },
    {
      "cell_type": "code",
      "source": [
        "n= int(input(\"enter a number here: \"))\n",
        "\n",
        "fact= 1\n",
        "express= \"\"\n",
        "for i in range(1, n+1):\n",
        "  fact *= i\n",
        "  if i ==1:\n",
        "    express=str(i)\n",
        "  else:\n",
        "    express+= f\" x {i}\"\n",
        "\n",
        "\n",
        "\n",
        "print(f\"{express}={fact} \")"
      ],
      "metadata": {
        "colab": {
          "base_uri": "https://localhost:8080/"
        },
        "id": "TOQaxXx1UhTn",
        "outputId": "07d61089-cc9b-40e4-d81d-d7b18899125f"
      },
      "execution_count": null,
      "outputs": [
        {
          "output_type": "stream",
          "name": "stdout",
          "text": [
            "enter a number here: 5\n",
            "1 x 2 x 3 x 4 x 5=120 \n"
          ]
        }
      ]
    },
    {
      "cell_type": "code",
      "source": [],
      "metadata": {
        "id": "nBbOUc3Gr-YR"
      },
      "execution_count": null,
      "outputs": []
    },
    {
      "cell_type": "markdown",
      "source": [
        "##**Q12**"
      ],
      "metadata": {
        "id": "bpjkg1QKr_E5"
      }
    },
    {
      "cell_type": "code",
      "source": [
        "Q12=0\n",
        "\n",
        "for a in range(5):\n",
        "  b=(int(input(\"enter 5 values individually :\")))\n",
        "\n",
        "  Q12 += b\n",
        "  a-= 1\n",
        "\n",
        "  mean=Q12/ 5\n",
        "print(mean)\n",
        "\n",
        "\n",
        "\n",
        "\n"
      ],
      "metadata": {
        "colab": {
          "base_uri": "https://localhost:8080/"
        },
        "id": "TGxq0p51VLhp",
        "outputId": "b31905d7-ca59-4026-9170-88803da26405"
      },
      "execution_count": null,
      "outputs": [
        {
          "output_type": "stream",
          "name": "stdout",
          "text": [
            "enter 5 values individually :5\n",
            "enter 5 values individually :4\n",
            "enter 5 values individually :3\n",
            "enter 5 values individually :2\n",
            "enter 5 values individually :1\n",
            "3.0\n"
          ]
        }
      ]
    },
    {
      "cell_type": "code",
      "source": [],
      "metadata": {
        "id": "9n9Y2rfyVTGw"
      },
      "execution_count": null,
      "outputs": []
    },
    {
      "cell_type": "code",
      "source": [],
      "metadata": {
        "id": "fvlWD6uR16Nu"
      },
      "execution_count": null,
      "outputs": []
    }
  ]
}