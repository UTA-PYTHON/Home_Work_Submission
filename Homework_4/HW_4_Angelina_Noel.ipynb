{
  "nbformat": 4,
  "nbformat_minor": 0,
  "metadata": {
    "colab": {
      "provenance": []
    },
    "kernelspec": {
      "name": "python3",
      "display_name": "Python 3"
    },
    "language_info": {
      "name": "python"
    }
  },
  "cells": [
    {
      "cell_type": "markdown",
      "source": [
        "# **Data Structures**"
      ],
      "metadata": {
        "id": "fzd007VPp_HF"
      }
    },
    {
      "cell_type": "markdown",
      "source": [
        "# **1. List and Tuple**"
      ],
      "metadata": {
        "id": "i3ZCfGFni-B3"
      }
    },
    {
      "cell_type": "code",
      "execution_count": 3,
      "metadata": {
        "id": "sXbtVBiLiYW8"
      },
      "outputs": [],
      "source": [
        "fruits=['apple','banana','cherry']"
      ]
    },
    {
      "cell_type": "code",
      "source": [
        "fruits_t=tuple(fruits)"
      ],
      "metadata": {
        "id": "E1x3qm5Cuncj"
      },
      "execution_count": 4,
      "outputs": []
    },
    {
      "cell_type": "code",
      "source": [
        "fruits.append('orange')"
      ],
      "metadata": {
        "id": "j-iMY5O_uq4B"
      },
      "execution_count": 5,
      "outputs": []
    },
    {
      "cell_type": "code",
      "source": [
        "print(fruits)"
      ],
      "metadata": {
        "colab": {
          "base_uri": "https://localhost:8080/"
        },
        "id": "UWLsnd65ut6e",
        "outputId": "b3e0bbfb-a3e3-4ae2-9055-1bbd48e68931"
      },
      "execution_count": 6,
      "outputs": [
        {
          "output_type": "stream",
          "name": "stdout",
          "text": [
            "['apple', 'banana', 'cherry', 'orange']\n"
          ]
        }
      ]
    },
    {
      "cell_type": "code",
      "source": [
        "print(fruits_t)"
      ],
      "metadata": {
        "colab": {
          "base_uri": "https://localhost:8080/"
        },
        "id": "lWpwGdlYuvxn",
        "outputId": "71e23757-fd28-4753-97b6-a12564477930"
      },
      "execution_count": 7,
      "outputs": [
        {
          "output_type": "stream",
          "name": "stdout",
          "text": [
            "('apple', 'banana', 'cherry')\n"
          ]
        }
      ]
    },
    {
      "cell_type": "markdown",
      "source": [
        "# **2.Dictionary**"
      ],
      "metadata": {
        "id": "L1thQ3LDuzOy"
      }
    },
    {
      "cell_type": "code",
      "source": [
        "person={'first_name':'Angelina',\"Last_Name\":\"Noel\",\"age\":20}"
      ],
      "metadata": {
        "id": "pEK95TjeuyC9"
      },
      "execution_count": 8,
      "outputs": []
    },
    {
      "cell_type": "code",
      "source": [
        "person[\"city\"]=\"El Paso\""
      ],
      "metadata": {
        "id": "PpS6POdRvN9U"
      },
      "execution_count": 9,
      "outputs": []
    },
    {
      "cell_type": "code",
      "source": [
        "person.keys()"
      ],
      "metadata": {
        "colab": {
          "base_uri": "https://localhost:8080/"
        },
        "id": "S865kW1XvTG-",
        "outputId": "b99b507f-5267-4977-fc6e-67cd31505e97"
      },
      "execution_count": 10,
      "outputs": [
        {
          "output_type": "execute_result",
          "data": {
            "text/plain": [
              "dict_keys(['first_name', 'Last_Name', 'age', 'city'])"
            ]
          },
          "metadata": {},
          "execution_count": 10
        }
      ]
    },
    {
      "cell_type": "markdown",
      "source": [
        "# **3.Set**"
      ],
      "metadata": {
        "id": "aZVCjBg_vVNH"
      }
    },
    {
      "cell_type": "code",
      "source": [
        "colors={\"red\",\"blue\",\"green\"}"
      ],
      "metadata": {
        "id": "Ocf6Dt4TvUq_"
      },
      "execution_count": 11,
      "outputs": []
    },
    {
      "cell_type": "code",
      "source": [
        "colors.add(\"yellow\")"
      ],
      "metadata": {
        "id": "R930jURFv9QO"
      },
      "execution_count": 12,
      "outputs": []
    },
    {
      "cell_type": "code",
      "source": [
        "colors.remove('blue')"
      ],
      "metadata": {
        "id": "8HOQypbvwBWR"
      },
      "execution_count": 13,
      "outputs": []
    },
    {
      "cell_type": "code",
      "source": [
        "print(colors)\n",
        "\"pink\" in colors"
      ],
      "metadata": {
        "colab": {
          "base_uri": "https://localhost:8080/"
        },
        "id": "TxqbJYglwExZ",
        "outputId": "b82c2cbb-59c2-438c-c5d5-e98aa9d4b526"
      },
      "execution_count": 14,
      "outputs": [
        {
          "output_type": "stream",
          "name": "stdout",
          "text": [
            "{'red', 'green', 'yellow'}\n"
          ]
        },
        {
          "output_type": "execute_result",
          "data": {
            "text/plain": [
              "False"
            ]
          },
          "metadata": {},
          "execution_count": 14
        }
      ]
    },
    {
      "cell_type": "markdown",
      "source": [
        "---\n",
        "---\n",
        "# **Conditional Statements**"
      ],
      "metadata": {
        "id": "rjzSUfW5ptZm"
      }
    },
    {
      "cell_type": "markdown",
      "source": [
        "# **4.**"
      ],
      "metadata": {
        "id": "10LQlsGkwMen"
      }
    },
    {
      "cell_type": "code",
      "source": [
        "num=int(input(\"enter a number:\"))\n",
        "if num>0:\n",
        "  print(\"positive\")\n",
        "elif num<0:\n",
        "  print(\"negative\")\n",
        "elif num==0:\n",
        "  print(zero)"
      ],
      "metadata": {
        "colab": {
          "base_uri": "https://localhost:8080/"
        },
        "id": "_6tHl73WwLcG",
        "outputId": "de954520-f274-4c5d-b50d-92f6fad16df7"
      },
      "execution_count": 16,
      "outputs": [
        {
          "output_type": "stream",
          "name": "stdout",
          "text": [
            "enter a number:2\n",
            "positive\n"
          ]
        }
      ]
    },
    {
      "cell_type": "markdown",
      "source": [
        "# **5.**"
      ],
      "metadata": {
        "id": "Nr0EvYdFmlpx"
      }
    },
    {
      "cell_type": "code",
      "source": [
        "nums=[23,45,8,12,78,56,89]\n",
        "for i in nums:\n",
        "  if i%2==0:\n",
        "    print(i)"
      ],
      "metadata": {
        "colab": {
          "base_uri": "https://localhost:8080/"
        },
        "id": "T9Ln2Di8moam",
        "outputId": "544df316-d4e8-4bbc-9633-fd7035328ad9"
      },
      "execution_count": 1,
      "outputs": [
        {
          "output_type": "stream",
          "name": "stdout",
          "text": [
            "8\n",
            "12\n",
            "78\n",
            "56\n"
          ]
        }
      ]
    },
    {
      "cell_type": "markdown",
      "source": [
        "# **6.**"
      ],
      "metadata": {
        "id": "GK1UFUUBoOGw"
      }
    },
    {
      "cell_type": "code",
      "source": [
        "age=int(input(\"enter your age:\"))\n",
        "if age>=18:\n",
        "  print(\"You are elifible to vote\")\n",
        "else:\n",
        "  print(\"You are not eligible to vote yet\")"
      ],
      "metadata": {
        "colab": {
          "base_uri": "https://localhost:8080/"
        },
        "id": "-mTX9p9doJ-L",
        "outputId": "2d6154c4-6fa8-41f2-d13e-52f67c25f5a9"
      },
      "execution_count": 2,
      "outputs": [
        {
          "output_type": "stream",
          "name": "stdout",
          "text": [
            "enter your age:20\n",
            "You are elifible to vote\n"
          ]
        }
      ]
    },
    {
      "cell_type": "markdown",
      "source": [
        "---\n",
        "---\n",
        "# **While Loop**"
      ],
      "metadata": {
        "id": "aWYSJvjkpqVk"
      }
    },
    {
      "cell_type": "markdown",
      "source": [
        "# **7.**"
      ],
      "metadata": {
        "id": "xQh0tjVxqcbM"
      }
    },
    {
      "cell_type": "code",
      "source": [
        "num=(input(\"Enter a number:\"))\n",
        "sum=0\n",
        "while num!='q':\n",
        "  num=int(num)\n",
        "  sum+=num\n",
        "  num=(input(\"Enter a number\"))\n",
        "print(sum)"
      ],
      "metadata": {
        "colab": {
          "base_uri": "https://localhost:8080/"
        },
        "id": "a3M3ZAwOqb73",
        "outputId": "ff880f1f-63d8-40e2-8c1f-8b211c978a24"
      },
      "execution_count": 5,
      "outputs": [
        {
          "output_type": "stream",
          "name": "stdout",
          "text": [
            "Enter a number:2\n",
            "Enter a number3\n",
            "Enter a number4\n",
            "Enter a number5\n",
            "Enter a number6\n",
            "Enter a numberq\n",
            "20\n"
          ]
        }
      ]
    },
    {
      "cell_type": "markdown",
      "source": [
        "# **8**"
      ],
      "metadata": {
        "id": "4ZW9CQ8Irznl"
      }
    },
    {
      "cell_type": "code",
      "source": [
        "num=10\n",
        "while num<=10 and num>0:\n",
        "  print(num)\n",
        "  num-=1\n",
        "print(\"Liftoff\")"
      ],
      "metadata": {
        "colab": {
          "base_uri": "https://localhost:8080/"
        },
        "id": "ZzoIMmEEr3Yy",
        "outputId": "a0404b59-69cf-49f5-95d6-024e1ce21d21"
      },
      "execution_count": 6,
      "outputs": [
        {
          "output_type": "stream",
          "name": "stdout",
          "text": [
            "10\n",
            "9\n",
            "8\n",
            "7\n",
            "6\n",
            "5\n",
            "4\n",
            "3\n",
            "2\n",
            "1\n",
            "Liftoff\n"
          ]
        }
      ]
    },
    {
      "cell_type": "markdown",
      "source": [
        "# **9.**"
      ],
      "metadata": {
        "id": "08CcKjdmsEhl"
      }
    },
    {
      "cell_type": "code",
      "source": [
        "num=int(input(\"Enter a number:\"))\n",
        "mult=1\n",
        "while mult<=12:\n",
        "  print(num,'times',mult,'=',mult*num)\n",
        "  mult+=1"
      ],
      "metadata": {
        "colab": {
          "base_uri": "https://localhost:8080/"
        },
        "id": "vuTBeHaWsCA5",
        "outputId": "ff62d4ee-076f-4f81-e1a9-4725355a6fc4"
      },
      "execution_count": 8,
      "outputs": [
        {
          "output_type": "stream",
          "name": "stdout",
          "text": [
            "Enter a number:3\n",
            "3 times 1 = 3\n",
            "3 times 2 = 6\n",
            "3 times 3 = 9\n",
            "3 times 4 = 12\n",
            "3 times 5 = 15\n",
            "3 times 6 = 18\n",
            "3 times 7 = 21\n",
            "3 times 8 = 24\n",
            "3 times 9 = 27\n",
            "3 times 10 = 30\n",
            "3 times 11 = 33\n",
            "3 times 12 = 36\n"
          ]
        }
      ]
    },
    {
      "cell_type": "markdown",
      "source": [
        "---\n",
        "---\n",
        "# **For Loop:**"
      ],
      "metadata": {
        "id": "wf7XqjNzt62x"
      }
    },
    {
      "cell_type": "markdown",
      "source": [
        "# **10.**"
      ],
      "metadata": {
        "id": "qRhYOMupuJIQ"
      }
    },
    {
      "cell_type": "code",
      "source": [
        "fruit=['apple','banana','cherry','date']\n",
        "for i in fruit:\n",
        "  print(i)"
      ],
      "metadata": {
        "colab": {
          "base_uri": "https://localhost:8080/"
        },
        "id": "WwwGp8L0sZHs",
        "outputId": "d6ce2fad-1849-4b1c-886f-73f0b3c1a6cf"
      },
      "execution_count": 10,
      "outputs": [
        {
          "output_type": "stream",
          "name": "stdout",
          "text": [
            "apple\n",
            "banana\n",
            "cherry\n",
            "date\n"
          ]
        }
      ]
    },
    {
      "cell_type": "markdown",
      "source": [
        "# **11.**"
      ],
      "metadata": {
        "id": "PHUO70OJuZaN"
      }
    },
    {
      "cell_type": "code",
      "source": [
        "n=5\n",
        "output=n\n",
        "for i in range(1,n):\n",
        "  output=output*i\n",
        "print(output)"
      ],
      "metadata": {
        "colab": {
          "base_uri": "https://localhost:8080/"
        },
        "id": "zZzqEuhSucUa",
        "outputId": "48b8b768-89cd-46c7-da6b-ef68240bbf27"
      },
      "execution_count": 13,
      "outputs": [
        {
          "output_type": "stream",
          "name": "stdout",
          "text": [
            "120\n"
          ]
        }
      ]
    },
    {
      "cell_type": "markdown",
      "source": [
        "# **12.**"
      ],
      "metadata": {
        "id": "-q2FG6AfwFNh"
      }
    },
    {
      "cell_type": "code",
      "source": [
        "sum=0\n",
        "for i in range(1,6):\n",
        "  num=int(input(\"enter a number:\"))\n",
        "  sum+=num\n",
        "average=sum/5\n",
        "print(average\n",
        "      )"
      ],
      "metadata": {
        "colab": {
          "base_uri": "https://localhost:8080/"
        },
        "id": "lOAnNqJEv7rA",
        "outputId": "4a30bd92-429c-410a-feca-b32363446a4d"
      },
      "execution_count": 15,
      "outputs": [
        {
          "output_type": "stream",
          "name": "stdout",
          "text": [
            "enter a number:2\n",
            "enter a number:3\n",
            "enter a number:4\n",
            "enter a number:5\n",
            "enter a number:6\n",
            "4.0\n"
          ]
        }
      ]
    },
    {
      "cell_type": "code",
      "source": [],
      "metadata": {
        "id": "FL0yueI8wtlb"
      },
      "execution_count": null,
      "outputs": []
    }
  ]
}