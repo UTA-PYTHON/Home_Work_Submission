{
  "nbformat": 4,
  "nbformat_minor": 0,
  "metadata": {
    "colab": {
      "provenance": []
    },
    "kernelspec": {
      "name": "python3",
      "display_name": "Python 3"
    },
    "language_info": {
      "name": "python"
    }
  },
  "cells": [
    {
      "cell_type": "markdown",
      "source": [
        "## **Data Structures**"
      ],
      "metadata": {
        "id": "KJtxahv5KP3W"
      }
    },
    {
      "cell_type": "markdown",
      "source": [
        "## **1. List and Tuple**"
      ],
      "metadata": {
        "id": "u7ZMSzko3GPW"
      }
    },
    {
      "cell_type": "code",
      "source": [
        "fruits={\"apple\",\"banana\",\"cherry\"}"
      ],
      "metadata": {
        "id": "q7nohUKqKXFT"
      },
      "execution_count": 9,
      "outputs": []
    },
    {
      "cell_type": "code",
      "source": [
        "fruits_2=tuple(fruits)"
      ],
      "metadata": {
        "id": "S9M5-5CRKcR8"
      },
      "execution_count": 10,
      "outputs": []
    },
    {
      "cell_type": "code",
      "source": [
        "fruits.add(\"orange\")"
      ],
      "metadata": {
        "id": "CyB22gtPLGKF"
      },
      "execution_count": 11,
      "outputs": []
    },
    {
      "cell_type": "code",
      "source": [
        "diff=fruits.difference(fruits_2)\n",
        "diff"
      ],
      "metadata": {
        "colab": {
          "base_uri": "https://localhost:8080/"
        },
        "id": "ANLeBkLULMKM",
        "outputId": "994f81dc-57e9-4ccf-f695-707e6f5ada7d"
      },
      "execution_count": 12,
      "outputs": [
        {
          "output_type": "execute_result",
          "data": {
            "text/plain": [
              "{'orange'}"
            ]
          },
          "metadata": {},
          "execution_count": 12
        }
      ]
    },
    {
      "cell_type": "markdown",
      "source": [
        "## **2. Dictionary**"
      ],
      "metadata": {
        "id": "oZahMw-AQlCj"
      }
    },
    {
      "cell_type": "code",
      "source": [
        "persons={\"first_name\":\"Phat\",\"last_name\":\"Dinh\",\"age\":19}"
      ],
      "metadata": {
        "id": "TMBxjmFbpajy"
      },
      "execution_count": 28,
      "outputs": []
    },
    {
      "cell_type": "code",
      "source": [
        "persons[\"city\"]=\"Arlington\"\n",
        "print(persons)"
      ],
      "metadata": {
        "colab": {
          "base_uri": "https://localhost:8080/"
        },
        "id": "YQagTIfxpt3D",
        "outputId": "89482f04-909e-4060-ac92-b126c396c553"
      },
      "execution_count": 29,
      "outputs": [
        {
          "output_type": "stream",
          "name": "stdout",
          "text": [
            "{'first_name': 'Phat', 'last_name': 'Dinh', 'age': 19, 'city': 'Arlington'}\n"
          ]
        }
      ]
    },
    {
      "cell_type": "code",
      "source": [
        "persons.keys()"
      ],
      "metadata": {
        "colab": {
          "base_uri": "https://localhost:8080/"
        },
        "id": "g0X0zWuep9O3",
        "outputId": "5dbfb576-f9cc-485f-c15c-6ba51d59e170"
      },
      "execution_count": 30,
      "outputs": [
        {
          "output_type": "execute_result",
          "data": {
            "text/plain": [
              "dict_keys(['first_name', 'last_name', 'age', 'city'])"
            ]
          },
          "metadata": {},
          "execution_count": 30
        }
      ]
    },
    {
      "cell_type": "markdown",
      "source": [
        "# **3. Set**"
      ],
      "metadata": {
        "id": "illcdq1MqkXo"
      }
    },
    {
      "cell_type": "code",
      "source": [
        "colors={\"red\",\"blue\",\"green\"}"
      ],
      "metadata": {
        "id": "-uM4lmSiqpWI"
      },
      "execution_count": 17,
      "outputs": []
    },
    {
      "cell_type": "code",
      "source": [
        "colors.add(\"yellow\")"
      ],
      "metadata": {
        "id": "laODp3XAqu3O"
      },
      "execution_count": 18,
      "outputs": []
    },
    {
      "cell_type": "code",
      "source": [
        "colors.remove(\"blue\")"
      ],
      "metadata": {
        "id": "p0dsuB4_q0_H"
      },
      "execution_count": 19,
      "outputs": []
    },
    {
      "cell_type": "code",
      "source": [
        "colors"
      ],
      "metadata": {
        "colab": {
          "base_uri": "https://localhost:8080/"
        },
        "id": "90YNkVP4rOi9",
        "outputId": "3f4819f8-bb7b-4515-bef2-228495b4e554"
      },
      "execution_count": 20,
      "outputs": [
        {
          "output_type": "execute_result",
          "data": {
            "text/plain": [
              "{'green', 'red', 'yellow'}"
            ]
          },
          "metadata": {},
          "execution_count": 20
        }
      ]
    },
    {
      "cell_type": "code",
      "source": [
        "\"pink\" in colors"
      ],
      "metadata": {
        "colab": {
          "base_uri": "https://localhost:8080/"
        },
        "id": "99HVEGqMrHfs",
        "outputId": "d5b5897b-9859-4314-cd8f-826c168b0c76"
      },
      "execution_count": 14,
      "outputs": [
        {
          "output_type": "execute_result",
          "data": {
            "text/plain": [
              "False"
            ]
          },
          "metadata": {},
          "execution_count": 14
        }
      ]
    },
    {
      "cell_type": "markdown",
      "source": [
        "# **4. Conditional Statements**"
      ],
      "metadata": {
        "id": "qT32JRqnrJh4"
      }
    },
    {
      "cell_type": "code",
      "source": [
        "num=int(input(\"Enter a number: \"))\n",
        "\n",
        "if num==0:\n",
        "  print(\"zero\")\n",
        "elif num>0:\n",
        "  print(\"positive\")\n",
        "else:\n",
        "  print(\"negative\")"
      ],
      "metadata": {
        "colab": {
          "base_uri": "https://localhost:8080/"
        },
        "id": "6GwvnTzSrZnk",
        "outputId": "3bf7e485-cc2d-424f-c989-460286e573bd"
      },
      "execution_count": 25,
      "outputs": [
        {
          "output_type": "stream",
          "name": "stdout",
          "text": [
            "Enter a number: -5\n",
            "negative\n"
          ]
        }
      ]
    },
    {
      "cell_type": "code",
      "source": [
        "ls=[23,45,8,12,78,56,89]\n",
        "\n",
        "for n in ls:\n",
        "  if n%2==0:\n",
        "    print(f\"{n}\")\n",
        "  else:\n",
        "    print()"
      ],
      "metadata": {
        "colab": {
          "base_uri": "https://localhost:8080/"
        },
        "id": "OzokVP07r5Jr",
        "outputId": "3266dcfc-c214-449e-a8bd-ce89c5c42467"
      },
      "execution_count": 31,
      "outputs": [
        {
          "output_type": "stream",
          "name": "stdout",
          "text": [
            "\n",
            "\n",
            "8\n",
            "12\n",
            "78\n",
            "56\n",
            "\n"
          ]
        }
      ]
    },
    {
      "cell_type": "code",
      "source": [
        "age=int(input(\"Enter your age:\"))\n",
        "\n",
        "if age>18:\n",
        "  print(\"Eligible to vote\")\n",
        "else:\n",
        "  print(\"Not eligible to vote\")"
      ],
      "metadata": {
        "colab": {
          "base_uri": "https://localhost:8080/"
        },
        "id": "y0q_7VYHswK1",
        "outputId": "4c16f987-8d50-4ab0-b553-b84d2ee2564a"
      },
      "execution_count": 33,
      "outputs": [
        {
          "output_type": "stream",
          "name": "stdout",
          "text": [
            "Enter your age:19\n",
            "Eligible to vote\n"
          ]
        }
      ]
    },
    {
      "cell_type": "markdown",
      "source": [
        "# **5. While Loop**"
      ],
      "metadata": {
        "id": "HFSquIKTz0B9"
      }
    },
    {
      "cell_type": "code",
      "source": [
        "sum=0\n",
        "\n",
        "while True:\n",
        "  numbers=input()\n",
        "  if numbers==\"q\":\n",
        "    break\n",
        "  else:\n",
        "    t=int(numbers)\n",
        "    sum=sum+t\n",
        "print(sum)\n",
        "\n",
        ""
      ],
      "metadata": {
        "colab": {
          "base_uri": "https://localhost:8080/"
        },
        "id": "QyKjW7tNvLQh",
        "outputId": "ec356f33-3f28-4fa3-c11e-4225bbb6e130"
      },
      "execution_count": 26,
      "outputs": [
        {
          "output_type": "stream",
          "name": "stdout",
          "text": [
            "1\n",
            "2\n",
            "3\n",
            "q\n",
            "6\n"
          ]
        }
      ]
    },
    {
      "cell_type": "code",
      "source": [
        "22number=10\n",
        "\n",
        "while number>0:\n",
        "  print(number)\n",
        "  number=number-1\n",
        "print(\"Liftoff!\")"
      ],
      "metadata": {
        "colab": {
          "base_uri": "https://localhost:8080/"
        },
        "id": "F_UN0wBFvup3",
        "outputId": "f48f2aeb-2e04-40ef-f561-86e60bce6778"
      },
      "execution_count": 4,
      "outputs": [
        {
          "output_type": "stream",
          "name": "stdout",
          "text": [
            "10\n",
            "9\n",
            "8\n",
            "7\n",
            "6\n",
            "5\n",
            "4\n",
            "3\n",
            "2\n",
            "1\n",
            "Liftoff!\n"
          ]
        }
      ]
    },
    {
      "cell_type": "code",
      "source": [
        "w=int(input(\"Enter a number: \"))\n",
        "x=0\n",
        "\n",
        "while x<=10:\n",
        "   print(w,\"*\",x,\"=\",w*x)\n",
        "   x+=1\n",
        "\n",
        "\n",
        "\n",
        "\n"
      ],
      "metadata": {
        "colab": {
          "base_uri": "https://localhost:8080/"
        },
        "id": "UusMxo6J1OnE",
        "outputId": "782d25f0-af39-437d-8fd0-dbbbd67523b4"
      },
      "execution_count": 162,
      "outputs": [
        {
          "output_type": "stream",
          "name": "stdout",
          "text": [
            "Enter a number: 2\n",
            "2 * 0 = 0\n",
            "2 * 1 = 2\n",
            "2 * 2 = 4\n",
            "2 * 3 = 6\n",
            "2 * 4 = 8\n",
            "2 * 5 = 10\n",
            "2 * 6 = 12\n",
            "2 * 7 = 14\n",
            "2 * 8 = 16\n",
            "2 * 9 = 18\n",
            "2 * 10 = 20\n"
          ]
        }
      ]
    },
    {
      "cell_type": "markdown",
      "source": [
        "# **6. For Loop**"
      ],
      "metadata": {
        "id": "NRyzzHyP2Xf8"
      }
    },
    {
      "cell_type": "code",
      "source": [
        "fruit=[\"apple\",\"banana\",\"cherry\",\"date\"]\n",
        "\n",
        "for l in fruit:\n",
        "  print(l)"
      ],
      "metadata": {
        "colab": {
          "base_uri": "https://localhost:8080/"
        },
        "id": "1aSZjzrT2ewx",
        "outputId": "9a89b11f-bbd6-4447-fe82-27c0d0b0bce6"
      },
      "execution_count": 46,
      "outputs": [
        {
          "output_type": "stream",
          "name": "stdout",
          "text": [
            "apple\n",
            "banana\n",
            "cherry\n",
            "date\n"
          ]
        }
      ]
    },
    {
      "cell_type": "code",
      "source": [
        "num=int(input(\"Enter a number: \"))\n",
        "\n",
        "factorial=1\n",
        "for k in range(1,num):\n",
        "  factorial=factorial*k\n",
        "print(\"Factorial of\", k, \"is\", factorial)"
      ],
      "metadata": {
        "colab": {
          "base_uri": "https://localhost:8080/"
        },
        "id": "rX5CTrPY269-",
        "outputId": "a7ebc500-d75c-491a-cf2b-80ac9aaece96"
      },
      "execution_count": 71,
      "outputs": [
        {
          "output_type": "stream",
          "name": "stdout",
          "text": [
            "Enter a number: 6\n",
            "Factorial of 5 is 120\n"
          ]
        }
      ]
    },
    {
      "cell_type": "code",
      "source": [
        "a=int(input(\"Enter 1st number:\"))\n",
        "b=int(input(\"Enter 2nd number:\"))\n",
        "c=int(input(\"Enter 3rd number:\"))\n",
        "d=int(input(\"Enter 4th number:\"))\n",
        "e=int(input(\"Enter 5th number:\"))\n",
        "\n",
        "sum=a+b+c+d+e\n",
        "lst=[a,b,c,d,e]\n",
        "count=len(lst)\n",
        "for p in range(a,e):\n",
        "  avg=(sum)/count\n",
        "print(avg)\n"
      ],
      "metadata": {
        "colab": {
          "base_uri": "https://localhost:8080/"
        },
        "id": "q6R-s4ZR3b6N",
        "outputId": "7007f643-3318-4143-cc0d-27e5738962c1"
      },
      "execution_count": 13,
      "outputs": [
        {
          "output_type": "stream",
          "name": "stdout",
          "text": [
            "Enter 1st number:1\n",
            "Enter 2nd number:2\n",
            "Enter 3rd number:3\n",
            "Enter 4th number:4\n",
            "Enter 5th number:5\n",
            "3.0\n"
          ]
        }
      ]
    }
  ]
}