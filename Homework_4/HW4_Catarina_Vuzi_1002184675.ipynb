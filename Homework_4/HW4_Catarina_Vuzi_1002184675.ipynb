{
  "nbformat": 4,
  "nbformat_minor": 0,
  "metadata": {
    "colab": {
      "provenance": []
    },
    "kernelspec": {
      "name": "python3",
      "display_name": "Python 3"
    },
    "language_info": {
      "name": "python"
    }
  },
  "cells": [
    {
      "cell_type": "markdown",
      "source": [
        "# **1. List and Tuple**"
      ],
      "metadata": {
        "id": "LyS3g6TIHsqb"
      }
    },
    {
      "cell_type": "code",
      "execution_count": 9,
      "metadata": {
        "colab": {
          "base_uri": "https://localhost:8080/"
        },
        "id": "hMI1NSu-Hq1n",
        "outputId": "9424829a-7253-44a9-d739-5ca456f1f4aa"
      },
      "outputs": [
        {
          "output_type": "execute_result",
          "data": {
            "text/plain": [
              "['Apple', 'Banana', 'Cherry', 'Orange']"
            ]
          },
          "metadata": {},
          "execution_count": 9
        }
      ],
      "source": [
        "##  Creating a fruit list\n",
        "\n",
        "fruits=[\"Apple\", \"Banana\",\"Cherry\"]\n",
        "\n",
        "##List into Tuple\n",
        "tupl_e=tuple(fruits)\n",
        "\n",
        "fruits.append(\"Orange\") # adding items\n",
        "\n",
        "fruits # display the output\n"
      ]
    },
    {
      "cell_type": "code",
      "source": [
        "tupl_e # display the output"
      ],
      "metadata": {
        "colab": {
          "base_uri": "https://localhost:8080/"
        },
        "id": "KuaPtp3dJ4se",
        "outputId": "ef9c22a2-a94f-411e-8b2b-e989c912a412"
      },
      "execution_count": 10,
      "outputs": [
        {
          "output_type": "execute_result",
          "data": {
            "text/plain": [
              "('Apple', 'Banana', 'Cherry')"
            ]
          },
          "metadata": {},
          "execution_count": 10
        }
      ]
    },
    {
      "cell_type": "markdown",
      "source": [
        "# **2.Dictonary**"
      ],
      "metadata": {
        "id": "22EFvlTaJ8xn"
      }
    },
    {
      "cell_type": "code",
      "source": [
        "person={\"First_name\":\"Alex\",\"Last_name\":\"Lopez\",\"Age\":27} # Creating a dictionary\n",
        "\n",
        "person[\"City\"]=\"Miami\" #addind a new key and a value to the list\n",
        "\n",
        "person.keys() #print keys"
      ],
      "metadata": {
        "colab": {
          "base_uri": "https://localhost:8080/"
        },
        "id": "pwOZAHHDKB3P",
        "outputId": "a661e241-866b-42d9-c560-b6d7940a5f44"
      },
      "execution_count": 12,
      "outputs": [
        {
          "output_type": "execute_result",
          "data": {
            "text/plain": [
              "dict_keys(['First_name', 'Last_name', 'Age', 'City'])"
            ]
          },
          "metadata": {},
          "execution_count": 12
        }
      ]
    },
    {
      "cell_type": "code",
      "source": [
        "colors={\"red\",\"blue\",\"green\"} # Creating a set\n",
        "\n",
        "colors.add(\"yellow\") # adding a color to the set\n",
        "colors.remove(\"blue\") # removing one color\n",
        "\n",
        "\"pink\" in colors #Verifying if pink is in the set\n",
        "\n"
      ],
      "metadata": {
        "colab": {
          "base_uri": "https://localhost:8080/"
        },
        "id": "D0fOAxXvK6Tx",
        "outputId": "e7570ad4-999b-48b6-da2c-086f2b07f6e3"
      },
      "execution_count": 18,
      "outputs": [
        {
          "output_type": "execute_result",
          "data": {
            "text/plain": [
              "False"
            ]
          },
          "metadata": {},
          "execution_count": 18
        }
      ]
    },
    {
      "cell_type": "markdown",
      "source": [
        "# **3.Conditional Statements**"
      ],
      "metadata": {
        "id": "TqgRsV39RgGh"
      }
    },
    {
      "cell_type": "code",
      "source": [
        "numb=int(input(\"Number: \")) # asking user to prompt a number\n",
        "if numb > 0:\n",
        "   print(\"Positive number\")    # using conditional statement\n",
        "elif numb == 0:\n",
        "   print(\"Zero\")\n",
        "else:\n",
        "   print(\"Negative number\")"
      ],
      "metadata": {
        "colab": {
          "base_uri": "https://localhost:8080/"
        },
        "id": "96C1UXVQK6fw",
        "outputId": "c7672ea2-0ec7-459a-e25d-b0908f4a486d"
      },
      "execution_count": 20,
      "outputs": [
        {
          "output_type": "stream",
          "name": "stdout",
          "text": [
            "Number: -5\n",
            "Negative number\n"
          ]
        }
      ]
    },
    {
      "cell_type": "code",
      "source": [
        "numbers=[23,45,8,12,78,56,89] # list of number\n",
        "\n",
        "for i in numbers: # using for loop to display number\n",
        "  if i%2==0:\n",
        "    print(i)"
      ],
      "metadata": {
        "colab": {
          "base_uri": "https://localhost:8080/"
        },
        "id": "yGNOFQPBK6it",
        "outputId": "fe27d908-4ba4-4fb1-a8e8-c16d017dfbb5"
      },
      "execution_count": 22,
      "outputs": [
        {
          "output_type": "stream",
          "name": "stdout",
          "text": [
            "8\n",
            "12\n",
            "78\n",
            "56\n"
          ]
        }
      ]
    },
    {
      "cell_type": "code",
      "source": [
        "age=int(input(\"How old are you? \")) #asking user to prompt the age\n",
        "\n",
        "if age>=18:                       # using conditional statement to verify eligibility to vote\n",
        "  print(\"You are eligible to vote\")\n",
        "else:\n",
        "  print(\"You are not eligible to vote\")"
      ],
      "metadata": {
        "colab": {
          "base_uri": "https://localhost:8080/"
        },
        "id": "YzqmzCZqK6lR",
        "outputId": "c19254c5-9e82-4d88-8cb7-8c69e5062690"
      },
      "execution_count": 23,
      "outputs": [
        {
          "output_type": "stream",
          "name": "stdout",
          "text": [
            "How old are you? 12\n",
            "You are not eligible to vote\n"
          ]
        }
      ]
    },
    {
      "cell_type": "markdown",
      "source": [
        "# **4.While loop**"
      ],
      "metadata": {
        "id": "5kIFGTUvRqgZ"
      }
    },
    {
      "cell_type": "code",
      "source": [
        "num=(input(\"Enter a number: \")) #asking user to prompt a number\n",
        "sum=0\n",
        "while num!=\"q\" :      # using whlie loop\n",
        "  num=int(num)\n",
        "  sum+=num\n",
        "  num=(input(\"Enter a number: \"))\n",
        "print(sum)            #Display the output\n",
        ""
      ],
      "metadata": {
        "colab": {
          "base_uri": "https://localhost:8080/"
        },
        "id": "8z-pScgePsqi",
        "outputId": "356d262c-73f7-4ae0-885e-615d066ee550"
      },
      "execution_count": 27,
      "outputs": [
        {
          "output_type": "stream",
          "name": "stdout",
          "text": [
            "Enter a number: 23\n",
            "Enter a number: 34\n",
            "Enter a number: 45\n",
            "Enter a number: q\n",
            "102\n"
          ]
        }
      ]
    },
    {
      "cell_type": "code",
      "source": [
        "number = 10    # creating a variable\n",
        "\n",
        "while number > 0:    #Using while loop\n",
        "  print(number)\n",
        "  number -= 1\n",
        "\n",
        "print(\"Liftoff!\")"
      ],
      "metadata": {
        "colab": {
          "base_uri": "https://localhost:8080/"
        },
        "id": "NQKnbs_UXZPQ",
        "outputId": "54b84da1-96fb-45dd-bce7-667fb7b8f2a3"
      },
      "execution_count": 50,
      "outputs": [
        {
          "output_type": "stream",
          "name": "stdout",
          "text": [
            "10\n",
            "9\n",
            "8\n",
            "7\n",
            "6\n",
            "5\n",
            "4\n",
            "3\n",
            "2\n",
            "1\n",
            "Liftoff!\n"
          ]
        }
      ]
    },
    {
      "cell_type": "code",
      "source": [],
      "metadata": {
        "id": "rMa5Z9RlTnNk"
      },
      "execution_count": null,
      "outputs": []
    },
    {
      "cell_type": "code",
      "source": [
        "num=int(input(\"give me a number: \")) # asking user to prompt a number\n",
        "multi=1\n",
        "while multi<=16:     #Using while loop\n",
        "  print(num,'times',multi,'=',multi*num) #Calculations\n",
        "  multi+=1\n"
      ],
      "metadata": {
        "colab": {
          "base_uri": "https://localhost:8080/"
        },
        "id": "BTZ-FStCTnZG",
        "outputId": "f71e26dc-1323-4545-8960-6acf52997add"
      },
      "execution_count": 38,
      "outputs": [
        {
          "output_type": "stream",
          "name": "stdout",
          "text": [
            "give me a number: 12\n",
            "12 times 1 = 12\n",
            "12 times 2 = 24\n",
            "12 times 3 = 36\n",
            "12 times 4 = 48\n",
            "12 times 5 = 60\n",
            "12 times 6 = 72\n",
            "12 times 7 = 84\n",
            "12 times 8 = 96\n",
            "12 times 9 = 108\n",
            "12 times 10 = 120\n",
            "12 times 11 = 132\n",
            "12 times 12 = 144\n",
            "12 times 13 = 156\n",
            "12 times 14 = 168\n",
            "12 times 15 = 180\n",
            "12 times 16 = 192\n"
          ]
        }
      ]
    },
    {
      "cell_type": "markdown",
      "source": [
        "# **5.For loop**"
      ],
      "metadata": {
        "id": "3AO3M_n6VzgO"
      }
    },
    {
      "cell_type": "code",
      "source": [
        "fruits1=[\"Apple\", \"Banana\",\"Cherry\",\"date\"] ## creatin list of fruits\n",
        "\n",
        "for i in fruits1: ##using for loop to display items in fruits\n",
        "  print(i) ## output"
      ],
      "metadata": {
        "colab": {
          "base_uri": "https://localhost:8080/"
        },
        "id": "WH6a0xUgTncQ",
        "outputId": "b3212a87-f6b2-4a04-8065-4645881d9a8a"
      },
      "execution_count": 40,
      "outputs": [
        {
          "output_type": "stream",
          "name": "stdout",
          "text": [
            "Apple\n",
            "Banana\n",
            "Cherry\n",
            "date\n"
          ]
        }
      ]
    },
    {
      "cell_type": "code",
      "source": [
        "p=5 # creating  variable\n",
        "result=p\n",
        "for h in range(1,p):  # using for loop\n",
        " result= result*p #calculations\n",
        "print(result) #display the output"
      ],
      "metadata": {
        "colab": {
          "base_uri": "https://localhost:8080/"
        },
        "id": "to9k4Q13VHjL",
        "outputId": "29bb3ecc-6b07-4c7e-f384-fc34ce6f0b9a"
      },
      "execution_count": 43,
      "outputs": [
        {
          "output_type": "stream",
          "name": "stdout",
          "text": [
            "3125\n"
          ]
        }
      ]
    },
    {
      "cell_type": "code",
      "source": [
        "sum=0\n",
        "for i in range(1,6): #Using for looop\n",
        "\n",
        " number=int(input(\"Number: \"))\n",
        "sum+=number\n",
        "average=sum/5  # calculating the average\n",
        "print(average) # display the output"
      ],
      "metadata": {
        "colab": {
          "base_uri": "https://localhost:8080/"
        },
        "id": "8pkjx4ccU7BS",
        "outputId": "27f97591-8c9c-4fa4-b453-e040e7dc957f"
      },
      "execution_count": 47,
      "outputs": [
        {
          "output_type": "stream",
          "name": "stdout",
          "text": [
            "Number: 2\n",
            "Number: 3\n",
            "Number: 4\n",
            "Number: 6\n",
            "Number: 5\n",
            "1.0\n"
          ]
        }
      ]
    }
  ]
}