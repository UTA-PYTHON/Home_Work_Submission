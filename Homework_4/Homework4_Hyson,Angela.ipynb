{
  "nbformat": 4,
  "nbformat_minor": 0,
  "metadata": {
    "colab": {
      "provenance": []
    },
    "kernelspec": {
      "name": "python3",
      "display_name": "Python 3"
    },
    "language_info": {
      "name": "python"
    }
  },
  "cells": [
    {
      "cell_type": "markdown",
      "source": [
        "# **Angela Hyson**\n",
        "\n",
        "## **Due September 29**\n",
        "\n",
        "## **Homework 4: Data Structure, Conditional Statement and Loop**"
      ],
      "metadata": {
        "id": "rgYN5WrV5-R_"
      }
    },
    {
      "cell_type": "markdown",
      "source": [
        "# **Data Structures:**"
      ],
      "metadata": {
        "id": "zD7rrsWt61OL"
      }
    },
    {
      "cell_type": "markdown",
      "source": [
        "## *1. List and Tuple:*"
      ],
      "metadata": {
        "id": "dJVMrv7Z67m_"
      }
    },
    {
      "cell_type": "code",
      "source": [
        "# Create a list name fruits containg the following: \"apple\", \"banana\", \"cherry\".\n",
        "fruits=['apple','banana','cherry']\n",
        "fruits"
      ],
      "metadata": {
        "id": "CUZ5DDPl59_G",
        "colab": {
          "base_uri": "https://localhost:8080/"
        },
        "outputId": "3104fe02-ce8f-45a1-def0-e8f2e757822a"
      },
      "execution_count": null,
      "outputs": [
        {
          "output_type": "execute_result",
          "data": {
            "text/plain": [
              "['apple', 'banana', 'cherry']"
            ]
          },
          "metadata": {},
          "execution_count": 2
        }
      ]
    },
    {
      "cell_type": "code",
      "source": [
        "# Convert this list into a tuple.\n",
        "tuple(fruits)"
      ],
      "metadata": {
        "id": "DitKOVOc7nHD",
        "colab": {
          "base_uri": "https://localhost:8080/"
        },
        "outputId": "4522bd52-4754-4683-b301-93af85bace80"
      },
      "execution_count": null,
      "outputs": [
        {
          "output_type": "execute_result",
          "data": {
            "text/plain": [
              "('apple', 'banana', 'cherry')"
            ]
          },
          "metadata": {},
          "execution_count": 3
        }
      ]
    },
    {
      "cell_type": "code",
      "source": [
        "# Add \"orange\" to the list of fruits.\n",
        "fruits.append('orange')\n",
        "fruits"
      ],
      "metadata": {
        "id": "RZoGpizx7oN_",
        "colab": {
          "base_uri": "https://localhost:8080/"
        },
        "outputId": "7cbd5478-bfc0-4c1c-c6da-217207176bb1"
      },
      "execution_count": null,
      "outputs": [
        {
          "output_type": "execute_result",
          "data": {
            "text/plain": [
              "['apple', 'banana', 'cherry', 'orange']"
            ]
          },
          "metadata": {},
          "execution_count": 4
        }
      ]
    },
    {
      "cell_type": "markdown",
      "source": [
        "## *2. Dictionary:*"
      ],
      "metadata": {
        "id": "Kenu6lfQ7ur4"
      }
    },
    {
      "cell_type": "code",
      "source": [
        "# Create a dictionary named person with keys \"first_name\", \"last_name\", and \"age\".\n",
        "# Populate it with values of your choice.\n",
        "person={'first_name':'Angela','last_name':'Hyson','age':20}\n",
        "person"
      ],
      "metadata": {
        "id": "_OOJ2vnd7xk3",
        "colab": {
          "base_uri": "https://localhost:8080/"
        },
        "outputId": "328670e5-c237-4644-8c17-85328e4b34ee"
      },
      "execution_count": null,
      "outputs": [
        {
          "output_type": "execute_result",
          "data": {
            "text/plain": [
              "{'first_name': 'Angela', 'last_name': 'Hyson', 'age': 20}"
            ]
          },
          "metadata": {},
          "execution_count": 15
        }
      ]
    },
    {
      "cell_type": "code",
      "source": [
        "# Add a new key-value pair, \"city\" with a value of your choice.\n",
        "person['city']='Cedar Hill'\n",
        "\n",
        "#Display the keys in the dictionary using a Python command.\n",
        "person.keys()"
      ],
      "metadata": {
        "id": "Fjqbuwgf8Cbk",
        "colab": {
          "base_uri": "https://localhost:8080/"
        },
        "outputId": "2ef5d292-035a-41c8-f985-aca2e1578c8f"
      },
      "execution_count": null,
      "outputs": [
        {
          "output_type": "execute_result",
          "data": {
            "text/plain": [
              "dict_keys(['first_name', 'last_name', 'age', 'city'])"
            ]
          },
          "metadata": {},
          "execution_count": 18
        }
      ]
    },
    {
      "cell_type": "markdown",
      "source": [
        "## *3. Set:*"
      ],
      "metadata": {
        "id": "t0DhmX5F8SpV"
      }
    },
    {
      "cell_type": "code",
      "source": [
        "# Create a set named colors with the values \"red\", \"blue\", \"green\".\n",
        "colors={'red','blue','green'}\n",
        "colors"
      ],
      "metadata": {
        "id": "1ear4YyI8Vh_",
        "colab": {
          "base_uri": "https://localhost:8080/"
        },
        "outputId": "13bcc907-1967-472e-ee02-9aeb290daa77"
      },
      "execution_count": null,
      "outputs": [
        {
          "output_type": "execute_result",
          "data": {
            "text/plain": [
              "{'blue', 'green', 'red'}"
            ]
          },
          "metadata": {},
          "execution_count": 19
        }
      ]
    },
    {
      "cell_type": "code",
      "source": [
        "# Add \"yellow\" to the set and remove \"blue\".\n",
        "colors.add('yellow')\n",
        "colors"
      ],
      "metadata": {
        "id": "JS-P5xYg8ei2",
        "colab": {
          "base_uri": "https://localhost:8080/"
        },
        "outputId": "b1685bf6-4b13-43e1-c528-eb835891bb9a"
      },
      "execution_count": null,
      "outputs": [
        {
          "output_type": "execute_result",
          "data": {
            "text/plain": [
              "{'blue', 'green', 'red', 'yellow'}"
            ]
          },
          "metadata": {},
          "execution_count": 20
        }
      ]
    },
    {
      "cell_type": "code",
      "source": [
        "# Check if \"pink\" is in the set and display the result.\n",
        "'pink' in colors"
      ],
      "metadata": {
        "id": "bFJ9BYig8kSI",
        "colab": {
          "base_uri": "https://localhost:8080/"
        },
        "outputId": "bc9d75f4-2a1d-418a-8148-d68216c6862e"
      },
      "execution_count": null,
      "outputs": [
        {
          "output_type": "execute_result",
          "data": {
            "text/plain": [
              "False"
            ]
          },
          "metadata": {},
          "execution_count": 21
        }
      ]
    },
    {
      "cell_type": "markdown",
      "source": [
        "# **Conditional Statements:**"
      ],
      "metadata": {
        "id": "xJdZt2XQ8qpY"
      }
    },
    {
      "cell_type": "code",
      "source": [
        "# Write a Python program that takes an input from the user and checks if the number is positive, negative, or zero.\n",
        "your_num=int(input('Enter a number:'))\n",
        "\n",
        "if your_num>0:\n",
        "  print('This number is positive')\n",
        "elif your_num<0:\n",
        "  print('This number is negative')\n",
        "else:\n",
        "  print('This number is zero')"
      ],
      "metadata": {
        "id": "2_YFoMiu8uod",
        "colab": {
          "base_uri": "https://localhost:8080/"
        },
        "outputId": "5ca29ad3-d380-466d-e557-42b6721acd14"
      },
      "execution_count": null,
      "outputs": [
        {
          "output_type": "stream",
          "name": "stdout",
          "text": [
            "Enter a number:-4\n",
            "This number is negative\n"
          ]
        }
      ]
    },
    {
      "cell_type": "code",
      "source": [
        "# Given a list of numbers: [23, 45, 8, 12, 78, 56, 89], write a Python program that prints out all even numbers from the list using a conditional statement.\n",
        "list_num=[23, 45, 8, 12, 78, 56, 89]\n",
        "\n",
        "for n in list_num:\n",
        "  if n % 2 == 0:\n",
        "    print(n)"
      ],
      "metadata": {
        "id": "PsOc621r850H",
        "colab": {
          "base_uri": "https://localhost:8080/"
        },
        "outputId": "261b260f-b5e3-4419-96f0-1a8ec404fce3"
      },
      "execution_count": null,
      "outputs": [
        {
          "output_type": "stream",
          "name": "stdout",
          "text": [
            "8\n",
            "12\n",
            "78\n",
            "56\n"
          ]
        }
      ]
    },
    {
      "cell_type": "code",
      "source": [
        "# Write a program that asks the user to enter their age. Based on the user's input, determine if they are eligible to vote (consider the voting age as 18).\n",
        "age=int(input('Enter your age: '))\n",
        "\n",
        "if age>=18:\n",
        "  print('You are eligible to vote')\n",
        "else:\n",
        "  print('You are not eligible to vote')"
      ],
      "metadata": {
        "id": "rNI6ntlj9G7p",
        "colab": {
          "base_uri": "https://localhost:8080/"
        },
        "outputId": "50593667-7bca-475e-f84f-415fd407cc98"
      },
      "execution_count": null,
      "outputs": [
        {
          "output_type": "stream",
          "name": "stdout",
          "text": [
            "Enter your age:12\n",
            "You are not eligible to vote\n"
          ]
        }
      ]
    },
    {
      "cell_type": "markdown",
      "source": [
        "# **While Loop:**"
      ],
      "metadata": {
        "id": "qI5PLLrn9fDL"
      }
    },
    {
      "cell_type": "code",
      "source": [
        "# Write a program that prompts the user to enter numbers continuously (using a while loop) and stops taking inputs when the user enters 'q'. After that, display the sum of all the numbers entered.\n",
        "numbers=''\n",
        "total=0\n",
        "\n",
        "while numbers != 'q':\n",
        "  numbers=input('')\n",
        "  if numbers == 'q':\n",
        "    inp=(int(numbers))\n",
        "    sum = total + inp\n",
        "    print(sum)\n",
        "\n",
        "# ???????????????????"
      ],
      "metadata": {
        "id": "ukdbezEa9isA",
        "colab": {
          "base_uri": "https://localhost:8080/",
          "height": 314
        },
        "outputId": "8d5102be-ac40-4ed4-d8a6-1439b24e01ef"
      },
      "execution_count": null,
      "outputs": [
        {
          "name": "stdout",
          "output_type": "stream",
          "text": [
            "3\n",
            "7\n",
            "12\n",
            "q\n"
          ]
        },
        {
          "output_type": "error",
          "ename": "ValueError",
          "evalue": "ignored",
          "traceback": [
            "\u001b[0;31m---------------------------------------------------------------------------\u001b[0m",
            "\u001b[0;31mValueError\u001b[0m                                Traceback (most recent call last)",
            "\u001b[0;32m<ipython-input-41-8e931de358b2>\u001b[0m in \u001b[0;36m<cell line: 5>\u001b[0;34m()\u001b[0m\n\u001b[1;32m      6\u001b[0m   \u001b[0mnumbers\u001b[0m\u001b[0;34m=\u001b[0m\u001b[0minput\u001b[0m\u001b[0;34m(\u001b[0m\u001b[0;34m''\u001b[0m\u001b[0;34m)\u001b[0m\u001b[0;34m\u001b[0m\u001b[0;34m\u001b[0m\u001b[0m\n\u001b[1;32m      7\u001b[0m   \u001b[0;32mif\u001b[0m \u001b[0mnumbers\u001b[0m \u001b[0;34m==\u001b[0m \u001b[0;34m'q'\u001b[0m\u001b[0;34m:\u001b[0m\u001b[0;34m\u001b[0m\u001b[0;34m\u001b[0m\u001b[0m\n\u001b[0;32m----> 8\u001b[0;31m     \u001b[0minp\u001b[0m\u001b[0;34m=\u001b[0m\u001b[0;34m(\u001b[0m\u001b[0mint\u001b[0m\u001b[0;34m(\u001b[0m\u001b[0mnumbers\u001b[0m\u001b[0;34m)\u001b[0m\u001b[0;34m)\u001b[0m\u001b[0;34m\u001b[0m\u001b[0;34m\u001b[0m\u001b[0m\n\u001b[0m\u001b[1;32m      9\u001b[0m     \u001b[0msum\u001b[0m \u001b[0;34m=\u001b[0m \u001b[0mtotal\u001b[0m \u001b[0;34m+\u001b[0m \u001b[0minp\u001b[0m\u001b[0;34m\u001b[0m\u001b[0;34m\u001b[0m\u001b[0m\n\u001b[1;32m     10\u001b[0m     \u001b[0mprint\u001b[0m\u001b[0;34m(\u001b[0m\u001b[0msum\u001b[0m\u001b[0;34m)\u001b[0m\u001b[0;34m\u001b[0m\u001b[0;34m\u001b[0m\u001b[0m\n",
            "\u001b[0;31mValueError\u001b[0m: invalid literal for int() with base 10: 'q'"
          ]
        }
      ]
    },
    {
      "cell_type": "code",
      "source": [
        "# Create a Python program using a while loop that prints numbers from 10 down to 1 and then prints \"Liftoff!\".\n",
        "num=10\n",
        "\n",
        "while num>0:\n",
        "  print(num)\n",
        "  num=num-1\n",
        "print('Liftoff!')"
      ],
      "metadata": {
        "id": "fw9T9uve9ynK",
        "colab": {
          "base_uri": "https://localhost:8080/"
        },
        "outputId": "02d53567-26de-4c7c-98c6-6d10fcec4ff9"
      },
      "execution_count": null,
      "outputs": [
        {
          "output_type": "stream",
          "name": "stdout",
          "text": [
            "10\n",
            "9\n",
            "8\n",
            "7\n",
            "6\n",
            "5\n",
            "4\n",
            "3\n",
            "2\n",
            "1\n",
            "Liftoff!\n"
          ]
        }
      ]
    },
    {
      "cell_type": "code",
      "source": [
        "# Create a program that asks the user for a number and then prints out the multiplication table for that number using a while loop.\n",
        "num=int(input('Enter a number: '))\n",
        "count = 1\n",
        "\n",
        "while count <=10:\n",
        "  product = num * count\n",
        "  print(f'{num} * {count} = {product}')\n",
        "  count += 1"
      ],
      "metadata": {
        "id": "YaAlsPJ896tB",
        "colab": {
          "base_uri": "https://localhost:8080/"
        },
        "outputId": "d6c1116a-a34c-49be-c92a-d0494e483bf0"
      },
      "execution_count": null,
      "outputs": [
        {
          "output_type": "stream",
          "name": "stdout",
          "text": [
            "Enter a number: 4\n",
            "4 * 1 = 4\n",
            "4 * 2 = 8\n",
            "4 * 3 = 12\n",
            "4 * 4 = 16\n",
            "4 * 5 = 20\n",
            "4 * 6 = 24\n",
            "4 * 7 = 28\n",
            "4 * 8 = 32\n",
            "4 * 9 = 36\n",
            "4 * 10 = 40\n"
          ]
        }
      ]
    },
    {
      "cell_type": "markdown",
      "source": [
        "# **For Loop:**"
      ],
      "metadata": {
        "id": "q3pvtfw_-Fcy"
      }
    },
    {
      "cell_type": "code",
      "source": [
        "# Given a list: [\"apple\", \"banana\", \"cherry\", \"date\"], use a for loop to print each fruit in the list.\n",
        "fruit=['apple','banana','cherry','date']\n",
        "\n",
        "for f in fruit:\n",
        "  print(f)"
      ],
      "metadata": {
        "id": "gSGG9cyn-INw",
        "colab": {
          "base_uri": "https://localhost:8080/"
        },
        "outputId": "e777f79a-a84e-4f4d-8308-65fabf7f7f7b"
      },
      "execution_count": null,
      "outputs": [
        {
          "output_type": "stream",
          "name": "stdout",
          "text": [
            "apple\n",
            "banana\n",
            "cherry\n",
            "date\n"
          ]
        }
      ]
    },
    {
      "cell_type": "code",
      "source": [
        "# Using a for loop, calculate the factorial of a given number (n!). For example, if the given number is 5, the output should be 5 x 4 x 3 x 2 x 1 = 120.\n",
        "n=int(input('Enter a number: '))\n",
        "count=n-1\n",
        "\n",
        "for i in range(1,n+1):\n",
        "  total *= i\n",
        "print(f'{n} * {count} = {total}')\n",
        "\n",
        "## ??????????????"
      ],
      "metadata": {
        "id": "S2oRYLnt-SI_",
        "colab": {
          "base_uri": "https://localhost:8080/"
        },
        "outputId": "fed0d92e-2753-42a2-83e0-2ca41ee75f38"
      },
      "execution_count": null,
      "outputs": [
        {
          "output_type": "stream",
          "name": "stdout",
          "text": [
            "Enter a number: 2\n",
            "2 * 1 = 40\n"
          ]
        }
      ]
    },
    {
      "cell_type": "code",
      "source": [
        "# Create a program, using a for loop that prompts the user to enter five numbers. After all numbers are entered, the program should display the average of the numbers.\n",
        "total=0\n",
        "\n",
        "for i in range(5):\n",
        "  num=int(input('Enter number: '))\n",
        "  total += num\n",
        "av=total / 5\n",
        "print(f'average: {av}')"
      ],
      "metadata": {
        "id": "_AEEaX_x-f7y",
        "colab": {
          "base_uri": "https://localhost:8080/"
        },
        "outputId": "03445b86-1486-42a0-b1a4-50a9df533301"
      },
      "execution_count": null,
      "outputs": [
        {
          "output_type": "stream",
          "name": "stdout",
          "text": [
            "Enter number: 2\n",
            "Enter number: 3\n",
            "Enter number: 4\n",
            "Enter number: 5\n",
            "Enter number: 6\n",
            "average: 4.0\n"
          ]
        }
      ]
    }
  ]
}