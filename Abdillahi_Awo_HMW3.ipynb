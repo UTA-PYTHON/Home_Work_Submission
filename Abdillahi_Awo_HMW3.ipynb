{
  "nbformat": 4,
  "nbformat_minor": 0,
  "metadata": {
    "colab": {
      "provenance": [],
      "authorship_tag": "ABX9TyMG/TZO2xX+Ou4NirCMfM9G",
      "include_colab_link": true
    },
    "kernelspec": {
      "name": "python3",
      "display_name": "Python 3"
    },
    "language_info": {
      "name": "python"
    }
  },
  "cells": [
    {
      "cell_type": "markdown",
      "metadata": {
        "id": "view-in-github",
        "colab_type": "text"
      },
      "source": [
        "<a href=\"https://colab.research.google.com/github/UTA-PYTHON/Home_Work_Submission/blob/main/Abdillahi_Awo_HMW3.ipynb\" target=\"_parent\"><img src=\"https://colab.research.google.com/assets/colab-badge.svg\" alt=\"Open In Colab\"/></a>"
      ]
    },
    {
      "cell_type": "markdown",
      "source": [
        "# **Homework-3**"
      ],
      "metadata": {
        "id": "liGNylZeBlB4"
      }
    },
    {
      "cell_type": "markdown",
      "source": [
        "### Question 1: Printing, Data Types, and Input\n",
        "\n",
        "\n",
        "\n",
        "*   Ask the user for their name and their age.\n",
        "\n",
        "*   Print a statement saying: \"Hello, [name]. You are [age] years old.\"\n",
        "\n",
        "*   Print the data type of each variable.\n",
        "\n",
        "\n"
      ],
      "metadata": {
        "id": "HNb2qQGuBz6O"
      }
    },
    {
      "cell_type": "code",
      "execution_count": 10,
      "metadata": {
        "id": "WP2_8AcMBhRs",
        "colab": {
          "base_uri": "https://localhost:8080/"
        },
        "outputId": "dd68375b-d8dc-477c-cc5d-35b64507d11d"
      },
      "outputs": [
        {
          "output_type": "stream",
          "name": "stdout",
          "text": [
            "What is your name Awo Abdillahi\n",
            "What is your age 18\n",
            "Hello Awo Abdillahi You are 18 years old \n"
          ]
        }
      ],
      "source": [
        "name= input(\"What is your name \")\n",
        "age= input(\"What is your age \")\n",
        "print(f'Hello {name} You are {age} years old ')"
      ]
    },
    {
      "cell_type": "markdown",
      "source": [
        "### Question 2: String Manipulations and Input\n",
        "*   Ask the user for the name of their hometown.\n",
        "*   Print the name of the hometown in uppercase.\n",
        "*   Print the first three characters of the hometown's name using slicing.\n",
        "*   Printing the name in reverse using slicing.\n",
        "\n",
        "\n",
        "\n"
      ],
      "metadata": {
        "id": "b8lSKqDeChQ3"
      }
    },
    {
      "cell_type": "code",
      "source": [
        "htown = input('What is the name of your hometown? ')\n",
        "print(htown.upper())\n",
        "print(htown[:3])\n",
        "print(htown[::-1])"
      ],
      "metadata": {
        "id": "9NkKPNkoDH4V",
        "colab": {
          "base_uri": "https://localhost:8080/"
        },
        "outputId": "9d6da94f-824f-4746-c19f-bcdd7dd99b4c"
      },
      "execution_count": 2,
      "outputs": [
        {
          "output_type": "stream",
          "name": "stdout",
          "text": [
            "What is the name of your hometown? Ottawa, ON Canada\n",
            "OTTAWA, ON CANADA\n",
            "Ott\n",
            "adanaC NO ,awattO\n"
          ]
        }
      ]
    },
    {
      "cell_type": "markdown",
      "source": [
        "### Question 3: Numeric Operations and Input\n",
        "\n",
        "*   Prompt the user to enter a number.\n",
        "*   Multiply the number by itself and print the result.\n",
        "*   Calculating the square root.\n",
        "\n"
      ],
      "metadata": {
        "id": "FQkXv4imDIjP"
      }
    },
    {
      "cell_type": "code",
      "source": [
        "num = float(input('Enter a number: '))\n",
        "square = num**2\n",
        "root = num**.5\n",
        "print(square)\n",
        "print(root)"
      ],
      "metadata": {
        "id": "phn0cH7dDj_s",
        "colab": {
          "base_uri": "https://localhost:8080/"
        },
        "outputId": "6335424e-f90e-4186-9323-b1fdd2868f75"
      },
      "execution_count": 4,
      "outputs": [
        {
          "output_type": "stream",
          "name": "stdout",
          "text": [
            "Enter a number: 25\n",
            "625.0\n",
            "5.0\n"
          ]
        }
      ]
    },
    {
      "cell_type": "markdown",
      "source": [
        "###Question 4: Boolean Evaluations\n",
        "\n",
        "\n",
        "\n",
        "*   Print the result of the following evaluations:\n",
        "    \n",
        "    10 > 5\n",
        "    \n",
        "    10 == 10\n",
        "    \n",
        "    8 != 9\n",
        "\n"
      ],
      "metadata": {
        "id": "TB0auApiDklL"
      }
    },
    {
      "cell_type": "code",
      "source": [
        "print(10 > 5)\n",
        "print(10 == 10)\n",
        "print(8 != 9)"
      ],
      "metadata": {
        "colab": {
          "base_uri": "https://localhost:8080/"
        },
        "id": "VQcttNgXG7Rz",
        "outputId": "c81b1171-32fa-441c-fc72-67b258d77797"
      },
      "execution_count": 5,
      "outputs": [
        {
          "output_type": "stream",
          "name": "stdout",
          "text": [
            "True\n",
            "True\n",
            "True\n"
          ]
        }
      ]
    },
    {
      "cell_type": "code",
      "source": [],
      "metadata": {
        "id": "tRpzNlq9G7cu"
      },
      "execution_count": null,
      "outputs": []
    },
    {
      "cell_type": "markdown",
      "source": [
        "###Question 5: List Creation and Operations\n",
        "\n",
        "*   Create a list named colors containing the following items: red, blue, green.\n",
        "*   Print the list.\n",
        "*   Print the first item in the list.\n",
        "*   Replace the second item in the list with yellow\n",
        "*   Print the list again.\n",
        "*   Changing the last item using negative indexing.\n",
        "\n",
        "\n",
        "\n",
        "\n",
        "\n"
      ],
      "metadata": {
        "id": "GswZzg1jG7yp"
      }
    },
    {
      "cell_type": "code",
      "source": [
        "colors = ['red', 'blue', 'green']\n",
        "print(colors)\n",
        "print(colors[0])\n",
        "colors[1] = 'yellow'\n",
        "print(colors)\n",
        "colors[-1] = 'orange'\n",
        "print(colors)"
      ],
      "metadata": {
        "colab": {
          "base_uri": "https://localhost:8080/"
        },
        "id": "BRrCm1FFHm48",
        "outputId": "396ffcf6-2c47-4dec-96f3-1bb88e06b35d"
      },
      "execution_count": 6,
      "outputs": [
        {
          "output_type": "stream",
          "name": "stdout",
          "text": [
            "['red', 'blue', 'green']\n",
            "red\n",
            "['red', 'yellow', 'green']\n",
            "['red', 'yellow', 'orange']\n"
          ]
        }
      ]
    },
    {
      "cell_type": "code",
      "source": [],
      "metadata": {
        "id": "QMT1l6auHnA6"
      },
      "execution_count": null,
      "outputs": []
    },
    {
      "cell_type": "markdown",
      "source": [
        "###Question 6: Indexing and Slicing\n",
        "\n",
        "*   Given the list numbers = [10, 20, 30, 40, 50]\n",
        "*   Print the third item from the list.\n",
        "*   Using slicing, print the first two numbers.\n",
        "*   Getting the last three numbers using negative indexing and slicing.\n",
        "\n",
        "\n",
        "\n"
      ],
      "metadata": {
        "id": "VI5FUrCWHnWP"
      }
    },
    {
      "cell_type": "code",
      "source": [
        "nums = [10, 20, 30, 40, 50]\n",
        "print(nums[2])\n",
        "print(nums[:2])\n",
        "print(nums[-3:])"
      ],
      "metadata": {
        "colab": {
          "base_uri": "https://localhost:8080/"
        },
        "id": "2Uz5jBsQIGJC",
        "outputId": "ab5d261e-a292-44ac-9ebf-b7572e0b705c"
      },
      "execution_count": 7,
      "outputs": [
        {
          "output_type": "stream",
          "name": "stdout",
          "text": [
            "30\n",
            "[10, 20]\n",
            "[30, 40, 50]\n"
          ]
        }
      ]
    },
    {
      "cell_type": "code",
      "source": [],
      "metadata": {
        "id": "gWF7IuzJIGMt"
      },
      "execution_count": null,
      "outputs": []
    },
    {
      "cell_type": "markdown",
      "source": [
        "###Question 7: Manipulating Elements\n",
        "\n",
        "*   Given the list animals = ['cat', 'dog', 'bird']\n",
        "*   Print the list.\n",
        "*   Add fish to the end of the list.\n",
        "*   Print the updated list.\n",
        "\n"
      ],
      "metadata": {
        "id": "Pg67Rt2TIGc-"
      }
    },
    {
      "cell_type": "code",
      "source": [
        "animals =  ['cat', 'dog', 'bird']\n",
        "print(animals)\n",
        "animals.append('fish')\n",
        "print(animals)"
      ],
      "metadata": {
        "colab": {
          "base_uri": "https://localhost:8080/"
        },
        "id": "r2aO9dawIdGr",
        "outputId": "b9ef24bc-063e-4d43-a087-553fbb6a75b3"
      },
      "execution_count": 8,
      "outputs": [
        {
          "output_type": "stream",
          "name": "stdout",
          "text": [
            "['cat', 'dog', 'bird']\n",
            "['cat', 'dog', 'bird', 'fish']\n"
          ]
        }
      ]
    },
    {
      "cell_type": "code",
      "source": [],
      "metadata": {
        "id": "nT3npuSlIdaj"
      },
      "execution_count": null,
      "outputs": []
    },
    {
      "cell_type": "markdown",
      "source": [
        "###Question 8: Sorting\n",
        "\n",
        "*   Given the list random_numbers = [42, 8, 15, 23, 16]\n",
        "*   Print the list.\n",
        "*   Use the sort() method to sort the list.\n",
        "*   Print the sorted list.\n",
        "*   Print every second item from the sorted list.\n",
        "\n",
        "\n",
        "\n",
        "\n"
      ],
      "metadata": {
        "id": "rbva0FMfIdk1"
      }
    },
    {
      "cell_type": "code",
      "source": [
        "rnum = [42, 8, 15, 23, 16]\n",
        "print(rnum)\n",
        "rnum.sort()\n",
        "print(rnum)\n",
        "evother = rnum[::2]\n",
        "print(evother)"
      ],
      "metadata": {
        "colab": {
          "base_uri": "https://localhost:8080/"
        },
        "id": "htO2SH7PJEoM",
        "outputId": "cddb15b6-a379-4eb2-ea59-4dead6ef808c"
      },
      "execution_count": 9,
      "outputs": [
        {
          "output_type": "stream",
          "name": "stdout",
          "text": [
            "[42, 8, 15, 23, 16]\n",
            "[8, 15, 16, 23, 42]\n",
            "[8, 16, 42]\n"
          ]
        }
      ]
    },
    {
      "cell_type": "code",
      "source": [],
      "metadata": {
        "id": "ish7wuf7JErO"
      },
      "execution_count": null,
      "outputs": []
    }
  ]
}