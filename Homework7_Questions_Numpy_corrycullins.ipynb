{
  "nbformat": 4,
  "nbformat_minor": 0,
  "metadata": {
    "colab": {
      "provenance": [],
      "include_colab_link": true
    },
    "kernelspec": {
      "name": "python3",
      "display_name": "Python 3"
    },
    "language_info": {
      "name": "python"
    }
  },
  "cells": [
    {
      "cell_type": "markdown",
      "metadata": {
        "id": "view-in-github",
        "colab_type": "text"
      },
      "source": [
        "<a href=\"https://colab.research.google.com/github/UTA-PYTHON/Home_Work_Submission/blob/main/Homework7_Questions_Numpy_corrycullins.ipynb\" target=\"_parent\"><img src=\"https://colab.research.google.com/assets/colab-badge.svg\" alt=\"Open In Colab\"/></a>"
      ]
    },
    {
      "cell_type": "markdown",
      "source": [
        "# **Homework 7: Numpy**"
      ],
      "metadata": {
        "id": "0zZlEeZdSGBW"
      }
    },
    {
      "cell_type": "markdown",
      "source": [
        "## **Due date:** November 3rd, at 2:30 PM.\n",
        "\n",
        "## **Submission:** Please push your homework to the our GitHub repository, and place it in the 'Homework 7' folder."
      ],
      "metadata": {
        "id": "MJ7o5DfIZxUH"
      }
    },
    {
      "cell_type": "markdown",
      "source": [
        "\n",
        "\n",
        "---\n",
        "\n",
        "\n",
        "\n",
        "---\n",
        "\n",
        "\n",
        "\n",
        "---\n",
        "\n",
        "\n",
        "\n",
        "---\n",
        "\n"
      ],
      "metadata": {
        "id": "0xb-Hc9SZ3nf"
      }
    },
    {
      "cell_type": "markdown",
      "source": [
        "### **Question 1:**"
      ],
      "metadata": {
        "id": "LAp5txV5SQ7x"
      }
    },
    {
      "cell_type": "markdown",
      "source": [
        "Use NumPy to solve the following system of linear equations:"
      ],
      "metadata": {
        "id": "MzNamLiQSO21"
      }
    },
    {
      "cell_type": "code",
      "execution_count": 1,
      "metadata": {
        "id": "Tx8KbjfvRs9k",
        "colab": {
          "base_uri": "https://localhost:8080/",
          "height": 141
        },
        "outputId": "a025761c-00aa-4ec8-8b80-ee04be657907"
      },
      "outputs": [
        {
          "output_type": "error",
          "ename": "SyntaxError",
          "evalue": "ignored",
          "traceback": [
            "\u001b[0;36m  File \u001b[0;32m\"<ipython-input-1-93530f9f6d4e>\"\u001b[0;36m, line \u001b[0;32m1\u001b[0m\n\u001b[0;31m    3x+ 2y- z= 1\u001b[0m\n\u001b[0m    ^\u001b[0m\n\u001b[0;31mSyntaxError\u001b[0m\u001b[0;31m:\u001b[0m invalid decimal literal\n"
          ]
        }
      ],
      "source": [
        "3x+ 2y- z= 1\n",
        "\n",
        "2x+ 2y+ 4z= -2\n",
        "\n",
        "-x+ 1/2y- z= 0\n"
      ]
    },
    {
      "cell_type": "code",
      "source": [
        "### Answer\n",
        "import numpy as np\n",
        "\n",
        "A = np.array([[3, 2, -1],\n",
        "              [2, 2, 4],\n",
        "              [-1, 0.5, -1]])\n",
        "\n",
        "B = np.array([1, -2, 0])\n",
        "\n",
        "X = np.linalg.solve(A, B)\n",
        "\n",
        "import numpy as np\n",
        "\n",
        "# Coefficient matrix\n",
        "A = np.array([[3, 2, -1],\n",
        "              [2, 2, 4],\n",
        "              [-1, 0.5, -1]])\n",
        "\n",
        "# Constants matrix\n",
        "B = np.array([1, -2, 0])\n",
        "\n",
        "# Solving for X\n",
        "X = np.linalg.solve(A, B)\n",
        "\n",
        "print(\"Solution:\")\n",
        "print(f\"x = {X[0]}\")\n",
        "print(f\"y = {X[1]}\")\n",
        "print(f\"z = {X[2]}\")\n",
        "\n",
        "\n"
      ],
      "metadata": {
        "id": "wSITtqqeSX0K",
        "colab": {
          "base_uri": "https://localhost:8080/"
        },
        "outputId": "0af0ba17-6658-42d9-9e08-0bae522dbf68"
      },
      "execution_count": 2,
      "outputs": [
        {
          "output_type": "stream",
          "name": "stdout",
          "text": [
            "Solution:\n",
            "x = 0.368421052631579\n",
            "y = -0.31578947368421056\n",
            "z = -0.5263157894736842\n"
          ]
        }
      ]
    },
    {
      "cell_type": "markdown",
      "source": [
        "\n",
        "\n",
        "---\n",
        "\n",
        "\n",
        "\n",
        "---\n",
        "\n"
      ],
      "metadata": {
        "id": "XYAG29lDSeTD"
      }
    },
    {
      "cell_type": "markdown",
      "source": [
        "### **Question 2:**"
      ],
      "metadata": {
        "id": "TaqiI1-eSeVq"
      }
    },
    {
      "cell_type": "markdown",
      "source": [
        "Generate an array of 1000 random numbers sampled from a standard normal distribution, then visualize it."
      ],
      "metadata": {
        "id": "Aldzq_A1Se6Z"
      }
    },
    {
      "cell_type": "code",
      "source": [
        "### Answer\n",
        "import numpy as np\n",
        "import matplotlib.pyplot as plt\n",
        "\n",
        "# Generate 1000 random numbers from a standard normal distribution\n",
        "data = np.random.randn(1000)\n",
        "\n",
        "# Visualize the data with a histogram\n",
        "plt.hist(data, bins=30, alpha=0.7, color='blue', edgecolor='black')\n",
        "plt.title(\"Histogram of 1000 Random Samples from a Standard Normal Distribution\")\n",
        "plt.xlabel(\"Value\")\n",
        "plt.ylabel(\"Frequency\")\n",
        "plt.show()\n",
        "\n"
      ],
      "metadata": {
        "id": "wyEId-OXSaxz",
        "colab": {
          "base_uri": "https://localhost:8080/",
          "height": 472
        },
        "outputId": "9ae7a6e2-acb2-4cfb-8207-105cfe058c79"
      },
      "execution_count": 3,
      "outputs": [
        {
          "output_type": "display_data",
          "data": {
            "text/plain": [
              "<Figure size 640x480 with 1 Axes>"
            ],
            "image/png": "[encoded data removed]"
          },
          "metadata": {}
        }
      ]
    },
    {
      "cell_type": "markdown",
      "source": [
        "\n",
        "\n",
        "---\n",
        "\n",
        "\n",
        "\n",
        "---\n",
        "\n"
      ],
      "metadata": {
        "id": "5gNSvLW7S41q"
      }
    },
    {
      "cell_type": "markdown",
      "source": [
        "### **Question 3:**"
      ],
      "metadata": {
        "id": "ZH3t6bWSS44Q"
      }
    },
    {
      "cell_type": "markdown",
      "source": [
        "Calculate the dot product of the following two vectors using NumPy:"
      ],
      "metadata": {
        "id": "0kqKrtKDS-Vw"
      }
    },
    {
      "cell_type": "code",
      "source": [
        "A = [2, 3, 4]\n",
        "B = [5, 6, 7]"
      ],
      "metadata": {
        "id": "1bpcoSo7S7F_"
      },
      "execution_count": null,
      "outputs": []
    },
    {
      "cell_type": "code",
      "source": [
        "### Answer\n",
        "A = np.array([2, 3, 4])\n",
        "B = np.array([5, 6, 7])\n",
        "\n",
        "dot_product = np.dot(A, B)\n",
        "\n",
        "print(\"Dot Product:\", dot_product)\n"
      ],
      "metadata": {
        "id": "ufkWofy2TCAT",
        "colab": {
          "base_uri": "https://localhost:8080/"
        },
        "outputId": "69a0b997-6558-464e-de81-a0b44b3bc008"
      },
      "execution_count": 4,
      "outputs": [
        {
          "output_type": "stream",
          "name": "stdout",
          "text": [
            "Dot Product: 56\n"
          ]
        }
      ]
    },
    {
      "cell_type": "markdown",
      "source": [
        "\n",
        "\n",
        "---\n",
        "\n",
        "\n",
        "\n",
        "---\n",
        "\n"
      ],
      "metadata": {
        "id": "RmGc6wRuTKn2"
      }
    },
    {
      "cell_type": "markdown",
      "source": [
        "### **Question 4:**"
      ],
      "metadata": {
        "id": "KxNuMC2CTKsA"
      }
    },
    {
      "cell_type": "markdown",
      "source": [
        "**Random Numbers:**: Generate a 1D array of 20 random integers between 10 and 50. Find out how many of them are even."
      ],
      "metadata": {
        "id": "MWbDMbrOTKvJ"
      }
    },
    {
      "cell_type": "code",
      "source": [
        "### Answer\n",
        "\n",
        "\n",
        "\n",
        "# Generate 20 random integers between 10 and 50\n",
        "random_integers = np.random.randint(10, 51, size=20)\n",
        "\n",
        "# Count the even numbers\n",
        "even_count = np.sum(random_integers % 2 == 0)\n",
        "\n",
        "print(\"Random Integers:\", random_integers)\n",
        "print(\"Number of Even Integers:\", even_count)\n"
      ],
      "metadata": {
        "id": "GYB7vYXpTUaV",
        "colab": {
          "base_uri": "https://localhost:8080/"
        },
        "outputId": "6fc3eba1-c25c-43bb-85ef-fe92c126e2d4"
      },
      "execution_count": 5,
      "outputs": [
        {
          "output_type": "stream",
          "name": "stdout",
          "text": [
            "Random Integers: [13 48 39 26 27 17 29 36 16 50 49 20 32 31 45 35 14 10 30 11]\n",
            "Number of Even Integers: 10\n"
          ]
        }
      ]
    },
    {
      "cell_type": "markdown",
      "source": [
        "\n",
        "\n",
        "---\n",
        "\n",
        "\n",
        "\n",
        "---\n",
        "\n"
      ],
      "metadata": {
        "id": "5S5fZCFhTZQt"
      }
    },
    {
      "cell_type": "markdown",
      "source": [
        "### **Question 5:**"
      ],
      "metadata": {
        "id": "dV5FRmKETZU7"
      }
    },
    {
      "cell_type": "markdown",
      "source": [
        "**Data Manipulation:** Consider an array of dimension (8,8). Swap the first and last columns."
      ],
      "metadata": {
        "id": "L2nisglFTZZT"
      }
    },
    {
      "cell_type": "code",
      "source": [
        "### Answer\n",
        "\n",
        "# Create an 8x8 array\n",
        "array = np.arange(64).reshape(8, 8)\n",
        "print(\"Original Array:\\n\", array)\n",
        "\n",
        "# Swap the first and last columns\n",
        "array[:, [0, -1]] = array[:, [-1, 0]]\n",
        "\n",
        "print(\"Array after Swapping First and Last Columns:\\n\", array)\n"
      ],
      "metadata": {
        "id": "S9rg9roST0Fj",
        "colab": {
          "base_uri": "https://localhost:8080/"
        },
        "outputId": "2076153d-3513-459e-8952-f4f673aa55cb"
      },
      "execution_count": 6,
      "outputs": [
        {
          "output_type": "stream",
          "name": "stdout",
          "text": [
            "Original Array:\n",
            " [[ 0  1  2  3  4  5  6  7]\n",
            " [ 8  9 10 11 12 13 14 15]\n",
            " [16 17 18 19 20 21 22 23]\n",
            " [24 25 26 27 28 29 30 31]\n",
            " [32 33 34 35 36 37 38 39]\n",
            " [40 41 42 43 44 45 46 47]\n",
            " [48 49 50 51 52 53 54 55]\n",
            " [56 57 58 59 60 61 62 63]]\n",
            "Array after Swapping First and Last Columns:\n",
            " [[ 7  1  2  3  4  5  6  0]\n",
            " [15  9 10 11 12 13 14  8]\n",
            " [23 17 18 19 20 21 22 16]\n",
            " [31 25 26 27 28 29 30 24]\n",
            " [39 33 34 35 36 37 38 32]\n",
            " [47 41 42 43 44 45 46 40]\n",
            " [55 49 50 51 52 53 54 48]\n",
            " [63 57 58 59 60 61 62 56]]\n"
          ]
        }
      ]
    },
    {
      "cell_type": "markdown",
      "source": [
        "\n",
        "\n",
        "---\n",
        "\n",
        "\n",
        "\n",
        "---\n",
        "\n"
      ],
      "metadata": {
        "id": "AOa_G4ztT7nb"
      }
    },
    {
      "cell_type": "markdown",
      "source": [
        "### **Question 6:**"
      ],
      "metadata": {
        "id": "FRAUkFD9T7qA"
      }
    },
    {
      "cell_type": "markdown",
      "source": [
        "**Given a 2D NumPy array data, extract the following subsets:**\n",
        "\n",
        "- The first row.\n",
        "- The last column.\n",
        "- The subarray consisting of the first two rows and the last two columns."
      ],
      "metadata": {
        "id": "52SeOsbTT7sZ"
      }
    },
    {
      "cell_type": "code",
      "source": [
        "## Answer\n",
        "\n",
        "# Sample 2D array\n",
        "data = np.array([[1, 2, 3, 4],\n",
        "                 [5, 6, 7, 8],\n",
        "                 [9, 10, 11, 12],\n",
        "                 [13, 14, 15, 16]])\n",
        "\n",
        "# Extracting subsets\n",
        "first_row = data[0, :]\n",
        "last_column = data[:, -1]\n",
        "subarray = data[0:2, -2:]\n",
        "\n",
        "print(\"First Row:\", first_row)\n",
        "print(\"Last Column:\", last_column)\n",
        "print(\"Subarray:\", subarray)\n",
        "\n"
      ],
      "metadata": {
        "id": "JQb-XngHXuK3",
        "colab": {
          "base_uri": "https://localhost:8080/"
        },
        "outputId": "fe1f89c5-dd60-47e3-8c68-e80db90f2ba6"
      },
      "execution_count": 7,
      "outputs": [
        {
          "output_type": "stream",
          "name": "stdout",
          "text": [
            "First Row: [1 2 3 4]\n",
            "Last Column: [ 4  8 12 16]\n",
            "Subarray: [[3 4]\n",
            " [7 8]]\n"
          ]
        }
      ]
    },
    {
      "cell_type": "markdown",
      "source": [
        "\n",
        "\n",
        "---\n",
        "\n",
        "\n",
        "\n",
        "---\n",
        "\n"
      ],
      "metadata": {
        "id": "A-MUs7t7X9M6"
      }
    },
    {
      "cell_type": "markdown",
      "source": [
        "### **Question 7:**"
      ],
      "metadata": {
        "id": "MZlbvvgsX9PP"
      }
    },
    {
      "cell_type": "markdown",
      "source": [
        "**Statistics:** Create a matrix of shape (5,5), find the mean and variance of the values in its 3rd column."
      ],
      "metadata": {
        "id": "rqWn93qTX9RV"
      }
    },
    {
      "cell_type": "code",
      "source": [
        "### Answer\n",
        "# Create a 5x5 matrix\n",
        "matrix = np.random.rand(5, 5)\n",
        "\n",
        "# Calculate mean and variance of the 3rd column\n",
        "mean = np.mean(matrix[:, 2])\n",
        "variance = np.var(matrix[:, 2])\n",
        "\n",
        "print(\"Matrix:\\n\", matrix)\n",
        "print(\"Mean of 3rd column:\", mean)\n",
        "print(\"Variance of 3rd column:\", variance)\n",
        "\n"
      ],
      "metadata": {
        "id": "-So6J1QdXyoQ",
        "colab": {
          "base_uri": "https://localhost:8080/"
        },
        "outputId": "0b855c29-d77f-4d78-b5c4-7ce257d9cc5d"
      },
      "execution_count": 8,
      "outputs": [
        {
          "output_type": "stream",
          "name": "stdout",
          "text": [
            "Matrix:\n",
            " [[0.63085996 0.64009434 0.43629821 0.51730249 0.9854283 ]\n",
            " [0.80663542 0.98106807 0.28146852 0.26797055 0.09813616]\n",
            " [0.58429877 0.34605063 0.79221917 0.15831448 0.45753142]\n",
            " [0.86768689 0.81467918 0.33672311 0.01345592 0.61874918]\n",
            " [0.04810007 0.09468064 0.05946443 0.04181497 0.79243143]]\n",
            "Mean of 3rd column: 0.38123468659539655\n",
            "Variance of 3rd column: 0.057482180765256165\n"
          ]
        }
      ]
    },
    {
      "cell_type": "markdown",
      "source": [
        "\n",
        "\n",
        "---\n",
        "\n",
        "\n",
        "\n",
        "---\n",
        "\n",
        "\n",
        "\n",
        "---\n",
        "\n"
      ],
      "metadata": {
        "id": "Nlzix9NCVSVc"
      }
    },
    {
      "cell_type": "markdown",
      "source": [
        "### **Question 8:**"
      ],
      "metadata": {
        "id": "CiK_vk4tVUXL"
      }
    },
    {
      "cell_type": "markdown",
      "source": [
        "**Linear Algebra:** Given a 4x4 matrix, compute its transpose and then find the dot product of the matrix with its transpose."
      ],
      "metadata": {
        "id": "L23uRV1dVehN"
      }
    },
    {
      "cell_type": "code",
      "source": [
        "\n",
        "matrix = np.array([[1, 2, 3, 4],\n",
        "                   [5, 6, 7, 8],\n",
        "                   [9, 10, 11, 12],\n",
        "                   [13, 14, 15, 16]])"
      ],
      "metadata": {
        "id": "DsBPYJT4Xsqx"
      },
      "execution_count": null,
      "outputs": []
    },
    {
      "cell_type": "code",
      "source": [
        "### Answer\n",
        "# Given 4x4 matrix\n",
        "matrix = np.array([[1, 2, 3, 4],\n",
        "                   [5, 6, 7, 8],\n",
        "                   [9, 10, 11, 12],\n",
        "                   [13, 14, 15, 16]])\n",
        "\n",
        "# Compute the transpose\n",
        "transpose = matrix.T\n",
        "\n",
        "# Compute the dot product\n",
        "dot_product = np.dot(matrix, transpose)\n",
        "\n",
        "print(\"Matrix:\\n\", matrix)\n",
        "print(\"Transpose:\\n\", transpose)\n",
        "print(\"Dot Product:\\n\", dot_product)\n",
        "\n",
        "\n"
      ],
      "metadata": {
        "id": "eJU7h0AQYYx2",
        "colab": {
          "base_uri": "https://localhost:8080/"
        },
        "outputId": "275bc35e-aa7b-44ad-8d63-6ec8817d1068"
      },
      "execution_count": 9,
      "outputs": [
        {
          "output_type": "stream",
          "name": "stdout",
          "text": [
            "Matrix:\n",
            " [[ 1  2  3  4]\n",
            " [ 5  6  7  8]\n",
            " [ 9 10 11 12]\n",
            " [13 14 15 16]]\n",
            "Transpose:\n",
            " [[ 1  5  9 13]\n",
            " [ 2  6 10 14]\n",
            " [ 3  7 11 15]\n",
            " [ 4  8 12 16]]\n",
            "Dot Product:\n",
            " [[ 30  70 110 150]\n",
            " [ 70 174 278 382]\n",
            " [110 278 446 614]\n",
            " [150 382 614 846]]\n"
          ]
        }
      ]
    },
    {
      "cell_type": "markdown",
      "source": [
        "\n",
        "\n",
        "---\n",
        "\n",
        "\n",
        "\n",
        "---\n",
        "\n"
      ],
      "metadata": {
        "id": "dL0-iqHkVv3f"
      }
    },
    {
      "cell_type": "markdown",
      "source": [
        "### **Question 9:**"
      ],
      "metadata": {
        "id": "ygs9UMtZVx8E"
      }
    },
    {
      "cell_type": "markdown",
      "source": [
        "**Array Operations:** Create two matrices, then Compute the element-wise multiplication of two matrices, then sum the values in each row of the resulting matrix."
      ],
      "metadata": {
        "id": "LnzUKFw4Vx-7"
      }
    },
    {
      "cell_type": "code",
      "source": [
        "### Answer\n",
        "\n",
        "# Create two matrices\n",
        "matrix1 = np.array([[1, 2, 3], [4, 5, 6], [7, 8, 9]])\n",
        "matrix2 = np.array([[9, 8, 7], [6, 5, 4], [3, 2, 1]])\n",
        "\n",
        "# Element-wise multiplication\n",
        "element_wise_product = np.multiply(matrix1, matrix2)\n",
        "\n",
        "# Sum the values in each row\n",
        "row_sums = np.sum(element_wise_product, axis=1)\n",
        "\n",
        "print(\"Matrix 1:\\n\", matrix1)\n",
        "print(\"Matrix 2:\\n\", matrix2)\n",
        "print(\"Element-wise Product:\\n\", element_wise_product)\n",
        "print(\"Sum of each row in the resulting matrix:\", row_sums)\n",
        "\n"
      ],
      "metadata": {
        "id": "9IyD0U-3VmJ3",
        "colab": {
          "base_uri": "https://localhost:8080/"
        },
        "outputId": "aec6bca5-2cb8-4a1b-ab38-d5f41ef4273a"
      },
      "execution_count": 10,
      "outputs": [
        {
          "output_type": "stream",
          "name": "stdout",
          "text": [
            "Matrix 1:\n",
            " [[1 2 3]\n",
            " [4 5 6]\n",
            " [7 8 9]]\n",
            "Matrix 2:\n",
            " [[9 8 7]\n",
            " [6 5 4]\n",
            " [3 2 1]]\n",
            "Element-wise Product:\n",
            " [[ 9 16 21]\n",
            " [24 25 24]\n",
            " [21 16  9]]\n",
            "Sum of each row in the resulting matrix: [46 73 46]\n"
          ]
        }
      ]
    },
    {
      "cell_type": "markdown",
      "source": [
        "\n",
        "\n",
        "---\n",
        "\n",
        "\n",
        "\n",
        "---\n",
        "\n",
        "\n",
        "\n",
        "---\n",
        "\n"
      ],
      "metadata": {
        "id": "kqxzW_3ZW8b5"
      }
    },
    {
      "cell_type": "markdown",
      "source": [
        "### **Question 10:**"
      ],
      "metadata": {
        "id": "jEg_QL7CW8rw"
      }
    },
    {
      "cell_type": "markdown",
      "source": [
        "**Advanced Array Creation:** Create a 2D array of shape (7,7) where the border consists of ones and the inner part consists of zeros."
      ],
      "metadata": {
        "id": "_s9937cCW9Qv"
      }
    },
    {
      "cell_type": "code",
      "source": [
        "### Answer\n",
        "\n",
        "# Create a 7x7 array of ones\n",
        "border_array = np.ones((7, 7))\n",
        "\n",
        "# Set the inner part to zeros\n",
        "border_array[1:-1, 1:-1] = 0\n",
        "\n",
        "print(\"Array with Border of Ones and Inner Zeros:\\n\", border_array)\n",
        "\n",
        "\n"
      ],
      "metadata": {
        "id": "ZEuY35gZXN9d"
      },
      "execution_count": null,
      "outputs": []
    }
  ]
}