{
  "nbformat": 4,
  "nbformat_minor": 0,
  "metadata": {
    "colab": {
      "provenance": [],
      "authorship_tag": "ABX9TyPN9TIQizvg5LBixbPXjduI",
      "include_colab_link": true
    },
    "kernelspec": {
      "name": "python3",
      "display_name": "Python 3"
    },
    "language_info": {
      "name": "python"
    }
  },
  "cells": [
    {
      "cell_type": "markdown",
      "metadata": {
        "id": "view-in-github",
        "colab_type": "text"
      },
      "source": [
        "<a href=\"https://colab.research.google.com/github/shelbiburgett/Data-3401/blob/main/Homework3_BURGETT_SHELBI.ipynb\" target=\"_parent\"><img src=\"https://colab.research.google.com/assets/colab-badge.svg\" alt=\"Open In Colab\"/></a>"
      ]
    },
    {
      "cell_type": "markdown",
      "source": [
        "1. Printing, Data Types, and Input\n",
        "\n",
        "        Ask the user for their name and their age.\n",
        "        Print a statement saying: \"Hello, [name]. You are [age] years old.\"\n",
        "        Print the data type of each variable."
      ],
      "metadata": {
        "id": "tSYHkDV-i43N"
      }
    },
    {
      "cell_type": "code",
      "execution_count": null,
      "metadata": {
        "colab": {
          "base_uri": "https://localhost:8080/"
        },
        "id": "82pqUfJUi4M5",
        "outputId": "b3aadaeb-1aa0-4bbd-d6d7-fbf404b7585b"
      },
      "outputs": [
        {
          "output_type": "stream",
          "name": "stdout",
          "text": [
            "What is your name?Shelbi\n",
            "What is your age?25\n",
            "Hello Shelbi . You are 25 years old.\n"
          ]
        }
      ],
      "source": [
        "name=input('What is your name?')\n",
        "age=input('What is your age?')\n",
        "print(\"Hello\", (name),\". You are\", (age), \"years old.\" )"
      ]
    },
    {
      "cell_type": "markdown",
      "source": [
        "2. String Manipulations and Input\n",
        "\n",
        "        Ask the user for the name of their hometown.\n",
        "        Print the name of the hometown in uppercase.\n",
        "        Print the first three characters of the hometown's name using slicing.\n",
        "        Printing the name in reverse using slicing."
      ],
      "metadata": {
        "id": "sI8-xVyejIdN"
      }
    },
    {
      "cell_type": "code",
      "source": [
        "hometown=input('What is the name of your hometown?')\n",
        "print(hometown.upper())\n",
        "print(hometown[:3])"
      ],
      "metadata": {
        "colab": {
          "base_uri": "https://localhost:8080/"
        },
        "id": "Lz0HtYkTjNGc",
        "outputId": "bc1436d4-66d8-48a4-897f-93e38e69c238"
      },
      "execution_count": null,
      "outputs": [
        {
          "output_type": "stream",
          "name": "stdout",
          "text": [
            "What is the name of your hometown?Fort Worth\n",
            "FORT WORTH\n",
            "For\n"
          ]
        }
      ]
    },
    {
      "cell_type": "code",
      "source": [
        "hometown=hometown[::-1]\n",
        "print(hometown)"
      ],
      "metadata": {
        "colab": {
          "base_uri": "https://localhost:8080/"
        },
        "id": "o05nSR5MRp-H",
        "outputId": "6aca1c3b-10f7-45df-cf0c-d53fe65777bc"
      },
      "execution_count": null,
      "outputs": [
        {
          "output_type": "stream",
          "name": "stdout",
          "text": [
            "htroW troF\n"
          ]
        }
      ]
    },
    {
      "cell_type": "markdown",
      "source": [
        "3. Numeric Operations and Input\n",
        "\n",
        "        Prompt the user to enter a number.\n",
        "        Multiply the number by itself and print the result.\n",
        "        Calculating the square root."
      ],
      "metadata": {
        "id": "7EaJpFnCjNhV"
      }
    },
    {
      "cell_type": "code",
      "source": [
        "n = int(input(\"Enter the integer to square: \"))\n",
        "\n",
        "output =n*n\n",
        "\n",
        "print(output)"
      ],
      "metadata": {
        "colab": {
          "base_uri": "https://localhost:8080/"
        },
        "id": "vJKG_xGdjQye",
        "outputId": "739d0135-d793-466f-8a04-321835135930"
      },
      "execution_count": 5,
      "outputs": [
        {
          "output_type": "stream",
          "name": "stdout",
          "text": [
            "Enter the integer to square: 25\n",
            "625\n"
          ]
        }
      ]
    },
    {
      "cell_type": "code",
      "source": [
        ">>> import math\n",
        "math.sqrt(625)"
      ],
      "metadata": {
        "colab": {
          "base_uri": "https://localhost:8080/"
        },
        "id": "MR62UTJRtXf-",
        "outputId": "ff57c69d-08ab-47d1-9099-72973be20e55"
      },
      "execution_count": 8,
      "outputs": [
        {
          "output_type": "execute_result",
          "data": {
            "text/plain": [
              "25.0"
            ]
          },
          "metadata": {},
          "execution_count": 8
        }
      ]
    },
    {
      "cell_type": "markdown",
      "source": [
        "4. Boolean Evaluations\n",
        "\n",
        "        Print the result of the following evaluations:\n",
        "            10 > 5\n",
        "            10 == 10\n",
        "            8 != 9"
      ],
      "metadata": {
        "id": "n56tF5lvjRu2"
      }
    },
    {
      "cell_type": "code",
      "source": [
        "10 > 5\n",
        "10 == 10\n",
        "8 != 9"
      ],
      "metadata": {
        "id": "6Bqj9GXCjVU9",
        "colab": {
          "base_uri": "https://localhost:8080/"
        },
        "outputId": "bef29de8-8b70-412b-bbe3-c31bfa7bf59c"
      },
      "execution_count": 9,
      "outputs": [
        {
          "output_type": "execute_result",
          "data": {
            "text/plain": [
              "True"
            ]
          },
          "metadata": {},
          "execution_count": 9
        }
      ]
    },
    {
      "cell_type": "markdown",
      "source": [
        "5. List Creation and Operations\n",
        "\n",
        "        Create a list named colors containing the following items: red, blue, green.\n",
        "        Print the list.\n",
        "        Print the first item in the list.\n",
        "        Replace the second item in the list with yellow.\n",
        "        Print the list again.\n",
        "        Changing the last item using negative indexing."
      ],
      "metadata": {
        "id": "xHENESDqjV3r"
      }
    },
    {
      "cell_type": "code",
      "source": [
        "colors=['red','blue','green']\n",
        "colors"
      ],
      "metadata": {
        "colab": {
          "base_uri": "https://localhost:8080/"
        },
        "id": "YUCbNn3VjZC_",
        "outputId": "8db647e7-9c4a-4fe0-db12-15e7511865a3"
      },
      "execution_count": null,
      "outputs": [
        {
          "output_type": "execute_result",
          "data": {
            "text/plain": [
              "['red', 'blue', 'green']"
            ]
          },
          "metadata": {},
          "execution_count": 22
        }
      ]
    },
    {
      "cell_type": "code",
      "source": [
        "colors [0]"
      ],
      "metadata": {
        "colab": {
          "base_uri": "https://localhost:8080/",
          "height": 35
        },
        "id": "c4pTM2NvvQnG",
        "outputId": "d3a2bdc1-f681-47b8-d1f9-1b474135d0d9"
      },
      "execution_count": null,
      "outputs": [
        {
          "output_type": "execute_result",
          "data": {
            "text/plain": [
              "'red'"
            ],
            "application/vnd.google.colaboratory.intrinsic+json": {
              "type": "string"
            }
          },
          "metadata": {},
          "execution_count": 23
        }
      ]
    },
    {
      "cell_type": "code",
      "source": [
        "colors[1]='yellow'\n",
        "colors"
      ],
      "metadata": {
        "colab": {
          "base_uri": "https://localhost:8080/"
        },
        "id": "vkYeK_Z5vXtM",
        "outputId": "f501245f-5d87-43fa-d637-5fb4756867d1"
      },
      "execution_count": null,
      "outputs": [
        {
          "output_type": "execute_result",
          "data": {
            "text/plain": [
              "['red', 'yellow', 'green']"
            ]
          },
          "metadata": {},
          "execution_count": 25
        }
      ]
    },
    {
      "cell_type": "code",
      "source": [
        "colors[-1]='purple'\n",
        "colors"
      ],
      "metadata": {
        "colab": {
          "base_uri": "https://localhost:8080/"
        },
        "id": "IE8t4uP5wCNe",
        "outputId": "7cc36f68-0251-411b-aeac-cf515c9955d8"
      },
      "execution_count": null,
      "outputs": [
        {
          "output_type": "execute_result",
          "data": {
            "text/plain": [
              "['red', 'yellow', 'purple']"
            ]
          },
          "metadata": {},
          "execution_count": 27
        }
      ]
    },
    {
      "cell_type": "markdown",
      "source": [
        "6. Indexing and Slicing\n",
        "\n",
        "        Given the list numbers = [10, 20, 30, 40, 50]\n",
        "        Print the third item from the list.\n",
        "        Using slicing, print the first two numbers.\n",
        "        Getting the last three numbers using negative indexing and slicing."
      ],
      "metadata": {
        "id": "i2claUAZjZkC"
      }
    },
    {
      "cell_type": "code",
      "source": [
        "list=[10,20,30,40,50]\n",
        "list[2]"
      ],
      "metadata": {
        "colab": {
          "base_uri": "https://localhost:8080/"
        },
        "id": "1s2jEODmjfGN",
        "outputId": "678c647b-9f1d-40d6-923b-e49453a7dfaf"
      },
      "execution_count": null,
      "outputs": [
        {
          "output_type": "execute_result",
          "data": {
            "text/plain": [
              "30"
            ]
          },
          "metadata": {},
          "execution_count": 28
        }
      ]
    },
    {
      "cell_type": "code",
      "source": [
        "list[:2]"
      ],
      "metadata": {
        "colab": {
          "base_uri": "https://localhost:8080/"
        },
        "id": "5BaQfOw_we3o",
        "outputId": "c9badbf6-7574-4eaa-f6d7-43a4bdf3e728"
      },
      "execution_count": null,
      "outputs": [
        {
          "output_type": "execute_result",
          "data": {
            "text/plain": [
              "[10, 20]"
            ]
          },
          "metadata": {},
          "execution_count": 32
        }
      ]
    },
    {
      "cell_type": "code",
      "source": [
        "list[-3:]"
      ],
      "metadata": {
        "colab": {
          "base_uri": "https://localhost:8080/"
        },
        "id": "FLId2TD_w6IL",
        "outputId": "30a17af2-2ad7-406e-8b18-23a96ab45362"
      },
      "execution_count": null,
      "outputs": [
        {
          "output_type": "execute_result",
          "data": {
            "text/plain": [
              "[30, 40, 50]"
            ]
          },
          "metadata": {},
          "execution_count": 48
        }
      ]
    },
    {
      "cell_type": "markdown",
      "source": [
        "7. Manipulating Elements\n",
        "\n",
        "        Given the list animals = ['cat', 'dog', 'bird']\n",
        "        Print the list.\n",
        "        Add fish to the end of the list.\n",
        "        Print the updated list."
      ],
      "metadata": {
        "id": "8KPn1Djyjfgd"
      }
    },
    {
      "cell_type": "code",
      "source": [
        "animals=['cat','dog','bird']\n",
        "animals"
      ],
      "metadata": {
        "colab": {
          "base_uri": "https://localhost:8080/"
        },
        "id": "0a9ZEm1ajiAP",
        "outputId": "b851470f-2933-4bbd-d54b-5f6522bc87b1"
      },
      "execution_count": null,
      "outputs": [
        {
          "output_type": "execute_result",
          "data": {
            "text/plain": [
              "['cat', 'dog', 'bird']"
            ]
          },
          "metadata": {},
          "execution_count": 49
        }
      ]
    },
    {
      "cell_type": "code",
      "source": [
        "animals.append('fish')\n",
        "animals"
      ],
      "metadata": {
        "colab": {
          "base_uri": "https://localhost:8080/"
        },
        "id": "twYuL4R80Fqr",
        "outputId": "32ddba86-2263-4d81-a28a-b5e5b89e48b4"
      },
      "execution_count": null,
      "outputs": [
        {
          "output_type": "execute_result",
          "data": {
            "text/plain": [
              "['cat', 'dog', 'bird', 'fish']"
            ]
          },
          "metadata": {},
          "execution_count": 50
        }
      ]
    },
    {
      "cell_type": "markdown",
      "source": [
        "8. Sorting\n",
        "\n",
        "        Given the list random_numbers = [42, 8, 15, 23, 16]\n",
        "        Print the list.\n",
        "        Use the sort() method to sort the list.\n",
        "        Print the sorted list.\n",
        "        Print every second item from the sorted list."
      ],
      "metadata": {
        "id": "mPVF6vmWjiUq"
      }
    },
    {
      "cell_type": "code",
      "source": [
        "random_numbers=[42,8,15,23,16]\n",
        "random_numbers"
      ],
      "metadata": {
        "colab": {
          "base_uri": "https://localhost:8080/"
        },
        "id": "OgUVEAx4jklU",
        "outputId": "4bcfead3-8d3d-4858-f65f-4a6190909dda"
      },
      "execution_count": null,
      "outputs": [
        {
          "output_type": "execute_result",
          "data": {
            "text/plain": [
              "[42, 8, 15, 23, 16]"
            ]
          },
          "metadata": {},
          "execution_count": 51
        }
      ]
    },
    {
      "cell_type": "code",
      "source": [
        "random_numbers.sort()\n",
        "random_numbers"
      ],
      "metadata": {
        "colab": {
          "base_uri": "https://localhost:8080/"
        },
        "id": "N2vgtsCO0gSC",
        "outputId": "c6130e09-1530-46eb-e5ba-e6783f510f2e"
      },
      "execution_count": null,
      "outputs": [
        {
          "output_type": "execute_result",
          "data": {
            "text/plain": [
              "[8, 15, 16, 23, 42]"
            ]
          },
          "metadata": {},
          "execution_count": 54
        }
      ]
    },
    {
      "cell_type": "code",
      "source": [
        "subList=random_numbers[1::2]\n",
        "subList"
      ],
      "metadata": {
        "colab": {
          "base_uri": "https://localhost:8080/"
        },
        "id": "f6qAa6k60sqG",
        "outputId": "372fcd10-7701-4016-c977-b5cc0831a3e3"
      },
      "execution_count": null,
      "outputs": [
        {
          "output_type": "execute_result",
          "data": {
            "text/plain": [
              "[15, 23]"
            ]
          },
          "metadata": {},
          "execution_count": 57
        }
      ]
    }
  ]
}