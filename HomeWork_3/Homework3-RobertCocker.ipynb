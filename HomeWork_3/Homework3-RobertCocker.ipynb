{
 "cells": [
  {
   "cell_type": "markdown",
   "id": "e35bef7a",
   "metadata": {},
   "source": [
    "# Robert Cocker 1001511441\n",
    "\n",
    "## Homework 3: Data Types, User Inputs, Data Structures\n",
    "## Dr. Rostami \n",
    "## GTA: Leelamadhav Somu\n",
    "## 09/16/23"
   ]
  },
  {
   "cell_type": "markdown",
   "id": "36bcbcbc",
   "metadata": {},
   "source": [
    "### 1. Printing, Data Types, and Input"
   ]
  },
  {
   "cell_type": "code",
   "execution_count": 1,
   "id": "b3ed97ac",
   "metadata": {},
   "outputs": [
    {
     "name": "stdout",
     "output_type": "stream",
     "text": [
      "Please state your name: Robert\n"
     ]
    }
   ],
   "source": [
    "name = input(\"Please state your name: \")"
   ]
  },
  {
   "cell_type": "code",
   "execution_count": 2,
   "id": "a147209b",
   "metadata": {},
   "outputs": [
    {
     "name": "stdout",
     "output_type": "stream",
     "text": [
      "Pleast state your age: 35\n"
     ]
    }
   ],
   "source": [
    "age = input(\"Pleast state your age: \")"
   ]
  },
  {
   "cell_type": "code",
   "execution_count": 3,
   "id": "f8165002",
   "metadata": {},
   "outputs": [
    {
     "name": "stdout",
     "output_type": "stream",
     "text": [
      "\n",
      "Hello Robert. You are 35 years old.\n"
     ]
    }
   ],
   "source": [
    "print (f\"\\nHello {name}. You are {age} years old.\")"
   ]
  },
  {
   "cell_type": "code",
   "execution_count": 4,
   "id": "ee3af902",
   "metadata": {},
   "outputs": [
    {
     "name": "stdout",
     "output_type": "stream",
     "text": [
      "<class 'str'>\n"
     ]
    }
   ],
   "source": [
    "print(type(name))"
   ]
  },
  {
   "cell_type": "code",
   "execution_count": 5,
   "id": "fbb613a2",
   "metadata": {},
   "outputs": [
    {
     "name": "stdout",
     "output_type": "stream",
     "text": [
      "<class 'str'>\n"
     ]
    }
   ],
   "source": [
    "print(type(age))"
   ]
  },
  {
   "cell_type": "markdown",
   "id": "69c7c256",
   "metadata": {},
   "source": [
    "### 2. String Manipulations and Input"
   ]
  },
  {
   "cell_type": "code",
   "execution_count": 6,
   "id": "df85e370",
   "metadata": {},
   "outputs": [
    {
     "name": "stdout",
     "output_type": "stream",
     "text": [
      "What is your hometown? Menlo Park\n"
     ]
    }
   ],
   "source": [
    "hometown = input(\"What is your hometown? \")"
   ]
  },
  {
   "cell_type": "code",
   "execution_count": 7,
   "id": "ec9fe10e",
   "metadata": {},
   "outputs": [
    {
     "name": "stdout",
     "output_type": "stream",
     "text": [
      "MENLO PARK\n"
     ]
    }
   ],
   "source": [
    "print(hometown.upper())"
   ]
  },
  {
   "cell_type": "code",
   "execution_count": 8,
   "id": "40d78535",
   "metadata": {},
   "outputs": [],
   "source": [
    "hometown3 = hometown[:3]"
   ]
  },
  {
   "cell_type": "code",
   "execution_count": 9,
   "id": "182a1416",
   "metadata": {},
   "outputs": [
    {
     "name": "stdout",
     "output_type": "stream",
     "text": [
      "Men\n"
     ]
    }
   ],
   "source": [
    "print(hometown3)"
   ]
  },
  {
   "cell_type": "code",
   "execution_count": 10,
   "id": "7374901e",
   "metadata": {},
   "outputs": [],
   "source": [
    "reversed_hometown = hometown[::-1]"
   ]
  },
  {
   "cell_type": "code",
   "execution_count": 11,
   "id": "65516eee",
   "metadata": {},
   "outputs": [
    {
     "name": "stdout",
     "output_type": "stream",
     "text": [
      "kraP olneM\n"
     ]
    }
   ],
   "source": [
    "print(reversed_hometown)"
   ]
  },
  {
   "cell_type": "markdown",
   "id": "47dfea17",
   "metadata": {},
   "source": [
    "### 3. Numeric Operations and Input"
   ]
  },
  {
   "cell_type": "code",
   "execution_count": 12,
   "id": "d64ad42d",
   "metadata": {},
   "outputs": [
    {
     "name": "stdout",
     "output_type": "stream",
     "text": [
      "Enter a number: 64\n"
     ]
    }
   ],
   "source": [
    "number = input(\"Enter a number: \")"
   ]
  },
  {
   "cell_type": "code",
   "execution_count": 13,
   "id": "e687958a",
   "metadata": {},
   "outputs": [],
   "source": [
    "number = int(number)"
   ]
  },
  {
   "cell_type": "code",
   "execution_count": 14,
   "id": "e613fced",
   "metadata": {},
   "outputs": [],
   "source": [
    "number_squared = number * number"
   ]
  },
  {
   "cell_type": "code",
   "execution_count": 15,
   "id": "ea41f84d",
   "metadata": {},
   "outputs": [
    {
     "name": "stdout",
     "output_type": "stream",
     "text": [
      "4096\n"
     ]
    }
   ],
   "source": [
    "print(number_squared)"
   ]
  },
  {
   "cell_type": "code",
   "execution_count": 16,
   "id": "7b3ee725",
   "metadata": {},
   "outputs": [],
   "source": [
    "square_root = number ** 0.5"
   ]
  },
  {
   "cell_type": "code",
   "execution_count": 17,
   "id": "e12a846a",
   "metadata": {},
   "outputs": [
    {
     "name": "stdout",
     "output_type": "stream",
     "text": [
      "8.0\n"
     ]
    }
   ],
   "source": [
    "print(square_root)"
   ]
  },
  {
   "cell_type": "markdown",
   "id": "cf3cb37d",
   "metadata": {},
   "source": [
    "### 4. Boolean Evaluations"
   ]
  },
  {
   "cell_type": "code",
   "execution_count": 8,
   "id": "10a98553",
   "metadata": {},
   "outputs": [
    {
     "data": {
      "text/plain": [
       "True"
      ]
     },
     "execution_count": 8,
     "metadata": {},
     "output_type": "execute_result"
    }
   ],
   "source": [
    "10 > 5"
   ]
  },
  {
   "cell_type": "code",
   "execution_count": 9,
   "id": "1f9f6293",
   "metadata": {},
   "outputs": [
    {
     "data": {
      "text/plain": [
       "True"
      ]
     },
     "execution_count": 9,
     "metadata": {},
     "output_type": "execute_result"
    }
   ],
   "source": [
    "10 == 10"
   ]
  },
  {
   "cell_type": "code",
   "execution_count": 10,
   "id": "400cfd9c",
   "metadata": {},
   "outputs": [
    {
     "data": {
      "text/plain": [
       "True"
      ]
     },
     "execution_count": 10,
     "metadata": {},
     "output_type": "execute_result"
    }
   ],
   "source": [
    "8 != 9"
   ]
  },
  {
   "cell_type": "markdown",
   "id": "a729ca36",
   "metadata": {},
   "source": [
    "### 5. List Creation and Operations"
   ]
  },
  {
   "cell_type": "code",
   "execution_count": 1,
   "id": "6ff05e0f",
   "metadata": {},
   "outputs": [],
   "source": [
    "colors = ['red', 'blue', 'green']"
   ]
  },
  {
   "cell_type": "code",
   "execution_count": 2,
   "id": "b5f9e2c4",
   "metadata": {},
   "outputs": [
    {
     "name": "stdout",
     "output_type": "stream",
     "text": [
      "['red', 'blue', 'green']\n"
     ]
    }
   ],
   "source": [
    "print(colors)"
   ]
  },
  {
   "cell_type": "code",
   "execution_count": 3,
   "id": "5ee68d43",
   "metadata": {},
   "outputs": [
    {
     "name": "stdout",
     "output_type": "stream",
     "text": [
      "red\n"
     ]
    }
   ],
   "source": [
    "print(colors[0])"
   ]
  },
  {
   "cell_type": "code",
   "execution_count": 4,
   "id": "d1a318a0",
   "metadata": {},
   "outputs": [],
   "source": [
    "del colors[1]"
   ]
  },
  {
   "cell_type": "code",
   "execution_count": 5,
   "id": "972279fd",
   "metadata": {},
   "outputs": [],
   "source": [
    "colors.insert(1, 'yellow')"
   ]
  },
  {
   "cell_type": "code",
   "execution_count": 6,
   "id": "d6ec34d2",
   "metadata": {},
   "outputs": [
    {
     "name": "stdout",
     "output_type": "stream",
     "text": [
      "['red', 'yellow', 'green']\n"
     ]
    }
   ],
   "source": [
    "print(colors)"
   ]
  },
  {
   "cell_type": "code",
   "execution_count": 8,
   "id": "51b6d1ce",
   "metadata": {},
   "outputs": [],
   "source": [
    "colors[-1] = 'midnight blue'"
   ]
  },
  {
   "cell_type": "code",
   "execution_count": 9,
   "id": "34db4656",
   "metadata": {},
   "outputs": [
    {
     "name": "stdout",
     "output_type": "stream",
     "text": [
      "['red', 'yellow', 'midnight blue']\n"
     ]
    }
   ],
   "source": [
    "print(colors)"
   ]
  },
  {
   "cell_type": "markdown",
   "id": "eb9b7d1d",
   "metadata": {},
   "source": [
    "### 6. Indexing and Slicing"
   ]
  },
  {
   "cell_type": "code",
   "execution_count": 10,
   "id": "c92895b7",
   "metadata": {},
   "outputs": [],
   "source": [
    "numbers = [10, 20, 30, 40, 50]"
   ]
  },
  {
   "cell_type": "code",
   "execution_count": 11,
   "id": "f2b80b48",
   "metadata": {},
   "outputs": [
    {
     "name": "stdout",
     "output_type": "stream",
     "text": [
      "30\n"
     ]
    }
   ],
   "source": [
    "print(numbers[2])"
   ]
  },
  {
   "cell_type": "code",
   "execution_count": 13,
   "id": "e293ef43",
   "metadata": {},
   "outputs": [
    {
     "name": "stdout",
     "output_type": "stream",
     "text": [
      "[10, 20]\n"
     ]
    }
   ],
   "source": [
    "print(numbers[:2])"
   ]
  },
  {
   "cell_type": "code",
   "execution_count": 15,
   "id": "6ee4433a",
   "metadata": {},
   "outputs": [
    {
     "name": "stdout",
     "output_type": "stream",
     "text": [
      "[30, 40, 50]\n"
     ]
    }
   ],
   "source": [
    "print(numbers[-3:])"
   ]
  },
  {
   "cell_type": "markdown",
   "id": "c779b3a1",
   "metadata": {},
   "source": [
    "### 7. Manipulating Elements"
   ]
  },
  {
   "cell_type": "code",
   "execution_count": 16,
   "id": "f3bb9da5",
   "metadata": {},
   "outputs": [],
   "source": [
    "animals = ['cat', 'dog', 'bird']"
   ]
  },
  {
   "cell_type": "code",
   "execution_count": 17,
   "id": "84d6b384",
   "metadata": {},
   "outputs": [
    {
     "name": "stdout",
     "output_type": "stream",
     "text": [
      "['cat', 'dog', 'bird']\n"
     ]
    }
   ],
   "source": [
    "print(animals)"
   ]
  },
  {
   "cell_type": "code",
   "execution_count": 19,
   "id": "a407d59f",
   "metadata": {},
   "outputs": [],
   "source": [
    "animals.append('fish')"
   ]
  },
  {
   "cell_type": "code",
   "execution_count": 20,
   "id": "b3c16216",
   "metadata": {},
   "outputs": [
    {
     "name": "stdout",
     "output_type": "stream",
     "text": [
      "['cat', 'dog', 'bird', 'fish']\n"
     ]
    }
   ],
   "source": [
    "print(animals)"
   ]
  },
  {
   "cell_type": "markdown",
   "id": "9d4a970a",
   "metadata": {},
   "source": [
    "### 8. Sorting"
   ]
  },
  {
   "cell_type": "code",
   "execution_count": 21,
   "id": "a4e5e011",
   "metadata": {},
   "outputs": [],
   "source": [
    "random_numbers = [42, 8, 15, 23, 16]"
   ]
  },
  {
   "cell_type": "code",
   "execution_count": 22,
   "id": "00ac7d27",
   "metadata": {},
   "outputs": [
    {
     "name": "stdout",
     "output_type": "stream",
     "text": [
      "[42, 8, 15, 23, 16]\n"
     ]
    }
   ],
   "source": [
    "print(random_numbers)"
   ]
  },
  {
   "cell_type": "code",
   "execution_count": 24,
   "id": "5de362c0",
   "metadata": {},
   "outputs": [],
   "source": [
    "random_numbers.sort()"
   ]
  },
  {
   "cell_type": "code",
   "execution_count": 30,
   "id": "dfb90c29",
   "metadata": {},
   "outputs": [
    {
     "name": "stdout",
     "output_type": "stream",
     "text": [
      "[15, 23]\n"
     ]
    }
   ],
   "source": [
    "print(random_numbers[1::2])"
   ]
  },
  {
   "cell_type": "code",
   "execution_count": null,
   "id": "6c695096",
   "metadata": {},
   "outputs": [],
   "source": []
  }
 ],
 "metadata": {
  "kernelspec": {
   "display_name": "Python 3 (ipykernel)",
   "language": "python",
   "name": "python3"
  },
  "language_info": {
   "codemirror_mode": {
    "name": "ipython",
    "version": 3
   },
   "file_extension": ".py",
   "mimetype": "text/x-python",
   "name": "python",
   "nbconvert_exporter": "python",
   "pygments_lexer": "ipython3",
   "version": "3.11.4"
  }
 },
 "nbformat": 4,
 "nbformat_minor": 5
}
