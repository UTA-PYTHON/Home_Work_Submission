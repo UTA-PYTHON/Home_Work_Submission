{
 "cells": [
  {
   "cell_type": "markdown",
   "id": "af13ae87",
   "metadata": {},
   "source": [
    "Name: Christine Pham\n",
    "\n",
    "ID: 1001705879"
   ]
  },
  {
   "cell_type": "markdown",
   "id": "01d3186a",
   "metadata": {},
   "source": [
    "# **1. Printing, Data Types, and Inputs**\n",
    "\n",
    "- Ask the user for their name and their age.\n",
    "- Print a statement saying: \"Hello, [name]. You are [age] years old.\"\n",
    "- Print the data type of each variable."
   ]
  },
  {
   "cell_type": "code",
   "execution_count": 1,
   "id": "a9d4cfb8",
   "metadata": {},
   "outputs": [
    {
     "name": "stdout",
     "output_type": "stream",
     "text": [
      "What is your name? Chris\n"
     ]
    }
   ],
   "source": [
    "name=input('What is your name?')"
   ]
  },
  {
   "cell_type": "code",
   "execution_count": 2,
   "id": "3c4b06d0",
   "metadata": {},
   "outputs": [
    {
     "name": "stdout",
     "output_type": "stream",
     "text": [
      "What is your age? 20\n"
     ]
    }
   ],
   "source": [
    "age=input(\"What is your age?\")"
   ]
  },
  {
   "cell_type": "code",
   "execution_count": 3,
   "id": "ca2850fd",
   "metadata": {},
   "outputs": [
    {
     "name": "stdout",
     "output_type": "stream",
     "text": [
      "Hello, Chris . You are 20 years old.\n"
     ]
    }
   ],
   "source": [
    "print(\"Hello,\",name,\". You are\",age,\"years old.\")"
   ]
  },
  {
   "cell_type": "code",
   "execution_count": 4,
   "id": "486824d2",
   "metadata": {},
   "outputs": [
    {
     "data": {
      "text/plain": [
       "str"
      ]
     },
     "execution_count": 4,
     "metadata": {},
     "output_type": "execute_result"
    }
   ],
   "source": [
    "type(age)"
   ]
  },
  {
   "cell_type": "code",
   "execution_count": 5,
   "id": "79ebb8b4",
   "metadata": {},
   "outputs": [
    {
     "data": {
      "text/plain": [
       "str"
      ]
     },
     "execution_count": 5,
     "metadata": {},
     "output_type": "execute_result"
    }
   ],
   "source": [
    "type(name)"
   ]
  },
  {
   "cell_type": "markdown",
   "id": "30914ba3",
   "metadata": {},
   "source": [
    "***\n",
    "***"
   ]
  },
  {
   "cell_type": "markdown",
   "id": "64cf0976",
   "metadata": {},
   "source": [
    "# **2. String Manipulations and Input**\n",
    "\n",
    "- Ask the user for the name of their hometown.\n",
    "- Print the name of the hometown in uppercase.\n",
    "- Print the first three characters of the hometown's name using slicing.\n",
    "- Printing the name in reverse using slicing."
   ]
  },
  {
   "cell_type": "code",
   "execution_count": 6,
   "id": "793e2527",
   "metadata": {},
   "outputs": [
    {
     "name": "stdout",
     "output_type": "stream",
     "text": [
      "What is your hometown?Arington\n"
     ]
    }
   ],
   "source": [
    "town=input(\"What is your hometown?\")"
   ]
  },
  {
   "cell_type": "code",
   "execution_count": 7,
   "id": "9dae58af",
   "metadata": {},
   "outputs": [
    {
     "data": {
      "text/plain": [
       "'ARINGTON'"
      ]
     },
     "execution_count": 7,
     "metadata": {},
     "output_type": "execute_result"
    }
   ],
   "source": [
    "town.upper()"
   ]
  },
  {
   "cell_type": "code",
   "execution_count": 8,
   "id": "0d064bea",
   "metadata": {},
   "outputs": [
    {
     "data": {
      "text/plain": [
       "'Ari'"
      ]
     },
     "execution_count": 8,
     "metadata": {},
     "output_type": "execute_result"
    }
   ],
   "source": [
    "town[:3]"
   ]
  },
  {
   "cell_type": "code",
   "execution_count": 9,
   "id": "b6260bc8",
   "metadata": {},
   "outputs": [
    {
     "data": {
      "text/plain": [
       "'notgnirA'"
      ]
     },
     "execution_count": 9,
     "metadata": {},
     "output_type": "execute_result"
    }
   ],
   "source": [
    "town[::-1]"
   ]
  },
  {
   "cell_type": "markdown",
   "id": "9c66f55e",
   "metadata": {},
   "source": [
    "***\n",
    "***"
   ]
  },
  {
   "cell_type": "markdown",
   "id": "34c5ad9c",
   "metadata": {},
   "source": [
    "# **3. Numeric Operations and Input**\n",
    "\n",
    "- Prompt the user to enter a number.\n",
    "- Multiply the number by itself and print the result.\n",
    "- Calculating the square root."
   ]
  },
  {
   "cell_type": "code",
   "execution_count": 3,
   "id": "89d17861",
   "metadata": {},
   "outputs": [
    {
     "name": "stdout",
     "output_type": "stream",
     "text": [
      "Enter a number:8\n"
     ]
    }
   ],
   "source": [
    "x=int(input(\"Enter a number:\"))"
   ]
  },
  {
   "cell_type": "code",
   "execution_count": 7,
   "id": "9441f9ef",
   "metadata": {},
   "outputs": [
    {
     "name": "stdout",
     "output_type": "stream",
     "text": [
      "64\n"
     ]
    }
   ],
   "source": [
    "prod=x*x\n",
    "print(prod)"
   ]
  },
  {
   "cell_type": "code",
   "execution_count": 15,
   "id": "7a09fc54",
   "metadata": {},
   "outputs": [
    {
     "name": "stdout",
     "output_type": "stream",
     "text": [
      "8.0\n"
     ]
    }
   ],
   "source": [
    "root=prod**.5\n",
    "print(root)"
   ]
  },
  {
   "cell_type": "markdown",
   "id": "7088389b",
   "metadata": {},
   "source": [
    "***\n",
    "***"
   ]
  },
  {
   "cell_type": "markdown",
   "id": "bff213e4",
   "metadata": {},
   "source": [
    "# **4. Boolean Evaluations**\n",
    "\n",
    "- Print the result of the following evaluations:\n",
    "    - 10 > 5\n",
    "    - 10 == 10\n",
    "    - 8 != 9"
   ]
  },
  {
   "cell_type": "code",
   "execution_count": 16,
   "id": "571bd7af",
   "metadata": {},
   "outputs": [
    {
     "data": {
      "text/plain": [
       "True"
      ]
     },
     "execution_count": 16,
     "metadata": {},
     "output_type": "execute_result"
    }
   ],
   "source": [
    "10>5"
   ]
  },
  {
   "cell_type": "code",
   "execution_count": 17,
   "id": "e1476974",
   "metadata": {},
   "outputs": [
    {
     "data": {
      "text/plain": [
       "True"
      ]
     },
     "execution_count": 17,
     "metadata": {},
     "output_type": "execute_result"
    }
   ],
   "source": [
    "10==10"
   ]
  },
  {
   "cell_type": "code",
   "execution_count": 18,
   "id": "2668aeb7",
   "metadata": {},
   "outputs": [
    {
     "data": {
      "text/plain": [
       "True"
      ]
     },
     "execution_count": 18,
     "metadata": {},
     "output_type": "execute_result"
    }
   ],
   "source": [
    "8!=9"
   ]
  },
  {
   "cell_type": "markdown",
   "id": "8ef2474d",
   "metadata": {},
   "source": [
    "***\n",
    "***"
   ]
  },
  {
   "cell_type": "markdown",
   "id": "dbe92365",
   "metadata": {},
   "source": [
    "# **5. List Creation and Operations**\n",
    "\n",
    "- Create a list named colors containing the following items: red, blue, green.\n",
    "- Print the list.\n",
    "- Print the first item in the list.\n",
    "- Replace the second item in the list with yellow.\n",
    "- Print the list again.\n",
    "- Changing the last item using negative indexing."
   ]
  },
  {
   "cell_type": "code",
   "execution_count": 26,
   "id": "9c604225",
   "metadata": {},
   "outputs": [
    {
     "name": "stdout",
     "output_type": "stream",
     "text": [
      "['red', 'green', 'blue']\n"
     ]
    }
   ],
   "source": [
    "color=[\"red\",\"green\",\"blue\"]\n",
    "print(color)"
   ]
  },
  {
   "cell_type": "code",
   "execution_count": 27,
   "id": "d9d59b14",
   "metadata": {},
   "outputs": [
    {
     "data": {
      "text/plain": [
       "'red'"
      ]
     },
     "execution_count": 27,
     "metadata": {},
     "output_type": "execute_result"
    }
   ],
   "source": [
    "color[0]"
   ]
  },
  {
   "cell_type": "code",
   "execution_count": 28,
   "id": "4f3078f7",
   "metadata": {},
   "outputs": [
    {
     "name": "stdout",
     "output_type": "stream",
     "text": [
      "['red', 'yellow', 'blue']\n"
     ]
    }
   ],
   "source": [
    "color[1]=\"yellow\"\n",
    "print(color)"
   ]
  },
  {
   "cell_type": "code",
   "execution_count": 29,
   "id": "56b73965",
   "metadata": {},
   "outputs": [
    {
     "name": "stdout",
     "output_type": "stream",
     "text": [
      "['red', 'yellow', 'pink']\n"
     ]
    }
   ],
   "source": [
    "color[-1]=\"pink\"\n",
    "print(color)"
   ]
  },
  {
   "cell_type": "markdown",
   "id": "8e9d1d36",
   "metadata": {},
   "source": [
    "***\n",
    "***"
   ]
  },
  {
   "cell_type": "markdown",
   "id": "d6b8dcf2",
   "metadata": {},
   "source": [
    "# **6. Indexing and Slicing**\n",
    "\n",
    "- Given the list numbers = [10, 20, 30, 40, 50]\n",
    "- Print the third item from the list.\n",
    "- Using slicing, print the first two numbers.\n",
    "- Getting the last three numbers using negative indexing and slicing."
   ]
  },
  {
   "cell_type": "code",
   "execution_count": 30,
   "id": "720f3599",
   "metadata": {},
   "outputs": [],
   "source": [
    "numbers=[10,20,30,40,50]"
   ]
  },
  {
   "cell_type": "code",
   "execution_count": 31,
   "id": "d0c3e5f8",
   "metadata": {},
   "outputs": [
    {
     "data": {
      "text/plain": [
       "30"
      ]
     },
     "execution_count": 31,
     "metadata": {},
     "output_type": "execute_result"
    }
   ],
   "source": [
    "numbers[2]"
   ]
  },
  {
   "cell_type": "code",
   "execution_count": 33,
   "id": "3584516c",
   "metadata": {},
   "outputs": [
    {
     "data": {
      "text/plain": [
       "[10, 20]"
      ]
     },
     "execution_count": 33,
     "metadata": {},
     "output_type": "execute_result"
    }
   ],
   "source": [
    "numbers[:2]"
   ]
  },
  {
   "cell_type": "code",
   "execution_count": 35,
   "id": "76eb4af9",
   "metadata": {
    "scrolled": true
   },
   "outputs": [
    {
     "data": {
      "text/plain": [
       "[30, 40, 50]"
      ]
     },
     "execution_count": 35,
     "metadata": {},
     "output_type": "execute_result"
    }
   ],
   "source": [
    "numbers[-3:]"
   ]
  },
  {
   "cell_type": "markdown",
   "id": "ac050a3b",
   "metadata": {},
   "source": [
    "***\n",
    "***"
   ]
  },
  {
   "cell_type": "markdown",
   "id": "2c928ec2",
   "metadata": {},
   "source": [
    "# **7. Manipulating Elements**\n",
    "\n",
    "- Given the list animals = ['cat', 'dog', 'bird']\n",
    "- Print the list.\n",
    "- Add fish to the end of the list.\n",
    "- Print the updated list."
   ]
  },
  {
   "cell_type": "code",
   "execution_count": 37,
   "id": "55fa91ef",
   "metadata": {},
   "outputs": [
    {
     "name": "stdout",
     "output_type": "stream",
     "text": [
      "['cat', 'dog', 'bird']\n"
     ]
    }
   ],
   "source": [
    "animals=[\"cat\",\"dog\",\"bird\"]\n",
    "print(animals)"
   ]
  },
  {
   "cell_type": "code",
   "execution_count": 38,
   "id": "8b9bab1e",
   "metadata": {},
   "outputs": [
    {
     "name": "stdout",
     "output_type": "stream",
     "text": [
      "['cat', 'dog', 'bird', 'fish']\n"
     ]
    }
   ],
   "source": [
    "animals.append(\"fish\")\n",
    "print(animals)"
   ]
  },
  {
   "cell_type": "markdown",
   "id": "c9786c64",
   "metadata": {},
   "source": [
    "***\n",
    "***"
   ]
  },
  {
   "cell_type": "markdown",
   "id": "310fdd5e",
   "metadata": {},
   "source": [
    "# **8. Sorting**\n",
    "\n",
    "- Given the list random_numbers = [42, 8, 15, 23, 16]\n",
    "- Print the list.\n",
    "- Use the sort() method to sort the list.\n",
    "- Print the sorted list.\n",
    "- Print every second item from the sorted list."
   ]
  },
  {
   "cell_type": "code",
   "execution_count": 40,
   "id": "87c8bf80",
   "metadata": {},
   "outputs": [
    {
     "name": "stdout",
     "output_type": "stream",
     "text": [
      "[42, 8, 15, 23, 16]\n"
     ]
    }
   ],
   "source": [
    "random_numbers=[42,8,15,23,16]\n",
    "print(random_numbers)"
   ]
  },
  {
   "cell_type": "code",
   "execution_count": 46,
   "id": "75b4a258",
   "metadata": {},
   "outputs": [
    {
     "name": "stdout",
     "output_type": "stream",
     "text": [
      "[8, 15, 16, 23, 42]\n"
     ]
    }
   ],
   "source": [
    "random_numbers.sort(reverse=False)\n",
    "print(random_numbers)"
   ]
  },
  {
   "cell_type": "code",
   "execution_count": 48,
   "id": "8fd2c91a",
   "metadata": {},
   "outputs": [
    {
     "data": {
      "text/plain": [
       "[8, 16, 42]"
      ]
     },
     "execution_count": 48,
     "metadata": {},
     "output_type": "execute_result"
    }
   ],
   "source": [
    "random_numbers[::2]"
   ]
  }
 ],
 "metadata": {
  "kernelspec": {
   "display_name": "Python 3 (ipykernel)",
   "language": "python",
   "name": "python3"
  },
  "language_info": {
   "codemirror_mode": {
    "name": "ipython",
    "version": 3
   },
   "file_extension": ".py",
   "mimetype": "text/x-python",
   "name": "python",
   "nbconvert_exporter": "python",
   "pygments_lexer": "ipython3",
   "version": "3.11.4"
  }
 },
 "nbformat": 4,
 "nbformat_minor": 5
}
