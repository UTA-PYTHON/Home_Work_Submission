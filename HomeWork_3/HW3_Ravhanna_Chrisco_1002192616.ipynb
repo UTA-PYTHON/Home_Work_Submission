{
  "nbformat": 4,
  "nbformat_minor": 0,
  "metadata": {
    "colab": {
      "provenance": []
    },
    "kernelspec": {
      "name": "python3",
      "display_name": "Python 3"
    },
    "language_info": {
      "name": "python"
    }
  },
  "cells": [
    {
      "cell_type": "markdown",
      "source": [
        "# 1. Printing, Data Types, and Input"
      ],
      "metadata": {
        "id": "SC6xcOzn719n"
      }
    },
    {
      "cell_type": "code",
      "source": [
        "name=input(\"Hello, what is your name? \")\n",
        "age=input(\"How old are you? \")\n",
        "print(\"Hello,\", name, \". you are\", age,\"years old\")"
      ],
      "metadata": {
        "colab": {
          "base_uri": "https://localhost:8080/"
        },
        "id": "-ZiNM2lO9Q1Q",
        "outputId": "b4ce2916-1611-4eb4-9f47-6a00ca90d79d"
      },
      "execution_count": null,
      "outputs": [
        {
          "output_type": "stream",
          "name": "stdout",
          "text": [
            "Hello, what is your name? Ravhanna\n",
            "How old are you? 24\n",
            "Hello, Ravhanna . you are 24 years old\n"
          ]
        }
      ]
    },
    {
      "cell_type": "code",
      "source": [
        "type(name)"
      ],
      "metadata": {
        "colab": {
          "base_uri": "https://localhost:8080/"
        },
        "id": "oRutUQv79aiL",
        "outputId": "c9d6ea2c-f272-4e7e-e921-79be796fe5b9"
      },
      "execution_count": null,
      "outputs": [
        {
          "output_type": "execute_result",
          "data": {
            "text/plain": [
              "str"
            ]
          },
          "metadata": {},
          "execution_count": 4
        }
      ]
    },
    {
      "cell_type": "code",
      "source": [
        "type(age)"
      ],
      "metadata": {
        "colab": {
          "base_uri": "https://localhost:8080/"
        },
        "id": "ddvAlfR0-AxE",
        "outputId": "a45ed22a-947e-481e-f160-325ec8c490fe"
      },
      "execution_count": null,
      "outputs": [
        {
          "output_type": "execute_result",
          "data": {
            "text/plain": [
              "str"
            ]
          },
          "metadata": {},
          "execution_count": 5
        }
      ]
    },
    {
      "cell_type": "code",
      "source": [
        "\n"
      ],
      "metadata": {
        "id": "J2p17h9X-DpK"
      },
      "execution_count": null,
      "outputs": []
    },
    {
      "cell_type": "markdown",
      "source": [
        "# 2. String Manipulations and Input"
      ],
      "metadata": {
        "id": "Aqle0i77-svy"
      }
    },
    {
      "cell_type": "code",
      "source": [
        "town=input(\"What is the name of your home town?\")"
      ],
      "metadata": {
        "colab": {
          "base_uri": "https://localhost:8080/"
        },
        "id": "EDEYsxYI-8Ly",
        "outputId": "860dc53c-7ffb-438e-e969-1cbf19f030d8"
      },
      "execution_count": null,
      "outputs": [
        {
          "name": "stdout",
          "output_type": "stream",
          "text": [
            "What is the name of your home town?Wichita\n"
          ]
        }
      ]
    },
    {
      "cell_type": "code",
      "source": [
        "print(town.upper())"
      ],
      "metadata": {
        "colab": {
          "base_uri": "https://localhost:8080/"
        },
        "id": "VuxdBnZn_H4n",
        "outputId": "6a85d9d0-9b5c-4e61-d4df-3fbff7ce1a18"
      },
      "execution_count": null,
      "outputs": [
        {
          "output_type": "stream",
          "name": "stdout",
          "text": [
            "WICHITA\n"
          ]
        }
      ]
    },
    {
      "cell_type": "code",
      "source": [
        "print(town[0:3])"
      ],
      "metadata": {
        "colab": {
          "base_uri": "https://localhost:8080/"
        },
        "id": "_kXnrTeMCCQC",
        "outputId": "ed4a7edc-3c03-404e-f81e-40918a5152a8"
      },
      "execution_count": null,
      "outputs": [
        {
          "output_type": "stream",
          "name": "stdout",
          "text": [
            "Wic\n"
          ]
        }
      ]
    },
    {
      "cell_type": "code",
      "source": [
        "print(town[::-1])"
      ],
      "metadata": {
        "colab": {
          "base_uri": "https://localhost:8080/"
        },
        "id": "SSTHiyVXCx3w",
        "outputId": "bddf6e5e-24c1-48cd-b4e2-317c021ca314"
      },
      "execution_count": null,
      "outputs": [
        {
          "output_type": "stream",
          "name": "stdout",
          "text": [
            "atihciW\n"
          ]
        }
      ]
    },
    {
      "cell_type": "code",
      "source": [],
      "metadata": {
        "id": "8mbPaZ8ZDm0N"
      },
      "execution_count": null,
      "outputs": []
    },
    {
      "cell_type": "markdown",
      "source": [
        "# 3.Numeric Operations and Input"
      ],
      "metadata": {
        "id": "mUe7GzJ4DvjB"
      }
    },
    {
      "cell_type": "code",
      "source": [
        "number=input(\"Please enter a number \")"
      ],
      "metadata": {
        "colab": {
          "base_uri": "https://localhost:8080/"
        },
        "id": "PKalEU7qD3pr",
        "outputId": "4c8412ee-1efe-4df8-f94c-9fa3bc776f99"
      },
      "execution_count": null,
      "outputs": [
        {
          "name": "stdout",
          "output_type": "stream",
          "text": [
            "Please enter a number 100\n"
          ]
        }
      ]
    },
    {
      "cell_type": "code",
      "source": [
        "x=(int(number)*int(number))"
      ],
      "metadata": {
        "id": "35SXyyVTFxTG"
      },
      "execution_count": null,
      "outputs": []
    },
    {
      "cell_type": "code",
      "source": [
        "x**(1/2)"
      ],
      "metadata": {
        "colab": {
          "base_uri": "https://localhost:8080/"
        },
        "id": "IFvtjJ8QGWq_",
        "outputId": "b887cc8a-96ee-40b1-d0a8-b99990e65d78"
      },
      "execution_count": null,
      "outputs": [
        {
          "output_type": "execute_result",
          "data": {
            "text/plain": [
              "100.0"
            ]
          },
          "metadata": {},
          "execution_count": 25
        }
      ]
    },
    {
      "cell_type": "markdown",
      "source": [
        "# 4.Boolean Evaluations"
      ],
      "metadata": {
        "id": "NMZCNzbtIKFh"
      }
    },
    {
      "cell_type": "code",
      "source": [
        "10>5"
      ],
      "metadata": {
        "colab": {
          "base_uri": "https://localhost:8080/"
        },
        "id": "iaM_CZaBIQex",
        "outputId": "e8eb630c-f73f-4af0-c5d3-1d482ab75b7e"
      },
      "execution_count": null,
      "outputs": [
        {
          "output_type": "execute_result",
          "data": {
            "text/plain": [
              "True"
            ]
          },
          "metadata": {},
          "execution_count": 31
        }
      ]
    },
    {
      "cell_type": "code",
      "source": [
        "10==10"
      ],
      "metadata": {
        "colab": {
          "base_uri": "https://localhost:8080/"
        },
        "id": "ZGdg7EYYIZDA",
        "outputId": "ee9591e6-7fb8-426b-e52c-f3118361503a"
      },
      "execution_count": null,
      "outputs": [
        {
          "output_type": "execute_result",
          "data": {
            "text/plain": [
              "True"
            ]
          },
          "metadata": {},
          "execution_count": 32
        }
      ]
    },
    {
      "cell_type": "code",
      "source": [
        "8!=9"
      ],
      "metadata": {
        "colab": {
          "base_uri": "https://localhost:8080/"
        },
        "id": "hlen_PpKIb6g",
        "outputId": "24bbfc88-bb97-4157-8da2-10ffa2683c80"
      },
      "execution_count": null,
      "outputs": [
        {
          "output_type": "execute_result",
          "data": {
            "text/plain": [
              "True"
            ]
          },
          "metadata": {},
          "execution_count": 33
        }
      ]
    },
    {
      "cell_type": "code",
      "source": [],
      "metadata": {
        "id": "av00kwf8Ieq-"
      },
      "execution_count": null,
      "outputs": []
    },
    {
      "cell_type": "markdown",
      "source": [
        "# List Creation and Operations"
      ],
      "metadata": {
        "id": "43j9CPovIhtC"
      }
    },
    {
      "cell_type": "code",
      "source": [
        "colors=[\"red\",\"blue\",\"green\"]"
      ],
      "metadata": {
        "id": "8FiaSHA_InDT"
      },
      "execution_count": null,
      "outputs": []
    },
    {
      "cell_type": "code",
      "source": [
        "print(colors)"
      ],
      "metadata": {
        "id": "fYgUZzSfI0g7",
        "colab": {
          "base_uri": "https://localhost:8080/"
        },
        "outputId": "797ac983-611d-48d5-e62f-94fc66d9da8f"
      },
      "execution_count": null,
      "outputs": [
        {
          "output_type": "stream",
          "name": "stdout",
          "text": [
            "['red', 'blue', 'green']\n"
          ]
        }
      ]
    },
    {
      "cell_type": "code",
      "source": [
        "print(colors[0:1])"
      ],
      "metadata": {
        "colab": {
          "base_uri": "https://localhost:8080/"
        },
        "id": "eEq-EgtvLKRc",
        "outputId": "a06636fe-9f96-44df-daed-b83034f74b05"
      },
      "execution_count": null,
      "outputs": [
        {
          "output_type": "stream",
          "name": "stdout",
          "text": [
            "['red']\n"
          ]
        }
      ]
    },
    {
      "cell_type": "code",
      "source": [
        "colors[1]=\"yellow\""
      ],
      "metadata": {
        "id": "GMwrQCncLVtd"
      },
      "execution_count": null,
      "outputs": []
    },
    {
      "cell_type": "code",
      "source": [
        "print(colors)"
      ],
      "metadata": {
        "colab": {
          "base_uri": "https://localhost:8080/"
        },
        "id": "Qdoj9thDLlMh",
        "outputId": "15c0250e-24ef-45ba-d984-ab2afb23ab66"
      },
      "execution_count": null,
      "outputs": [
        {
          "output_type": "stream",
          "name": "stdout",
          "text": [
            "['red', 'yellow', 'green']\n"
          ]
        }
      ]
    },
    {
      "cell_type": "code",
      "source": [
        "colors[-1]=\"grey\""
      ],
      "metadata": {
        "id": "TBktJAadLnyr"
      },
      "execution_count": null,
      "outputs": []
    },
    {
      "cell_type": "code",
      "source": [],
      "metadata": {
        "id": "AleLp1A4NERm"
      },
      "execution_count": null,
      "outputs": []
    },
    {
      "cell_type": "markdown",
      "source": [
        "# 6.Indexing and Slicing"
      ],
      "metadata": {
        "id": "rVwFpzgUNIhS"
      }
    },
    {
      "cell_type": "code",
      "source": [
        "numbers=[10,20,30,40,50]"
      ],
      "metadata": {
        "id": "ztniLkpwNMw1"
      },
      "execution_count": null,
      "outputs": []
    },
    {
      "cell_type": "code",
      "source": [
        "numbers[2]"
      ],
      "metadata": {
        "colab": {
          "base_uri": "https://localhost:8080/"
        },
        "id": "9SKtnU_MNUuH",
        "outputId": "ddbbbf03-f15c-470d-de90-15ebf3b10336"
      },
      "execution_count": null,
      "outputs": [
        {
          "output_type": "execute_result",
          "data": {
            "text/plain": [
              "30"
            ]
          },
          "metadata": {},
          "execution_count": 49
        }
      ]
    },
    {
      "cell_type": "code",
      "source": [
        "print(numbers[0:2])"
      ],
      "metadata": {
        "colab": {
          "base_uri": "https://localhost:8080/"
        },
        "id": "cTDENZ0wNYSH",
        "outputId": "049be18b-e9bc-42f5-e3ae-cf62547eb850"
      },
      "execution_count": null,
      "outputs": [
        {
          "output_type": "stream",
          "name": "stdout",
          "text": [
            "[10, 20]\n"
          ]
        }
      ]
    },
    {
      "cell_type": "code",
      "source": [
        "print(numbers[-4:-1])"
      ],
      "metadata": {
        "colab": {
          "base_uri": "https://localhost:8080/"
        },
        "id": "CIqCYFVBNmps",
        "outputId": "dacfdb7b-0678-469f-a636-a98ce4b8c622"
      },
      "execution_count": null,
      "outputs": [
        {
          "output_type": "stream",
          "name": "stdout",
          "text": [
            "[20, 30, 40]\n"
          ]
        }
      ]
    },
    {
      "cell_type": "code",
      "source": [],
      "metadata": {
        "id": "gB2dr6x8N7iJ"
      },
      "execution_count": null,
      "outputs": []
    },
    {
      "cell_type": "markdown",
      "source": [
        "# 7.Manipulating Elements"
      ],
      "metadata": {
        "id": "zbCwdQLkOQll"
      }
    },
    {
      "cell_type": "code",
      "source": [
        "animals=['cat','dog','bird']\n",
        "print(animals)"
      ],
      "metadata": {
        "colab": {
          "base_uri": "https://localhost:8080/"
        },
        "id": "CKqvNhnQOWac",
        "outputId": "c54e9328-6e92-4222-dd99-fbe114904e3b"
      },
      "execution_count": null,
      "outputs": [
        {
          "output_type": "stream",
          "name": "stdout",
          "text": [
            "['cat', 'dog', 'bird']\n"
          ]
        }
      ]
    },
    {
      "cell_type": "code",
      "source": [
        "animals.append('fish')"
      ],
      "metadata": {
        "id": "GZD9iBcMOfRJ"
      },
      "execution_count": null,
      "outputs": []
    },
    {
      "cell_type": "code",
      "source": [
        "print(animals)"
      ],
      "metadata": {
        "colab": {
          "base_uri": "https://localhost:8080/"
        },
        "id": "YPoBThDzOlkM",
        "outputId": "2000dbcd-d196-4ecd-e094-89b788d69913"
      },
      "execution_count": null,
      "outputs": [
        {
          "output_type": "stream",
          "name": "stdout",
          "text": [
            "['cat', 'dog', 'bird', 'fish']\n"
          ]
        }
      ]
    },
    {
      "cell_type": "code",
      "source": [],
      "metadata": {
        "id": "8TIqFrQIOtEx"
      },
      "execution_count": null,
      "outputs": []
    },
    {
      "cell_type": "markdown",
      "source": [
        "# 8. Sorting"
      ],
      "metadata": {
        "id": "K9fbYW_8Ovn-"
      }
    },
    {
      "cell_type": "code",
      "source": [
        "random_numbers=[42,8,15,23,16]"
      ],
      "metadata": {
        "id": "b8CrvjsFO0Hp"
      },
      "execution_count": null,
      "outputs": []
    },
    {
      "cell_type": "code",
      "source": [
        "print(random_numbers)"
      ],
      "metadata": {
        "colab": {
          "base_uri": "https://localhost:8080/"
        },
        "id": "3gxrnj3aO8Tn",
        "outputId": "57e14d3d-ba27-44cf-97c9-ed401e45c900"
      },
      "execution_count": null,
      "outputs": [
        {
          "output_type": "stream",
          "name": "stdout",
          "text": [
            "[42, 8, 15, 23, 16]\n"
          ]
        }
      ]
    },
    {
      "cell_type": "code",
      "source": [
        "random_numbers.sort()"
      ],
      "metadata": {
        "id": "mVWDuplXO_Dy"
      },
      "execution_count": null,
      "outputs": []
    },
    {
      "cell_type": "code",
      "source": [
        "print(random_numbers)"
      ],
      "metadata": {
        "colab": {
          "base_uri": "https://localhost:8080/"
        },
        "id": "DdHOh7omPCzZ",
        "outputId": "b389ec8a-c868-468d-f1b9-06d43d378448"
      },
      "execution_count": null,
      "outputs": [
        {
          "output_type": "stream",
          "name": "stdout",
          "text": [
            "[8, 15, 16, 23, 42]\n"
          ]
        }
      ]
    },
    {
      "cell_type": "code",
      "source": [
        "random_numbers[1:5:2]"
      ],
      "metadata": {
        "colab": {
          "base_uri": "https://localhost:8080/"
        },
        "id": "HoY6XMo9PnXo",
        "outputId": "f370cd68-6293-42e1-9ce7-566eec24ddd5"
      },
      "execution_count": null,
      "outputs": [
        {
          "output_type": "execute_result",
          "data": {
            "text/plain": [
              "[15, 23]"
            ]
          },
          "metadata": {},
          "execution_count": 79
        }
      ]
    },
    {
      "cell_type": "code",
      "source": [],
      "metadata": {
        "id": "MHbw4rWYQ7Lt"
      },
      "execution_count": null,
      "outputs": []
    }
  ]
}