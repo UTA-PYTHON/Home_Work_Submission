{
 "cells": [
  {
   "cell_type": "markdown",
   "id": "2ce256fb",
   "metadata": {},
   "source": [
    "## 1. Printing, Data Types, and Input\n"
   ]
  },
  {
   "cell_type": "code",
   "execution_count": 4,
   "id": "12e5114a",
   "metadata": {},
   "outputs": [
    {
     "name": "stdout",
     "output_type": "stream",
     "text": [
      "Enter your name:TANA\n",
      "Hello TANA Nice to meet you\n"
     ]
    }
   ],
   "source": [
    "name=input(\"Enter your name:\")\n",
    "print(\"Hello\", name, \"Nice to meet you\")"
   ]
  },
  {
   "cell_type": "code",
   "execution_count": 8,
   "id": "133ce3fa",
   "metadata": {},
   "outputs": [
    {
     "name": "stdout",
     "output_type": "stream",
     "text": [
      "Enter your age:31\n"
     ]
    }
   ],
   "source": [
    "age=input(\"Enter your age:\")"
   ]
  },
  {
   "cell_type": "code",
   "execution_count": 11,
   "id": "b8f13f96",
   "metadata": {},
   "outputs": [
    {
     "name": "stdout",
     "output_type": "stream",
     "text": [
      "Hello, I am 31 years old\n"
     ]
    }
   ],
   "source": [
    "print(\"Hello, I am\", age, \"years old\")"
   ]
  },
  {
   "cell_type": "markdown",
   "id": "bcb5ba0a",
   "metadata": {},
   "source": [
    "## 2. String Manipulations and Input\n"
   ]
  },
  {
   "cell_type": "code",
   "execution_count": 13,
   "id": "26d8a98a",
   "metadata": {},
   "outputs": [
    {
     "name": "stdout",
     "output_type": "stream",
     "text": [
      "Enter your hometown:LUTHADEL\n"
     ]
    }
   ],
   "source": [
    "hometown=input(\"Enter your hometown:\")"
   ]
  },
  {
   "cell_type": "code",
   "execution_count": 18,
   "id": "95bf490e",
   "metadata": {},
   "outputs": [
    {
     "name": "stdout",
     "output_type": "stream",
     "text": [
      "LUT\n"
     ]
    }
   ],
   "source": [
    "print(hometown[0:3])"
   ]
  },
  {
   "cell_type": "code",
   "execution_count": 32,
   "id": "057295c6",
   "metadata": {},
   "outputs": [
    {
     "name": "stdout",
     "output_type": "stream",
     "text": [
      "LEDAHTUL\n"
     ]
    }
   ],
   "source": [
    "print(hometown[::-1])"
   ]
  },
  {
   "cell_type": "markdown",
   "id": "8ff0f8f2",
   "metadata": {},
   "source": [
    "## 3. Numeric Operations and Input\n"
   ]
  },
  {
   "cell_type": "code",
   "execution_count": 40,
   "id": "bc591762",
   "metadata": {
    "scrolled": true
   },
   "outputs": [
    {
     "name": "stdout",
     "output_type": "stream",
     "text": [
      "Enter a number:25\n"
     ]
    }
   ],
   "source": [
    "num=input(\"Enter a number:\")"
   ]
  },
  {
   "cell_type": "code",
   "execution_count": 52,
   "id": "5b17ddaa",
   "metadata": {},
   "outputs": [],
   "source": [
    "num=25"
   ]
  },
  {
   "cell_type": "code",
   "execution_count": 53,
   "id": "adef91a2",
   "metadata": {},
   "outputs": [
    {
     "data": {
      "text/plain": [
       "625"
      ]
     },
     "execution_count": 53,
     "metadata": {},
     "output_type": "execute_result"
    }
   ],
   "source": [
    "num*num"
   ]
  },
  {
   "cell_type": "code",
   "execution_count": 67,
   "id": "88dbfae0",
   "metadata": {},
   "outputs": [],
   "source": [
    "import math"
   ]
  },
  {
   "cell_type": "code",
   "execution_count": 69,
   "id": "523177b0",
   "metadata": {},
   "outputs": [
    {
     "data": {
      "text/plain": [
       "25.0"
      ]
     },
     "execution_count": 69,
     "metadata": {},
     "output_type": "execute_result"
    }
   ],
   "source": [
    "math.sqrt(625)"
   ]
  },
  {
   "cell_type": "markdown",
   "id": "e1e03812",
   "metadata": {},
   "source": [
    "## 4. Boolean Evaluations\n"
   ]
  },
  {
   "cell_type": "code",
   "execution_count": 70,
   "id": "c563106e",
   "metadata": {},
   "outputs": [],
   "source": [
    "x=10\n",
    "y=5"
   ]
  },
  {
   "cell_type": "code",
   "execution_count": 71,
   "id": "8dffdadd",
   "metadata": {},
   "outputs": [
    {
     "data": {
      "text/plain": [
       "True"
      ]
     },
     "execution_count": 71,
     "metadata": {},
     "output_type": "execute_result"
    }
   ],
   "source": [
    "x>y"
   ]
  },
  {
   "cell_type": "code",
   "execution_count": 73,
   "id": "d8a19bf2",
   "metadata": {},
   "outputs": [
    {
     "data": {
      "text/plain": [
       "False"
      ]
     },
     "execution_count": 73,
     "metadata": {},
     "output_type": "execute_result"
    }
   ],
   "source": [
    "x==y"
   ]
  },
  {
   "cell_type": "code",
   "execution_count": 74,
   "id": "c44dbc93",
   "metadata": {},
   "outputs": [],
   "source": [
    "x=8\n",
    "y=9"
   ]
  },
  {
   "cell_type": "code",
   "execution_count": 75,
   "id": "34447742",
   "metadata": {},
   "outputs": [
    {
     "data": {
      "text/plain": [
       "True"
      ]
     },
     "execution_count": 75,
     "metadata": {},
     "output_type": "execute_result"
    }
   ],
   "source": [
    "x!=y"
   ]
  },
  {
   "cell_type": "markdown",
   "id": "877b27ea",
   "metadata": {},
   "source": [
    "## 5.List Creation and Operations"
   ]
  },
  {
   "cell_type": "code",
   "execution_count": 107,
   "id": "67e7020c",
   "metadata": {},
   "outputs": [],
   "source": [
    "colors = [\"red\", \"blue\", \"green\"]"
   ]
  },
  {
   "cell_type": "code",
   "execution_count": 108,
   "id": "703d4b33",
   "metadata": {},
   "outputs": [
    {
     "data": {
      "text/plain": [
       "['red', 'blue', 'green']"
      ]
     },
     "execution_count": 108,
     "metadata": {},
     "output_type": "execute_result"
    }
   ],
   "source": [
    "colors"
   ]
  },
  {
   "cell_type": "code",
   "execution_count": 110,
   "id": "b091f395",
   "metadata": {},
   "outputs": [
    {
     "data": {
      "text/plain": [
       "'red'"
      ]
     },
     "execution_count": 110,
     "metadata": {},
     "output_type": "execute_result"
    }
   ],
   "source": [
    "colors[0]"
   ]
  },
  {
   "cell_type": "code",
   "execution_count": 112,
   "id": "a525cd22",
   "metadata": {},
   "outputs": [],
   "source": [
    "colors = [\"red\", \"yellow\", \"green\"]"
   ]
  },
  {
   "cell_type": "code",
   "execution_count": 113,
   "id": "12777be5",
   "metadata": {},
   "outputs": [
    {
     "data": {
      "text/plain": [
       "['red', 'yellow', 'green']"
      ]
     },
     "execution_count": 113,
     "metadata": {},
     "output_type": "execute_result"
    }
   ],
   "source": [
    "colors"
   ]
  },
  {
   "cell_type": "code",
   "execution_count": 114,
   "id": "4d749782",
   "metadata": {},
   "outputs": [
    {
     "data": {
      "text/plain": [
       "'yellow'"
      ]
     },
     "execution_count": 114,
     "metadata": {},
     "output_type": "execute_result"
    }
   ],
   "source": [
    "colors[-2]"
   ]
  },
  {
   "cell_type": "markdown",
   "id": "192b91c4",
   "metadata": {},
   "source": [
    "## 6. Indexing and Slicing"
   ]
  },
  {
   "cell_type": "code",
   "execution_count": 115,
   "id": "a8e234be",
   "metadata": {},
   "outputs": [],
   "source": [
    "numbers = [\"10\", \"20\", \"30\", \"40\", \"50\"]"
   ]
  },
  {
   "cell_type": "code",
   "execution_count": 116,
   "id": "3b736b4f",
   "metadata": {},
   "outputs": [
    {
     "data": {
      "text/plain": [
       "['10', '20', '30', '40', '50']"
      ]
     },
     "execution_count": 116,
     "metadata": {},
     "output_type": "execute_result"
    }
   ],
   "source": [
    "numbers"
   ]
  },
  {
   "cell_type": "code",
   "execution_count": 117,
   "id": "f60f3b81",
   "metadata": {},
   "outputs": [
    {
     "data": {
      "text/plain": [
       "'30'"
      ]
     },
     "execution_count": 117,
     "metadata": {},
     "output_type": "execute_result"
    }
   ],
   "source": [
    "numbers[2]"
   ]
  },
  {
   "cell_type": "code",
   "execution_count": 119,
   "id": "c7feadd0",
   "metadata": {},
   "outputs": [
    {
     "data": {
      "text/plain": [
       "['10', '20']"
      ]
     },
     "execution_count": 119,
     "metadata": {},
     "output_type": "execute_result"
    }
   ],
   "source": [
    "numbers[0:2]"
   ]
  },
  {
   "cell_type": "code",
   "execution_count": 128,
   "id": "bcec7ae4",
   "metadata": {},
   "outputs": [
    {
     "data": {
      "text/plain": [
       "['30', '40', '50']"
      ]
     },
     "execution_count": 128,
     "metadata": {},
     "output_type": "execute_result"
    }
   ],
   "source": [
    "numbers[-3:]"
   ]
  },
  {
   "cell_type": "markdown",
   "id": "9fc83d47",
   "metadata": {},
   "source": [
    "## 7. Manipulating Elements"
   ]
  },
  {
   "cell_type": "code",
   "execution_count": 166,
   "id": "57d7820d",
   "metadata": {},
   "outputs": [],
   "source": [
    "animals = [\"cat\", \"dog\", \"bird\"]"
   ]
  },
  {
   "cell_type": "code",
   "execution_count": 167,
   "id": "2e512bc6",
   "metadata": {},
   "outputs": [
    {
     "data": {
      "text/plain": [
       "['cat', 'dog', 'bird']"
      ]
     },
     "execution_count": 167,
     "metadata": {},
     "output_type": "execute_result"
    }
   ],
   "source": [
    "animals"
   ]
  },
  {
   "cell_type": "code",
   "execution_count": 168,
   "id": "600964db",
   "metadata": {},
   "outputs": [],
   "source": [
    "animals.append(\"fish\")"
   ]
  },
  {
   "cell_type": "code",
   "execution_count": 169,
   "id": "0231450e",
   "metadata": {},
   "outputs": [
    {
     "data": {
      "text/plain": [
       "['cat', 'dog', 'bird', 'fish']"
      ]
     },
     "execution_count": 169,
     "metadata": {},
     "output_type": "execute_result"
    }
   ],
   "source": [
    "animals"
   ]
  },
  {
   "cell_type": "markdown",
   "id": "d8b64995",
   "metadata": {},
   "source": [
    "## 8. Sorting"
   ]
  },
  {
   "cell_type": "code",
   "execution_count": 170,
   "id": "4c5e00b1",
   "metadata": {},
   "outputs": [],
   "source": [
    "numbers = [\"42\", \"8\", \"15\", \"23\", \"16\"]"
   ]
  },
  {
   "cell_type": "code",
   "execution_count": 171,
   "id": "e6827db1",
   "metadata": {},
   "outputs": [
    {
     "data": {
      "text/plain": [
       "['42', '8', '15', '23', '16']"
      ]
     },
     "execution_count": 171,
     "metadata": {},
     "output_type": "execute_result"
    }
   ],
   "source": [
    "numbers"
   ]
  },
  {
   "cell_type": "code",
   "execution_count": 195,
   "id": "c960c381",
   "metadata": {},
   "outputs": [],
   "source": [
    "numbers.sort()"
   ]
  },
  {
   "cell_type": "code",
   "execution_count": 196,
   "id": "ad32e344",
   "metadata": {},
   "outputs": [
    {
     "data": {
      "text/plain": [
       "['15', '16', '23', '42', '8']"
      ]
     },
     "execution_count": 196,
     "metadata": {},
     "output_type": "execute_result"
    }
   ],
   "source": [
    "numbers"
   ]
  },
  {
   "cell_type": "code",
   "execution_count": 200,
   "id": "1ba8a8ca",
   "metadata": {},
   "outputs": [
    {
     "data": {
      "text/plain": [
       "['16', '23']"
      ]
     },
     "execution_count": 200,
     "metadata": {},
     "output_type": "execute_result"
    }
   ],
   "source": [
    "numbers[1:3]"
   ]
  }
 ],
 "metadata": {
  "kernelspec": {
   "display_name": "Python 3 (ipykernel)",
   "language": "python",
   "name": "python3"
  },
  "language_info": {
   "codemirror_mode": {
    "name": "ipython",
    "version": 3
   },
   "file_extension": ".py",
   "mimetype": "text/x-python",
   "name": "python",
   "nbconvert_exporter": "python",
   "pygments_lexer": "ipython3",
   "version": "3.11.4"
  }
 },
 "nbformat": 4,
 "nbformat_minor": 5
}
