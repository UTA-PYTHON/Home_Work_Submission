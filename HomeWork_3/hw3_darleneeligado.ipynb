{
 "cells": [
  {
   "cell_type": "markdown",
   "id": "eeb277e8",
   "metadata": {},
   "source": [
    "# **Homework 3-Data Types, User Input, and Data Structure**"
   ]
  },
  {
   "cell_type": "markdown",
   "id": "8055bb83",
   "metadata": {},
   "source": [
    "## **1. Printing, Data Types, and Input**"
   ]
  },
  {
   "cell_type": "markdown",
   "id": "3eea01bf",
   "metadata": {},
   "source": [
    "- Ask the user for their name and their age.\n",
    "- Print a statement saying: \"Hello, [name]. You are [age] years old.\"\n",
    "- Print the data type of each variable."
   ]
  },
  {
   "cell_type": "code",
   "execution_count": 8,
   "id": "059dee95",
   "metadata": {},
   "outputs": [
    {
     "name": "stdout",
     "output_type": "stream",
     "text": [
      "Please enter in your name: dar\n",
      "Please enter in your age:21\n",
      "Hello, dar You are 21 years old.\n"
     ]
    }
   ],
   "source": [
    "name = input(\"Please enter in your name: \")\n",
    "age = int(input(\"Please enter in your age:\"))\n",
    "print(\"Hello,\",name,\"You are\", age, \"years old.\")"
   ]
  },
  {
   "cell_type": "code",
   "execution_count": 3,
   "id": "7be34339",
   "metadata": {},
   "outputs": [
    {
     "data": {
      "text/plain": [
       "str"
      ]
     },
     "execution_count": 3,
     "metadata": {},
     "output_type": "execute_result"
    }
   ],
   "source": [
    "type(name)"
   ]
  },
  {
   "cell_type": "code",
   "execution_count": 9,
   "id": "6df62eb3",
   "metadata": {},
   "outputs": [
    {
     "data": {
      "text/plain": [
       "int"
      ]
     },
     "execution_count": 9,
     "metadata": {},
     "output_type": "execute_result"
    }
   ],
   "source": [
    "type(age)"
   ]
  },
  {
   "cell_type": "markdown",
   "id": "8328cb71",
   "metadata": {},
   "source": [
    "## **2. String Manipulations and Input**"
   ]
  },
  {
   "cell_type": "markdown",
   "id": "075b0098",
   "metadata": {},
   "source": [
    "- Ask the user for the name of their hometown.\n",
    "- Print the name of the hometown in uppercase.\n",
    "- Print the first three characters of the hometown's name using slicing.\n",
    "- Print the name in reverse using slicing."
   ]
  },
  {
   "cell_type": "code",
   "execution_count": 10,
   "id": "1c00599f",
   "metadata": {},
   "outputs": [
    {
     "name": "stdout",
     "output_type": "stream",
     "text": [
      "What is the name of your hometown? Manila\n"
     ]
    }
   ],
   "source": [
    "hometown = input(\"What is the name of your hometown? \")"
   ]
  },
  {
   "cell_type": "code",
   "execution_count": 11,
   "id": "bfcf83ad",
   "metadata": {},
   "outputs": [
    {
     "data": {
      "text/plain": [
       "'MANILA'"
      ]
     },
     "execution_count": 11,
     "metadata": {},
     "output_type": "execute_result"
    }
   ],
   "source": [
    "hometown.upper()"
   ]
  },
  {
   "cell_type": "code",
   "execution_count": 13,
   "id": "47d5b65a",
   "metadata": {},
   "outputs": [
    {
     "data": {
      "text/plain": [
       "'Man'"
      ]
     },
     "execution_count": 13,
     "metadata": {},
     "output_type": "execute_result"
    }
   ],
   "source": [
    "hometown[0:3]"
   ]
  },
  {
   "cell_type": "code",
   "execution_count": 20,
   "id": "4b9a35b5",
   "metadata": {},
   "outputs": [
    {
     "data": {
      "text/plain": [
       "'alinaM'"
      ]
     },
     "execution_count": 20,
     "metadata": {},
     "output_type": "execute_result"
    }
   ],
   "source": [
    "hometown[::-1]"
   ]
  },
  {
   "cell_type": "markdown",
   "id": "d485db54",
   "metadata": {},
   "source": [
    "## **3. Numeric Operations and Input**\n",
    "\n",
    "- Prompt the user to enter a number.\n",
    "- Multiply the number by itself and print the result.\n",
    "- Calculating the square root."
   ]
  },
  {
   "cell_type": "code",
   "execution_count": 29,
   "id": "fe6f4ca0",
   "metadata": {},
   "outputs": [
    {
     "name": "stdout",
     "output_type": "stream",
     "text": [
      "Please enter in a number: 3\n",
      "Multiplied by itself:  9\n",
      "Calculated sqaureroot from multipled result: 3.0\n"
     ]
    }
   ],
   "source": [
    "number = int(input(\"Please enter in a number: \"))\n",
    "multiply = number * number \n",
    "print(\"Multiplied by itself: \",multiply)\n",
    "sqaureroot = multiply ** 0.5\n",
    "print(\"Calculated sqaureroot from multipled result:\", sqaureroot)"
   ]
  },
  {
   "cell_type": "markdown",
   "id": "c704bb2d",
   "metadata": {},
   "source": [
    "## **4. Boolean Evaluations**\n",
    "\n",
    "Print the result of the following evaluations:\n",
    "- 10 > 5\n",
    "- 10 == 10\n",
    "- 8 != 9\n"
   ]
  },
  {
   "cell_type": "code",
   "execution_count": 30,
   "id": "18056b8a",
   "metadata": {},
   "outputs": [
    {
     "data": {
      "text/plain": [
       "True"
      ]
     },
     "execution_count": 30,
     "metadata": {},
     "output_type": "execute_result"
    }
   ],
   "source": [
    "10 > 5   # 10 greater than 5"
   ]
  },
  {
   "cell_type": "code",
   "execution_count": 31,
   "id": "a69b38d2",
   "metadata": {},
   "outputs": [
    {
     "data": {
      "text/plain": [
       "True"
      ]
     },
     "execution_count": 31,
     "metadata": {},
     "output_type": "execute_result"
    }
   ],
   "source": [
    "10 == 10 # 10 is equal to 10 "
   ]
  },
  {
   "cell_type": "code",
   "execution_count": 32,
   "id": "793dfdf2",
   "metadata": {},
   "outputs": [
    {
     "data": {
      "text/plain": [
       "True"
      ]
     },
     "execution_count": 32,
     "metadata": {},
     "output_type": "execute_result"
    }
   ],
   "source": [
    "8!= 9    # 8 is not equal to 9 "
   ]
  },
  {
   "cell_type": "markdown",
   "id": "e09b1ec8",
   "metadata": {},
   "source": [
    "## **5. List Creation and Operations** \n",
    "\n",
    "- Create a list named colors containing the following items: red, blue, green.\n",
    "- Print the list.\n",
    "- Print the first item in the list.\n",
    "- Replace the second item in the list with yellow.\n",
    "- Print the list again.\n",
    "- Changing the last item using negative indexing."
   ]
  },
  {
   "cell_type": "code",
   "execution_count": 33,
   "id": "6e544898",
   "metadata": {},
   "outputs": [
    {
     "name": "stdout",
     "output_type": "stream",
     "text": [
      "['red', 'blue', 'green']\n"
     ]
    }
   ],
   "source": [
    "colors = [\"red\", \"blue\", \"green\"]\n",
    "print(colors)"
   ]
  },
  {
   "cell_type": "code",
   "execution_count": 34,
   "id": "7be6658a",
   "metadata": {},
   "outputs": [
    {
     "data": {
      "text/plain": [
       "'red'"
      ]
     },
     "execution_count": 34,
     "metadata": {},
     "output_type": "execute_result"
    }
   ],
   "source": [
    "colors[0]"
   ]
  },
  {
   "cell_type": "code",
   "execution_count": 35,
   "id": "be6e2e3e",
   "metadata": {},
   "outputs": [
    {
     "name": "stdout",
     "output_type": "stream",
     "text": [
      "['red', 'yellow', 'green']\n"
     ]
    }
   ],
   "source": [
    "colors[1]=\"yellow\"\n",
    "print(colors)"
   ]
  },
  {
   "cell_type": "code",
   "execution_count": 36,
   "id": "01d69d3e",
   "metadata": {},
   "outputs": [
    {
     "name": "stdout",
     "output_type": "stream",
     "text": [
      "['red', 'yellow', 'orange']\n"
     ]
    }
   ],
   "source": [
    "colors[-1] = \"orange\"\n",
    "print(colors)"
   ]
  },
  {
   "cell_type": "markdown",
   "id": "a0cc6b3b",
   "metadata": {},
   "source": [
    "## **6. Indexing and Slicing**\n",
    "\n",
    "- Given the list numbers = [10, 20, 30, 40, 50]\n",
    "- Print the third item from the list.\n",
    "- Using slicing, print the first two numbers.\n",
    "- Getting the last three numbers using negative indexing and slicing.\n"
   ]
  },
  {
   "cell_type": "code",
   "execution_count": 45,
   "id": "5adf2f2b",
   "metadata": {},
   "outputs": [
    {
     "data": {
      "text/plain": [
       "30"
      ]
     },
     "execution_count": 45,
     "metadata": {},
     "output_type": "execute_result"
    }
   ],
   "source": [
    "list = [10,20,30,40,50]\n",
    "list[2]"
   ]
  },
  {
   "cell_type": "code",
   "execution_count": 44,
   "id": "382ac3a9",
   "metadata": {},
   "outputs": [
    {
     "data": {
      "text/plain": [
       "[10, 20]"
      ]
     },
     "execution_count": 44,
     "metadata": {},
     "output_type": "execute_result"
    }
   ],
   "source": [
    "list[0:2]"
   ]
  },
  {
   "cell_type": "code",
   "execution_count": 55,
   "id": "c972ed5c",
   "metadata": {},
   "outputs": [
    {
     "data": {
      "text/plain": [
       "[50, 30, 10]"
      ]
     },
     "execution_count": 55,
     "metadata": {},
     "output_type": "execute_result"
    }
   ],
   "source": [
    "list[::-2]"
   ]
  },
  {
   "cell_type": "code",
   "execution_count": 60,
   "id": "1eeb4e42",
   "metadata": {},
   "outputs": [
    {
     "data": {
      "text/plain": [
       "[50, 40, 30]"
      ]
     },
     "execution_count": 60,
     "metadata": {},
     "output_type": "execute_result"
    }
   ],
   "source": [
    "list[:-4:-1]"
   ]
  },
  {
   "cell_type": "markdown",
   "id": "cf4fd45e",
   "metadata": {},
   "source": [
    "## **7. Manipulating Elements**\n",
    "\n",
    "- Given the list animals = ['cat', 'dog', 'bird']\n",
    "- Print the list.\n",
    "- Add fish to the end of the list.\n",
    "- Print the updated list."
   ]
  },
  {
   "cell_type": "code",
   "execution_count": 61,
   "id": "330a9d8d",
   "metadata": {},
   "outputs": [
    {
     "name": "stdout",
     "output_type": "stream",
     "text": [
      "['cat', 'dog', 'bird']\n"
     ]
    }
   ],
   "source": [
    "animals = ['cat','dog','bird']\n",
    "print(animals)"
   ]
  },
  {
   "cell_type": "code",
   "execution_count": 62,
   "id": "9cd7f9f7",
   "metadata": {},
   "outputs": [
    {
     "name": "stdout",
     "output_type": "stream",
     "text": [
      "['cat', 'dog', 'bird', 'fish']\n"
     ]
    }
   ],
   "source": [
    "animals.append(\"fish\")\n",
    "print(animals)"
   ]
  },
  {
   "cell_type": "markdown",
   "id": "ab114a22",
   "metadata": {},
   "source": [
    "## **8. Sorting**\n",
    "\n",
    "- Given the list random_numbers = [42, 8, 15, 23, 16]\n",
    "- Print the list.\n",
    "- Use the sort() method to sort the list.\n",
    "- Print the sorted list.\n",
    "- Print every second item from the sorted list."
   ]
  },
  {
   "cell_type": "code",
   "execution_count": 63,
   "id": "6c487556",
   "metadata": {},
   "outputs": [
    {
     "name": "stdout",
     "output_type": "stream",
     "text": [
      "[42, 8, 15, 23, 16]\n"
     ]
    }
   ],
   "source": [
    "random_numbers = [42,8,15,23,16]\n",
    "print(random_numbers)"
   ]
  },
  {
   "cell_type": "code",
   "execution_count": 65,
   "id": "b4aceec0",
   "metadata": {},
   "outputs": [
    {
     "name": "stdout",
     "output_type": "stream",
     "text": [
      "[8, 15, 16, 23, 42]\n"
     ]
    }
   ],
   "source": [
    "random_numbers.sort()\n",
    "print(random_numbers)"
   ]
  },
  {
   "cell_type": "code",
   "execution_count": 70,
   "id": "9f58735b",
   "metadata": {},
   "outputs": [
    {
     "data": {
      "text/plain": [
       "[8, 16, 42]"
      ]
     },
     "execution_count": 70,
     "metadata": {},
     "output_type": "execute_result"
    }
   ],
   "source": [
    "random_numbers[0:5:2]"
   ]
  }
 ],
 "metadata": {
  "kernelspec": {
   "display_name": "Python 3 (ipykernel)",
   "language": "python",
   "name": "python3"
  },
  "language_info": {
   "codemirror_mode": {
    "name": "ipython",
    "version": 3
   },
   "file_extension": ".py",
   "mimetype": "text/x-python",
   "name": "python",
   "nbconvert_exporter": "python",
   "pygments_lexer": "ipython3",
   "version": "3.11.4"
  }
 },
 "nbformat": 4,
 "nbformat_minor": 5
}
