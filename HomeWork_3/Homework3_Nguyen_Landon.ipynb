{
  "nbformat": 4,
  "nbformat_minor": 0,
  "metadata": {
    "colab": {
      "provenance": []
    },
    "kernelspec": {
      "name": "python3",
      "display_name": "Python 3"
    },
    "language_info": {
      "name": "python"
    }
  },
  "cells": [
    {
      "cell_type": "markdown",
      "source": [
        "#**Homework 3**\n",
        "###*ID: 1002144121*"
      ],
      "metadata": {
        "id": "JSc4fiL0wkeB"
      }
    },
    {
      "cell_type": "markdown",
      "source": [
        "##**1. Printing, Data Types, and Input**"
      ],
      "metadata": {
        "id": "fW6ozVnyVIeh"
      }
    },
    {
      "cell_type": "markdown",
      "source": [
        "1.1 Ask the user for their name and age"
      ],
      "metadata": {
        "id": "Mki8fFdrVTe4"
      }
    },
    {
      "cell_type": "code",
      "execution_count": 5,
      "metadata": {
        "id": "qMYyMPTVwb74",
        "colab": {
          "base_uri": "https://localhost:8080/"
        },
        "outputId": "add9a6f2-fcc1-41f9-91cc-55a9faa217ae"
      },
      "outputs": [
        {
          "name": "stdout",
          "output_type": "stream",
          "text": [
            "Enter your name: Landon\n",
            "Enter your age: 18\n"
          ]
        }
      ],
      "source": [
        "user_name = input(\"Enter your name: \")\n",
        "user_age = int(input(\"Enter your age: \"))"
      ]
    },
    {
      "cell_type": "markdown",
      "source": [
        "1.2 Print a statement saying: \"Hello, [name]. You are [age] years old.\""
      ],
      "metadata": {
        "id": "h5Wn9rfPWH0y"
      }
    },
    {
      "cell_type": "code",
      "source": [
        "print(\"Hello,\", user_name +\". You are\", user_age, \"years old.\")"
      ],
      "metadata": {
        "id": "sR9aepl7wr1P",
        "colab": {
          "base_uri": "https://localhost:8080/"
        },
        "outputId": "303d245e-2451-49e9-bf57-9c93da7310de"
      },
      "execution_count": 6,
      "outputs": [
        {
          "output_type": "stream",
          "name": "stdout",
          "text": [
            "Hello, Landon. You are 18 years old.\n"
          ]
        }
      ]
    },
    {
      "cell_type": "markdown",
      "source": [
        "1.3 Print the data type of each variable"
      ],
      "metadata": {
        "id": "I2KbCuT_W1W-"
      }
    },
    {
      "cell_type": "code",
      "source": [
        "print(type(user_name))\n",
        "print(type(user_age))"
      ],
      "metadata": {
        "colab": {
          "base_uri": "https://localhost:8080/"
        },
        "id": "C_cxUzuMWyJ_",
        "outputId": "9846b891-b869-48cf-f334-2be5068d20bb"
      },
      "execution_count": 7,
      "outputs": [
        {
          "output_type": "stream",
          "name": "stdout",
          "text": [
            "<class 'str'>\n",
            "<class 'int'>\n"
          ]
        }
      ]
    },
    {
      "cell_type": "markdown",
      "source": [
        "##**2. String Manipulations and Input**"
      ],
      "metadata": {
        "id": "2seL3Q02XcG6"
      }
    },
    {
      "cell_type": "markdown",
      "source": [
        "2.1 Ask the user for the name of their hometown."
      ],
      "metadata": {
        "id": "XVNKCAdrXxQd"
      }
    },
    {
      "cell_type": "code",
      "source": [
        "user_hometown = input(\"Enter the name of your hometown: \")"
      ],
      "metadata": {
        "colab": {
          "base_uri": "https://localhost:8080/"
        },
        "id": "2d4IYybHXMTZ",
        "outputId": "f3610968-4983-46b2-ec0d-2873bf68db3c"
      },
      "execution_count": 28,
      "outputs": [
        {
          "name": "stdout",
          "output_type": "stream",
          "text": [
            "Enter the name of your hometown: dallas\n"
          ]
        }
      ]
    },
    {
      "cell_type": "markdown",
      "source": [
        "2.2 Print the name of the hometown in uppercase"
      ],
      "metadata": {
        "id": "hEkbZUubYnBg"
      }
    },
    {
      "cell_type": "code",
      "source": [
        "print(user_hometown.upper())"
      ],
      "metadata": {
        "colab": {
          "base_uri": "https://localhost:8080/"
        },
        "id": "A8aKyWdaYD2T",
        "outputId": "6ed193df-0832-4988-a944-9f2a1657736d"
      },
      "execution_count": 29,
      "outputs": [
        {
          "output_type": "stream",
          "name": "stdout",
          "text": [
            "DALLAS\n"
          ]
        }
      ]
    },
    {
      "cell_type": "markdown",
      "source": [
        "2.3 Print the first three characters of the hometown's name using slicing."
      ],
      "metadata": {
        "id": "MWrcenudYtDF"
      }
    },
    {
      "cell_type": "code",
      "source": [
        "print(user_hometown[0:3])"
      ],
      "metadata": {
        "colab": {
          "base_uri": "https://localhost:8080/"
        },
        "id": "T3Kq6s0zYN0a",
        "outputId": "c15dc206-45a5-4989-dda5-0912bdabf831"
      },
      "execution_count": 30,
      "outputs": [
        {
          "output_type": "stream",
          "name": "stdout",
          "text": [
            "dal\n"
          ]
        }
      ]
    },
    {
      "cell_type": "markdown",
      "source": [
        "2.4 Print the name in reverse using slicing"
      ],
      "metadata": {
        "id": "gQfeTL1haWvN"
      }
    },
    {
      "cell_type": "code",
      "source": [
        "print(user_hometown[-1::-1])"
      ],
      "metadata": {
        "colab": {
          "base_uri": "https://localhost:8080/"
        },
        "id": "oUlSh3tHY5Zd",
        "outputId": "6274cf77-1173-4b8a-9680-518d353d7b78"
      },
      "execution_count": 48,
      "outputs": [
        {
          "output_type": "stream",
          "name": "stdout",
          "text": [
            "sallad\n"
          ]
        }
      ]
    },
    {
      "cell_type": "markdown",
      "source": [
        "##**3. Numeric Operations and Input**"
      ],
      "metadata": {
        "id": "IZa9W1iHh4Bb"
      }
    },
    {
      "cell_type": "markdown",
      "source": [
        "3.1 Prompt the user to enter a number"
      ],
      "metadata": {
        "id": "ajJEscbgiHXT"
      }
    },
    {
      "cell_type": "code",
      "source": [
        "num = int(input(\"Enter a number: \"))"
      ],
      "metadata": {
        "colab": {
          "base_uri": "https://localhost:8080/"
        },
        "id": "KEnnIfXsaq1h",
        "outputId": "32b1d417-1992-4298-bdf1-54639b48ff4f"
      },
      "execution_count": 50,
      "outputs": [
        {
          "name": "stdout",
          "output_type": "stream",
          "text": [
            "Enter a number: 12\n"
          ]
        }
      ]
    },
    {
      "cell_type": "markdown",
      "source": [
        "3.2 Multiply the number by itself and print the result"
      ],
      "metadata": {
        "id": "0ZsJ7nH6iio2"
      }
    },
    {
      "cell_type": "code",
      "source": [
        "print(num*num)"
      ],
      "metadata": {
        "colab": {
          "base_uri": "https://localhost:8080/"
        },
        "id": "b9NhXJqFiU1z",
        "outputId": "b5cc0689-c705-4887-9e0f-5a02c352e262"
      },
      "execution_count": 52,
      "outputs": [
        {
          "output_type": "stream",
          "name": "stdout",
          "text": [
            "144\n"
          ]
        }
      ]
    },
    {
      "cell_type": "markdown",
      "source": [
        "3.3 Calculating the square root"
      ],
      "metadata": {
        "id": "J5-oLoxsiuZl"
      }
    },
    {
      "cell_type": "code",
      "source": [
        "import math\n",
        "math.sqrt(num)"
      ],
      "metadata": {
        "colab": {
          "base_uri": "https://localhost:8080/"
        },
        "id": "6masmcuJisuh",
        "outputId": "8a72312e-01bb-4954-c836-9449588d8abd"
      },
      "execution_count": 55,
      "outputs": [
        {
          "output_type": "execute_result",
          "data": {
            "text/plain": [
              "3.4641016151377544"
            ]
          },
          "metadata": {},
          "execution_count": 55
        }
      ]
    },
    {
      "cell_type": "markdown",
      "source": [
        "##**4. Boolean Evaluations**"
      ],
      "metadata": {
        "id": "KCPzDPtlkulQ"
      }
    },
    {
      "cell_type": "markdown",
      "source": [
        "4.1\n",
        "Print the result of the following evaluations:\n",
        "\n",
        "10 > 5\n",
        "\n",
        "10 == 10\n",
        "\n",
        "8 != 9"
      ],
      "metadata": {
        "id": "Kljx0XLpk4Ad"
      }
    },
    {
      "cell_type": "code",
      "source": [
        "10>5"
      ],
      "metadata": {
        "colab": {
          "base_uri": "https://localhost:8080/"
        },
        "id": "LirotYtRkqvs",
        "outputId": "c8bba2e1-ac5c-4088-8ef1-1dd044f9cfe9"
      },
      "execution_count": 56,
      "outputs": [
        {
          "output_type": "execute_result",
          "data": {
            "text/plain": [
              "True"
            ]
          },
          "metadata": {},
          "execution_count": 56
        }
      ]
    },
    {
      "cell_type": "code",
      "source": [
        "10==10"
      ],
      "metadata": {
        "colab": {
          "base_uri": "https://localhost:8080/"
        },
        "id": "DGI0iV_2lNQx",
        "outputId": "7d837b09-90a5-4757-98a1-d0c6bfc0e9c9"
      },
      "execution_count": 57,
      "outputs": [
        {
          "output_type": "execute_result",
          "data": {
            "text/plain": [
              "True"
            ]
          },
          "metadata": {},
          "execution_count": 57
        }
      ]
    },
    {
      "cell_type": "code",
      "source": [
        "8!=9"
      ],
      "metadata": {
        "colab": {
          "base_uri": "https://localhost:8080/"
        },
        "id": "rrCG0JtelORS",
        "outputId": "cfc1f8fa-9e80-478f-c71c-83c3c387160f"
      },
      "execution_count": 58,
      "outputs": [
        {
          "output_type": "execute_result",
          "data": {
            "text/plain": [
              "True"
            ]
          },
          "metadata": {},
          "execution_count": 58
        }
      ]
    },
    {
      "cell_type": "markdown",
      "source": [
        "##**5. List Creation and Operations**"
      ],
      "metadata": {
        "id": "9z7Id7GilTau"
      }
    },
    {
      "cell_type": "markdown",
      "source": [
        "5.1 Create a list named colors containing the following items: red, blue, green"
      ],
      "metadata": {
        "id": "oISJRChxqEa0"
      }
    },
    {
      "cell_type": "code",
      "source": [
        "colors = [\"red\", \"blue\", \"green\"]"
      ],
      "metadata": {
        "id": "pzd3HVhXlPkf"
      },
      "execution_count": 59,
      "outputs": []
    },
    {
      "cell_type": "markdown",
      "source": [
        "5.2 Print the list"
      ],
      "metadata": {
        "id": "DvoJ1DbiqPeR"
      }
    },
    {
      "cell_type": "code",
      "source": [
        "print(colors)"
      ],
      "metadata": {
        "colab": {
          "base_uri": "https://localhost:8080/"
        },
        "id": "YdkhfoG_qOxO",
        "outputId": "f23fbff6-5fc1-4a6e-9a33-cabdaa1f62bc"
      },
      "execution_count": 60,
      "outputs": [
        {
          "output_type": "stream",
          "name": "stdout",
          "text": [
            "['red', 'blue', 'green']\n"
          ]
        }
      ]
    },
    {
      "cell_type": "markdown",
      "source": [
        "5.3 Print the first item in the list"
      ],
      "metadata": {
        "id": "IGNnyK-QqVoh"
      }
    },
    {
      "cell_type": "code",
      "source": [
        "print(colors[0])"
      ],
      "metadata": {
        "colab": {
          "base_uri": "https://localhost:8080/"
        },
        "id": "HLR3k5ALqNWg",
        "outputId": "915d2e77-4c5d-4c2b-a464-0e4304cab42e"
      },
      "execution_count": 61,
      "outputs": [
        {
          "output_type": "stream",
          "name": "stdout",
          "text": [
            "red\n"
          ]
        }
      ]
    },
    {
      "cell_type": "markdown",
      "source": [
        "5.4 Replace the second item in the list with yellow"
      ],
      "metadata": {
        "id": "mutg06k5qi6m"
      }
    },
    {
      "cell_type": "code",
      "source": [
        "colors[1] = \"yellow\""
      ],
      "metadata": {
        "id": "pASwev_vqbgw"
      },
      "execution_count": 63,
      "outputs": []
    },
    {
      "cell_type": "markdown",
      "source": [
        "5.5 Print the list again"
      ],
      "metadata": {
        "id": "c8TkCaAVqw6_"
      }
    },
    {
      "cell_type": "code",
      "source": [
        "print(colors)"
      ],
      "metadata": {
        "colab": {
          "base_uri": "https://localhost:8080/"
        },
        "id": "E45JSq3lqpGT",
        "outputId": "5f0ec074-c8ae-4352-d917-378ba2238598"
      },
      "execution_count": 65,
      "outputs": [
        {
          "output_type": "stream",
          "name": "stdout",
          "text": [
            "['red', 'yellow', 'green']\n"
          ]
        }
      ]
    },
    {
      "cell_type": "markdown",
      "source": [
        "5.6 Changing the last item using negative indexing"
      ],
      "metadata": {
        "id": "lZ1XV7CFq5LU"
      }
    },
    {
      "cell_type": "code",
      "source": [
        "colors[-1] = \"orange\""
      ],
      "metadata": {
        "id": "prRtJ0aVq3PO"
      },
      "execution_count": 86,
      "outputs": []
    },
    {
      "cell_type": "markdown",
      "source": [
        "##**6. Indexing and Slicing**"
      ],
      "metadata": {
        "id": "mBIcVXbnrPqc"
      }
    },
    {
      "cell_type": "markdown",
      "source": [
        "6.1 Given the list numbers = [10, 20, 30, 40, 50]"
      ],
      "metadata": {
        "id": "_Zn-Rgocrcde"
      }
    },
    {
      "cell_type": "code",
      "source": [
        "numbers = [10,20,30,40,50]"
      ],
      "metadata": {
        "id": "Mw1vGjznrLIf"
      },
      "execution_count": 67,
      "outputs": []
    },
    {
      "cell_type": "markdown",
      "source": [
        "6.2 Print the third item from the list"
      ],
      "metadata": {
        "id": "arrrTUNXrjyl"
      }
    },
    {
      "cell_type": "code",
      "source": [
        "print(numbers[2])"
      ],
      "metadata": {
        "colab": {
          "base_uri": "https://localhost:8080/"
        },
        "id": "OKOQtya1rjHO",
        "outputId": "bb1b011b-73cd-4332-ff40-d61d52277a90"
      },
      "execution_count": 68,
      "outputs": [
        {
          "output_type": "stream",
          "name": "stdout",
          "text": [
            "30\n"
          ]
        }
      ]
    },
    {
      "cell_type": "markdown",
      "source": [
        "6.3 Using slicing, print the first two numbers"
      ],
      "metadata": {
        "id": "RqZENJRcrr3L"
      }
    },
    {
      "cell_type": "code",
      "source": [
        "print(numbers[1:3])"
      ],
      "metadata": {
        "colab": {
          "base_uri": "https://localhost:8080/"
        },
        "id": "SOovuMc5rq1z",
        "outputId": "02e1b42e-1798-4736-fc49-cd1b42e9a225"
      },
      "execution_count": 70,
      "outputs": [
        {
          "output_type": "stream",
          "name": "stdout",
          "text": [
            "[20, 30]\n"
          ]
        }
      ]
    },
    {
      "cell_type": "markdown",
      "source": [
        "6.4 Getting the last three numbers using negative indexing and slicing"
      ],
      "metadata": {
        "id": "Wy5qHQu1sEE_"
      }
    },
    {
      "cell_type": "code",
      "source": [
        "print(numbers[-1:-4:-1])"
      ],
      "metadata": {
        "colab": {
          "base_uri": "https://localhost:8080/"
        },
        "id": "PnQ042mBr79y",
        "outputId": "621f6b4a-38c3-4554-c523-0604206e5222"
      },
      "execution_count": 73,
      "outputs": [
        {
          "output_type": "stream",
          "name": "stdout",
          "text": [
            "[50, 40, 30]\n"
          ]
        }
      ]
    },
    {
      "cell_type": "markdown",
      "source": [
        "##**7. Manipulating Elements**"
      ],
      "metadata": {
        "id": "5u1QP-tjsY_u"
      }
    },
    {
      "cell_type": "markdown",
      "source": [
        "7.1 Given the list animals = ['cat', 'dog', 'bird']"
      ],
      "metadata": {
        "id": "dtdFdrZdsfUB"
      }
    },
    {
      "cell_type": "code",
      "source": [
        "animals = ['cat', 'dog', 'bird']"
      ],
      "metadata": {
        "id": "1BIM_p7isPT7"
      },
      "execution_count": 74,
      "outputs": []
    },
    {
      "cell_type": "markdown",
      "source": [
        "7.2 Print the list"
      ],
      "metadata": {
        "id": "DcR11UWgsmSc"
      }
    },
    {
      "cell_type": "code",
      "source": [
        "print(animals)"
      ],
      "metadata": {
        "colab": {
          "base_uri": "https://localhost:8080/"
        },
        "id": "cRKire-Osj2u",
        "outputId": "6725e4f7-3517-445f-febe-4836a3265263"
      },
      "execution_count": 75,
      "outputs": [
        {
          "output_type": "stream",
          "name": "stdout",
          "text": [
            "['cat', 'dog', 'bird']\n"
          ]
        }
      ]
    },
    {
      "cell_type": "markdown",
      "source": [
        "7.3 Add fish to the end of the list"
      ],
      "metadata": {
        "id": "rIreJ_6xsq0O"
      }
    },
    {
      "cell_type": "code",
      "source": [
        "animals.append('fish')"
      ],
      "metadata": {
        "id": "fm8Wx3-lsp_q"
      },
      "execution_count": 77,
      "outputs": []
    },
    {
      "cell_type": "markdown",
      "source": [
        "7.4 Print the updated list"
      ],
      "metadata": {
        "id": "W72byHHotARy"
      }
    },
    {
      "cell_type": "code",
      "source": [
        "print(animals)"
      ],
      "metadata": {
        "colab": {
          "base_uri": "https://localhost:8080/"
        },
        "id": "VVbDi1j8sxlU",
        "outputId": "a15680ad-44c3-4dd5-8837-ec8365acd5a6"
      },
      "execution_count": 78,
      "outputs": [
        {
          "output_type": "stream",
          "name": "stdout",
          "text": [
            "['cat', 'dog', 'bird', 'fish']\n"
          ]
        }
      ]
    },
    {
      "cell_type": "markdown",
      "source": [
        "##**8. Sorting**"
      ],
      "metadata": {
        "id": "wKeswYbZtI-o"
      }
    },
    {
      "cell_type": "markdown",
      "source": [
        "8.1 Given the list random_numbers = [42, 8, 15, 23, 16]"
      ],
      "metadata": {
        "id": "lMOLw91AtZN7"
      }
    },
    {
      "cell_type": "code",
      "source": [
        "random_numbers = [42, 8, 15, 23, 16]"
      ],
      "metadata": {
        "id": "hoZIPJGatEk8"
      },
      "execution_count": 79,
      "outputs": []
    },
    {
      "cell_type": "markdown",
      "source": [
        "8.2 Print the list"
      ],
      "metadata": {
        "id": "PIeKA2ZntfFX"
      }
    },
    {
      "cell_type": "code",
      "source": [
        "print(random_numbers)"
      ],
      "metadata": {
        "colab": {
          "base_uri": "https://localhost:8080/"
        },
        "id": "V1Zb7EOBteXY",
        "outputId": "a2beabfe-b7d7-4a68-e233-ddb26c9547bc"
      },
      "execution_count": 80,
      "outputs": [
        {
          "output_type": "stream",
          "name": "stdout",
          "text": [
            "[42, 8, 15, 23, 16]\n"
          ]
        }
      ]
    },
    {
      "cell_type": "markdown",
      "source": [
        "8.3 Use the sort() method to sort the list."
      ],
      "metadata": {
        "id": "Ql0LHfTZtnm3"
      }
    },
    {
      "cell_type": "code",
      "source": [
        "random_numbers.sort()"
      ],
      "metadata": {
        "id": "3b5TnUAltm8w"
      },
      "execution_count": 81,
      "outputs": []
    },
    {
      "cell_type": "markdown",
      "source": [
        "8.4 Print the sorted list"
      ],
      "metadata": {
        "id": "Xx1TP-futxVn"
      }
    },
    {
      "cell_type": "code",
      "source": [
        "print(random_numbers)"
      ],
      "metadata": {
        "colab": {
          "base_uri": "https://localhost:8080/"
        },
        "id": "FqvqxvPHtvJ2",
        "outputId": "7291cff3-7d68-4b57-d05e-30580ac51912"
      },
      "execution_count": 82,
      "outputs": [
        {
          "output_type": "stream",
          "name": "stdout",
          "text": [
            "[8, 15, 16, 23, 42]\n"
          ]
        }
      ]
    },
    {
      "cell_type": "markdown",
      "source": [
        "8.5 Print every second item from the sorted list"
      ],
      "metadata": {
        "id": "Wl0dSOHdt4Vq"
      }
    },
    {
      "cell_type": "code",
      "source": [
        "print(random_numbers[1::2])"
      ],
      "metadata": {
        "colab": {
          "base_uri": "https://localhost:8080/"
        },
        "id": "pcsUjpuut7yA",
        "outputId": "5e736060-7ba0-4245-bfc7-d7dbb3f5f121"
      },
      "execution_count": 88,
      "outputs": [
        {
          "output_type": "stream",
          "name": "stdout",
          "text": [
            "[15, 23]\n"
          ]
        }
      ]
    },
    {
      "cell_type": "code",
      "source": [],
      "metadata": {
        "id": "bK_68fL8t-sZ"
      },
      "execution_count": null,
      "outputs": []
    }
  ]
}