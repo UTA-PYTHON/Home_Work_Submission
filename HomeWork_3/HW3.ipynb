{
 "cells": [
  {
   "cell_type": "markdown",
   "id": "ac3ac6db",
   "metadata": {},
   "source": [
    "1. Printing, Data Types, and Input\n",
    "\n",
    "\n",
    "Ask the user for their name and their age.\n",
    "Print a statement saying: \"Hello, [name]. You are [age] years old.\"\n",
    "Print the data type of each variable."
   ]
  },
  {
   "cell_type": "code",
   "execution_count": 1,
   "id": "8c10ad28",
   "metadata": {},
   "outputs": [
    {
     "name": "stdout",
     "output_type": "stream",
     "text": [
      "What is your name?Tyler\n",
      "And your age?22\n",
      "Hello,   Tyler . You are 22 years old.\n",
      "<class 'str'>\n",
      "<class 'str'>\n"
     ]
    }
   ],
   "source": [
    "name = input(\"What is your name?\")\n",
    "age = input(\"And your age?\")\n",
    "print(\"Hello,\", name, \".\", \"You are\", age, \"years old.\")\n",
    "print(type(name))\n",
    "print(type(age))"
   ]
  },
  {
   "cell_type": "markdown",
   "id": "04c66441",
   "metadata": {},
   "source": [
    "2. String Manipulations and Input\n",
    "\n",
    "\n",
    "Ask the user for the name of their hometown.\n",
    "Print the name of the hometown in uppercase.\n",
    "Print the first three characters of the hometown's name using slicing.\n",
    "Printing the name in reverse using slicing."
   ]
  },
  {
   "cell_type": "code",
   "execution_count": 18,
   "id": "5adb87ba",
   "metadata": {},
   "outputs": [
    {
     "name": "stdout",
     "output_type": "stream",
     "text": [
      "What is the name of your hometown?aurora\n",
      "AURORA\n",
      "aur\n",
      "arorua\n"
     ]
    }
   ],
   "source": [
    "hmtwn = input(\"What is the name of your hometown?\")\n",
    "print(hmtwn.upper())\n",
    "print(hmtwn[:3])\n",
    "print(hmtwn[::-1])"
   ]
  },
  {
   "cell_type": "markdown",
   "id": "0182fba5",
   "metadata": {},
   "source": [
    "Numeric Operations and Input\n",
    "\n",
    "\n",
    "Prompt the user to enter a number.\n",
    "Multiply the number by itself and print the result.\n",
    "Calculating the square root."
   ]
  },
  {
   "cell_type": "code",
   "execution_count": 20,
   "id": "695c921e",
   "metadata": {},
   "outputs": [
    {
     "name": "stdout",
     "output_type": "stream",
     "text": [
      "Enter an integer:  9\n",
      "81\n",
      "9.0\n"
     ]
    }
   ],
   "source": [
    "num = int(input(\"Enter an integer:  \"))\n",
    "sqr = num * num\n",
    "print(sqr)\n",
    "square_root = sqr**(1/2)\n",
    "print(square_root)\n",
    "\n"
   ]
  },
  {
   "cell_type": "markdown",
   "id": "4f526aa3",
   "metadata": {},
   "source": [
    "4. Boolean Evaluations\n",
    "\n",
    "\n",
    "Print the result of the following evaluations:\n",
    "10 > 5\n",
    "10 == 10\n",
    "8 != 9"
   ]
  },
  {
   "cell_type": "code",
   "execution_count": 1,
   "id": "2a357755",
   "metadata": {},
   "outputs": [
    {
     "name": "stdout",
     "output_type": "stream",
     "text": [
      "True\n",
      "True\n",
      "True\n"
     ]
    }
   ],
   "source": [
    "i = 10\n",
    "j = 5\n",
    "k = 8\n",
    "l = 9\n",
    "print(10>5)\n",
    "print(10==10)\n",
    "print(8 !=9)"
   ]
  },
  {
   "cell_type": "markdown",
   "id": "e70b0841",
   "metadata": {},
   "source": [
    "5. List Creation and Operations\n",
    "\n",
    "\n",
    "Create a list named colors containing the following items: red, blue, green.\n",
    "Print the list.\n",
    "Print the first item in the list.\n",
    "Replace the second item in the list with yellow.\n",
    "Print the list again.\n",
    "Changing the last item using negative indexing."
   ]
  },
  {
   "cell_type": "code",
   "execution_count": 3,
   "id": "2ecd8aa9",
   "metadata": {},
   "outputs": [
    {
     "name": "stdout",
     "output_type": "stream",
     "text": [
      "['red', 'blue', 'green']\n",
      "red\n",
      "['red', 'yellow', 'green']\n",
      "['red', 'yellow', 'purple']\n"
     ]
    }
   ],
   "source": [
    "colors = [\"red\", \"blue\", \"green\"]\n",
    "print(colors)\n",
    "print(colors[0])\n",
    "colors[1] = \"yellow\"\n",
    "print(colors)\n",
    "colors[-1] = \"purple\"\n",
    "print(colors)"
   ]
  },
  {
   "cell_type": "markdown",
   "id": "fdd7e15b",
   "metadata": {},
   "source": [
    "6. Indexing and Slicing\n",
    "\n",
    "\n",
    "Given the list numbers = [10, 20, 30, 40, 50]\n",
    "Print the third item from the list.\n",
    "Using slicing, print the first two numbers.\n",
    "Getting the last three numbers using negative indexing and slicing."
   ]
  },
  {
   "cell_type": "code",
   "execution_count": 7,
   "id": "871df10c",
   "metadata": {},
   "outputs": [
    {
     "name": "stdout",
     "output_type": "stream",
     "text": [
      "30\n",
      "[10, 20]\n",
      "[30, 40, 50]\n"
     ]
    }
   ],
   "source": [
    "numbers = [10, 20, 30, 40, 50]\n",
    "print(numbers[2])\n",
    "print(numbers[:2])\n",
    "print(numbers[-3::])"
   ]
  },
  {
   "cell_type": "markdown",
   "id": "a57fd3ae",
   "metadata": {},
   "source": [
    "7. Manipulating Elements\n",
    "\n",
    "\n",
    "Given the list animals = ['cat', 'dog', 'bird']\n",
    "Print the list.\n",
    "Add fish to the end of the list.\n",
    "Print the updated list."
   ]
  },
  {
   "cell_type": "code",
   "execution_count": 9,
   "id": "1a28eb73",
   "metadata": {},
   "outputs": [
    {
     "name": "stdout",
     "output_type": "stream",
     "text": [
      "['cat', 'dog', 'bird']\n",
      "['cat', 'dog', 'bird', 'fish']\n"
     ]
    }
   ],
   "source": [
    "animals = [\"cat\", \"dog\", \"bird\"]\n",
    "print(animals)\n",
    "animals.append(\"fish\")\n",
    "print(animals)"
   ]
  },
  {
   "cell_type": "markdown",
   "id": "c1626ff5",
   "metadata": {},
   "source": [
    "8. Sorting\n",
    "\n",
    "\n",
    "Given the list random_numbers = [42, 8, 15, 23, 16]\n",
    "Print the list.\n",
    "Use the sort() method to sort the list.\n",
    "Print the sorted list.\n",
    "Print every second item from the sorted list."
   ]
  },
  {
   "cell_type": "code",
   "execution_count": 13,
   "id": "f22bb6d6",
   "metadata": {},
   "outputs": [
    {
     "name": "stdout",
     "output_type": "stream",
     "text": [
      "[42, 8, 15, 23, 16]\n",
      "[8, 15, 16, 23, 42]\n",
      "[8, 16, 42]\n"
     ]
    }
   ],
   "source": [
    "random_numbers = [42, 8, 15, 23, 16]\n",
    "print(random_numbers)\n",
    "random_numbers.sort()\n",
    "print(random_numbers)\n",
    "print(random_numbers[0:5:2])"
   ]
  },
  {
   "cell_type": "code",
   "execution_count": null,
   "id": "b3764cd1",
   "metadata": {},
   "outputs": [],
   "source": []
  }
 ],
 "metadata": {
  "kernelspec": {
   "display_name": "Python 3 (ipykernel)",
   "language": "python",
   "name": "python3"
  },
  "language_info": {
   "codemirror_mode": {
    "name": "ipython",
    "version": 3
   },
   "file_extension": ".py",
   "mimetype": "text/x-python",
   "name": "python",
   "nbconvert_exporter": "python",
   "pygments_lexer": "ipython3",
   "version": "3.11.4"
  }
 },
 "nbformat": 4,
 "nbformat_minor": 5
}
