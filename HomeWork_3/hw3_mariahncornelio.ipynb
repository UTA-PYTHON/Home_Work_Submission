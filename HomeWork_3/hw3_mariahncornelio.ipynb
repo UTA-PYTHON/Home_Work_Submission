{
 "cells": [
  {
   "cell_type": "markdown",
   "id": "d90254cd",
   "metadata": {},
   "source": [
    "# Homework 3\n",
    "## Mariah Noelle Cornelio\n",
    "\n",
    "### 1. Printing, Data Types, and Input\n",
    "\n",
    "- Ask the user for their name and their age. \n",
    "- Print a statement saying: \"Hello, [name]. You are [age] years old.\"\n",
    "- Print the data type of each variable."
   ]
  },
  {
   "cell_type": "code",
   "execution_count": 56,
   "id": "887e5c2a",
   "metadata": {},
   "outputs": [
    {
     "name": "stdout",
     "output_type": "stream",
     "text": [
      "What is your name? Mariah\n",
      "What is your age? 19\n",
      "Hello, Mariah . You are 19 years old.\n"
     ]
    }
   ],
   "source": [
    "name = input(\"What is your name? \")\n",
    "age = int(input(\"What is your age? \"))\n",
    "print(\"Hello,\", name, \". You are\", age, \"years old.\")"
   ]
  },
  {
   "cell_type": "code",
   "execution_count": 54,
   "id": "d2e4a6a0",
   "metadata": {},
   "outputs": [
    {
     "data": {
      "text/plain": [
       "str"
      ]
     },
     "execution_count": 54,
     "metadata": {},
     "output_type": "execute_result"
    }
   ],
   "source": [
    "type(name)"
   ]
  },
  {
   "cell_type": "code",
   "execution_count": 55,
   "id": "8d10020d",
   "metadata": {},
   "outputs": [
    {
     "data": {
      "text/plain": [
       "int"
      ]
     },
     "execution_count": 55,
     "metadata": {},
     "output_type": "execute_result"
    }
   ],
   "source": [
    "type(age)"
   ]
  },
  {
   "cell_type": "markdown",
   "id": "e323a40f",
   "metadata": {},
   "source": [
    "___"
   ]
  },
  {
   "cell_type": "markdown",
   "id": "a58862a9",
   "metadata": {},
   "source": [
    "### 2. String Manipulations and Input\n",
    "\n",
    "- Ask the user for the name of their hometown.\n",
    "- Print the name of the hometown in uppercase.\n",
    "- Print the first three characters of the hometown's name using slicing.\n",
    "- Print the name in reverse using slicing.\n"
   ]
  },
  {
   "cell_type": "code",
   "execution_count": 9,
   "id": "395a1479",
   "metadata": {},
   "outputs": [
    {
     "name": "stdout",
     "output_type": "stream",
     "text": [
      "What is your hometown? Cebu\n",
      "Your hometown in uppercase is:  CEBU\n",
      "The first 3 characters of your hometown are:  Ceb\n",
      "Your hometown in reverse is:  ubeC\n"
     ]
    }
   ],
   "source": [
    "hometown = input(\"What is your hometown? \")\n",
    "hometown_upper = hometown.upper()\n",
    "print(\"Your hometown in uppercase is: \", hometown_upper)\n",
    "\n",
    "hometown_first3char = hometown[0:3]\n",
    "print(\"The first 3 characters of your hometown are: \", hometown_first3char)\n",
    "\n",
    "hometown_reverse = hometown[::-1]\n",
    "print(\"Your hometown in reverse is: \", hometown_reverse)"
   ]
  },
  {
   "cell_type": "markdown",
   "id": "480592c6",
   "metadata": {},
   "source": [
    "___"
   ]
  },
  {
   "cell_type": "markdown",
   "id": "52c30518",
   "metadata": {},
   "source": [
    "### 3. Numeric Operations and Input\n",
    "\n",
    "- Prompt the user to enter a number.\n",
    "- Multiply the number by itself and print the result.\n",
    "- Calculate the square root. "
   ]
  },
  {
   "cell_type": "code",
   "execution_count": 19,
   "id": "7e3be816",
   "metadata": {},
   "outputs": [
    {
     "name": "stdout",
     "output_type": "stream",
     "text": [
      "Choose any number: 16\n",
      "The number you chose multiplied by itself is 256\n",
      "The square root of the number you chose is 4.0\n"
     ]
    }
   ],
   "source": [
    "number = int(input(\"Choose any number: \"))\n",
    "square = int(number**2)\n",
    "print(\"The number you chose multiplied by itself is\", square)\n",
    "\n",
    "square_root = number**0.5\n",
    "# The sqrt() function doesn't work on Jupyter Notebook so I used this alternative formula\n",
    "print(\"The square root of the number you chose is\", square_root)"
   ]
  },
  {
   "cell_type": "markdown",
   "id": "ac27d5cf",
   "metadata": {},
   "source": [
    "___"
   ]
  },
  {
   "cell_type": "markdown",
   "id": "167a11fd",
   "metadata": {},
   "source": [
    "### 4. Boolean Evaluations\n",
    "\n",
    "- Print the result of the following evaluations:"
   ]
  },
  {
   "cell_type": "code",
   "execution_count": 22,
   "id": "6df6c97d",
   "metadata": {},
   "outputs": [
    {
     "data": {
      "text/plain": [
       "True"
      ]
     },
     "execution_count": 22,
     "metadata": {},
     "output_type": "execute_result"
    }
   ],
   "source": [
    "10 > 5"
   ]
  },
  {
   "cell_type": "code",
   "execution_count": 23,
   "id": "d0bd8f38",
   "metadata": {},
   "outputs": [
    {
     "data": {
      "text/plain": [
       "True"
      ]
     },
     "execution_count": 23,
     "metadata": {},
     "output_type": "execute_result"
    }
   ],
   "source": [
    "10 == 10"
   ]
  },
  {
   "cell_type": "code",
   "execution_count": 24,
   "id": "5a61b1e3",
   "metadata": {},
   "outputs": [
    {
     "data": {
      "text/plain": [
       "True"
      ]
     },
     "execution_count": 24,
     "metadata": {},
     "output_type": "execute_result"
    }
   ],
   "source": [
    "8 != 9"
   ]
  },
  {
   "cell_type": "markdown",
   "id": "344d6e2b",
   "metadata": {},
   "source": [
    "___"
   ]
  },
  {
   "cell_type": "markdown",
   "id": "518dec04",
   "metadata": {},
   "source": [
    "### 5. List Creation and Operations\n",
    "\n",
    "- Create a list named colors containing the following items: red, blue, green.\n",
    "- Print the list.\n",
    "- Print the first item in the list. \n",
    "- Replace the second item in the list with yellow.\n",
    "- Print the list again.\n",
    "- Change the last item using negative indexing.\n"
   ]
  },
  {
   "cell_type": "code",
   "execution_count": 29,
   "id": "116ed98d",
   "metadata": {},
   "outputs": [
    {
     "data": {
      "text/plain": [
       "['red', 'blue', 'green']"
      ]
     },
     "execution_count": 29,
     "metadata": {},
     "output_type": "execute_result"
    }
   ],
   "source": [
    "colors = [\"red\", \"blue\", \"green\"]\n",
    "colors"
   ]
  },
  {
   "cell_type": "code",
   "execution_count": 30,
   "id": "12943e88",
   "metadata": {},
   "outputs": [
    {
     "data": {
      "text/plain": [
       "'red'"
      ]
     },
     "execution_count": 30,
     "metadata": {},
     "output_type": "execute_result"
    }
   ],
   "source": [
    "colors[0]"
   ]
  },
  {
   "cell_type": "code",
   "execution_count": 31,
   "id": "a5b679d9",
   "metadata": {},
   "outputs": [
    {
     "data": {
      "text/plain": [
       "['red', 'yellow', 'green']"
      ]
     },
     "execution_count": 31,
     "metadata": {},
     "output_type": "execute_result"
    }
   ],
   "source": [
    "colors[1] = \"yellow\"\n",
    "colors"
   ]
  },
  {
   "cell_type": "code",
   "execution_count": 32,
   "id": "717e714f",
   "metadata": {},
   "outputs": [
    {
     "data": {
      "text/plain": [
       "['red', 'yellow', 'purple']"
      ]
     },
     "execution_count": 32,
     "metadata": {},
     "output_type": "execute_result"
    }
   ],
   "source": [
    "colors[-1] = \"purple\"\n",
    "colors"
   ]
  },
  {
   "cell_type": "markdown",
   "id": "fb219f4e",
   "metadata": {},
   "source": [
    "___"
   ]
  },
  {
   "cell_type": "markdown",
   "id": "18069a02",
   "metadata": {},
   "source": [
    "### 6. Indexing and Slicing\n",
    "\n",
    "- Given the list numbers = [10,20,30,40,50]\n",
    "- Print the third item from the list. \n",
    "- Using slicing, print the first two numbers. \n",
    "- Get the last three numbers using negativing index and slicing."
   ]
  },
  {
   "cell_type": "code",
   "execution_count": 33,
   "id": "be3544ad",
   "metadata": {},
   "outputs": [
    {
     "data": {
      "text/plain": [
       "30"
      ]
     },
     "execution_count": 33,
     "metadata": {},
     "output_type": "execute_result"
    }
   ],
   "source": [
    "numbers = [10,20,30,40,50]\n",
    "numbers[2]"
   ]
  },
  {
   "cell_type": "code",
   "execution_count": 34,
   "id": "aa09c440",
   "metadata": {},
   "outputs": [
    {
     "data": {
      "text/plain": [
       "[10, 20]"
      ]
     },
     "execution_count": 34,
     "metadata": {},
     "output_type": "execute_result"
    }
   ],
   "source": [
    "numbers[0:2]"
   ]
  },
  {
   "cell_type": "code",
   "execution_count": 38,
   "id": "3ba1ca05",
   "metadata": {},
   "outputs": [
    {
     "data": {
      "text/plain": [
       "[50, 40, 30]"
      ]
     },
     "execution_count": 38,
     "metadata": {},
     "output_type": "execute_result"
    }
   ],
   "source": [
    "numbers[4:1:-1]"
   ]
  },
  {
   "cell_type": "markdown",
   "id": "d58445d8",
   "metadata": {},
   "source": [
    "___"
   ]
  },
  {
   "cell_type": "markdown",
   "id": "4e720d63",
   "metadata": {},
   "source": [
    "### 7. Manipulating Events\n",
    "\n",
    "- Given the list animals = [\"cat\",\"dog\",\"bird\"]\n",
    "- Print the list.\n",
    "- Add fish to the end of the list.\n",
    "- Print the updated list."
   ]
  },
  {
   "cell_type": "code",
   "execution_count": 39,
   "id": "4b20d8d7",
   "metadata": {},
   "outputs": [
    {
     "data": {
      "text/plain": [
       "['cat', 'dog', 'bird']"
      ]
     },
     "execution_count": 39,
     "metadata": {},
     "output_type": "execute_result"
    }
   ],
   "source": [
    "animals = [\"cat\", \"dog\", \"bird\"]\n",
    "animals"
   ]
  },
  {
   "cell_type": "code",
   "execution_count": 40,
   "id": "932631b9",
   "metadata": {},
   "outputs": [
    {
     "data": {
      "text/plain": [
       "['cat', 'dog', 'bird', 'fish']"
      ]
     },
     "execution_count": 40,
     "metadata": {},
     "output_type": "execute_result"
    }
   ],
   "source": [
    "animals.append(\"fish\")\n",
    "animals"
   ]
  },
  {
   "cell_type": "markdown",
   "id": "cccb6933",
   "metadata": {},
   "source": [
    "___"
   ]
  },
  {
   "cell_type": "markdown",
   "id": "40fbb7db",
   "metadata": {},
   "source": [
    "### 8. Sorting\n",
    "\n",
    "- Given the list random_numbers = [42,8,15,23,16]\n",
    "- Print the list.\n",
    "- Use the sort() method to sort the list. \n",
    "- Print the sorted list.\n",
    "- Print every second item from the sorted list."
   ]
  },
  {
   "cell_type": "code",
   "execution_count": 41,
   "id": "5ab335ed",
   "metadata": {},
   "outputs": [
    {
     "data": {
      "text/plain": [
       "[42, 8, 15, 23, 16]"
      ]
     },
     "execution_count": 41,
     "metadata": {},
     "output_type": "execute_result"
    }
   ],
   "source": [
    "random_numbers = [42,8,15,23,16]\n",
    "random_numbers"
   ]
  },
  {
   "cell_type": "code",
   "execution_count": 45,
   "id": "875c4a0d",
   "metadata": {},
   "outputs": [
    {
     "name": "stdout",
     "output_type": "stream",
     "text": [
      "None\n",
      "[8, 15, 16, 23, 42]\n"
     ]
    }
   ],
   "source": [
    "print(random_numbers.sort())\n",
    "print(random_numbers)"
   ]
  },
  {
   "cell_type": "code",
   "execution_count": 50,
   "id": "a637c236",
   "metadata": {},
   "outputs": [
    {
     "data": {
      "text/plain": [
       "[15, 23]"
      ]
     },
     "execution_count": 50,
     "metadata": {},
     "output_type": "execute_result"
    }
   ],
   "source": [
    "random_numbers[1:5:2] # 15 and 23 are the second items from the list"
   ]
  },
  {
   "cell_type": "markdown",
   "id": "451395b9",
   "metadata": {},
   "source": [
    "___"
   ]
  },
  {
   "cell_type": "code",
   "execution_count": null,
   "id": "090220ea",
   "metadata": {},
   "outputs": [],
   "source": []
  }
 ],
 "metadata": {
  "kernelspec": {
   "display_name": "Python 3 (ipykernel)",
   "language": "python",
   "name": "python3"
  },
  "language_info": {
   "codemirror_mode": {
    "name": "ipython",
    "version": 3
   },
   "file_extension": ".py",
   "mimetype": "text/x-python",
   "name": "python",
   "nbconvert_exporter": "python",
   "pygments_lexer": "ipython3",
   "version": "3.11.4"
  }
 },
 "nbformat": 4,
 "nbformat_minor": 5
}
