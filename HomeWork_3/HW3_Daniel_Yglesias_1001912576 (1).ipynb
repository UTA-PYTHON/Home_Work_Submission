{
  "nbformat": 4,
  "nbformat_minor": 0,
  "metadata": {
    "colab": {
      "provenance": []
    },
    "kernelspec": {
      "name": "python3",
      "display_name": "Python 3"
    },
    "language_info": {
      "name": "python"
    }
  },
  "cells": [
    {
      "cell_type": "markdown",
      "source": [
        "# **Homework 3**"
      ],
      "metadata": {
        "id": "zqjHwFShqpJ1"
      }
    },
    {
      "cell_type": "markdown",
      "source": [
        "### 1. Printing, Data Types, and Input"
      ],
      "metadata": {
        "id": "bOThKu3lq2p0"
      }
    },
    {
      "cell_type": "code",
      "source": [
        "while True:\n",
        "    User_Name = input(\"What is your name? \")\n",
        "    if User_Name:\n",
        "        break\n",
        "    else:\n",
        "        print(\"Please enter your name.\")\n",
        "\n",
        "while True:\n",
        "    User_Age = input(\"How old are you? \")\n",
        "    if User_Age.isdigit():\n",
        "        age = int(User_Age)\n",
        "        break\n",
        "    else:\n",
        "        print(\"Please enter a valid age as a number.\")\n",
        "\n",
        "print(f\"Hello, {User_Name}. You are {age} years old.\")\n",
        "print(f\"The data type of 'User_Name' is {type(User_Name)}\")\n",
        "print(f\"The data type of 'age' is {type(age)}\")\n",
        "\n"
      ],
      "metadata": {
        "colab": {
          "base_uri": "https://localhost:8080/"
        },
        "id": "q2sRacdzrB-o",
        "outputId": "5534228d-20f6-4323-8a31-449a6f223136"
      },
      "execution_count": null,
      "outputs": [
        {
          "output_type": "stream",
          "name": "stdout",
          "text": [
            "What is your name? Daniel Yglesias\n",
            "How old are you? 203\n",
            "Hello, Daniel Yglesias. You are 203 years old.\n",
            "The data type of 'User_Name' is <class 'str'>\n",
            "The data type of 'age' is <class 'int'>\n"
          ]
        }
      ]
    },
    {
      "cell_type": "markdown",
      "source": [
        "### 2. String Manipulations and Input"
      ],
      "metadata": {
        "id": "a40EIx4DwaX8"
      }
    },
    {
      "cell_type": "code",
      "source": [
        "User_Hometown = input(\"What is the name of your hometown? \")\n",
        "\n",
        "print(f\"Your hometown in uppercase: {User_Hometown.upper()}\")\n",
        "print(f\"The first three characters of your hometown: {User_Hometown[:3]}\")\n",
        "print(f\"Your hometown in reverse: {User_Hometown[::-1]}\")"
      ],
      "metadata": {
        "colab": {
          "base_uri": "https://localhost:8080/"
        },
        "id": "P60HxgmRwgsH",
        "outputId": "c5db7779-3137-44e9-d0a3-70073d499127"
      },
      "execution_count": null,
      "outputs": [
        {
          "output_type": "stream",
          "name": "stdout",
          "text": [
            "What is the name of your hometown? Keller\n",
            "Your hometown in uppercase: KELLER\n",
            "The first three characters of your hometown: Kel\n",
            "Your hometown in reverse: relleK\n"
          ]
        }
      ]
    },
    {
      "cell_type": "markdown",
      "source": [
        "### 3. Numeric Operations and Input"
      ],
      "metadata": {
        "id": "JrJOVOB6xH5H"
      }
    },
    {
      "cell_type": "code",
      "source": [
        "while True:\n",
        "    User_Input = input(\"Enter a number: \")\n",
        "    if User_Input.isdigit():\n",
        "        number = int(User_Input)\n",
        "        break\n",
        "    else:\n",
        "        print(\"Please enter a valid age as a number.\")\n",
        "\n",
        "square = number * number\n",
        "\n",
        "import math\n",
        "square_root = math.sqrt(number)\n",
        "\n",
        "print(f\"The square of {number} is: {square}\")\n",
        "print(f\"The square root of {number} is: {square_root}\")"
      ],
      "metadata": {
        "colab": {
          "base_uri": "https://localhost:8080/"
        },
        "id": "HHfYqq5txYpr",
        "outputId": "7b7df4d9-5699-41ec-b118-6486ef9ecd2d"
      },
      "execution_count": null,
      "outputs": [
        {
          "output_type": "stream",
          "name": "stdout",
          "text": [
            "Enter a number: 50\n",
            "The square of 50 is: 2500\n",
            "The square root of 50 is: 7.0710678118654755\n"
          ]
        }
      ]
    },
    {
      "cell_type": "markdown",
      "source": [
        "### 4. Boolean Evaluations"
      ],
      "metadata": {
        "id": "LB2PsDkOy9Pt"
      }
    },
    {
      "cell_type": "code",
      "source": [
        "print(10 > 5)\n",
        "print(10 == 10)\n",
        "print(8 != 9)"
      ],
      "metadata": {
        "colab": {
          "base_uri": "https://localhost:8080/"
        },
        "id": "y-CuRo_6zDqY",
        "outputId": "3d645ed1-aae4-4532-8150-96474d3c313b"
      },
      "execution_count": null,
      "outputs": [
        {
          "output_type": "stream",
          "name": "stdout",
          "text": [
            "True\n",
            "True\n",
            "True\n"
          ]
        }
      ]
    },
    {
      "cell_type": "markdown",
      "source": [
        "### 5. List Creation and Operations"
      ],
      "metadata": {
        "id": "82SXA3aHzKiY"
      }
    },
    {
      "cell_type": "code",
      "source": [
        "ColorsList = [\"red\", \"blue\", \"green\"]\n",
        "\n",
        "print(\"List of colors:\", ColorsList)\n",
        "print(\"First item:\", ColorsList[0])\n",
        "\n",
        "ColorsList[1] = \"yellow\"\n",
        "\n",
        "print(\"Updated list:\", ColorsList)\n",
        "\n",
        "ColorsList[-1] = \"orange\"\n",
        "\n",
        "print(\"Updated list with the last item changed:\", ColorsList)"
      ],
      "metadata": {
        "colab": {
          "base_uri": "https://localhost:8080/"
        },
        "id": "KbE47o910AE_",
        "outputId": "fc8bf8f7-ec65-40f4-86d2-078610ac707f"
      },
      "execution_count": null,
      "outputs": [
        {
          "output_type": "stream",
          "name": "stdout",
          "text": [
            "List of colors: ['red', 'blue', 'green']\n",
            "First item: red\n",
            "Updated list: ['red', 'yellow', 'green']\n",
            "Updated list with the last item changed: ['red', 'yellow', 'orange']\n"
          ]
        }
      ]
    },
    {
      "cell_type": "markdown",
      "source": [
        "### 6. Indexing and Slicing"
      ],
      "metadata": {
        "id": "IyI93eRF0v-c"
      }
    },
    {
      "cell_type": "code",
      "source": [
        "NumberList = [10, 20, 30, 40, 50]\n",
        "\n",
        "print(\"Third item from the list:\", NumberList[2])\n",
        "print(\"First two numbers:\", NumberList[:2])\n",
        "print(\"Last three numbers:\", NumberList[-3:])"
      ],
      "metadata": {
        "colab": {
          "base_uri": "https://localhost:8080/"
        },
        "id": "VXeFQ-270vsh",
        "outputId": "8f8de8a0-5a30-43bb-d641-c527df96cd6a"
      },
      "execution_count": null,
      "outputs": [
        {
          "output_type": "stream",
          "name": "stdout",
          "text": [
            "Third item from the list: 30\n",
            "First two numbers: [10, 20]\n",
            "Last three numbers: [30, 40, 50]\n"
          ]
        }
      ]
    },
    {
      "cell_type": "markdown",
      "source": [
        "### 7. Manipulating Elements"
      ],
      "metadata": {
        "id": "DY9l6NQK1wzz"
      }
    },
    {
      "cell_type": "code",
      "source": [
        "AnimalList = ['cat', 'dog', 'bird']\n",
        "\n",
        "print(\"Original list:\", AnimalList)\n",
        "\n",
        "AnimalList.append('fish')\n",
        "\n",
        "print(\"Updated list with 'fish' added:\", AnimalList)"
      ],
      "metadata": {
        "colab": {
          "base_uri": "https://localhost:8080/"
        },
        "id": "uarKU_r510Cr",
        "outputId": "8dea6c9a-eff9-437a-f14b-3be1127f2dd3"
      },
      "execution_count": null,
      "outputs": [
        {
          "output_type": "stream",
          "name": "stdout",
          "text": [
            "Original list: ['cat', 'dog', 'bird']\n",
            "Updated list with 'fish' added: ['cat', 'dog', 'bird', 'fish']\n"
          ]
        }
      ]
    },
    {
      "cell_type": "markdown",
      "source": [
        "### 8. Sorting"
      ],
      "metadata": {
        "id": "ajawwjYI3bUO"
      }
    },
    {
      "cell_type": "code",
      "source": [
        "random_numberList = [42, 8, 15, 23, 16]\n",
        "\n",
        "print(\"Original list:\", random_numberList)\n",
        "\n",
        "random_numberList.sort()\n",
        "\n",
        "print(\"Sorted list:\", random_numberList)\n",
        "print(\"Every second item from the sorted list:\", random_numberList[1::2])"
      ],
      "metadata": {
        "colab": {
          "base_uri": "https://localhost:8080/"
        },
        "id": "Z1WDWadN3blV",
        "outputId": "7986d546-8b0a-4277-d28b-33fcac56f571"
      },
      "execution_count": null,
      "outputs": [
        {
          "output_type": "stream",
          "name": "stdout",
          "text": [
            "Original list: [42, 8, 15, 23, 16]\n",
            "Sorted list: [8, 15, 16, 23, 42]\n",
            "Every second item from the sorted list: [15, 23]\n"
          ]
        }
      ]
    }
  ]
}