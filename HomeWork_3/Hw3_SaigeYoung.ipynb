{
 "cells": [
  {
   "cell_type": "markdown",
   "id": "3cfe3f76",
   "metadata": {},
   "source": [
    "# 1. Printing, Data Types, and input"
   ]
  },
  {
   "cell_type": "code",
   "execution_count": 3,
   "id": "eb1c89f3",
   "metadata": {},
   "outputs": [
    {
     "name": "stdout",
     "output_type": "stream",
     "text": [
      "What is your name?Tom\n",
      "How old are you?46\n"
     ]
    }
   ],
   "source": [
    "name=input('What is your name?')\n",
    "age=input('How old are you?')"
   ]
  },
  {
   "cell_type": "code",
   "execution_count": 2,
   "id": "570bf077",
   "metadata": {},
   "outputs": [
    {
     "name": "stdout",
     "output_type": "stream",
     "text": [
      "Hello, Tom You are 46 years old.\n"
     ]
    }
   ],
   "source": [
    "print(\"Hello,\",name,\"You are\",age,\"years old.\")"
   ]
  },
  {
   "cell_type": "code",
   "execution_count": 4,
   "id": "0d193a4e",
   "metadata": {},
   "outputs": [
    {
     "data": {
      "text/plain": [
       "str"
      ]
     },
     "execution_count": 4,
     "metadata": {},
     "output_type": "execute_result"
    }
   ],
   "source": [
    "type(name)"
   ]
  },
  {
   "cell_type": "code",
   "execution_count": 5,
   "id": "89258eca",
   "metadata": {},
   "outputs": [
    {
     "data": {
      "text/plain": [
       "str"
      ]
     },
     "execution_count": 5,
     "metadata": {},
     "output_type": "execute_result"
    }
   ],
   "source": [
    "type(age)"
   ]
  },
  {
   "cell_type": "markdown",
   "id": "7a92198c",
   "metadata": {},
   "source": [
    "# 2. String Manipulations and Input"
   ]
  },
  {
   "cell_type": "code",
   "execution_count": 6,
   "id": "47aa986c",
   "metadata": {},
   "outputs": [
    {
     "name": "stdout",
     "output_type": "stream",
     "text": [
      "What is the name of your hometown?Austin\n"
     ]
    }
   ],
   "source": [
    "name=input('What is the name of your hometown?')"
   ]
  },
  {
   "cell_type": "code",
   "execution_count": 8,
   "id": "0b68d5ea",
   "metadata": {},
   "outputs": [
    {
     "data": {
      "text/plain": [
       "'AUSTIN'"
      ]
     },
     "execution_count": 8,
     "metadata": {},
     "output_type": "execute_result"
    }
   ],
   "source": [
    "name.upper()"
   ]
  },
  {
   "cell_type": "code",
   "execution_count": 9,
   "id": "6d9191f1",
   "metadata": {},
   "outputs": [
    {
     "data": {
      "text/plain": [
       "'Aus'"
      ]
     },
     "execution_count": 9,
     "metadata": {},
     "output_type": "execute_result"
    }
   ],
   "source": [
    "name[:3]"
   ]
  },
  {
   "cell_type": "code",
   "execution_count": 12,
   "id": "ced41b4f",
   "metadata": {},
   "outputs": [
    {
     "data": {
      "text/plain": [
       "'nitsuA'"
      ]
     },
     "execution_count": 12,
     "metadata": {},
     "output_type": "execute_result"
    }
   ],
   "source": [
    "name[::-1]"
   ]
  },
  {
   "cell_type": "markdown",
   "id": "31dec945",
   "metadata": {},
   "source": [
    "# 3. Numeric Operations and Input"
   ]
  },
  {
   "cell_type": "code",
   "execution_count": 19,
   "id": "edea9487",
   "metadata": {},
   "outputs": [
    {
     "name": "stdout",
     "output_type": "stream",
     "text": [
      "Enter a number of your choice.23\n"
     ]
    }
   ],
   "source": [
    "numb=int(input(\"Enter a number of your choice.\"))"
   ]
  },
  {
   "cell_type": "code",
   "execution_count": 21,
   "id": "97917c63",
   "metadata": {},
   "outputs": [
    {
     "name": "stdout",
     "output_type": "stream",
     "text": [
      "529\n"
     ]
    }
   ],
   "source": [
    "multiply=numb*numb\n",
    "print(multiply)"
   ]
  },
  {
   "cell_type": "code",
   "execution_count": 29,
   "id": "2f35f822",
   "metadata": {},
   "outputs": [
    {
     "name": "stdout",
     "output_type": "stream",
     "text": [
      "4.795831523312719\n"
     ]
    }
   ],
   "source": [
    "sqrt=numb**.5\n",
    "print(sqrt)"
   ]
  },
  {
   "cell_type": "markdown",
   "id": "20f33910",
   "metadata": {},
   "source": [
    "# 4. Boolean Evaluations"
   ]
  },
  {
   "cell_type": "code",
   "execution_count": 30,
   "id": "095f2912",
   "metadata": {},
   "outputs": [
    {
     "data": {
      "text/plain": [
       "True"
      ]
     },
     "execution_count": 30,
     "metadata": {},
     "output_type": "execute_result"
    }
   ],
   "source": [
    "10>5"
   ]
  },
  {
   "cell_type": "code",
   "execution_count": 31,
   "id": "9cf286d1",
   "metadata": {},
   "outputs": [
    {
     "data": {
      "text/plain": [
       "True"
      ]
     },
     "execution_count": 31,
     "metadata": {},
     "output_type": "execute_result"
    }
   ],
   "source": [
    "10==10"
   ]
  },
  {
   "cell_type": "code",
   "execution_count": 32,
   "id": "f03f0558",
   "metadata": {},
   "outputs": [
    {
     "data": {
      "text/plain": [
       "True"
      ]
     },
     "execution_count": 32,
     "metadata": {},
     "output_type": "execute_result"
    }
   ],
   "source": [
    "8!=9"
   ]
  },
  {
   "cell_type": "markdown",
   "id": "2ccd7f6d",
   "metadata": {},
   "source": [
    "# 5. List Creation and Operations"
   ]
  },
  {
   "cell_type": "code",
   "execution_count": 34,
   "id": "4f9091a4",
   "metadata": {},
   "outputs": [
    {
     "name": "stdout",
     "output_type": "stream",
     "text": [
      "['red', 'blue', 'green']\n"
     ]
    }
   ],
   "source": [
    "colors=['red','blue','green']\n",
    "print(colors)"
   ]
  },
  {
   "cell_type": "code",
   "execution_count": 36,
   "id": "6e0162dc",
   "metadata": {},
   "outputs": [
    {
     "data": {
      "text/plain": [
       "['red']"
      ]
     },
     "execution_count": 36,
     "metadata": {},
     "output_type": "execute_result"
    }
   ],
   "source": [
    "colors[:1]"
   ]
  },
  {
   "cell_type": "code",
   "execution_count": 37,
   "id": "a3d54b65",
   "metadata": {},
   "outputs": [
    {
     "name": "stdout",
     "output_type": "stream",
     "text": [
      "['red', 'yellow', 'green']\n"
     ]
    }
   ],
   "source": [
    "colors[1]='yellow'\n",
    "print(colors)"
   ]
  },
  {
   "cell_type": "code",
   "execution_count": 38,
   "id": "09e135a2",
   "metadata": {},
   "outputs": [
    {
     "name": "stdout",
     "output_type": "stream",
     "text": [
      "['red', 'yellow', 'purple']\n"
     ]
    }
   ],
   "source": [
    "colors[-1]='purple'\n",
    "print(colors)"
   ]
  },
  {
   "cell_type": "markdown",
   "id": "b61b40c1",
   "metadata": {},
   "source": [
    "# 6. Indexing and Slicing"
   ]
  },
  {
   "cell_type": "code",
   "execution_count": 39,
   "id": "56a8b61c",
   "metadata": {},
   "outputs": [],
   "source": [
    "numbs=[10,20,30,40,50]"
   ]
  },
  {
   "cell_type": "code",
   "execution_count": 40,
   "id": "d10419a1",
   "metadata": {},
   "outputs": [
    {
     "data": {
      "text/plain": [
       "30"
      ]
     },
     "execution_count": 40,
     "metadata": {},
     "output_type": "execute_result"
    }
   ],
   "source": [
    "numbs[2]"
   ]
  },
  {
   "cell_type": "code",
   "execution_count": 42,
   "id": "22d6c2d4",
   "metadata": {},
   "outputs": [
    {
     "data": {
      "text/plain": [
       "[10, 20]"
      ]
     },
     "execution_count": 42,
     "metadata": {},
     "output_type": "execute_result"
    }
   ],
   "source": [
    "numbs[0:2]"
   ]
  },
  {
   "cell_type": "code",
   "execution_count": 52,
   "id": "6deca5c0",
   "metadata": {},
   "outputs": [
    {
     "data": {
      "text/plain": [
       "[30, 40, 50]"
      ]
     },
     "execution_count": 52,
     "metadata": {},
     "output_type": "execute_result"
    }
   ],
   "source": [
    "numbs[-3:]"
   ]
  },
  {
   "cell_type": "markdown",
   "id": "a2ea12db",
   "metadata": {},
   "source": [
    "# 7. Manipulating Elements"
   ]
  },
  {
   "cell_type": "code",
   "execution_count": 55,
   "id": "6c7198d9",
   "metadata": {},
   "outputs": [
    {
     "name": "stdout",
     "output_type": "stream",
     "text": [
      "['cat', 'dog', 'bird']\n"
     ]
    }
   ],
   "source": [
    "ani=['cat','dog','bird']\n",
    "print(ani)"
   ]
  },
  {
   "cell_type": "code",
   "execution_count": 56,
   "id": "98c2d5d9",
   "metadata": {},
   "outputs": [],
   "source": [
    "ani.append('fish')"
   ]
  },
  {
   "cell_type": "code",
   "execution_count": 57,
   "id": "3f67a4d7",
   "metadata": {},
   "outputs": [
    {
     "name": "stdout",
     "output_type": "stream",
     "text": [
      "['cat', 'dog', 'bird', 'fish']\n"
     ]
    }
   ],
   "source": [
    "print(ani)"
   ]
  },
  {
   "cell_type": "markdown",
   "id": "4c2ce47b",
   "metadata": {},
   "source": [
    "# 8. Sorting"
   ]
  },
  {
   "cell_type": "code",
   "execution_count": 58,
   "id": "f076761c",
   "metadata": {},
   "outputs": [
    {
     "name": "stdout",
     "output_type": "stream",
     "text": [
      "[42, 8, 15, 23, 16]\n"
     ]
    }
   ],
   "source": [
    "ran_numbs=[42,8,15,23,16]\n",
    "print(ran_numbs)"
   ]
  },
  {
   "cell_type": "code",
   "execution_count": 61,
   "id": "59bfc552",
   "metadata": {},
   "outputs": [
    {
     "name": "stdout",
     "output_type": "stream",
     "text": [
      "[8, 15, 16, 23, 42]\n"
     ]
    }
   ],
   "source": [
    "ran_numbs.sort()\n",
    "print(ran_numbs)"
   ]
  },
  {
   "cell_type": "code",
   "execution_count": 66,
   "id": "1121abcc",
   "metadata": {},
   "outputs": [
    {
     "data": {
      "text/plain": [
       "[15, 23]"
      ]
     },
     "execution_count": 66,
     "metadata": {},
     "output_type": "execute_result"
    }
   ],
   "source": [
    "ran_numbs[1::2]"
   ]
  },
  {
   "cell_type": "code",
   "execution_count": null,
   "id": "e099f230",
   "metadata": {},
   "outputs": [],
   "source": []
  }
 ],
 "metadata": {
  "kernelspec": {
   "display_name": "Python 3 (ipykernel)",
   "language": "python",
   "name": "python3"
  },
  "language_info": {
   "codemirror_mode": {
    "name": "ipython",
    "version": 3
   },
   "file_extension": ".py",
   "mimetype": "text/x-python",
   "name": "python",
   "nbconvert_exporter": "python",
   "pygments_lexer": "ipython3",
   "version": "3.11.4"
  }
 },
 "nbformat": 4,
 "nbformat_minor": 5
}
