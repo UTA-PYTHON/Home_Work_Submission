{
  "nbformat": 4,
  "nbformat_minor": 0,
  "metadata": {
    "colab": {
      "provenance": []
    },
    "kernelspec": {
      "name": "python3",
      "display_name": "Python 3"
    },
    "language_info": {
      "name": "python"
    }
  },
  "cells": [
    {
      "cell_type": "markdown",
      "source": [
        "# **1. Printing, Data Types, and Input**"
      ],
      "metadata": {
        "id": "OK3JrBDwy4X6"
      }
    },
    {
      "cell_type": "markdown",
      "source": [
        "- Ask the user for their name and their age."
      ],
      "metadata": {
        "id": "440fpd2o0JXe"
      }
    },
    {
      "cell_type": "code",
      "source": [
        "name=input(\"Enter Your Name: \")\n",
        "age=int(input(\"Enter Your Age: \"))"
      ],
      "metadata": {
        "colab": {
          "base_uri": "https://localhost:8080/"
        },
        "id": "LVKPfzJo0NxF",
        "outputId": "3ec7321f-c044-49a9-c4cd-f0237107a3b1"
      },
      "execution_count": null,
      "outputs": [
        {
          "name": "stdout",
          "output_type": "stream",
          "text": [
            "Enter Your Name: Phat Dinh\n",
            "Enter Your Age: 19\n"
          ]
        }
      ]
    },
    {
      "cell_type": "markdown",
      "source": [
        "- Print a statement saying: \"Hello, [name]. You are [age] years old.\""
      ],
      "metadata": {
        "id": "H-j5aXc30vIp"
      }
    },
    {
      "cell_type": "code",
      "source": [
        "print(\"Hello\", name, \". You are \", age, \"years old\")"
      ],
      "metadata": {
        "colab": {
          "base_uri": "https://localhost:8080/"
        },
        "id": "wJgQn1JR2DUv",
        "outputId": "8da3db17-da01-43cc-a38e-5e2515827110"
      },
      "execution_count": null,
      "outputs": [
        {
          "output_type": "stream",
          "name": "stdout",
          "text": [
            "Hello Phat Dinh . You are  19 years old\n"
          ]
        }
      ]
    },
    {
      "cell_type": "markdown",
      "source": [
        "- Print the data type of each variable.\n"
      ],
      "metadata": {
        "id": "xV6Noc3G2T_E"
      }
    },
    {
      "cell_type": "code",
      "source": [
        "type(name)"
      ],
      "metadata": {
        "colab": {
          "base_uri": "https://localhost:8080/"
        },
        "id": "qVo4Ejyu2cAu",
        "outputId": "e11de045-749d-4d5e-d188-caa6143ee060"
      },
      "execution_count": null,
      "outputs": [
        {
          "output_type": "execute_result",
          "data": {
            "text/plain": [
              "str"
            ]
          },
          "metadata": {},
          "execution_count": 37
        }
      ]
    },
    {
      "cell_type": "code",
      "source": [
        "type(age)"
      ],
      "metadata": {
        "colab": {
          "base_uri": "https://localhost:8080/"
        },
        "id": "Bfg8y0pE2grL",
        "outputId": "efee1e65-ff41-44d6-ec8f-c9391857a830"
      },
      "execution_count": null,
      "outputs": [
        {
          "output_type": "execute_result",
          "data": {
            "text/plain": [
              "int"
            ]
          },
          "metadata": {},
          "execution_count": 38
        }
      ]
    },
    {
      "cell_type": "markdown",
      "source": [
        "# **2. String Manipulations and Input**"
      ],
      "metadata": {
        "id": "iGshVPzP2heU"
      }
    },
    {
      "cell_type": "markdown",
      "source": [
        "- Ask the user for the name of their hometown."
      ],
      "metadata": {
        "id": "S5EBN2iX2pBK"
      }
    },
    {
      "cell_type": "code",
      "source": [
        "hometown=input(\"Hometown: \")"
      ],
      "metadata": {
        "colab": {
          "base_uri": "https://localhost:8080/"
        },
        "id": "KLj9UHAj2uVX",
        "outputId": "4d4d66cd-7a0f-4e5a-d576-efae8be5fb37"
      },
      "execution_count": null,
      "outputs": [
        {
          "name": "stdout",
          "output_type": "stream",
          "text": [
            "Hometown: Ho Chi Minh City\n"
          ]
        }
      ]
    },
    {
      "cell_type": "markdown",
      "source": [
        "- Print the name of the hometown in uppercase."
      ],
      "metadata": {
        "id": "EWA-njP720YM"
      }
    },
    {
      "cell_type": "code",
      "source": [
        "hometown.upper()"
      ],
      "metadata": {
        "colab": {
          "base_uri": "https://localhost:8080/",
          "height": 35
        },
        "id": "ZeD1NV_nNzfp",
        "outputId": "3e6bb740-94fc-47a3-b719-0d20a60008f5"
      },
      "execution_count": null,
      "outputs": [
        {
          "output_type": "execute_result",
          "data": {
            "text/plain": [
              "'HO CHI MINH CITY'"
            ],
            "application/vnd.google.colaboratory.intrinsic+json": {
              "type": "string"
            }
          },
          "metadata": {},
          "execution_count": 18
        }
      ]
    },
    {
      "cell_type": "markdown",
      "source": [
        "- Print the first three characters of the hometown's name using slicing."
      ],
      "metadata": {
        "id": "u3ju-fepLINa"
      }
    },
    {
      "cell_type": "code",
      "source": [
        "hometown[0:3]"
      ],
      "metadata": {
        "colab": {
          "base_uri": "https://localhost:8080/",
          "height": 35
        },
        "id": "SKfV6cpsN0Ce",
        "outputId": "7b1a5f53-de23-47f6-fa3e-9a43c176d939"
      },
      "execution_count": null,
      "outputs": [
        {
          "output_type": "execute_result",
          "data": {
            "text/plain": [
              "'Ho '"
            ],
            "application/vnd.google.colaboratory.intrinsic+json": {
              "type": "string"
            }
          },
          "metadata": {},
          "execution_count": 19
        }
      ]
    },
    {
      "cell_type": "markdown",
      "source": [
        "- Printing the name in reverse using slicing."
      ],
      "metadata": {
        "id": "kriBMVfGLNPR"
      }
    },
    {
      "cell_type": "code",
      "source": [
        "hometown[::-1]"
      ],
      "metadata": {
        "colab": {
          "base_uri": "https://localhost:8080/",
          "height": 35
        },
        "id": "op5lC-QfN0kR",
        "outputId": "398bf21b-79e8-4187-874b-04ce608952f3"
      },
      "execution_count": null,
      "outputs": [
        {
          "output_type": "execute_result",
          "data": {
            "text/plain": [
              "'ytiC hniM ihC oH'"
            ],
            "application/vnd.google.colaboratory.intrinsic+json": {
              "type": "string"
            }
          },
          "metadata": {},
          "execution_count": 50
        }
      ]
    },
    {
      "cell_type": "markdown",
      "source": [
        "# **3. Numeric Operations and Input**"
      ],
      "metadata": {
        "id": "9faMHDfaLZlH"
      }
    },
    {
      "cell_type": "markdown",
      "source": [
        "- Prompt the user to enter a number."
      ],
      "metadata": {
        "id": "8ulA5Ze2LiRj"
      }
    },
    {
      "cell_type": "code",
      "source": [
        "num=int(input(\"Enter a Number: \"))"
      ],
      "metadata": {
        "colab": {
          "base_uri": "https://localhost:8080/"
        },
        "id": "1MpiGeLqN1Fn",
        "outputId": "f618c02f-4623-4a70-a37b-a20f540e3329"
      },
      "execution_count": null,
      "outputs": [
        {
          "name": "stdout",
          "output_type": "stream",
          "text": [
            "Enter a Number: 22\n"
          ]
        }
      ]
    },
    {
      "cell_type": "markdown",
      "source": [
        "- Multiply the number by itself and print the result."
      ],
      "metadata": {
        "id": "ybb1-EJkLmSz"
      }
    },
    {
      "cell_type": "code",
      "source": [
        "product=num*num\n",
        "print(product)"
      ],
      "metadata": {
        "colab": {
          "base_uri": "https://localhost:8080/"
        },
        "id": "QyqqpAJ9N2Pi",
        "outputId": "4ae9cec0-f4d8-4095-a55f-5d3fa1f39511"
      },
      "execution_count": null,
      "outputs": [
        {
          "output_type": "stream",
          "name": "stdout",
          "text": [
            "484\n"
          ]
        }
      ]
    },
    {
      "cell_type": "markdown",
      "source": [
        "- Calculating the square root."
      ],
      "metadata": {
        "id": "hN893vzqLphY"
      }
    },
    {
      "cell_type": "code",
      "source": [
        "sqrt=num**(1/2)\n",
        "print(sqrt)"
      ],
      "metadata": {
        "colab": {
          "base_uri": "https://localhost:8080/"
        },
        "id": "2UkwTYS9N2ug",
        "outputId": "c00af99d-eb0b-4090-afef-98155f259af7"
      },
      "execution_count": null,
      "outputs": [
        {
          "output_type": "stream",
          "name": "stdout",
          "text": [
            "4.69041575982343\n"
          ]
        }
      ]
    },
    {
      "cell_type": "markdown",
      "source": [
        "# **4. Boolean Evaluations**"
      ],
      "metadata": {
        "id": "XQg_Sh56LwSm"
      }
    },
    {
      "cell_type": "markdown",
      "source": [
        "- Print the result of the following evaluations:"
      ],
      "metadata": {
        "id": "njihbmaXL0Rq"
      }
    },
    {
      "cell_type": "code",
      "source": [
        "10>5"
      ],
      "metadata": {
        "colab": {
          "base_uri": "https://localhost:8080/"
        },
        "id": "Rt0w6fdLN3kn",
        "outputId": "929f3cd1-fac9-4512-c2f2-ff2cba45a2bc"
      },
      "execution_count": null,
      "outputs": [
        {
          "output_type": "execute_result",
          "data": {
            "text/plain": [
              "True"
            ]
          },
          "metadata": {},
          "execution_count": 55
        }
      ]
    },
    {
      "cell_type": "code",
      "source": [
        "10==10"
      ],
      "metadata": {
        "colab": {
          "base_uri": "https://localhost:8080/"
        },
        "id": "D-zwwy8PUhg_",
        "outputId": "a249397f-dc15-452f-a655-5d724a288a28"
      },
      "execution_count": null,
      "outputs": [
        {
          "output_type": "execute_result",
          "data": {
            "text/plain": [
              "True"
            ]
          },
          "metadata": {},
          "execution_count": 56
        }
      ]
    },
    {
      "cell_type": "code",
      "source": [
        "8!=9"
      ],
      "metadata": {
        "colab": {
          "base_uri": "https://localhost:8080/"
        },
        "id": "Q6dOV4JnUh5e",
        "outputId": "eb11bd18-798b-4f65-febc-438217de1d37"
      },
      "execution_count": null,
      "outputs": [
        {
          "output_type": "execute_result",
          "data": {
            "text/plain": [
              "True"
            ]
          },
          "metadata": {},
          "execution_count": 57
        }
      ]
    },
    {
      "cell_type": "markdown",
      "source": [
        "# **5. List Creation and Operations**\n"
      ],
      "metadata": {
        "id": "LD0OUI9rL6mM"
      }
    },
    {
      "cell_type": "markdown",
      "source": [
        "- Create a list named colors containing the following items: red, blue, green."
      ],
      "metadata": {
        "id": "dGz3Aa7RMDeS"
      }
    },
    {
      "cell_type": "code",
      "source": [
        "colors=[\"red\",\"blue\",\"green\"]"
      ],
      "metadata": {
        "id": "X46tHMxhN4L1"
      },
      "execution_count": null,
      "outputs": []
    },
    {
      "cell_type": "markdown",
      "source": [
        "- Print the list."
      ],
      "metadata": {
        "id": "S2KUWgIGMK9n"
      }
    },
    {
      "cell_type": "code",
      "source": [
        "print(colors)"
      ],
      "metadata": {
        "colab": {
          "base_uri": "https://localhost:8080/"
        },
        "id": "_viLFA3-N4uN",
        "outputId": "514d6bdd-51e7-4e95-c52d-44649c73b9f0"
      },
      "execution_count": null,
      "outputs": [
        {
          "output_type": "stream",
          "name": "stdout",
          "text": [
            "['red', 'blue', 'green']\n"
          ]
        }
      ]
    },
    {
      "cell_type": "markdown",
      "source": [
        "- Print the first item in the list."
      ],
      "metadata": {
        "id": "6R5ZvTFxMPlY"
      }
    },
    {
      "cell_type": "code",
      "source": [
        "colors[0]"
      ],
      "metadata": {
        "colab": {
          "base_uri": "https://localhost:8080/",
          "height": 35
        },
        "id": "1LI5hVZ2N5Vh",
        "outputId": "3073d931-b521-4f43-ec89-5e9ef2331f62"
      },
      "execution_count": null,
      "outputs": [
        {
          "output_type": "execute_result",
          "data": {
            "text/plain": [
              "'red'"
            ],
            "application/vnd.google.colaboratory.intrinsic+json": {
              "type": "string"
            }
          },
          "metadata": {},
          "execution_count": 67
        }
      ]
    },
    {
      "cell_type": "markdown",
      "source": [
        "- Replace the second item in the list with yellow."
      ],
      "metadata": {
        "id": "ashjGNNJMTvg"
      }
    },
    {
      "cell_type": "code",
      "source": [
        "colors[1]=\"yellow\""
      ],
      "metadata": {
        "id": "IOy5TRjMN519"
      },
      "execution_count": null,
      "outputs": []
    },
    {
      "cell_type": "markdown",
      "source": [
        "- Print the list again."
      ],
      "metadata": {
        "id": "FPIIwbDWMXhn"
      }
    },
    {
      "cell_type": "code",
      "source": [
        "colors"
      ],
      "metadata": {
        "colab": {
          "base_uri": "https://localhost:8080/"
        },
        "id": "b2U1UiiyN6PI",
        "outputId": "4f9cdd37-c606-4461-cb94-2abc20c9fd0f"
      },
      "execution_count": null,
      "outputs": [
        {
          "output_type": "execute_result",
          "data": {
            "text/plain": [
              "['red', 'yellow', 'green']"
            ]
          },
          "metadata": {},
          "execution_count": 70
        }
      ]
    },
    {
      "cell_type": "markdown",
      "source": [
        "- Changing the last item using negative indexing."
      ],
      "metadata": {
        "id": "knBGEpHsManR"
      }
    },
    {
      "cell_type": "code",
      "source": [
        "colors[-1]=\"purple\"\n",
        "colors"
      ],
      "metadata": {
        "colab": {
          "base_uri": "https://localhost:8080/"
        },
        "id": "yCrEmhWRN6oi",
        "outputId": "81b1ff92-ed28-4f1a-aec7-03349cadd1b8"
      },
      "execution_count": null,
      "outputs": [
        {
          "output_type": "execute_result",
          "data": {
            "text/plain": [
              "['red', 'yellow', 'purple']"
            ]
          },
          "metadata": {},
          "execution_count": 73
        }
      ]
    },
    {
      "cell_type": "markdown",
      "source": [
        "# **6. Indexing and Pasting**"
      ],
      "metadata": {
        "id": "oRSJ_FbKMdIn"
      }
    },
    {
      "cell_type": "markdown",
      "source": [
        "- Given the list numbers = [10, 20, 30, 40, 50]"
      ],
      "metadata": {
        "id": "uXXVvOe2Mi1A"
      }
    },
    {
      "cell_type": "code",
      "source": [
        "l=[10,20,30,40,50]"
      ],
      "metadata": {
        "id": "eS_cJNdeWnzO"
      },
      "execution_count": null,
      "outputs": []
    },
    {
      "cell_type": "markdown",
      "source": [
        "- Print the third item from the list."
      ],
      "metadata": {
        "id": "zPD8btD_MpKs"
      }
    },
    {
      "cell_type": "code",
      "source": [
        "l[2]"
      ],
      "metadata": {
        "colab": {
          "base_uri": "https://localhost:8080/"
        },
        "id": "9Qi0Bb9IN76W",
        "outputId": "3c954ec4-4692-4d45-839b-3353004c6598"
      },
      "execution_count": null,
      "outputs": [
        {
          "output_type": "execute_result",
          "data": {
            "text/plain": [
              "30"
            ]
          },
          "metadata": {},
          "execution_count": 75
        }
      ]
    },
    {
      "cell_type": "markdown",
      "source": [
        "- Using slicing, print the first two numbers."
      ],
      "metadata": {
        "id": "wtq5wcsIMsoW"
      }
    },
    {
      "cell_type": "code",
      "source": [
        "l[0:2]"
      ],
      "metadata": {
        "colab": {
          "base_uri": "https://localhost:8080/"
        },
        "id": "1BZo2yzON8iW",
        "outputId": "7fa57760-76e5-4d79-d49b-df7d5518f6cf"
      },
      "execution_count": null,
      "outputs": [
        {
          "output_type": "execute_result",
          "data": {
            "text/plain": [
              "[10, 20]"
            ]
          },
          "metadata": {},
          "execution_count": 77
        }
      ]
    },
    {
      "cell_type": "markdown",
      "source": [
        "- Getting the last three numbers using negative indexing and slicing."
      ],
      "metadata": {
        "id": "L-qNB7MnMw7M"
      }
    },
    {
      "cell_type": "code",
      "source": [
        "l[-3:]"
      ],
      "metadata": {
        "colab": {
          "base_uri": "https://localhost:8080/"
        },
        "id": "1Aha6bsbN89q",
        "outputId": "c4ce62ac-0fa3-462d-d493-a73284f9be4c"
      },
      "execution_count": null,
      "outputs": [
        {
          "output_type": "execute_result",
          "data": {
            "text/plain": [
              "[30, 40, 50]"
            ]
          },
          "metadata": {},
          "execution_count": 92
        }
      ]
    },
    {
      "cell_type": "markdown",
      "source": [
        "# **7. Manipulating Elements**\n"
      ],
      "metadata": {
        "id": "1jbFomszM0By"
      }
    },
    {
      "cell_type": "markdown",
      "source": [
        "- Given the list animals = ['cat', 'dog', 'bird']"
      ],
      "metadata": {
        "id": "HxQzdMRzM85e"
      }
    },
    {
      "cell_type": "code",
      "source": [
        "ani=[\"cat\",\"dog\",\"bird\"]"
      ],
      "metadata": {
        "id": "h_M6XnukN9jA"
      },
      "execution_count": null,
      "outputs": []
    },
    {
      "cell_type": "markdown",
      "source": [
        "- Print the list."
      ],
      "metadata": {
        "id": "t0rbJ07nNGWr"
      }
    },
    {
      "cell_type": "code",
      "source": [
        "print(ani)"
      ],
      "metadata": {
        "colab": {
          "base_uri": "https://localhost:8080/"
        },
        "id": "9-sfc2aSN-B4",
        "outputId": "c92edc92-621b-48a0-9376-8e0a1de2bf44"
      },
      "execution_count": null,
      "outputs": [
        {
          "output_type": "stream",
          "name": "stdout",
          "text": [
            "['cat', 'dog', 'bird']\n"
          ]
        }
      ]
    },
    {
      "cell_type": "markdown",
      "source": [
        "- Add fish to the end of the list."
      ],
      "metadata": {
        "id": "PrXlC8U-NJbU"
      }
    },
    {
      "cell_type": "code",
      "source": [
        "ani.append(\"fish\")"
      ],
      "metadata": {
        "id": "kUjcl69CN-aw"
      },
      "execution_count": null,
      "outputs": []
    },
    {
      "cell_type": "markdown",
      "source": [
        "- Print the updated list."
      ],
      "metadata": {
        "id": "ibQywZANNMzk"
      }
    },
    {
      "cell_type": "code",
      "source": [
        "print(ani)"
      ],
      "metadata": {
        "colab": {
          "base_uri": "https://localhost:8080/"
        },
        "id": "iWRP1cX_N-3Y",
        "outputId": "15499c59-1a53-42b7-a015-3b0a118319d1"
      },
      "execution_count": null,
      "outputs": [
        {
          "output_type": "stream",
          "name": "stdout",
          "text": [
            "['cat', 'dog', 'bird', 'fish']\n"
          ]
        }
      ]
    },
    {
      "cell_type": "markdown",
      "source": [
        "# **8. Sorting**"
      ],
      "metadata": {
        "id": "Jrj10sT0NRWt"
      }
    },
    {
      "cell_type": "markdown",
      "source": [
        "- Given the list random_numbers = [42, 8, 15, 23, 16]"
      ],
      "metadata": {
        "id": "YVtUKrfoNUq5"
      }
    },
    {
      "cell_type": "code",
      "source": [
        "random_numbers=[42,8,15,23,16]"
      ],
      "metadata": {
        "id": "jbPln5xsN_b6"
      },
      "execution_count": null,
      "outputs": []
    },
    {
      "cell_type": "markdown",
      "source": [
        "- Print the list."
      ],
      "metadata": {
        "id": "hdM0BmIeNZXa"
      }
    },
    {
      "cell_type": "code",
      "source": [
        "print(random_numbers)"
      ],
      "metadata": {
        "colab": {
          "base_uri": "https://localhost:8080/"
        },
        "id": "nq3o2HsgN_3i",
        "outputId": "f537df62-d5c5-4225-8eff-453101b1cb60"
      },
      "execution_count": null,
      "outputs": [
        {
          "output_type": "stream",
          "name": "stdout",
          "text": [
            "[42, 8, 15, 23, 16]\n"
          ]
        }
      ]
    },
    {
      "cell_type": "markdown",
      "source": [
        "- Use the sort() method to sort the list."
      ],
      "metadata": {
        "id": "EVVxsFuRNfwR"
      }
    },
    {
      "cell_type": "code",
      "source": [
        "random_numbers.sort()"
      ],
      "metadata": {
        "id": "_EHDmySmOAWb"
      },
      "execution_count": null,
      "outputs": []
    },
    {
      "cell_type": "markdown",
      "source": [
        "- Print the sorted list."
      ],
      "metadata": {
        "id": "7UxsMsASNk41"
      }
    },
    {
      "cell_type": "code",
      "source": [
        "print(random_numbers)"
      ],
      "metadata": {
        "colab": {
          "base_uri": "https://localhost:8080/"
        },
        "id": "R58qr4KoOA4H",
        "outputId": "f94191f5-f1c9-4492-c91b-39c2971786b3"
      },
      "execution_count": null,
      "outputs": [
        {
          "output_type": "stream",
          "name": "stdout",
          "text": [
            "[8, 15, 16, 23, 42]\n"
          ]
        }
      ]
    },
    {
      "cell_type": "markdown",
      "source": [
        "- Print every second item from the sorted list."
      ],
      "metadata": {
        "id": "HJfARU0RNrPu"
      }
    },
    {
      "cell_type": "code",
      "source": [
        "random_numbers[1:5:2]"
      ],
      "metadata": {
        "colab": {
          "base_uri": "https://localhost:8080/"
        },
        "id": "mcvKkWcYOBaX",
        "outputId": "bc76d28d-70af-4862-a649-dcd2006b1946"
      },
      "execution_count": null,
      "outputs": [
        {
          "output_type": "execute_result",
          "data": {
            "text/plain": [
              "[15, 23]"
            ]
          },
          "metadata": {},
          "execution_count": 118
        }
      ]
    },
    {
      "cell_type": "code",
      "source": [],
      "metadata": {
        "id": "dNXRTecKZchy"
      },
      "execution_count": null,
      "outputs": []
    }
  ]
}