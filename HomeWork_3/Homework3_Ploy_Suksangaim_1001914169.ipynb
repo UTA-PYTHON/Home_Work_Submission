{
  "nbformat": 4,
  "nbformat_minor": 0,
  "metadata": {
    "colab": {
      "provenance": []
    },
    "kernelspec": {
      "name": "python3",
      "display_name": "Python 3"
    },
    "language_info": {
      "name": "python"
    }
  },
  "cells": [
    {
      "cell_type": "markdown",
      "source": [
        "##Name: Ploy Suksangiam\n",
        "###UTA ID: 1001914169"
      ],
      "metadata": {
        "id": "CeZi0eZXrMyz"
      }
    },
    {
      "cell_type": "markdown",
      "source": [
        "#Questions:\n",
        "\n",
        "##1. Printing, Data Types, and Input\n",
        "\n",
        "\n",
        "* Ask the user for their name and their age.\n",
        "* Print a statement saying: \"Hello, [name]. You are [age] years old.\"\n",
        "* Print the data type of each variable.\n"
      ],
      "metadata": {
        "id": "Yy87uAssOpvP"
      }
    },
    {
      "cell_type": "code",
      "source": [
        "name=input(\"Please enter your name:\")\n",
        "age=input(\"Please enter your age: \")\n",
        "\n",
        "print(\"Hello\"\",\",name,\".\",\" You are\",age,\"years old.\" )\n"
      ],
      "metadata": {
        "colab": {
          "base_uri": "https://localhost:8080/"
        },
        "id": "SFT1KXJrOy7q",
        "outputId": "be2621cd-e2da-4440-df6f-f74d2c1707c0"
      },
      "execution_count": 16,
      "outputs": [
        {
          "output_type": "stream",
          "name": "stdout",
          "text": [
            "Please enter your name:ploy\n",
            "Please enter your age: 26\n",
            "Hello, ploy .  You are 26 years old.\n"
          ]
        }
      ]
    },
    {
      "cell_type": "markdown",
      "source": [
        "#2. String Manipulations and Input\n",
        "\n",
        "\n",
        "* Ask the user for the name of their hometown.\n",
        "* Print the name of the hometown in uppercase.\n",
        "* Print the first three characters of the hometown's name using slicing.\n",
        "* Printing the name in reverse using slicing.\n"
      ],
      "metadata": {
        "id": "tHRDavt4SmAa"
      }
    },
    {
      "cell_type": "code",
      "source": [
        "hometown=input(\"What is the name of your hometown?: \")\n",
        "uppercase_hometown = hometown.upper()\n",
        "print(\"Your home town is:\", uppercase_hometown)"
      ],
      "metadata": {
        "colab": {
          "base_uri": "https://localhost:8080/"
        },
        "id": "JiWY4ng1Sr7g",
        "outputId": "907c4010-034a-431e-9be3-9fb268b5adf9"
      },
      "execution_count": 82,
      "outputs": [
        {
          "output_type": "stream",
          "name": "stdout",
          "text": [
            "What is the name of your hometown?: Dallas\n",
            "Your home town is: DALLAS\n"
          ]
        }
      ]
    },
    {
      "cell_type": "code",
      "source": [
        "first_three_characters=hometown[:3]\n",
        "print(first_three_characters)"
      ],
      "metadata": {
        "colab": {
          "base_uri": "https://localhost:8080/"
        },
        "id": "XZwpCKdiogws",
        "outputId": "b7d35615-c1ba-4e14-9843-7480e985e8ae"
      },
      "execution_count": 84,
      "outputs": [
        {
          "output_type": "stream",
          "name": "stdout",
          "text": [
            "Dal\n"
          ]
        }
      ]
    },
    {
      "cell_type": "code",
      "source": [
        "name_reverse=hometown[::-1]\n",
        "print(name_reverse)"
      ],
      "metadata": {
        "colab": {
          "base_uri": "https://localhost:8080/"
        },
        "id": "VqkM65lVo3Wn",
        "outputId": "be064ca3-8535-4a77-8e70-cbbce321ede6"
      },
      "execution_count": 92,
      "outputs": [
        {
          "output_type": "stream",
          "name": "stdout",
          "text": [
            "sallaD\n"
          ]
        }
      ]
    },
    {
      "cell_type": "markdown",
      "source": [
        "#3. Numeric Operations and Input\n",
        "\n",
        "\n",
        "* Prompt the user to enter a number.\n",
        "* Multiply the number by itself and print the result.\n",
        "* Calculating the square root.\n"
      ],
      "metadata": {
        "id": "yq2JyRWKbwbg"
      }
    },
    {
      "cell_type": "code",
      "source": [
        "num=float(input(\"Enter a number: \"))\n",
        "\n",
        "result=num*num\n",
        "print(\"Result of multiplying: \",result)\n",
        "\n",
        "square_root=math.sqrt(result)\n",
        "print(\"Result of the square root: \", square_root)\n"
      ],
      "metadata": {
        "colab": {
          "base_uri": "https://localhost:8080/"
        },
        "id": "PQhtDzU1b0gb",
        "outputId": "7ac224af-3c76-43fe-a37b-5b911a1ff513"
      },
      "execution_count": 48,
      "outputs": [
        {
          "output_type": "stream",
          "name": "stdout",
          "text": [
            "Enter a number: 5\n",
            "Result of multiplying:  25.0\n",
            "Result of the square root:  5.0\n"
          ]
        }
      ]
    },
    {
      "cell_type": "markdown",
      "source": [
        "# 4. Boolean Evaluations\n",
        "\n",
        "\n",
        "* Print the result of the following evaluations:\n",
        "  * 10 > 5\n",
        "  * 10 == 10\n",
        "  * 8 != 9\n"
      ],
      "metadata": {
        "id": "BsCQJRpXsdTv"
      }
    },
    {
      "cell_type": "code",
      "source": [
        "x=10\n",
        "x>5"
      ],
      "metadata": {
        "colab": {
          "base_uri": "https://localhost:8080/"
        },
        "id": "ALFxsJB-gdT_",
        "outputId": "19a63329-be37-4516-affb-306f6e5c1c72"
      },
      "execution_count": 49,
      "outputs": [
        {
          "output_type": "execute_result",
          "data": {
            "text/plain": [
              "True"
            ]
          },
          "metadata": {},
          "execution_count": 49
        }
      ]
    },
    {
      "cell_type": "code",
      "source": [
        "x==x"
      ],
      "metadata": {
        "colab": {
          "base_uri": "https://localhost:8080/"
        },
        "id": "aEwoqSIgtnNh",
        "outputId": "5b752b31-8012-4dc6-d1ff-672a4d245e0e"
      },
      "execution_count": 50,
      "outputs": [
        {
          "output_type": "execute_result",
          "data": {
            "text/plain": [
              "True"
            ]
          },
          "metadata": {},
          "execution_count": 50
        }
      ]
    },
    {
      "cell_type": "code",
      "source": [
        "10==10"
      ],
      "metadata": {
        "colab": {
          "base_uri": "https://localhost:8080/"
        },
        "id": "pdLbEigjtsGQ",
        "outputId": "b67d38d1-4405-4c1c-efde-63437ba0f714"
      },
      "execution_count": 51,
      "outputs": [
        {
          "output_type": "execute_result",
          "data": {
            "text/plain": [
              "True"
            ]
          },
          "metadata": {},
          "execution_count": 51
        }
      ]
    },
    {
      "cell_type": "code",
      "source": [
        "8!=9"
      ],
      "metadata": {
        "colab": {
          "base_uri": "https://localhost:8080/"
        },
        "id": "Flw40b5Ottu8",
        "outputId": "cd53e3ef-4ea3-4677-9faa-185abea95320"
      },
      "execution_count": 52,
      "outputs": [
        {
          "output_type": "execute_result",
          "data": {
            "text/plain": [
              "True"
            ]
          },
          "metadata": {},
          "execution_count": 52
        }
      ]
    },
    {
      "cell_type": "code",
      "source": [],
      "metadata": {
        "id": "E73lFjERtxLh"
      },
      "execution_count": null,
      "outputs": []
    },
    {
      "cell_type": "markdown",
      "source": [
        "#5. List Creation and Operations\n",
        "\n",
        "\n",
        "* Create a list named colors containing the following items: red, blue, green.\n",
        "*Print the list.\n",
        "*Print the first item in the list.\n",
        "*Replace the second item in the list with yellow.\n",
        "*Print the list again.\n",
        "*Changing the last item using negative indexing.\n",
        ""
      ],
      "metadata": {
        "id": "AoOLZ0Y9t2ke"
      }
    },
    {
      "cell_type": "code",
      "source": [
        "colors=[\"red\",\"blue\",\"green\"]\n",
        "print(colors)\n",
        "\n"
      ],
      "metadata": {
        "colab": {
          "base_uri": "https://localhost:8080/"
        },
        "id": "7EjkVJMSt_Kt",
        "outputId": "48947b51-f09c-4e7d-b85c-dd140857dc8d"
      },
      "execution_count": 57,
      "outputs": [
        {
          "output_type": "stream",
          "name": "stdout",
          "text": [
            "['red', 'blue', 'green']\n"
          ]
        }
      ]
    },
    {
      "cell_type": "code",
      "source": [
        "first_element=colors[0]\n",
        "print(first_element)"
      ],
      "metadata": {
        "colab": {
          "base_uri": "https://localhost:8080/"
        },
        "id": "NZV1_xqPyqZf",
        "outputId": "cbe68424-c044-436d-d7b8-05a646aea3ba"
      },
      "execution_count": 59,
      "outputs": [
        {
          "output_type": "stream",
          "name": "stdout",
          "text": [
            "red\n"
          ]
        }
      ]
    },
    {
      "cell_type": "code",
      "source": [
        "new_color=\"yellow\"\n",
        "colors[1]=new_color\n",
        "print(colors)"
      ],
      "metadata": {
        "colab": {
          "base_uri": "https://localhost:8080/"
        },
        "id": "4n8tRmRL0-to",
        "outputId": "667aab79-d5c4-4fab-e4ef-a98eaf045e06"
      },
      "execution_count": 61,
      "outputs": [
        {
          "output_type": "stream",
          "name": "stdout",
          "text": [
            "['red', 'yellow', 'green']\n"
          ]
        }
      ]
    },
    {
      "cell_type": "code",
      "source": [
        "new_last_item=\"blue\"\n",
        "colors[-1]=new_last_item\n",
        "print(colors)"
      ],
      "metadata": {
        "colab": {
          "base_uri": "https://localhost:8080/"
        },
        "id": "VEvfZfBB2rjm",
        "outputId": "074af2e0-3975-43e2-e1d4-c95530c53b34"
      },
      "execution_count": 63,
      "outputs": [
        {
          "output_type": "stream",
          "name": "stdout",
          "text": [
            "['red', 'yellow', 'blue']\n"
          ]
        }
      ]
    },
    {
      "cell_type": "markdown",
      "source": [
        "\n",
        "#6. Indexing and Slicing\n",
        "\n",
        "\n",
        "* Given the list numbers = [10, 20, 30, 40, 50]\n",
        "* Print the third item from the list.\n",
        "* Using slicing, print the first two numbers.\n",
        "* Getting the last three numbers using negative indexing and slicing."
      ],
      "metadata": {
        "id": "1bBvPXMp3MdG"
      }
    },
    {
      "cell_type": "code",
      "source": [
        "num=[10,20,30,40,50]\n",
        "third_item=num[2]\n",
        "\n",
        "print(third_item)"
      ],
      "metadata": {
        "colab": {
          "base_uri": "https://localhost:8080/"
        },
        "id": "9WxvD9qR3QX2",
        "outputId": "3f31e689-e12b-4df8-93f6-d4268d0f5bd6"
      },
      "execution_count": 66,
      "outputs": [
        {
          "output_type": "stream",
          "name": "stdout",
          "text": [
            "30\n"
          ]
        }
      ]
    },
    {
      "cell_type": "code",
      "source": [
        "last_three_numbers=num[-3:]\n",
        "print(last_three_numbers)"
      ],
      "metadata": {
        "colab": {
          "base_uri": "https://localhost:8080/"
        },
        "id": "rURpeC0a34Gh",
        "outputId": "6df0c402-38fc-4b2c-a223-85f2bfecf2cb"
      },
      "execution_count": 69,
      "outputs": [
        {
          "output_type": "stream",
          "name": "stdout",
          "text": [
            "[30, 40, 50]\n"
          ]
        }
      ]
    },
    {
      "cell_type": "code",
      "source": [],
      "metadata": {
        "id": "R1sRLX9gjw61"
      },
      "execution_count": null,
      "outputs": []
    },
    {
      "cell_type": "markdown",
      "source": [
        "#7. Manipulating Elements\n",
        "\n",
        "\n",
        "* Given the list animals = ['cat', 'dog', 'bird']\n",
        "* Print the list.\n",
        "* Add fish to the end of the list.\n",
        "* Print the updated list."
      ],
      "metadata": {
        "id": "eMKvQxBTkJCw"
      }
    },
    {
      "cell_type": "code",
      "source": [
        "animals=['cat','dog','bird']\n",
        "animals"
      ],
      "metadata": {
        "colab": {
          "base_uri": "https://localhost:8080/"
        },
        "id": "2ZhlTbdGkTLF",
        "outputId": "5a1c84eb-f31b-4f99-96bb-7f4a62d406d6"
      },
      "execution_count": 74,
      "outputs": [
        {
          "output_type": "execute_result",
          "data": {
            "text/plain": [
              "['cat', 'dog', 'bird']"
            ]
          },
          "metadata": {},
          "execution_count": 74
        }
      ]
    },
    {
      "cell_type": "code",
      "source": [
        "new_item=\"fish\"\n",
        "animals.append(new_item)\n",
        "\n",
        "print(animals)"
      ],
      "metadata": {
        "colab": {
          "base_uri": "https://localhost:8080/"
        },
        "id": "VmlCXUCYknYw",
        "outputId": "8fda24a8-ca25-4f8e-ce0a-009f1301f293"
      },
      "execution_count": 76,
      "outputs": [
        {
          "output_type": "stream",
          "name": "stdout",
          "text": [
            "['cat', 'dog', 'bird', 'fish']\n"
          ]
        }
      ]
    },
    {
      "cell_type": "code",
      "source": [],
      "metadata": {
        "id": "jQQvoKoslA7L"
      },
      "execution_count": null,
      "outputs": []
    },
    {
      "cell_type": "markdown",
      "source": [
        "#8. Sorting\n",
        "\n",
        "\n",
        "* Given the list random_numbers = [42, 8, 15, 23, 16]\n",
        "* Print the list.\n",
        "* Use the sort() method to sort the list.\n",
        "* Print the sorted list.\n",
        "* Print every second item from the sorted list.\n"
      ],
      "metadata": {
        "id": "a-A23jwildDV"
      }
    },
    {
      "cell_type": "code",
      "source": [
        "random_numbers=[42,8,15,23,16]\n",
        "print(random_numbers)"
      ],
      "metadata": {
        "colab": {
          "base_uri": "https://localhost:8080/"
        },
        "id": "vGvLFk2plhmL",
        "outputId": "2d31f0e1-d63a-4db8-aa8a-58b8bf74f978"
      },
      "execution_count": 77,
      "outputs": [
        {
          "output_type": "stream",
          "name": "stdout",
          "text": [
            "[42, 8, 15, 23, 16]\n"
          ]
        }
      ]
    },
    {
      "cell_type": "code",
      "source": [
        "random_numbers.sort()\n",
        "print(random_numbers)"
      ],
      "metadata": {
        "colab": {
          "base_uri": "https://localhost:8080/"
        },
        "id": "6HxKdNBelui-",
        "outputId": "b5964caf-3fff-4454-f277-d40fdf5d0c5c"
      },
      "execution_count": 79,
      "outputs": [
        {
          "output_type": "stream",
          "name": "stdout",
          "text": [
            "[8, 15, 16, 23, 42]\n"
          ]
        }
      ]
    },
    {
      "cell_type": "code",
      "source": [
        "second_item=random_numbers[1::2]  #slicing notation [::]\n",
        "print(second_item)"
      ],
      "metadata": {
        "colab": {
          "base_uri": "https://localhost:8080/"
        },
        "id": "48NFzcvul0vZ",
        "outputId": "21fb1181-5c00-4fbc-d396-58e76af07824"
      },
      "execution_count": 81,
      "outputs": [
        {
          "output_type": "stream",
          "name": "stdout",
          "text": [
            "[15, 23]\n"
          ]
        }
      ]
    },
    {
      "cell_type": "code",
      "source": [],
      "metadata": {
        "id": "jGQl60tVmySw"
      },
      "execution_count": null,
      "outputs": []
    }
  ]
}