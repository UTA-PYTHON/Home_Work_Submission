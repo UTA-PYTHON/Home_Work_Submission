{
  "nbformat": 4,
  "nbformat_minor": 0,
  "metadata": {
    "colab": {
      "provenance": []
    },
    "kernelspec": {
      "name": "python3",
      "display_name": "Python 3"
    },
    "language_info": {
      "name": "python"
    }
  },
  "cells": [
    {
      "cell_type": "markdown",
      "source": [
        "## **1. Printing, Data Types, and Input**"
      ],
      "metadata": {
        "id": "RETyannkz5ky"
      }
    },
    {
      "cell_type": "markdown",
      "source": [
        "**Ask the user for their name and their age.**"
      ],
      "metadata": {
        "id": "pyzQEEZs0fIS"
      }
    },
    {
      "cell_type": "code",
      "execution_count": null,
      "metadata": {
        "colab": {
          "base_uri": "https://localhost:8080/"
        },
        "id": "9pEEN9gcy8Sa",
        "outputId": "bc69b65c-3a64-44fc-83e2-074026a337cf"
      },
      "outputs": [
        {
          "name": "stdout",
          "output_type": "stream",
          "text": [
            "Enter your name: Hala Muhiar\n",
            "Enter your age: 20\n"
          ]
        }
      ],
      "source": [
        "name=input('Enter your name: ')\n",
        "age=int(input('Enter your age: '))"
      ]
    },
    {
      "cell_type": "markdown",
      "source": [
        "**Print a statement saying: \"Hello, [name]. You are [age] years old.\"**"
      ],
      "metadata": {
        "id": "d1AzfcvK1KxY"
      }
    },
    {
      "cell_type": "code",
      "source": [
        "print('Hello,',name,'. You are',age,'years old.')"
      ],
      "metadata": {
        "colab": {
          "base_uri": "https://localhost:8080/"
        },
        "id": "qawmpU1k1GYI",
        "outputId": "bfce22e9-b656-42fc-c528-67b10e8e9c13"
      },
      "execution_count": null,
      "outputs": [
        {
          "output_type": "stream",
          "name": "stdout",
          "text": [
            "Hello, Hala Muhiar . You are 20 years old.\n"
          ]
        }
      ]
    },
    {
      "cell_type": "markdown",
      "source": [
        "**Print the data type for each variable.**"
      ],
      "metadata": {
        "id": "Jm8XHb4B1o09"
      }
    },
    {
      "cell_type": "code",
      "source": [
        "type(name)"
      ],
      "metadata": {
        "colab": {
          "base_uri": "https://localhost:8080/"
        },
        "id": "q7StXruc1frp",
        "outputId": "cbea8e9e-d99d-4afb-f04b-9bc5a991bda4"
      },
      "execution_count": null,
      "outputs": [
        {
          "output_type": "execute_result",
          "data": {
            "text/plain": [
              "str"
            ]
          },
          "metadata": {},
          "execution_count": 4
        }
      ]
    },
    {
      "cell_type": "code",
      "source": [
        "type(age)"
      ],
      "metadata": {
        "colab": {
          "base_uri": "https://localhost:8080/"
        },
        "id": "Ju5X56X-18bc",
        "outputId": "2c24396f-5be1-4349-a70b-be84230a2254"
      },
      "execution_count": null,
      "outputs": [
        {
          "output_type": "execute_result",
          "data": {
            "text/plain": [
              "int"
            ]
          },
          "metadata": {},
          "execution_count": 9
        }
      ]
    },
    {
      "cell_type": "markdown",
      "source": [
        "## **2. String Manipulations and Input**"
      ],
      "metadata": {
        "id": "M-g9TydZ2fu3"
      }
    },
    {
      "cell_type": "markdown",
      "source": [
        "**Ask the user for the name of their hometown.**"
      ],
      "metadata": {
        "id": "UnLKE-JX2wTH"
      }
    },
    {
      "cell_type": "code",
      "source": [
        "hometown=input('Enter your hometown: ')"
      ],
      "metadata": {
        "id": "OdXp4CD42EE1",
        "colab": {
          "base_uri": "https://localhost:8080/"
        },
        "outputId": "20ff8230-b208-45af-b443-40e6a58e0200"
      },
      "execution_count": null,
      "outputs": [
        {
          "name": "stdout",
          "output_type": "stream",
          "text": [
            "Enter your hometown: Hurst, TX\n"
          ]
        }
      ]
    },
    {
      "cell_type": "markdown",
      "source": [
        "**Print the name of the hometown in uppercase**"
      ],
      "metadata": {
        "id": "dIo3TsQePhsF"
      }
    },
    {
      "cell_type": "code",
      "source": [
        "print(hometown.upper())"
      ],
      "metadata": {
        "colab": {
          "base_uri": "https://localhost:8080/"
        },
        "id": "F9p8EQr1PZqJ",
        "outputId": "3ae2e6bf-544e-483d-e014-4aa290f6d789"
      },
      "execution_count": null,
      "outputs": [
        {
          "output_type": "stream",
          "name": "stdout",
          "text": [
            "HURST, TX\n"
          ]
        }
      ]
    },
    {
      "cell_type": "markdown",
      "source": [
        "**Print the first three characters of the hometown's name using slicing.**"
      ],
      "metadata": {
        "id": "ARq8J6LkQqIR"
      }
    },
    {
      "cell_type": "code",
      "source": [
        "print(hometown[:3])"
      ],
      "metadata": {
        "colab": {
          "base_uri": "https://localhost:8080/"
        },
        "id": "GsbIAN9FQm_Z",
        "outputId": "94565de7-be7a-4dc2-f300-fa887d9e982c"
      },
      "execution_count": null,
      "outputs": [
        {
          "output_type": "stream",
          "name": "stdout",
          "text": [
            "Hur\n"
          ]
        }
      ]
    },
    {
      "cell_type": "markdown",
      "source": [
        "**Printing the name in reverse using slicing.**"
      ],
      "metadata": {
        "id": "VswihoDESEzl"
      }
    },
    {
      "cell_type": "code",
      "source": [
        "print(hometown[::-1])"
      ],
      "metadata": {
        "colab": {
          "base_uri": "https://localhost:8080/"
        },
        "id": "JLCyinfAR2vn",
        "outputId": "d54db137-e0ed-4b5f-99ac-c79bd54a9edc"
      },
      "execution_count": null,
      "outputs": [
        {
          "output_type": "stream",
          "name": "stdout",
          "text": [
            "XT ,tsruH\n"
          ]
        }
      ]
    },
    {
      "cell_type": "markdown",
      "source": [
        "## **3. Numeric Operations and Input**"
      ],
      "metadata": {
        "id": "inPcB_HuUbbS"
      }
    },
    {
      "cell_type": "markdown",
      "source": [
        "**Prompt the user to enter a number.**"
      ],
      "metadata": {
        "id": "j93pmL1oUmiA"
      }
    },
    {
      "cell_type": "code",
      "source": [
        "num=int(input('Enter a number: '))"
      ],
      "metadata": {
        "colab": {
          "base_uri": "https://localhost:8080/"
        },
        "id": "su562hTiT1mT",
        "outputId": "e31db0cc-dc17-4672-b09a-165638ce0b8f"
      },
      "execution_count": null,
      "outputs": [
        {
          "name": "stdout",
          "output_type": "stream",
          "text": [
            "Enter a number: 3\n"
          ]
        }
      ]
    },
    {
      "cell_type": "markdown",
      "source": [
        "**Multiply the number by itself and print the result.**"
      ],
      "metadata": {
        "id": "p6lpptg3VCT_"
      }
    },
    {
      "cell_type": "code",
      "source": [
        "num1=num*num\n",
        "print(num1)"
      ],
      "metadata": {
        "colab": {
          "base_uri": "https://localhost:8080/"
        },
        "id": "0OXLfBWrVA-E",
        "outputId": "1698a393-9585-45a7-f292-cf35e2019772"
      },
      "execution_count": null,
      "outputs": [
        {
          "output_type": "stream",
          "name": "stdout",
          "text": [
            "9\n"
          ]
        }
      ]
    },
    {
      "cell_type": "markdown",
      "source": [
        "**Calculate the square root.**"
      ],
      "metadata": {
        "id": "nvZWIPgXV89b"
      }
    },
    {
      "cell_type": "code",
      "source": [
        "sqrt=(num1)**(1/2)\n",
        "sqrt"
      ],
      "metadata": {
        "colab": {
          "base_uri": "https://localhost:8080/"
        },
        "id": "1XurSpJXV3bv",
        "outputId": "190b1755-65c5-4964-e711-644b7e12d014"
      },
      "execution_count": null,
      "outputs": [
        {
          "output_type": "execute_result",
          "data": {
            "text/plain": [
              "3.0"
            ]
          },
          "metadata": {},
          "execution_count": 17
        }
      ]
    },
    {
      "cell_type": "markdown",
      "source": [
        "## **4. Boolean Evaluations**"
      ],
      "metadata": {
        "id": "HJ-vcxvhWP4w"
      }
    },
    {
      "cell_type": "markdown",
      "source": [
        "**Print the result of the following evaluations:**\n",
        "* 10 > 5\n",
        "* 10 == 10\n",
        "* 8 != 9"
      ],
      "metadata": {
        "id": "AhLHf4ZZWUtn"
      }
    },
    {
      "cell_type": "code",
      "source": [
        "10>5"
      ],
      "metadata": {
        "colab": {
          "base_uri": "https://localhost:8080/"
        },
        "id": "7U2ztzhMWHIk",
        "outputId": "c659bc24-02f4-474c-adc4-a62af2cf75af"
      },
      "execution_count": null,
      "outputs": [
        {
          "output_type": "execute_result",
          "data": {
            "text/plain": [
              "True"
            ]
          },
          "metadata": {},
          "execution_count": 18
        }
      ]
    },
    {
      "cell_type": "code",
      "source": [
        "10 == 10"
      ],
      "metadata": {
        "colab": {
          "base_uri": "https://localhost:8080/"
        },
        "id": "z_12SBmCW1P6",
        "outputId": "0cf64b56-a9a0-4456-a01e-7151c5f0ba6b"
      },
      "execution_count": null,
      "outputs": [
        {
          "output_type": "execute_result",
          "data": {
            "text/plain": [
              "True"
            ]
          },
          "metadata": {},
          "execution_count": 19
        }
      ]
    },
    {
      "cell_type": "code",
      "source": [
        "8 != 9"
      ],
      "metadata": {
        "colab": {
          "base_uri": "https://localhost:8080/"
        },
        "id": "tETRJ9J7W2w6",
        "outputId": "3c077838-8b3f-4bb7-dd4c-3b3dd0553182"
      },
      "execution_count": null,
      "outputs": [
        {
          "output_type": "execute_result",
          "data": {
            "text/plain": [
              "True"
            ]
          },
          "metadata": {},
          "execution_count": 20
        }
      ]
    },
    {
      "cell_type": "markdown",
      "source": [
        "## **5. List Creation and Operations**"
      ],
      "metadata": {
        "id": "EcnA5mDyXShE"
      }
    },
    {
      "cell_type": "markdown",
      "source": [
        "**Create a list named \"colors\" containing the following items: red, blue, green.**"
      ],
      "metadata": {
        "id": "p0zKjbeFYE-Z"
      }
    },
    {
      "cell_type": "code",
      "source": [
        "colors=['red','blue','green']"
      ],
      "metadata": {
        "id": "CtpTrqanXBbb"
      },
      "execution_count": 1,
      "outputs": []
    },
    {
      "cell_type": "markdown",
      "source": [
        "**Print the list.**"
      ],
      "metadata": {
        "id": "etsjLhsrY1L9"
      }
    },
    {
      "cell_type": "code",
      "source": [
        "print(colors)"
      ],
      "metadata": {
        "colab": {
          "base_uri": "https://localhost:8080/"
        },
        "id": "ZNh7rUcXY0ps",
        "outputId": "2cbe7825-2cbd-449b-e33c-c8389482ff09"
      },
      "execution_count": 2,
      "outputs": [
        {
          "output_type": "stream",
          "name": "stdout",
          "text": [
            "['red', 'blue', 'green']\n"
          ]
        }
      ]
    },
    {
      "cell_type": "markdown",
      "source": [
        "**Print the first item in the list.**"
      ],
      "metadata": {
        "id": "VMAa6rkzZuI1"
      }
    },
    {
      "cell_type": "code",
      "source": [
        "print(colors[0])"
      ],
      "metadata": {
        "colab": {
          "base_uri": "https://localhost:8080/"
        },
        "id": "kcYVW-ViZDbV",
        "outputId": "d2eac75c-3bcc-4b3c-c171-6e6706ad2d40"
      },
      "execution_count": 3,
      "outputs": [
        {
          "output_type": "stream",
          "name": "stdout",
          "text": [
            "red\n"
          ]
        }
      ]
    },
    {
      "cell_type": "markdown",
      "source": [
        "**Replace the second item in the list with yellow.**"
      ],
      "metadata": {
        "id": "Q-qLTh05aLy6"
      }
    },
    {
      "cell_type": "code",
      "source": [
        "colors[1]='yellow'"
      ],
      "metadata": {
        "id": "ymRN-EhtaIk5"
      },
      "execution_count": 4,
      "outputs": []
    },
    {
      "cell_type": "markdown",
      "source": [
        "**Print the list again.**"
      ],
      "metadata": {
        "id": "heh8ueaaabby"
      }
    },
    {
      "cell_type": "code",
      "source": [
        "print(colors)"
      ],
      "metadata": {
        "colab": {
          "base_uri": "https://localhost:8080/"
        },
        "id": "PJcq29FLaW-G",
        "outputId": "c349d0d4-7c61-41d0-c1d2-83378e914f39"
      },
      "execution_count": 5,
      "outputs": [
        {
          "output_type": "stream",
          "name": "stdout",
          "text": [
            "['red', 'yellow', 'green']\n"
          ]
        }
      ]
    },
    {
      "cell_type": "markdown",
      "source": [
        "**Change the last item using negative indexing.**"
      ],
      "metadata": {
        "id": "cxKK2jTGbLzP"
      }
    },
    {
      "cell_type": "code",
      "source": [
        "colors[-1]='pink'\n",
        "print(colors)"
      ],
      "metadata": {
        "colab": {
          "base_uri": "https://localhost:8080/"
        },
        "id": "f__NDFCgbK-E",
        "outputId": "549e345c-7cad-4094-eeae-1fc19730a4f0"
      },
      "execution_count": 6,
      "outputs": [
        {
          "output_type": "stream",
          "name": "stdout",
          "text": [
            "['red', 'yellow', 'pink']\n"
          ]
        }
      ]
    },
    {
      "cell_type": "markdown",
      "source": [
        "## **6. Indexing and Slicing**"
      ],
      "metadata": {
        "id": "cHCy7ojsbejf"
      }
    },
    {
      "cell_type": "markdown",
      "source": [
        "**Given the list numbers = [10,20,30,40,50]**\n",
        "\n",
        "**Print the third item from the list.**"
      ],
      "metadata": {
        "id": "syquHUp2bpI8"
      }
    },
    {
      "cell_type": "code",
      "source": [
        "numbers=[10,20,30,40,50]\n",
        "print(numbers[2])"
      ],
      "metadata": {
        "colab": {
          "base_uri": "https://localhost:8080/"
        },
        "id": "kS1xpMrSbda_",
        "outputId": "dc334ec2-b2e8-49cf-85f3-e2bbf14fb230"
      },
      "execution_count": null,
      "outputs": [
        {
          "output_type": "stream",
          "name": "stdout",
          "text": [
            "30\n"
          ]
        }
      ]
    },
    {
      "cell_type": "markdown",
      "source": [
        "**Using slicing, print the first two numbers.**"
      ],
      "metadata": {
        "id": "sUsFoN5zcDKV"
      }
    },
    {
      "cell_type": "code",
      "source": [
        "print(numbers[:2])"
      ],
      "metadata": {
        "colab": {
          "base_uri": "https://localhost:8080/"
        },
        "id": "G-UrLKV_b_pq",
        "outputId": "fc9ed56f-df47-4aef-c378-054afe8c045b"
      },
      "execution_count": null,
      "outputs": [
        {
          "output_type": "stream",
          "name": "stdout",
          "text": [
            "[10, 20]\n"
          ]
        }
      ]
    },
    {
      "cell_type": "markdown",
      "source": [
        "**Getting the last three numbers using negative indexing and slicing.**"
      ],
      "metadata": {
        "id": "TGVuwVNecjvC"
      }
    },
    {
      "cell_type": "code",
      "source": [
        "numbers[-3:]"
      ],
      "metadata": {
        "colab": {
          "base_uri": "https://localhost:8080/"
        },
        "id": "yh__lqyrcJ71",
        "outputId": "cdeef3dd-300e-4450-c019-35f355b1237d"
      },
      "execution_count": null,
      "outputs": [
        {
          "output_type": "execute_result",
          "data": {
            "text/plain": [
              "[30, 40, 50]"
            ]
          },
          "metadata": {},
          "execution_count": 40
        }
      ]
    },
    {
      "cell_type": "markdown",
      "source": [
        "## **7. Manipulating Elements**"
      ],
      "metadata": {
        "id": "mN1DSM2CfvCz"
      }
    },
    {
      "cell_type": "markdown",
      "source": [
        "**Given the list animals=['cat', 'dog', 'bird']**\n",
        "\n",
        "**Print the list.**"
      ],
      "metadata": {
        "id": "fhVmTk2cgSBV"
      }
    },
    {
      "cell_type": "code",
      "source": [
        "animals=['cat','dog','bird']\n",
        "print(animals)"
      ],
      "metadata": {
        "colab": {
          "base_uri": "https://localhost:8080/"
        },
        "id": "io-0vLk1fNxm",
        "outputId": "190a0f87-e48a-4c3c-a230-6fe6ca28d844"
      },
      "execution_count": null,
      "outputs": [
        {
          "output_type": "stream",
          "name": "stdout",
          "text": [
            "['cat', 'dog', 'bird']\n"
          ]
        }
      ]
    },
    {
      "cell_type": "markdown",
      "source": [
        "**Add fish to the end of the list.**"
      ],
      "metadata": {
        "id": "-QkBOwX6gzTa"
      }
    },
    {
      "cell_type": "code",
      "source": [
        "animals.append('fish')"
      ],
      "metadata": {
        "id": "LasWsWfGgr3n"
      },
      "execution_count": null,
      "outputs": []
    },
    {
      "cell_type": "markdown",
      "source": [
        "**Print the updated list.**"
      ],
      "metadata": {
        "id": "_3QJRPe4g4Ek"
      }
    },
    {
      "cell_type": "code",
      "source": [
        "print(animals)"
      ],
      "metadata": {
        "colab": {
          "base_uri": "https://localhost:8080/"
        },
        "id": "XsiO6oXzgx4o",
        "outputId": "1a079d78-c06e-4360-8677-81177e8e56e9"
      },
      "execution_count": null,
      "outputs": [
        {
          "output_type": "stream",
          "name": "stdout",
          "text": [
            "['cat', 'dog', 'bird', 'fish']\n"
          ]
        }
      ]
    },
    {
      "cell_type": "markdown",
      "source": [
        "## **8. Sorting**"
      ],
      "metadata": {
        "id": "PbS0fcpCg-IZ"
      }
    },
    {
      "cell_type": "markdown",
      "source": [
        "**Given the list random_numbers=[42,8,15,23,16]**\n",
        "\n",
        "**Print the list.**"
      ],
      "metadata": {
        "id": "Yg7mqNoihBVM"
      }
    },
    {
      "cell_type": "code",
      "source": [
        "random_numbers=[42,8,15,23,16]\n",
        "print(random_numbers)"
      ],
      "metadata": {
        "colab": {
          "base_uri": "https://localhost:8080/"
        },
        "id": "QhvULFNNg76k",
        "outputId": "f4413223-76f7-4f1e-e5b3-fd501f422bf7"
      },
      "execution_count": null,
      "outputs": [
        {
          "output_type": "stream",
          "name": "stdout",
          "text": [
            "[42, 8, 15, 23, 16]\n"
          ]
        }
      ]
    },
    {
      "cell_type": "markdown",
      "source": [
        "**Use the sort() method to sort the list.**"
      ],
      "metadata": {
        "id": "B8Uibj87iKoz"
      }
    },
    {
      "cell_type": "code",
      "source": [
        "random_numbers.sort()"
      ],
      "metadata": {
        "id": "zKiQamw1hVgk"
      },
      "execution_count": null,
      "outputs": []
    },
    {
      "cell_type": "markdown",
      "source": [
        "**Print the sorted list.**"
      ],
      "metadata": {
        "id": "dxRW96yciVuo"
      }
    },
    {
      "cell_type": "code",
      "source": [
        "print(random_numbers)"
      ],
      "metadata": {
        "colab": {
          "base_uri": "https://localhost:8080/"
        },
        "id": "jCVHrhxfiU7t",
        "outputId": "b35fe172-cb23-4dc8-9132-175482ef2a91"
      },
      "execution_count": null,
      "outputs": [
        {
          "output_type": "stream",
          "name": "stdout",
          "text": [
            "[8, 15, 16, 23, 42]\n"
          ]
        }
      ]
    },
    {
      "cell_type": "markdown",
      "source": [
        "**Print every second item from the sorted list.**"
      ],
      "metadata": {
        "id": "2CuQuNQkihZh"
      }
    },
    {
      "cell_type": "code",
      "source": [
        "print(random_numbers[1::2])"
      ],
      "metadata": {
        "colab": {
          "base_uri": "https://localhost:8080/"
        },
        "id": "dnngw5PiiflQ",
        "outputId": "96b0401c-ccbf-4659-9f8e-34566be5572b"
      },
      "execution_count": null,
      "outputs": [
        {
          "output_type": "stream",
          "name": "stdout",
          "text": [
            "[15, 23]\n"
          ]
        }
      ]
    },
    {
      "cell_type": "code",
      "source": [],
      "metadata": {
        "id": "r-jhH6Ski0GU"
      },
      "execution_count": null,
      "outputs": []
    }
  ]
}