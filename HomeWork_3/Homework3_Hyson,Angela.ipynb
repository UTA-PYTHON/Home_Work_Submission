{
  "nbformat": 4,
  "nbformat_minor": 0,
  "metadata": {
    "colab": {
      "provenance": [],
      "collapsed_sections": [
        "4eLOxQHS6u6r",
        "lp-SCPiK-S9d",
        "zDe907JvD08P",
        "whotwNY4JxEI",
        "fLGD3sgxKJAA",
        "KQHNjg_PK3Oe",
        "0ZP5Vx6kON7g",
        "GwoHdPX_OfhZ"
      ]
    },
    "kernelspec": {
      "name": "python3",
      "display_name": "Python 3"
    },
    "language_info": {
      "name": "python"
    }
  },
  "cells": [
    {
      "cell_type": "markdown",
      "source": [
        "# **Homework 3: Data Types, User Input, and Data Structure**\n",
        "### Angela Hyson\n",
        "### Due date: September 22nd (extended: Sep. 27)"
      ],
      "metadata": {
        "id": "Y8pPRQS75sBP"
      }
    },
    {
      "cell_type": "markdown",
      "source": [
        "## **Part 1: Printing, Data Types, and Input**"
      ],
      "metadata": {
        "id": "4eLOxQHS6u6r"
      }
    },
    {
      "cell_type": "code",
      "execution_count": null,
      "metadata": {
        "colab": {
          "base_uri": "https://localhost:8080/"
        },
        "id": "6ctDFMiy5kiR",
        "outputId": "b4ab67a3-f895-4062-9555-02c01f0b2675"
      },
      "outputs": [
        {
          "output_type": "stream",
          "name": "stdout",
          "text": [
            "Enter your name: Angela\n",
            "Enter your age: 20\n",
            "Hello, Angela. You are 20 years old.\n"
          ]
        }
      ],
      "source": [
        "# Ask the user for their name and their age.\n",
        "name=input('Enter your name: ')\n",
        "age=int(input('Enter your age: ')) # Changed inputted age from a string into an integer\n",
        "\n",
        "# Print a statement saying: \"Hello, [name]. You are [age] years old.\"\n",
        "print('Hello,', name+ '. You are', age, 'years old.')"
      ]
    },
    {
      "cell_type": "code",
      "source": [
        "# Print the data type of each variable.\n",
        "type(name)"
      ],
      "metadata": {
        "colab": {
          "base_uri": "https://localhost:8080/"
        },
        "id": "YowNpxAN8IYe",
        "outputId": "1e41c5ca-aca7-4169-877e-2a024b2dd703"
      },
      "execution_count": null,
      "outputs": [
        {
          "output_type": "execute_result",
          "data": {
            "text/plain": [
              "str"
            ]
          },
          "metadata": {},
          "execution_count": 13
        }
      ]
    },
    {
      "cell_type": "code",
      "source": [
        "type(age)"
      ],
      "metadata": {
        "colab": {
          "base_uri": "https://localhost:8080/"
        },
        "id": "Ie4wB_Cw9_XF",
        "outputId": "14c4d0f4-bf3c-44b0-c5ee-2d21dac63ae6"
      },
      "execution_count": null,
      "outputs": [
        {
          "output_type": "execute_result",
          "data": {
            "text/plain": [
              "int"
            ]
          },
          "metadata": {},
          "execution_count": 14
        }
      ]
    },
    {
      "cell_type": "markdown",
      "source": [
        "## **Part 2: String Manipulations and Input**"
      ],
      "metadata": {
        "id": "lp-SCPiK-S9d"
      }
    },
    {
      "cell_type": "code",
      "source": [
        "# Ask the user for the name of their hometown.\n",
        "home=input('Enter your hometown: ')\n",
        "\n",
        "# Print the name of the hometown in uppercase.\n",
        "home.upper\n",
        "print(home)"
      ],
      "metadata": {
        "colab": {
          "base_uri": "https://localhost:8080/"
        },
        "id": "0ea2ubiT-PXD",
        "outputId": "4c420b28-3a28-4fe2-8509-ecf0fc526b06"
      },
      "execution_count": null,
      "outputs": [
        {
          "output_type": "stream",
          "name": "stdout",
          "text": [
            "Enter your hometown: Fayetteville\n",
            "Fayetteville\n"
          ]
        }
      ]
    },
    {
      "cell_type": "code",
      "source": [
        "# Print the first three characters of the hometown's name using slicing.\n",
        "home[:3]"
      ],
      "metadata": {
        "colab": {
          "base_uri": "https://localhost:8080/",
          "height": 36
        },
        "id": "SWZJeq9h_SB2",
        "outputId": "b5b1c55c-723c-49ec-f7ea-59d4de13230c"
      },
      "execution_count": null,
      "outputs": [
        {
          "output_type": "execute_result",
          "data": {
            "text/plain": [
              "'Fay'"
            ],
            "application/vnd.google.colaboratory.intrinsic+json": {
              "type": "string"
            }
          },
          "metadata": {},
          "execution_count": 25
        }
      ]
    },
    {
      "cell_type": "code",
      "source": [
        "# Printing the name in reverse using slicing.\n",
        "home[::-1]"
      ],
      "metadata": {
        "colab": {
          "base_uri": "https://localhost:8080/",
          "height": 36
        },
        "id": "YduHGFgqDSfc",
        "outputId": "d3bd6e44-ac1b-4f09-ff82-0ab4b3f78ceb"
      },
      "execution_count": null,
      "outputs": [
        {
          "output_type": "execute_result",
          "data": {
            "text/plain": [
              "'ellivetteyaF'"
            ],
            "application/vnd.google.colaboratory.intrinsic+json": {
              "type": "string"
            }
          },
          "metadata": {},
          "execution_count": 26
        }
      ]
    },
    {
      "cell_type": "markdown",
      "source": [
        "## **Part 3: Numeric Operations and Input**\n",
        "\n",
        "\n"
      ],
      "metadata": {
        "id": "zDe907JvD08P"
      }
    },
    {
      "cell_type": "code",
      "source": [
        "# Prompt the user to enter a number.\n",
        "num=int(input('Enter a number: '))\n",
        "\n",
        "# Multiply the number by itself and print the result.\n",
        "num*num"
      ],
      "metadata": {
        "colab": {
          "base_uri": "https://localhost:8080/"
        },
        "id": "GspkBdF_Dtxx",
        "outputId": "d429714e-1628-4537-9830-e1d3df5981bb"
      },
      "execution_count": null,
      "outputs": [
        {
          "name": "stdout",
          "output_type": "stream",
          "text": [
            "Enter a number: 5\n"
          ]
        },
        {
          "output_type": "execute_result",
          "data": {
            "text/plain": [
              "25"
            ]
          },
          "metadata": {},
          "execution_count": 28
        }
      ]
    },
    {
      "cell_type": "code",
      "source": [
        "# Calculating the square root.\n",
        "pro=num*num\n",
        "import math\n",
        "math.sqrt(pro)"
      ],
      "metadata": {
        "colab": {
          "base_uri": "https://localhost:8080/"
        },
        "id": "N2Gn4tnpEVdd",
        "outputId": "1cca409c-3dd7-4af3-9e25-517e8c17306b"
      },
      "execution_count": null,
      "outputs": [
        {
          "output_type": "execute_result",
          "data": {
            "text/plain": [
              "5.0"
            ]
          },
          "metadata": {},
          "execution_count": 38
        }
      ]
    },
    {
      "cell_type": "markdown",
      "source": [
        "## **Part 4: Boolean Evaluations**"
      ],
      "metadata": {
        "id": "whotwNY4JxEI"
      }
    },
    {
      "cell_type": "code",
      "source": [
        "# Print the result of the following evaluations:\n",
        "10 > 5"
      ],
      "metadata": {
        "colab": {
          "base_uri": "https://localhost:8080/"
        },
        "id": "MmW4g7e0J1Mg",
        "outputId": "5ce0d417-b1d8-412d-91f0-972683d63117"
      },
      "execution_count": null,
      "outputs": [
        {
          "output_type": "execute_result",
          "data": {
            "text/plain": [
              "True"
            ]
          },
          "metadata": {},
          "execution_count": 42
        }
      ]
    },
    {
      "cell_type": "code",
      "source": [
        "10 == 10"
      ],
      "metadata": {
        "colab": {
          "base_uri": "https://localhost:8080/"
        },
        "id": "7FoNFyKYKCK8",
        "outputId": "20aa2b90-98bc-4e5c-8aae-4da513446d18"
      },
      "execution_count": null,
      "outputs": [
        {
          "output_type": "execute_result",
          "data": {
            "text/plain": [
              "True"
            ]
          },
          "metadata": {},
          "execution_count": 43
        }
      ]
    },
    {
      "cell_type": "code",
      "source": [
        "8 != 9"
      ],
      "metadata": {
        "colab": {
          "base_uri": "https://localhost:8080/"
        },
        "id": "0pKAGY1sKEjx",
        "outputId": "fc74e618-4523-42ee-af9a-5549d7c59179"
      },
      "execution_count": null,
      "outputs": [
        {
          "output_type": "execute_result",
          "data": {
            "text/plain": [
              "True"
            ]
          },
          "metadata": {},
          "execution_count": 44
        }
      ]
    },
    {
      "cell_type": "markdown",
      "source": [
        "## **Part 5: List Creation and Operations**"
      ],
      "metadata": {
        "id": "fLGD3sgxKJAA"
      }
    },
    {
      "cell_type": "code",
      "source": [
        "# Create a list named colors containing the following items: red, blue, green.\n",
        "colors=['red','blue','green']\n",
        "\n",
        "# Print the list.\n",
        "print(colors)"
      ],
      "metadata": {
        "colab": {
          "base_uri": "https://localhost:8080/"
        },
        "id": "ekhkTES9KGTl",
        "outputId": "556cd1f2-b710-4355-f3e7-cbdf86ce2a47"
      },
      "execution_count": 2,
      "outputs": [
        {
          "output_type": "stream",
          "name": "stdout",
          "text": [
            "['red', 'blue', 'green']\n"
          ]
        }
      ]
    },
    {
      "cell_type": "code",
      "source": [
        "# Print the first item in the list.\n",
        "colors[0]"
      ],
      "metadata": {
        "colab": {
          "base_uri": "https://localhost:8080/",
          "height": 35
        },
        "id": "D8nMMBGEKmb_",
        "outputId": "be554da8-9e1f-47e5-ab2c-42aeca76d714"
      },
      "execution_count": 3,
      "outputs": [
        {
          "output_type": "execute_result",
          "data": {
            "text/plain": [
              "'red'"
            ],
            "application/vnd.google.colaboratory.intrinsic+json": {
              "type": "string"
            }
          },
          "metadata": {},
          "execution_count": 3
        }
      ]
    },
    {
      "cell_type": "code",
      "source": [
        "# Replace the second item in the list with yellow.\n",
        "colors[1]='yellow'\n",
        "\n",
        "# Print the list again.\n",
        "print(colors)"
      ],
      "metadata": {
        "id": "A2xYP9u5KtYQ",
        "colab": {
          "base_uri": "https://localhost:8080/"
        },
        "outputId": "d70465d5-2e30-452f-979c-88840a4103b2"
      },
      "execution_count": 4,
      "outputs": [
        {
          "output_type": "stream",
          "name": "stdout",
          "text": [
            "['red', 'yellow', 'green']\n"
          ]
        }
      ]
    },
    {
      "cell_type": "code",
      "source": [
        "# Changing the last item using negative indexing.\n",
        "colors[-1]='purple' #changed last item (blue) to purple\n",
        "print(colors)"
      ],
      "metadata": {
        "id": "vt3a5DDOKxDk",
        "colab": {
          "base_uri": "https://localhost:8080/"
        },
        "outputId": "2ca2ed5d-1a39-4e5b-a3d7-c927ecbea95d"
      },
      "execution_count": 6,
      "outputs": [
        {
          "output_type": "stream",
          "name": "stdout",
          "text": [
            "['red', 'yellow', 'purple']\n"
          ]
        }
      ]
    },
    {
      "cell_type": "markdown",
      "source": [
        "## **Part 6: Indexing and Slicing**"
      ],
      "metadata": {
        "id": "KQHNjg_PK3Oe"
      }
    },
    {
      "cell_type": "code",
      "source": [
        "# Given the list numbers = [10, 20, 30, 40, 50]\n",
        "list_num=[10,20,30,40,50]\n",
        "\n",
        "# Print the third item from the list.\n",
        "print(list_num[2])"
      ],
      "metadata": {
        "id": "g7_xGqvcK_vD",
        "colab": {
          "base_uri": "https://localhost:8080/"
        },
        "outputId": "52ae2bec-a6ae-4108-81a3-d8aaa8840826"
      },
      "execution_count": 10,
      "outputs": [
        {
          "output_type": "stream",
          "name": "stdout",
          "text": [
            "30\n"
          ]
        }
      ]
    },
    {
      "cell_type": "code",
      "source": [
        "# Using slicing, print the first two numbers.\n",
        "print(list_num[0:2])"
      ],
      "metadata": {
        "id": "gQAipjhIOI0u",
        "colab": {
          "base_uri": "https://localhost:8080/"
        },
        "outputId": "1ff861bc-60cf-4110-b25e-76957740735c"
      },
      "execution_count": 12,
      "outputs": [
        {
          "output_type": "stream",
          "name": "stdout",
          "text": [
            "[10, 20]\n"
          ]
        }
      ]
    },
    {
      "cell_type": "code",
      "source": [
        "# Getting the last three numbers using negative indexing and slicing.\n",
        "print(list_num[-3:])"
      ],
      "metadata": {
        "id": "c8lek0glOMOa",
        "colab": {
          "base_uri": "https://localhost:8080/"
        },
        "outputId": "e7931d74-a8e2-4482-b93a-e2517e14032e"
      },
      "execution_count": 16,
      "outputs": [
        {
          "output_type": "stream",
          "name": "stdout",
          "text": [
            "[30, 40, 50]\n"
          ]
        }
      ]
    },
    {
      "cell_type": "markdown",
      "source": [
        "## **Part 7: Manipulating Elements**"
      ],
      "metadata": {
        "id": "0ZP5Vx6kON7g"
      }
    },
    {
      "cell_type": "code",
      "source": [
        "# Given the list animals = ['cat', 'dog', 'bird']\n",
        "animals=['cat','dog','bird']\n",
        "\n",
        "# Print the list.\n",
        "print(animals)"
      ],
      "metadata": {
        "id": "NYCsqdFHOUUF",
        "colab": {
          "base_uri": "https://localhost:8080/"
        },
        "outputId": "3d6284f0-ae43-4d5c-f810-365b1d0a6f71"
      },
      "execution_count": 17,
      "outputs": [
        {
          "output_type": "stream",
          "name": "stdout",
          "text": [
            "['cat', 'dog', 'bird']\n"
          ]
        }
      ]
    },
    {
      "cell_type": "code",
      "source": [
        "# Add fish to the end of the list.\n",
        "animals.append('fish')\n",
        "\n",
        "# Print the updated list.\n",
        "print(animals)"
      ],
      "metadata": {
        "id": "OlXLKY4zOaem",
        "colab": {
          "base_uri": "https://localhost:8080/"
        },
        "outputId": "678c7744-01b0-4097-f1aa-af03543cc547"
      },
      "execution_count": 18,
      "outputs": [
        {
          "output_type": "stream",
          "name": "stdout",
          "text": [
            "['cat', 'dog', 'bird', 'fish']\n"
          ]
        }
      ]
    },
    {
      "cell_type": "markdown",
      "source": [
        "## **Part 8: Sorting**"
      ],
      "metadata": {
        "id": "GwoHdPX_OfhZ"
      }
    },
    {
      "cell_type": "code",
      "source": [
        "# Given the list random_numbers = [42, 8, 15, 23, 16]\n",
        "random_num=[42,8,15,23,16]\n",
        "\n",
        "# Print the list.\n",
        "print(random_num)"
      ],
      "metadata": {
        "id": "Fxq6Hx8kOjW5",
        "colab": {
          "base_uri": "https://localhost:8080/"
        },
        "outputId": "29e9fd68-6ed4-4bd7-ac32-1a6d16e39c23"
      },
      "execution_count": 19,
      "outputs": [
        {
          "output_type": "stream",
          "name": "stdout",
          "text": [
            "[42, 8, 15, 23, 16]\n"
          ]
        }
      ]
    },
    {
      "cell_type": "code",
      "source": [
        "# Use the sort() method to sort the list.\n",
        "random_num.sort()\n",
        "\n",
        "# Print the sorted list.\n",
        "print(random_num)"
      ],
      "metadata": {
        "id": "OhjFTUx5OplF",
        "colab": {
          "base_uri": "https://localhost:8080/"
        },
        "outputId": "a669c338-faea-47bc-9588-9b3e941e296c"
      },
      "execution_count": 21,
      "outputs": [
        {
          "output_type": "stream",
          "name": "stdout",
          "text": [
            "[8, 15, 16, 23, 42]\n"
          ]
        }
      ]
    },
    {
      "cell_type": "code",
      "source": [
        "# Print every second item from the sorted list.\n",
        "print(random_num[::2])"
      ],
      "metadata": {
        "id": "UsDuGvS3Os7H",
        "colab": {
          "base_uri": "https://localhost:8080/"
        },
        "outputId": "3f9af29d-8893-4883-bcc6-2c176bb7875f"
      },
      "execution_count": 22,
      "outputs": [
        {
          "output_type": "stream",
          "name": "stdout",
          "text": [
            "[8, 16, 42]\n"
          ]
        }
      ]
    },
    {
      "cell_type": "code",
      "source": [],
      "metadata": {
        "id": "spHGDCgz4UCQ"
      },
      "execution_count": null,
      "outputs": []
    }
  ]
}