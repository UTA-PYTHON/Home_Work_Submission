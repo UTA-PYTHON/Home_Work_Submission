{
  "nbformat": 4,
  "nbformat_minor": 0,
  "metadata": {
    "colab": {
      "provenance": []
    },
    "kernelspec": {
      "name": "python3",
      "display_name": "Python 3"
    },
    "language_info": {
      "name": "python"
    }
  },
  "cells": [
    {
      "cell_type": "markdown",
      "source": [
        "# **Homework 3**\n",
        "### Tim Reynolds\n",
        "### 1001912015"
      ],
      "metadata": {
        "id": "N1OVvD3qowgf"
      }
    },
    {
      "cell_type": "markdown",
      "source": [
        "# **1. Printing, Data Types, and Input**\n",
        "- Ask the user for their name and their age.\n",
        "- Print a statement saying: \"Hello, [name]. You are [age] years old.\"\n",
        "- Print the data type of each variable."
      ],
      "metadata": {
        "id": "eSWx75lRo8Dn"
      }
    },
    {
      "cell_type": "code",
      "source": [
        "name = str(input(\"Enter your name\"))\n",
        "age = int(input(\"Enter your age\"))\n",
        "print(\"Hello,\",name,\". You are\",age,\"years old.\")\n",
        "print(type(name),type(age))\n"
      ],
      "metadata": {
        "colab": {
          "base_uri": "https://localhost:8080/"
        },
        "id": "M5_OlMVXo7PT",
        "outputId": "b87f34dc-09c1-4bb1-aff0-55c6e9556167"
      },
      "execution_count": null,
      "outputs": [
        {
          "output_type": "stream",
          "name": "stdout",
          "text": [
            "Enter your nameTim\n",
            "Enter your age23\n",
            "Hello, Tim . You are 23 years old.\n",
            "<class 'str'> <class 'int'>\n"
          ]
        }
      ]
    },
    {
      "cell_type": "markdown",
      "source": [
        "# **2. String Manipulations and Input**\n",
        "- Ask the user for the name of their hometown.\n",
        "- Print the name of the hometown in uppercase.\n",
        "- Print the first three characters of the hometown's name using slicing.\n",
        "- Printing the name in reverse using slicing."
      ],
      "metadata": {
        "id": "TtCfSaivqomH"
      }
    },
    {
      "cell_type": "code",
      "source": [
        "from typing import Reversible\n",
        "hometown = input(\"Enter the name of your hometown:\")\n",
        "print(hometown.upper())\n",
        "print(hometown[0:3])\n",
        "print(hometown[-1::-1])"
      ],
      "metadata": {
        "colab": {
          "base_uri": "https://localhost:8080/"
        },
        "id": "0H2ABH0VqHJc",
        "outputId": "fa8ba901-cb19-46f5-ccd1-68ef8a418fe2"
      },
      "execution_count": null,
      "outputs": [
        {
          "output_type": "stream",
          "name": "stdout",
          "text": [
            "Enter the name of your hometown:Fort Worth\n",
            "FORT WORTH\n",
            "For\n",
            "htroW troF\n"
          ]
        }
      ]
    },
    {
      "cell_type": "markdown",
      "source": [
        "# **3. Numeric Operations and Input**\n",
        "- Prompt the user to enter a number.\n",
        "- Multiply the number by itself and print the result.\n",
        "- Calculating the square root."
      ],
      "metadata": {
        "id": "9zia7ot9sGCC"
      }
    },
    {
      "cell_type": "code",
      "source": [
        "num = int(input(\"Enter a number:\"))\n",
        "num = num * num\n",
        "print(num)\n",
        "print(num**(1/2))"
      ],
      "metadata": {
        "colab": {
          "base_uri": "https://localhost:8080/"
        },
        "id": "xuvF9BHArbhL",
        "outputId": "4d0d6be5-0d62-4cf2-819a-8940faa80418"
      },
      "execution_count": null,
      "outputs": [
        {
          "output_type": "stream",
          "name": "stdout",
          "text": [
            "Enter a number:9\n",
            "81\n",
            "9.0\n"
          ]
        }
      ]
    },
    {
      "cell_type": "markdown",
      "source": [
        "# 4. **Boolean Evaluations**\n",
        "- Print the result of the following evaluations:\n",
        "-- 10 > 5\n",
        "-- 10 == 10\n",
        "-- 8 != 9"
      ],
      "metadata": {
        "id": "1RBYtctztyZB"
      }
    },
    {
      "cell_type": "code",
      "source": [
        "print(10>5, 10==10, 8!=9)"
      ],
      "metadata": {
        "colab": {
          "base_uri": "https://localhost:8080/"
        },
        "id": "u8WBTS-SsrBL",
        "outputId": "94afffed-4e04-4493-acfa-f04f5caadacf"
      },
      "execution_count": null,
      "outputs": [
        {
          "output_type": "stream",
          "name": "stdout",
          "text": [
            "True True True\n"
          ]
        }
      ]
    },
    {
      "cell_type": "markdown",
      "source": [
        "# **5. List Creation and Operations**\n",
        "-Create a list named colors containing the following items: red, blue, green.\n",
        "- Print the list.\n",
        "- Print the first item in the list.\n",
        "- Replace the second item in the list with yellow.\n",
        "- Print the list again.\n",
        "- Changing the last item using negative indexing.\n"
      ],
      "metadata": {
        "id": "GUxRaQx1ul44"
      }
    },
    {
      "cell_type": "code",
      "source": [
        "colors = [\"red\",\"blue\",\"green\"]\n",
        "print(colors)\n",
        "print(colors[0])\n",
        "colors[1] = \"yellow\"\n",
        "print(colors)\n",
        "colors[-1] = \"Purple\"\n",
        "print(colors)"
      ],
      "metadata": {
        "colab": {
          "base_uri": "https://localhost:8080/"
        },
        "id": "_osAwG2NuYj7",
        "outputId": "74a5d0ca-7ed3-489b-d237-b64c0a53c556"
      },
      "execution_count": 8,
      "outputs": [
        {
          "output_type": "stream",
          "name": "stdout",
          "text": [
            "['red', 'blue', 'green']\n",
            "red\n",
            "['red', 'yellow', 'green']\n",
            "['red', 'yellow', 'Purple']\n"
          ]
        }
      ]
    },
    {
      "cell_type": "markdown",
      "source": [
        "# **6. Indexing and Slicing**\n",
        "\n",
        "\n",
        "- Given the list numbers = [10, 20, 30, 40, 50]\n",
        "- Print the third item from the list.\n",
        "- Using slicing, print the first two numbers.\n",
        "- Getting the last three numbers using negative indexing and slicing."
      ],
      "metadata": {
        "id": "8uiMCC8on9fy"
      }
    },
    {
      "cell_type": "code",
      "source": [
        "numbers = [10, 20, 30, 40, 50]\n",
        "print(numbers[2])\n",
        "print(numbers[0:1])\n",
        "print(numbers[-3:])"
      ],
      "metadata": {
        "id": "Y2Qghm5GvNJN",
        "colab": {
          "base_uri": "https://localhost:8080/"
        },
        "outputId": "c02997f7-87e8-4f9c-fc63-d3292f233210"
      },
      "execution_count": 15,
      "outputs": [
        {
          "output_type": "stream",
          "name": "stdout",
          "text": [
            "30\n",
            "[10]\n",
            "[30, 40, 50]\n"
          ]
        }
      ]
    },
    {
      "cell_type": "markdown",
      "source": [
        "# **7. Manipulating Elements**\n",
        "\n",
        "\n",
        "- Given the list animals = ['cat', 'dog', 'bird']\n",
        "- Print the list.\n",
        "- Add fish to the end of the list.\n",
        "- Print the updated list."
      ],
      "metadata": {
        "id": "ZWVnbgLdpjW3"
      }
    },
    {
      "cell_type": "code",
      "source": [
        "animals = ['cat', 'dog', 'bird']\n",
        "print(animals)\n",
        "animals.append(\"fish\")\n",
        "print(animals)"
      ],
      "metadata": {
        "colab": {
          "base_uri": "https://localhost:8080/"
        },
        "id": "ha7bVlMHoWVn",
        "outputId": "5ed23eb9-be1d-424f-fa75-1de753c75787"
      },
      "execution_count": 17,
      "outputs": [
        {
          "output_type": "stream",
          "name": "stdout",
          "text": [
            "['cat', 'dog', 'bird']\n",
            "['cat', 'dog', 'bird', 'fish']\n"
          ]
        }
      ]
    },
    {
      "cell_type": "markdown",
      "source": [
        "# **8. Sorting**\n",
        "\n",
        "\n",
        "- Given the list random_numbers = [42, 8, 15, 23, 16]\n",
        "- Print the list.\n",
        "- Use the sort() method to sort the list.\n",
        "- Print the sorted list.\n",
        "- Print every second item from the sorted list."
      ],
      "metadata": {
        "id": "7aEMKs1Vp_N1"
      }
    },
    {
      "cell_type": "code",
      "source": [
        "random_numbers = [42, 8, 15, 23, 16]\n",
        "print(random_numbers)\n",
        "random_numbers.sort()\n",
        "print(random_numbers)\n",
        "print(random_numbers[::2])"
      ],
      "metadata": {
        "colab": {
          "base_uri": "https://localhost:8080/"
        },
        "id": "vJn6rwavp1QO",
        "outputId": "5954d2ee-a5a1-48ce-995a-2f32653d2ce4"
      },
      "execution_count": 18,
      "outputs": [
        {
          "output_type": "stream",
          "name": "stdout",
          "text": [
            "[42, 8, 15, 23, 16]\n",
            "[8, 15, 16, 23, 42]\n",
            "[8, 16, 42]\n"
          ]
        }
      ]
    },
    {
      "cell_type": "code",
      "source": [],
      "metadata": {
        "id": "mZxehkkrqiPd"
      },
      "execution_count": null,
      "outputs": []
    }
  ]
}