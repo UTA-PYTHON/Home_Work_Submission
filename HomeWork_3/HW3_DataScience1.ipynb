{
  "nbformat": 4,
  "nbformat_minor": 0,
  "metadata": {
    "colab": {
      "provenance": []
    },
    "kernelspec": {
      "name": "python3",
      "display_name": "Python 3"
    },
    "language_info": {
      "name": "python"
    }
  },
  "cells": [
    {
      "cell_type": "markdown",
      "source": [
        "##**Zamzam Omulo**##"
      ],
      "metadata": {
        "id": "N-6YtO90EAFf"
      }
    },
    {
      "cell_type": "markdown",
      "source": [
        "1. Printing, Data Types, and Input\n",
        "\n",
        "\n",
        "Ask the user for their name and their age.\n",
        "Print a statement saying: \"Hello, [name]. You are [age] years old.\"\n",
        "Print the data type of each variable."
      ],
      "metadata": {
        "id": "Sfq3BQCt4dXo"
      }
    },
    {
      "cell_type": "code",
      "execution_count": 5,
      "metadata": {
        "colab": {
          "base_uri": "https://localhost:8080/"
        },
        "id": "c72n2s144Tac",
        "outputId": "366a74d9-86c4-470e-92ee-0d6c84783b65"
      },
      "outputs": [
        {
          "output_type": "stream",
          "name": "stdout",
          "text": [
            "NameZam\n",
            "Hello Zam\n",
            "Age23\n",
            "You are 23 years old\n"
          ]
        }
      ],
      "source": [
        "Name=\"\"\n",
        "Age=''\n",
        "print(\"Hello\",input(\"Name\"))\n",
        "print(\"You are\",input(\"Age\"),\"years old\")"
      ]
    },
    {
      "cell_type": "markdown",
      "source": [
        ". String Manipulations and Input\n",
        "\n",
        "\n",
        "Ask the user for the name of their hometown.\n",
        "Print the name of the hometown in uppercase.\n",
        "Print the first three characters of the hometown's name using slicing.\n",
        "Printing the name in reverse using slicing."
      ],
      "metadata": {
        "id": "sVw6pJZl54Es"
      }
    },
    {
      "cell_type": "code",
      "source": [
        "Hometown=\"\"\n",
        "print(input(Hometown))\n",
        "Hometown=Hometown.upper()\n",
        "print(Hometown.upper)\n",
        "Hometown[0:1]\n",
        "Hometown[-5:]\n",
        "\n",
        "\n"
      ],
      "metadata": {
        "colab": {
          "base_uri": "https://localhost:8080/",
          "height": 87
        },
        "id": "AltLtGZ95AEm",
        "outputId": "fa80daf3-e231-4f3a-853a-70b2dd844dcd"
      },
      "execution_count": 1,
      "outputs": [
        {
          "output_type": "stream",
          "name": "stdout",
          "text": [
            "Kisumu\n",
            "Kisumu\n",
            "<built-in method upper of str object at 0x7978d5d60030>\n"
          ]
        },
        {
          "output_type": "execute_result",
          "data": {
            "text/plain": [
              "''"
            ],
            "application/vnd.google.colaboratory.intrinsic+json": {
              "type": "string"
            }
          },
          "metadata": {},
          "execution_count": 1
        }
      ]
    },
    {
      "cell_type": "markdown",
      "source": [
        "3. Numeric Operations and Input\n",
        "\n",
        "\n",
        "Prompt the user to enter a number.\n",
        "Multiply the number by itself and print the result.\n",
        "Calculating the square root."
      ],
      "metadata": {
        "id": "TKoXjG8R8UXZ"
      }
    },
    {
      "cell_type": "code",
      "source": [
        "num='8'\n",
        "result=8**2\n",
        "print(result)\n",
        "new_result=(result/8)\n",
        "print(new_result)"
      ],
      "metadata": {
        "colab": {
          "base_uri": "https://localhost:8080/"
        },
        "id": "1lDTgubi66Jd",
        "outputId": "be9bb492-9158-474d-fdeb-58fce5c93e3b"
      },
      "execution_count": 7,
      "outputs": [
        {
          "output_type": "stream",
          "name": "stdout",
          "text": [
            "64\n",
            "8.0\n"
          ]
        }
      ]
    },
    {
      "cell_type": "markdown",
      "source": [
        "4. Boolean Evaluations\n",
        "\n",
        "\n",
        "Print the result of the following evaluations:\n",
        "10 > 5\n",
        "10 == 10\n",
        "8 != 9"
      ],
      "metadata": {
        "id": "J4apq1iy-FFq"
      }
    },
    {
      "cell_type": "code",
      "source": [
        "10>5"
      ],
      "metadata": {
        "colab": {
          "base_uri": "https://localhost:8080/"
        },
        "id": "P-QVcU_O8ww4",
        "outputId": "f18f40c9-93b8-4863-83c4-7b484c8d07ed"
      },
      "execution_count": 22,
      "outputs": [
        {
          "output_type": "execute_result",
          "data": {
            "text/plain": [
              "True"
            ]
          },
          "metadata": {},
          "execution_count": 22
        }
      ]
    },
    {
      "cell_type": "code",
      "source": [
        "10==10"
      ],
      "metadata": {
        "colab": {
          "base_uri": "https://localhost:8080/"
        },
        "id": "1u-8Qrdi-Hxt",
        "outputId": "06690975-452a-4e9a-fa2d-d3ae05ea914c"
      },
      "execution_count": 23,
      "outputs": [
        {
          "output_type": "execute_result",
          "data": {
            "text/plain": [
              "True"
            ]
          },
          "metadata": {},
          "execution_count": 23
        }
      ]
    },
    {
      "cell_type": "code",
      "source": [
        "8!=9"
      ],
      "metadata": {
        "colab": {
          "base_uri": "https://localhost:8080/"
        },
        "id": "sJCWFPY1-KUW",
        "outputId": "62daf671-5eaf-4263-e651-fcbf41c324cb"
      },
      "execution_count": 24,
      "outputs": [
        {
          "output_type": "execute_result",
          "data": {
            "text/plain": [
              "True"
            ]
          },
          "metadata": {},
          "execution_count": 24
        }
      ]
    },
    {
      "cell_type": "markdown",
      "source": [
        "5. List Creation and Operations\n",
        "\n",
        "\n",
        "Create a list named colors containing the following items: red, blue, green.\n",
        "Print the list.\n",
        "Print the first item in the list.\n",
        "Replace the second item in the list with yellow.\n",
        "Print the list again.\n",
        "Changing the last item using negative indexing"
      ],
      "metadata": {
        "id": "CU7QQiAg-N_f"
      }
    },
    {
      "cell_type": "code",
      "source": [
        "colors=[\"red\",\"blue\",\"green\"]\n",
        "print(\"colors\")\n",
        "\n"
      ],
      "metadata": {
        "colab": {
          "base_uri": "https://localhost:8080/"
        },
        "id": "JVUSiaro-MhA",
        "outputId": "2494e120-c0a6-4563-ca79-f5e142c64af7"
      },
      "execution_count": 27,
      "outputs": [
        {
          "output_type": "stream",
          "name": "stdout",
          "text": [
            "colors\n"
          ]
        }
      ]
    },
    {
      "cell_type": "code",
      "source": [
        "colors"
      ],
      "metadata": {
        "colab": {
          "base_uri": "https://localhost:8080/"
        },
        "id": "J_XbTeVf_gqJ",
        "outputId": "d36a8557-222d-4ee0-bc2c-5bffb7069f8e"
      },
      "execution_count": 28,
      "outputs": [
        {
          "output_type": "execute_result",
          "data": {
            "text/plain": [
              "['red', 'blue', 'green']"
            ]
          },
          "metadata": {},
          "execution_count": 28
        }
      ]
    },
    {
      "cell_type": "code",
      "source": [
        "colors[1]=\"Yellow\""
      ],
      "metadata": {
        "id": "4ujF-apY_kAE"
      },
      "execution_count": 29,
      "outputs": []
    },
    {
      "cell_type": "code",
      "source": [
        "colors"
      ],
      "metadata": {
        "colab": {
          "base_uri": "https://localhost:8080/"
        },
        "id": "ULGAVrTh_qeq",
        "outputId": "600d7baa-f3dd-471d-b918-755d1694f4ad"
      },
      "execution_count": 30,
      "outputs": [
        {
          "output_type": "execute_result",
          "data": {
            "text/plain": [
              "['red', 'Yellow', 'green']"
            ]
          },
          "metadata": {},
          "execution_count": 30
        }
      ]
    },
    {
      "cell_type": "code",
      "source": [
        "colors[-1]=\"pink\""
      ],
      "metadata": {
        "id": "J6SFUATP_ril"
      },
      "execution_count": 31,
      "outputs": []
    },
    {
      "cell_type": "code",
      "source": [
        "colors"
      ],
      "metadata": {
        "colab": {
          "base_uri": "https://localhost:8080/"
        },
        "id": "W1SGrl8y_xGk",
        "outputId": "72506554-3195-45ce-b2b5-91af6d23f74f"
      },
      "execution_count": 32,
      "outputs": [
        {
          "output_type": "execute_result",
          "data": {
            "text/plain": [
              "['red', 'Yellow', 'pink']"
            ]
          },
          "metadata": {},
          "execution_count": 32
        }
      ]
    },
    {
      "cell_type": "markdown",
      "source": [
        "6. Indexing and Slicing\n",
        "\n",
        "\n",
        "Given the list numbers = [10, 20, 30, 40, 50]\n",
        "Print the third item from the list.\n",
        "Using slicing, print the first two numbers.\n",
        "Getting the last three numbers using negative indexing and slicing."
      ],
      "metadata": {
        "id": "HIRD6mCVAje7"
      }
    },
    {
      "cell_type": "code",
      "source": [
        "num=[10,20,30,40,50]\n",
        "num[2]"
      ],
      "metadata": {
        "colab": {
          "base_uri": "https://localhost:8080/"
        },
        "id": "8UsJxH70_x0y",
        "outputId": "fd01aa29-bb64-42b5-aa83-559e850bf4f9"
      },
      "execution_count": 35,
      "outputs": [
        {
          "output_type": "execute_result",
          "data": {
            "text/plain": [
              "30"
            ]
          },
          "metadata": {},
          "execution_count": 35
        }
      ]
    },
    {
      "cell_type": "code",
      "source": [
        "num[0:1]"
      ],
      "metadata": {
        "colab": {
          "base_uri": "https://localhost:8080/"
        },
        "id": "vBnjW7V4Av_N",
        "outputId": "20ececfc-5e50-4a46-b405-3686a65e83d6"
      },
      "execution_count": 41,
      "outputs": [
        {
          "output_type": "execute_result",
          "data": {
            "text/plain": [
              "[10]"
            ]
          },
          "metadata": {},
          "execution_count": 41
        }
      ]
    },
    {
      "cell_type": "code",
      "source": [
        "num[1:2]"
      ],
      "metadata": {
        "colab": {
          "base_uri": "https://localhost:8080/"
        },
        "id": "6dolYO0xA1cI",
        "outputId": "3ea18f63-ffae-410b-9883-961527abba78"
      },
      "execution_count": 42,
      "outputs": [
        {
          "output_type": "execute_result",
          "data": {
            "text/plain": [
              "[20]"
            ]
          },
          "metadata": {},
          "execution_count": 42
        }
      ]
    },
    {
      "cell_type": "code",
      "source": [
        "num[-1:]"
      ],
      "metadata": {
        "colab": {
          "base_uri": "https://localhost:8080/"
        },
        "id": "PmMNXDHMBIIB",
        "outputId": "8fd0948c-feb4-49f3-a43d-a376f8eadb95"
      },
      "execution_count": 45,
      "outputs": [
        {
          "output_type": "execute_result",
          "data": {
            "text/plain": [
              "[50]"
            ]
          },
          "metadata": {},
          "execution_count": 45
        }
      ]
    },
    {
      "cell_type": "code",
      "source": [
        "num[-2:]"
      ],
      "metadata": {
        "colab": {
          "base_uri": "https://localhost:8080/"
        },
        "id": "bBJbu_8QBOuI",
        "outputId": "7325816f-a193-40c7-ee80-8ddbe72d13af"
      },
      "execution_count": 46,
      "outputs": [
        {
          "output_type": "execute_result",
          "data": {
            "text/plain": [
              "[40, 50]"
            ]
          },
          "metadata": {},
          "execution_count": 46
        }
      ]
    },
    {
      "cell_type": "code",
      "source": [
        "num[-3:]"
      ],
      "metadata": {
        "colab": {
          "base_uri": "https://localhost:8080/"
        },
        "id": "Xz0pMctTBZc-",
        "outputId": "f0200466-28a4-41b3-b7ee-46488a665c27"
      },
      "execution_count": 47,
      "outputs": [
        {
          "output_type": "execute_result",
          "data": {
            "text/plain": [
              "[30, 40, 50]"
            ]
          },
          "metadata": {},
          "execution_count": 47
        }
      ]
    },
    {
      "cell_type": "markdown",
      "source": [
        "7. Manipulating Elements\n",
        "\n",
        "\n",
        "Given the list animals = ['cat', 'dog', 'bird']\n",
        "Print the list.\n",
        "Add fish to the end of the list.\n",
        "Print the updated list."
      ],
      "metadata": {
        "id": "cTfa0BQmBq4R"
      }
    },
    {
      "cell_type": "code",
      "source": [
        "animals=['cat','dog','bird']\n"
      ],
      "metadata": {
        "id": "HTbjz0FJBczE"
      },
      "execution_count": 48,
      "outputs": []
    },
    {
      "cell_type": "code",
      "source": [
        "animals"
      ],
      "metadata": {
        "colab": {
          "base_uri": "https://localhost:8080/"
        },
        "id": "9VJMaNNDB4-K",
        "outputId": "a50179e3-3b39-4874-df58-04d9c953a5f2"
      },
      "execution_count": 50,
      "outputs": [
        {
          "output_type": "execute_result",
          "data": {
            "text/plain": [
              "['cat', 'dog', 'bird']"
            ]
          },
          "metadata": {},
          "execution_count": 50
        }
      ]
    },
    {
      "cell_type": "code",
      "source": [
        "animals.append('fish')"
      ],
      "metadata": {
        "id": "6vFPgAT9B57p"
      },
      "execution_count": 52,
      "outputs": []
    },
    {
      "cell_type": "code",
      "source": [
        "animals"
      ],
      "metadata": {
        "colab": {
          "base_uri": "https://localhost:8080/"
        },
        "id": "3inIzv6hCBTw",
        "outputId": "c2fb210e-4c5c-4942-d5d1-d5fee399bb91"
      },
      "execution_count": 53,
      "outputs": [
        {
          "output_type": "execute_result",
          "data": {
            "text/plain": [
              "['cat', 'dog', 'bird', 'fish']"
            ]
          },
          "metadata": {},
          "execution_count": 53
        }
      ]
    },
    {
      "cell_type": "markdown",
      "source": [
        "8. Sorting\n",
        "\n",
        "\n",
        "Given the list random_numbers = [42, 8, 15, 23, 16]\n",
        "Print the list.\n",
        "Use the sort() method to sort the list.\n",
        "Print the sorted list.\n",
        "Print every second item from the sorted list."
      ],
      "metadata": {
        "id": "r7vK_PLtCKwB"
      }
    },
    {
      "cell_type": "code",
      "source": [
        "random_numbers=[42,8,15,23,16]\n"
      ],
      "metadata": {
        "id": "bct4iDCfCI0k"
      },
      "execution_count": 54,
      "outputs": []
    },
    {
      "cell_type": "code",
      "source": [
        "random_numbers"
      ],
      "metadata": {
        "colab": {
          "base_uri": "https://localhost:8080/"
        },
        "id": "MNUcgNfkCkaW",
        "outputId": "5c7bc25a-9d2d-4810-9f97-164bc1a3e098"
      },
      "execution_count": 55,
      "outputs": [
        {
          "output_type": "execute_result",
          "data": {
            "text/plain": [
              "[42, 8, 15, 23, 16]"
            ]
          },
          "metadata": {},
          "execution_count": 55
        }
      ]
    },
    {
      "cell_type": "code",
      "source": [
        "random_numbers.sort()"
      ],
      "metadata": {
        "id": "kZfQD3PNCm6d"
      },
      "execution_count": 56,
      "outputs": []
    },
    {
      "cell_type": "code",
      "source": [
        "random_numbers"
      ],
      "metadata": {
        "colab": {
          "base_uri": "https://localhost:8080/"
        },
        "id": "8L01JVV5Cqbc",
        "outputId": "2577ecef-2066-4290-8e4f-b0277ac748eb"
      },
      "execution_count": 57,
      "outputs": [
        {
          "output_type": "execute_result",
          "data": {
            "text/plain": [
              "[8, 15, 16, 23, 42]"
            ]
          },
          "metadata": {},
          "execution_count": 57
        }
      ]
    },
    {
      "cell_type": "code",
      "source": [
        "random_numbers[1]"
      ],
      "metadata": {
        "colab": {
          "base_uri": "https://localhost:8080/"
        },
        "id": "19bDShHGCsuM",
        "outputId": "917339c9-4679-4cca-b7ee-a535a191fb7d"
      },
      "execution_count": 67,
      "outputs": [
        {
          "output_type": "execute_result",
          "data": {
            "text/plain": [
              "15"
            ]
          },
          "metadata": {},
          "execution_count": 67
        }
      ]
    },
    {
      "cell_type": "code",
      "source": [
        "random_numbers[3]"
      ],
      "metadata": {
        "colab": {
          "base_uri": "https://localhost:8080/"
        },
        "id": "Lr0vFX13DLST",
        "outputId": "72363320-be12-4bb6-fc15-b9fea80621ab"
      },
      "execution_count": 68,
      "outputs": [
        {
          "output_type": "execute_result",
          "data": {
            "text/plain": [
              "23"
            ]
          },
          "metadata": {},
          "execution_count": 68
        }
      ]
    },
    {
      "cell_type": "code",
      "source": [],
      "metadata": {
        "id": "rdjTy5A_Dlx8"
      },
      "execution_count": null,
      "outputs": []
    }
  ]
}