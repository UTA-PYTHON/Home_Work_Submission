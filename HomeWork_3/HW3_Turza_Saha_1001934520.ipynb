{
  "cells": [
    {
      "cell_type": "markdown",
      "metadata": {
        "id": "9BmufgZNcbNK"
      },
      "source": [
        "#Question 1"
      ]
    },
    {
      "cell_type": "code",
      "execution_count": 1,
      "metadata": {
        "colab": {
          "base_uri": "https://localhost:8080/"
        },
        "id": "eiMeZY2ScFqO",
        "outputId": "25f65c31-4341-49e1-e804-c02e508f2adf"
      },
      "outputs": [
        {
          "name": "stdout",
          "output_type": "stream",
          "text": [
            "Hello, Turza. You are 29 years old.\n",
            "Name is of type: <class 'str'>\n",
            "Age is of type: <class 'str'>\n"
          ]
        }
      ],
      "source": [
        "name = input(\"Enter your name: \")\n",
        "age = input(\"Enter your age: \")\n",
        "\n",
        "print(f\"Hello, {name}. You are {age} years old.\")\n",
        "print(f\"Name is of type: {type(name)}\")\n",
        "print(f\"Age is of type: {type(age)}\")"
      ]
    },
    {
      "cell_type": "markdown",
      "metadata": {
        "id": "0XM9Asg7cfxv"
      },
      "source": [
        "#Question2"
      ]
    },
    {
      "cell_type": "code",
      "execution_count": 2,
      "metadata": {
        "colab": {
          "base_uri": "https://localhost:8080/"
        },
        "id": "409_KpiWcgua",
        "outputId": "503d974f-294e-4023-94fb-102942efe18d"
      },
      "outputs": [
        {
          "name": "stdout",
          "output_type": "stream",
          "text": [
            "Enter the name of your hometown: Kapasia\n",
            "Hometown in uppercase: KAPASIA\n",
            "First three characters: Kap\n",
            "Hometown in reverse: aisapaK\n"
          ]
        }
      ],
      "source": [
        "hometown = input(\"Enter the name of your hometown: \")\n",
        "print(\"Hometown in uppercase:\", hometown.upper())\n",
        "print(\"First three characters:\", hometown[:3])\n",
        "print(\"Hometown in reverse:\", hometown[::-1])"
      ]
    },
    {
      "cell_type": "markdown",
      "metadata": {
        "id": "ODVkhMhncwme"
      },
      "source": [
        "#Question3"
      ]
    },
    {
      "cell_type": "code",
      "execution_count": 9,
      "metadata": {
        "colab": {
          "base_uri": "https://localhost:8080/"
        },
        "id": "E_D03ls3cwFl",
        "outputId": "fd491dea-936d-4d11-b6b0-4d67e1bb3051"
      },
      "outputs": [
        {
          "name": "stdout",
          "output_type": "stream",
          "text": [
            "Enter a number: 16\n",
            "The square of 16 is: 256\n",
            "The square root is 4.0.\n"
          ]
        }
      ],
      "source": [
        "user_input = input(\"Enter a number: \")\n",
        "int_number = int(user_input)\n",
        "square = int_number * int_number\n",
        "print(f\"The square of {int_number} is: {square}\")\n",
        "\n",
        "import math\n",
        "square_root = math.sqrt(int_number)\n",
        "print(f\"The square root is {square_root}.\")"
      ]
    },
    {
      "cell_type": "markdown",
      "metadata": {
        "id": "CR8mNbBjeCbW"
      },
      "source": [
        "#Question4"
      ]
    },
    {
      "cell_type": "code",
      "execution_count": 11,
      "metadata": {
        "colab": {
          "base_uri": "https://localhost:8080/"
        },
        "id": "atfZEUTUdXZW",
        "outputId": "70c94470-070b-4e1e-89c2-c134f34013e1"
      },
      "outputs": [
        {
          "name": "stdout",
          "output_type": "stream",
          "text": [
            "10 > 5 is True\n",
            "10 == 10 is True\n",
            "8 != 9 is True\n"
          ]
        }
      ],
      "source": [
        "print(\"10 > 5 is\", 10>5)\n",
        "print(\"10 == 10 is\", 10==10)\n",
        "print(\"8 != 9 is\", 8!=9)"
      ]
    },
    {
      "cell_type": "markdown",
      "metadata": {
        "id": "icEYLpJgeMmh"
      },
      "source": [
        "#Question5"
      ]
    },
    {
      "cell_type": "code",
      "execution_count": 12,
      "metadata": {
        "colab": {
          "base_uri": "https://localhost:8080/"
        },
        "id": "d1MQdzl1eMMq",
        "outputId": "5a7b6aa0-68b2-45b1-f0ab-83a70d9a1239"
      },
      "outputs": [
        {
          "name": "stdout",
          "output_type": "stream",
          "text": [
            "Original list: ['red', 'blue', 'green']\n",
            "First item: red\n",
            "Updated list with yellow: ['red', 'yellow', 'green']\n",
            "Updated list with orange: ['red', 'yellow', 'orange']\n"
          ]
        }
      ],
      "source": [
        "\n",
        "colors = [\"red\", \"blue\", \"green\"]\n",
        "print(\"Original list:\", colors)\n",
        "\n",
        "print(\"First item:\", colors[0])\n",
        "colors[1] = \"yellow\"\n",
        "print(\"Updated list with yellow:\", colors)\n",
        "colors[-1] = \"orange\"\n",
        "print(\"Updated list with orange:\", colors)"
      ]
    },
    {
      "cell_type": "markdown",
      "metadata": {
        "id": "SYFFNYr4ie-U"
      },
      "source": [
        "#QUestion6\n"
      ]
    },
    {
      "cell_type": "code",
      "execution_count": 13,
      "metadata": {
        "colab": {
          "base_uri": "https://localhost:8080/"
        },
        "id": "Ebo2_MlSi2lS",
        "outputId": "3086902f-9583-402e-ab3a-526617acf440"
      },
      "outputs": [
        {
          "name": "stdout",
          "output_type": "stream",
          "text": [
            "Third item: 30\n",
            "First two numbers: [10, 20]\n",
            "Last three numbers: [30, 40, 50]\n"
          ]
        }
      ],
      "source": [
        "numbers = [10, 20, 30, 40, 50]\n",
        "print(\"Third item:\", numbers[2])\n",
        "print(\"First two numbers:\", numbers[:2])\n",
        "print(\"Last three numbers:\", numbers[-3:])"
      ]
    },
    {
      "cell_type": "markdown",
      "metadata": {
        "id": "1VnLlt-xjBj8"
      },
      "source": [
        "#Question7"
      ]
    },
    {
      "cell_type": "code",
      "execution_count": 14,
      "metadata": {
        "colab": {
          "base_uri": "https://localhost:8080/"
        },
        "id": "NwtaoymujDBX",
        "outputId": "c26500c4-3b02-4806-9e11-8e0b237c672e"
      },
      "outputs": [
        {
          "name": "stdout",
          "output_type": "stream",
          "text": [
            "Original list: ['cat', 'dog', 'bird']\n",
            "Updated list: ['cat', 'dog', 'bird', 'fish']\n"
          ]
        }
      ],
      "source": [
        "animals = ['cat', 'dog', 'bird']\n",
        "print(\"Original list:\", animals)\n",
        "animals.append(\"fish\")\n",
        "print(\"New list:\", animals)"
      ]
    },
    {
      "cell_type": "markdown",
      "metadata": {
        "id": "vKf7yYXQjerq"
      },
      "source": [
        "#Question8"
      ]
    },
    {
      "cell_type": "code",
      "execution_count": 15,
      "metadata": {
        "colab": {
          "base_uri": "https://localhost:8080/"
        },
        "id": "Cz85HcFFjgQY",
        "outputId": "33d859d1-0a32-471c-bf23-a52d5e55e27e"
      },
      "outputs": [
        {
          "name": "stdout",
          "output_type": "stream",
          "text": [
            "Original list: [42, 8, 15, 23, 16]\n",
            "Sorted list: [8, 15, 16, 23, 42]\n",
            "Every second item from the sorted list: [15, 23]\n"
          ]
        }
      ],
      "source": [
        "random_numbers = [42, 8, 15, 23, 16]\n",
        "print(\"Original list:\", random_numbers)\n",
        "random_numbers.sort()\n",
        "print(\"Sorted list:\", random_numbers)\n",
        "print(\"Every second item from the sorted list:\", random_numbers[1::2])"
      ]
    }
  ],
  "metadata": {
    "colab": {
      "provenance": []
    },
    "kernelspec": {
      "display_name": "Python 3",
      "name": "python3"
    },
    "language_info": {
      "codemirror_mode": {
        "name": "ipython",
        "version": 3
      },
      "file_extension": ".py",
      "mimetype": "text/x-python",
      "name": "python",
      "nbconvert_exporter": "python",
      "pygments_lexer": "ipython3",
      "version": "3.11.3"
    }
  },
  "nbformat": 4,
  "nbformat_minor": 0
}
