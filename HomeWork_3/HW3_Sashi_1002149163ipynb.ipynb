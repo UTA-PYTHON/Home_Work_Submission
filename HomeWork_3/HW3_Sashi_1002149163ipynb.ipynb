{
  "nbformat": 4,
  "nbformat_minor": 0,
  "metadata": {
    "colab": {
      "provenance": []
    },
    "kernelspec": {
      "name": "python3",
      "display_name": "Python 3"
    },
    "language_info": {
      "name": "python"
    }
  },
  "cells": [
    {
      "cell_type": "markdown",
      "source": [
        "# **1. Printing, Data Types, and Input**\n",
        "* Ask the user for their name and their age.\n",
        "*Print a statement saying: \"Hello, [name]. You are [age] years old.\"\n",
        "*Print the data type of each variable."
      ],
      "metadata": {
        "id": "2BIAo-LU52L1"
      }
    },
    {
      "cell_type": "code",
      "source": [
        "name=input()\n",
        "age=input()"
      ],
      "metadata": {
        "colab": {
          "base_uri": "https://localhost:8080/"
        },
        "id": "9-_HRuDQ95eV",
        "outputId": "79a0f7c1-0b5b-4c93-e26b-692626586525"
      },
      "execution_count": 36,
      "outputs": [
        {
          "name": "stdout",
          "output_type": "stream",
          "text": [
            "Sashi\n",
            "19\n"
          ]
        }
      ]
    },
    {
      "cell_type": "code",
      "source": [
        "print(f\"Hello, {name}. You are {age} years old.\")"
      ],
      "metadata": {
        "colab": {
          "base_uri": "https://localhost:8080/"
        },
        "id": "0oPhbQ_c-b0f",
        "outputId": "32e46477-a392-40ce-90f0-fd340412b289"
      },
      "execution_count": 44,
      "outputs": [
        {
          "output_type": "stream",
          "name": "stdout",
          "text": [
            "Hello, Sashi. You are 19 years old.\n"
          ]
        }
      ]
    },
    {
      "cell_type": "code",
      "source": [
        "type(name)"
      ],
      "metadata": {
        "colab": {
          "base_uri": "https://localhost:8080/"
        },
        "id": "gKIVBlcC6FVu",
        "outputId": "dcf43cd0-e3e5-456a-81c0-a4119cf19a36"
      },
      "execution_count": 45,
      "outputs": [
        {
          "output_type": "execute_result",
          "data": {
            "text/plain": [
              "str"
            ]
          },
          "metadata": {},
          "execution_count": 45
        }
      ]
    },
    {
      "cell_type": "code",
      "source": [
        "age=19\n",
        "type(age)"
      ],
      "metadata": {
        "colab": {
          "base_uri": "https://localhost:8080/"
        },
        "id": "lf7KIzIR6Pc0",
        "outputId": "59342949-b90d-49c4-8669-dad0985449b1"
      },
      "execution_count": 48,
      "outputs": [
        {
          "output_type": "execute_result",
          "data": {
            "text/plain": [
              "int"
            ]
          },
          "metadata": {},
          "execution_count": 48
        }
      ]
    },
    {
      "cell_type": "markdown",
      "source": [
        "# **2. String Manipulations and Input**\n",
        "\n",
        "* Ask the user for the name of their hometown.\n",
        "* Print the name of the hometown in uppercase.\n",
        "* Print the first three characters of the hometown's name using slicing.\n",
        "* Printing the name in reverse using slicing."
      ],
      "metadata": {
        "id": "JmdJnPH-6Tdf"
      }
    },
    {
      "cell_type": "code",
      "source": [
        "name= input(\"Enter your hometown:\")"
      ],
      "metadata": {
        "colab": {
          "base_uri": "https://localhost:8080/"
        },
        "id": "cDOSO8-J6SQW",
        "outputId": "182c6325-05c9-41ee-c89f-0d547978aa1e"
      },
      "execution_count": 60,
      "outputs": [
        {
          "name": "stdout",
          "output_type": "stream",
          "text": [
            "Enter your hometown:Water Ridge Homes\n"
          ]
        }
      ]
    },
    {
      "cell_type": "code",
      "source": [
        "name.upper()"
      ],
      "metadata": {
        "colab": {
          "base_uri": "https://localhost:8080/",
          "height": 35
        },
        "id": "fL6liBrk6YcN",
        "outputId": "ade21a0f-04fa-438e-b743-9b8b724abb12"
      },
      "execution_count": 61,
      "outputs": [
        {
          "output_type": "execute_result",
          "data": {
            "text/plain": [
              "'WATER RIDGE HOMES'"
            ],
            "application/vnd.google.colaboratory.intrinsic+json": {
              "type": "string"
            }
          },
          "metadata": {},
          "execution_count": 61
        }
      ]
    },
    {
      "cell_type": "code",
      "source": [
        "name[0:3]"
      ],
      "metadata": {
        "colab": {
          "base_uri": "https://localhost:8080/",
          "height": 35
        },
        "id": "pLIn_oRR6aJz",
        "outputId": "f06b9950-8cb1-4115-a9e0-adf931deafd2"
      },
      "execution_count": 62,
      "outputs": [
        {
          "output_type": "execute_result",
          "data": {
            "text/plain": [
              "'Wat'"
            ],
            "application/vnd.google.colaboratory.intrinsic+json": {
              "type": "string"
            }
          },
          "metadata": {},
          "execution_count": 62
        }
      ]
    },
    {
      "cell_type": "code",
      "source": [
        "name[::-1]"
      ],
      "metadata": {
        "colab": {
          "base_uri": "https://localhost:8080/",
          "height": 35
        },
        "id": "NNNDn3nc6cBT",
        "outputId": "89e740b3-6a45-4b6a-b814-aa46b5d706f5"
      },
      "execution_count": 63,
      "outputs": [
        {
          "output_type": "execute_result",
          "data": {
            "text/plain": [
              "'semoH egdiR retaW'"
            ],
            "application/vnd.google.colaboratory.intrinsic+json": {
              "type": "string"
            }
          },
          "metadata": {},
          "execution_count": 63
        }
      ]
    },
    {
      "cell_type": "markdown",
      "source": [
        "# **3. Numeric Operations and Input**\n",
        "\n",
        "* Prompt the user to enter a number.\n",
        "* Multiply the number by itself and * print the result.\n",
        "* Calculating the square root."
      ],
      "metadata": {
        "id": "5bb00lrR6fEM"
      }
    },
    {
      "cell_type": "code",
      "source": [
        "a=float(input(\"Enter a number:\"))"
      ],
      "metadata": {
        "colab": {
          "base_uri": "https://localhost:8080/"
        },
        "id": "5uBiH2k16dxt",
        "outputId": "f04a4b20-57bd-4303-a7a1-73c0ad3f9b1a"
      },
      "execution_count": 65,
      "outputs": [
        {
          "name": "stdout",
          "output_type": "stream",
          "text": [
            "Enter a number:10\n"
          ]
        }
      ]
    },
    {
      "cell_type": "code",
      "source": [
        "print(a*a)"
      ],
      "metadata": {
        "colab": {
          "base_uri": "https://localhost:8080/"
        },
        "id": "agqEkApr6jIF",
        "outputId": "501fed2c-6657-419d-88e0-05619ed4a7eb"
      },
      "execution_count": 67,
      "outputs": [
        {
          "output_type": "stream",
          "name": "stdout",
          "text": [
            "100.0\n"
          ]
        }
      ]
    },
    {
      "cell_type": "code",
      "source": [
        "import math\n",
        "square_root=math.sqrt(a)\n",
        "print(square_root)"
      ],
      "metadata": {
        "colab": {
          "base_uri": "https://localhost:8080/"
        },
        "id": "AzNLUigQ6mZ9",
        "outputId": "5214992c-3e81-4d05-f893-61ad23cfd804"
      },
      "execution_count": 71,
      "outputs": [
        {
          "output_type": "stream",
          "name": "stdout",
          "text": [
            "3.1622776601683795\n"
          ]
        }
      ]
    },
    {
      "cell_type": "markdown",
      "source": [
        "# **4. Boolean Evaluations**\n",
        "\n",
        "* Print the result of the following evaluations:\n",
        "  * 10 > 5\n",
        "  * 10 == 10\n",
        "  * 8!= 9\n"
      ],
      "metadata": {
        "id": "zoHEG2sU6pfp"
      }
    },
    {
      "cell_type": "code",
      "source": [
        "num=10\n",
        "num>5"
      ],
      "metadata": {
        "colab": {
          "base_uri": "https://localhost:8080/"
        },
        "id": "z--U5V3M6pKT",
        "outputId": "d1cd2a9c-5f8c-4e5b-ee00-5ce89d97483d"
      },
      "execution_count": 12,
      "outputs": [
        {
          "output_type": "execute_result",
          "data": {
            "text/plain": [
              "True"
            ]
          },
          "metadata": {},
          "execution_count": 12
        }
      ]
    },
    {
      "cell_type": "code",
      "source": [
        "num==10"
      ],
      "metadata": {
        "colab": {
          "base_uri": "https://localhost:8080/"
        },
        "id": "3zLfrzIr6n40",
        "outputId": "138cc119-66a0-407d-db15-b8acf4cd5c77"
      },
      "execution_count": 13,
      "outputs": [
        {
          "output_type": "execute_result",
          "data": {
            "text/plain": [
              "True"
            ]
          },
          "metadata": {},
          "execution_count": 13
        }
      ]
    },
    {
      "cell_type": "code",
      "source": [
        "num2=8\n",
        "num2 !=9"
      ],
      "metadata": {
        "colab": {
          "base_uri": "https://localhost:8080/"
        },
        "id": "8Lv0LmJA6w8e",
        "outputId": "e8b67a5c-fc75-4428-9068-e95b5c9142d2"
      },
      "execution_count": 14,
      "outputs": [
        {
          "output_type": "execute_result",
          "data": {
            "text/plain": [
              "True"
            ]
          },
          "metadata": {},
          "execution_count": 14
        }
      ]
    },
    {
      "cell_type": "markdown",
      "source": [
        "# **5. List Creation and Operations**\n",
        "\n",
        "* Create a list named colors containing the following items: red, blue, green.\n",
        "* Print the list.\n",
        "* Print the first item in the list.\n",
        "* Replace the second item in the list with yellow.\n",
        "* Print the list again.\n",
        "* Changing the last item using negative indexing."
      ],
      "metadata": {
        "id": "Zg2qpKYn60VI"
      }
    },
    {
      "cell_type": "code",
      "source": [
        "colors=[\"red\",\"blue\",\"green\"]"
      ],
      "metadata": {
        "id": "zD7ODx6b6zKz"
      },
      "execution_count": 15,
      "outputs": []
    },
    {
      "cell_type": "code",
      "source": [
        "print(colors)"
      ],
      "metadata": {
        "colab": {
          "base_uri": "https://localhost:8080/"
        },
        "id": "sHSkZSjE6427",
        "outputId": "fca0fce6-08c1-4733-d0c4-6cca1fa8b5b7"
      },
      "execution_count": 16,
      "outputs": [
        {
          "output_type": "stream",
          "name": "stdout",
          "text": [
            "['red', 'blue', 'green']\n"
          ]
        }
      ]
    },
    {
      "cell_type": "code",
      "source": [
        "colors[0]"
      ],
      "metadata": {
        "colab": {
          "base_uri": "https://localhost:8080/",
          "height": 35
        },
        "id": "hmhNDeW57DVk",
        "outputId": "a197a99c-d917-4313-a9f4-95831fd3ba4d"
      },
      "execution_count": 17,
      "outputs": [
        {
          "output_type": "execute_result",
          "data": {
            "text/plain": [
              "'red'"
            ],
            "application/vnd.google.colaboratory.intrinsic+json": {
              "type": "string"
            }
          },
          "metadata": {},
          "execution_count": 17
        }
      ]
    },
    {
      "cell_type": "code",
      "source": [
        "colors[1]=\"yellow\"\n"
      ],
      "metadata": {
        "id": "oeP2frad7FJ0"
      },
      "execution_count": 18,
      "outputs": []
    },
    {
      "cell_type": "code",
      "source": [
        "colors"
      ],
      "metadata": {
        "colab": {
          "base_uri": "https://localhost:8080/"
        },
        "id": "odoPyV9q7HK5",
        "outputId": "ae59daf8-2607-41df-ed05-fd86282e0db9"
      },
      "execution_count": 19,
      "outputs": [
        {
          "output_type": "execute_result",
          "data": {
            "text/plain": [
              "['red', 'yellow', 'green']"
            ]
          },
          "metadata": {},
          "execution_count": 19
        }
      ]
    },
    {
      "cell_type": "code",
      "source": [
        "colors[-1]=\"red\""
      ],
      "metadata": {
        "id": "nuiJWest7JPY"
      },
      "execution_count": 20,
      "outputs": []
    },
    {
      "cell_type": "code",
      "source": [
        "colors"
      ],
      "metadata": {
        "colab": {
          "base_uri": "https://localhost:8080/"
        },
        "id": "sI8-OM807L4z",
        "outputId": "bcbf6d69-166f-4eaf-f160-7aaad5f2e0dd"
      },
      "execution_count": 21,
      "outputs": [
        {
          "output_type": "execute_result",
          "data": {
            "text/plain": [
              "['red', 'yellow', 'red']"
            ]
          },
          "metadata": {},
          "execution_count": 21
        }
      ]
    },
    {
      "cell_type": "markdown",
      "source": [
        "# **6. Indexing and Slicing**\n",
        "\n",
        "* Given the list numbers = [10, 20,30, 40, 50]\n",
        "* Print the third item from the list.\n",
        "* Using slicing, print the first two numbers.\n",
        "* Getting the last three numbers using negative indexing and slicing."
      ],
      "metadata": {
        "id": "mlvlJHmI7O7g"
      }
    },
    {
      "cell_type": "code",
      "source": [
        "numbers=[10,20,30,40,50,]"
      ],
      "metadata": {
        "id": "a28Q9THW7NkU"
      },
      "execution_count": 22,
      "outputs": []
    },
    {
      "cell_type": "code",
      "source": [
        "numbers[2]\n"
      ],
      "metadata": {
        "colab": {
          "base_uri": "https://localhost:8080/"
        },
        "id": "W_WaxCmS7UQq",
        "outputId": "a4cb05a7-4c90-40b2-a182-814d8b99a859"
      },
      "execution_count": 23,
      "outputs": [
        {
          "output_type": "execute_result",
          "data": {
            "text/plain": [
              "30"
            ]
          },
          "metadata": {},
          "execution_count": 23
        }
      ]
    },
    {
      "cell_type": "code",
      "source": [
        "numbers[0:2]"
      ],
      "metadata": {
        "colab": {
          "base_uri": "https://localhost:8080/"
        },
        "id": "hi-ffrEo7ZHb",
        "outputId": "bf80bd6d-1ebc-4401-dd38-ffdd6c4023ba"
      },
      "execution_count": 24,
      "outputs": [
        {
          "output_type": "execute_result",
          "data": {
            "text/plain": [
              "[10, 20]"
            ]
          },
          "metadata": {},
          "execution_count": 24
        }
      ]
    },
    {
      "cell_type": "code",
      "source": [
        "numbers[-3:]"
      ],
      "metadata": {
        "colab": {
          "base_uri": "https://localhost:8080/"
        },
        "id": "zbyvJN8G7d0y",
        "outputId": "1ef025be-6d68-4bfe-e4ba-d9d1ff585cd4"
      },
      "execution_count": 25,
      "outputs": [
        {
          "output_type": "execute_result",
          "data": {
            "text/plain": [
              "[30, 40, 50]"
            ]
          },
          "metadata": {},
          "execution_count": 25
        }
      ]
    },
    {
      "cell_type": "markdown",
      "source": [
        "# **7. Manipulating Elements**\n",
        "\n",
        "* Given the list animals = ['cat', 'dog', 'bird']\n",
        "* Print the list.\n",
        "* Add fish to the end of the list.\n",
        "* Print the updated list."
      ],
      "metadata": {
        "id": "Tn34jO848qDx"
      }
    },
    {
      "cell_type": "code",
      "source": [
        "animals=['cat','dog','bird']"
      ],
      "metadata": {
        "id": "nqiDvI0_8oFl"
      },
      "execution_count": 26,
      "outputs": []
    },
    {
      "cell_type": "code",
      "source": [
        "animals"
      ],
      "metadata": {
        "colab": {
          "base_uri": "https://localhost:8080/"
        },
        "id": "dTYCFlka8zSg",
        "outputId": "02cb52aa-960b-4552-aeab-114afc0310f9"
      },
      "execution_count": 27,
      "outputs": [
        {
          "output_type": "execute_result",
          "data": {
            "text/plain": [
              "['cat', 'dog', 'bird']"
            ]
          },
          "metadata": {},
          "execution_count": 27
        }
      ]
    },
    {
      "cell_type": "code",
      "source": [
        "animals.append('fish')"
      ],
      "metadata": {
        "id": "XIjz-XiR81Uq"
      },
      "execution_count": 28,
      "outputs": []
    },
    {
      "cell_type": "code",
      "source": [
        "animals"
      ],
      "metadata": {
        "colab": {
          "base_uri": "https://localhost:8080/"
        },
        "id": "u0UL8Jz_83S-",
        "outputId": "b8de6f31-0740-44f6-cfee-46e08ec4ed88"
      },
      "execution_count": 29,
      "outputs": [
        {
          "output_type": "execute_result",
          "data": {
            "text/plain": [
              "['cat', 'dog', 'bird', 'fish']"
            ]
          },
          "metadata": {},
          "execution_count": 29
        }
      ]
    },
    {
      "cell_type": "markdown",
      "source": [
        "# **8. Sorting**\n",
        "\n",
        "* Given the list random_numbers = [42, 8, 15, 23, 16]\n",
        "* Print the list.\n",
        "* Use the sort() method to sort the list.\n",
        "* Print the sorted list.\n",
        "* Print every second item from the sorted list."
      ],
      "metadata": {
        "id": "yiqSNXYq86cu"
      }
    },
    {
      "cell_type": "code",
      "source": [
        "random_numbers=[42,8,15,23,16]"
      ],
      "metadata": {
        "id": "x3DJ7p5C85Vv"
      },
      "execution_count": 30,
      "outputs": []
    },
    {
      "cell_type": "code",
      "source": [
        "R=random_numbers\n",
        "print(R)"
      ],
      "metadata": {
        "colab": {
          "base_uri": "https://localhost:8080/"
        },
        "id": "lsMyk3bK8_fJ",
        "outputId": "c501f41d-56a1-46d3-fab1-75a5b7cc98e7"
      },
      "execution_count": 31,
      "outputs": [
        {
          "output_type": "stream",
          "name": "stdout",
          "text": [
            "[42, 8, 15, 23, 16]\n"
          ]
        }
      ]
    },
    {
      "cell_type": "code",
      "source": [
        "R.sort()"
      ],
      "metadata": {
        "id": "wosPsSX99B2N"
      },
      "execution_count": 32,
      "outputs": []
    },
    {
      "cell_type": "code",
      "source": [
        "R"
      ],
      "metadata": {
        "colab": {
          "base_uri": "https://localhost:8080/"
        },
        "id": "goHYO_eF9I-p",
        "outputId": "f6972051-a48e-4f76-c0df-902981477f77"
      },
      "execution_count": 34,
      "outputs": [
        {
          "output_type": "execute_result",
          "data": {
            "text/plain": [
              "[8, 15, 16, 23, 42]"
            ]
          },
          "metadata": {},
          "execution_count": 34
        }
      ]
    },
    {
      "cell_type": "code",
      "source": [
        "R[1::2]"
      ],
      "metadata": {
        "colab": {
          "base_uri": "https://localhost:8080/"
        },
        "id": "-vSGokCP9ERU",
        "outputId": "96683f52-74ad-4e58-ecd4-05293d9c6e6f"
      },
      "execution_count": 33,
      "outputs": [
        {
          "output_type": "execute_result",
          "data": {
            "text/plain": [
              "[15, 23]"
            ]
          },
          "metadata": {},
          "execution_count": 33
        }
      ]
    }
  ]
}