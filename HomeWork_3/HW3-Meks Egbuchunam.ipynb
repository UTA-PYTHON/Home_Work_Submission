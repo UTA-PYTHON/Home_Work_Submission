{
 "cells": [
  {
   "cell_type": "markdown",
   "id": "caab449c-3319-4eb4-8a67-7958740be19a",
   "metadata": {},
   "source": [
    "1. Printing, Data Types, and Input\r\n",
    "\r\n",
    "\r\n",
    "Ask the user for their name and their ag\n",
    "e.\r\n",
    "Print a statement saying: \"Hello, [name]. You are [age] years ol\n",
    "d.\"\r\n",
    "Print the data type of each variable."
   ]
  },
  {
   "cell_type": "code",
   "execution_count": 29,
   "id": "1be1b174-27a6-4153-9527-4663fe5d3fe4",
   "metadata": {},
   "outputs": [
    {
     "name": "stdin",
     "output_type": "stream",
     "text": [
      "What's your name? :  Ron\n",
      "what is your age? :  54\n"
     ]
    },
    {
     "name": "stdout",
     "output_type": "stream",
     "text": [
      "Hello, Ron. You are 54 years old.\n",
      "name variable is a string\n",
      "age variable is an integer\n"
     ]
    }
   ],
   "source": [
    "#ask for the name\n",
    "name = input(\"What's your name? : \")\n",
    "age = input(\"what is your age? : \")\n",
    "#print hello statement\n",
    "print(\"Hello, \" + name + \". You are \" + age + \" years old.\")\n",
    "#print the data type of each variable\n",
    "print(\"name variable is a string\")\n",
    "print(\"age variable is an integer\")"
   ]
  },
  {
   "cell_type": "markdown",
   "id": "cc16e623-e1d9-4326-b6e0-53ff209e6255",
   "metadata": {},
   "source": [
    "2. String Manipulations and Input\r\n",
    "\r\n",
    "\r\n",
    "Ask the user for the name of their hometow\n",
    "n.\r\n",
    "Print the name of the hometown in upperca\n",
    "se.\r\n",
    "Print the first three characters of the hometown's name using slic\n",
    "ing.\r\n",
    "Printing the name in reverse using slicing."
   ]
  },
  {
   "cell_type": "code",
   "execution_count": 34,
   "id": "0dbcb4c0-d4f0-4f69-9cee-5b9666444580",
   "metadata": {},
   "outputs": [
    {
     "name": "stdin",
     "output_type": "stream",
     "text": [
      "Where are you from? : Dallas\n"
     ]
    },
    {
     "name": "stdout",
     "output_type": "stream",
     "text": [
      "DALLAS\n",
      "Dal\n",
      "sallaD\n"
     ]
    }
   ],
   "source": [
    "hometown = input(\"Where are you from? :\")\n",
    "print(hometown.upper())\n",
    "print(hometown[:3])\n",
    "print(hometown[::-1])"
   ]
  },
  {
   "cell_type": "markdown",
   "id": "e3ca39d5-7fcc-496d-a57c-8df167e3ae8c",
   "metadata": {},
   "source": [
    "3. Numeric Operations and Input\r\n",
    "\r\n",
    "\r\n",
    "Prompt the user to enter a numbe\n",
    "r.\r\n",
    "Multiply the number by itself and print the resu\n",
    "lt.\r\n",
    "Calculating the square root."
   ]
  },
  {
   "cell_type": "code",
   "execution_count": 56,
   "id": "0e18f163-3cd1-48ef-869e-602c5c588e34",
   "metadata": {},
   "outputs": [
    {
     "name": "stdin",
     "output_type": "stream",
     "text": [
      "enter a number :  ewr\n"
     ]
    },
    {
     "name": "stdout",
     "output_type": "stream",
     "text": [
      "Invalid number. Please try again\n"
     ]
    },
    {
     "name": "stdin",
     "output_type": "stream",
     "text": [
      "enter a number :  wr\n"
     ]
    },
    {
     "name": "stdout",
     "output_type": "stream",
     "text": [
      "Invalid number. Please try again\n"
     ]
    },
    {
     "name": "stdin",
     "output_type": "stream",
     "text": [
      "enter a number :  4\n"
     ]
    },
    {
     "name": "stdout",
     "output_type": "stream",
     "text": [
      "16\n",
      "2.0\n"
     ]
    }
   ],
   "source": [
    "while True:\n",
    "    number1 = input(\"enter a number : \")\n",
    "\n",
    "    try:\n",
    "        number1 = int(number1)\n",
    "        result = number1 * number1\n",
    "        print(result)\n",
    "        sqrt = number1 ** 0.5\n",
    "        print(sqrt)\n",
    "        break\n",
    "\n",
    "    except ValueError:\n",
    "        print(\"Invalid number. Please try again\")"
   ]
  },
  {
   "cell_type": "markdown",
   "id": "9239a2c8-1583-4469-a9e7-711cfa6d7046",
   "metadata": {},
   "source": [
    "4. Boolean Evaluations\n",
    "\n",
    "\n",
    "Print the result of the following evaluations:\n",
    "\n",
    "10 > 5\n",
    "\n",
    "10 == 10\n",
    "\n",
    "8 != 9"
   ]
  },
  {
   "cell_type": "code",
   "execution_count": 57,
   "id": "89ee7f85-2288-476a-a655-61bbfd45d2a0",
   "metadata": {},
   "outputs": [
    {
     "name": "stdout",
     "output_type": "stream",
     "text": [
      "True\n",
      "True\n",
      "True\n"
     ]
    }
   ],
   "source": [
    "print(10 > 5)\n",
    "print(10 == 10)\n",
    "print(8 != 9)\n"
   ]
  },
  {
   "cell_type": "markdown",
   "id": "743f8ec5-b3a3-43ca-961f-7a87ebd1b272",
   "metadata": {},
   "source": [
    "5. List Creation and Operations\r\n",
    "\r\n",
    "\r\n",
    "Create a list named colors containing the following items: red, blue, gree\n",
    "n.\r\n",
    "Print the li\n",
    "st.\r\n",
    "Print the first item in the l\n",
    "ist.\r\n",
    "Replace the second item in the list with ye\n",
    "llow.\r\n",
    "Print the list \n",
    "again.\r\n",
    "Changing the last item using negative indexing."
   ]
  },
  {
   "cell_type": "code",
   "execution_count": 63,
   "id": "faac9568-2a20-4f69-9853-95033a23a080",
   "metadata": {},
   "outputs": [
    {
     "name": "stdout",
     "output_type": "stream",
     "text": [
      "['red', 'blue', 'green']\n",
      "red\n",
      "['red', 'yellow', 'green']\n",
      "['red', 'yellow', 'violet']\n"
     ]
    }
   ],
   "source": [
    "colors = [\"red\", \"blue\", \"green\"]\n",
    "print(colors)\n",
    "print(colors[0])\n",
    "colors[1] = \"yellow\"\n",
    "print(colors)\n",
    "colors[-1] = \"violet\"\n",
    "print(colors)"
   ]
  },
  {
   "cell_type": "markdown",
   "id": "0c78abf4-1a37-4df0-a096-ae47f547d593",
   "metadata": {},
   "source": [
    "6. Indexing and Slicing\r\n",
    "\r\n",
    "\r\n",
    "Given the list numbers = [10, 20, 30, 40, 50]\r\n",
    "Print the third item from the list.\r\n",
    "Using slicing, print the first two numbers.\r\n",
    "Getting the last three numbers using negative indexing and slicing."
   ]
  },
  {
   "cell_type": "code",
   "execution_count": 68,
   "id": "261cd244-d7d8-4d42-bb85-1404277f3746",
   "metadata": {
    "scrolled": true
   },
   "outputs": [
    {
     "name": "stdout",
     "output_type": "stream",
     "text": [
      "30\n",
      "[10, 20]\n",
      "[30, 40, 50]\n"
     ]
    }
   ],
   "source": [
    "list = [10, 20, 30, 40, 50]\n",
    "print(list[2])\n",
    "print(list[:2])\n",
    "print(list[-3:])"
   ]
  },
  {
   "cell_type": "markdown",
   "id": "837b0f35-a5d9-4a7a-9b8a-54e62227136c",
   "metadata": {},
   "source": [
    "7. Manipulating Elements\r\n",
    "\r\n",
    "\r\n",
    "Given the list animals = ['cat', 'dog', 'bird']\r\n",
    "Print the list.\r\n",
    "Add fish to the end of the list.\r\n",
    "Print the updated list.icing."
   ]
  },
  {
   "cell_type": "code",
   "execution_count": 71,
   "id": "575910c4-2c04-40ba-b48b-6007dd12b620",
   "metadata": {},
   "outputs": [
    {
     "name": "stdout",
     "output_type": "stream",
     "text": [
      "['cat', 'dog', 'bird']\n",
      "['cat', 'dog', 'bird', 'fish']\n"
     ]
    }
   ],
   "source": [
    "list = [\"cat\", \"dog\", \"bird\"]\n",
    "print(list)\n",
    "list.append(\"fish\")\n",
    "print(list)\n"
   ]
  },
  {
   "cell_type": "markdown",
   "id": "6869138f-1d66-4f31-8cb7-520b5061bc94",
   "metadata": {},
   "source": [
    "8. Sorting\n",
    "\n",
    "\n",
    "Given the list random_numbers = [42, 8, 15, 23, 16]\n",
    "\n",
    "Print the list.\n",
    "\n",
    "Use the sort() method to sort the list.\n",
    "\n",
    "Print the sorted list.\n",
    "\n",
    "Print every second item from the sorted list."
   ]
  },
  {
   "cell_type": "code",
   "execution_count": 74,
   "id": "3c24514d-8952-4846-a0fc-ca277bb7a001",
   "metadata": {},
   "outputs": [
    {
     "name": "stdout",
     "output_type": "stream",
     "text": [
      "[42, 8, 15, 23, 16]\n",
      "[8, 15, 16, 23, 42]\n",
      "[15, 23]\n"
     ]
    }
   ],
   "source": [
    "list = [42, 8, 15, 23, 16]\n",
    "print(list)\n",
    "list.sort()\n",
    "print(list)\n",
    "print(list[1::2])"
   ]
  }
 ],
 "metadata": {
  "kernelspec": {
   "display_name": "Python 3 (ipykernel)",
   "language": "python",
   "name": "python3"
  },
  "language_info": {
   "codemirror_mode": {
    "name": "ipython",
    "version": 3
   },
   "file_extension": ".py",
   "mimetype": "text/x-python",
   "name": "python",
   "nbconvert_exporter": "python",
   "pygments_lexer": "ipython3",
   "version": "3.11.5"
  }
 },
 "nbformat": 4,
 "nbformat_minor": 5
}
