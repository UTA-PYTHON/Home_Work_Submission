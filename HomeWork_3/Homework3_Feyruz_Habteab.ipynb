{
  "nbformat": 4,
  "nbformat_minor": 0,
  "metadata": {
    "colab": {
      "provenance": []
    },
    "kernelspec": {
      "name": "python3",
      "display_name": "Python 3"
    },
    "language_info": {
      "name": "python"
    }
  },
  "cells": [
    {
      "cell_type": "markdown",
      "source": [
        "## 1. Printing, Data Types, and Input\n",
        "\n",
        "\n",
        "#### Ask the user for their name and their age.\n",
        "#### Print a statement saying: \"Hello, [name]. You are [age] years old.\"\n",
        "#### Print the data type of each variable."
      ],
      "metadata": {
        "id": "oEKYqkHuoeJs"
      }
    },
    {
      "cell_type": "code",
      "source": [
        "Name= input(\"Enter you name:\")\n",
        "Age=int(input(\"How old are you:\"))\n",
        "print(\"Hello,\",Name,\". You are\",Age,\"years old.\")\n",
        "\n"
      ],
      "metadata": {
        "colab": {
          "base_uri": "https://localhost:8080/"
        },
        "id": "2oU4Be7fo6Qd",
        "outputId": "f9fcb98b-48f8-455a-d8e2-6ccedef5efdf"
      },
      "execution_count": null,
      "outputs": [
        {
          "output_type": "stream",
          "name": "stdout",
          "text": [
            "Enter you name:Feyruz\n",
            "How old are you:23\n",
            "Hello, Feyruz . You are 23 years old.\n"
          ]
        }
      ]
    },
    {
      "cell_type": "code",
      "source": [
        "type(Name)"
      ],
      "metadata": {
        "colab": {
          "base_uri": "https://localhost:8080/"
        },
        "id": "jsJmS18zpvD8",
        "outputId": "04e4e181-a3ee-4974-fbf2-2e5f38b7c684"
      },
      "execution_count": null,
      "outputs": [
        {
          "output_type": "execute_result",
          "data": {
            "text/plain": [
              "str"
            ]
          },
          "metadata": {},
          "execution_count": 21
        }
      ]
    },
    {
      "cell_type": "code",
      "source": [
        "type(Age)"
      ],
      "metadata": {
        "colab": {
          "base_uri": "https://localhost:8080/"
        },
        "id": "9FYmHyLiqe0i",
        "outputId": "afecbd63-144a-48a9-f137-c4960d6decba"
      },
      "execution_count": null,
      "outputs": [
        {
          "output_type": "execute_result",
          "data": {
            "text/plain": [
              "int"
            ]
          },
          "metadata": {},
          "execution_count": 22
        }
      ]
    },
    {
      "cell_type": "markdown",
      "source": [
        "## 2. String Manipulations and Input\n",
        "\n",
        "\n",
        "#### Ask the user for the name of their hometown.\n",
        "#### Print the name of the hometown in uppercase.\n",
        "#### Print the first three characters of the hometown's name using slicing.\n",
        "#### Printing the name in reverse using slicing."
      ],
      "metadata": {
        "id": "ZrDeHsKAqXL_"
      }
    },
    {
      "cell_type": "code",
      "source": [
        "Hometown=input(\"What's the name of your hometown:\")\n",
        "\n",
        "Hometown.upper()\n"
      ],
      "metadata": {
        "colab": {
          "base_uri": "https://localhost:8080/",
          "height": 52
        },
        "id": "-PJW3uYFrUre",
        "outputId": "05bb5616-57b2-4584-be7b-debf2bca1b3a"
      },
      "execution_count": null,
      "outputs": [
        {
          "name": "stdout",
          "output_type": "stream",
          "text": [
            "What's the name of your hometown:Asmera\n"
          ]
        },
        {
          "output_type": "execute_result",
          "data": {
            "text/plain": [
              "'ASMERA'"
            ],
            "application/vnd.google.colaboratory.intrinsic+json": {
              "type": "string"
            }
          },
          "metadata": {},
          "execution_count": 27
        }
      ]
    },
    {
      "cell_type": "code",
      "source": [
        "Hometown[0:3]"
      ],
      "metadata": {
        "colab": {
          "base_uri": "https://localhost:8080/",
          "height": 35
        },
        "id": "smdtzhpbr23x",
        "outputId": "0c94bc20-51a3-4f62-ad9d-dfdb10963461"
      },
      "execution_count": null,
      "outputs": [
        {
          "output_type": "execute_result",
          "data": {
            "text/plain": [
              "'Asm'"
            ],
            "application/vnd.google.colaboratory.intrinsic+json": {
              "type": "string"
            }
          },
          "metadata": {},
          "execution_count": 31
        }
      ]
    },
    {
      "cell_type": "code",
      "source": [
        "Hometown[::-1]"
      ],
      "metadata": {
        "colab": {
          "base_uri": "https://localhost:8080/",
          "height": 35
        },
        "id": "xzd3zy3qtdkp",
        "outputId": "12239526-0079-4544-f37e-e68ff77ab83e"
      },
      "execution_count": null,
      "outputs": [
        {
          "output_type": "execute_result",
          "data": {
            "text/plain": [
              "'aremsA'"
            ],
            "application/vnd.google.colaboratory.intrinsic+json": {
              "type": "string"
            }
          },
          "metadata": {},
          "execution_count": 48
        }
      ]
    },
    {
      "cell_type": "markdown",
      "source": [
        "## 3. Numeric Operations and Input\n",
        "\n",
        "\n",
        "#### Prompt the user to enter a number.\n",
        "#### Multiply the number by itself and print the result.\n",
        "#### Calculating the square root.\n"
      ],
      "metadata": {
        "id": "TXh5KmTrv6oO"
      }
    },
    {
      "cell_type": "code",
      "source": [
        "num=int(input(\"Enter a number:\"))\n",
        "Mult=num*num\n",
        "print(Mult)\n",
        "print(Mult**2)\n"
      ],
      "metadata": {
        "colab": {
          "base_uri": "https://localhost:8080/"
        },
        "id": "zWg2csn8wETa",
        "outputId": "99231860-bd34-4be4-9142-2bbc6f4eb44a"
      },
      "execution_count": null,
      "outputs": [
        {
          "output_type": "stream",
          "name": "stdout",
          "text": [
            "Enter a number:5\n",
            "25\n",
            "625\n"
          ]
        }
      ]
    },
    {
      "cell_type": "markdown",
      "source": [
        "## 4. Boolean Evaluations\n",
        "\n",
        "\n",
        "#### Print the result of the following evaluations:\n",
        "#### 10 > 5\n",
        "#### 10 == 10\n",
        "#### 8 != 9"
      ],
      "metadata": {
        "id": "TarHxH9pxbWe"
      }
    },
    {
      "cell_type": "code",
      "source": [
        "10>5"
      ],
      "metadata": {
        "colab": {
          "base_uri": "https://localhost:8080/"
        },
        "id": "7ZgkBrw9xlmS",
        "outputId": "dd0edf4d-2a6b-4b83-e877-6d20c0d0a50d"
      },
      "execution_count": null,
      "outputs": [
        {
          "output_type": "execute_result",
          "data": {
            "text/plain": [
              "True"
            ]
          },
          "metadata": {},
          "execution_count": 60
        }
      ]
    },
    {
      "cell_type": "code",
      "source": [
        "10==10"
      ],
      "metadata": {
        "colab": {
          "base_uri": "https://localhost:8080/"
        },
        "id": "-7FYAkv5yI0f",
        "outputId": "f9032fc3-1dcc-4e1c-d9ec-00604dfff912"
      },
      "execution_count": null,
      "outputs": [
        {
          "output_type": "execute_result",
          "data": {
            "text/plain": [
              "True"
            ]
          },
          "metadata": {},
          "execution_count": 61
        }
      ]
    },
    {
      "cell_type": "code",
      "source": [
        "8!=9"
      ],
      "metadata": {
        "colab": {
          "base_uri": "https://localhost:8080/"
        },
        "id": "L3M_5PhiySWS",
        "outputId": "657d2a89-052c-4102-ac3a-90977ac5ed4a"
      },
      "execution_count": null,
      "outputs": [
        {
          "output_type": "execute_result",
          "data": {
            "text/plain": [
              "True"
            ]
          },
          "metadata": {},
          "execution_count": 62
        }
      ]
    },
    {
      "cell_type": "markdown",
      "source": [
        "## 5. List Creation and Operations\n",
        "\n",
        "\n",
        "#### Create a list named colors containing the following items: red, blue, green.\n",
        "#### Print the list.\n",
        "#### Print the first item in the list.\n",
        "#### Replace the second item in the list with yellow.\n",
        "#### Print the list again.\n",
        "#### Changing the last item using negative indexing."
      ],
      "metadata": {
        "id": "U6Hhd-zyyahz"
      }
    },
    {
      "cell_type": "code",
      "source": [
        "colors=[\"red\",\"blue\",\"green\"]\n",
        "print(colors)"
      ],
      "metadata": {
        "colab": {
          "base_uri": "https://localhost:8080/"
        },
        "id": "QVzZvxXLzAjT",
        "outputId": "24423981-9e99-495e-88e5-0ac7f31c5b9b"
      },
      "execution_count": null,
      "outputs": [
        {
          "output_type": "stream",
          "name": "stdout",
          "text": [
            "['red', 'blue', 'green']\n"
          ]
        }
      ]
    },
    {
      "cell_type": "code",
      "source": [
        "colors[0]"
      ],
      "metadata": {
        "colab": {
          "base_uri": "https://localhost:8080/",
          "height": 35
        },
        "id": "aT7fAoXqzIUQ",
        "outputId": "16b905e2-e040-4eab-cd51-d5be89d600e1"
      },
      "execution_count": null,
      "outputs": [
        {
          "output_type": "execute_result",
          "data": {
            "text/plain": [
              "'red'"
            ],
            "application/vnd.google.colaboratory.intrinsic+json": {
              "type": "string"
            }
          },
          "metadata": {},
          "execution_count": 67
        }
      ]
    },
    {
      "cell_type": "code",
      "source": [
        "colors[1]=\"yellow\""
      ],
      "metadata": {
        "id": "08XdGGaWzV2N"
      },
      "execution_count": null,
      "outputs": []
    },
    {
      "cell_type": "code",
      "source": [
        "print(colors)"
      ],
      "metadata": {
        "colab": {
          "base_uri": "https://localhost:8080/"
        },
        "id": "AalDGntuzl25",
        "outputId": "165192aa-f7d7-4955-e19e-89d40253ac23"
      },
      "execution_count": null,
      "outputs": [
        {
          "output_type": "stream",
          "name": "stdout",
          "text": [
            "['red', 'yellow', 'green']\n"
          ]
        }
      ]
    },
    {
      "cell_type": "code",
      "source": [
        "colors[-1]=\"Mango\"\n",
        "print(colors)"
      ],
      "metadata": {
        "colab": {
          "base_uri": "https://localhost:8080/"
        },
        "id": "Bbx9WwYP0I2U",
        "outputId": "20ba4c79-cd4f-4991-ac9d-c2d0d80afec0"
      },
      "execution_count": null,
      "outputs": [
        {
          "output_type": "stream",
          "name": "stdout",
          "text": [
            "['red', 'yellow', 'Mango']\n"
          ]
        }
      ]
    },
    {
      "cell_type": "markdown",
      "source": [
        "## 6. Indexing and Slicing\n",
        "\n",
        "\n",
        "#### Given the list numbers = [10, 20, 30, 40, 50]\n",
        "#### Print the third item from the list.\n",
        "#### Using slicing, print the first two numbers.\n",
        "#### Getting the last three numbers using negative indexing and slicing.\n"
      ],
      "metadata": {
        "id": "fJrKOyUG0W-p"
      }
    },
    {
      "cell_type": "code",
      "source": [
        "numbers=[10,20,30,40,50]\n",
        "\n",
        "numbers[2]"
      ],
      "metadata": {
        "colab": {
          "base_uri": "https://localhost:8080/"
        },
        "id": "OC8pBdW70d9J",
        "outputId": "d3f4e322-335a-43a0-8361-0b931569310f"
      },
      "execution_count": null,
      "outputs": [
        {
          "output_type": "execute_result",
          "data": {
            "text/plain": [
              "30"
            ]
          },
          "metadata": {},
          "execution_count": 75
        }
      ]
    },
    {
      "cell_type": "code",
      "source": [
        "numbers[:2]"
      ],
      "metadata": {
        "colab": {
          "base_uri": "https://localhost:8080/"
        },
        "id": "DxTjPl1C1FJZ",
        "outputId": "b3ca724e-dbe3-4f1e-a2bf-2ff8e97980cc"
      },
      "execution_count": null,
      "outputs": [
        {
          "output_type": "execute_result",
          "data": {
            "text/plain": [
              "[10, 20]"
            ]
          },
          "metadata": {},
          "execution_count": 78
        }
      ]
    },
    {
      "cell_type": "code",
      "source": [
        "numbers[-3:]"
      ],
      "metadata": {
        "colab": {
          "base_uri": "https://localhost:8080/"
        },
        "id": "n3Rj98rC1Nxn",
        "outputId": "6ccc3546-e997-42a1-98d0-75ec9181686b"
      },
      "execution_count": null,
      "outputs": [
        {
          "output_type": "execute_result",
          "data": {
            "text/plain": [
              "[30, 40, 50]"
            ]
          },
          "metadata": {},
          "execution_count": 88
        }
      ]
    },
    {
      "cell_type": "markdown",
      "source": [
        "## 7. Manipulating Elements\n",
        "\n",
        "\n",
        "#### Given the list animals = ['cat', 'dog', 'bird']\n",
        "#### Print the list.\n",
        "#### Add fish to the end of the list.\n",
        "#### Print the updated list."
      ],
      "metadata": {
        "id": "bAaclwFC15tg"
      }
    },
    {
      "cell_type": "code",
      "source": [
        "animals=[\"cat\",\"dog\",\"bird\"]\n",
        "\n",
        "print(animals)"
      ],
      "metadata": {
        "colab": {
          "base_uri": "https://localhost:8080/"
        },
        "id": "mgI0zZuA1_EG",
        "outputId": "d730543e-bc9a-4ec9-a36c-9159c97c8c88"
      },
      "execution_count": null,
      "outputs": [
        {
          "output_type": "stream",
          "name": "stdout",
          "text": [
            "['cat', 'dog', 'bird']\n"
          ]
        }
      ]
    },
    {
      "cell_type": "code",
      "source": [
        "animals.append(\"fish\")\n",
        "\n",
        "print(animals)"
      ],
      "metadata": {
        "colab": {
          "base_uri": "https://localhost:8080/"
        },
        "id": "6sTCoIRR2P9P",
        "outputId": "9575acd3-b063-4e2e-974f-964376379e10"
      },
      "execution_count": null,
      "outputs": [
        {
          "output_type": "stream",
          "name": "stdout",
          "text": [
            "['cat', 'dog', 'bird', 'fish']\n"
          ]
        }
      ]
    },
    {
      "cell_type": "markdown",
      "source": [
        "## 8. Sorting\n",
        "\n",
        "\n",
        "#### Given the list random_numbers = [42, 8, 15, 23, 16]\n",
        "#### Print the list.\n",
        "#### Use the sort() method to sort the list.\n",
        "#### Print the sorted list.\n",
        "#### Print every second item from the sorted list."
      ],
      "metadata": {
        "id": "8JgQaP8h3ERC"
      }
    },
    {
      "cell_type": "code",
      "source": [
        "random_numbers=[42,8,15,23,16]\n",
        "\n",
        "print(random_numbers)"
      ],
      "metadata": {
        "colab": {
          "base_uri": "https://localhost:8080/"
        },
        "id": "fCf1VMqn3Qg6",
        "outputId": "0e66993e-e8f8-4433-85b3-bf34b3a0d26c"
      },
      "execution_count": null,
      "outputs": [
        {
          "output_type": "stream",
          "name": "stdout",
          "text": [
            "[42, 8, 15, 23, 16]\n"
          ]
        }
      ]
    },
    {
      "cell_type": "code",
      "source": [
        "random_numbers.sort()"
      ],
      "metadata": {
        "id": "0v49VvRd3iue"
      },
      "execution_count": null,
      "outputs": []
    },
    {
      "cell_type": "code",
      "source": [
        "print(random_numbers)"
      ],
      "metadata": {
        "colab": {
          "base_uri": "https://localhost:8080/"
        },
        "id": "VC2oeJF-3sAs",
        "outputId": "3131d118-219d-4bae-a301-5bbeb5307fb7"
      },
      "execution_count": null,
      "outputs": [
        {
          "output_type": "stream",
          "name": "stdout",
          "text": [
            "[8, 15, 16, 23, 42]\n"
          ]
        }
      ]
    },
    {
      "cell_type": "code",
      "source": [
        "random_numbers[1::2]"
      ],
      "metadata": {
        "colab": {
          "base_uri": "https://localhost:8080/"
        },
        "id": "TGxRlZqA3uZY",
        "outputId": "757ebdb6-e060-4e3c-b099-537e6d0ac9e1"
      },
      "execution_count": null,
      "outputs": [
        {
          "output_type": "execute_result",
          "data": {
            "text/plain": [
              "[15, 23]"
            ]
          },
          "metadata": {},
          "execution_count": 101
        }
      ]
    }
  ]
}