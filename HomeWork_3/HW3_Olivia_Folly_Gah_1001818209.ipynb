{
  "nbformat": 4,
  "nbformat_minor": 0,
  "metadata": {
    "colab": {
      "provenance": []
    },
    "kernelspec": {
      "name": "python3",
      "display_name": "Python 3"
    },
    "language_info": {
      "name": "python"
    }
  },
  "cells": [
    {
      "cell_type": "markdown",
      "source": [
        "##**1. Printing, Data Types, and Input**"
      ],
      "metadata": {
        "id": "tacV6ZRz9S5z"
      }
    },
    {
      "cell_type": "markdown",
      "source": [
        "Ask the user for their name and their age.\n",
        "\n",
        "Print a statement saying: \"Hello, [name]. You are [age] years old.\"\n",
        "\n",
        "Print the data type of each variable."
      ],
      "metadata": {
        "id": "t2VOWM_I9b5i"
      }
    },
    {
      "cell_type": "code",
      "execution_count": null,
      "metadata": {
        "colab": {
          "base_uri": "https://localhost:8080/"
        },
        "id": "1u2A2ZJE9QsC",
        "outputId": "caedd345-2456-431c-b071-c69f3338451b"
      },
      "outputs": [
        {
          "name": "stdout",
          "output_type": "stream",
          "text": [
            "Enter Name: Olivia\n",
            "Enter Age:20\n"
          ]
        }
      ],
      "source": [
        "name= input(\"Enter Name: \")\n",
        "age= input(\"Enter Age:\")"
      ]
    },
    {
      "cell_type": "code",
      "source": [
        "print (\"Hello\", name, \".You are\", age,\"years old.\")"
      ],
      "metadata": {
        "colab": {
          "base_uri": "https://localhost:8080/"
        },
        "id": "piB51Hxg3FlS",
        "outputId": "9445cdeb-b965-4505-f915-a906f0c06a66"
      },
      "execution_count": null,
      "outputs": [
        {
          "output_type": "stream",
          "name": "stdout",
          "text": [
            "Hello Olivia .You are 20 years old.\n"
          ]
        }
      ]
    },
    {
      "cell_type": "code",
      "source": [
        "type (name)"
      ],
      "metadata": {
        "colab": {
          "base_uri": "https://localhost:8080/"
        },
        "id": "bYsWaqtL0zf7",
        "outputId": "ee5fcfb3-2eb6-4294-b1a3-bb4a2d1265f3"
      },
      "execution_count": null,
      "outputs": [
        {
          "output_type": "execute_result",
          "data": {
            "text/plain": [
              "str"
            ]
          },
          "metadata": {},
          "execution_count": 28
        }
      ]
    },
    {
      "cell_type": "code",
      "source": [
        "type (age)"
      ],
      "metadata": {
        "colab": {
          "base_uri": "https://localhost:8080/"
        },
        "id": "9jVx_mKi1NDS",
        "outputId": "eb4f5748-35e9-4979-ed09-278596d0f25d"
      },
      "execution_count": null,
      "outputs": [
        {
          "output_type": "execute_result",
          "data": {
            "text/plain": [
              "str"
            ]
          },
          "metadata": {},
          "execution_count": 24
        }
      ]
    },
    {
      "cell_type": "markdown",
      "source": [
        "##**2. String Manipulations and Input**"
      ],
      "metadata": {
        "id": "_OzWQxS_9z7F"
      }
    },
    {
      "cell_type": "markdown",
      "source": [
        "Ask the user for the name of their hometown.\n",
        "\n",
        "Print the name of the hometown in uppercase.\n",
        "\n",
        "Print the first three characters of the hometown's name using slicing.\n",
        "\n",
        "Printing the name in reverse using slicing."
      ],
      "metadata": {
        "id": "l5gOC4L897SI"
      }
    },
    {
      "cell_type": "code",
      "source": [
        "hometown= input(\"Enter hometown:\")\n",
        "hometown.upper ()"
      ],
      "metadata": {
        "colab": {
          "base_uri": "https://localhost:8080/",
          "height": 53
        },
        "id": "2DiUQRjo-Dtd",
        "outputId": "4ba3f5bc-850f-428e-b9d8-0792f22f3d3d"
      },
      "execution_count": null,
      "outputs": [
        {
          "name": "stdout",
          "output_type": "stream",
          "text": [
            "Enter hometown:Queens\n"
          ]
        },
        {
          "output_type": "execute_result",
          "data": {
            "text/plain": [
              "'QUEENS'"
            ],
            "application/vnd.google.colaboratory.intrinsic+json": {
              "type": "string"
            }
          },
          "metadata": {},
          "execution_count": 35
        }
      ]
    },
    {
      "cell_type": "code",
      "source": [
        "hometown=hometown[:3]\n",
        "print (hometown)"
      ],
      "metadata": {
        "id": "dWwNPHR84wC6",
        "colab": {
          "base_uri": "https://localhost:8080/"
        },
        "outputId": "61cd4020-2f10-4b43-c301-a87532fb5bca"
      },
      "execution_count": null,
      "outputs": [
        {
          "output_type": "stream",
          "name": "stdout",
          "text": [
            "Que\n"
          ]
        }
      ]
    },
    {
      "cell_type": "code",
      "source": [
        "hometown=hometown[::-1]\n",
        "print (hometown)"
      ],
      "metadata": {
        "colab": {
          "base_uri": "https://localhost:8080/"
        },
        "id": "Tl7LruxZ4eh-",
        "outputId": "a67959f9-73a9-4f70-870e-30d065a955a2"
      },
      "execution_count": null,
      "outputs": [
        {
          "output_type": "stream",
          "name": "stdout",
          "text": [
            "Que\n"
          ]
        }
      ]
    },
    {
      "cell_type": "markdown",
      "source": [
        "##**3. Numeric Operations and Input**"
      ],
      "metadata": {
        "id": "qqeYk9yg-EUx"
      }
    },
    {
      "cell_type": "markdown",
      "source": [
        "Prompt the user to enter a number.\n",
        "\n",
        "Multiply the number by itself and print the result.\n",
        "\n",
        "Calculating the square root.\n"
      ],
      "metadata": {
        "id": "zP_Afb7s-Lua"
      }
    },
    {
      "cell_type": "code",
      "source": [
        "number=input(\"Enter a number: \")\n",
        "number= float(number)\n",
        "square= number*number\n",
        "print (\"square:\", square)\n",
        "square**.5\n"
      ],
      "metadata": {
        "id": "9jHc_ZIL-Kdx",
        "colab": {
          "base_uri": "https://localhost:8080/"
        },
        "outputId": "ecdbbe42-2bad-4b9c-a97e-4ff46bbb675f"
      },
      "execution_count": null,
      "outputs": [
        {
          "output_type": "stream",
          "name": "stdout",
          "text": [
            "Enter a number: 8\n",
            "square: 64.0\n"
          ]
        },
        {
          "output_type": "execute_result",
          "data": {
            "text/plain": [
              "8.0"
            ]
          },
          "metadata": {},
          "execution_count": 73
        }
      ]
    },
    {
      "cell_type": "markdown",
      "source": [
        "##**4. Boolean Evaluations**"
      ],
      "metadata": {
        "id": "LrHzFHtv-Rp2"
      }
    },
    {
      "cell_type": "markdown",
      "source": [
        "Print the result of the following evaluations:\n",
        "10 > 5\n",
        "\n",
        "10 == 10\n",
        "\n",
        "8 != 9"
      ],
      "metadata": {
        "id": "T-sEf48W-Xz-"
      }
    },
    {
      "cell_type": "code",
      "source": [
        "print (\"10 > 5:\",10 > 5)\n",
        "print (\"10 == 10:\", 10 == 10)\n",
        "print (\"8!=9\", 8!=9)"
      ],
      "metadata": {
        "id": "Mm1Ey_9o-dw6",
        "colab": {
          "base_uri": "https://localhost:8080/"
        },
        "outputId": "b1eae039-6177-4f12-9a69-da759745c9a1"
      },
      "execution_count": null,
      "outputs": [
        {
          "output_type": "stream",
          "name": "stdout",
          "text": [
            "10 > 5: True\n",
            "10 == 10: True\n",
            "8 !=9 True\n"
          ]
        }
      ]
    },
    {
      "cell_type": "markdown",
      "source": [
        "##**5. List Creation and Operations**"
      ],
      "metadata": {
        "id": "go2QOhg9-emO"
      }
    },
    {
      "cell_type": "markdown",
      "source": [
        "Create a list named colors containing the following items: red, blue, green.\n",
        "\n",
        "Print the list.\n",
        "\n",
        "Print the first item in the list.\n",
        "Replace the second item in the list with yellow.\n",
        "\n",
        "Print the list again.\n",
        "\n",
        "Changing the last item using negative indexing."
      ],
      "metadata": {
        "id": "Xxg9UiRR-nAS"
      }
    },
    {
      "cell_type": "code",
      "source": [
        "colors=[\"red\", \"blue\", \"green\"]\n",
        "print (colors)"
      ],
      "metadata": {
        "id": "vKoDe0_n-s8X",
        "colab": {
          "base_uri": "https://localhost:8080/"
        },
        "outputId": "7e4a9cbc-e61f-4420-8d22-aae5619c7919"
      },
      "execution_count": null,
      "outputs": [
        {
          "output_type": "stream",
          "name": "stdout",
          "text": [
            "['red', 'blue', 'green']\n"
          ]
        }
      ]
    },
    {
      "cell_type": "code",
      "source": [
        "print (colors[0])"
      ],
      "metadata": {
        "colab": {
          "base_uri": "https://localhost:8080/"
        },
        "id": "zme6um8l-dxR",
        "outputId": "7db1b6b9-f9c2-4f1e-ab43-8badbd69c945"
      },
      "execution_count": null,
      "outputs": [
        {
          "output_type": "stream",
          "name": "stdout",
          "text": [
            "red\n"
          ]
        }
      ]
    },
    {
      "cell_type": "code",
      "source": [
        "colors[0]=\"yellow\"\n",
        "print (colors)"
      ],
      "metadata": {
        "colab": {
          "base_uri": "https://localhost:8080/"
        },
        "id": "Kr-1Mt5D_9HI",
        "outputId": "bfb37a2b-0848-434f-a0f1-1572f5b2fbd9"
      },
      "execution_count": null,
      "outputs": [
        {
          "output_type": "stream",
          "name": "stdout",
          "text": [
            "['yellow', 'blue', 'green']\n"
          ]
        }
      ]
    },
    {
      "cell_type": "code",
      "source": [
        "colors[-1]=\"orange\"\n",
        "print (colors)"
      ],
      "metadata": {
        "colab": {
          "base_uri": "https://localhost:8080/"
        },
        "id": "OPwCIOkaAblb",
        "outputId": "59fe02db-0ab5-4ad4-d89e-a680529f4e4d"
      },
      "execution_count": null,
      "outputs": [
        {
          "output_type": "stream",
          "name": "stdout",
          "text": [
            "['yellow', 'blue', 'orange']\n"
          ]
        }
      ]
    },
    {
      "cell_type": "markdown",
      "source": [
        "##**6. Indexing and Slicing**"
      ],
      "metadata": {
        "id": "I4ARo6n3-tHZ"
      }
    },
    {
      "cell_type": "markdown",
      "source": [
        "Given the list numbers = [10, 20, 30, 40, 50]\n",
        "\n",
        "Print the third item from the list.\n",
        "\n",
        "Using slicing, print the first two numbers.\n",
        "\n",
        "Getting the last three numbers using negative indexing and slicing.\n"
      ],
      "metadata": {
        "id": "S0O3zIPj-0WF"
      }
    },
    {
      "cell_type": "code",
      "source": [
        "numbers= [10, 20, 30, 40, 50]\n",
        "numbers[2]"
      ],
      "metadata": {
        "id": "L4VC1g0Z-yf7",
        "colab": {
          "base_uri": "https://localhost:8080/"
        },
        "outputId": "638201e2-5550-4e5f-dc59-8a60eb53d162"
      },
      "execution_count": null,
      "outputs": [
        {
          "output_type": "execute_result",
          "data": {
            "text/plain": [
              "30"
            ]
          },
          "metadata": {},
          "execution_count": 59
        }
      ]
    },
    {
      "cell_type": "code",
      "source": [
        "numbers[:2]"
      ],
      "metadata": {
        "colab": {
          "base_uri": "https://localhost:8080/"
        },
        "id": "pMNhD_B0DyUh",
        "outputId": "ae455f55-d446-488f-87b9-8f0fd0d26361"
      },
      "execution_count": null,
      "outputs": [
        {
          "output_type": "execute_result",
          "data": {
            "text/plain": [
              "[10, 20]"
            ]
          },
          "metadata": {},
          "execution_count": 61
        }
      ]
    },
    {
      "cell_type": "code",
      "source": [
        "numbers[-3:]"
      ],
      "metadata": {
        "colab": {
          "base_uri": "https://localhost:8080/"
        },
        "id": "OdvuxyPVD0SO",
        "outputId": "d4be34be-cc0e-4490-90da-09e9154eaa2c"
      },
      "execution_count": null,
      "outputs": [
        {
          "output_type": "execute_result",
          "data": {
            "text/plain": [
              "[30, 40, 50]"
            ]
          },
          "metadata": {},
          "execution_count": 62
        }
      ]
    },
    {
      "cell_type": "markdown",
      "source": [
        "##**7. Manipulating Elements**"
      ],
      "metadata": {
        "id": "R7a-EMBg-yqV"
      }
    },
    {
      "cell_type": "markdown",
      "source": [
        "Given the list animals = ['cat', 'dog', 'bird']\n",
        "\n",
        "Print the list.\n",
        "\n",
        "Add fish to the end of the list.\n",
        "\n",
        "Print the updated list."
      ],
      "metadata": {
        "id": "Ok8GMz8F_DmG"
      }
    },
    {
      "cell_type": "code",
      "source": [
        "animals=['cat', 'dog', 'bird']\n",
        "print (animals)\n",
        "animals.append ('fish')\n",
        "print (animals)"
      ],
      "metadata": {
        "id": "um6eyhJA_Jmo",
        "colab": {
          "base_uri": "https://localhost:8080/"
        },
        "outputId": "00116384-81e2-4f4b-eeb2-377d2ae56c6e"
      },
      "execution_count": null,
      "outputs": [
        {
          "output_type": "stream",
          "name": "stdout",
          "text": [
            "['cat', 'dog', 'bird']\n",
            "['cat', 'dog', 'bird', 'fish']\n"
          ]
        }
      ]
    },
    {
      "cell_type": "markdown",
      "source": [
        "##**8. Sorting**"
      ],
      "metadata": {
        "id": "LUdf9Z3h_NJ5"
      }
    },
    {
      "cell_type": "markdown",
      "source": [
        "Given the list random_numbers = [42, 8, 15, 23, 16]\n",
        "\n",
        "Print the list.\n",
        "\n",
        "Use the sort() method to sort the list.\n",
        "\n",
        "Print the sorted list.\n",
        "\n",
        "Print every second item from the sorted list."
      ],
      "metadata": {
        "id": "hsyfmVj__Q1Y"
      }
    },
    {
      "cell_type": "code",
      "source": [
        "random_numbers=[42, 8, 15, 23, 16]\n",
        "print (random_numbers)"
      ],
      "metadata": {
        "id": "oYbr9naM_W2S",
        "colab": {
          "base_uri": "https://localhost:8080/"
        },
        "outputId": "be5ab27d-2b08-4d3a-ed38-ad23d8f0b8c7"
      },
      "execution_count": null,
      "outputs": [
        {
          "output_type": "stream",
          "name": "stdout",
          "text": [
            "[42, 8, 15, 23, 16]\n"
          ]
        }
      ]
    },
    {
      "cell_type": "code",
      "source": [
        "random_numbers.sort()\n",
        "print (random_numbers)"
      ],
      "metadata": {
        "id": "yJfolU6tJ53t",
        "colab": {
          "base_uri": "https://localhost:8080/"
        },
        "outputId": "74ce35c6-e993-4642-880f-66231726fb5c"
      },
      "execution_count": null,
      "outputs": [
        {
          "output_type": "stream",
          "name": "stdout",
          "text": [
            "[8, 15, 16, 23, 42]\n"
          ]
        }
      ]
    },
    {
      "cell_type": "code",
      "source": [
        "random_numbers[2::2]"
      ],
      "metadata": {
        "colab": {
          "base_uri": "https://localhost:8080/"
        },
        "id": "9HzonWZ2EnKt",
        "outputId": "de2ac17c-bc8c-440f-bbc8-4cbe9e33f299"
      },
      "execution_count": null,
      "outputs": [
        {
          "output_type": "execute_result",
          "data": {
            "text/plain": [
              "[16, 42]"
            ]
          },
          "metadata": {},
          "execution_count": 69
        }
      ]
    }
  ]
}