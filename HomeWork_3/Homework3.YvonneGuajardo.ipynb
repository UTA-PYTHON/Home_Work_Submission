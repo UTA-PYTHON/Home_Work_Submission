{
 "cells": [
  {
   "cell_type": "markdown",
   "id": "70d475bc",
   "metadata": {},
   "source": [
    "Yvonne Guajardo"
   ]
  },
  {
   "cell_type": "markdown",
   "id": "cb34d43a",
   "metadata": {},
   "source": [
    "# Homework 3"
   ]
  },
  {
   "cell_type": "markdown",
   "id": "53d2b1c1",
   "metadata": {},
   "source": [
    "## 1. Printing, Data Types, and Input \n",
    "- Ask the user for their name and their age/\n",
    "- Print a statement saying: \"Hello, [name]. You are [age] years old.\"\n",
    "- Print the data type of each variable"
   ]
  },
  {
   "cell_type": "code",
   "execution_count": 214,
   "id": "975e4b4a",
   "metadata": {},
   "outputs": [
    {
     "name": "stdout",
     "output_type": "stream",
     "text": [
      "Enter your name: Bob\n",
      "Enter your age: 100\n"
     ]
    }
   ],
   "source": [
    "name = input(\"Enter your name: \")\n",
    "age = int(input(\"Enter your age: \"))"
   ]
  },
  {
   "cell_type": "code",
   "execution_count": 215,
   "id": "49d1a071",
   "metadata": {},
   "outputs": [
    {
     "name": "stdout",
     "output_type": "stream",
     "text": [
      "Hello, Bob. You are 100 years old.\n"
     ]
    }
   ],
   "source": [
    "print(\"Hello,\",name + \".\", \"You are\",age, \"years old.\")"
   ]
  },
  {
   "cell_type": "code",
   "execution_count": 37,
   "id": "9e4db8d1",
   "metadata": {},
   "outputs": [
    {
     "name": "stdout",
     "output_type": "stream",
     "text": [
      "<class 'str'>\n"
     ]
    }
   ],
   "source": [
    "print(type(name))"
   ]
  },
  {
   "cell_type": "code",
   "execution_count": 38,
   "id": "72caf4ce",
   "metadata": {},
   "outputs": [
    {
     "name": "stdout",
     "output_type": "stream",
     "text": [
      "<class 'int'>\n"
     ]
    }
   ],
   "source": [
    "print(type(age))"
   ]
  },
  {
   "cell_type": "markdown",
   "id": "03ade53d",
   "metadata": {},
   "source": [
    "# 2. String Manipulations and Input\n",
    "- Ask the user for the name of their hometown. \n",
    "- Print the name of the hometown in uppercase.\n",
    "- Print the first three characters of the hometown's name using slicing. \n",
    "- Printing the name in reverse using slicing."
   ]
  },
  {
   "cell_type": "code",
   "execution_count": 2,
   "id": "c4a36ed8",
   "metadata": {},
   "outputs": [
    {
     "name": "stdout",
     "output_type": "stream",
     "text": [
      "Enter your hometown: Fort Walton Beach\n"
     ]
    }
   ],
   "source": [
    "hometown = input(\"Enter your hometown: \")"
   ]
  },
  {
   "cell_type": "code",
   "execution_count": 3,
   "id": "9203b49b",
   "metadata": {},
   "outputs": [
    {
     "name": "stdout",
     "output_type": "stream",
     "text": [
      "FORT WALTON BEACH\n"
     ]
    }
   ],
   "source": [
    "print(str.upper(hometown))"
   ]
  },
  {
   "cell_type": "code",
   "execution_count": 4,
   "id": "86a556cd",
   "metadata": {},
   "outputs": [
    {
     "name": "stdout",
     "output_type": "stream",
     "text": [
      "For\n"
     ]
    }
   ],
   "source": [
    "print(hometown[0:3])"
   ]
  },
  {
   "cell_type": "code",
   "execution_count": 5,
   "id": "9262a050",
   "metadata": {},
   "outputs": [
    {
     "name": "stdout",
     "output_type": "stream",
     "text": [
      "hcaeB notlaW troF\n"
     ]
    }
   ],
   "source": [
    "print(hometown[::-1])"
   ]
  },
  {
   "cell_type": "markdown",
   "id": "17e6d9d6",
   "metadata": {},
   "source": [
    "# 3. Numeric Operations and Input\n",
    "- Prompt the user to enter a number. \n",
    "- Multiply the number by itself and print the result.\n",
    "- Calculating the square root."
   ]
  },
  {
   "cell_type": "code",
   "execution_count": 10,
   "id": "e1efc8d0",
   "metadata": {
    "scrolled": true
   },
   "outputs": [
    {
     "name": "stdout",
     "output_type": "stream",
     "text": [
      "Enter a number: 81\n"
     ]
    }
   ],
   "source": [
    "number = int(input(\"Enter a number: \"))"
   ]
  },
  {
   "cell_type": "code",
   "execution_count": 11,
   "id": "597e7ff4",
   "metadata": {
    "scrolled": true
   },
   "outputs": [
    {
     "name": "stdout",
     "output_type": "stream",
     "text": [
      "6561\n"
     ]
    }
   ],
   "source": [
    "(print(number**2))"
   ]
  },
  {
   "cell_type": "code",
   "execution_count": 12,
   "id": "c50ef763",
   "metadata": {},
   "outputs": [],
   "source": [
    "import math"
   ]
  },
  {
   "cell_type": "code",
   "execution_count": 13,
   "id": "d3fd1d62",
   "metadata": {},
   "outputs": [
    {
     "name": "stdout",
     "output_type": "stream",
     "text": [
      "9.0\n"
     ]
    }
   ],
   "source": [
    "print(math.sqrt(number))"
   ]
  },
  {
   "cell_type": "markdown",
   "id": "fa9d5a09",
   "metadata": {},
   "source": [
    "# 4. Boolean Evaluations\n",
    "-  Print the result of the following evaluations. \n",
    "    - 10 > 5\n",
    "    - 10 == 10\n",
    "    - 8 != 9"
   ]
  },
  {
   "cell_type": "code",
   "execution_count": 91,
   "id": "d2d06fca",
   "metadata": {},
   "outputs": [
    {
     "name": "stdout",
     "output_type": "stream",
     "text": [
      "True\n"
     ]
    }
   ],
   "source": [
    "(print(10 > 5))"
   ]
  },
  {
   "cell_type": "code",
   "execution_count": 92,
   "id": "43426ffd",
   "metadata": {},
   "outputs": [
    {
     "name": "stdout",
     "output_type": "stream",
     "text": [
      "True\n"
     ]
    }
   ],
   "source": [
    "print(10 == 10)"
   ]
  },
  {
   "cell_type": "code",
   "execution_count": 93,
   "id": "560b3992",
   "metadata": {},
   "outputs": [
    {
     "name": "stdout",
     "output_type": "stream",
     "text": [
      "True\n"
     ]
    }
   ],
   "source": [
    "print(8 != 9)"
   ]
  },
  {
   "cell_type": "markdown",
   "id": "81ead8d3",
   "metadata": {},
   "source": [
    "# 5. List Creation and Operations\n",
    "- Create a list named colors containing the following items: red, blue, green.\n",
    "- Print the list. \n",
    "- Print the first item in the list. \n",
    "- Replace the second item in the list with yellow. \n",
    "- Print the list again.\n",
    "- Changing the last item using negative indexing. "
   ]
  },
  {
   "cell_type": "code",
   "execution_count": 229,
   "id": "0a73a50e",
   "metadata": {},
   "outputs": [],
   "source": [
    "colors = [\"red\",\"blue\",\"green\"]"
   ]
  },
  {
   "cell_type": "code",
   "execution_count": 230,
   "id": "dbeab9e8",
   "metadata": {},
   "outputs": [
    {
     "name": "stdout",
     "output_type": "stream",
     "text": [
      "['red', 'blue', 'green']\n"
     ]
    }
   ],
   "source": [
    "print(colors)"
   ]
  },
  {
   "cell_type": "code",
   "execution_count": 231,
   "id": "264a458b",
   "metadata": {},
   "outputs": [
    {
     "name": "stdout",
     "output_type": "stream",
     "text": [
      "['red']\n"
     ]
    }
   ],
   "source": [
    "print(colors[0:1])"
   ]
  },
  {
   "cell_type": "code",
   "execution_count": 232,
   "id": "e7308870",
   "metadata": {},
   "outputs": [],
   "source": [
    "colors[1] = \"yellow\""
   ]
  },
  {
   "cell_type": "code",
   "execution_count": 233,
   "id": "5ca12ef0",
   "metadata": {},
   "outputs": [
    {
     "name": "stdout",
     "output_type": "stream",
     "text": [
      "['red', 'yellow', 'green']\n"
     ]
    }
   ],
   "source": [
    "print(colors)"
   ]
  },
  {
   "cell_type": "code",
   "execution_count": 234,
   "id": "171602e8",
   "metadata": {},
   "outputs": [],
   "source": [
    "colors[-1] = \"pink\""
   ]
  },
  {
   "cell_type": "code",
   "execution_count": 235,
   "id": "f93bf71f",
   "metadata": {},
   "outputs": [
    {
     "name": "stdout",
     "output_type": "stream",
     "text": [
      "['red', 'yellow', 'pink']\n"
     ]
    }
   ],
   "source": [
    "print(colors)"
   ]
  },
  {
   "cell_type": "markdown",
   "id": "5a7d4aaf",
   "metadata": {},
   "source": [
    "# 6. Indexing and Slicing\n",
    "- Given the list numbers = [10,20,30,40,50]\n",
    "- Print the third item from the list. \n",
    "- Using slicing, print the first two numbers. \n",
    "- Getting the last three numbers using negative indexing and slicing. "
   ]
  },
  {
   "cell_type": "code",
   "execution_count": 146,
   "id": "26f15149",
   "metadata": {},
   "outputs": [],
   "source": [
    "numbers = [10, 20, 30, 40, 50]"
   ]
  },
  {
   "cell_type": "code",
   "execution_count": 138,
   "id": "e0e1ba69",
   "metadata": {},
   "outputs": [
    {
     "name": "stdout",
     "output_type": "stream",
     "text": [
      "30\n"
     ]
    }
   ],
   "source": [
    "print(numbers[2])"
   ]
  },
  {
   "cell_type": "code",
   "execution_count": 239,
   "id": "fd86892d",
   "metadata": {},
   "outputs": [
    {
     "name": "stdout",
     "output_type": "stream",
     "text": [
      "[10, 20]\n"
     ]
    }
   ],
   "source": [
    "print(numbers[0:2])"
   ]
  },
  {
   "cell_type": "code",
   "execution_count": 240,
   "id": "6c9d98fc",
   "metadata": {},
   "outputs": [
    {
     "name": "stdout",
     "output_type": "stream",
     "text": [
      "[30, 40, 50]\n"
     ]
    }
   ],
   "source": [
    "print(numbers[-3:])"
   ]
  },
  {
   "cell_type": "markdown",
   "id": "9c6488b9",
   "metadata": {},
   "source": [
    "# 7. Manipulating Elements\n",
    "- Given the list animals = ['cat','dog','bird']\n",
    "- Print the list.\n",
    "- Add fish to the end of the list.\n",
    "- Print the updated list. "
   ]
  },
  {
   "cell_type": "code",
   "execution_count": 241,
   "id": "b39ef9f1",
   "metadata": {},
   "outputs": [],
   "source": [
    "animals = ['cat', 'dog', 'bird']"
   ]
  },
  {
   "cell_type": "code",
   "execution_count": 242,
   "id": "2080edd6",
   "metadata": {},
   "outputs": [
    {
     "name": "stdout",
     "output_type": "stream",
     "text": [
      "['cat', 'dog', 'bird']\n"
     ]
    }
   ],
   "source": [
    "print(animals)"
   ]
  },
  {
   "cell_type": "code",
   "execution_count": 243,
   "id": "ba268d95",
   "metadata": {},
   "outputs": [],
   "source": [
    "animals.append('fish')"
   ]
  },
  {
   "cell_type": "code",
   "execution_count": 244,
   "id": "e71a334a",
   "metadata": {},
   "outputs": [
    {
     "name": "stdout",
     "output_type": "stream",
     "text": [
      "['cat', 'dog', 'bird', 'fish']\n"
     ]
    }
   ],
   "source": [
    "print(animals)"
   ]
  },
  {
   "cell_type": "markdown",
   "id": "b2bc275d",
   "metadata": {},
   "source": [
    "# 8. Sorting\n",
    "- Given the list random_numbers = [42,8,15,23,16]\n",
    "- Print the list. \n",
    "- Use the sort() method to sort the list. \n",
    "- Print the sorted list. \n",
    "- Print every second item from the sorted list. "
   ]
  },
  {
   "cell_type": "code",
   "execution_count": 201,
   "id": "37a20850",
   "metadata": {},
   "outputs": [],
   "source": [
    "random_numbers = [42, 8, 15, 23, 16]"
   ]
  },
  {
   "cell_type": "code",
   "execution_count": 202,
   "id": "9f4dcab1",
   "metadata": {},
   "outputs": [
    {
     "name": "stdout",
     "output_type": "stream",
     "text": [
      "[42, 8, 15, 23, 16]\n"
     ]
    }
   ],
   "source": [
    "print(random_numbers)"
   ]
  },
  {
   "cell_type": "code",
   "execution_count": 204,
   "id": "bc0463ac",
   "metadata": {},
   "outputs": [],
   "source": [
    "random_numbers.sort()"
   ]
  },
  {
   "cell_type": "code",
   "execution_count": 205,
   "id": "575fff0f",
   "metadata": {},
   "outputs": [
    {
     "name": "stdout",
     "output_type": "stream",
     "text": [
      "[8, 15, 16, 23, 42]\n"
     ]
    }
   ],
   "source": [
    "print(random_numbers)"
   ]
  },
  {
   "cell_type": "code",
   "execution_count": 212,
   "id": "f7840c96",
   "metadata": {},
   "outputs": [
    {
     "name": "stdout",
     "output_type": "stream",
     "text": [
      "[8, 16, 42]\n"
     ]
    }
   ],
   "source": [
    "print((random_numbers[0::2]))"
   ]
  }
 ],
 "metadata": {
  "kernelspec": {
   "display_name": "Python 3 (ipykernel)",
   "language": "python",
   "name": "python3"
  },
  "language_info": {
   "codemirror_mode": {
    "name": "ipython",
    "version": 3
   },
   "file_extension": ".py",
   "mimetype": "text/x-python",
   "name": "python",
   "nbconvert_exporter": "python",
   "pygments_lexer": "ipython3",
   "version": "3.11.4"
  }
 },
 "nbformat": 4,
 "nbformat_minor": 5
}
