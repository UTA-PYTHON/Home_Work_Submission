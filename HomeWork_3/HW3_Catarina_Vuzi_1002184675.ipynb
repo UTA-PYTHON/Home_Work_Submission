{
  "nbformat": 4,
  "nbformat_minor": 0,
  "metadata": {
    "colab": {
      "provenance": []
    },
    "kernelspec": {
      "name": "python3",
      "display_name": "Python 3"
    },
    "language_info": {
      "name": "python"
    }
  },
  "cells": [
    {
      "cell_type": "markdown",
      "source": [
        "## Catarina Vuzi"
      ],
      "metadata": {
        "id": "JASkGSDxVGtj"
      }
    },
    {
      "cell_type": "markdown",
      "source": [
        "# **1 Printing Data types, amd Input**"
      ],
      "metadata": {
        "id": "6pJT2RmqU6xf"
      }
    },
    {
      "cell_type": "code",
      "execution_count": null,
      "metadata": {
        "colab": {
          "base_uri": "https://localhost:8080/"
        },
        "id": "VoGWiucAUn0Z",
        "outputId": "1cd3da16-3b03-4144-e355-48af00e3e347"
      },
      "outputs": [
        {
          "name": "stdout",
          "output_type": "stream",
          "text": [
            "what is your name? Ana \n",
            "How old are you? 25\n"
          ]
        }
      ],
      "source": [
        "name=input(\"what is your name? \")\n",
        "age=int(input(\"How old are you? \"))"
      ]
    },
    {
      "cell_type": "code",
      "source": [
        "print(\"Hello \",name,\"you are \",age, \"years old\")"
      ],
      "metadata": {
        "colab": {
          "base_uri": "https://localhost:8080/"
        },
        "id": "7RVXtUr-XL2d",
        "outputId": "09c428a0-610a-40ea-ea84-5588b38f0108"
      },
      "execution_count": null,
      "outputs": [
        {
          "output_type": "stream",
          "name": "stdout",
          "text": [
            "Hello  Ana  you are  25 years old\n"
          ]
        }
      ]
    },
    {
      "cell_type": "code",
      "source": [
        "type(name)"
      ],
      "metadata": {
        "colab": {
          "base_uri": "https://localhost:8080/"
        },
        "id": "krU1kF4qafSS",
        "outputId": "46d58751-9669-4f3d-dec3-81c7d852eabf"
      },
      "execution_count": null,
      "outputs": [
        {
          "output_type": "execute_result",
          "data": {
            "text/plain": [
              "str"
            ]
          },
          "metadata": {},
          "execution_count": 13
        }
      ]
    },
    {
      "cell_type": "code",
      "source": [
        "type(age)"
      ],
      "metadata": {
        "colab": {
          "base_uri": "https://localhost:8080/"
        },
        "id": "Umr_R7N9aiZm",
        "outputId": "ba3a60b5-2de2-4f39-d83e-581ebd24a536"
      },
      "execution_count": null,
      "outputs": [
        {
          "output_type": "execute_result",
          "data": {
            "text/plain": [
              "int"
            ]
          },
          "metadata": {},
          "execution_count": 14
        }
      ]
    },
    {
      "cell_type": "markdown",
      "source": [
        "# **String Manipulations and input**"
      ],
      "metadata": {
        "id": "PcPvTkwZarAp"
      }
    },
    {
      "cell_type": "code",
      "source": [
        "home_town=input(\"what is your Hometown name? \")"
      ],
      "metadata": {
        "colab": {
          "base_uri": "https://localhost:8080/"
        },
        "id": "LTnSauwwa-UO",
        "outputId": "5c01713c-db3e-477d-eb41-58f8ea4f7416"
      },
      "execution_count": null,
      "outputs": [
        {
          "name": "stdout",
          "output_type": "stream",
          "text": [
            "what is your Hometown name? Florence\n"
          ]
        }
      ]
    },
    {
      "cell_type": "code",
      "source": [
        "home_town.upper()"
      ],
      "metadata": {
        "colab": {
          "base_uri": "https://localhost:8080/",
          "height": 35
        },
        "id": "WP0804A_apXO",
        "outputId": "ec216b75-cd27-41f9-fc3a-abbfcd7e1125"
      },
      "execution_count": null,
      "outputs": [
        {
          "output_type": "execute_result",
          "data": {
            "text/plain": [
              "'FLORENCE'"
            ],
            "application/vnd.google.colaboratory.intrinsic+json": {
              "type": "string"
            }
          },
          "metadata": {},
          "execution_count": 18
        }
      ]
    },
    {
      "cell_type": "code",
      "source": [
        "home_town[:3]"
      ],
      "metadata": {
        "colab": {
          "base_uri": "https://localhost:8080/",
          "height": 35
        },
        "id": "azXaLR3jcral",
        "outputId": "8efe117d-f94d-4bef-c1a6-b504ae9d7439"
      },
      "execution_count": null,
      "outputs": [
        {
          "output_type": "execute_result",
          "data": {
            "text/plain": [
              "'Flo'"
            ],
            "application/vnd.google.colaboratory.intrinsic+json": {
              "type": "string"
            }
          },
          "metadata": {},
          "execution_count": 24
        }
      ]
    },
    {
      "cell_type": "code",
      "source": [
        "home_town[::-1]"
      ],
      "metadata": {
        "colab": {
          "base_uri": "https://localhost:8080/",
          "height": 35
        },
        "id": "4oYksb3sdUIo",
        "outputId": "21d15ee5-5673-491f-8f87-d3dbad5c6291"
      },
      "execution_count": null,
      "outputs": [
        {
          "output_type": "execute_result",
          "data": {
            "text/plain": [
              "'ecnerolF'"
            ],
            "application/vnd.google.colaboratory.intrinsic+json": {
              "type": "string"
            }
          },
          "metadata": {},
          "execution_count": 28
        }
      ]
    },
    {
      "cell_type": "markdown",
      "source": [
        "# **Numeric Operations**"
      ],
      "metadata": {
        "id": "MtGx2R1aefrl"
      }
    },
    {
      "cell_type": "code",
      "source": [
        "numb=int(input(\"Give me a number: \"))\n",
        "\n",
        "\n",
        "result=numb*numb\n",
        "print(result**0.5)\n"
      ],
      "metadata": {
        "colab": {
          "base_uri": "https://localhost:8080/"
        },
        "id": "QEcjR5yielyK",
        "outputId": "c484c1db-d553-4023-e09a-28a578cbf03f"
      },
      "execution_count": null,
      "outputs": [
        {
          "output_type": "stream",
          "name": "stdout",
          "text": [
            "Give me a number: 12\n",
            "12.0\n"
          ]
        }
      ]
    },
    {
      "cell_type": "markdown",
      "source": [
        "# **Boolean Evaluations**"
      ],
      "metadata": {
        "id": "C03d29eZhNM6"
      }
    },
    {
      "cell_type": "code",
      "source": [
        "10>5"
      ],
      "metadata": {
        "colab": {
          "base_uri": "https://localhost:8080/"
        },
        "id": "oDs5ps8ChJN9",
        "outputId": "b4b73c4a-630e-415a-abc4-036e4ed13c94"
      },
      "execution_count": null,
      "outputs": [
        {
          "output_type": "execute_result",
          "data": {
            "text/plain": [
              "True"
            ]
          },
          "metadata": {},
          "execution_count": 33
        }
      ]
    },
    {
      "cell_type": "code",
      "source": [
        "10==10"
      ],
      "metadata": {
        "colab": {
          "base_uri": "https://localhost:8080/"
        },
        "id": "mfHJpzemheEV",
        "outputId": "095a993f-628e-4357-f253-187959bcc786"
      },
      "execution_count": null,
      "outputs": [
        {
          "output_type": "execute_result",
          "data": {
            "text/plain": [
              "True"
            ]
          },
          "metadata": {},
          "execution_count": 34
        }
      ]
    },
    {
      "cell_type": "code",
      "source": [
        "8!=9"
      ],
      "metadata": {
        "colab": {
          "base_uri": "https://localhost:8080/"
        },
        "id": "tOJbmX3ohhWJ",
        "outputId": "34622fea-8d13-459a-b50b-cfa882fe5bc7"
      },
      "execution_count": null,
      "outputs": [
        {
          "output_type": "execute_result",
          "data": {
            "text/plain": [
              "True"
            ]
          },
          "metadata": {},
          "execution_count": 35
        }
      ]
    },
    {
      "cell_type": "markdown",
      "source": [
        "# **List Creation and Operations**"
      ],
      "metadata": {
        "id": "a72SP7Zdhoni"
      }
    },
    {
      "cell_type": "code",
      "source": [
        "col_ors=[\"red\",\"blue\",\"green\"]\n",
        "\n",
        "col_ors"
      ],
      "metadata": {
        "colab": {
          "base_uri": "https://localhost:8080/"
        },
        "id": "wqeMeC7dhlkd",
        "outputId": "80a68a9b-8246-4d8d-a707-58500b83a930"
      },
      "execution_count": null,
      "outputs": [
        {
          "output_type": "execute_result",
          "data": {
            "text/plain": [
              "['red', 'blue', 'green']"
            ]
          },
          "metadata": {},
          "execution_count": 43
        }
      ]
    },
    {
      "cell_type": "code",
      "source": [
        "col_ors[0]"
      ],
      "metadata": {
        "colab": {
          "base_uri": "https://localhost:8080/",
          "height": 35
        },
        "id": "fyv7yc56iEOs",
        "outputId": "e36e4c4e-cf8a-42a8-8384-12b016da2568"
      },
      "execution_count": null,
      "outputs": [
        {
          "output_type": "execute_result",
          "data": {
            "text/plain": [
              "'red'"
            ],
            "application/vnd.google.colaboratory.intrinsic+json": {
              "type": "string"
            }
          },
          "metadata": {},
          "execution_count": 44
        }
      ]
    },
    {
      "cell_type": "code",
      "source": [
        "col_ors[1]=\"yellow\""
      ],
      "metadata": {
        "id": "RmLkCS7xj6Va"
      },
      "execution_count": null,
      "outputs": []
    },
    {
      "cell_type": "code",
      "source": [
        "col_ors"
      ],
      "metadata": {
        "colab": {
          "base_uri": "https://localhost:8080/"
        },
        "id": "YCrP91PSkPbi",
        "outputId": "7fceb08c-c5a2-420f-bb02-049e1b947b71"
      },
      "execution_count": null,
      "outputs": [
        {
          "output_type": "execute_result",
          "data": {
            "text/plain": [
              "['red', 'yellow', 'green']"
            ]
          },
          "metadata": {},
          "execution_count": 47
        }
      ]
    },
    {
      "cell_type": "code",
      "source": [
        "col_ors[-1]=\"indigo\"\n",
        "col_ors"
      ],
      "metadata": {
        "colab": {
          "base_uri": "https://localhost:8080/"
        },
        "id": "OW0SdYQxkTRs",
        "outputId": "b8cb5fca-591d-4cec-c60d-cb20bba980be"
      },
      "execution_count": null,
      "outputs": [
        {
          "output_type": "execute_result",
          "data": {
            "text/plain": [
              "['red', 'yellow', 'indigo']"
            ]
          },
          "metadata": {},
          "execution_count": 49
        }
      ]
    },
    {
      "cell_type": "markdown",
      "source": [
        "# **Indexing and slicing**"
      ],
      "metadata": {
        "id": "lWXDn5gbk3OM"
      }
    },
    {
      "cell_type": "code",
      "source": [
        "numbers=[10,20,30,40,50]\n",
        "\n",
        "numbers[2]"
      ],
      "metadata": {
        "colab": {
          "base_uri": "https://localhost:8080/"
        },
        "id": "nID23Snmk9-6",
        "outputId": "fa4db4f4-17fa-45e7-9e9f-d213bddbad5e"
      },
      "execution_count": null,
      "outputs": [
        {
          "output_type": "execute_result",
          "data": {
            "text/plain": [
              "30"
            ]
          },
          "metadata": {},
          "execution_count": 51
        }
      ]
    },
    {
      "cell_type": "code",
      "source": [
        "numbers[:2]"
      ],
      "metadata": {
        "colab": {
          "base_uri": "https://localhost:8080/"
        },
        "id": "-F6FEkRelReI",
        "outputId": "6ee6de58-a0d5-450a-ea91-f243064785cd"
      },
      "execution_count": null,
      "outputs": [
        {
          "output_type": "execute_result",
          "data": {
            "text/plain": [
              "[10, 20]"
            ]
          },
          "metadata": {},
          "execution_count": 52
        }
      ]
    },
    {
      "cell_type": "code",
      "source": [
        "numbers[-3:]"
      ],
      "metadata": {
        "colab": {
          "base_uri": "https://localhost:8080/"
        },
        "id": "1m3GFbvplpl9",
        "outputId": "b3ffe08d-05bb-4292-bcd6-d7887f010ff9"
      },
      "execution_count": null,
      "outputs": [
        {
          "output_type": "execute_result",
          "data": {
            "text/plain": [
              "[30, 40, 50]"
            ]
          },
          "metadata": {},
          "execution_count": 72
        }
      ]
    },
    {
      "cell_type": "markdown",
      "source": [
        "# **Manipulating Elements**"
      ],
      "metadata": {
        "id": "kjdDXrlgnKY8"
      }
    },
    {
      "cell_type": "code",
      "source": [
        "anim_als=[\"cat\",\"dog\",\"bird\"]\n",
        "anim_als\n"
      ],
      "metadata": {
        "colab": {
          "base_uri": "https://localhost:8080/"
        },
        "id": "2K1Ue1PqoOE-",
        "outputId": "a6e862b6-e49c-4038-e543-d5da6c62a0bb"
      },
      "execution_count": null,
      "outputs": [
        {
          "output_type": "execute_result",
          "data": {
            "text/plain": [
              "['cat', 'dog', 'bird']"
            ]
          },
          "metadata": {},
          "execution_count": 97
        }
      ]
    },
    {
      "cell_type": "code",
      "source": [
        "anim_als.append(\"fish\")\n",
        "\n",
        "anim_als"
      ],
      "metadata": {
        "colab": {
          "base_uri": "https://localhost:8080/"
        },
        "id": "lbUISWpitc_w",
        "outputId": "f6b01cb0-6a78-4c60-e353-30814622f08d"
      },
      "execution_count": null,
      "outputs": [
        {
          "output_type": "execute_result",
          "data": {
            "text/plain": [
              "['cat', 'dog', 'bird', 'fish']"
            ]
          },
          "metadata": {},
          "execution_count": 98
        }
      ]
    },
    {
      "cell_type": "markdown",
      "source": [
        "# **Sorting**"
      ],
      "metadata": {
        "id": "Yo0QYt-ro9rE"
      }
    },
    {
      "cell_type": "code",
      "source": [
        "random_numbers=[42,8,15,23,16]\n",
        "\n",
        "random_numbers\n"
      ],
      "metadata": {
        "colab": {
          "base_uri": "https://localhost:8080/"
        },
        "id": "Q2QrjXKrpCn9",
        "outputId": "7ef02dfa-6ae5-4ace-dcf3-c7fdfdd81131"
      },
      "execution_count": null,
      "outputs": [
        {
          "output_type": "execute_result",
          "data": {
            "text/plain": [
              "[42, 8, 15, 23, 16]"
            ]
          },
          "metadata": {},
          "execution_count": 84
        }
      ]
    },
    {
      "cell_type": "code",
      "source": [
        "random_numbers.sort()\n",
        "\n",
        "random_numbers"
      ],
      "metadata": {
        "colab": {
          "base_uri": "https://localhost:8080/"
        },
        "id": "1TZt2CTopbQL",
        "outputId": "fcca485f-5a7d-42f2-9c14-aa688fae83d2"
      },
      "execution_count": null,
      "outputs": [
        {
          "output_type": "execute_result",
          "data": {
            "text/plain": [
              "[8, 15, 16, 23, 42]"
            ]
          },
          "metadata": {},
          "execution_count": 86
        }
      ]
    },
    {
      "cell_type": "code",
      "source": [
        "print(random_numbers[2::2])"
      ],
      "metadata": {
        "colab": {
          "base_uri": "https://localhost:8080/"
        },
        "id": "w8BQQNnZrNZo",
        "outputId": "729720b2-964d-4f65-ca27-4e2917c7285e"
      },
      "execution_count": null,
      "outputs": [
        {
          "output_type": "stream",
          "name": "stdout",
          "text": [
            "[16, 42]\n"
          ]
        }
      ]
    }
  ]
}