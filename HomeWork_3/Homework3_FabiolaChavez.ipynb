{
 "cells": [
  {
   "cell_type": "markdown",
   "id": "25c7038a",
   "metadata": {},
   "source": [
    "1001991733 Fabiola Chavez"
   ]
  },
  {
   "cell_type": "markdown",
   "id": "f0898d9a",
   "metadata": {},
   "source": [
    "## 1. Printing Data Types, and Input "
   ]
  },
  {
   "cell_type": "markdown",
   "id": "48487422",
   "metadata": {},
   "source": [
    "- Ask the user for their name and their age.\n",
    "- Print a statement saying: \"Hello, [name]. You are [age] years old.\"\n",
    "- Print the data type of each variable"
   ]
  },
  {
   "cell_type": "code",
   "execution_count": 27,
   "id": "e16c1bc6",
   "metadata": {},
   "outputs": [
    {
     "name": "stdout",
     "output_type": "stream",
     "text": [
      "Please enter your name: Fabi\n"
     ]
    }
   ],
   "source": [
    "name= input(\"Please enter your name: \")                     # asking user for their name"
   ]
  },
  {
   "cell_type": "code",
   "execution_count": 28,
   "id": "402e9611",
   "metadata": {},
   "outputs": [
    {
     "name": "stdout",
     "output_type": "stream",
     "text": [
      "Please enter your age: 19\n"
     ]
    }
   ],
   "source": [
    "age= int(input(\"Please enter your age: \"))                  # asking user for their age"
   ]
  },
  {
   "cell_type": "code",
   "execution_count": 29,
   "id": "3a1f5b8f",
   "metadata": {},
   "outputs": [
    {
     "name": "stdout",
     "output_type": "stream",
     "text": [
      "Hello Fabi you are 19 years old\n"
     ]
    }
   ],
   "source": [
    "print(\"Hello\", name, \"you are\", age, \"years old\")          # print a statement "
   ]
  },
  {
   "cell_type": "code",
   "execution_count": 30,
   "id": "de24ca13",
   "metadata": {},
   "outputs": [
    {
     "data": {
      "text/plain": [
       "str"
      ]
     },
     "execution_count": 30,
     "metadata": {},
     "output_type": "execute_result"
    }
   ],
   "source": [
    "type(name)                                                 # print the data type of each variable"
   ]
  },
  {
   "cell_type": "code",
   "execution_count": 31,
   "id": "fb7ebd7c",
   "metadata": {},
   "outputs": [
    {
     "data": {
      "text/plain": [
       "int"
      ]
     },
     "execution_count": 31,
     "metadata": {},
     "output_type": "execute_result"
    }
   ],
   "source": [
    "type(age)                                                  # print the date type of each variable "
   ]
  },
  {
   "cell_type": "markdown",
   "id": "e6390535",
   "metadata": {},
   "source": [
    "## 2. String Manipulations and Input\n",
    "- Ask the user for the name of their hometown.\n",
    "- Print the name of the hometown in uppercase.\n",
    "- Print the first three characters of the hometown's name using slicing.\n",
    "- Printing the name in reverse using slicing."
   ]
  },
  {
   "cell_type": "code",
   "execution_count": 21,
   "id": "edb52f60",
   "metadata": {},
   "outputs": [
    {
     "name": "stdout",
     "output_type": "stream",
     "text": [
      "What is the name of your hometown: Dallas\n"
     ]
    }
   ],
   "source": [
    "hometown= input(\"What is the name of your hometown: \") # ask the user for the name of their hometown"
   ]
  },
  {
   "cell_type": "code",
   "execution_count": 35,
   "id": "fcd3625d",
   "metadata": {},
   "outputs": [
    {
     "name": "stdout",
     "output_type": "stream",
     "text": [
      "DALLAS\n"
     ]
    }
   ],
   "source": [
    "print(hometown.upper())                                # print the name of the hometown in uppercase"
   ]
  },
  {
   "cell_type": "code",
   "execution_count": 39,
   "id": "b58792b4",
   "metadata": {},
   "outputs": [
    {
     "name": "stdout",
     "output_type": "stream",
     "text": [
      "Dal\n"
     ]
    }
   ],
   "source": [
    "print(hometown[0:3])                                # print the first three chracters of the hometown's name using slicing"
   ]
  },
  {
   "cell_type": "code",
   "execution_count": 47,
   "id": "895e9893",
   "metadata": {},
   "outputs": [
    {
     "name": "stdout",
     "output_type": "stream",
     "text": [
      "sallaD\n"
     ]
    }
   ],
   "source": [
    "print(hometown[::-1])                               # print the name in reverse using slicing "
   ]
  },
  {
   "cell_type": "markdown",
   "id": "c2fde922",
   "metadata": {},
   "source": [
    "## 3. Numeric Operations and Input\n",
    "- Prompt the user to enter a number.\n",
    "- Multiply the number by itself and print the result.\n",
    "- Calculating the square root."
   ]
  },
  {
   "cell_type": "code",
   "execution_count": 48,
   "id": "6f1e0c09",
   "metadata": {},
   "outputs": [
    {
     "name": "stdout",
     "output_type": "stream",
     "text": [
      "Please enter a number: 2\n"
     ]
    }
   ],
   "source": [
    "num= int(input(\"Please enter a number: \"))        # prompt the user to enter a number "
   ]
  },
  {
   "cell_type": "code",
   "execution_count": 54,
   "id": "932ff80a",
   "metadata": {},
   "outputs": [
    {
     "name": "stdout",
     "output_type": "stream",
     "text": [
      "4\n"
     ]
    }
   ],
   "source": [
    "num2= num**2                                     # multiply the number by itself and print the result           \n",
    "print(num2)                      "
   ]
  },
  {
   "cell_type": "code",
   "execution_count": 53,
   "id": "329fd9b4",
   "metadata": {},
   "outputs": [
    {
     "data": {
      "text/plain": [
       "2.0"
      ]
     },
     "execution_count": 53,
     "metadata": {},
     "output_type": "execute_result"
    }
   ],
   "source": [
    "(num2)**(1/2)                                    # calculate the square root"
   ]
  },
  {
   "cell_type": "markdown",
   "id": "4884a69a",
   "metadata": {},
   "source": [
    "## 4. Boolean Evaluations\n",
    "Print the result of the following evaluations:\n",
    "- 10 > 5\n",
    "- 10 == 10\n",
    "- 8 != 9"
   ]
  },
  {
   "cell_type": "code",
   "execution_count": 55,
   "id": "0d165771",
   "metadata": {},
   "outputs": [
    {
     "data": {
      "text/plain": [
       "True"
      ]
     },
     "execution_count": 55,
     "metadata": {},
     "output_type": "execute_result"
    }
   ],
   "source": [
    "10>5"
   ]
  },
  {
   "cell_type": "code",
   "execution_count": 56,
   "id": "4f995cf9",
   "metadata": {},
   "outputs": [
    {
     "data": {
      "text/plain": [
       "True"
      ]
     },
     "execution_count": 56,
     "metadata": {},
     "output_type": "execute_result"
    }
   ],
   "source": [
    "10==10"
   ]
  },
  {
   "cell_type": "code",
   "execution_count": 57,
   "id": "8cd899d8",
   "metadata": {},
   "outputs": [
    {
     "data": {
      "text/plain": [
       "True"
      ]
     },
     "execution_count": 57,
     "metadata": {},
     "output_type": "execute_result"
    }
   ],
   "source": [
    "8 != 9"
   ]
  },
  {
   "cell_type": "markdown",
   "id": "393de6f2",
   "metadata": {},
   "source": [
    "## 5. List Creation and Operations\n",
    "- Create a list named colors containing the following items: red, blue, green.\n",
    "- Print the list.\n",
    "- Print the first item in the list.\n",
    "- Replace the second item in the list with yellow.\n",
    "- Print the list again.\n",
    "- Changing the last item using negative indexing."
   ]
  },
  {
   "cell_type": "code",
   "execution_count": 72,
   "id": "994f1ed2",
   "metadata": {},
   "outputs": [],
   "source": [
    "colors = [\"red\", \"blue\", \"green\"]            #create a list named colors "
   ]
  },
  {
   "cell_type": "code",
   "execution_count": 73,
   "id": "b9ed2c58",
   "metadata": {},
   "outputs": [
    {
     "name": "stdout",
     "output_type": "stream",
     "text": [
      "['red', 'blue', 'green']\n"
     ]
    }
   ],
   "source": [
    "print(colors)                               #print the list"
   ]
  },
  {
   "cell_type": "code",
   "execution_count": 74,
   "id": "66118af6",
   "metadata": {},
   "outputs": [
    {
     "name": "stdout",
     "output_type": "stream",
     "text": [
      "red\n"
     ]
    }
   ],
   "source": [
    "print(colors[0])                            #print the first item in the list"
   ]
  },
  {
   "cell_type": "code",
   "execution_count": 75,
   "id": "b8289e87",
   "metadata": {},
   "outputs": [],
   "source": [
    "colors[1]= \"yellow\"                         #replace the second item in the list with yellow"
   ]
  },
  {
   "cell_type": "code",
   "execution_count": 76,
   "id": "6dadb2ae",
   "metadata": {},
   "outputs": [
    {
     "name": "stdout",
     "output_type": "stream",
     "text": [
      "['red', 'yellow', 'green']\n"
     ]
    }
   ],
   "source": [
    "print(colors)                               #print the list again "
   ]
  },
  {
   "cell_type": "code",
   "execution_count": 77,
   "id": "86f852e8",
   "metadata": {},
   "outputs": [],
   "source": [
    "colors[-1]=\"purple\"                     #changing the last item using negative indexing "
   ]
  },
  {
   "cell_type": "code",
   "execution_count": 78,
   "id": "eec37f3f",
   "metadata": {},
   "outputs": [
    {
     "name": "stdout",
     "output_type": "stream",
     "text": [
      "['red', 'yellow', 'purple']\n"
     ]
    }
   ],
   "source": [
    "print(colors)"
   ]
  },
  {
   "cell_type": "markdown",
   "id": "088e97d9",
   "metadata": {},
   "source": [
    "## 6. Indexing and Slicing\n",
    "- Given the list numbers = [10, 20, 30, 40, 50]\n",
    "- Print the third item from the list.\n",
    "- Using slicing, print the first two numbers.\n",
    "- Getting the last three numbers using negative indexing and slicing."
   ]
  },
  {
   "cell_type": "code",
   "execution_count": 79,
   "id": "0be7f37a",
   "metadata": {},
   "outputs": [],
   "source": [
    "numbers = [10,20,30,40,50]"
   ]
  },
  {
   "cell_type": "code",
   "execution_count": 80,
   "id": "2e130adc",
   "metadata": {},
   "outputs": [
    {
     "data": {
      "text/plain": [
       "30"
      ]
     },
     "execution_count": 80,
     "metadata": {},
     "output_type": "execute_result"
    }
   ],
   "source": [
    "numbers[2]                             #Print the third item from the list"
   ]
  },
  {
   "cell_type": "code",
   "execution_count": 83,
   "id": "26537572",
   "metadata": {},
   "outputs": [
    {
     "data": {
      "text/plain": [
       "[10, 20]"
      ]
     },
     "execution_count": 83,
     "metadata": {},
     "output_type": "execute_result"
    }
   ],
   "source": [
    "numbers[0:2]                           #using slicing print the first two numbers"
   ]
  },
  {
   "cell_type": "code",
   "execution_count": 85,
   "id": "95096b61",
   "metadata": {},
   "outputs": [
    {
     "data": {
      "text/plain": [
       "[30, 40, 50]"
      ]
     },
     "execution_count": 85,
     "metadata": {},
     "output_type": "execute_result"
    }
   ],
   "source": [
    "numbers[-3:]                           #getting the last three numbers using negative indexing and slicing"
   ]
  },
  {
   "cell_type": "markdown",
   "id": "012ab7c7",
   "metadata": {},
   "source": [
    "## 7. Manipulating Elements\n",
    "- Given the list animals = ['cat', 'dog', 'bird']\n",
    "- Print the list.\n",
    "- Add fish to the end of the list.\n",
    "- Print the updated list."
   ]
  },
  {
   "cell_type": "code",
   "execution_count": 86,
   "id": "722e3aa7",
   "metadata": {},
   "outputs": [],
   "source": [
    "animals = [\"cat\",\"dog\",\"bird\"]"
   ]
  },
  {
   "cell_type": "code",
   "execution_count": 87,
   "id": "8050b3a9",
   "metadata": {},
   "outputs": [
    {
     "name": "stdout",
     "output_type": "stream",
     "text": [
      "['cat', 'dog', 'bird']\n"
     ]
    }
   ],
   "source": [
    "print(animals)                         #print the list"
   ]
  },
  {
   "cell_type": "code",
   "execution_count": 90,
   "id": "29a60624",
   "metadata": {},
   "outputs": [],
   "source": [
    "animals.append(\"fish\")                                   #add fish to the end of the list "
   ]
  },
  {
   "cell_type": "code",
   "execution_count": 91,
   "id": "958170b2",
   "metadata": {},
   "outputs": [
    {
     "name": "stdout",
     "output_type": "stream",
     "text": [
      "['cat', 'dog', 'bird', 'fish']\n"
     ]
    }
   ],
   "source": [
    "print(animals)"
   ]
  },
  {
   "cell_type": "markdown",
   "id": "1241ba08",
   "metadata": {},
   "source": [
    "## 8. Sorting\n",
    "- Given the list random_numbers = [42, 8, 15, 23, 16]\n",
    "- Print the list.\n",
    "- Use the sort() method to sort the list.\n",
    "- Print the sorted list.\n",
    "- Print every second item from the sorted list."
   ]
  },
  {
   "cell_type": "code",
   "execution_count": 92,
   "id": "343750ae",
   "metadata": {},
   "outputs": [],
   "source": [
    "random_numbers=[42,8,15,23,16]"
   ]
  },
  {
   "cell_type": "code",
   "execution_count": 93,
   "id": "ae4660b4",
   "metadata": {},
   "outputs": [
    {
     "name": "stdout",
     "output_type": "stream",
     "text": [
      "[42, 8, 15, 23, 16]\n"
     ]
    }
   ],
   "source": [
    "print(random_numbers)"
   ]
  },
  {
   "cell_type": "code",
   "execution_count": 95,
   "id": "5bc4620a",
   "metadata": {},
   "outputs": [],
   "source": [
    "random_numbers.sort()             #use the sort() method to sort the list "
   ]
  },
  {
   "cell_type": "code",
   "execution_count": 96,
   "id": "d8f1f35b",
   "metadata": {},
   "outputs": [
    {
     "name": "stdout",
     "output_type": "stream",
     "text": [
      "[8, 15, 16, 23, 42]\n"
     ]
    }
   ],
   "source": [
    "print(random_numbers)             #print the sorted list"
   ]
  },
  {
   "cell_type": "code",
   "execution_count": 99,
   "id": "553e1dcc",
   "metadata": {},
   "outputs": [
    {
     "data": {
      "text/plain": [
       "[15, 23]"
      ]
     },
     "execution_count": 99,
     "metadata": {},
     "output_type": "execute_result"
    }
   ],
   "source": [
    "random_numbers[1::2]              #print every second item from the sorted list  "
   ]
  }
 ],
 "metadata": {
  "kernelspec": {
   "display_name": "Python 3 (ipykernel)",
   "language": "python",
   "name": "python3"
  },
  "language_info": {
   "codemirror_mode": {
    "name": "ipython",
    "version": 3
   },
   "file_extension": ".py",
   "mimetype": "text/x-python",
   "name": "python",
   "nbconvert_exporter": "python",
   "pygments_lexer": "ipython3",
   "version": "3.11.4"
  }
 },
 "nbformat": 4,
 "nbformat_minor": 5
}
