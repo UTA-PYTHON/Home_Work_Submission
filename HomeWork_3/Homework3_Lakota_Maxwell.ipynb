{
 "cells": [
  {
   "cell_type": "code",
   "execution_count": 4,
   "id": "8e04000b",
   "metadata": {},
   "outputs": [
    {
     "name": "stdout",
     "output_type": "stream",
     "text": [
      "enter your name:Lakota\n",
      "enter your age:22\n",
      "Hello, Lakota you are 22 years old\n"
     ]
    }
   ],
   "source": [
    "# 1\n",
    "name=input (\"enter your name:\")\n",
    "age=int(input (\"enter your age:\"))\n",
    "print(\"Hello,\", name, \"you are\", age, \"years old\")"
   ]
  },
  {
   "cell_type": "code",
   "execution_count": 5,
   "id": "4175c900",
   "metadata": {},
   "outputs": [
    {
     "data": {
      "text/plain": [
       "str"
      ]
     },
     "execution_count": 5,
     "metadata": {},
     "output_type": "execute_result"
    }
   ],
   "source": [
    "type(name)"
   ]
  },
  {
   "cell_type": "code",
   "execution_count": 6,
   "id": "91334317",
   "metadata": {},
   "outputs": [
    {
     "data": {
      "text/plain": [
       "int"
      ]
     },
     "execution_count": 6,
     "metadata": {},
     "output_type": "execute_result"
    }
   ],
   "source": [
    "type(age)"
   ]
  },
  {
   "cell_type": "code",
   "execution_count": 22,
   "id": "4edd3f7e",
   "metadata": {},
   "outputs": [
    {
     "name": "stdout",
     "output_type": "stream",
     "text": [
      "enter your hometown:Fort Worth\n"
     ]
    }
   ],
   "source": [
    "# 2 \n",
    "hometown=input(\"enter your hometown:\")"
   ]
  },
  {
   "cell_type": "code",
   "execution_count": 23,
   "id": "36318e9c",
   "metadata": {},
   "outputs": [
    {
     "data": {
      "text/plain": [
       "'FORT WORTH'"
      ]
     },
     "execution_count": 23,
     "metadata": {},
     "output_type": "execute_result"
    }
   ],
   "source": [
    "hometown.upper()"
   ]
  },
  {
   "cell_type": "code",
   "execution_count": 24,
   "id": "3ce2b51a",
   "metadata": {},
   "outputs": [
    {
     "data": {
      "text/plain": [
       "'For'"
      ]
     },
     "execution_count": 24,
     "metadata": {},
     "output_type": "execute_result"
    }
   ],
   "source": [
    "hometown[0:3]"
   ]
  },
  {
   "cell_type": "code",
   "execution_count": 25,
   "id": "9fbb72c4",
   "metadata": {},
   "outputs": [
    {
     "data": {
      "text/plain": [
       "'htroW troF'"
      ]
     },
     "execution_count": 25,
     "metadata": {},
     "output_type": "execute_result"
    }
   ],
   "source": [
    "hometown[::-1]"
   ]
  },
  {
   "cell_type": "code",
   "execution_count": 35,
   "id": "3c6f2766",
   "metadata": {},
   "outputs": [
    {
     "name": "stdout",
     "output_type": "stream",
     "text": [
      "enter a number:6\n"
     ]
    }
   ],
   "source": [
    "# 3\n",
    "number=int(input(\"enter a number:\"))"
   ]
  },
  {
   "cell_type": "code",
   "execution_count": 36,
   "id": "7229686a",
   "metadata": {},
   "outputs": [
    {
     "name": "stdout",
     "output_type": "stream",
     "text": [
      "36\n"
     ]
    }
   ],
   "source": [
    "result=number*number\n",
    "print(result)"
   ]
  },
  {
   "cell_type": "code",
   "execution_count": 37,
   "id": "9626c571",
   "metadata": {},
   "outputs": [
    {
     "data": {
      "text/plain": [
       "36"
      ]
     },
     "execution_count": 37,
     "metadata": {},
     "output_type": "execute_result"
    }
   ],
   "source": [
    "number**(2)"
   ]
  },
  {
   "cell_type": "code",
   "execution_count": 38,
   "id": "753fe503",
   "metadata": {},
   "outputs": [
    {
     "data": {
      "text/plain": [
       "True"
      ]
     },
     "execution_count": 38,
     "metadata": {},
     "output_type": "execute_result"
    }
   ],
   "source": [
    "# 4 \n",
    "10>5"
   ]
  },
  {
   "cell_type": "code",
   "execution_count": 39,
   "id": "0eaf4537",
   "metadata": {},
   "outputs": [
    {
     "data": {
      "text/plain": [
       "True"
      ]
     },
     "execution_count": 39,
     "metadata": {},
     "output_type": "execute_result"
    }
   ],
   "source": [
    "10==10"
   ]
  },
  {
   "cell_type": "code",
   "execution_count": 40,
   "id": "c0f59873",
   "metadata": {},
   "outputs": [
    {
     "data": {
      "text/plain": [
       "True"
      ]
     },
     "execution_count": 40,
     "metadata": {},
     "output_type": "execute_result"
    }
   ],
   "source": [
    "8!=9"
   ]
  },
  {
   "cell_type": "code",
   "execution_count": 41,
   "id": "f8574d7c",
   "metadata": {},
   "outputs": [],
   "source": [
    "# 5\n",
    "colors=[\"red\",\"blue\",\"green\"]"
   ]
  },
  {
   "cell_type": "code",
   "execution_count": 42,
   "id": "60d5c0e7",
   "metadata": {},
   "outputs": [
    {
     "name": "stdout",
     "output_type": "stream",
     "text": [
      "['red', 'blue', 'green']\n"
     ]
    }
   ],
   "source": [
    "print(colors)"
   ]
  },
  {
   "cell_type": "code",
   "execution_count": 43,
   "id": "a5b856da",
   "metadata": {},
   "outputs": [
    {
     "name": "stdout",
     "output_type": "stream",
     "text": [
      "['red']\n"
     ]
    }
   ],
   "source": [
    "print(colors[0:1])"
   ]
  },
  {
   "cell_type": "code",
   "execution_count": 44,
   "id": "16b30af9",
   "metadata": {},
   "outputs": [],
   "source": [
    "colors[1]=\"yellow\""
   ]
  },
  {
   "cell_type": "code",
   "execution_count": 45,
   "id": "935e1c36",
   "metadata": {},
   "outputs": [
    {
     "name": "stdout",
     "output_type": "stream",
     "text": [
      "['red', 'yellow', 'green']\n"
     ]
    }
   ],
   "source": [
    "print(colors)"
   ]
  },
  {
   "cell_type": "code",
   "execution_count": 46,
   "id": "a7c1326f",
   "metadata": {},
   "outputs": [],
   "source": [
    "colors[-1]=\"negative\""
   ]
  },
  {
   "cell_type": "code",
   "execution_count": 47,
   "id": "cf097c65",
   "metadata": {},
   "outputs": [
    {
     "name": "stdout",
     "output_type": "stream",
     "text": [
      "['red', 'yellow', 'negative']\n"
     ]
    }
   ],
   "source": [
    "print(colors)"
   ]
  },
  {
   "cell_type": "code",
   "execution_count": 48,
   "id": "1accc340",
   "metadata": {},
   "outputs": [],
   "source": [
    "# 6\n",
    "num=[10,20,30,40,50]"
   ]
  },
  {
   "cell_type": "code",
   "execution_count": 49,
   "id": "23a63ba9",
   "metadata": {},
   "outputs": [
    {
     "data": {
      "text/plain": [
       "30"
      ]
     },
     "execution_count": 49,
     "metadata": {},
     "output_type": "execute_result"
    }
   ],
   "source": [
    "num[2]"
   ]
  },
  {
   "cell_type": "code",
   "execution_count": 50,
   "id": "8f5028ce",
   "metadata": {},
   "outputs": [
    {
     "name": "stdout",
     "output_type": "stream",
     "text": [
      "[10, 20]\n"
     ]
    }
   ],
   "source": [
    "print(num[0:2])"
   ]
  },
  {
   "cell_type": "code",
   "execution_count": 75,
   "id": "4bc3f38a",
   "metadata": {},
   "outputs": [
    {
     "name": "stdout",
     "output_type": "stream",
     "text": [
      "[30, 40, 50]\n"
     ]
    }
   ],
   "source": [
    "print(num[-3:])"
   ]
  },
  {
   "cell_type": "code",
   "execution_count": 63,
   "id": "6bb7d9c3",
   "metadata": {},
   "outputs": [],
   "source": [
    "# 7\n",
    "animals=[\"cat\",\"dog\",\"bird\"]"
   ]
  },
  {
   "cell_type": "code",
   "execution_count": 64,
   "id": "473cbd56",
   "metadata": {},
   "outputs": [
    {
     "name": "stdout",
     "output_type": "stream",
     "text": [
      "['cat', 'dog', 'bird']\n"
     ]
    }
   ],
   "source": [
    "print(animals)"
   ]
  },
  {
   "cell_type": "code",
   "execution_count": 65,
   "id": "2c34866a",
   "metadata": {},
   "outputs": [],
   "source": [
    "animals.append(\"fish\")"
   ]
  },
  {
   "cell_type": "code",
   "execution_count": 66,
   "id": "0984ad1f",
   "metadata": {},
   "outputs": [
    {
     "name": "stdout",
     "output_type": "stream",
     "text": [
      "['cat', 'dog', 'bird', 'fish']\n"
     ]
    }
   ],
   "source": [
    "print(animals)"
   ]
  },
  {
   "cell_type": "code",
   "execution_count": 69,
   "id": "5578aeb7",
   "metadata": {},
   "outputs": [],
   "source": [
    "# 8\n",
    "random_numbers=[42,8,15,23,16]"
   ]
  },
  {
   "cell_type": "code",
   "execution_count": 70,
   "id": "33ab5e98",
   "metadata": {},
   "outputs": [
    {
     "name": "stdout",
     "output_type": "stream",
     "text": [
      "[42, 8, 15, 23, 16]\n"
     ]
    }
   ],
   "source": [
    "print(random_numbers)"
   ]
  },
  {
   "cell_type": "code",
   "execution_count": 71,
   "id": "4439400c",
   "metadata": {},
   "outputs": [],
   "source": [
    "random_numbers.sort()"
   ]
  },
  {
   "cell_type": "code",
   "execution_count": 72,
   "id": "db708281",
   "metadata": {},
   "outputs": [
    {
     "name": "stdout",
     "output_type": "stream",
     "text": [
      "[8, 15, 16, 23, 42]\n"
     ]
    }
   ],
   "source": [
    "print(random_numbers)"
   ]
  },
  {
   "cell_type": "code",
   "execution_count": 73,
   "id": "627c655c",
   "metadata": {},
   "outputs": [
    {
     "data": {
      "text/plain": [
       "[15, 23]"
      ]
     },
     "execution_count": 73,
     "metadata": {},
     "output_type": "execute_result"
    }
   ],
   "source": [
    "random_numbers[1:5:2]"
   ]
  }
 ],
 "metadata": {
  "kernelspec": {
   "display_name": "Python 3 (ipykernel)",
   "language": "python",
   "name": "python3"
  },
  "language_info": {
   "codemirror_mode": {
    "name": "ipython",
    "version": 3
   },
   "file_extension": ".py",
   "mimetype": "text/x-python",
   "name": "python",
   "nbconvert_exporter": "python",
   "pygments_lexer": "ipython3",
   "version": "3.11.4"
  }
 },
 "nbformat": 4,
 "nbformat_minor": 5
}
