{
 "cells": [
  {
   "cell_type": "markdown",
   "id": "7f155b04",
   "metadata": {},
   "source": [
    "# Homework 3: Data Types, User Input, and Data Structures\n",
    "\n",
    "Fawaz Asif\n",
    "\n",
    "1001875463\n",
    "\n",
    "DATA-3401-001\n",
    "\n",
    "### Questions:\n",
    "\n",
    "1. Printing, Data Types, and Input\n",
    "\n",
    "\n",
    "Ask the user for their name and their age.\n",
    "\n",
    "Print a statement saying: \"Hello, [name]. You are [age] years old.\"\n",
    "\n",
    "Print the data type of each variable."
   ]
  },
  {
   "cell_type": "code",
   "execution_count": 9,
   "id": "e4c19f14",
   "metadata": {
    "scrolled": true
   },
   "outputs": [
    {
     "name": "stdout",
     "output_type": "stream",
     "text": [
      "What is your name? Jeff\n",
      "What is your age? 12\n",
      "Hello Jeff You are 12 years old.\n"
     ]
    }
   ],
   "source": [
    "name = input('What is your name? ')\n",
    "age = input('What is your age? ')\n",
    "print(f'Hello {name}. You are {age} years old.')"
   ]
  },
  {
   "cell_type": "markdown",
   "id": "2b914e37",
   "metadata": {},
   "source": [
    "2. String Manipulations and Input\n",
    "\n",
    "\n",
    "Ask the user for the name of their hometown.\n",
    "\n",
    "Print the name of the hometown in uppercase.\n",
    "\n",
    "Print the first three characters of the hometown's name using slicing.\n",
    "\n",
    "Printing the name in reverse using slicing."
   ]
  },
  {
   "cell_type": "code",
   "execution_count": 4,
   "id": "b0f82edb",
   "metadata": {
    "scrolled": true
   },
   "outputs": [
    {
     "name": "stdout",
     "output_type": "stream",
     "text": [
      "What is the name of your hometown? Grand Prairie\n",
      "GRAND PRAIRIE\n",
      "Gra\n",
      "eiriarP dnarG\n"
     ]
    }
   ],
   "source": [
    "htown = input('What is the name of your hometown? ')\n",
    "print(htown.upper())\n",
    "print(htown[:3])\n",
    "print(htown[::-1])"
   ]
  },
  {
   "cell_type": "markdown",
   "id": "f1779802",
   "metadata": {},
   "source": [
    "3. Numeric Operations and Input\n",
    "\n",
    "Prompt the user to enter a number.\n",
    "\n",
    "Multiply the number by itself and print the result.\n",
    "\n",
    "Calculating the square root."
   ]
  },
  {
   "cell_type": "code",
   "execution_count": 9,
   "id": "77953c61",
   "metadata": {},
   "outputs": [
    {
     "name": "stdout",
     "output_type": "stream",
     "text": [
      "Enter a number: 12\n",
      "144.0\n",
      "3.4641016151377544\n"
     ]
    }
   ],
   "source": [
    "num = float(input('Enter a number: '))\n",
    "square = num**2\n",
    "root = num**.5\n",
    "print(square)\n",
    "print(root)"
   ]
  },
  {
   "cell_type": "markdown",
   "id": "cd503703",
   "metadata": {},
   "source": [
    "4. Boolean Evaluations\n",
    "\n",
    "\n",
    "Print the result of the following evaluations:\n",
    "\n",
    "10 > 5\n",
    "\n",
    "10 == 10\n",
    "\n",
    "8 != 9"
   ]
  },
  {
   "cell_type": "code",
   "execution_count": 11,
   "id": "4943ff65",
   "metadata": {},
   "outputs": [
    {
     "name": "stdout",
     "output_type": "stream",
     "text": [
      "True\n",
      "True\n",
      "True\n"
     ]
    }
   ],
   "source": [
    "print(10 > 5)\n",
    "print(10 == 10)\n",
    "print(8 != 9)"
   ]
  },
  {
   "cell_type": "markdown",
   "id": "4e0e9d8e",
   "metadata": {},
   "source": [
    "5. List Creation and Operations\n",
    "\n",
    "\n",
    "Create a list named colors containing the following items: red, blue, green.\n",
    "\n",
    "Print the list.\n",
    "\n",
    "Print the first item in the list.\n",
    "\n",
    "Replace the second item in the list with yellow.\n",
    "\n",
    "Print the list again.\n",
    "\n",
    "Changing the last item using negative indexing."
   ]
  },
  {
   "cell_type": "code",
   "execution_count": 23,
   "id": "7578b62c",
   "metadata": {},
   "outputs": [
    {
     "name": "stdout",
     "output_type": "stream",
     "text": [
      "['red', 'blue', 'green']\n",
      "red\n",
      "['red', 'yellow', 'green']\n",
      "['red', 'yellow', 'orange']\n"
     ]
    }
   ],
   "source": [
    "colors = ['red', 'blue', 'green']\n",
    "print(colors)\n",
    "print(colors[0])\n",
    "colors[1] = 'yellow'\n",
    "print(colors)\n",
    "colors[-1] = 'orange'\n",
    "print(colors)"
   ]
  },
  {
   "cell_type": "markdown",
   "id": "93f66f5c",
   "metadata": {},
   "source": [
    "6. Indexing and Slicing\n",
    "\n",
    "\n",
    "Given the list numbers = [10, 20, 30, 40, 50]\n",
    "\n",
    "Print the third item from the list.\n",
    "\n",
    "Using slicing, print the first two numbers.\n",
    "\n",
    "Getting the last three numbers using negative indexing and slicing."
   ]
  },
  {
   "cell_type": "code",
   "execution_count": 28,
   "id": "7dce7965",
   "metadata": {},
   "outputs": [
    {
     "name": "stdout",
     "output_type": "stream",
     "text": [
      "30\n",
      "[10, 20]\n",
      "[30, 40, 50]\n"
     ]
    }
   ],
   "source": [
    "nums = [10, 20, 30, 40, 50]\n",
    "print(nums[2])\n",
    "print(nums[:2])\n",
    "print(nums[-3:])"
   ]
  },
  {
   "cell_type": "markdown",
   "id": "06fea909",
   "metadata": {},
   "source": [
    "7. Manipulating Elements\n",
    "\n",
    "\n",
    "Given the list animals = ['cat', 'dog', 'bird']\n",
    "\n",
    "Print the list.\n",
    "\n",
    "Add fish to the end of the list.\n",
    "\n",
    "Print the updated list."
   ]
  },
  {
   "cell_type": "code",
   "execution_count": 22,
   "id": "55679aa8",
   "metadata": {},
   "outputs": [
    {
     "name": "stdout",
     "output_type": "stream",
     "text": [
      "['cat', 'dog', 'bird']\n",
      "['cat', 'dog', 'bird', 'fish']\n"
     ]
    }
   ],
   "source": [
    "animals =  ['cat', 'dog', 'bird']\n",
    "print(animals)\n",
    "animals.append('fish')\n",
    "print(animals)"
   ]
  },
  {
   "cell_type": "markdown",
   "id": "fbd2543f",
   "metadata": {},
   "source": [
    "8. Sorting\n",
    "\n",
    "\n",
    "Given the list random_numbers = [42, 8, 15, 23, 16]\n",
    "\n",
    "Print the list.\n",
    "\n",
    "Use the sort() method to sort the list.\n",
    "\n",
    "Print the sorted list.\n",
    "\n",
    "Print every second item from the sorted list."
   ]
  },
  {
   "cell_type": "code",
   "execution_count": 31,
   "id": "1fc50264",
   "metadata": {},
   "outputs": [
    {
     "name": "stdout",
     "output_type": "stream",
     "text": [
      "[42, 8, 15, 23, 16]\n",
      "[8, 15, 16, 23, 42]\n",
      "[8, 16, 42]\n"
     ]
    }
   ],
   "source": [
    "rnum = [42, 8, 15, 23, 16]\n",
    "print(rnum)\n",
    "rnum.sort()\n",
    "print(rnum)\n",
    "evother = rnum[::2]\n",
    "print(evother)"
   ]
  }
 ],
 "metadata": {
  "kernelspec": {
   "display_name": "Python 3 (ipykernel)",
   "language": "python",
   "name": "python3"
  },
  "language_info": {
   "codemirror_mode": {
    "name": "ipython",
    "version": 3
   },
   "file_extension": ".py",
   "mimetype": "text/x-python",
   "name": "python",
   "nbconvert_exporter": "python",
   "pygments_lexer": "ipython3",
   "version": "3.11.4"
  }
 },
 "nbformat": 4,
 "nbformat_minor": 5
}
