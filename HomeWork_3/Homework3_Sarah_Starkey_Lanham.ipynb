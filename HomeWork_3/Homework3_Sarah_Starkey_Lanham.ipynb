{
  "nbformat": 4,
  "nbformat_minor": 0,
  "metadata": {
    "colab": {
      "provenance": []
    },
    "kernelspec": {
      "name": "python3",
      "display_name": "Python 3"
    },
    "language_info": {
      "name": "python"
    }
  },
  "cells": [
    {
      "cell_type": "markdown",
      "source": [
        "#Question 1: Printing, Data Types, and Input"
      ],
      "metadata": {
        "id": "Zm1ZllygpAj5"
      }
    },
    {
      "cell_type": "code",
      "execution_count": null,
      "metadata": {
        "colab": {
          "base_uri": "https://localhost:8080/"
        },
        "id": "qBx0VNq2o0Mj",
        "outputId": "45c2e1e8-65b9-4081-826b-2541ea91388c"
      },
      "outputs": [
        {
          "output_type": "stream",
          "name": "stdout",
          "text": [
            "Enter Name: Sarah\n",
            "Enter Age33\n",
            "Hello,  Sarah . You are 33 years old.\n",
            "<class 'str'>\n",
            "<class 'int'>\n"
          ]
        }
      ],
      "source": [
        "#Ask the user for their name and age\n",
        "Name=input('Enter Name: ')\n",
        "Age=int(input('Enter Age'))\n",
        "\n",
        "#Print a statement saying:\"Hello, [name]. You are [age] years old\"\n",
        "print('Hello, ',Name,'. You are',Age, 'years old.')\n",
        "\n",
        "#print data type of each variable\n",
        "print(type(Name))\n",
        "print(type(Age))"
      ]
    },
    {
      "cell_type": "markdown",
      "source": [
        "#Quesion 2: String Manipulations and Input\n"
      ],
      "metadata": {
        "id": "OmwnBhcvreYK"
      }
    },
    {
      "cell_type": "code",
      "source": [
        "#Ask the user for the name of their hometown\n",
        "Hometown=input('Hometown')\n",
        "\n",
        "#print Hometown in uppercase\n",
        "print(Hometown.upper())\n",
        "\n",
        "#Print the first three characters of the hometown's name using slicing.\n",
        "print(Hometown[0:3])\n",
        "\n",
        "#Print the name in reverse using slicing #NOT WORKING COME BACK!!!!\n",
        "print(Hometown[::-1])"
      ],
      "metadata": {
        "colab": {
          "base_uri": "https://localhost:8080/"
        },
        "id": "Fh7IZYq-pzCv",
        "outputId": "32d001dc-b1d2-4ee4-cd65-b8520604dfdf"
      },
      "execution_count": null,
      "outputs": [
        {
          "output_type": "stream",
          "name": "stdout",
          "text": [
            "Hometownjygfth\n",
            "JYGFTH\n",
            "jyg\n",
            "htfgyj\n"
          ]
        }
      ]
    },
    {
      "cell_type": "markdown",
      "source": [
        "#Question 3: Numeric Operations and Input"
      ],
      "metadata": {
        "id": "p9AbxIapttRr"
      }
    },
    {
      "cell_type": "code",
      "source": [
        "#Prompt the user to enter a number.\n",
        "Number=float(input('Enter number of your choice: '))\n",
        "\n",
        "#multipy the number by itself\n",
        "print('Multiplied by itself: ', Number*Number)\n",
        "\n",
        "#Calulatiing the square root ###ASK ABOUT THE EXACT MEANING OF QUESTION\n",
        "import math\n",
        "print('Square Root: ', (Number)**(1/2))"
      ],
      "metadata": {
        "colab": {
          "base_uri": "https://localhost:8080/"
        },
        "id": "zKlJcmCbr5y-",
        "outputId": "b8b049bd-24c9-4d8c-af44-0ede9110594c"
      },
      "execution_count": 7,
      "outputs": [
        {
          "output_type": "stream",
          "name": "stdout",
          "text": [
            "Enter number of your choice: 25\n",
            "Multiplied by itself:  625.0\n",
            "Square Root:  5.0\n"
          ]
        }
      ]
    },
    {
      "cell_type": "markdown",
      "source": [
        "#Question 4: Boolean Evaluations"
      ],
      "metadata": {
        "id": "q7a9Piv3Yt1V"
      }
    },
    {
      "cell_type": "code",
      "source": [
        "print(10>5)\n",
        "print(10==10)\n",
        "print(8!=9)"
      ],
      "metadata": {
        "id": "PMZfbY98uQQ6",
        "colab": {
          "base_uri": "https://localhost:8080/"
        },
        "outputId": "cd47c796-2f30-4d8c-fb01-784b62afc50d"
      },
      "execution_count": 9,
      "outputs": [
        {
          "output_type": "stream",
          "name": "stdout",
          "text": [
            "True\n",
            "True\n",
            "True\n"
          ]
        }
      ]
    },
    {
      "cell_type": "markdown",
      "source": [
        "#Question 5: List Creation and Operations"
      ],
      "metadata": {
        "id": "7PRE0aF4ZCxd"
      }
    },
    {
      "cell_type": "code",
      "source": [
        "#create list of colors\n",
        "colors=['red','blue','green']\n",
        "\n",
        "#print list of colors\n",
        "print(colors)\n",
        "\n",
        "#print the first item in list\n",
        "print(colors[0])\n",
        "\n",
        "#replace second item with yellow\n",
        "colors[1]='yellow'\n",
        "\n",
        "#print list\n",
        "print(colors)\n",
        "\n",
        "#change last item with negative indexing\n",
        "colors[-1]='purple'\n",
        "print(colors)"
      ],
      "metadata": {
        "colab": {
          "base_uri": "https://localhost:8080/"
        },
        "id": "KwDSiC0_Y6C1",
        "outputId": "3f6fd763-cc02-46a1-d317-2ebf905b95cc"
      },
      "execution_count": 19,
      "outputs": [
        {
          "output_type": "stream",
          "name": "stdout",
          "text": [
            "['red', 'blue', 'green']\n",
            "red\n",
            "['red', 'yellow', 'green']\n",
            "['red', 'yellow', 'purple']\n"
          ]
        }
      ]
    },
    {
      "cell_type": "markdown",
      "source": [
        "#Question 6: Indexing and Slicing"
      ],
      "metadata": {
        "id": "l72PsfBRbNcu"
      }
    },
    {
      "cell_type": "code",
      "source": [
        "n=[10,20,30,40,50]\n",
        "\n",
        "#print 3rd idtem from the list\n",
        "print(n[2])\n",
        "\n",
        "#use slicing to print the first two numbers\n",
        "print(n[0:2])\n",
        "\n",
        "#get the last three numbers using negative indexing and slicing\n",
        "print(n[-3:])"
      ],
      "metadata": {
        "colab": {
          "base_uri": "https://localhost:8080/"
        },
        "id": "CDZcGE6QZrpl",
        "outputId": "3a3a0fdc-c2ce-4a3c-9b41-e5d10d989222"
      },
      "execution_count": 27,
      "outputs": [
        {
          "output_type": "stream",
          "name": "stdout",
          "text": [
            "30\n",
            "[10, 20]\n",
            "[30, 40, 50]\n"
          ]
        }
      ]
    },
    {
      "cell_type": "markdown",
      "source": [
        "#Question 7: Manipulating Elements"
      ],
      "metadata": {
        "id": "NnzgDn69cc6j"
      }
    },
    {
      "cell_type": "code",
      "source": [
        "animals=['cat', 'dog', 'bird']\n",
        "\n",
        "#print the list\n",
        "print(animals)\n",
        "\n",
        "#add fish to the end of the list\n",
        "animals.append('fish')\n",
        "\n",
        "#print list\n",
        "print(animals)"
      ],
      "metadata": {
        "colab": {
          "base_uri": "https://localhost:8080/"
        },
        "id": "I6znWn9Nbn-L",
        "outputId": "60ba82cb-2d76-4da7-9be5-2dedff00549f"
      },
      "execution_count": 28,
      "outputs": [
        {
          "output_type": "stream",
          "name": "stdout",
          "text": [
            "['cat', 'dog', 'bird']\n",
            "['cat', 'dog', 'bird', 'fish']\n"
          ]
        }
      ]
    },
    {
      "cell_type": "markdown",
      "source": [
        "#Question 8: Sorting"
      ],
      "metadata": {
        "id": "K6EQ_DuxdByS"
      }
    },
    {
      "cell_type": "code",
      "source": [
        "random_numbers = [42, 8, 15, 23, 16]\n",
        "\n",
        "#print list\n",
        "print(random_numbers)\n",
        "\n",
        "#use sort() to sort the list\n",
        "random_numbers.sort()\n",
        "\n",
        "#print sorted list\n",
        "print(random_numbers)\n",
        "\n",
        "#print every second item from the sorted list\n",
        "print(random_numbers[1::2])"
      ],
      "metadata": {
        "colab": {
          "base_uri": "https://localhost:8080/"
        },
        "id": "d8o1uMlqc7Hc",
        "outputId": "0697b49f-78c8-4ea9-e696-e20fafa35a26"
      },
      "execution_count": 31,
      "outputs": [
        {
          "output_type": "stream",
          "name": "stdout",
          "text": [
            "[42, 8, 15, 23, 16]\n",
            "[8, 15, 16, 23, 42]\n",
            "[15, 23]\n"
          ]
        }
      ]
    },
    {
      "cell_type": "code",
      "source": [],
      "metadata": {
        "id": "Qy4QazmwdTLs"
      },
      "execution_count": null,
      "outputs": []
    }
  ]
}