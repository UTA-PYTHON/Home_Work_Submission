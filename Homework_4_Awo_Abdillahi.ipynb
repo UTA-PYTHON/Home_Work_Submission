{
  "nbformat": 4,
  "nbformat_minor": 0,
  "metadata": {
    "colab": {
      "provenance": [],
      "authorship_tag": "ABX9TyNd5HZBkgfuiQa1d5dIzkjw",
      "include_colab_link": true
    },
    "kernelspec": {
      "name": "python3",
      "display_name": "Python 3"
    },
    "language_info": {
      "name": "python"
    }
  },
  "cells": [
    {
      "cell_type": "markdown",
      "metadata": {
        "id": "view-in-github",
        "colab_type": "text"
      },
      "source": [
        "<a href=\"https://colab.research.google.com/github/UTA-PYTHON/Home_Work_Submission/blob/main/Homework_4_Awo_Abdillahi.ipynb\" target=\"_parent\"><img src=\"https://colab.research.google.com/assets/colab-badge.svg\" alt=\"Open In Colab\"/></a>"
      ]
    },
    {
      "cell_type": "markdown",
      "source": [
        "# Data Structures:\n",
        "\n",
        "###1.   List and Tuples\n",
        "  *   Create a list named fruits containing the following: \"apple\", \"banana\", \"cherry\".\n",
        "  *   Convert this list into a tuple.\n",
        "  *   Add \"orange\" to the list of fruits.\n",
        "  *   Show the difference in the content of the list and tuple after the addition.\n",
        "\n",
        "\n",
        "\n",
        "\n",
        "\n"
      ],
      "metadata": {
        "id": "QMjaVeNclMcc"
      }
    },
    {
      "cell_type": "code",
      "execution_count": 31,
      "metadata": {
        "colab": {
          "base_uri": "https://localhost:8080/"
        },
        "id": "HhXTWFIaRoxf",
        "outputId": "df684829-9cfa-4d6f-ff13-01c71ba11911"
      },
      "outputs": [
        {
          "output_type": "stream",
          "name": "stdout",
          "text": [
            "['apple', 'banana', 'cherry', 'orange']\n",
            "('apple', 'banana', 'cherry')\n"
          ]
        }
      ],
      "source": [
        "grocery_list=[\"apple\",\"banana\",\"cherry\"]\n",
        "my_grocery_list = tuple(grocery_list)\n",
        "grocery_list.append(\"orange\")\n",
        "print(grocery_list)\n",
        "print(my_grocery_list)"
      ]
    },
    {
      "cell_type": "code",
      "source": [],
      "metadata": {
        "id": "lzJpPz64Flz3"
      },
      "execution_count": null,
      "outputs": []
    },
    {
      "cell_type": "markdown",
      "source": [
        "###2. Dictionary:\n",
        "*   Create a dictionary named person with keys \"first_name\", \"last_name\", and \"age\". Populate it with values of your choice\n",
        "*   Add a new key-value pair, \"city\" with a value of your choice.\n",
        "*   Display the keys in the dictionary using a Python command.\n",
        "\n",
        "\n",
        "\n"
      ],
      "metadata": {
        "id": "Sqibi7QLthBH"
      }
    },
    {
      "cell_type": "code",
      "source": [
        "about_me={\"first_name\":\"Awo\",\n",
        "          \"last_name\": \"Abdillahi\",\n",
        "          \"age\": \"18 years old\",\n",
        "          \"favourite_hobby\": \"Journaling\"}\n",
        "about_me[\"City\"]=\"Ottawa, ON Canada\"\n",
        "print(about_me.keys())"
      ],
      "metadata": {
        "colab": {
          "base_uri": "https://localhost:8080/"
        },
        "id": "bXOM_dgNuX-E",
        "outputId": "24b10fce-f12b-47e2-a7e4-427e88a2cab5"
      },
      "execution_count": 30,
      "outputs": [
        {
          "output_type": "stream",
          "name": "stdout",
          "text": [
            "dict_keys(['first_name', 'last_name', 'age', 'favourite_hobby', 'City'])\n"
          ]
        }
      ]
    },
    {
      "cell_type": "code",
      "source": [],
      "metadata": {
        "id": "I2CYJwigFhMO"
      },
      "execution_count": null,
      "outputs": []
    },
    {
      "cell_type": "markdown",
      "source": [
        "###3. Set:\n",
        "*   Create a set named colors with the values \"red\", \"blue\", \"green\"\n",
        "*   Add \"yellow\" to the set and remove \"blue\"\n",
        "*   Check if \"pink\" is in the set and display the result.\n",
        "\n"
      ],
      "metadata": {
        "id": "GDrrATmBuYzR"
      }
    },
    {
      "cell_type": "code",
      "source": [
        "colors={\"red\", \"blue\", \"green\"}\n",
        "colors.add(\"yellow\")\n",
        "colors.remove(\"blue\")\n",
        "\"pink\" in colors"
      ],
      "metadata": {
        "colab": {
          "base_uri": "https://localhost:8080/"
        },
        "id": "uemChHsJqnTO",
        "outputId": "09d08924-348d-4e64-882a-fd7da4de111a"
      },
      "execution_count": 37,
      "outputs": [
        {
          "output_type": "execute_result",
          "data": {
            "text/plain": [
              "False"
            ]
          },
          "metadata": {},
          "execution_count": 37
        }
      ]
    },
    {
      "cell_type": "code",
      "source": [
        "colors"
      ],
      "metadata": {
        "colab": {
          "base_uri": "https://localhost:8080/"
        },
        "id": "qFb3eFNtqnV8",
        "outputId": "1262da88-0122-43cf-c43c-78a026997cec"
      },
      "execution_count": 36,
      "outputs": [
        {
          "output_type": "execute_result",
          "data": {
            "text/plain": [
              "{'green', 'red', 'yellow'}"
            ]
          },
          "metadata": {},
          "execution_count": 36
        }
      ]
    },
    {
      "cell_type": "markdown",
      "source": [
        "# Conditional Statements:\n",
        "###4. Write a Python program that takes an input from the user and checks if the number is positive, negative, or zero."
      ],
      "metadata": {
        "id": "kYvDH_7pqni-"
      }
    },
    {
      "cell_type": "code",
      "source": [
        "number = float(input(\"enter your number:\"))\n",
        "if number > 0:\n",
        "  print(\"positive\")\n",
        "elif number < 0:\n",
        "  print(\"Negative\")\n",
        "else :\n",
        "  print(\"zero\")"
      ],
      "metadata": {
        "colab": {
          "base_uri": "https://localhost:8080/"
        },
        "id": "jwHzsTVYtIEp",
        "outputId": "f82bc67c-6895-4bf0-b578-81e01b155a26"
      },
      "execution_count": 102,
      "outputs": [
        {
          "output_type": "stream",
          "name": "stdout",
          "text": [
            "enter your number:18\n",
            "positive\n"
          ]
        }
      ]
    },
    {
      "cell_type": "code",
      "source": [],
      "metadata": {
        "id": "YLiyqLHEtIN8"
      },
      "execution_count": null,
      "outputs": []
    },
    {
      "cell_type": "markdown",
      "source": [
        "###5. Given a list of numbers: [23, 45, 8, 12, 78, 56, 89], write a Python program that prints out all even numbers from the list using a conditional statement."
      ],
      "metadata": {
        "id": "QZwNdiBVtIkZ"
      }
    },
    {
      "cell_type": "code",
      "source": [
        "list = [23, 45, 8, 12, 78, 56, 89]\n",
        "for even in list:\n",
        "  if even % 2 == 0:\n",
        "    print(even)"
      ],
      "metadata": {
        "colab": {
          "base_uri": "https://localhost:8080/"
        },
        "id": "nnG3UBXetPEf",
        "outputId": "09a482f9-c34b-42e5-f02c-de57c39e7e6b"
      },
      "execution_count": 101,
      "outputs": [
        {
          "output_type": "stream",
          "name": "stdout",
          "text": [
            "8\n",
            "12\n",
            "78\n",
            "56\n"
          ]
        }
      ]
    },
    {
      "cell_type": "code",
      "source": [],
      "metadata": {
        "id": "mxIjt5QbtPKy"
      },
      "execution_count": null,
      "outputs": []
    },
    {
      "cell_type": "markdown",
      "source": [
        "###6. Write a program that asks the user to enter their age. Based on the user's input, determine if they are eligible to vote (consider the voting age as 18)."
      ],
      "metadata": {
        "id": "ywkCC1WAtPid"
      }
    },
    {
      "cell_type": "code",
      "source": [
        "age = int(input(\"How old are you?\"))\n",
        "\n",
        "if age >= 18:\n",
        "  print(\"You're old enough to vote!\")\n",
        "else:\n",
        "  print(\"Your're not old enough to vote.\")"
      ],
      "metadata": {
        "colab": {
          "base_uri": "https://localhost:8080/"
        },
        "id": "Z-9P33Tav4KF",
        "outputId": "01a4523d-2d3d-4b39-d97c-be43c8cdf18b"
      },
      "execution_count": 49,
      "outputs": [
        {
          "output_type": "stream",
          "name": "stdout",
          "text": [
            "How old are you?18\n",
            "You're old enough to vote!\n"
          ]
        }
      ]
    },
    {
      "cell_type": "code",
      "source": [],
      "metadata": {
        "id": "309Xd0nUv4TC"
      },
      "execution_count": null,
      "outputs": []
    },
    {
      "cell_type": "markdown",
      "source": [
        "#While Loop:\n",
        "###7. Write a program that prompts the user to enter numbers continuously (using a while loop) and stops taking inputs when the user enters 'q'. After that, display the sum of all the numbers entered."
      ],
      "metadata": {
        "id": "d1AGIDWbv40i"
      }
    },
    {
      "cell_type": "code",
      "source": [
        "num = 0\n",
        "tot = 0.0\n",
        "while True:\n",
        "    number = input(\"Enter a number or press q to quit\")\n",
        "    if number == 'q':\n",
        "        break\n",
        "    try :\n",
        "        num1 = float(number)\n",
        "    except:\n",
        "        print('Invailed Input')\n",
        "        continue\n",
        "\n",
        "    tot = tot + num1\n",
        "\n",
        "print (tot+num)"
      ],
      "metadata": {
        "colab": {
          "base_uri": "https://localhost:8080/"
        },
        "id": "Ly4OwqqJPqQ2",
        "outputId": "a1ce06a9-7b7f-4041-f31b-8c8c9914196f"
      },
      "execution_count": 87,
      "outputs": [
        {
          "output_type": "stream",
          "name": "stdout",
          "text": [
            "Enter a number or press q to quit1\n",
            "Enter a number or press q to quit2\n",
            "Enter a number or press q to quit3\n",
            "Enter a number or press q to quitq\n",
            "6.0\n"
          ]
        }
      ]
    },
    {
      "cell_type": "code",
      "source": [],
      "metadata": {
        "id": "WDmrSYWeQelY"
      },
      "execution_count": null,
      "outputs": []
    },
    {
      "cell_type": "markdown",
      "source": [
        "###8. Create a Python program using a while loop that prints numbers from 10 down to 1 and then prints \"Liftoff!\""
      ],
      "metadata": {
        "id": "ruMLmp-5wB-2"
      }
    },
    {
      "cell_type": "code",
      "source": [
        "count = 10\n",
        "while count > 0:\n",
        "  print(count)\n",
        "  count -= 1\n",
        "\n",
        "print(\"Liftoff!\")"
      ],
      "metadata": {
        "colab": {
          "base_uri": "https://localhost:8080/"
        },
        "id": "3L6Xzr_ywG8T",
        "outputId": "3d43d2e2-05cb-4c24-a81b-314c3973b569"
      },
      "execution_count": 76,
      "outputs": [
        {
          "output_type": "stream",
          "name": "stdout",
          "text": [
            "10\n",
            "9\n",
            "8\n",
            "7\n",
            "6\n",
            "5\n",
            "4\n",
            "3\n",
            "2\n",
            "1\n",
            "Liftoff!\n"
          ]
        }
      ]
    },
    {
      "cell_type": "code",
      "source": [],
      "metadata": {
        "id": "SWS35bhDwG_L"
      },
      "execution_count": null,
      "outputs": []
    },
    {
      "cell_type": "markdown",
      "source": [
        "###9. Create a program that asks the user for a number and then prints out the multiplication table for that number using a while loop."
      ],
      "metadata": {
        "id": "C4De7mA9wHLE"
      }
    },
    {
      "cell_type": "code",
      "source": [
        "num = int(input(\"enter a num:\"))\n",
        "i = 1\n",
        "while i <= 12 :\n",
        "  print(num, \"x\", i, \"=\", num * i)\n",
        "  i += 1"
      ],
      "metadata": {
        "colab": {
          "base_uri": "https://localhost:8080/"
        },
        "id": "oUctJOYGwKer",
        "outputId": "338107f4-131d-4a28-c609-e4d7002adaf5"
      },
      "execution_count": 95,
      "outputs": [
        {
          "output_type": "stream",
          "name": "stdout",
          "text": [
            "enter a num:5\n",
            "5 x 1 = 5\n",
            "5 x 2 = 10\n",
            "5 x 3 = 15\n",
            "5 x 4 = 20\n",
            "5 x 5 = 25\n",
            "5 x 6 = 30\n",
            "5 x 7 = 35\n",
            "5 x 8 = 40\n",
            "5 x 9 = 45\n",
            "5 x 10 = 50\n",
            "5 x 11 = 55\n",
            "5 x 12 = 60\n"
          ]
        }
      ]
    },
    {
      "cell_type": "code",
      "source": [],
      "metadata": {
        "id": "YoMfv9rYwKh1"
      },
      "execution_count": null,
      "outputs": []
    },
    {
      "cell_type": "markdown",
      "source": [
        "#For Loop:\n",
        "###10. Given a list: [\"apple\", \"banana\", \"cherry\", \"date\"], use a for loop to print each fruit in the list"
      ],
      "metadata": {
        "id": "naENhZSUwKwA"
      }
    },
    {
      "cell_type": "code",
      "source": [
        "list = [\"apple\", \"banana\", \"cherry\", \"date\"]\n",
        "for fruit in list:\n",
        "  print(fruit)"
      ],
      "metadata": {
        "colab": {
          "base_uri": "https://localhost:8080/"
        },
        "id": "e6nTTyGUwQpH",
        "outputId": "086a38be-7ad8-4ae7-d5e3-6dcd2217eb5f"
      },
      "execution_count": 103,
      "outputs": [
        {
          "output_type": "stream",
          "name": "stdout",
          "text": [
            "apple\n",
            "banana\n",
            "cherry\n",
            "date\n"
          ]
        }
      ]
    },
    {
      "cell_type": "code",
      "source": [],
      "metadata": {
        "id": "TmkPJGQawQrg"
      },
      "execution_count": null,
      "outputs": []
    },
    {
      "cell_type": "markdown",
      "source": [
        "###11. Using a for loop, calculate the factorial of a given number (n!). For example, if the given number is 5, the output should be 5 x 4 x 3 x 2 x 1 = 120."
      ],
      "metadata": {
        "id": "uS3d7AF-wQ2E"
      }
    },
    {
      "cell_type": "code",
      "source": [
        "number= int(input(\"enter number:\"))\n",
        "fact = 1\n",
        "for i in range (1, number +1):\n",
        "  fact *= i\n",
        "\n",
        "print(fact)"
      ],
      "metadata": {
        "colab": {
          "base_uri": "https://localhost:8080/"
        },
        "id": "szIkEL5nweYt",
        "outputId": "6f0d7c88-35e1-4557-e140-f5179d9f2be0"
      },
      "execution_count": 105,
      "outputs": [
        {
          "output_type": "stream",
          "name": "stdout",
          "text": [
            "enter number:5\n",
            "120\n"
          ]
        }
      ]
    },
    {
      "cell_type": "code",
      "source": [],
      "metadata": {
        "id": "oP6fFYHHwea9"
      },
      "execution_count": null,
      "outputs": []
    },
    {
      "cell_type": "markdown",
      "source": [
        "###12. Create a program using a for loop that prompts the user to enter five numbers. After all numbers are entered, the program should display the average of the numbers."
      ],
      "metadata": {
        "id": "E980p09mwfM8"
      }
    },
    {
      "cell_type": "code",
      "source": [
        "total = 0\n",
        "for _ in range(5):\n",
        "  num = int(input(\"enter 5 numbers:\"))\n",
        "  total += num\n",
        "avg = total/5\n",
        "print(avg)"
      ],
      "metadata": {
        "colab": {
          "base_uri": "https://localhost:8080/"
        },
        "id": "JEcMT4JJwkBG",
        "outputId": "fc5d628d-5947-4f69-f866-c3b566dc77aa"
      },
      "execution_count": 106,
      "outputs": [
        {
          "output_type": "stream",
          "name": "stdout",
          "text": [
            "enter 5 numbers:25\n",
            "enter 5 numbers:20\n",
            "enter 5 numbers:15\n",
            "enter 5 numbers:10\n",
            "enter 5 numbers:5\n",
            "15.0\n"
          ]
        }
      ]
    },
    {
      "cell_type": "code",
      "source": [],
      "metadata": {
        "id": "RgDvky-WwkDw"
      },
      "execution_count": null,
      "outputs": []
    }
  ]
}