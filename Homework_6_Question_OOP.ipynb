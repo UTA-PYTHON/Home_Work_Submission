{
  "nbformat": 4,
  "nbformat_minor": 0,
  "metadata": {
    "colab": {
      "provenance": [],
      "include_colab_link": true
    },
    "kernelspec": {
      "name": "python3",
      "display_name": "Python 3"
    },
    "language_info": {
      "name": "python"
    }
  },
  "cells": [
    {
      "cell_type": "markdown",
      "metadata": {
        "id": "view-in-github",
        "colab_type": "text"
      },
      "source": [
        "<a href=\"https://colab.research.google.com/github/UTA-PYTHON/Home_Work_Submission/blob/main/Homework_6_Question_OOP.ipynb\" target=\"_parent\"><img src=\"https://colab.research.google.com/assets/colab-badge.svg\" alt=\"Open In Colab\"/></a>"
      ]
    },
    {
      "cell_type": "markdown",
      "source": [
        "# **Homework 6: Object-oriented programming (OOP)**"
      ],
      "metadata": {
        "id": "VIqeR4FVugAQ"
      }
    },
    {
      "cell_type": "markdown",
      "source": [
        "### **Due date:** October 27, at 2:30 PM.\n",
        "\n",
        "### **Submission:** Please push your homework to the our GitHub repository, and place it in the 'Homework 6' folder."
      ],
      "metadata": {
        "id": "YBl1Dzbx0tEo"
      }
    },
    {
      "cell_type": "markdown",
      "source": [
        "\n",
        "\n",
        "---\n",
        "\n",
        "\n",
        "\n",
        "---\n",
        "\n"
      ],
      "metadata": {
        "id": "JsdFDiVvltSA"
      }
    },
    {
      "cell_type": "markdown",
      "source": [
        "## **Question**"
      ],
      "metadata": {
        "id": "PKFjn9RQxdKh"
      }
    },
    {
      "cell_type": "markdown",
      "source": [
        "### 1. Design a class hierarchy to represent different types of vehicles in a transportation system. Start with a base class called Vehicle with the following attributes and methods:\n",
        "\n",
        "**Attributes:**\n",
        "\n",
        "- make (string)\n",
        "- model (string)\n",
        "- year (integer)\n",
        "- fuel (float)\n",
        "\n",
        "**Methods:**\n",
        "\n",
        "- __init__(self, make, model, year, fuel): Initialize the attributes.\n",
        "- info(self): Print basic information about the vehicle, including make, model, year, and fuel efficiency.\n",
        "\n",
        "Next, create two subclasses that inherit from Vehicle:"
      ],
      "metadata": {
        "id": "G87lVW52DTUq"
      }
    },
    {
      "cell_type": "code",
      "source": [
        "class Vehicle:\n",
        "    def __init__(self, make, model, year, fuel):\n",
        "        self.make = make\n",
        "        self.model = model\n",
        "        self.year = year\n",
        "        self.fuel = fuel\n",
        "\n",
        "    def info(self):\n",
        "        print(f\"Make: {self.make}\")\n",
        "        print(f\"Model: {self.model}\")\n",
        "        print(f\"Year: {self.year}\")\n",
        "        print(f\"Fuel Efficiency: {self.fuel} miles per gallon\")\n",
        "\n",
        "class Car(Vehicle):\n",
        "    def __init__(self, make, model, year, fuel, num_doors):\n",
        "        super().__init__(make, model, year, fuel)\n",
        "        self.num_doors = num_doors\n",
        "\n",
        "    def info(self):\n",
        "        super().info()\n",
        "        print(f\"Number of Doors: {self.num_doors}\")\n",
        "\n",
        "class Bicycle(Vehicle):\n",
        "    def __init__(self, make, model, year, fuel, num_gears):\n",
        "        super().__init__(make, model, year, fuel)\n",
        "        self.num_gears = num_gears\n",
        "\n",
        "    def info(self):\n",
        "        super().info()\n",
        "        print(f\"Number of Gears: {self.num_gears}\")"
      ],
      "metadata": {
        "id": "nqinY21XDT4T"
      },
      "execution_count": 1,
      "outputs": []
    },
    {
      "cell_type": "code",
      "source": [],
      "metadata": {
        "id": "6x2cjUMKDi6F"
      },
      "execution_count": null,
      "outputs": []
    },
    {
      "cell_type": "code",
      "source": [],
      "metadata": {
        "id": "YTNpwwNuDi8Y"
      },
      "execution_count": null,
      "outputs": []
    },
    {
      "cell_type": "markdown",
      "source": [
        "### 2. Create a subclass called Car with the following additional attributes and methods:\n",
        "\n",
        "**Attributes:**\n",
        "\n",
        "- num_doors (integer)\n",
        "- is_sedan (boolean)\n",
        "\n",
        "\n",
        "**Methods:**\n",
        "\n",
        "- __init__(self, make, model, year, fuel, num_doors, is_sedan): Initialize the attributes.\n",
        "- display_car_info(self): Print detailed information about the car, including the number of doors and whether it's a sedan.\n"
      ],
      "metadata": {
        "id": "jU_pldbiDiTV"
      }
    },
    {
      "cell_type": "code",
      "source": [
        "class Car(Vehicle):\n",
        "    def __init__(self, make, model, year, fuel, num_doors, is_sedan):\n",
        "        super().__init__(make, model, year, fuel)\n",
        "        self.num_doors = num_doors\n",
        "        self.is_sedan = is_sedan\n",
        "\n",
        "    def display_car_info(self):\n",
        "        super().info()\n",
        "        print(f\"Number of Doors: {self.num_doors}\")\n",
        "        print(f\"Is it a Sedan? {'Yes' if self.is_sedan else 'No'}\")"
      ],
      "metadata": {
        "id": "mcLUfyhQDnrs"
      },
      "execution_count": 3,
      "outputs": []
    },
    {
      "cell_type": "code",
      "source": [],
      "metadata": {
        "id": "GBIphBkcDnuK"
      },
      "execution_count": null,
      "outputs": []
    },
    {
      "cell_type": "code",
      "source": [],
      "metadata": {
        "id": "tFxv27C0DnwD"
      },
      "execution_count": null,
      "outputs": []
    },
    {
      "cell_type": "markdown",
      "source": [
        "### 3. Create a subclass called Motorcycle with the following additional attributes and methods:\n",
        "\n",
        "**Attributes:**\n",
        "\n",
        "- top_speed (integer)\n",
        "- engine_size (float)\n",
        "\n",
        "\n",
        "**Methods:**\n",
        "\n",
        "- __init__(self, make, model, year, fuel, top_speed, engine_size): Initialize the attributes.\n",
        "- display_motorcycle_info(self): Print detailed information about the motorcycle, including top speed and engine size.\n",
        "\n",
        "\n",
        "Finally, create instances of both Car and Motorcycle classes and demonstrate the use of their methods to display information about each vehicle."
      ],
      "metadata": {
        "id": "Kb7Ct4PyDt4m"
      }
    },
    {
      "cell_type": "code",
      "source": [
        "class Motorcycle(Vehicle):\n",
        "    def __init__(self, make, model, year, fuel, top_speed, engine_size):\n",
        "        super().__init__(make, model, year, fuel)\n",
        "        self.top_speed = top_speed\n",
        "        self.engine_size = engine_size\n",
        "\n",
        "    def display_motorcycle_info(self):\n",
        "        super().info()\n",
        "        print(f\"Top Speed: {self.top_speed} mph\")\n",
        "        print(f\"Engine Size: {self.engine_size} cc\")\n",
        "\n",
        "my_car = Car(\"Toyota\", \"Camry\", 2022, 30.0, 4, True)\n",
        "\n",
        "print(\"Car Information:\")\n",
        "my_car.display_car_info()\n",
        "\n",
        "\n",
        "my_motorcycle = Motorcycle(\"Harley-Davidson\", \"Sportster\", 2023, 45.0, 120, 883)\n",
        "\n",
        "\n",
        "print(\"\\nMotorcycle Information:\")\n",
        "my_motorcycle.display_motorcycle_info()"
      ],
      "metadata": {
        "colab": {
          "base_uri": "https://localhost:8080/"
        },
        "id": "6zmOmaoXDwZb",
        "outputId": "972df053-54f9-4db2-ad6d-034c1f30b47a"
      },
      "execution_count": 4,
      "outputs": [
        {
          "output_type": "stream",
          "name": "stdout",
          "text": [
            "Car Information:\n",
            "Make: Toyota\n",
            "Model: Camry\n",
            "Year: 2022\n",
            "Fuel Efficiency: 30.0 miles per gallon\n",
            "Number of Doors: 4\n",
            "Is it a Sedan? Yes\n",
            "\n",
            "Motorcycle Information:\n",
            "Make: Harley-Davidson\n",
            "Model: Sportster\n",
            "Year: 2023\n",
            "Fuel Efficiency: 45.0 miles per gallon\n",
            "Top Speed: 120 mph\n",
            "Engine Size: 883 cc\n"
          ]
        }
      ]
    },
    {
      "cell_type": "code",
      "source": [],
      "metadata": {
        "id": "qgIm5y0ODwb1"
      },
      "execution_count": null,
      "outputs": []
    },
    {
      "cell_type": "code",
      "source": [],
      "metadata": {
        "id": "Oo1OJJmHDwq6"
      },
      "execution_count": null,
      "outputs": []
    }
  ]
}