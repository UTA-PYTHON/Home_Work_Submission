{
  "nbformat": 4,
  "nbformat_minor": 0,
  "metadata": {
    "colab": {
      "provenance": [],
      "include_colab_link": true
    },
    "kernelspec": {
      "name": "python3",
      "display_name": "Python 3"
    },
    "language_info": {
      "name": "python"
    }
  },
  "cells": [
    {
      "cell_type": "markdown",
      "metadata": {
        "id": "view-in-github",
        "colab_type": "text"
      },
      "source": [
        "<a href=\"https://colab.research.google.com/github/UTA-PYTHON/Home_Work_Submission/blob/main/Homework_6_Question_OOP%2C_Brianda_Rocha.ipynb\" target=\"_parent\"><img src=\"https://colab.research.google.com/assets/colab-badge.svg\" alt=\"Open In Colab\"/></a>"
      ]
    },
    {
      "cell_type": "markdown",
      "source": [
        "# **Homework 6: Object-oriented programming (OOP)**"
      ],
      "metadata": {
        "id": "VIqeR4FVugAQ"
      }
    },
    {
      "cell_type": "code",
      "source": [],
      "metadata": {
        "id": "8AnCiGA0amWx"
      },
      "execution_count": null,
      "outputs": []
    },
    {
      "cell_type": "markdown",
      "source": [
        "### **Due date:** October 27, at 2:30 PM.\n",
        "\n",
        "### **Submission:** Please push your homework to the our GitHub repository, and place it in the 'Homework 6' folder."
      ],
      "metadata": {
        "id": "YBl1Dzbx0tEo"
      }
    },
    {
      "cell_type": "markdown",
      "source": [
        "\n",
        "\n",
        "---\n",
        "\n",
        "\n",
        "\n",
        "---\n",
        "\n"
      ],
      "metadata": {
        "id": "JsdFDiVvltSA"
      }
    },
    {
      "cell_type": "markdown",
      "source": [
        "## **Question**"
      ],
      "metadata": {
        "id": "PKFjn9RQxdKh"
      }
    },
    {
      "cell_type": "markdown",
      "source": [
        "### 1. Design a class hierarchy to represent different types of vehicles in a transportation system. Start with a base class called Vehicle with the following attributes and methods:\n",
        "\n",
        "**Attributes:**\n",
        "\n",
        "- make (string)\n",
        "- model (string)\n",
        "- year (integer)\n",
        "- fuel (float)\n",
        "\n",
        "**Methods:**\n",
        "\n",
        "- __init__(self, make, model, year, fuel): Initialize the attributes.\n",
        "- info(self): Print basic information about the vehicle, including make, model, year, and fuel efficiency.\n",
        "\n",
        "Next, create two subclasses that inherit from Vehicle:\n",
        "\n",
        "### 2. Create a subclass called Car with the following additional attributes and methods:\n",
        "\n",
        "**Attributes:**\n",
        "\n",
        "- num_doors (integer)\n",
        "- is_sedan (boolean)\n",
        "\n",
        "\n",
        "**Methods:**\n",
        "\n",
        "- __init__(self, make, model, year, fuel, num_doors, is_sedan): Initialize the attributes.\n",
        "- display_car_info(self): Print detailed information about the car, including the number of doors and whether it's a sedan.\n",
        "\n",
        "\n",
        "### 3. Create a subclass called Motorcycle with the following additional attributes and methods:\n",
        "\n",
        "**Attributes:**\n",
        "\n",
        "- top_speed (integer)\n",
        "- engine_size (float)\n",
        "\n",
        "\n",
        "**Methods:**\n",
        "\n",
        "- __init__(self, make, model, year, fuel, top_speed, engine_size): Initialize the attributes.\n",
        "- display_motorcycle_info(self): Print detailed information about the motorcycle, including top speed and engine size.\n",
        "\n",
        "\n",
        "Finally, create instances of both Car and Motorcycle classes and demonstrate the use of their methods to display information about each vehicle."
      ],
      "metadata": {
        "id": "i9czG4jTxdvg"
      }
    },
    {
      "cell_type": "code",
      "source": [
        "\n",
        "\n",
        "name=()\n",
        "class Vehicle:\n",
        "    def __init__ (self,make,model,year,fuel):\n",
        "      self.make = make\n",
        "      self.model = model\n",
        "      self.year = year\n",
        "      self.fuel = fuel\n",
        "    def info(self):\n",
        "      print(f\"{self.make}\")\n",
        "      print(f\"{self.model}\")\n",
        "      print(f\"{self.year}\")\n",
        "      print(f\"{self.fuel}\")\n",
        "class Car(Vehicle):\n",
        "  def __init__(self, make, model, year, fuel, num_doors, is_sedan):\n",
        "      super().__init__(make,model,year,fuel)\n",
        "      self.num_doors =num_doors\n",
        "      self.is_sedan = is_sedan\n",
        "  def carinfo(self):\n",
        "        self.info()\n",
        "        print(f\"{self.num_doors}\")\n",
        "        print(f\"{'Yes' if self.is_sedan else 'No'}\")\n",
        "class Motor(Vehicle):\n",
        "  def __init__(self, make, model, year, fuel, topspeed, engine):\n",
        "      super().__init__(make,model,year,fuel)\n",
        "      self.topspeed = topspeed\n",
        "      self.engine = engine\n",
        "  def minfo(self):\n",
        "      self.info()\n",
        "      print(f\"{self.topspeed}\")\n",
        "      print(f\"{self.engine}\")\n",
        "\n",
        "if __name__ == \"__main__\":\n",
        "  car1 = Car(\"Porshe\", \"911\", 2023, 250, 2, False)\n",
        "  motor1 = Motor(\"HD\", \"Sportster\", 2011, 100,101 ,1)\n",
        "\n",
        "print(\"car:\")\n",
        "car1.carinfo()\n",
        "print(\"moto:\")\n",
        "motor1.minfo()\n",
        "\n",
        "\n",
        "\n"
      ],
      "metadata": {
        "id": "1-VdpWBGylS5",
        "colab": {
          "base_uri": "https://localhost:8080/"
        },
        "outputId": "9ea0f20d-7b99-4819-b05c-9a5da1a80f76"
      },
      "execution_count": 34,
      "outputs": [
        {
          "output_type": "stream",
          "name": "stdout",
          "text": [
            "car:\n",
            "Porshe\n",
            "911\n",
            "2023\n",
            "250\n",
            "2\n",
            "No\n",
            "moto:\n",
            "HD\n",
            "Sportster\n",
            "2011\n",
            "100\n",
            "101\n",
            "1\n"
          ]
        }
      ]
    },
    {
      "cell_type": "code",
      "source": [
        "()"
      ],
      "metadata": {
        "id": "jj8GactHW0OD"
      },
      "execution_count": null,
      "outputs": []
    }
  ]
}