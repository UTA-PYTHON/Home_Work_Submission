{
  "nbformat": 4,
  "nbformat_minor": 0,
  "metadata": {
    "colab": {
      "provenance": []
    },
    "kernelspec": {
      "name": "python3",
      "display_name": "Python 3"
    },
    "language_info": {
      "name": "python"
    }
  },
  "cells": [
    {
      "cell_type": "markdown",
      "source": [
        "# **Week 12. Homework 8. Pandas**"
      ],
      "metadata": {
        "id": "B26w8VjCYKRV"
      }
    },
    {
      "cell_type": "markdown",
      "source": [
        "\n",
        "\n",
        "---\n",
        "\n",
        "\n",
        "\n",
        "---\n",
        "\n",
        "\n",
        "\n",
        "---\n",
        "\n"
      ],
      "metadata": {
        "id": "Eu6PftroYo2U"
      }
    },
    {
      "cell_type": "markdown",
      "source": [
        "\n",
        "1. Load the dataset into a pandas DataFrame and display the first few rows."
      ],
      "metadata": {
        "id": "aV6E5GZXpi1M"
      }
    },
    {
      "cell_type": "code",
      "source": [
        "import numpy as np\n",
        "import pandas as pd\n",
        "import matplotlib.pyplot as plt\n",
        "import seaborn as sns\n",
        "\n",
        "\n",
        "\n",
        "sub_Startups_df=pd.read_csv(\"Startups.csv\")\n",
        "sub_Startups_df.head()\n",
        "\n",
        "\n",
        "\n",
        "\n",
        "\n"
      ],
      "metadata": {
        "id": "HJBOXE_upncm",
        "colab": {
          "base_uri": "https://localhost:8080/",
          "height": 206
        },
        "outputId": "6c6f453d-9e1a-40a3-f1d2-33ba43918bf9"
      },
      "execution_count": 37,
      "outputs": [
        {
          "output_type": "execute_result",
          "data": {
            "text/plain": [
              "   R&D Spend  Administration  Marketing Spend       State     Profit\n",
              "0  165349.20       136897.80        471784.10    New York  192261.83\n",
              "1  162597.70       151377.59        443898.53  California  191792.06\n",
              "2  153441.51       101145.55        407934.54     Florida  191050.39\n",
              "3  144372.41       118671.85        383199.62    New York  182901.99\n",
              "4  142107.34        91391.77        366168.42     Florida  166187.94"
            ],
            "text/html": [
              "\n",
              "  <div id=\"df-19d2c04d-c67c-4099-bebb-79206dc6fa0b\" class=\"colab-df-container\">\n",
              "    <div>\n",
              "<style scoped>\n",
              "    .dataframe tbody tr th:only-of-type {\n",
              "        vertical-align: middle;\n",
              "    }\n",
              "\n",
              "    .dataframe tbody tr th {\n",
              "        vertical-align: top;\n",
              "    }\n",
              "\n",
              "    .dataframe thead th {\n",
              "        text-align: right;\n",
              "    }\n",
              "</style>\n",
              "<table border=\"1\" class=\"dataframe\">\n",
              "  <thead>\n",
              "    <tr style=\"text-align: right;\">\n",
              "      <th></th>\n",
              "      <th>R&amp;D Spend</th>\n",
              "      <th>Administration</th>\n",
              "      <th>Marketing Spend</th>\n",
              "      <th>State</th>\n",
              "      <th>Profit</th>\n",
              "    </tr>\n",
              "  </thead>\n",
              "  <tbody>\n",
              "    <tr>\n",
              "      <th>0</th>\n",
              "      <td>165349.20</td>\n",
              "      <td>136897.80</td>\n",
              "      <td>471784.10</td>\n",
              "      <td>New York</td>\n",
              "      <td>192261.83</td>\n",
              "    </tr>\n",
              "    <tr>\n",
              "      <th>1</th>\n",
              "      <td>162597.70</td>\n",
              "      <td>151377.59</td>\n",
              "      <td>443898.53</td>\n",
              "      <td>California</td>\n",
              "      <td>191792.06</td>\n",
              "    </tr>\n",
              "    <tr>\n",
              "      <th>2</th>\n",
              "      <td>153441.51</td>\n",
              "      <td>101145.55</td>\n",
              "      <td>407934.54</td>\n",
              "      <td>Florida</td>\n",
              "      <td>191050.39</td>\n",
              "    </tr>\n",
              "    <tr>\n",
              "      <th>3</th>\n",
              "      <td>144372.41</td>\n",
              "      <td>118671.85</td>\n",
              "      <td>383199.62</td>\n",
              "      <td>New York</td>\n",
              "      <td>182901.99</td>\n",
              "    </tr>\n",
              "    <tr>\n",
              "      <th>4</th>\n",
              "      <td>142107.34</td>\n",
              "      <td>91391.77</td>\n",
              "      <td>366168.42</td>\n",
              "      <td>Florida</td>\n",
              "      <td>166187.94</td>\n",
              "    </tr>\n",
              "  </tbody>\n",
              "</table>\n",
              "</div>\n",
              "    <div class=\"colab-df-buttons\">\n",
              "\n",
              "  <div class=\"colab-df-container\">\n",
              "    <button class=\"colab-df-convert\" onclick=\"convertToInteractive('df-19d2c04d-c67c-4099-bebb-79206dc6fa0b')\"\n",
              "            title=\"Convert this dataframe to an interactive table.\"\n",
              "            style=\"display:none;\">\n",
              "\n",
              "  <svg xmlns=\"http://www.w3.org/2000/svg\" height=\"24px\" viewBox=\"0 -960 960 960\">\n",
              "    <path d=\"M120-120v-720h720v720H120Zm60-500h600v-160H180v160Zm220 220h160v-160H400v160Zm0 220h160v-160H400v160ZM180-400h160v-160H180v160Zm440 0h160v-160H620v160ZM180-180h160v-160H180v160Zm440 0h160v-160H620v160Z\"/>\n",
              "  </svg>\n",
              "    </button>\n",
              "\n",
              "  <style>\n",
              "    .colab-df-container {\n",
              "      display:flex;\n",
              "      gap: 12px;\n",
              "    }\n",
              "\n",
              "    .colab-df-convert {\n",
              "      background-color: #E8F0FE;\n",
              "      border: none;\n",
              "      border-radius: 50%;\n",
              "      cursor: pointer;\n",
              "      display: none;\n",
              "      fill: #1967D2;\n",
              "      height: 32px;\n",
              "      padding: 0 0 0 0;\n",
              "      width: 32px;\n",
              "    }\n",
              "\n",
              "    .colab-df-convert:hover {\n",
              "      background-color: #E2EBFA;\n",
              "      box-shadow: 0px 1px 2px rgba(60, 64, 67, 0.3), 0px 1px 3px 1px rgba(60, 64, 67, 0.15);\n",
              "      fill: #174EA6;\n",
              "    }\n",
              "\n",
              "    .colab-df-buttons div {\n",
              "      margin-bottom: 4px;\n",
              "    }\n",
              "\n",
              "    [theme=dark] .colab-df-convert {\n",
              "      background-color: #3B4455;\n",
              "      fill: #D2E3FC;\n",
              "    }\n",
              "\n",
              "    [theme=dark] .colab-df-convert:hover {\n",
              "      background-color: #434B5C;\n",
              "      box-shadow: 0px 1px 3px 1px rgba(0, 0, 0, 0.15);\n",
              "      filter: drop-shadow(0px 1px 2px rgba(0, 0, 0, 0.3));\n",
              "      fill: #FFFFFF;\n",
              "    }\n",
              "  </style>\n",
              "\n",
              "    <script>\n",
              "      const buttonEl =\n",
              "        document.querySelector('#df-19d2c04d-c67c-4099-bebb-79206dc6fa0b button.colab-df-convert');\n",
              "      buttonEl.style.display =\n",
              "        google.colab.kernel.accessAllowed ? 'block' : 'none';\n",
              "\n",
              "      async function convertToInteractive(key) {\n",
              "        const element = document.querySelector('#df-19d2c04d-c67c-4099-bebb-79206dc6fa0b');\n",
              "        const dataTable =\n",
              "          await google.colab.kernel.invokeFunction('convertToInteractive',\n",
              "                                                    [key], {});\n",
              "        if (!dataTable) return;\n",
              "\n",
              "        const docLinkHtml = 'Like what you see? Visit the ' +\n",
              "          '<a target=\"_blank\" href=https://colab.research.google.com/notebooks/data_table.ipynb>data table notebook</a>'\n",
              "          + ' to learn more about interactive tables.';\n",
              "        element.innerHTML = '';\n",
              "        dataTable['output_type'] = 'display_data';\n",
              "        await google.colab.output.renderOutput(dataTable, element);\n",
              "        const docLink = document.createElement('div');\n",
              "        docLink.innerHTML = docLinkHtml;\n",
              "        element.appendChild(docLink);\n",
              "      }\n",
              "    </script>\n",
              "  </div>\n",
              "\n",
              "\n",
              "<div id=\"df-8acd872e-01fa-43e1-820b-58c900a30d0e\">\n",
              "  <button class=\"colab-df-quickchart\" onclick=\"quickchart('df-8acd872e-01fa-43e1-820b-58c900a30d0e')\"\n",
              "            title=\"Suggest charts\"\n",
              "            style=\"display:none;\">\n",
              "\n",
              "<svg xmlns=\"http://www.w3.org/2000/svg\" height=\"24px\"viewBox=\"0 0 24 24\"\n",
              "     width=\"24px\">\n",
              "    <g>\n",
              "        <path d=\"M19 3H5c-1.1 0-2 .9-2 2v14c0 1.1.9 2 2 2h14c1.1 0 2-.9 2-2V5c0-1.1-.9-2-2-2zM9 17H7v-7h2v7zm4 0h-2V7h2v10zm4 0h-2v-4h2v4z\"/>\n",
              "    </g>\n",
              "</svg>\n",
              "  </button>\n",
              "\n",
              "<style>\n",
              "  .colab-df-quickchart {\n",
              "      --bg-color: #E8F0FE;\n",
              "      --fill-color: #1967D2;\n",
              "      --hover-bg-color: #E2EBFA;\n",
              "      --hover-fill-color: #174EA6;\n",
              "      --disabled-fill-color: #AAA;\n",
              "      --disabled-bg-color: #DDD;\n",
              "  }\n",
              "\n",
              "  [theme=dark] .colab-df-quickchart {\n",
              "      --bg-color: #3B4455;\n",
              "      --fill-color: #D2E3FC;\n",
              "      --hover-bg-color: #434B5C;\n",
              "      --hover-fill-color: #FFFFFF;\n",
              "      --disabled-bg-color: #3B4455;\n",
              "      --disabled-fill-color: #666;\n",
              "  }\n",
              "\n",
              "  .colab-df-quickchart {\n",
              "    background-color: var(--bg-color);\n",
              "    border: none;\n",
              "    border-radius: 50%;\n",
              "    cursor: pointer;\n",
              "    display: none;\n",
              "    fill: var(--fill-color);\n",
              "    height: 32px;\n",
              "    padding: 0;\n",
              "    width: 32px;\n",
              "  }\n",
              "\n",
              "  .colab-df-quickchart:hover {\n",
              "    background-color: var(--hover-bg-color);\n",
              "    box-shadow: 0 1px 2px rgba(60, 64, 67, 0.3), 0 1px 3px 1px rgba(60, 64, 67, 0.15);\n",
              "    fill: var(--button-hover-fill-color);\n",
              "  }\n",
              "\n",
              "  .colab-df-quickchart-complete:disabled,\n",
              "  .colab-df-quickchart-complete:disabled:hover {\n",
              "    background-color: var(--disabled-bg-color);\n",
              "    fill: var(--disabled-fill-color);\n",
              "    box-shadow: none;\n",
              "  }\n",
              "\n",
              "  .colab-df-spinner {\n",
              "    border: 2px solid var(--fill-color);\n",
              "    border-color: transparent;\n",
              "    border-bottom-color: var(--fill-color);\n",
              "    animation:\n",
              "      spin 1s steps(1) infinite;\n",
              "  }\n",
              "\n",
              "  @keyframes spin {\n",
              "    0% {\n",
              "      border-color: transparent;\n",
              "      border-bottom-color: var(--fill-color);\n",
              "      border-left-color: var(--fill-color);\n",
              "    }\n",
              "    20% {\n",
              "      border-color: transparent;\n",
              "      border-left-color: var(--fill-color);\n",
              "      border-top-color: var(--fill-color);\n",
              "    }\n",
              "    30% {\n",
              "      border-color: transparent;\n",
              "      border-left-color: var(--fill-color);\n",
              "      border-top-color: var(--fill-color);\n",
              "      border-right-color: var(--fill-color);\n",
              "    }\n",
              "    40% {\n",
              "      border-color: transparent;\n",
              "      border-right-color: var(--fill-color);\n",
              "      border-top-color: var(--fill-color);\n",
              "    }\n",
              "    60% {\n",
              "      border-color: transparent;\n",
              "      border-right-color: var(--fill-color);\n",
              "    }\n",
              "    80% {\n",
              "      border-color: transparent;\n",
              "      border-right-color: var(--fill-color);\n",
              "      border-bottom-color: var(--fill-color);\n",
              "    }\n",
              "    90% {\n",
              "      border-color: transparent;\n",
              "      border-bottom-color: var(--fill-color);\n",
              "    }\n",
              "  }\n",
              "</style>\n",
              "\n",
              "  <script>\n",
              "    async function quickchart(key) {\n",
              "      const quickchartButtonEl =\n",
              "        document.querySelector('#' + key + ' button');\n",
              "      quickchartButtonEl.disabled = true;  // To prevent multiple clicks.\n",
              "      quickchartButtonEl.classList.add('colab-df-spinner');\n",
              "      try {\n",
              "        const charts = await google.colab.kernel.invokeFunction(\n",
              "            'suggestCharts', [key], {});\n",
              "      } catch (error) {\n",
              "        console.error('Error during call to suggestCharts:', error);\n",
              "      }\n",
              "      quickchartButtonEl.classList.remove('colab-df-spinner');\n",
              "      quickchartButtonEl.classList.add('colab-df-quickchart-complete');\n",
              "    }\n",
              "    (() => {\n",
              "      let quickchartButtonEl =\n",
              "        document.querySelector('#df-8acd872e-01fa-43e1-820b-58c900a30d0e button');\n",
              "      quickchartButtonEl.style.display =\n",
              "        google.colab.kernel.accessAllowed ? 'block' : 'none';\n",
              "    })();\n",
              "  </script>\n",
              "</div>\n",
              "    </div>\n",
              "  </div>\n"
            ]
          },
          "metadata": {},
          "execution_count": 37
        }
      ]
    },
    {
      "cell_type": "markdown",
      "source": [
        "\n",
        "\n",
        "---\n",
        "\n",
        "\n",
        "\n",
        "---\n",
        "\n"
      ],
      "metadata": {
        "id": "howJdRNwY4sd"
      }
    },
    {
      "cell_type": "markdown",
      "source": [
        "\n",
        "2. Find the number of rows and columns in the dataset.\n",
        "\n",
        "\n"
      ],
      "metadata": {
        "id": "9rPM3G4Opnlx"
      }
    },
    {
      "cell_type": "code",
      "source": [
        "sub_Startups_df.shape\n",
        "\n",
        "\n",
        "\n",
        "\n",
        "\n",
        "\n",
        "\n",
        "\n",
        "\n",
        "\n"
      ],
      "metadata": {
        "id": "ihMWKM5ypq7d",
        "colab": {
          "base_uri": "https://localhost:8080/"
        },
        "outputId": "87dab33e-c46c-4738-9a95-267b44c990cb"
      },
      "execution_count": 5,
      "outputs": [
        {
          "output_type": "execute_result",
          "data": {
            "text/plain": [
              "(50, 5)"
            ]
          },
          "metadata": {},
          "execution_count": 5
        }
      ]
    },
    {
      "cell_type": "markdown",
      "source": [
        "\n",
        "\n",
        "\n",
        "---\n",
        "\n",
        "\n",
        "---\n",
        "\n"
      ],
      "metadata": {
        "id": "E6OSn0EpY2ZG"
      }
    },
    {
      "cell_type": "markdown",
      "source": [
        "3. Check for missing values in each column and handle them appropriately.\n",
        "\n",
        "\n"
      ],
      "metadata": {
        "id": "2mlsVfqwprGf"
      }
    },
    {
      "cell_type": "code",
      "source": [
        "print(\"Misiing Values:\")\n",
        "sub_Startups_df.isnull\n",
        "\n",
        "\n",
        "\n",
        "\n",
        "\n",
        "\n",
        "\n",
        "\n",
        "\n"
      ],
      "metadata": {
        "id": "MHCp25TcpshE",
        "colab": {
          "base_uri": "https://localhost:8080/"
        },
        "outputId": "2f41d39a-a7b6-4583-914b-525a3e25e2ac"
      },
      "execution_count": 6,
      "outputs": [
        {
          "output_type": "stream",
          "name": "stdout",
          "text": [
            "Misiing Values:\n"
          ]
        },
        {
          "output_type": "execute_result",
          "data": {
            "text/plain": [
              "<bound method DataFrame.isnull of     R&D Spend  Administration  Marketing Spend       State     Profit\n",
              "0   165349.20       136897.80        471784.10    New York  192261.83\n",
              "1   162597.70       151377.59        443898.53  California  191792.06\n",
              "2   153441.51       101145.55        407934.54     Florida  191050.39\n",
              "3   144372.41       118671.85        383199.62    New York  182901.99\n",
              "4   142107.34        91391.77        366168.42     Florida  166187.94\n",
              "5   131876.90        99814.71        362861.36    New York  156991.12\n",
              "6   134615.46       147198.87        127716.82  California  156122.51\n",
              "7   130298.13       145530.06        323876.68     Florida  155752.60\n",
              "8   120542.52       148718.95        311613.29    New York  152211.77\n",
              "9   123334.88       108679.17        304981.62  California  149759.96\n",
              "10  101913.08       110594.11        229160.95     Florida  146121.95\n",
              "11  100671.96        91790.61        249744.55  California  144259.40\n",
              "12   93863.75       127320.38        249839.44     Florida  141585.52\n",
              "13   91992.39       135495.07        252664.93  California  134307.35\n",
              "14  119943.24       156547.42        256512.92     Florida  132602.65\n",
              "15  114523.61       122616.84        261776.23    New York  129917.04\n",
              "16   78013.11       121597.55        264346.06  California  126992.93\n",
              "17   94657.16       145077.58        282574.31    New York  125370.37\n",
              "18   91749.16       114175.79        294919.57     Florida  124266.90\n",
              "19   86419.70       153514.11             0.00    New York  122776.86\n",
              "20   76253.86       113867.30        298664.47  California  118474.03\n",
              "21   78389.47       153773.43        299737.29    New York  111313.02\n",
              "22   73994.56       122782.75        303319.26     Florida  110352.25\n",
              "23   67532.53       105751.03        304768.73     Florida  108733.99\n",
              "24   77044.01        99281.34        140574.81    New York  108552.04\n",
              "25   64664.71       139553.16        137962.62  California  107404.34\n",
              "26   75328.87       144135.98        134050.07     Florida  105733.54\n",
              "27   72107.60       127864.55        353183.81    New York  105008.31\n",
              "28   66051.52       182645.56        118148.20     Florida  103282.38\n",
              "29   65605.48       153032.06        107138.38    New York  101004.64\n",
              "30   61994.48       115641.28         91131.24     Florida   99937.59\n",
              "31   61136.38       152701.92         88218.23    New York   97483.56\n",
              "32   63408.86       129219.61         46085.25  California   97427.84\n",
              "33   55493.95       103057.49        214634.81     Florida   96778.92\n",
              "34   46426.07       157693.92        210797.67  California   96712.80\n",
              "35   46014.02        85047.44        205517.64    New York   96479.51\n",
              "36   28663.76       127056.21        201126.82     Florida   90708.19\n",
              "37   44069.95        51283.14        197029.42  California   89949.14\n",
              "38   20229.59        65947.93        185265.10    New York   81229.06\n",
              "39   38558.51        82982.09        174999.30  California   81005.76\n",
              "40   28754.33       118546.05        172795.67  California   78239.91\n",
              "41   27892.92        84710.77        164470.71     Florida   77798.83\n",
              "42   23640.93        96189.63        148001.11  California   71498.49\n",
              "43   15505.73       127382.30         35534.17    New York   69758.98\n",
              "44   22177.74       154806.14         28334.72  California   65200.33\n",
              "45    1000.23       124153.04          1903.93    New York   64926.08\n",
              "46    1315.46       115816.21        297114.46     Florida   49490.75\n",
              "47       0.00       135426.92             0.00  California   42559.73\n",
              "48     542.05        51743.15             0.00    New York   35673.41\n",
              "49       0.00       116983.80         45173.06  California   14681.40>"
            ]
          },
          "metadata": {},
          "execution_count": 6
        }
      ]
    },
    {
      "cell_type": "markdown",
      "source": [
        "\n",
        "\n",
        "\n",
        "---\n",
        "\n",
        "\n",
        "---\n",
        "\n"
      ],
      "metadata": {
        "id": "XMBKTFY1Y8kB"
      }
    },
    {
      "cell_type": "markdown",
      "source": [
        "4. Calculate the mean, median, and standard deviation of the 'R&D_Spend' column.\n",
        "\n"
      ],
      "metadata": {
        "id": "3p6tB8lCpsqD"
      }
    },
    {
      "cell_type": "code",
      "source": [
        "data=sub_Startups_df\n",
        "df = pd.DataFrame(data)\n",
        "\n",
        "mean_rd_spend = df['R&D Spend'].mean()\n",
        "median_rd_spend = df['R&D Spend'].median()\n",
        "std_dev_rd_spend = df['R&D Spend'].std()\n",
        "\n",
        "print(\"Mean R&D Spend:\", mean_rd_spend)\n",
        "print(\"Median R&D Spend:\", median_rd_spend)\n",
        "print(\"Standard Deviation R&D Spend:\", std_dev_rd_spend)\n",
        "\n",
        "\n",
        "\n",
        "\n",
        "\n",
        "\n",
        "\n",
        "\n",
        "\n",
        "\n"
      ],
      "metadata": {
        "id": "qNI6I-PWpubf",
        "colab": {
          "base_uri": "https://localhost:8080/"
        },
        "outputId": "9ccf4281-0297-4029-bb42-376c4e4df306"
      },
      "execution_count": 18,
      "outputs": [
        {
          "output_type": "stream",
          "name": "stdout",
          "text": [
            "Mean R&D Spend: 73721.6156\n",
            "Median R&D Spend: 73051.08\n",
            "Standard Deviation R&D Spend: 45902.25648230753\n"
          ]
        }
      ]
    },
    {
      "cell_type": "markdown",
      "source": [
        "\n",
        "\n",
        "\n",
        "---\n",
        "\n",
        "\n",
        "---\n",
        "\n"
      ],
      "metadata": {
        "id": "hubV5ZGsZAm7"
      }
    },
    {
      "cell_type": "markdown",
      "source": [
        "5. Filter and create a new DataFrame containing companies located in a **California**.\n",
        "\n"
      ],
      "metadata": {
        "id": "BiULHwdYpunP"
      }
    },
    {
      "cell_type": "code",
      "source": [
        "df = pd.DataFrame(data)\n",
        "california_companies = df.loc[df['State'] == 'California']\n",
        "print(california_companies)\n",
        "\n",
        "\n",
        "\n",
        "\n",
        "\n",
        "\n",
        "\n",
        "\n",
        "\n"
      ],
      "metadata": {
        "id": "tkqnf92hpwOs",
        "colab": {
          "base_uri": "https://localhost:8080/"
        },
        "outputId": "8141cd58-b912-40f9-95f5-3023914a0b2a"
      },
      "execution_count": 19,
      "outputs": [
        {
          "output_type": "stream",
          "name": "stdout",
          "text": [
            "    R&D Spend  Administration  Marketing Spend       State     Profit\n",
            "1   162597.70       151377.59        443898.53  California  191792.06\n",
            "6   134615.46       147198.87        127716.82  California  156122.51\n",
            "9   123334.88       108679.17        304981.62  California  149759.96\n",
            "11  100671.96        91790.61        249744.55  California  144259.40\n",
            "13   91992.39       135495.07        252664.93  California  134307.35\n",
            "16   78013.11       121597.55        264346.06  California  126992.93\n",
            "20   76253.86       113867.30        298664.47  California  118474.03\n",
            "25   64664.71       139553.16        137962.62  California  107404.34\n",
            "32   63408.86       129219.61         46085.25  California   97427.84\n",
            "34   46426.07       157693.92        210797.67  California   96712.80\n",
            "37   44069.95        51283.14        197029.42  California   89949.14\n",
            "39   38558.51        82982.09        174999.30  California   81005.76\n",
            "40   28754.33       118546.05        172795.67  California   78239.91\n",
            "42   23640.93        96189.63        148001.11  California   71498.49\n",
            "44   22177.74       154806.14         28334.72  California   65200.33\n",
            "47       0.00       135426.92             0.00  California   42559.73\n",
            "49       0.00       116983.80         45173.06  California   14681.40\n"
          ]
        }
      ]
    },
    {
      "cell_type": "markdown",
      "source": [
        "\n",
        "\n",
        "\n",
        "---\n",
        "\n",
        "\n",
        "---\n",
        "\n"
      ],
      "metadata": {
        "id": "ilrxyXvXZEKe"
      }
    },
    {
      "cell_type": "markdown",
      "source": [
        "6. Sort the dataset by 'Profit' in descending order.\n",
        "\n"
      ],
      "metadata": {
        "id": "4XPxg0Z6pwrs"
      }
    },
    {
      "cell_type": "code",
      "source": [
        "df = pd.DataFrame(data)\n",
        "sorted_df = df.sort_values(by='Profit', ascending=False)\n",
        "print(sorted_df)\n",
        "\n",
        "\n",
        "\n",
        "\n",
        "\n",
        "\n",
        "\n",
        "\n",
        "\n",
        "\n"
      ],
      "metadata": {
        "id": "iCfpA1supxvs",
        "colab": {
          "base_uri": "https://localhost:8080/"
        },
        "outputId": "01e162a0-508e-4fc3-988c-a85574bd58c7"
      },
      "execution_count": 20,
      "outputs": [
        {
          "output_type": "stream",
          "name": "stdout",
          "text": [
            "    R&D Spend  Administration  Marketing Spend       State     Profit\n",
            "0   165349.20       136897.80        471784.10    New York  192261.83\n",
            "1   162597.70       151377.59        443898.53  California  191792.06\n",
            "2   153441.51       101145.55        407934.54     Florida  191050.39\n",
            "3   144372.41       118671.85        383199.62    New York  182901.99\n",
            "4   142107.34        91391.77        366168.42     Florida  166187.94\n",
            "5   131876.90        99814.71        362861.36    New York  156991.12\n",
            "6   134615.46       147198.87        127716.82  California  156122.51\n",
            "7   130298.13       145530.06        323876.68     Florida  155752.60\n",
            "8   120542.52       148718.95        311613.29    New York  152211.77\n",
            "9   123334.88       108679.17        304981.62  California  149759.96\n",
            "10  101913.08       110594.11        229160.95     Florida  146121.95\n",
            "11  100671.96        91790.61        249744.55  California  144259.40\n",
            "12   93863.75       127320.38        249839.44     Florida  141585.52\n",
            "13   91992.39       135495.07        252664.93  California  134307.35\n",
            "14  119943.24       156547.42        256512.92     Florida  132602.65\n",
            "15  114523.61       122616.84        261776.23    New York  129917.04\n",
            "16   78013.11       121597.55        264346.06  California  126992.93\n",
            "17   94657.16       145077.58        282574.31    New York  125370.37\n",
            "18   91749.16       114175.79        294919.57     Florida  124266.90\n",
            "19   86419.70       153514.11             0.00    New York  122776.86\n",
            "20   76253.86       113867.30        298664.47  California  118474.03\n",
            "21   78389.47       153773.43        299737.29    New York  111313.02\n",
            "22   73994.56       122782.75        303319.26     Florida  110352.25\n",
            "23   67532.53       105751.03        304768.73     Florida  108733.99\n",
            "24   77044.01        99281.34        140574.81    New York  108552.04\n",
            "25   64664.71       139553.16        137962.62  California  107404.34\n",
            "26   75328.87       144135.98        134050.07     Florida  105733.54\n",
            "27   72107.60       127864.55        353183.81    New York  105008.31\n",
            "28   66051.52       182645.56        118148.20     Florida  103282.38\n",
            "29   65605.48       153032.06        107138.38    New York  101004.64\n",
            "30   61994.48       115641.28         91131.24     Florida   99937.59\n",
            "31   61136.38       152701.92         88218.23    New York   97483.56\n",
            "32   63408.86       129219.61         46085.25  California   97427.84\n",
            "33   55493.95       103057.49        214634.81     Florida   96778.92\n",
            "34   46426.07       157693.92        210797.67  California   96712.80\n",
            "35   46014.02        85047.44        205517.64    New York   96479.51\n",
            "36   28663.76       127056.21        201126.82     Florida   90708.19\n",
            "37   44069.95        51283.14        197029.42  California   89949.14\n",
            "38   20229.59        65947.93        185265.10    New York   81229.06\n",
            "39   38558.51        82982.09        174999.30  California   81005.76\n",
            "40   28754.33       118546.05        172795.67  California   78239.91\n",
            "41   27892.92        84710.77        164470.71     Florida   77798.83\n",
            "42   23640.93        96189.63        148001.11  California   71498.49\n",
            "43   15505.73       127382.30         35534.17    New York   69758.98\n",
            "44   22177.74       154806.14         28334.72  California   65200.33\n",
            "45    1000.23       124153.04          1903.93    New York   64926.08\n",
            "46    1315.46       115816.21        297114.46     Florida   49490.75\n",
            "47       0.00       135426.92             0.00  California   42559.73\n",
            "48     542.05        51743.15             0.00    New York   35673.41\n",
            "49       0.00       116983.80         45173.06  California   14681.40\n"
          ]
        }
      ]
    },
    {
      "cell_type": "markdown",
      "source": [
        "\n",
        "\n",
        "\n",
        "---\n",
        "\n",
        "\n",
        "---\n",
        "\n"
      ],
      "metadata": {
        "id": "Kfwe7mo3ZL-_"
      }
    },
    {
      "cell_type": "markdown",
      "source": [
        "7. Group the data by 'State' and calculate the total 'Profit' for each state.\n",
        "\n"
      ],
      "metadata": {
        "id": "MkaJtIJipx3D"
      }
    },
    {
      "cell_type": "code",
      "source": [
        "\n",
        "df = pd.DataFrame(data)\n",
        "# Group the data by 'State' and calculate the total 'Profit' for each state\n",
        "state_profit_totals = df.groupby('State')['Profit'].sum().reset_index()\n",
        "print(state_profit_totals)\n",
        "\n",
        "\n",
        "\n",
        "\n",
        "\n",
        "\n",
        "\n",
        "\n"
      ],
      "metadata": {
        "id": "81W9p9_TpzdV",
        "colab": {
          "base_uri": "https://localhost:8080/"
        },
        "outputId": "280dffe3-ac1e-4253-f8a3-d5bbe0e86d75"
      },
      "execution_count": 21,
      "outputs": [
        {
          "output_type": "stream",
          "name": "stdout",
          "text": [
            "        State      Profit\n",
            "0  California  1766387.98\n",
            "1     Florida  1900384.39\n",
            "2    New York  1933859.59\n"
          ]
        }
      ]
    },
    {
      "cell_type": "markdown",
      "source": [
        "\n",
        "\n",
        "\n",
        "---\n",
        "\n",
        "\n",
        "---\n",
        "\n"
      ],
      "metadata": {
        "id": "gOOFuCtSZQdC"
      }
    },
    {
      "cell_type": "markdown",
      "source": [
        "8. Create a bar chart to visualize the total 'Profit' by 'State.'\n",
        "\n"
      ],
      "metadata": {
        "id": "C1pyEEfvpzky"
      }
    },
    {
      "cell_type": "code",
      "source": [
        "df = pd.DataFrame(data)\n",
        "state_profit_totals = df.groupby('State')['Profit'].sum().reset_index()\n",
        "plt.bar(state_profit_totals['State'], state_profit_totals['Profit'])\n",
        "plt.xlabel('State')\n",
        "plt.ylabel('Total Profit')\n",
        "plt.title('Total Profit State-wise')\n",
        "\n",
        "\n",
        "\n",
        "\n",
        "\n",
        "\n",
        "\n",
        "\n",
        "\n",
        "\n"
      ],
      "metadata": {
        "id": "QOJXsbNGp1BD",
        "colab": {
          "base_uri": "https://localhost:8080/",
          "height": 489
        },
        "outputId": "42f28efb-b708-416f-f69e-afac4462e6cd"
      },
      "execution_count": 24,
      "outputs": [
        {
          "output_type": "execute_result",
          "data": {
            "text/plain": [
              "Text(0.5, 1.0, 'Total Profit State-wise')"
            ]
          },
          "metadata": {},
          "execution_count": 24
        },
        {
          "output_type": "display_data",
          "data": {
            "text/plain": [
              "<Figure size 640x480 with 1 Axes>"
            ],
            "image/png": "[encoded data removed]"
          },
          "metadata": {}
        }
      ]
    },
    {
      "cell_type": "markdown",
      "source": [
        "\n",
        "\n",
        "\n",
        "---\n",
        "\n",
        "\n",
        "---\n",
        "\n"
      ],
      "metadata": {
        "id": "c8iB2WASZUhc"
      }
    },
    {
      "cell_type": "markdown",
      "source": [
        "9. Calculate the correlation between 'R&D_Spend' and 'Profit.'\n",
        "\n"
      ],
      "metadata": {
        "id": "zjoIiI8Zp1Lo"
      }
    },
    {
      "cell_type": "code",
      "source": [
        "df = pd.DataFrame(data)\n",
        "correlation_rd_profit = df['R&D Spend'].corr(df['Profit'])\n",
        "print(\"Correlation between 'R&D Spend' and 'Profit':\", correlation_rd_profit)\n",
        "\n",
        "\n",
        "\n",
        "\n",
        "\n",
        "\n",
        "\n"
      ],
      "metadata": {
        "id": "ET03oeaXp21B",
        "colab": {
          "base_uri": "https://localhost:8080/"
        },
        "outputId": "c841abc9-2137-4b58-b3ad-e8f42a040479"
      },
      "execution_count": 25,
      "outputs": [
        {
          "output_type": "stream",
          "name": "stdout",
          "text": [
            "Correlation between 'R&D Spend' and 'Profit': 0.9729004656594832\n"
          ]
        }
      ]
    },
    {
      "cell_type": "markdown",
      "source": [
        "\n",
        "\n",
        "---\n",
        "\n",
        "\n",
        "\n",
        "---\n",
        "\n",
        "\n",
        "\n",
        "---\n",
        "\n"
      ],
      "metadata": {
        "id": "-BoSHhM7ZYGO"
      }
    },
    {
      "cell_type": "markdown",
      "source": [
        "10. Create a new column 'Total_Spend' that represents the sum of 'R&D_Spend,' 'Administration,' and 'Marketing_Spend' for each company.\n",
        "\n"
      ],
      "metadata": {
        "id": "3JPAQM97p28V"
      }
    },
    {
      "cell_type": "code",
      "source": [
        "df = pd.DataFrame(data)\n",
        "df['Total_Spend'] = df['R&D Spend'] + df['Administration'] + df['Marketing Spend']\n",
        "print(df)\n",
        "\n",
        "\n",
        "\n",
        "\n",
        "\n",
        "\n",
        "\n",
        "\n",
        "\n",
        "\n",
        "\n"
      ],
      "metadata": {
        "id": "hnefEKfSp4G4",
        "colab": {
          "base_uri": "https://localhost:8080/"
        },
        "outputId": "542c9bee-f7de-4b01-a700-d1648ba3dcf1"
      },
      "execution_count": 26,
      "outputs": [
        {
          "output_type": "stream",
          "name": "stdout",
          "text": [
            "    R&D Spend  Administration  Marketing Spend       State     Profit  \\\n",
            "0   165349.20       136897.80        471784.10    New York  192261.83   \n",
            "1   162597.70       151377.59        443898.53  California  191792.06   \n",
            "2   153441.51       101145.55        407934.54     Florida  191050.39   \n",
            "3   144372.41       118671.85        383199.62    New York  182901.99   \n",
            "4   142107.34        91391.77        366168.42     Florida  166187.94   \n",
            "5   131876.90        99814.71        362861.36    New York  156991.12   \n",
            "6   134615.46       147198.87        127716.82  California  156122.51   \n",
            "7   130298.13       145530.06        323876.68     Florida  155752.60   \n",
            "8   120542.52       148718.95        311613.29    New York  152211.77   \n",
            "9   123334.88       108679.17        304981.62  California  149759.96   \n",
            "10  101913.08       110594.11        229160.95     Florida  146121.95   \n",
            "11  100671.96        91790.61        249744.55  California  144259.40   \n",
            "12   93863.75       127320.38        249839.44     Florida  141585.52   \n",
            "13   91992.39       135495.07        252664.93  California  134307.35   \n",
            "14  119943.24       156547.42        256512.92     Florida  132602.65   \n",
            "15  114523.61       122616.84        261776.23    New York  129917.04   \n",
            "16   78013.11       121597.55        264346.06  California  126992.93   \n",
            "17   94657.16       145077.58        282574.31    New York  125370.37   \n",
            "18   91749.16       114175.79        294919.57     Florida  124266.90   \n",
            "19   86419.70       153514.11             0.00    New York  122776.86   \n",
            "20   76253.86       113867.30        298664.47  California  118474.03   \n",
            "21   78389.47       153773.43        299737.29    New York  111313.02   \n",
            "22   73994.56       122782.75        303319.26     Florida  110352.25   \n",
            "23   67532.53       105751.03        304768.73     Florida  108733.99   \n",
            "24   77044.01        99281.34        140574.81    New York  108552.04   \n",
            "25   64664.71       139553.16        137962.62  California  107404.34   \n",
            "26   75328.87       144135.98        134050.07     Florida  105733.54   \n",
            "27   72107.60       127864.55        353183.81    New York  105008.31   \n",
            "28   66051.52       182645.56        118148.20     Florida  103282.38   \n",
            "29   65605.48       153032.06        107138.38    New York  101004.64   \n",
            "30   61994.48       115641.28         91131.24     Florida   99937.59   \n",
            "31   61136.38       152701.92         88218.23    New York   97483.56   \n",
            "32   63408.86       129219.61         46085.25  California   97427.84   \n",
            "33   55493.95       103057.49        214634.81     Florida   96778.92   \n",
            "34   46426.07       157693.92        210797.67  California   96712.80   \n",
            "35   46014.02        85047.44        205517.64    New York   96479.51   \n",
            "36   28663.76       127056.21        201126.82     Florida   90708.19   \n",
            "37   44069.95        51283.14        197029.42  California   89949.14   \n",
            "38   20229.59        65947.93        185265.10    New York   81229.06   \n",
            "39   38558.51        82982.09        174999.30  California   81005.76   \n",
            "40   28754.33       118546.05        172795.67  California   78239.91   \n",
            "41   27892.92        84710.77        164470.71     Florida   77798.83   \n",
            "42   23640.93        96189.63        148001.11  California   71498.49   \n",
            "43   15505.73       127382.30         35534.17    New York   69758.98   \n",
            "44   22177.74       154806.14         28334.72  California   65200.33   \n",
            "45    1000.23       124153.04          1903.93    New York   64926.08   \n",
            "46    1315.46       115816.21        297114.46     Florida   49490.75   \n",
            "47       0.00       135426.92             0.00  California   42559.73   \n",
            "48     542.05        51743.15             0.00    New York   35673.41   \n",
            "49       0.00       116983.80         45173.06  California   14681.40   \n",
            "\n",
            "    Total_Spend  \n",
            "0     774031.10  \n",
            "1     757873.82  \n",
            "2     662521.60  \n",
            "3     646243.88  \n",
            "4     599667.53  \n",
            "5     594552.97  \n",
            "6     409531.15  \n",
            "7     599704.87  \n",
            "8     580874.76  \n",
            "9     536995.67  \n",
            "10    441668.14  \n",
            "11    442207.12  \n",
            "12    471023.57  \n",
            "13    480152.39  \n",
            "14    533003.58  \n",
            "15    498916.68  \n",
            "16    463956.72  \n",
            "17    522309.05  \n",
            "18    500844.52  \n",
            "19    239933.81  \n",
            "20    488785.63  \n",
            "21    531900.19  \n",
            "22    500096.57  \n",
            "23    478052.29  \n",
            "24    316900.16  \n",
            "25    342180.49  \n",
            "26    353514.92  \n",
            "27    553155.96  \n",
            "28    366845.28  \n",
            "29    325775.92  \n",
            "30    268767.00  \n",
            "31    302056.53  \n",
            "32    238713.72  \n",
            "33    373186.25  \n",
            "34    414917.66  \n",
            "35    336579.10  \n",
            "36    356846.79  \n",
            "37    292382.51  \n",
            "38    271442.62  \n",
            "39    296539.90  \n",
            "40    320096.05  \n",
            "41    277074.40  \n",
            "42    267831.67  \n",
            "43    178422.20  \n",
            "44    205318.60  \n",
            "45    127057.20  \n",
            "46    414246.13  \n",
            "47    135426.92  \n",
            "48     52285.20  \n",
            "49    162156.86  \n"
          ]
        }
      ]
    },
    {
      "cell_type": "markdown",
      "source": [
        "11. Calculate the average **R&D_Spend**, **Administration**, and **Marketing_Spend** for companies located in each **State**\n",
        "\n"
      ],
      "metadata": {
        "id": "VpXSCEKfp4Nk"
      }
    },
    {
      "cell_type": "code",
      "source": [
        "df = pd.DataFrame(data)\n",
        "average_spend_by_state = df.groupby('State')[['R&D Spend', 'Administration', 'Marketing Spend']].mean().reset_index()\n",
        "# print average\n",
        "print(average_spend_by_state)\n",
        "\n",
        "\n",
        "\n",
        "\n",
        "\n",
        "\n",
        "\n",
        "\n"
      ],
      "metadata": {
        "id": "V6jGd293p5YB",
        "colab": {
          "base_uri": "https://localhost:8080/"
        },
        "outputId": "3046b843-aeec-4635-fe0b-9a5f7cd92793"
      },
      "execution_count": 27,
      "outputs": [
        {
          "output_type": "stream",
          "name": "stdout",
          "text": [
            "        State     R&D Spend  Administration  Marketing Spend\n",
            "0  California  64657.674118   120746.507059    182540.929412\n",
            "1     Florida  80724.016250   121768.897500    247323.551250\n",
            "2    New York  76195.062353   121543.470588    205346.015882\n"
          ]
        }
      ]
    },
    {
      "cell_type": "markdown",
      "source": [
        "\n",
        "\n",
        "---\n",
        "\n",
        "\n",
        "\n",
        "---\n",
        "\n"
      ],
      "metadata": {
        "id": "uTCt-sVLZnmu"
      }
    },
    {
      "cell_type": "markdown",
      "source": [
        "12. Create a histogram to visualize the distribution of 'Profit.'\n",
        "\n"
      ],
      "metadata": {
        "id": "P4jllTczp5e0"
      }
    },
    {
      "cell_type": "code",
      "source": [
        "df = pd.DataFrame(data)\n",
        "plt.hist(df['Profit'], bins=10, color='blue', edgecolor='black')\n",
        "plt.xlabel('Profit')\n",
        "plt.ylabel('Frequency')\n",
        "plt.title('Distribution of Profit')\n",
        "plt.show()\n",
        "\n",
        "\n",
        "\n",
        "\n",
        "\n",
        "\n",
        "\n",
        "\n",
        "\n",
        "\n"
      ],
      "metadata": {
        "id": "dLfUYGi3p624",
        "colab": {
          "base_uri": "https://localhost:8080/",
          "height": 472
        },
        "outputId": "8001ca06-804a-45fb-ecc7-cc109d3293f4"
      },
      "execution_count": 28,
      "outputs": [
        {
          "output_type": "display_data",
          "data": {
            "text/plain": [
              "<Figure size 640x480 with 1 Axes>"
            ],
            "image/png": "[encoded data removed]"
          },
          "metadata": {}
        }
      ]
    },
    {
      "cell_type": "markdown",
      "source": [
        "\n",
        "\n",
        "---\n",
        "\n",
        "\n",
        "\n",
        "---\n",
        "\n"
      ],
      "metadata": {
        "id": "fSEJtTNKZuvL"
      }
    },
    {
      "cell_type": "markdown",
      "source": [
        "13. Filter the dataset to include only companies with 'R&D_Spend' greater than a 12000.\n",
        "\n"
      ],
      "metadata": {
        "id": "3Aw_Q7d-p69y"
      }
    },
    {
      "cell_type": "code",
      "source": [
        "df = pd.DataFrame(data)\n",
        "filtered_df = df[df['R&D Spend'] > 12000]\n",
        "print(filtered_df)\n",
        "\n",
        "\n",
        "\n",
        "\n",
        "\n",
        "\n",
        "\n",
        "\n",
        "\n",
        "\n",
        "\n"
      ],
      "metadata": {
        "id": "6UzkLN1sp8pT",
        "colab": {
          "base_uri": "https://localhost:8080/"
        },
        "outputId": "24cc87b7-b379-40e0-d56f-659ef4153a27"
      },
      "execution_count": 29,
      "outputs": [
        {
          "output_type": "stream",
          "name": "stdout",
          "text": [
            "    R&D Spend  Administration  Marketing Spend       State     Profit  \\\n",
            "0   165349.20       136897.80        471784.10    New York  192261.83   \n",
            "1   162597.70       151377.59        443898.53  California  191792.06   \n",
            "2   153441.51       101145.55        407934.54     Florida  191050.39   \n",
            "3   144372.41       118671.85        383199.62    New York  182901.99   \n",
            "4   142107.34        91391.77        366168.42     Florida  166187.94   \n",
            "5   131876.90        99814.71        362861.36    New York  156991.12   \n",
            "6   134615.46       147198.87        127716.82  California  156122.51   \n",
            "7   130298.13       145530.06        323876.68     Florida  155752.60   \n",
            "8   120542.52       148718.95        311613.29    New York  152211.77   \n",
            "9   123334.88       108679.17        304981.62  California  149759.96   \n",
            "10  101913.08       110594.11        229160.95     Florida  146121.95   \n",
            "11  100671.96        91790.61        249744.55  California  144259.40   \n",
            "12   93863.75       127320.38        249839.44     Florida  141585.52   \n",
            "13   91992.39       135495.07        252664.93  California  134307.35   \n",
            "14  119943.24       156547.42        256512.92     Florida  132602.65   \n",
            "15  114523.61       122616.84        261776.23    New York  129917.04   \n",
            "16   78013.11       121597.55        264346.06  California  126992.93   \n",
            "17   94657.16       145077.58        282574.31    New York  125370.37   \n",
            "18   91749.16       114175.79        294919.57     Florida  124266.90   \n",
            "19   86419.70       153514.11             0.00    New York  122776.86   \n",
            "20   76253.86       113867.30        298664.47  California  118474.03   \n",
            "21   78389.47       153773.43        299737.29    New York  111313.02   \n",
            "22   73994.56       122782.75        303319.26     Florida  110352.25   \n",
            "23   67532.53       105751.03        304768.73     Florida  108733.99   \n",
            "24   77044.01        99281.34        140574.81    New York  108552.04   \n",
            "25   64664.71       139553.16        137962.62  California  107404.34   \n",
            "26   75328.87       144135.98        134050.07     Florida  105733.54   \n",
            "27   72107.60       127864.55        353183.81    New York  105008.31   \n",
            "28   66051.52       182645.56        118148.20     Florida  103282.38   \n",
            "29   65605.48       153032.06        107138.38    New York  101004.64   \n",
            "30   61994.48       115641.28         91131.24     Florida   99937.59   \n",
            "31   61136.38       152701.92         88218.23    New York   97483.56   \n",
            "32   63408.86       129219.61         46085.25  California   97427.84   \n",
            "33   55493.95       103057.49        214634.81     Florida   96778.92   \n",
            "34   46426.07       157693.92        210797.67  California   96712.80   \n",
            "35   46014.02        85047.44        205517.64    New York   96479.51   \n",
            "36   28663.76       127056.21        201126.82     Florida   90708.19   \n",
            "37   44069.95        51283.14        197029.42  California   89949.14   \n",
            "38   20229.59        65947.93        185265.10    New York   81229.06   \n",
            "39   38558.51        82982.09        174999.30  California   81005.76   \n",
            "40   28754.33       118546.05        172795.67  California   78239.91   \n",
            "41   27892.92        84710.77        164470.71     Florida   77798.83   \n",
            "42   23640.93        96189.63        148001.11  California   71498.49   \n",
            "43   15505.73       127382.30         35534.17    New York   69758.98   \n",
            "44   22177.74       154806.14         28334.72  California   65200.33   \n",
            "\n",
            "    Total_Spend  \n",
            "0     774031.10  \n",
            "1     757873.82  \n",
            "2     662521.60  \n",
            "3     646243.88  \n",
            "4     599667.53  \n",
            "5     594552.97  \n",
            "6     409531.15  \n",
            "7     599704.87  \n",
            "8     580874.76  \n",
            "9     536995.67  \n",
            "10    441668.14  \n",
            "11    442207.12  \n",
            "12    471023.57  \n",
            "13    480152.39  \n",
            "14    533003.58  \n",
            "15    498916.68  \n",
            "16    463956.72  \n",
            "17    522309.05  \n",
            "18    500844.52  \n",
            "19    239933.81  \n",
            "20    488785.63  \n",
            "21    531900.19  \n",
            "22    500096.57  \n",
            "23    478052.29  \n",
            "24    316900.16  \n",
            "25    342180.49  \n",
            "26    353514.92  \n",
            "27    553155.96  \n",
            "28    366845.28  \n",
            "29    325775.92  \n",
            "30    268767.00  \n",
            "31    302056.53  \n",
            "32    238713.72  \n",
            "33    373186.25  \n",
            "34    414917.66  \n",
            "35    336579.10  \n",
            "36    356846.79  \n",
            "37    292382.51  \n",
            "38    271442.62  \n",
            "39    296539.90  \n",
            "40    320096.05  \n",
            "41    277074.40  \n",
            "42    267831.67  \n",
            "43    178422.20  \n",
            "44    205318.60  \n"
          ]
        }
      ]
    },
    {
      "cell_type": "markdown",
      "source": [
        "\n",
        "\n",
        "---\n",
        "\n",
        "\n",
        "\n",
        "---\n",
        "\n"
      ],
      "metadata": {
        "id": "zmqijtAqZxg0"
      }
    },
    {
      "cell_type": "markdown",
      "source": [
        "14. Calculate the total 'Profit' for companies with 'Marketing_Spend' above a certain threshold.\n",
        "\n"
      ],
      "metadata": {
        "id": "IFCNM-Wup9_k"
      }
    },
    {
      "cell_type": "code",
      "source": [
        "df = pd.DataFrame(data)\n",
        "marketing_threshold = 400000\n",
        "filtered_df = df[df['Marketing Spend'] > marketing_threshold]\n",
        "total_profit_above_threshold = filtered_df['Profit'].sum()\n",
        "print(\"Total Profit for companies with Marketing Spend above\", marketing_threshold, \":\", total_profit_above_threshold)\n",
        "\n",
        "\n",
        "\n",
        "\n",
        "\n",
        "\n",
        "\n",
        "\n",
        "\n",
        "\n",
        "\n"
      ],
      "metadata": {
        "id": "WrbrU4KTp_pG",
        "colab": {
          "base_uri": "https://localhost:8080/"
        },
        "outputId": "6d752e60-a03b-456d-c6e6-4240d30e521a"
      },
      "execution_count": 30,
      "outputs": [
        {
          "output_type": "stream",
          "name": "stdout",
          "text": [
            "Total Profit for companies with Marketing Spend above 400000 : 575104.28\n"
          ]
        }
      ]
    },
    {
      "cell_type": "markdown",
      "source": [
        "15. Replace any missing values in the 'Marketing_Spend' column with the mean spending of the dataset.\n",
        "\n"
      ],
      "metadata": {
        "id": "5f3AzWxWp_11"
      }
    },
    {
      "cell_type": "code",
      "source": [
        "df = pd.DataFrame(data)\n",
        "# Calculate the mean of 'Marketing Spend' excluding missing values\n",
        "mean_marketing_spend = df['Marketing Spend'].mean()\n",
        "df['Marketing Spend'].fillna(mean_marketing_spend, inplace=True)# Replace missing values with the mean spending\n",
        "print(df)\n",
        "\n",
        "\n",
        "\n",
        "\n",
        "\n",
        "\n",
        "\n",
        "\n",
        "\n",
        "\n",
        "\n"
      ],
      "metadata": {
        "id": "7irTxP7pqBMZ",
        "colab": {
          "base_uri": "https://localhost:8080/"
        },
        "outputId": "e51a0240-3002-4468-d07e-69e1c6f6324c"
      },
      "execution_count": 31,
      "outputs": [
        {
          "output_type": "stream",
          "name": "stdout",
          "text": [
            "    R&D Spend  Administration  Marketing Spend       State     Profit  \\\n",
            "0   165349.20       136897.80        471784.10    New York  192261.83   \n",
            "1   162597.70       151377.59        443898.53  California  191792.06   \n",
            "2   153441.51       101145.55        407934.54     Florida  191050.39   \n",
            "3   144372.41       118671.85        383199.62    New York  182901.99   \n",
            "4   142107.34        91391.77        366168.42     Florida  166187.94   \n",
            "5   131876.90        99814.71        362861.36    New York  156991.12   \n",
            "6   134615.46       147198.87        127716.82  California  156122.51   \n",
            "7   130298.13       145530.06        323876.68     Florida  155752.60   \n",
            "8   120542.52       148718.95        311613.29    New York  152211.77   \n",
            "9   123334.88       108679.17        304981.62  California  149759.96   \n",
            "10  101913.08       110594.11        229160.95     Florida  146121.95   \n",
            "11  100671.96        91790.61        249744.55  California  144259.40   \n",
            "12   93863.75       127320.38        249839.44     Florida  141585.52   \n",
            "13   91992.39       135495.07        252664.93  California  134307.35   \n",
            "14  119943.24       156547.42        256512.92     Florida  132602.65   \n",
            "15  114523.61       122616.84        261776.23    New York  129917.04   \n",
            "16   78013.11       121597.55        264346.06  California  126992.93   \n",
            "17   94657.16       145077.58        282574.31    New York  125370.37   \n",
            "18   91749.16       114175.79        294919.57     Florida  124266.90   \n",
            "19   86419.70       153514.11             0.00    New York  122776.86   \n",
            "20   76253.86       113867.30        298664.47  California  118474.03   \n",
            "21   78389.47       153773.43        299737.29    New York  111313.02   \n",
            "22   73994.56       122782.75        303319.26     Florida  110352.25   \n",
            "23   67532.53       105751.03        304768.73     Florida  108733.99   \n",
            "24   77044.01        99281.34        140574.81    New York  108552.04   \n",
            "25   64664.71       139553.16        137962.62  California  107404.34   \n",
            "26   75328.87       144135.98        134050.07     Florida  105733.54   \n",
            "27   72107.60       127864.55        353183.81    New York  105008.31   \n",
            "28   66051.52       182645.56        118148.20     Florida  103282.38   \n",
            "29   65605.48       153032.06        107138.38    New York  101004.64   \n",
            "30   61994.48       115641.28         91131.24     Florida   99937.59   \n",
            "31   61136.38       152701.92         88218.23    New York   97483.56   \n",
            "32   63408.86       129219.61         46085.25  California   97427.84   \n",
            "33   55493.95       103057.49        214634.81     Florida   96778.92   \n",
            "34   46426.07       157693.92        210797.67  California   96712.80   \n",
            "35   46014.02        85047.44        205517.64    New York   96479.51   \n",
            "36   28663.76       127056.21        201126.82     Florida   90708.19   \n",
            "37   44069.95        51283.14        197029.42  California   89949.14   \n",
            "38   20229.59        65947.93        185265.10    New York   81229.06   \n",
            "39   38558.51        82982.09        174999.30  California   81005.76   \n",
            "40   28754.33       118546.05        172795.67  California   78239.91   \n",
            "41   27892.92        84710.77        164470.71     Florida   77798.83   \n",
            "42   23640.93        96189.63        148001.11  California   71498.49   \n",
            "43   15505.73       127382.30         35534.17    New York   69758.98   \n",
            "44   22177.74       154806.14         28334.72  California   65200.33   \n",
            "45    1000.23       124153.04          1903.93    New York   64926.08   \n",
            "46    1315.46       115816.21        297114.46     Florida   49490.75   \n",
            "47       0.00       135426.92             0.00  California   42559.73   \n",
            "48     542.05        51743.15             0.00    New York   35673.41   \n",
            "49       0.00       116983.80         45173.06  California   14681.40   \n",
            "\n",
            "    Total_Spend  \n",
            "0     774031.10  \n",
            "1     757873.82  \n",
            "2     662521.60  \n",
            "3     646243.88  \n",
            "4     599667.53  \n",
            "5     594552.97  \n",
            "6     409531.15  \n",
            "7     599704.87  \n",
            "8     580874.76  \n",
            "9     536995.67  \n",
            "10    441668.14  \n",
            "11    442207.12  \n",
            "12    471023.57  \n",
            "13    480152.39  \n",
            "14    533003.58  \n",
            "15    498916.68  \n",
            "16    463956.72  \n",
            "17    522309.05  \n",
            "18    500844.52  \n",
            "19    239933.81  \n",
            "20    488785.63  \n",
            "21    531900.19  \n",
            "22    500096.57  \n",
            "23    478052.29  \n",
            "24    316900.16  \n",
            "25    342180.49  \n",
            "26    353514.92  \n",
            "27    553155.96  \n",
            "28    366845.28  \n",
            "29    325775.92  \n",
            "30    268767.00  \n",
            "31    302056.53  \n",
            "32    238713.72  \n",
            "33    373186.25  \n",
            "34    414917.66  \n",
            "35    336579.10  \n",
            "36    356846.79  \n",
            "37    292382.51  \n",
            "38    271442.62  \n",
            "39    296539.90  \n",
            "40    320096.05  \n",
            "41    277074.40  \n",
            "42    267831.67  \n",
            "43    178422.20  \n",
            "44    205318.60  \n",
            "45    127057.20  \n",
            "46    414246.13  \n",
            "47    135426.92  \n",
            "48     52285.20  \n",
            "49    162156.86  \n"
          ]
        }
      ]
    },
    {
      "cell_type": "markdown",
      "source": [
        "\n",
        "\n",
        "\n",
        "---\n",
        "\n",
        "\n",
        "---\n",
        "\n"
      ],
      "metadata": {
        "id": "gSL3LtfTZ8yu"
      }
    },
    {
      "cell_type": "markdown",
      "source": [
        "16. Create a new column 'Profit_Margin' that represents the profit margin for each company (Profit / Total_Spend).\n",
        "\n"
      ],
      "metadata": {
        "id": "hDzBUjHsqBTS"
      }
    },
    {
      "cell_type": "code",
      "source": [
        "df = pd.DataFrame(data)\n",
        "\n",
        "# Create a new column 'Total_Spend' by summing 'R&D Spend,' 'Administration,' and 'Marketing Spend'\n",
        "df['Total_Spend'] = df['R&D Spend'] + df['Administration'] + df['Marketing Spend']\n",
        "\n",
        "# Create a new column 'Profit_Margin' by calculating the profit margin (Profit / Total_Spend)\n",
        "df['Profit_Margin'] = df['Profit'] / df['Total_Spend']\n",
        "\n",
        "# Display the DataFrame with the new 'Profit_Margin' column\n",
        "print(df)\n",
        "\n",
        "\n",
        "\n",
        "\n",
        "\n",
        "\n",
        "\n",
        "\n",
        "\n",
        "\n",
        "\n",
        "\n",
        "\n",
        "\n"
      ],
      "metadata": {
        "id": "hjLIAfJvqCgV",
        "colab": {
          "base_uri": "https://localhost:8080/"
        },
        "outputId": "8745c91e-ac86-4e36-c44c-14d6c46a71e8"
      },
      "execution_count": 32,
      "outputs": [
        {
          "output_type": "stream",
          "name": "stdout",
          "text": [
            "    R&D Spend  Administration  Marketing Spend       State     Profit  \\\n",
            "0   165349.20       136897.80        471784.10    New York  192261.83   \n",
            "1   162597.70       151377.59        443898.53  California  191792.06   \n",
            "2   153441.51       101145.55        407934.54     Florida  191050.39   \n",
            "3   144372.41       118671.85        383199.62    New York  182901.99   \n",
            "4   142107.34        91391.77        366168.42     Florida  166187.94   \n",
            "5   131876.90        99814.71        362861.36    New York  156991.12   \n",
            "6   134615.46       147198.87        127716.82  California  156122.51   \n",
            "7   130298.13       145530.06        323876.68     Florida  155752.60   \n",
            "8   120542.52       148718.95        311613.29    New York  152211.77   \n",
            "9   123334.88       108679.17        304981.62  California  149759.96   \n",
            "10  101913.08       110594.11        229160.95     Florida  146121.95   \n",
            "11  100671.96        91790.61        249744.55  California  144259.40   \n",
            "12   93863.75       127320.38        249839.44     Florida  141585.52   \n",
            "13   91992.39       135495.07        252664.93  California  134307.35   \n",
            "14  119943.24       156547.42        256512.92     Florida  132602.65   \n",
            "15  114523.61       122616.84        261776.23    New York  129917.04   \n",
            "16   78013.11       121597.55        264346.06  California  126992.93   \n",
            "17   94657.16       145077.58        282574.31    New York  125370.37   \n",
            "18   91749.16       114175.79        294919.57     Florida  124266.90   \n",
            "19   86419.70       153514.11             0.00    New York  122776.86   \n",
            "20   76253.86       113867.30        298664.47  California  118474.03   \n",
            "21   78389.47       153773.43        299737.29    New York  111313.02   \n",
            "22   73994.56       122782.75        303319.26     Florida  110352.25   \n",
            "23   67532.53       105751.03        304768.73     Florida  108733.99   \n",
            "24   77044.01        99281.34        140574.81    New York  108552.04   \n",
            "25   64664.71       139553.16        137962.62  California  107404.34   \n",
            "26   75328.87       144135.98        134050.07     Florida  105733.54   \n",
            "27   72107.60       127864.55        353183.81    New York  105008.31   \n",
            "28   66051.52       182645.56        118148.20     Florida  103282.38   \n",
            "29   65605.48       153032.06        107138.38    New York  101004.64   \n",
            "30   61994.48       115641.28         91131.24     Florida   99937.59   \n",
            "31   61136.38       152701.92         88218.23    New York   97483.56   \n",
            "32   63408.86       129219.61         46085.25  California   97427.84   \n",
            "33   55493.95       103057.49        214634.81     Florida   96778.92   \n",
            "34   46426.07       157693.92        210797.67  California   96712.80   \n",
            "35   46014.02        85047.44        205517.64    New York   96479.51   \n",
            "36   28663.76       127056.21        201126.82     Florida   90708.19   \n",
            "37   44069.95        51283.14        197029.42  California   89949.14   \n",
            "38   20229.59        65947.93        185265.10    New York   81229.06   \n",
            "39   38558.51        82982.09        174999.30  California   81005.76   \n",
            "40   28754.33       118546.05        172795.67  California   78239.91   \n",
            "41   27892.92        84710.77        164470.71     Florida   77798.83   \n",
            "42   23640.93        96189.63        148001.11  California   71498.49   \n",
            "43   15505.73       127382.30         35534.17    New York   69758.98   \n",
            "44   22177.74       154806.14         28334.72  California   65200.33   \n",
            "45    1000.23       124153.04          1903.93    New York   64926.08   \n",
            "46    1315.46       115816.21        297114.46     Florida   49490.75   \n",
            "47       0.00       135426.92             0.00  California   42559.73   \n",
            "48     542.05        51743.15             0.00    New York   35673.41   \n",
            "49       0.00       116983.80         45173.06  California   14681.40   \n",
            "\n",
            "    Total_Spend  Profit_Margin  \n",
            "0     774031.10       0.248390  \n",
            "1     757873.82       0.253066  \n",
            "2     662521.60       0.288369  \n",
            "3     646243.88       0.283023  \n",
            "4     599667.53       0.277133  \n",
            "5     594552.97       0.264049  \n",
            "6     409531.15       0.381223  \n",
            "7     599704.87       0.259715  \n",
            "8     580874.76       0.262039  \n",
            "9     536995.67       0.278885  \n",
            "10    441668.14       0.330841  \n",
            "11    442207.12       0.326226  \n",
            "12    471023.57       0.300591  \n",
            "13    480152.39       0.279718  \n",
            "14    533003.58       0.248784  \n",
            "15    498916.68       0.260398  \n",
            "16    463956.72       0.273717  \n",
            "17    522309.05       0.240031  \n",
            "18    500844.52       0.248115  \n",
            "19    239933.81       0.511711  \n",
            "20    488785.63       0.242384  \n",
            "21    531900.19       0.209274  \n",
            "22    500096.57       0.220662  \n",
            "23    478052.29       0.227452  \n",
            "24    316900.16       0.342543  \n",
            "25    342180.49       0.313882  \n",
            "26    353514.92       0.299092  \n",
            "27    553155.96       0.189835  \n",
            "28    366845.28       0.281542  \n",
            "29    325775.92       0.310043  \n",
            "30    268767.00       0.371837  \n",
            "31    302056.53       0.322733  \n",
            "32    238713.72       0.408137  \n",
            "33    373186.25       0.259331  \n",
            "34    414917.66       0.233089  \n",
            "35    336579.10       0.286647  \n",
            "36    356846.79       0.254194  \n",
            "37    292382.51       0.307642  \n",
            "38    271442.62       0.299249  \n",
            "39    296539.90       0.273170  \n",
            "40    320096.05       0.244426  \n",
            "41    277074.40       0.280787  \n",
            "42    267831.67       0.266953  \n",
            "43    178422.20       0.390977  \n",
            "44    205318.60       0.317557  \n",
            "45    127057.20       0.510999  \n",
            "46    414246.13       0.119472  \n",
            "47    135426.92       0.314263  \n",
            "48     52285.20       0.682285  \n",
            "49    162156.86       0.090538  \n"
          ]
        }
      ]
    },
    {
      "cell_type": "markdown",
      "source": [
        "\n",
        "\n",
        "---\n",
        "\n",
        "\n",
        "\n",
        "---\n",
        "\n",
        "\n",
        "\n",
        "---\n",
        "\n"
      ],
      "metadata": {
        "id": "1oYfihHQaNdp"
      }
    },
    {
      "cell_type": "markdown",
      "source": [
        "17. Sort the dataset by 'Profit_Margin' in descending order.\n",
        "\n"
      ],
      "metadata": {
        "id": "EKSiuWOTqCnA"
      }
    },
    {
      "cell_type": "code",
      "source": [
        "df = pd.DataFrame(data)\n",
        "df['Total_Spend'] = df['R&D Spend'] + df['Administration'] + df['Marketing Spend']\n",
        "df['Profit_Margin'] = df['Profit'] / df['Total_Spend']\n",
        "sorted_df = df.sort_values(by='Profit_Margin', ascending=False)\n",
        "print(sorted_df)\n",
        "\n",
        "\n",
        "\n",
        "\n",
        "\n",
        "\n",
        "\n",
        "\n",
        "\n",
        "\n"
      ],
      "metadata": {
        "id": "b0nz2-qtqDsy",
        "colab": {
          "base_uri": "https://localhost:8080/"
        },
        "outputId": "6cdcdf54-1e59-412a-fa6a-ce85924dc902"
      },
      "execution_count": 33,
      "outputs": [
        {
          "output_type": "stream",
          "name": "stdout",
          "text": [
            "    R&D Spend  Administration  Marketing Spend       State     Profit  \\\n",
            "48     542.05        51743.15             0.00    New York   35673.41   \n",
            "19   86419.70       153514.11             0.00    New York  122776.86   \n",
            "45    1000.23       124153.04          1903.93    New York   64926.08   \n",
            "32   63408.86       129219.61         46085.25  California   97427.84   \n",
            "43   15505.73       127382.30         35534.17    New York   69758.98   \n",
            "6   134615.46       147198.87        127716.82  California  156122.51   \n",
            "30   61994.48       115641.28         91131.24     Florida   99937.59   \n",
            "24   77044.01        99281.34        140574.81    New York  108552.04   \n",
            "10  101913.08       110594.11        229160.95     Florida  146121.95   \n",
            "11  100671.96        91790.61        249744.55  California  144259.40   \n",
            "31   61136.38       152701.92         88218.23    New York   97483.56   \n",
            "44   22177.74       154806.14         28334.72  California   65200.33   \n",
            "47       0.00       135426.92             0.00  California   42559.73   \n",
            "25   64664.71       139553.16        137962.62  California  107404.34   \n",
            "29   65605.48       153032.06        107138.38    New York  101004.64   \n",
            "37   44069.95        51283.14        197029.42  California   89949.14   \n",
            "12   93863.75       127320.38        249839.44     Florida  141585.52   \n",
            "38   20229.59        65947.93        185265.10    New York   81229.06   \n",
            "26   75328.87       144135.98        134050.07     Florida  105733.54   \n",
            "2   153441.51       101145.55        407934.54     Florida  191050.39   \n",
            "35   46014.02        85047.44        205517.64    New York   96479.51   \n",
            "3   144372.41       118671.85        383199.62    New York  182901.99   \n",
            "28   66051.52       182645.56        118148.20     Florida  103282.38   \n",
            "41   27892.92        84710.77        164470.71     Florida   77798.83   \n",
            "13   91992.39       135495.07        252664.93  California  134307.35   \n",
            "9   123334.88       108679.17        304981.62  California  149759.96   \n",
            "4   142107.34        91391.77        366168.42     Florida  166187.94   \n",
            "16   78013.11       121597.55        264346.06  California  126992.93   \n",
            "39   38558.51        82982.09        174999.30  California   81005.76   \n",
            "42   23640.93        96189.63        148001.11  California   71498.49   \n",
            "5   131876.90        99814.71        362861.36    New York  156991.12   \n",
            "8   120542.52       148718.95        311613.29    New York  152211.77   \n",
            "15  114523.61       122616.84        261776.23    New York  129917.04   \n",
            "7   130298.13       145530.06        323876.68     Florida  155752.60   \n",
            "33   55493.95       103057.49        214634.81     Florida   96778.92   \n",
            "36   28663.76       127056.21        201126.82     Florida   90708.19   \n",
            "1   162597.70       151377.59        443898.53  California  191792.06   \n",
            "14  119943.24       156547.42        256512.92     Florida  132602.65   \n",
            "0   165349.20       136897.80        471784.10    New York  192261.83   \n",
            "18   91749.16       114175.79        294919.57     Florida  124266.90   \n",
            "40   28754.33       118546.05        172795.67  California   78239.91   \n",
            "20   76253.86       113867.30        298664.47  California  118474.03   \n",
            "17   94657.16       145077.58        282574.31    New York  125370.37   \n",
            "34   46426.07       157693.92        210797.67  California   96712.80   \n",
            "23   67532.53       105751.03        304768.73     Florida  108733.99   \n",
            "22   73994.56       122782.75        303319.26     Florida  110352.25   \n",
            "21   78389.47       153773.43        299737.29    New York  111313.02   \n",
            "27   72107.60       127864.55        353183.81    New York  105008.31   \n",
            "46    1315.46       115816.21        297114.46     Florida   49490.75   \n",
            "49       0.00       116983.80         45173.06  California   14681.40   \n",
            "\n",
            "    Total_Spend  Profit_Margin  \n",
            "48     52285.20       0.682285  \n",
            "19    239933.81       0.511711  \n",
            "45    127057.20       0.510999  \n",
            "32    238713.72       0.408137  \n",
            "43    178422.20       0.390977  \n",
            "6     409531.15       0.381223  \n",
            "30    268767.00       0.371837  \n",
            "24    316900.16       0.342543  \n",
            "10    441668.14       0.330841  \n",
            "11    442207.12       0.326226  \n",
            "31    302056.53       0.322733  \n",
            "44    205318.60       0.317557  \n",
            "47    135426.92       0.314263  \n",
            "25    342180.49       0.313882  \n",
            "29    325775.92       0.310043  \n",
            "37    292382.51       0.307642  \n",
            "12    471023.57       0.300591  \n",
            "38    271442.62       0.299249  \n",
            "26    353514.92       0.299092  \n",
            "2     662521.60       0.288369  \n",
            "35    336579.10       0.286647  \n",
            "3     646243.88       0.283023  \n",
            "28    366845.28       0.281542  \n",
            "41    277074.40       0.280787  \n",
            "13    480152.39       0.279718  \n",
            "9     536995.67       0.278885  \n",
            "4     599667.53       0.277133  \n",
            "16    463956.72       0.273717  \n",
            "39    296539.90       0.273170  \n",
            "42    267831.67       0.266953  \n",
            "5     594552.97       0.264049  \n",
            "8     580874.76       0.262039  \n",
            "15    498916.68       0.260398  \n",
            "7     599704.87       0.259715  \n",
            "33    373186.25       0.259331  \n",
            "36    356846.79       0.254194  \n",
            "1     757873.82       0.253066  \n",
            "14    533003.58       0.248784  \n",
            "0     774031.10       0.248390  \n",
            "18    500844.52       0.248115  \n",
            "40    320096.05       0.244426  \n",
            "20    488785.63       0.242384  \n",
            "17    522309.05       0.240031  \n",
            "34    414917.66       0.233089  \n",
            "23    478052.29       0.227452  \n",
            "22    500096.57       0.220662  \n",
            "21    531900.19       0.209274  \n",
            "27    553155.96       0.189835  \n",
            "46    414246.13       0.119472  \n",
            "49    162156.86       0.090538  \n"
          ]
        }
      ]
    },
    {
      "cell_type": "markdown",
      "source": [
        "\n",
        "\n",
        "---\n",
        "\n",
        "\n",
        "\n",
        "---\n",
        "\n"
      ],
      "metadata": {
        "id": "-gtiy2C4aDiN"
      }
    },
    {
      "cell_type": "markdown",
      "source": [
        "18. Calculate the average profit margin for companies in each 'State' and create a bar chart to display it.\n",
        "\n"
      ],
      "metadata": {
        "id": "v3GOIPhOqD0Z"
      }
    },
    {
      "cell_type": "code",
      "source": [
        "\n",
        "# Create a new column 'Total_Spend' by summing 'R&D Spend,' 'Administration,' and 'Marketing Spend'\n",
        "df['Total_Spend'] = df['R&D Spend'] + df['Administration'] + df['Marketing Spend']\n",
        "\n",
        "# Create a new column 'Profit_Margin' by calculating the profit margin (Profit / Total_Spend)\n",
        "df['Profit_Margin'] = df['Profit'] / df['Total_Spend']\n",
        "\n",
        "# Calculate the average profit margin for companies in each 'State'\n",
        "average_margin_by_state = df.groupby('State')['Profit_Margin'].mean().reset_index()\n",
        "\n",
        "# Create a bar chart\n",
        "plt.bar(average_margin_by_state['State'], average_margin_by_state['Profit_Margin'])\n",
        "\n",
        "# Add labels and title\n",
        "plt.xlabel('State')\n",
        "plt.ylabel('Average Profit Margin')\n",
        "plt.title('Average Profit Margin by State')\n",
        "\n",
        "# Show the plot\n",
        "plt.show()\n",
        "\n",
        "\n",
        "\n",
        "\n",
        "\n",
        "\n",
        "\n",
        "\n",
        "\n",
        "\n",
        "\n",
        "\n"
      ],
      "metadata": {
        "id": "5GS-cxTbqFe5",
        "colab": {
          "base_uri": "https://localhost:8080/",
          "height": 472
        },
        "outputId": "3ede7788-60a3-495f-f8af-cd721514b907"
      },
      "execution_count": 34,
      "outputs": [
        {
          "output_type": "display_data",
          "data": {
            "text/plain": [
              "<Figure size 640x480 with 1 Axes>"
            ],
            "image/png": "[encoded data removed]"
          },
          "metadata": {}
        }
      ]
    },
    {
      "cell_type": "markdown",
      "source": [
        "\n",
        "\n",
        "---\n",
        "\n",
        "\n",
        "\n",
        "---\n",
        "\n",
        "\n",
        "\n",
        "---\n",
        "\n"
      ],
      "metadata": {
        "id": "Gc2rlCHcaHh5"
      }
    },
    {
      "cell_type": "markdown",
      "source": [
        "19. Find the maximum 'R&D_Spend' in each **State**.\n",
        "\n"
      ],
      "metadata": {
        "id": "o5JA0X1_qFm6"
      }
    },
    {
      "cell_type": "code",
      "source": [
        "df = pd.DataFrame(data)\n",
        "max_rd_spend_by_state = df.groupby('State')['R&D Spend'].max().reset_index()\n",
        "print(max_rd_spend_by_state)\n",
        "\n",
        "\n",
        "\n",
        "\n",
        "\n",
        "\n",
        "\n",
        "\n",
        "\n",
        "\n",
        "\n",
        "\n",
        "\n"
      ],
      "metadata": {
        "id": "uL3LImrEqGqi",
        "colab": {
          "base_uri": "https://localhost:8080/"
        },
        "outputId": "37d31ca0-1c01-4ad3-adba-0cdf6dc7c575"
      },
      "execution_count": 35,
      "outputs": [
        {
          "output_type": "stream",
          "name": "stdout",
          "text": [
            "        State  R&D Spend\n",
            "0  California  162597.70\n",
            "1     Florida  153441.51\n",
            "2    New York  165349.20\n"
          ]
        }
      ]
    },
    {
      "cell_type": "code",
      "source": [],
      "metadata": {
        "id": "c6rXJgR1aLVY"
      },
      "execution_count": null,
      "outputs": []
    }
  ]
}