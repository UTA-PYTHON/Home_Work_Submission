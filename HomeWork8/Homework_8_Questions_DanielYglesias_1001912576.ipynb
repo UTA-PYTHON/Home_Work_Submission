{
  "cells": [
    {
      "cell_type": "markdown",
      "metadata": {
        "id": "B26w8VjCYKRV"
      },
      "source": [
        "# **Week 12. Homework 8. Pandas**"
      ]
    },
    {
      "cell_type": "markdown",
      "metadata": {
        "id": "Eu6PftroYo2U"
      },
      "source": [
        "\n",
        "\n",
        "---\n",
        "\n",
        "\n",
        "\n",
        "---\n",
        "\n",
        "\n",
        "\n",
        "---\n",
        "\n"
      ]
    },
    {
      "cell_type": "markdown",
      "metadata": {
        "id": "aV6E5GZXpi1M"
      },
      "source": [
        "\n",
        "1. Load the dataset into a pandas DataFrame and display the first few rows."
      ]
    },
    {
      "cell_type": "code",
      "execution_count": 6,
      "metadata": {
        "id": "HJBOXE_upncm",
        "colab": {
          "base_uri": "https://localhost:8080/"
        },
        "outputId": "c59c22f1-d3e1-426f-dcfa-7a6b44675dfe"
      },
      "outputs": [
        {
          "output_type": "stream",
          "name": "stdout",
          "text": [
            "   R&D Spend  Administration  Marketing Spend       State     Profit\n",
            "0  165349.20       136897.80        471784.10    New York  192261.83\n",
            "1  162597.70       151377.59        443898.53  California  191792.06\n",
            "2  153441.51       101145.55        407934.54     Florida  191050.39\n",
            "3  144372.41       118671.85        383199.62    New York  182901.99\n",
            "4  142107.34        91391.77        366168.42     Florida  166187.94\n"
          ]
        }
      ],
      "source": [
        "import pandas as pd\n",
        "from google.colab import files\n",
        "uploaded_file = next(iter(uploaded))\n",
        "\n",
        "data = pd.read_csv(uploaded_file)\n",
        "\n",
        "print(data.head())\n"
      ]
    },
    {
      "cell_type": "markdown",
      "metadata": {
        "id": "howJdRNwY4sd"
      },
      "source": [
        "\n",
        "\n",
        "---\n",
        "\n",
        "\n",
        "\n",
        "---\n",
        "\n"
      ]
    },
    {
      "cell_type": "markdown",
      "metadata": {
        "id": "9rPM3G4Opnlx"
      },
      "source": [
        "\n",
        "2. Find the number of rows and columns in the dataset.\n",
        "\n",
        "\n"
      ]
    },
    {
      "cell_type": "code",
      "execution_count": 7,
      "metadata": {
        "id": "ihMWKM5ypq7d",
        "colab": {
          "base_uri": "https://localhost:8080/"
        },
        "outputId": "cfac1a01-c273-4ee4-943a-c2ec78b435d7"
      },
      "outputs": [
        {
          "output_type": "stream",
          "name": "stdout",
          "text": [
            "Number of rows: 50\n",
            "Number of columns: 5\n"
          ]
        }
      ],
      "source": [
        "num_rows, num_cols = data.shape\n",
        "print(f\"Number of rows: {num_rows}\")\n",
        "print(f\"Number of columns: {num_cols}\")\n"
      ]
    },
    {
      "cell_type": "markdown",
      "metadata": {
        "id": "E6OSn0EpY2ZG"
      },
      "source": [
        "\n",
        "\n",
        "\n",
        "---\n",
        "\n",
        "\n",
        "---\n",
        "\n"
      ]
    },
    {
      "cell_type": "markdown",
      "metadata": {
        "id": "2mlsVfqwprGf"
      },
      "source": [
        "3. Check for missing values in each column and handle them appropriately.\n",
        "\n",
        "\n"
      ]
    },
    {
      "cell_type": "code",
      "execution_count": 8,
      "metadata": {
        "id": "MHCp25TcpshE",
        "colab": {
          "base_uri": "https://localhost:8080/"
        },
        "outputId": "e17fd65c-9df4-4747-e45f-777ce3550320"
      },
      "outputs": [
        {
          "output_type": "stream",
          "name": "stdout",
          "text": [
            "Missing values in each column:\n",
            "R&D Spend          0\n",
            "Administration     0\n",
            "Marketing Spend    0\n",
            "State              0\n",
            "Profit             0\n",
            "dtype: int64\n"
          ]
        }
      ],
      "source": [
        "missing_values = data.isnull().sum()\n",
        "print(\"Missing values in each column:\")\n",
        "print(missing_values)"
      ]
    },
    {
      "cell_type": "markdown",
      "metadata": {
        "id": "XMBKTFY1Y8kB"
      },
      "source": [
        "\n",
        "\n",
        "\n",
        "---\n",
        "\n",
        "\n",
        "---\n",
        "\n"
      ]
    },
    {
      "cell_type": "markdown",
      "metadata": {
        "id": "3p6tB8lCpsqD"
      },
      "source": [
        "4. Calculate the mean, median, and standard deviation of the 'R&D_Spend' column.\n",
        "\n"
      ]
    },
    {
      "cell_type": "code",
      "execution_count": 9,
      "metadata": {
        "id": "qNI6I-PWpubf",
        "colab": {
          "base_uri": "https://localhost:8080/"
        },
        "outputId": "c3af6c9b-cbb3-46ba-f5b7-9224cdb02aae"
      },
      "outputs": [
        {
          "output_type": "stream",
          "name": "stdout",
          "text": [
            "Mean R&D Spend: 73721.6156\n",
            "Median R&D Spend: 73051.08\n",
            "Standard Deviation of R&D Spend: 45902.25648230753\n"
          ]
        }
      ],
      "source": [
        "rd_spend_mean = data['R&D Spend'].mean()\n",
        "rd_spend_median = data['R&D Spend'].median()\n",
        "rd_spend_std = data['R&D Spend'].std()\n",
        "\n",
        "print(f\"Mean R&D Spend: {rd_spend_mean}\")\n",
        "print(f\"Median R&D Spend: {rd_spend_median}\")\n",
        "print(f\"Standard Deviation of R&D Spend: {rd_spend_std}\")"
      ]
    },
    {
      "cell_type": "markdown",
      "metadata": {
        "id": "hubV5ZGsZAm7"
      },
      "source": [
        "\n",
        "\n",
        "\n",
        "---\n",
        "\n",
        "\n",
        "---\n",
        "\n"
      ]
    },
    {
      "cell_type": "markdown",
      "metadata": {
        "id": "BiULHwdYpunP"
      },
      "source": [
        "5. Filter and create a new DataFrame containing companies located in a **California**.\n",
        "\n"
      ]
    },
    {
      "cell_type": "code",
      "execution_count": 10,
      "metadata": {
        "id": "tkqnf92hpwOs",
        "colab": {
          "base_uri": "https://localhost:8080/"
        },
        "outputId": "75ab8f18-b2d2-4799-888c-7a3f57fa5ee0"
      },
      "outputs": [
        {
          "output_type": "stream",
          "name": "stdout",
          "text": [
            "    R&D Spend  Administration  Marketing Spend       State     Profit\n",
            "1   162597.70       151377.59        443898.53  California  191792.06\n",
            "6   134615.46       147198.87        127716.82  California  156122.51\n",
            "9   123334.88       108679.17        304981.62  California  149759.96\n",
            "11  100671.96        91790.61        249744.55  California  144259.40\n",
            "13   91992.39       135495.07        252664.93  California  134307.35\n",
            "16   78013.11       121597.55        264346.06  California  126992.93\n",
            "20   76253.86       113867.30        298664.47  California  118474.03\n",
            "25   64664.71       139553.16        137962.62  California  107404.34\n",
            "32   63408.86       129219.61         46085.25  California   97427.84\n",
            "34   46426.07       157693.92        210797.67  California   96712.80\n",
            "37   44069.95        51283.14        197029.42  California   89949.14\n",
            "39   38558.51        82982.09        174999.30  California   81005.76\n",
            "40   28754.33       118546.05        172795.67  California   78239.91\n",
            "42   23640.93        96189.63        148001.11  California   71498.49\n",
            "44   22177.74       154806.14         28334.72  California   65200.33\n",
            "47       0.00       135426.92             0.00  California   42559.73\n",
            "49       0.00       116983.80         45173.06  California   14681.40\n"
          ]
        }
      ],
      "source": [
        "california_companies = data[data['State'] == 'California']\n",
        "print(california_companies)"
      ]
    },
    {
      "cell_type": "markdown",
      "metadata": {
        "id": "ilrxyXvXZEKe"
      },
      "source": [
        "\n",
        "\n",
        "\n",
        "---\n",
        "\n",
        "\n",
        "---\n",
        "\n"
      ]
    },
    {
      "cell_type": "markdown",
      "metadata": {
        "id": "4XPxg0Z6pwrs"
      },
      "source": [
        "6. Sort the dataset by 'Profit' in descending order.\n",
        "\n"
      ]
    },
    {
      "cell_type": "code",
      "execution_count": 11,
      "metadata": {
        "id": "iCfpA1supxvs",
        "colab": {
          "base_uri": "https://localhost:8080/"
        },
        "outputId": "35fc6b74-75f3-498f-8ae3-30a9fc1e22a9"
      },
      "outputs": [
        {
          "output_type": "stream",
          "name": "stdout",
          "text": [
            "    R&D Spend  Administration  Marketing Spend       State     Profit\n",
            "0   165349.20       136897.80        471784.10    New York  192261.83\n",
            "1   162597.70       151377.59        443898.53  California  191792.06\n",
            "2   153441.51       101145.55        407934.54     Florida  191050.39\n",
            "3   144372.41       118671.85        383199.62    New York  182901.99\n",
            "4   142107.34        91391.77        366168.42     Florida  166187.94\n",
            "5   131876.90        99814.71        362861.36    New York  156991.12\n",
            "6   134615.46       147198.87        127716.82  California  156122.51\n",
            "7   130298.13       145530.06        323876.68     Florida  155752.60\n",
            "8   120542.52       148718.95        311613.29    New York  152211.77\n",
            "9   123334.88       108679.17        304981.62  California  149759.96\n",
            "10  101913.08       110594.11        229160.95     Florida  146121.95\n",
            "11  100671.96        91790.61        249744.55  California  144259.40\n",
            "12   93863.75       127320.38        249839.44     Florida  141585.52\n",
            "13   91992.39       135495.07        252664.93  California  134307.35\n",
            "14  119943.24       156547.42        256512.92     Florida  132602.65\n",
            "15  114523.61       122616.84        261776.23    New York  129917.04\n",
            "16   78013.11       121597.55        264346.06  California  126992.93\n",
            "17   94657.16       145077.58        282574.31    New York  125370.37\n",
            "18   91749.16       114175.79        294919.57     Florida  124266.90\n",
            "19   86419.70       153514.11             0.00    New York  122776.86\n",
            "20   76253.86       113867.30        298664.47  California  118474.03\n",
            "21   78389.47       153773.43        299737.29    New York  111313.02\n",
            "22   73994.56       122782.75        303319.26     Florida  110352.25\n",
            "23   67532.53       105751.03        304768.73     Florida  108733.99\n",
            "24   77044.01        99281.34        140574.81    New York  108552.04\n",
            "25   64664.71       139553.16        137962.62  California  107404.34\n",
            "26   75328.87       144135.98        134050.07     Florida  105733.54\n",
            "27   72107.60       127864.55        353183.81    New York  105008.31\n",
            "28   66051.52       182645.56        118148.20     Florida  103282.38\n",
            "29   65605.48       153032.06        107138.38    New York  101004.64\n",
            "30   61994.48       115641.28         91131.24     Florida   99937.59\n",
            "31   61136.38       152701.92         88218.23    New York   97483.56\n",
            "32   63408.86       129219.61         46085.25  California   97427.84\n",
            "33   55493.95       103057.49        214634.81     Florida   96778.92\n",
            "34   46426.07       157693.92        210797.67  California   96712.80\n",
            "35   46014.02        85047.44        205517.64    New York   96479.51\n",
            "36   28663.76       127056.21        201126.82     Florida   90708.19\n",
            "37   44069.95        51283.14        197029.42  California   89949.14\n",
            "38   20229.59        65947.93        185265.10    New York   81229.06\n",
            "39   38558.51        82982.09        174999.30  California   81005.76\n",
            "40   28754.33       118546.05        172795.67  California   78239.91\n",
            "41   27892.92        84710.77        164470.71     Florida   77798.83\n",
            "42   23640.93        96189.63        148001.11  California   71498.49\n",
            "43   15505.73       127382.30         35534.17    New York   69758.98\n",
            "44   22177.74       154806.14         28334.72  California   65200.33\n",
            "45    1000.23       124153.04          1903.93    New York   64926.08\n",
            "46    1315.46       115816.21        297114.46     Florida   49490.75\n",
            "47       0.00       135426.92             0.00  California   42559.73\n",
            "48     542.05        51743.15             0.00    New York   35673.41\n",
            "49       0.00       116983.80         45173.06  California   14681.40\n"
          ]
        }
      ],
      "source": [
        "sorted_data = data.sort_values(by='Profit', ascending=False)\n",
        "print(sorted_data)"
      ]
    },
    {
      "cell_type": "markdown",
      "metadata": {
        "id": "Kfwe7mo3ZL-_"
      },
      "source": [
        "\n",
        "\n",
        "\n",
        "---\n",
        "\n",
        "\n",
        "---\n",
        "\n"
      ]
    },
    {
      "cell_type": "markdown",
      "metadata": {
        "id": "MkaJtIJipx3D"
      },
      "source": [
        "7. Group the data by 'State' and calculate the total 'Profit' for each state.\n",
        "\n"
      ]
    },
    {
      "cell_type": "code",
      "execution_count": 12,
      "metadata": {
        "id": "81W9p9_TpzdV",
        "colab": {
          "base_uri": "https://localhost:8080/"
        },
        "outputId": "aacb9561-06df-45c2-f025-c2e3fb56df62"
      },
      "outputs": [
        {
          "output_type": "stream",
          "name": "stdout",
          "text": [
            "State\n",
            "California    1766387.98\n",
            "Florida       1900384.39\n",
            "New York      1933859.59\n",
            "Name: Profit, dtype: float64\n"
          ]
        }
      ],
      "source": [
        "profit_by_state = data.groupby('State')['Profit'].sum()\n",
        "print(profit_by_state)"
      ]
    },
    {
      "cell_type": "markdown",
      "metadata": {
        "id": "gOOFuCtSZQdC"
      },
      "source": [
        "\n",
        "\n",
        "\n",
        "---\n",
        "\n",
        "\n",
        "---\n",
        "\n"
      ]
    },
    {
      "cell_type": "markdown",
      "metadata": {
        "id": "C1pyEEfvpzky"
      },
      "source": [
        "8. Create a bar chart to visualize the total 'Profit' by 'State.'\n",
        "\n"
      ]
    },
    {
      "cell_type": "code",
      "execution_count": 13,
      "metadata": {
        "id": "QOJXsbNGp1BD",
        "colab": {
          "base_uri": "https://localhost:8080/",
          "height": 524
        },
        "outputId": "5f583d5b-3d86-4ab7-e8c6-8ff4ac6a4561"
      },
      "outputs": [
        {
          "output_type": "display_data",
          "data": {
            "text/plain": [
              "<Figure size 640x480 with 1 Axes>"
            ],
            "image/png": "[encoded data removed]"
          },
          "metadata": {}
        }
      ],
      "source": [
        "import matplotlib.pyplot as plt\n",
        "\n",
        "profit_by_state.plot(kind='bar', xlabel='State', ylabel='Total Profit', title='Total Profit by State')\n",
        "plt.show()"
      ]
    },
    {
      "cell_type": "markdown",
      "metadata": {
        "id": "c8iB2WASZUhc"
      },
      "source": [
        "\n",
        "\n",
        "\n",
        "---\n",
        "\n",
        "\n",
        "---\n",
        "\n"
      ]
    },
    {
      "cell_type": "markdown",
      "metadata": {
        "id": "zjoIiI8Zp1Lo"
      },
      "source": [
        "9. Calculate the correlation between 'R&D_Spend' and 'Profit.'\n",
        "\n"
      ]
    },
    {
      "cell_type": "code",
      "execution_count": 15,
      "metadata": {
        "id": "ET03oeaXp21B",
        "colab": {
          "base_uri": "https://localhost:8080/"
        },
        "outputId": "f2066dcf-a386-48f8-f86c-1bfad460de07"
      },
      "outputs": [
        {
          "output_type": "stream",
          "name": "stdout",
          "text": [
            "Correlation between R&D Spend and Profit: 0.9729004656594832\n"
          ]
        }
      ],
      "source": [
        "correlation = data['R&D Spend'].corr(data['Profit'])\n",
        "print(f\"Correlation between R&D Spend and Profit: {correlation}\")"
      ]
    },
    {
      "cell_type": "markdown",
      "metadata": {
        "id": "-BoSHhM7ZYGO"
      },
      "source": [
        "\n",
        "\n",
        "---\n",
        "\n",
        "\n",
        "\n",
        "---\n",
        "\n",
        "\n",
        "\n",
        "---\n",
        "\n"
      ]
    },
    {
      "cell_type": "markdown",
      "metadata": {
        "id": "3JPAQM97p28V"
      },
      "source": [
        "10. Create a new column 'Total_Spend' that represents the sum of 'R&D_Spend,' 'Administration,' and 'Marketing_Spend' for each company.\n",
        "\n"
      ]
    },
    {
      "cell_type": "code",
      "execution_count": 16,
      "metadata": {
        "id": "hnefEKfSp4G4",
        "colab": {
          "base_uri": "https://localhost:8080/"
        },
        "outputId": "8a6da3f7-d3a0-4690-b136-a31c8e70725a"
      },
      "outputs": [
        {
          "output_type": "stream",
          "name": "stdout",
          "text": [
            "   R&D Spend  Administration  Marketing Spend       State     Profit  \\\n",
            "0  165349.20       136897.80        471784.10    New York  192261.83   \n",
            "1  162597.70       151377.59        443898.53  California  191792.06   \n",
            "2  153441.51       101145.55        407934.54     Florida  191050.39   \n",
            "3  144372.41       118671.85        383199.62    New York  182901.99   \n",
            "4  142107.34        91391.77        366168.42     Florida  166187.94   \n",
            "\n",
            "   Total_Spend  \n",
            "0    774031.10  \n",
            "1    757873.82  \n",
            "2    662521.60  \n",
            "3    646243.88  \n",
            "4    599667.53  \n"
          ]
        }
      ],
      "source": [
        "data['Total_Spend'] = data['R&D Spend'] + data['Administration'] + data['Marketing Spend']\n",
        "print(data.head())\n"
      ]
    },
    {
      "cell_type": "markdown",
      "metadata": {
        "id": "VpXSCEKfp4Nk"
      },
      "source": [
        "11. Calculate the average **R&D_Spend**, **Administration**, and **Marketing_Spend** for companies located in each **State**\n",
        "\n"
      ]
    },
    {
      "cell_type": "code",
      "execution_count": 17,
      "metadata": {
        "id": "V6jGd293p5YB",
        "colab": {
          "base_uri": "https://localhost:8080/"
        },
        "outputId": "793c6ff0-8a59-47c5-9bc7-c93538f87f21"
      },
      "outputs": [
        {
          "output_type": "stream",
          "name": "stdout",
          "text": [
            "               R&D Spend  Administration  Marketing Spend\n",
            "State                                                    \n",
            "California  64657.674118   120746.507059    182540.929412\n",
            "Florida     80724.016250   121768.897500    247323.551250\n",
            "New York    76195.062353   121543.470588    205346.015882\n"
          ]
        }
      ],
      "source": [
        "average_spending_by_state = data.groupby('State').agg({\n",
        "    'R&D Spend': 'mean',\n",
        "    'Administration': 'mean',\n",
        "    'Marketing Spend': 'mean'\n",
        "})\n",
        "print(average_spending_by_state)\n"
      ]
    },
    {
      "cell_type": "markdown",
      "metadata": {
        "id": "uTCt-sVLZnmu"
      },
      "source": [
        "\n",
        "\n",
        "---\n",
        "\n",
        "\n",
        "\n",
        "---\n",
        "\n"
      ]
    },
    {
      "cell_type": "markdown",
      "metadata": {
        "id": "P4jllTczp5e0"
      },
      "source": [
        "12. Create a histogram to visualize the distribution of 'Profit.'\n",
        "\n"
      ]
    },
    {
      "cell_type": "code",
      "execution_count": 18,
      "metadata": {
        "id": "dLfUYGi3p624",
        "colab": {
          "base_uri": "https://localhost:8080/",
          "height": 472
        },
        "outputId": "644f5731-c240-4b0c-a847-ed3e4f926e41"
      },
      "outputs": [
        {
          "output_type": "display_data",
          "data": {
            "text/plain": [
              "<Figure size 640x480 with 1 Axes>"
            ],
            "image/png": "[encoded data removed]"
          },
          "metadata": {}
        }
      ],
      "source": [
        "plt.hist(data['Profit'], bins=20, color='skyblue', edgecolor='black')\n",
        "plt.xlabel('Profit')\n",
        "plt.ylabel('Frequency')\n",
        "plt.title('Distribution of Profit')\n",
        "plt.show()"
      ]
    },
    {
      "cell_type": "markdown",
      "metadata": {
        "id": "fSEJtTNKZuvL"
      },
      "source": [
        "\n",
        "\n",
        "---\n",
        "\n",
        "\n",
        "\n",
        "---\n",
        "\n"
      ]
    },
    {
      "cell_type": "markdown",
      "metadata": {
        "id": "3Aw_Q7d-p69y"
      },
      "source": [
        "13. Filter the dataset to include only companies with 'R&D_Spend' greater than a 12000.\n",
        "\n"
      ]
    },
    {
      "cell_type": "code",
      "execution_count": 19,
      "metadata": {
        "id": "6UzkLN1sp8pT",
        "colab": {
          "base_uri": "https://localhost:8080/"
        },
        "outputId": "1ad64c7d-3bc5-499c-fef9-014f754fbb2c"
      },
      "outputs": [
        {
          "output_type": "stream",
          "name": "stdout",
          "text": [
            "    R&D Spend  Administration  Marketing Spend       State     Profit  \\\n",
            "0   165349.20       136897.80        471784.10    New York  192261.83   \n",
            "1   162597.70       151377.59        443898.53  California  191792.06   \n",
            "2   153441.51       101145.55        407934.54     Florida  191050.39   \n",
            "3   144372.41       118671.85        383199.62    New York  182901.99   \n",
            "4   142107.34        91391.77        366168.42     Florida  166187.94   \n",
            "5   131876.90        99814.71        362861.36    New York  156991.12   \n",
            "6   134615.46       147198.87        127716.82  California  156122.51   \n",
            "7   130298.13       145530.06        323876.68     Florida  155752.60   \n",
            "8   120542.52       148718.95        311613.29    New York  152211.77   \n",
            "9   123334.88       108679.17        304981.62  California  149759.96   \n",
            "10  101913.08       110594.11        229160.95     Florida  146121.95   \n",
            "11  100671.96        91790.61        249744.55  California  144259.40   \n",
            "12   93863.75       127320.38        249839.44     Florida  141585.52   \n",
            "13   91992.39       135495.07        252664.93  California  134307.35   \n",
            "14  119943.24       156547.42        256512.92     Florida  132602.65   \n",
            "15  114523.61       122616.84        261776.23    New York  129917.04   \n",
            "16   78013.11       121597.55        264346.06  California  126992.93   \n",
            "17   94657.16       145077.58        282574.31    New York  125370.37   \n",
            "18   91749.16       114175.79        294919.57     Florida  124266.90   \n",
            "19   86419.70       153514.11             0.00    New York  122776.86   \n",
            "20   76253.86       113867.30        298664.47  California  118474.03   \n",
            "21   78389.47       153773.43        299737.29    New York  111313.02   \n",
            "22   73994.56       122782.75        303319.26     Florida  110352.25   \n",
            "23   67532.53       105751.03        304768.73     Florida  108733.99   \n",
            "24   77044.01        99281.34        140574.81    New York  108552.04   \n",
            "25   64664.71       139553.16        137962.62  California  107404.34   \n",
            "26   75328.87       144135.98        134050.07     Florida  105733.54   \n",
            "27   72107.60       127864.55        353183.81    New York  105008.31   \n",
            "28   66051.52       182645.56        118148.20     Florida  103282.38   \n",
            "29   65605.48       153032.06        107138.38    New York  101004.64   \n",
            "30   61994.48       115641.28         91131.24     Florida   99937.59   \n",
            "31   61136.38       152701.92         88218.23    New York   97483.56   \n",
            "32   63408.86       129219.61         46085.25  California   97427.84   \n",
            "33   55493.95       103057.49        214634.81     Florida   96778.92   \n",
            "34   46426.07       157693.92        210797.67  California   96712.80   \n",
            "35   46014.02        85047.44        205517.64    New York   96479.51   \n",
            "36   28663.76       127056.21        201126.82     Florida   90708.19   \n",
            "37   44069.95        51283.14        197029.42  California   89949.14   \n",
            "38   20229.59        65947.93        185265.10    New York   81229.06   \n",
            "39   38558.51        82982.09        174999.30  California   81005.76   \n",
            "40   28754.33       118546.05        172795.67  California   78239.91   \n",
            "41   27892.92        84710.77        164470.71     Florida   77798.83   \n",
            "42   23640.93        96189.63        148001.11  California   71498.49   \n",
            "43   15505.73       127382.30         35534.17    New York   69758.98   \n",
            "44   22177.74       154806.14         28334.72  California   65200.33   \n",
            "\n",
            "    Total_Spend  \n",
            "0     774031.10  \n",
            "1     757873.82  \n",
            "2     662521.60  \n",
            "3     646243.88  \n",
            "4     599667.53  \n",
            "5     594552.97  \n",
            "6     409531.15  \n",
            "7     599704.87  \n",
            "8     580874.76  \n",
            "9     536995.67  \n",
            "10    441668.14  \n",
            "11    442207.12  \n",
            "12    471023.57  \n",
            "13    480152.39  \n",
            "14    533003.58  \n",
            "15    498916.68  \n",
            "16    463956.72  \n",
            "17    522309.05  \n",
            "18    500844.52  \n",
            "19    239933.81  \n",
            "20    488785.63  \n",
            "21    531900.19  \n",
            "22    500096.57  \n",
            "23    478052.29  \n",
            "24    316900.16  \n",
            "25    342180.49  \n",
            "26    353514.92  \n",
            "27    553155.96  \n",
            "28    366845.28  \n",
            "29    325775.92  \n",
            "30    268767.00  \n",
            "31    302056.53  \n",
            "32    238713.72  \n",
            "33    373186.25  \n",
            "34    414917.66  \n",
            "35    336579.10  \n",
            "36    356846.79  \n",
            "37    292382.51  \n",
            "38    271442.62  \n",
            "39    296539.90  \n",
            "40    320096.05  \n",
            "41    277074.40  \n",
            "42    267831.67  \n",
            "43    178422.20  \n",
            "44    205318.60  \n"
          ]
        }
      ],
      "source": [
        "filtered_data = data[data['R&D Spend'] > 12000]\n",
        "print(filtered_data)"
      ]
    },
    {
      "cell_type": "markdown",
      "metadata": {
        "id": "zmqijtAqZxg0"
      },
      "source": [
        "\n",
        "\n",
        "---\n",
        "\n",
        "\n",
        "\n",
        "---\n",
        "\n"
      ]
    },
    {
      "cell_type": "markdown",
      "metadata": {
        "id": "IFCNM-Wup9_k"
      },
      "source": [
        "14. Calculate the total 'Profit' for companies with 'Marketing_Spend' above a certain threshold.\n",
        "\n"
      ]
    },
    {
      "cell_type": "code",
      "execution_count": 20,
      "metadata": {
        "id": "WrbrU4KTp_pG",
        "colab": {
          "base_uri": "https://localhost:8080/"
        },
        "outputId": "d8cb39e4-b933-412b-dd49-0b71ec39b09d"
      },
      "outputs": [
        {
          "output_type": "stream",
          "name": "stdout",
          "text": [
            "Total Profit for Marketing Spend above 50000: 5087627.33\n"
          ]
        }
      ],
      "source": [
        "threshold = 50000\n",
        "\n",
        "total_profit_above_threshold = data[data['Marketing Spend'] > threshold]['Profit'].sum()\n",
        "print(f\"Total Profit for Marketing Spend above {threshold}: {total_profit_above_threshold}\")\n"
      ]
    },
    {
      "cell_type": "markdown",
      "metadata": {
        "id": "5f3AzWxWp_11"
      },
      "source": [
        "15. Replace any missing values in the 'Marketing_Spend' column with the mean spending of the dataset.\n",
        "\n"
      ]
    },
    {
      "cell_type": "code",
      "execution_count": 31,
      "metadata": {
        "id": "7irTxP7pqBMZ"
      },
      "outputs": [],
      "source": [
        "mean_marketing_spend = data['Marketing Spend'].mean()\n",
        "data['Marketing Spend'].fillna(mean_marketing_spend, inplace=True)"
      ]
    },
    {
      "cell_type": "markdown",
      "metadata": {
        "id": "gSL3LtfTZ8yu"
      },
      "source": [
        "\n",
        "\n",
        "\n",
        "---\n",
        "\n",
        "\n",
        "---\n",
        "\n"
      ]
    },
    {
      "cell_type": "markdown",
      "metadata": {
        "id": "hDzBUjHsqBTS"
      },
      "source": [
        "16. Create a new column 'Profit_Margin' that represents the profit margin for each company (Profit / Total_Spend).\n",
        "\n"
      ]
    },
    {
      "cell_type": "code",
      "execution_count": 33,
      "metadata": {
        "id": "hjLIAfJvqCgV",
        "colab": {
          "base_uri": "https://localhost:8080/"
        },
        "outputId": "971783ee-4431-49fe-856d-f2ad2e9f89ef"
      },
      "outputs": [
        {
          "output_type": "stream",
          "name": "stdout",
          "text": [
            "   R&D Spend  Administration  Marketing Spend       State     Profit  \\\n",
            "0  165349.20       136897.80        471784.10    New York  192261.83   \n",
            "1  162597.70       151377.59        443898.53  California  191792.06   \n",
            "2  153441.51       101145.55        407934.54     Florida  191050.39   \n",
            "3  144372.41       118671.85        383199.62    New York  182901.99   \n",
            "4  142107.34        91391.77        366168.42     Florida  166187.94   \n",
            "\n",
            "   Total_Spend  Profit_Margin  \n",
            "0    774031.10       0.248390  \n",
            "1    757873.82       0.253066  \n",
            "2    662521.60       0.288369  \n",
            "3    646243.88       0.283023  \n",
            "4    599667.53       0.277133  \n"
          ]
        }
      ],
      "source": [
        "data['Profit_Margin'] = data['Profit'] / data['Total_Spend']\n",
        "print(data.head())"
      ]
    },
    {
      "cell_type": "markdown",
      "metadata": {
        "id": "1oYfihHQaNdp"
      },
      "source": [
        "\n",
        "\n",
        "---\n",
        "\n",
        "\n",
        "\n",
        "---\n",
        "\n",
        "\n",
        "\n",
        "---\n",
        "\n"
      ]
    },
    {
      "cell_type": "markdown",
      "metadata": {
        "id": "EKSiuWOTqCnA"
      },
      "source": [
        "17. Sort the dataset by 'Profit_Margin' in descending order.\n",
        "\n"
      ]
    },
    {
      "cell_type": "code",
      "execution_count": 36,
      "metadata": {
        "id": "b0nz2-qtqDsy",
        "colab": {
          "base_uri": "https://localhost:8080/"
        },
        "outputId": "f7bfdbe2-1b10-420d-ed0c-d1bafa1a3ac0"
      },
      "outputs": [
        {
          "output_type": "stream",
          "name": "stdout",
          "text": [
            "    R&D Spend  Administration  Marketing Spend       State     Profit  \\\n",
            "48     542.05        51743.15             0.00    New York   35673.41   \n",
            "19   86419.70       153514.11             0.00    New York  122776.86   \n",
            "45    1000.23       124153.04          1903.93    New York   64926.08   \n",
            "32   63408.86       129219.61         46085.25  California   97427.84   \n",
            "43   15505.73       127382.30         35534.17    New York   69758.98   \n",
            "6   134615.46       147198.87        127716.82  California  156122.51   \n",
            "30   61994.48       115641.28         91131.24     Florida   99937.59   \n",
            "24   77044.01        99281.34        140574.81    New York  108552.04   \n",
            "10  101913.08       110594.11        229160.95     Florida  146121.95   \n",
            "11  100671.96        91790.61        249744.55  California  144259.40   \n",
            "31   61136.38       152701.92         88218.23    New York   97483.56   \n",
            "44   22177.74       154806.14         28334.72  California   65200.33   \n",
            "47       0.00       135426.92             0.00  California   42559.73   \n",
            "25   64664.71       139553.16        137962.62  California  107404.34   \n",
            "29   65605.48       153032.06        107138.38    New York  101004.64   \n",
            "37   44069.95        51283.14        197029.42  California   89949.14   \n",
            "12   93863.75       127320.38        249839.44     Florida  141585.52   \n",
            "38   20229.59        65947.93        185265.10    New York   81229.06   \n",
            "26   75328.87       144135.98        134050.07     Florida  105733.54   \n",
            "2   153441.51       101145.55        407934.54     Florida  191050.39   \n",
            "35   46014.02        85047.44        205517.64    New York   96479.51   \n",
            "3   144372.41       118671.85        383199.62    New York  182901.99   \n",
            "28   66051.52       182645.56        118148.20     Florida  103282.38   \n",
            "41   27892.92        84710.77        164470.71     Florida   77798.83   \n",
            "13   91992.39       135495.07        252664.93  California  134307.35   \n",
            "9   123334.88       108679.17        304981.62  California  149759.96   \n",
            "4   142107.34        91391.77        366168.42     Florida  166187.94   \n",
            "16   78013.11       121597.55        264346.06  California  126992.93   \n",
            "39   38558.51        82982.09        174999.30  California   81005.76   \n",
            "42   23640.93        96189.63        148001.11  California   71498.49   \n",
            "5   131876.90        99814.71        362861.36    New York  156991.12   \n",
            "8   120542.52       148718.95        311613.29    New York  152211.77   \n",
            "15  114523.61       122616.84        261776.23    New York  129917.04   \n",
            "7   130298.13       145530.06        323876.68     Florida  155752.60   \n",
            "33   55493.95       103057.49        214634.81     Florida   96778.92   \n",
            "36   28663.76       127056.21        201126.82     Florida   90708.19   \n",
            "1   162597.70       151377.59        443898.53  California  191792.06   \n",
            "14  119943.24       156547.42        256512.92     Florida  132602.65   \n",
            "0   165349.20       136897.80        471784.10    New York  192261.83   \n",
            "18   91749.16       114175.79        294919.57     Florida  124266.90   \n",
            "40   28754.33       118546.05        172795.67  California   78239.91   \n",
            "20   76253.86       113867.30        298664.47  California  118474.03   \n",
            "17   94657.16       145077.58        282574.31    New York  125370.37   \n",
            "34   46426.07       157693.92        210797.67  California   96712.80   \n",
            "23   67532.53       105751.03        304768.73     Florida  108733.99   \n",
            "22   73994.56       122782.75        303319.26     Florida  110352.25   \n",
            "21   78389.47       153773.43        299737.29    New York  111313.02   \n",
            "27   72107.60       127864.55        353183.81    New York  105008.31   \n",
            "46    1315.46       115816.21        297114.46     Florida   49490.75   \n",
            "49       0.00       116983.80         45173.06  California   14681.40   \n",
            "\n",
            "    Total_Spend  Profit_Margin  \n",
            "48     52285.20       0.682285  \n",
            "19    239933.81       0.511711  \n",
            "45    127057.20       0.510999  \n",
            "32    238713.72       0.408137  \n",
            "43    178422.20       0.390977  \n",
            "6     409531.15       0.381223  \n",
            "30    268767.00       0.371837  \n",
            "24    316900.16       0.342543  \n",
            "10    441668.14       0.330841  \n",
            "11    442207.12       0.326226  \n",
            "31    302056.53       0.322733  \n",
            "44    205318.60       0.317557  \n",
            "47    135426.92       0.314263  \n",
            "25    342180.49       0.313882  \n",
            "29    325775.92       0.310043  \n",
            "37    292382.51       0.307642  \n",
            "12    471023.57       0.300591  \n",
            "38    271442.62       0.299249  \n",
            "26    353514.92       0.299092  \n",
            "2     662521.60       0.288369  \n",
            "35    336579.10       0.286647  \n",
            "3     646243.88       0.283023  \n",
            "28    366845.28       0.281542  \n",
            "41    277074.40       0.280787  \n",
            "13    480152.39       0.279718  \n",
            "9     536995.67       0.278885  \n",
            "4     599667.53       0.277133  \n",
            "16    463956.72       0.273717  \n",
            "39    296539.90       0.273170  \n",
            "42    267831.67       0.266953  \n",
            "5     594552.97       0.264049  \n",
            "8     580874.76       0.262039  \n",
            "15    498916.68       0.260398  \n",
            "7     599704.87       0.259715  \n",
            "33    373186.25       0.259331  \n",
            "36    356846.79       0.254194  \n",
            "1     757873.82       0.253066  \n",
            "14    533003.58       0.248784  \n",
            "0     774031.10       0.248390  \n",
            "18    500844.52       0.248115  \n",
            "40    320096.05       0.244426  \n",
            "20    488785.63       0.242384  \n",
            "17    522309.05       0.240031  \n",
            "34    414917.66       0.233089  \n",
            "23    478052.29       0.227452  \n",
            "22    500096.57       0.220662  \n",
            "21    531900.19       0.209274  \n",
            "27    553155.96       0.189835  \n",
            "46    414246.13       0.119472  \n",
            "49    162156.86       0.090538  \n"
          ]
        }
      ],
      "source": [
        "sorted_by_profit_margin = data.sort_values(by='Profit_Margin', ascending=False)\n",
        "print(sorted_by_profit_margin)"
      ]
    },
    {
      "cell_type": "markdown",
      "metadata": {
        "id": "-gtiy2C4aDiN"
      },
      "source": [
        "\n",
        "\n",
        "---\n",
        "\n",
        "\n",
        "\n",
        "---\n",
        "\n"
      ]
    },
    {
      "cell_type": "markdown",
      "metadata": {
        "id": "v3GOIPhOqD0Z"
      },
      "source": [
        "18. Calculate the average profit margin for companies in each 'State' and create a bar chart to display it.\n",
        "\n"
      ]
    },
    {
      "cell_type": "code",
      "execution_count": 35,
      "metadata": {
        "id": "5GS-cxTbqFe5",
        "colab": {
          "base_uri": "https://localhost:8080/",
          "height": 524
        },
        "outputId": "fef1ad72-bdb1-49ba-ef7f-dba404b6d551"
      },
      "outputs": [
        {
          "output_type": "display_data",
          "data": {
            "text/plain": [
              "<Figure size 640x480 with 1 Axes>"
            ],
            "image/png": "[encoded data removed]"
          },
          "metadata": {}
        }
      ],
      "source": [
        "average_profit_margin_by_state = data.groupby('State')['Profit_Margin'].mean()\n",
        "\n",
        "average_profit_margin_by_state.plot(kind='bar', xlabel='State', ylabel='Average Profit Margin', title='Average Profit Margin by State')\n",
        "plt.show()"
      ]
    },
    {
      "cell_type": "markdown",
      "metadata": {
        "id": "Gc2rlCHcaHh5"
      },
      "source": [
        "\n",
        "\n",
        "---\n",
        "\n",
        "\n",
        "\n",
        "---\n",
        "\n",
        "\n",
        "\n",
        "---\n",
        "\n"
      ]
    },
    {
      "cell_type": "markdown",
      "metadata": {
        "id": "o5JA0X1_qFm6"
      },
      "source": [
        "19. Find the maximum 'R&D_Spend' in each **State**.\n",
        "\n"
      ]
    },
    {
      "cell_type": "code",
      "execution_count": 34,
      "metadata": {
        "id": "uL3LImrEqGqi",
        "colab": {
          "base_uri": "https://localhost:8080/"
        },
        "outputId": "8927eaaf-f0dd-4902-930c-db394474d69c"
      },
      "outputs": [
        {
          "output_type": "stream",
          "name": "stdout",
          "text": [
            "State\n",
            "California    162597.70\n",
            "Florida       153441.51\n",
            "New York      165349.20\n",
            "Name: R&D Spend, dtype: float64\n"
          ]
        }
      ],
      "source": [
        "max_rd_spend_by_state = data.groupby('State')['R&D Spend'].max()\n",
        "print(max_rd_spend_by_state)"
      ]
    }
  ],
  "metadata": {
    "colab": {
      "provenance": []
    },
    "kernelspec": {
      "display_name": "Python 3",
      "name": "python3"
    },
    "language_info": {
      "name": "python"
    }
  },
  "nbformat": 4,
  "nbformat_minor": 0
}