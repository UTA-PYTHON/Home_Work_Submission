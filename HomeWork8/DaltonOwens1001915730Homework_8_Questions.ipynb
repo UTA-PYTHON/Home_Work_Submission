{
  "nbformat": 4,
  "nbformat_minor": 0,
  "metadata": {
    "colab": {
      "provenance": []
    },
    "kernelspec": {
      "name": "python3",
      "display_name": "Python 3"
    },
    "language_info": {
      "name": "python"
    }
  },
  "cells": [
    {
      "cell_type": "markdown",
      "source": [
        "# **Week 12. Homework 8. Pandas**"
      ],
      "metadata": {
        "id": "B26w8VjCYKRV"
      }
    },
    {
      "cell_type": "markdown",
      "source": [
        "\n",
        "\n",
        "---\n",
        "\n",
        "\n",
        "\n",
        "---\n",
        "\n",
        "\n",
        "\n",
        "---\n",
        "\n"
      ],
      "metadata": {
        "id": "Eu6PftroYo2U"
      }
    },
    {
      "cell_type": "markdown",
      "source": [
        "\n",
        "1. Load the dataset into a pandas DataFrame and display the first few rows."
      ],
      "metadata": {
        "id": "aV6E5GZXpi1M"
      }
    },
    {
      "cell_type": "code",
      "source": [
        "import pandas as pd\n",
        "from google.colab import files\n",
        "H8_upload=files.upload() #upload\n",
        "\n",
        "\n",
        "\n",
        "\n",
        "\n",
        "\n",
        "\n"
      ],
      "metadata": {
        "id": "HJBOXE_upncm",
        "colab": {
          "base_uri": "https://localhost:8080/",
          "height": 73
        },
        "outputId": "58e46635-8f56-4a40-af0f-b7ffe296677b"
      },
      "execution_count": 3,
      "outputs": [
        {
          "output_type": "display_data",
          "data": {
            "text/plain": [
              "<IPython.core.display.HTML object>"
            ],
            "text/html": [
              "\n",
              "     <input type=\"file\" id=\"files-3a62dd46-c62a-46d4-93ce-1e312acf6d36\" name=\"files[]\" multiple disabled\n",
              "        style=\"border:none\" />\n",
              "     <output id=\"result-3a62dd46-c62a-46d4-93ce-1e312acf6d36\">\n",
              "      Upload widget is only available when the cell has been executed in the\n",
              "      current browser session. Please rerun this cell to enable.\n",
              "      </output>\n",
              "      <script>// Copyright 2017 Google LLC\n",
              "//\n",
              "// Licensed under the Apache License, Version 2.0 (the \"License\");\n",
              "// you may not use this file except in compliance with the License.\n",
              "// You may obtain a copy of the License at\n",
              "//\n",
              "//      http://www.apache.org/licenses/LICENSE-2.0\n",
              "//\n",
              "// Unless required by applicable law or agreed to in writing, software\n",
              "// distributed under the License is distributed on an \"AS IS\" BASIS,\n",
              "// WITHOUT WARRANTIES OR CONDITIONS OF ANY KIND, either express or implied.\n",
              "// See the License for the specific language governing permissions and\n",
              "// limitations under the License.\n",
              "\n",
              "/**\n",
              " * @fileoverview Helpers for google.colab Python module.\n",
              " */\n",
              "(function(scope) {\n",
              "function span(text, styleAttributes = {}) {\n",
              "  const element = document.createElement('span');\n",
              "  element.textContent = text;\n",
              "  for (const key of Object.keys(styleAttributes)) {\n",
              "    element.style[key] = styleAttributes[key];\n",
              "  }\n",
              "  return element;\n",
              "}\n",
              "\n",
              "// Max number of bytes which will be uploaded at a time.\n",
              "const MAX_PAYLOAD_SIZE = 100 * 1024;\n",
              "\n",
              "function _uploadFiles(inputId, outputId) {\n",
              "  const steps = uploadFilesStep(inputId, outputId);\n",
              "  const outputElement = document.getElementById(outputId);\n",
              "  // Cache steps on the outputElement to make it available for the next call\n",
              "  // to uploadFilesContinue from Python.\n",
              "  outputElement.steps = steps;\n",
              "\n",
              "  return _uploadFilesContinue(outputId);\n",
              "}\n",
              "\n",
              "// This is roughly an async generator (not supported in the browser yet),\n",
              "// where there are multiple asynchronous steps and the Python side is going\n",
              "// to poll for completion of each step.\n",
              "// This uses a Promise to block the python side on completion of each step,\n",
              "// then passes the result of the previous step as the input to the next step.\n",
              "function _uploadFilesContinue(outputId) {\n",
              "  const outputElement = document.getElementById(outputId);\n",
              "  const steps = outputElement.steps;\n",
              "\n",
              "  const next = steps.next(outputElement.lastPromiseValue);\n",
              "  return Promise.resolve(next.value.promise).then((value) => {\n",
              "    // Cache the last promise value to make it available to the next\n",
              "    // step of the generator.\n",
              "    outputElement.lastPromiseValue = value;\n",
              "    return next.value.response;\n",
              "  });\n",
              "}\n",
              "\n",
              "/**\n",
              " * Generator function which is called between each async step of the upload\n",
              " * process.\n",
              " * @param {string} inputId Element ID of the input file picker element.\n",
              " * @param {string} outputId Element ID of the output display.\n",
              " * @return {!Iterable<!Object>} Iterable of next steps.\n",
              " */\n",
              "function* uploadFilesStep(inputId, outputId) {\n",
              "  const inputElement = document.getElementById(inputId);\n",
              "  inputElement.disabled = false;\n",
              "\n",
              "  const outputElement = document.getElementById(outputId);\n",
              "  outputElement.innerHTML = '';\n",
              "\n",
              "  const pickedPromise = new Promise((resolve) => {\n",
              "    inputElement.addEventListener('change', (e) => {\n",
              "      resolve(e.target.files);\n",
              "    });\n",
              "  });\n",
              "\n",
              "  const cancel = document.createElement('button');\n",
              "  inputElement.parentElement.appendChild(cancel);\n",
              "  cancel.textContent = 'Cancel upload';\n",
              "  const cancelPromise = new Promise((resolve) => {\n",
              "    cancel.onclick = () => {\n",
              "      resolve(null);\n",
              "    };\n",
              "  });\n",
              "\n",
              "  // Wait for the user to pick the files.\n",
              "  const files = yield {\n",
              "    promise: Promise.race([pickedPromise, cancelPromise]),\n",
              "    response: {\n",
              "      action: 'starting',\n",
              "    }\n",
              "  };\n",
              "\n",
              "  cancel.remove();\n",
              "\n",
              "  // Disable the input element since further picks are not allowed.\n",
              "  inputElement.disabled = true;\n",
              "\n",
              "  if (!files) {\n",
              "    return {\n",
              "      response: {\n",
              "        action: 'complete',\n",
              "      }\n",
              "    };\n",
              "  }\n",
              "\n",
              "  for (const file of files) {\n",
              "    const li = document.createElement('li');\n",
              "    li.append(span(file.name, {fontWeight: 'bold'}));\n",
              "    li.append(span(\n",
              "        `(${file.type || 'n/a'}) - ${file.size} bytes, ` +\n",
              "        `last modified: ${\n",
              "            file.lastModifiedDate ? file.lastModifiedDate.toLocaleDateString() :\n",
              "                                    'n/a'} - `));\n",
              "    const percent = span('0% done');\n",
              "    li.appendChild(percent);\n",
              "\n",
              "    outputElement.appendChild(li);\n",
              "\n",
              "    const fileDataPromise = new Promise((resolve) => {\n",
              "      const reader = new FileReader();\n",
              "      reader.onload = (e) => {\n",
              "        resolve(e.target.result);\n",
              "      };\n",
              "      reader.readAsArrayBuffer(file);\n",
              "    });\n",
              "    // Wait for the data to be ready.\n",
              "    let fileData = yield {\n",
              "      promise: fileDataPromise,\n",
              "      response: {\n",
              "        action: 'continue',\n",
              "      }\n",
              "    };\n",
              "\n",
              "    // Use a chunked sending to avoid message size limits. See b/62115660.\n",
              "    let position = 0;\n",
              "    do {\n",
              "      const length = Math.min(fileData.byteLength - position, MAX_PAYLOAD_SIZE);\n",
              "      const chunk = new Uint8Array(fileData, position, length);\n",
              "      position += length;\n",
              "\n",
              "      const base64 = btoa(String.fromCharCode.apply(null, chunk));\n",
              "      yield {\n",
              "        response: {\n",
              "          action: 'append',\n",
              "          file: file.name,\n",
              "          data: base64,\n",
              "        },\n",
              "      };\n",
              "\n",
              "      let percentDone = fileData.byteLength === 0 ?\n",
              "          100 :\n",
              "          Math.round((position / fileData.byteLength) * 100);\n",
              "      percent.textContent = `${percentDone}% done`;\n",
              "\n",
              "    } while (position < fileData.byteLength);\n",
              "  }\n",
              "\n",
              "  // All done.\n",
              "  yield {\n",
              "    response: {\n",
              "      action: 'complete',\n",
              "    }\n",
              "  };\n",
              "}\n",
              "\n",
              "scope.google = scope.google || {};\n",
              "scope.google.colab = scope.google.colab || {};\n",
              "scope.google.colab._files = {\n",
              "  _uploadFiles,\n",
              "  _uploadFilesContinue,\n",
              "};\n",
              "})(self);\n",
              "</script> "
            ]
          },
          "metadata": {}
        },
        {
          "output_type": "stream",
          "name": "stdout",
          "text": [
            "Saving Startups.csv to Startups (1).csv\n"
          ]
        }
      ]
    },
    {
      "cell_type": "code",
      "source": [
        "#load data\n",
        "h8read=pd.read_csv('Startups.csv')\n",
        "print(h8read.head()) #show some data"
      ],
      "metadata": {
        "colab": {
          "base_uri": "https://localhost:8080/"
        },
        "id": "_164ObZpxEIe",
        "outputId": "2e0a7070-e6fa-4f88-fb80-5f4001ec08f4"
      },
      "execution_count": 4,
      "outputs": [
        {
          "output_type": "stream",
          "name": "stdout",
          "text": [
            "   R&D Spend  Administration  Marketing Spend       State     Profit\n",
            "0  165349.20       136897.80        471784.10    New York  192261.83\n",
            "1  162597.70       151377.59        443898.53  California  191792.06\n",
            "2  153441.51       101145.55        407934.54     Florida  191050.39\n",
            "3  144372.41       118671.85        383199.62    New York  182901.99\n",
            "4  142107.34        91391.77        366168.42     Florida  166187.94\n"
          ]
        }
      ]
    },
    {
      "cell_type": "markdown",
      "source": [
        "\n",
        "\n",
        "---\n",
        "\n",
        "\n",
        "\n",
        "---\n",
        "\n"
      ],
      "metadata": {
        "id": "howJdRNwY4sd"
      }
    },
    {
      "cell_type": "markdown",
      "source": [
        "\n",
        "2. Find the number of rows and columns in the dataset.\n",
        "\n",
        "\n"
      ],
      "metadata": {
        "id": "9rPM3G4Opnlx"
      }
    },
    {
      "cell_type": "code",
      "source": [
        "num_rows, num_columns=h8read.shape\n",
        "print(f'Startup dataset has {num_rows} rows and {num_columns} columns.')\n",
        "\n",
        "\n",
        "\n",
        "\n",
        "\n",
        "\n",
        "\n",
        "\n",
        "\n",
        "\n"
      ],
      "metadata": {
        "id": "ihMWKM5ypq7d",
        "colab": {
          "base_uri": "https://localhost:8080/"
        },
        "outputId": "0924c714-aea3-43b6-aaa2-a876175cdc3d"
      },
      "execution_count": 5,
      "outputs": [
        {
          "output_type": "stream",
          "name": "stdout",
          "text": [
            "Startup dataset has 50 rows and 5 columns.\n"
          ]
        }
      ]
    },
    {
      "cell_type": "markdown",
      "source": [
        "\n",
        "\n",
        "\n",
        "---\n",
        "\n",
        "\n",
        "---\n",
        "\n"
      ],
      "metadata": {
        "id": "E6OSn0EpY2ZG"
      }
    },
    {
      "cell_type": "markdown",
      "source": [
        "3. Check for missing values in each column and handle them appropriately.\n",
        "\n",
        "\n"
      ],
      "metadata": {
        "id": "2mlsVfqwprGf"
      }
    },
    {
      "cell_type": "code",
      "source": [
        "h8null=h8read.isnull().sum()\n",
        "\n",
        "print('missing values in each column:')\n",
        "print(h8null)\n",
        "#since there are no missing values in each column there is nothing further to do in this question\n",
        "\n",
        "\n",
        "\n",
        "\n",
        "\n",
        "\n",
        "\n",
        "\n"
      ],
      "metadata": {
        "id": "MHCp25TcpshE",
        "colab": {
          "base_uri": "https://localhost:8080/"
        },
        "outputId": "1b6a250c-fc68-42ec-8b0c-7df78fd8922f"
      },
      "execution_count": 6,
      "outputs": [
        {
          "output_type": "stream",
          "name": "stdout",
          "text": [
            "missing values in each column:\n",
            "R&D Spend          0\n",
            "Administration     0\n",
            "Marketing Spend    0\n",
            "State              0\n",
            "Profit             0\n",
            "dtype: int64\n"
          ]
        }
      ]
    },
    {
      "cell_type": "markdown",
      "source": [
        "\n",
        "\n",
        "\n",
        "---\n",
        "\n",
        "\n",
        "---\n",
        "\n"
      ],
      "metadata": {
        "id": "XMBKTFY1Y8kB"
      }
    },
    {
      "cell_type": "markdown",
      "source": [
        "4. Calculate the mean, median, and standard deviation of the 'R&D_Spend' column.\n",
        "\n"
      ],
      "metadata": {
        "id": "3p6tB8lCpsqD"
      }
    },
    {
      "cell_type": "code",
      "source": [
        "h8mean=h8read['R&D Spend'].mean()\n",
        "h8median=h8read['R&D Spend'].median()\n",
        "h8stand=h8read['R&D Spend'].std()\n",
        "#formulas to find the 3 items for the specific column"
      ],
      "metadata": {
        "id": "qNI6I-PWpubf"
      },
      "execution_count": 7,
      "outputs": []
    },
    {
      "cell_type": "code",
      "source": [
        "print(f'mean={h8mean}')\n",
        "print(f'median={h8median}')\n",
        "print(f'standard deviation={h8stand}')"
      ],
      "metadata": {
        "colab": {
          "base_uri": "https://localhost:8080/"
        },
        "id": "B6knzZZM2E1N",
        "outputId": "a802ded7-d1aa-4fc1-9f43-c1d53cdd5070"
      },
      "execution_count": 8,
      "outputs": [
        {
          "output_type": "stream",
          "name": "stdout",
          "text": [
            "mean=73721.6156\n",
            "median=73051.08\n",
            "standard deviation=45902.25648230753\n"
          ]
        }
      ]
    },
    {
      "cell_type": "code",
      "source": [],
      "metadata": {
        "id": "wNkcowGU2E4B"
      },
      "execution_count": 8,
      "outputs": []
    },
    {
      "cell_type": "code",
      "source": [],
      "metadata": {
        "id": "6KDTGncA2E7B"
      },
      "execution_count": 8,
      "outputs": []
    },
    {
      "cell_type": "markdown",
      "source": [
        "\n",
        "\n",
        "\n",
        "---\n",
        "\n",
        "\n",
        "---\n",
        "\n"
      ],
      "metadata": {
        "id": "hubV5ZGsZAm7"
      }
    },
    {
      "cell_type": "markdown",
      "source": [
        "5. Filter and create a new DataFrame containing companies located in a **California**.\n",
        "\n"
      ],
      "metadata": {
        "id": "BiULHwdYpunP"
      }
    },
    {
      "cell_type": "code",
      "source": [
        "h8Cali=h8read[h8read['State']=='California']\n",
        "\n",
        "\n",
        "\n",
        "\n",
        "\n",
        "\n",
        "\n",
        "\n",
        "\n"
      ],
      "metadata": {
        "id": "tkqnf92hpwOs"
      },
      "execution_count": 9,
      "outputs": []
    },
    {
      "cell_type": "code",
      "source": [
        "print(h8Cali)"
      ],
      "metadata": {
        "colab": {
          "base_uri": "https://localhost:8080/"
        },
        "id": "5MWdhXdK3Jxr",
        "outputId": "cf6ba734-8e5a-4e4f-d0c2-d35c76570b49"
      },
      "execution_count": 10,
      "outputs": [
        {
          "output_type": "stream",
          "name": "stdout",
          "text": [
            "    R&D Spend  Administration  Marketing Spend       State     Profit\n",
            "1   162597.70       151377.59        443898.53  California  191792.06\n",
            "6   134615.46       147198.87        127716.82  California  156122.51\n",
            "9   123334.88       108679.17        304981.62  California  149759.96\n",
            "11  100671.96        91790.61        249744.55  California  144259.40\n",
            "13   91992.39       135495.07        252664.93  California  134307.35\n",
            "16   78013.11       121597.55        264346.06  California  126992.93\n",
            "20   76253.86       113867.30        298664.47  California  118474.03\n",
            "25   64664.71       139553.16        137962.62  California  107404.34\n",
            "32   63408.86       129219.61         46085.25  California   97427.84\n",
            "34   46426.07       157693.92        210797.67  California   96712.80\n",
            "37   44069.95        51283.14        197029.42  California   89949.14\n",
            "39   38558.51        82982.09        174999.30  California   81005.76\n",
            "40   28754.33       118546.05        172795.67  California   78239.91\n",
            "42   23640.93        96189.63        148001.11  California   71498.49\n",
            "44   22177.74       154806.14         28334.72  California   65200.33\n",
            "47       0.00       135426.92             0.00  California   42559.73\n",
            "49       0.00       116983.80         45173.06  California   14681.40\n"
          ]
        }
      ]
    },
    {
      "cell_type": "markdown",
      "source": [
        "\n",
        "\n",
        "\n",
        "---\n",
        "\n",
        "\n",
        "---\n",
        "\n"
      ],
      "metadata": {
        "id": "ilrxyXvXZEKe"
      }
    },
    {
      "cell_type": "markdown",
      "source": [
        "6. Sort the dataset by 'Profit' in descending order.\n",
        "\n"
      ],
      "metadata": {
        "id": "4XPxg0Z6pwrs"
      }
    },
    {
      "cell_type": "code",
      "source": [
        "h8sorted=h8read.sort_values(by='Profit', ascending=False)\n",
        "print(h8sorted)\n",
        "\n",
        "\n",
        "\n",
        "\n",
        "\n",
        "\n",
        "\n",
        "\n",
        "\n"
      ],
      "metadata": {
        "id": "iCfpA1supxvs",
        "colab": {
          "base_uri": "https://localhost:8080/"
        },
        "outputId": "c05e9fa0-8a61-4378-e6b9-c32cd587223f"
      },
      "execution_count": 11,
      "outputs": [
        {
          "output_type": "stream",
          "name": "stdout",
          "text": [
            "    R&D Spend  Administration  Marketing Spend       State     Profit\n",
            "0   165349.20       136897.80        471784.10    New York  192261.83\n",
            "1   162597.70       151377.59        443898.53  California  191792.06\n",
            "2   153441.51       101145.55        407934.54     Florida  191050.39\n",
            "3   144372.41       118671.85        383199.62    New York  182901.99\n",
            "4   142107.34        91391.77        366168.42     Florida  166187.94\n",
            "5   131876.90        99814.71        362861.36    New York  156991.12\n",
            "6   134615.46       147198.87        127716.82  California  156122.51\n",
            "7   130298.13       145530.06        323876.68     Florida  155752.60\n",
            "8   120542.52       148718.95        311613.29    New York  152211.77\n",
            "9   123334.88       108679.17        304981.62  California  149759.96\n",
            "10  101913.08       110594.11        229160.95     Florida  146121.95\n",
            "11  100671.96        91790.61        249744.55  California  144259.40\n",
            "12   93863.75       127320.38        249839.44     Florida  141585.52\n",
            "13   91992.39       135495.07        252664.93  California  134307.35\n",
            "14  119943.24       156547.42        256512.92     Florida  132602.65\n",
            "15  114523.61       122616.84        261776.23    New York  129917.04\n",
            "16   78013.11       121597.55        264346.06  California  126992.93\n",
            "17   94657.16       145077.58        282574.31    New York  125370.37\n",
            "18   91749.16       114175.79        294919.57     Florida  124266.90\n",
            "19   86419.70       153514.11             0.00    New York  122776.86\n",
            "20   76253.86       113867.30        298664.47  California  118474.03\n",
            "21   78389.47       153773.43        299737.29    New York  111313.02\n",
            "22   73994.56       122782.75        303319.26     Florida  110352.25\n",
            "23   67532.53       105751.03        304768.73     Florida  108733.99\n",
            "24   77044.01        99281.34        140574.81    New York  108552.04\n",
            "25   64664.71       139553.16        137962.62  California  107404.34\n",
            "26   75328.87       144135.98        134050.07     Florida  105733.54\n",
            "27   72107.60       127864.55        353183.81    New York  105008.31\n",
            "28   66051.52       182645.56        118148.20     Florida  103282.38\n",
            "29   65605.48       153032.06        107138.38    New York  101004.64\n",
            "30   61994.48       115641.28         91131.24     Florida   99937.59\n",
            "31   61136.38       152701.92         88218.23    New York   97483.56\n",
            "32   63408.86       129219.61         46085.25  California   97427.84\n",
            "33   55493.95       103057.49        214634.81     Florida   96778.92\n",
            "34   46426.07       157693.92        210797.67  California   96712.80\n",
            "35   46014.02        85047.44        205517.64    New York   96479.51\n",
            "36   28663.76       127056.21        201126.82     Florida   90708.19\n",
            "37   44069.95        51283.14        197029.42  California   89949.14\n",
            "38   20229.59        65947.93        185265.10    New York   81229.06\n",
            "39   38558.51        82982.09        174999.30  California   81005.76\n",
            "40   28754.33       118546.05        172795.67  California   78239.91\n",
            "41   27892.92        84710.77        164470.71     Florida   77798.83\n",
            "42   23640.93        96189.63        148001.11  California   71498.49\n",
            "43   15505.73       127382.30         35534.17    New York   69758.98\n",
            "44   22177.74       154806.14         28334.72  California   65200.33\n",
            "45    1000.23       124153.04          1903.93    New York   64926.08\n",
            "46    1315.46       115816.21        297114.46     Florida   49490.75\n",
            "47       0.00       135426.92             0.00  California   42559.73\n",
            "48     542.05        51743.15             0.00    New York   35673.41\n",
            "49       0.00       116983.80         45173.06  California   14681.40\n"
          ]
        }
      ]
    },
    {
      "cell_type": "markdown",
      "source": [
        "\n",
        "\n",
        "\n",
        "---\n",
        "\n",
        "\n",
        "---\n",
        "\n"
      ],
      "metadata": {
        "id": "Kfwe7mo3ZL-_"
      }
    },
    {
      "cell_type": "markdown",
      "source": [
        "7. Group the data by 'State' and calculate the total 'Profit' for each state.\n",
        "\n"
      ],
      "metadata": {
        "id": "MkaJtIJipx3D"
      }
    },
    {
      "cell_type": "code",
      "source": [
        "h8profit_by_state=h8read.groupby('State')['Profit'].sum().reset_index()\n",
        "print(h8profit_by_state)\n",
        "\n",
        "\n",
        "\n",
        "\n",
        "\n",
        "\n",
        "\n",
        "\n"
      ],
      "metadata": {
        "id": "81W9p9_TpzdV",
        "colab": {
          "base_uri": "https://localhost:8080/"
        },
        "outputId": "448ff1d9-0d9d-4be4-b42c-d8bd610bf583"
      },
      "execution_count": 12,
      "outputs": [
        {
          "output_type": "stream",
          "name": "stdout",
          "text": [
            "        State      Profit\n",
            "0  California  1766387.98\n",
            "1     Florida  1900384.39\n",
            "2    New York  1933859.59\n"
          ]
        }
      ]
    },
    {
      "cell_type": "markdown",
      "source": [
        "\n",
        "\n",
        "\n",
        "---\n",
        "\n",
        "\n",
        "---\n",
        "\n"
      ],
      "metadata": {
        "id": "gOOFuCtSZQdC"
      }
    },
    {
      "cell_type": "markdown",
      "source": [
        "8. Create a bar chart to visualize the total 'Profit' by 'State.'\n",
        "\n"
      ],
      "metadata": {
        "id": "C1pyEEfvpzky"
      }
    },
    {
      "cell_type": "code",
      "source": [
        "import matplotlib.pyplot as plt\n",
        "\n",
        "plt.bar(h8profit_by_state['State'], h8profit_by_state['Profit'], color='orange')\n",
        "plt.title('Profit by state')\n",
        "plt.xlabel('State')\n",
        "plt.ylabel('Profit')\n",
        "\n",
        "plt.show()\n",
        "\n",
        "\n",
        "\n",
        "\n",
        "\n",
        "\n",
        "\n"
      ],
      "metadata": {
        "id": "QOJXsbNGp1BD",
        "colab": {
          "base_uri": "https://localhost:8080/",
          "height": 472
        },
        "outputId": "070430a9-5e2d-4fa1-d0bb-f241892c1993"
      },
      "execution_count": 15,
      "outputs": [
        {
          "output_type": "display_data",
          "data": {
            "text/plain": [
              "<Figure size 640x480 with 1 Axes>"
            ],
            "image/png": "[encoded data removed]"
          },
          "metadata": {}
        }
      ]
    },
    {
      "cell_type": "code",
      "source": [
        "\n"
      ],
      "metadata": {
        "id": "-Hl8kLW2BPHp"
      },
      "execution_count": 13,
      "outputs": []
    },
    {
      "cell_type": "markdown",
      "source": [
        "\n",
        "\n",
        "\n",
        "---\n",
        "\n",
        "\n",
        "---\n",
        "\n"
      ],
      "metadata": {
        "id": "c8iB2WASZUhc"
      }
    },
    {
      "cell_type": "markdown",
      "source": [
        "9. Calculate the correlation between 'R&D_Spend' and 'Profit.'\n",
        "\n"
      ],
      "metadata": {
        "id": "zjoIiI8Zp1Lo"
      }
    },
    {
      "cell_type": "code",
      "source": [
        "#corr\n",
        "h8corr=h8read['R&D Spend'].corr(h8read['Profit'])\n",
        "print(f' the correlation between R&D and Profit is {h8corr}')\n",
        "\n",
        "\n",
        "\n",
        "\n",
        "\n",
        "\n",
        "\n"
      ],
      "metadata": {
        "id": "ET03oeaXp21B",
        "colab": {
          "base_uri": "https://localhost:8080/"
        },
        "outputId": "aa42c01c-7bd7-44fc-ffb0-bfaaa885c67d"
      },
      "execution_count": 14,
      "outputs": [
        {
          "output_type": "stream",
          "name": "stdout",
          "text": [
            " the correlation between R&D and Profit is 0.9729004656594832\n"
          ]
        }
      ]
    },
    {
      "cell_type": "markdown",
      "source": [
        "\n",
        "\n",
        "---\n",
        "\n",
        "\n",
        "\n",
        "---\n",
        "\n",
        "\n",
        "\n",
        "---\n",
        "\n"
      ],
      "metadata": {
        "id": "-BoSHhM7ZYGO"
      }
    },
    {
      "cell_type": "markdown",
      "source": [
        "10. Create a new column 'Total_Spend' that represents the sum of 'R&D_Spend,' 'Administration,' and 'Marketing_Spend' for each company.\n",
        "\n"
      ],
      "metadata": {
        "id": "3JPAQM97p28V"
      }
    },
    {
      "cell_type": "code",
      "source": [
        "print(h8read.head())"
      ],
      "metadata": {
        "colab": {
          "base_uri": "https://localhost:8080/"
        },
        "id": "7j0sqUSbG3wx",
        "outputId": "dfe95ae1-0013-4e74-8598-f78deae92ac9"
      },
      "execution_count": null,
      "outputs": [
        {
          "output_type": "stream",
          "name": "stdout",
          "text": [
            "   R&D Spend  Administration  Marketing Spend       State     Profit\n",
            "0  165349.20       136897.80        471784.10    New York  192261.83\n",
            "1  162597.70       151377.59        443898.53  California  191792.06\n",
            "2  153441.51       101145.55        407934.54     Florida  191050.39\n",
            "3  144372.41       118671.85        383199.62    New York  182901.99\n",
            "4  142107.34        91391.77        366168.42     Florida  166187.94\n"
          ]
        }
      ]
    },
    {
      "cell_type": "code",
      "source": [
        "h8read['Total_Spend'] = h8read['R&D Spend'] + h8read['Administration'] + h8read['Marketing Spend']\n",
        "print(h8read.head())\n",
        "\n",
        "\n",
        "\n",
        "\n",
        "\n",
        "\n",
        "\n",
        "\n",
        "\n",
        "\n",
        "\n"
      ],
      "metadata": {
        "id": "hnefEKfSp4G4",
        "colab": {
          "base_uri": "https://localhost:8080/"
        },
        "outputId": "0911bb0b-6745-4461-80b6-18ccae21aa0c"
      },
      "execution_count": 21,
      "outputs": [
        {
          "output_type": "stream",
          "name": "stdout",
          "text": [
            "   R&D Spend  Administration  Marketing Spend       State     Profit  \\\n",
            "0  165349.20       136897.80        471784.10    New York  192261.83   \n",
            "1  162597.70       151377.59        443898.53  California  191792.06   \n",
            "2  153441.51       101145.55        407934.54     Florida  191050.39   \n",
            "3  144372.41       118671.85        383199.62    New York  182901.99   \n",
            "4  142107.34        91391.77        366168.42     Florida  166187.94   \n",
            "\n",
            "   Total_Spend  \n",
            "0    774031.10  \n",
            "1    757873.82  \n",
            "2    662521.60  \n",
            "3    646243.88  \n",
            "4    599667.53  \n"
          ]
        }
      ]
    },
    {
      "cell_type": "markdown",
      "source": [
        "11. Calculate the average **R&D_Spend**, **Administration**, and **Marketing_Spend** for companies located in each **State**\n",
        "\n"
      ],
      "metadata": {
        "id": "VpXSCEKfp4Nk"
      }
    },
    {
      "cell_type": "code",
      "source": [
        "h8AVG_BY_ST=h8read.groupby('State')[['R&D Spend','Administration', 'Marketing Spend']].mean().reset_index()\n",
        "print('average by state')\n",
        "print(h8AVG_BY_ST)\n",
        "\n",
        "\n",
        "\n",
        "\n",
        "\n",
        "\n",
        "\n"
      ],
      "metadata": {
        "id": "V6jGd293p5YB",
        "colab": {
          "base_uri": "https://localhost:8080/"
        },
        "outputId": "0abddaa1-a2fc-4c3c-90e4-54c165d0d7a5"
      },
      "execution_count": 22,
      "outputs": [
        {
          "output_type": "stream",
          "name": "stdout",
          "text": [
            "average by state\n",
            "        State     R&D Spend  Administration  Marketing Spend\n",
            "0  California  64657.674118   120746.507059    182540.929412\n",
            "1     Florida  80724.016250   121768.897500    247323.551250\n",
            "2    New York  76195.062353   121543.470588    205346.015882\n"
          ]
        }
      ]
    },
    {
      "cell_type": "markdown",
      "source": [
        "\n",
        "\n",
        "---\n",
        "\n",
        "\n",
        "\n",
        "---\n",
        "\n"
      ],
      "metadata": {
        "id": "uTCt-sVLZnmu"
      }
    },
    {
      "cell_type": "markdown",
      "source": [
        "12. Create a histogram to visualize the distribution of 'Profit.'\n",
        "\n"
      ],
      "metadata": {
        "id": "P4jllTczp5e0"
      }
    },
    {
      "cell_type": "code",
      "source": [
        "#already did matplot\n",
        "\n",
        "plt.bar(h8read['State'], h8read['Profit'], color='orange')\n",
        "\n",
        "plt.title('distribution of profit')\n",
        "plt.xlabel('State')\n",
        "plt.ylabel('Profit')\n",
        "plt.show()\n",
        "\n",
        "\n",
        "\n",
        "\n",
        "\n",
        "\n",
        "\n",
        "\n"
      ],
      "metadata": {
        "id": "dLfUYGi3p624",
        "colab": {
          "base_uri": "https://localhost:8080/",
          "height": 472
        },
        "outputId": "bd191cb8-3b06-422e-a290-178f44643c47"
      },
      "execution_count": 27,
      "outputs": [
        {
          "output_type": "display_data",
          "data": {
            "text/plain": [
              "<Figure size 640x480 with 1 Axes>"
            ],
            "image/png": "[encoded data removed]"
          },
          "metadata": {}
        }
      ]
    },
    {
      "cell_type": "markdown",
      "source": [
        "\n",
        "\n",
        "---\n",
        "\n",
        "\n",
        "\n",
        "---\n",
        "\n"
      ],
      "metadata": {
        "id": "fSEJtTNKZuvL"
      }
    },
    {
      "cell_type": "markdown",
      "source": [
        "13. Filter the dataset to include only companies with 'R&D_Spend' greater than a 12000.\n",
        "\n"
      ],
      "metadata": {
        "id": "3Aw_Q7d-p69y"
      }
    },
    {
      "cell_type": "code",
      "source": [
        "h8filter=h8read[h8read['R&D Spend']>12000]\n",
        "print(h8filter)\n",
        "\n",
        "\n",
        "\n",
        "\n",
        "\n",
        "\n",
        "\n",
        "\n",
        "\n",
        "\n",
        "\n"
      ],
      "metadata": {
        "id": "6UzkLN1sp8pT",
        "colab": {
          "base_uri": "https://localhost:8080/"
        },
        "outputId": "497409d5-8bea-4176-fb3f-8282d1ba8137"
      },
      "execution_count": null,
      "outputs": [
        {
          "output_type": "stream",
          "name": "stdout",
          "text": [
            "    R&D Spend  Administration  Marketing Spend       State     Profit  \\\n",
            "0   165349.20       136897.80        471784.10    New York  192261.83   \n",
            "1   162597.70       151377.59        443898.53  California  191792.06   \n",
            "2   153441.51       101145.55        407934.54     Florida  191050.39   \n",
            "3   144372.41       118671.85        383199.62    New York  182901.99   \n",
            "4   142107.34        91391.77        366168.42     Florida  166187.94   \n",
            "5   131876.90        99814.71        362861.36    New York  156991.12   \n",
            "6   134615.46       147198.87        127716.82  California  156122.51   \n",
            "7   130298.13       145530.06        323876.68     Florida  155752.60   \n",
            "8   120542.52       148718.95        311613.29    New York  152211.77   \n",
            "9   123334.88       108679.17        304981.62  California  149759.96   \n",
            "10  101913.08       110594.11        229160.95     Florida  146121.95   \n",
            "11  100671.96        91790.61        249744.55  California  144259.40   \n",
            "12   93863.75       127320.38        249839.44     Florida  141585.52   \n",
            "13   91992.39       135495.07        252664.93  California  134307.35   \n",
            "14  119943.24       156547.42        256512.92     Florida  132602.65   \n",
            "15  114523.61       122616.84        261776.23    New York  129917.04   \n",
            "16   78013.11       121597.55        264346.06  California  126992.93   \n",
            "17   94657.16       145077.58        282574.31    New York  125370.37   \n",
            "18   91749.16       114175.79        294919.57     Florida  124266.90   \n",
            "19   86419.70       153514.11             0.00    New York  122776.86   \n",
            "20   76253.86       113867.30        298664.47  California  118474.03   \n",
            "21   78389.47       153773.43        299737.29    New York  111313.02   \n",
            "22   73994.56       122782.75        303319.26     Florida  110352.25   \n",
            "23   67532.53       105751.03        304768.73     Florida  108733.99   \n",
            "24   77044.01        99281.34        140574.81    New York  108552.04   \n",
            "25   64664.71       139553.16        137962.62  California  107404.34   \n",
            "26   75328.87       144135.98        134050.07     Florida  105733.54   \n",
            "27   72107.60       127864.55        353183.81    New York  105008.31   \n",
            "28   66051.52       182645.56        118148.20     Florida  103282.38   \n",
            "29   65605.48       153032.06        107138.38    New York  101004.64   \n",
            "30   61994.48       115641.28         91131.24     Florida   99937.59   \n",
            "31   61136.38       152701.92         88218.23    New York   97483.56   \n",
            "32   63408.86       129219.61         46085.25  California   97427.84   \n",
            "33   55493.95       103057.49        214634.81     Florida   96778.92   \n",
            "34   46426.07       157693.92        210797.67  California   96712.80   \n",
            "35   46014.02        85047.44        205517.64    New York   96479.51   \n",
            "36   28663.76       127056.21        201126.82     Florida   90708.19   \n",
            "37   44069.95        51283.14        197029.42  California   89949.14   \n",
            "38   20229.59        65947.93        185265.10    New York   81229.06   \n",
            "39   38558.51        82982.09        174999.30  California   81005.76   \n",
            "40   28754.33       118546.05        172795.67  California   78239.91   \n",
            "41   27892.92        84710.77        164470.71     Florida   77798.83   \n",
            "42   23640.93        96189.63        148001.11  California   71498.49   \n",
            "43   15505.73       127382.30         35534.17    New York   69758.98   \n",
            "44   22177.74       154806.14         28334.72  California   65200.33   \n",
            "\n",
            "    Total_Spend  \n",
            "0     774031.10  \n",
            "1     757873.82  \n",
            "2     662521.60  \n",
            "3     646243.88  \n",
            "4     599667.53  \n",
            "5     594552.97  \n",
            "6     409531.15  \n",
            "7     599704.87  \n",
            "8     580874.76  \n",
            "9     536995.67  \n",
            "10    441668.14  \n",
            "11    442207.12  \n",
            "12    471023.57  \n",
            "13    480152.39  \n",
            "14    533003.58  \n",
            "15    498916.68  \n",
            "16    463956.72  \n",
            "17    522309.05  \n",
            "18    500844.52  \n",
            "19    239933.81  \n",
            "20    488785.63  \n",
            "21    531900.19  \n",
            "22    500096.57  \n",
            "23    478052.29  \n",
            "24    316900.16  \n",
            "25    342180.49  \n",
            "26    353514.92  \n",
            "27    553155.96  \n",
            "28    366845.28  \n",
            "29    325775.92  \n",
            "30    268767.00  \n",
            "31    302056.53  \n",
            "32    238713.72  \n",
            "33    373186.25  \n",
            "34    414917.66  \n",
            "35    336579.10  \n",
            "36    356846.79  \n",
            "37    292382.51  \n",
            "38    271442.62  \n",
            "39    296539.90  \n",
            "40    320096.05  \n",
            "41    277074.40  \n",
            "42    267831.67  \n",
            "43    178422.20  \n",
            "44    205318.60  \n"
          ]
        }
      ]
    },
    {
      "cell_type": "markdown",
      "source": [
        "\n",
        "\n",
        "---\n",
        "\n",
        "\n",
        "\n",
        "---\n",
        "\n"
      ],
      "metadata": {
        "id": "zmqijtAqZxg0"
      }
    },
    {
      "cell_type": "markdown",
      "source": [
        "14. Calculate the total 'Profit' for companies with 'Marketing_Spend' above a certain threshold.\n",
        "\n"
      ],
      "metadata": {
        "id": "IFCNM-Wup9_k"
      }
    },
    {
      "cell_type": "code",
      "source": [
        "h8profit_marketing_spend=91131\n",
        "h8market_filter=h8read[h8read['Marketing Spend']>h8profit_marketing_spend]\n",
        "h8totalprofsum=h8market_filter['Profit'].sum()\n",
        "print(f'total profit for the marketing in all states above {h8profit_marketing_spend} is {h8totalprofsum}')\n",
        "\n",
        "\n",
        "\n",
        "\n",
        "\n",
        "\n",
        "\n",
        "\n",
        "\n",
        "\n",
        "\n"
      ],
      "metadata": {
        "id": "WrbrU4KTp_pG",
        "colab": {
          "base_uri": "https://localhost:8080/"
        },
        "outputId": "81c7ed7b-ee6c-4a90-e16a-43bc0afdadc6"
      },
      "execution_count": 29,
      "outputs": [
        {
          "output_type": "stream",
          "name": "stdout",
          "text": [
            "total profit for the marketing in all states above 91131 is 4990143.7700000005\n"
          ]
        }
      ]
    },
    {
      "cell_type": "markdown",
      "source": [
        "15. Replace any missing values in the 'Marketing_Spend' column with the mean spending of the dataset.\n",
        "\n"
      ],
      "metadata": {
        "id": "5f3AzWxWp_11"
      }
    },
    {
      "cell_type": "code",
      "source": [
        "#use filna\n",
        "h8read['Marketing Spend'].fillna(h8read['Marketing Spend'].mean(), inplace=True)#used inplace function to replace na values with the mean values\n",
        "print(h8read.head())\n",
        "\n",
        "\n",
        "\n",
        "\n",
        "\n",
        "\n",
        "\n",
        "\n",
        "\n",
        "\n"
      ],
      "metadata": {
        "id": "7irTxP7pqBMZ",
        "colab": {
          "base_uri": "https://localhost:8080/"
        },
        "outputId": "b72f06de-e792-4fd8-a1f6-2e708e88d33a"
      },
      "execution_count": 35,
      "outputs": [
        {
          "output_type": "stream",
          "name": "stdout",
          "text": [
            "   R&D Spend  Administration  Marketing Spend       State     Profit  \\\n",
            "0  165349.20       136897.80        471784.10    New York  192261.83   \n",
            "1  162597.70       151377.59        443898.53  California  191792.06   \n",
            "2  153441.51       101145.55        407934.54     Florida  191050.39   \n",
            "3  144372.41       118671.85        383199.62    New York  182901.99   \n",
            "4  142107.34        91391.77        366168.42     Florida  166187.94   \n",
            "\n",
            "   Total_Spend  \n",
            "0    774031.10  \n",
            "1    757873.82  \n",
            "2    662521.60  \n",
            "3    646243.88  \n",
            "4    599667.53  \n"
          ]
        }
      ]
    },
    {
      "cell_type": "markdown",
      "source": [
        "\n",
        "\n",
        "\n",
        "---\n",
        "\n",
        "\n",
        "---\n",
        "\n"
      ],
      "metadata": {
        "id": "gSL3LtfTZ8yu"
      }
    },
    {
      "cell_type": "markdown",
      "source": [
        "16. Create a new column 'Profit_Margin' that represents the profit margin for each company (Profit / Total_Spend).\n",
        "\n"
      ],
      "metadata": {
        "id": "hDzBUjHsqBTS"
      }
    },
    {
      "cell_type": "code",
      "source": [
        "h8read['Profit Margin']=h8read['Profit']/h8read['Total_Spend']\n",
        "print(h8read)\n",
        "\n",
        "\n",
        "\n",
        "\n",
        "\n",
        "\n",
        "\n",
        "\n",
        "\n",
        "\n",
        "\n",
        "\n",
        "\n",
        "\n"
      ],
      "metadata": {
        "id": "hjLIAfJvqCgV",
        "colab": {
          "base_uri": "https://localhost:8080/"
        },
        "outputId": "0963a45f-9dcf-4992-e344-b5948e0d0b8e"
      },
      "execution_count": 36,
      "outputs": [
        {
          "output_type": "stream",
          "name": "stdout",
          "text": [
            "    R&D Spend  Administration  Marketing Spend       State     Profit  \\\n",
            "0   165349.20       136897.80        471784.10    New York  192261.83   \n",
            "1   162597.70       151377.59        443898.53  California  191792.06   \n",
            "2   153441.51       101145.55        407934.54     Florida  191050.39   \n",
            "3   144372.41       118671.85        383199.62    New York  182901.99   \n",
            "4   142107.34        91391.77        366168.42     Florida  166187.94   \n",
            "5   131876.90        99814.71        362861.36    New York  156991.12   \n",
            "6   134615.46       147198.87        127716.82  California  156122.51   \n",
            "7   130298.13       145530.06        323876.68     Florida  155752.60   \n",
            "8   120542.52       148718.95        311613.29    New York  152211.77   \n",
            "9   123334.88       108679.17        304981.62  California  149759.96   \n",
            "10  101913.08       110594.11        229160.95     Florida  146121.95   \n",
            "11  100671.96        91790.61        249744.55  California  144259.40   \n",
            "12   93863.75       127320.38        249839.44     Florida  141585.52   \n",
            "13   91992.39       135495.07        252664.93  California  134307.35   \n",
            "14  119943.24       156547.42        256512.92     Florida  132602.65   \n",
            "15  114523.61       122616.84        261776.23    New York  129917.04   \n",
            "16   78013.11       121597.55        264346.06  California  126992.93   \n",
            "17   94657.16       145077.58        282574.31    New York  125370.37   \n",
            "18   91749.16       114175.79        294919.57     Florida  124266.90   \n",
            "19   86419.70       153514.11             0.00    New York  122776.86   \n",
            "20   76253.86       113867.30        298664.47  California  118474.03   \n",
            "21   78389.47       153773.43        299737.29    New York  111313.02   \n",
            "22   73994.56       122782.75        303319.26     Florida  110352.25   \n",
            "23   67532.53       105751.03        304768.73     Florida  108733.99   \n",
            "24   77044.01        99281.34        140574.81    New York  108552.04   \n",
            "25   64664.71       139553.16        137962.62  California  107404.34   \n",
            "26   75328.87       144135.98        134050.07     Florida  105733.54   \n",
            "27   72107.60       127864.55        353183.81    New York  105008.31   \n",
            "28   66051.52       182645.56        118148.20     Florida  103282.38   \n",
            "29   65605.48       153032.06        107138.38    New York  101004.64   \n",
            "30   61994.48       115641.28         91131.24     Florida   99937.59   \n",
            "31   61136.38       152701.92         88218.23    New York   97483.56   \n",
            "32   63408.86       129219.61         46085.25  California   97427.84   \n",
            "33   55493.95       103057.49        214634.81     Florida   96778.92   \n",
            "34   46426.07       157693.92        210797.67  California   96712.80   \n",
            "35   46014.02        85047.44        205517.64    New York   96479.51   \n",
            "36   28663.76       127056.21        201126.82     Florida   90708.19   \n",
            "37   44069.95        51283.14        197029.42  California   89949.14   \n",
            "38   20229.59        65947.93        185265.10    New York   81229.06   \n",
            "39   38558.51        82982.09        174999.30  California   81005.76   \n",
            "40   28754.33       118546.05        172795.67  California   78239.91   \n",
            "41   27892.92        84710.77        164470.71     Florida   77798.83   \n",
            "42   23640.93        96189.63        148001.11  California   71498.49   \n",
            "43   15505.73       127382.30         35534.17    New York   69758.98   \n",
            "44   22177.74       154806.14         28334.72  California   65200.33   \n",
            "45    1000.23       124153.04          1903.93    New York   64926.08   \n",
            "46    1315.46       115816.21        297114.46     Florida   49490.75   \n",
            "47       0.00       135426.92             0.00  California   42559.73   \n",
            "48     542.05        51743.15             0.00    New York   35673.41   \n",
            "49       0.00       116983.80         45173.06  California   14681.40   \n",
            "\n",
            "    Total_Spend  Profit Margin  \n",
            "0     774031.10       0.248390  \n",
            "1     757873.82       0.253066  \n",
            "2     662521.60       0.288369  \n",
            "3     646243.88       0.283023  \n",
            "4     599667.53       0.277133  \n",
            "5     594552.97       0.264049  \n",
            "6     409531.15       0.381223  \n",
            "7     599704.87       0.259715  \n",
            "8     580874.76       0.262039  \n",
            "9     536995.67       0.278885  \n",
            "10    441668.14       0.330841  \n",
            "11    442207.12       0.326226  \n",
            "12    471023.57       0.300591  \n",
            "13    480152.39       0.279718  \n",
            "14    533003.58       0.248784  \n",
            "15    498916.68       0.260398  \n",
            "16    463956.72       0.273717  \n",
            "17    522309.05       0.240031  \n",
            "18    500844.52       0.248115  \n",
            "19    239933.81       0.511711  \n",
            "20    488785.63       0.242384  \n",
            "21    531900.19       0.209274  \n",
            "22    500096.57       0.220662  \n",
            "23    478052.29       0.227452  \n",
            "24    316900.16       0.342543  \n",
            "25    342180.49       0.313882  \n",
            "26    353514.92       0.299092  \n",
            "27    553155.96       0.189835  \n",
            "28    366845.28       0.281542  \n",
            "29    325775.92       0.310043  \n",
            "30    268767.00       0.371837  \n",
            "31    302056.53       0.322733  \n",
            "32    238713.72       0.408137  \n",
            "33    373186.25       0.259331  \n",
            "34    414917.66       0.233089  \n",
            "35    336579.10       0.286647  \n",
            "36    356846.79       0.254194  \n",
            "37    292382.51       0.307642  \n",
            "38    271442.62       0.299249  \n",
            "39    296539.90       0.273170  \n",
            "40    320096.05       0.244426  \n",
            "41    277074.40       0.280787  \n",
            "42    267831.67       0.266953  \n",
            "43    178422.20       0.390977  \n",
            "44    205318.60       0.317557  \n",
            "45    127057.20       0.510999  \n",
            "46    414246.13       0.119472  \n",
            "47    135426.92       0.314263  \n",
            "48     52285.20       0.682285  \n",
            "49    162156.86       0.090538  \n"
          ]
        }
      ]
    },
    {
      "cell_type": "markdown",
      "source": [
        "\n",
        "\n",
        "---\n",
        "\n",
        "\n",
        "\n",
        "---\n",
        "\n",
        "\n",
        "\n",
        "---\n",
        "\n"
      ],
      "metadata": {
        "id": "1oYfihHQaNdp"
      }
    },
    {
      "cell_type": "markdown",
      "source": [
        "17. Sort the dataset by 'Profit_Margin' in descending order.\n",
        "\n"
      ],
      "metadata": {
        "id": "EKSiuWOTqCnA"
      }
    },
    {
      "cell_type": "code",
      "source": [
        "h8ProfitMarginSort= h8read.sort_values(by='Profit Margin', ascending=False)\n",
        "print(h8ProfitMarginSort)\n",
        "\n",
        "\n",
        "\n",
        "\n",
        "\n",
        "\n",
        "\n",
        "\n",
        "\n"
      ],
      "metadata": {
        "id": "b0nz2-qtqDsy",
        "colab": {
          "base_uri": "https://localhost:8080/"
        },
        "outputId": "4ba90661-1a53-4ae0-c9d5-adac7f43bfc2"
      },
      "execution_count": 41,
      "outputs": [
        {
          "output_type": "stream",
          "name": "stdout",
          "text": [
            "    R&D Spend  Administration  Marketing Spend       State     Profit  \\\n",
            "48     542.05        51743.15             0.00    New York   35673.41   \n",
            "19   86419.70       153514.11             0.00    New York  122776.86   \n",
            "45    1000.23       124153.04          1903.93    New York   64926.08   \n",
            "32   63408.86       129219.61         46085.25  California   97427.84   \n",
            "43   15505.73       127382.30         35534.17    New York   69758.98   \n",
            "6   134615.46       147198.87        127716.82  California  156122.51   \n",
            "30   61994.48       115641.28         91131.24     Florida   99937.59   \n",
            "24   77044.01        99281.34        140574.81    New York  108552.04   \n",
            "10  101913.08       110594.11        229160.95     Florida  146121.95   \n",
            "11  100671.96        91790.61        249744.55  California  144259.40   \n",
            "31   61136.38       152701.92         88218.23    New York   97483.56   \n",
            "44   22177.74       154806.14         28334.72  California   65200.33   \n",
            "47       0.00       135426.92             0.00  California   42559.73   \n",
            "25   64664.71       139553.16        137962.62  California  107404.34   \n",
            "29   65605.48       153032.06        107138.38    New York  101004.64   \n",
            "37   44069.95        51283.14        197029.42  California   89949.14   \n",
            "12   93863.75       127320.38        249839.44     Florida  141585.52   \n",
            "38   20229.59        65947.93        185265.10    New York   81229.06   \n",
            "26   75328.87       144135.98        134050.07     Florida  105733.54   \n",
            "2   153441.51       101145.55        407934.54     Florida  191050.39   \n",
            "35   46014.02        85047.44        205517.64    New York   96479.51   \n",
            "3   144372.41       118671.85        383199.62    New York  182901.99   \n",
            "28   66051.52       182645.56        118148.20     Florida  103282.38   \n",
            "41   27892.92        84710.77        164470.71     Florida   77798.83   \n",
            "13   91992.39       135495.07        252664.93  California  134307.35   \n",
            "9   123334.88       108679.17        304981.62  California  149759.96   \n",
            "4   142107.34        91391.77        366168.42     Florida  166187.94   \n",
            "16   78013.11       121597.55        264346.06  California  126992.93   \n",
            "39   38558.51        82982.09        174999.30  California   81005.76   \n",
            "42   23640.93        96189.63        148001.11  California   71498.49   \n",
            "5   131876.90        99814.71        362861.36    New York  156991.12   \n",
            "8   120542.52       148718.95        311613.29    New York  152211.77   \n",
            "15  114523.61       122616.84        261776.23    New York  129917.04   \n",
            "7   130298.13       145530.06        323876.68     Florida  155752.60   \n",
            "33   55493.95       103057.49        214634.81     Florida   96778.92   \n",
            "36   28663.76       127056.21        201126.82     Florida   90708.19   \n",
            "1   162597.70       151377.59        443898.53  California  191792.06   \n",
            "14  119943.24       156547.42        256512.92     Florida  132602.65   \n",
            "0   165349.20       136897.80        471784.10    New York  192261.83   \n",
            "18   91749.16       114175.79        294919.57     Florida  124266.90   \n",
            "40   28754.33       118546.05        172795.67  California   78239.91   \n",
            "20   76253.86       113867.30        298664.47  California  118474.03   \n",
            "17   94657.16       145077.58        282574.31    New York  125370.37   \n",
            "34   46426.07       157693.92        210797.67  California   96712.80   \n",
            "23   67532.53       105751.03        304768.73     Florida  108733.99   \n",
            "22   73994.56       122782.75        303319.26     Florida  110352.25   \n",
            "21   78389.47       153773.43        299737.29    New York  111313.02   \n",
            "27   72107.60       127864.55        353183.81    New York  105008.31   \n",
            "46    1315.46       115816.21        297114.46     Florida   49490.75   \n",
            "49       0.00       116983.80         45173.06  California   14681.40   \n",
            "\n",
            "    Total_Spend  Profit Margin  \n",
            "48     52285.20       0.682285  \n",
            "19    239933.81       0.511711  \n",
            "45    127057.20       0.510999  \n",
            "32    238713.72       0.408137  \n",
            "43    178422.20       0.390977  \n",
            "6     409531.15       0.381223  \n",
            "30    268767.00       0.371837  \n",
            "24    316900.16       0.342543  \n",
            "10    441668.14       0.330841  \n",
            "11    442207.12       0.326226  \n",
            "31    302056.53       0.322733  \n",
            "44    205318.60       0.317557  \n",
            "47    135426.92       0.314263  \n",
            "25    342180.49       0.313882  \n",
            "29    325775.92       0.310043  \n",
            "37    292382.51       0.307642  \n",
            "12    471023.57       0.300591  \n",
            "38    271442.62       0.299249  \n",
            "26    353514.92       0.299092  \n",
            "2     662521.60       0.288369  \n",
            "35    336579.10       0.286647  \n",
            "3     646243.88       0.283023  \n",
            "28    366845.28       0.281542  \n",
            "41    277074.40       0.280787  \n",
            "13    480152.39       0.279718  \n",
            "9     536995.67       0.278885  \n",
            "4     599667.53       0.277133  \n",
            "16    463956.72       0.273717  \n",
            "39    296539.90       0.273170  \n",
            "42    267831.67       0.266953  \n",
            "5     594552.97       0.264049  \n",
            "8     580874.76       0.262039  \n",
            "15    498916.68       0.260398  \n",
            "7     599704.87       0.259715  \n",
            "33    373186.25       0.259331  \n",
            "36    356846.79       0.254194  \n",
            "1     757873.82       0.253066  \n",
            "14    533003.58       0.248784  \n",
            "0     774031.10       0.248390  \n",
            "18    500844.52       0.248115  \n",
            "40    320096.05       0.244426  \n",
            "20    488785.63       0.242384  \n",
            "17    522309.05       0.240031  \n",
            "34    414917.66       0.233089  \n",
            "23    478052.29       0.227452  \n",
            "22    500096.57       0.220662  \n",
            "21    531900.19       0.209274  \n",
            "27    553155.96       0.189835  \n",
            "46    414246.13       0.119472  \n",
            "49    162156.86       0.090538  \n"
          ]
        }
      ]
    },
    {
      "cell_type": "markdown",
      "source": [
        "\n",
        "\n",
        "---\n",
        "\n",
        "\n",
        "\n",
        "---\n",
        "\n"
      ],
      "metadata": {
        "id": "-gtiy2C4aDiN"
      }
    },
    {
      "cell_type": "markdown",
      "source": [
        "18. Calculate the average profit margin for companies in each 'State' and create a bar chart to display it.\n",
        "\n"
      ],
      "metadata": {
        "id": "v3GOIPhOqD0Z"
      }
    },
    {
      "cell_type": "code",
      "source": [
        "#avg profit margin\n",
        "\n",
        "h8AVGProfitMargin= h8read.groupby('State')['Profit Margin'].mean().reset_index()\n",
        "\n",
        "\n",
        "\n",
        "\n",
        "\n",
        "\n",
        "\n",
        "\n",
        "\n",
        "\n",
        "\n",
        "\n"
      ],
      "metadata": {
        "id": "5GS-cxTbqFe5"
      },
      "execution_count": 45,
      "outputs": []
    },
    {
      "cell_type": "code",
      "source": [
        "#bar graph\n",
        "\n",
        "plt.bar(h8AVGProfitMargin['State'], h8AVGProfitMargin['Profit Margin'])\n",
        "plt.title('AVG profit margin')\n",
        "plt.xlabel('State')\n",
        "plt.ylabel('average profit margin')\n",
        "plt.show()"
      ],
      "metadata": {
        "colab": {
          "base_uri": "https://localhost:8080/",
          "height": 472
        },
        "id": "OTyAmJvvsaDz",
        "outputId": "80c47cff-ca40-4329-c978-ae6ae46c20c7"
      },
      "execution_count": 46,
      "outputs": [
        {
          "output_type": "display_data",
          "data": {
            "text/plain": [
              "<Figure size 640x480 with 1 Axes>"
            ],
            "image/png": "[encoded data removed]"
          },
          "metadata": {}
        }
      ]
    },
    {
      "cell_type": "markdown",
      "source": [
        "\n",
        "\n",
        "---\n",
        "\n",
        "\n",
        "\n",
        "---\n",
        "\n",
        "\n",
        "\n",
        "---\n",
        "\n"
      ],
      "metadata": {
        "id": "Gc2rlCHcaHh5"
      }
    },
    {
      "cell_type": "markdown",
      "source": [
        "19. Find the maximum 'R&D_Spend' in each **State**.\n",
        "\n"
      ],
      "metadata": {
        "id": "o5JA0X1_qFm6"
      }
    },
    {
      "cell_type": "code",
      "source": [
        "h8MaxState=h8read.groupby('State')['R&D Spend'].max().reset_index()\n",
        "print(\"max r&d spending by each state is\")\n",
        "print(h8MaxState)\n",
        "\n",
        "\n",
        "\n",
        "\n",
        "\n",
        "\n",
        "\n",
        "\n",
        "\n",
        "\n",
        "\n",
        "\n",
        "\n",
        "\n"
      ],
      "metadata": {
        "id": "uL3LImrEqGqi",
        "colab": {
          "base_uri": "https://localhost:8080/"
        },
        "outputId": "9d27da97-416b-465f-9be4-53bb00d47703"
      },
      "execution_count": 48,
      "outputs": [
        {
          "output_type": "stream",
          "name": "stdout",
          "text": [
            "max r&d spending by each state is\n",
            "        State  R&D Spend\n",
            "0  California  162597.70\n",
            "1     Florida  153441.51\n",
            "2    New York  165349.20\n"
          ]
        }
      ]
    },
    {
      "cell_type": "code",
      "source": [],
      "metadata": {
        "id": "c6rXJgR1aLVY"
      },
      "execution_count": null,
      "outputs": []
    }
  ]
}