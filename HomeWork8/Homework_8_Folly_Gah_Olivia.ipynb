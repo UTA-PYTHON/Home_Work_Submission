{
  "cells": [
    {
      "cell_type": "markdown",
      "metadata": {
        "id": "B26w8VjCYKRV"
      },
      "source": [
        "# **Week 12. Homework 8. Pandas**"
      ]
    },
    {
      "cell_type": "markdown",
      "metadata": {
        "id": "Eu6PftroYo2U"
      },
      "source": [
        "\n",
        "\n",
        "---\n",
        "\n",
        "\n",
        "\n",
        "---\n",
        "\n",
        "\n",
        "\n",
        "---\n",
        "\n"
      ]
    },
    {
      "cell_type": "markdown",
      "metadata": {
        "id": "aV6E5GZXpi1M"
      },
      "source": [
        "\n",
        "1. Load the dataset into a pandas DataFrame and display the first few rows."
      ]
    },
    {
      "cell_type": "code",
      "execution_count": 8,
      "metadata": {
        "colab": {
          "base_uri": "https://localhost:8080/",
          "height": 73
        },
        "id": "HJBOXE_upncm",
        "outputId": "b71a3989-52c8-4d6b-d43b-3b0d0b36616f"
      },
      "outputs": [
        {
          "output_type": "display_data",
          "data": {
            "text/plain": [
              "<IPython.core.display.HTML object>"
            ],
            "text/html": [
              "\n",
              "     <input type=\"file\" id=\"files-bd7b3ce1-75e9-4dea-b8f1-69901f215283\" name=\"files[]\" multiple disabled\n",
              "        style=\"border:none\" />\n",
              "     <output id=\"result-bd7b3ce1-75e9-4dea-b8f1-69901f215283\">\n",
              "      Upload widget is only available when the cell has been executed in the\n",
              "      current browser session. Please rerun this cell to enable.\n",
              "      </output>\n",
              "      <script>// Copyright 2017 Google LLC\n",
              "//\n",
              "// Licensed under the Apache License, Version 2.0 (the \"License\");\n",
              "// you may not use this file except in compliance with the License.\n",
              "// You may obtain a copy of the License at\n",
              "//\n",
              "//      http://www.apache.org/licenses/LICENSE-2.0\n",
              "//\n",
              "// Unless required by applicable law or agreed to in writing, software\n",
              "// distributed under the License is distributed on an \"AS IS\" BASIS,\n",
              "// WITHOUT WARRANTIES OR CONDITIONS OF ANY KIND, either express or implied.\n",
              "// See the License for the specific language governing permissions and\n",
              "// limitations under the License.\n",
              "\n",
              "/**\n",
              " * @fileoverview Helpers for google.colab Python module.\n",
              " */\n",
              "(function(scope) {\n",
              "function span(text, styleAttributes = {}) {\n",
              "  const element = document.createElement('span');\n",
              "  element.textContent = text;\n",
              "  for (const key of Object.keys(styleAttributes)) {\n",
              "    element.style[key] = styleAttributes[key];\n",
              "  }\n",
              "  return element;\n",
              "}\n",
              "\n",
              "// Max number of bytes which will be uploaded at a time.\n",
              "const MAX_PAYLOAD_SIZE = 100 * 1024;\n",
              "\n",
              "function _uploadFiles(inputId, outputId) {\n",
              "  const steps = uploadFilesStep(inputId, outputId);\n",
              "  const outputElement = document.getElementById(outputId);\n",
              "  // Cache steps on the outputElement to make it available for the next call\n",
              "  // to uploadFilesContinue from Python.\n",
              "  outputElement.steps = steps;\n",
              "\n",
              "  return _uploadFilesContinue(outputId);\n",
              "}\n",
              "\n",
              "// This is roughly an async generator (not supported in the browser yet),\n",
              "// where there are multiple asynchronous steps and the Python side is going\n",
              "// to poll for completion of each step.\n",
              "// This uses a Promise to block the python side on completion of each step,\n",
              "// then passes the result of the previous step as the input to the next step.\n",
              "function _uploadFilesContinue(outputId) {\n",
              "  const outputElement = document.getElementById(outputId);\n",
              "  const steps = outputElement.steps;\n",
              "\n",
              "  const next = steps.next(outputElement.lastPromiseValue);\n",
              "  return Promise.resolve(next.value.promise).then((value) => {\n",
              "    // Cache the last promise value to make it available to the next\n",
              "    // step of the generator.\n",
              "    outputElement.lastPromiseValue = value;\n",
              "    return next.value.response;\n",
              "  });\n",
              "}\n",
              "\n",
              "/**\n",
              " * Generator function which is called between each async step of the upload\n",
              " * process.\n",
              " * @param {string} inputId Element ID of the input file picker element.\n",
              " * @param {string} outputId Element ID of the output display.\n",
              " * @return {!Iterable<!Object>} Iterable of next steps.\n",
              " */\n",
              "function* uploadFilesStep(inputId, outputId) {\n",
              "  const inputElement = document.getElementById(inputId);\n",
              "  inputElement.disabled = false;\n",
              "\n",
              "  const outputElement = document.getElementById(outputId);\n",
              "  outputElement.innerHTML = '';\n",
              "\n",
              "  const pickedPromise = new Promise((resolve) => {\n",
              "    inputElement.addEventListener('change', (e) => {\n",
              "      resolve(e.target.files);\n",
              "    });\n",
              "  });\n",
              "\n",
              "  const cancel = document.createElement('button');\n",
              "  inputElement.parentElement.appendChild(cancel);\n",
              "  cancel.textContent = 'Cancel upload';\n",
              "  const cancelPromise = new Promise((resolve) => {\n",
              "    cancel.onclick = () => {\n",
              "      resolve(null);\n",
              "    };\n",
              "  });\n",
              "\n",
              "  // Wait for the user to pick the files.\n",
              "  const files = yield {\n",
              "    promise: Promise.race([pickedPromise, cancelPromise]),\n",
              "    response: {\n",
              "      action: 'starting',\n",
              "    }\n",
              "  };\n",
              "\n",
              "  cancel.remove();\n",
              "\n",
              "  // Disable the input element since further picks are not allowed.\n",
              "  inputElement.disabled = true;\n",
              "\n",
              "  if (!files) {\n",
              "    return {\n",
              "      response: {\n",
              "        action: 'complete',\n",
              "      }\n",
              "    };\n",
              "  }\n",
              "\n",
              "  for (const file of files) {\n",
              "    const li = document.createElement('li');\n",
              "    li.append(span(file.name, {fontWeight: 'bold'}));\n",
              "    li.append(span(\n",
              "        `(${file.type || 'n/a'}) - ${file.size} bytes, ` +\n",
              "        `last modified: ${\n",
              "            file.lastModifiedDate ? file.lastModifiedDate.toLocaleDateString() :\n",
              "                                    'n/a'} - `));\n",
              "    const percent = span('0% done');\n",
              "    li.appendChild(percent);\n",
              "\n",
              "    outputElement.appendChild(li);\n",
              "\n",
              "    const fileDataPromise = new Promise((resolve) => {\n",
              "      const reader = new FileReader();\n",
              "      reader.onload = (e) => {\n",
              "        resolve(e.target.result);\n",
              "      };\n",
              "      reader.readAsArrayBuffer(file);\n",
              "    });\n",
              "    // Wait for the data to be ready.\n",
              "    let fileData = yield {\n",
              "      promise: fileDataPromise,\n",
              "      response: {\n",
              "        action: 'continue',\n",
              "      }\n",
              "    };\n",
              "\n",
              "    // Use a chunked sending to avoid message size limits. See b/62115660.\n",
              "    let position = 0;\n",
              "    do {\n",
              "      const length = Math.min(fileData.byteLength - position, MAX_PAYLOAD_SIZE);\n",
              "      const chunk = new Uint8Array(fileData, position, length);\n",
              "      position += length;\n",
              "\n",
              "      const base64 = btoa(String.fromCharCode.apply(null, chunk));\n",
              "      yield {\n",
              "        response: {\n",
              "          action: 'append',\n",
              "          file: file.name,\n",
              "          data: base64,\n",
              "        },\n",
              "      };\n",
              "\n",
              "      let percentDone = fileData.byteLength === 0 ?\n",
              "          100 :\n",
              "          Math.round((position / fileData.byteLength) * 100);\n",
              "      percent.textContent = `${percentDone}% done`;\n",
              "\n",
              "    } while (position < fileData.byteLength);\n",
              "  }\n",
              "\n",
              "  // All done.\n",
              "  yield {\n",
              "    response: {\n",
              "      action: 'complete',\n",
              "    }\n",
              "  };\n",
              "}\n",
              "\n",
              "scope.google = scope.google || {};\n",
              "scope.google.colab = scope.google.colab || {};\n",
              "scope.google.colab._files = {\n",
              "  _uploadFiles,\n",
              "  _uploadFilesContinue,\n",
              "};\n",
              "})(self);\n",
              "</script> "
            ]
          },
          "metadata": {}
        },
        {
          "output_type": "stream",
          "name": "stdout",
          "text": [
            "Saving Startups.xlsx to Startups.xlsx\n"
          ]
        }
      ],
      "source": [
        "from google.colab import files\n",
        "uploaded = files.upload()"
      ]
    },
    {
      "cell_type": "code",
      "execution_count": 9,
      "metadata": {
        "id": "jmNCdO87zmMN",
        "colab": {
          "base_uri": "https://localhost:8080/",
          "height": 1000
        },
        "outputId": "486138df-addb-4388-cb4f-d3b6634daf78"
      },
      "outputs": [
        {
          "output_type": "execute_result",
          "data": {
            "text/plain": [
              "    R&D Spend  Administration  Marketing Spend       State     Profit\n",
              "0   165349.20       136897.80        471784.10    New York  192261.83\n",
              "1   162597.70       151377.59        443898.53  California  191792.06\n",
              "2   153441.51       101145.55        407934.54     Florida  191050.39\n",
              "3   144372.41       118671.85        383199.62    New York  182901.99\n",
              "4   142107.34        91391.77        366168.42     Florida  166187.94\n",
              "5   131876.90        99814.71        362861.36    New York  156991.12\n",
              "6   134615.46       147198.87        127716.82  California  156122.51\n",
              "7   130298.13       145530.06        323876.68     Florida  155752.60\n",
              "8   120542.52       148718.95        311613.29    New York  152211.77\n",
              "9   123334.88       108679.17        304981.62  California  149759.96\n",
              "10  101913.08       110594.11        229160.95     Florida  146121.95\n",
              "11  100671.96        91790.61        249744.55  California  144259.40\n",
              "12   93863.75       127320.38        249839.44     Florida  141585.52\n",
              "13   91992.39       135495.07        252664.93  California  134307.35\n",
              "14  119943.24       156547.42        256512.92     Florida  132602.65\n",
              "15  114523.61       122616.84        261776.23    New York  129917.04\n",
              "16   78013.11       121597.55        264346.06  California  126992.93\n",
              "17   94657.16       145077.58        282574.31    New York  125370.37\n",
              "18   91749.16       114175.79        294919.57     Florida  124266.90\n",
              "19   86419.70       153514.11             0.00    New York  122776.86\n",
              "20   76253.86       113867.30        298664.47  California  118474.03\n",
              "21   78389.47       153773.43        299737.29    New York  111313.02\n",
              "22   73994.56       122782.75        303319.26     Florida  110352.25\n",
              "23   67532.53       105751.03        304768.73     Florida  108733.99\n",
              "24   77044.01        99281.34        140574.81    New York  108552.04\n",
              "25   64664.71       139553.16        137962.62  California  107404.34\n",
              "26   75328.87       144135.98        134050.07     Florida  105733.54\n",
              "27   72107.60       127864.55        353183.81    New York  105008.31\n",
              "28   66051.52       182645.56        118148.20     Florida  103282.38\n",
              "29   65605.48       153032.06        107138.38    New York  101004.64\n",
              "30   61994.48       115641.28         91131.24     Florida   99937.59\n",
              "31   61136.38       152701.92         88218.23    New York   97483.56\n",
              "32   63408.86       129219.61         46085.25  California   97427.84\n",
              "33   55493.95       103057.49        214634.81     Florida   96778.92\n",
              "34   46426.07       157693.92        210797.67  California   96712.80\n",
              "35   46014.02        85047.44        205517.64    New York   96479.51\n",
              "36   28663.76       127056.21        201126.82     Florida   90708.19\n",
              "37   44069.95        51283.14        197029.42  California   89949.14\n",
              "38   20229.59        65947.93        185265.10    New York   81229.06\n",
              "39   38558.51        82982.09        174999.30  California   81005.76\n",
              "40   28754.33       118546.05        172795.67  California   78239.91\n",
              "41   27892.92        84710.77        164470.71     Florida   77798.83\n",
              "42   23640.93        96189.63        148001.11  California   71498.49\n",
              "43   15505.73       127382.30         35534.17    New York   69758.98\n",
              "44   22177.74       154806.14         28334.72  California   65200.33\n",
              "45    1000.23       124153.04          1903.93    New York   64926.08\n",
              "46    1315.46       115816.21        297114.46     Florida   49490.75\n",
              "47       0.00       135426.92             0.00  California   42559.73\n",
              "48     542.05        51743.15             0.00    New York   35673.41\n",
              "49       0.00       116983.80         45173.06  California   14681.40"
            ],
            "text/html": [
              "\n",
              "  <div id=\"df-8d69f88e-7f0f-417d-8f25-e1d715e7fec9\" class=\"colab-df-container\">\n",
              "    <div>\n",
              "<style scoped>\n",
              "    .dataframe tbody tr th:only-of-type {\n",
              "        vertical-align: middle;\n",
              "    }\n",
              "\n",
              "    .dataframe tbody tr th {\n",
              "        vertical-align: top;\n",
              "    }\n",
              "\n",
              "    .dataframe thead th {\n",
              "        text-align: right;\n",
              "    }\n",
              "</style>\n",
              "<table border=\"1\" class=\"dataframe\">\n",
              "  <thead>\n",
              "    <tr style=\"text-align: right;\">\n",
              "      <th></th>\n",
              "      <th>R&amp;D Spend</th>\n",
              "      <th>Administration</th>\n",
              "      <th>Marketing Spend</th>\n",
              "      <th>State</th>\n",
              "      <th>Profit</th>\n",
              "    </tr>\n",
              "  </thead>\n",
              "  <tbody>\n",
              "    <tr>\n",
              "      <th>0</th>\n",
              "      <td>165349.20</td>\n",
              "      <td>136897.80</td>\n",
              "      <td>471784.10</td>\n",
              "      <td>New York</td>\n",
              "      <td>192261.83</td>\n",
              "    </tr>\n",
              "    <tr>\n",
              "      <th>1</th>\n",
              "      <td>162597.70</td>\n",
              "      <td>151377.59</td>\n",
              "      <td>443898.53</td>\n",
              "      <td>California</td>\n",
              "      <td>191792.06</td>\n",
              "    </tr>\n",
              "    <tr>\n",
              "      <th>2</th>\n",
              "      <td>153441.51</td>\n",
              "      <td>101145.55</td>\n",
              "      <td>407934.54</td>\n",
              "      <td>Florida</td>\n",
              "      <td>191050.39</td>\n",
              "    </tr>\n",
              "    <tr>\n",
              "      <th>3</th>\n",
              "      <td>144372.41</td>\n",
              "      <td>118671.85</td>\n",
              "      <td>383199.62</td>\n",
              "      <td>New York</td>\n",
              "      <td>182901.99</td>\n",
              "    </tr>\n",
              "    <tr>\n",
              "      <th>4</th>\n",
              "      <td>142107.34</td>\n",
              "      <td>91391.77</td>\n",
              "      <td>366168.42</td>\n",
              "      <td>Florida</td>\n",
              "      <td>166187.94</td>\n",
              "    </tr>\n",
              "    <tr>\n",
              "      <th>5</th>\n",
              "      <td>131876.90</td>\n",
              "      <td>99814.71</td>\n",
              "      <td>362861.36</td>\n",
              "      <td>New York</td>\n",
              "      <td>156991.12</td>\n",
              "    </tr>\n",
              "    <tr>\n",
              "      <th>6</th>\n",
              "      <td>134615.46</td>\n",
              "      <td>147198.87</td>\n",
              "      <td>127716.82</td>\n",
              "      <td>California</td>\n",
              "      <td>156122.51</td>\n",
              "    </tr>\n",
              "    <tr>\n",
              "      <th>7</th>\n",
              "      <td>130298.13</td>\n",
              "      <td>145530.06</td>\n",
              "      <td>323876.68</td>\n",
              "      <td>Florida</td>\n",
              "      <td>155752.60</td>\n",
              "    </tr>\n",
              "    <tr>\n",
              "      <th>8</th>\n",
              "      <td>120542.52</td>\n",
              "      <td>148718.95</td>\n",
              "      <td>311613.29</td>\n",
              "      <td>New York</td>\n",
              "      <td>152211.77</td>\n",
              "    </tr>\n",
              "    <tr>\n",
              "      <th>9</th>\n",
              "      <td>123334.88</td>\n",
              "      <td>108679.17</td>\n",
              "      <td>304981.62</td>\n",
              "      <td>California</td>\n",
              "      <td>149759.96</td>\n",
              "    </tr>\n",
              "    <tr>\n",
              "      <th>10</th>\n",
              "      <td>101913.08</td>\n",
              "      <td>110594.11</td>\n",
              "      <td>229160.95</td>\n",
              "      <td>Florida</td>\n",
              "      <td>146121.95</td>\n",
              "    </tr>\n",
              "    <tr>\n",
              "      <th>11</th>\n",
              "      <td>100671.96</td>\n",
              "      <td>91790.61</td>\n",
              "      <td>249744.55</td>\n",
              "      <td>California</td>\n",
              "      <td>144259.40</td>\n",
              "    </tr>\n",
              "    <tr>\n",
              "      <th>12</th>\n",
              "      <td>93863.75</td>\n",
              "      <td>127320.38</td>\n",
              "      <td>249839.44</td>\n",
              "      <td>Florida</td>\n",
              "      <td>141585.52</td>\n",
              "    </tr>\n",
              "    <tr>\n",
              "      <th>13</th>\n",
              "      <td>91992.39</td>\n",
              "      <td>135495.07</td>\n",
              "      <td>252664.93</td>\n",
              "      <td>California</td>\n",
              "      <td>134307.35</td>\n",
              "    </tr>\n",
              "    <tr>\n",
              "      <th>14</th>\n",
              "      <td>119943.24</td>\n",
              "      <td>156547.42</td>\n",
              "      <td>256512.92</td>\n",
              "      <td>Florida</td>\n",
              "      <td>132602.65</td>\n",
              "    </tr>\n",
              "    <tr>\n",
              "      <th>15</th>\n",
              "      <td>114523.61</td>\n",
              "      <td>122616.84</td>\n",
              "      <td>261776.23</td>\n",
              "      <td>New York</td>\n",
              "      <td>129917.04</td>\n",
              "    </tr>\n",
              "    <tr>\n",
              "      <th>16</th>\n",
              "      <td>78013.11</td>\n",
              "      <td>121597.55</td>\n",
              "      <td>264346.06</td>\n",
              "      <td>California</td>\n",
              "      <td>126992.93</td>\n",
              "    </tr>\n",
              "    <tr>\n",
              "      <th>17</th>\n",
              "      <td>94657.16</td>\n",
              "      <td>145077.58</td>\n",
              "      <td>282574.31</td>\n",
              "      <td>New York</td>\n",
              "      <td>125370.37</td>\n",
              "    </tr>\n",
              "    <tr>\n",
              "      <th>18</th>\n",
              "      <td>91749.16</td>\n",
              "      <td>114175.79</td>\n",
              "      <td>294919.57</td>\n",
              "      <td>Florida</td>\n",
              "      <td>124266.90</td>\n",
              "    </tr>\n",
              "    <tr>\n",
              "      <th>19</th>\n",
              "      <td>86419.70</td>\n",
              "      <td>153514.11</td>\n",
              "      <td>0.00</td>\n",
              "      <td>New York</td>\n",
              "      <td>122776.86</td>\n",
              "    </tr>\n",
              "    <tr>\n",
              "      <th>20</th>\n",
              "      <td>76253.86</td>\n",
              "      <td>113867.30</td>\n",
              "      <td>298664.47</td>\n",
              "      <td>California</td>\n",
              "      <td>118474.03</td>\n",
              "    </tr>\n",
              "    <tr>\n",
              "      <th>21</th>\n",
              "      <td>78389.47</td>\n",
              "      <td>153773.43</td>\n",
              "      <td>299737.29</td>\n",
              "      <td>New York</td>\n",
              "      <td>111313.02</td>\n",
              "    </tr>\n",
              "    <tr>\n",
              "      <th>22</th>\n",
              "      <td>73994.56</td>\n",
              "      <td>122782.75</td>\n",
              "      <td>303319.26</td>\n",
              "      <td>Florida</td>\n",
              "      <td>110352.25</td>\n",
              "    </tr>\n",
              "    <tr>\n",
              "      <th>23</th>\n",
              "      <td>67532.53</td>\n",
              "      <td>105751.03</td>\n",
              "      <td>304768.73</td>\n",
              "      <td>Florida</td>\n",
              "      <td>108733.99</td>\n",
              "    </tr>\n",
              "    <tr>\n",
              "      <th>24</th>\n",
              "      <td>77044.01</td>\n",
              "      <td>99281.34</td>\n",
              "      <td>140574.81</td>\n",
              "      <td>New York</td>\n",
              "      <td>108552.04</td>\n",
              "    </tr>\n",
              "    <tr>\n",
              "      <th>25</th>\n",
              "      <td>64664.71</td>\n",
              "      <td>139553.16</td>\n",
              "      <td>137962.62</td>\n",
              "      <td>California</td>\n",
              "      <td>107404.34</td>\n",
              "    </tr>\n",
              "    <tr>\n",
              "      <th>26</th>\n",
              "      <td>75328.87</td>\n",
              "      <td>144135.98</td>\n",
              "      <td>134050.07</td>\n",
              "      <td>Florida</td>\n",
              "      <td>105733.54</td>\n",
              "    </tr>\n",
              "    <tr>\n",
              "      <th>27</th>\n",
              "      <td>72107.60</td>\n",
              "      <td>127864.55</td>\n",
              "      <td>353183.81</td>\n",
              "      <td>New York</td>\n",
              "      <td>105008.31</td>\n",
              "    </tr>\n",
              "    <tr>\n",
              "      <th>28</th>\n",
              "      <td>66051.52</td>\n",
              "      <td>182645.56</td>\n",
              "      <td>118148.20</td>\n",
              "      <td>Florida</td>\n",
              "      <td>103282.38</td>\n",
              "    </tr>\n",
              "    <tr>\n",
              "      <th>29</th>\n",
              "      <td>65605.48</td>\n",
              "      <td>153032.06</td>\n",
              "      <td>107138.38</td>\n",
              "      <td>New York</td>\n",
              "      <td>101004.64</td>\n",
              "    </tr>\n",
              "    <tr>\n",
              "      <th>30</th>\n",
              "      <td>61994.48</td>\n",
              "      <td>115641.28</td>\n",
              "      <td>91131.24</td>\n",
              "      <td>Florida</td>\n",
              "      <td>99937.59</td>\n",
              "    </tr>\n",
              "    <tr>\n",
              "      <th>31</th>\n",
              "      <td>61136.38</td>\n",
              "      <td>152701.92</td>\n",
              "      <td>88218.23</td>\n",
              "      <td>New York</td>\n",
              "      <td>97483.56</td>\n",
              "    </tr>\n",
              "    <tr>\n",
              "      <th>32</th>\n",
              "      <td>63408.86</td>\n",
              "      <td>129219.61</td>\n",
              "      <td>46085.25</td>\n",
              "      <td>California</td>\n",
              "      <td>97427.84</td>\n",
              "    </tr>\n",
              "    <tr>\n",
              "      <th>33</th>\n",
              "      <td>55493.95</td>\n",
              "      <td>103057.49</td>\n",
              "      <td>214634.81</td>\n",
              "      <td>Florida</td>\n",
              "      <td>96778.92</td>\n",
              "    </tr>\n",
              "    <tr>\n",
              "      <th>34</th>\n",
              "      <td>46426.07</td>\n",
              "      <td>157693.92</td>\n",
              "      <td>210797.67</td>\n",
              "      <td>California</td>\n",
              "      <td>96712.80</td>\n",
              "    </tr>\n",
              "    <tr>\n",
              "      <th>35</th>\n",
              "      <td>46014.02</td>\n",
              "      <td>85047.44</td>\n",
              "      <td>205517.64</td>\n",
              "      <td>New York</td>\n",
              "      <td>96479.51</td>\n",
              "    </tr>\n",
              "    <tr>\n",
              "      <th>36</th>\n",
              "      <td>28663.76</td>\n",
              "      <td>127056.21</td>\n",
              "      <td>201126.82</td>\n",
              "      <td>Florida</td>\n",
              "      <td>90708.19</td>\n",
              "    </tr>\n",
              "    <tr>\n",
              "      <th>37</th>\n",
              "      <td>44069.95</td>\n",
              "      <td>51283.14</td>\n",
              "      <td>197029.42</td>\n",
              "      <td>California</td>\n",
              "      <td>89949.14</td>\n",
              "    </tr>\n",
              "    <tr>\n",
              "      <th>38</th>\n",
              "      <td>20229.59</td>\n",
              "      <td>65947.93</td>\n",
              "      <td>185265.10</td>\n",
              "      <td>New York</td>\n",
              "      <td>81229.06</td>\n",
              "    </tr>\n",
              "    <tr>\n",
              "      <th>39</th>\n",
              "      <td>38558.51</td>\n",
              "      <td>82982.09</td>\n",
              "      <td>174999.30</td>\n",
              "      <td>California</td>\n",
              "      <td>81005.76</td>\n",
              "    </tr>\n",
              "    <tr>\n",
              "      <th>40</th>\n",
              "      <td>28754.33</td>\n",
              "      <td>118546.05</td>\n",
              "      <td>172795.67</td>\n",
              "      <td>California</td>\n",
              "      <td>78239.91</td>\n",
              "    </tr>\n",
              "    <tr>\n",
              "      <th>41</th>\n",
              "      <td>27892.92</td>\n",
              "      <td>84710.77</td>\n",
              "      <td>164470.71</td>\n",
              "      <td>Florida</td>\n",
              "      <td>77798.83</td>\n",
              "    </tr>\n",
              "    <tr>\n",
              "      <th>42</th>\n",
              "      <td>23640.93</td>\n",
              "      <td>96189.63</td>\n",
              "      <td>148001.11</td>\n",
              "      <td>California</td>\n",
              "      <td>71498.49</td>\n",
              "    </tr>\n",
              "    <tr>\n",
              "      <th>43</th>\n",
              "      <td>15505.73</td>\n",
              "      <td>127382.30</td>\n",
              "      <td>35534.17</td>\n",
              "      <td>New York</td>\n",
              "      <td>69758.98</td>\n",
              "    </tr>\n",
              "    <tr>\n",
              "      <th>44</th>\n",
              "      <td>22177.74</td>\n",
              "      <td>154806.14</td>\n",
              "      <td>28334.72</td>\n",
              "      <td>California</td>\n",
              "      <td>65200.33</td>\n",
              "    </tr>\n",
              "    <tr>\n",
              "      <th>45</th>\n",
              "      <td>1000.23</td>\n",
              "      <td>124153.04</td>\n",
              "      <td>1903.93</td>\n",
              "      <td>New York</td>\n",
              "      <td>64926.08</td>\n",
              "    </tr>\n",
              "    <tr>\n",
              "      <th>46</th>\n",
              "      <td>1315.46</td>\n",
              "      <td>115816.21</td>\n",
              "      <td>297114.46</td>\n",
              "      <td>Florida</td>\n",
              "      <td>49490.75</td>\n",
              "    </tr>\n",
              "    <tr>\n",
              "      <th>47</th>\n",
              "      <td>0.00</td>\n",
              "      <td>135426.92</td>\n",
              "      <td>0.00</td>\n",
              "      <td>California</td>\n",
              "      <td>42559.73</td>\n",
              "    </tr>\n",
              "    <tr>\n",
              "      <th>48</th>\n",
              "      <td>542.05</td>\n",
              "      <td>51743.15</td>\n",
              "      <td>0.00</td>\n",
              "      <td>New York</td>\n",
              "      <td>35673.41</td>\n",
              "    </tr>\n",
              "    <tr>\n",
              "      <th>49</th>\n",
              "      <td>0.00</td>\n",
              "      <td>116983.80</td>\n",
              "      <td>45173.06</td>\n",
              "      <td>California</td>\n",
              "      <td>14681.40</td>\n",
              "    </tr>\n",
              "  </tbody>\n",
              "</table>\n",
              "</div>\n",
              "    <div class=\"colab-df-buttons\">\n",
              "\n",
              "  <div class=\"colab-df-container\">\n",
              "    <button class=\"colab-df-convert\" onclick=\"convertToInteractive('df-8d69f88e-7f0f-417d-8f25-e1d715e7fec9')\"\n",
              "            title=\"Convert this dataframe to an interactive table.\"\n",
              "            style=\"display:none;\">\n",
              "\n",
              "  <svg xmlns=\"http://www.w3.org/2000/svg\" height=\"24px\" viewBox=\"0 -960 960 960\">\n",
              "    <path d=\"M120-120v-720h720v720H120Zm60-500h600v-160H180v160Zm220 220h160v-160H400v160Zm0 220h160v-160H400v160ZM180-400h160v-160H180v160Zm440 0h160v-160H620v160ZM180-180h160v-160H180v160Zm440 0h160v-160H620v160Z\"/>\n",
              "  </svg>\n",
              "    </button>\n",
              "\n",
              "  <style>\n",
              "    .colab-df-container {\n",
              "      display:flex;\n",
              "      gap: 12px;\n",
              "    }\n",
              "\n",
              "    .colab-df-convert {\n",
              "      background-color: #E8F0FE;\n",
              "      border: none;\n",
              "      border-radius: 50%;\n",
              "      cursor: pointer;\n",
              "      display: none;\n",
              "      fill: #1967D2;\n",
              "      height: 32px;\n",
              "      padding: 0 0 0 0;\n",
              "      width: 32px;\n",
              "    }\n",
              "\n",
              "    .colab-df-convert:hover {\n",
              "      background-color: #E2EBFA;\n",
              "      box-shadow: 0px 1px 2px rgba(60, 64, 67, 0.3), 0px 1px 3px 1px rgba(60, 64, 67, 0.15);\n",
              "      fill: #174EA6;\n",
              "    }\n",
              "\n",
              "    .colab-df-buttons div {\n",
              "      margin-bottom: 4px;\n",
              "    }\n",
              "\n",
              "    [theme=dark] .colab-df-convert {\n",
              "      background-color: #3B4455;\n",
              "      fill: #D2E3FC;\n",
              "    }\n",
              "\n",
              "    [theme=dark] .colab-df-convert:hover {\n",
              "      background-color: #434B5C;\n",
              "      box-shadow: 0px 1px 3px 1px rgba(0, 0, 0, 0.15);\n",
              "      filter: drop-shadow(0px 1px 2px rgba(0, 0, 0, 0.3));\n",
              "      fill: #FFFFFF;\n",
              "    }\n",
              "  </style>\n",
              "\n",
              "    <script>\n",
              "      const buttonEl =\n",
              "        document.querySelector('#df-8d69f88e-7f0f-417d-8f25-e1d715e7fec9 button.colab-df-convert');\n",
              "      buttonEl.style.display =\n",
              "        google.colab.kernel.accessAllowed ? 'block' : 'none';\n",
              "\n",
              "      async function convertToInteractive(key) {\n",
              "        const element = document.querySelector('#df-8d69f88e-7f0f-417d-8f25-e1d715e7fec9');\n",
              "        const dataTable =\n",
              "          await google.colab.kernel.invokeFunction('convertToInteractive',\n",
              "                                                    [key], {});\n",
              "        if (!dataTable) return;\n",
              "\n",
              "        const docLinkHtml = 'Like what you see? Visit the ' +\n",
              "          '<a target=\"_blank\" href=https://colab.research.google.com/notebooks/data_table.ipynb>data table notebook</a>'\n",
              "          + ' to learn more about interactive tables.';\n",
              "        element.innerHTML = '';\n",
              "        dataTable['output_type'] = 'display_data';\n",
              "        await google.colab.output.renderOutput(dataTable, element);\n",
              "        const docLink = document.createElement('div');\n",
              "        docLink.innerHTML = docLinkHtml;\n",
              "        element.appendChild(docLink);\n",
              "      }\n",
              "    </script>\n",
              "  </div>\n",
              "\n",
              "\n",
              "<div id=\"df-2daf6029-062d-471e-9fcc-951ada17c847\">\n",
              "  <button class=\"colab-df-quickchart\" onclick=\"quickchart('df-2daf6029-062d-471e-9fcc-951ada17c847')\"\n",
              "            title=\"Suggest charts\"\n",
              "            style=\"display:none;\">\n",
              "\n",
              "<svg xmlns=\"http://www.w3.org/2000/svg\" height=\"24px\"viewBox=\"0 0 24 24\"\n",
              "     width=\"24px\">\n",
              "    <g>\n",
              "        <path d=\"M19 3H5c-1.1 0-2 .9-2 2v14c0 1.1.9 2 2 2h14c1.1 0 2-.9 2-2V5c0-1.1-.9-2-2-2zM9 17H7v-7h2v7zm4 0h-2V7h2v10zm4 0h-2v-4h2v4z\"/>\n",
              "    </g>\n",
              "</svg>\n",
              "  </button>\n",
              "\n",
              "<style>\n",
              "  .colab-df-quickchart {\n",
              "      --bg-color: #E8F0FE;\n",
              "      --fill-color: #1967D2;\n",
              "      --hover-bg-color: #E2EBFA;\n",
              "      --hover-fill-color: #174EA6;\n",
              "      --disabled-fill-color: #AAA;\n",
              "      --disabled-bg-color: #DDD;\n",
              "  }\n",
              "\n",
              "  [theme=dark] .colab-df-quickchart {\n",
              "      --bg-color: #3B4455;\n",
              "      --fill-color: #D2E3FC;\n",
              "      --hover-bg-color: #434B5C;\n",
              "      --hover-fill-color: #FFFFFF;\n",
              "      --disabled-bg-color: #3B4455;\n",
              "      --disabled-fill-color: #666;\n",
              "  }\n",
              "\n",
              "  .colab-df-quickchart {\n",
              "    background-color: var(--bg-color);\n",
              "    border: none;\n",
              "    border-radius: 50%;\n",
              "    cursor: pointer;\n",
              "    display: none;\n",
              "    fill: var(--fill-color);\n",
              "    height: 32px;\n",
              "    padding: 0;\n",
              "    width: 32px;\n",
              "  }\n",
              "\n",
              "  .colab-df-quickchart:hover {\n",
              "    background-color: var(--hover-bg-color);\n",
              "    box-shadow: 0 1px 2px rgba(60, 64, 67, 0.3), 0 1px 3px 1px rgba(60, 64, 67, 0.15);\n",
              "    fill: var(--button-hover-fill-color);\n",
              "  }\n",
              "\n",
              "  .colab-df-quickchart-complete:disabled,\n",
              "  .colab-df-quickchart-complete:disabled:hover {\n",
              "    background-color: var(--disabled-bg-color);\n",
              "    fill: var(--disabled-fill-color);\n",
              "    box-shadow: none;\n",
              "  }\n",
              "\n",
              "  .colab-df-spinner {\n",
              "    border: 2px solid var(--fill-color);\n",
              "    border-color: transparent;\n",
              "    border-bottom-color: var(--fill-color);\n",
              "    animation:\n",
              "      spin 1s steps(1) infinite;\n",
              "  }\n",
              "\n",
              "  @keyframes spin {\n",
              "    0% {\n",
              "      border-color: transparent;\n",
              "      border-bottom-color: var(--fill-color);\n",
              "      border-left-color: var(--fill-color);\n",
              "    }\n",
              "    20% {\n",
              "      border-color: transparent;\n",
              "      border-left-color: var(--fill-color);\n",
              "      border-top-color: var(--fill-color);\n",
              "    }\n",
              "    30% {\n",
              "      border-color: transparent;\n",
              "      border-left-color: var(--fill-color);\n",
              "      border-top-color: var(--fill-color);\n",
              "      border-right-color: var(--fill-color);\n",
              "    }\n",
              "    40% {\n",
              "      border-color: transparent;\n",
              "      border-right-color: var(--fill-color);\n",
              "      border-top-color: var(--fill-color);\n",
              "    }\n",
              "    60% {\n",
              "      border-color: transparent;\n",
              "      border-right-color: var(--fill-color);\n",
              "    }\n",
              "    80% {\n",
              "      border-color: transparent;\n",
              "      border-right-color: var(--fill-color);\n",
              "      border-bottom-color: var(--fill-color);\n",
              "    }\n",
              "    90% {\n",
              "      border-color: transparent;\n",
              "      border-bottom-color: var(--fill-color);\n",
              "    }\n",
              "  }\n",
              "</style>\n",
              "\n",
              "  <script>\n",
              "    async function quickchart(key) {\n",
              "      const quickchartButtonEl =\n",
              "        document.querySelector('#' + key + ' button');\n",
              "      quickchartButtonEl.disabled = true;  // To prevent multiple clicks.\n",
              "      quickchartButtonEl.classList.add('colab-df-spinner');\n",
              "      try {\n",
              "        const charts = await google.colab.kernel.invokeFunction(\n",
              "            'suggestCharts', [key], {});\n",
              "      } catch (error) {\n",
              "        console.error('Error during call to suggestCharts:', error);\n",
              "      }\n",
              "      quickchartButtonEl.classList.remove('colab-df-spinner');\n",
              "      quickchartButtonEl.classList.add('colab-df-quickchart-complete');\n",
              "    }\n",
              "    (() => {\n",
              "      let quickchartButtonEl =\n",
              "        document.querySelector('#df-2daf6029-062d-471e-9fcc-951ada17c847 button');\n",
              "      quickchartButtonEl.style.display =\n",
              "        google.colab.kernel.accessAllowed ? 'block' : 'none';\n",
              "    })();\n",
              "  </script>\n",
              "</div>\n",
              "    </div>\n",
              "  </div>\n"
            ]
          },
          "metadata": {},
          "execution_count": 9
        }
      ],
      "source": [
        "import io\n",
        "import pandas as pd\n",
        "import numpy as np\n",
        "import matplotlib.pyplot as plt\n",
        "\n",
        "\n",
        "df = pd.read_excel(io.BytesIO(uploaded['Startups.xlsx']))\n",
        "df\n"
      ]
    },
    {
      "cell_type": "markdown",
      "metadata": {
        "id": "howJdRNwY4sd"
      },
      "source": [
        "\n",
        "\n",
        "---\n",
        "\n",
        "\n",
        "\n",
        "---\n",
        "\n"
      ]
    },
    {
      "cell_type": "markdown",
      "metadata": {
        "id": "9rPM3G4Opnlx"
      },
      "source": [
        "\\\n",
        "2. Find the number of rows and columns in the dataset.\n",
        "\n",
        "\n"
      ]
    },
    {
      "cell_type": "code",
      "execution_count": 10,
      "metadata": {
        "id": "ihMWKM5ypq7d",
        "colab": {
          "base_uri": "https://localhost:8080/"
        },
        "outputId": "14c626f9-d021-4f02-bdd8-74660155354c"
      },
      "outputs": [
        {
          "output_type": "stream",
          "name": "stdout",
          "text": [
            "Number of rows: 50\n",
            "Number of columns: 5\n"
          ]
        }
      ],
      "source": [
        "import pandas as pd\n",
        "\n",
        "num_rows, num_columns = df.shape\n",
        "\n",
        "print(f\"Number of rows: {num_rows}\")\n",
        "print(f\"Number of columns: {num_columns}\")"
      ]
    },
    {
      "cell_type": "markdown",
      "metadata": {
        "id": "E6OSn0EpY2ZG"
      },
      "source": [
        "\n",
        "\n",
        "\n",
        "---\n",
        "\n",
        "\n",
        "---\n",
        "\n"
      ]
    },
    {
      "cell_type": "markdown",
      "metadata": {
        "id": "2mlsVfqwprGf"
      },
      "source": [
        "3. Check for missing values in each column and handle them appropriately.\n",
        "\n",
        "---\n",
        "\n",
        "\n",
        "\n",
        "\n"
      ]
    },
    {
      "cell_type": "code",
      "execution_count": 11,
      "metadata": {
        "id": "MHCp25TcpshE",
        "colab": {
          "base_uri": "https://localhost:8080/"
        },
        "outputId": "9e0d70ea-d974-433e-aa01-e014de85b954"
      },
      "outputs": [
        {
          "output_type": "stream",
          "name": "stdout",
          "text": [
            "Columns with missing values:\n",
            "Series([], dtype: int64)\n",
            "After handling missing values:\n",
            "   R&D Spend  Administration  Marketing Spend       State     Profit\n",
            "0  165349.20       136897.80        471784.10    New York  192261.83\n",
            "1  162597.70       151377.59        443898.53  California  191792.06\n",
            "2  153441.51       101145.55        407934.54     Florida  191050.39\n",
            "3  144372.41       118671.85        383199.62    New York  182901.99\n",
            "4  142107.34        91391.77        366168.42     Florida  166187.94\n"
          ]
        },
        {
          "output_type": "stream",
          "name": "stderr",
          "text": [
            "<ipython-input-11-b5ae56d91dba>:6: FutureWarning: The default value of numeric_only in DataFrame.mean is deprecated. In a future version, it will default to False. In addition, specifying 'numeric_only=None' is deprecated. Select only valid columns or specify the value of numeric_only to silence this warning.\n",
            "  df.fillna(df.mean(), inplace=True)\n"
          ]
        }
      ],
      "source": [
        "missing_values = df.isnull().sum()\n",
        "\n",
        "print(\"Columns with missing values:\")\n",
        "print(missing_values[missing_values > 0])\n",
        "\n",
        "df.fillna(df.mean(), inplace=True)\n",
        "\n",
        "\n",
        "print(\"After handling missing values:\")\n",
        "print(df.head())\n"
      ]
    },
    {
      "cell_type": "markdown",
      "metadata": {
        "id": "XMBKTFY1Y8kB"
      },
      "source": [
        "\n",
        "\n",
        "\n",
        "---\n",
        "\n",
        "\n",
        "---\n",
        "\n"
      ]
    },
    {
      "cell_type": "markdown",
      "metadata": {
        "id": "3p6tB8lCpsqD"
      },
      "source": [
        "4. Calculate the mean, median, and standard deviation of the 'R&D_Spend' column.\n",
        "\n",
        "*   List item\n",
        "*   List item\n",
        "\n",
        "\n",
        "\n"
      ]
    },
    {
      "cell_type": "code",
      "execution_count": 12,
      "metadata": {
        "id": "qNI6I-PWpubf",
        "colab": {
          "base_uri": "https://localhost:8080/"
        },
        "outputId": "fe555347-698e-4905-a66d-e18489c38771"
      },
      "outputs": [
        {
          "output_type": "stream",
          "name": "stdout",
          "text": [
            "Column names: Index(['R&D Spend', 'Administration', 'Marketing Spend', 'State', 'Profit'], dtype='object')\n",
            "Mean R&D Spend: 73721.6156\n",
            "Median R&D Spend: 73051.08\n",
            "Standard Deviation R&D Spend: 45902.25648230753\n"
          ]
        }
      ],
      "source": [
        "print(\"Column names:\", df.columns)\n",
        "\n",
        "rd_spend_column_name = 'R&D Spend'\n",
        "\n",
        "mean_rd_spend = df[rd_spend_column_name].mean()\n",
        "median_rd_spend = df[rd_spend_column_name].median()\n",
        "std_rd_spend = df[rd_spend_column_name].std()\n",
        "\n",
        "print(f\"Mean {rd_spend_column_name}: {mean_rd_spend}\")\n",
        "print(f\"Median {rd_spend_column_name}: {median_rd_spend}\")\n",
        "print(f\"Standard Deviation {rd_spend_column_name}: {std_rd_spend}\")"
      ]
    },
    {
      "cell_type": "markdown",
      "metadata": {
        "id": "hubV5ZGsZAm7"
      },
      "source": [
        "\n",
        "\n",
        "\n",
        "---\n",
        "\n",
        "\n",
        "---\n",
        "\n"
      ]
    },
    {
      "cell_type": "markdown",
      "metadata": {
        "id": "BiULHwdYpunP"
      },
      "source": [
        "5. Filter and create a new DataFrame containing companies located in a **California**.\n",
        "\n"
      ]
    },
    {
      "cell_type": "code",
      "execution_count": 13,
      "metadata": {
        "id": "tkqnf92hpwOs",
        "colab": {
          "base_uri": "https://localhost:8080/"
        },
        "outputId": "108757c2-5a2b-4124-a7ea-e6c1cf5905e7"
      },
      "outputs": [
        {
          "output_type": "stream",
          "name": "stdout",
          "text": [
            "Column names: Index(['R&D Spend', 'Administration', 'Marketing Spend', 'State', 'Profit'], dtype='object')\n",
            "Companies located in California:\n",
            "    R&D Spend  Administration  Marketing Spend       State     Profit\n",
            "1   162597.70       151377.59        443898.53  California  191792.06\n",
            "6   134615.46       147198.87        127716.82  California  156122.51\n",
            "9   123334.88       108679.17        304981.62  California  149759.96\n",
            "11  100671.96        91790.61        249744.55  California  144259.40\n",
            "13   91992.39       135495.07        252664.93  California  134307.35\n",
            "16   78013.11       121597.55        264346.06  California  126992.93\n",
            "20   76253.86       113867.30        298664.47  California  118474.03\n",
            "25   64664.71       139553.16        137962.62  California  107404.34\n",
            "32   63408.86       129219.61         46085.25  California   97427.84\n",
            "34   46426.07       157693.92        210797.67  California   96712.80\n",
            "37   44069.95        51283.14        197029.42  California   89949.14\n",
            "39   38558.51        82982.09        174999.30  California   81005.76\n",
            "40   28754.33       118546.05        172795.67  California   78239.91\n",
            "42   23640.93        96189.63        148001.11  California   71498.49\n",
            "44   22177.74       154806.14         28334.72  California   65200.33\n",
            "47       0.00       135426.92             0.00  California   42559.73\n",
            "49       0.00       116983.80         45173.06  California   14681.40\n"
          ]
        }
      ],
      "source": [
        "print(\"Column names:\", df.columns)\n",
        "\n",
        "state_filter = df['State'] == 'California'\n",
        "\n",
        "california_companies_df = df[state_filter]\n",
        "\n",
        "print(\"Companies located in California:\")\n",
        "print(california_companies_df)"
      ]
    },
    {
      "cell_type": "markdown",
      "metadata": {
        "id": "ilrxyXvXZEKe"
      },
      "source": [
        "\n",
        "\n",
        "\n",
        "---\n",
        "\n",
        "\n",
        "---\n",
        "\n"
      ]
    },
    {
      "cell_type": "markdown",
      "metadata": {
        "id": "4XPxg0Z6pwrs"
      },
      "source": [
        "6. Sort the dataset by 'Profit' in descending order.\n",
        "\n",
        "1.   List item\n",
        "2.   List item\n",
        "\n",
        "\n",
        "\n"
      ]
    },
    {
      "cell_type": "code",
      "execution_count": 14,
      "metadata": {
        "id": "iCfpA1supxvs",
        "colab": {
          "base_uri": "https://localhost:8080/"
        },
        "outputId": "141a0629-5147-41fa-972f-001b2b30e982"
      },
      "outputs": [
        {
          "output_type": "stream",
          "name": "stdout",
          "text": [
            "Sorted dataset by Profit in descending order:\n",
            "    R&D Spend  Administration  Marketing Spend       State     Profit\n",
            "0   165349.20       136897.80        471784.10    New York  192261.83\n",
            "1   162597.70       151377.59        443898.53  California  191792.06\n",
            "2   153441.51       101145.55        407934.54     Florida  191050.39\n",
            "3   144372.41       118671.85        383199.62    New York  182901.99\n",
            "4   142107.34        91391.77        366168.42     Florida  166187.94\n",
            "5   131876.90        99814.71        362861.36    New York  156991.12\n",
            "6   134615.46       147198.87        127716.82  California  156122.51\n",
            "7   130298.13       145530.06        323876.68     Florida  155752.60\n",
            "8   120542.52       148718.95        311613.29    New York  152211.77\n",
            "9   123334.88       108679.17        304981.62  California  149759.96\n",
            "10  101913.08       110594.11        229160.95     Florida  146121.95\n",
            "11  100671.96        91790.61        249744.55  California  144259.40\n",
            "12   93863.75       127320.38        249839.44     Florida  141585.52\n",
            "13   91992.39       135495.07        252664.93  California  134307.35\n",
            "14  119943.24       156547.42        256512.92     Florida  132602.65\n",
            "15  114523.61       122616.84        261776.23    New York  129917.04\n",
            "16   78013.11       121597.55        264346.06  California  126992.93\n",
            "17   94657.16       145077.58        282574.31    New York  125370.37\n",
            "18   91749.16       114175.79        294919.57     Florida  124266.90\n",
            "19   86419.70       153514.11             0.00    New York  122776.86\n",
            "20   76253.86       113867.30        298664.47  California  118474.03\n",
            "21   78389.47       153773.43        299737.29    New York  111313.02\n",
            "22   73994.56       122782.75        303319.26     Florida  110352.25\n",
            "23   67532.53       105751.03        304768.73     Florida  108733.99\n",
            "24   77044.01        99281.34        140574.81    New York  108552.04\n",
            "25   64664.71       139553.16        137962.62  California  107404.34\n",
            "26   75328.87       144135.98        134050.07     Florida  105733.54\n",
            "27   72107.60       127864.55        353183.81    New York  105008.31\n",
            "28   66051.52       182645.56        118148.20     Florida  103282.38\n",
            "29   65605.48       153032.06        107138.38    New York  101004.64\n",
            "30   61994.48       115641.28         91131.24     Florida   99937.59\n",
            "31   61136.38       152701.92         88218.23    New York   97483.56\n",
            "32   63408.86       129219.61         46085.25  California   97427.84\n",
            "33   55493.95       103057.49        214634.81     Florida   96778.92\n",
            "34   46426.07       157693.92        210797.67  California   96712.80\n",
            "35   46014.02        85047.44        205517.64    New York   96479.51\n",
            "36   28663.76       127056.21        201126.82     Florida   90708.19\n",
            "37   44069.95        51283.14        197029.42  California   89949.14\n",
            "38   20229.59        65947.93        185265.10    New York   81229.06\n",
            "39   38558.51        82982.09        174999.30  California   81005.76\n",
            "40   28754.33       118546.05        172795.67  California   78239.91\n",
            "41   27892.92        84710.77        164470.71     Florida   77798.83\n",
            "42   23640.93        96189.63        148001.11  California   71498.49\n",
            "43   15505.73       127382.30         35534.17    New York   69758.98\n",
            "44   22177.74       154806.14         28334.72  California   65200.33\n",
            "45    1000.23       124153.04          1903.93    New York   64926.08\n",
            "46    1315.46       115816.21        297114.46     Florida   49490.75\n",
            "47       0.00       135426.92             0.00  California   42559.73\n",
            "48     542.05        51743.15             0.00    New York   35673.41\n",
            "49       0.00       116983.80         45173.06  California   14681.40\n"
          ]
        }
      ],
      "source": [
        "sorted_df = df.sort_values(by='Profit', ascending=False)\n",
        "\n",
        "print(\"Sorted dataset by Profit in descending order:\")\n",
        "print(sorted_df)"
      ]
    },
    {
      "cell_type": "markdown",
      "metadata": {
        "id": "Kfwe7mo3ZL-_"
      },
      "source": [
        "\n",
        "\n",
        "\n",
        "---\n",
        "\n",
        "\n",
        "---\n",
        "\n"
      ]
    },
    {
      "cell_type": "markdown",
      "metadata": {
        "id": "MkaJtIJipx3D"
      },
      "source": [
        "7. Group the data by 'State' and calculate the total 'Profit' for each state.\n",
        "\n",
        "\n",
        "\n",
        "\n"
      ]
    },
    {
      "cell_type": "code",
      "execution_count": 15,
      "metadata": {
        "id": "81W9p9_TpzdV",
        "colab": {
          "base_uri": "https://localhost:8080/"
        },
        "outputId": "ba4cd83b-67e5-41a4-9543-f37a8341a214"
      },
      "outputs": [
        {
          "output_type": "stream",
          "name": "stdout",
          "text": [
            "Total Profit for each state:\n",
            "        State      Profit\n",
            "0  California  1766387.98\n",
            "1     Florida  1900384.39\n",
            "2    New York  1933859.59\n"
          ]
        }
      ],
      "source": [
        "state_profit_total = df.groupby('State')['Profit'].sum().reset_index()\n",
        "\n",
        "print(\"Total Profit for each state:\")\n",
        "print(state_profit_total)"
      ]
    },
    {
      "cell_type": "markdown",
      "metadata": {
        "id": "gOOFuCtSZQdC"
      },
      "source": [
        "\n",
        "\n",
        "\n",
        "---\n",
        "\n",
        "\n",
        "---\n",
        "\n"
      ]
    },
    {
      "cell_type": "markdown",
      "metadata": {
        "id": "C1pyEEfvpzky"
      },
      "source": [
        "8. Create a bar chart to visualize the total 'Profit' by 'State.'\n",
        "\n"
      ]
    },
    {
      "cell_type": "code",
      "execution_count": 31,
      "metadata": {
        "id": "QOJXsbNGp1BD",
        "colab": {
          "base_uri": "https://localhost:8080/",
          "height": 564
        },
        "outputId": "9d5eb7ce-523f-407d-8021-213af13c78d0"
      },
      "outputs": [
        {
          "output_type": "display_data",
          "data": {
            "text/plain": [
              "<Figure size 1000x600 with 1 Axes>"
            ],
            "image/png": "[encoded data removed]"
          },
          "metadata": {}
        }
      ],
      "source": [
        "import matplotlib.pyplot as plt\n",
        "\n",
        "\n",
        "state_profit_total = df.groupby('State')['Profit'].sum().reset_index()\n",
        "\n",
        "plt.figure(figsize=(10, 6))\n",
        "plt.bar(state_profit_total['State'], state_profit_total['Profit'], color='#DDA0DD')\n",
        "plt.xlabel('State')\n",
        "plt.ylabel('Total Profit')\n",
        "plt.title('Total Profit by State')\n",
        "plt.show()"
      ]
    },
    {
      "cell_type": "markdown",
      "metadata": {
        "id": "c8iB2WASZUhc"
      },
      "source": [
        "\n",
        "\n",
        "\n",
        "---\n",
        "\n",
        "\n",
        "---\n",
        "\n"
      ]
    },
    {
      "cell_type": "markdown",
      "metadata": {
        "id": "zjoIiI8Zp1Lo"
      },
      "source": [
        "9. Calculate the correlation between 'R&D_Spend' and 'Profit.'\n",
        "\n"
      ]
    },
    {
      "cell_type": "code",
      "execution_count": 17,
      "metadata": {
        "id": "ET03oeaXp21B",
        "colab": {
          "base_uri": "https://localhost:8080/"
        },
        "outputId": "eb651a28-70ac-41c2-d918-0a1b7d0a6530"
      },
      "outputs": [
        {
          "output_type": "stream",
          "name": "stdout",
          "text": [
            "Column names: Index(['R&D Spend', 'Administration', 'Marketing Spend', 'State', 'Profit'], dtype='object')\n",
            "Correlation between 'R&D Spend' and 'Profit': 0.9729004656594832\n"
          ]
        }
      ],
      "source": [
        "print(\"Column names:\", df.columns)\n",
        "\n",
        "correlation = df['R&D Spend'].corr(df['Profit'])\n",
        "\n",
        "print(f\"Correlation between 'R&D Spend' and 'Profit': {correlation}\")"
      ]
    },
    {
      "cell_type": "markdown",
      "metadata": {
        "id": "-BoSHhM7ZYGO"
      },
      "source": [
        "\n",
        "\n",
        "---\n",
        "\n",
        "\n",
        "\n",
        "---\n",
        "\n",
        "\n",
        "\n",
        "---\n",
        "\n"
      ]
    },
    {
      "cell_type": "markdown",
      "metadata": {
        "id": "3JPAQM97p28V"
      },
      "source": [
        "10. Create a new column 'Total_Spend' that represents the sum of 'R&D_Spend,' 'Administration,' and 'Marketing_Spend' for each company.\n",
        "\n"
      ]
    },
    {
      "cell_type": "code",
      "execution_count": 18,
      "metadata": {
        "id": "hnefEKfSp4G4",
        "colab": {
          "base_uri": "https://localhost:8080/"
        },
        "outputId": "2fc1321e-d0de-4cbe-c8d8-dc4e3f90efd6"
      },
      "outputs": [
        {
          "output_type": "stream",
          "name": "stdout",
          "text": [
            "    R&D Spend  Administration  Marketing Spend       State     Profit  \\\n",
            "0   165349.20       136897.80        471784.10    New York  192261.83   \n",
            "1   162597.70       151377.59        443898.53  California  191792.06   \n",
            "2   153441.51       101145.55        407934.54     Florida  191050.39   \n",
            "3   144372.41       118671.85        383199.62    New York  182901.99   \n",
            "4   142107.34        91391.77        366168.42     Florida  166187.94   \n",
            "5   131876.90        99814.71        362861.36    New York  156991.12   \n",
            "6   134615.46       147198.87        127716.82  California  156122.51   \n",
            "7   130298.13       145530.06        323876.68     Florida  155752.60   \n",
            "8   120542.52       148718.95        311613.29    New York  152211.77   \n",
            "9   123334.88       108679.17        304981.62  California  149759.96   \n",
            "10  101913.08       110594.11        229160.95     Florida  146121.95   \n",
            "11  100671.96        91790.61        249744.55  California  144259.40   \n",
            "12   93863.75       127320.38        249839.44     Florida  141585.52   \n",
            "13   91992.39       135495.07        252664.93  California  134307.35   \n",
            "14  119943.24       156547.42        256512.92     Florida  132602.65   \n",
            "15  114523.61       122616.84        261776.23    New York  129917.04   \n",
            "16   78013.11       121597.55        264346.06  California  126992.93   \n",
            "17   94657.16       145077.58        282574.31    New York  125370.37   \n",
            "18   91749.16       114175.79        294919.57     Florida  124266.90   \n",
            "19   86419.70       153514.11             0.00    New York  122776.86   \n",
            "20   76253.86       113867.30        298664.47  California  118474.03   \n",
            "21   78389.47       153773.43        299737.29    New York  111313.02   \n",
            "22   73994.56       122782.75        303319.26     Florida  110352.25   \n",
            "23   67532.53       105751.03        304768.73     Florida  108733.99   \n",
            "24   77044.01        99281.34        140574.81    New York  108552.04   \n",
            "25   64664.71       139553.16        137962.62  California  107404.34   \n",
            "26   75328.87       144135.98        134050.07     Florida  105733.54   \n",
            "27   72107.60       127864.55        353183.81    New York  105008.31   \n",
            "28   66051.52       182645.56        118148.20     Florida  103282.38   \n",
            "29   65605.48       153032.06        107138.38    New York  101004.64   \n",
            "30   61994.48       115641.28         91131.24     Florida   99937.59   \n",
            "31   61136.38       152701.92         88218.23    New York   97483.56   \n",
            "32   63408.86       129219.61         46085.25  California   97427.84   \n",
            "33   55493.95       103057.49        214634.81     Florida   96778.92   \n",
            "34   46426.07       157693.92        210797.67  California   96712.80   \n",
            "35   46014.02        85047.44        205517.64    New York   96479.51   \n",
            "36   28663.76       127056.21        201126.82     Florida   90708.19   \n",
            "37   44069.95        51283.14        197029.42  California   89949.14   \n",
            "38   20229.59        65947.93        185265.10    New York   81229.06   \n",
            "39   38558.51        82982.09        174999.30  California   81005.76   \n",
            "40   28754.33       118546.05        172795.67  California   78239.91   \n",
            "41   27892.92        84710.77        164470.71     Florida   77798.83   \n",
            "42   23640.93        96189.63        148001.11  California   71498.49   \n",
            "43   15505.73       127382.30         35534.17    New York   69758.98   \n",
            "44   22177.74       154806.14         28334.72  California   65200.33   \n",
            "45    1000.23       124153.04          1903.93    New York   64926.08   \n",
            "46    1315.46       115816.21        297114.46     Florida   49490.75   \n",
            "47       0.00       135426.92             0.00  California   42559.73   \n",
            "48     542.05        51743.15             0.00    New York   35673.41   \n",
            "49       0.00       116983.80         45173.06  California   14681.40   \n",
            "\n",
            "    Total_Spend  \n",
            "0     774031.10  \n",
            "1     757873.82  \n",
            "2     662521.60  \n",
            "3     646243.88  \n",
            "4     599667.53  \n",
            "5     594552.97  \n",
            "6     409531.15  \n",
            "7     599704.87  \n",
            "8     580874.76  \n",
            "9     536995.67  \n",
            "10    441668.14  \n",
            "11    442207.12  \n",
            "12    471023.57  \n",
            "13    480152.39  \n",
            "14    533003.58  \n",
            "15    498916.68  \n",
            "16    463956.72  \n",
            "17    522309.05  \n",
            "18    500844.52  \n",
            "19    239933.81  \n",
            "20    488785.63  \n",
            "21    531900.19  \n",
            "22    500096.57  \n",
            "23    478052.29  \n",
            "24    316900.16  \n",
            "25    342180.49  \n",
            "26    353514.92  \n",
            "27    553155.96  \n",
            "28    366845.28  \n",
            "29    325775.92  \n",
            "30    268767.00  \n",
            "31    302056.53  \n",
            "32    238713.72  \n",
            "33    373186.25  \n",
            "34    414917.66  \n",
            "35    336579.10  \n",
            "36    356846.79  \n",
            "37    292382.51  \n",
            "38    271442.62  \n",
            "39    296539.90  \n",
            "40    320096.05  \n",
            "41    277074.40  \n",
            "42    267831.67  \n",
            "43    178422.20  \n",
            "44    205318.60  \n",
            "45    127057.20  \n",
            "46    414246.13  \n",
            "47    135426.92  \n",
            "48     52285.20  \n",
            "49    162156.86  \n"
          ]
        }
      ],
      "source": [
        "df['Total_Spend'] = df[['R&D Spend', 'Administration', 'Marketing Spend']].sum(axis=1)\n",
        "\n",
        "print(df)"
      ]
    },
    {
      "cell_type": "markdown",
      "metadata": {
        "id": "VpXSCEKfp4Nk"
      },
      "source": [
        "11. Calculate the average **R&D_Spend**, **Administration**, and\n",
        "\n",
        "*   List item\n",
        "*   List item\n",
        "\n",
        "**Marketing_Spend** for companies located in each **State**\n",
        "\n"
      ]
    },
    {
      "cell_type": "code",
      "execution_count": 19,
      "metadata": {
        "id": "V6jGd293p5YB",
        "colab": {
          "base_uri": "https://localhost:8080/"
        },
        "outputId": "70e07fc5-4e02-4a88-df94-080cb7f3a370"
      },
      "outputs": [
        {
          "output_type": "stream",
          "name": "stdout",
          "text": [
            "Average Spend for each state:\n",
            "        State     R&D Spend  Administration  Marketing Spend\n",
            "0  California  64657.674118   120746.507059    182540.929412\n",
            "1     Florida  80724.016250   121768.897500    247323.551250\n",
            "2    New York  76195.062353   121543.470588    205346.015882\n"
          ]
        }
      ],
      "source": [
        "average_spend_by_state = df.groupby('State')[['R&D Spend', 'Administration', 'Marketing Spend']].mean().reset_index()\n",
        "\n",
        "print(\"Average Spend for each state:\")\n",
        "print(average_spend_by_state)"
      ]
    },
    {
      "cell_type": "markdown",
      "metadata": {
        "id": "uTCt-sVLZnmu"
      },
      "source": [
        "\n",
        "\n",
        "---\n",
        "\n",
        "\n",
        "\n",
        "---\n",
        "\n"
      ]
    },
    {
      "cell_type": "markdown",
      "metadata": {
        "id": "P4jllTczp5e0"
      },
      "source": [
        "12. Create a histogram to visualize the distribution of 'Profit.'\n",
        "\n"
      ]
    },
    {
      "cell_type": "code",
      "execution_count": 29,
      "metadata": {
        "id": "dLfUYGi3p624",
        "colab": {
          "base_uri": "https://localhost:8080/",
          "height": 564
        },
        "outputId": "82b58ebb-42cc-4067-90d1-06d92a9d1bb7"
      },
      "outputs": [
        {
          "output_type": "display_data",
          "data": {
            "text/plain": [
              "<Figure size 1000x600 with 1 Axes>"
            ],
            "image/png": "[encoded data removed]"
          },
          "metadata": {}
        }
      ],
      "source": [
        "import matplotlib.pyplot as plt\n",
        "\n",
        "plt.figure(figsize=(10, 6))\n",
        "plt.hist(df['Profit'], bins=20, color='#89CFF0', edgecolor='#FFA500')\n",
        "plt.xlabel('Profit')\n",
        "plt.ylabel('Frequency')\n",
        "plt.title('Distribution of Profit')\n",
        "plt.show()"
      ]
    },
    {
      "cell_type": "markdown",
      "metadata": {
        "id": "fSEJtTNKZuvL"
      },
      "source": [
        "\n",
        "\n",
        "---\n",
        "\n",
        "\n",
        "\n",
        "---\n",
        "\n"
      ]
    },
    {
      "cell_type": "markdown",
      "metadata": {
        "id": "3Aw_Q7d-p69y"
      },
      "source": [
        "13. Filter the dataset to include only companies with 'R&D_Spend' greater than a 12000.\n",
        "\n"
      ]
    },
    {
      "cell_type": "code",
      "execution_count": 21,
      "metadata": {
        "id": "6UzkLN1sp8pT",
        "colab": {
          "base_uri": "https://localhost:8080/"
        },
        "outputId": "7f44eb39-2841-45ca-8f93-828bbbaff5b2"
      },
      "outputs": [
        {
          "output_type": "stream",
          "name": "stdout",
          "text": [
            "Companies with R&D Spend greater than 12000:\n",
            "    R&D Spend  Administration  Marketing Spend       State     Profit  \\\n",
            "0   165349.20       136897.80        471784.10    New York  192261.83   \n",
            "1   162597.70       151377.59        443898.53  California  191792.06   \n",
            "2   153441.51       101145.55        407934.54     Florida  191050.39   \n",
            "3   144372.41       118671.85        383199.62    New York  182901.99   \n",
            "4   142107.34        91391.77        366168.42     Florida  166187.94   \n",
            "5   131876.90        99814.71        362861.36    New York  156991.12   \n",
            "6   134615.46       147198.87        127716.82  California  156122.51   \n",
            "7   130298.13       145530.06        323876.68     Florida  155752.60   \n",
            "8   120542.52       148718.95        311613.29    New York  152211.77   \n",
            "9   123334.88       108679.17        304981.62  California  149759.96   \n",
            "10  101913.08       110594.11        229160.95     Florida  146121.95   \n",
            "11  100671.96        91790.61        249744.55  California  144259.40   \n",
            "12   93863.75       127320.38        249839.44     Florida  141585.52   \n",
            "13   91992.39       135495.07        252664.93  California  134307.35   \n",
            "14  119943.24       156547.42        256512.92     Florida  132602.65   \n",
            "15  114523.61       122616.84        261776.23    New York  129917.04   \n",
            "16   78013.11       121597.55        264346.06  California  126992.93   \n",
            "17   94657.16       145077.58        282574.31    New York  125370.37   \n",
            "18   91749.16       114175.79        294919.57     Florida  124266.90   \n",
            "19   86419.70       153514.11             0.00    New York  122776.86   \n",
            "20   76253.86       113867.30        298664.47  California  118474.03   \n",
            "21   78389.47       153773.43        299737.29    New York  111313.02   \n",
            "22   73994.56       122782.75        303319.26     Florida  110352.25   \n",
            "23   67532.53       105751.03        304768.73     Florida  108733.99   \n",
            "24   77044.01        99281.34        140574.81    New York  108552.04   \n",
            "25   64664.71       139553.16        137962.62  California  107404.34   \n",
            "26   75328.87       144135.98        134050.07     Florida  105733.54   \n",
            "27   72107.60       127864.55        353183.81    New York  105008.31   \n",
            "28   66051.52       182645.56        118148.20     Florida  103282.38   \n",
            "29   65605.48       153032.06        107138.38    New York  101004.64   \n",
            "30   61994.48       115641.28         91131.24     Florida   99937.59   \n",
            "31   61136.38       152701.92         88218.23    New York   97483.56   \n",
            "32   63408.86       129219.61         46085.25  California   97427.84   \n",
            "33   55493.95       103057.49        214634.81     Florida   96778.92   \n",
            "34   46426.07       157693.92        210797.67  California   96712.80   \n",
            "35   46014.02        85047.44        205517.64    New York   96479.51   \n",
            "36   28663.76       127056.21        201126.82     Florida   90708.19   \n",
            "37   44069.95        51283.14        197029.42  California   89949.14   \n",
            "38   20229.59        65947.93        185265.10    New York   81229.06   \n",
            "39   38558.51        82982.09        174999.30  California   81005.76   \n",
            "40   28754.33       118546.05        172795.67  California   78239.91   \n",
            "41   27892.92        84710.77        164470.71     Florida   77798.83   \n",
            "42   23640.93        96189.63        148001.11  California   71498.49   \n",
            "43   15505.73       127382.30         35534.17    New York   69758.98   \n",
            "44   22177.74       154806.14         28334.72  California   65200.33   \n",
            "\n",
            "    Total_Spend  \n",
            "0     774031.10  \n",
            "1     757873.82  \n",
            "2     662521.60  \n",
            "3     646243.88  \n",
            "4     599667.53  \n",
            "5     594552.97  \n",
            "6     409531.15  \n",
            "7     599704.87  \n",
            "8     580874.76  \n",
            "9     536995.67  \n",
            "10    441668.14  \n",
            "11    442207.12  \n",
            "12    471023.57  \n",
            "13    480152.39  \n",
            "14    533003.58  \n",
            "15    498916.68  \n",
            "16    463956.72  \n",
            "17    522309.05  \n",
            "18    500844.52  \n",
            "19    239933.81  \n",
            "20    488785.63  \n",
            "21    531900.19  \n",
            "22    500096.57  \n",
            "23    478052.29  \n",
            "24    316900.16  \n",
            "25    342180.49  \n",
            "26    353514.92  \n",
            "27    553155.96  \n",
            "28    366845.28  \n",
            "29    325775.92  \n",
            "30    268767.00  \n",
            "31    302056.53  \n",
            "32    238713.72  \n",
            "33    373186.25  \n",
            "34    414917.66  \n",
            "35    336579.10  \n",
            "36    356846.79  \n",
            "37    292382.51  \n",
            "38    271442.62  \n",
            "39    296539.90  \n",
            "40    320096.05  \n",
            "41    277074.40  \n",
            "42    267831.67  \n",
            "43    178422.20  \n",
            "44    205318.60  \n"
          ]
        }
      ],
      "source": [
        "filtered_df = df[df['R&D Spend'] > 12000]\n",
        "\n",
        "print(\"Companies with R&D Spend greater than 12000:\")\n",
        "print(filtered_df)"
      ]
    },
    {
      "cell_type": "markdown",
      "metadata": {
        "id": "zmqijtAqZxg0"
      },
      "source": [
        "\n",
        "\n",
        "---\n",
        "\n",
        "\n",
        "\n",
        "---\n",
        "\n"
      ]
    },
    {
      "cell_type": "markdown",
      "metadata": {
        "id": "IFCNM-Wup9_k"
      },
      "source": [
        "14. Calculate the total 'Profit' for companies with 'Marketing_Spend' above a certain threshold.\n",
        "\n"
      ]
    },
    {
      "cell_type": "code",
      "execution_count": 22,
      "metadata": {
        "id": "WrbrU4KTp_pG",
        "colab": {
          "base_uri": "https://localhost:8080/"
        },
        "outputId": "292adc80-70d8-4c3d-e4e0-a2642825b692"
      },
      "outputs": [
        {
          "output_type": "stream",
          "name": "stdout",
          "text": [
            "Total Profit for companies with Marketing Spend above 15000: 5334695.880000001\n"
          ]
        }
      ],
      "source": [
        "threshold = 15000\n",
        "\n",
        "filtered_df = df[df['Marketing Spend'] > threshold]\n",
        "\n",
        "total_profit_above_threshold = filtered_df['Profit'].sum()\n",
        "\n",
        "print(f\"Total Profit for companies with Marketing Spend above {threshold}: {total_profit_above_threshold}\")"
      ]
    },
    {
      "cell_type": "markdown",
      "metadata": {
        "id": "5f3AzWxWp_11"
      },
      "source": [
        "15. Replace any missing values in the 'Marketing_Spend' column with the mean spending of the dataset.\n",
        "\n"
      ]
    },
    {
      "cell_type": "code",
      "execution_count": 23,
      "metadata": {
        "id": "7irTxP7pqBMZ",
        "colab": {
          "base_uri": "https://localhost:8080/"
        },
        "outputId": "65625037-7b90-4a53-f05b-93a74324b274"
      },
      "outputs": [
        {
          "output_type": "stream",
          "name": "stdout",
          "text": [
            "    R&D Spend  Administration  Marketing Spend       State     Profit  \\\n",
            "0   165349.20       136897.80        471784.10    New York  192261.83   \n",
            "1   162597.70       151377.59        443898.53  California  191792.06   \n",
            "2   153441.51       101145.55        407934.54     Florida  191050.39   \n",
            "3   144372.41       118671.85        383199.62    New York  182901.99   \n",
            "4   142107.34        91391.77        366168.42     Florida  166187.94   \n",
            "5   131876.90        99814.71        362861.36    New York  156991.12   \n",
            "6   134615.46       147198.87        127716.82  California  156122.51   \n",
            "7   130298.13       145530.06        323876.68     Florida  155752.60   \n",
            "8   120542.52       148718.95        311613.29    New York  152211.77   \n",
            "9   123334.88       108679.17        304981.62  California  149759.96   \n",
            "10  101913.08       110594.11        229160.95     Florida  146121.95   \n",
            "11  100671.96        91790.61        249744.55  California  144259.40   \n",
            "12   93863.75       127320.38        249839.44     Florida  141585.52   \n",
            "13   91992.39       135495.07        252664.93  California  134307.35   \n",
            "14  119943.24       156547.42        256512.92     Florida  132602.65   \n",
            "15  114523.61       122616.84        261776.23    New York  129917.04   \n",
            "16   78013.11       121597.55        264346.06  California  126992.93   \n",
            "17   94657.16       145077.58        282574.31    New York  125370.37   \n",
            "18   91749.16       114175.79        294919.57     Florida  124266.90   \n",
            "19   86419.70       153514.11             0.00    New York  122776.86   \n",
            "20   76253.86       113867.30        298664.47  California  118474.03   \n",
            "21   78389.47       153773.43        299737.29    New York  111313.02   \n",
            "22   73994.56       122782.75        303319.26     Florida  110352.25   \n",
            "23   67532.53       105751.03        304768.73     Florida  108733.99   \n",
            "24   77044.01        99281.34        140574.81    New York  108552.04   \n",
            "25   64664.71       139553.16        137962.62  California  107404.34   \n",
            "26   75328.87       144135.98        134050.07     Florida  105733.54   \n",
            "27   72107.60       127864.55        353183.81    New York  105008.31   \n",
            "28   66051.52       182645.56        118148.20     Florida  103282.38   \n",
            "29   65605.48       153032.06        107138.38    New York  101004.64   \n",
            "30   61994.48       115641.28         91131.24     Florida   99937.59   \n",
            "31   61136.38       152701.92         88218.23    New York   97483.56   \n",
            "32   63408.86       129219.61         46085.25  California   97427.84   \n",
            "33   55493.95       103057.49        214634.81     Florida   96778.92   \n",
            "34   46426.07       157693.92        210797.67  California   96712.80   \n",
            "35   46014.02        85047.44        205517.64    New York   96479.51   \n",
            "36   28663.76       127056.21        201126.82     Florida   90708.19   \n",
            "37   44069.95        51283.14        197029.42  California   89949.14   \n",
            "38   20229.59        65947.93        185265.10    New York   81229.06   \n",
            "39   38558.51        82982.09        174999.30  California   81005.76   \n",
            "40   28754.33       118546.05        172795.67  California   78239.91   \n",
            "41   27892.92        84710.77        164470.71     Florida   77798.83   \n",
            "42   23640.93        96189.63        148001.11  California   71498.49   \n",
            "43   15505.73       127382.30         35534.17    New York   69758.98   \n",
            "44   22177.74       154806.14         28334.72  California   65200.33   \n",
            "45    1000.23       124153.04          1903.93    New York   64926.08   \n",
            "46    1315.46       115816.21        297114.46     Florida   49490.75   \n",
            "47       0.00       135426.92             0.00  California   42559.73   \n",
            "48     542.05        51743.15             0.00    New York   35673.41   \n",
            "49       0.00       116983.80         45173.06  California   14681.40   \n",
            "\n",
            "    Total_Spend  \n",
            "0     774031.10  \n",
            "1     757873.82  \n",
            "2     662521.60  \n",
            "3     646243.88  \n",
            "4     599667.53  \n",
            "5     594552.97  \n",
            "6     409531.15  \n",
            "7     599704.87  \n",
            "8     580874.76  \n",
            "9     536995.67  \n",
            "10    441668.14  \n",
            "11    442207.12  \n",
            "12    471023.57  \n",
            "13    480152.39  \n",
            "14    533003.58  \n",
            "15    498916.68  \n",
            "16    463956.72  \n",
            "17    522309.05  \n",
            "18    500844.52  \n",
            "19    239933.81  \n",
            "20    488785.63  \n",
            "21    531900.19  \n",
            "22    500096.57  \n",
            "23    478052.29  \n",
            "24    316900.16  \n",
            "25    342180.49  \n",
            "26    353514.92  \n",
            "27    553155.96  \n",
            "28    366845.28  \n",
            "29    325775.92  \n",
            "30    268767.00  \n",
            "31    302056.53  \n",
            "32    238713.72  \n",
            "33    373186.25  \n",
            "34    414917.66  \n",
            "35    336579.10  \n",
            "36    356846.79  \n",
            "37    292382.51  \n",
            "38    271442.62  \n",
            "39    296539.90  \n",
            "40    320096.05  \n",
            "41    277074.40  \n",
            "42    267831.67  \n",
            "43    178422.20  \n",
            "44    205318.60  \n",
            "45    127057.20  \n",
            "46    414246.13  \n",
            "47    135426.92  \n",
            "48     52285.20  \n",
            "49    162156.86  \n"
          ]
        }
      ],
      "source": [
        "mean_marketing_spend = df['Marketing Spend'].mean()\n",
        "\n",
        "df['Marketing Spend'].fillna(mean_marketing_spend, inplace=True)\n",
        "\n",
        "print(df)"
      ]
    },
    {
      "cell_type": "markdown",
      "metadata": {
        "id": "gSL3LtfTZ8yu"
      },
      "source": [
        "\n",
        "\n",
        "\n",
        "---\n",
        "\n",
        "\n",
        "---\n",
        "\n"
      ]
    },
    {
      "cell_type": "markdown",
      "metadata": {
        "id": "hDzBUjHsqBTS"
      },
      "source": [
        "16. Create a new column 'Profit_Margin' that represents the profit margin for each company (Profit / Total_Spend).\n",
        "\n"
      ]
    },
    {
      "cell_type": "code",
      "execution_count": 24,
      "metadata": {
        "id": "hjLIAfJvqCgV",
        "colab": {
          "base_uri": "https://localhost:8080/"
        },
        "outputId": "a89f9c5b-c387-4070-ed82-b881fa44a12b"
      },
      "outputs": [
        {
          "output_type": "stream",
          "name": "stdout",
          "text": [
            "    R&D Spend  Administration  Marketing Spend       State     Profit  \\\n",
            "0   165349.20       136897.80        471784.10    New York  192261.83   \n",
            "1   162597.70       151377.59        443898.53  California  191792.06   \n",
            "2   153441.51       101145.55        407934.54     Florida  191050.39   \n",
            "3   144372.41       118671.85        383199.62    New York  182901.99   \n",
            "4   142107.34        91391.77        366168.42     Florida  166187.94   \n",
            "5   131876.90        99814.71        362861.36    New York  156991.12   \n",
            "6   134615.46       147198.87        127716.82  California  156122.51   \n",
            "7   130298.13       145530.06        323876.68     Florida  155752.60   \n",
            "8   120542.52       148718.95        311613.29    New York  152211.77   \n",
            "9   123334.88       108679.17        304981.62  California  149759.96   \n",
            "10  101913.08       110594.11        229160.95     Florida  146121.95   \n",
            "11  100671.96        91790.61        249744.55  California  144259.40   \n",
            "12   93863.75       127320.38        249839.44     Florida  141585.52   \n",
            "13   91992.39       135495.07        252664.93  California  134307.35   \n",
            "14  119943.24       156547.42        256512.92     Florida  132602.65   \n",
            "15  114523.61       122616.84        261776.23    New York  129917.04   \n",
            "16   78013.11       121597.55        264346.06  California  126992.93   \n",
            "17   94657.16       145077.58        282574.31    New York  125370.37   \n",
            "18   91749.16       114175.79        294919.57     Florida  124266.90   \n",
            "19   86419.70       153514.11             0.00    New York  122776.86   \n",
            "20   76253.86       113867.30        298664.47  California  118474.03   \n",
            "21   78389.47       153773.43        299737.29    New York  111313.02   \n",
            "22   73994.56       122782.75        303319.26     Florida  110352.25   \n",
            "23   67532.53       105751.03        304768.73     Florida  108733.99   \n",
            "24   77044.01        99281.34        140574.81    New York  108552.04   \n",
            "25   64664.71       139553.16        137962.62  California  107404.34   \n",
            "26   75328.87       144135.98        134050.07     Florida  105733.54   \n",
            "27   72107.60       127864.55        353183.81    New York  105008.31   \n",
            "28   66051.52       182645.56        118148.20     Florida  103282.38   \n",
            "29   65605.48       153032.06        107138.38    New York  101004.64   \n",
            "30   61994.48       115641.28         91131.24     Florida   99937.59   \n",
            "31   61136.38       152701.92         88218.23    New York   97483.56   \n",
            "32   63408.86       129219.61         46085.25  California   97427.84   \n",
            "33   55493.95       103057.49        214634.81     Florida   96778.92   \n",
            "34   46426.07       157693.92        210797.67  California   96712.80   \n",
            "35   46014.02        85047.44        205517.64    New York   96479.51   \n",
            "36   28663.76       127056.21        201126.82     Florida   90708.19   \n",
            "37   44069.95        51283.14        197029.42  California   89949.14   \n",
            "38   20229.59        65947.93        185265.10    New York   81229.06   \n",
            "39   38558.51        82982.09        174999.30  California   81005.76   \n",
            "40   28754.33       118546.05        172795.67  California   78239.91   \n",
            "41   27892.92        84710.77        164470.71     Florida   77798.83   \n",
            "42   23640.93        96189.63        148001.11  California   71498.49   \n",
            "43   15505.73       127382.30         35534.17    New York   69758.98   \n",
            "44   22177.74       154806.14         28334.72  California   65200.33   \n",
            "45    1000.23       124153.04          1903.93    New York   64926.08   \n",
            "46    1315.46       115816.21        297114.46     Florida   49490.75   \n",
            "47       0.00       135426.92             0.00  California   42559.73   \n",
            "48     542.05        51743.15             0.00    New York   35673.41   \n",
            "49       0.00       116983.80         45173.06  California   14681.40   \n",
            "\n",
            "    Total_Spend  Profit_Margin  \n",
            "0     774031.10       0.248390  \n",
            "1     757873.82       0.253066  \n",
            "2     662521.60       0.288369  \n",
            "3     646243.88       0.283023  \n",
            "4     599667.53       0.277133  \n",
            "5     594552.97       0.264049  \n",
            "6     409531.15       0.381223  \n",
            "7     599704.87       0.259715  \n",
            "8     580874.76       0.262039  \n",
            "9     536995.67       0.278885  \n",
            "10    441668.14       0.330841  \n",
            "11    442207.12       0.326226  \n",
            "12    471023.57       0.300591  \n",
            "13    480152.39       0.279718  \n",
            "14    533003.58       0.248784  \n",
            "15    498916.68       0.260398  \n",
            "16    463956.72       0.273717  \n",
            "17    522309.05       0.240031  \n",
            "18    500844.52       0.248115  \n",
            "19    239933.81       0.511711  \n",
            "20    488785.63       0.242384  \n",
            "21    531900.19       0.209274  \n",
            "22    500096.57       0.220662  \n",
            "23    478052.29       0.227452  \n",
            "24    316900.16       0.342543  \n",
            "25    342180.49       0.313882  \n",
            "26    353514.92       0.299092  \n",
            "27    553155.96       0.189835  \n",
            "28    366845.28       0.281542  \n",
            "29    325775.92       0.310043  \n",
            "30    268767.00       0.371837  \n",
            "31    302056.53       0.322733  \n",
            "32    238713.72       0.408137  \n",
            "33    373186.25       0.259331  \n",
            "34    414917.66       0.233089  \n",
            "35    336579.10       0.286647  \n",
            "36    356846.79       0.254194  \n",
            "37    292382.51       0.307642  \n",
            "38    271442.62       0.299249  \n",
            "39    296539.90       0.273170  \n",
            "40    320096.05       0.244426  \n",
            "41    277074.40       0.280787  \n",
            "42    267831.67       0.266953  \n",
            "43    178422.20       0.390977  \n",
            "44    205318.60       0.317557  \n",
            "45    127057.20       0.510999  \n",
            "46    414246.13       0.119472  \n",
            "47    135426.92       0.314263  \n",
            "48     52285.20       0.682285  \n",
            "49    162156.86       0.090538  \n"
          ]
        }
      ],
      "source": [
        "df['Profit_Margin'] = df['Profit'] / df['Total_Spend']\n",
        "\n",
        "print(df)"
      ]
    },
    {
      "cell_type": "markdown",
      "metadata": {
        "id": "1oYfihHQaNdp"
      },
      "source": [
        "\n",
        "\n",
        "---\n",
        "\n",
        "\n",
        "\n",
        "---\n",
        "\n",
        "\n",
        "\n",
        "---\n",
        "\n"
      ]
    },
    {
      "cell_type": "markdown",
      "metadata": {
        "id": "EKSiuWOTqCnA"
      },
      "source": [
        "17. Sort the dataset by 'Profit_Margin' in descending order.\n",
        "\n",
        "\n",
        "\n",
        "\n",
        "\n"
      ]
    },
    {
      "cell_type": "code",
      "execution_count": 25,
      "metadata": {
        "id": "b0nz2-qtqDsy",
        "colab": {
          "base_uri": "https://localhost:8080/"
        },
        "outputId": "d9de813d-4013-429f-9d96-4b7400ded75f"
      },
      "outputs": [
        {
          "output_type": "stream",
          "name": "stdout",
          "text": [
            "Sorted dataset by Profit_Margin in descending order:\n",
            "    R&D Spend  Administration  Marketing Spend       State     Profit  \\\n",
            "48     542.05        51743.15             0.00    New York   35673.41   \n",
            "19   86419.70       153514.11             0.00    New York  122776.86   \n",
            "45    1000.23       124153.04          1903.93    New York   64926.08   \n",
            "32   63408.86       129219.61         46085.25  California   97427.84   \n",
            "43   15505.73       127382.30         35534.17    New York   69758.98   \n",
            "6   134615.46       147198.87        127716.82  California  156122.51   \n",
            "30   61994.48       115641.28         91131.24     Florida   99937.59   \n",
            "24   77044.01        99281.34        140574.81    New York  108552.04   \n",
            "10  101913.08       110594.11        229160.95     Florida  146121.95   \n",
            "11  100671.96        91790.61        249744.55  California  144259.40   \n",
            "31   61136.38       152701.92         88218.23    New York   97483.56   \n",
            "44   22177.74       154806.14         28334.72  California   65200.33   \n",
            "47       0.00       135426.92             0.00  California   42559.73   \n",
            "25   64664.71       139553.16        137962.62  California  107404.34   \n",
            "29   65605.48       153032.06        107138.38    New York  101004.64   \n",
            "37   44069.95        51283.14        197029.42  California   89949.14   \n",
            "12   93863.75       127320.38        249839.44     Florida  141585.52   \n",
            "38   20229.59        65947.93        185265.10    New York   81229.06   \n",
            "26   75328.87       144135.98        134050.07     Florida  105733.54   \n",
            "2   153441.51       101145.55        407934.54     Florida  191050.39   \n",
            "35   46014.02        85047.44        205517.64    New York   96479.51   \n",
            "3   144372.41       118671.85        383199.62    New York  182901.99   \n",
            "28   66051.52       182645.56        118148.20     Florida  103282.38   \n",
            "41   27892.92        84710.77        164470.71     Florida   77798.83   \n",
            "13   91992.39       135495.07        252664.93  California  134307.35   \n",
            "9   123334.88       108679.17        304981.62  California  149759.96   \n",
            "4   142107.34        91391.77        366168.42     Florida  166187.94   \n",
            "16   78013.11       121597.55        264346.06  California  126992.93   \n",
            "39   38558.51        82982.09        174999.30  California   81005.76   \n",
            "42   23640.93        96189.63        148001.11  California   71498.49   \n",
            "5   131876.90        99814.71        362861.36    New York  156991.12   \n",
            "8   120542.52       148718.95        311613.29    New York  152211.77   \n",
            "15  114523.61       122616.84        261776.23    New York  129917.04   \n",
            "7   130298.13       145530.06        323876.68     Florida  155752.60   \n",
            "33   55493.95       103057.49        214634.81     Florida   96778.92   \n",
            "36   28663.76       127056.21        201126.82     Florida   90708.19   \n",
            "1   162597.70       151377.59        443898.53  California  191792.06   \n",
            "14  119943.24       156547.42        256512.92     Florida  132602.65   \n",
            "0   165349.20       136897.80        471784.10    New York  192261.83   \n",
            "18   91749.16       114175.79        294919.57     Florida  124266.90   \n",
            "40   28754.33       118546.05        172795.67  California   78239.91   \n",
            "20   76253.86       113867.30        298664.47  California  118474.03   \n",
            "17   94657.16       145077.58        282574.31    New York  125370.37   \n",
            "34   46426.07       157693.92        210797.67  California   96712.80   \n",
            "23   67532.53       105751.03        304768.73     Florida  108733.99   \n",
            "22   73994.56       122782.75        303319.26     Florida  110352.25   \n",
            "21   78389.47       153773.43        299737.29    New York  111313.02   \n",
            "27   72107.60       127864.55        353183.81    New York  105008.31   \n",
            "46    1315.46       115816.21        297114.46     Florida   49490.75   \n",
            "49       0.00       116983.80         45173.06  California   14681.40   \n",
            "\n",
            "    Total_Spend  Profit_Margin  \n",
            "48     52285.20       0.682285  \n",
            "19    239933.81       0.511711  \n",
            "45    127057.20       0.510999  \n",
            "32    238713.72       0.408137  \n",
            "43    178422.20       0.390977  \n",
            "6     409531.15       0.381223  \n",
            "30    268767.00       0.371837  \n",
            "24    316900.16       0.342543  \n",
            "10    441668.14       0.330841  \n",
            "11    442207.12       0.326226  \n",
            "31    302056.53       0.322733  \n",
            "44    205318.60       0.317557  \n",
            "47    135426.92       0.314263  \n",
            "25    342180.49       0.313882  \n",
            "29    325775.92       0.310043  \n",
            "37    292382.51       0.307642  \n",
            "12    471023.57       0.300591  \n",
            "38    271442.62       0.299249  \n",
            "26    353514.92       0.299092  \n",
            "2     662521.60       0.288369  \n",
            "35    336579.10       0.286647  \n",
            "3     646243.88       0.283023  \n",
            "28    366845.28       0.281542  \n",
            "41    277074.40       0.280787  \n",
            "13    480152.39       0.279718  \n",
            "9     536995.67       0.278885  \n",
            "4     599667.53       0.277133  \n",
            "16    463956.72       0.273717  \n",
            "39    296539.90       0.273170  \n",
            "42    267831.67       0.266953  \n",
            "5     594552.97       0.264049  \n",
            "8     580874.76       0.262039  \n",
            "15    498916.68       0.260398  \n",
            "7     599704.87       0.259715  \n",
            "33    373186.25       0.259331  \n",
            "36    356846.79       0.254194  \n",
            "1     757873.82       0.253066  \n",
            "14    533003.58       0.248784  \n",
            "0     774031.10       0.248390  \n",
            "18    500844.52       0.248115  \n",
            "40    320096.05       0.244426  \n",
            "20    488785.63       0.242384  \n",
            "17    522309.05       0.240031  \n",
            "34    414917.66       0.233089  \n",
            "23    478052.29       0.227452  \n",
            "22    500096.57       0.220662  \n",
            "21    531900.19       0.209274  \n",
            "27    553155.96       0.189835  \n",
            "46    414246.13       0.119472  \n",
            "49    162156.86       0.090538  \n"
          ]
        }
      ],
      "source": [
        "sorted_df = df.sort_values(by='Profit_Margin', ascending=False)\n",
        "\n",
        "print(\"Sorted dataset by Profit_Margin in descending order:\")\n",
        "print(sorted_df)"
      ]
    },
    {
      "cell_type": "markdown",
      "metadata": {
        "id": "-gtiy2C4aDiN"
      },
      "source": [
        "\n",
        "\n",
        "---\n",
        "\n",
        "\n",
        "\n",
        "---\n",
        "\n"
      ]
    },
    {
      "cell_type": "markdown",
      "metadata": {
        "id": "v3GOIPhOqD0Z"
      },
      "source": [
        "18. Calculate the average profit margin for companies in each 'State' and create a bar chart to display it.\n",
        "\n"
      ]
    },
    {
      "cell_type": "code",
      "execution_count": 28,
      "metadata": {
        "id": "5GS-cxTbqFe5",
        "colab": {
          "base_uri": "https://localhost:8080/",
          "height": 564
        },
        "outputId": "e0deb18f-a8f1-4189-b99a-8a5633185944"
      },
      "outputs": [
        {
          "output_type": "display_data",
          "data": {
            "text/plain": [
              "<Figure size 1000x600 with 1 Axes>"
            ],
            "image/png": "[encoded data removed]"
          },
          "metadata": {}
        }
      ],
      "source": [
        "import matplotlib.pyplot as plt\n",
        "\n",
        "\n",
        "average_margin_by_state = df.groupby('State')['Profit_Margin'].mean().reset_index()\n",
        "\n",
        "plt.figure(figsize=(10, 6))\n",
        "plt.bar(average_margin_by_state['State'], average_margin_by_state['Profit_Margin'], color='#FF7F50')\n",
        "plt.xlabel('State')\n",
        "plt.ylabel('Average Profit Margin')\n",
        "plt.title('Average Profit Margin by State')\n",
        "plt.show()"
      ]
    },
    {
      "cell_type": "markdown",
      "metadata": {
        "id": "Gc2rlCHcaHh5"
      },
      "source": [
        "\n",
        "\n",
        "---\n",
        "\n",
        "\n",
        "\n",
        "---\n",
        "\n",
        "\n",
        "\n",
        "---\n",
        "\n"
      ]
    },
    {
      "cell_type": "markdown",
      "metadata": {
        "id": "o5JA0X1_qFm6"
      },
      "source": [
        "19. Find the maximum 'R&D_Spend' in each **State**.\n",
        "\n"
      ]
    },
    {
      "cell_type": "code",
      "execution_count": 27,
      "metadata": {
        "id": "uL3LImrEqGqi",
        "colab": {
          "base_uri": "https://localhost:8080/"
        },
        "outputId": "70458ce3-5ea1-4de6-c2e1-79ae719463d0"
      },
      "outputs": [
        {
          "output_type": "stream",
          "name": "stdout",
          "text": [
            "Maximum R&D Spend in each state:\n",
            "        State  R&D Spend\n",
            "0  California  162597.70\n",
            "1     Florida  153441.51\n",
            "2    New York  165349.20\n"
          ]
        }
      ],
      "source": [
        "max_rd_spend_by_state = df.groupby('State')['R&D Spend'].max().reset_index()\n",
        "\n",
        "print(\"Maximum R&D Spend in each state:\")\n",
        "print(max_rd_spend_by_state)"
      ]
    }
  ],
  "metadata": {
    "colab": {
      "provenance": []
    },
    "kernelspec": {
      "display_name": "Python 3",
      "name": "python3"
    },
    "language_info": {
      "name": "python"
    }
  },
  "nbformat": 4,
  "nbformat_minor": 0
}