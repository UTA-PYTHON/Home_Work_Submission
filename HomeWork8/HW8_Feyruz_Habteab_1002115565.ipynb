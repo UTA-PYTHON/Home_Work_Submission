{
  "nbformat": 4,
  "nbformat_minor": 0,
  "metadata": {
    "colab": {
      "provenance": []
    },
    "kernelspec": {
      "name": "python3",
      "display_name": "Python 3"
    },
    "language_info": {
      "name": "python"
    }
  },
  "cells": [
    {
      "cell_type": "markdown",
      "source": [
        "# **Week 12. Homework 8. Pandas**"
      ],
      "metadata": {
        "id": "B26w8VjCYKRV"
      }
    },
    {
      "cell_type": "markdown",
      "source": [
        "\n",
        "\n",
        "---\n",
        "\n",
        "\n",
        "\n",
        "---\n",
        "\n",
        "\n",
        "\n",
        "---\n",
        "\n"
      ],
      "metadata": {
        "id": "Eu6PftroYo2U"
      }
    },
    {
      "cell_type": "markdown",
      "source": [
        "\n",
        "1. Load the dataset into a pandas DataFrame and display the first few rows."
      ],
      "metadata": {
        "id": "aV6E5GZXpi1M"
      }
    },
    {
      "cell_type": "code",
      "source": [
        "import numpy as np\n",
        "import pandas as pd\n",
        "import matplotlib.pyplot as plt"
      ],
      "metadata": {
        "id": "UuBf-4nmUDfX"
      },
      "execution_count": 48,
      "outputs": []
    },
    {
      "cell_type": "code",
      "source": [
        "df=pd.read_csv(r\"C:\\Users\\Feyruz Habteab\\Documents\\Fall'23\\Startups.csv\")\n",
        "\n",
        "\n",
        "## It was working at first but i wans't able to load the dataset into the dataframe\n",
        "## I have done all the solutions but i wasn't able to pull the file and i have tried it in a every way.\n"
      ],
      "metadata": {
        "id": "JEEGz0yU0vK5"
      },
      "execution_count": null,
      "outputs": []
    },
    {
      "cell_type": "code",
      "source": [
        "\n",
        "row_and_col_count=df.shape[0]\n",
        "print(row_and_col_count)\n",
        "\n",
        "\n"
      ],
      "metadata": {
        "id": "ihMWKM5ypq7d"
      },
      "execution_count": null,
      "outputs": []
    },
    {
      "cell_type": "markdown",
      "source": [
        "\n",
        "\n",
        "\n",
        "---\n",
        "\n",
        "\n",
        "---\n",
        "\n"
      ],
      "metadata": {
        "id": "E6OSn0EpY2ZG"
      }
    },
    {
      "cell_type": "markdown",
      "source": [
        "3. Check for missing values in each column and handle them appropriately.\n",
        "\n",
        "\n"
      ],
      "metadata": {
        "id": "2mlsVfqwprGf"
      }
    },
    {
      "cell_type": "code",
      "source": [
        "print(\"missing values:\")\n",
        "df.isnull()"
      ],
      "metadata": {
        "id": "MHCp25TcpshE"
      },
      "execution_count": null,
      "outputs": []
    },
    {
      "cell_type": "code",
      "source": [
        "df_ffill=df.fillna(method='ffill')\n",
        "print(df_ffill)"
      ],
      "metadata": {
        "id": "83fnrRYT2cbt"
      },
      "execution_count": null,
      "outputs": []
    },
    {
      "cell_type": "markdown",
      "source": [
        "4. Calculate the mean, median, and standard deviation of the 'R&D_Spend' column.\n",
        "\n"
      ],
      "metadata": {
        "id": "3p6tB8lCpsqD"
      }
    },
    {
      "cell_type": "code",
      "source": [
        "\n",
        "print(df.mean(axis=\"R&D_Spend\"))\n",
        "\n",
        "print(df.median(axis=\"R&D_Spend\"))\n",
        "\n",
        "print(df[\"R&D_Spend\"].std())\n",
        "\n"
      ],
      "metadata": {
        "id": "qNI6I-PWpubf"
      },
      "execution_count": null,
      "outputs": []
    },
    {
      "cell_type": "markdown",
      "source": [
        "\n",
        "\n",
        "\n",
        "---\n",
        "\n",
        "\n",
        "---\n",
        "\n"
      ],
      "metadata": {
        "id": "hubV5ZGsZAm7"
      }
    },
    {
      "cell_type": "markdown",
      "source": [
        "5. Filter and create a new DataFrame containing companies located in a **California**.\n",
        "\n"
      ],
      "metadata": {
        "id": "BiULHwdYpunP"
      }
    },
    {
      "cell_type": "code",
      "source": [
        "Cali_companies=df[(df[\"State\"]==\"California\")]\n",
        "\n",
        "Cali_companies"
      ],
      "metadata": {
        "id": "tkqnf92hpwOs"
      },
      "execution_count": null,
      "outputs": []
    },
    {
      "cell_type": "markdown",
      "source": [
        "\n",
        "\n",
        "\n",
        "---\n",
        "\n",
        "\n",
        "---\n",
        "\n"
      ],
      "metadata": {
        "id": "ilrxyXvXZEKe"
      }
    },
    {
      "cell_type": "markdown",
      "source": [
        "6. Sort the dataset by 'Profit' in descending order.\n",
        "\n"
      ],
      "metadata": {
        "id": "4XPxg0Z6pwrs"
      }
    },
    {
      "cell_type": "code",
      "source": [
        "sorted_df=df.sort_values([\"Pofit\"], descending=True)\n",
        "\n",
        "print(sorted_df)\n"
      ],
      "metadata": {
        "id": "iCfpA1supxvs"
      },
      "execution_count": null,
      "outputs": []
    },
    {
      "cell_type": "markdown",
      "source": [
        "\n",
        "\n",
        "\n",
        "---\n",
        "\n",
        "\n",
        "---\n",
        "\n"
      ],
      "metadata": {
        "id": "Kfwe7mo3ZL-_"
      }
    },
    {
      "cell_type": "markdown",
      "source": [
        "7. Group the data by 'State' and calculate the total 'Profit' for each state.\n",
        "\n"
      ],
      "metadata": {
        "id": "MkaJtIJipx3D"
      }
    },
    {
      "cell_type": "code",
      "source": [
        "Group_by_state=df.groupby([\"State\"]).sum()\n",
        "\n",
        "\n"
      ],
      "metadata": {
        "id": "81W9p9_TpzdV"
      },
      "execution_count": null,
      "outputs": []
    },
    {
      "cell_type": "markdown",
      "source": [
        "\n",
        "\n",
        "\n",
        "---\n",
        "\n",
        "\n",
        "---\n",
        "\n"
      ],
      "metadata": {
        "id": "gOOFuCtSZQdC"
      }
    },
    {
      "cell_type": "markdown",
      "source": [
        "8. Create a bar chart to visualize the total 'Profit' by 'State.'\n",
        "\n"
      ],
      "metadata": {
        "id": "C1pyEEfvpzky"
      }
    },
    {
      "cell_type": "code",
      "source": [
        "\n",
        "df=pd.DataFrame(\"Startups.csv\")\n",
        "df\n",
        "\n",
        "\n",
        "\n",
        "\n",
        "\n",
        "\n"
      ],
      "metadata": {
        "id": "QOJXsbNGp1BD"
      },
      "execution_count": null,
      "outputs": []
    },
    {
      "cell_type": "markdown",
      "source": [
        "\n",
        "\n",
        "\n",
        "---\n",
        "\n",
        "\n",
        "---\n",
        "\n"
      ],
      "metadata": {
        "id": "c8iB2WASZUhc"
      }
    },
    {
      "cell_type": "markdown",
      "source": [
        "9. Calculate the correlation between 'R&D_Spend' and 'Profit.'\n",
        "\n"
      ],
      "metadata": {
        "id": "zjoIiI8Zp1Lo"
      }
    },
    {
      "cell_type": "code",
      "source": [
        "\n",
        "corr= df[\"R&D_Spend\"].corr(df[\"Profit\"])\n",
        "\n",
        "print(corr)\n",
        "\n",
        "\n",
        "\n",
        "\n",
        "\n"
      ],
      "metadata": {
        "id": "ET03oeaXp21B"
      },
      "execution_count": null,
      "outputs": []
    },
    {
      "cell_type": "markdown",
      "source": [
        "\n",
        "\n",
        "---\n",
        "\n",
        "\n",
        "\n",
        "---\n",
        "\n",
        "\n",
        "\n",
        "---\n",
        "\n"
      ],
      "metadata": {
        "id": "-BoSHhM7ZYGO"
      }
    },
    {
      "cell_type": "markdown",
      "source": [
        "10. Create a new column 'Total_Spend' that represents the sum of 'R&D_Spend,' 'Administration,' and 'Marketing_Spend' for each company.\n",
        "\n"
      ],
      "metadata": {
        "id": "3JPAQM97p28V"
      }
    },
    {
      "cell_type": "code",
      "source": [
        "\n",
        "df[\"Total_Spend\"]=df[\"R&D_Spend\",\"Administration\",\"Marketing_Spend\"].sum()\n",
        "\n",
        "print(df)\n",
        "\n",
        "\n",
        "\n",
        "\n",
        "\n",
        "\n",
        "\n",
        "\n",
        "\n"
      ],
      "metadata": {
        "id": "hnefEKfSp4G4"
      },
      "execution_count": null,
      "outputs": []
    },
    {
      "cell_type": "markdown",
      "source": [
        "11. Calculate the average **R&D_Spend**, **Administration**, and **Marketing_Spend** for companies located in each **State**\n",
        "\n"
      ],
      "metadata": {
        "id": "VpXSCEKfp4Nk"
      }
    },
    {
      "cell_type": "code",
      "source": [
        "\n",
        "Ave=df[[\"R&D_Spend\",\"Administration\",\"Marketing_Spend\"]].mean()\n",
        "print(Ave)\n",
        "\n",
        "\n",
        "\n",
        "\n"
      ],
      "metadata": {
        "id": "V6jGd293p5YB"
      },
      "execution_count": null,
      "outputs": []
    },
    {
      "cell_type": "markdown",
      "source": [
        "\n",
        "\n",
        "---\n",
        "\n",
        "\n",
        "\n",
        "---\n",
        "\n"
      ],
      "metadata": {
        "id": "uTCt-sVLZnmu"
      }
    },
    {
      "cell_type": "markdown",
      "source": [
        "12. Create a histogram to visualize the distribution of 'Profit.'\n",
        "\n"
      ],
      "metadata": {
        "id": "P4jllTczp5e0"
      }
    },
    {
      "cell_type": "code",
      "source": [
        "\n",
        "df[\"Profit\"].plot(kind=\"box\")\n",
        "\n",
        "\n",
        "\n",
        "\n",
        "\n",
        "\n"
      ],
      "metadata": {
        "id": "dLfUYGi3p624"
      },
      "execution_count": null,
      "outputs": []
    },
    {
      "cell_type": "markdown",
      "source": [
        "\n",
        "\n",
        "---\n",
        "\n",
        "\n",
        "\n",
        "---\n",
        "\n"
      ],
      "metadata": {
        "id": "fSEJtTNKZuvL"
      }
    },
    {
      "cell_type": "markdown",
      "source": [
        "13. Filter the dataset to include only companies with 'R&D_Spend' greater than a 12000.\n",
        "\n"
      ],
      "metadata": {
        "id": "3Aw_Q7d-p69y"
      }
    },
    {
      "cell_type": "code",
      "source": [
        "filter_companies=(df[\"R&D_Spend\"]>12000)\n",
        "\n",
        "print(filter_companies)\n",
        "\n",
        "\n"
      ],
      "metadata": {
        "id": "6UzkLN1sp8pT"
      },
      "execution_count": null,
      "outputs": []
    },
    {
      "cell_type": "markdown",
      "source": [
        "\n",
        "\n",
        "---\n",
        "\n",
        "\n",
        "\n",
        "---\n",
        "\n"
      ],
      "metadata": {
        "id": "zmqijtAqZxg0"
      }
    },
    {
      "cell_type": "markdown",
      "source": [
        "14. Calculate the total 'Profit' for companies with 'Marketing_Spend' above a certain threshold.\n",
        "\n"
      ],
      "metadata": {
        "id": "IFCNM-Wup9_k"
      }
    },
    {
      "cell_type": "code",
      "source": [
        "\n",
        "\n",
        "total_profit=df[[\"Marketing_Spend\"]>=200000]=df[\"Profit\"].sum()\n",
        "\n",
        "\n",
        "print(total_profit)\n",
        "\n",
        "\n"
      ],
      "metadata": {
        "id": "WrbrU4KTp_pG"
      },
      "execution_count": null,
      "outputs": []
    },
    {
      "cell_type": "markdown",
      "source": [
        "15. Replace any missing values in the 'Marketing_Spend' column with the mean spending of the dataset.\n",
        "\n"
      ],
      "metadata": {
        "id": "5f3AzWxWp_11"
      }
    },
    {
      "cell_type": "code",
      "source": [
        "\n",
        "\n",
        "df[\"Marketing_Spend\"].fillna(df.mean())\n",
        "\n",
        "df\n",
        "\n",
        "\n",
        "\n",
        "\n",
        "\n"
      ],
      "metadata": {
        "id": "7irTxP7pqBMZ"
      },
      "execution_count": null,
      "outputs": []
    },
    {
      "cell_type": "markdown",
      "source": [
        "\n",
        "\n",
        "\n",
        "---\n",
        "\n",
        "\n",
        "---\n",
        "\n"
      ],
      "metadata": {
        "id": "gSL3LtfTZ8yu"
      }
    },
    {
      "cell_type": "markdown",
      "source": [
        "16. Create a new column 'Profit_Margin' that represents the profit margin for each company (Profit / Total_Spend).\n",
        "\n"
      ],
      "metadata": {
        "id": "hDzBUjHsqBTS"
      }
    },
    {
      "cell_type": "code",
      "source": [
        "\n",
        "\n",
        "df[\"Profit_Margin\"]=df[\"profit\"].apply(lambda x: x/sum(\"R&D_Spend\"))\n",
        "\n",
        "\n",
        "print(df)\n",
        "\n",
        "\n",
        "\n",
        "\n"
      ],
      "metadata": {
        "id": "hjLIAfJvqCgV"
      },
      "execution_count": null,
      "outputs": []
    },
    {
      "cell_type": "markdown",
      "source": [
        "\n",
        "\n",
        "---\n",
        "\n",
        "\n",
        "\n",
        "---\n",
        "\n",
        "\n",
        "\n",
        "---\n",
        "\n"
      ],
      "metadata": {
        "id": "1oYfihHQaNdp"
      }
    },
    {
      "cell_type": "markdown",
      "source": [
        "17. Sort the dataset by 'Profit_Margin' in descending order.\n",
        "\n"
      ],
      "metadata": {
        "id": "EKSiuWOTqCnA"
      }
    },
    {
      "cell_type": "code",
      "source": [
        "\n",
        "\n",
        "sort_dataset=df.sort_values([\"Profit_Margin\"], descending=True)\n",
        "\n",
        "\n",
        "print(sort_dataset)\n",
        "\n",
        "\n"
      ],
      "metadata": {
        "id": "b0nz2-qtqDsy"
      },
      "execution_count": null,
      "outputs": []
    },
    {
      "cell_type": "markdown",
      "source": [
        "\n",
        "\n",
        "---\n",
        "\n",
        "\n",
        "\n",
        "---\n",
        "\n"
      ],
      "metadata": {
        "id": "-gtiy2C4aDiN"
      }
    },
    {
      "cell_type": "markdown",
      "source": [
        "18. Calculate the average profit margin for companies in each 'State' and create a bar chart to display it.\n",
        "\n"
      ],
      "metadata": {
        "id": "v3GOIPhOqD0Z"
      }
    },
    {
      "cell_type": "code",
      "source": [
        "\n",
        "print(average_profit=df[\"Profit_Margin\"].mean())\n",
        "\n",
        "\n",
        "print(pd.DataFrame(average_profit))\n",
        "\n",
        "\n",
        "\n",
        "\n",
        "\n",
        "\n"
      ],
      "metadata": {
        "id": "5GS-cxTbqFe5"
      },
      "execution_count": null,
      "outputs": []
    },
    {
      "cell_type": "markdown",
      "source": [
        "\n",
        "\n",
        "---\n",
        "\n",
        "\n",
        "\n",
        "---\n",
        "\n",
        "\n",
        "\n",
        "---\n",
        "\n"
      ],
      "metadata": {
        "id": "Gc2rlCHcaHh5"
      }
    },
    {
      "cell_type": "markdown",
      "source": [
        "19. Find the maximum 'R&D_Spend' in each **State**.\n",
        "\n"
      ],
      "metadata": {
        "id": "o5JA0X1_qFm6"
      }
    },
    {
      "cell_type": "code",
      "source": [
        "Max_spending=df[\"R&D_Spend\"].max()\n",
        "\n",
        "max_rd_spend=df[df.groupby([\"State\"])]=df[\"R&D_Spend\"].max()\n",
        "\n",
        "\n",
        "\n",
        "\n",
        "\n",
        "\n",
        "\n",
        "\n",
        "\n",
        "\n"
      ],
      "metadata": {
        "id": "uL3LImrEqGqi"
      },
      "execution_count": null,
      "outputs": []
    },
    {
      "cell_type": "code",
      "source": [],
      "metadata": {
        "id": "c6rXJgR1aLVY"
      },
      "execution_count": null,
      "outputs": []
    }
  ]
}