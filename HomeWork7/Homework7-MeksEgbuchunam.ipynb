{
 "cells": [
  {
   "cell_type": "markdown",
   "metadata": {
    "id": "0zZlEeZdSGBW"
   },
   "source": [
    "# **Homework 7: Numpy**"
   ]
  },
  {
   "cell_type": "markdown",
   "metadata": {
    "id": "MJ7o5DfIZxUH"
   },
   "source": [
    "## **Due date:** November 3rd, at 2:30 PM.\n",
    "\n",
    "## **Submission:** Please push your homework to the our GitHub repository, and place it in the 'Homework 7' folder."
   ]
  },
  {
   "cell_type": "markdown",
   "metadata": {
    "id": "0xb-Hc9SZ3nf"
   },
   "source": [
    "\n",
    "\n",
    "---\n",
    "\n",
    "\n",
    "\n",
    "---\n",
    "\n",
    "\n",
    "\n",
    "---\n",
    "\n",
    "\n",
    "\n",
    "---\n",
    "\n"
   ]
  },
  {
   "cell_type": "markdown",
   "metadata": {
    "id": "LAp5txV5SQ7x"
   },
   "source": [
    "### **Question 1:**"
   ]
  },
  {
   "cell_type": "markdown",
   "metadata": {
    "id": "MzNamLiQSO21"
   },
   "source": [
    "Use NumPy to solve the following system of linear equations:"
   ]
  },
  {
   "cell_type": "code",
   "execution_count": null,
   "metadata": {
    "id": "Tx8KbjfvRs9k"
   },
   "outputs": [],
   "source": [
    "3x+ 2y- z= 1\n",
    "\n",
    "2x+ 2y+ 4z= -2\n",
    "\n",
    "-x+ 1/2y- z= 0\n"
   ]
  },
  {
   "cell_type": "code",
   "execution_count": 1,
   "metadata": {
    "id": "wSITtqqeSX0K"
   },
   "outputs": [
    {
     "name": "stdout",
     "output_type": "stream",
     "text": [
      "[ 0.36842105 -0.31578947 -0.52631579]\n"
     ]
    }
   ],
   "source": [
    "### Answer\n",
    "\n",
    "import numpy as np\n",
    "\n",
    "A = np.array([[3,2,-1],\n",
    "             [2,2,4],\n",
    "             [-1,0.5,-1]])\n",
    "\n",
    "B = np.array([1,-2,0])\n",
    "\n",
    "solve = np.linalg.solve\n",
    "\n",
    "answer = solve(A, B)\n",
    "\n",
    "print(answer)\n",
    "\n",
    "\n",
    "\n",
    "\n",
    "\n",
    "\n",
    "\n"
   ]
  },
  {
   "cell_type": "markdown",
   "metadata": {
    "id": "XYAG29lDSeTD"
   },
   "source": [
    "\n",
    "\n",
    "---\n",
    "\n",
    "\n",
    "\n",
    "---\n",
    "\n"
   ]
  },
  {
   "cell_type": "markdown",
   "metadata": {
    "id": "TaqiI1-eSeVq"
   },
   "source": [
    "### **Question 2:**"
   ]
  },
  {
   "cell_type": "markdown",
   "metadata": {
    "id": "Aldzq_A1Se6Z"
   },
   "source": [
    "Generate an array of 1000 random numbers sampled from a standard normal distribution, then visualize it."
   ]
  },
  {
   "cell_type": "code",
   "execution_count": 4,
   "metadata": {
    "id": "wyEId-OXSaxz"
   },
   "outputs": [
    {
     "data": {
      "image/png": "[encoded data removed]",
      "text/plain": [
       "<Figure size 640x480 with 1 Axes>"
      ]
     },
     "metadata": {},
     "output_type": "display_data"
    }
   ],
   "source": [
    "### Answer\n",
    "\n",
    "import numpy as np\n",
    "import matplotlib.pyplot as plot\n",
    "\n",
    "np.random.seed(0)\n",
    "\n",
    "thousand_numbers = np.random.randn(1000)\n",
    "\n",
    "plot.hist(thousand_numbers, bins=30, edgecolor='black')\n",
    "plot.title(' 1000 Random Numbers')\n",
    "plot.xlabel('Value')\n",
    "plot.ylabel('Frequency')\n",
    "\n",
    "plot.show()\n",
    "\n",
    "\n",
    "\n",
    "\n",
    "\n",
    "\n",
    "\n",
    "\n",
    "\n",
    "\n",
    "\n"
   ]
  },
  {
   "cell_type": "markdown",
   "metadata": {
    "id": "5gNSvLW7S41q"
   },
   "source": [
    "\n",
    "\n",
    "---\n",
    "\n",
    "\n",
    "\n",
    "---\n",
    "\n"
   ]
  },
  {
   "cell_type": "markdown",
   "metadata": {
    "id": "ZH3t6bWSS44Q"
   },
   "source": [
    "### **Question 3:**"
   ]
  },
  {
   "cell_type": "markdown",
   "metadata": {
    "id": "0kqKrtKDS-Vw"
   },
   "source": [
    "Calculate the dot product of the following two vectors using NumPy:"
   ]
  },
  {
   "cell_type": "code",
   "execution_count": null,
   "metadata": {
    "id": "1bpcoSo7S7F_"
   },
   "outputs": [],
   "source": [
    "A = [2, 3, 4]\n",
    "B = [5, 6, 7]"
   ]
  },
  {
   "cell_type": "code",
   "execution_count": 5,
   "metadata": {
    "id": "ufkWofy2TCAT"
   },
   "outputs": [
    {
     "name": "stdout",
     "output_type": "stream",
     "text": [
      "56\n"
     ]
    }
   ],
   "source": [
    "### Answer\n",
    "\n",
    "import numpy as np\n",
    "\n",
    "A = np.array([2, 3, 4])\n",
    "B = np.array([5, 6, 7])\n",
    "\n",
    "dot_product = np.dot(A, B)\n",
    "\n",
    "print(dot_product)\n",
    "\n",
    "\n",
    "\n"
   ]
  },
  {
   "cell_type": "markdown",
   "metadata": {
    "id": "RmGc6wRuTKn2"
   },
   "source": [
    "\n",
    "\n",
    "---\n",
    "\n",
    "\n",
    "\n",
    "---\n",
    "\n"
   ]
  },
  {
   "cell_type": "markdown",
   "metadata": {
    "id": "KxNuMC2CTKsA"
   },
   "source": [
    "### **Question 4:**"
   ]
  },
  {
   "cell_type": "markdown",
   "metadata": {
    "id": "MWbDMbrOTKvJ"
   },
   "source": [
    "**Random Numbers:**: Generate a 1D array of 20 random integers between 10 and 50. Find out how many of them are even."
   ]
  },
  {
   "cell_type": "code",
   "execution_count": 10,
   "metadata": {
    "id": "GYB7vYXpTUaV"
   },
   "outputs": [
    {
     "name": "stdout",
     "output_type": "stream",
     "text": [
      "[32 28 20 39 21 40 17 40 31 17 35 29 35 13 30 29 47 43 35 17]\n",
      "Even: 6\n"
     ]
    }
   ],
   "source": [
    "### Answer\n",
    "\n",
    "import numpy as np\n",
    "\n",
    "\n",
    "random_numbers = np.random.randint(10, 51, size=20)\n",
    "\n",
    "even_numbers = np.sum(random_numbers % 2 == 0)\n",
    "\n",
    "print(random_numbers)\n",
    "print(f\"Even: {even_numbers}\")\n",
    "\n"
   ]
  },
  {
   "cell_type": "markdown",
   "metadata": {
    "id": "5S5fZCFhTZQt"
   },
   "source": [
    "\n",
    "\n",
    "---\n",
    "\n",
    "\n",
    "\n",
    "---\n",
    "\n"
   ]
  },
  {
   "cell_type": "markdown",
   "metadata": {
    "id": "dV5FRmKETZU7"
   },
   "source": [
    "### **Question 5:**"
   ]
  },
  {
   "cell_type": "markdown",
   "metadata": {
    "id": "L2nisglFTZZT"
   },
   "source": [
    "**Data Manipulation:** Consider an array of dimension (8,8). Swap the first and last columns."
   ]
  },
  {
   "cell_type": "code",
   "execution_count": 12,
   "metadata": {
    "id": "S9rg9roST0Fj"
   },
   "outputs": [
    {
     "name": "stdout",
     "output_type": "stream",
     "text": [
      "Original array:  [[ 0  1  2  3  4  5  6  7]\n",
      " [ 8  9 10 11 12 13 14 15]\n",
      " [16 17 18 19 20 21 22 23]\n",
      " [24 25 26 27 28 29 30 31]\n",
      " [32 33 34 35 36 37 38 39]\n",
      " [40 41 42 43 44 45 46 47]\n",
      " [48 49 50 51 52 53 54 55]\n",
      " [56 57 58 59 60 61 62 63]]\n",
      "\n",
      "New Array:  [[ 7  1  2  3  4  5  6  0]\n",
      " [15  9 10 11 12 13 14  8]\n",
      " [23 17 18 19 20 21 22 16]\n",
      " [31 25 26 27 28 29 30 24]\n",
      " [39 33 34 35 36 37 38 32]\n",
      " [47 41 42 43 44 45 46 40]\n",
      " [55 49 50 51 52 53 54 48]\n",
      " [63 57 58 59 60 61 62 56]]\n"
     ]
    }
   ],
   "source": [
    "### Answer\n",
    "\n",
    "import numpy as np\n",
    "\n",
    "array = np.arange(64).reshape(8, 8)\n",
    "print(\"Original array: \", array)\n",
    "\n",
    "array[:, [0, -1]] = array[:, [-1, 0]]\n",
    "print()\n",
    "print(\"New Array: \", array)\n",
    "\n",
    "\n",
    "\n",
    "\n",
    "\n",
    "\n",
    "\n",
    "\n",
    "\n",
    "\n",
    "\n",
    "\n"
   ]
  },
  {
   "cell_type": "markdown",
   "metadata": {
    "id": "AOa_G4ztT7nb"
   },
   "source": [
    "\n",
    "\n",
    "---\n",
    "\n",
    "\n",
    "\n",
    "---\n",
    "\n"
   ]
  },
  {
   "cell_type": "markdown",
   "metadata": {
    "id": "FRAUkFD9T7qA"
   },
   "source": [
    "### **Question 6:**"
   ]
  },
  {
   "cell_type": "markdown",
   "metadata": {
    "id": "52SeOsbTT7sZ"
   },
   "source": [
    "**Given a 2D NumPy array data, extract the following subsets:**\n",
    "\n",
    "- The first row.\n",
    "- The last column.\n",
    "- The subarray consisting of the first two rows and the last two columns."
   ]
  },
  {
   "cell_type": "code",
   "execution_count": 15,
   "metadata": {
    "id": "JQb-XngHXuK3"
   },
   "outputs": [
    {
     "name": "stdout",
     "output_type": "stream",
     "text": [
      "[[44 47 64 67 67  9 83 21]\n",
      " [36 87 70 88 88 12 58 65]\n",
      " [39 87 46 88 81 37 25 77]\n",
      " [72  9 20 80 69 79 47 64]\n",
      " [82 99 88 49 29 19 19 14]\n",
      " [39 32 65  9 57 32 31 74]\n",
      " [23 35 75 55 28 34  0  0]\n",
      " [36 53  5 38 17 79  4 42]]\n",
      "\n",
      "First row:  [44 47 64 67 67  9 83 21]\n",
      "Last column:  [21 65 77 64 14 74  0 42]\n",
      "Subarray:  [[83 21]\n",
      " [58 65]]\n"
     ]
    }
   ],
   "source": [
    "## Answer\n",
    "\n",
    "import numpy as np\n",
    "\n",
    "np.random.seed(0)\n",
    "\n",
    "data = np.random.randint(0, 100, size=(8, 8))\n",
    "\n",
    "print(data)\n",
    "\n",
    "first_row = data[0, :]\n",
    "\n",
    "last_column = data[:, -1]\n",
    "\n",
    "subarray = data[0:2, -2:]\n",
    "print()\n",
    "print(\"First Row: \", first_row)\n",
    "print(\"Last Column: \", last_column)\n",
    "print(\"Subarray: \", subarray)\n",
    "\n"
   ]
  },
  {
   "cell_type": "markdown",
   "metadata": {
    "id": "A-MUs7t7X9M6"
   },
   "source": [
    "\n",
    "\n",
    "---\n",
    "\n",
    "\n",
    "\n",
    "---\n",
    "\n"
   ]
  },
  {
   "cell_type": "markdown",
   "metadata": {
    "id": "MZlbvvgsX9PP"
   },
   "source": [
    "### **Question 7:**"
   ]
  },
  {
   "cell_type": "markdown",
   "metadata": {
    "id": "rqWn93qTX9RV"
   },
   "source": [
    "**Statistics:** Create a matrix of shape (5,5), find the mean and variance of the values in its 3rd column."
   ]
  },
  {
   "cell_type": "code",
   "execution_count": 17,
   "metadata": {
    "id": "-So6J1QdXyoQ"
   },
   "outputs": [
    {
     "name": "stdout",
     "output_type": "stream",
     "text": [
      "Matrix: [[78 15 20 58 23]\n",
      " [79 13 85 48 49]\n",
      " [69 41 35 64 95]\n",
      " [69 94  0 50 36]\n",
      " [34 48 93  3 98]]\n",
      "\n",
      "Third Column: [20 85 35  0 93]\n",
      "Mean: 46.6\n",
      "Variance: 1328.24\n"
     ]
    }
   ],
   "source": [
    "### Answer\n",
    "\n",
    "import numpy as np\n",
    "\n",
    "matrix = np.random.randint(0, 99, size=(5, 5))\n",
    "\n",
    "third_column = matrix[:, 2]\n",
    "\n",
    "mean = np.mean(third_column)\n",
    "\n",
    "variance = np.var(third_column)\n",
    "\n",
    "print(\"Matrix:\", matrix)\n",
    "print()\n",
    "print(\"Third Column:\", third_column)\n",
    "print(\"Mean:\", mean)\n",
    "print(\"Variance:\", variance)\n",
    "\n",
    "\n",
    "\n",
    "\n",
    "\n",
    "\n",
    "\n",
    "\n",
    "\n",
    "\n",
    "\n",
    "\n",
    "\n",
    "\n"
   ]
  },
  {
   "cell_type": "markdown",
   "metadata": {
    "id": "Nlzix9NCVSVc"
   },
   "source": [
    "\n",
    "\n",
    "---\n",
    "\n",
    "\n",
    "\n",
    "---\n",
    "\n",
    "\n",
    "\n",
    "---\n",
    "\n"
   ]
  },
  {
   "cell_type": "markdown",
   "metadata": {
    "id": "CiK_vk4tVUXL"
   },
   "source": [
    "### **Question 8:**"
   ]
  },
  {
   "cell_type": "markdown",
   "metadata": {
    "id": "L23uRV1dVehN"
   },
   "source": [
    "**Linear Algebra:** Given a 4x4 matrix, compute its transpose and then find the dot product of the matrix with its transpose."
   ]
  },
  {
   "cell_type": "code",
   "execution_count": null,
   "metadata": {
    "id": "DsBPYJT4Xsqx"
   },
   "outputs": [],
   "source": [
    "\n",
    "matrix = np.array([[1, 2, 3, 4],\n",
    "                   [5, 6, 7, 8],\n",
    "                   [9, 10, 11, 12],\n",
    "                   [13, 14, 15, 16]])"
   ]
  },
  {
   "cell_type": "code",
   "execution_count": 22,
   "metadata": {
    "id": "eJU7h0AQYYx2"
   },
   "outputs": [
    {
     "name": "stdout",
     "output_type": "stream",
     "text": [
      "Transpose of Matrix:  [[ 1  5  9 13]\n",
      " [ 2  6 10 14]\n",
      " [ 3  7 11 15]\n",
      " [ 4  8 12 16]]\n",
      "\n",
      "Transpose Matrix Dot Product:  [[ 30  70 110 150]\n",
      " [ 70 174 278 382]\n",
      " [110 278 446 614]\n",
      " [150 382 614 846]]\n"
     ]
    }
   ],
   "source": [
    "### Answer\n",
    "\n",
    "import numpy as np\n",
    "\n",
    "matrix = np.array([\n",
    "    [1, 2, 3, 4],\n",
    "    [5, 6, 7, 8],\n",
    "    [9, 10, 11, 12],\n",
    "    [13, 14, 15, 16]\n",
    "])\n",
    "\n",
    "transpose = matrix.T\n",
    "\n",
    "dot_product = np.dot(matrix, transpose)\n",
    "\n",
    "print(\"Transpose of Matrix: \", transpose)\n",
    "print()\n",
    "print(\"Transpose Matrix Dot Product: \", dot_product)\n",
    "\n",
    "\n",
    "\n",
    "\n",
    "\n",
    "\n",
    "\n",
    "\n",
    "\n",
    "\n",
    "\n",
    "\n",
    "\n",
    "\n",
    "\n"
   ]
  },
  {
   "cell_type": "markdown",
   "metadata": {
    "id": "dL0-iqHkVv3f"
   },
   "source": [
    "\n",
    "\n",
    "---\n",
    "\n",
    "\n",
    "\n",
    "---\n",
    "\n"
   ]
  },
  {
   "cell_type": "markdown",
   "metadata": {
    "id": "ygs9UMtZVx8E"
   },
   "source": [
    "### **Question 9:**"
   ]
  },
  {
   "cell_type": "markdown",
   "metadata": {
    "id": "LnzUKFw4Vx-7"
   },
   "source": [
    "**Array Operations:** Create two matrices, then Compute the element-wise multiplication of two matrices, then sum the values in each row of the resulting matrix."
   ]
  },
  {
   "cell_type": "code",
   "execution_count": 23,
   "metadata": {
    "id": "9IyD0U-3VmJ3"
   },
   "outputs": [
    {
     "name": "stdout",
     "output_type": "stream",
     "text": [
      "Matrix1:  [[42 13 48]\n",
      " [39 21  9]\n",
      " [ 0 10 43]]\n",
      "\n",
      "Matrix2:  [[23  2 34]\n",
      " [35 30  3]\n",
      " [18 46 35]]\n",
      "\n",
      "Element-Wise Multiplication:  [[ 966   26 1632]\n",
      " [1365  630   27]\n",
      " [   0  460 1505]]\n",
      "Sum of Matrices:  [2624 2022 1965]\n"
     ]
    }
   ],
   "source": [
    "### Answer\n",
    "\n",
    "import numpy as np\n",
    "\n",
    "\n",
    "matrix1 = np.random.randint(0, 50, size=(3, 3))\n",
    "matrix2 = np.random.randint(0, 50, size=(3, 3))\n",
    "\n",
    "multiplication = matrix1 * matrix2\n",
    "\n",
    "sum = np.sum(multiplication, axis=1)\n",
    "\n",
    "print(\"Matrix1: \", matrix1)\n",
    "print()\n",
    "print(\"Matrix2: \", matrix2)\n",
    "print()\n",
    "print(\"Element-Wise Multiplication: \", multiplication)\n",
    "print(\"Sum of Matrices: \", sum)\n",
    "\n",
    "\n",
    "\n",
    "\n",
    "\n",
    "\n",
    "\n",
    "\n",
    "\n",
    "\n",
    "\n",
    "\n",
    "\n"
   ]
  },
  {
   "cell_type": "markdown",
   "metadata": {
    "id": "kqxzW_3ZW8b5"
   },
   "source": [
    "\n",
    "\n",
    "---\n",
    "\n",
    "\n",
    "\n",
    "---\n",
    "\n",
    "\n",
    "\n",
    "---\n",
    "\n"
   ]
  },
  {
   "cell_type": "markdown",
   "metadata": {
    "id": "jEg_QL7CW8rw"
   },
   "source": [
    "### **Question 10:**"
   ]
  },
  {
   "cell_type": "markdown",
   "metadata": {
    "id": "_s9937cCW9Qv"
   },
   "source": [
    "**Advanced Array Creation:** Create a 2D array of shape (7,7) where the border consists of ones and the inner part consists of zeros."
   ]
  },
  {
   "cell_type": "code",
   "execution_count": 2,
   "metadata": {
    "id": "ZEuY35gZXN9d"
   },
   "outputs": [
    {
     "name": "stdout",
     "output_type": "stream",
     "text": [
      "[[1. 1. 1. 1. 1. 1. 1.]\n",
      " [1. 0. 0. 0. 0. 0. 1.]\n",
      " [1. 0. 0. 0. 0. 0. 1.]\n",
      " [1. 0. 0. 0. 0. 0. 1.]\n",
      " [1. 0. 0. 0. 0. 0. 1.]\n",
      " [1. 0. 0. 0. 0. 0. 1.]\n",
      " [1. 1. 1. 1. 1. 1. 1.]]\n"
     ]
    }
   ],
   "source": [
    "### Answer\n",
    "\n",
    "import numpy as np\n",
    "\n",
    "array = np.ones((7, 7))\n",
    "\n",
    "array[1:-1, 1:-1] = 0\n",
    "\n",
    "print(array)\n",
    "\n",
    "\n",
    "\n",
    "\n",
    "\n",
    "\n",
    "\n",
    "\n",
    "\n",
    "\n",
    "\n",
    "\n",
    "\n",
    "\n"
   ]
  },
  {
   "cell_type": "code",
   "execution_count": null,
   "metadata": {},
   "outputs": [],
   "source": []
  }
 ],
 "metadata": {
  "colab": {
   "provenance": []
  },
  "kernelspec": {
   "display_name": "Python 3 (ipykernel)",
   "language": "python",
   "name": "python3"
  },
  "language_info": {
   "codemirror_mode": {
    "name": "ipython",
    "version": 3
   },
   "file_extension": ".py",
   "mimetype": "text/x-python",
   "name": "python",
   "nbconvert_exporter": "python",
   "pygments_lexer": "ipython3",
   "version": "3.11.6"
  }
 },
 "nbformat": 4,
 "nbformat_minor": 4
}
