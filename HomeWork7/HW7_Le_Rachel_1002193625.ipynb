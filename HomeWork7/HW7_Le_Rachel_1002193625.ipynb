{
  "nbformat": 4,
  "nbformat_minor": 0,
  "metadata": {
    "colab": {
      "provenance": []
    },
    "kernelspec": {
      "name": "python3",
      "display_name": "Python 3"
    },
    "language_info": {
      "name": "python"
    }
  },
  "cells": [
    {
      "cell_type": "markdown",
      "source": [
        "Rachel Le\n",
        "\n",
        "1002193625\n",
        "\n",
        "HW7"
      ],
      "metadata": {
        "id": "1jXDJYuTz-Gg"
      }
    },
    {
      "cell_type": "markdown",
      "source": [
        "# **Homework 7: Numpy**"
      ],
      "metadata": {
        "id": "0zZlEeZdSGBW"
      }
    },
    {
      "cell_type": "markdown",
      "source": [
        "## **Due date:** November 3rd, at 2:30 PM.\n",
        "\n",
        "## **Submission:** Please push your homework to the our GitHub repository, and place it in the 'Homework 7' folder."
      ],
      "metadata": {
        "id": "MJ7o5DfIZxUH"
      }
    },
    {
      "cell_type": "markdown",
      "source": [
        "\n",
        "\n",
        "---\n",
        "\n",
        "\n",
        "\n",
        "---\n",
        "\n",
        "\n",
        "\n",
        "---\n",
        "\n",
        "\n",
        "\n",
        "---\n",
        "\n"
      ],
      "metadata": {
        "id": "0xb-Hc9SZ3nf"
      }
    },
    {
      "cell_type": "markdown",
      "source": [
        "### **Question 1:**"
      ],
      "metadata": {
        "id": "LAp5txV5SQ7x"
      }
    },
    {
      "cell_type": "markdown",
      "source": [
        "Use NumPy to solve the following system of linear equations:"
      ],
      "metadata": {
        "id": "MzNamLiQSO21"
      }
    },
    {
      "cell_type": "code",
      "execution_count": null,
      "metadata": {
        "id": "Tx8KbjfvRs9k"
      },
      "outputs": [],
      "source": [
        "3x+ 2y- z= 1\n",
        "\n",
        "2x+ 2y+ 4z= -2\n",
        "\n",
        "-x+ 1/2y- z= 0\n"
      ]
    },
    {
      "cell_type": "code",
      "source": [
        "### Answer\n",
        "#importing numpy\n",
        "import numpy as np\n",
        "\n",
        "#input matrix\n",
        "input=np.array([[3,2,-1],[2,2,4],[-1,0.5,-1]])\n",
        "\n",
        "#output matrix\n",
        "output=np.array([1,-2,0])\n",
        "\n",
        "#using numpy to solve\n",
        "solution=np.linalg.solve(input,output)\n",
        "solution\n"
      ],
      "metadata": {
        "id": "wSITtqqeSX0K",
        "colab": {
          "base_uri": "https://localhost:8080/"
        },
        "outputId": "487ce684-5e27-42e6-dca4-9b132221884f"
      },
      "execution_count": 1,
      "outputs": [
        {
          "output_type": "execute_result",
          "data": {
            "text/plain": [
              "array([ 0.36842105, -0.31578947, -0.52631579])"
            ]
          },
          "metadata": {},
          "execution_count": 1
        }
      ]
    },
    {
      "cell_type": "markdown",
      "source": [
        "\n",
        "\n",
        "---\n",
        "\n",
        "\n",
        "\n",
        "---\n",
        "\n"
      ],
      "metadata": {
        "id": "XYAG29lDSeTD"
      }
    },
    {
      "cell_type": "markdown",
      "source": [
        "### **Question 2:**"
      ],
      "metadata": {
        "id": "TaqiI1-eSeVq"
      }
    },
    {
      "cell_type": "markdown",
      "source": [
        "Generate an array of 1000 random numbers sampled from a standard normal distribution, then visualize it."
      ],
      "metadata": {
        "id": "Aldzq_A1Se6Z"
      }
    },
    {
      "cell_type": "code",
      "source": [
        "### Answer\n",
        "#generating array of 1000 random numbers from standard normal distribution\n",
        "rand_nums=np.random.normal(0,1,1000)\n",
        "\n",
        "#importing library\n",
        "import matplotlib.pyplot as plt\n",
        "#visualize array, histogram\n",
        "plt.hist(rand_nums,bins=100)\n",
        "plt.show() #for cleaner output"
      ],
      "metadata": {
        "id": "wyEId-OXSaxz",
        "colab": {
          "base_uri": "https://localhost:8080/",
          "height": 430
        },
        "outputId": "cd6b22fe-a4f8-429c-cd18-7e47160d518b"
      },
      "execution_count": 38,
      "outputs": [
        {
          "output_type": "display_data",
          "data": {
            "text/plain": [
              "<Figure size 640x480 with 1 Axes>"
            ],
            "image/png": "[encoded data removed]"
          },
          "metadata": {}
        }
      ]
    },
    {
      "cell_type": "markdown",
      "source": [
        "\n",
        "\n",
        "---\n",
        "\n",
        "\n",
        "\n",
        "---\n",
        "\n"
      ],
      "metadata": {
        "id": "5gNSvLW7S41q"
      }
    },
    {
      "cell_type": "markdown",
      "source": [
        "### **Question 3:**"
      ],
      "metadata": {
        "id": "ZH3t6bWSS44Q"
      }
    },
    {
      "cell_type": "markdown",
      "source": [
        "Calculate the dot product of the following two vectors using NumPy:"
      ],
      "metadata": {
        "id": "0kqKrtKDS-Vw"
      }
    },
    {
      "cell_type": "code",
      "source": [
        "A = [2, 3, 4]\n",
        "B = [5, 6, 7]"
      ],
      "metadata": {
        "id": "1bpcoSo7S7F_"
      },
      "execution_count": null,
      "outputs": []
    },
    {
      "cell_type": "code",
      "source": [
        "### Answer\n",
        "#creating arrays\n",
        "A=np.array([2,3,4])\n",
        "B=np.array([5,6,7])\n",
        "\n",
        "#dot product using numpy\n",
        "dotprod=np.dot(A,B)\n",
        "print(f'dot product: {dotprod}')\n",
        "\n"
      ],
      "metadata": {
        "id": "ufkWofy2TCAT",
        "colab": {
          "base_uri": "https://localhost:8080/"
        },
        "outputId": "7f5e92b4-6710-4ad8-ee5c-bc47e6c006ef"
      },
      "execution_count": 25,
      "outputs": [
        {
          "output_type": "stream",
          "name": "stdout",
          "text": [
            "dot product: 56\n"
          ]
        }
      ]
    },
    {
      "cell_type": "markdown",
      "source": [
        "\n",
        "\n",
        "---\n",
        "\n",
        "\n",
        "\n",
        "---\n",
        "\n"
      ],
      "metadata": {
        "id": "RmGc6wRuTKn2"
      }
    },
    {
      "cell_type": "markdown",
      "source": [
        "### **Question 4:**"
      ],
      "metadata": {
        "id": "KxNuMC2CTKsA"
      }
    },
    {
      "cell_type": "markdown",
      "source": [
        "**Random Numbers:**: Generate a 1D array of 20 random integers between 10 and 50. Find out how many of them are even."
      ],
      "metadata": {
        "id": "MWbDMbrOTKvJ"
      }
    },
    {
      "cell_type": "code",
      "source": [
        "### Answer\n",
        "#generating 1d array as specified\n",
        "randnums=np.random.randint(10,50,size=20)\n",
        "#showing 1d array for reference/checking code is working as intended\n",
        "print(randnums)\n",
        "\n",
        "#counting number of even numbers\n",
        "#empty variable for counting even number\n",
        "even_count=0\n",
        "#'for loop' to go through array\n",
        "for i in range (20):\n",
        "  #conditional statement, checking if even\n",
        "  if randnums[i]%2==0:\n",
        "    #if even, increases counter\n",
        "    even_count+=1\n",
        "\n",
        "#number of evens in array\n",
        "print(f'Evens: {even_count}')"
      ],
      "metadata": {
        "id": "GYB7vYXpTUaV",
        "colab": {
          "base_uri": "https://localhost:8080/"
        },
        "outputId": "7588e63f-e63a-4cb7-86c8-fa318acc656b"
      },
      "execution_count": 3,
      "outputs": [
        {
          "output_type": "stream",
          "name": "stdout",
          "text": [
            "[46 47 35 36 27 27 16 42 49 49 32 14 25 15 48 41 24 44 10 14]\n",
            "Evens: 11\n"
          ]
        }
      ]
    },
    {
      "cell_type": "markdown",
      "source": [
        "\n",
        "\n",
        "---\n",
        "\n",
        "\n",
        "\n",
        "---\n",
        "\n"
      ],
      "metadata": {
        "id": "5S5fZCFhTZQt"
      }
    },
    {
      "cell_type": "markdown",
      "source": [
        "### **Question 5:**"
      ],
      "metadata": {
        "id": "dV5FRmKETZU7"
      }
    },
    {
      "cell_type": "markdown",
      "source": [
        "**Data Manipulation:** Consider an array of dimension (8,8). Swap the first and last columns."
      ],
      "metadata": {
        "id": "L2nisglFTZZT"
      }
    },
    {
      "cell_type": "code",
      "source": [
        "### Answer\n",
        "#creating (8,8) array, random because I'm lazy\n",
        "arr=np.random.randint(1,100,size=64)\n",
        "arr=arr.reshape(8,8)\n",
        "#showing array for reference\n",
        "print(arr)\n",
        "print() #for visual space\n",
        "\n",
        "#swapping first and last column\n",
        "arr[:,[0,7]]=arr[:,[7,0]]\n",
        "arr\n"
      ],
      "metadata": {
        "id": "S9rg9roST0Fj",
        "colab": {
          "base_uri": "https://localhost:8080/"
        },
        "outputId": "9dca9026-71d5-4531-cc49-6d914a194a22"
      },
      "execution_count": 6,
      "outputs": [
        {
          "output_type": "stream",
          "name": "stdout",
          "text": [
            "[[26 13 60 67  3 17 12 43]\n",
            " [34 86  5  9 51 47 71 37]\n",
            " [69 91 39 74 37 26 62 87]\n",
            " [99 33 94 47 65 33 75 54]\n",
            " [ 9  5 18 85 44 89  9 22]\n",
            " [30 40 93 93 12 94 90 87]\n",
            " [ 2 43 84 68 50 91 94 25]\n",
            " [93 80 93 83 48 75 80 42]]\n",
            "\n"
          ]
        },
        {
          "output_type": "execute_result",
          "data": {
            "text/plain": [
              "array([[43, 13, 60, 67,  3, 17, 12, 26],\n",
              "       [37, 86,  5,  9, 51, 47, 71, 34],\n",
              "       [87, 91, 39, 74, 37, 26, 62, 69],\n",
              "       [54, 33, 94, 47, 65, 33, 75, 99],\n",
              "       [22,  5, 18, 85, 44, 89,  9,  9],\n",
              "       [87, 40, 93, 93, 12, 94, 90, 30],\n",
              "       [25, 43, 84, 68, 50, 91, 94,  2],\n",
              "       [42, 80, 93, 83, 48, 75, 80, 93]])"
            ]
          },
          "metadata": {},
          "execution_count": 6
        }
      ]
    },
    {
      "cell_type": "markdown",
      "source": [
        "\n",
        "\n",
        "---\n",
        "\n",
        "\n",
        "\n",
        "---\n",
        "\n"
      ],
      "metadata": {
        "id": "AOa_G4ztT7nb"
      }
    },
    {
      "cell_type": "markdown",
      "source": [
        "### **Question 6:**"
      ],
      "metadata": {
        "id": "FRAUkFD9T7qA"
      }
    },
    {
      "cell_type": "markdown",
      "source": [
        "**Given a 2D NumPy array data, extract the following subsets:**\n",
        "\n",
        "- The first row.\n",
        "- The last column.\n",
        "- The subarray consisting of the first two rows and the last two columns."
      ],
      "metadata": {
        "id": "52SeOsbTT7sZ"
      }
    },
    {
      "cell_type": "code",
      "source": [
        "## Answer\n",
        "#creating 2d array, random because I'm lazy\n",
        "arr=np.random.randint(1,100,size=16)\n",
        "arr=arr.reshape(4,4)\n",
        "#showing array for reference\n",
        "print(arr)\n",
        "print() #for visual space\n",
        "\n",
        "#extracting first row\n",
        "row1=arr[0]\n",
        "print(f'First row: {row1}')\n",
        "print() #for visual space\n",
        "\n",
        "#extracting last column\n",
        "last_column=arr[:,-1]\n",
        "print(f'Last column: {last_column}')\n",
        "print() #for visual space\n",
        "\n",
        "#subarray as specified\n",
        "subarr=arr[0:2,2:4]\n",
        "subarr"
      ],
      "metadata": {
        "id": "JQb-XngHXuK3",
        "colab": {
          "base_uri": "https://localhost:8080/"
        },
        "outputId": "9bbb0c0d-247e-46d6-a8dc-fd7302f61ec1"
      },
      "execution_count": 26,
      "outputs": [
        {
          "output_type": "stream",
          "name": "stdout",
          "text": [
            "[[44 39 42 88]\n",
            " [43 67 63 78]\n",
            " [65 64 51  7]\n",
            " [26  7 22 53]]\n",
            "\n",
            "First row: [44 39 42 88]\n",
            "\n",
            "Last column: [88 78  7 53]\n",
            "\n"
          ]
        },
        {
          "output_type": "execute_result",
          "data": {
            "text/plain": [
              "array([[42, 88],\n",
              "       [63, 78]])"
            ]
          },
          "metadata": {},
          "execution_count": 26
        }
      ]
    },
    {
      "cell_type": "markdown",
      "source": [
        "\n",
        "\n",
        "---\n",
        "\n",
        "\n",
        "\n",
        "---\n",
        "\n"
      ],
      "metadata": {
        "id": "A-MUs7t7X9M6"
      }
    },
    {
      "cell_type": "markdown",
      "source": [
        "### **Question 7:**"
      ],
      "metadata": {
        "id": "MZlbvvgsX9PP"
      }
    },
    {
      "cell_type": "markdown",
      "source": [
        "**Statistics:** Create a matrix of shape (5,5), find the mean and variance of the values in its 3rd column."
      ],
      "metadata": {
        "id": "rqWn93qTX9RV"
      }
    },
    {
      "cell_type": "code",
      "source": [
        "### Answer\n",
        "#creating array as specified, random because I'm lazy\n",
        "arr=np.random.randint(1,100,size=25)\n",
        "arr=arr.reshape(5,5)\n",
        "#showing array for reference\n",
        "print(arr)\n",
        "print() #for visual space\n",
        "\n",
        "#mean of 3rd column\n",
        "mean=np.mean(arr[:,2])\n",
        "print(f'Mean: {mean}')\n",
        "print() #for visual space\n",
        "\n",
        "#variance of 3rd column\n",
        "var=np.var(arr[:,2])\n",
        "print(f'Variance: {var}')"
      ],
      "metadata": {
        "id": "-So6J1QdXyoQ",
        "colab": {
          "base_uri": "https://localhost:8080/"
        },
        "outputId": "d8024e62-dbec-441a-b620-ddd7e780e64b"
      },
      "execution_count": 24,
      "outputs": [
        {
          "output_type": "stream",
          "name": "stdout",
          "text": [
            "[[59 36 15 80 40]\n",
            " [82  8 86  5  7]\n",
            " [99  2 23 33 55]\n",
            " [89 35 95 61 51]\n",
            " [41 34 35 79 15]]\n",
            "\n",
            "Mean: 50.8\n",
            "\n",
            "Variance: 1099.3600000000001\n"
          ]
        }
      ]
    },
    {
      "cell_type": "markdown",
      "source": [
        "\n",
        "\n",
        "---\n",
        "\n",
        "\n",
        "\n",
        "---\n",
        "\n",
        "\n",
        "\n",
        "---\n",
        "\n"
      ],
      "metadata": {
        "id": "Nlzix9NCVSVc"
      }
    },
    {
      "cell_type": "markdown",
      "source": [
        "### **Question 8:**"
      ],
      "metadata": {
        "id": "CiK_vk4tVUXL"
      }
    },
    {
      "cell_type": "markdown",
      "source": [
        "**Linear Algebra:** Given a 4x4 matrix, compute its transpose and then find the dot product of the matrix with its transpose."
      ],
      "metadata": {
        "id": "L23uRV1dVehN"
      }
    },
    {
      "cell_type": "code",
      "source": [
        "\n",
        "matrix = np.array([[1, 2, 3, 4],\n",
        "                   [5, 6, 7, 8],\n",
        "                   [9, 10, 11, 12],\n",
        "                   [13, 14, 15, 16]])"
      ],
      "metadata": {
        "id": "DsBPYJT4Xsqx"
      },
      "execution_count": 27,
      "outputs": []
    },
    {
      "cell_type": "code",
      "source": [
        "### Answer\n",
        "#make sure to run code above to make use of the defined matrix\n",
        "#computing transpose of the given matrix\n",
        "matr_transpose=np.transpose(matrix)\n",
        "#showing transpose for reference\n",
        "print(matr_transpose)\n",
        "print() #for visual space\n",
        "\n",
        "#dot product of matrix and its transpose\n",
        "dot_prod=np.dot(matrix,matr_transpose)\n",
        "print(f'Dot product: \\n{dot_prod}')\n"
      ],
      "metadata": {
        "id": "eJU7h0AQYYx2",
        "colab": {
          "base_uri": "https://localhost:8080/"
        },
        "outputId": "5847b2ab-3962-4e58-8279-026c96053889"
      },
      "execution_count": 32,
      "outputs": [
        {
          "output_type": "stream",
          "name": "stdout",
          "text": [
            "[[ 1  5  9 13]\n",
            " [ 2  6 10 14]\n",
            " [ 3  7 11 15]\n",
            " [ 4  8 12 16]]\n",
            "\n",
            "Dot product: \n",
            "[[ 30  70 110 150]\n",
            " [ 70 174 278 382]\n",
            " [110 278 446 614]\n",
            " [150 382 614 846]]\n"
          ]
        }
      ]
    },
    {
      "cell_type": "markdown",
      "source": [
        "\n",
        "\n",
        "---\n",
        "\n",
        "\n",
        "\n",
        "---\n",
        "\n"
      ],
      "metadata": {
        "id": "dL0-iqHkVv3f"
      }
    },
    {
      "cell_type": "markdown",
      "source": [
        "### **Question 9:**"
      ],
      "metadata": {
        "id": "ygs9UMtZVx8E"
      }
    },
    {
      "cell_type": "markdown",
      "source": [
        "**Array Operations:** Create two matrices, then Compute the element-wise multiplication of two matrices, then sum the values in each row of the resulting matrix."
      ],
      "metadata": {
        "id": "LnzUKFw4Vx-7"
      }
    },
    {
      "cell_type": "code",
      "source": [
        "### Answer\n",
        "#creating 2 matrices\n",
        "arr1=np.array([[1,2],[3,4]])\n",
        "arr2=np.array([[5,6],[7,8]])\n",
        "\n",
        "#element-wise multiplication\n",
        "mult=arr1*arr2\n",
        "print(f'Element-wise multiplication: \\n{mult}')\n",
        "print () #for visual space\n",
        "\n",
        "#sum of each row\n",
        "sums=np.sum(mult,axis=1)\n",
        "print(f'Sums of each row: \\n{sums}')\n"
      ],
      "metadata": {
        "id": "9IyD0U-3VmJ3",
        "colab": {
          "base_uri": "https://localhost:8080/"
        },
        "outputId": "21f088b0-f2ae-4992-b41f-7f9a5bb9791e"
      },
      "execution_count": 40,
      "outputs": [
        {
          "output_type": "stream",
          "name": "stdout",
          "text": [
            "Element-wise multiplication: \n",
            "[[ 5 12]\n",
            " [21 32]]\n",
            "\n",
            "Sums of each row: \n",
            "[17 53]\n"
          ]
        }
      ]
    },
    {
      "cell_type": "markdown",
      "source": [
        "\n",
        "\n",
        "---\n",
        "\n",
        "\n",
        "\n",
        "---\n",
        "\n",
        "\n",
        "\n",
        "---\n",
        "\n"
      ],
      "metadata": {
        "id": "kqxzW_3ZW8b5"
      }
    },
    {
      "cell_type": "markdown",
      "source": [
        "### **Question 10:**"
      ],
      "metadata": {
        "id": "jEg_QL7CW8rw"
      }
    },
    {
      "cell_type": "markdown",
      "source": [
        "**Advanced Array Creation:** Create a 2D array of shape (7,7) where the border consists of ones and the inner part consists of zeros."
      ],
      "metadata": {
        "id": "_s9937cCW9Qv"
      }
    },
    {
      "cell_type": "code",
      "source": [
        "### Answer\n",
        "#creating array (7,7) with 1s\n",
        "arr=np.ones((7,7))\n",
        "#converting inner part into zeros\n",
        "arr[1:-1,1:-1] = 0\n",
        "arr\n"
      ],
      "metadata": {
        "id": "ZEuY35gZXN9d",
        "colab": {
          "base_uri": "https://localhost:8080/"
        },
        "outputId": "1d174adb-1480-4b35-d20f-4bd5727e79ec"
      },
      "execution_count": 41,
      "outputs": [
        {
          "output_type": "execute_result",
          "data": {
            "text/plain": [
              "array([[1., 1., 1., 1., 1., 1., 1.],\n",
              "       [1., 0., 0., 0., 0., 0., 1.],\n",
              "       [1., 0., 0., 0., 0., 0., 1.],\n",
              "       [1., 0., 0., 0., 0., 0., 1.],\n",
              "       [1., 0., 0., 0., 0., 0., 1.],\n",
              "       [1., 0., 0., 0., 0., 0., 1.],\n",
              "       [1., 1., 1., 1., 1., 1., 1.]])"
            ]
          },
          "metadata": {},
          "execution_count": 41
        }
      ]
    },
    {
      "cell_type": "code",
      "source": [],
      "metadata": {
        "id": "mQSRgwdiCwVR"
      },
      "execution_count": null,
      "outputs": []
    }
  ]
}