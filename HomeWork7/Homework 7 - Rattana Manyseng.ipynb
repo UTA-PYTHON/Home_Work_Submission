{
 "cells": [
  {
   "cell_type": "markdown",
   "id": "7d877474",
   "metadata": {},
   "source": [
    "## 1. Use NumPy to solve the following system of linear equations:"
   ]
  },
  {
   "cell_type": "code",
   "execution_count": null,
   "id": "a5ea46e0",
   "metadata": {},
   "outputs": [],
   "source": [
    "##equation as given:\n",
    "\n",
    "3x+ 2y- z= 1\n",
    "\n",
    "2x+ 2y+ 4z= -2\n",
    "\n",
    "-x+ 1/2y- z= 0"
   ]
  },
  {
   "cell_type": "code",
   "execution_count": 19,
   "id": "38e74a38",
   "metadata": {},
   "outputs": [
    {
     "name": "stdout",
     "output_type": "stream",
     "text": [
      "[ 0.36842105 -0.31578947 -0.52631579]\n"
     ]
    }
   ],
   "source": [
    "##import function:\n",
    "import numpy as np\n",
    "##Contrive the equation:\n",
    "a=np.array([[3,2,-1],[2,2,4],[-1,1/2,-1]])\n",
    "b=np.array([1,-2,0])\n",
    "solution=np.linalg.solve(a,b)\n",
    "print(solution)"
   ]
  },
  {
   "cell_type": "markdown",
   "id": "52d1f7a4",
   "metadata": {},
   "source": [
    "## 2. Generate an array of 1000 random numbers sampled from a standard normal distribution, then visualize it"
   ]
  },
  {
   "cell_type": "code",
   "execution_count": 14,
   "id": "d820d665",
   "metadata": {},
   "outputs": [
    {
     "data": {
      "image/png": "[encoded data removed]",
      "text/plain": [
       "<Figure size 640x480 with 1 Axes>"
      ]
     },
     "metadata": {},
     "output_type": "display_data"
    }
   ],
   "source": [
    "#import function:\n",
    "import numpy as np\n",
    "import matplotlib.pyplot as plt\n",
    "random_num=np.random.randn(1000)\n",
    "##Create the graph:\n",
    "plt.hist(random_num,bins=50,color='pink', edgecolor='black')\n",
    "plt.title('Array of Random Numbers (1000)')\n",
    "plt.xlabel('Input')\n",
    "plt.ylabel('Output')\n",
    "plt.show()"
   ]
  },
  {
   "cell_type": "markdown",
   "id": "a017d4e3",
   "metadata": {},
   "source": [
    "## 3. Calculate the dot product of the following two vectors using NumPy:\n"
   ]
  },
  {
   "cell_type": "code",
   "execution_count": null,
   "id": "5bfc594e",
   "metadata": {},
   "outputs": [],
   "source": [
    "## Numbers to calculate two vectors:\n",
    "\n",
    "A = [2, 3, 4]\n",
    "B = [5, 6, 7]\n"
   ]
  },
  {
   "cell_type": "code",
   "execution_count": 13,
   "id": "2c5e35cb",
   "metadata": {},
   "outputs": [
    {
     "data": {
      "text/plain": [
       "56"
      ]
     },
     "execution_count": 13,
     "metadata": {},
     "output_type": "execute_result"
    }
   ],
   "source": [
    "##Numbers from list A\n",
    "a=np.array([2,3,4])\n",
    "##Numbers from list B\n",
    "b=np.array([5,6,7])\n",
    "##Use np.dot function to calculate the numbers from the two lists:\n",
    "c=np.dot(a,b)\n",
    "c\n"
   ]
  },
  {
   "cell_type": "markdown",
   "id": "41618f64",
   "metadata": {},
   "source": [
    "## 4.Random Numbers: Generate a 1D array of 20 random integers between 10 and 50. Find out how many of them are even."
   ]
  },
  {
   "cell_type": "code",
   "execution_count": 18,
   "id": "055d862c",
   "metadata": {},
   "outputs": [
    {
     "name": "stdout",
     "output_type": "stream",
     "text": [
      "[28 33 29 34 35 15 11 47 34 12 39 37 44 39 10 27 12 15 38 38]\n",
      "How many even numbers: 9\n"
     ]
    }
   ],
   "source": [
    "##Set-up the array function by inputting values given from the quesstion:\n",
    "array=np.random.randint(10,50,20)\n",
    "##Use the %2 to find even numbers:\n",
    "even_num=array[array%2==0]\n",
    "print(array)\n",
    "##Use len function to find the amount of even numbers:\n",
    "print(\"How many even numbers:\",len(even_num))\n",
    "\n"
   ]
  },
  {
   "cell_type": "markdown",
   "id": "53815a46",
   "metadata": {},
   "source": [
    "## 5. Data Manipulation: Consider an array of dimension (8,8). Swap the first and last columns."
   ]
  },
  {
   "cell_type": "code",
   "execution_count": 31,
   "id": "a98870b0",
   "metadata": {},
   "outputs": [
    {
     "name": "stdout",
     "output_type": "stream",
     "text": [
      "[[ 0  1  2  3  4  5  6  7]\n",
      " [ 8  9 10 11 12 13 14 15]\n",
      " [16 17 18 19 20 21 22 23]\n",
      " [24 25 26 27 28 29 30 31]\n",
      " [32 33 34 35 36 37 38 39]\n",
      " [40 41 42 43 44 45 46 47]\n",
      " [48 49 50 51 52 53 54 55]\n",
      " [56 57 58 59 60 61 62 63]]\n",
      "[[ 1  0  2  3  4  5  6  7]\n",
      " [ 9  8 10 11 12 13 14 15]\n",
      " [17 16 18 19 20 21 22 23]\n",
      " [25 24 26 27 28 29 30 31]\n",
      " [33 32 34 35 36 37 38 39]\n",
      " [41 40 42 43 44 45 46 47]\n",
      " [49 48 50 51 52 53 54 55]\n",
      " [57 56 58 59 60 61 62 63]]\n"
     ]
    }
   ],
   "source": [
    "import numpy as np\n",
    "orig_array = np.arange(64).reshape(8, 8)\n",
    "print (orig_array)\n",
    "def swap_cols(arr, frm, to):\n",
    "    arr[:,[frm, to]] = arr[:,[to, frm]]\n",
    "\n",
    "swap_cols(orig_array, 0, 1)\n",
    "print (orig_array)\n",
    "\n",
    "\n",
    "\n"
   ]
  },
  {
   "cell_type": "markdown",
   "id": "97c3a53b",
   "metadata": {},
   "source": [
    "## 6. Given a 2D NumPy array data, extract the following subsets:\n",
    "\n",
    "### - The first row.\n",
    "### - The last column.\n",
    "### -The subarray consisting of the first two rows and the last two columns"
   ]
  },
  {
   "cell_type": "code",
   "execution_count": 9,
   "id": "45b1281c",
   "metadata": {},
   "outputs": [
    {
     "name": "stdout",
     "output_type": "stream",
     "text": [
      "Original Array\n",
      "[[ 2  3  4]\n",
      " [ 6  7  8]\n",
      " [10 11 12]]\n",
      "The First Row:\n",
      "[2 3 4]\n",
      "The Last Column:\n",
      "[ 4  8 12]\n",
      "Subarray:\n",
      "[[3 4]\n",
      " [7 8]]\n"
     ]
    }
   ],
   "source": [
    "import numpy as np\n",
    "a=np.array([[2,3,4],[6,7,8],[10,11,12]])\n",
    "print(\"Original Array\")\n",
    "print(a)\n",
    "\n",
    "b=a[0]\n",
    "print(\"The First Row:\")\n",
    "print(b)\n",
    "\n",
    "c=a[:,2]\n",
    "print(\"The Last Column:\")\n",
    "print(c)\n",
    "\n",
    "d=a[:2,-2:]\n",
    "print(\"Subarray:\")\n",
    "print(d)"
   ]
  },
  {
   "cell_type": "markdown",
   "id": "af64d837",
   "metadata": {},
   "source": [
    "## 7. Statistics: Create a matrix of shape (5,5), find the mean and variance of the values in its 3rd column.\n"
   ]
  },
  {
   "cell_type": "code",
   "execution_count": 11,
   "id": "a553aa0d",
   "metadata": {},
   "outputs": [
    {
     "name": "stdout",
     "output_type": "stream",
     "text": [
      "[[ 0  1  2  3  4]\n",
      " [ 5  6  7  8  9]\n",
      " [10 11 12 13 14]\n",
      " [15 16 17 18 19]\n",
      " [20 21 22 23 24]]\n",
      "Mean:\n",
      "12.0\n",
      "Variance:\n",
      "50.0\n"
     ]
    }
   ],
   "source": [
    "##import:\n",
    "import numpy as np\n",
    "##set up function using np.array and the reshape key:\n",
    "a=np.array(range(25)).reshape(5,5)\n",
    "print(a)\n",
    "##Set-up the mean\n",
    "b=np.mean(a[:,2])\n",
    "print(\"Mean:\")\n",
    "print(b)\n",
    "##Set-up the variance:\n",
    "c=np.var(a[:,2])\n",
    "print(\"Variance:\")\n",
    "print(c)"
   ]
  },
  {
   "cell_type": "markdown",
   "id": "3873e7ba",
   "metadata": {},
   "source": [
    "## 8.Linear Algebra: Given a 4x4 matrix, compute its transpose and then find the dot product of the matrix with its transpose.\n"
   ]
  },
  {
   "cell_type": "code",
   "execution_count": null,
   "id": "481650db",
   "metadata": {},
   "outputs": [],
   "source": [
    "##matrix given:\n",
    "matrix = np.array([[1, 2, 3, 4],\n",
    " [5, 6, 7, 8],\n",
    " [9, 10, 11, 12],\n",
    " [13, 14, 15, 16]])\n"
   ]
  },
  {
   "cell_type": "code",
   "execution_count": 16,
   "id": "24e63dcf",
   "metadata": {},
   "outputs": [
    {
     "name": "stdout",
     "output_type": "stream",
     "text": [
      "Transpose Matrix:\n",
      "[[ 1  5  9 13]\n",
      " [ 2  6 10 14]\n",
      " [ 3  7 11 15]\n",
      " [ 4  8 12 16]]\n",
      "Dot Product of Matrix:\n",
      "[[276 304 332 360]\n",
      " [304 336 368 400]\n",
      " [332 368 404 440]\n",
      " [360 400 440 480]]\n"
     ]
    }
   ],
   "source": [
    "import numpy as np\n",
    "\n",
    "matrix = np.array([[1, 2, 3, 4],\n",
    " [5, 6, 7, 8],\n",
    " [9, 10, 11, 12],\n",
    " [13, 14, 15, 16]])\n",
    "\n",
    "a=np.transpose(matrix)\n",
    "print(\"Transpose Matrix:\")\n",
    "print(a)\n",
    "b=np.dot(a,matrix)\n",
    "print(\"Dot Product of Matrix:\")\n",
    "print(b)"
   ]
  },
  {
   "cell_type": "markdown",
   "id": "7e3a0b2e",
   "metadata": {},
   "source": [
    "## 9. Array Operations: Create two matrices, then Compute the element-wise multiplication of two matrices, then sum the values in each row of the resulting matrix.\n"
   ]
  },
  {
   "cell_type": "code",
   "execution_count": 21,
   "id": "a0731f32",
   "metadata": {},
   "outputs": [
    {
     "name": "stdout",
     "output_type": "stream",
     "text": [
      "Element-Wise Multiplication Matrix:\n",
      "[[  2  12  30]\n",
      " [ 56  90 132]\n",
      " [182 240 306]]\n",
      "Sum Matrix:\n",
      "[ 44 278 728]\n"
     ]
    }
   ],
   "source": [
    "import numpy as np\n",
    "## First set of matrices:\n",
    "matrix_1=np.array([[2,4,6],[8,10,12],[14,16,18]])\n",
    "## Second set of matrices:\n",
    "matrix_2=np.array([[1,3,5],[7,9,11],[13,15,17]])\n",
    "## Operations:\n",
    "mult=np.multiply(matrix_1,matrix_2)\n",
    "print(\"Element-Wise Multiplication Matrix:\")\n",
    "print(mult)\n",
    "sum=np.sum(matrix_3, axis=1)\n",
    "print(\"Sum Matrix:\")\n",
    "print(sum)"
   ]
  },
  {
   "cell_type": "markdown",
   "id": "7ae8f5b1",
   "metadata": {},
   "source": [
    "## 10.Advanced Array Creation: Create a 2D array of shape (7,7) where the border consists of ones and the inner part consists of zeros.\n"
   ]
  },
  {
   "cell_type": "code",
   "execution_count": 23,
   "id": "4c58bb12",
   "metadata": {},
   "outputs": [
    {
     "name": "stdout",
     "output_type": "stream",
     "text": [
      "[[1. 1. 1. 1. 1. 1. 1.]\n",
      " [1. 0. 0. 0. 0. 0. 1.]\n",
      " [1. 0. 0. 0. 0. 0. 1.]\n",
      " [1. 0. 0. 0. 0. 0. 1.]\n",
      " [1. 0. 0. 0. 0. 0. 1.]\n",
      " [1. 0. 0. 0. 0. 0. 1.]\n",
      " [1. 1. 1. 1. 1. 1. 1.]]\n"
     ]
    }
   ],
   "source": [
    "import numpy as np\n",
    "array=np.ones((7,7))\n",
    "array[1:-1,1:-1]=0\n",
    "print(array)"
   ]
  },
  {
   "cell_type": "code",
   "execution_count": null,
   "id": "0f530b0e",
   "metadata": {},
   "outputs": [],
   "source": []
  }
 ],
 "metadata": {
  "kernelspec": {
   "display_name": "Python 3 (ipykernel)",
   "language": "python",
   "name": "python3"
  },
  "language_info": {
   "codemirror_mode": {
    "name": "ipython",
    "version": 3
   },
   "file_extension": ".py",
   "mimetype": "text/x-python",
   "name": "python",
   "nbconvert_exporter": "python",
   "pygments_lexer": "ipython3",
   "version": "3.11.4"
  }
 },
 "nbformat": 4,
 "nbformat_minor": 5
}
