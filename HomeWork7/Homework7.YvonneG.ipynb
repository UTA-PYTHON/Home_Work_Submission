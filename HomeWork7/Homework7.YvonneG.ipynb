{
 "cells": [
  {
   "cell_type": "markdown",
   "id": "7870aa16",
   "metadata": {},
   "source": [
    "## Homework 7: Numpy\n",
    "\n",
    "#### Yvonne Guajardo"
   ]
  },
  {
   "cell_type": "markdown",
   "id": "b5d2b280",
   "metadata": {},
   "source": [
    "### Question 1:\n",
    "\n",
    "Use NumPy to solve the following system of linear equations:\n",
    "- 3x + 2y - z = 1\n",
    "- 2x + 2y + 4z = -2\n",
    "- -x + 1/2y - z = 0"
   ]
  },
  {
   "cell_type": "code",
   "execution_count": 16,
   "id": "aa3ac867",
   "metadata": {},
   "outputs": [],
   "source": [
    "import numpy as np\n",
    "import matplotlib.pyplot as plt\n",
    "import random as rnd"
   ]
  },
  {
   "cell_type": "code",
   "execution_count": 17,
   "id": "c08fb2d1",
   "metadata": {},
   "outputs": [
    {
     "name": "stdout",
     "output_type": "stream",
     "text": [
      "Solution:\n",
      "x =  0.3684210526315789\n",
      "y =  -0.3157894736842105\n",
      "z =  -0.5263157894736842\n"
     ]
    }
   ],
   "source": [
    "# Defining coefficients\n",
    "A = np.array([[3,2,-1],[2,2,4],[-1,1/2,-1]])\n",
    "B = np.array([1,-2,0])\n",
    "\n",
    "#Solving system of equations\n",
    "solution = np.linalg.solve(A,B)\n",
    "\n",
    "# printing solutions\n",
    "print(\"Solution:\")\n",
    "print(\"x = \",solution[0])\n",
    "print(\"y = \", solution[1])\n",
    "print(\"z = \", solution[2])\n"
   ]
  },
  {
   "cell_type": "markdown",
   "id": "d7041e09",
   "metadata": {},
   "source": [
    "### Question 2\n",
    "Generate an array of 1000 random numbers sampled from a standard normal distribution, then visualize it."
   ]
  },
  {
   "cell_type": "code",
   "execution_count": 41,
   "id": "8a575132",
   "metadata": {},
   "outputs": [
    {
     "data": {
      "image/png": "[encoded data removed]",
      "text/plain": [
       "<Figure size 640x480 with 1 Axes>"
      ]
     },
     "metadata": {},
     "output_type": "display_data"
    }
   ],
   "source": [
    "# array of 1000 random numbers\n",
    "arr = np.random.normal(0,1,1000)\n",
    "\n",
    "# visualize data\n",
    "plt.hist(x,bins = 50, range = (-4,4))\n",
    "plt.show()"
   ]
  },
  {
   "cell_type": "markdown",
   "id": "0ec8cc2f",
   "metadata": {},
   "source": [
    "## Question 3\n",
    "Calculate the dot product of the following two vectors using NumPy:"
   ]
  },
  {
   "cell_type": "code",
   "execution_count": 48,
   "id": "ea1788bb",
   "metadata": {},
   "outputs": [
    {
     "name": "stdout",
     "output_type": "stream",
     "text": [
      "56\n"
     ]
    }
   ],
   "source": [
    "# two vectors\n",
    "A = np.array([2, 3, 4])\n",
    "B = np.array([5, 6, 7])\n",
    "\n",
    "# calculating dot product\n",
    "dot_product = np.dot(A, B)\n",
    "print(dot_product)"
   ]
  },
  {
   "cell_type": "markdown",
   "id": "8874c99a",
   "metadata": {},
   "source": [
    "## Question 4\n",
    "\n",
    "Random Numbers: Generate a 1D array of 20 random integers between 10 and 50. Find out how many of them are even."
   ]
  },
  {
   "cell_type": "code",
   "execution_count": 113,
   "id": "ccfea5c4",
   "metadata": {},
   "outputs": [
    {
     "name": "stdout",
     "output_type": "stream",
     "text": [
      "[49 45 21 39 14 43 14 36 45 15 35 10 48 11 46 30 17 17 14 46]\n"
     ]
    }
   ],
   "source": [
    "# random 20 integers between 10 and 50\n",
    "random_array = np.random.randint(10,51, size = 20)\n",
    "print(random_array)"
   ]
  },
  {
   "cell_type": "code",
   "execution_count": 114,
   "id": "9eee2230",
   "metadata": {},
   "outputs": [
    {
     "name": "stdout",
     "output_type": "stream",
     "text": [
      "Even integers:  9\n"
     ]
    }
   ],
   "source": [
    "# number of items in list\n",
    "n = len(random_array)\n",
    "even = 0 # counter\n",
    "\n",
    "#loop for finding even numbers\n",
    "for i in range(0, n):\n",
    "    if random_array[i] % 2 == 0 :\n",
    "        even += 1\n",
    "\n",
    "#printing amount of even numbers\n",
    "print(\"Even integers: \", even )"
   ]
  },
  {
   "cell_type": "markdown",
   "id": "b0f3c858",
   "metadata": {},
   "source": [
    "## Question 5\n",
    "\n",
    "Data Manipulation: Consider an array of dimension(8,8). Swap the first and last columns."
   ]
  },
  {
   "cell_type": "code",
   "execution_count": 116,
   "id": "4856c024",
   "metadata": {},
   "outputs": [
    {
     "name": "stdout",
     "output_type": "stream",
     "text": [
      "[[10  5  8  3  1  8  8  1]\n",
      " [ 9  3  5  1  8  5  5 10]\n",
      " [ 7  8 10 10  9  3  1  0]\n",
      " [ 2  0  1 10  3  2  5  3]\n",
      " [ 4  1  4  7  4  8  0  3]\n",
      " [ 3  8  7  7  3  5  5  7]\n",
      " [10  2  6  5  6  5  0  0]\n",
      " [ 9  5  8  4  6  0  8  3]]\n"
     ]
    }
   ],
   "source": [
    "# original array\n",
    "array = np.random.randint(0,11, size = (8,8))\n",
    "print(array)"
   ]
  },
  {
   "cell_type": "code",
   "execution_count": 120,
   "id": "bc64c31e",
   "metadata": {},
   "outputs": [
    {
     "name": "stdout",
     "output_type": "stream",
     "text": [
      "[[ 1  5  8  3  1  8  8 10]\n",
      " [10  3  5  1  8  5  5  9]\n",
      " [ 0  8 10 10  9  3  1  7]\n",
      " [ 3  0  1 10  3  2  5  2]\n",
      " [ 3  1  4  7  4  8  0  4]\n",
      " [ 7  8  7  7  3  5  5  3]\n",
      " [ 0  2  6  5  6  5  0 10]\n",
      " [ 3  5  8  4  6  0  8  9]]\n"
     ]
    }
   ],
   "source": [
    "# swapped array\n",
    "array[:, [0, -1]] = array[:, [-1, 0]]\n",
    "print(array)"
   ]
  },
  {
   "cell_type": "markdown",
   "id": "4d11769a",
   "metadata": {},
   "source": [
    "## Question 6\n",
    "\n",
    "Given a 2D NumPy array data, extract the following subsets:\n",
    "- The first row. \n",
    "- The last column.\n",
    "- The subarray consisting of the first two rows and the last two columns"
   ]
  },
  {
   "cell_type": "code",
   "execution_count": 181,
   "id": "3a7089cc",
   "metadata": {},
   "outputs": [
    {
     "name": "stdout",
     "output_type": "stream",
     "text": [
      "Array: \n",
      " [[1 2 3 4]\n",
      " [5 6 7 8]] \n",
      "\n",
      "First row:\n",
      " [1 2 3 4] \n",
      "\n",
      "Last column: \n",
      " [4 8] \n",
      "\n",
      "Subarray:\n",
      " [[3 4]\n",
      " [7 8]]\n"
     ]
    }
   ],
   "source": [
    "# 2 dimensional array\n",
    "arr = np.array([[1, 2, 3, 4], [5, 6, 7, 8]])\n",
    "print(\"Array: \\n\",arr,\"\\n\")\n",
    "\n",
    "# first row\n",
    "first_row = arr[0]\n",
    "print(\"First row:\\n\",first_row,\"\\n\")\n",
    "\n",
    "# last column\n",
    "last_column = arr[:,-1]\n",
    "print(\"Last column: \\n\",last_column,\"\\n\")\n",
    "\n",
    "# subarray consisting of first 2 rows and last 2 columns\n",
    "sub_arr = arr[:2, -2:]\n",
    "print(\"Subarray:\\n\",sub_arr)"
   ]
  },
  {
   "cell_type": "markdown",
   "id": "82fac24a",
   "metadata": {},
   "source": [
    "## Question 7\n",
    "\n",
    "Statistics: Create a matrix of shape (5,5), find the mean and variance of the values in its 3rd column."
   ]
  },
  {
   "cell_type": "code",
   "execution_count": 203,
   "id": "26048b05",
   "metadata": {},
   "outputs": [
    {
     "name": "stdout",
     "output_type": "stream",
     "text": [
      "Orignal Matrix:\n",
      " [[  1   2   3   4   5]\n",
      " [  5  10  15  20  25]\n",
      " [ 10  20  30  40  50]\n",
      " [ 20  40  60  80 100]\n",
      " [ 30  60  90 120 150]] \n",
      "\n",
      "Column 3: [ 3 15 30 60 90] \n",
      "\n",
      "Mean: 39.6 \n",
      "\n",
      "Variance: 998.6400000000001\n"
     ]
    }
   ],
   "source": [
    "# 5x5 matrix\n",
    "matrix = np.array([[1, 2, 3, 4, 5],\n",
    "                  [5, 10, 15, 20, 25],\n",
    "                  [10, 20, 30, 40, 50],\n",
    "                  [20, 40, 60, 80, 100],\n",
    "                  [30, 60, 90, 120, 150]])\n",
    "\n",
    "print(\"Orignal Matrix:\\n\", matrix, \"\\n\")\n",
    "# 3rd column\n",
    "column_3 = matrix[:,2]\n",
    "print(\"Column 3:\", column_3,\"\\n\")\n",
    "\n",
    "# mean \n",
    "column_mean = np.mean(column_3,)\n",
    "print(\"Mean:\",column_mean,\"\\n\")\n",
    "\n",
    "# variance\n",
    "column_variance = np.var(column_3)\n",
    "print(\"Variance:\", column_variance)"
   ]
  },
  {
   "cell_type": "markdown",
   "id": "e5d43777",
   "metadata": {},
   "source": [
    "## Question 8\n",
    "\n",
    "Linear Algebra: Given a 4x4 matrix, compute its transpose and then find the dot product of the matrix with its transpose."
   ]
  },
  {
   "cell_type": "code",
   "execution_count": 210,
   "id": "b87c65c7",
   "metadata": {},
   "outputs": [
    {
     "name": "stdout",
     "output_type": "stream",
     "text": [
      "Matrix:\n",
      " [[ 1  2  3  4]\n",
      " [ 5  6  7  8]\n",
      " [ 9 10 11 12]\n",
      " [13 14 15 16]] \n",
      "\n",
      "Transpose: \n",
      " [[ 1  5  9 13]\n",
      " [ 2  6 10 14]\n",
      " [ 3  7 11 15]\n",
      " [ 4  8 12 16]] \n",
      "\n",
      "Dot product:\n",
      " [[ 30  70 110 150]\n",
      " [ 70 174 278 382]\n",
      " [110 278 446 614]\n",
      " [150 382 614 846]]\n"
     ]
    }
   ],
   "source": [
    "# given 4x4 matrix\n",
    "matrix = np.array([[1, 2, 3, 4],\n",
    "                   [5, 6, 7, 8],\n",
    "                   [9, 10, 11, 12],\n",
    "                   [13, 14, 15, 16]])\n",
    "print(\"Matrix:\\n\", matrix,\"\\n\")\n",
    "# compute transpose\n",
    "matrix_tr = np.transpose(matrix)\n",
    "print(\"Transpose: \\n\",matrix_tr,\"\\n\")\n",
    "\n",
    "# dot product of matrix with its transpose\n",
    "matrix_d = np.dot(matrix, matrix_tr)\n",
    "print(\"Dot product:\\n\", matrix_d)"
   ]
  },
  {
   "cell_type": "markdown",
   "id": "b34fb427",
   "metadata": {},
   "source": [
    "## Question 9 \n",
    "\n",
    "Array Operations: Create two matrices, then Compute the element-wise multiplication of two matrices, then sum the values in each row of the resulting matrix."
   ]
  },
  {
   "cell_type": "code",
   "execution_count": 224,
   "id": "753fe24d",
   "metadata": {},
   "outputs": [
    {
     "name": "stdout",
     "output_type": "stream",
     "text": [
      "Product:\n",
      " [[  6  24  45  96]\n",
      " [ 28  72 120 176]\n",
      " [ 25  60 270 240]] \n",
      "\n",
      "Row sums: \n",
      " [171 396 595]\n"
     ]
    }
   ],
   "source": [
    "# matrix 1\n",
    "matrix_1 = np.array([[2, 4, 5, 8],\n",
    "                    [7, 9, 10, 11],\n",
    "                    [5, 6, 18, 12]])\n",
    "\n",
    "# matrix 2\n",
    "matrix_2 = np.array([[3 ,6 , 9, 12],\n",
    "                    [4, 8, 12, 16],\n",
    "                    [5, 10, 15, 20]])\n",
    "\n",
    "# Multiplying matrices\n",
    "matrix_product = matrix_1 * matrix_2\n",
    "print(\"Product:\\n\",matrix_product,\"\\n\")\n",
    "\n",
    "# Sum the values of resulting matrix\n",
    "row_sums = np.sum(matrix_product, axis = 1)\n",
    "print(\"Row sums: \\n\",row_sums)"
   ]
  },
  {
   "cell_type": "markdown",
   "id": "11a75fc7",
   "metadata": {},
   "source": [
    "## Question 10\n",
    "\n",
    "Advanced Array Creation: Create a 2D array of shape (7,7) where the border consists of ones and the inner part consists of zeros. "
   ]
  },
  {
   "cell_type": "code",
   "execution_count": 235,
   "id": "f2e8a440",
   "metadata": {},
   "outputs": [
    {
     "name": "stdout",
     "output_type": "stream",
     "text": [
      "[[1. 1. 1. 1. 1. 1. 1.]\n",
      " [1. 0. 0. 0. 0. 0. 1.]\n",
      " [1. 0. 0. 0. 0. 0. 1.]\n",
      " [1. 0. 0. 0. 0. 0. 1.]\n",
      " [1. 0. 0. 0. 0. 0. 1.]\n",
      " [1. 0. 0. 0. 0. 0. 1.]\n",
      " [1. 1. 1. 1. 1. 1. 1.]]\n"
     ]
    }
   ],
   "source": [
    "# array 7x7 \n",
    "two_array = np.ones((7,7))\n",
    "\n",
    "# filling inner part with zeros\n",
    "two_array[1:-1,1:-1] = 0\n",
    "print(two_array)"
   ]
  }
 ],
 "metadata": {
  "kernelspec": {
   "display_name": "Python 3 (ipykernel)",
   "language": "python",
   "name": "python3"
  },
  "language_info": {
   "codemirror_mode": {
    "name": "ipython",
    "version": 3
   },
   "file_extension": ".py",
   "mimetype": "text/x-python",
   "name": "python",
   "nbconvert_exporter": "python",
   "pygments_lexer": "ipython3",
   "version": "3.11.4"
  }
 },
 "nbformat": 4,
 "nbformat_minor": 5
}
