{
 "cells": [
  {
   "cell_type": "markdown",
   "metadata": {
    "id": "0zZlEeZdSGBW"
   },
   "source": [
    "# **Homework 7: Numpy**"
   ]
  },
  {
   "cell_type": "markdown",
   "metadata": {
    "id": "MJ7o5DfIZxUH"
   },
   "source": [
    "## **Due date:** November 3rd, at 2:30 PM.\n",
    "\n",
    "## **Submission:** Please push your homework to the our GitHub repository, and place it in the 'Homework 7' folder."
   ]
  },
  {
   "cell_type": "markdown",
   "metadata": {
    "id": "0xb-Hc9SZ3nf"
   },
   "source": [
    "\n",
    "\n",
    "---\n",
    "\n",
    "\n",
    "\n",
    "---\n",
    "\n",
    "\n",
    "\n",
    "---\n",
    "\n",
    "\n",
    "\n",
    "---\n",
    "\n"
   ]
  },
  {
   "cell_type": "markdown",
   "metadata": {
    "id": "LAp5txV5SQ7x"
   },
   "source": [
    "### **Question 1:**"
   ]
  },
  {
   "cell_type": "markdown",
   "metadata": {
    "id": "MzNamLiQSO21"
   },
   "source": [
    "Use NumPy to solve the following system of linear equations:"
   ]
  },
  {
   "cell_type": "code",
   "execution_count": 125,
   "metadata": {
    "id": "Tx8KbjfvRs9k"
   },
   "outputs": [],
   "source": [
    "# 3x+ 2y -z = 1\n",
    "\n",
    "# 2x+ 2y+ 4z= -2\n",
    "\n",
    "# -x+ 1/2y- z= 0"
   ]
  },
  {
   "cell_type": "code",
   "execution_count": 126,
   "metadata": {
    "id": "wSITtqqeSX0K"
   },
   "outputs": [],
   "source": [
    "import numpy as np\n",
    "import matplotlib.pyplot as plt"
   ]
  },
  {
   "cell_type": "code",
   "execution_count": 127,
   "metadata": {},
   "outputs": [
    {
     "name": "stdout",
     "output_type": "stream",
     "text": [
      "x= 0.3684210526315789 \n",
      "y= -0.3157894736842105 \n",
      "x= -0.5263157894736842\n"
     ]
    }
   ],
   "source": [
    "coefficients=np.array([[3,2,-1],[2,2,4],[-1,1/2,-1]])\n",
    "results=np.array([1,-2,0])\n",
    "\n",
    "solution=np.linalg.solve(coefficients,results)\n",
    "print(\"x=\", solution[0], \"\\ny=\", solution[1], \"\\nx=\", solution[2])"
   ]
  },
  {
   "cell_type": "markdown",
   "metadata": {
    "id": "XYAG29lDSeTD"
   },
   "source": [
    "\n",
    "\n",
    "---\n",
    "\n",
    "\n",
    "\n",
    "---\n",
    "\n"
   ]
  },
  {
   "cell_type": "markdown",
   "metadata": {
    "id": "TaqiI1-eSeVq"
   },
   "source": [
    "### **Question 2:**"
   ]
  },
  {
   "cell_type": "markdown",
   "metadata": {
    "id": "Aldzq_A1Se6Z"
   },
   "source": [
    "Generate an array of 1000 random numbers sampled from a standard normal distribution, then visualize it."
   ]
  },
  {
   "cell_type": "code",
   "execution_count": 128,
   "metadata": {
    "id": "wyEId-OXSaxz"
   },
   "outputs": [
    {
     "data": {
      "image/png": "[encoded data removed]",
      "text/plain": [
       "<Figure size 640x480 with 1 Axes>"
      ]
     },
     "metadata": {},
     "output_type": "display_data"
    }
   ],
   "source": [
    "random_array = np.random.randn(1000)\n",
    "plt.hist(random_array, bins=100, range=(-5,5))\n",
    "plt.show()"
   ]
  },
  {
   "cell_type": "markdown",
   "metadata": {
    "id": "5gNSvLW7S41q"
   },
   "source": [
    "\n",
    "\n",
    "---\n",
    "\n",
    "\n",
    "\n",
    "---\n",
    "\n"
   ]
  },
  {
   "cell_type": "markdown",
   "metadata": {
    "id": "ZH3t6bWSS44Q"
   },
   "source": [
    "### **Question 3:**"
   ]
  },
  {
   "cell_type": "markdown",
   "metadata": {
    "id": "0kqKrtKDS-Vw"
   },
   "source": [
    "Calculate the dot product of the following two vectors using NumPy:"
   ]
  },
  {
   "cell_type": "code",
   "execution_count": 129,
   "metadata": {
    "id": "1bpcoSo7S7F_"
   },
   "outputs": [],
   "source": [
    "A = [2, 3, 4]\n",
    "B = [5, 6, 7]"
   ]
  },
  {
   "cell_type": "code",
   "execution_count": 130,
   "metadata": {
    "id": "ufkWofy2TCAT"
   },
   "outputs": [
    {
     "name": "stdout",
     "output_type": "stream",
     "text": [
      "56\n"
     ]
    }
   ],
   "source": [
    "A=np.array([2,3,4])\n",
    "B=np.array([5,6,7])\n",
    "\n",
    "C=np.dot(A,B)\n",
    "print(C)"
   ]
  },
  {
   "cell_type": "markdown",
   "metadata": {
    "id": "RmGc6wRuTKn2"
   },
   "source": [
    "\n",
    "\n",
    "---\n",
    "\n",
    "\n",
    "\n",
    "---\n",
    "\n"
   ]
  },
  {
   "cell_type": "markdown",
   "metadata": {
    "id": "KxNuMC2CTKsA"
   },
   "source": [
    "### **Question 4:**"
   ]
  },
  {
   "cell_type": "markdown",
   "metadata": {
    "id": "MWbDMbrOTKvJ"
   },
   "source": [
    "**Random Numbers:**: Generate a 1D array of 20 random integers between 10 and 50. Find out how many of them are even."
   ]
  },
  {
   "cell_type": "code",
   "execution_count": 131,
   "metadata": {
    "id": "GYB7vYXpTUaV"
   },
   "outputs": [
    {
     "name": "stdout",
     "output_type": "stream",
     "text": [
      "[16 38 38 47 18 25 21 29 22 15 28 44 37 15 26 32 31 29 25 24]\n"
     ]
    }
   ],
   "source": [
    "rand_int=np.random.randint(10,50,20)\n",
    "count=0\n",
    "print(rand_int)    "
   ]
  },
  {
   "cell_type": "code",
   "execution_count": 132,
   "metadata": {},
   "outputs": [
    {
     "name": "stdout",
     "output_type": "stream",
     "text": [
      "There are 10 even numbers in this random list\n"
     ]
    }
   ],
   "source": [
    "for n in rand_int:\n",
    "    if n%2==0:\n",
    "        count=count+1\n",
    "\n",
    "print(\"There are\", count, \"even numbers in this random list\")"
   ]
  },
  {
   "cell_type": "markdown",
   "metadata": {
    "id": "5S5fZCFhTZQt"
   },
   "source": [
    "\n",
    "\n",
    "---\n",
    "\n",
    "\n",
    "\n",
    "---\n",
    "\n"
   ]
  },
  {
   "cell_type": "markdown",
   "metadata": {
    "id": "dV5FRmKETZU7"
   },
   "source": [
    "### **Question 5:**"
   ]
  },
  {
   "cell_type": "markdown",
   "metadata": {
    "id": "L2nisglFTZZT"
   },
   "source": [
    "**Data Manipulation:** Consider an array of dimension (8,8). Swap the first and last columns."
   ]
  },
  {
   "cell_type": "code",
   "execution_count": 133,
   "metadata": {
    "id": "S9rg9roST0Fj"
   },
   "outputs": [
    {
     "name": "stdout",
     "output_type": "stream",
     "text": [
      "[[3 5 9 4 0 7 2 5]\n",
      " [7 4 0 8 3 0 3 5]\n",
      " [7 8 0 1 9 8 8 8]\n",
      " [0 9 7 3 3 7 8 1]\n",
      " [5 7 3 7 7 6 4 0]\n",
      " [8 8 6 9 9 8 8 0]\n",
      " [1 6 1 6 2 8 3 2]\n",
      " [3 0 6 3 5 4 4 9]]\n"
     ]
    }
   ],
   "source": [
    "random_array=np.random.randint(0,10,(8,8))\n",
    "print(random_array)"
   ]
  },
  {
   "cell_type": "code",
   "execution_count": 134,
   "metadata": {},
   "outputs": [
    {
     "name": "stdout",
     "output_type": "stream",
     "text": [
      "[[5 5 9 4 0 7 2 3]\n",
      " [5 4 0 8 3 0 3 7]\n",
      " [8 8 0 1 9 8 8 7]\n",
      " [1 9 7 3 3 7 8 0]\n",
      " [0 7 3 7 7 6 4 5]\n",
      " [0 8 6 9 9 8 8 8]\n",
      " [2 6 1 6 2 8 3 1]\n",
      " [9 0 6 3 5 4 4 3]]\n"
     ]
    }
   ],
   "source": [
    "random_array[:,[-1,0]]=random_array[:,[0,-1]] # takes all the rows but switches the first index number 0 with the last index number -1\n",
    "print(random_array)"
   ]
  },
  {
   "cell_type": "markdown",
   "metadata": {
    "id": "AOa_G4ztT7nb"
   },
   "source": [
    "\n",
    "\n",
    "---\n",
    "\n",
    "\n",
    "\n",
    "---\n",
    "\n"
   ]
  },
  {
   "cell_type": "markdown",
   "metadata": {
    "id": "FRAUkFD9T7qA"
   },
   "source": [
    "### **Question 6:**"
   ]
  },
  {
   "cell_type": "markdown",
   "metadata": {
    "id": "52SeOsbTT7sZ"
   },
   "source": [
    "**Given a 2D NumPy array data, extract the following subsets:**\n",
    "\n",
    "- The first row.\n",
    "- The last column.\n",
    "- The subarray consisting of the first two rows and the last two columns."
   ]
  },
  {
   "cell_type": "code",
   "execution_count": 135,
   "metadata": {
    "id": "JQb-XngHXuK3"
   },
   "outputs": [
    {
     "name": "stdout",
     "output_type": "stream",
     "text": [
      "[[6 1 1 1 4]\n",
      " [5 9 9 1 5]\n",
      " [7 9 8 1 9]\n",
      " [3 9 6 7 9]\n",
      " [9 6 4 6 1]]\n"
     ]
    }
   ],
   "source": [
    "array=np.random.randint(1,10,(5,5))\n",
    "print(array)"
   ]
  },
  {
   "cell_type": "code",
   "execution_count": 136,
   "metadata": {},
   "outputs": [
    {
     "name": "stdout",
     "output_type": "stream",
     "text": [
      "The first row is [6 1 1 1 4]\n",
      "The last column is [4 5 9 9 1]\n"
     ]
    }
   ],
   "source": [
    "print(\"The first row is\", array[0,:])\n",
    "print(\"The last column is\", array[:,-1])"
   ]
  },
  {
   "cell_type": "code",
   "execution_count": 137,
   "metadata": {},
   "outputs": [
    {
     "name": "stdout",
     "output_type": "stream",
     "text": [
      "[6 1 1 1 4 5 9 9 1 5 4 5 9 9 1 1 1 1 7 6]\n"
     ]
    }
   ],
   "source": [
    "subarray=[]\n",
    "subarray.append(array[0,:])\n",
    "subarray.append(array[1,:])\n",
    "subarray.append(array[:,4])\n",
    "subarray.append(array[:,3])\n",
    "subarray=np.asarray(subarray).flatten()\n",
    "print(subarray)"
   ]
  },
  {
   "cell_type": "code",
   "execution_count": 138,
   "metadata": {},
   "outputs": [
    {
     "name": "stdout",
     "output_type": "stream",
     "text": [
      "[6 1 1 1 4 5 9 9 1 5 4 5 9 9 1 1 1 1 7 6]\n"
     ]
    }
   ],
   "source": [
    "subarray = np.concatenate((array[0,:],array[1,:],array[:,4],array[:,3]))\n",
    "print(subarray)"
   ]
  },
  {
   "cell_type": "code",
   "execution_count": 139,
   "metadata": {},
   "outputs": [],
   "source": [
    "# I did it these both ways and got the same answer"
   ]
  },
  {
   "cell_type": "markdown",
   "metadata": {
    "id": "A-MUs7t7X9M6"
   },
   "source": [
    "\n",
    "\n",
    "---\n",
    "\n",
    "\n",
    "\n",
    "---\n",
    "\n"
   ]
  },
  {
   "cell_type": "markdown",
   "metadata": {
    "id": "MZlbvvgsX9PP"
   },
   "source": [
    "### **Question 7:**"
   ]
  },
  {
   "cell_type": "markdown",
   "metadata": {
    "id": "rqWn93qTX9RV"
   },
   "source": [
    "**Statistics:** Create a matrix of shape (5,5), find the mean and variance of the values in its 3rd column."
   ]
  },
  {
   "cell_type": "code",
   "execution_count": 140,
   "metadata": {
    "id": "-So6J1QdXyoQ"
   },
   "outputs": [
    {
     "name": "stdout",
     "output_type": "stream",
     "text": [
      "[[7 6 8 3 4]\n",
      " [7 3 2 9 4]\n",
      " [4 4 9 1 2]\n",
      " [4 2 1 6 5]\n",
      " [9 1 9 1 6]]\n"
     ]
    }
   ],
   "source": [
    "matrix=np.random.randint(1,10,(5,5))\n",
    "print(matrix)"
   ]
  },
  {
   "cell_type": "code",
   "execution_count": 141,
   "metadata": {},
   "outputs": [
    {
     "data": {
      "text/plain": [
       "5.8"
      ]
     },
     "execution_count": 141,
     "metadata": {},
     "output_type": "execute_result"
    }
   ],
   "source": [
    "np.mean(matrix[:,2])"
   ]
  },
  {
   "cell_type": "code",
   "execution_count": 142,
   "metadata": {},
   "outputs": [
    {
     "data": {
      "text/plain": [
       "12.56"
      ]
     },
     "execution_count": 142,
     "metadata": {},
     "output_type": "execute_result"
    }
   ],
   "source": [
    "np.var(matrix[:,2])"
   ]
  },
  {
   "cell_type": "markdown",
   "metadata": {
    "id": "Nlzix9NCVSVc"
   },
   "source": [
    "\n",
    "\n",
    "---\n",
    "\n",
    "\n",
    "\n",
    "---\n",
    "\n",
    "\n",
    "\n",
    "---\n",
    "\n"
   ]
  },
  {
   "cell_type": "markdown",
   "metadata": {
    "id": "CiK_vk4tVUXL"
   },
   "source": [
    "### **Question 8:**"
   ]
  },
  {
   "cell_type": "markdown",
   "metadata": {
    "id": "L23uRV1dVehN"
   },
   "source": [
    "**Linear Algebra:** Given a 4x4 matrix, compute its transpose and then find the dot product of the matrix with its transpose."
   ]
  },
  {
   "cell_type": "code",
   "execution_count": 143,
   "metadata": {
    "id": "DsBPYJT4Xsqx"
   },
   "outputs": [],
   "source": [
    "matrix = np.array([[1, 2, 3, 4],\n",
    "                   [5, 6, 7, 8],\n",
    "                   [9, 10, 11, 12],\n",
    "                   [13, 14, 15, 16]])"
   ]
  },
  {
   "cell_type": "code",
   "execution_count": 144,
   "metadata": {
    "id": "eJU7h0AQYYx2"
   },
   "outputs": [
    {
     "name": "stdout",
     "output_type": "stream",
     "text": [
      "[[ 1  5  9 13]\n",
      " [ 2  6 10 14]\n",
      " [ 3  7 11 15]\n",
      " [ 4  8 12 16]]\n"
     ]
    }
   ],
   "source": [
    "matrix_transposed=np.transpose(matrix)\n",
    "print(matrix_transposed)"
   ]
  },
  {
   "cell_type": "code",
   "execution_count": 145,
   "metadata": {},
   "outputs": [
    {
     "name": "stdout",
     "output_type": "stream",
     "text": [
      "[[ 30  70 110 150]\n",
      " [ 70 174 278 382]\n",
      " [110 278 446 614]\n",
      " [150 382 614 846]]\n"
     ]
    }
   ],
   "source": [
    "matrix_dot=np.dot(matrix, matrix_transposed)\n",
    "print(matrix_dot)"
   ]
  },
  {
   "cell_type": "markdown",
   "metadata": {
    "id": "dL0-iqHkVv3f"
   },
   "source": [
    "\n",
    "\n",
    "---\n",
    "\n",
    "\n",
    "\n",
    "---\n",
    "\n"
   ]
  },
  {
   "cell_type": "markdown",
   "metadata": {
    "id": "ygs9UMtZVx8E"
   },
   "source": [
    "### **Question 9:**"
   ]
  },
  {
   "cell_type": "markdown",
   "metadata": {
    "id": "LnzUKFw4Vx-7"
   },
   "source": [
    "**Array Operations:** Create two matrices, then Compute the element-wise multiplication of two matrices, then sum the values in each row of the resulting matrix."
   ]
  },
  {
   "cell_type": "code",
   "execution_count": 146,
   "metadata": {
    "id": "9IyD0U-3VmJ3"
   },
   "outputs": [
    {
     "name": "stdout",
     "output_type": "stream",
     "text": [
      "This is matrix 1:\n",
      " [[1 1 4]\n",
      " [4 4 1]\n",
      " [8 3 4]]\n",
      "\n",
      "This is matrix 2:\n",
      " [[5 9 8]\n",
      " [8 9 3]\n",
      " [9 6 7]]\n"
     ]
    }
   ],
   "source": [
    "matrix1=np.random.randint(1,10,(3,3))\n",
    "matrix2=np.random.randint(1,10,(3,3))\n",
    "\n",
    "print(\"This is matrix 1:\\n\", matrix1)\n",
    "print(\"\\nThis is matrix 2:\\n\", matrix2)"
   ]
  },
  {
   "cell_type": "code",
   "execution_count": 147,
   "metadata": {},
   "outputs": [
    {
     "name": "stdout",
     "output_type": "stream",
     "text": [
      "This is the multiplied matrix:\n",
      " [[ 5  9 32]\n",
      " [32 36  3]\n",
      " [72 18 28]]\n"
     ]
    }
   ],
   "source": [
    "multiplied_matrix=np.multiply(matrix1,matrix2)\n",
    "print(\"This is the multiplied matrix:\\n\", multiplied_matrix)"
   ]
  },
  {
   "cell_type": "code",
   "execution_count": 148,
   "metadata": {},
   "outputs": [
    {
     "name": "stdout",
     "output_type": "stream",
     "text": [
      "The sum of each row is [ 46  71 118]\n"
     ]
    }
   ],
   "source": [
    "sum_rows=np.sum(multiplied_matrix, axis=1)\n",
    "print(\"The sum of each row is\", sum_rows)"
   ]
  },
  {
   "cell_type": "markdown",
   "metadata": {
    "id": "kqxzW_3ZW8b5"
   },
   "source": [
    "\n",
    "\n",
    "---\n",
    "\n",
    "\n",
    "\n",
    "---\n",
    "\n",
    "\n",
    "\n",
    "---\n",
    "\n"
   ]
  },
  {
   "cell_type": "markdown",
   "metadata": {
    "id": "jEg_QL7CW8rw"
   },
   "source": [
    "### **Question 10:**"
   ]
  },
  {
   "cell_type": "markdown",
   "metadata": {
    "id": "_s9937cCW9Qv"
   },
   "source": [
    "**Advanced Array Creation:** Create a 2D array of shape (7,7) where the border consists of ones and the inner part consists of zeros."
   ]
  },
  {
   "cell_type": "code",
   "execution_count": 149,
   "metadata": {
    "id": "ZEuY35gZXN9d"
   },
   "outputs": [
    {
     "name": "stdout",
     "output_type": "stream",
     "text": [
      "[[1. 1. 1. 1. 1. 1. 1.]\n",
      " [1. 0. 0. 0. 0. 0. 1.]\n",
      " [1. 0. 0. 0. 0. 0. 1.]\n",
      " [1. 0. 0. 0. 0. 0. 1.]\n",
      " [1. 0. 0. 0. 0. 0. 1.]\n",
      " [1. 0. 0. 0. 0. 0. 1.]\n",
      " [1. 1. 1. 1. 1. 1. 1.]]\n"
     ]
    }
   ],
   "source": [
    "twoD_array=np.ones((7, 7))\n",
    "\n",
    "twoD_array[1:-1,1:-1] = 0 # Starting from the last row, it takes each row going backwards until index number 1 and\n",
    "# sets it equal to 0. Same thing with the column\n",
    "\n",
    "print(twoD_array)"
   ]
  },
  {
   "cell_type": "markdown",
   "metadata": {},
   "source": [
    "___"
   ]
  },
  {
   "cell_type": "code",
   "execution_count": null,
   "metadata": {},
   "outputs": [],
   "source": []
  }
 ],
 "metadata": {
  "colab": {
   "provenance": []
  },
  "kernelspec": {
   "display_name": "Python 3 (ipykernel)",
   "language": "python",
   "name": "python3"
  },
  "language_info": {
   "codemirror_mode": {
    "name": "ipython",
    "version": 3
   },
   "file_extension": ".py",
   "mimetype": "text/x-python",
   "name": "python",
   "nbconvert_exporter": "python",
   "pygments_lexer": "ipython3",
   "version": "3.11.4"
  }
 },
 "nbformat": 4,
 "nbformat_minor": 1
}
