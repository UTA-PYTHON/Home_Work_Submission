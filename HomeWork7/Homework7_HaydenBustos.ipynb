{
  "nbformat": 4,
  "nbformat_minor": 0,
  "metadata": {
    "colab": {
      "provenance": []
    },
    "kernelspec": {
      "name": "python3",
      "display_name": "Python 3"
    },
    "language_info": {
      "name": "python"
    }
  },
  "cells": [
    {
      "cell_type": "markdown",
      "source": [
        "# **Homework 7: Numpy**"
      ],
      "metadata": {
        "id": "0zZlEeZdSGBW"
      }
    },
    {
      "cell_type": "markdown",
      "source": [
        "## **Due date:** November 3rd, at 2:30 PM.\n",
        "\n",
        "## **Submission:** Please push your homework to the our GitHub repository, and place it in the 'Homework 7' folder."
      ],
      "metadata": {
        "id": "MJ7o5DfIZxUH"
      }
    },
    {
      "cell_type": "markdown",
      "source": [
        "\n",
        "\n",
        "---\n",
        "\n",
        "\n",
        "\n",
        "---\n",
        "\n",
        "\n",
        "\n",
        "---\n",
        "\n",
        "\n",
        "\n",
        "---\n",
        "\n"
      ],
      "metadata": {
        "id": "0xb-Hc9SZ3nf"
      }
    },
    {
      "cell_type": "code",
      "source": [
        "import numpy as np\n",
        "import pandas as pd\n",
        "import matplotlib.pyplot as plt\n",
        "import random as rnd"
      ],
      "metadata": {
        "id": "1oUTKGEetyMz"
      },
      "execution_count": null,
      "outputs": []
    },
    {
      "cell_type": "markdown",
      "source": [
        "### **Question 1:**"
      ],
      "metadata": {
        "id": "LAp5txV5SQ7x"
      }
    },
    {
      "cell_type": "markdown",
      "source": [
        "Use NumPy to solve the following system of linear equations:"
      ],
      "metadata": {
        "id": "MzNamLiQSO21"
      }
    },
    {
      "cell_type": "code",
      "execution_count": null,
      "metadata": {
        "id": "Tx8KbjfvRs9k"
      },
      "outputs": [],
      "source": [
        "3x+ 2y- z= 1\n",
        "\n",
        "2x+ 2y+ 4z= -2\n",
        "\n",
        "-x+ 1/2y- z= 0"
      ]
    },
    {
      "cell_type": "code",
      "source": [
        "a = np.array([[3, 2, -1], [2, 2, 4], [-1, 1/2, -1]])\n",
        "b = np.array([1, -2, 0])\n",
        "\n",
        "solutions = np.linalg.solve(a, b)\n",
        "print(solutions)\n"
      ],
      "metadata": {
        "id": "wSITtqqeSX0K",
        "colab": {
          "base_uri": "https://localhost:8080/"
        },
        "outputId": "9aaa6df9-c003-4d58-e259-fb8af9230371"
      },
      "execution_count": null,
      "outputs": [
        {
          "output_type": "stream",
          "name": "stdout",
          "text": [
            "[ 0.36842105 -0.31578947 -0.52631579]\n"
          ]
        }
      ]
    },
    {
      "cell_type": "markdown",
      "source": [
        "\n",
        "\n",
        "---\n",
        "\n",
        "\n",
        "\n",
        "---\n",
        "\n"
      ],
      "metadata": {
        "id": "XYAG29lDSeTD"
      }
    },
    {
      "cell_type": "markdown",
      "source": [
        "### **Question 2:**"
      ],
      "metadata": {
        "id": "TaqiI1-eSeVq"
      }
    },
    {
      "cell_type": "markdown",
      "source": [
        "Generate an array of 1000 random numbers sampled from a standard normal distribution, then visualize it."
      ],
      "metadata": {
        "id": "Aldzq_A1Se6Z"
      }
    },
    {
      "cell_type": "code",
      "source": [
        "data = np.random.normal(1, .1, size = 1000)\n",
        "plt.hist(data, bins = 100)\n"
      ],
      "metadata": {
        "id": "wyEId-OXSaxz",
        "colab": {
          "base_uri": "https://localhost:8080/",
          "height": 963
        },
        "outputId": "e24f6119-90ff-48da-d9d2-bd4932c4f920"
      },
      "execution_count": null,
      "outputs": [
        {
          "output_type": "execute_result",
          "data": {
            "text/plain": [
              "(array([ 1.,  0.,  0.,  0.,  1.,  1.,  0.,  0.,  1.,  0.,  2.,  0.,  1.,\n",
              "         2.,  1.,  1.,  3.,  4.,  4.,  2.,  4.,  3.,  7.,  5.,  7.,  7.,\n",
              "         9.,  6., 13., 11., 14., 21., 13., 22., 16., 35., 16., 22., 29.,\n",
              "        23., 29., 39., 23., 37., 24., 27., 29., 35., 29., 29., 28., 23.,\n",
              "        18., 26., 34., 23., 23., 21., 18., 24., 15., 16., 21., 17.,  5.,\n",
              "         7., 10., 11.,  8., 11.,  6.,  6.,  6.,  1.,  1.,  2.,  3.,  2.,\n",
              "         1.,  1.,  1.,  0.,  1.,  0.,  1.,  0.,  0.,  0.,  0.,  0.,  0.,\n",
              "         0.,  0.,  0.,  0.,  0.,  0.,  0.,  0.,  1.]),\n",
              " array([0.63345882, 0.64146819, 0.64947757, 0.65748694, 0.66549632,\n",
              "        0.67350569, 0.68151507, 0.68952444, 0.69753382, 0.70554319,\n",
              "        0.71355257, 0.72156195, 0.72957132, 0.7375807 , 0.74559007,\n",
              "        0.75359945, 0.76160882, 0.7696182 , 0.77762757, 0.78563695,\n",
              "        0.79364633, 0.8016557 , 0.80966508, 0.81767445, 0.82568383,\n",
              "        0.8336932 , 0.84170258, 0.84971195, 0.85772133, 0.8657307 ,\n",
              "        0.87374008, 0.88174946, 0.88975883, 0.89776821, 0.90577758,\n",
              "        0.91378696, 0.92179633, 0.92980571, 0.93781508, 0.94582446,\n",
              "        0.95383383, 0.96184321, 0.96985259, 0.97786196, 0.98587134,\n",
              "        0.99388071, 1.00189009, 1.00989946, 1.01790884, 1.02591821,\n",
              "        1.03392759, 1.04193697, 1.04994634, 1.05795572, 1.06596509,\n",
              "        1.07397447, 1.08198384, 1.08999322, 1.09800259, 1.10601197,\n",
              "        1.11402134, 1.12203072, 1.1300401 , 1.13804947, 1.14605885,\n",
              "        1.15406822, 1.1620776 , 1.17008697, 1.17809635, 1.18610572,\n",
              "        1.1941151 , 1.20212447, 1.21013385, 1.21814323, 1.2261526 ,\n",
              "        1.23416198, 1.24217135, 1.25018073, 1.2581901 , 1.26619948,\n",
              "        1.27420885, 1.28221823, 1.2902276 , 1.29823698, 1.30624636,\n",
              "        1.31425573, 1.32226511, 1.33027448, 1.33828386, 1.34629323,\n",
              "        1.35430261, 1.36231198, 1.37032136, 1.37833074, 1.38634011,\n",
              "        1.39434949, 1.40235886, 1.41036824, 1.41837761, 1.42638699,\n",
              "        1.43439636]),\n",
              " <BarContainer object of 100 artists>)"
            ]
          },
          "metadata": {},
          "execution_count": 38
        },
        {
          "output_type": "display_data",
          "data": {
            "text/plain": [
              "<Figure size 640x480 with 1 Axes>"
            ],
            "image/png": "[encoded data removed]"
          },
          "metadata": {}
        }
      ]
    },
    {
      "cell_type": "markdown",
      "source": [
        "\n",
        "\n",
        "---\n",
        "\n",
        "\n",
        "\n",
        "---\n",
        "\n"
      ],
      "metadata": {
        "id": "5gNSvLW7S41q"
      }
    },
    {
      "cell_type": "markdown",
      "source": [
        "### **Question 3:**"
      ],
      "metadata": {
        "id": "ZH3t6bWSS44Q"
      }
    },
    {
      "cell_type": "markdown",
      "source": [
        "Calculate the dot product of the following two vectors using NumPy:"
      ],
      "metadata": {
        "id": "0kqKrtKDS-Vw"
      }
    },
    {
      "cell_type": "code",
      "source": [
        "A = [2, 3, 4]\n",
        "B = [5, 6, 7]"
      ],
      "metadata": {
        "id": "1bpcoSo7S7F_"
      },
      "execution_count": null,
      "outputs": []
    },
    {
      "cell_type": "code",
      "source": [
        "dot_plot = np.dot(A,B)\n",
        "print(dot_plot)\n"
      ],
      "metadata": {
        "id": "ufkWofy2TCAT",
        "colab": {
          "base_uri": "https://localhost:8080/"
        },
        "outputId": "09968960-bec0-4aec-d93c-825bc619dfc9"
      },
      "execution_count": null,
      "outputs": [
        {
          "output_type": "stream",
          "name": "stdout",
          "text": [
            "56\n"
          ]
        }
      ]
    },
    {
      "cell_type": "markdown",
      "source": [
        "\n",
        "\n",
        "---\n",
        "\n",
        "\n",
        "\n",
        "---\n",
        "\n"
      ],
      "metadata": {
        "id": "RmGc6wRuTKn2"
      }
    },
    {
      "cell_type": "markdown",
      "source": [
        "### **Question 4:**"
      ],
      "metadata": {
        "id": "KxNuMC2CTKsA"
      }
    },
    {
      "cell_type": "markdown",
      "source": [
        "**Random Numbers:**: Generate a 1D array of 20 random integers between 10 and 50. Find out how many of them are even."
      ],
      "metadata": {
        "id": "MWbDMbrOTKvJ"
      }
    },
    {
      "cell_type": "code",
      "source": [
        "random_array = np.random.randint(10,50, 20)\n",
        "even_count = 0\n",
        "evens = []\n",
        "for i in random_array:\n",
        "  if i%2 == 0:\n",
        "    evens.append(i)\n",
        "    even_count +=1\n",
        "\n",
        "print(f\"There are {even_count} even numbers in this array.\\n The even numbers are: {evens}.\")\n"
      ],
      "metadata": {
        "id": "GYB7vYXpTUaV",
        "colab": {
          "base_uri": "https://localhost:8080/"
        },
        "outputId": "87eb3050-4119-4475-e078-8808cb28a0d2"
      },
      "execution_count": null,
      "outputs": [
        {
          "output_type": "stream",
          "name": "stdout",
          "text": [
            "There are 7 even numbers in this array.\n",
            " The even numbers are: [16, 48, 20, 48, 10, 38, 48].\n"
          ]
        }
      ]
    },
    {
      "cell_type": "markdown",
      "source": [
        "\n",
        "\n",
        "---\n",
        "\n",
        "\n",
        "\n",
        "---\n",
        "\n"
      ],
      "metadata": {
        "id": "5S5fZCFhTZQt"
      }
    },
    {
      "cell_type": "markdown",
      "source": [
        "### **Question 5:**"
      ],
      "metadata": {
        "id": "dV5FRmKETZU7"
      }
    },
    {
      "cell_type": "markdown",
      "source": [
        "**Data Manipulation:** Consider an array of dimension (8,8). Swap the first and last columns."
      ],
      "metadata": {
        "id": "L2nisglFTZZT"
      }
    },
    {
      "cell_type": "code",
      "source": [
        "shape = (8,8)\n",
        "\n",
        "array_large = np.arange(64).reshape(shape)\n",
        "array_large[:,[0,-1]] = array_large[:,[-1,0]]\n",
        "array_large\n"
      ],
      "metadata": {
        "id": "S9rg9roST0Fj",
        "colab": {
          "base_uri": "https://localhost:8080/"
        },
        "outputId": "34aeac3a-5c1a-4d02-ece8-e9c8cd1793c7"
      },
      "execution_count": null,
      "outputs": [
        {
          "output_type": "execute_result",
          "data": {
            "text/plain": [
              "array([[ 7,  1,  2,  3,  4,  5,  6,  0],\n",
              "       [15,  9, 10, 11, 12, 13, 14,  8],\n",
              "       [23, 17, 18, 19, 20, 21, 22, 16],\n",
              "       [31, 25, 26, 27, 28, 29, 30, 24],\n",
              "       [39, 33, 34, 35, 36, 37, 38, 32],\n",
              "       [47, 41, 42, 43, 44, 45, 46, 40],\n",
              "       [55, 49, 50, 51, 52, 53, 54, 48],\n",
              "       [63, 57, 58, 59, 60, 61, 62, 56]])"
            ]
          },
          "metadata": {},
          "execution_count": 72
        }
      ]
    },
    {
      "cell_type": "markdown",
      "source": [
        "\n",
        "\n",
        "---\n",
        "\n",
        "\n",
        "\n",
        "---\n",
        "\n"
      ],
      "metadata": {
        "id": "AOa_G4ztT7nb"
      }
    },
    {
      "cell_type": "markdown",
      "source": [
        "### **Question 6:**"
      ],
      "metadata": {
        "id": "FRAUkFD9T7qA"
      }
    },
    {
      "cell_type": "markdown",
      "source": [
        "**Given a 2D NumPy array data, extract the following subsets:**\n",
        "\n",
        "- The first row.\n",
        "- The last column.\n",
        "- The subarray consisting of the first two rows and the last two columns."
      ],
      "metadata": {
        "id": "52SeOsbTT7sZ"
      }
    },
    {
      "cell_type": "code",
      "source": [
        "data_array = np.arange(9).reshape(3,3)\n",
        "data_array[0]\n",
        "data_array[:,[-1]]\n",
        "\n",
        "subarray = data_array[:2, -2:]\n",
        "\n",
        "print(data_array)\n",
        "print(subarray)\n"
      ],
      "metadata": {
        "id": "JQb-XngHXuK3",
        "colab": {
          "base_uri": "https://localhost:8080/"
        },
        "outputId": "b96a4453-f1c5-4124-ed5d-f30238cd2110"
      },
      "execution_count": null,
      "outputs": [
        {
          "output_type": "stream",
          "name": "stdout",
          "text": [
            "[[0 1 2]\n",
            " [3 4 5]\n",
            " [6 7 8]]\n",
            "[[1 2]\n",
            " [4 5]]\n"
          ]
        }
      ]
    },
    {
      "cell_type": "markdown",
      "source": [
        "\n",
        "\n",
        "---\n",
        "\n",
        "\n",
        "\n",
        "---\n",
        "\n"
      ],
      "metadata": {
        "id": "A-MUs7t7X9M6"
      }
    },
    {
      "cell_type": "markdown",
      "source": [
        "### **Question 7:**"
      ],
      "metadata": {
        "id": "MZlbvvgsX9PP"
      }
    },
    {
      "cell_type": "markdown",
      "source": [
        "**Statistics:** Create a matrix of shape (5,5), find the mean and variance of the values in its 3rd column."
      ],
      "metadata": {
        "id": "rqWn93qTX9RV"
      }
    },
    {
      "cell_type": "code",
      "source": [
        "matrix = np.arange(25).reshape(5,5)\n",
        "\n",
        "mean = matrix[:, 2].mean()\n",
        "var = matrix[:, 2].var()\n",
        "print(f\"The mean of the third column is {mean}, and the variance of the third column is {var}.\")\n"
      ],
      "metadata": {
        "id": "-So6J1QdXyoQ",
        "colab": {
          "base_uri": "https://localhost:8080/"
        },
        "outputId": "3c4e1871-b119-4cd0-9dc3-59d270e6b43a"
      },
      "execution_count": null,
      "outputs": [
        {
          "output_type": "stream",
          "name": "stdout",
          "text": [
            "The mean of the third column is 12.0, and the variance of the third column is 50.0.\n"
          ]
        }
      ]
    },
    {
      "cell_type": "markdown",
      "source": [
        "\n",
        "\n",
        "---\n",
        "\n",
        "\n",
        "\n",
        "---\n",
        "\n",
        "\n",
        "\n",
        "---\n",
        "\n"
      ],
      "metadata": {
        "id": "Nlzix9NCVSVc"
      }
    },
    {
      "cell_type": "markdown",
      "source": [
        "### **Question 8:**"
      ],
      "metadata": {
        "id": "CiK_vk4tVUXL"
      }
    },
    {
      "cell_type": "markdown",
      "source": [
        "**Linear Algebra:** Given a 4x4 matrix, compute its transpose and then find the dot product of the matrix with its transpose."
      ],
      "metadata": {
        "id": "L23uRV1dVehN"
      }
    },
    {
      "cell_type": "code",
      "source": [
        "matrix = np.array([[1, 2, 3, 4],\n",
        "                   [5, 6, 7, 8],\n",
        "                   [9, 10, 11, 12],\n",
        "                   [13, 14, 15, 16]])"
      ],
      "metadata": {
        "id": "DsBPYJT4Xsqx"
      },
      "execution_count": null,
      "outputs": []
    },
    {
      "cell_type": "code",
      "source": [
        "transposed = np.transpose(matrix)\n",
        "dot_pro = np.dot(matrix, transposed)\n",
        "print(dot_pro)\n"
      ],
      "metadata": {
        "id": "eJU7h0AQYYx2",
        "colab": {
          "base_uri": "https://localhost:8080/"
        },
        "outputId": "09d2108c-0797-46aa-800b-a3ca71ddf72e"
      },
      "execution_count": null,
      "outputs": [
        {
          "output_type": "stream",
          "name": "stdout",
          "text": [
            "[[ 30  70 110 150]\n",
            " [ 70 174 278 382]\n",
            " [110 278 446 614]\n",
            " [150 382 614 846]]\n"
          ]
        }
      ]
    },
    {
      "cell_type": "markdown",
      "source": [
        "\n",
        "\n",
        "---\n",
        "\n",
        "\n",
        "\n",
        "---\n",
        "\n"
      ],
      "metadata": {
        "id": "dL0-iqHkVv3f"
      }
    },
    {
      "cell_type": "markdown",
      "source": [
        "### **Question 9:**"
      ],
      "metadata": {
        "id": "ygs9UMtZVx8E"
      }
    },
    {
      "cell_type": "markdown",
      "source": [
        "**Array Operations:** Create two matrices, then Compute the element-wise multiplication of two matrices, then sum the values in each row of the resulting matrix."
      ],
      "metadata": {
        "id": "LnzUKFw4Vx-7"
      }
    },
    {
      "cell_type": "code",
      "source": [
        "mat1 = np.arange(9).reshape(3,3)\n",
        "mat2 = np.arange(9).reshape(3,3)\n",
        "mat3 = mat1*mat2\n",
        "sum = 0\n",
        "row_sum = []\n",
        "\n",
        "rows, cols = mat3.shape\n",
        "for i in range(rows):\n",
        "  for j in range(cols):\n",
        "        sum += mat3[i,j]\n",
        "  row_sum.append(sum)\n",
        "print(mat3)\n",
        "for k, l in enumerate(row_sum):                                                 # For index\n",
        "  print(f\"Row {k+1} has sum: {row_sum[k]}\")\n"
      ],
      "metadata": {
        "id": "9IyD0U-3VmJ3",
        "colab": {
          "base_uri": "https://localhost:8080/"
        },
        "outputId": "0218e6af-493b-4eb3-ac7d-7300f8d36a35"
      },
      "execution_count": null,
      "outputs": [
        {
          "output_type": "stream",
          "name": "stdout",
          "text": [
            "[[ 0  1  4]\n",
            " [ 9 16 25]\n",
            " [36 49 64]]\n",
            "Row 1 has sum: 5\n",
            "Row 2 has sum: 55\n",
            "Row 3 has sum: 204\n"
          ]
        }
      ]
    },
    {
      "cell_type": "markdown",
      "source": [
        "\n",
        "\n",
        "---\n",
        "\n",
        "\n",
        "\n",
        "---\n",
        "\n",
        "\n",
        "\n",
        "---\n",
        "\n"
      ],
      "metadata": {
        "id": "kqxzW_3ZW8b5"
      }
    },
    {
      "cell_type": "markdown",
      "source": [
        "### **Question 10:**"
      ],
      "metadata": {
        "id": "jEg_QL7CW8rw"
      }
    },
    {
      "cell_type": "markdown",
      "source": [
        "**Advanced Array Creation:** Create a 2D array of shape (7,7) where the border consists of ones and the inner part consists of zeros."
      ],
      "metadata": {
        "id": "_s9937cCW9Qv"
      }
    },
    {
      "cell_type": "code",
      "source": [
        "lucky_array = np.zeros((7,7))\n",
        "lucky_array[0] = lucky_array[-1] = lucky_array[:,[-1]] = lucky_array[:,[0]] = 1\n",
        "lucky_array\n"
      ],
      "metadata": {
        "id": "ZEuY35gZXN9d",
        "colab": {
          "base_uri": "https://localhost:8080/"
        },
        "outputId": "55cdc4e9-3a1d-48e3-9ce4-14e51bf4ccb4"
      },
      "execution_count": null,
      "outputs": [
        {
          "output_type": "execute_result",
          "data": {
            "text/plain": [
              "array([[1., 1., 1., 1., 1., 1., 1.],\n",
              "       [1., 0., 0., 0., 0., 0., 1.],\n",
              "       [1., 0., 0., 0., 0., 0., 1.],\n",
              "       [1., 0., 0., 0., 0., 0., 1.],\n",
              "       [1., 0., 0., 0., 0., 0., 1.],\n",
              "       [1., 0., 0., 0., 0., 0., 1.],\n",
              "       [1., 1., 1., 1., 1., 1., 1.]])"
            ]
          },
          "metadata": {},
          "execution_count": 9
        }
      ]
    }
  ]
}