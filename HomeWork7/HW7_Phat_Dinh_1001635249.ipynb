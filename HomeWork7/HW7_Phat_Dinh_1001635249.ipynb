{
  "nbformat": 4,
  "nbformat_minor": 0,
  "metadata": {
    "colab": {
      "provenance": []
    },
    "kernelspec": {
      "name": "python3",
      "display_name": "Python 3"
    },
    "language_info": {
      "name": "python"
    }
  },
  "cells": [
    {
      "cell_type": "markdown",
      "source": [
        "# **Homework 7: Numpy**"
      ],
      "metadata": {
        "id": "0zZlEeZdSGBW"
      }
    },
    {
      "cell_type": "markdown",
      "source": [
        "## **Due date:** November 3rd, at 2:30 PM.\n",
        "\n",
        "## **Submission:** Please push your homework to the our GitHub repository, and place it in the 'Homework 7' folder."
      ],
      "metadata": {
        "id": "MJ7o5DfIZxUH"
      }
    },
    {
      "cell_type": "markdown",
      "source": [
        "\n",
        "\n",
        "---\n",
        "\n",
        "\n",
        "\n",
        "---\n",
        "\n",
        "\n",
        "\n",
        "---\n",
        "\n",
        "\n",
        "\n",
        "---\n",
        "\n"
      ],
      "metadata": {
        "id": "0xb-Hc9SZ3nf"
      }
    },
    {
      "cell_type": "markdown",
      "source": [
        "### **Question 1:**"
      ],
      "metadata": {
        "id": "LAp5txV5SQ7x"
      }
    },
    {
      "cell_type": "markdown",
      "source": [
        "Use NumPy to solve the following system of linear equations:"
      ],
      "metadata": {
        "id": "MzNamLiQSO21"
      }
    },
    {
      "cell_type": "code",
      "execution_count": null,
      "metadata": {
        "id": "Tx8KbjfvRs9k"
      },
      "outputs": [],
      "source": [
        "3x+ 2y- z= 1\n",
        "\n",
        "2x+ 2y+ 4z= -2\n",
        "\n",
        "-x+ 1/2y- z= 0\n"
      ]
    },
    {
      "cell_type": "code",
      "source": [
        "import numpy as np\n",
        "\n",
        "a=np.array([[3,2,-1],[2,2,4],[-1,1/2,-1]])\n",
        "b=np.array([1,-2,0])\n",
        "\n",
        "solution=np.linalg.solve(a,b)\n",
        "print(solution)\n",
        "\n",
        "\n",
        "\n",
        "\n",
        "\n",
        "\n",
        "\n",
        "\n",
        "\n"
      ],
      "metadata": {
        "id": "wSITtqqeSX0K",
        "colab": {
          "base_uri": "https://localhost:8080/"
        },
        "outputId": "2a3eb067-7985-4f1f-cd45-46cabaea5891"
      },
      "execution_count": 3,
      "outputs": [
        {
          "output_type": "stream",
          "name": "stdout",
          "text": [
            "[ 0.36842105 -0.31578947 -0.52631579]\n"
          ]
        }
      ]
    },
    {
      "cell_type": "markdown",
      "source": [
        "\n",
        "\n",
        "---\n",
        "\n",
        "\n",
        "\n",
        "---\n",
        "\n"
      ],
      "metadata": {
        "id": "XYAG29lDSeTD"
      }
    },
    {
      "cell_type": "markdown",
      "source": [
        "### **Question 2:**"
      ],
      "metadata": {
        "id": "TaqiI1-eSeVq"
      }
    },
    {
      "cell_type": "markdown",
      "source": [
        "Generate an array of 1000 random numbers sampled from a standard normal distribution, then visualize it."
      ],
      "metadata": {
        "id": "Aldzq_A1Se6Z"
      }
    },
    {
      "cell_type": "code",
      "source": [
        "c=np.random.normal(size=1000)\n",
        "print(c)\n",
        "\n",
        "import matplotlib.pyplot as plt\n",
        "plt.hist(c)\n",
        "\n",
        "\n",
        "\n",
        "\n",
        "\n",
        "\n",
        "\n",
        "\n",
        "\n",
        "\n",
        "\n"
      ],
      "metadata": {
        "id": "wyEId-OXSaxz",
        "colab": {
          "base_uri": "https://localhost:8080/",
          "height": 1000
        },
        "outputId": "c6918188-659b-4790-930d-91c5bd722d77"
      },
      "execution_count": 15,
      "outputs": [
        {
          "output_type": "stream",
          "name": "stdout",
          "text": [
            "[-1.31107451e+00 -6.72620946e-01  1.03500738e-01 -9.48689974e-01\n",
            "  2.32103740e-01  5.51675985e-01  2.65460696e-01  1.50352811e-01\n",
            "  8.32807549e-01  2.04580075e+00  3.77881702e-01 -3.09425340e-01\n",
            "  7.52266370e-01 -1.03237118e-01 -8.22253725e-01  3.58850103e-03\n",
            " -2.08563709e+00  1.22012657e+00 -5.00875504e-01 -2.42193963e-01\n",
            " -1.34436501e-02 -1.13953583e+00 -2.14504968e-02  2.67802545e-01\n",
            "  1.33303730e+00  5.71990849e-01  7.47549230e-01  1.28701074e-01\n",
            "  6.92900166e-01 -6.26789976e-02  4.57687689e-02 -1.23638770e+00\n",
            " -2.94614505e-01  7.12123614e-01  2.74289854e-01 -2.01082308e+00\n",
            "  1.09436825e+00  8.27813877e-01 -2.47914446e-01  4.33583156e-01\n",
            " -9.46071554e-01 -5.16206168e-01 -1.98833646e+00  1.12880299e+00\n",
            "  1.06461504e+00  4.86243905e-01  9.45755711e-01 -1.29235968e+00\n",
            " -1.02751295e+00 -3.42470721e-01 -1.01474314e+00 -5.83032609e-01\n",
            " -2.15013243e-01  1.00170894e+00  1.08746956e+00 -1.77529021e+00\n",
            "  3.43924171e-01 -1.02618901e+00  2.02147172e-01  1.20434167e+00\n",
            " -2.79177172e-01 -1.89717357e+00  6.10804353e-01 -1.18453921e+00\n",
            " -2.93300287e+00 -1.42574050e+00  3.55745917e-01 -1.49705820e+00\n",
            " -6.78768390e-01  8.66135956e-01 -1.79170734e+00  1.31312082e-02\n",
            " -5.34880725e-01 -1.26459058e+00  3.61267919e+00 -3.72426616e-01\n",
            "  7.29401509e-01  5.63439039e-01 -8.26409458e-01  2.58068428e-01\n",
            " -1.46188490e+00  7.37809885e-02 -2.94740881e-01 -1.31199912e+00\n",
            "  4.56898259e-01  3.02266312e-01  8.68822581e-01 -4.78513840e-01\n",
            "  2.84122948e-01  1.01987772e+00 -3.66080167e-01 -1.09506703e-01\n",
            " -1.95673189e+00  5.43380846e-01  5.92368206e-01 -1.00701832e+00\n",
            " -6.28473986e-01  6.90406320e-01  8.73864808e-01  8.87420155e-03\n",
            "  6.75718978e-01 -9.72108701e-01  4.86927161e-01  2.08608058e-01\n",
            "  4.80246890e-01  1.22164830e+00 -1.51187123e+00 -2.61661482e-01\n",
            " -6.77871237e-01  2.50576382e-01  8.62303350e-01 -2.01695718e+00\n",
            "  2.85409762e-01  7.19609916e-01  1.61555494e+00  9.13205491e-01\n",
            " -1.05122708e+00 -2.63517337e+00  3.95362227e-02 -4.67678885e-01\n",
            "  1.94224914e-01  1.13977604e+00 -3.95454235e-01 -5.67698398e-01\n",
            " -1.01257875e+00 -1.31097874e+00 -7.61777307e-01  1.79622937e+00\n",
            "  1.33484462e+00 -3.42544330e-01  2.59652036e+00  9.70271968e-01\n",
            " -1.75673899e-01  8.78824524e-01  1.76014409e+00 -1.31022591e+00\n",
            " -1.66772067e+00  5.71444433e-01 -1.28628204e+00  4.60306439e-01\n",
            " -1.28981436e+00  3.22509709e-01  1.61682942e+00 -3.10778054e-01\n",
            " -3.29709121e-02 -6.33346636e-01 -2.17011354e-01  8.69804303e-01\n",
            "  5.83071122e-01  1.11147557e+00  6.12157117e-01 -1.15386151e+00\n",
            " -3.83405662e-01 -1.07454824e+00  5.63207683e-02  4.12008525e-01\n",
            "  4.94950052e-01  8.48293516e-01  9.33951158e-01  1.10571504e-02\n",
            "  7.36184926e-01 -2.90926105e-01 -3.49217984e-01 -2.00709178e-01\n",
            "  1.59120285e+00 -1.69276780e+00 -1.13475420e+00 -6.59931954e-01\n",
            "  1.45259865e-01 -5.84601249e-01 -1.98689339e-01  3.89108322e-02\n",
            " -5.81707955e-01  1.23659535e+00 -2.34539963e+00 -4.38309969e-01\n",
            "  8.57521262e-01 -2.32323138e-01  7.23086063e-01  7.53416242e-01\n",
            "  1.29563454e+00  4.29558997e-01 -1.53961712e+00 -6.11229750e-01\n",
            " -2.13381340e-01 -8.68741926e-01  4.29221585e-01  3.20510482e+00\n",
            " -2.08662129e+00  4.56283025e-01  3.13632409e-01  1.53646545e+00\n",
            " -9.18377188e-02  7.11721794e-01  7.20630659e-01 -1.07807168e+00\n",
            "  2.57483334e-01 -6.62020924e-01 -3.78905854e-01 -8.69299289e-01\n",
            "  5.21918799e-02 -1.29083865e+00  6.65639800e-01 -5.38629945e-01\n",
            "  9.53572815e-02 -5.85107456e-02 -1.07277328e+00 -6.03560631e-01\n",
            "  2.03230135e-02 -7.13055122e-01 -1.21482034e+00 -4.91662069e-02\n",
            "  2.29035000e+00 -8.57177523e-02  9.70007136e-01  8.39696362e-01\n",
            " -4.37722888e-01  2.33886273e+00  6.26061910e-01 -6.72959213e-01\n",
            " -6.57253504e-01 -4.21323551e-01 -4.65782879e-01  5.32723149e-01\n",
            "  8.47674172e-01  4.68238171e-01 -9.16500081e-01 -7.79889390e-01\n",
            "  2.70308267e-01  7.10646304e-01 -1.51770400e-01  1.21099532e+00\n",
            "  1.22012385e+00 -1.44270448e+00  4.70655819e-01 -8.38648038e-01\n",
            "  6.38869401e-01 -1.34454930e+00 -2.08604048e+00  1.00729861e+00\n",
            "  1.75675052e-01  1.05932236e+00 -3.84080931e-01 -1.07664116e+00\n",
            "  2.40204848e-01  4.52426125e-01  2.15771910e-01  1.53842584e-01\n",
            "  1.21447763e+00  1.35565193e+00 -1.09643051e+00  4.72893767e-01\n",
            " -1.19831240e-01 -2.45374972e+00 -9.30702946e-01 -7.95501426e-01\n",
            " -5.61012259e-01  1.72046702e+00  1.45253204e+00  6.59763019e-01\n",
            "  8.16531790e-02  4.18450617e-01  1.14458209e+00 -3.33698562e+00\n",
            "  6.85941627e-01  1.70707590e-01 -7.25291803e-01  2.16240108e+00\n",
            "  2.93712550e-01 -7.10669078e-01  3.62113529e-01  3.25599372e-01\n",
            " -1.47665079e+00 -1.31459682e+00 -6.69964536e-01 -1.13230997e+00\n",
            " -1.82885532e+00  1.48373303e-01 -5.18515743e-01 -1.06091914e-01\n",
            " -1.73714206e+00  1.01618194e+00  5.68691171e-02 -9.34201333e-01\n",
            "  9.10574703e-01 -1.75503311e-01  3.41840973e-01  1.90264593e+00\n",
            "  4.93439840e-01  5.61696713e-01  3.00242818e+00 -5.77977566e-01\n",
            "  3.39984323e-01 -2.69716562e-01  9.40632393e-01 -1.86324857e+00\n",
            "  1.15534997e+00 -2.45880779e-01 -1.89316596e+00  1.10685164e+00\n",
            " -1.79524824e-01 -1.78109912e+00  9.24364408e-01  4.79853188e-01\n",
            "  1.36416463e+00  2.40669366e-01 -2.19128283e-01  9.62003603e-01\n",
            " -1.12180268e+00 -1.72057913e-01 -1.40029957e+00 -8.67929592e-01\n",
            "  1.30957577e+00  2.66978873e-01 -4.43188275e-01 -2.35658185e-01\n",
            "  9.08593105e-02  1.23757108e+00  1.39865703e+00 -8.07749192e-02\n",
            "  1.12812081e+00 -7.69975662e-01  3.87504935e-01 -4.53838369e-01\n",
            "  6.68027730e-01  1.16238418e+00 -1.50081015e-01 -6.68517023e-01\n",
            "  7.41533779e-01 -2.68247860e-02  5.92912126e-01 -4.25616662e-01\n",
            "  1.09442207e+00  3.45261522e-01  5.38284223e-01 -8.75238176e-01\n",
            " -3.97136509e-01 -3.17750334e+00 -3.40599720e-01 -1.47855319e+00\n",
            " -1.05300975e-01  5.06254585e-01  4.06917888e-01 -4.70509189e-01\n",
            "  1.30413390e-02  9.07870518e-01  2.36416218e-01  6.01430971e-01\n",
            " -3.64755015e-02  1.47149062e+00 -2.02630626e+00 -4.90251476e-01\n",
            " -3.59335770e-01  1.44062221e+00  3.13401504e-01  2.71757188e-01\n",
            "  6.17553557e-01 -7.85184409e-01  7.68573068e-01  6.53210600e-01\n",
            "  6.42891809e-01 -8.21840414e-01  1.35934789e+00  1.47601977e-01\n",
            " -2.14050711e+00  8.40367386e-02  4.32197819e-01  1.50860655e-01\n",
            " -1.68818952e+00  9.72918129e-01 -4.04859339e-01  2.42651181e-01\n",
            "  1.33053107e+00 -1.16698121e+00 -2.87832339e-01  2.10016281e+00\n",
            "  1.28567728e+00 -4.68658544e-01  1.50119964e+00 -4.71340702e-01\n",
            " -1.96069088e-01 -1.39534111e-01 -7.31668249e-02  3.34180593e-02\n",
            " -1.63005364e+00 -9.38325387e-01  3.81562821e-01 -1.21508186e+00\n",
            "  9.16178919e-02 -1.11758573e+00 -4.84171374e-01  1.73221639e-01\n",
            "  1.20419271e-01 -4.85277939e-01 -7.09487204e-01  6.37343684e-01\n",
            "  4.78708101e-02  1.02304051e+00  5.22278204e-01 -6.33684096e-01\n",
            "  1.89413100e-01 -4.96622031e-01  1.67428998e+00  1.01866271e-01\n",
            " -2.06792506e+00  3.63826215e-01  2.51835220e-01 -7.00600762e-01\n",
            " -3.31724418e-01 -9.55539207e-01  3.68057901e-01 -2.14899410e+00\n",
            "  1.24288267e+00 -3.16755087e-01 -8.36194786e-01  1.40249811e-01\n",
            "  1.56005919e-01 -4.54694307e-01  2.75254596e-01 -7.07678103e-01\n",
            " -2.41371781e-01 -1.93273764e+00  8.70919516e-01 -8.77555620e-01\n",
            " -7.01806129e-01 -2.44867724e-01 -1.02519030e+00  3.76962677e-01\n",
            "  2.01427383e-01  4.01012095e-01 -4.41331211e-01  1.44693456e-01\n",
            " -2.68742144e+00  4.52266891e-01 -1.36326939e-01  4.05113500e-03\n",
            "  2.43120874e-01 -8.11720336e-01  1.25512758e+00 -1.34887365e+00\n",
            "  1.58351437e-01  5.37423448e-01 -1.08618338e+00 -3.02858855e-02\n",
            "  2.71447964e-01 -2.58281246e-01 -1.66208592e-02 -3.53484045e-02\n",
            "  1.69640463e+00 -3.02229053e-01 -6.92462961e-01 -1.60214404e+00\n",
            " -1.38364109e-01  7.75511633e-01 -6.77030921e-01  2.97157566e-01\n",
            " -7.28479697e-02 -5.21052972e-01 -5.94585064e-01  6.40161466e-01\n",
            " -5.03262696e-01 -6.41264824e-01  3.97347034e-01  3.53387978e-01\n",
            " -1.49439138e+00 -4.21475164e-01 -1.09393225e+00  9.21963428e-01\n",
            "  1.30173690e+00 -2.66632444e+00 -6.99500798e-01 -1.62066842e+00\n",
            "  1.39956401e-01 -1.75647574e-01  3.97722396e-01  4.01379336e-01\n",
            " -1.20332164e+00  3.03052491e-01 -4.53854190e-01 -3.90981168e-01\n",
            " -2.15477936e-01 -1.40356866e+00  8.45049753e-01  1.35103370e+00\n",
            "  9.80038503e-01  4.53819503e-01 -3.76259438e-01 -1.47570605e+00\n",
            " -2.59497103e+00 -8.38437996e-01 -1.52872869e+00  7.25848036e-01\n",
            " -6.29261553e-01  1.38220934e+00 -1.60114673e+00 -6.57639805e-01\n",
            " -1.20593101e-01 -7.71714824e-01  1.45321637e+00  2.19270516e+00\n",
            "  5.17053579e-01  8.28921041e-01 -8.92429862e-01 -3.28597360e-01\n",
            " -5.45892666e-01 -6.74019452e-01  6.56137346e-01 -2.22767708e-01\n",
            "  1.07031965e+00  9.56949524e-01 -1.50401243e+00  1.05592803e+00\n",
            "  6.31381400e-01  9.41221146e-01  4.17825395e-01  1.64622961e+00\n",
            "  1.05204560e+00  1.23563368e+00  1.11348583e+00  4.36705769e-01\n",
            "  1.71493118e-01  1.15258606e+00 -8.33131892e-01  9.67457127e-01\n",
            "  1.68391710e-01 -7.76332240e-01  1.31626337e-01  9.16506998e-01\n",
            "  1.86364754e-01 -1.74749961e-01  7.19385371e-01  1.37226987e-01\n",
            " -1.42387553e+00 -4.60692706e-01 -2.12876064e-01 -9.76668228e-01\n",
            "  1.00379860e-02 -6.40626171e-01  2.16545149e-01 -2.08594463e+00\n",
            " -3.52632129e-01 -1.09322010e+00 -7.21008588e-01 -1.32407104e-01\n",
            "  1.32907712e+00  1.35512662e+00 -7.45898414e-01  8.97919499e-01\n",
            "  1.41308653e-01 -3.41714522e-01 -2.01366456e+00  1.82199000e+00\n",
            "  1.61351735e+00  6.92937554e-01  3.92264324e-01  5.04298822e-01\n",
            "  1.55183912e-01  6.48178724e-01 -6.51853572e-01  6.10001554e-01\n",
            " -2.72723589e-01 -1.39385607e-01 -1.31808747e-01 -2.49812575e-02\n",
            "  2.16065447e-01  4.44914622e-01 -5.82235865e-01  7.58920376e-01\n",
            "  7.39103276e-02 -1.76579093e-01  4.37633640e-01 -1.24835488e+00\n",
            "  1.08137130e+00  8.83884549e-01 -1.67491003e+00  2.94482113e-02\n",
            " -1.14622140e+00 -1.15055673e+00 -1.58753855e+00  1.03686019e+00\n",
            "  1.31598568e+00 -3.94624541e-01  1.03750755e+00  3.84368010e-01\n",
            "  4.18454971e-01 -2.05036124e+00  7.86983958e-01 -9.70629838e-01\n",
            "  2.06535638e-01 -2.22168318e-02  1.38286766e+00  1.79659719e+00\n",
            " -1.39000474e+00  1.55000636e+00  7.92006632e-01  4.45181019e-01\n",
            " -8.46252065e-01 -4.51221503e-02  6.37502564e-01 -8.35292122e-01\n",
            " -1.89584813e+00  9.82949732e-01 -1.32778792e+00 -1.90290907e+00\n",
            "  2.37411874e-01 -6.32698787e-01  4.97339003e-01  9.10035183e-02\n",
            " -1.04160748e+00 -7.45374654e-01 -6.29952851e-03 -3.08439706e+00\n",
            "  7.83292524e-02  1.06401456e-01 -9.46667327e-01 -2.58871186e-01\n",
            " -1.23818414e-01 -6.16594965e-02 -4.89098455e-01 -1.57012193e-01\n",
            "  9.43405903e-01  1.00977329e+00 -8.99312493e-02 -5.32735452e-01\n",
            " -1.82733335e+00  7.35947705e-01 -1.31196886e+00 -2.72609494e-01\n",
            " -1.36971181e-01 -1.47416197e-01  6.97286077e-01 -7.30281225e-01\n",
            "  4.88605423e-01  1.23261534e+00 -4.14160651e-02  1.28651422e-01\n",
            "  1.47318529e+00  1.90459547e+00  1.33876689e-01  2.67439405e-01\n",
            "  1.66526051e-01 -5.68360022e-01 -3.39728572e-01  2.30161045e+00\n",
            "  1.35374015e+00  4.44120935e-02 -2.99365580e-01  1.40020072e-01\n",
            " -9.18455541e-02 -6.01349345e-02 -5.73546533e-01  1.72242968e+00\n",
            "  9.70146047e-01  2.43511844e+00  7.34815167e-01 -1.52903505e+00\n",
            "  5.15943761e-01  7.85994832e-01  1.28438941e+00 -3.07560364e-01\n",
            "  1.67456771e+00 -9.26343886e-01 -4.74042350e-01  7.20645371e-02\n",
            "  5.45938834e-01 -1.13659193e+00  1.58876170e+00  1.30986003e+00\n",
            " -1.27518488e+00 -1.30318530e+00  1.90473865e-01 -5.13138785e-01\n",
            "  9.24910938e-01 -6.27320797e-01  4.44735378e-01 -3.21352970e-01\n",
            "  8.86220637e-01  2.60168188e-01  8.33989537e-01 -4.85181351e-01\n",
            "  5.74094042e-01 -1.43488205e-01  2.11602179e-01  6.17358611e-01\n",
            "  9.24737512e-01 -3.27396051e-01  9.80903551e-01 -7.84987451e-02\n",
            " -8.69821824e-01 -1.28024113e-01 -6.48596778e-02  1.71777308e+00\n",
            " -7.94855362e-01  5.02238915e-01 -2.90117779e+00 -4.27382630e-01\n",
            "  3.42064540e-01  2.50838220e-01 -1.89321051e-02 -1.10934124e+00\n",
            "  9.72204306e-01  1.75889065e+00 -6.66846481e-01  4.55650983e-02\n",
            " -9.21877472e-02 -3.66652952e-01  5.55637141e-01  1.73027139e+00\n",
            " -1.23001620e+00 -7.57405687e-01  6.17244988e-01  4.43148948e-01\n",
            "  2.74512586e+00 -9.40729890e-01 -1.20823734e+00  1.00402479e+00\n",
            " -6.50933663e-01  5.49636603e-01 -1.74623627e+00 -2.86607619e-01\n",
            " -4.00016939e-04  4.78186679e-01  5.33141474e-01  1.39270350e-01\n",
            " -3.77845205e-01 -1.75762173e+00 -2.38637296e-01 -9.98111054e-01\n",
            " -4.60754777e-01  1.32629034e+00  1.35207887e+00  8.01707569e-01\n",
            "  3.95721897e-01 -4.96039215e-01  2.13919471e-01 -2.08139855e-02\n",
            " -6.13498942e-01 -1.96320001e+00  8.90003378e-02  5.07201837e-01\n",
            "  2.84377312e-01  1.04988143e+00 -4.44392907e-01 -1.47164778e+00\n",
            " -1.05380232e+00  1.86793607e+00  1.38744686e-01 -1.36136603e-01\n",
            "  1.06895798e+00  8.51742215e-01  9.51046153e-01  4.78295209e-01\n",
            "  5.02032070e-01 -2.04189238e+00 -1.93594265e-01  9.09626677e-01\n",
            "  3.45424870e-01 -1.48614410e+00 -5.60806376e-01  1.96015952e+00\n",
            " -2.02715704e-01  1.17526788e-01  8.56124521e-01 -7.55957772e-01\n",
            " -2.21811043e-01 -9.76708215e-01 -1.33628159e+00  2.07018679e+00\n",
            " -1.15037658e-02 -9.27568004e-01 -2.47953856e+00  1.34677401e+00\n",
            " -6.29147197e-01  1.15347518e+00 -6.26834189e-01  4.37501541e-01\n",
            " -2.48359653e+00  4.02064465e-01  1.79495494e+00 -1.59278711e+00\n",
            " -1.09274821e+00 -1.58477862e-01 -9.97476541e-01 -8.98892636e-01\n",
            "  4.17264819e-01  9.04458117e-01 -2.11548814e+00 -1.19181551e+00\n",
            " -1.98966022e-01  6.33957477e-01  1.36970499e-01  1.48942399e+00\n",
            " -4.48456224e-01  2.29347603e+00  6.87165846e-01 -8.02392046e-01\n",
            "  4.33970369e-01  3.26371647e-01 -1.81484050e+00  7.44194099e-01\n",
            "  1.62385192e+00  1.13825371e+00 -5.85385478e-01  1.23124172e+00\n",
            " -3.91494989e-01  1.21783365e-01  6.47669198e-01  4.29831721e-03\n",
            "  3.90769957e-01 -3.58382915e-01  1.81048716e+00  1.29562510e+00\n",
            "  6.66290588e-01  1.37784240e+00 -1.29076830e+00  1.40855205e+00\n",
            " -5.27678655e-01 -1.12812881e+00 -2.35498130e-02 -3.35067028e-01\n",
            " -2.05936725e+00  4.64337321e-01  8.33819409e-01 -1.59344831e+00\n",
            " -2.97859830e-01 -3.88547944e-01  2.00481234e-01 -5.57256080e-01\n",
            " -6.25024909e-01  9.34972423e-01  2.05374909e+00 -6.45824923e-01\n",
            "  4.40893372e-01 -2.86676939e+00  1.66400232e+00  7.36866949e-01\n",
            " -7.04290935e-01  3.96919132e-01 -7.34188884e-01  3.61991578e-01\n",
            " -6.63521919e-03  8.29128797e-01 -6.66933896e-01  4.00871547e-02\n",
            " -1.00199494e+00  4.32972334e-01  1.84534930e-02 -3.42941556e-01\n",
            "  1.64845713e-01  9.15130718e-01 -5.36801288e-01 -1.45619141e-01\n",
            "  2.66951848e-01  6.23708201e-01  7.74827343e-01 -6.54813451e-01\n",
            "  3.12402099e-01 -1.42223467e+00 -2.98156132e+00  5.27808572e-01\n",
            " -6.70817718e-01 -1.82604626e-01  3.90207670e-01 -1.06478701e+00\n",
            " -1.90103813e+00  1.30757584e+00 -1.66528854e+00  1.12156707e+00\n",
            "  1.74395139e+00 -1.75346511e+00  1.04283770e+00  2.01857628e+00\n",
            "  4.47496628e-01  2.72852857e-01 -4.94504326e-01  6.59513075e-01\n",
            " -5.36103471e-01 -2.34214258e-01  2.92811825e-01  1.10593256e+00\n",
            " -1.02577124e+00 -1.08295612e-01  1.28194634e+00 -2.04725714e-01\n",
            " -8.11224344e-01  1.08224555e+00  7.84246264e-01  3.24853894e-01\n",
            "  5.84754716e-01  2.40174404e+00 -6.70550671e-01 -7.03176667e-02\n",
            "  7.52968734e-01  4.95431104e-01  1.69265456e+00 -2.81335794e-01\n",
            "  1.11355268e+00  5.94768862e-02 -4.47842886e-01 -3.78147047e-01\n",
            " -2.56424818e-01  4.12920394e-01  2.99928195e-01  3.28458137e-01\n",
            "  6.06822785e-01  4.46009430e-01  1.00477621e-01  1.50813972e+00\n",
            "  5.20726934e-02  5.68092867e-01 -4.83997171e-01  9.11998429e-01\n",
            "  5.67737590e-01  4.50592206e-01  1.89345227e+00  1.51148537e+00\n",
            "  3.22918332e-01  9.49367356e-01  1.72602382e+00  1.53302470e+00\n",
            " -2.41123658e+00  1.06100336e-01  1.22173900e-01 -5.71952400e-01\n",
            "  1.04605519e+00  1.33116338e+00  1.26991209e+00  3.16228441e-01\n",
            "  4.10825870e-01 -1.36089436e+00 -7.50072855e-01 -4.92083850e-01\n",
            "  1.26858946e+00 -1.34050472e+00  2.51031899e+00 -1.96351414e+00\n",
            " -5.49200151e-01 -3.07801443e-01  1.15136219e+00  1.96572496e-01\n",
            " -2.50034513e-01  1.96089283e+00 -5.63771563e-02 -3.33603460e-02\n",
            "  1.27356678e+00 -2.80535364e+00 -7.70345026e-01 -1.36098885e+00\n",
            " -5.73444434e-01  9.26332303e-01  9.25187794e-01  3.10669739e-01\n",
            "  3.91751114e-01  2.43327842e+00  5.43968468e-01  6.42171653e-01\n",
            " -3.43154822e-01  8.82366802e-01 -6.11952362e-01 -2.22039478e+00\n",
            " -3.22294909e-01 -3.05331137e+00  4.84317578e-01  7.80426185e-01\n",
            " -9.66604524e-01  1.11301697e+00 -8.93253561e-01  2.32252048e+00\n",
            "  1.98955568e+00 -9.72445922e-01 -7.49179639e-03  2.09998482e-01\n",
            " -2.01774180e-01 -4.06554890e-01  3.59963148e-01  4.22638461e-01\n",
            "  1.35244171e+00  2.73842973e-01 -2.63058338e-01 -3.43241105e-01\n",
            " -1.74436881e+00 -9.38510338e-01 -8.81536836e-01 -1.32580690e+00\n",
            "  3.24327960e-01  1.06345578e+00  9.56190712e-02  1.02519132e+00\n",
            "  2.71420739e-01 -5.68837051e-01  4.77663866e-01  1.06292824e+00\n",
            "  1.15193858e+00  9.10038515e-01 -4.10175879e-01 -6.46518161e-02\n",
            " -1.14697253e-01  2.71146173e-01  1.62343763e+00 -1.86525273e-01]\n"
          ]
        },
        {
          "output_type": "execute_result",
          "data": {
            "text/plain": [
              "(array([ 11.,  27.,  72., 162., 256., 262., 153.,  43.,  11.,   3.]),\n",
              " array([-3.33698562, -2.64201914, -1.94705266, -1.25208618, -0.5571197 ,\n",
              "         0.13784679,  0.83281327,  1.52777975,  2.22274623,  2.91771271,\n",
              "         3.61267919]),\n",
              " <BarContainer object of 10 artists>)"
            ]
          },
          "metadata": {},
          "execution_count": 15
        },
        {
          "output_type": "display_data",
          "data": {
            "text/plain": [
              "<Figure size 640x480 with 1 Axes>"
            ],
            "image/png": "[encoded data removed]"
          },
          "metadata": {}
        }
      ]
    },
    {
      "cell_type": "markdown",
      "source": [
        "\n",
        "\n",
        "---\n",
        "\n",
        "\n",
        "\n",
        "---\n",
        "\n"
      ],
      "metadata": {
        "id": "5gNSvLW7S41q"
      }
    },
    {
      "cell_type": "markdown",
      "source": [
        "### **Question 3:**"
      ],
      "metadata": {
        "id": "ZH3t6bWSS44Q"
      }
    },
    {
      "cell_type": "markdown",
      "source": [
        "Calculate the dot product of the following two vectors using NumPy:"
      ],
      "metadata": {
        "id": "0kqKrtKDS-Vw"
      }
    },
    {
      "cell_type": "code",
      "source": [
        "A = [2, 3, 4]\n",
        "B = [5, 6, 7]"
      ],
      "metadata": {
        "id": "1bpcoSo7S7F_"
      },
      "execution_count": 19,
      "outputs": []
    },
    {
      "cell_type": "code",
      "source": [
        "a=np.array([2,3,4])\n",
        "b=np.array([5,6,7])\n",
        "\n",
        "c=np.dot(a,b)\n",
        "c\n",
        "\n",
        "\n",
        "\n",
        "\n",
        "\n",
        "\n",
        "\n"
      ],
      "metadata": {
        "id": "ufkWofy2TCAT",
        "colab": {
          "base_uri": "https://localhost:8080/"
        },
        "outputId": "d3f523f3-dace-4648-ae32-05faa3977c2a"
      },
      "execution_count": 22,
      "outputs": [
        {
          "output_type": "execute_result",
          "data": {
            "text/plain": [
              "56"
            ]
          },
          "metadata": {},
          "execution_count": 22
        }
      ]
    },
    {
      "cell_type": "markdown",
      "source": [
        "\n",
        "\n",
        "---\n",
        "\n",
        "\n",
        "\n",
        "---\n",
        "\n"
      ],
      "metadata": {
        "id": "RmGc6wRuTKn2"
      }
    },
    {
      "cell_type": "markdown",
      "source": [
        "### **Question 4:**"
      ],
      "metadata": {
        "id": "KxNuMC2CTKsA"
      }
    },
    {
      "cell_type": "markdown",
      "source": [
        "**Random Numbers:**: Generate a 1D array of 20 random integers between 10 and 50. Find out how many of them are even."
      ],
      "metadata": {
        "id": "MWbDMbrOTKvJ"
      }
    },
    {
      "cell_type": "code",
      "source": [
        "count=0\n",
        "\n",
        "for i in range(20):\n",
        "  a=np.random.randint(10,50)\n",
        "  print(a)\n",
        "  if a%2==0:\n",
        "    count+=1\n",
        "\n",
        "print(f\"Even: {count}\")\n",
        "\n",
        "\n",
        "\n",
        "\n",
        "\n",
        "\n",
        "\n"
      ],
      "metadata": {
        "id": "GYB7vYXpTUaV",
        "colab": {
          "base_uri": "https://localhost:8080/"
        },
        "outputId": "57b28b8b-865a-4dec-8412-d39434fc253d"
      },
      "execution_count": 55,
      "outputs": [
        {
          "output_type": "stream",
          "name": "stdout",
          "text": [
            "19\n",
            "19\n",
            "19\n",
            "31\n",
            "33\n",
            "48\n",
            "37\n",
            "49\n",
            "42\n",
            "29\n",
            "34\n",
            "25\n",
            "46\n",
            "22\n",
            "31\n",
            "38\n",
            "16\n",
            "32\n",
            "36\n",
            "13\n",
            "Even: 9\n"
          ]
        }
      ]
    },
    {
      "cell_type": "markdown",
      "source": [
        "\n",
        "\n",
        "---\n",
        "\n",
        "\n",
        "\n",
        "---\n",
        "\n"
      ],
      "metadata": {
        "id": "5S5fZCFhTZQt"
      }
    },
    {
      "cell_type": "markdown",
      "source": [
        "### **Question 5:**"
      ],
      "metadata": {
        "id": "dV5FRmKETZU7"
      }
    },
    {
      "cell_type": "markdown",
      "source": [
        "**Data Manipulation:** Consider an array of dimension (8,8). Swap the first and last columns."
      ],
      "metadata": {
        "id": "L2nisglFTZZT"
      }
    },
    {
      "cell_type": "code",
      "source": [
        "a=np.array(range(1,65)).reshape(8,8)\n",
        "print(a)\n",
        "\n",
        "a[:,[7,0]]=a[:,[0,7]]\n",
        "print(a)\n",
        "\n",
        "\n",
        "\n",
        "\n",
        "\n",
        "\n",
        "\n",
        "\n",
        "\n",
        "\n"
      ],
      "metadata": {
        "id": "S9rg9roST0Fj",
        "colab": {
          "base_uri": "https://localhost:8080/"
        },
        "outputId": "867b64c8-c13c-4cee-8b86-a234ecad4125"
      },
      "execution_count": 65,
      "outputs": [
        {
          "output_type": "stream",
          "name": "stdout",
          "text": [
            "[[ 1  2  3  4  5  6  7  8]\n",
            " [ 9 10 11 12 13 14 15 16]\n",
            " [17 18 19 20 21 22 23 24]\n",
            " [25 26 27 28 29 30 31 32]\n",
            " [33 34 35 36 37 38 39 40]\n",
            " [41 42 43 44 45 46 47 48]\n",
            " [49 50 51 52 53 54 55 56]\n",
            " [57 58 59 60 61 62 63 64]]\n",
            "[[ 8  2  3  4  5  6  7  1]\n",
            " [16 10 11 12 13 14 15  9]\n",
            " [24 18 19 20 21 22 23 17]\n",
            " [32 26 27 28 29 30 31 25]\n",
            " [40 34 35 36 37 38 39 33]\n",
            " [48 42 43 44 45 46 47 41]\n",
            " [56 50 51 52 53 54 55 49]\n",
            " [64 58 59 60 61 62 63 57]]\n"
          ]
        }
      ]
    },
    {
      "cell_type": "markdown",
      "source": [
        "\n",
        "\n",
        "---\n",
        "\n",
        "\n",
        "\n",
        "---\n",
        "\n"
      ],
      "metadata": {
        "id": "AOa_G4ztT7nb"
      }
    },
    {
      "cell_type": "markdown",
      "source": [
        "### **Question 6:**"
      ],
      "metadata": {
        "id": "FRAUkFD9T7qA"
      }
    },
    {
      "cell_type": "markdown",
      "source": [
        "**Given a 2D NumPy array data, extract the following subsets:**\n",
        "\n",
        "- The first row.\n",
        "- The last column.\n",
        "- The subarray consisting of the first two rows and the last two columns."
      ],
      "metadata": {
        "id": "52SeOsbTT7sZ"
      }
    },
    {
      "cell_type": "code",
      "source": [
        "a=np.array([[1,2,3],[3,4,5],[5,6,7]])\n",
        "print(a)\n",
        "\n",
        "b=a[0]\n",
        "print(f\"First row: {b}\")\n",
        "\n",
        "c=a[:,2]\n",
        "print(f\"Last column: {c}\")\n",
        "\n",
        "d=a[:2,-2:]\n",
        "print(f\"Subarray: {d}\")\n",
        "\n",
        "\n",
        "\n",
        "\n",
        "\n",
        "\n",
        "\n",
        "\n",
        "\n"
      ],
      "metadata": {
        "id": "JQb-XngHXuK3",
        "colab": {
          "base_uri": "https://localhost:8080/"
        },
        "outputId": "b22dc4dd-a1c4-49f7-ab6d-214003ce6ced"
      },
      "execution_count": 90,
      "outputs": [
        {
          "output_type": "stream",
          "name": "stdout",
          "text": [
            "[[1 2 3]\n",
            " [3 4 5]\n",
            " [5 6 7]]\n",
            "First row: [1 2 3]\n",
            "Last column: [3 5 7]\n",
            "Subarray: [[2 3]\n",
            " [4 5]]\n"
          ]
        }
      ]
    },
    {
      "cell_type": "markdown",
      "source": [
        "\n",
        "\n",
        "---\n",
        "\n",
        "\n",
        "\n",
        "---\n",
        "\n"
      ],
      "metadata": {
        "id": "A-MUs7t7X9M6"
      }
    },
    {
      "cell_type": "markdown",
      "source": [
        "### **Question 7:**"
      ],
      "metadata": {
        "id": "MZlbvvgsX9PP"
      }
    },
    {
      "cell_type": "markdown",
      "source": [
        "**Statistics:** Create a matrix of shape (5,5), find the mean and variance of the values in its 3rd column."
      ],
      "metadata": {
        "id": "rqWn93qTX9RV"
      }
    },
    {
      "cell_type": "code",
      "source": [
        "a=np.array(range(25)).reshape(5,5)\n",
        "print(a)\n",
        "\n",
        "b=np.mean(a[:,2])\n",
        "print(b)\n",
        "\n",
        "c=np.var(a[:,2])\n",
        "print(c)\n",
        "\n",
        "\n",
        "\n",
        "\n",
        "\n",
        "\n",
        "\n",
        "\n",
        "\n",
        "\n",
        "\n",
        "\n"
      ],
      "metadata": {
        "id": "-So6J1QdXyoQ",
        "colab": {
          "base_uri": "https://localhost:8080/"
        },
        "outputId": "3493d79e-92e2-4314-c149-1b8645a89b98"
      },
      "execution_count": 101,
      "outputs": [
        {
          "output_type": "stream",
          "name": "stdout",
          "text": [
            "[[ 0  1  2  3  4]\n",
            " [ 5  6  7  8  9]\n",
            " [10 11 12 13 14]\n",
            " [15 16 17 18 19]\n",
            " [20 21 22 23 24]]\n",
            "12.0\n",
            "50.0\n"
          ]
        }
      ]
    },
    {
      "cell_type": "markdown",
      "source": [
        "\n",
        "\n",
        "---\n",
        "\n",
        "\n",
        "\n",
        "---\n",
        "\n",
        "\n",
        "\n",
        "---\n",
        "\n"
      ],
      "metadata": {
        "id": "Nlzix9NCVSVc"
      }
    },
    {
      "cell_type": "markdown",
      "source": [
        "### **Question 8:**"
      ],
      "metadata": {
        "id": "CiK_vk4tVUXL"
      }
    },
    {
      "cell_type": "markdown",
      "source": [
        "**Linear Algebra:** Given a 4x4 matrix, compute its transpose and then find the dot product of the matrix with its transpose."
      ],
      "metadata": {
        "id": "L23uRV1dVehN"
      }
    },
    {
      "cell_type": "code",
      "source": [
        "\n",
        "matrix = np.array([[1, 2, 3, 4],\n",
        "                   [5, 6, 7, 8],\n",
        "                   [9, 10, 11, 12],\n",
        "                   [13, 14, 15, 16]])"
      ],
      "metadata": {
        "id": "DsBPYJT4Xsqx"
      },
      "execution_count": 103,
      "outputs": []
    },
    {
      "cell_type": "code",
      "source": [
        "a=np.transpose(matrix)\n",
        "print(a)\n",
        "\n",
        "b=np.dot(a,matrix)\n",
        "print(b)\n",
        "\n",
        "\n",
        "\n",
        "\n",
        "\n",
        "\n",
        "\n",
        "\n",
        "\n",
        "\n",
        "\n",
        "\n",
        "\n",
        "\n"
      ],
      "metadata": {
        "id": "eJU7h0AQYYx2",
        "colab": {
          "base_uri": "https://localhost:8080/"
        },
        "outputId": "8f94fb6a-89ca-4c63-ee93-ff3a7f2b9f4d"
      },
      "execution_count": 109,
      "outputs": [
        {
          "output_type": "stream",
          "name": "stdout",
          "text": [
            "[[ 1  5  9 13]\n",
            " [ 2  6 10 14]\n",
            " [ 3  7 11 15]\n",
            " [ 4  8 12 16]]\n",
            "[[276 304 332 360]\n",
            " [304 336 368 400]\n",
            " [332 368 404 440]\n",
            " [360 400 440 480]]\n"
          ]
        }
      ]
    },
    {
      "cell_type": "markdown",
      "source": [
        "\n",
        "\n",
        "---\n",
        "\n",
        "\n",
        "\n",
        "---\n",
        "\n"
      ],
      "metadata": {
        "id": "dL0-iqHkVv3f"
      }
    },
    {
      "cell_type": "markdown",
      "source": [
        "### **Question 9:**"
      ],
      "metadata": {
        "id": "ygs9UMtZVx8E"
      }
    },
    {
      "cell_type": "markdown",
      "source": [
        "**Array Operations:** Create two matrices, then Compute the element-wise multiplication of two matrices, then sum the values in each row of the resulting matrix."
      ],
      "metadata": {
        "id": "LnzUKFw4Vx-7"
      }
    },
    {
      "cell_type": "code",
      "source": [
        "a=np.array([[1,2],[3,4]])\n",
        "b=np.array([[5,6],[7,8]])\n",
        "\n",
        "c=a*b\n",
        "print(c)\n",
        "\n",
        "d=np.sum(c,axis=1)\n",
        "print(d)\n",
        "\n",
        "\n",
        "\n",
        "\n",
        "\n",
        "\n",
        "\n",
        "\n",
        "\n",
        "\n",
        "\n"
      ],
      "metadata": {
        "id": "9IyD0U-3VmJ3",
        "colab": {
          "base_uri": "https://localhost:8080/"
        },
        "outputId": "b156711e-fc2f-4262-c116-9cbe8efc5c5c"
      },
      "execution_count": 112,
      "outputs": [
        {
          "output_type": "stream",
          "name": "stdout",
          "text": [
            "[[ 5 12]\n",
            " [21 32]]\n",
            "[17 53]\n"
          ]
        }
      ]
    },
    {
      "cell_type": "markdown",
      "source": [
        "\n",
        "\n",
        "---\n",
        "\n",
        "\n",
        "\n",
        "---\n",
        "\n",
        "\n",
        "\n",
        "---\n",
        "\n"
      ],
      "metadata": {
        "id": "kqxzW_3ZW8b5"
      }
    },
    {
      "cell_type": "markdown",
      "source": [
        "### **Question 10:**"
      ],
      "metadata": {
        "id": "jEg_QL7CW8rw"
      }
    },
    {
      "cell_type": "markdown",
      "source": [
        "**Advanced Array Creation:** Create a 2D array of shape (7,7) where the border consists of ones and the inner part consists of zeros."
      ],
      "metadata": {
        "id": "_s9937cCW9Qv"
      }
    },
    {
      "cell_type": "code",
      "source": [
        "a=np.ones((7,7))\n",
        "a[1:-1,1:-1]=0\n",
        "\n",
        "print(a)\n",
        "\n",
        "\n",
        "\n",
        "\n",
        "\n",
        "\n",
        "\n",
        "\n",
        "\n",
        "\n",
        "\n",
        "\n",
        "\n"
      ],
      "metadata": {
        "id": "ZEuY35gZXN9d",
        "colab": {
          "base_uri": "https://localhost:8080/"
        },
        "outputId": "8626dbfe-29e3-42d6-93dc-1e1154c49764"
      },
      "execution_count": 124,
      "outputs": [
        {
          "output_type": "stream",
          "name": "stdout",
          "text": [
            "[[1. 1. 1. 1. 1. 1. 1.]\n",
            " [1. 0. 0. 0. 0. 0. 1.]\n",
            " [1. 0. 0. 0. 0. 0. 1.]\n",
            " [1. 0. 0. 0. 0. 0. 1.]\n",
            " [1. 0. 0. 0. 0. 0. 1.]\n",
            " [1. 0. 0. 0. 0. 0. 1.]\n",
            " [1. 1. 1. 1. 1. 1. 1.]]\n"
          ]
        }
      ]
    },
    {
      "cell_type": "code",
      "source": [],
      "metadata": {
        "id": "wvt-u1SDvGIU"
      },
      "execution_count": null,
      "outputs": []
    }
  ]
}