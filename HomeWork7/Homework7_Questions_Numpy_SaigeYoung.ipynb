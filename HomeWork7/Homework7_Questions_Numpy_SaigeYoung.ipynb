{
 "cells": [
  {
   "cell_type": "markdown",
   "metadata": {
    "id": "0zZlEeZdSGBW"
   },
   "source": [
    "# **Homework 7: Numpy**"
   ]
  },
  {
   "cell_type": "markdown",
   "metadata": {
    "id": "MJ7o5DfIZxUH"
   },
   "source": [
    "## **Due date:** November 3rd, at 2:30 PM.\n",
    "\n",
    "## **Submission:** Please push your homework to the our GitHub repository, and place it in the 'Homework 7' folder."
   ]
  },
  {
   "cell_type": "markdown",
   "metadata": {
    "id": "0xb-Hc9SZ3nf"
   },
   "source": [
    "\n",
    "\n",
    "---\n",
    "\n",
    "\n",
    "\n",
    "---\n",
    "\n",
    "\n",
    "\n",
    "---\n",
    "\n",
    "\n",
    "\n",
    "---\n",
    "\n"
   ]
  },
  {
   "cell_type": "markdown",
   "metadata": {
    "id": "LAp5txV5SQ7x"
   },
   "source": [
    "### **Question 1:**"
   ]
  },
  {
   "cell_type": "markdown",
   "metadata": {
    "id": "MzNamLiQSO21"
   },
   "source": [
    "Use NumPy to solve the following system of linear equations:"
   ]
  },
  {
   "cell_type": "code",
   "execution_count": null,
   "metadata": {
    "id": "Tx8KbjfvRs9k"
   },
   "outputs": [],
   "source": [
    "3x+ 2y- z= 1\n",
    "\n",
    "2x+ 2y+ 4z= -2\n",
    "\n",
    "-x+ 1/2y- z= 0\n"
   ]
  },
  {
   "cell_type": "code",
   "execution_count": 1,
   "metadata": {
    "id": "wSITtqqeSX0K"
   },
   "outputs": [
    {
     "name": "stdout",
     "output_type": "stream",
     "text": [
      "[ 0.36842105 -0.31578947 -0.52631579]\n"
     ]
    }
   ],
   "source": [
    "### Answer\n",
    "\n",
    "import numpy as np\n",
    "\n",
    "a=np.array([[3,2,-1],[2,2,4],[-1,.5,-1]])\n",
    "b=np.array([1,-2,0])\n",
    "\n",
    "solu=np.linalg.solve(a,b)\n",
    "print(solu)\n",
    "\n"
   ]
  },
  {
   "cell_type": "markdown",
   "metadata": {
    "id": "XYAG29lDSeTD"
   },
   "source": [
    "\n",
    "\n",
    "---\n",
    "\n",
    "\n",
    "\n",
    "---\n",
    "\n"
   ]
  },
  {
   "cell_type": "markdown",
   "metadata": {
    "id": "TaqiI1-eSeVq"
   },
   "source": [
    "### **Question 2:**"
   ]
  },
  {
   "cell_type": "markdown",
   "metadata": {
    "id": "Aldzq_A1Se6Z"
   },
   "source": [
    "Generate an array of 1000 random numbers sampled from a standard normal distribution, then visualize it."
   ]
  },
  {
   "cell_type": "code",
   "execution_count": 24,
   "metadata": {
    "id": "wyEId-OXSaxz"
   },
   "outputs": [
    {
     "data": {
      "image/png": "[encoded data removed]",
      "text/plain": [
       "<Figure size 640x480 with 1 Axes>"
      ]
     },
     "metadata": {},
     "output_type": "display_data"
    }
   ],
   "source": [
    "### Answer\n",
    "\n",
    "\n",
    "random_num = np.random.randn(1000)\n",
    "\n",
    "\n",
    "import matplotlib.pyplot as plt \n",
    "\n",
    "plt.hist(random_num, bins=1000, range=(-5,5))\n",
    "plt.show()\n",
    "\n"
   ]
  },
  {
   "cell_type": "markdown",
   "metadata": {
    "id": "5gNSvLW7S41q"
   },
   "source": [
    "\n",
    "\n",
    "---\n",
    "\n",
    "\n",
    "\n",
    "---\n",
    "\n"
   ]
  },
  {
   "cell_type": "markdown",
   "metadata": {
    "id": "ZH3t6bWSS44Q"
   },
   "source": [
    "### **Question 3:**"
   ]
  },
  {
   "cell_type": "markdown",
   "metadata": {
    "id": "0kqKrtKDS-Vw"
   },
   "source": [
    "Calculate the dot product of the following two vectors using NumPy:"
   ]
  },
  {
   "cell_type": "code",
   "execution_count": 26,
   "metadata": {
    "id": "1bpcoSo7S7F_"
   },
   "outputs": [],
   "source": [
    "A = [2, 3, 4]\n",
    "B = [5, 6, 7]"
   ]
  },
  {
   "cell_type": "code",
   "execution_count": 27,
   "metadata": {
    "id": "ufkWofy2TCAT"
   },
   "outputs": [
    {
     "data": {
      "text/plain": [
       "56"
      ]
     },
     "execution_count": 27,
     "metadata": {},
     "output_type": "execute_result"
    }
   ],
   "source": [
    "### Answer\n",
    "\n",
    "np.dot(np.array(A), np.array(B))\n",
    "\n",
    "\n"
   ]
  },
  {
   "cell_type": "markdown",
   "metadata": {
    "id": "RmGc6wRuTKn2"
   },
   "source": [
    "\n",
    "\n",
    "---\n",
    "\n",
    "\n",
    "\n",
    "---\n",
    "\n"
   ]
  },
  {
   "cell_type": "markdown",
   "metadata": {
    "id": "KxNuMC2CTKsA"
   },
   "source": [
    "### **Question 4:**"
   ]
  },
  {
   "cell_type": "markdown",
   "metadata": {
    "id": "MWbDMbrOTKvJ"
   },
   "source": [
    "**Random Numbers:**: Generate a 1D array of 20 random integers between 10 and 50. Find out how many of them are even."
   ]
  },
  {
   "cell_type": "code",
   "execution_count": 29,
   "metadata": {
    "id": "GYB7vYXpTUaV"
   },
   "outputs": [
    {
     "name": "stdout",
     "output_type": "stream",
     "text": [
      "20 random integers: [46 36 32 32 41 36 36 12 44 12 16 49 44 26 48 40 24 45 16 37]\n",
      "amount of even integers: 16\n"
     ]
    }
   ],
   "source": [
    "### Answer\n",
    "\n",
    "random_numbies=np.random.randint(10,50,20)\n",
    "print ('20 random integers:', random_numbies)\n",
    "\n",
    "count=0\n",
    "for i in random_numbies:\n",
    "    if i %2==0:\n",
    "        count+=1\n",
    "print(\"amount of even integers:\",count)\n"
   ]
  },
  {
   "cell_type": "markdown",
   "metadata": {
    "id": "5S5fZCFhTZQt"
   },
   "source": [
    "\n",
    "\n",
    "---\n",
    "\n",
    "\n",
    "\n",
    "---\n",
    "\n"
   ]
  },
  {
   "cell_type": "markdown",
   "metadata": {
    "id": "dV5FRmKETZU7"
   },
   "source": [
    "### **Question 5:**"
   ]
  },
  {
   "cell_type": "markdown",
   "metadata": {
    "id": "L2nisglFTZZT"
   },
   "source": [
    "**Data Manipulation:** Consider an array of dimension (8,8). Swap the first and last columns."
   ]
  },
  {
   "cell_type": "code",
   "execution_count": 32,
   "metadata": {
    "id": "S9rg9roST0Fj"
   },
   "outputs": [
    {
     "name": "stdout",
     "output_type": "stream",
     "text": [
      "[[ 2  9  4  7  2  6  1 13]\n",
      " [ 4 19  3  1 14 13  8 12]\n",
      " [12  3  8 14 12 13  4 18]\n",
      " [13 19 13 16  7  9 16 10]\n",
      " [ 6 12  8  3 19 12  9  3]\n",
      " [18 17  5  3  5  3  0 13]\n",
      " [ 2 18 18  8 15  2  4 18]\n",
      " [18 17  3  4 10 18 13 10]]\n",
      "\n",
      " [[13  9  4  7  2  6  1  2]\n",
      " [12 19  3  1 14 13  8  4]\n",
      " [18  3  8 14 12 13  4 12]\n",
      " [10 19 13 16  7  9 16 13]\n",
      " [ 3 12  8  3 19 12  9  6]\n",
      " [13 17  5  3  5  3  0 18]\n",
      " [18 18 18  8 15  2  4  2]\n",
      " [10 17  3  4 10 18 13 18]]\n"
     ]
    }
   ],
   "source": [
    "### Answer\n",
    "\n",
    "numbies=np.random.randint(0,20,(8,8))\n",
    "print(numbies)\n",
    "\n",
    "numbies[:,[0,-1]]=numbies[:,[-1,0]]\n",
    "print(\"\\n\", numbies)\n"
   ]
  },
  {
   "cell_type": "markdown",
   "metadata": {
    "id": "AOa_G4ztT7nb"
   },
   "source": [
    "\n",
    "\n",
    "---\n",
    "\n",
    "\n",
    "\n",
    "---\n",
    "\n"
   ]
  },
  {
   "cell_type": "markdown",
   "metadata": {
    "id": "FRAUkFD9T7qA"
   },
   "source": [
    "### **Question 6:**"
   ]
  },
  {
   "cell_type": "markdown",
   "metadata": {
    "id": "52SeOsbTT7sZ"
   },
   "source": [
    "**Given a 2D NumPy array data, extract the following subsets:**\n",
    "\n",
    "- The first row.\n",
    "- The last column.\n",
    "- The subarray consisting of the first two rows and the last two columns."
   ]
  },
  {
   "cell_type": "code",
   "execution_count": 34,
   "metadata": {
    "id": "JQb-XngHXuK3"
   },
   "outputs": [
    {
     "name": "stdout",
     "output_type": "stream",
     "text": [
      "[[  1   4   6]\n",
      " [ 22  35  48]\n",
      " [ 82  90 101]]\n",
      "\n",
      "1st row:  [1 4 6]\n",
      "\n",
      "Last row:  [  6  48 101]\n",
      "\n",
      "sub:\n",
      " [[ 4  6]\n",
      " [35 48]]\n"
     ]
    }
   ],
   "source": [
    "## Answer\n",
    "\n",
    "numbs = np.array([[1,4,6],[22,35,48],[82,90,101]])\n",
    "print(numbs)\n",
    "\n",
    "print(\"\\n1st row: \", numbs[0,:])\n",
    "print(\"\\nLast row: \", numbs[:,-1])\n",
    "\n",
    "sub = numbs[:2,-2:]\n",
    "print(\"\\nsub:\\n\", sub)\n",
    "\n"
   ]
  },
  {
   "cell_type": "markdown",
   "metadata": {
    "id": "A-MUs7t7X9M6"
   },
   "source": [
    "\n",
    "\n",
    "---\n",
    "\n",
    "\n",
    "\n",
    "---\n",
    "\n"
   ]
  },
  {
   "cell_type": "markdown",
   "metadata": {
    "id": "MZlbvvgsX9PP"
   },
   "source": [
    "### **Question 7:**"
   ]
  },
  {
   "cell_type": "markdown",
   "metadata": {
    "id": "rqWn93qTX9RV"
   },
   "source": [
    "**Statistics:** Create a matrix of shape (5,5), find the mean and variance of the values in its 3rd column."
   ]
  },
  {
   "cell_type": "code",
   "execution_count": 35,
   "metadata": {
    "id": "-So6J1QdXyoQ"
   },
   "outputs": [
    {
     "name": "stdout",
     "output_type": "stream",
     "text": [
      "[[6 7 5 3 1]\n",
      " [2 1 8 5 9]\n",
      " [1 6 9 1 9]\n",
      " [4 8 9 3 6]\n",
      " [9 1 2 4 4]]\n",
      "\n",
      "Mean: 6.6\n",
      "\n",
      "Variance: 7.44\n"
     ]
    }
   ],
   "source": [
    "### Answer\n",
    "\n",
    "num = np.random.randint(1,10,(5,5))\n",
    "print(num)\n",
    "\n",
    "num_mean = np.mean(num[:,2])\n",
    "print(\"\\nMean:\", num_mean)\n",
    "\n",
    "num_var = np.var(num[:,2])\n",
    "print(\"\\nVariance:\", num_var)\n"
   ]
  },
  {
   "cell_type": "markdown",
   "metadata": {
    "id": "Nlzix9NCVSVc"
   },
   "source": [
    "\n",
    "\n",
    "---\n",
    "\n",
    "\n",
    "\n",
    "---\n",
    "\n",
    "\n",
    "\n",
    "---\n",
    "\n"
   ]
  },
  {
   "cell_type": "markdown",
   "metadata": {
    "id": "CiK_vk4tVUXL"
   },
   "source": [
    "### **Question 8:**"
   ]
  },
  {
   "cell_type": "markdown",
   "metadata": {
    "id": "L23uRV1dVehN"
   },
   "source": [
    "**Linear Algebra:** Given a 4x4 matrix, compute its transpose and then find the dot product of the matrix with its transpose."
   ]
  },
  {
   "cell_type": "code",
   "execution_count": null,
   "metadata": {
    "id": "DsBPYJT4Xsqx"
   },
   "outputs": [],
   "source": [
    "\n",
    "matrix = np.array([[1, 2, 3, 4],\n",
    "                   [5, 6, 7, 8],\n",
    "                   [9, 10, 11, 12],\n",
    "                   [13, 14, 15, 16]])"
   ]
  },
  {
   "cell_type": "code",
   "execution_count": 37,
   "metadata": {
    "id": "eJU7h0AQYYx2"
   },
   "outputs": [
    {
     "name": "stdout",
     "output_type": "stream",
     "text": [
      "[[ 2 28  9 88]\n",
      " [ 5 64 31 94]\n",
      " [ 8 85 64  7]\n",
      " [10  3 72 15]]\n",
      "\n",
      " [[  193  1086  1405   852]\n",
      " [ 1086 12114  7892  9120]\n",
      " [ 1405  7892 10322  5234]\n",
      " [  852  9120  5234 16854]]\n"
     ]
    }
   ],
   "source": [
    "### Answer\n",
    "\n",
    "matr=np.array([[2,5,8,10],\n",
    "              [28,64,85,3],\n",
    "              [9,31,64,72],\n",
    "              [88,94,7,15]])\n",
    "\n",
    "\n",
    "mat_tra = np.transpose(matr)\n",
    "print(mat_tra)\n",
    "\n",
    "mat_dp = np.dot(matr, mat_tra)\n",
    "print(\"\\n\", mat_dp)\n"
   ]
  },
  {
   "cell_type": "markdown",
   "metadata": {
    "id": "dL0-iqHkVv3f"
   },
   "source": [
    "\n",
    "\n",
    "---\n",
    "\n",
    "\n",
    "\n",
    "---\n",
    "\n"
   ]
  },
  {
   "cell_type": "markdown",
   "metadata": {
    "id": "ygs9UMtZVx8E"
   },
   "source": [
    "### **Question 9:**"
   ]
  },
  {
   "cell_type": "markdown",
   "metadata": {
    "id": "LnzUKFw4Vx-7"
   },
   "source": [
    "**Array Operations:** Create two matrices, then Compute the element-wise multiplication of two matrices, then sum the values in each row of the resulting matrix."
   ]
  },
  {
   "cell_type": "code",
   "execution_count": 38,
   "metadata": {
    "id": "9IyD0U-3VmJ3"
   },
   "outputs": [
    {
     "name": "stdout",
     "output_type": "stream",
     "text": [
      "[[ 240  450]\n",
      " [ 676 1480]]\n",
      "\n",
      "Sum of the rows is: [ 690 2156]\n"
     ]
    }
   ],
   "source": [
    "### Answer\n",
    "\n",
    "num1 = np.array([[8,10],[13,20]])\n",
    "num2 = np.array([[30,45],[52,74]])\n",
    "\n",
    "multi_numbs = num1 * num2\n",
    "print(multi_numbs)\n",
    "\n",
    "sum_row = np.sum(multi_numbs, axis = 1)\n",
    "print(\"\\nSum of the rows is:\", sum_row)"
   ]
  },
  {
   "cell_type": "markdown",
   "metadata": {
    "id": "kqxzW_3ZW8b5"
   },
   "source": [
    "\n",
    "\n",
    "---\n",
    "\n",
    "\n",
    "\n",
    "---\n",
    "\n",
    "\n",
    "\n",
    "---\n",
    "\n"
   ]
  },
  {
   "cell_type": "markdown",
   "metadata": {
    "id": "jEg_QL7CW8rw"
   },
   "source": [
    "### **Question 10:**"
   ]
  },
  {
   "cell_type": "markdown",
   "metadata": {
    "id": "_s9937cCW9Qv"
   },
   "source": [
    "**Advanced Array Creation:** Create a 2D array of shape (7,7) where the border consists of ones and the inner part consists of zeros."
   ]
  },
  {
   "cell_type": "code",
   "execution_count": 39,
   "metadata": {
    "id": "ZEuY35gZXN9d"
   },
   "outputs": [
    {
     "name": "stdout",
     "output_type": "stream",
     "text": [
      "[[1. 1. 1. 1. 1. 1. 1.]\n",
      " [1. 0. 0. 0. 0. 0. 1.]\n",
      " [1. 0. 0. 0. 0. 0. 1.]\n",
      " [1. 0. 0. 0. 0. 0. 1.]\n",
      " [1. 0. 0. 0. 0. 0. 1.]\n",
      " [1. 0. 0. 0. 0. 0. 1.]\n",
      " [1. 1. 1. 1. 1. 1. 1.]]\n"
     ]
    }
   ],
   "source": [
    "### Answer\n",
    "\n",
    "numies = np.ones((7,7))\n",
    "numies[1:-1,1:-1] = 0\n",
    "print(numies)\n"
   ]
  },
  {
   "cell_type": "code",
   "execution_count": null,
   "metadata": {},
   "outputs": [],
   "source": []
  }
 ],
 "metadata": {
  "colab": {
   "provenance": []
  },
  "kernelspec": {
   "display_name": "Python 3 (ipykernel)",
   "language": "python",
   "name": "python3"
  },
  "language_info": {
   "codemirror_mode": {
    "name": "ipython",
    "version": 3
   },
   "file_extension": ".py",
   "mimetype": "text/x-python",
   "name": "python",
   "nbconvert_exporter": "python",
   "pygments_lexer": "ipython3",
   "version": "3.11.4"
  }
 },
 "nbformat": 4,
 "nbformat_minor": 1
}
