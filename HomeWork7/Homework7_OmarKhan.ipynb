{
  "cells": [
    {
      "cell_type": "markdown",
      "metadata": {
        "id": "0zZlEeZdSGBW"
      },
      "source": [
        "# **Homework 7: Numpy**"
      ]
    },
    {
      "cell_type": "markdown",
      "metadata": {
        "id": "MJ7o5DfIZxUH"
      },
      "source": [
        "## **Due date:** November 3rd, at 2:30 PM.\n",
        "\n",
        "## **Submission:** Please push your homework to the our GitHub repository, and place it in the 'Homework 7' folder."
      ]
    },
    {
      "cell_type": "markdown",
      "metadata": {
        "id": "0xb-Hc9SZ3nf"
      },
      "source": [
        "\n",
        "\n",
        "---\n",
        "\n",
        "\n",
        "\n",
        "---\n",
        "\n",
        "\n",
        "\n",
        "---\n",
        "\n",
        "\n",
        "\n",
        "---\n",
        "\n"
      ]
    },
    {
      "cell_type": "markdown",
      "metadata": {
        "id": "LAp5txV5SQ7x"
      },
      "source": [
        "### **Question 1:**"
      ]
    },
    {
      "cell_type": "markdown",
      "metadata": {
        "id": "MzNamLiQSO21"
      },
      "source": [
        "Use NumPy to solve the following system of linear equations:"
      ]
    },
    {
      "cell_type": "code",
      "execution_count": null,
      "metadata": {
        "id": "Tx8KbjfvRs9k"
      },
      "outputs": [],
      "source": [
        "3x+ 2y- z= 1\n",
        "\n",
        "2x+ 2y+ 4z= -2\n",
        "\n",
        "-x+ 1/2y- z= 0\n"
      ]
    },
    {
      "cell_type": "code",
      "execution_count": 3,
      "metadata": {
        "id": "wSITtqqeSX0K"
      },
      "outputs": [
        {
          "ename": "ModuleNotFoundError",
          "evalue": "No module named 'numpy'",
          "output_type": "error",
          "traceback": [
            "\u001b[1;31m---------------------------------------------------------------------------\u001b[0m",
            "\u001b[1;31mModuleNotFoundError\u001b[0m                       Traceback (most recent call last)",
            "\u001b[1;32mc:\\Users\\Admin\\Downloads\\Homework7_Questions_Numpy.ipynb Cell 7\u001b[0m line \u001b[0;36m1\n\u001b[1;32m----> <a href='vscode-notebook-cell:/c%3A/Users/Admin/Downloads/Homework7_Questions_Numpy.ipynb#W6sZmlsZQ%3D%3D?line=0'>1</a>\u001b[0m \u001b[39mimport\u001b[39;00m \u001b[39mnumpy\u001b[39;00m \u001b[39mas\u001b[39;00m \u001b[39mnp\u001b[39;00m\n\u001b[0;32m      <a href='vscode-notebook-cell:/c%3A/Users/Admin/Downloads/Homework7_Questions_Numpy.ipynb#W6sZmlsZQ%3D%3D?line=2'>3</a>\u001b[0m A \u001b[39m=\u001b[39m np\u001b[39m.\u001b[39marray([[\u001b[39m3\u001b[39m, \u001b[39m2\u001b[39m, \u001b[39m-\u001b[39m\u001b[39m1\u001b[39m],\n\u001b[0;32m      <a href='vscode-notebook-cell:/c%3A/Users/Admin/Downloads/Homework7_Questions_Numpy.ipynb#W6sZmlsZQ%3D%3D?line=3'>4</a>\u001b[0m               [\u001b[39m2\u001b[39m, \u001b[39m2\u001b[39m, \u001b[39m4\u001b[39m],\n\u001b[0;32m      <a href='vscode-notebook-cell:/c%3A/Users/Admin/Downloads/Homework7_Questions_Numpy.ipynb#W6sZmlsZQ%3D%3D?line=4'>5</a>\u001b[0m               [\u001b[39m-\u001b[39m\u001b[39m1\u001b[39m, \u001b[39m0.5\u001b[39m, \u001b[39m-\u001b[39m\u001b[39m1\u001b[39m]])\n\u001b[0;32m      <a href='vscode-notebook-cell:/c%3A/Users/Admin/Downloads/Homework7_Questions_Numpy.ipynb#W6sZmlsZQ%3D%3D?line=6'>7</a>\u001b[0m B \u001b[39m=\u001b[39m np\u001b[39m.\u001b[39marray([\u001b[39m1\u001b[39m, \u001b[39m-\u001b[39m\u001b[39m2\u001b[39m, \u001b[39m0\u001b[39m])\n",
            "\u001b[1;31mModuleNotFoundError\u001b[0m: No module named 'numpy'"
          ]
        }
      ],
      "source": [
        "import numpy as np\n",
        "\n",
        "A = np.array([[3, 2, -1],\n",
        "              [2, 2, 4],\n",
        "              [-1, 0.5, -1]])\n",
        "\n",
        "B = np.array([1, -2, 0])\n",
        "\n",
        "solution = np.linalg.solve(A, B)\n",
        "\n",
        "print(\"Solution:\")\n",
        "print(\"x =\", solution[0])\n",
        "print(\"y =\", solution[1])\n",
        "print(\"z =\", solution[2])"
      ]
    },
    {
      "cell_type": "markdown",
      "metadata": {
        "id": "XYAG29lDSeTD"
      },
      "source": [
        "\n",
        "\n",
        "---\n",
        "\n",
        "\n",
        "\n",
        "---\n",
        "\n"
      ]
    },
    {
      "cell_type": "markdown",
      "metadata": {
        "id": "TaqiI1-eSeVq"
      },
      "source": [
        "### **Question 2:**"
      ]
    },
    {
      "cell_type": "markdown",
      "metadata": {
        "id": "Aldzq_A1Se6Z"
      },
      "source": [
        "Generate an array of 1000 random numbers sampled from a standard normal distribution, then visualize it."
      ]
    },
    {
      "cell_type": "code",
      "execution_count": 4,
      "metadata": {
        "id": "wyEId-OXSaxz"
      },
      "outputs": [
        {
          "ename": "ModuleNotFoundError",
          "evalue": "No module named 'numpy'",
          "output_type": "error",
          "traceback": [
            "\u001b[1;31m---------------------------------------------------------------------------\u001b[0m",
            "\u001b[1;31mModuleNotFoundError\u001b[0m                       Traceback (most recent call last)",
            "\u001b[1;32mc:\\Users\\Admin\\Downloads\\Homework7_Questions_Numpy.ipynb Cell 11\u001b[0m line \u001b[0;36m1\n\u001b[1;32m----> <a href='vscode-notebook-cell:/c%3A/Users/Admin/Downloads/Homework7_Questions_Numpy.ipynb#X13sZmlsZQ%3D%3D?line=0'>1</a>\u001b[0m \u001b[39mimport\u001b[39;00m \u001b[39mnumpy\u001b[39;00m \u001b[39mas\u001b[39;00m \u001b[39mnp\u001b[39;00m\n\u001b[0;32m      <a href='vscode-notebook-cell:/c%3A/Users/Admin/Downloads/Homework7_Questions_Numpy.ipynb#X13sZmlsZQ%3D%3D?line=1'>2</a>\u001b[0m \u001b[39mimport\u001b[39;00m \u001b[39mmatplotlib\u001b[39;00m\u001b[39m.\u001b[39;00m\u001b[39mpyplot\u001b[39;00m \u001b[39mas\u001b[39;00m \u001b[39mplt\u001b[39;00m\n\u001b[0;32m      <a href='vscode-notebook-cell:/c%3A/Users/Admin/Downloads/Homework7_Questions_Numpy.ipynb#X13sZmlsZQ%3D%3D?line=3'>4</a>\u001b[0m data \u001b[39m=\u001b[39m np\u001b[39m.\u001b[39mrandom\u001b[39m.\u001b[39mnormal(\u001b[39m0\u001b[39m, \u001b[39m1\u001b[39m, \u001b[39m1000\u001b[39m)\n",
            "\u001b[1;31mModuleNotFoundError\u001b[0m: No module named 'numpy'"
          ]
        }
      ],
      "source": [
        "import numpy as np\n",
        "import matplotlib.pyplot as plt\n",
        "\n",
        "data = np.random.normal(0, 1, 1000)\n",
        "\n",
        "plt.hist(data, bins=30, density=True, alpha=0.6, color='b')\n",
        "\n",
        "plt.xlabel('Value')\n",
        "plt.ylabel('Frequency')\n",
        "plt.title('Histogram of Random Numbers from Standard Normal Distribution')\n",
        "\n",
        "plt.show()\n",
        "\n",
        "\n"
      ]
    },
    {
      "cell_type": "markdown",
      "metadata": {
        "id": "5gNSvLW7S41q"
      },
      "source": [
        "\n",
        "\n",
        "---\n",
        "\n",
        "\n",
        "\n",
        "---\n",
        "\n"
      ]
    },
    {
      "cell_type": "markdown",
      "metadata": {
        "id": "ZH3t6bWSS44Q"
      },
      "source": [
        "### **Question 3:**"
      ]
    },
    {
      "cell_type": "markdown",
      "metadata": {
        "id": "0kqKrtKDS-Vw"
      },
      "source": [
        "Calculate the dot product of the following two vectors using NumPy:"
      ]
    },
    {
      "cell_type": "code",
      "execution_count": null,
      "metadata": {
        "id": "1bpcoSo7S7F_"
      },
      "outputs": [],
      "source": [
        "A = [2, 3, 4]\n",
        "B = [5, 6, 7]"
      ]
    },
    {
      "cell_type": "code",
      "execution_count": null,
      "metadata": {
        "id": "ufkWofy2TCAT"
      },
      "outputs": [],
      "source": [
        "import numpy as np\n",
        "\n",
        "A = np.array([2, 3, 4])\n",
        "B = np.array([5, 6, 7])\n",
        "\n",
        "dot_product = np.dot(A, B)\n",
        "\n",
        "\n",
        "print(\"Dot product of A and B:\", dot_product)\n",
        "\n",
        "\n"
      ]
    },
    {
      "cell_type": "markdown",
      "metadata": {
        "id": "RmGc6wRuTKn2"
      },
      "source": [
        "\n",
        "\n",
        "---\n",
        "\n",
        "\n",
        "\n",
        "---\n",
        "\n"
      ]
    },
    {
      "cell_type": "markdown",
      "metadata": {
        "id": "KxNuMC2CTKsA"
      },
      "source": [
        "### **Question 4:**"
      ]
    },
    {
      "cell_type": "markdown",
      "metadata": {
        "id": "MWbDMbrOTKvJ"
      },
      "source": [
        "**Random Numbers:**: Generate a 1D array of 20 random integers between 10 and 50. Find out how many of them are even."
      ]
    },
    {
      "cell_type": "code",
      "execution_count": null,
      "metadata": {
        "id": "GYB7vYXpTUaV"
      },
      "outputs": [],
      "source": [
        "import numpy as np\n",
        "\n",
        "random_integers = np.random.randint(10, 51, 20)\n",
        "\n",
        "even_integers = random_integers[random_integers % 2 == 0]\n",
        "\n",
        "even_count = len(even_integers)\n",
        "\n",
        "print(\"Random Integers:\", random_integers)\n",
        "print(\"Even Integers:\", even_integers)\n",
        "print(\"Number of Even Integers:\", even_count)\n",
        "\n",
        "\n"
      ]
    },
    {
      "cell_type": "markdown",
      "metadata": {
        "id": "5S5fZCFhTZQt"
      },
      "source": [
        "\n",
        "\n",
        "---\n",
        "\n",
        "\n",
        "\n",
        "---\n",
        "\n"
      ]
    },
    {
      "cell_type": "markdown",
      "metadata": {
        "id": "dV5FRmKETZU7"
      },
      "source": [
        "### **Question 5:**"
      ]
    },
    {
      "cell_type": "markdown",
      "metadata": {
        "id": "L2nisglFTZZT"
      },
      "source": [
        "**Data Manipulation:** Consider an array of dimension (8,8). Swap the first and last columns."
      ]
    },
    {
      "cell_type": "code",
      "execution_count": null,
      "metadata": {
        "id": "S9rg9roST0Fj"
      },
      "outputs": [],
      "source": [
        "import numpy as np\n",
        "\n",
        "array_8x8 = np.arange(64).reshape(8, 8)\n",
        "\n",
        "# Swap the first and last columns\n",
        "array_8x8[:, [0, -1]] = array_8x8[:, [-1, 0]]\n",
        "\n",
        "print(array_8x8)\n"
      ]
    },
    {
      "cell_type": "markdown",
      "metadata": {
        "id": "AOa_G4ztT7nb"
      },
      "source": [
        "\n",
        "\n",
        "---\n",
        "\n",
        "\n",
        "\n",
        "---\n",
        "\n"
      ]
    },
    {
      "cell_type": "markdown",
      "metadata": {
        "id": "FRAUkFD9T7qA"
      },
      "source": [
        "### **Question 6:**"
      ]
    },
    {
      "cell_type": "markdown",
      "metadata": {
        "id": "52SeOsbTT7sZ"
      },
      "source": [
        "**row.\n",
        "- The last column.Given a 2D NumPy array data, extract the following subsets:**\n",
        "\n",
        "- The first \n",
        "- The subarray consisting of the first two rows and the last two columns."
      ]
    },
    {
      "cell_type": "code",
      "execution_count": null,
      "metadata": {
        "id": "JQb-XngHXuK3"
      },
      "outputs": [],
      "source": [
        "import numpy as np\n",
        "\n",
        "data = np.array([[1, 2, 3, 4],\n",
        "                 [5, 6, 7, 8],\n",
        "                 [9, 10, 11, 12]])\n",
        "\n",
        "# Extract the first row\n",
        "first_row = data[0, :]\n",
        "\n",
        "subarray = data[:2, -2:]\n",
        "\n",
        "print(\"First Row:\")\n",
        "print(first_row)\n",
        "\n",
        "print(\"\\nSubarray (First two rows, Last two columns):\")\n",
        "print(subarray)"
      ]
    },
    {
      "cell_type": "markdown",
      "metadata": {
        "id": "A-MUs7t7X9M6"
      },
      "source": [
        "\n",
        "\n",
        "---\n",
        "\n",
        "\n",
        "\n",
        "---\n",
        "\n"
      ]
    },
    {
      "cell_type": "markdown",
      "metadata": {
        "id": "MZlbvvgsX9PP"
      },
      "source": [
        "### **Question 7:**"
      ]
    },
    {
      "cell_type": "markdown",
      "metadata": {
        "id": "rqWn93qTX9RV"
      },
      "source": [
        "**Statistics:** Create a matrix of shape (5,5), find the mean and variance of the values in its 3rd column."
      ]
    },
    {
      "cell_type": "code",
      "execution_count": null,
      "metadata": {
        "id": "-So6J1QdXyoQ"
      },
      "outputs": [],
      "source": [
        "\n",
        "import numpy as np\n",
        "\n",
        "matrix = np.array([[1, 2, 3, 4, 5],\n",
        "                  [6, 7, 8, 9, 10],\n",
        "                  [11, 12, 13, 14, 15],\n",
        "                  [16, 17, 18, 19, 20],\n",
        "                  [21, 22, 23, 24, 25]])\n",
        "\n",
        "# Extract the 3rd column\n",
        "column_3 = matrix[:, 2]\n",
        "\n",
        "mean = np.mean(column_3)\n",
        "variance = np.var(column_3)\n",
        "\n",
        "print(\"3rd Column:\", column_3)\n",
        "print(\"Mean of the 3rd Column:\", mean)\n",
        "print(\"Variance of the 3rd Column:\", variance)\n"
      ]
    },
    {
      "cell_type": "markdown",
      "metadata": {
        "id": "Nlzix9NCVSVc"
      },
      "source": [
        "\n",
        "\n",
        "---\n",
        "\n",
        "\n",
        "\n",
        "---\n",
        "\n",
        "\n",
        "\n",
        "---\n",
        "\n"
      ]
    },
    {
      "cell_type": "markdown",
      "metadata": {
        "id": "CiK_vk4tVUXL"
      },
      "source": [
        "### **Question 8:**"
      ]
    },
    {
      "cell_type": "markdown",
      "metadata": {
        "id": "L23uRV1dVehN"
      },
      "source": [
        "**Linear Algebra:** Given a 4x4 matrix, compute its transpose and then find the dot product of the matrix with its transpose."
      ]
    },
    {
      "cell_type": "code",
      "execution_count": null,
      "metadata": {
        "id": "DsBPYJT4Xsqx"
      },
      "outputs": [],
      "source": [
        "\n",
        "matrix = np.array([[1, 2, 3, 4],\n",
        "                   [5, 6, 7, 8],\n",
        "                   [9, 10, 11, 12],\n",
        "                   [13, 14, 15, 16]])"
      ]
    },
    {
      "cell_type": "code",
      "execution_count": null,
      "metadata": {
        "id": "eJU7h0AQYYx2"
      },
      "outputs": [],
      "source": [
        "import numpy as np\n",
        "\n",
        "matrix = np.array([[1, 2, 3, 4],\n",
        "                   [5, 6, 7, 8],\n",
        "                   [9, 10, 11, 12],\n",
        "                   [13, 14, 15, 16]])\n",
        "\n",
        "matrix_transpose = np.transpose(matrix)\n",
        "\n",
        "dot_product = np.dot(matrix, matrix_transpose)\n",
        "\n",
        "print(\"Original Matrix:\")\n",
        "print(matrix)\n",
        "\n",
        "print(\"\\nTranspose of the Matrix:\")\n",
        "print(matrix_transpose)\n",
        "\n",
        "print(\"\\nDot Product of the Matrix and its Transpose:\")\n",
        "print(dot_product)\n"
      ]
    },
    {
      "cell_type": "markdown",
      "metadata": {
        "id": "dL0-iqHkVv3f"
      },
      "source": [
        "\n",
        "\n",
        "---\n",
        "\n",
        "\n",
        "\n",
        "---\n",
        "\n"
      ]
    },
    {
      "cell_type": "markdown",
      "metadata": {
        "id": "ygs9UMtZVx8E"
      },
      "source": [
        "### **Question 9:**"
      ]
    },
    {
      "cell_type": "markdown",
      "metadata": {
        "id": "LnzUKFw4Vx-7"
      },
      "source": [
        "**Array Operations:** Create two matrices, then Compute the element-wise multiplication of two matrices, then sum the values in each row of the resulting matrix."
      ]
    },
    {
      "cell_type": "code",
      "execution_count": null,
      "metadata": {
        "id": "9IyD0U-3VmJ3"
      },
      "outputs": [],
      "source": [
        "import numpy as np\n",
        "\n",
        "matrix1 = np.array([[1, 2, 3],\n",
        "                   [4, 5, 6],\n",
        "                   [7, 8, 9]])\n",
        "\n",
        "matrix2 = np.array([[9, 8, 7],\n",
        "                   [6, 5, 4],\n",
        "                   [3, 2, 1]])\n",
        "\n",
        "result_matrix = np.multiply(matrix1, matrix2)\n",
        "\n",
        "row_sums = np.sum(result_matrix, axis=1)\n",
        "\n",
        "print(\"Matrix 1:\")\n",
        "print(matrix1)\n",
        "\n",
        "print(\"\\nMatrix 2:\")\n",
        "print(matrix2)\n",
        "\n",
        "print(\"\\nElement-wise Product:\")\n",
        "print(result_matrix)\n",
        "\n",
        "print(\"\\nRow Sums:\")\n",
        "print(row_sums)\n",
        "\n"
      ]
    },
    {
      "cell_type": "markdown",
      "metadata": {
        "id": "kqxzW_3ZW8b5"
      },
      "source": [
        "\n",
        "\n",
        "---\n",
        "\n",
        "\n",
        "\n",
        "---\n",
        "\n",
        "\n",
        "\n",
        "---\n",
        "\n"
      ]
    },
    {
      "cell_type": "markdown",
      "metadata": {
        "id": "jEg_QL7CW8rw"
      },
      "source": [
        "### **Question 10:**"
      ]
    },
    {
      "cell_type": "markdown",
      "metadata": {
        "id": "_s9937cCW9Qv"
      },
      "source": [
        "**Advanced Array Creation:** Create a 2D array of shape (7,7) where the border consists of ones and the inner part consists of zeros."
      ]
    },
    {
      "cell_type": "code",
      "execution_count": null,
      "metadata": {
        "id": "ZEuY35gZXN9d"
      },
      "outputs": [],
      "source": [
        "import numpy as np\n",
        "\n",
        "array = np.zeros((7, 7))\n",
        "\n",
        "array[0, :] = 1\n",
        "array[-1, :] = 1\n",
        "array[:, 0] = 1\n",
        "array[:, -1] = 1\n",
        "\n",
        "print(array)\n"
      ]
    }
  ],
  "metadata": {
    "colab": {
      "provenance": []
    },
    "kernelspec": {
      "display_name": "Python 3",
      "name": "python3"
    },
    "language_info": {
      "codemirror_mode": {
        "name": "ipython",
        "version": 3
      },
      "file_extension": ".py",
      "mimetype": "text/x-python",
      "name": "python",
      "nbconvert_exporter": "python",
      "pygments_lexer": "ipython3",
      "version": "3.11.6"
    }
  },
  "nbformat": 4,
  "nbformat_minor": 0
}
