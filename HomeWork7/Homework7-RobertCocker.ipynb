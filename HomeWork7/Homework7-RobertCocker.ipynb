{
 "cells": [
  {
   "cell_type": "code",
   "execution_count": null,
   "metadata": {},
   "outputs": [],
   "source": [
    "# Robert Cocker\n",
    "# DATA 3401-001\n",
    "# Dr. Rostami\n",
    "# Homework 7 Numpy\n",
    "# 11/1/2023"
   ]
  },
  {
   "cell_type": "markdown",
   "metadata": {
    "id": "0zZlEeZdSGBW"
   },
   "source": [
    "# **Homework 7: Numpy**"
   ]
  },
  {
   "cell_type": "markdown",
   "metadata": {
    "id": "MJ7o5DfIZxUH"
   },
   "source": [
    "## **Due date:** November 3rd, at 2:30 PM.\n",
    "\n",
    "## **Submission:** Please push your homework to the our GitHub repository, and place it in the 'Homework 7' folder."
   ]
  },
  {
   "cell_type": "markdown",
   "metadata": {
    "id": "0xb-Hc9SZ3nf"
   },
   "source": [
    "\n",
    "\n",
    "---\n",
    "\n",
    "\n",
    "\n",
    "---\n",
    "\n",
    "\n",
    "\n",
    "---\n",
    "\n",
    "\n",
    "\n",
    "---\n",
    "\n"
   ]
  },
  {
   "cell_type": "markdown",
   "metadata": {
    "id": "LAp5txV5SQ7x"
   },
   "source": [
    "### **Question 1:**"
   ]
  },
  {
   "cell_type": "markdown",
   "metadata": {
    "id": "MzNamLiQSO21"
   },
   "source": [
    "Use NumPy to solve the following system of linear equations:"
   ]
  },
  {
   "cell_type": "code",
   "execution_count": null,
   "metadata": {
    "id": "Tx8KbjfvRs9k"
   },
   "outputs": [],
   "source": [
    "3x+ 2y- z= 1\n",
    "\n",
    "2x+ 2y+ 4z= -2\n",
    "\n",
    "-x+ 1/2y- z= 0\n"
   ]
  },
  {
   "cell_type": "code",
   "execution_count": 8,
   "metadata": {
    "id": "wSITtqqeSX0K"
   },
   "outputs": [
    {
     "data": {
      "text/plain": [
       "array([ 0.36842105, -0.31578947, -0.52631579])"
      ]
     },
     "execution_count": 8,
     "metadata": {},
     "output_type": "execute_result"
    }
   ],
   "source": [
    "### Answer\n",
    "import numpy as np\n",
    "\n",
    "a = np.array([[3,2,-1],[2,2,4],[-1,0.5,-1]])\n",
    "b = np.array([1,-2,0])\n",
    "x = np.linalg.solve(a, b)\n",
    "x"
   ]
  },
  {
   "cell_type": "markdown",
   "metadata": {
    "id": "XYAG29lDSeTD"
   },
   "source": [
    "\n",
    "\n",
    "---\n",
    "\n",
    "\n",
    "\n",
    "---\n",
    "\n"
   ]
  },
  {
   "cell_type": "markdown",
   "metadata": {
    "id": "TaqiI1-eSeVq"
   },
   "source": [
    "### **Question 2:**"
   ]
  },
  {
   "cell_type": "markdown",
   "metadata": {
    "id": "Aldzq_A1Se6Z"
   },
   "source": [
    "Generate an array of 1000 random numbers sampled from a standard normal distribution, then visualize it."
   ]
  },
  {
   "cell_type": "code",
   "execution_count": 17,
   "metadata": {
    "id": "wyEId-OXSaxz"
   },
   "outputs": [
    {
     "data": {
      "image/png": "[encoded data removed]",
      "text/plain": [
       "<Figure size 640x480 with 1 Axes>"
      ]
     },
     "metadata": {},
     "output_type": "display_data"
    }
   ],
   "source": [
    "### Answer\n",
    "import numpy as np\n",
    "import matplotlib.pyplot as plt\n",
    "\n",
    "rand_numbers = np.random.randn(1000)\n",
    "\n",
    "plt.hist(rand_numbers, bins=20, color='blue', edgecolor='black')\n",
    "plt.title('1000 Random Numbers')\n",
    "plt.xlabel('X')\n",
    "plt.ylabel('Y')\n",
    "plt.show()"
   ]
  },
  {
   "cell_type": "markdown",
   "metadata": {
    "id": "5gNSvLW7S41q"
   },
   "source": [
    "\n",
    "\n",
    "---\n",
    "\n",
    "\n",
    "\n",
    "---\n",
    "\n"
   ]
  },
  {
   "cell_type": "markdown",
   "metadata": {
    "id": "ZH3t6bWSS44Q"
   },
   "source": [
    "### **Question 3:**"
   ]
  },
  {
   "cell_type": "markdown",
   "metadata": {
    "id": "0kqKrtKDS-Vw"
   },
   "source": [
    "Calculate the dot product of the following two vectors using NumPy:"
   ]
  },
  {
   "cell_type": "code",
   "execution_count": 18,
   "metadata": {
    "id": "1bpcoSo7S7F_"
   },
   "outputs": [],
   "source": [
    "A = [2, 3, 4]\n",
    "B = [5, 6, 7]"
   ]
  },
  {
   "cell_type": "code",
   "execution_count": 19,
   "metadata": {
    "id": "ufkWofy2TCAT"
   },
   "outputs": [
    {
     "name": "stdout",
     "output_type": "stream",
     "text": [
      "56\n"
     ]
    }
   ],
   "source": [
    "### Answer\n",
    "vector_product=np.dot(A,B)\n",
    "print(vector_product)"
   ]
  },
  {
   "cell_type": "markdown",
   "metadata": {
    "id": "RmGc6wRuTKn2"
   },
   "source": [
    "\n",
    "\n",
    "---\n",
    "\n",
    "\n",
    "\n",
    "---\n",
    "\n"
   ]
  },
  {
   "cell_type": "markdown",
   "metadata": {
    "id": "KxNuMC2CTKsA"
   },
   "source": [
    "### **Question 4:**"
   ]
  },
  {
   "cell_type": "markdown",
   "metadata": {
    "id": "MWbDMbrOTKvJ"
   },
   "source": [
    "**Random Numbers:**: Generate a 1D array of 20 random integers between 10 and 50. Find out how many of them are even."
   ]
  },
  {
   "cell_type": "code",
   "execution_count": 20,
   "metadata": {
    "id": "GYB7vYXpTUaV"
   },
   "outputs": [
    {
     "name": "stdout",
     "output_type": "stream",
     "text": [
      "[20 44 42 44 10 22 32 16 36 17 46 50 31 47 34 41 31 19 14 10]\n",
      "\n",
      "Number of even integers: 14\n",
      "Even Integers: [20 44 42 44 10 22 32 16 36 46 50 34 14 10]\n"
     ]
    }
   ],
   "source": [
    "### Answer\n",
    "array = np.random.randint(10, 51, 20)\n",
    "\n",
    "# Find the even numbers\n",
    "even_numbers = array[array % 2 == 0]\n",
    "\n",
    "print(array)\n",
    "\n",
    "print(\"\\nNumber of even integers:\", len(even_numbers))\n",
    "print(\"Even Integers:\", even_numbers)"
   ]
  },
  {
   "cell_type": "markdown",
   "metadata": {
    "id": "5S5fZCFhTZQt"
   },
   "source": [
    "\n",
    "\n",
    "---\n",
    "\n",
    "\n",
    "\n",
    "---\n",
    "\n"
   ]
  },
  {
   "cell_type": "markdown",
   "metadata": {
    "id": "dV5FRmKETZU7"
   },
   "source": [
    "### **Question 5:**"
   ]
  },
  {
   "cell_type": "markdown",
   "metadata": {
    "id": "L2nisglFTZZT"
   },
   "source": [
    "**Data Manipulation:** Consider an array of dimension (8,8). Swap the first and last columns."
   ]
  },
  {
   "cell_type": "code",
   "execution_count": 22,
   "metadata": {
    "id": "S9rg9roST0Fj"
   },
   "outputs": [
    {
     "name": "stdout",
     "output_type": "stream",
     "text": [
      "Original array:\n",
      "[[867 904 190  37 631 112 807   7]\n",
      " [536 357 511  79 891 397 705 695]\n",
      " [509 378 706 887  52 545 197 500]\n",
      " [194 184  48 403 145  57 773 475]\n",
      " [256 213  91 684 171 314 288 573]\n",
      " [325 654 676 993  93 300 525 804]\n",
      " [166 636 393 495 191 884 722 781]\n",
      " [902 560 688 451 609 236 445 518]]\n",
      "\n",
      "New Array:\n",
      "[[  7 904 190  37 631 112 807 867]\n",
      " [695 357 511  79 891 397 705 536]\n",
      " [500 378 706 887  52 545 197 509]\n",
      " [475 184  48 403 145  57 773 194]\n",
      " [573 213  91 684 171 314 288 256]\n",
      " [804 654 676 993  93 300 525 325]\n",
      " [781 636 393 495 191 884 722 166]\n",
      " [518 560 688 451 609 236 445 902]]\n"
     ]
    }
   ],
   "source": [
    "### Answer\n",
    "array2 = np.random.randint(1, 1000, size=(8, 8))\n",
    "print(\"Original array:\")\n",
    "print(array2)\n",
    "\n",
    "array2[:, [0, -1]] = array2[:, [-1, 0]]\n",
    "\n",
    "print(\"\\nNew Array:\")\n",
    "print(array2)"
   ]
  },
  {
   "cell_type": "markdown",
   "metadata": {
    "id": "AOa_G4ztT7nb"
   },
   "source": [
    "\n",
    "\n",
    "---\n",
    "\n",
    "\n",
    "\n",
    "---\n",
    "\n"
   ]
  },
  {
   "cell_type": "markdown",
   "metadata": {
    "id": "FRAUkFD9T7qA"
   },
   "source": [
    "### **Question 6:**"
   ]
  },
  {
   "cell_type": "markdown",
   "metadata": {
    "id": "52SeOsbTT7sZ"
   },
   "source": [
    "**Given a 2D NumPy array data, extract the following subsets:**\n",
    "\n",
    "- The first row.\n",
    "- The last column.\n",
    "- The subarray consisting of the first two rows and the last two columns."
   ]
  },
  {
   "cell_type": "code",
   "execution_count": 28,
   "metadata": {
    "id": "JQb-XngHXuK3"
   },
   "outputs": [
    {
     "name": "stdout",
     "output_type": "stream",
     "text": [
      "Original\n",
      "[[ 5  6  7  8]\n",
      " [ 9 10 11 12]\n",
      " [13 14 15 16]]\n",
      "\n",
      "First Row:\n",
      "[5 6 7 8]\n",
      "\n",
      "Last Column:\n",
      "[ 8 12 16]\n",
      "\n",
      "Subarray:\n",
      "[[ 7  8]\n",
      " [11 12]]\n"
     ]
    }
   ],
   "source": [
    "## Answer\n",
    "array3 = np.array([\n",
    "    [5, 6, 7, 8],\n",
    "    [9, 10, 11, 12],\n",
    "    [13, 14, 15, 16]\n",
    "])\n",
    "\n",
    "print(\"Original\")\n",
    "print(array3)\n",
    "\n",
    "row = array3[0]\n",
    "column = array3[:, -1]\n",
    "new_array = array3[:2, -2:]\n",
    "\n",
    "print(\"\\nFirst Row:\")\n",
    "print(row)\n",
    "print(\"\\nLast Column:\")\n",
    "print(column)\n",
    "print(\"\\nSubarray:\")\n",
    "print(new_array)"
   ]
  },
  {
   "cell_type": "markdown",
   "metadata": {
    "id": "A-MUs7t7X9M6"
   },
   "source": [
    "\n",
    "\n",
    "---\n",
    "\n",
    "\n",
    "\n",
    "---\n",
    "\n"
   ]
  },
  {
   "cell_type": "markdown",
   "metadata": {
    "id": "MZlbvvgsX9PP"
   },
   "source": [
    "### **Question 7:**"
   ]
  },
  {
   "cell_type": "markdown",
   "metadata": {
    "id": "rqWn93qTX9RV"
   },
   "source": [
    "**Statistics:** Create a matrix of shape (5,5), find the mean and variance of the values in its 3rd column."
   ]
  },
  {
   "cell_type": "code",
   "execution_count": 33,
   "metadata": {
    "id": "-So6J1QdXyoQ"
   },
   "outputs": [
    {
     "name": "stdout",
     "output_type": "stream",
     "text": [
      "Original matrix:\n",
      "[[24  3 25 41 44]\n",
      " [35  2 11  2 35]\n",
      " [49 44  6 21 37]\n",
      " [36 27 23 43 13]\n",
      " [13 21 33 26 30]]\n",
      "\n",
      "3rd column: [25 11  6 23 33]\n",
      "Mean of 3rd column: 19.6\n",
      "Variance of 3rd column: 95.84\n"
     ]
    }
   ],
   "source": [
    "matrix = np.random.randint(1, 51, size=(5, 5))\n",
    "print(\"Original matrix:\")\n",
    "print(matrix)\n",
    "\n",
    "column = matrix[:, 2]\n",
    "column_mean = np.mean(column)\n",
    "column_variance = np.var(column)\n",
    "\n",
    "print(\"\\n3rd column:\", column)\n",
    "print(\"Mean of 3rd column:\", column_mean)\n",
    "print(\"Variance of 3rd column:\", column_variance)"
   ]
  },
  {
   "cell_type": "markdown",
   "metadata": {
    "id": "Nlzix9NCVSVc"
   },
   "source": [
    "\n",
    "\n",
    "---\n",
    "\n",
    "\n",
    "\n",
    "---\n",
    "\n",
    "\n",
    "\n",
    "---\n",
    "\n"
   ]
  },
  {
   "cell_type": "markdown",
   "metadata": {
    "id": "CiK_vk4tVUXL"
   },
   "source": [
    "### **Question 8:**"
   ]
  },
  {
   "cell_type": "markdown",
   "metadata": {
    "id": "L23uRV1dVehN"
   },
   "source": [
    "**Linear Algebra:** Given a 4x4 matrix, compute its transpose and then find the dot product of the matrix with its transpose."
   ]
  },
  {
   "cell_type": "code",
   "execution_count": null,
   "metadata": {
    "id": "DsBPYJT4Xsqx"
   },
   "outputs": [],
   "source": [
    "\n",
    "matrix2 = np.array([[1, 2, 3, 4],\n",
    "                   [5, 6, 7, 8],\n",
    "                   [9, 10, 11, 12],\n",
    "                   [13, 14, 15, 16]])"
   ]
  },
  {
   "cell_type": "code",
   "execution_count": 35,
   "metadata": {
    "id": "eJU7h0AQYYx2"
   },
   "outputs": [
    {
     "name": "stdout",
     "output_type": "stream",
     "text": [
      "Original Matrix:\n",
      "[[ 1  2  3  4]\n",
      " [ 5  6  7  8]\n",
      " [ 9 10 11 12]\n",
      " [13 14 15 16]]\n",
      "\n",
      "Transposed Matrix:\n",
      "[[ 1  5  9 13]\n",
      " [ 2  6 10 14]\n",
      " [ 3  7 11 15]\n",
      " [ 4  8 12 16]]\n",
      "\n",
      "Dot Product of Matrix Transposed:\n",
      "[[ 30  70 110 150]\n",
      " [ 70 174 278 382]\n",
      " [110 278 446 614]\n",
      " [150 382 614 846]]\n"
     ]
    }
   ],
   "source": [
    "### Answer\n",
    "matrix2 = np.array([\n",
    "    [1, 2, 3, 4],\n",
    "    [5, 6, 7, 8],\n",
    "    [9, 10, 11, 12],\n",
    "    [13, 14, 15, 16]\n",
    "])\n",
    "\n",
    "print(\"Original Matrix:\")\n",
    "print(matrix2)\n",
    "\n",
    "transposed_matrix = np.transpose(matrix2)\n",
    "\n",
    "print(\"\\nTransposed Matrix:\")\n",
    "print(transposed_matrix)\n",
    "\n",
    "dot_product = np.dot(matrix2, transposed_matrix)\n",
    "\n",
    "print(\"\\nDot Product of Matrix Transposed:\")\n",
    "print(dot_product)"
   ]
  },
  {
   "cell_type": "markdown",
   "metadata": {
    "id": "dL0-iqHkVv3f"
   },
   "source": [
    "\n",
    "\n",
    "---\n",
    "\n",
    "\n",
    "\n",
    "---\n",
    "\n"
   ]
  },
  {
   "cell_type": "markdown",
   "metadata": {
    "id": "ygs9UMtZVx8E"
   },
   "source": [
    "### **Question 9:**"
   ]
  },
  {
   "cell_type": "markdown",
   "metadata": {
    "id": "LnzUKFw4Vx-7"
   },
   "source": [
    "**Array Operations:** Create two matrices, then Compute the element-wise multiplication of two matrices, then sum the values in each row of the resulting matrix."
   ]
  },
  {
   "cell_type": "code",
   "execution_count": 38,
   "metadata": {
    "id": "9IyD0U-3VmJ3"
   },
   "outputs": [
    {
     "name": "stdout",
     "output_type": "stream",
     "text": [
      "Element-wise Multiplication:\n",
      "[[ 10  22  36]\n",
      " [ 52  70  90]\n",
      " [112 136 162]]\n",
      "\n",
      "Sum Matrix:\n",
      "[ 68 212 410]\n"
     ]
    }
   ],
   "source": [
    "### Answer\n",
    "matrix3 = np.array([[1, 2, 3],\n",
    "                    [4, 5, 6],\n",
    "                    [7, 8, 9]])\n",
    "\n",
    "matrix4 = np.array([[10, 11, 12],\n",
    "                    [13, 14, 15],\n",
    "                    [16, 17, 18]])\n",
    "\n",
    "matrix5 = np.multiply(matrix3, matrix4)\n",
    "\n",
    "print(\"Element-wise Multiplication:\")\n",
    "print(matrix5)\n",
    "\n",
    "sum = np.sum(matrix5, axis=1)\n",
    "\n",
    "print(\"\\nSum Matrix:\")\n",
    "print(sum)"
   ]
  },
  {
   "cell_type": "markdown",
   "metadata": {
    "id": "kqxzW_3ZW8b5"
   },
   "source": [
    "\n",
    "\n",
    "---\n",
    "\n",
    "\n",
    "\n",
    "---\n",
    "\n",
    "\n",
    "\n",
    "---\n",
    "\n"
   ]
  },
  {
   "cell_type": "markdown",
   "metadata": {
    "id": "jEg_QL7CW8rw"
   },
   "source": [
    "### **Question 10:**"
   ]
  },
  {
   "cell_type": "markdown",
   "metadata": {
    "id": "_s9937cCW9Qv"
   },
   "source": [
    "**Advanced Array Creation:** Create a 2D array of shape (7,7) where the border consists of ones and the inner part consists of zeros."
   ]
  },
  {
   "cell_type": "code",
   "execution_count": 39,
   "metadata": {
    "id": "ZEuY35gZXN9d"
   },
   "outputs": [
    {
     "name": "stdout",
     "output_type": "stream",
     "text": [
      "2D Array:\n",
      "[[1. 1. 1. 1. 1. 1. 1.]\n",
      " [1. 0. 0. 0. 0. 0. 1.]\n",
      " [1. 0. 0. 0. 0. 0. 1.]\n",
      " [1. 0. 0. 0. 0. 0. 1.]\n",
      " [1. 0. 0. 0. 0. 0. 1.]\n",
      " [1. 0. 0. 0. 0. 0. 1.]\n",
      " [1. 1. 1. 1. 1. 1. 1.]]\n"
     ]
    }
   ],
   "source": [
    "### Answer\n",
    "array4 = np.zeros((7, 7))\n",
    "\n",
    "array4[0, :] = 1  # First row\n",
    "array4[-1, :] = 1  # Last row\n",
    "array4[:, 0] = 1  # First column\n",
    "array4[:, -1] = 1  # Last column\n",
    "\n",
    "print(\"2D Array:\")\n",
    "print(array4)"
   ]
  },
  {
   "cell_type": "code",
   "execution_count": null,
   "metadata": {},
   "outputs": [],
   "source": []
  }
 ],
 "metadata": {
  "colab": {
   "provenance": []
  },
  "kernelspec": {
   "display_name": "Python 3 (ipykernel)",
   "language": "python",
   "name": "python3"
  },
  "language_info": {
   "codemirror_mode": {
    "name": "ipython",
    "version": 3
   },
   "file_extension": ".py",
   "mimetype": "text/x-python",
   "name": "python",
   "nbconvert_exporter": "python",
   "pygments_lexer": "ipython3",
   "version": "3.11.4"
  }
 },
 "nbformat": 4,
 "nbformat_minor": 1
}
