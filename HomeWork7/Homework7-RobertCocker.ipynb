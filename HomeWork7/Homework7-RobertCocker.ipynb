{
  "nbformat": 4,
  "nbformat_minor": 0,
  "metadata": {
    "colab": {
      "provenance": []
    },
    "kernelspec": {
      "name": "python3",
      "display_name": "Python 3"
    },
    "language_info": {
      "name": "python"
    }
  },
  "cells": [
    {
      "cell_type": "markdown",
      "source": [
        "# **Homework 7: Numpy**"
      ],
      "metadata": {
        "id": "0zZlEeZdSGBW"
      }
    },
    {
      "cell_type": "markdown",
      "source": [
        "## **Due date:** November 3rd, at 2:30 PM.\n",
        "\n",
        "## **Submission:** Please push your homework to the our GitHub repository, and place it in the 'Homework 7' folder."
      ],
      "metadata": {
        "id": "MJ7o5DfIZxUH"
      }
    },
    {
      "cell_type": "markdown",
      "source": [
        "\n",
        "\n",
        "---\n",
        "\n",
        "\n",
        "\n",
        "---\n",
        "\n",
        "\n",
        "\n",
        "---\n",
        "\n",
        "\n",
        "\n",
        "---\n",
        "\n"
      ],
      "metadata": {
        "id": "0xb-Hc9SZ3nf"
      }
    },
    {
      "cell_type": "markdown",
      "source": [
        "### **Question 1:**"
      ],
      "metadata": {
        "id": "LAp5txV5SQ7x"
      }
    },
    {
      "cell_type": "markdown",
      "source": [
        "Use NumPy to solve the following system of linear equations:"
      ],
      "metadata": {
        "id": "MzNamLiQSO21"
      }
    },
    {
      "cell_type": "code",
      "execution_count": null,
      "metadata": {
        "id": "Tx8KbjfvRs9k"
      },
      "outputs": [],
      "source": [
        "3x+ 2y- z= 1\n",
        "\n",
        "2x+ 2y+ 4z= -2\n",
        "\n",
        "-x+ 1/2y- z= 0\n"
      ]
    },
    {
      "cell_type": "code",
      "source": [
        "### Answer\n",
        "\n",
        "\n",
        "\n",
        "\n",
        "\n",
        "\n",
        "\n",
        "\n",
        "\n"
      ],
      "metadata": {
        "id": "wSITtqqeSX0K"
      },
      "execution_count": 1,
      "outputs": []
    },
    {
      "cell_type": "markdown",
      "source": [
        "\n",
        "\n",
        "---\n",
        "\n",
        "\n",
        "\n",
        "---\n",
        "\n"
      ],
      "metadata": {
        "id": "XYAG29lDSeTD"
      }
    },
    {
      "cell_type": "markdown",
      "source": [
        "### **Question 2:**"
      ],
      "metadata": {
        "id": "TaqiI1-eSeVq"
      }
    },
    {
      "cell_type": "markdown",
      "source": [
        "Generate an array of 1000 random numbers sampled from a standard normal distribution, then visualize it."
      ],
      "metadata": {
        "id": "Aldzq_A1Se6Z"
      }
    },
    {
      "cell_type": "code",
      "source": [
        "### Answer\n",
        "\n",
        "\n",
        "\n",
        "\n",
        "\n",
        "\n",
        "\n",
        "\n",
        "\n",
        "\n",
        "\n",
        "\n"
      ],
      "metadata": {
        "id": "wyEId-OXSaxz"
      },
      "execution_count": 2,
      "outputs": []
    },
    {
      "cell_type": "markdown",
      "source": [
        "\n",
        "\n",
        "---\n",
        "\n",
        "\n",
        "\n",
        "---\n",
        "\n"
      ],
      "metadata": {
        "id": "5gNSvLW7S41q"
      }
    },
    {
      "cell_type": "markdown",
      "source": [
        "### **Question 3:**"
      ],
      "metadata": {
        "id": "ZH3t6bWSS44Q"
      }
    },
    {
      "cell_type": "markdown",
      "source": [
        "Calculate the dot product of the following two vectors using NumPy:"
      ],
      "metadata": {
        "id": "0kqKrtKDS-Vw"
      }
    },
    {
      "cell_type": "code",
      "source": [
        "A = [2, 3, 4]\n",
        "B = [5, 6, 7]"
      ],
      "metadata": {
        "id": "1bpcoSo7S7F_"
      },
      "execution_count": null,
      "outputs": []
    },
    {
      "cell_type": "code",
      "source": [
        "### Answer\n",
        "\n",
        "\n",
        "\n",
        "\n",
        "\n",
        "\n",
        "\n",
        "\n",
        "\n",
        "\n"
      ],
      "metadata": {
        "id": "ufkWofy2TCAT"
      },
      "execution_count": 3,
      "outputs": []
    },
    {
      "cell_type": "markdown",
      "source": [
        "\n",
        "\n",
        "---\n",
        "\n",
        "\n",
        "\n",
        "---\n",
        "\n"
      ],
      "metadata": {
        "id": "RmGc6wRuTKn2"
      }
    },
    {
      "cell_type": "markdown",
      "source": [
        "### **Question 4:**"
      ],
      "metadata": {
        "id": "KxNuMC2CTKsA"
      }
    },
    {
      "cell_type": "markdown",
      "source": [
        "**Random Numbers:**: Generate a 1D array of 20 random integers between 10 and 50. Find out how many of them are even."
      ],
      "metadata": {
        "id": "MWbDMbrOTKvJ"
      }
    },
    {
      "cell_type": "code",
      "source": [
        "### Answer\n",
        "\n",
        "\n",
        "\n",
        "\n",
        "\n",
        "\n",
        "\n",
        "\n",
        "\n",
        "\n",
        "\n",
        "\n",
        "\n",
        "\n"
      ],
      "metadata": {
        "id": "GYB7vYXpTUaV"
      },
      "execution_count": 4,
      "outputs": []
    },
    {
      "cell_type": "markdown",
      "source": [
        "\n",
        "\n",
        "---\n",
        "\n",
        "\n",
        "\n",
        "---\n",
        "\n"
      ],
      "metadata": {
        "id": "5S5fZCFhTZQt"
      }
    },
    {
      "cell_type": "markdown",
      "source": [
        "### **Question 5:**"
      ],
      "metadata": {
        "id": "dV5FRmKETZU7"
      }
    },
    {
      "cell_type": "markdown",
      "source": [
        "**Data Manipulation:** Consider an array of dimension (8,8). Swap the first and last columns."
      ],
      "metadata": {
        "id": "L2nisglFTZZT"
      }
    },
    {
      "cell_type": "code",
      "source": [
        "### Answer\n",
        "\n",
        "\n",
        "\n",
        "\n",
        "\n",
        "\n",
        "\n",
        "\n",
        "\n",
        "\n",
        "\n",
        "\n",
        "\n"
      ],
      "metadata": {
        "id": "S9rg9roST0Fj"
      },
      "execution_count": 5,
      "outputs": []
    },
    {
      "cell_type": "markdown",
      "source": [
        "\n",
        "\n",
        "---\n",
        "\n",
        "\n",
        "\n",
        "---\n",
        "\n"
      ],
      "metadata": {
        "id": "AOa_G4ztT7nb"
      }
    },
    {
      "cell_type": "markdown",
      "source": [
        "### **Question 6:**"
      ],
      "metadata": {
        "id": "FRAUkFD9T7qA"
      }
    },
    {
      "cell_type": "markdown",
      "source": [
        "**Given a 2D NumPy array data, extract the following subsets:**\n",
        "\n",
        "- The first row.\n",
        "- The last column.\n",
        "- The subarray consisting of the first two rows and the last two columns."
      ],
      "metadata": {
        "id": "52SeOsbTT7sZ"
      }
    },
    {
      "cell_type": "code",
      "source": [
        "## Answer\n",
        "\n",
        "\n",
        "\n",
        "\n",
        "\n",
        "\n",
        "\n",
        "\n",
        "\n",
        "\n",
        "\n",
        "\n",
        "\n",
        "\n"
      ],
      "metadata": {
        "id": "JQb-XngHXuK3"
      },
      "execution_count": 6,
      "outputs": []
    },
    {
      "cell_type": "markdown",
      "source": [
        "\n",
        "\n",
        "---\n",
        "\n",
        "\n",
        "\n",
        "---\n",
        "\n"
      ],
      "metadata": {
        "id": "A-MUs7t7X9M6"
      }
    },
    {
      "cell_type": "markdown",
      "source": [
        "### **Question 7:**"
      ],
      "metadata": {
        "id": "MZlbvvgsX9PP"
      }
    },
    {
      "cell_type": "markdown",
      "source": [
        "**Statistics:** Create a matrix of shape (5,5), find the mean and variance of the values in its 3rd column."
      ],
      "metadata": {
        "id": "rqWn93qTX9RV"
      }
    },
    {
      "cell_type": "code",
      "source": [
        "### Answer\n",
        "\n",
        "\n",
        "\n",
        "\n",
        "\n",
        "\n",
        "\n",
        "\n",
        "\n",
        "\n",
        "\n",
        "\n",
        "\n",
        "\n",
        "\n"
      ],
      "metadata": {
        "id": "-So6J1QdXyoQ"
      },
      "execution_count": 7,
      "outputs": []
    },
    {
      "cell_type": "markdown",
      "source": [
        "\n",
        "\n",
        "---\n",
        "\n",
        "\n",
        "\n",
        "---\n",
        "\n",
        "\n",
        "\n",
        "---\n",
        "\n"
      ],
      "metadata": {
        "id": "Nlzix9NCVSVc"
      }
    },
    {
      "cell_type": "markdown",
      "source": [
        "### **Question 8:**"
      ],
      "metadata": {
        "id": "CiK_vk4tVUXL"
      }
    },
    {
      "cell_type": "markdown",
      "source": [
        "**Linear Algebra:** Given a 4x4 matrix, compute its transpose and then find the dot product of the matrix with its transpose."
      ],
      "metadata": {
        "id": "L23uRV1dVehN"
      }
    },
    {
      "cell_type": "code",
      "source": [
        "\n",
        "matrix = np.array([[1, 2, 3, 4],\n",
        "                   [5, 6, 7, 8],\n",
        "                   [9, 10, 11, 12],\n",
        "                   [13, 14, 15, 16]])"
      ],
      "metadata": {
        "id": "DsBPYJT4Xsqx"
      },
      "execution_count": null,
      "outputs": []
    },
    {
      "cell_type": "code",
      "source": [
        "### Answer\n",
        "\n",
        "\n",
        "\n",
        "\n",
        "\n",
        "\n",
        "\n",
        "\n",
        "\n",
        "\n",
        "\n",
        "\n",
        "\n",
        "\n",
        "\n",
        "\n"
      ],
      "metadata": {
        "id": "eJU7h0AQYYx2"
      },
      "execution_count": 9,
      "outputs": []
    },
    {
      "cell_type": "markdown",
      "source": [
        "\n",
        "\n",
        "---\n",
        "\n",
        "\n",
        "\n",
        "---\n",
        "\n"
      ],
      "metadata": {
        "id": "dL0-iqHkVv3f"
      }
    },
    {
      "cell_type": "markdown",
      "source": [
        "### **Question 9:**"
      ],
      "metadata": {
        "id": "ygs9UMtZVx8E"
      }
    },
    {
      "cell_type": "markdown",
      "source": [
        "**Array Operations:** Create two matrices, then Compute the element-wise multiplication of two matrices, then sum the values in each row of the resulting matrix."
      ],
      "metadata": {
        "id": "LnzUKFw4Vx-7"
      }
    },
    {
      "cell_type": "code",
      "source": [
        "### Answer\n",
        "\n",
        "\n",
        "\n",
        "\n",
        "\n",
        "\n",
        "\n",
        "\n",
        "\n",
        "\n",
        "\n",
        "\n",
        "\n"
      ],
      "metadata": {
        "id": "9IyD0U-3VmJ3"
      },
      "execution_count": 10,
      "outputs": []
    },
    {
      "cell_type": "markdown",
      "source": [
        "\n",
        "\n",
        "---\n",
        "\n",
        "\n",
        "\n",
        "---\n",
        "\n",
        "\n",
        "\n",
        "---\n",
        "\n"
      ],
      "metadata": {
        "id": "kqxzW_3ZW8b5"
      }
    },
    {
      "cell_type": "markdown",
      "source": [
        "### **Question 10:**"
      ],
      "metadata": {
        "id": "jEg_QL7CW8rw"
      }
    },
    {
      "cell_type": "markdown",
      "source": [
        "**Advanced Array Creation:** Create a 2D array of shape (7,7) where the border consists of ones and the inner part consists of zeros."
      ],
      "metadata": {
        "id": "_s9937cCW9Qv"
      }
    },
    {
      "cell_type": "code",
      "source": [
        "### Answer\n",
        "\n",
        "\n",
        "\n",
        "\n",
        "\n",
        "\n",
        "\n",
        "\n",
        "\n",
        "\n",
        "\n",
        "\n",
        "\n",
        "\n"
      ],
      "metadata": {
        "id": "ZEuY35gZXN9d"
      },
      "execution_count": 11,
      "outputs": []
    }
  ]
}