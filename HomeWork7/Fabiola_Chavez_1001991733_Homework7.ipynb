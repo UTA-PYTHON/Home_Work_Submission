{
 "cells": [
  {
   "cell_type": "markdown",
   "metadata": {
    "id": "0zZlEeZdSGBW"
   },
   "source": [
    "# **Homework 7: Numpy**"
   ]
  },
  {
   "cell_type": "markdown",
   "metadata": {
    "id": "MJ7o5DfIZxUH"
   },
   "source": [
    "## **Due date:** November 3rd, at 2:30 PM.\n",
    "\n",
    "## **Submission:** Please push your homework to the our GitHub repository, and place it in the 'Homework 7' folder."
   ]
  },
  {
   "cell_type": "markdown",
   "metadata": {
    "id": "0xb-Hc9SZ3nf"
   },
   "source": [
    "\n",
    "\n",
    "---\n",
    "\n",
    "\n",
    "\n",
    "---\n",
    "\n",
    "\n",
    "\n",
    "---\n",
    "\n",
    "\n",
    "\n",
    "---\n",
    "\n"
   ]
  },
  {
   "cell_type": "code",
   "execution_count": 35,
   "metadata": {},
   "outputs": [],
   "source": [
    "import numpy as np\n",
    "import matplotlib.pyplot as plt\n",
    "import random as rnd"
   ]
  },
  {
   "cell_type": "markdown",
   "metadata": {
    "id": "LAp5txV5SQ7x"
   },
   "source": [
    "### **Question 1:**"
   ]
  },
  {
   "cell_type": "markdown",
   "metadata": {
    "id": "MzNamLiQSO21"
   },
   "source": [
    "Use NumPy to solve the following system of linear equations:"
   ]
  },
  {
   "cell_type": "code",
   "execution_count": null,
   "metadata": {
    "id": "Tx8KbjfvRs9k"
   },
   "outputs": [],
   "source": [
    "3x+ 2y- z= 1\n",
    "\n",
    "2x+ 2y+ 4z= -2\n",
    "\n",
    "-x+ 1/2y- z= 0"
   ]
  },
  {
   "cell_type": "code",
   "execution_count": 3,
   "metadata": {
    "id": "wSITtqqeSX0K"
   },
   "outputs": [
    {
     "name": "stdout",
     "output_type": "stream",
     "text": [
      "[ 0.36842105 -0.31578947 -0.52631579]\n"
     ]
    }
   ],
   "source": [
    "a= np.array([[3,2,-1],[2,2,4],[-1,1/2,-1]])\n",
    "b= np.array([1,-2,0])\n",
    "solution = np.linalg.solve(a,b)\n",
    "print(solution)"
   ]
  },
  {
   "cell_type": "markdown",
   "metadata": {
    "id": "XYAG29lDSeTD"
   },
   "source": [
    "\n",
    "\n",
    "---\n",
    "\n",
    "\n",
    "\n",
    "---\n",
    "\n"
   ]
  },
  {
   "cell_type": "markdown",
   "metadata": {
    "id": "TaqiI1-eSeVq"
   },
   "source": [
    "### **Question 2:**"
   ]
  },
  {
   "cell_type": "markdown",
   "metadata": {
    "id": "Aldzq_A1Se6Z"
   },
   "source": [
    "Generate an array of 1000 random numbers sampled from a standard normal distribution, then visualize it."
   ]
  },
  {
   "cell_type": "code",
   "execution_count": 137,
   "metadata": {
    "id": "wyEId-OXSaxz"
   },
   "outputs": [
    {
     "name": "stdout",
     "output_type": "stream",
     "text": [
      "[ 9.49030138 10.47477    12.15300764  8.6794025  10.99203413  9.90563367\n",
      " 11.26357811 10.36785865 13.47032488  8.89761819  9.01013342 13.99240206\n",
      "  8.72159181 11.82330746 11.05499368  9.29825882  8.43851444  9.85353635\n",
      " 10.08174791 12.56122717  8.74789414 10.94318909 12.360333    9.10195501\n",
      "  9.26773977 12.50436302 10.30492541 10.30919787 12.90254397  8.92933129\n",
      "  9.94443265 10.32013823 10.08990328 11.85495013 10.05579176  8.81683326\n",
      " 10.71371608 11.92811361 12.15386504 12.34136637  9.07630929  9.5720278\n",
      " 11.65341179 10.99209453  8.47293857  9.50029686 10.14771768  9.82428419\n",
      " 10.29806683  9.68475724  7.80503069 11.79197017  6.5499038  12.61643164\n",
      " 11.77463523  6.70941206  9.04369652  5.86663683 10.93355177  9.31978758\n",
      "  9.14960142  8.4661518  10.34498971 11.10694141  9.70397237 10.04481185\n",
      " 12.83202149  9.59131548  8.17083667  9.51006914  9.83307336 12.58655195\n",
      "  9.99040413 13.22336958  9.58926262  9.45363064  8.28416058 10.24021653\n",
      " 11.4779691  10.05347922  7.79183052  8.37294507  9.71576012 10.40958018\n",
      "  8.5808955  11.64663743  9.5052755  11.8780962  10.10037618  8.96154589\n",
      " 10.04176214 12.33022346  9.24765417  9.48613685  9.37744103 12.04611324\n",
      " 11.52821261  5.2133417   7.1297749  11.46420916  7.07473561  8.89279934\n",
      "  7.74318954  9.39885984 10.84916527 11.74129764 10.71376018  9.78731163\n",
      "  9.59241297 13.42629612  7.54889772 10.60459348  9.74354829  9.70291667\n",
      "  9.80542377  9.99736856 10.37794785 12.15651526 11.43918155 10.10597678\n",
      " 11.36146447 10.14370867  8.64103138  7.45919041  6.07211808 10.9330849\n",
      "  9.78042345  9.86093591  9.52943324 10.81073596 10.65913495  9.41098612\n",
      "  7.63287772 12.26969043 10.48111699  9.27788773  9.91116164 11.0295846\n",
      "  9.58967951  9.12093016 11.34055103  9.11557302  8.87053999 11.22677674\n",
      " 10.9279225  10.69214856 12.74001788  7.76137648  9.924173    8.82976182\n",
      "  8.02387978 11.03911598  9.98838103  9.41898828 12.34364962  9.14980228\n",
      "  8.61978318 10.84377935  9.69196334  7.85690489 11.74978097 11.24282238\n",
      " 12.11507007  7.6445329   9.17356606  7.96760843  8.63204084  9.5014253\n",
      "  8.82408789 11.90142494  9.7683524   7.69058977 10.83404954 10.01968357\n",
      " 10.95062106  8.58448732 11.16392831 12.95302134  7.93920769  9.48457967\n",
      "  9.95247412  9.5737143  11.0422903   9.06955597 11.27609361 10.55818713\n",
      "  9.52054134  9.34661975 10.15574636 10.58985181  9.25482145 11.66201966\n",
      "  8.98428113  8.80505808 10.65602632 10.8640379   8.71833803 10.58776393\n",
      " 10.89134358 10.20045655  7.64653282 11.0506375  12.06137178  8.65034376\n",
      "  9.27775401 13.57003263  9.81403644  9.00934329  9.91509564  9.33542713\n",
      " 10.20903987 12.26635502  9.79316776  9.46889345 10.95579635 10.32133664\n",
      " 11.44497025  7.6938326   7.72622074 10.82356768 10.98040005  9.94859215\n",
      "  9.35333119  8.49240577 10.19523987 10.7808487  10.18662081 10.94360663\n",
      " 10.68596855  9.02187132 12.72809902  8.50233284  7.82607534 11.09705274\n",
      "  8.1117008   6.93655026 11.70435015  9.76928082 11.60103946  9.6244944\n",
      " 12.6646429   7.55149222 10.43273596  9.42235246 11.49733746 11.84334415\n",
      " 10.40722809  8.79377421 12.22863784 10.71297529  7.09814402 11.02646705\n",
      "  9.96808194 11.32417523  9.67149489 11.39726519  9.89937084 11.82016603\n",
      "  8.41482071 12.00398235 10.79272618  9.84926835  9.52956718  9.34202916\n",
      "  9.48774912 10.11865    10.8009069  11.96988599 12.63357384  9.85867411\n",
      "  8.69113399  8.89728777 11.35577331  9.79774046 10.20456121 10.23658478\n",
      "  9.14012823 10.99048382  9.12741756 10.18930867 12.60183968 15.69981546\n",
      "  8.67136876 12.69922526  7.32933543 12.16428634  8.69529091 10.23069005\n",
      "  9.92406457  9.8965689   7.39973522  9.23336171 11.99432431  9.57693353\n",
      "  9.87797778 12.34908102 10.61687937  7.92022003 11.23414837 10.04733539\n",
      " 12.45331751  8.92986694  8.53949795 10.30280536 10.27076976  9.37638167\n",
      " 10.2173446   9.7008482   9.47701749  8.7548535   9.53868377 11.03206313\n",
      " 10.47168794 11.32640381 10.86389697 10.09279367 10.59577391  7.69133565\n",
      " 10.19595411  7.94688698 10.85005159  8.11250448  9.44358777  9.36644855\n",
      "  6.74790145 11.28736733  7.98544285  9.18811555  9.24514386 13.07933855\n",
      "  6.99423655 10.66923685  8.39909479 12.25839616 10.21069795  9.31012713\n",
      "  8.62522094  9.93049951  7.8102603   8.91444328 10.332823   10.17836205\n",
      " 12.37689203 10.96803721  8.56262059 10.16667859 12.05028163  9.01771333\n",
      " 11.76598326  7.95145205  7.62295542  9.63082336  9.70112985 10.08139447\n",
      "  6.83792126 10.85337383  8.18107001 12.35158802 10.6771176   8.31715061\n",
      "  7.32602487  9.08579947  9.31697406 12.17515987 12.82383264  8.20460749\n",
      " 11.97329688  9.40789965  9.31907139 10.24594831 11.96148628  7.72638339\n",
      "  8.0281132  11.02764774  9.03447885 10.83027728 10.93417214 10.8013309\n",
      " 11.75051836  8.38770785  9.78562586 11.23910726 10.48473192  9.85785632\n",
      " 10.63601939 11.525551   10.12303372  8.45058152  8.51165785 10.50875016\n",
      " 10.05493321  7.27607656  9.39337527  9.12069497 10.01418483 12.20273192\n",
      " 11.19020579  7.82202288  9.67193761 12.35719391 10.85525431 10.36374779\n",
      "  8.60417145  7.71118046  9.40965025 10.30081013  8.43123454  9.19334561\n",
      " 11.25079952  7.1625558  10.7412119   7.84046206  8.6438998   9.20704163\n",
      " 10.8401112   6.80678156  9.58114202 11.22335368  9.28968485 11.37042371\n",
      " 10.97345011 11.22246541 10.54850798  9.02950179  9.05458484  8.37327878\n",
      " 11.22206346 10.33767773 11.52059079 13.31219196  9.87057359 11.04516467\n",
      "  8.18504465 10.98140492  9.89503786  9.69685427 12.71410838 11.90948379\n",
      " 11.39422076  7.81954035 11.62328366 11.05640205  8.80853148 10.29054846\n",
      " 12.90678414  8.79610775 10.55203712 11.1488287   8.60625868 10.52082307\n",
      "  8.25879472 11.68727658  9.65666537  9.57133683  9.77672081  9.2306624\n",
      "  8.47395199  9.03006458 10.94125842  9.39275328  9.25931134 11.1199764\n",
      " 11.37136092 11.15632422 11.4399608   9.82110443 11.16463791  8.47548275\n",
      " 11.53054531  8.26943664 11.71457     9.29859225 10.04337332 10.7273161\n",
      " 10.22372572 12.88866935 11.56922437 12.33567545  9.3703023   9.1829058\n",
      "  8.2721211   7.82670006  9.06313004 12.951018    9.85671909  7.97248905\n",
      " 11.68693255  9.47618122 10.9629806  10.3624899  10.77988576 11.03920136\n",
      "  7.44464915 11.57095222  8.87357212  8.6859073  10.51337395  8.50357974\n",
      " 12.15761753 10.17757607 10.20782896  7.66685368  9.68606064 10.89488088\n",
      "  9.41083892 10.50997945 10.98002835 10.04634434  8.96205651 11.73073537\n",
      " 10.24983672  8.88942113 13.58295909 10.39480109  8.59071526 10.77926067\n",
      " 10.95412445  8.11426492 12.66809439 10.1462903  10.72724271  8.99982806\n",
      "  8.85502937  8.32994127 12.21220315 11.16130747  9.32513517  9.22791563\n",
      " 10.71927229  8.71051837 10.65954413  8.36098775 12.54356668  9.96297168\n",
      " 10.94620594 10.56906146  8.97019066  6.65612923  9.91545118 11.19460239\n",
      "  8.26135437  8.92046539 11.66581784  9.82585738  9.7004189   8.23104474\n",
      "  9.67412709  8.42994409 11.13240244  9.70046289 12.303327    8.78306151\n",
      " 10.37500015  9.34475411 10.94066368  9.40488023 10.09428513 13.02712912\n",
      "  9.3817669  11.78363546 10.16159267  9.28250051 11.62741784 11.02307192\n",
      "  6.59448866  9.64009158 10.1163951   9.14461286 10.48165449  8.78270553\n",
      "  9.19701897  7.17833647  9.48616543  7.7180973   9.5083137  11.12927641\n",
      "  8.06298639  9.34954006  9.23482231  8.82626214  9.60344429  8.91420573\n",
      "  8.15536566  9.6789103  11.07242534 10.97233939  9.21257852 10.91581598\n",
      " 13.47622637  9.55302933 11.9983269   8.64538875  6.0469762  10.65932934\n",
      "  9.38177866  7.21062427  8.59509428 10.72846242  9.91347366 10.94580407\n",
      " 12.34911732  8.84694777 11.57110975 10.27095646  8.48601463  9.97691535\n",
      " 10.49169614  9.65234318  9.84701392 13.37669981  8.92741906  9.19644279\n",
      "  7.59134085  9.96298496 10.99452004  9.89400911 11.15241473 13.83138397\n",
      " 10.85389906  9.28216873  9.25969093  9.6171609  10.35376871  9.78326782\n",
      "  8.58426611  9.10167289 10.07788139 11.16535958 10.8885838  11.82295079\n",
      " 11.32072464 11.47318238 11.14725229  6.77783209 10.04151619  8.95996817\n",
      "  8.73497684  9.21589964  9.92330812 10.21948626 11.2671944   9.15369598\n",
      "  8.16913594  8.42314532 10.78206854 10.80126208  7.7583478  10.96530861\n",
      "  9.87335033 10.27470847 12.2490393  10.08332116 10.15901269  7.84326521\n",
      "  7.4058855   8.80233708  8.11741479  7.53186203 11.41595849 11.02008583\n",
      "  9.82946225  8.79195832  9.13029361 10.65409617  6.32739685 11.92365496\n",
      " 10.06521317  9.1394485  10.23215166  8.42903359 11.40222996  9.77301729\n",
      " 10.42901019  9.56152215 10.61151586  9.10075449  8.58942982  8.3979452\n",
      " 11.30117035 10.15872571 11.78908648 10.38050375 12.00125677 12.93044973\n",
      " 11.32301     9.87073758 11.1195345   8.64544348 10.49531802  9.81861981\n",
      "  8.31129521 10.52262316 11.10900974 11.16081167 10.84515257 10.08810199\n",
      "  9.35907895  9.50807421  7.88542408  9.82860467  9.61066016  9.73001157\n",
      " 13.08020125 11.93338137  7.94584177 11.29416103 10.07770196 11.46005447\n",
      "  8.00173029  9.41336697  6.48640366 10.17758113  8.57791236  9.63554781\n",
      "  8.20303007  9.24525283  7.93923739  9.51235698  9.38442193 12.62619817\n",
      "  9.02513644 11.60351194  8.04203725  8.36132601 12.88312659 10.09143291\n",
      " 10.82320446 10.86180874  8.76031474 11.55526161  9.01821822  9.01624758\n",
      " 11.68531071  8.89306943 10.12517902 10.06599682  9.8049748   8.3611728\n",
      " 10.8747671   8.59140853 10.49309465  7.67026004 12.0755724   8.14437246\n",
      " 10.16924056  8.62079396  9.50142024 11.00524536 11.87959089 11.25229247\n",
      " 11.44578438 11.27516477  9.20414815 11.42177797  8.5940077  12.68180436\n",
      "  9.95979786 11.75103242 12.75775305 11.4820164  10.01983957  9.95030891\n",
      " 10.18293904 11.71526426  9.17660963 12.00780261 10.64599317 10.03423557\n",
      " 11.2087244   8.4267155  10.79823443 11.55733451  8.99970813  9.78258612\n",
      " 10.96801851  7.91893049 10.93601296 11.30169479 11.18685093 11.23281519\n",
      "  9.42643763 10.00163195 10.35159873 11.88100747 11.93784732 10.58121592\n",
      " 10.49544686  9.72149578 11.06488615  9.67890811  8.57130002  5.37223562\n",
      "  8.21097922  9.73032968 10.8697932  10.45585541 10.98056578  7.85504896\n",
      " 12.03535111  9.16035317 10.31757728  9.78574433  9.05943993  8.30991288\n",
      "  9.6826232   8.86101735  9.19475448  9.63660626  9.2410927  12.1225077\n",
      "  9.74972937  9.41322848 11.80347337  8.42654825  8.27879778  9.6831078\n",
      "  9.41600037 12.27043364 11.23851555  9.22166454 11.83960099 12.07622205\n",
      "  8.98507524  8.41582418 11.76578936 10.78927999 10.54572968  9.59515812\n",
      "  9.27509408 13.65951434  9.15551646 10.02731902  9.49973489 12.18025829\n",
      "  7.51397328 10.61053556 13.31796514  9.95463672  9.33922832 12.33511246\n",
      "  8.75329402 13.6879236  10.00659981 11.13296038  9.74499822  7.54995032\n",
      "  9.83172222  9.16501046 10.45846871  9.28685985  9.80537429  8.4566436\n",
      "  9.39781133  9.21056487  9.99222502  9.79925442  9.94654294 12.21185763\n",
      " 10.49795274  8.40101591  9.83248384 10.85282116 10.11904793 10.43912867\n",
      "  9.74630522  8.89344855  9.59287254  8.64446076 11.02732861 11.88500951\n",
      "  9.70061959 14.65287892 11.36180459  9.4021035   9.56296286 11.49525444\n",
      "  8.65433103  7.57082066 11.96246432  9.92066481 11.66540138 10.39028042\n",
      " 11.46108091  9.11830628 12.22968352  8.78380039 10.9632362   7.01180349\n",
      "  8.51086815 11.16211325  8.84955429 14.5073527   9.46107976 12.35660343\n",
      "  8.33164524  8.65610451 12.55137083 10.5291036   8.86872575 10.68498485\n",
      " 11.46236234  8.90778997 11.36859819  8.44288051 10.27462074 10.83158117\n",
      " 10.16377514 12.89614529  7.08124992  7.36430189  9.11404565 11.37327433\n",
      " 10.25746869 11.36547184 11.7968884  11.36459781 11.33741607  7.98203628\n",
      "  9.76990679  9.17072719  8.81636886  6.84380113  9.3650923  10.63020117\n",
      "  8.84119088  7.66985145  9.74209289  9.51725255 11.77380461 11.93608454\n",
      " 10.00838804  8.44133364 10.20028319  7.30252851 10.77905534  8.38421501\n",
      " 10.7584043  12.60967085  7.92613196  6.89487214  8.53679569  7.62975054\n",
      "  6.60369888 13.06801502 10.53486122  5.97185476  9.20792984  9.01263957\n",
      "  7.89545808  9.39730794 10.13668956  8.45821996  9.33219798  9.21397049\n",
      "  8.41256348 12.89305951 11.07730059  7.8723255  10.32410342  8.14135888\n",
      " 11.18039553  7.87948179  6.74934378  8.91002827  9.8930642   9.10256702\n",
      "  7.46401159  9.27654135  7.75700313  9.42278393 12.88498769  8.00816631\n",
      " 12.57245538  9.6250751   9.56722561 10.72322006  9.31895829  8.2698199\n",
      " 10.29625568  8.43653591 11.13630307  8.52935902  8.0078721   9.95078045\n",
      " 12.29304517  9.65958326  9.04471675 11.19494406 11.23232959 10.97920001\n",
      "  8.22249575 13.71171132 10.11318118  8.91838638 11.21842475 14.08350664\n",
      "  8.95364535 11.20751365 10.63680486  7.3567684 ]\n"
     ]
    }
   ],
   "source": [
    "mean = 10\n",
    "std_dev= 1.5\n",
    "x = np.random.normal(mean, std_dev, 1000)\n",
    "print(x)"
   ]
  },
  {
   "cell_type": "code",
   "execution_count": 147,
   "metadata": {},
   "outputs": [
    {
     "data": {
      "image/png": "[encoded data removed]",
      "text/plain": [
       "<Figure size 640x480 with 1 Axes>"
      ]
     },
     "metadata": {},
     "output_type": "display_data"
    }
   ],
   "source": [
    "plt.hist(x, bins = 30, range = (5,15))\n",
    "plt.show()"
   ]
  },
  {
   "cell_type": "markdown",
   "metadata": {
    "id": "5gNSvLW7S41q"
   },
   "source": [
    "\n",
    "\n",
    "---\n",
    "\n",
    "\n",
    "\n",
    "---\n",
    "\n"
   ]
  },
  {
   "cell_type": "markdown",
   "metadata": {
    "id": "ZH3t6bWSS44Q"
   },
   "source": [
    "### **Question 3:**"
   ]
  },
  {
   "cell_type": "markdown",
   "metadata": {
    "id": "0kqKrtKDS-Vw"
   },
   "source": [
    "Calculate the dot product of the following two vectors using NumPy:"
   ]
  },
  {
   "cell_type": "code",
   "execution_count": null,
   "metadata": {
    "id": "1bpcoSo7S7F_"
   },
   "outputs": [],
   "source": [
    "A = [2, 3, 4]\n",
    "B = [5, 6, 7]"
   ]
  },
  {
   "cell_type": "code",
   "execution_count": 5,
   "metadata": {
    "id": "ufkWofy2TCAT"
   },
   "outputs": [
    {
     "name": "stdout",
     "output_type": "stream",
     "text": [
      "56\n"
     ]
    }
   ],
   "source": [
    "a= np.array([2,3,4])\n",
    "b= np.array([5,6,7])\n",
    "solution = np.dot(a,b)\n",
    "print(solution)"
   ]
  },
  {
   "cell_type": "markdown",
   "metadata": {
    "id": "RmGc6wRuTKn2"
   },
   "source": [
    "\n",
    "\n",
    "---\n",
    "\n",
    "\n",
    "\n",
    "---\n",
    "\n"
   ]
  },
  {
   "cell_type": "markdown",
   "metadata": {
    "id": "KxNuMC2CTKsA"
   },
   "source": [
    "### **Question 4:**"
   ]
  },
  {
   "cell_type": "markdown",
   "metadata": {
    "id": "MWbDMbrOTKvJ"
   },
   "source": [
    "**Random Numbers:**: Generate a 1D array of 20 random integers between 10 and 50. Find out how many of them are even."
   ]
  },
  {
   "cell_type": "code",
   "execution_count": 128,
   "metadata": {
    "id": "GYB7vYXpTUaV"
   },
   "outputs": [
    {
     "name": "stdout",
     "output_type": "stream",
     "text": [
      "[10 19 27 11 44 19 25 31 19 47 11 22 23 12 26 23 19 32 14 13]\n",
      "10\n",
      "This Number is even\n",
      "19\n",
      "This number is odd\n",
      "27\n",
      "This number is odd\n",
      "11\n",
      "This number is odd\n",
      "44\n",
      "This Number is even\n",
      "19\n",
      "This number is odd\n",
      "25\n",
      "This number is odd\n",
      "31\n",
      "This number is odd\n",
      "19\n",
      "This number is odd\n",
      "47\n",
      "This number is odd\n",
      "11\n",
      "This number is odd\n",
      "22\n",
      "This Number is even\n",
      "23\n",
      "This number is odd\n",
      "12\n",
      "This Number is even\n",
      "26\n",
      "This Number is even\n",
      "23\n",
      "This number is odd\n",
      "19\n",
      "This number is odd\n",
      "32\n",
      "This Number is even\n",
      "14\n",
      "This Number is even\n",
      "13\n",
      "This number is odd\n",
      "Total number of even numbers is: 7\n"
     ]
    }
   ],
   "source": [
    "rand_arr=np.random.randint(10,50,size=20)\n",
    "print(rand_arr)\n",
    "total_even=0\n",
    "for e in rand_arr:\n",
    "    print(e)\n",
    "    if e%2==0:\n",
    "        print(\"This Number is even\")\n",
    "        total_even += 1\n",
    "    else:\n",
    "        print(\"This number is odd\")\n",
    "print(\"Total number of even numbers is:\", total_even)"
   ]
  },
  {
   "cell_type": "markdown",
   "metadata": {
    "id": "5S5fZCFhTZQt"
   },
   "source": [
    "\n",
    "\n",
    "---\n",
    "\n",
    "\n",
    "\n",
    "---\n",
    "\n"
   ]
  },
  {
   "cell_type": "markdown",
   "metadata": {
    "id": "dV5FRmKETZU7"
   },
   "source": [
    "### **Question 5:**"
   ]
  },
  {
   "cell_type": "markdown",
   "metadata": {
    "id": "L2nisglFTZZT"
   },
   "source": [
    "**Data Manipulation:** Consider an array of dimension (8,8). Swap the first and last columns."
   ]
  },
  {
   "cell_type": "code",
   "execution_count": 105,
   "metadata": {
    "id": "S9rg9roST0Fj"
   },
   "outputs": [
    {
     "name": "stdout",
     "output_type": "stream",
     "text": [
      "[[ 1  2  3  4  5  6  7  8]\n",
      " [ 9 10 11 12 13 14 15 16]\n",
      " [17 18 19 20 21 22 23 24]\n",
      " [25 26 27 28 29 30 31 32]\n",
      " [33 34 35 36 37 38 39 40]\n",
      " [41 42 43 44 45 46 47 48]\n",
      " [49 50 51 52 53 54 55 56]\n",
      " [57 78 59 60 61 62 63 64]]\n"
     ]
    }
   ],
   "source": [
    "x = np.array([[1,2,3,4,5,6,7,8],[9,10,11,12,13,14,15,16],[17,18,19,20,21,22,23,24],[25,26,27,28,29,30,31,32],[33,34,35,36,37,38,39,40],[41,42,43,44,45,46,47,48],[49,50,51,52,53,54,55,56],[57,78,59,60,61,62,63,64]])\n",
    "print(x)"
   ]
  },
  {
   "cell_type": "code",
   "execution_count": 106,
   "metadata": {},
   "outputs": [
    {
     "data": {
      "text/plain": [
       "(8, 8)"
      ]
     },
     "execution_count": 106,
     "metadata": {},
     "output_type": "execute_result"
    }
   ],
   "source": [
    "x.shape"
   ]
  },
  {
   "cell_type": "code",
   "execution_count": 107,
   "metadata": {},
   "outputs": [],
   "source": [
    "x[:, [7,0]] = x[:, [0,7]]"
   ]
  },
  {
   "cell_type": "code",
   "execution_count": 108,
   "metadata": {
    "scrolled": true
   },
   "outputs": [
    {
     "name": "stdout",
     "output_type": "stream",
     "text": [
      "[[ 8  2  3  4  5  6  7  1]\n",
      " [16 10 11 12 13 14 15  9]\n",
      " [24 18 19 20 21 22 23 17]\n",
      " [32 26 27 28 29 30 31 25]\n",
      " [40 34 35 36 37 38 39 33]\n",
      " [48 42 43 44 45 46 47 41]\n",
      " [56 50 51 52 53 54 55 49]\n",
      " [64 78 59 60 61 62 63 57]]\n"
     ]
    }
   ],
   "source": [
    "print(x)"
   ]
  },
  {
   "cell_type": "markdown",
   "metadata": {
    "id": "AOa_G4ztT7nb"
   },
   "source": [
    "\n",
    "\n",
    "---\n",
    "\n",
    "\n",
    "\n",
    "---\n",
    "\n"
   ]
  },
  {
   "cell_type": "markdown",
   "metadata": {
    "id": "FRAUkFD9T7qA"
   },
   "source": [
    "### **Question 6:**"
   ]
  },
  {
   "cell_type": "markdown",
   "metadata": {
    "id": "52SeOsbTT7sZ"
   },
   "source": [
    "**Given a 2D NumPy array data, extract the following subsets:**\n",
    "\n",
    "- The first row.\n",
    "- The last column.\n",
    "- The subarray consisting of the first two rows and the last two columns."
   ]
  },
  {
   "cell_type": "code",
   "execution_count": 49,
   "metadata": {
    "id": "JQb-XngHXuK3"
   },
   "outputs": [
    {
     "name": "stdout",
     "output_type": "stream",
     "text": [
      "[[ 1  2  3  4  5]\n",
      " [ 6  7  8  9 10]\n",
      " [11 12 13 14 15]]\n"
     ]
    }
   ],
   "source": [
    "a = np.array([[1,2,3,4,5],[6,7,8,9,10],[11,12,13,14,15]])\n",
    "print(a)"
   ]
  },
  {
   "cell_type": "code",
   "execution_count": 50,
   "metadata": {},
   "outputs": [
    {
     "data": {
      "text/plain": [
       "array([[1, 2, 3, 4, 5]])"
      ]
     },
     "execution_count": 50,
     "metadata": {},
     "output_type": "execute_result"
    }
   ],
   "source": [
    "a[:1,:]"
   ]
  },
  {
   "cell_type": "code",
   "execution_count": 53,
   "metadata": {},
   "outputs": [
    {
     "data": {
      "text/plain": [
       "array([[ 5],\n",
       "       [10],\n",
       "       [15]])"
      ]
     },
     "execution_count": 53,
     "metadata": {},
     "output_type": "execute_result"
    }
   ],
   "source": [
    "a[:,4:]"
   ]
  },
  {
   "cell_type": "code",
   "execution_count": 59,
   "metadata": {},
   "outputs": [
    {
     "data": {
      "text/plain": [
       "array([[ 4,  5],\n",
       "       [ 9, 10]])"
      ]
     },
     "execution_count": 59,
     "metadata": {},
     "output_type": "execute_result"
    }
   ],
   "source": [
    "a[0:2,3:5]"
   ]
  },
  {
   "cell_type": "markdown",
   "metadata": {
    "id": "A-MUs7t7X9M6"
   },
   "source": [
    "\n",
    "\n",
    "---\n",
    "\n",
    "\n",
    "\n",
    "---\n",
    "\n"
   ]
  },
  {
   "cell_type": "markdown",
   "metadata": {
    "id": "MZlbvvgsX9PP"
   },
   "source": [
    "### **Question 7:**"
   ]
  },
  {
   "cell_type": "markdown",
   "metadata": {
    "id": "rqWn93qTX9RV"
   },
   "source": [
    "**Statistics:** Create a matrix of shape (5,5), find the mean and variance of the values in its 3rd column."
   ]
  },
  {
   "cell_type": "code",
   "execution_count": 31,
   "metadata": {
    "id": "-So6J1QdXyoQ"
   },
   "outputs": [
    {
     "name": "stdout",
     "output_type": "stream",
     "text": [
      "[[1 2 3 4 5]\n",
      " [1 2 3 4 5]\n",
      " [1 2 3 4 5]\n",
      " [1 2 3 4 5]\n",
      " [1 2 3 4 5]]\n"
     ]
    },
    {
     "data": {
      "text/plain": [
       "(5, 5)"
      ]
     },
     "execution_count": 31,
     "metadata": {},
     "output_type": "execute_result"
    }
   ],
   "source": [
    "a = np.array([[1,2,3,4,5],[1,2,3,4,5],[1,2,3,4,5],[1,2,3,4,5],[1,2,3,4,5]])\n",
    "print(a)\n",
    "a.shape"
   ]
  },
  {
   "cell_type": "code",
   "execution_count": 33,
   "metadata": {},
   "outputs": [
    {
     "name": "stdout",
     "output_type": "stream",
     "text": [
      "3.0\n",
      "2.0\n"
     ]
    }
   ],
   "source": [
    "b = np.mean(a)\n",
    "print(b)\n",
    "c = np.var(a)\n",
    "print(c)"
   ]
  },
  {
   "cell_type": "markdown",
   "metadata": {
    "id": "Nlzix9NCVSVc"
   },
   "source": [
    "\n",
    "\n",
    "---\n",
    "\n",
    "\n",
    "\n",
    "---\n",
    "\n",
    "\n",
    "\n",
    "---\n",
    "\n"
   ]
  },
  {
   "cell_type": "markdown",
   "metadata": {
    "id": "CiK_vk4tVUXL"
   },
   "source": [
    "### **Question 8:**"
   ]
  },
  {
   "cell_type": "markdown",
   "metadata": {
    "id": "L23uRV1dVehN"
   },
   "source": [
    "**Linear Algebra:** Given a 4x4 matrix, compute its transpose and then find the dot product of the matrix with its transpose."
   ]
  },
  {
   "cell_type": "code",
   "execution_count": 36,
   "metadata": {
    "id": "DsBPYJT4Xsqx"
   },
   "outputs": [],
   "source": [
    "\n",
    "matrix = np.array([[1, 2, 3, 4],\n",
    "                   [5, 6, 7, 8],\n",
    "                   [9, 10, 11, 12],\n",
    "                   [13, 14, 15, 16]])"
   ]
  },
  {
   "cell_type": "code",
   "execution_count": 40,
   "metadata": {
    "id": "eJU7h0AQYYx2"
   },
   "outputs": [
    {
     "name": "stdout",
     "output_type": "stream",
     "text": [
      "[[ 1  5  9 13]\n",
      " [ 2  6 10 14]\n",
      " [ 3  7 11 15]\n",
      " [ 4  8 12 16]]\n"
     ]
    }
   ],
   "source": [
    "a= np.transpose(matrix)\n",
    "print(a)"
   ]
  },
  {
   "cell_type": "code",
   "execution_count": 41,
   "metadata": {},
   "outputs": [
    {
     "data": {
      "text/plain": [
       "array([[276, 304, 332, 360],\n",
       "       [304, 336, 368, 400],\n",
       "       [332, 368, 404, 440],\n",
       "       [360, 400, 440, 480]])"
      ]
     },
     "execution_count": 41,
     "metadata": {},
     "output_type": "execute_result"
    }
   ],
   "source": [
    "np.dot(a,matrix)"
   ]
  },
  {
   "cell_type": "markdown",
   "metadata": {
    "id": "dL0-iqHkVv3f"
   },
   "source": [
    "\n",
    "\n",
    "---\n",
    "\n",
    "\n",
    "\n",
    "---\n",
    "\n"
   ]
  },
  {
   "cell_type": "markdown",
   "metadata": {
    "id": "ygs9UMtZVx8E"
   },
   "source": [
    "### **Question 9:**"
   ]
  },
  {
   "cell_type": "markdown",
   "metadata": {
    "id": "LnzUKFw4Vx-7"
   },
   "source": [
    "**Array Operations:** Create two matrices, then Compute the element-wise multiplication of two matrices, then sum the values in each row of the resulting matrix."
   ]
  },
  {
   "cell_type": "code",
   "execution_count": 76,
   "metadata": {
    "id": "9IyD0U-3VmJ3"
   },
   "outputs": [
    {
     "name": "stdout",
     "output_type": "stream",
     "text": [
      "[[ 8 18 30]\n",
      " [44 60 78]]\n"
     ]
    }
   ],
   "source": [
    "a = np.array([[1,2,3],[4,5,6]])\n",
    "b= np.array([[8,9,10],[11,12,13]])\n",
    "c = a*b\n",
    "print(c)"
   ]
  },
  {
   "cell_type": "code",
   "execution_count": 21,
   "metadata": {},
   "outputs": [
    {
     "data": {
      "text/plain": [
       "array([ 56, 182])"
      ]
     },
     "execution_count": 21,
     "metadata": {},
     "output_type": "execute_result"
    }
   ],
   "source": [
    "np.sum(c,axis=1)"
   ]
  },
  {
   "cell_type": "markdown",
   "metadata": {
    "id": "kqxzW_3ZW8b5"
   },
   "source": [
    "\n",
    "\n",
    "---\n",
    "\n",
    "\n",
    "\n",
    "---\n",
    "\n",
    "\n",
    "\n",
    "---\n",
    "\n"
   ]
  },
  {
   "cell_type": "markdown",
   "metadata": {
    "id": "jEg_QL7CW8rw"
   },
   "source": [
    "### **Question 10:**"
   ]
  },
  {
   "cell_type": "markdown",
   "metadata": {
    "id": "_s9937cCW9Qv"
   },
   "source": [
    "**Advanced Array Creation:** Create a 2D array of shape (7,7) where the border consists of ones and the inner part consists of zeros."
   ]
  },
  {
   "cell_type": "code",
   "execution_count": 8,
   "metadata": {
    "id": "ZEuY35gZXN9d"
   },
   "outputs": [
    {
     "name": "stdout",
     "output_type": "stream",
     "text": [
      "[[1 1 1 1 1 1 1]\n",
      " [1 0 0 0 0 0 1]\n",
      " [1 0 0 0 0 0 1]\n",
      " [1 0 0 0 0 0 1]\n",
      " [1 0 0 0 0 0 1]\n",
      " [1 0 0 0 0 0 1]\n",
      " [1 1 1 1 1 1 1]]\n"
     ]
    },
    {
     "data": {
      "text/plain": [
       "(7, 7)"
      ]
     },
     "execution_count": 8,
     "metadata": {},
     "output_type": "execute_result"
    }
   ],
   "source": [
    "a = np.array([[1,1,1,1,1,1,1],[1,0,0,0,0,0,1],[1,0,0,0,0,0,1],[1,0,0,0,0,0,1],[1,0,0,0,0,0,1],[1,0,0,0,0,0,1],[1,1,1,1,1,1,1]])\n",
    "print(a)\n",
    "a.shape"
   ]
  }
 ],
 "metadata": {
  "colab": {
   "provenance": []
  },
  "kernelspec": {
   "display_name": "Python 3 (ipykernel)",
   "language": "python",
   "name": "python3"
  },
  "language_info": {
   "codemirror_mode": {
    "name": "ipython",
    "version": 3
   },
   "file_extension": ".py",
   "mimetype": "text/x-python",
   "name": "python",
   "nbconvert_exporter": "python",
   "pygments_lexer": "ipython3",
   "version": "3.11.4"
  }
 },
 "nbformat": 4,
 "nbformat_minor": 1
}
