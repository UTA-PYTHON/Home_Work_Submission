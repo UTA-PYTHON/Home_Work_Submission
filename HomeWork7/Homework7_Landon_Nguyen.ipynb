{
  "nbformat": 4,
  "nbformat_minor": 0,
  "metadata": {
    "colab": {
      "provenance": []
    },
    "kernelspec": {
      "name": "python3",
      "display_name": "Python 3"
    },
    "language_info": {
      "name": "python"
    }
  },
  "cells": [
    {
      "cell_type": "markdown",
      "source": [
        "# **Homework 7: Numpy**"
      ],
      "metadata": {
        "id": "0zZlEeZdSGBW"
      }
    },
    {
      "cell_type": "markdown",
      "source": [
        "## **Due date:** November 3rd, at 2:30 PM.\n",
        "\n",
        "## **Submission:** Please push your homework to the our GitHub repository, and place it in the 'Homework 7' folder."
      ],
      "metadata": {
        "id": "MJ7o5DfIZxUH"
      }
    },
    {
      "cell_type": "markdown",
      "source": [
        "\n",
        "\n",
        "---\n",
        "\n",
        "\n",
        "\n",
        "---\n",
        "\n",
        "\n",
        "\n",
        "---\n",
        "\n",
        "\n",
        "\n",
        "---\n",
        "\n"
      ],
      "metadata": {
        "id": "0xb-Hc9SZ3nf"
      }
    },
    {
      "cell_type": "code",
      "source": [
        "import numpy as np\n",
        "import matplotlib.pyplot as plt"
      ],
      "metadata": {
        "id": "F5_vYiJdhfX2"
      },
      "execution_count": 9,
      "outputs": []
    },
    {
      "cell_type": "markdown",
      "source": [
        "### **Question 1:**"
      ],
      "metadata": {
        "id": "LAp5txV5SQ7x"
      }
    },
    {
      "cell_type": "markdown",
      "source": [
        "Use NumPy to solve the following system of linear equations:"
      ],
      "metadata": {
        "id": "MzNamLiQSO21"
      }
    },
    {
      "cell_type": "code",
      "execution_count": null,
      "metadata": {
        "id": "Tx8KbjfvRs9k"
      },
      "outputs": [],
      "source": [
        "3x+ 2y- z= 1\n",
        "\n",
        "2x+ 2y+ 4z= -2\n",
        "\n",
        "-x+ 1/2y- z= 0\n"
      ]
    },
    {
      "cell_type": "code",
      "source": [
        "### Answer\n",
        "\n",
        "linSystem = np.array([[3,2,-1], [2,2,4], [-1,1/2,-1]]) # create the system of equations\n",
        "equal = np.array([1,-2,0]) # define each equations equivalence\n",
        "\n",
        "result = np.linalg.solve(linSystem,equal) # use linalg feature\n",
        "print(result)"
      ],
      "metadata": {
        "id": "wSITtqqeSX0K",
        "colab": {
          "base_uri": "https://localhost:8080/"
        },
        "outputId": "42f1b838-bbc2-4b58-a590-d86c5f873dc6"
      },
      "execution_count": 5,
      "outputs": [
        {
          "output_type": "stream",
          "name": "stdout",
          "text": [
            "[ 0.36842105 -0.31578947 -0.52631579]\n"
          ]
        }
      ]
    },
    {
      "cell_type": "markdown",
      "source": [
        "\n",
        "\n",
        "---\n",
        "\n",
        "\n",
        "\n",
        "---\n",
        "\n"
      ],
      "metadata": {
        "id": "XYAG29lDSeTD"
      }
    },
    {
      "cell_type": "markdown",
      "source": [
        "### **Question 2:**"
      ],
      "metadata": {
        "id": "TaqiI1-eSeVq"
      }
    },
    {
      "cell_type": "markdown",
      "source": [
        "Generate an array of 1000 random numbers sampled from a standard normal distribution, then visualize it."
      ],
      "metadata": {
        "id": "Aldzq_A1Se6Z"
      }
    },
    {
      "cell_type": "code",
      "source": [
        "### Answer\n",
        "srs = np.random.standard_normal(1000) # create a standard normal sample of size 1000 using numpy\n",
        "\n",
        "plt.hist(srs, bins=20, range=(-4,4)) # use matlibplot.pyplot to create a histogram of the SRS\n",
        "plt.show()"
      ],
      "metadata": {
        "id": "wyEId-OXSaxz",
        "colab": {
          "base_uri": "https://localhost:8080/",
          "height": 430
        },
        "outputId": "e0f60679-101e-404b-84af-493274634fe2"
      },
      "execution_count": 45,
      "outputs": [
        {
          "output_type": "display_data",
          "data": {
            "text/plain": [
              "<Figure size 640x480 with 1 Axes>"
            ],
            "image/png": "[encoded data removed]"
          },
          "metadata": {}
        }
      ]
    },
    {
      "cell_type": "markdown",
      "source": [
        "\n",
        "\n",
        "---\n",
        "\n",
        "\n",
        "\n",
        "---\n",
        "\n"
      ],
      "metadata": {
        "id": "5gNSvLW7S41q"
      }
    },
    {
      "cell_type": "markdown",
      "source": [
        "### **Question 3:**"
      ],
      "metadata": {
        "id": "ZH3t6bWSS44Q"
      }
    },
    {
      "cell_type": "markdown",
      "source": [
        "Calculate the dot product of the following two vectors using NumPy:"
      ],
      "metadata": {
        "id": "0kqKrtKDS-Vw"
      }
    },
    {
      "cell_type": "code",
      "source": [
        "A = [2, 3, 4]\n",
        "B = [5, 6, 7]"
      ],
      "metadata": {
        "id": "1bpcoSo7S7F_"
      },
      "execution_count": 46,
      "outputs": []
    },
    {
      "cell_type": "code",
      "source": [
        "### Answer\n",
        "\n",
        "np.dot(A,B) # np dot feature"
      ],
      "metadata": {
        "id": "ufkWofy2TCAT",
        "colab": {
          "base_uri": "https://localhost:8080/"
        },
        "outputId": "1008031a-57b3-4d31-927e-709dbc735ae6"
      },
      "execution_count": 47,
      "outputs": [
        {
          "output_type": "execute_result",
          "data": {
            "text/plain": [
              "56"
            ]
          },
          "metadata": {},
          "execution_count": 47
        }
      ]
    },
    {
      "cell_type": "markdown",
      "source": [
        "\n",
        "\n",
        "---\n",
        "\n",
        "\n",
        "\n",
        "---\n",
        "\n"
      ],
      "metadata": {
        "id": "RmGc6wRuTKn2"
      }
    },
    {
      "cell_type": "markdown",
      "source": [
        "### **Question 4:**"
      ],
      "metadata": {
        "id": "KxNuMC2CTKsA"
      }
    },
    {
      "cell_type": "markdown",
      "source": [
        "**Random Numbers:**: Generate a 1D array of 20 random integers between 10 and 50. Find out how many of them are even."
      ],
      "metadata": {
        "id": "MWbDMbrOTKvJ"
      }
    },
    {
      "cell_type": "code",
      "source": [
        "### Answer\n",
        "\n",
        "arr = np.random.randint(10,50,20) # create the array\n",
        "\n",
        "arr_evens = arr[arr%2==0] # create a new np array containing all even elements in the original array\n",
        "\n",
        "print(arr)\n",
        "\n",
        "print(\"\\n# of Evens:\", arr_evens.size) # return the size of the array containing all of the even numbers"
      ],
      "metadata": {
        "id": "GYB7vYXpTUaV",
        "colab": {
          "base_uri": "https://localhost:8080/"
        },
        "outputId": "d5f13535-eb2b-41fa-b604-4f7166c5881d"
      },
      "execution_count": 56,
      "outputs": [
        {
          "output_type": "stream",
          "name": "stdout",
          "text": [
            "[34 11 33 37 34 16 22 45 37 11 41 28 43 17 45 41 18 13 32 48]\n",
            "\n",
            "# of Evens: 8\n"
          ]
        }
      ]
    },
    {
      "cell_type": "markdown",
      "source": [
        "\n",
        "\n",
        "---\n",
        "\n",
        "\n",
        "\n",
        "---\n",
        "\n"
      ],
      "metadata": {
        "id": "5S5fZCFhTZQt"
      }
    },
    {
      "cell_type": "markdown",
      "source": [
        "### **Question 5:**"
      ],
      "metadata": {
        "id": "dV5FRmKETZU7"
      }
    },
    {
      "cell_type": "markdown",
      "source": [
        "**Data Manipulation:** Consider an array of dimension (8,8). Swap the first and last columns."
      ],
      "metadata": {
        "id": "L2nisglFTZZT"
      }
    },
    {
      "cell_type": "code",
      "source": [
        "### Answer\n",
        "\n",
        "m = np.random.randint(0,10,64).reshape(8,8) ## create array with size(8,8)\n",
        "\n",
        "print(\"Original Array:\\n\",m)\n",
        "\n",
        "m[:, [0,7]] = m[:, [7,0]] # swap columns 1 and 8\n",
        "\n",
        "print(\"\\nNew Array:\\n\",m)"
      ],
      "metadata": {
        "id": "S9rg9roST0Fj",
        "colab": {
          "base_uri": "https://localhost:8080/"
        },
        "outputId": "9d4ec1b0-9ab1-4ca5-940a-988a168c8cab"
      },
      "execution_count": 125,
      "outputs": [
        {
          "output_type": "stream",
          "name": "stdout",
          "text": [
            "Original Array:\n",
            " [[1 2 5 5 8 9 6 8]\n",
            " [1 2 6 6 5 5 3 5]\n",
            " [7 1 1 0 1 1 5 9]\n",
            " [4 1 3 6 7 4 2 9]\n",
            " [1 7 4 4 1 3 6 8]\n",
            " [2 4 0 0 6 7 6 7]\n",
            " [4 4 8 7 5 6 3 7]\n",
            " [2 4 1 6 2 5 0 5]]\n",
            "\n",
            "New Array:\n",
            " [[8 2 5 5 8 9 6 1]\n",
            " [5 2 6 6 5 5 3 1]\n",
            " [9 1 1 0 1 1 5 7]\n",
            " [9 1 3 6 7 4 2 4]\n",
            " [8 7 4 4 1 3 6 1]\n",
            " [7 4 0 0 6 7 6 2]\n",
            " [7 4 8 7 5 6 3 4]\n",
            " [5 4 1 6 2 5 0 2]]\n"
          ]
        }
      ]
    },
    {
      "cell_type": "markdown",
      "source": [
        "\n",
        "\n",
        "---\n",
        "\n",
        "\n",
        "\n",
        "---\n",
        "\n"
      ],
      "metadata": {
        "id": "AOa_G4ztT7nb"
      }
    },
    {
      "cell_type": "markdown",
      "source": [
        "### **Question 6:**"
      ],
      "metadata": {
        "id": "FRAUkFD9T7qA"
      }
    },
    {
      "cell_type": "markdown",
      "source": [
        "**Given a 2D NumPy array data, extract the following subsets:**\n",
        "\n",
        "- The first row.\n",
        "- The last column.\n",
        "- The subarray consisting of the first two rows and the last two columns."
      ],
      "metadata": {
        "id": "52SeOsbTT7sZ"
      }
    },
    {
      "cell_type": "code",
      "source": [
        "## Answer\n",
        "\n",
        "print(\"Original Array:\\n\",m) # original array\n",
        "\n",
        "r1 = m[[0], :]\n",
        "print(\"\\nFirst Row:\", r1) # first row\n",
        "\n",
        "c8 = m[:, [7]]\n",
        "print(\"\\nLast Column:\\n\", c8) # last column\n",
        "\n",
        "sub = m[:2, 6:] # first 2 rows and last 2 columns\n",
        "print(\"\\nFirst 2 Rows and Last 2 Columns:\\n\", sub)"
      ],
      "metadata": {
        "id": "JQb-XngHXuK3",
        "colab": {
          "base_uri": "https://localhost:8080/"
        },
        "outputId": "3aeb086e-8087-4df3-8405-52d45cdbc63e"
      },
      "execution_count": 87,
      "outputs": [
        {
          "output_type": "stream",
          "name": "stdout",
          "text": [
            "Original Array:\n",
            " [[7 5 4 7 0 2 4 2]\n",
            " [6 8 1 8 6 4 7 6]\n",
            " [6 5 3 2 1 9 7 6]\n",
            " [7 1 6 8 9 5 6 9]\n",
            " [9 8 1 0 0 9 8 6]\n",
            " [3 0 7 7 0 1 9 2]\n",
            " [0 6 3 2 0 1 4 6]\n",
            " [3 7 0 6 3 1 0 6]]\n",
            "\n",
            "First Row: [[7 5 4 7 0 2 4 2]]\n",
            "\n",
            "Last Column:\n",
            " [[2]\n",
            " [6]\n",
            " [6]\n",
            " [9]\n",
            " [6]\n",
            " [2]\n",
            " [6]\n",
            " [6]]\n",
            "\n",
            "First 2 Rows and Last 2 Columns:\n",
            " [[4 2]\n",
            " [7 6]]\n"
          ]
        }
      ]
    },
    {
      "cell_type": "markdown",
      "source": [
        "\n",
        "\n",
        "---\n",
        "\n",
        "\n",
        "\n",
        "---\n",
        "\n"
      ],
      "metadata": {
        "id": "A-MUs7t7X9M6"
      }
    },
    {
      "cell_type": "markdown",
      "source": [
        "### **Question 7:**"
      ],
      "metadata": {
        "id": "MZlbvvgsX9PP"
      }
    },
    {
      "cell_type": "markdown",
      "source": [
        "**Statistics:** Create a matrix of shape (5,5), find the mean and variance of the values in its 3rd column."
      ],
      "metadata": {
        "id": "rqWn93qTX9RV"
      }
    },
    {
      "cell_type": "code",
      "source": [
        "### Answer\n",
        "\n",
        "randmat = np.random.randint(0,10,25).reshape(5,5) # create the matrix\n",
        "print(randmat)\n",
        "\n",
        "meanC3 = randmat[:, [2]].mean() # c3 mean\n",
        "print(\"\\nMean of Column 3:\", meanC3)\n",
        "\n",
        "varC3 = randmat[:, [2]].var() # c3 variance\n",
        "print(\"\\nVariance of Column 3:\", varC3)\n",
        "\n"
      ],
      "metadata": {
        "id": "-So6J1QdXyoQ",
        "colab": {
          "base_uri": "https://localhost:8080/"
        },
        "outputId": "3228e9a5-4671-4351-f9c0-6156949f1676"
      },
      "execution_count": 92,
      "outputs": [
        {
          "output_type": "stream",
          "name": "stdout",
          "text": [
            "[[0 2 8 4 8]\n",
            " [9 4 0 4 1]\n",
            " [5 1 6 1 3]\n",
            " [3 8 8 2 1]\n",
            " [8 6 5 8 9]]\n",
            "\n",
            "Mean of Column 3: 5.4\n",
            "\n",
            "Variance of Column 3: 8.64\n"
          ]
        }
      ]
    },
    {
      "cell_type": "markdown",
      "source": [
        "\n",
        "\n",
        "---\n",
        "\n",
        "\n",
        "\n",
        "---\n",
        "\n",
        "\n",
        "\n",
        "---\n",
        "\n"
      ],
      "metadata": {
        "id": "Nlzix9NCVSVc"
      }
    },
    {
      "cell_type": "markdown",
      "source": [
        "### **Question 8:**"
      ],
      "metadata": {
        "id": "CiK_vk4tVUXL"
      }
    },
    {
      "cell_type": "markdown",
      "source": [
        "**Linear Algebra:** Given a 4x4 matrix, compute its transpose and then find the dot product of the matrix with its transpose."
      ],
      "metadata": {
        "id": "L23uRV1dVehN"
      }
    },
    {
      "cell_type": "code",
      "source": [
        "\n",
        "matrix = np.array([[1, 2, 3, 4],\n",
        "                   [5, 6, 7, 8],\n",
        "                   [9, 10, 11, 12],\n",
        "                   [13, 14, 15, 16]])"
      ],
      "metadata": {
        "id": "DsBPYJT4Xsqx"
      },
      "execution_count": 93,
      "outputs": []
    },
    {
      "cell_type": "code",
      "source": [
        "### Answer\n",
        "\n",
        "tran = np.transpose(matrix) # create the transpose\n",
        "print(\"Transpose:\\n\", tran)\n",
        "\n",
        "d = np.dot(matrix, tran) # find the dot product\n",
        "print(\"\\nDot Product:\\n\", d)"
      ],
      "metadata": {
        "id": "eJU7h0AQYYx2",
        "colab": {
          "base_uri": "https://localhost:8080/"
        },
        "outputId": "a22af06b-780c-43f3-c0ce-ee28fa979230"
      },
      "execution_count": 100,
      "outputs": [
        {
          "output_type": "stream",
          "name": "stdout",
          "text": [
            "Transpose:\n",
            " [[ 1  5  9 13]\n",
            " [ 2  6 10 14]\n",
            " [ 3  7 11 15]\n",
            " [ 4  8 12 16]]\n",
            "\n",
            "Dot Product:\n",
            " [[ 30  70 110 150]\n",
            " [ 70 174 278 382]\n",
            " [110 278 446 614]\n",
            " [150 382 614 846]]\n"
          ]
        }
      ]
    },
    {
      "cell_type": "markdown",
      "source": [
        "\n",
        "\n",
        "---\n",
        "\n",
        "\n",
        "\n",
        "---\n",
        "\n"
      ],
      "metadata": {
        "id": "dL0-iqHkVv3f"
      }
    },
    {
      "cell_type": "markdown",
      "source": [
        "### **Question 9:**"
      ],
      "metadata": {
        "id": "ygs9UMtZVx8E"
      }
    },
    {
      "cell_type": "markdown",
      "source": [
        "**Array Operations:** Create two matrices, then Compute the element-wise multiplication of two matrices, then sum the values in each row of the resulting matrix."
      ],
      "metadata": {
        "id": "LnzUKFw4Vx-7"
      }
    },
    {
      "cell_type": "code",
      "source": [
        "### Answer\n",
        "\n",
        "m1 = np.random.randint(0,10,6).reshape(2,3) # create matrix 1\n",
        "print(\"Matrix 1:\\n\",m1)\n",
        "m2 = np.random.randint(0,10,6).reshape(2,3) # create matrix 2\n",
        "print(\"\\nMatrix 2:\\n\",m2)\n",
        "\n",
        "mProduct = m1*m2 # create the element-wise product\n",
        "print(\"\\nProduct:\\n\",mProduct)\n",
        "\n",
        "sum_of_rows = np.sum(mProduct, axis=1) # sum the rows of mProduct\n",
        "print(\"\\nSum of Product Rows:\\n\",sum_of_rows)"
      ],
      "metadata": {
        "id": "9IyD0U-3VmJ3",
        "colab": {
          "base_uri": "https://localhost:8080/"
        },
        "outputId": "13803848-af2f-4f7f-dc97-64f3a4f2698d"
      },
      "execution_count": 109,
      "outputs": [
        {
          "output_type": "stream",
          "name": "stdout",
          "text": [
            "Matrix 1:\n",
            " [[3 7 7]\n",
            " [4 0 7]]\n",
            "\n",
            "Matrix 2:\n",
            " [[3 8 1]\n",
            " [3 7 3]]\n",
            "\n",
            "Product:\n",
            " [[ 9 56  7]\n",
            " [12  0 21]]\n",
            "\n",
            "Sum of Product Rows:\n",
            " [72 33]\n"
          ]
        }
      ]
    },
    {
      "cell_type": "markdown",
      "source": [
        "\n",
        "\n",
        "---\n",
        "\n",
        "\n",
        "\n",
        "---\n",
        "\n",
        "\n",
        "\n",
        "---\n",
        "\n"
      ],
      "metadata": {
        "id": "kqxzW_3ZW8b5"
      }
    },
    {
      "cell_type": "markdown",
      "source": [
        "### **Question 10:**"
      ],
      "metadata": {
        "id": "jEg_QL7CW8rw"
      }
    },
    {
      "cell_type": "markdown",
      "source": [
        "**Advanced Array Creation:** Create a 2D array of shape (7,7) where the border consists of ones and the inner part consists of zeros."
      ],
      "metadata": {
        "id": "_s9937cCW9Qv"
      }
    },
    {
      "cell_type": "code",
      "source": [
        "### Answer\n",
        "\n",
        "advanced = np.zeros((7,7)) # create an array of 0s\n",
        "\n",
        "advanced[[0,6],:] = 1 # change all elements in the first and last rows to 1\n",
        "advanced[:,[0,6]] = 1 # change all elements in the first and last columns to 1\n",
        "\n",
        "print(advanced)"
      ],
      "metadata": {
        "id": "ZEuY35gZXN9d",
        "colab": {
          "base_uri": "https://localhost:8080/"
        },
        "outputId": "678ab2a8-621b-42e0-be83-c9673e3a6492"
      },
      "execution_count": 124,
      "outputs": [
        {
          "output_type": "stream",
          "name": "stdout",
          "text": [
            "[[1. 1. 1. 1. 1. 1. 1.]\n",
            " [1. 0. 0. 0. 0. 0. 1.]\n",
            " [1. 0. 0. 0. 0. 0. 1.]\n",
            " [1. 0. 0. 0. 0. 0. 1.]\n",
            " [1. 0. 0. 0. 0. 0. 1.]\n",
            " [1. 0. 0. 0. 0. 0. 1.]\n",
            " [1. 1. 1. 1. 1. 1. 1.]]\n"
          ]
        }
      ]
    }
  ]
}