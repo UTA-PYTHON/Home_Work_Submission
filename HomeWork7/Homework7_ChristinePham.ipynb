{
 "cells": [
  {
   "cell_type": "markdown",
   "metadata": {},
   "source": [
    "Name: Christine Pham\n",
    "\n",
    "ID: 1001705879"
   ]
  },
  {
   "cell_type": "markdown",
   "metadata": {
    "id": "0zZlEeZdSGBW"
   },
   "source": [
    "# **Homework 7: Numpy**"
   ]
  },
  {
   "cell_type": "markdown",
   "metadata": {
    "id": "MJ7o5DfIZxUH"
   },
   "source": [
    "## **Due date:** November 3rd, at 2:30 PM.\n",
    "\n",
    "## **Submission:** Please push your homework to the our GitHub repository, and place it in the 'Homework 7' folder."
   ]
  },
  {
   "cell_type": "markdown",
   "metadata": {
    "id": "0xb-Hc9SZ3nf"
   },
   "source": [
    "\n",
    "\n",
    "---\n",
    "\n",
    "\n",
    "\n",
    "---\n",
    "\n",
    "\n",
    "\n",
    "---\n",
    "\n",
    "\n",
    "\n",
    "---\n",
    "\n"
   ]
  },
  {
   "cell_type": "markdown",
   "metadata": {
    "id": "LAp5txV5SQ7x"
   },
   "source": [
    "### **Question 1:**"
   ]
  },
  {
   "cell_type": "markdown",
   "metadata": {
    "id": "MzNamLiQSO21"
   },
   "source": [
    "Use NumPy to solve the following system of linear equations:"
   ]
  },
  {
   "cell_type": "code",
   "execution_count": null,
   "metadata": {
    "id": "Tx8KbjfvRs9k"
   },
   "outputs": [],
   "source": [
    "3x+ 2y- z= 1\n",
    "\n",
    "2x+ 2y+ 4z= -2\n",
    "\n",
    "-x+ 1/2y- z= 0\n"
   ]
  },
  {
   "cell_type": "code",
   "execution_count": 3,
   "metadata": {
    "id": "wSITtqqeSX0K"
   },
   "outputs": [
    {
     "name": "stdout",
     "output_type": "stream",
     "text": [
      "x, y, z (respectively):  [[ 0.36842105 -0.31578947 -0.52631579]]\n"
     ]
    }
   ],
   "source": [
    "import numpy as np\n",
    "\n",
    "a=np.array([[[3,2,-1],[2,2,4],[-1,0.5,-1]]])\n",
    "b=np.array([[1,-2,0]])\n",
    "\n",
    "solution=np.linalg.solve(a,b)\n",
    "print(\"x, y, z (respectively): \",solution)\n"
   ]
  },
  {
   "cell_type": "markdown",
   "metadata": {
    "id": "XYAG29lDSeTD"
   },
   "source": [
    "\n",
    "\n",
    "---\n",
    "\n",
    "\n",
    "\n",
    "---\n",
    "\n"
   ]
  },
  {
   "cell_type": "markdown",
   "metadata": {
    "id": "TaqiI1-eSeVq"
   },
   "source": [
    "### **Question 2:**"
   ]
  },
  {
   "cell_type": "markdown",
   "metadata": {
    "id": "Aldzq_A1Se6Z"
   },
   "source": [
    "Generate an array of 1000 random numbers sampled from a standard normal distribution, then visualize it."
   ]
  },
  {
   "cell_type": "code",
   "execution_count": 22,
   "metadata": {
    "id": "wyEId-OXSaxz"
   },
   "outputs": [
    {
     "data": {
      "image/png": "[encoded data removed]",
      "text/plain": [
       "<Figure size 640x480 with 1 Axes>"
      ]
     },
     "metadata": {},
     "output_type": "display_data"
    }
   ],
   "source": [
    "import numpy as np\n",
    "import matplotlib.pyplot as plt\n",
    "\n",
    "random=np.random.randn(1000)\n",
    "\n",
    "plt.hist(random,bins=50)\n",
    "plt.title(\"1000 random numbers sampled from a standard normal distribution\")\n",
    "plt.xlabel(\"value\")\n",
    "plt.ylabel(\"frequency\")\n",
    "plt.show()\n"
   ]
  },
  {
   "cell_type": "markdown",
   "metadata": {
    "id": "5gNSvLW7S41q"
   },
   "source": [
    "\n",
    "\n",
    "---\n",
    "\n",
    "\n",
    "\n",
    "---\n",
    "\n"
   ]
  },
  {
   "cell_type": "markdown",
   "metadata": {
    "id": "ZH3t6bWSS44Q"
   },
   "source": [
    "### **Question 3:**"
   ]
  },
  {
   "cell_type": "markdown",
   "metadata": {
    "id": "0kqKrtKDS-Vw"
   },
   "source": [
    "Calculate the dot product of the following two vectors using NumPy:"
   ]
  },
  {
   "cell_type": "code",
   "execution_count": null,
   "metadata": {
    "id": "1bpcoSo7S7F_"
   },
   "outputs": [],
   "source": [
    "A = [2, 3, 4]\n",
    "B = [5, 6, 7]"
   ]
  },
  {
   "cell_type": "code",
   "execution_count": 88,
   "metadata": {
    "id": "ufkWofy2TCAT"
   },
   "outputs": [
    {
     "name": "stdout",
     "output_type": "stream",
     "text": [
      "dot product:  56\n"
     ]
    }
   ],
   "source": [
    "import numpy as np\n",
    "\n",
    "a_np=np.array([2,3,4])\n",
    "b_np=np.array([5,6,7])\n",
    "\n",
    "product=np.dot(a_np,b_np)\n",
    "print(\"dot product: \",product)\n"
   ]
  },
  {
   "cell_type": "markdown",
   "metadata": {
    "id": "RmGc6wRuTKn2"
   },
   "source": [
    "\n",
    "\n",
    "---\n",
    "\n",
    "\n",
    "\n",
    "---\n",
    "\n"
   ]
  },
  {
   "cell_type": "markdown",
   "metadata": {
    "id": "KxNuMC2CTKsA"
   },
   "source": [
    "### **Question 4:**"
   ]
  },
  {
   "cell_type": "markdown",
   "metadata": {
    "id": "MWbDMbrOTKvJ"
   },
   "source": [
    "**Random Numbers:**: Generate a 1D array of 20 random integers between 10 and 50. Find out how many of them are even."
   ]
  },
  {
   "cell_type": "code",
   "execution_count": 23,
   "metadata": {
    "id": "GYB7vYXpTUaV"
   },
   "outputs": [
    {
     "name": "stdout",
     "output_type": "stream",
     "text": [
      "random list:  [33 29 43 21 25 23 35 31 21 49 46 42 24 43 38 12 10 44 24 34]\n",
      "even integers:  [46, 42, 24, 38, 12, 10, 44, 24, 34]\n",
      "number of even integers:  9\n"
     ]
    }
   ],
   "source": [
    "import numpy as np\n",
    "\n",
    "rand_int=np.random.randint(10,50,20)\n",
    "even=[]\n",
    "even_en=[]\n",
    "\n",
    "print(\"random list: \",rand_int)\n",
    "\n",
    "for number in rand_int:\n",
    "    if number%2==0:\n",
    "        even.append(number)\n",
    "        \n",
    "print(\"even integers: \",even)\n",
    "\n",
    "for e_numb,even in enumerate(even,start=1):\n",
    "    even_en.append(e_numb)\n",
    "    \n",
    "print(\"number of even integers: \",even_en[-1])\n"
   ]
  },
  {
   "cell_type": "markdown",
   "metadata": {
    "id": "5S5fZCFhTZQt"
   },
   "source": [
    "\n",
    "\n",
    "---\n",
    "\n",
    "\n",
    "\n",
    "---\n",
    "\n"
   ]
  },
  {
   "cell_type": "markdown",
   "metadata": {
    "id": "dV5FRmKETZU7"
   },
   "source": [
    "### **Question 5:**"
   ]
  },
  {
   "cell_type": "markdown",
   "metadata": {
    "id": "L2nisglFTZZT"
   },
   "source": [
    "**Data Manipulation:** Consider an array of dimension (8,8). Swap the first and last columns."
   ]
  },
  {
   "cell_type": "code",
   "execution_count": 52,
   "metadata": {
    "id": "S9rg9roST0Fj"
   },
   "outputs": [
    {
     "name": "stdout",
     "output_type": "stream",
     "text": [
      "original:\n",
      "[[14 64 73 74 30 91  2 86]\n",
      " [38 79 35 91 75 73 67 20]\n",
      " [ 7 11  5  8  1 27 25 89]\n",
      " [67 26 26  8 98 83 20 40]\n",
      " [51 29 87 29 37 19  4 78]\n",
      " [57 75 41 99 61 65 34 58]\n",
      " [ 4 91 56 40 59  5 86 46]\n",
      " [85 98 50 69  3 19 50 50]]\n",
      " \n",
      "new:\n",
      "[[86 64 73 74 30 91  2 14]\n",
      " [20 79 35 91 75 73 67 38]\n",
      " [89 11  5  8  1 27 25  7]\n",
      " [40 26 26  8 98 83 20 67]\n",
      " [78 29 87 29 37 19  4 51]\n",
      " [58 75 41 99 61 65 34 57]\n",
      " [46 91 56 40 59  5 86  4]\n",
      " [50 98 50 69  3 19 50 85]]\n"
     ]
    }
   ],
   "source": [
    "a_8x8=np.random.randint(0,100,size=(8,8))\n",
    "print(\"original:\")\n",
    "print(a_8x8)\n",
    "print(\" \")\n",
    "\n",
    "f_column=a_8x8[:,0]\n",
    "l_column=a_8x8[:,-1]\n",
    "\n",
    "new_8x8=a_8x8.copy()\n",
    "new_8x8[:,0]=l_column\n",
    "new_8x8[:,-1]=f_column\n",
    "\n",
    "print(\"new:\")\n",
    "print(new_8x8)\n"
   ]
  },
  {
   "cell_type": "markdown",
   "metadata": {
    "id": "AOa_G4ztT7nb"
   },
   "source": [
    "\n",
    "\n",
    "---\n",
    "\n",
    "\n",
    "\n",
    "---\n",
    "\n"
   ]
  },
  {
   "cell_type": "markdown",
   "metadata": {
    "id": "FRAUkFD9T7qA"
   },
   "source": [
    "### **Question 6:**"
   ]
  },
  {
   "cell_type": "markdown",
   "metadata": {
    "id": "52SeOsbTT7sZ"
   },
   "source": [
    "**Given a 2D NumPy array data, extract the following subsets:**\n",
    "\n",
    "- The first row.\n",
    "- The last column.\n",
    "- The subarray consisting of the first two rows and the last two columns."
   ]
  },
  {
   "cell_type": "code",
   "execution_count": 48,
   "metadata": {
    "id": "JQb-XngHXuK3"
   },
   "outputs": [
    {
     "name": "stdout",
     "output_type": "stream",
     "text": [
      "[[9 3 3 4]\n",
      " [8 9 5 7]\n",
      " [1 2 9 8]]\n",
      " \n",
      "first row:  [9 3 3 4]\n",
      "last column:  [4 7 8]\n",
      "first 2 rows, last 2 columns: \n",
      "[[3 4]\n",
      " [5 7]]\n"
     ]
    }
   ],
   "source": [
    "a_2D=np.random.randint(1,10,size=(3,4))\n",
    "print(a_2D)\n",
    "\n",
    "print(\" \")\n",
    "\n",
    "print(\"first row: \",a_2D[0,:])\n",
    "print(\"last column: \", a_2D[:,-1])\n",
    "print(\"first 2 rows, last 2 columns: \")\n",
    "print(a_2D[:2,-2:])\n"
   ]
  },
  {
   "cell_type": "markdown",
   "metadata": {
    "id": "A-MUs7t7X9M6"
   },
   "source": [
    "\n",
    "\n",
    "---\n",
    "\n",
    "\n",
    "\n",
    "---\n",
    "\n"
   ]
  },
  {
   "cell_type": "markdown",
   "metadata": {
    "id": "MZlbvvgsX9PP"
   },
   "source": [
    "### **Question 7:**"
   ]
  },
  {
   "cell_type": "markdown",
   "metadata": {
    "id": "rqWn93qTX9RV"
   },
   "source": [
    "**Statistics:** Create a matrix of shape (5,5), find the mean and variance of the values in its 3rd column."
   ]
  },
  {
   "cell_type": "code",
   "execution_count": 92,
   "metadata": {
    "id": "-So6J1QdXyoQ"
   },
   "outputs": [
    {
     "name": "stdout",
     "output_type": "stream",
     "text": [
      "[[ 3 14 16 14  1]\n",
      " [11  5  6 10  8]\n",
      " [12 19  2 11 19]\n",
      " [14 16  7  2 10]\n",
      " [ 5  7 16 10 11]]\n",
      " \n",
      "column 3:  [16  6  2  7 16]\n",
      "mean:  9.4\n",
      "variance:  31.839999999999996\n"
     ]
    }
   ],
   "source": [
    "a_5x5=np.random.randint(1,20,size=(5,5))\n",
    "print(a_5x5)\n",
    "\n",
    "print(\" \")\n",
    "\n",
    "c3_5x5=a_5x5[:,2]\n",
    "print(\"column 3: \",c3_5x5)\n",
    "\n",
    "print(\"mean: \",np.mean(c3_5x5))\n",
    "print(\"variance: \",np.var(c3_5x5))\n"
   ]
  },
  {
   "cell_type": "markdown",
   "metadata": {
    "id": "Nlzix9NCVSVc"
   },
   "source": [
    "\n",
    "\n",
    "---\n",
    "\n",
    "\n",
    "\n",
    "---\n",
    "\n",
    "\n",
    "\n",
    "---\n",
    "\n"
   ]
  },
  {
   "cell_type": "markdown",
   "metadata": {
    "id": "CiK_vk4tVUXL"
   },
   "source": [
    "### **Question 8:**"
   ]
  },
  {
   "cell_type": "markdown",
   "metadata": {
    "id": "L23uRV1dVehN"
   },
   "source": [
    "**Linear Algebra:** Given a 4x4 matrix, compute its transpose and then find the dot product of the matrix with its transpose."
   ]
  },
  {
   "cell_type": "code",
   "execution_count": 69,
   "metadata": {
    "id": "DsBPYJT4Xsqx"
   },
   "outputs": [],
   "source": [
    "\n",
    "matrix = np.array([[1, 2, 3, 4],\n",
    "                   [5, 6, 7, 8],\n",
    "                   [9, 10, 11, 12],\n",
    "                   [13, 14, 15, 16]])"
   ]
  },
  {
   "cell_type": "code",
   "execution_count": 90,
   "metadata": {
    "id": "eJU7h0AQYYx2"
   },
   "outputs": [
    {
     "name": "stdout",
     "output_type": "stream",
     "text": [
      "transposed matrix:\n",
      "[[ 1  5  9 13]\n",
      " [ 2  6 10 14]\n",
      " [ 3  7 11 15]\n",
      " [ 4  8 12 16]]\n",
      " \n",
      "dot product:\n",
      "[[ 30  70 110 150]\n",
      " [ 70 174 278 382]\n",
      " [110 278 446 614]\n",
      " [150 382 614 846]]\n"
     ]
    }
   ],
   "source": [
    "tran_m=np.transpose(matrix)\n",
    "print(\"transposed matrix:\")\n",
    "print(tran_m)\n",
    "\n",
    "print(\" \")\n",
    "\n",
    "dot_prod=np.dot(matrix,tran_m)\n",
    "print(\"dot product:\")\n",
    "print(dot_prod)\n"
   ]
  },
  {
   "cell_type": "markdown",
   "metadata": {
    "id": "dL0-iqHkVv3f"
   },
   "source": [
    "\n",
    "\n",
    "---\n",
    "\n",
    "\n",
    "\n",
    "---\n",
    "\n"
   ]
  },
  {
   "cell_type": "markdown",
   "metadata": {
    "id": "ygs9UMtZVx8E"
   },
   "source": [
    "### **Question 9:**"
   ]
  },
  {
   "cell_type": "markdown",
   "metadata": {
    "id": "LnzUKFw4Vx-7"
   },
   "source": [
    "**Array Operations:** Create two matrices, then Compute the element-wise multiplication of two matrices, then sum the values in each row of the resulting matrix."
   ]
  },
  {
   "cell_type": "code",
   "execution_count": 78,
   "metadata": {
    "id": "9IyD0U-3VmJ3"
   },
   "outputs": [
    {
     "name": "stdout",
     "output_type": "stream",
     "text": [
      "matrix a:\n",
      "[[3 7 3]\n",
      " [6 3 7]\n",
      " [9 9 4]]\n",
      " \n",
      "matrix b:\n",
      "[[3 7 5]\n",
      " [5 1 9]\n",
      " [8 8 1]]\n",
      " \n",
      "element-wise multiplication:\n",
      "[[ 9 49 15]\n",
      " [30  3 63]\n",
      " [72 72  4]]\n",
      " \n",
      "row sum:\n",
      "[ 73  96 148]\n"
     ]
    }
   ],
   "source": [
    "m_a=np.random.randint(1,10,size=(3,3))\n",
    "m_b=np.random.randint(1,10,size=(3,3))\n",
    "\n",
    "print(\"matrix a:\")\n",
    "print(m_a)\n",
    "\n",
    "print(\" \")\n",
    "\n",
    "print(\"matrix b:\")\n",
    "print(m_b)\n",
    "\n",
    "print(\" \")\n",
    "\n",
    "mult=np.multiply(m_a,m_b)\n",
    "print(\"element-wise multiplication:\")\n",
    "print(mult)\n",
    "\n",
    "print(\" \")\n",
    "\n",
    "r_sum=np.sum(mult,axis=1)\n",
    "print(\"row sum:\")\n",
    "print(r_sum)\n"
   ]
  },
  {
   "cell_type": "markdown",
   "metadata": {
    "id": "kqxzW_3ZW8b5"
   },
   "source": [
    "\n",
    "\n",
    "---\n",
    "\n",
    "\n",
    "\n",
    "---\n",
    "\n",
    "\n",
    "\n",
    "---\n",
    "\n"
   ]
  },
  {
   "cell_type": "markdown",
   "metadata": {
    "id": "jEg_QL7CW8rw"
   },
   "source": [
    "### **Question 10:**"
   ]
  },
  {
   "cell_type": "markdown",
   "metadata": {
    "id": "_s9937cCW9Qv"
   },
   "source": [
    "**Advanced Array Creation:** Create a 2D array of shape (7,7) where the border consists of ones and the inner part consists of zeros."
   ]
  },
  {
   "cell_type": "code",
   "execution_count": 91,
   "metadata": {
    "id": "ZEuY35gZXN9d"
   },
   "outputs": [
    {
     "name": "stdout",
     "output_type": "stream",
     "text": [
      "[[1. 1. 1. 1. 1. 1. 1.]\n",
      " [1. 0. 0. 0. 0. 0. 1.]\n",
      " [1. 0. 0. 0. 0. 0. 1.]\n",
      " [1. 0. 0. 0. 0. 0. 1.]\n",
      " [1. 0. 0. 0. 0. 0. 1.]\n",
      " [1. 0. 0. 0. 0. 0. 1.]\n",
      " [1. 1. 1. 1. 1. 1. 1.]]\n"
     ]
    }
   ],
   "source": [
    "a_7x7=np.zeros((7,7))\n",
    "\n",
    "a_7x7[0,:]=1\n",
    "a_7x7[-1,:]=1\n",
    "a_7x7[:,0]=1\n",
    "a_7x7[:,-1]=1\n",
    "\n",
    "print(a_7x7)\n"
   ]
  }
 ],
 "metadata": {
  "colab": {
   "provenance": []
  },
  "kernelspec": {
   "display_name": "Python 3 (ipykernel)",
   "language": "python",
   "name": "python3"
  },
  "language_info": {
   "codemirror_mode": {
    "name": "ipython",
    "version": 3
   },
   "file_extension": ".py",
   "mimetype": "text/x-python",
   "name": "python",
   "nbconvert_exporter": "python",
   "pygments_lexer": "ipython3",
   "version": "3.11.4"
  }
 },
 "nbformat": 4,
 "nbformat_minor": 1
}
