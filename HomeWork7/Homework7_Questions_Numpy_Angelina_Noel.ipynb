{
  "nbformat": 4,
  "nbformat_minor": 0,
  "metadata": {
    "colab": {
      "provenance": []
    },
    "kernelspec": {
      "name": "python3",
      "display_name": "Python 3"
    },
    "language_info": {
      "name": "python"
    }
  },
  "cells": [
    {
      "cell_type": "markdown",
      "source": [
        "# **Homework 7: Numpy**"
      ],
      "metadata": {
        "id": "0zZlEeZdSGBW"
      }
    },
    {
      "cell_type": "markdown",
      "source": [
        "## **Due date:** November 3rd, at 2:30 PM.\n",
        "\n",
        "## **Submission:** Please push your homework to the our GitHub repository, and place it in the 'Homework 7' folder."
      ],
      "metadata": {
        "id": "MJ7o5DfIZxUH"
      }
    },
    {
      "cell_type": "markdown",
      "source": [
        "\n",
        "\n",
        "---\n",
        "\n",
        "\n",
        "\n",
        "---\n",
        "\n",
        "\n",
        "\n",
        "---\n",
        "\n",
        "\n",
        "\n",
        "---\n",
        "\n"
      ],
      "metadata": {
        "id": "0xb-Hc9SZ3nf"
      }
    },
    {
      "cell_type": "markdown",
      "source": [
        "### **Question 1:**"
      ],
      "metadata": {
        "id": "LAp5txV5SQ7x"
      }
    },
    {
      "cell_type": "markdown",
      "source": [
        "Use NumPy to solve the following system of linear equations:"
      ],
      "metadata": {
        "id": "MzNamLiQSO21"
      }
    },
    {
      "cell_type": "code",
      "execution_count": null,
      "metadata": {
        "id": "Tx8KbjfvRs9k"
      },
      "outputs": [],
      "source": [
        "3x+ 2y- z= 1\n",
        "\n",
        "2x+ 2y+ 4z= -2\n",
        "\n",
        "-x+ 1/2y- z= 0\n"
      ]
    },
    {
      "cell_type": "code",
      "source": [
        "### Answer\n",
        "import numpy as np\n",
        "A=np.array([[3,2,-1],\n",
        "            [2,2,4],\n",
        "            [-1,0.5,-1]])\n",
        "b=np.array([1,-2,0])\n",
        "x=np.linalg.solve(A,b)\n",
        "print(\"solution:\",x)"
      ],
      "metadata": {
        "id": "wSITtqqeSX0K",
        "colab": {
          "base_uri": "https://localhost:8080/"
        },
        "outputId": "a1418443-1a8b-42f9-d6cf-388528942a93"
      },
      "execution_count": 2,
      "outputs": [
        {
          "output_type": "stream",
          "name": "stdout",
          "text": [
            "solution: [ 0.36842105 -0.31578947 -0.52631579]\n"
          ]
        }
      ]
    },
    {
      "cell_type": "markdown",
      "source": [
        "\n",
        "\n",
        "---\n",
        "\n",
        "\n",
        "\n",
        "---\n",
        "\n"
      ],
      "metadata": {
        "id": "XYAG29lDSeTD"
      }
    },
    {
      "cell_type": "markdown",
      "source": [
        "### **Question 2:**"
      ],
      "metadata": {
        "id": "TaqiI1-eSeVq"
      }
    },
    {
      "cell_type": "markdown",
      "source": [
        "Generate an array of 1000 random numbers sampled from a standard normal distribution, then visualize it."
      ],
      "metadata": {
        "id": "Aldzq_A1Se6Z"
      }
    },
    {
      "cell_type": "code",
      "source": [
        "### Answer\n",
        "import numpy as np\n",
        "import matplotlib.pyplot as plt\n",
        "data=np.random.randn(1000)\n",
        "plt.hist(data, bins=30, density=True, alpha=0.5,color='b')\n",
        "plt.xlabel('Value')\n",
        "plt.ylabel('Frequency')\n",
        "plt.title('Histogram of Random Data from Standard Normal Distribution')\n",
        "plt.show()"
      ],
      "metadata": {
        "id": "wyEId-OXSaxz",
        "colab": {
          "base_uri": "https://localhost:8080/",
          "height": 472
        },
        "outputId": "10e8614e-6f1f-40f8-c4ab-f5d2e7292ede"
      },
      "execution_count": 3,
      "outputs": [
        {
          "output_type": "display_data",
          "data": {
            "text/plain": [
              "<Figure size 640x480 with 1 Axes>"
            ],
            "image/png": "[encoded data removed]"
          },
          "metadata": {}
        }
      ]
    },
    {
      "cell_type": "markdown",
      "source": [
        "\n",
        "\n",
        "---\n",
        "\n",
        "\n",
        "\n",
        "---\n",
        "\n"
      ],
      "metadata": {
        "id": "5gNSvLW7S41q"
      }
    },
    {
      "cell_type": "markdown",
      "source": [
        "### **Question 3:**"
      ],
      "metadata": {
        "id": "ZH3t6bWSS44Q"
      }
    },
    {
      "cell_type": "markdown",
      "source": [
        "Calculate the dot product of the following two vectors using NumPy:"
      ],
      "metadata": {
        "id": "0kqKrtKDS-Vw"
      }
    },
    {
      "cell_type": "code",
      "source": [
        "A = [2, 3, 4]\n",
        "B = [5, 6, 7]"
      ],
      "metadata": {
        "id": "1bpcoSo7S7F_"
      },
      "execution_count": null,
      "outputs": []
    },
    {
      "cell_type": "code",
      "source": [
        "### Answer\n",
        "import numpy as np\n",
        "A=np.array([2,3,4])\n",
        "B=np.array([5,6,7])\n",
        "dot_product=np.dot(A,B)\n",
        "print(\"Dot Product of A and B:\",dot_product)"
      ],
      "metadata": {
        "id": "ufkWofy2TCAT",
        "colab": {
          "base_uri": "https://localhost:8080/"
        },
        "outputId": "9a3baedb-fdd4-4c00-9a78-6a957ad83955"
      },
      "execution_count": 4,
      "outputs": [
        {
          "output_type": "stream",
          "name": "stdout",
          "text": [
            "Dot Product of A and B: 56\n"
          ]
        }
      ]
    },
    {
      "cell_type": "markdown",
      "source": [
        "\n",
        "\n",
        "---\n",
        "\n",
        "\n",
        "\n",
        "---\n",
        "\n"
      ],
      "metadata": {
        "id": "RmGc6wRuTKn2"
      }
    },
    {
      "cell_type": "markdown",
      "source": [
        "### **Question 4:**"
      ],
      "metadata": {
        "id": "KxNuMC2CTKsA"
      }
    },
    {
      "cell_type": "markdown",
      "source": [
        "**Random Numbers:**: Generate a 1D array of 20 random integers between 10 and 50. Find out how many of them are even."
      ],
      "metadata": {
        "id": "MWbDMbrOTKvJ"
      }
    },
    {
      "cell_type": "code",
      "source": [
        "### Answer\n",
        "x=np.random.randint(10,51,20)\n",
        "print(x)\n",
        "y=0\n",
        "\n",
        "for i in x:\n",
        "  if i%2==0:\n",
        "    y+=1\n",
        "print('Total amount of even numbers:',y)"
      ],
      "metadata": {
        "id": "GYB7vYXpTUaV",
        "colab": {
          "base_uri": "https://localhost:8080/"
        },
        "outputId": "05bd5c63-fee6-49a1-e30e-e676bb3b5247"
      },
      "execution_count": 5,
      "outputs": [
        {
          "output_type": "stream",
          "name": "stdout",
          "text": [
            "[44 40 30 36 12 39 21 29 50 33 38 47 23 15 11 19 49 29 14 19]\n",
            "Total amount of even numbers: 8\n"
          ]
        }
      ]
    },
    {
      "cell_type": "markdown",
      "source": [
        "\n",
        "\n",
        "---\n",
        "\n",
        "\n",
        "\n",
        "---\n",
        "\n"
      ],
      "metadata": {
        "id": "5S5fZCFhTZQt"
      }
    },
    {
      "cell_type": "markdown",
      "source": [
        "### **Question 5:**"
      ],
      "metadata": {
        "id": "dV5FRmKETZU7"
      }
    },
    {
      "cell_type": "markdown",
      "source": [
        "**Data Manipulation:** Consider an array of dimension (8,8). Swap the first and last columns."
      ],
      "metadata": {
        "id": "L2nisglFTZZT"
      }
    },
    {
      "cell_type": "code",
      "source": [
        "### Answer\n",
        "import numpy as np\n",
        "original_array=np.arange(64).reshape(8,8)\n",
        "swapped_array=original_array.copy()\n",
        "swapped_array[:,[0,-1]]=swapped_array[:,[-1,0]]\n",
        "print(\"Original Array:\")\n",
        "print(original_array)\n",
        "print(\"\\nSwapped Array (First and Last Columns Swapped):\")\n",
        "print(swapped_array)"
      ],
      "metadata": {
        "id": "S9rg9roST0Fj",
        "colab": {
          "base_uri": "https://localhost:8080/"
        },
        "outputId": "a750132f-375d-4282-b744-c00db0664966"
      },
      "execution_count": 6,
      "outputs": [
        {
          "output_type": "stream",
          "name": "stdout",
          "text": [
            "Original Array:\n",
            "[[ 0  1  2  3  4  5  6  7]\n",
            " [ 8  9 10 11 12 13 14 15]\n",
            " [16 17 18 19 20 21 22 23]\n",
            " [24 25 26 27 28 29 30 31]\n",
            " [32 33 34 35 36 37 38 39]\n",
            " [40 41 42 43 44 45 46 47]\n",
            " [48 49 50 51 52 53 54 55]\n",
            " [56 57 58 59 60 61 62 63]]\n",
            "\n",
            "Swapped Array (First and Last Columns Swapped):\n",
            "[[ 7  1  2  3  4  5  6  0]\n",
            " [15  9 10 11 12 13 14  8]\n",
            " [23 17 18 19 20 21 22 16]\n",
            " [31 25 26 27 28 29 30 24]\n",
            " [39 33 34 35 36 37 38 32]\n",
            " [47 41 42 43 44 45 46 40]\n",
            " [55 49 50 51 52 53 54 48]\n",
            " [63 57 58 59 60 61 62 56]]\n"
          ]
        }
      ]
    },
    {
      "cell_type": "markdown",
      "source": [
        "\n",
        "\n",
        "---\n",
        "\n",
        "\n",
        "\n",
        "---\n",
        "\n"
      ],
      "metadata": {
        "id": "AOa_G4ztT7nb"
      }
    },
    {
      "cell_type": "markdown",
      "source": [
        "### **Question 6:**"
      ],
      "metadata": {
        "id": "FRAUkFD9T7qA"
      }
    },
    {
      "cell_type": "markdown",
      "source": [
        "**Given a 2D NumPy array data, extract the following subsets:**\n",
        "\n",
        "- The first row.\n",
        "- The last column.\n",
        "- The subarray consisting of the first two rows and the last two columns."
      ],
      "metadata": {
        "id": "52SeOsbTT7sZ"
      }
    },
    {
      "cell_type": "code",
      "source": [
        "## Answer\n",
        "import numpy as np\n",
        "data=np.array([[1,2,3,4],\n",
        "               [5,6,7,8],\n",
        "               [9,10,11,12]])\n",
        "first_row=data[0,:]\n",
        "last_column=data[:,-1]\n",
        "subarray=data[:2,-2:]\n",
        "print(\"First Row\",first_row)\n",
        "print(\"Last Column\",last_column)\n",
        "print(\"Subarray:\",subarray)\n"
      ],
      "metadata": {
        "id": "JQb-XngHXuK3",
        "colab": {
          "base_uri": "https://localhost:8080/"
        },
        "outputId": "e75d6514-12d4-4800-dc27-bfbebece74c0"
      },
      "execution_count": 9,
      "outputs": [
        {
          "output_type": "stream",
          "name": "stdout",
          "text": [
            "First Row [1 2 3 4]\n",
            "Last Column [ 4  8 12]\n",
            "Subarray: [[3 4]\n",
            " [7 8]]\n"
          ]
        }
      ]
    },
    {
      "cell_type": "markdown",
      "source": [
        "\n",
        "\n",
        "---\n",
        "\n",
        "\n",
        "\n",
        "---\n",
        "\n"
      ],
      "metadata": {
        "id": "A-MUs7t7X9M6"
      }
    },
    {
      "cell_type": "markdown",
      "source": [
        "### **Question 7:**"
      ],
      "metadata": {
        "id": "MZlbvvgsX9PP"
      }
    },
    {
      "cell_type": "markdown",
      "source": [
        "**Statistics:** Create a matrix of shape (5,5), find the mean and variance of the values in its 3rd column."
      ],
      "metadata": {
        "id": "rqWn93qTX9RV"
      }
    },
    {
      "cell_type": "code",
      "source": [
        "### Answer\n",
        "import numpy as np\n",
        "matrix=np.array([[1,2,3,4,5],\n",
        "                 [6,7,8,9,10],\n",
        "                 [11,12,13,14,15],\n",
        "                 [16,17,18,19,20],\n",
        "                 [21,22,23,24,25]])\n",
        "mean=np.mean(matrix[:,2],axis=0)\n",
        "var=np.var(matrix[:,2],axis=0)"
      ],
      "metadata": {
        "id": "-So6J1QdXyoQ"
      },
      "execution_count": 1,
      "outputs": []
    },
    {
      "cell_type": "code",
      "source": [
        "mean"
      ],
      "metadata": {
        "colab": {
          "base_uri": "https://localhost:8080/"
        },
        "id": "BtpVRYQe5QHg",
        "outputId": "5e4da326-05d3-4ee6-e228-6c413736d22b"
      },
      "execution_count": 2,
      "outputs": [
        {
          "output_type": "execute_result",
          "data": {
            "text/plain": [
              "13.0"
            ]
          },
          "metadata": {},
          "execution_count": 2
        }
      ]
    },
    {
      "cell_type": "code",
      "source": [
        "var"
      ],
      "metadata": {
        "colab": {
          "base_uri": "https://localhost:8080/"
        },
        "id": "J0Na_nMM5SYF",
        "outputId": "0a9a598b-fb2f-4974-b177-ae424ec9d7b4"
      },
      "execution_count": 3,
      "outputs": [
        {
          "output_type": "execute_result",
          "data": {
            "text/plain": [
              "50.0"
            ]
          },
          "metadata": {},
          "execution_count": 3
        }
      ]
    },
    {
      "cell_type": "markdown",
      "source": [
        "\n",
        "\n",
        "---\n",
        "\n",
        "\n",
        "\n",
        "---\n",
        "\n",
        "\n",
        "\n",
        "---\n",
        "\n"
      ],
      "metadata": {
        "id": "Nlzix9NCVSVc"
      }
    },
    {
      "cell_type": "markdown",
      "source": [
        "### **Question 8:**"
      ],
      "metadata": {
        "id": "CiK_vk4tVUXL"
      }
    },
    {
      "cell_type": "markdown",
      "source": [
        "**Linear Algebra:** Given a 4x4 matrix, compute its transpose and then find the dot product of the matrix with its transpose."
      ],
      "metadata": {
        "id": "L23uRV1dVehN"
      }
    },
    {
      "cell_type": "code",
      "source": [
        "\n",
        "matrix = np.array([[1, 2, 3, 4],\n",
        "                   [5, 6, 7, 8],\n",
        "                   [9, 10, 11, 12],\n",
        "                   [13, 14, 15, 16]])"
      ],
      "metadata": {
        "id": "DsBPYJT4Xsqx"
      },
      "execution_count": null,
      "outputs": []
    },
    {
      "cell_type": "code",
      "source": [
        "import numpy as np\n",
        "matrix = np.array([[1, 2, 3, 4],\n",
        "                   [5, 6, 7, 8],\n",
        "                   [9, 10, 11, 12],\n",
        "                   [13, 14, 15, 16]])\n",
        "transpose = np.transpose(matrix)\n",
        "dot_product = np.dot(matrix, transpose)\n",
        "print(\"The transpose of the matrix is:\")\n",
        "print(transpose)\n",
        "print(\"The dot product of the matrix and its transpose is:\")\n",
        "print(dot_product)"
      ],
      "metadata": {
        "id": "eJU7h0AQYYx2",
        "colab": {
          "base_uri": "https://localhost:8080/"
        },
        "outputId": "0a84ba36-332f-4ee8-ad99-521feb68cb80"
      },
      "execution_count": 4,
      "outputs": [
        {
          "output_type": "stream",
          "name": "stdout",
          "text": [
            "The transpose of the matrix is:\n",
            "[[ 1  5  9 13]\n",
            " [ 2  6 10 14]\n",
            " [ 3  7 11 15]\n",
            " [ 4  8 12 16]]\n",
            "The dot product of the matrix and its transpose is:\n",
            "[[ 30  70 110 150]\n",
            " [ 70 174 278 382]\n",
            " [110 278 446 614]\n",
            " [150 382 614 846]]\n"
          ]
        }
      ]
    },
    {
      "cell_type": "markdown",
      "source": [
        "\n",
        "\n",
        "---\n",
        "\n",
        "\n",
        "\n",
        "---\n",
        "\n"
      ],
      "metadata": {
        "id": "dL0-iqHkVv3f"
      }
    },
    {
      "cell_type": "markdown",
      "source": [
        "### **Question 9:**"
      ],
      "metadata": {
        "id": "ygs9UMtZVx8E"
      }
    },
    {
      "cell_type": "markdown",
      "source": [
        "**Array Operations:** Create two matrices, then Compute the element-wise multiplication of two matrices, then sum the values in each row of the resulting matrix."
      ],
      "metadata": {
        "id": "LnzUKFw4Vx-7"
      }
    },
    {
      "cell_type": "code",
      "source": [
        "### Answer\n",
        "import numpy as np\n",
        "A=[[1,2],[3,4]]\n",
        "B=[[5,6],[7,8]]\n",
        "\n",
        "C=np.multiply(A,B)\n",
        "D=np.sum(C,axis=1)"
      ],
      "metadata": {
        "id": "9IyD0U-3VmJ3"
      },
      "execution_count": 5,
      "outputs": []
    },
    {
      "cell_type": "code",
      "source": [
        "C"
      ],
      "metadata": {
        "colab": {
          "base_uri": "https://localhost:8080/"
        },
        "id": "PDWptA8k8G2a",
        "outputId": "987a0056-6c6c-46a6-9b1b-8e46d90a795f"
      },
      "execution_count": 6,
      "outputs": [
        {
          "output_type": "execute_result",
          "data": {
            "text/plain": [
              "array([[ 5, 12],\n",
              "       [21, 32]])"
            ]
          },
          "metadata": {},
          "execution_count": 6
        }
      ]
    },
    {
      "cell_type": "code",
      "source": [
        "D"
      ],
      "metadata": {
        "colab": {
          "base_uri": "https://localhost:8080/"
        },
        "id": "x6wg33js8IO0",
        "outputId": "14d25b65-7d27-45e3-de77-dfe47ac12702"
      },
      "execution_count": 7,
      "outputs": [
        {
          "output_type": "execute_result",
          "data": {
            "text/plain": [
              "array([17, 53])"
            ]
          },
          "metadata": {},
          "execution_count": 7
        }
      ]
    },
    {
      "cell_type": "markdown",
      "source": [
        "\n",
        "\n",
        "---\n",
        "\n",
        "\n",
        "\n",
        "---\n",
        "\n",
        "\n",
        "\n",
        "---\n",
        "\n"
      ],
      "metadata": {
        "id": "kqxzW_3ZW8b5"
      }
    },
    {
      "cell_type": "markdown",
      "source": [
        "### **Question 10:**"
      ],
      "metadata": {
        "id": "jEg_QL7CW8rw"
      }
    },
    {
      "cell_type": "markdown",
      "source": [
        "**Advanced Array Creation:** Create a 2D array of shape (7,7) where the border consists of ones and the inner part consists of zeros."
      ],
      "metadata": {
        "id": "_s9937cCW9Qv"
      }
    },
    {
      "cell_type": "code",
      "source": [
        "### Answer\n",
        "import numpy as np\n",
        "x=np.ones((7,7))\n",
        "x[1:-1,1:-1]=0\n",
        "print(x)"
      ],
      "metadata": {
        "id": "ZEuY35gZXN9d",
        "colab": {
          "base_uri": "https://localhost:8080/"
        },
        "outputId": "971c45d3-63de-4c6c-9ba9-e1574ae09656"
      },
      "execution_count": 8,
      "outputs": [
        {
          "output_type": "stream",
          "name": "stdout",
          "text": [
            "[[1. 1. 1. 1. 1. 1. 1.]\n",
            " [1. 0. 0. 0. 0. 0. 1.]\n",
            " [1. 0. 0. 0. 0. 0. 1.]\n",
            " [1. 0. 0. 0. 0. 0. 1.]\n",
            " [1. 0. 0. 0. 0. 0. 1.]\n",
            " [1. 0. 0. 0. 0. 0. 1.]\n",
            " [1. 1. 1. 1. 1. 1. 1.]]\n"
          ]
        }
      ]
    }
  ]
}