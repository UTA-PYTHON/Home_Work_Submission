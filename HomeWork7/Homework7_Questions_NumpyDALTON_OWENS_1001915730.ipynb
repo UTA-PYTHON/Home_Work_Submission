{
  "nbformat": 4,
  "nbformat_minor": 0,
  "metadata": {
    "colab": {
      "provenance": []
    },
    "kernelspec": {
      "name": "python3",
      "display_name": "Python 3"
    },
    "language_info": {
      "name": "python"
    }
  },
  "cells": [
    {
      "cell_type": "markdown",
      "source": [
        "# **Homework 7: Numpy**"
      ],
      "metadata": {
        "id": "0zZlEeZdSGBW"
      }
    },
    {
      "cell_type": "markdown",
      "source": [
        "## **Due date:** November 3rd, at 2:30 PM.\n",
        "\n",
        "## **Submission:** Please push your homework to the our GitHub repository, and place it in the 'Homework 7' folder."
      ],
      "metadata": {
        "id": "MJ7o5DfIZxUH"
      }
    },
    {
      "cell_type": "markdown",
      "source": [
        "\n",
        "\n",
        "---\n",
        "\n",
        "\n",
        "\n",
        "---\n",
        "\n",
        "\n",
        "\n",
        "---\n",
        "\n",
        "\n",
        "\n",
        "---\n",
        "\n"
      ],
      "metadata": {
        "id": "0xb-Hc9SZ3nf"
      }
    },
    {
      "cell_type": "markdown",
      "source": [
        "### **Question 1:**"
      ],
      "metadata": {
        "id": "LAp5txV5SQ7x"
      }
    },
    {
      "cell_type": "code",
      "source": [],
      "metadata": {
        "id": "1b6lOw7tE7Fq"
      },
      "execution_count": null,
      "outputs": []
    },
    {
      "cell_type": "markdown",
      "source": [
        "Use NumPy to solve the following system of linear equations:"
      ],
      "metadata": {
        "id": "MzNamLiQSO21"
      }
    },
    {
      "cell_type": "code",
      "source": [
        "import numpy as np\n",
        "import pandas as pd"
      ],
      "metadata": {
        "id": "tfyDpDTPD_hV"
      },
      "execution_count": 2,
      "outputs": []
    },
    {
      "cell_type": "code",
      "execution_count": null,
      "metadata": {
        "id": "Tx8KbjfvRs9k"
      },
      "outputs": [],
      "source": [
        "3x+ 2y- z= 1\n",
        "\n",
        "2x+ 2y+ 4z= -2\n",
        "\n",
        "-x+ 1/2y- z= 0\n"
      ]
    },
    {
      "cell_type": "code",
      "source": [
        "### Answer\n",
        "Q1=np.array([[3,2,1],\n",
        "             [2,2,4],\n",
        "             [-1,.5,-1]])\n",
        "\n",
        "Q1Answer=np.array([1,-2,0])\n",
        "\n",
        "Q1Sol=np.linalg.solve(Q1,Q1Answer)\n",
        "\n",
        "x,y,z=Q1Sol\n",
        "print(f\"x={x}\",f\"y= {y}\", f\"z={z}\")\n",
        "\n",
        "\n",
        "\n",
        "\n",
        "\n",
        "\n",
        "\n"
      ],
      "metadata": {
        "id": "wSITtqqeSX0K",
        "colab": {
          "base_uri": "https://localhost:8080/"
        },
        "outputId": "4f604a1b-ae21-4e69-d947-bc9f8b2d25ff"
      },
      "execution_count": null,
      "outputs": [
        {
          "output_type": "stream",
          "name": "stdout",
          "text": [
            "x=0.6923076923076924 y= -0.15384615384615394 z=-0.7692307692307693\n"
          ]
        }
      ]
    },
    {
      "cell_type": "markdown",
      "source": [
        "\n",
        "\n",
        "---\n",
        "\n",
        "\n",
        "\n",
        "---\n",
        "\n"
      ],
      "metadata": {
        "id": "XYAG29lDSeTD"
      }
    },
    {
      "cell_type": "markdown",
      "source": [
        "### **Question 2:**"
      ],
      "metadata": {
        "id": "TaqiI1-eSeVq"
      }
    },
    {
      "cell_type": "markdown",
      "source": [
        "Generate an array of 1000 random numbers sampled from a standard normal distribution, then visualize it."
      ],
      "metadata": {
        "id": "Aldzq_A1Se6Z"
      }
    },
    {
      "cell_type": "code",
      "source": [
        "### Answer\n",
        "import numpy as np\n",
        "import matplotlib.pyplot as plt\n",
        "\n",
        "Q2=np.random.standard_normal(1000)\n",
        "#histogram\n",
        "\n",
        "\n",
        "\n",
        "plt.hist(Q2, bins =20, color='black')\n",
        "plt.title(\"histogram of Question 2\")\n",
        "plt.xlabel(\"Number\")\n",
        "plt.ylabel(\"Amount of time Number is shown\")\n",
        "\n",
        "\n",
        "plt.show()\n",
        "\n",
        "\n",
        "\n",
        "\n",
        "\n",
        "\n",
        "\n",
        "\n"
      ],
      "metadata": {
        "id": "wyEId-OXSaxz",
        "colab": {
          "base_uri": "https://localhost:8080/",
          "height": 472
        },
        "outputId": "a7a3ebd5-58ce-4a6f-adc8-ef091803805d"
      },
      "execution_count": null,
      "outputs": [
        {
          "output_type": "display_data",
          "data": {
            "text/plain": [
              "<Figure size 640x480 with 1 Axes>"
            ],
            "image/png": "[encoded data removed]"
          },
          "metadata": {}
        }
      ]
    },
    {
      "cell_type": "markdown",
      "source": [
        "\n",
        "\n",
        "---\n",
        "\n",
        "\n",
        "\n",
        "---\n",
        "\n"
      ],
      "metadata": {
        "id": "5gNSvLW7S41q"
      }
    },
    {
      "cell_type": "markdown",
      "source": [
        "### **Question 3:**"
      ],
      "metadata": {
        "id": "ZH3t6bWSS44Q"
      }
    },
    {
      "cell_type": "markdown",
      "source": [
        "Calculate the dot product of the following two vectors using NumPy:"
      ],
      "metadata": {
        "id": "0kqKrtKDS-Vw"
      }
    },
    {
      "cell_type": "code",
      "source": [
        "A = [2, 3, 4]\n",
        "B = [5, 6, 7]"
      ],
      "metadata": {
        "id": "1bpcoSo7S7F_"
      },
      "execution_count": null,
      "outputs": []
    },
    {
      "cell_type": "code",
      "source": [
        "### Answer\n",
        "\n",
        "vect1= np.array([2,3,4]) #vector a\n",
        "vect2=np.array([4,5,6])  #vector b\n",
        "\n",
        "Q3= np.dot(vect1, vect2)\n",
        "\n",
        "print(\"dot prod\", Q3)\n",
        "\n",
        "\n",
        "\n",
        "\n",
        "\n",
        "\n",
        "\n",
        "\n"
      ],
      "metadata": {
        "id": "ufkWofy2TCAT",
        "colab": {
          "base_uri": "https://localhost:8080/"
        },
        "outputId": "b5fda59b-2793-4070-b66d-23463ed9872c"
      },
      "execution_count": null,
      "outputs": [
        {
          "output_type": "stream",
          "name": "stdout",
          "text": [
            "dot prod 47\n"
          ]
        }
      ]
    },
    {
      "cell_type": "markdown",
      "source": [
        "\n",
        "\n",
        "---\n",
        "\n",
        "\n",
        "\n",
        "---\n",
        "\n"
      ],
      "metadata": {
        "id": "RmGc6wRuTKn2"
      }
    },
    {
      "cell_type": "markdown",
      "source": [
        "### **Question 4:**"
      ],
      "metadata": {
        "id": "KxNuMC2CTKsA"
      }
    },
    {
      "cell_type": "markdown",
      "source": [
        "**Random Numbers:**: Generate a 1D array of 20 random integers between 10 and 50. Find out how many of them are even."
      ],
      "metadata": {
        "id": "MWbDMbrOTKvJ"
      }
    },
    {
      "cell_type": "code",
      "source": [
        "### Answer\n",
        "                      #random start, random end, amount of random choice#\n",
        "Q4_random= np.random.randint(10,50, 20)\n",
        "\n",
        "#even\n",
        "Q4_even=np.sum(Q4_random %2==0)\n",
        "print(f\"random amount,{Q4_random}\",\n",
        "      f\"Ammount of even in random count,{Q4_even}\" )\n",
        "\n",
        "\n",
        "\n",
        "\n",
        "\n",
        "\n",
        "\n",
        "\n",
        "\n",
        "\n",
        "\n",
        "\n"
      ],
      "metadata": {
        "id": "GYB7vYXpTUaV",
        "colab": {
          "base_uri": "https://localhost:8080/"
        },
        "outputId": "9f2ec76a-0858-473c-dc25-c495092dc4f3"
      },
      "execution_count": null,
      "outputs": [
        {
          "output_type": "stream",
          "name": "stdout",
          "text": [
            "random amount,[39 40 19 21 10 17 11 24 17 31 46 11 38 46 16 23 13 10 20 36] Ammount of even in random count,10\n"
          ]
        }
      ]
    },
    {
      "cell_type": "markdown",
      "source": [
        "\n",
        "\n",
        "---\n",
        "\n",
        "\n",
        "\n",
        "---\n",
        "\n"
      ],
      "metadata": {
        "id": "5S5fZCFhTZQt"
      }
    },
    {
      "cell_type": "markdown",
      "source": [
        "### **Question 5:**"
      ],
      "metadata": {
        "id": "dV5FRmKETZU7"
      }
    },
    {
      "cell_type": "markdown",
      "source": [
        "**Data Manipulation:** Consider an array of dimension (8,8). Swap the first and last columns."
      ],
      "metadata": {
        "id": "L2nisglFTZZT"
      }
    },
    {
      "cell_type": "code",
      "source": [
        "### Answer\n",
        "\n",
        "Q5= np.arange(64).reshape(8,8)\n",
        "Q5[:, [0,-1]]=Q5[:,[-1,0]]\n",
        "print(Q5)\n",
        "\n",
        "\n",
        "\n",
        "\n",
        "\n",
        "\n",
        "\n",
        "\n",
        "\n",
        "\n",
        "\n"
      ],
      "metadata": {
        "id": "S9rg9roST0Fj",
        "colab": {
          "base_uri": "https://localhost:8080/"
        },
        "outputId": "e7b9577b-6551-453a-c3b7-076a26dd39f7"
      },
      "execution_count": null,
      "outputs": [
        {
          "output_type": "stream",
          "name": "stdout",
          "text": [
            "[[ 7  1  2  3  4  5  6  0]\n",
            " [15  9 10 11 12 13 14  8]\n",
            " [23 17 18 19 20 21 22 16]\n",
            " [31 25 26 27 28 29 30 24]\n",
            " [39 33 34 35 36 37 38 32]\n",
            " [47 41 42 43 44 45 46 40]\n",
            " [55 49 50 51 52 53 54 48]\n",
            " [63 57 58 59 60 61 62 56]]\n"
          ]
        }
      ]
    },
    {
      "cell_type": "markdown",
      "source": [
        "\n",
        "\n",
        "---\n",
        "\n",
        "\n",
        "\n",
        "---\n",
        "\n"
      ],
      "metadata": {
        "id": "AOa_G4ztT7nb"
      }
    },
    {
      "cell_type": "markdown",
      "source": [
        "### **Question 6:**"
      ],
      "metadata": {
        "id": "FRAUkFD9T7qA"
      }
    },
    {
      "cell_type": "markdown",
      "source": [
        "**Given a 2D NumPy array data, extract the following subsets:**\n",
        "\n",
        "- The first row.\n",
        "- The last column.\n",
        "- The subarray consisting of the first two rows and the last two columns."
      ],
      "metadata": {
        "id": "52SeOsbTT7sZ"
      }
    },
    {
      "cell_type": "code",
      "source": [
        "## Answer\n",
        "Q6=np.array([[1,2,3],\n",
        "             [4,5,6],\n",
        "             [7,8,9]\n",
        "\n",
        "])\n",
        "\n",
        "Q6_fst= Q6[0]\n",
        "print(\"first row: \")\n",
        "print(Q6_fst)\n",
        "\n",
        "Q6_lstC= Q6[:,-1:]\n",
        "print(\"last column\")\n",
        "print(Q6_lstC)\n",
        "\n",
        "Q6_sub=Q6[:2,-2:]\n",
        "print(\"Subarray\")\n",
        "print(Q6_sub)\n",
        "\n",
        "\n",
        "\n",
        "\n",
        "\n",
        "\n",
        "\n",
        "\n"
      ],
      "metadata": {
        "id": "JQb-XngHXuK3",
        "colab": {
          "base_uri": "https://localhost:8080/"
        },
        "outputId": "82207c68-7789-403f-ae58-f84518c8422b"
      },
      "execution_count": 11,
      "outputs": [
        {
          "output_type": "stream",
          "name": "stdout",
          "text": [
            "first row: \n",
            "[1 2 3]\n",
            "last column\n",
            "[[3]\n",
            " [6]\n",
            " [9]]\n",
            "Subarray\n",
            "[[2 3]\n",
            " [5 6]]\n"
          ]
        }
      ]
    },
    {
      "cell_type": "markdown",
      "source": [
        "\n",
        "\n",
        "---\n",
        "\n",
        "\n",
        "\n",
        "---\n",
        "\n"
      ],
      "metadata": {
        "id": "A-MUs7t7X9M6"
      }
    },
    {
      "cell_type": "markdown",
      "source": [
        "### **Question 7:**"
      ],
      "metadata": {
        "id": "MZlbvvgsX9PP"
      }
    },
    {
      "cell_type": "markdown",
      "source": [
        "**Statistics:** Create a matrix of shape (5,5), find the mean and variance of the values in its 3rd column."
      ],
      "metadata": {
        "id": "rqWn93qTX9RV"
      }
    },
    {
      "cell_type": "code",
      "source": [
        "### Answer\n",
        "Q7_mat=np.array([[1,2,3,4,5],\n",
        "                 [6,7,8,9,10],\n",
        "                 [11,12,13,14,15],\n",
        "                 [16,17,18,19,20],\n",
        "                 [21,22,23,24,25]\n",
        "\n",
        "])\n",
        "\n",
        "Q7C3=Q7_mat[:,2]  #number 2 because the first row is n=0\n",
        "C3Mean=np.mean(Q7C3)\n",
        "print(\"column 3 mean :\" , C3Mean)\n",
        "\n",
        "Q7V=np.var(Q7C3)\n",
        "print(\"column 3 variance:\", Q7V)\n",
        "\n",
        "\n",
        "\n",
        "\n",
        "\n",
        "\n",
        "\n",
        "\n",
        "\n",
        "\n",
        "\n",
        "\n"
      ],
      "metadata": {
        "id": "-So6J1QdXyoQ",
        "colab": {
          "base_uri": "https://localhost:8080/"
        },
        "outputId": "bc3e763a-a30e-4e95-b6ba-d040650be5f8"
      },
      "execution_count": 15,
      "outputs": [
        {
          "output_type": "stream",
          "name": "stdout",
          "text": [
            "column 3 mean : 13.0\n",
            "column 3 variance: 50.0\n"
          ]
        }
      ]
    },
    {
      "cell_type": "markdown",
      "source": [
        "\n",
        "\n",
        "---\n",
        "\n",
        "\n",
        "\n",
        "---\n",
        "\n",
        "\n",
        "\n",
        "---\n",
        "\n"
      ],
      "metadata": {
        "id": "Nlzix9NCVSVc"
      }
    },
    {
      "cell_type": "markdown",
      "source": [
        "### **Question 8:**"
      ],
      "metadata": {
        "id": "CiK_vk4tVUXL"
      }
    },
    {
      "cell_type": "markdown",
      "source": [
        "**Linear Algebra:** Given a 4x4 matrix, compute its transpose and then find the dot product of the matrix with its transpose."
      ],
      "metadata": {
        "id": "L23uRV1dVehN"
      }
    },
    {
      "cell_type": "code",
      "source": [
        "\n",
        "matrix = np.array([[1, 2, 3, 4],\n",
        "                   [5, 6, 7, 8],\n",
        "                   [9, 10, 11, 12],\n",
        "                   [13, 14, 15, 16]])"
      ],
      "metadata": {
        "id": "DsBPYJT4Xsqx"
      },
      "execution_count": 17,
      "outputs": []
    },
    {
      "cell_type": "code",
      "source": [
        "### Answer\n",
        "\n",
        "Q8_tran=np.transpose(matrix)\n",
        "print(\"transpose:\")\n",
        "print(Q8_tran)\n",
        "\n",
        "#dotproduct #with# matrix #with# its transpose\n",
        "Q8_dot=np.dot(matrix, Q8_tran)\n",
        "print(\" dot + matrix with its transpose: \")\n",
        "print(Q8_dot)\n",
        "\n",
        "\n",
        "\n",
        "\n",
        "\n",
        "\n",
        "\n",
        "\n",
        "\n",
        "\n",
        "\n",
        "\n",
        "\n"
      ],
      "metadata": {
        "id": "eJU7h0AQYYx2",
        "colab": {
          "base_uri": "https://localhost:8080/"
        },
        "outputId": "4ddb58d5-f129-44e5-bc51-0430247cc421"
      },
      "execution_count": 25,
      "outputs": [
        {
          "output_type": "stream",
          "name": "stdout",
          "text": [
            "transpose:\n",
            "[[ 1  5  9 13]\n",
            " [ 2  6 10 14]\n",
            " [ 3  7 11 15]\n",
            " [ 4  8 12 16]]\n",
            " dot + matrix with its transpose: \n",
            "[[ 30  70 110 150]\n",
            " [ 70 174 278 382]\n",
            " [110 278 446 614]\n",
            " [150 382 614 846]]\n"
          ]
        }
      ]
    },
    {
      "cell_type": "markdown",
      "source": [
        "\n",
        "\n",
        "---\n",
        "\n",
        "\n",
        "\n",
        "---\n",
        "\n"
      ],
      "metadata": {
        "id": "dL0-iqHkVv3f"
      }
    },
    {
      "cell_type": "markdown",
      "source": [
        "### **Question 9:**"
      ],
      "metadata": {
        "id": "ygs9UMtZVx8E"
      }
    },
    {
      "cell_type": "markdown",
      "source": [
        "**Array Operations:** Create two matrices, then Compute the element-wise multiplication of two matrices, then sum the values in each row of the resulting matrix."
      ],
      "metadata": {
        "id": "LnzUKFw4Vx-7"
      }
    },
    {
      "cell_type": "code",
      "source": [
        "### Answer\n",
        "\n",
        "Q9_matrix_1 = np.array([[1, 2, 3, 4],\n",
        "                   [5, 6, 7, 8],\n",
        "                   [9, 10, 11, 12],\n",
        "                   [13, 14, 15, 16]])\n",
        "print(\"martrix 1: \")\n",
        "print(Q9_matrix_1)\n",
        "\n",
        "\n",
        "Q9_matrix_2 = np.array([[17,18,19,20],\n",
        "                       [21,22,23,24],\n",
        "                       [25,26,27,28],\n",
        "                       [29,30,31,32]])\n",
        "print(\"martrix 2: \")\n",
        "print(Q9_matrix_2)\n",
        "\n",
        "\n",
        "\n",
        "q9_multi=np.multiply(Q9_matrix_1, Q9_matrix_2)\n",
        "q9_sum=np.sum(q9_multi)\n",
        "print(\"sum:\", q9_sum)\n",
        "\n",
        "\n",
        "\n",
        "\n",
        "\n",
        "\n",
        "\n"
      ],
      "metadata": {
        "id": "9IyD0U-3VmJ3",
        "colab": {
          "base_uri": "https://localhost:8080/"
        },
        "outputId": "5bf9d35b-0606-491c-8423-a72b51bf6090"
      },
      "execution_count": 35,
      "outputs": [
        {
          "output_type": "stream",
          "name": "stdout",
          "text": [
            "martrix 1: \n",
            "[[ 1  2  3  4]\n",
            " [ 5  6  7  8]\n",
            " [ 9 10 11 12]\n",
            " [13 14 15 16]]\n",
            "martrix 2: \n",
            "[[17 18 19 20]\n",
            " [21 22 23 24]\n",
            " [25 26 27 28]\n",
            " [29 30 31 32]]\n",
            "sum: 3672\n"
          ]
        }
      ]
    },
    {
      "cell_type": "markdown",
      "source": [
        "\n",
        "\n",
        "---\n",
        "\n",
        "\n",
        "\n",
        "---\n",
        "\n",
        "\n",
        "\n",
        "---\n",
        "\n"
      ],
      "metadata": {
        "id": "kqxzW_3ZW8b5"
      }
    },
    {
      "cell_type": "markdown",
      "source": [
        "### **Question 10:**"
      ],
      "metadata": {
        "id": "jEg_QL7CW8rw"
      }
    },
    {
      "cell_type": "markdown",
      "source": [
        "**Advanced Array Creation:** Create a 2D array of shape (7,7) where the border consists of ones and the inner part consists of zeros."
      ],
      "metadata": {
        "id": "_s9937cCW9Qv"
      }
    },
    {
      "cell_type": "code",
      "source": [
        "### Answer\n",
        "\n",
        "Q10= (7,7)\n",
        "\n",
        "Q10_a=np.zeros(Q10, dtype=int)\n",
        "Q10_a[0]=1 #horz\n",
        "Q10_a[:,0]=5 #virticle\n",
        "Q10_a[-1]=1 #horz\n",
        "Q10_a[:,-1]=5 #virticle\n",
        "\n",
        "print(Q10_a)\n",
        "\n",
        "\n",
        "\n",
        "\n",
        "\n",
        "\n",
        "\n",
        "\n",
        "\n",
        "\n",
        "\n"
      ],
      "metadata": {
        "id": "ZEuY35gZXN9d",
        "colab": {
          "base_uri": "https://localhost:8080/"
        },
        "outputId": "49704cfb-de62-46d1-8a31-bc607a8cc7c3"
      },
      "execution_count": 47,
      "outputs": [
        {
          "output_type": "stream",
          "name": "stdout",
          "text": [
            "[[5 1 1 1 1 1 5]\n",
            " [5 0 0 0 0 0 5]\n",
            " [5 0 0 0 0 0 5]\n",
            " [5 0 0 0 0 0 5]\n",
            " [5 0 0 0 0 0 5]\n",
            " [5 0 0 0 0 0 5]\n",
            " [1 1 1 1 1 1 5]]\n"
          ]
        }
      ]
    },
    {
      "cell_type": "code",
      "source": [],
      "metadata": {
        "id": "bnx4U6vek_yc"
      },
      "execution_count": null,
      "outputs": []
    }
  ]
}