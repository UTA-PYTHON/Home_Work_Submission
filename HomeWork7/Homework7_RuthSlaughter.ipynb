{
  "nbformat": 4,
  "nbformat_minor": 0,
  "metadata": {
    "colab": {
      "provenance": []
    },
    "kernelspec": {
      "name": "python3",
      "display_name": "Python 3"
    },
    "language_info": {
      "name": "python"
    }
  },
  "cells": [
    {
      "cell_type": "markdown",
      "source": [
        "# **Homework 7: Numpy**\n",
        "\n",
        "Ruth Slaughter 1001918965"
      ],
      "metadata": {
        "id": "0zZlEeZdSGBW"
      }
    },
    {
      "cell_type": "markdown",
      "source": [
        "## **Due date:** November 3rd, at 2:30 PM.\n",
        "\n",
        "## **Submission:** Please push your homework to the our GitHub repository, and place it in the 'Homework 7' folder."
      ],
      "metadata": {
        "id": "MJ7o5DfIZxUH"
      }
    },
    {
      "cell_type": "markdown",
      "source": [
        "\n",
        "\n",
        "---\n",
        "\n",
        "\n",
        "\n",
        "---\n",
        "\n",
        "\n",
        "\n",
        "---\n",
        "\n",
        "\n",
        "\n",
        "---\n",
        "\n"
      ],
      "metadata": {
        "id": "0xb-Hc9SZ3nf"
      }
    },
    {
      "cell_type": "markdown",
      "source": [
        "### **Question 1:**"
      ],
      "metadata": {
        "id": "LAp5txV5SQ7x"
      }
    },
    {
      "cell_type": "markdown",
      "source": [
        "Use NumPy to solve the following system of linear equations:"
      ],
      "metadata": {
        "id": "MzNamLiQSO21"
      }
    },
    {
      "cell_type": "code",
      "execution_count": null,
      "metadata": {
        "id": "Tx8KbjfvRs9k"
      },
      "outputs": [],
      "source": [
        "3x+ 2y- z= 1\n",
        "\n",
        "2x+ 2y+ 4z= -2\n",
        "\n",
        "-x+ 1/2y- z= 0\n"
      ]
    },
    {
      "cell_type": "code",
      "source": [
        "### Answer\n",
        "import numpy as np\n",
        "\n",
        "A= np.array([[3,2,-1],\n",
        "             [2,2,4],\n",
        "             [-1,0.5,-1]])\n",
        "B= np.array([1,-2,0])\n",
        "\n",
        "solution= np.linalg.solve(A,B)\n",
        "\n",
        "print(\"Solution:\")\n",
        "print(\"x =\", solution[0])\n",
        "print(\"y =\", solution[1])\n",
        "print(\"z =\", solution[2])"
      ],
      "metadata": {
        "id": "wSITtqqeSX0K",
        "colab": {
          "base_uri": "https://localhost:8080/"
        },
        "outputId": "d0503402-3d45-4b2c-c423-1142f5ccf2fa"
      },
      "execution_count": null,
      "outputs": [
        {
          "output_type": "stream",
          "name": "stdout",
          "text": [
            "Solution:\n",
            "x = 0.368421052631579\n",
            "y = -0.31578947368421056\n",
            "z = -0.5263157894736842\n"
          ]
        }
      ]
    },
    {
      "cell_type": "markdown",
      "source": [
        "\n",
        "\n",
        "---\n",
        "\n",
        "\n",
        "\n",
        "---\n",
        "\n"
      ],
      "metadata": {
        "id": "XYAG29lDSeTD"
      }
    },
    {
      "cell_type": "markdown",
      "source": [
        "### **Question 2:**"
      ],
      "metadata": {
        "id": "TaqiI1-eSeVq"
      }
    },
    {
      "cell_type": "markdown",
      "source": [
        "Generate an array of 1000 random numbers sampled from a standard normal distribution, then visualize it."
      ],
      "metadata": {
        "id": "Aldzq_A1Se6Z"
      }
    },
    {
      "cell_type": "code",
      "source": [
        "### Answer\n",
        "import matplotlib.pyplot as plt\n",
        "import numpy as np\n",
        "\n",
        "x=np.random.uniform(-5,5,size=1000)\n",
        "x"
      ],
      "metadata": {
        "id": "wyEId-OXSaxz",
        "colab": {
          "base_uri": "https://localhost:8080/"
        },
        "outputId": "4ae9b876-9a8e-410f-9a56-1ec25d261aab"
      },
      "execution_count": null,
      "outputs": [
        {
          "output_type": "execute_result",
          "data": {
            "text/plain": [
              "array([ 4.64033387, -2.33850376, -0.70227198, -3.49639708,  1.34987148,\n",
              "       -0.4554635 , -2.06469661,  2.99487027, -4.45876136,  3.74745224,\n",
              "       -2.94318871, -1.64005352, -1.1971045 , -1.65252238, -4.40885563,\n",
              "        2.78144756,  4.88751493,  1.75531339, -2.47943008,  2.36053872,\n",
              "        0.27147384,  1.66093808, -3.44223301, -1.30026221, -4.54193873,\n",
              "       -3.14723625, -1.66491351, -0.04047136,  0.38976032,  2.65878837,\n",
              "       -1.26682878, -2.58410589,  0.04291435, -1.02429018, -2.85658106,\n",
              "        3.56080697,  2.63335099,  0.15776901,  3.2570259 ,  4.42728846,\n",
              "       -2.65345146,  1.99637497, -1.32373081, -4.77757213, -1.3740629 ,\n",
              "        1.71443232,  2.13473825,  1.50687628, -0.44332379,  1.7943176 ,\n",
              "       -0.25426197,  1.45132714, -1.21424772, -3.72580884,  4.06050518,\n",
              "       -1.6158738 ,  4.74277389,  3.75201132, -3.32421738,  4.40328192,\n",
              "       -2.00527547, -1.55100945, -3.89991168,  4.6072207 ,  1.2186945 ,\n",
              "        4.49644171, -2.83094959,  2.12171404,  3.33862711, -4.96719815,\n",
              "       -4.13872185, -4.72724702,  2.75730886,  2.97328069,  3.48173798,\n",
              "       -3.19151798, -4.04776676,  1.51886482, -3.94087747, -3.54996054,\n",
              "        1.41337427,  2.75622924, -2.62058358, -3.38059079, -0.93169983,\n",
              "       -2.56891777, -1.52023209,  4.93179443,  3.8988458 , -4.1427106 ,\n",
              "       -1.8504413 , -0.05166476,  3.4843154 , -0.02950561,  3.24293334,\n",
              "        4.571201  ,  1.09766431, -3.94277483,  1.43920393, -2.84734299,\n",
              "       -0.60448323, -2.47971584, -1.04022726, -2.38137165, -3.61885715,\n",
              "        4.52173846,  2.84867007,  2.80376706, -2.1547511 ,  1.25032595,\n",
              "       -2.96052467, -2.05853916,  2.386912  ,  0.27018307,  3.83268677,\n",
              "        1.54837879,  4.27672078, -2.57728507, -3.5396564 ,  0.27995521,\n",
              "       -1.58605066,  4.81878768,  4.58593417,  3.54589215, -2.87799757,\n",
              "        3.09181356,  0.22657637,  3.08909957,  3.74094268,  4.60897686,\n",
              "       -3.99875655,  1.78408736,  4.7689011 , -4.0496504 , -1.01137122,\n",
              "       -1.88962907, -0.49780656,  2.07952855, -0.08084585, -1.10746231,\n",
              "        2.32368685,  4.75810111,  2.95528377,  2.57588672, -3.39995245,\n",
              "       -4.84966728,  1.91091326, -1.31091617,  0.79705988, -1.86467424,\n",
              "        1.98214973,  2.84988524, -0.99268629, -4.00415968,  3.53146275,\n",
              "        1.61501859, -1.29879003, -0.51057016,  2.23893743,  2.10834656,\n",
              "        4.06265686,  4.63343995,  4.94130646,  1.19549412, -3.7768663 ,\n",
              "        2.39109717, -3.06943626, -0.39234448, -4.32295345,  1.34834669,\n",
              "        3.87027548, -3.77960619,  4.93620693, -0.0656046 , -2.70170462,\n",
              "        0.94946151, -2.82721804, -1.11270299, -0.19106161,  0.93435684,\n",
              "        3.35299877, -1.32450133, -3.96078268, -1.49768956, -2.27852949,\n",
              "       -4.49248184, -0.51155796,  0.91539453,  1.74555152,  1.214353  ,\n",
              "        0.5021279 , -1.46947817, -3.15137425,  4.53505572,  4.96736809,\n",
              "        4.8495001 ,  0.47451875, -4.37212488,  0.13113715,  0.38727837,\n",
              "        3.06831313,  3.21137973,  1.05923856,  1.77602163, -1.80687831,\n",
              "       -3.57333951, -1.10538313, -0.3879335 , -0.05524654, -1.72276788,\n",
              "       -3.0971456 ,  0.37687951,  3.64753096, -3.70571807, -2.42046738,\n",
              "       -3.2490673 ,  3.86963763,  3.37887152, -3.33532502, -2.2887876 ,\n",
              "        2.42265178, -2.36136073, -3.14924734,  1.29289267,  1.24024744,\n",
              "       -0.08457954, -1.56304079, -3.6850141 ,  1.155311  , -3.25402868,\n",
              "       -1.70091035,  4.80402701,  0.89283841, -4.3244369 ,  1.92934804,\n",
              "       -2.02896674, -1.7956872 ,  2.82810971, -2.73462114,  2.20977003,\n",
              "        2.480752  , -4.86847685,  1.86820983,  2.8599332 , -3.25675923,\n",
              "        3.05944225, -3.42124069,  1.79702401,  4.23894293, -0.23588213,\n",
              "        4.76841066, -1.79324772, -1.46358156,  0.07499749,  3.68137106,\n",
              "        1.88336747, -1.06675599,  3.62305841,  0.34673156,  1.76357524,\n",
              "        2.45375888, -1.24714874,  2.31416475, -0.55355041,  3.26663576,\n",
              "        3.12575728, -1.66201998,  2.58639026, -0.59918371,  0.96585676,\n",
              "        0.30900585, -1.16633896, -4.6184662 ,  2.86197055,  3.43541034,\n",
              "        0.80642329,  0.13034251, -4.07539883, -2.8687923 , -3.25110809,\n",
              "       -3.70122365,  0.53665123,  4.45399454,  4.58555427,  3.22335512,\n",
              "       -0.56633855, -4.12835146,  4.15241384, -1.78938264, -2.9342496 ,\n",
              "       -3.3786877 ,  2.71992438,  1.15722719,  1.23999535,  4.20277946,\n",
              "       -2.56761246,  4.08578786,  1.07158883, -4.40230421, -2.51924802,\n",
              "       -2.44580461, -1.03734166,  0.43264496, -3.05063204, -4.13250342,\n",
              "        3.09746617,  0.78913897,  3.4907615 , -4.52996316,  3.00086067,\n",
              "        1.25292251, -0.16520835,  1.83968506,  1.75099501, -1.54577431,\n",
              "       -3.18483779, -3.36376991,  0.83609047, -4.40838732, -1.16038396,\n",
              "        2.06142535,  4.41295962, -2.1383766 ,  0.89832587,  2.63896913,\n",
              "       -3.36414262,  1.69963494,  3.24806445, -4.18338365,  4.59793981,\n",
              "        3.77695422, -3.93417251,  3.28682851, -3.03920213, -2.67050133,\n",
              "        2.52287717, -3.78482613,  2.69267526,  2.03257539,  3.39719573,\n",
              "        1.57867087, -4.81461626,  0.83395871, -0.52588229, -0.14187997,\n",
              "       -3.70988266,  3.74722924,  1.87379643,  3.08022449, -3.96914466,\n",
              "       -4.58723331, -4.56104746,  4.82561903, -3.33733354,  1.3893537 ,\n",
              "       -2.25130245, -4.96352694,  3.54656491,  0.76066491,  2.63851971,\n",
              "        0.75039889,  3.62898725, -1.93993978,  0.15057923, -1.83143761,\n",
              "        2.52660252,  1.54943974,  4.7971216 ,  3.54413828, -4.73309981,\n",
              "        3.45514362, -3.85210505,  3.52026701,  4.53737076, -1.67579074,\n",
              "        2.86458803,  3.25926714, -2.09682024,  4.25603748, -1.10203251,\n",
              "       -0.12763996, -2.90548257, -0.91242937, -4.22404512,  4.39159108,\n",
              "       -2.8148361 , -4.61254602,  2.49167243,  4.83738202,  0.41012939,\n",
              "       -3.49488658, -3.08994127, -0.60541159,  1.33199567, -2.53177892,\n",
              "       -4.91640034, -4.86442917, -4.11306518,  3.4304846 ,  0.48149485,\n",
              "        0.15533359, -2.32318191, -2.68754207, -1.51576087, -4.81143376,\n",
              "       -3.29268906, -0.13095589,  4.27129687,  1.24604541,  2.87158861,\n",
              "        1.28917019,  2.27020673,  2.42011462,  0.22841076, -0.30077274,\n",
              "       -1.96173419,  3.05526443,  0.74073425, -4.44436672, -1.85781778,\n",
              "       -1.1733018 , -3.2226585 , -3.32121779, -2.20111987, -2.31301517,\n",
              "        4.90009278,  0.28394079, -1.32420832,  4.24112749, -2.18279062,\n",
              "        2.65401245, -3.40418558,  0.92378048,  3.92059412, -1.69962747,\n",
              "       -0.97858264, -4.70521856, -2.16526355, -2.31600028, -0.31934003,\n",
              "        1.56951251, -3.29056845,  4.63922769,  4.35397544, -3.73593518,\n",
              "        4.26981735, -3.44337794, -1.03111056,  1.77099663, -2.33389394,\n",
              "       -0.59765425,  4.79348143, -3.56563016,  2.49457268, -2.95136884,\n",
              "       -0.23846227,  4.57281524, -3.68539686,  3.90622437,  1.47697164,\n",
              "       -2.51365158,  4.19196303, -3.31478459,  4.25761334,  1.28078877,\n",
              "        1.88742435,  0.52308894,  4.8340458 ,  1.43203376, -1.75510865,\n",
              "        4.63454775,  0.68670758,  3.01738195, -2.68114306, -3.9496334 ,\n",
              "       -2.52228897, -3.13018683, -3.41030987,  1.65669806,  3.50951543,\n",
              "        4.79502548, -4.69316939, -0.77911054, -1.8361589 , -4.31958042,\n",
              "        4.57469639, -2.51671011, -3.54259601,  0.3410932 ,  0.31834419,\n",
              "        0.18502866,  2.61728633,  1.33683575, -2.42456574, -2.22991816,\n",
              "        4.44706172, -1.36832363,  0.89718162,  1.56516591, -3.29603719,\n",
              "       -0.70858655,  4.35269785,  3.22288631,  3.12376702, -3.50552279,\n",
              "       -1.63336546,  2.69056133, -2.53737116, -0.80998863, -1.80040979,\n",
              "        4.4032918 , -0.72401978, -4.46338627, -2.53522254,  1.79793564,\n",
              "       -1.87447172,  3.95248092, -4.61557138, -1.85294612,  4.00790864,\n",
              "       -2.76973043,  2.74407178, -4.67249861,  3.60806733,  2.30196752,\n",
              "        2.19485536,  4.93557127, -1.17287013,  4.29015237, -2.26145683,\n",
              "        4.27958494, -4.29329543,  1.82542949,  3.18547883, -4.18717153,\n",
              "       -4.34388865, -1.50807099, -1.29130585, -2.21345627,  4.76764276,\n",
              "        1.78390912, -1.4007044 ,  2.16339698,  3.03780792, -0.69462642,\n",
              "       -1.31239189, -0.16731894, -0.04367252,  2.74932363,  4.67383243,\n",
              "        1.75382309, -4.76354622,  1.90262249,  1.41985485,  3.03654605,\n",
              "       -3.54317588, -1.65125444, -3.66542276,  0.64042562,  3.93789432,\n",
              "        1.18491683,  2.79374276, -4.20082227, -1.30974673, -3.23856311,\n",
              "       -4.3900757 ,  4.42606768,  3.43098154, -4.59259031,  1.39202707,\n",
              "        3.292292  ,  2.14193208,  1.24512916, -1.16748385,  2.02777197,\n",
              "       -2.90137695, -3.95778374, -0.1727961 , -4.36797445,  4.15801566,\n",
              "       -2.70010053, -1.71336371,  3.93931487,  4.75662232, -1.39629386,\n",
              "       -4.01851982,  4.19589741,  0.32982246, -4.05026397, -0.2329193 ,\n",
              "       -2.41883114, -2.73038671, -0.19926302,  2.6783747 ,  3.32707528,\n",
              "       -2.04717838, -0.7494203 , -1.83448501, -1.02481083, -3.07750804,\n",
              "        4.86218795,  2.42302162,  0.87834804,  2.44145119,  4.50827665,\n",
              "        3.71866363,  2.67974569,  4.54945181, -1.29975811,  4.08655414,\n",
              "        0.87483445,  3.22827564,  0.99822359, -2.33171751,  4.69614993,\n",
              "        2.74365046,  0.69301048,  0.44201007, -4.71697024,  3.34567134,\n",
              "        4.43621917, -2.69673902, -3.79276244,  0.7966595 , -4.56393727,\n",
              "       -4.21316754, -2.34589642, -0.84107157,  2.98457944,  4.64027306,\n",
              "        2.22446252, -4.59418799,  2.27813668, -0.48779394, -2.63278865,\n",
              "       -2.28377577, -3.88652655, -2.63187369, -3.64059653,  4.60308371,\n",
              "        4.75003113, -1.2631309 ,  1.78557403,  2.06697918, -1.48955983,\n",
              "       -2.76203046,  3.50190876,  1.14875586,  0.80494662,  2.66804469,\n",
              "        4.60447875, -1.58657319,  1.15605643,  4.06604023, -0.92661279,\n",
              "       -1.87002481, -4.90321035, -0.92851558, -3.51988634, -1.7998469 ,\n",
              "       -2.47256767, -4.2390349 , -2.92283501,  0.64762509,  3.75744479,\n",
              "       -1.50288766, -1.20234982, -4.29360512,  1.22984474, -2.87314764,\n",
              "        2.69366411, -4.48294537,  1.02050106,  2.11447337, -4.32391323,\n",
              "       -0.88313823, -4.53872793, -0.6410948 , -3.52852101, -0.48789533,\n",
              "       -1.40592722, -3.65575006,  3.66165841,  2.25649414,  0.14778472,\n",
              "       -2.7815619 , -3.57614472, -3.03948489,  4.88862564,  2.4216977 ,\n",
              "       -3.38681159, -3.60814401,  0.06169345, -0.24288305,  4.20987421,\n",
              "       -0.53095748,  0.74057206,  3.94593328,  2.30745678,  0.33196681,\n",
              "       -4.50068608,  2.44163703,  1.00036331, -3.16796791,  3.8195192 ,\n",
              "       -3.60217252,  1.86643249,  2.10525179, -3.84492896,  0.06753984,\n",
              "        2.29404112,  3.731807  , -0.761434  , -2.77373131,  1.29685744,\n",
              "        2.76863277,  0.22073755,  0.09112997,  0.76920555,  3.0029506 ,\n",
              "        0.17593755, -3.22037299, -0.30891046,  3.772641  , -3.03393664,\n",
              "       -4.81686382, -2.39222161,  1.61148977,  1.59449397, -2.13071208,\n",
              "        2.38617254, -0.11286295,  4.28274657, -2.88587937, -4.61287103,\n",
              "       -1.2948081 , -1.54484948, -2.58804636,  1.31167778,  0.65369802,\n",
              "       -3.27047959, -2.95301348,  0.43245897, -1.10769141,  1.7094495 ,\n",
              "        1.40262099,  4.70230088,  1.15808416,  1.35237655, -4.20440816,\n",
              "        4.41027054, -2.73885155, -1.9511998 ,  3.80099349,  3.37593669,\n",
              "       -1.34139189,  2.95955499,  4.10965016,  1.77372829,  3.03918356,\n",
              "        2.17571899,  3.24628351, -1.14438815,  3.84832818,  2.6018936 ,\n",
              "        2.01652006, -1.16439129,  3.48541568,  3.09249767,  2.73812443,\n",
              "        3.58965682,  3.28695573,  0.8488951 ,  2.23194311, -4.08816985,\n",
              "        0.27785779, -4.23099479,  1.41867285, -2.46703877,  3.97271454,\n",
              "        4.12098233,  4.40285581,  4.35128812, -3.52877503,  3.7532571 ,\n",
              "        2.07817451, -3.61684483, -1.22356436,  2.89177532, -3.28671051,\n",
              "       -4.48153678, -1.27067505, -4.60800044,  4.37782005,  3.05320621,\n",
              "        2.49469778,  0.73659528, -1.83633751, -4.8639018 ,  2.20979965,\n",
              "        2.13966759, -1.66242098,  1.00600347,  3.76222623,  2.52076639,\n",
              "        3.26809563, -4.80393271,  3.24567945, -4.88150564, -1.75711632,\n",
              "       -0.98755616,  0.71795722, -3.72594517, -1.30299531, -2.75573182,\n",
              "       -1.83220794, -1.61599794,  2.00914222,  3.12914279, -1.37078477,\n",
              "        3.31398145, -1.68828062,  2.69224668,  3.82998597, -4.77950165,\n",
              "       -2.87400566, -1.09726191,  0.60383933, -3.03538315,  0.53092773,\n",
              "       -1.85363437, -3.29452919,  3.79052601,  0.71305172,  3.78847823,\n",
              "        0.20734379,  2.98457796,  0.86606733,  1.47840671, -1.38418268,\n",
              "       -4.40670682,  2.00509096, -0.50999688, -4.49301522,  4.12089204,\n",
              "        1.47486719,  2.63450258,  4.53940227,  3.34266421, -3.67354021,\n",
              "        2.39365965, -3.3582909 , -4.9511987 , -1.06672749,  0.78445179,\n",
              "        0.79036668,  4.64415122, -3.32865359, -1.82145595,  1.20906892,\n",
              "        3.52906417, -2.64578111,  2.29588668, -0.0705361 , -1.27641281,\n",
              "        2.18125221, -2.18085112, -0.63319643, -1.01598155,  3.24567226,\n",
              "       -3.15274465,  0.96847186,  4.45425343, -0.85057768,  0.69607163,\n",
              "        3.61555091,  0.21674603, -3.51611821, -4.28335453, -4.48190928,\n",
              "        0.13273264, -2.76191306, -1.20683625,  3.70083921, -3.79744519,\n",
              "       -4.94818757, -3.53641316, -1.54215188, -2.13215002,  1.2620822 ,\n",
              "       -3.99842448, -2.47365456,  0.69765267,  1.09476936, -1.32077693,\n",
              "        1.50053701,  0.82365096,  0.47888817, -0.03655656,  1.33867879,\n",
              "       -4.3340585 , -4.93403155, -4.87736   , -2.53478159,  4.56638388,\n",
              "       -0.71684516,  4.68163141, -2.01089353, -4.49559649, -1.59940206,\n",
              "       -4.85601814, -3.82986025, -3.67128992, -1.74716958, -0.18444316,\n",
              "        3.06274674, -2.36684017,  1.92986368,  4.05093556,  0.6101939 ,\n",
              "       -0.91601468,  2.85213745,  2.08981812, -1.10534598,  0.10162209,\n",
              "        4.43488131, -1.94802451,  0.43132468,  2.0404315 ,  1.11802243,\n",
              "       -0.79429964,  2.46415125, -4.4631042 , -4.15028129,  3.91409719,\n",
              "       -4.63353617,  4.9984642 ,  3.71064529, -1.20002259,  4.08012274,\n",
              "        4.14840317, -4.60877241, -0.4792206 ,  1.75896395,  4.62139949,\n",
              "       -2.83755645, -4.75684044, -3.53891939, -0.21994434, -3.55634612,\n",
              "        4.40796871, -3.49674398, -3.04612047, -3.57602109, -0.51797635,\n",
              "        4.68495849, -2.21265792, -3.90986824, -2.15371853, -3.19309367,\n",
              "        0.78991333, -2.80931317,  1.71715389,  1.85176765,  2.90820937,\n",
              "       -2.02448662, -0.13739451, -2.53962824,  4.59463731, -3.59833459,\n",
              "       -1.33282243,  0.02769279, -0.42374715, -0.15497585,  1.21303398,\n",
              "       -4.37433307, -0.81242403,  0.83407156,  1.03037575, -2.09788987,\n",
              "       -2.43123413, -3.20981968,  3.59448481,  2.05838952,  1.14580397,\n",
              "       -2.79640878, -4.55332042,  1.55732701, -0.42031631,  1.64533312,\n",
              "       -1.17297071,  3.0975715 , -2.94460056,  2.43890372,  2.02273092,\n",
              "        1.61649959,  3.6620006 ,  1.66084528, -0.09325996, -0.12479876])"
            ]
          },
          "metadata": {},
          "execution_count": 6
        }
      ]
    },
    {
      "cell_type": "code",
      "source": [
        "plt.hist(x,bins=10,range=(-5,5))\n",
        "plt.show()"
      ],
      "metadata": {
        "colab": {
          "base_uri": "https://localhost:8080/",
          "height": 433
        },
        "id": "8PS1vmx_atno",
        "outputId": "eebfa1e7-16f2-47e5-cc71-60f4a2ba3db9"
      },
      "execution_count": null,
      "outputs": [
        {
          "output_type": "display_data",
          "data": {
            "text/plain": [
              "<Figure size 640x480 with 1 Axes>"
            ],
            "image/png": "[encoded data removed]"
          },
          "metadata": {}
        }
      ]
    },
    {
      "cell_type": "markdown",
      "source": [
        "\n",
        "\n",
        "---\n",
        "\n",
        "\n",
        "\n",
        "---\n",
        "\n"
      ],
      "metadata": {
        "id": "5gNSvLW7S41q"
      }
    },
    {
      "cell_type": "markdown",
      "source": [
        "### **Question 3:**"
      ],
      "metadata": {
        "id": "ZH3t6bWSS44Q"
      }
    },
    {
      "cell_type": "markdown",
      "source": [
        "Calculate the dot product of the following two vectors using NumPy:"
      ],
      "metadata": {
        "id": "0kqKrtKDS-Vw"
      }
    },
    {
      "cell_type": "code",
      "source": [
        "A = [2, 3, 4]\n",
        "B = [5, 6, 7]"
      ],
      "metadata": {
        "id": "1bpcoSo7S7F_"
      },
      "execution_count": null,
      "outputs": []
    },
    {
      "cell_type": "code",
      "source": [
        "### Answer\n",
        "A =np.array([2, 3, 4])\n",
        "B =np.array([5, 6, 7])\n",
        "\n",
        "matrix_product=np.dot(A,B)\n",
        "print(matrix_product)"
      ],
      "metadata": {
        "id": "ufkWofy2TCAT",
        "colab": {
          "base_uri": "https://localhost:8080/"
        },
        "outputId": "7cbe74a6-0144-4757-8870-d6b528bf2a19"
      },
      "execution_count": null,
      "outputs": [
        {
          "output_type": "stream",
          "name": "stdout",
          "text": [
            "56\n"
          ]
        }
      ]
    },
    {
      "cell_type": "markdown",
      "source": [
        "\n",
        "\n",
        "---\n",
        "\n",
        "\n",
        "\n",
        "---\n",
        "\n"
      ],
      "metadata": {
        "id": "RmGc6wRuTKn2"
      }
    },
    {
      "cell_type": "markdown",
      "source": [
        "### **Question 4:**"
      ],
      "metadata": {
        "id": "KxNuMC2CTKsA"
      }
    },
    {
      "cell_type": "markdown",
      "source": [
        "**Random Numbers:**: Generate a 1D array of 20 random integers between 10 and 50. Find out how many of them are even."
      ],
      "metadata": {
        "id": "MWbDMbrOTKvJ"
      }
    },
    {
      "cell_type": "code",
      "source": [
        "### Answer\n",
        "random_array=np.random.randint(10,50,size=20)\n",
        "random_array"
      ],
      "metadata": {
        "id": "GYB7vYXpTUaV",
        "colab": {
          "base_uri": "https://localhost:8080/"
        },
        "outputId": "68dbd8f5-5ae1-4687-ff99-d7423830cd9d"
      },
      "execution_count": null,
      "outputs": [
        {
          "output_type": "execute_result",
          "data": {
            "text/plain": [
              "array([39, 21, 27, 25, 48, 29, 10, 33, 27, 33, 24, 36, 47, 44, 25, 46, 14,\n",
              "       29, 19, 35])"
            ]
          },
          "metadata": {},
          "execution_count": 10
        }
      ]
    },
    {
      "cell_type": "markdown",
      "source": [
        "\n",
        "\n",
        "---\n",
        "\n",
        "\n",
        "\n",
        "---\n",
        "\n"
      ],
      "metadata": {
        "id": "5S5fZCFhTZQt"
      }
    },
    {
      "cell_type": "markdown",
      "source": [
        "### **Question 5:**"
      ],
      "metadata": {
        "id": "dV5FRmKETZU7"
      }
    },
    {
      "cell_type": "markdown",
      "source": [
        "**Data Manipulation:** Consider an array of dimension (8,8). Swap the first and last columns."
      ],
      "metadata": {
        "id": "L2nisglFTZZT"
      }
    },
    {
      "cell_type": "code",
      "source": [
        "### Answer\n",
        "random_matrix=np.random.uniform(-1,1,(8,8))\n",
        "random_matrix"
      ],
      "metadata": {
        "id": "S9rg9roST0Fj",
        "colab": {
          "base_uri": "https://localhost:8080/"
        },
        "outputId": "eebcfed3-e1c7-4a72-f68b-a6bdbf7c78e5"
      },
      "execution_count": null,
      "outputs": [
        {
          "output_type": "execute_result",
          "data": {
            "text/plain": [
              "array([[-0.32382468, -0.33236486,  0.11577518,  0.70674532, -0.56545194,\n",
              "        -0.45050991, -0.93369942,  0.61529963],\n",
              "       [-0.98119403, -0.03806287,  0.15185805, -0.28708981, -0.03726947,\n",
              "         0.52562542,  0.57781781,  0.05728337],\n",
              "       [ 0.84167468,  0.50206211, -0.29900346,  0.04149921, -0.06784776,\n",
              "         0.84165732,  0.15886459, -0.10975342],\n",
              "       [-0.32886391, -0.90769071,  0.18265878,  0.35630994,  0.51153767,\n",
              "        -0.94278694, -0.98008659,  0.59293411],\n",
              "       [ 0.26662473,  0.10289616, -0.47362761,  0.30318922, -0.90488806,\n",
              "         0.34227609, -0.14123953, -0.05279195],\n",
              "       [-0.11535727,  0.46950307,  0.49751368,  0.11598033,  0.13815754,\n",
              "        -0.71621728, -0.19385584, -0.64083017],\n",
              "       [ 0.11992181,  0.20995323, -0.59484945, -0.19701528, -0.54179619,\n",
              "        -0.61438884, -0.34009757,  0.53672164],\n",
              "       [-0.3565494 ,  0.79264869,  0.24950411, -0.67573023,  0.69662302,\n",
              "         0.02689004, -0.08466966,  0.64228973]])"
            ]
          },
          "metadata": {},
          "execution_count": 16
        }
      ]
    },
    {
      "cell_type": "markdown",
      "source": [
        "\n",
        "\n",
        "---\n",
        "\n",
        "\n",
        "\n",
        "---\n",
        "\n"
      ],
      "metadata": {
        "id": "AOa_G4ztT7nb"
      }
    },
    {
      "cell_type": "markdown",
      "source": [
        "### **Question 6:**"
      ],
      "metadata": {
        "id": "FRAUkFD9T7qA"
      }
    },
    {
      "cell_type": "markdown",
      "source": [
        "**Given a 2D NumPy array data, extract the following subsets:**\n",
        "\n",
        "- The first row.\n",
        "- The last column.\n",
        "- The subarray consisting of the first two rows and the last two columns."
      ],
      "metadata": {
        "id": "52SeOsbTT7sZ"
      }
    },
    {
      "cell_type": "code",
      "source": [
        "## Answer\n",
        "import numpy as np\n",
        "\n",
        "a=np.array([[1,2,3],[4,5,6,],[7,8,9]])\n",
        "a"
      ],
      "metadata": {
        "id": "JQb-XngHXuK3",
        "colab": {
          "base_uri": "https://localhost:8080/"
        },
        "outputId": "1e178304-6232-4752-d8bc-f12136c63b6f"
      },
      "execution_count": null,
      "outputs": [
        {
          "output_type": "execute_result",
          "data": {
            "text/plain": [
              "array([[1, 2, 3],\n",
              "       [4, 5, 6],\n",
              "       [7, 8, 9]])"
            ]
          },
          "metadata": {},
          "execution_count": 17
        }
      ]
    },
    {
      "cell_type": "code",
      "source": [
        "a[0,:]"
      ],
      "metadata": {
        "colab": {
          "base_uri": "https://localhost:8080/"
        },
        "id": "Ox7IloXnhjSD",
        "outputId": "62a0dc18-c6e9-4295-b3bb-f36ebd1e8ce3"
      },
      "execution_count": null,
      "outputs": [
        {
          "output_type": "execute_result",
          "data": {
            "text/plain": [
              "array([1, 2, 3])"
            ]
          },
          "metadata": {},
          "execution_count": 18
        }
      ]
    },
    {
      "cell_type": "code",
      "source": [
        "a[:,2]"
      ],
      "metadata": {
        "colab": {
          "base_uri": "https://localhost:8080/"
        },
        "id": "IVh6o4foiHaP",
        "outputId": "ee292a39-5380-4c20-a11e-72ce0134cd5b"
      },
      "execution_count": null,
      "outputs": [
        {
          "output_type": "execute_result",
          "data": {
            "text/plain": [
              "array([3, 6, 9])"
            ]
          },
          "metadata": {},
          "execution_count": 19
        }
      ]
    },
    {
      "cell_type": "markdown",
      "source": [
        "\n",
        "\n",
        "---\n",
        "\n",
        "\n",
        "\n",
        "---\n",
        "\n"
      ],
      "metadata": {
        "id": "A-MUs7t7X9M6"
      }
    },
    {
      "cell_type": "markdown",
      "source": [
        "### **Question 7:**"
      ],
      "metadata": {
        "id": "MZlbvvgsX9PP"
      }
    },
    {
      "cell_type": "markdown",
      "source": [
        "**Statistics:** Create a matrix of shape (5,5), find the mean and variance of the values in its 3rd column."
      ],
      "metadata": {
        "id": "rqWn93qTX9RV"
      }
    },
    {
      "cell_type": "code",
      "source": [
        "### Answer\n",
        "m=np.array([[1,2,3,4,5],[6,7,8,9,10],[11,12,13,14,15],[3,6,9,12,15],[2,4,8,10,1]])\n",
        "m"
      ],
      "metadata": {
        "id": "-So6J1QdXyoQ",
        "colab": {
          "base_uri": "https://localhost:8080/"
        },
        "outputId": "2a8438ca-fc43-4fee-b28c-3bf81989d644"
      },
      "execution_count": null,
      "outputs": [
        {
          "output_type": "execute_result",
          "data": {
            "text/plain": [
              "array([[ 1,  2,  3,  4,  5],\n",
              "       [ 6,  7,  8,  9, 10],\n",
              "       [11, 12, 13, 14, 15],\n",
              "       [ 3,  6,  9, 12, 15],\n",
              "       [ 2,  4,  8, 10,  1]])"
            ]
          },
          "metadata": {},
          "execution_count": 31
        }
      ]
    },
    {
      "cell_type": "code",
      "source": [
        "m3=m[:,3]\n",
        "mean=np.mean(m3)\n",
        "print(mean)"
      ],
      "metadata": {
        "colab": {
          "base_uri": "https://localhost:8080/"
        },
        "id": "ehzWvjNKmULS",
        "outputId": "045b1d3a-218f-4627-d1d6-21c0785a7a02"
      },
      "execution_count": null,
      "outputs": [
        {
          "output_type": "stream",
          "name": "stdout",
          "text": [
            "9.8\n"
          ]
        }
      ]
    },
    {
      "cell_type": "markdown",
      "source": [
        "\n",
        "\n",
        "---\n",
        "\n",
        "\n",
        "\n",
        "---\n",
        "\n",
        "\n",
        "\n",
        "---\n",
        "\n"
      ],
      "metadata": {
        "id": "Nlzix9NCVSVc"
      }
    },
    {
      "cell_type": "markdown",
      "source": [
        "### **Question 8:**"
      ],
      "metadata": {
        "id": "CiK_vk4tVUXL"
      }
    },
    {
      "cell_type": "markdown",
      "source": [
        "**Linear Algebra:** Given a 4x4 matrix, compute its transpose and then find the dot product of the matrix with its transpose."
      ],
      "metadata": {
        "id": "L23uRV1dVehN"
      }
    },
    {
      "cell_type": "code",
      "source": [
        "\n",
        "matrix = np.array([[1, 2, 3, 4],\n",
        "                   [5, 6, 7, 8],\n",
        "                   [9, 10, 11, 12],\n",
        "                   [13, 14, 15, 16]])"
      ],
      "metadata": {
        "id": "DsBPYJT4Xsqx"
      },
      "execution_count": 2,
      "outputs": []
    },
    {
      "cell_type": "code",
      "source": [
        "### Answer\n",
        "import numpy as np\n",
        "arr1=np.transpose(matrix)\n",
        "arr1"
      ],
      "metadata": {
        "id": "eJU7h0AQYYx2",
        "colab": {
          "base_uri": "https://localhost:8080/"
        },
        "outputId": "ab537b11-1158-48ea-c8f8-e332f2fb4f87"
      },
      "execution_count": 4,
      "outputs": [
        {
          "output_type": "execute_result",
          "data": {
            "text/plain": [
              "array([[ 1,  5,  9, 13],\n",
              "       [ 2,  6, 10, 14],\n",
              "       [ 3,  7, 11, 15],\n",
              "       [ 4,  8, 12, 16]])"
            ]
          },
          "metadata": {},
          "execution_count": 4
        }
      ]
    },
    {
      "cell_type": "code",
      "source": [
        "matrix_product=np.dot(matrix,arr1)\n",
        "print(matrix_product)"
      ],
      "metadata": {
        "colab": {
          "base_uri": "https://localhost:8080/"
        },
        "id": "0ApkyDhi0VUL",
        "outputId": "ebbfc6ed-3da6-4343-97fe-7b111a1e36d9"
      },
      "execution_count": 5,
      "outputs": [
        {
          "output_type": "stream",
          "name": "stdout",
          "text": [
            "[[ 30  70 110 150]\n",
            " [ 70 174 278 382]\n",
            " [110 278 446 614]\n",
            " [150 382 614 846]]\n"
          ]
        }
      ]
    },
    {
      "cell_type": "markdown",
      "source": [
        "\n",
        "\n",
        "---\n",
        "\n",
        "\n",
        "\n",
        "---\n",
        "\n"
      ],
      "metadata": {
        "id": "dL0-iqHkVv3f"
      }
    },
    {
      "cell_type": "markdown",
      "source": [
        "### **Question 9:**"
      ],
      "metadata": {
        "id": "ygs9UMtZVx8E"
      }
    },
    {
      "cell_type": "markdown",
      "source": [
        "**Array Operations:** Create two matrices, then Compute the element-wise multiplication of two matrices, then sum the values in each row of the resulting matrix."
      ],
      "metadata": {
        "id": "LnzUKFw4Vx-7"
      }
    },
    {
      "cell_type": "code",
      "source": [
        "### Answer\n",
        "matrix1= np.array([[1, 2, 3],\n",
        "                   [4, 5, 6],\n",
        "                   [7, 8, 9]])\n",
        "matrix2= np.array([[2, 4, 6],\n",
        "                   [3, 5, 7],\n",
        "                   [10, 2, 9]])\n",
        "product=np.multiply(matrix1,matrix2)\n",
        "sum=np.sum(product, axis=1)"
      ],
      "metadata": {
        "id": "9IyD0U-3VmJ3"
      },
      "execution_count": 6,
      "outputs": []
    },
    {
      "cell_type": "code",
      "source": [
        "print(product)"
      ],
      "metadata": {
        "colab": {
          "base_uri": "https://localhost:8080/"
        },
        "id": "nlS46PvK2S2Z",
        "outputId": "ca9653e3-0e3a-4293-da3f-595ad9208e58"
      },
      "execution_count": 8,
      "outputs": [
        {
          "output_type": "stream",
          "name": "stdout",
          "text": [
            "[[ 2  8 18]\n",
            " [12 25 42]\n",
            " [70 16 81]]\n"
          ]
        }
      ]
    },
    {
      "cell_type": "code",
      "source": [
        "print(sum)"
      ],
      "metadata": {
        "colab": {
          "base_uri": "https://localhost:8080/"
        },
        "id": "vWeQMOUV2ag9",
        "outputId": "bb6439b4-0bc9-44aa-87de-eab1be578c1d"
      },
      "execution_count": 9,
      "outputs": [
        {
          "output_type": "stream",
          "name": "stdout",
          "text": [
            "[ 28  79 167]\n"
          ]
        }
      ]
    },
    {
      "cell_type": "markdown",
      "source": [
        "\n",
        "\n",
        "---\n",
        "\n",
        "\n",
        "\n",
        "---\n",
        "\n",
        "\n",
        "\n",
        "---\n",
        "\n"
      ],
      "metadata": {
        "id": "kqxzW_3ZW8b5"
      }
    },
    {
      "cell_type": "markdown",
      "source": [
        "### **Question 10:**"
      ],
      "metadata": {
        "id": "jEg_QL7CW8rw"
      }
    },
    {
      "cell_type": "markdown",
      "source": [
        "**Advanced Array Creation:** Create a 2D array of shape (7,7) where the border consists of ones and the inner part consists of zeros."
      ],
      "metadata": {
        "id": "_s9937cCW9Qv"
      }
    },
    {
      "cell_type": "code",
      "source": [
        "### Answer\n",
        "import numpy as np\n",
        "arr1=np.zeros((7,7))\n",
        "arr1"
      ],
      "metadata": {
        "id": "ZEuY35gZXN9d",
        "colab": {
          "base_uri": "https://localhost:8080/"
        },
        "outputId": "c722bc44-601b-45a8-c093-695d6f800ba2"
      },
      "execution_count": 12,
      "outputs": [
        {
          "output_type": "execute_result",
          "data": {
            "text/plain": [
              "array([[0., 0., 0., 0., 0., 0., 0.],\n",
              "       [0., 0., 0., 0., 0., 0., 0.],\n",
              "       [0., 0., 0., 0., 0., 0., 0.],\n",
              "       [0., 0., 0., 0., 0., 0., 0.],\n",
              "       [0., 0., 0., 0., 0., 0., 0.],\n",
              "       [0., 0., 0., 0., 0., 0., 0.],\n",
              "       [0., 0., 0., 0., 0., 0., 0.]])"
            ]
          },
          "metadata": {},
          "execution_count": 12
        }
      ]
    },
    {
      "cell_type": "code",
      "source": [
        "arr1[0, :] = 1\n",
        "arr1[-1, :] = 1\n",
        "arr1[:, 0] = 1\n",
        "arr1[:, -1] = 1\n",
        "\n",
        "print(arr1)"
      ],
      "metadata": {
        "colab": {
          "base_uri": "https://localhost:8080/"
        },
        "id": "PmByW64C2us6",
        "outputId": "e1b0485d-4cb7-4635-eb9f-20e1aa4dc773"
      },
      "execution_count": 13,
      "outputs": [
        {
          "output_type": "stream",
          "name": "stdout",
          "text": [
            "[[1. 1. 1. 1. 1. 1. 1.]\n",
            " [1. 0. 0. 0. 0. 0. 1.]\n",
            " [1. 0. 0. 0. 0. 0. 1.]\n",
            " [1. 0. 0. 0. 0. 0. 1.]\n",
            " [1. 0. 0. 0. 0. 0. 1.]\n",
            " [1. 0. 0. 0. 0. 0. 1.]\n",
            " [1. 1. 1. 1. 1. 1. 1.]]\n"
          ]
        }
      ]
    }
  ]
}