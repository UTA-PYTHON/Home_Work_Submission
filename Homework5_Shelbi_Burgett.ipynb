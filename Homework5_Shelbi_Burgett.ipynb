{
  "nbformat": 4,
  "nbformat_minor": 0,
  "metadata": {
    "colab": {
      "provenance": [],
      "authorship_tag": "ABX9TyNf3Syj1a8BzFXBY9eLWwkU",
      "include_colab_link": true
    },
    "kernelspec": {
      "name": "python3",
      "display_name": "Python 3"
    },
    "language_info": {
      "name": "python"
    }
  },
  "cells": [
    {
      "cell_type": "markdown",
      "metadata": {
        "id": "view-in-github",
        "colab_type": "text"
      },
      "source": [
        "<a href=\"https://colab.research.google.com/github/UTA-PYTHON/Home_Work_Submission/blob/main/Homework5_Shelbi_Burgett.ipynb\" target=\"_parent\"><img src=\"https://colab.research.google.com/assets/colab-badge.svg\" alt=\"Open In Colab\"/></a>"
      ]
    },
    {
      "cell_type": "markdown",
      "source": [
        "1. Write a function named add that takes two numbers as arguments and returns their sum."
      ],
      "metadata": {
        "id": "l-sOMxb6tHHS"
      }
    },
    {
      "cell_type": "code",
      "execution_count": 5,
      "metadata": {
        "colab": {
          "base_uri": "https://localhost:8080/"
        },
        "id": "eNMMvB0PrLpL",
        "outputId": "ffea2a7c-b302-4e99-ba69-149e84e54c72"
      },
      "outputs": [
        {
          "output_type": "stream",
          "name": "stdout",
          "text": [
            "Sum of 17 and 30 is 47\n"
          ]
        }
      ],
      "source": [
        "def add(a,b):\n",
        "  return a+b\n",
        "\n",
        "num1=17\n",
        "num2=30\n",
        "\n",
        "add=add(num1,num2)\n",
        "\n",
        "print(\"Sum of {0} and {1} is {2}\" .format(num1,num2,add))"
      ]
    },
    {
      "cell_type": "markdown",
      "source": [
        "2. Write a function names average that takes a list of numbers and returns their average."
      ],
      "metadata": {
        "id": "tkw6W9v1tVwY"
      }
    },
    {
      "cell_type": "code",
      "source": [
        "num_list= [30,47,22,15,18,32]\n",
        "Average= sum(num_list)/len(num_list)\n",
        "print(\"The average is\", round(Average,2))"
      ],
      "metadata": {
        "colab": {
          "base_uri": "https://localhost:8080/"
        },
        "id": "YMJqCmWwzVJ-",
        "outputId": "aff02727-d73a-4c20-de20-9971678b1e60"
      },
      "execution_count": 16,
      "outputs": [
        {
          "output_type": "stream",
          "name": "stdout",
          "text": [
            "The average is 27.33\n"
          ]
        }
      ]
    },
    {
      "cell_type": "markdown",
      "source": [
        "3. Write a functions named factorial that calculates thet factorial of a given number."
      ],
      "metadata": {
        "id": "OTKvg5dNtdit"
      }
    },
    {
      "cell_type": "code",
      "source": [
        "num = int(input(\"Enter a number: \"))\n",
        "factorial = 1\n",
        "if num < 0:\n",
        "   print(\"False\")\n",
        "elif num == 0:\n",
        "   print(\"The factorial of 0 is 1\")\n",
        "else:\n",
        "   for i in range(1,num + 1):\n",
        "       factorial = factorial*i\n",
        "   print(\"The factorial of\",num,\"is\",factorial)"
      ],
      "metadata": {
        "colab": {
          "base_uri": "https://localhost:8080/"
        },
        "id": "pwRzoytutlCm",
        "outputId": "66b8a811-6cb7-4372-c386-1d1e313389bf"
      },
      "execution_count": 17,
      "outputs": [
        {
          "output_type": "stream",
          "name": "stdout",
          "text": [
            "Enter a number: 7\n",
            "The factorial of 7 is 5040\n"
          ]
        }
      ]
    },
    {
      "cell_type": "markdown",
      "source": [
        "4. Write a function named string_length that takes a string and returns its length without using the built in len() function."
      ],
      "metadata": {
        "id": "vaPFMX1Ctls1"
      }
    },
    {
      "cell_type": "code",
      "source": [
        "def string_length():\n",
        "    given_input = str(input(\"Enter the string: \"))\n",
        "    print(\"The length of the string is: \", string(given_input))\n",
        "\n",
        "def string(length):\n",
        "    if length=='':\n",
        "        return 0\n",
        "    else:\n",
        "        return 1+string(length[1:])\n",
        "\n",
        "string_length()"
      ],
      "metadata": {
        "colab": {
          "base_uri": "https://localhost:8080/"
        },
        "id": "4WyHsdtGtwlL",
        "outputId": "ff465b67-9293-43ca-c083-6b3406160a7f"
      },
      "execution_count": 19,
      "outputs": [
        {
          "output_type": "stream",
          "name": "stdout",
          "text": [
            "Enter the string: Hello, my name is Shelbi and I am a student of the class\n",
            "The length of the string is:  56\n"
          ]
        }
      ]
    },
    {
      "cell_type": "markdown",
      "source": [
        "5. Write a function named is_prime that checks if a given number is prime. The function should return True if the number is prime, otherwise false."
      ],
      "metadata": {
        "id": "tcEBZE5ztxGz"
      }
    },
    {
      "cell_type": "code",
      "source": [
        "def is_prime(n):\n",
        "\n",
        "\tif n <= 1:\n",
        "\t\treturn False\n",
        "\n",
        "\tfor i in range(2, int(n**0.5)+1):\n",
        "\n",
        "\t\tif n % i == 0:\n",
        "\t\t\treturn False\n",
        "\treturn True\n",
        "\n",
        "\n",
        "print(is_prime(5))\n"
      ],
      "metadata": {
        "colab": {
          "base_uri": "https://localhost:8080/"
        },
        "id": "pXRORjdet9YR",
        "outputId": "b2265392-0a6d-4fff-9e60-cd01290f8366"
      },
      "execution_count": 22,
      "outputs": [
        {
          "output_type": "stream",
          "name": "stdout",
          "text": [
            "True\n"
          ]
        }
      ]
    },
    {
      "cell_type": "markdown",
      "source": [
        "6. Write a function named unique_elements that takes a list as an arguement and returns a list of its unique elements in the order they were first encountered."
      ],
      "metadata": {
        "id": "ovC4FXBMt-HB"
      }
    },
    {
      "cell_type": "code",
      "source": [
        "elements = [1,2,3,3,4,4,5,7,7,7]\n",
        "def unique_elements(elements):\n",
        "\n",
        "  list_unique_elements = []\n",
        "  unique_elements = set(elements)\n",
        "\n",
        "  for element in unique_elements:\n",
        "    list_unique_elements.append(element)\n",
        "\n",
        "  return list_unique_elements\n",
        "\n",
        "print(unique_elements(elements))"
      ],
      "metadata": {
        "colab": {
          "base_uri": "https://localhost:8080/"
        },
        "id": "bkAmApPouKNx",
        "outputId": "ca4dba1e-9738-4d4a-ebe1-1884ec83f489"
      },
      "execution_count": 29,
      "outputs": [
        {
          "output_type": "stream",
          "name": "stdout",
          "text": [
            "[1, 2, 3, 4, 5, 7]\n"
          ]
        }
      ]
    }
  ]
}